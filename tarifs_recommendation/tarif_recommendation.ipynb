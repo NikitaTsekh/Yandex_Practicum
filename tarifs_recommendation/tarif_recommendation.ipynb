{
 "cells": [
  {
   "cell_type": "markdown",
   "metadata": {
    "toc": true
   },
   "source": [
    "<h1>Содержание<span class=\"tocSkip\"></span></h1>\n",
    "<div class=\"toc\"><ul class=\"toc-item\"><li><span><a href=\"#Откройте-и-изучите-файл\" data-toc-modified-id=\"Откройте-и-изучите-файл-1\"><span class=\"toc-item-num\">1&nbsp;&nbsp;</span>Откройте и изучите файл</a></span></li><li><span><a href=\"#Разбейте-данные-на-выборки\" data-toc-modified-id=\"Разбейте-данные-на-выборки-2\"><span class=\"toc-item-num\">2&nbsp;&nbsp;</span>Разбейте данные на выборки</a></span></li><li><span><a href=\"#Исследуйте-модели\" data-toc-modified-id=\"Исследуйте-модели-3\"><span class=\"toc-item-num\">3&nbsp;&nbsp;</span>Исследуйте модели</a></span></li><li><span><a href=\"#Проверьте-модель-на-тестовой-выборке\" data-toc-modified-id=\"Проверьте-модель-на-тестовой-выборке-4\"><span class=\"toc-item-num\">4&nbsp;&nbsp;</span>Проверьте модель на тестовой выборке</a></span></li><li><span><a href=\"#(бонус)-Проверьте-модели-на-адекватность\" data-toc-modified-id=\"(бонус)-Проверьте-модели-на-адекватность-5\"><span class=\"toc-item-num\">5&nbsp;&nbsp;</span>(бонус) Проверьте модели на адекватность</a></span></li><li><span><a href=\"#Чек-лист-готовности-проекта\" data-toc-modified-id=\"Чек-лист-готовности-проекта-6\"><span class=\"toc-item-num\">6&nbsp;&nbsp;</span>---</a></span></li></ul></div>"
   ]
  },
  {
   "cell_type": "markdown",
   "metadata": {},
   "source": [
    "# Рекомендация тарифов"
   ]
  },
  {
   "cell_type": "markdown",
   "metadata": {},
   "source": [
    "В вашем распоряжении данные о поведении клиентов, которые уже перешли на эти тарифы (из проекта курса «Статистический анализ данных»). Нужно построить модель для задачи классификации, которая выберет подходящий тариф. Предобработка данных не понадобится — вы её уже сделали.\n",
    "\n",
    "Постройте модель с максимально большим значением *accuracy*. Чтобы сдать проект успешно, нужно довести долю правильных ответов по крайней мере до 0.75. Проверьте *accuracy* на тестовой выборке самостоятельно."
   ]
  },
  {
   "cell_type": "markdown",
   "metadata": {},
   "source": [
    "## Откройте и изучите файл"
   ]
  },
  {
   "cell_type": "code",
   "execution_count": 1,
   "metadata": {
    "scrolled": true
   },
   "outputs": [],
   "source": [
    "import pandas as pd\n",
    "import matplotlib.pyplot as plt\n",
    "from collections import Counter\n",
    "import numpy as np\n",
    "from scipy import stats as st\n",
    "import warnings\n",
    "from sklearn.model_selection import train_test_split\n",
    "from sklearn.metrics import accuracy_score \n",
    "from sklearn.tree import DecisionTreeClassifier\n",
    "from sklearn.ensemble import RandomForestClassifier\n",
    "from sklearn.linear_model import LogisticRegression\n",
    "from sklearn.dummy import DummyClassifier"
   ]
  },
  {
   "cell_type": "code",
   "execution_count": 2,
   "metadata": {},
   "outputs": [
    {
     "data": {
      "text/html": [
       "<div>\n",
       "<style scoped>\n",
       "    .dataframe tbody tr th:only-of-type {\n",
       "        vertical-align: middle;\n",
       "    }\n",
       "\n",
       "    .dataframe tbody tr th {\n",
       "        vertical-align: top;\n",
       "    }\n",
       "\n",
       "    .dataframe thead th {\n",
       "        text-align: right;\n",
       "    }\n",
       "</style>\n",
       "<table border=\"1\" class=\"dataframe\">\n",
       "  <thead>\n",
       "    <tr style=\"text-align: right;\">\n",
       "      <th></th>\n",
       "      <th>calls</th>\n",
       "      <th>minutes</th>\n",
       "      <th>messages</th>\n",
       "      <th>mb_used</th>\n",
       "      <th>is_ultra</th>\n",
       "    </tr>\n",
       "  </thead>\n",
       "  <tbody>\n",
       "    <tr>\n",
       "      <th>0</th>\n",
       "      <td>40.0</td>\n",
       "      <td>311.90</td>\n",
       "      <td>83.0</td>\n",
       "      <td>19915.42</td>\n",
       "      <td>0</td>\n",
       "    </tr>\n",
       "    <tr>\n",
       "      <th>1</th>\n",
       "      <td>85.0</td>\n",
       "      <td>516.75</td>\n",
       "      <td>56.0</td>\n",
       "      <td>22696.96</td>\n",
       "      <td>0</td>\n",
       "    </tr>\n",
       "    <tr>\n",
       "      <th>2</th>\n",
       "      <td>77.0</td>\n",
       "      <td>467.66</td>\n",
       "      <td>86.0</td>\n",
       "      <td>21060.45</td>\n",
       "      <td>0</td>\n",
       "    </tr>\n",
       "    <tr>\n",
       "      <th>3</th>\n",
       "      <td>106.0</td>\n",
       "      <td>745.53</td>\n",
       "      <td>81.0</td>\n",
       "      <td>8437.39</td>\n",
       "      <td>1</td>\n",
       "    </tr>\n",
       "    <tr>\n",
       "      <th>4</th>\n",
       "      <td>66.0</td>\n",
       "      <td>418.74</td>\n",
       "      <td>1.0</td>\n",
       "      <td>14502.75</td>\n",
       "      <td>0</td>\n",
       "    </tr>\n",
       "    <tr>\n",
       "      <th>5</th>\n",
       "      <td>58.0</td>\n",
       "      <td>344.56</td>\n",
       "      <td>21.0</td>\n",
       "      <td>15823.37</td>\n",
       "      <td>0</td>\n",
       "    </tr>\n",
       "    <tr>\n",
       "      <th>6</th>\n",
       "      <td>57.0</td>\n",
       "      <td>431.64</td>\n",
       "      <td>20.0</td>\n",
       "      <td>3738.90</td>\n",
       "      <td>1</td>\n",
       "    </tr>\n",
       "    <tr>\n",
       "      <th>7</th>\n",
       "      <td>15.0</td>\n",
       "      <td>132.40</td>\n",
       "      <td>6.0</td>\n",
       "      <td>21911.60</td>\n",
       "      <td>0</td>\n",
       "    </tr>\n",
       "    <tr>\n",
       "      <th>8</th>\n",
       "      <td>7.0</td>\n",
       "      <td>43.39</td>\n",
       "      <td>3.0</td>\n",
       "      <td>2538.67</td>\n",
       "      <td>1</td>\n",
       "    </tr>\n",
       "    <tr>\n",
       "      <th>9</th>\n",
       "      <td>90.0</td>\n",
       "      <td>665.41</td>\n",
       "      <td>38.0</td>\n",
       "      <td>17358.61</td>\n",
       "      <td>0</td>\n",
       "    </tr>\n",
       "  </tbody>\n",
       "</table>\n",
       "</div>"
      ],
      "text/plain": [
       "   calls  minutes  messages   mb_used  is_ultra\n",
       "0   40.0   311.90      83.0  19915.42         0\n",
       "1   85.0   516.75      56.0  22696.96         0\n",
       "2   77.0   467.66      86.0  21060.45         0\n",
       "3  106.0   745.53      81.0   8437.39         1\n",
       "4   66.0   418.74       1.0  14502.75         0\n",
       "5   58.0   344.56      21.0  15823.37         0\n",
       "6   57.0   431.64      20.0   3738.90         1\n",
       "7   15.0   132.40       6.0  21911.60         0\n",
       "8    7.0    43.39       3.0   2538.67         1\n",
       "9   90.0   665.41      38.0  17358.61         0"
      ]
     },
     "metadata": {},
     "output_type": "display_data"
    },
    {
     "name": "stdout",
     "output_type": "stream",
     "text": [
      "<class 'pandas.core.frame.DataFrame'>\n",
      "RangeIndex: 3214 entries, 0 to 3213\n",
      "Data columns (total 5 columns):\n",
      " #   Column    Non-Null Count  Dtype  \n",
      "---  ------    --------------  -----  \n",
      " 0   calls     3214 non-null   float64\n",
      " 1   minutes   3214 non-null   float64\n",
      " 2   messages  3214 non-null   float64\n",
      " 3   mb_used   3214 non-null   float64\n",
      " 4   is_ultra  3214 non-null   int64  \n",
      "dtypes: float64(4), int64(1)\n",
      "memory usage: 125.7 KB\n",
      "None\n"
     ]
    }
   ],
   "source": [
    "data_all=pd.read_csv('users_behavior.csv')\n",
    "#смотрим таблицу\n",
    "display(data_all.head(10))\n",
    "print(data_all.info())"
   ]
  },
  {
   "cell_type": "markdown",
   "metadata": {},
   "source": [
    "<i><b>Перед нами датасет, предобработанный, без пропусков и з 3214 строк. Наш целевой признак- колонка 'is_ultra', который говорит о том, пользуется владелец тарифом is_ultra или другим.</i></b>"
   ]
  },
  {
   "cell_type": "markdown",
   "metadata": {},
   "source": [
    "## Разбейте данные на выборки"
   ]
  },
  {
   "cell_type": "code",
   "execution_count": 3,
   "metadata": {},
   "outputs": [
    {
     "name": "stdout",
     "output_type": "stream",
     "text": [
      "(3214, 5)\n",
      "(2056, 4)\n",
      "(2056,)\n",
      "(515, 4)\n",
      "(515,)\n",
      "(643, 4)\n",
      "(643,)\n"
     ]
    }
   ],
   "source": [
    "train_valid, test = train_test_split(data_all, test_size=0.2)\n",
    "train, valid = train_test_split(train_valid, test_size=0.2)\n",
    "\n",
    "features_train = train.drop(['is_ultra'], axis=1)\n",
    "target_train = train['is_ultra']\n",
    "features_valid = valid.drop(['is_ultra'], axis=1)\n",
    "target_valid = valid['is_ultra']\n",
    "features_test = test.drop(['is_ultra'], axis=1)\n",
    "target_test = test['is_ultra']\n",
    "\n",
    "print(data_all.shape)\n",
    "print(features_train.shape)\n",
    "print(target_train.shape)\n",
    "print(features_valid.shape)\n",
    "print(target_valid.shape)\n",
    "print(features_test.shape)\n",
    "print(target_test.shape)\n"
   ]
  },
  {
   "cell_type": "markdown",
   "metadata": {},
   "source": [
    "## Исследуйте модели"
   ]
  },
  {
   "cell_type": "markdown",
   "metadata": {},
   "source": [
    "<i><b>Классификатор дерева решений</i></b>"
   ]
  },
  {
   "cell_type": "code",
   "execution_count": 4,
   "metadata": {
    "scrolled": true
   },
   "outputs": [
    {
     "name": "stdout",
     "output_type": "stream",
     "text": [
      "Accuracy\n",
      "0.7941747572815534 max_depth= 4\n"
     ]
    }
   ],
   "source": [
    "best_model = None\n",
    "best_result = 0\n",
    "best_depth=0\n",
    "for depth in range(1, 6):\n",
    "    model = DecisionTreeClassifier(random_state=12345, max_depth=depth) \n",
    "    model.fit(features_train,target_train) \n",
    "    predictions_valid  = model.predict(features_valid)\n",
    "    result=accuracy_score(target_valid, predictions_valid)\n",
    "    if result > best_result:\n",
    "        best_model = model\n",
    "        best_result = result\n",
    "        best_depth = depth\n",
    "    \n",
    "print(\"Accuracy\")\n",
    "print(best_result,'max_depth=',best_depth)    "
   ]
  },
  {
   "cell_type": "markdown",
   "metadata": {},
   "source": [
    "<i><b>Случайный лес</i></b>"
   ]
  },
  {
   "cell_type": "code",
   "execution_count": 5,
   "metadata": {},
   "outputs": [
    {
     "name": "stdout",
     "output_type": "stream",
     "text": [
      "Accuracy наилучшей модели на валидационной выборке: 0.7747572815533981 est= 52\n"
     ]
    }
   ],
   "source": [
    "best_model = None\n",
    "best_result = 0\n",
    "best_est = 0\n",
    "for est in range(1, 110):\n",
    "    model = RandomForestClassifier(random_state=12345, n_estimators=est)\n",
    "    model.fit(features_train,target_train)\n",
    "    result = model.score(features_valid,target_valid) \n",
    "    if result > best_result:\n",
    "        best_model = model\n",
    "        best_result = result\n",
    "        best_est = est\n",
    "\n",
    "print(\"Accuracy наилучшей модели на валидационной выборке:\", best_result,'est=',best_est)"
   ]
  },
  {
   "cell_type": "markdown",
   "metadata": {},
   "source": [
    "<i><b>Логистическая регрессия</i></b>"
   ]
  },
  {
   "cell_type": "code",
   "execution_count": 6,
   "metadata": {},
   "outputs": [
    {
     "name": "stdout",
     "output_type": "stream",
     "text": [
      "Accuracy модели логистической регрессии на валидационной выборке: 0.7165048543689321\n"
     ]
    }
   ],
   "source": [
    "model =LogisticRegression(random_state=12345)  \n",
    "model.fit(features_train,target_train)\n",
    "result = model.score(features_valid,target_valid) \n",
    "\n",
    "print(\"Accuracy модели логистической регрессии на валидационной выборке:\", result)"
   ]
  },
  {
   "cell_type": "markdown",
   "metadata": {},
   "source": [
    "<i><b>Лучшая модель по accuracy - Это случайный лес</i></b>"
   ]
  },
  {
   "cell_type": "markdown",
   "metadata": {},
   "source": [
    "## Проверьте модель на тестовой выборке"
   ]
  },
  {
   "cell_type": "markdown",
   "metadata": {},
   "source": [
    "<i>Проверим работу модели \"Классификатор дерева решений\" на тестовой выборке</i>"
   ]
  },
  {
   "cell_type": "code",
   "execution_count": 9,
   "metadata": {},
   "outputs": [
    {
     "name": "stdout",
     "output_type": "stream",
     "text": [
      "Accuracy наилучшей модели на валидационной выборке: 0.7747572815533981 n_estimators= 52\n",
      "Accuracy наилучшей модели на тестовой выборке: 0.7931570762052877 n_estimators= 52\n"
     ]
    }
   ],
   "source": [
    "model = RandomForestClassifier(random_state=12345, n_estimators=best_est)\n",
    "model.fit(features_train,target_train) \n",
    "result=model.score(features_valid, target_valid)   \n",
    "result_test=model.score(features_test,target_test) \n",
    "    \n",
    "\n",
    "print(\"Accuracy наилучшей модели на валидационной выборке:\", result,'n_estimators=',best_est)\n",
    "print(\"Accuracy наилучшей модели на тестовой выборке:\", result_test,'n_estimators=',best_est)\n"
   ]
  },
  {
   "cell_type": "markdown",
   "metadata": {},
   "source": [
    "<i>Видим что тестовая выборка показывает немного худший результат чем валидационная.</i>"
   ]
  },
  {
   "cell_type": "markdown",
   "metadata": {},
   "source": [
    "## (бонус) Проверьте модели на адекватность"
   ]
  },
  {
   "cell_type": "code",
   "execution_count": 8,
   "metadata": {},
   "outputs": [
    {
     "name": "stdout",
     "output_type": "stream",
     "text": [
      "0    2229\n",
      "1     985\n",
      "Name: is_ultra, dtype: int64\n",
      "Accuracy dummy модели на валидационной выборке: 0.7009708737864078\n",
      "Accuracy dummy модели на тестовой выборке: 0.7013996889580093\n"
     ]
    }
   ],
   "source": [
    "#Возьмем стратегию самое популярное число.\n",
    "print(data_all['is_ultra'].value_counts())\n",
    "#У нас это 0.\n",
    "dummy_clf = DummyClassifier(strategy=\"most_frequent\")\n",
    "dummy_clf.fit(features_train, target_train)\n",
    "predictions_dummy_valid=dummy_clf.predict(features_valid)\n",
    "dummy_result_valid=accuracy_score(target_valid, predictions_dummy_valid)\n",
    "predictions_dummy_test  = dummy_clf.predict(features_test)\n",
    "dummy_result_test=accuracy_score(target_test, predictions_dummy_test)\n",
    "print(\"Accuracy dummy модели на валидационной выборке:\", dummy_result_valid)\n",
    "print(\"Accuracy dummy модели на тестовой выборке:\", dummy_result_test)\n"
   ]
  },
  {
   "cell_type": "markdown",
   "metadata": {},
   "source": [
    "<i>Видим что модель \"Классификатор дерева решений\" точнее dummy модели \"самое частое значение\"</i>"
   ]
  }
 ],
 "metadata": {
  "ExecuteTimeLog": [
   {
    "duration": 1727,
    "start_time": "2021-08-17T20:10:40.323Z"
   },
   {
    "duration": 34,
    "start_time": "2021-08-17T20:10:46.143Z"
   },
   {
    "duration": 34,
    "start_time": "2021-08-17T20:10:54.130Z"
   },
   {
    "duration": 117,
    "start_time": "2021-08-17T20:14:00.199Z"
   },
   {
    "duration": 84,
    "start_time": "2021-08-17T20:28:47.992Z"
   },
   {
    "duration": 286,
    "start_time": "2021-08-17T20:31:26.713Z"
   },
   {
    "duration": 9,
    "start_time": "2021-08-17T20:31:30.649Z"
   },
   {
    "duration": 296,
    "start_time": "2021-08-17T20:31:32.422Z"
   },
   {
    "duration": 21,
    "start_time": "2021-08-17T20:31:59.410Z"
   },
   {
    "duration": 24,
    "start_time": "2021-08-17T20:32:09.159Z"
   },
   {
    "duration": 96,
    "start_time": "2021-08-17T20:34:59.668Z"
   },
   {
    "duration": 291,
    "start_time": "2021-08-17T20:35:04.514Z"
   },
   {
    "duration": 37,
    "start_time": "2021-08-17T20:35:13.054Z"
   },
   {
    "duration": 9,
    "start_time": "2021-08-17T20:35:15.649Z"
   },
   {
    "duration": 24,
    "start_time": "2021-08-17T20:35:17.696Z"
   },
   {
    "duration": 398,
    "start_time": "2021-08-17T20:38:36.002Z"
   },
   {
    "duration": 24,
    "start_time": "2021-08-17T20:39:57.958Z"
   },
   {
    "duration": 22,
    "start_time": "2021-08-17T20:40:28.171Z"
   },
   {
    "duration": 21,
    "start_time": "2021-08-17T20:42:01.923Z"
   },
   {
    "duration": 21,
    "start_time": "2021-08-17T20:42:06.466Z"
   },
   {
    "duration": 60,
    "start_time": "2021-08-17T20:42:52.263Z"
   },
   {
    "duration": 38,
    "start_time": "2021-08-17T20:43:04.016Z"
   },
   {
    "duration": 9,
    "start_time": "2021-08-17T20:43:06.805Z"
   },
   {
    "duration": 60,
    "start_time": "2021-08-17T20:43:10.667Z"
   },
   {
    "duration": 294,
    "start_time": "2021-08-17T20:46:58.221Z"
   },
   {
    "duration": 63,
    "start_time": "2021-08-17T20:47:03.712Z"
   },
   {
    "duration": 65,
    "start_time": "2021-08-17T20:47:27.647Z"
   },
   {
    "duration": 51,
    "start_time": "2021-08-17T20:48:08.693Z"
   },
   {
    "duration": 58,
    "start_time": "2021-08-17T20:48:13.273Z"
   },
   {
    "duration": 69,
    "start_time": "2021-08-17T20:48:17.721Z"
   },
   {
    "duration": 61,
    "start_time": "2021-08-17T20:48:22.096Z"
   },
   {
    "duration": 68,
    "start_time": "2021-08-17T20:50:03.360Z"
   },
   {
    "duration": 57,
    "start_time": "2021-08-17T20:50:07.305Z"
   },
   {
    "duration": 63,
    "start_time": "2021-08-17T20:50:10.793Z"
   },
   {
    "duration": 64,
    "start_time": "2021-08-17T20:50:13.880Z"
   },
   {
    "duration": 72,
    "start_time": "2021-08-17T20:50:16.555Z"
   },
   {
    "duration": 65,
    "start_time": "2021-08-17T20:50:20.319Z"
   },
   {
    "duration": 71,
    "start_time": "2021-08-17T20:54:36.201Z"
   },
   {
    "duration": 279,
    "start_time": "2021-08-17T20:54:51.404Z"
   },
   {
    "duration": 56,
    "start_time": "2021-08-17T20:54:59.533Z"
   },
   {
    "duration": 398,
    "start_time": "2021-08-17T20:55:57.978Z"
   },
   {
    "duration": 57,
    "start_time": "2021-08-17T20:57:03.893Z"
   },
   {
    "duration": 57,
    "start_time": "2021-08-17T20:57:41.677Z"
   },
   {
    "duration": 266,
    "start_time": "2021-08-17T20:58:13.401Z"
   },
   {
    "duration": 397,
    "start_time": "2021-08-17T20:58:22.204Z"
   },
   {
    "duration": 22,
    "start_time": "2021-08-17T20:58:26.406Z"
   },
   {
    "duration": 38,
    "start_time": "2021-08-17T21:00:36.911Z"
   },
   {
    "duration": 401,
    "start_time": "2021-08-17T21:00:41.475Z"
   },
   {
    "duration": 39840,
    "start_time": "2021-08-17T21:00:47.252Z"
   },
   {
    "duration": 40644,
    "start_time": "2021-08-17T21:02:13.814Z"
   },
   {
    "duration": 1692,
    "start_time": "2021-08-24T06:42:39.296Z"
   },
   {
    "duration": 13,
    "start_time": "2021-08-24T06:47:53.255Z"
   },
   {
    "duration": 38,
    "start_time": "2021-08-24T06:47:57.851Z"
   },
   {
    "duration": 13,
    "start_time": "2021-08-24T06:48:36.464Z"
   },
   {
    "duration": 36,
    "start_time": "2021-08-24T06:48:41.759Z"
   },
   {
    "duration": 36,
    "start_time": "2021-08-24T06:49:18.440Z"
   },
   {
    "duration": 33698,
    "start_time": "2021-08-24T06:49:22.555Z"
   },
   {
    "duration": 27,
    "start_time": "2021-08-24T06:50:05.491Z"
   },
   {
    "duration": 1239,
    "start_time": "2021-08-24T07:00:02.018Z"
   },
   {
    "duration": 712,
    "start_time": "2021-08-24T07:00:14.943Z"
   },
   {
    "duration": 33981,
    "start_time": "2021-08-24T07:00:21.319Z"
   },
   {
    "duration": 139,
    "start_time": "2021-08-24T07:04:49.528Z"
   },
   {
    "duration": 136,
    "start_time": "2021-08-24T07:06:59.342Z"
   },
   {
    "duration": 8,
    "start_time": "2021-08-24T07:20:36.672Z"
   },
   {
    "duration": 396,
    "start_time": "2021-08-24T07:21:54.974Z"
   },
   {
    "duration": 9,
    "start_time": "2021-08-24T07:23:21.070Z"
   },
   {
    "duration": 13,
    "start_time": "2021-08-24T07:30:56.511Z"
   },
   {
    "duration": 15,
    "start_time": "2021-08-24T07:30:59.846Z"
   },
   {
    "duration": 581,
    "start_time": "2021-08-24T07:35:11.931Z"
   },
   {
    "duration": 433,
    "start_time": "2021-08-24T07:36:29.739Z"
   },
   {
    "duration": 14,
    "start_time": "2021-08-24T07:37:12.214Z"
   },
   {
    "duration": 391,
    "start_time": "2021-08-24T07:38:08.226Z"
   },
   {
    "duration": 19,
    "start_time": "2021-08-24T07:38:14.327Z"
   },
   {
    "duration": 29,
    "start_time": "2021-08-24T07:39:14.487Z"
   },
   {
    "duration": 26,
    "start_time": "2021-08-24T07:39:36.464Z"
   },
   {
    "duration": 28,
    "start_time": "2021-08-24T07:39:42.327Z"
   },
   {
    "duration": 4,
    "start_time": "2021-08-24T07:44:20.747Z"
   },
   {
    "duration": 6,
    "start_time": "2021-08-24T07:44:31.667Z"
   },
   {
    "duration": 15,
    "start_time": "2021-08-24T07:44:42.797Z"
   },
   {
    "duration": 427,
    "start_time": "2021-08-24T07:45:30.209Z"
   },
   {
    "duration": 401,
    "start_time": "2021-08-24T07:48:03.164Z"
   },
   {
    "duration": 404,
    "start_time": "2021-08-24T07:48:29.861Z"
   },
   {
    "duration": 391,
    "start_time": "2021-08-24T07:48:36.265Z"
   },
   {
    "duration": 420,
    "start_time": "2021-08-24T07:48:43.929Z"
   },
   {
    "duration": 15,
    "start_time": "2021-08-24T07:48:55.256Z"
   },
   {
    "duration": 17,
    "start_time": "2021-08-24T07:49:00.091Z"
   },
   {
    "duration": 452,
    "start_time": "2021-08-24T07:49:24.397Z"
   },
   {
    "duration": 15,
    "start_time": "2021-08-24T07:49:30.721Z"
   },
   {
    "duration": 15,
    "start_time": "2021-08-24T07:49:33.982Z"
   },
   {
    "duration": 27,
    "start_time": "2021-08-24T07:50:32.799Z"
   },
   {
    "duration": 131,
    "start_time": "2021-08-24T07:50:35.275Z"
   },
   {
    "duration": 137,
    "start_time": "2021-08-24T07:51:37.236Z"
   },
   {
    "duration": 28,
    "start_time": "2021-08-24T07:51:42.045Z"
   },
   {
    "duration": 38,
    "start_time": "2021-08-24T07:53:00.647Z"
   },
   {
    "duration": 13,
    "start_time": "2021-08-24T07:53:00.687Z"
   },
   {
    "duration": 56,
    "start_time": "2021-08-24T07:53:00.703Z"
   },
   {
    "duration": 34992,
    "start_time": "2021-08-24T07:53:00.762Z"
   },
   {
    "duration": 24,
    "start_time": "2021-08-24T07:53:35.756Z"
   },
   {
    "duration": 163,
    "start_time": "2021-08-24T07:53:35.782Z"
   },
   {
    "duration": 28,
    "start_time": "2021-08-24T07:53:35.954Z"
   },
   {
    "duration": 131,
    "start_time": "2021-08-24T08:20:58.875Z"
   },
   {
    "duration": 157,
    "start_time": "2021-08-24T08:21:07.391Z"
   },
   {
    "duration": 414,
    "start_time": "2021-08-24T08:23:00.061Z"
   },
   {
    "duration": 483,
    "start_time": "2021-08-24T08:24:08.551Z"
   },
   {
    "duration": 544,
    "start_time": "2021-08-24T08:24:22.575Z"
   },
   {
    "duration": 15,
    "start_time": "2021-08-24T08:24:27.104Z"
   },
   {
    "duration": 14,
    "start_time": "2021-08-24T08:24:41.744Z"
   },
   {
    "duration": 17,
    "start_time": "2021-08-24T08:25:10.498Z"
   },
   {
    "duration": 16,
    "start_time": "2021-08-24T08:26:11.120Z"
   },
   {
    "duration": 15,
    "start_time": "2021-08-24T08:26:52.358Z"
   },
   {
    "duration": 1548,
    "start_time": "2021-08-24T08:28:58.516Z"
   },
   {
    "duration": 13,
    "start_time": "2021-08-24T08:29:00.067Z"
   },
   {
    "duration": 38,
    "start_time": "2021-08-24T08:29:00.083Z"
   },
   {
    "duration": 33692,
    "start_time": "2021-08-24T08:29:00.124Z"
   },
   {
    "duration": 37,
    "start_time": "2021-08-24T08:29:33.819Z"
   },
   {
    "duration": 16,
    "start_time": "2021-08-24T08:29:33.859Z"
   },
   {
    "duration": 15,
    "start_time": "2021-08-24T08:29:33.877Z"
   },
   {
    "duration": 20,
    "start_time": "2021-08-24T08:30:41.157Z"
   },
   {
    "duration": 17,
    "start_time": "2021-08-24T08:30:56.525Z"
   },
   {
    "duration": 90,
    "start_time": "2021-08-25T06:16:46.911Z"
   },
   {
    "duration": 1473,
    "start_time": "2021-08-25T06:23:24.987Z"
   },
   {
    "duration": 38,
    "start_time": "2021-08-25T06:23:26.548Z"
   },
   {
    "duration": 490,
    "start_time": "2021-08-25T06:27:37.032Z"
   },
   {
    "duration": 19,
    "start_time": "2021-08-25T06:27:41.732Z"
   },
   {
    "duration": 14,
    "start_time": "2021-08-25T06:28:11.191Z"
   },
   {
    "duration": 16,
    "start_time": "2021-08-25T06:28:50.914Z"
   },
   {
    "duration": 16,
    "start_time": "2021-08-25T06:29:08.167Z"
   },
   {
    "duration": 16,
    "start_time": "2021-08-25T06:29:56.915Z"
   },
   {
    "duration": 16,
    "start_time": "2021-08-25T06:30:21.704Z"
   },
   {
    "duration": 34,
    "start_time": "2021-08-25T06:30:39.517Z"
   },
   {
    "duration": 31672,
    "start_time": "2021-08-25T06:30:53.746Z"
   },
   {
    "duration": 20,
    "start_time": "2021-08-25T06:32:09.132Z"
   },
   {
    "duration": 826,
    "start_time": "2021-08-25T06:36:46.591Z"
   },
   {
    "duration": 471,
    "start_time": "2021-08-25T06:37:52.168Z"
   },
   {
    "duration": 474,
    "start_time": "2021-08-25T06:38:06.178Z"
   },
   {
    "duration": 484,
    "start_time": "2021-08-25T06:38:10.939Z"
   },
   {
    "duration": 13,
    "start_time": "2021-08-25T06:39:53.274Z"
   },
   {
    "duration": 13,
    "start_time": "2021-08-25T06:40:43.010Z"
   },
   {
    "duration": 12,
    "start_time": "2021-08-25T06:40:58.893Z"
   },
   {
    "duration": 12,
    "start_time": "2021-08-25T06:41:11.284Z"
   },
   {
    "duration": 1441,
    "start_time": "2021-08-25T06:46:49.902Z"
   },
   {
    "duration": 38,
    "start_time": "2021-08-25T06:46:51.346Z"
   },
   {
    "duration": 17,
    "start_time": "2021-08-25T06:46:51.387Z"
   },
   {
    "duration": 46,
    "start_time": "2021-08-25T06:46:51.407Z"
   },
   {
    "duration": 34043,
    "start_time": "2021-08-25T06:46:51.483Z"
   },
   {
    "duration": 20,
    "start_time": "2021-08-25T06:47:25.528Z"
   },
   {
    "duration": 1234,
    "start_time": "2021-08-25T06:47:25.551Z"
   },
   {
    "duration": 12,
    "start_time": "2021-08-25T06:47:26.788Z"
   },
   {
    "duration": 254,
    "start_time": "2021-08-25T06:50:48.209Z"
   },
   {
    "duration": 11,
    "start_time": "2021-08-25T06:51:16.783Z"
   },
   {
    "duration": 1177,
    "start_time": "2021-08-25T07:29:45.125Z"
   },
   {
    "duration": 32,
    "start_time": "2021-08-25T07:29:46.304Z"
   },
   {
    "duration": 11,
    "start_time": "2021-08-25T07:29:46.338Z"
   },
   {
    "duration": 24,
    "start_time": "2021-08-25T07:29:46.351Z"
   },
   {
    "duration": 21617,
    "start_time": "2021-08-25T07:29:46.391Z"
   },
   {
    "duration": 13,
    "start_time": "2021-08-25T07:30:08.009Z"
   },
   {
    "duration": 187,
    "start_time": "2021-08-25T07:30:08.023Z"
   },
   {
    "duration": 8,
    "start_time": "2021-08-25T07:30:08.212Z"
   },
   {
    "duration": 4,
    "start_time": "2021-08-25T07:44:46.777Z"
   },
   {
    "duration": 34,
    "start_time": "2021-08-25T07:44:46.791Z"
   },
   {
    "duration": 10,
    "start_time": "2021-08-25T07:44:46.826Z"
   },
   {
    "duration": 31,
    "start_time": "2021-08-25T07:44:46.838Z"
   },
   {
    "duration": 22149,
    "start_time": "2021-08-25T07:44:46.871Z"
   },
   {
    "duration": 9,
    "start_time": "2021-08-25T07:45:09.021Z"
   },
   {
    "duration": 192,
    "start_time": "2021-08-25T07:45:09.032Z"
   },
   {
    "duration": 8,
    "start_time": "2021-08-25T07:45:09.226Z"
   }
  ],
  "kernelspec": {
   "display_name": "Python 3",
   "language": "python",
   "name": "python3"
  },
  "language_info": {
   "codemirror_mode": {
    "name": "ipython",
    "version": 3
   },
   "file_extension": ".py",
   "mimetype": "text/x-python",
   "name": "python",
   "nbconvert_exporter": "python",
   "pygments_lexer": "ipython3",
   "version": "3.8.8"
  },
  "toc": {
   "base_numbering": 1,
   "nav_menu": {},
   "number_sections": true,
   "sideBar": true,
   "skip_h1_title": true,
   "title_cell": "Содержание",
   "title_sidebar": "Содержание",
   "toc_cell": true,
   "toc_position": {
    "height": "calc(100% - 180px)",
    "left": "10px",
    "top": "150px",
    "width": "238px"
   },
   "toc_section_display": true,
   "toc_window_display": true
  }
 },
 "nbformat": 4,
 "nbformat_minor": 2
}
