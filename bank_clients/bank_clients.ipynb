{
 "cells": [
  {
   "cell_type": "markdown",
   "metadata": {
    "toc": true
   },
   "source": [
    "<h1>Содержание<span class=\"tocSkip\"></span></h1>\n",
    "<div class=\"toc\"><ul class=\"toc-item\"><li><span><a href=\"#Подготовка-данных\" data-toc-modified-id=\"Подготовка-данных-1\"><span class=\"toc-item-num\">1&nbsp;&nbsp;</span>Подготовка данных</a></span></li><li><span><a href=\"#Исследование-задачи\" data-toc-modified-id=\"Исследование-задачи-2\"><span class=\"toc-item-num\">2&nbsp;&nbsp;</span>Исследование задачи</a></span></li><li><span><a href=\"#Борьба-с-дисбалансом\" data-toc-modified-id=\"Борьба-с-дисбалансом-3\"><span class=\"toc-item-num\">3&nbsp;&nbsp;</span>Борьба с дисбалансом</a></span></li><li><span><a href=\"#Тестирование-модели\" data-toc-modified-id=\"Тестирование-модели-4\"><span class=\"toc-item-num\">4&nbsp;&nbsp;</span>Тестирование модели</a></span></li><li><span><a href=\"#Чек-лист-готовности-проекта\" data-toc-modified-id=\"Чек-лист-готовности-проекта-5\"><span class=\"toc-item-num\">5&nbsp;&nbsp;</span>--</a></span></li></ul></div>"
   ]
  },
  {
   "cell_type": "markdown",
   "metadata": {},
   "source": [
    "# Отток клиентов"
   ]
  },
  {
   "cell_type": "markdown",
   "metadata": {},
   "source": [
    "Из «Бета-Банка» стали уходить клиенты. Каждый месяц. Немного, но заметно. Банковские маркетологи посчитали: сохранять текущих клиентов дешевле, чем привлекать новых.\n",
    "\n",
    "Нужно спрогнозировать, уйдёт клиент из банка в ближайшее время или нет. Вам предоставлены исторические данные о поведении клиентов и расторжении договоров с банком. \n",
    "\n",
    "Постройте модель с предельно большим значением *F1*-меры. Чтобы сдать проект успешно, нужно довести метрику до 0.59. Проверьте *F1*-меру на тестовой выборке самостоятельно.\n",
    "\n",
    "Дополнительно измеряйте *AUC-ROC*, сравнивайте её значение с *F1*-мерой.\n",
    "\n",
    "Источник данных: [https://www.kaggle.com/barelydedicated/bank-customer-churn-modeling](https://www.kaggle.com/barelydedicated/bank-customer-churn-modeling)"
   ]
  },
  {
   "cell_type": "markdown",
   "metadata": {},
   "source": [
    "## Подготовка данных"
   ]
  },
  {
   "cell_type": "code",
   "execution_count": 1,
   "metadata": {},
   "outputs": [],
   "source": [
    "import seaborn as sns\n",
    "import pandas as pd\n",
    "from sklearn.utils import shuffle\n",
    "from sklearn.model_selection import train_test_split\n",
    "from sklearn.linear_model import LinearRegression\n",
    "from sklearn.linear_model import LogisticRegression\n",
    "from sklearn.tree import DecisionTreeClassifier\n",
    "from sklearn.model_selection import GridSearchCV\n",
    "from sklearn.ensemble import RandomForestClassifier\n",
    "from sklearn.metrics import confusion_matrix\n",
    "from sklearn.metrics import mean_absolute_error\n",
    "from sklearn.metrics import f1_score\n",
    "from sklearn.metrics import roc_auc_score \n",
    "from sklearn.metrics import recall_score\n",
    "from sklearn.metrics import precision_score\n",
    "from sklearn.preprocessing import StandardScaler \n",
    "from sklearn.linear_model import LogisticRegression\n",
    "from sklearn.dummy import DummyClassifier\n",
    "from sklearn.metrics import accuracy_score \n",
    "import matplotlib.pyplot as plt\n",
    "from collections import Counter\n",
    "import numpy as np"
   ]
  },
  {
   "cell_type": "code",
   "execution_count": 2,
   "metadata": {},
   "outputs": [
    {
     "data": {
      "text/html": [
       "<div>\n",
       "<style scoped>\n",
       "    .dataframe tbody tr th:only-of-type {\n",
       "        vertical-align: middle;\n",
       "    }\n",
       "\n",
       "    .dataframe tbody tr th {\n",
       "        vertical-align: top;\n",
       "    }\n",
       "\n",
       "    .dataframe thead th {\n",
       "        text-align: right;\n",
       "    }\n",
       "</style>\n",
       "<table border=\"1\" class=\"dataframe\">\n",
       "  <thead>\n",
       "    <tr style=\"text-align: right;\">\n",
       "      <th></th>\n",
       "      <th>RowNumber</th>\n",
       "      <th>CustomerId</th>\n",
       "      <th>Surname</th>\n",
       "      <th>CreditScore</th>\n",
       "      <th>Geography</th>\n",
       "      <th>Gender</th>\n",
       "      <th>Age</th>\n",
       "      <th>Tenure</th>\n",
       "      <th>Balance</th>\n",
       "      <th>NumOfProducts</th>\n",
       "      <th>HasCrCard</th>\n",
       "      <th>IsActiveMember</th>\n",
       "      <th>EstimatedSalary</th>\n",
       "      <th>Exited</th>\n",
       "    </tr>\n",
       "  </thead>\n",
       "  <tbody>\n",
       "    <tr>\n",
       "      <th>0</th>\n",
       "      <td>1</td>\n",
       "      <td>15634602</td>\n",
       "      <td>Hargrave</td>\n",
       "      <td>619</td>\n",
       "      <td>France</td>\n",
       "      <td>Female</td>\n",
       "      <td>42</td>\n",
       "      <td>2</td>\n",
       "      <td>0.00</td>\n",
       "      <td>1</td>\n",
       "      <td>1</td>\n",
       "      <td>1</td>\n",
       "      <td>101348.88</td>\n",
       "      <td>1</td>\n",
       "    </tr>\n",
       "    <tr>\n",
       "      <th>1</th>\n",
       "      <td>2</td>\n",
       "      <td>15647311</td>\n",
       "      <td>Hill</td>\n",
       "      <td>608</td>\n",
       "      <td>Spain</td>\n",
       "      <td>Female</td>\n",
       "      <td>41</td>\n",
       "      <td>1</td>\n",
       "      <td>83807.86</td>\n",
       "      <td>1</td>\n",
       "      <td>0</td>\n",
       "      <td>1</td>\n",
       "      <td>112542.58</td>\n",
       "      <td>0</td>\n",
       "    </tr>\n",
       "    <tr>\n",
       "      <th>2</th>\n",
       "      <td>3</td>\n",
       "      <td>15619304</td>\n",
       "      <td>Onio</td>\n",
       "      <td>502</td>\n",
       "      <td>France</td>\n",
       "      <td>Female</td>\n",
       "      <td>42</td>\n",
       "      <td>8</td>\n",
       "      <td>159660.80</td>\n",
       "      <td>3</td>\n",
       "      <td>1</td>\n",
       "      <td>0</td>\n",
       "      <td>113931.57</td>\n",
       "      <td>1</td>\n",
       "    </tr>\n",
       "    <tr>\n",
       "      <th>3</th>\n",
       "      <td>4</td>\n",
       "      <td>15701354</td>\n",
       "      <td>Boni</td>\n",
       "      <td>699</td>\n",
       "      <td>France</td>\n",
       "      <td>Female</td>\n",
       "      <td>39</td>\n",
       "      <td>1</td>\n",
       "      <td>0.00</td>\n",
       "      <td>2</td>\n",
       "      <td>0</td>\n",
       "      <td>0</td>\n",
       "      <td>93826.63</td>\n",
       "      <td>0</td>\n",
       "    </tr>\n",
       "    <tr>\n",
       "      <th>4</th>\n",
       "      <td>5</td>\n",
       "      <td>15737888</td>\n",
       "      <td>Mitchell</td>\n",
       "      <td>850</td>\n",
       "      <td>Spain</td>\n",
       "      <td>Female</td>\n",
       "      <td>43</td>\n",
       "      <td>2</td>\n",
       "      <td>125510.82</td>\n",
       "      <td>1</td>\n",
       "      <td>1</td>\n",
       "      <td>1</td>\n",
       "      <td>79084.10</td>\n",
       "      <td>0</td>\n",
       "    </tr>\n",
       "    <tr>\n",
       "      <th>5</th>\n",
       "      <td>6</td>\n",
       "      <td>15574012</td>\n",
       "      <td>Chu</td>\n",
       "      <td>645</td>\n",
       "      <td>Spain</td>\n",
       "      <td>Male</td>\n",
       "      <td>44</td>\n",
       "      <td>8</td>\n",
       "      <td>113755.78</td>\n",
       "      <td>2</td>\n",
       "      <td>1</td>\n",
       "      <td>0</td>\n",
       "      <td>149756.71</td>\n",
       "      <td>1</td>\n",
       "    </tr>\n",
       "    <tr>\n",
       "      <th>6</th>\n",
       "      <td>7</td>\n",
       "      <td>15592531</td>\n",
       "      <td>Bartlett</td>\n",
       "      <td>822</td>\n",
       "      <td>France</td>\n",
       "      <td>Male</td>\n",
       "      <td>50</td>\n",
       "      <td>7</td>\n",
       "      <td>0.00</td>\n",
       "      <td>2</td>\n",
       "      <td>1</td>\n",
       "      <td>1</td>\n",
       "      <td>10062.80</td>\n",
       "      <td>0</td>\n",
       "    </tr>\n",
       "    <tr>\n",
       "      <th>7</th>\n",
       "      <td>8</td>\n",
       "      <td>15656148</td>\n",
       "      <td>Obinna</td>\n",
       "      <td>376</td>\n",
       "      <td>Germany</td>\n",
       "      <td>Female</td>\n",
       "      <td>29</td>\n",
       "      <td>4</td>\n",
       "      <td>115046.74</td>\n",
       "      <td>4</td>\n",
       "      <td>1</td>\n",
       "      <td>0</td>\n",
       "      <td>119346.88</td>\n",
       "      <td>1</td>\n",
       "    </tr>\n",
       "    <tr>\n",
       "      <th>8</th>\n",
       "      <td>9</td>\n",
       "      <td>15792365</td>\n",
       "      <td>He</td>\n",
       "      <td>501</td>\n",
       "      <td>France</td>\n",
       "      <td>Male</td>\n",
       "      <td>44</td>\n",
       "      <td>4</td>\n",
       "      <td>142051.07</td>\n",
       "      <td>2</td>\n",
       "      <td>0</td>\n",
       "      <td>1</td>\n",
       "      <td>74940.50</td>\n",
       "      <td>0</td>\n",
       "    </tr>\n",
       "    <tr>\n",
       "      <th>9</th>\n",
       "      <td>10</td>\n",
       "      <td>15592389</td>\n",
       "      <td>H?</td>\n",
       "      <td>684</td>\n",
       "      <td>France</td>\n",
       "      <td>Male</td>\n",
       "      <td>27</td>\n",
       "      <td>2</td>\n",
       "      <td>134603.88</td>\n",
       "      <td>1</td>\n",
       "      <td>1</td>\n",
       "      <td>1</td>\n",
       "      <td>71725.73</td>\n",
       "      <td>0</td>\n",
       "    </tr>\n",
       "  </tbody>\n",
       "</table>\n",
       "</div>"
      ],
      "text/plain": [
       "   RowNumber  CustomerId   Surname  CreditScore Geography  Gender  Age  \\\n",
       "0          1    15634602  Hargrave          619    France  Female   42   \n",
       "1          2    15647311      Hill          608     Spain  Female   41   \n",
       "2          3    15619304      Onio          502    France  Female   42   \n",
       "3          4    15701354      Boni          699    France  Female   39   \n",
       "4          5    15737888  Mitchell          850     Spain  Female   43   \n",
       "5          6    15574012       Chu          645     Spain    Male   44   \n",
       "6          7    15592531  Bartlett          822    France    Male   50   \n",
       "7          8    15656148    Obinna          376   Germany  Female   29   \n",
       "8          9    15792365        He          501    France    Male   44   \n",
       "9         10    15592389        H?          684    France    Male   27   \n",
       "\n",
       "   Tenure    Balance  NumOfProducts  HasCrCard  IsActiveMember  \\\n",
       "0       2       0.00              1          1               1   \n",
       "1       1   83807.86              1          0               1   \n",
       "2       8  159660.80              3          1               0   \n",
       "3       1       0.00              2          0               0   \n",
       "4       2  125510.82              1          1               1   \n",
       "5       8  113755.78              2          1               0   \n",
       "6       7       0.00              2          1               1   \n",
       "7       4  115046.74              4          1               0   \n",
       "8       4  142051.07              2          0               1   \n",
       "9       2  134603.88              1          1               1   \n",
       "\n",
       "   EstimatedSalary  Exited  \n",
       "0        101348.88       1  \n",
       "1        112542.58       0  \n",
       "2        113931.57       1  \n",
       "3         93826.63       0  \n",
       "4         79084.10       0  \n",
       "5        149756.71       1  \n",
       "6         10062.80       0  \n",
       "7        119346.88       1  \n",
       "8         74940.50       0  \n",
       "9         71725.73       0  "
      ]
     },
     "metadata": {},
     "output_type": "display_data"
    },
    {
     "name": "stdout",
     "output_type": "stream",
     "text": [
      "<class 'pandas.core.frame.DataFrame'>\n",
      "RangeIndex: 10000 entries, 0 to 9999\n",
      "Data columns (total 14 columns):\n",
      " #   Column           Non-Null Count  Dtype  \n",
      "---  ------           --------------  -----  \n",
      " 0   RowNumber        10000 non-null  int64  \n",
      " 1   CustomerId       10000 non-null  int64  \n",
      " 2   Surname          10000 non-null  object \n",
      " 3   CreditScore      10000 non-null  int64  \n",
      " 4   Geography        10000 non-null  object \n",
      " 5   Gender           10000 non-null  object \n",
      " 6   Age              10000 non-null  int64  \n",
      " 7   Tenure           10000 non-null  int64  \n",
      " 8   Balance          10000 non-null  float64\n",
      " 9   NumOfProducts    10000 non-null  int64  \n",
      " 10  HasCrCard        10000 non-null  int64  \n",
      " 11  IsActiveMember   10000 non-null  int64  \n",
      " 12  EstimatedSalary  10000 non-null  float64\n",
      " 13  Exited           10000 non-null  int64  \n",
      "dtypes: float64(2), int64(9), object(3)\n",
      "memory usage: 1.1+ MB\n",
      "None\n"
     ]
    }
   ],
   "source": [
    "data=pd.read_csv('Churn_Modelling.csv')\n",
    "#смотрим таблицу\n",
    "display(data.head(10))\n",
    "print(data.info())"
   ]
  },
  {
   "cell_type": "markdown",
   "metadata": {},
   "source": [
    "<i><b>Перед нами датасет, из 10 000 строк. В столбце Tenure есть пропуски, которые надо будет обработать. Также названия столбцов лучше сменить на строчные. <br>Exited будет целевым признаком машинного обучения.</b></i>"
   ]
  },
  {
   "cell_type": "markdown",
   "metadata": {},
   "source": [
    "<div class=\"alert alert-block alert-success\">\n",
    "<b>Успех:</b> Загрузка и данных проведены, идем дальше\n",
    "</div>"
   ]
  },
  {
   "cell_type": "markdown",
   "metadata": {},
   "source": [
    "<i>Преборазуем колонки к строчным буквам </i>"
   ]
  },
  {
   "cell_type": "code",
   "execution_count": 3,
   "metadata": {},
   "outputs": [
    {
     "data": {
      "text/html": [
       "<div>\n",
       "<style scoped>\n",
       "    .dataframe tbody tr th:only-of-type {\n",
       "        vertical-align: middle;\n",
       "    }\n",
       "\n",
       "    .dataframe tbody tr th {\n",
       "        vertical-align: top;\n",
       "    }\n",
       "\n",
       "    .dataframe thead th {\n",
       "        text-align: right;\n",
       "    }\n",
       "</style>\n",
       "<table border=\"1\" class=\"dataframe\">\n",
       "  <thead>\n",
       "    <tr style=\"text-align: right;\">\n",
       "      <th></th>\n",
       "      <th>rownumber</th>\n",
       "      <th>customerid</th>\n",
       "      <th>surname</th>\n",
       "      <th>creditscore</th>\n",
       "      <th>geography</th>\n",
       "      <th>gender</th>\n",
       "      <th>age</th>\n",
       "      <th>tenure</th>\n",
       "      <th>balance</th>\n",
       "      <th>numofproducts</th>\n",
       "      <th>hascrcard</th>\n",
       "      <th>isactivemember</th>\n",
       "      <th>estimatedsalary</th>\n",
       "      <th>exited</th>\n",
       "    </tr>\n",
       "  </thead>\n",
       "  <tbody>\n",
       "    <tr>\n",
       "      <th>0</th>\n",
       "      <td>1</td>\n",
       "      <td>15634602</td>\n",
       "      <td>Hargrave</td>\n",
       "      <td>619</td>\n",
       "      <td>France</td>\n",
       "      <td>Female</td>\n",
       "      <td>42</td>\n",
       "      <td>2</td>\n",
       "      <td>0.00</td>\n",
       "      <td>1</td>\n",
       "      <td>1</td>\n",
       "      <td>1</td>\n",
       "      <td>101348.88</td>\n",
       "      <td>1</td>\n",
       "    </tr>\n",
       "    <tr>\n",
       "      <th>1</th>\n",
       "      <td>2</td>\n",
       "      <td>15647311</td>\n",
       "      <td>Hill</td>\n",
       "      <td>608</td>\n",
       "      <td>Spain</td>\n",
       "      <td>Female</td>\n",
       "      <td>41</td>\n",
       "      <td>1</td>\n",
       "      <td>83807.86</td>\n",
       "      <td>1</td>\n",
       "      <td>0</td>\n",
       "      <td>1</td>\n",
       "      <td>112542.58</td>\n",
       "      <td>0</td>\n",
       "    </tr>\n",
       "    <tr>\n",
       "      <th>2</th>\n",
       "      <td>3</td>\n",
       "      <td>15619304</td>\n",
       "      <td>Onio</td>\n",
       "      <td>502</td>\n",
       "      <td>France</td>\n",
       "      <td>Female</td>\n",
       "      <td>42</td>\n",
       "      <td>8</td>\n",
       "      <td>159660.80</td>\n",
       "      <td>3</td>\n",
       "      <td>1</td>\n",
       "      <td>0</td>\n",
       "      <td>113931.57</td>\n",
       "      <td>1</td>\n",
       "    </tr>\n",
       "    <tr>\n",
       "      <th>3</th>\n",
       "      <td>4</td>\n",
       "      <td>15701354</td>\n",
       "      <td>Boni</td>\n",
       "      <td>699</td>\n",
       "      <td>France</td>\n",
       "      <td>Female</td>\n",
       "      <td>39</td>\n",
       "      <td>1</td>\n",
       "      <td>0.00</td>\n",
       "      <td>2</td>\n",
       "      <td>0</td>\n",
       "      <td>0</td>\n",
       "      <td>93826.63</td>\n",
       "      <td>0</td>\n",
       "    </tr>\n",
       "    <tr>\n",
       "      <th>4</th>\n",
       "      <td>5</td>\n",
       "      <td>15737888</td>\n",
       "      <td>Mitchell</td>\n",
       "      <td>850</td>\n",
       "      <td>Spain</td>\n",
       "      <td>Female</td>\n",
       "      <td>43</td>\n",
       "      <td>2</td>\n",
       "      <td>125510.82</td>\n",
       "      <td>1</td>\n",
       "      <td>1</td>\n",
       "      <td>1</td>\n",
       "      <td>79084.10</td>\n",
       "      <td>0</td>\n",
       "    </tr>\n",
       "    <tr>\n",
       "      <th>5</th>\n",
       "      <td>6</td>\n",
       "      <td>15574012</td>\n",
       "      <td>Chu</td>\n",
       "      <td>645</td>\n",
       "      <td>Spain</td>\n",
       "      <td>Male</td>\n",
       "      <td>44</td>\n",
       "      <td>8</td>\n",
       "      <td>113755.78</td>\n",
       "      <td>2</td>\n",
       "      <td>1</td>\n",
       "      <td>0</td>\n",
       "      <td>149756.71</td>\n",
       "      <td>1</td>\n",
       "    </tr>\n",
       "    <tr>\n",
       "      <th>6</th>\n",
       "      <td>7</td>\n",
       "      <td>15592531</td>\n",
       "      <td>Bartlett</td>\n",
       "      <td>822</td>\n",
       "      <td>France</td>\n",
       "      <td>Male</td>\n",
       "      <td>50</td>\n",
       "      <td>7</td>\n",
       "      <td>0.00</td>\n",
       "      <td>2</td>\n",
       "      <td>1</td>\n",
       "      <td>1</td>\n",
       "      <td>10062.80</td>\n",
       "      <td>0</td>\n",
       "    </tr>\n",
       "    <tr>\n",
       "      <th>7</th>\n",
       "      <td>8</td>\n",
       "      <td>15656148</td>\n",
       "      <td>Obinna</td>\n",
       "      <td>376</td>\n",
       "      <td>Germany</td>\n",
       "      <td>Female</td>\n",
       "      <td>29</td>\n",
       "      <td>4</td>\n",
       "      <td>115046.74</td>\n",
       "      <td>4</td>\n",
       "      <td>1</td>\n",
       "      <td>0</td>\n",
       "      <td>119346.88</td>\n",
       "      <td>1</td>\n",
       "    </tr>\n",
       "    <tr>\n",
       "      <th>8</th>\n",
       "      <td>9</td>\n",
       "      <td>15792365</td>\n",
       "      <td>He</td>\n",
       "      <td>501</td>\n",
       "      <td>France</td>\n",
       "      <td>Male</td>\n",
       "      <td>44</td>\n",
       "      <td>4</td>\n",
       "      <td>142051.07</td>\n",
       "      <td>2</td>\n",
       "      <td>0</td>\n",
       "      <td>1</td>\n",
       "      <td>74940.50</td>\n",
       "      <td>0</td>\n",
       "    </tr>\n",
       "    <tr>\n",
       "      <th>9</th>\n",
       "      <td>10</td>\n",
       "      <td>15592389</td>\n",
       "      <td>H?</td>\n",
       "      <td>684</td>\n",
       "      <td>France</td>\n",
       "      <td>Male</td>\n",
       "      <td>27</td>\n",
       "      <td>2</td>\n",
       "      <td>134603.88</td>\n",
       "      <td>1</td>\n",
       "      <td>1</td>\n",
       "      <td>1</td>\n",
       "      <td>71725.73</td>\n",
       "      <td>0</td>\n",
       "    </tr>\n",
       "  </tbody>\n",
       "</table>\n",
       "</div>"
      ],
      "text/plain": [
       "   rownumber  customerid   surname  creditscore geography  gender  age  \\\n",
       "0          1    15634602  Hargrave          619    France  Female   42   \n",
       "1          2    15647311      Hill          608     Spain  Female   41   \n",
       "2          3    15619304      Onio          502    France  Female   42   \n",
       "3          4    15701354      Boni          699    France  Female   39   \n",
       "4          5    15737888  Mitchell          850     Spain  Female   43   \n",
       "5          6    15574012       Chu          645     Spain    Male   44   \n",
       "6          7    15592531  Bartlett          822    France    Male   50   \n",
       "7          8    15656148    Obinna          376   Germany  Female   29   \n",
       "8          9    15792365        He          501    France    Male   44   \n",
       "9         10    15592389        H?          684    France    Male   27   \n",
       "\n",
       "   tenure    balance  numofproducts  hascrcard  isactivemember  \\\n",
       "0       2       0.00              1          1               1   \n",
       "1       1   83807.86              1          0               1   \n",
       "2       8  159660.80              3          1               0   \n",
       "3       1       0.00              2          0               0   \n",
       "4       2  125510.82              1          1               1   \n",
       "5       8  113755.78              2          1               0   \n",
       "6       7       0.00              2          1               1   \n",
       "7       4  115046.74              4          1               0   \n",
       "8       4  142051.07              2          0               1   \n",
       "9       2  134603.88              1          1               1   \n",
       "\n",
       "   estimatedsalary  exited  \n",
       "0        101348.88       1  \n",
       "1        112542.58       0  \n",
       "2        113931.57       1  \n",
       "3         93826.63       0  \n",
       "4         79084.10       0  \n",
       "5        149756.71       1  \n",
       "6         10062.80       0  \n",
       "7        119346.88       1  \n",
       "8         74940.50       0  \n",
       "9         71725.73       0  "
      ]
     },
     "metadata": {},
     "output_type": "display_data"
    }
   ],
   "source": [
    "data.columns=data.columns.str.lower()\n",
    "display(data.head(10))"
   ]
  },
  {
   "cell_type": "code",
   "execution_count": 4,
   "metadata": {
    "scrolled": true
   },
   "outputs": [
    {
     "name": "stdout",
     "output_type": "stream",
     "text": [
      "0\n"
     ]
    }
   ],
   "source": [
    "#Посмотрим число строк полных дубликатов\n",
    "print(data.duplicated().sum()) "
   ]
  },
  {
   "cell_type": "markdown",
   "metadata": {},
   "source": [
    "<i>Полных дубликатов нет </i>"
   ]
  },
  {
   "cell_type": "code",
   "execution_count": 5,
   "metadata": {
    "scrolled": true
   },
   "outputs": [
    {
     "data": {
      "text/html": [
       "<div>\n",
       "<style scoped>\n",
       "    .dataframe tbody tr th:only-of-type {\n",
       "        vertical-align: middle;\n",
       "    }\n",
       "\n",
       "    .dataframe tbody tr th {\n",
       "        vertical-align: top;\n",
       "    }\n",
       "\n",
       "    .dataframe thead th {\n",
       "        text-align: right;\n",
       "    }\n",
       "</style>\n",
       "<table border=\"1\" class=\"dataframe\">\n",
       "  <thead>\n",
       "    <tr style=\"text-align: right;\">\n",
       "      <th></th>\n",
       "      <th>rownumber</th>\n",
       "      <th>customerid</th>\n",
       "      <th>creditscore</th>\n",
       "      <th>age</th>\n",
       "      <th>tenure</th>\n",
       "      <th>balance</th>\n",
       "      <th>numofproducts</th>\n",
       "      <th>hascrcard</th>\n",
       "      <th>isactivemember</th>\n",
       "      <th>estimatedsalary</th>\n",
       "      <th>exited</th>\n",
       "    </tr>\n",
       "  </thead>\n",
       "  <tbody>\n",
       "    <tr>\n",
       "      <th>count</th>\n",
       "      <td>10000.00000</td>\n",
       "      <td>1.000000e+04</td>\n",
       "      <td>10000.000000</td>\n",
       "      <td>10000.000000</td>\n",
       "      <td>10000.000000</td>\n",
       "      <td>10000.000000</td>\n",
       "      <td>10000.000000</td>\n",
       "      <td>10000.00000</td>\n",
       "      <td>10000.000000</td>\n",
       "      <td>10000.000000</td>\n",
       "      <td>10000.000000</td>\n",
       "    </tr>\n",
       "    <tr>\n",
       "      <th>mean</th>\n",
       "      <td>5000.50000</td>\n",
       "      <td>1.569094e+07</td>\n",
       "      <td>650.528800</td>\n",
       "      <td>38.921800</td>\n",
       "      <td>5.012800</td>\n",
       "      <td>76485.889288</td>\n",
       "      <td>1.530200</td>\n",
       "      <td>0.70550</td>\n",
       "      <td>0.515100</td>\n",
       "      <td>100090.239881</td>\n",
       "      <td>0.203700</td>\n",
       "    </tr>\n",
       "    <tr>\n",
       "      <th>std</th>\n",
       "      <td>2886.89568</td>\n",
       "      <td>7.193619e+04</td>\n",
       "      <td>96.653299</td>\n",
       "      <td>10.487806</td>\n",
       "      <td>2.892174</td>\n",
       "      <td>62397.405202</td>\n",
       "      <td>0.581654</td>\n",
       "      <td>0.45584</td>\n",
       "      <td>0.499797</td>\n",
       "      <td>57510.492818</td>\n",
       "      <td>0.402769</td>\n",
       "    </tr>\n",
       "    <tr>\n",
       "      <th>min</th>\n",
       "      <td>1.00000</td>\n",
       "      <td>1.556570e+07</td>\n",
       "      <td>350.000000</td>\n",
       "      <td>18.000000</td>\n",
       "      <td>0.000000</td>\n",
       "      <td>0.000000</td>\n",
       "      <td>1.000000</td>\n",
       "      <td>0.00000</td>\n",
       "      <td>0.000000</td>\n",
       "      <td>11.580000</td>\n",
       "      <td>0.000000</td>\n",
       "    </tr>\n",
       "    <tr>\n",
       "      <th>25%</th>\n",
       "      <td>2500.75000</td>\n",
       "      <td>1.562853e+07</td>\n",
       "      <td>584.000000</td>\n",
       "      <td>32.000000</td>\n",
       "      <td>3.000000</td>\n",
       "      <td>0.000000</td>\n",
       "      <td>1.000000</td>\n",
       "      <td>0.00000</td>\n",
       "      <td>0.000000</td>\n",
       "      <td>51002.110000</td>\n",
       "      <td>0.000000</td>\n",
       "    </tr>\n",
       "    <tr>\n",
       "      <th>50%</th>\n",
       "      <td>5000.50000</td>\n",
       "      <td>1.569074e+07</td>\n",
       "      <td>652.000000</td>\n",
       "      <td>37.000000</td>\n",
       "      <td>5.000000</td>\n",
       "      <td>97198.540000</td>\n",
       "      <td>1.000000</td>\n",
       "      <td>1.00000</td>\n",
       "      <td>1.000000</td>\n",
       "      <td>100193.915000</td>\n",
       "      <td>0.000000</td>\n",
       "    </tr>\n",
       "    <tr>\n",
       "      <th>75%</th>\n",
       "      <td>7500.25000</td>\n",
       "      <td>1.575323e+07</td>\n",
       "      <td>718.000000</td>\n",
       "      <td>44.000000</td>\n",
       "      <td>7.000000</td>\n",
       "      <td>127644.240000</td>\n",
       "      <td>2.000000</td>\n",
       "      <td>1.00000</td>\n",
       "      <td>1.000000</td>\n",
       "      <td>149388.247500</td>\n",
       "      <td>0.000000</td>\n",
       "    </tr>\n",
       "    <tr>\n",
       "      <th>max</th>\n",
       "      <td>10000.00000</td>\n",
       "      <td>1.581569e+07</td>\n",
       "      <td>850.000000</td>\n",
       "      <td>92.000000</td>\n",
       "      <td>10.000000</td>\n",
       "      <td>250898.090000</td>\n",
       "      <td>4.000000</td>\n",
       "      <td>1.00000</td>\n",
       "      <td>1.000000</td>\n",
       "      <td>199992.480000</td>\n",
       "      <td>1.000000</td>\n",
       "    </tr>\n",
       "  </tbody>\n",
       "</table>\n",
       "</div>"
      ],
      "text/plain": [
       "         rownumber    customerid   creditscore           age        tenure  \\\n",
       "count  10000.00000  1.000000e+04  10000.000000  10000.000000  10000.000000   \n",
       "mean    5000.50000  1.569094e+07    650.528800     38.921800      5.012800   \n",
       "std     2886.89568  7.193619e+04     96.653299     10.487806      2.892174   \n",
       "min        1.00000  1.556570e+07    350.000000     18.000000      0.000000   \n",
       "25%     2500.75000  1.562853e+07    584.000000     32.000000      3.000000   \n",
       "50%     5000.50000  1.569074e+07    652.000000     37.000000      5.000000   \n",
       "75%     7500.25000  1.575323e+07    718.000000     44.000000      7.000000   \n",
       "max    10000.00000  1.581569e+07    850.000000     92.000000     10.000000   \n",
       "\n",
       "             balance  numofproducts    hascrcard  isactivemember  \\\n",
       "count   10000.000000   10000.000000  10000.00000    10000.000000   \n",
       "mean    76485.889288       1.530200      0.70550        0.515100   \n",
       "std     62397.405202       0.581654      0.45584        0.499797   \n",
       "min         0.000000       1.000000      0.00000        0.000000   \n",
       "25%         0.000000       1.000000      0.00000        0.000000   \n",
       "50%     97198.540000       1.000000      1.00000        1.000000   \n",
       "75%    127644.240000       2.000000      1.00000        1.000000   \n",
       "max    250898.090000       4.000000      1.00000        1.000000   \n",
       "\n",
       "       estimatedsalary        exited  \n",
       "count     10000.000000  10000.000000  \n",
       "mean     100090.239881      0.203700  \n",
       "std       57510.492818      0.402769  \n",
       "min          11.580000      0.000000  \n",
       "25%       51002.110000      0.000000  \n",
       "50%      100193.915000      0.000000  \n",
       "75%      149388.247500      0.000000  \n",
       "max      199992.480000      1.000000  "
      ]
     },
     "metadata": {},
     "output_type": "display_data"
    }
   ],
   "source": [
    "display(data.describe())"
   ]
  },
  {
   "cell_type": "code",
   "execution_count": 6,
   "metadata": {},
   "outputs": [
    {
     "data": {
      "text/plain": [
       "0    7963\n",
       "1    2037\n",
       "Name: exited, dtype: int64"
      ]
     },
     "execution_count": 6,
     "metadata": {},
     "output_type": "execute_result"
    }
   ],
   "source": [
    "data['exited'].value_counts()"
   ]
  },
  {
   "cell_type": "markdown",
   "metadata": {},
   "source": [
    "В колонке с целевым признакам только значения 0 и 1, нерелевантных значений нет."
   ]
  },
  {
   "cell_type": "markdown",
   "metadata": {},
   "source": [
    "<i>Обработаем пропуска в tenure</i>"
   ]
  },
  {
   "cell_type": "code",
   "execution_count": 7,
   "metadata": {
    "scrolled": true
   },
   "outputs": [
    {
     "data": {
      "text/html": [
       "<div>\n",
       "<style scoped>\n",
       "    .dataframe tbody tr th:only-of-type {\n",
       "        vertical-align: middle;\n",
       "    }\n",
       "\n",
       "    .dataframe tbody tr th {\n",
       "        vertical-align: top;\n",
       "    }\n",
       "\n",
       "    .dataframe thead th {\n",
       "        text-align: right;\n",
       "    }\n",
       "</style>\n",
       "<table border=\"1\" class=\"dataframe\">\n",
       "  <thead>\n",
       "    <tr style=\"text-align: right;\">\n",
       "      <th></th>\n",
       "      <th>rownumber</th>\n",
       "      <th>customerid</th>\n",
       "      <th>surname</th>\n",
       "      <th>creditscore</th>\n",
       "      <th>geography</th>\n",
       "      <th>gender</th>\n",
       "      <th>age</th>\n",
       "      <th>tenure</th>\n",
       "      <th>balance</th>\n",
       "      <th>numofproducts</th>\n",
       "      <th>hascrcard</th>\n",
       "      <th>isactivemember</th>\n",
       "      <th>estimatedsalary</th>\n",
       "      <th>exited</th>\n",
       "    </tr>\n",
       "  </thead>\n",
       "  <tbody>\n",
       "  </tbody>\n",
       "</table>\n",
       "</div>"
      ],
      "text/plain": [
       "Empty DataFrame\n",
       "Columns: [rownumber, customerid, surname, creditscore, geography, gender, age, tenure, balance, numofproducts, hascrcard, isactivemember, estimatedsalary, exited]\n",
       "Index: []"
      ]
     },
     "execution_count": 7,
     "metadata": {},
     "output_type": "execute_result"
    }
   ],
   "source": [
    "data.isnull().mean()\n",
    "data.loc[data['tenure'].isnull()]"
   ]
  },
  {
   "cell_type": "markdown",
   "metadata": {},
   "source": [
    "<i>Видим, что в местах пропусков у клиентов есть какое-то число продуктов, значит на 0 NaN заменить нельзя.<br>Какой-то логики у пропусков не видно, вроде пропусков в определенной стране.</i>"
   ]
  },
  {
   "cell_type": "code",
   "execution_count": 8,
   "metadata": {
    "scrolled": true
   },
   "outputs": [
    {
     "data": {
      "text/html": [
       "<div>\n",
       "<style scoped>\n",
       "    .dataframe tbody tr th:only-of-type {\n",
       "        vertical-align: middle;\n",
       "    }\n",
       "\n",
       "    .dataframe tbody tr th {\n",
       "        vertical-align: top;\n",
       "    }\n",
       "\n",
       "    .dataframe thead th {\n",
       "        text-align: right;\n",
       "    }\n",
       "</style>\n",
       "<table border=\"1\" class=\"dataframe\">\n",
       "  <thead>\n",
       "    <tr style=\"text-align: right;\">\n",
       "      <th></th>\n",
       "      <th>rownumber</th>\n",
       "      <th>customerid</th>\n",
       "      <th>creditscore</th>\n",
       "      <th>age</th>\n",
       "      <th>tenure</th>\n",
       "      <th>balance</th>\n",
       "      <th>numofproducts</th>\n",
       "      <th>hascrcard</th>\n",
       "      <th>isactivemember</th>\n",
       "      <th>estimatedsalary</th>\n",
       "      <th>exited</th>\n",
       "    </tr>\n",
       "  </thead>\n",
       "  <tbody>\n",
       "    <tr>\n",
       "      <th>count</th>\n",
       "      <td>0.0</td>\n",
       "      <td>0.0</td>\n",
       "      <td>0.0</td>\n",
       "      <td>0.0</td>\n",
       "      <td>0.0</td>\n",
       "      <td>0.0</td>\n",
       "      <td>0.0</td>\n",
       "      <td>0.0</td>\n",
       "      <td>0.0</td>\n",
       "      <td>0.0</td>\n",
       "      <td>0.0</td>\n",
       "    </tr>\n",
       "    <tr>\n",
       "      <th>mean</th>\n",
       "      <td>NaN</td>\n",
       "      <td>NaN</td>\n",
       "      <td>NaN</td>\n",
       "      <td>NaN</td>\n",
       "      <td>NaN</td>\n",
       "      <td>NaN</td>\n",
       "      <td>NaN</td>\n",
       "      <td>NaN</td>\n",
       "      <td>NaN</td>\n",
       "      <td>NaN</td>\n",
       "      <td>NaN</td>\n",
       "    </tr>\n",
       "    <tr>\n",
       "      <th>std</th>\n",
       "      <td>NaN</td>\n",
       "      <td>NaN</td>\n",
       "      <td>NaN</td>\n",
       "      <td>NaN</td>\n",
       "      <td>NaN</td>\n",
       "      <td>NaN</td>\n",
       "      <td>NaN</td>\n",
       "      <td>NaN</td>\n",
       "      <td>NaN</td>\n",
       "      <td>NaN</td>\n",
       "      <td>NaN</td>\n",
       "    </tr>\n",
       "    <tr>\n",
       "      <th>min</th>\n",
       "      <td>NaN</td>\n",
       "      <td>NaN</td>\n",
       "      <td>NaN</td>\n",
       "      <td>NaN</td>\n",
       "      <td>NaN</td>\n",
       "      <td>NaN</td>\n",
       "      <td>NaN</td>\n",
       "      <td>NaN</td>\n",
       "      <td>NaN</td>\n",
       "      <td>NaN</td>\n",
       "      <td>NaN</td>\n",
       "    </tr>\n",
       "    <tr>\n",
       "      <th>25%</th>\n",
       "      <td>NaN</td>\n",
       "      <td>NaN</td>\n",
       "      <td>NaN</td>\n",
       "      <td>NaN</td>\n",
       "      <td>NaN</td>\n",
       "      <td>NaN</td>\n",
       "      <td>NaN</td>\n",
       "      <td>NaN</td>\n",
       "      <td>NaN</td>\n",
       "      <td>NaN</td>\n",
       "      <td>NaN</td>\n",
       "    </tr>\n",
       "    <tr>\n",
       "      <th>50%</th>\n",
       "      <td>NaN</td>\n",
       "      <td>NaN</td>\n",
       "      <td>NaN</td>\n",
       "      <td>NaN</td>\n",
       "      <td>NaN</td>\n",
       "      <td>NaN</td>\n",
       "      <td>NaN</td>\n",
       "      <td>NaN</td>\n",
       "      <td>NaN</td>\n",
       "      <td>NaN</td>\n",
       "      <td>NaN</td>\n",
       "    </tr>\n",
       "    <tr>\n",
       "      <th>75%</th>\n",
       "      <td>NaN</td>\n",
       "      <td>NaN</td>\n",
       "      <td>NaN</td>\n",
       "      <td>NaN</td>\n",
       "      <td>NaN</td>\n",
       "      <td>NaN</td>\n",
       "      <td>NaN</td>\n",
       "      <td>NaN</td>\n",
       "      <td>NaN</td>\n",
       "      <td>NaN</td>\n",
       "      <td>NaN</td>\n",
       "    </tr>\n",
       "    <tr>\n",
       "      <th>max</th>\n",
       "      <td>NaN</td>\n",
       "      <td>NaN</td>\n",
       "      <td>NaN</td>\n",
       "      <td>NaN</td>\n",
       "      <td>NaN</td>\n",
       "      <td>NaN</td>\n",
       "      <td>NaN</td>\n",
       "      <td>NaN</td>\n",
       "      <td>NaN</td>\n",
       "      <td>NaN</td>\n",
       "      <td>NaN</td>\n",
       "    </tr>\n",
       "  </tbody>\n",
       "</table>\n",
       "</div>"
      ],
      "text/plain": [
       "       rownumber  customerid  creditscore  age  tenure  balance  \\\n",
       "count        0.0         0.0          0.0  0.0     0.0      0.0   \n",
       "mean         NaN         NaN          NaN  NaN     NaN      NaN   \n",
       "std          NaN         NaN          NaN  NaN     NaN      NaN   \n",
       "min          NaN         NaN          NaN  NaN     NaN      NaN   \n",
       "25%          NaN         NaN          NaN  NaN     NaN      NaN   \n",
       "50%          NaN         NaN          NaN  NaN     NaN      NaN   \n",
       "75%          NaN         NaN          NaN  NaN     NaN      NaN   \n",
       "max          NaN         NaN          NaN  NaN     NaN      NaN   \n",
       "\n",
       "       numofproducts  hascrcard  isactivemember  estimatedsalary  exited  \n",
       "count            0.0        0.0             0.0              0.0     0.0  \n",
       "mean             NaN        NaN             NaN              NaN     NaN  \n",
       "std              NaN        NaN             NaN              NaN     NaN  \n",
       "min              NaN        NaN             NaN              NaN     NaN  \n",
       "25%              NaN        NaN             NaN              NaN     NaN  \n",
       "50%              NaN        NaN             NaN              NaN     NaN  \n",
       "75%              NaN        NaN             NaN              NaN     NaN  \n",
       "max              NaN        NaN             NaN              NaN     NaN  "
      ]
     },
     "execution_count": 8,
     "metadata": {},
     "output_type": "execute_result"
    }
   ],
   "source": [
    "data.loc[data['tenure'].isnull()].describe()"
   ]
  },
  {
   "cell_type": "markdown",
   "metadata": {},
   "source": [
    "<i>Возможно заменить пропуски средним по возрасту?<br>Посмотрим на график зависимости возраста и  Tenure</i>"
   ]
  },
  {
   "cell_type": "markdown",
   "metadata": {},
   "source": [
    "<i>Посмотрим гистограмму распределенеия значений tenure </i>"
   ]
  },
  {
   "cell_type": "code",
   "execution_count": 9,
   "metadata": {
    "scrolled": true
   },
   "outputs": [
    {
     "data": {
      "text/plain": [
       "<AxesSubplot:>"
      ]
     },
     "execution_count": 9,
     "metadata": {},
     "output_type": "execute_result"
    },
    {
     "data": {
      "image/png": "[encoded data removed]",
      "text/plain": [
       "<Figure size 936x288 with 1 Axes>"
      ]
     },
     "metadata": {
      "needs_background": "light"
     },
     "output_type": "display_data"
    }
   ],
   "source": [
    "data['tenure'].hist(bins = 100,figsize=(13,4))"
   ]
  },
  {
   "cell_type": "markdown",
   "metadata": {},
   "source": [
    "<i>Распределение похоже на нормальное </i>"
   ]
  },
  {
   "cell_type": "markdown",
   "metadata": {},
   "source": [
    "<i>Посмотрим на зависимость чилса лет клиента в банке от его/ее возраста</i>"
   ]
  },
  {
   "cell_type": "code",
   "execution_count": 10,
   "metadata": {
    "scrolled": true
   },
   "outputs": [
    {
     "data": {
      "image/png": "[encoded data removed]",
      "text/plain": [
       "<Figure size 936x288 with 1 Axes>"
      ]
     },
     "metadata": {
      "needs_background": "light"
     },
     "output_type": "display_data"
    }
   ],
   "source": [
    "data_graph_tenure_Age=data.loc[data['tenure'].isnull()==False].pivot_table(index='age', values='tenure', aggfunc='median')\n",
    "data_graph_tenure_Age.plot(grid = True,figsize=(13,4))\n",
    "plt.title('Зависимость количества лет клиента в банке от возраста')\n",
    "plt.show()"
   ]
  },
  {
   "cell_type": "markdown",
   "metadata": {},
   "source": [
    "<i>Видим, что: <br>\n",
    "а)На участке от 0 до 23 лет большой разброс, на участке от 50 и выше чем дальше тем больше разброс. Скорей всего у нас меньше данных по этим возрастам. Это неудивительно, так как люди старшего возраста меньше пользуются банками, и младшего тоже начиная с определенного порога.<br>\n",
    "б)Медиана самых активных клиентов не меняется, поэтому не будетм дробить по возрастным категориям и просто заменим пропуски медианой.\n",
    "</i>"
   ]
  },
  {
   "cell_type": "code",
   "execution_count": 11,
   "metadata": {},
   "outputs": [
    {
     "name": "stdout",
     "output_type": "stream",
     "text": [
      "<class 'pandas.core.frame.DataFrame'>\n",
      "Int64Index: 226 entries, 57 to 9940\n",
      "Data columns (total 14 columns):\n",
      " #   Column           Non-Null Count  Dtype  \n",
      "---  ------           --------------  -----  \n",
      " 0   rownumber        226 non-null    int64  \n",
      " 1   customerid       226 non-null    int64  \n",
      " 2   surname          226 non-null    object \n",
      " 3   creditscore      226 non-null    int64  \n",
      " 4   geography        226 non-null    object \n",
      " 5   gender           226 non-null    object \n",
      " 6   age              226 non-null    int64  \n",
      " 7   tenure           226 non-null    int64  \n",
      " 8   balance          226 non-null    float64\n",
      " 9   numofproducts    226 non-null    int64  \n",
      " 10  hascrcard        226 non-null    int64  \n",
      " 11  isactivemember   226 non-null    int64  \n",
      " 12  estimatedsalary  226 non-null    float64\n",
      " 13  exited           226 non-null    int64  \n",
      "dtypes: float64(2), int64(9), object(3)\n",
      "memory usage: 26.5+ KB\n",
      "None\n",
      "<class 'pandas.core.frame.DataFrame'>\n",
      "Int64Index: 1261 entries, 16 to 9991\n",
      "Data columns (total 14 columns):\n",
      " #   Column           Non-Null Count  Dtype  \n",
      "---  ------           --------------  -----  \n",
      " 0   rownumber        1261 non-null   int64  \n",
      " 1   customerid       1261 non-null   int64  \n",
      " 2   surname          1261 non-null   object \n",
      " 3   creditscore      1261 non-null   int64  \n",
      " 4   geography        1261 non-null   object \n",
      " 5   gender           1261 non-null   object \n",
      " 6   age              1261 non-null   int64  \n",
      " 7   tenure           1261 non-null   int64  \n",
      " 8   balance          1261 non-null   float64\n",
      " 9   numofproducts    1261 non-null   int64  \n",
      " 10  hascrcard        1261 non-null   int64  \n",
      " 11  isactivemember   1261 non-null   int64  \n",
      " 12  estimatedsalary  1261 non-null   float64\n",
      " 13  exited           1261 non-null   int64  \n",
      "dtypes: float64(2), int64(9), object(3)\n",
      "memory usage: 147.8+ KB\n",
      "None\n",
      "<class 'pandas.core.frame.DataFrame'>\n",
      "RangeIndex: 10000 entries, 0 to 9999\n",
      "Data columns (total 14 columns):\n",
      " #   Column           Non-Null Count  Dtype  \n",
      "---  ------           --------------  -----  \n",
      " 0   rownumber        10000 non-null  int64  \n",
      " 1   customerid       10000 non-null  int64  \n",
      " 2   surname          10000 non-null  object \n",
      " 3   creditscore      10000 non-null  int64  \n",
      " 4   geography        10000 non-null  object \n",
      " 5   gender           10000 non-null  object \n",
      " 6   age              10000 non-null  int64  \n",
      " 7   tenure           10000 non-null  int64  \n",
      " 8   balance          10000 non-null  float64\n",
      " 9   numofproducts    10000 non-null  int64  \n",
      " 10  hascrcard        10000 non-null  int64  \n",
      " 11  isactivemember   10000 non-null  int64  \n",
      " 12  estimatedsalary  10000 non-null  float64\n",
      " 13  exited           10000 non-null  int64  \n",
      "dtypes: float64(2), int64(9), object(3)\n",
      "memory usage: 1.1+ MB\n",
      "None\n"
     ]
    }
   ],
   "source": [
    "print(data.loc[data['age']<23].info())\n",
    "print(data.loc[data['age']>50].info())\n",
    "print(data.info())"
   ]
  },
  {
   "cell_type": "markdown",
   "metadata": {},
   "source": [
    "<i>Так и есть, людей возрастом 'меньше 23' 226, возрастом 'старше 50' 1261, при размере датасета в 10 000 строк </i>"
   ]
  },
  {
   "cell_type": "code",
   "execution_count": 12,
   "metadata": {},
   "outputs": [
    {
     "name": "stdout",
     "output_type": "stream",
     "text": [
      "Медианное число лет, сколько человек является клиентом банка: 5.0\n"
     ]
    }
   ],
   "source": [
    "#Посмотрим медиану\n",
    "tenure_median = data.loc[data['tenure'].isnull()==False,'tenure'].median()\n",
    "print('Медианное число лет, сколько человек является клиентом банка:',tenure_median)"
   ]
  },
  {
   "cell_type": "code",
   "execution_count": 13,
   "metadata": {
    "scrolled": true
   },
   "outputs": [
    {
     "data": {
      "text/plain": [
       "rownumber          0.0\n",
       "customerid         0.0\n",
       "surname            0.0\n",
       "creditscore        0.0\n",
       "geography          0.0\n",
       "gender             0.0\n",
       "age                0.0\n",
       "tenure             0.0\n",
       "balance            0.0\n",
       "numofproducts      0.0\n",
       "hascrcard          0.0\n",
       "isactivemember     0.0\n",
       "estimatedsalary    0.0\n",
       "exited             0.0\n",
       "dtype: float64"
      ]
     },
     "execution_count": 13,
     "metadata": {},
     "output_type": "execute_result"
    }
   ],
   "source": [
    "#заменим пропуски медианой\n",
    "data['tenure'].fillna(tenure_median, inplace=True)\n",
    "#проверим результат\n",
    "data.isnull().mean()"
   ]
  },
  {
   "cell_type": "markdown",
   "metadata": {},
   "source": [
    "## Исследование задачи"
   ]
  },
  {
   "cell_type": "markdown",
   "metadata": {},
   "source": [
    "<i>У нас стоит задача классификации, а в столбце Gender и возомжно другх, категориальные признаки,а не численные с которыми может работать модель</i>"
   ]
  },
  {
   "cell_type": "code",
   "execution_count": 14,
   "metadata": {},
   "outputs": [],
   "source": [
    "#Применим прямое кодирование ко всему датафрейму. Удалим колонку surname, так как она неинформативна.\n",
    "data_ohe = pd.get_dummies(data.drop('surname', axis=1), drop_first=True)"
   ]
  },
  {
   "cell_type": "code",
   "execution_count": 15,
   "metadata": {},
   "outputs": [
    {
     "name": "stdout",
     "output_type": "stream",
     "text": [
      "(10000, 14)\n",
      "(6400, 11)\n",
      "(6400,)\n",
      "(1600, 11)\n",
      "(1600,)\n",
      "(2000, 11)\n",
      "(2000,)\n"
     ]
    }
   ],
   "source": [
    "#Разбиваем данные на выборки, тестовую и валидационную.\n",
    "train_valid, test = train_test_split(data_ohe, test_size=0.2,random_state=12345)\n",
    "train, valid = train_test_split(train_valid, test_size=0.2,random_state=12345)\n",
    "\n",
    "features_train = train.drop(['exited','customerid','rownumber'], axis=1)\n",
    "target_train = train['exited']\n",
    "features_valid = valid.drop(['exited','customerid','rownumber'], axis=1)\n",
    "target_valid = valid['exited']\n",
    "features_test = test.drop(['exited','customerid','rownumber'], axis=1)\n",
    "target_test = test['exited']\n",
    "#Проверим размеры выборок\n",
    "print(data.shape)\n",
    "print(features_train.shape)\n",
    "print(target_train.shape)\n",
    "print(features_valid.shape)\n",
    "print(target_valid.shape)\n",
    "print(features_test.shape)\n",
    "print(target_test.shape)\n"
   ]
  },
  {
   "cell_type": "markdown",
   "metadata": {},
   "source": [
    "<i>Выборки подготовлены</i>"
   ]
  },
  {
   "cell_type": "markdown",
   "metadata": {},
   "source": [
    "<i>Исследуем баланс классов</i>"
   ]
  },
  {
   "cell_type": "code",
   "execution_count": 16,
   "metadata": {},
   "outputs": [
    {
     "name": "stdout",
     "output_type": "stream",
     "text": [
      "F1 score: 0.08069164265129683\n",
      "Полнота 0.0462046204620462\n",
      "Точность 0.3181818181818182\n",
      "AUC-ROC: 0.6749976462565299\n"
     ]
    }
   ],
   "source": [
    "#Обучим модель логиситической регрессии\n",
    "model = LogisticRegression(random_state=12345, solver='liblinear')\n",
    "model.fit(features_train, target_train)\n",
    "predicted_valid = model.predict(features_valid)\n",
    "probabilities_valid = model.predict_proba(features_valid)\n",
    "probabilities_one_valid = probabilities_valid[:, 1]\n",
    "auc_roclg_regr=roc_auc_score(target_valid, probabilities_one_valid)\n",
    "f1_score_lg_regr=f1_score(target_valid, predicted_valid)\n",
    "recall_lg_regr=recall_score(target_valid, predicted_valid)\n",
    "precision_lg_regr=precision_score(target_valid, predicted_valid)\n",
    "print('F1 score:',f1_score_lg_regr)\n",
    "print('Полнота',recall_lg_regr)\n",
    "print('Точность',precision_lg_regr)\n",
    "print('AUC-ROC:',auc_roclg_regr)\n",
    "#result_ta"
   ]
  },
  {
   "cell_type": "code",
   "execution_count": 17,
   "metadata": {
    "scrolled": true
   },
   "outputs": [
    {
     "data": {
      "text/plain": [
       "array([0.28469304, 0.3327349 , 0.10053269, ..., 0.18163633, 0.18861566,\n",
       "       0.31603581])"
      ]
     },
     "execution_count": 17,
     "metadata": {},
     "output_type": "execute_result"
    }
   ],
   "source": [
    "probabilities_one_valid"
   ]
  },
  {
   "cell_type": "code",
   "execution_count": 18,
   "metadata": {
    "scrolled": true
   },
   "outputs": [
    {
     "name": "stdout",
     "output_type": "stream",
     "text": [
      "(2037, 14)\n",
      "(7963, 14)\n"
     ]
    }
   ],
   "source": [
    "print(data.loc[data['exited']==1].shape)\n",
    "print(data.loc[data['exited']==0].shape)"
   ]
  },
  {
   "cell_type": "markdown",
   "metadata": {},
   "source": [
    "<i>По малому значению F1 и другим параметрам, видим что классы несбалансированы.</i>"
   ]
  },
  {
   "cell_type": "code",
   "execution_count": 19,
   "metadata": {
    "scrolled": true
   },
   "outputs": [
    {
     "name": "stdout",
     "output_type": "stream",
     "text": [
      "F1 score: 0.4603174603174603\n",
      "Полнота 0.47854785478547857\n",
      "Точность 0.4434250764525994\n",
      "AUC-ROC: 0.669112015287882\n"
     ]
    }
   ],
   "source": [
    "#Обучим модель DecisionTreeClassifier для сравнения с логистической регрессией\n",
    "model = DecisionTreeClassifier(random_state=12345)\n",
    "model.fit(features_train, target_train)\n",
    "predicted_valid = model.predict(features_valid)\n",
    "probabilities_valid = model.predict_proba(features_valid)\n",
    "probabilities_valid = model.predict_proba(features_valid)\n",
    "probabilities_one_valid = probabilities_valid[:, 1]\n",
    "auc_roc_dcs_tr_cls=roc_auc_score(target_valid, probabilities_one_valid)\n",
    "f1_score_dcs_tr_cls=f1_score(target_valid, predicted_valid)\n",
    "recall_dcs_tr_cls=recall_score(target_valid, predicted_valid)\n",
    "precision_dcs_tr_cls=precision_score(target_valid, predicted_valid)\n",
    "print('F1 score:',f1_score_dcs_tr_cls)\n",
    "print('Полнота',recall_dcs_tr_cls)\n",
    "print('Точность',precision_dcs_tr_cls)\n",
    "print('AUC-ROC:',auc_roc_dcs_tr_cls)"
   ]
  },
  {
   "cell_type": "code",
   "execution_count": 20,
   "metadata": {
    "scrolled": false
   },
   "outputs": [
    {
     "name": "stdout",
     "output_type": "stream",
     "text": [
      "F1 score: 0.5737373737373738\n",
      "Полнота 0.46864686468646866\n",
      "Точность 0.7395833333333334\n",
      "AUC-ROC: 0.855215513841284\n"
     ]
    }
   ],
   "source": [
    "#Попробуем случайный лес\n",
    "model = RandomForestClassifier(random_state=12345, n_estimators=80)\n",
    "model.fit(features_train,target_train)\n",
    "predicted_valid  = model.predict(features_valid)\n",
    "probabilities_valid = model.predict_proba(features_valid)\n",
    "probabilities_one_valid = probabilities_valid[:, 1]\n",
    "auc_roc_rnd_frs_cls=roc_auc_score(target_valid, probabilities_one_valid)\n",
    "f1_score_rnd_frs_cls=f1_score(target_valid, predicted_valid)\n",
    "recall_rnd_frs_cls=recall_score(target_valid, predicted_valid)\n",
    "precision_rnd_frs_cls=precision_score(target_valid, predicted_valid)\n",
    "\n",
    "print('F1 score:',f1_score_rnd_frs_cls)\n",
    "print('Полнота',recall_rnd_frs_cls)\n",
    "print('Точность',precision_rnd_frs_cls)\n",
    "print('AUC-ROC:',auc_roc_rnd_frs_cls)"
   ]
  },
  {
   "cell_type": "code",
   "execution_count": 21,
   "metadata": {},
   "outputs": [
    {
     "data": {
      "text/html": [
       "<div>\n",
       "<style scoped>\n",
       "    .dataframe tbody tr th:only-of-type {\n",
       "        vertical-align: middle;\n",
       "    }\n",
       "\n",
       "    .dataframe tbody tr th {\n",
       "        vertical-align: top;\n",
       "    }\n",
       "\n",
       "    .dataframe thead th {\n",
       "        text-align: right;\n",
       "    }\n",
       "</style>\n",
       "<table border=\"1\" class=\"dataframe\">\n",
       "  <thead>\n",
       "    <tr style=\"text-align: right;\">\n",
       "      <th></th>\n",
       "      <th>F1-score</th>\n",
       "      <th>Recall</th>\n",
       "      <th>Precision</th>\n",
       "      <th>AUC-ROC</th>\n",
       "    </tr>\n",
       "  </thead>\n",
       "  <tbody>\n",
       "    <tr>\n",
       "      <th>Lgst_regr</th>\n",
       "      <td>0.080692</td>\n",
       "      <td>0.046205</td>\n",
       "      <td>0.318182</td>\n",
       "      <td>0.674998</td>\n",
       "    </tr>\n",
       "    <tr>\n",
       "      <th>DecTrCllsfr</th>\n",
       "      <td>0.460317</td>\n",
       "      <td>0.478548</td>\n",
       "      <td>0.443425</td>\n",
       "      <td>0.669112</td>\n",
       "    </tr>\n",
       "    <tr>\n",
       "      <th>Rndm_Frst_Classifier</th>\n",
       "      <td>0.573737</td>\n",
       "      <td>0.468647</td>\n",
       "      <td>0.739583</td>\n",
       "      <td>0.855216</td>\n",
       "    </tr>\n",
       "  </tbody>\n",
       "</table>\n",
       "</div>"
      ],
      "text/plain": [
       "                      F1-score    Recall  Precision   AUC-ROC\n",
       "Lgst_regr             0.080692  0.046205   0.318182  0.674998\n",
       "DecTrCllsfr           0.460317  0.478548   0.443425  0.669112\n",
       "Rndm_Frst_Classifier  0.573737  0.468647   0.739583  0.855216"
      ]
     },
     "execution_count": 21,
     "metadata": {},
     "output_type": "execute_result"
    }
   ],
   "source": [
    "df = pd.DataFrame([[f1_score_lg_regr, recall_lg_regr,precision_lg_regr,auc_roclg_regr], [f1_score_dcs_tr_cls,recall_dcs_tr_cls,precision_dcs_tr_cls, auc_roc_dcs_tr_cls],[f1_score_rnd_frs_cls,recall_rnd_frs_cls,precision_rnd_frs_cls,auc_roc_rnd_frs_cls]], columns=['F1-score','Recall','Precision','AUC-ROC' ], index=['Lgst_regr', 'DecTrCllsfr','Rndm_Frst_Classifier'])\n",
    "df\n"
   ]
  },
  {
   "cell_type": "markdown",
   "metadata": {},
   "source": [
    "<i>1.Баланс класса сильно смещен в сторону ответов \"0\". <br>2.Логистическая регрессия очень чувствительная к сбалансированности классов и другим настройкам, в отличие от дерева решений и случайного дерева. </i>"
   ]
  },
  {
   "cell_type": "markdown",
   "metadata": {},
   "source": [
    "## Борьба с дисбалансом"
   ]
  },
  {
   "cell_type": "markdown",
   "metadata": {},
   "source": [
    "<i>Обучим логистическую регрессию учитывая дисбаланс классов</i>\n"
   ]
  },
  {
   "cell_type": "code",
   "execution_count": 22,
   "metadata": {},
   "outputs": [
    {
     "name": "stdout",
     "output_type": "stream",
     "text": [
      "F1 score: 0.45819761129207376\n",
      "Полнота 0.6963696369636964\n",
      "Точность 0.3414239482200647\n",
      "AUC-ROC: 0.7606128384619494\n",
      "Wall time: 37.9 ms\n"
     ]
    }
   ],
   "source": [
    "%%time\n",
    "model = LogisticRegression(random_state=12345, solver='liblinear',class_weight='balanced')\n",
    "model.fit(features_train, target_train)\n",
    "predicted_valid = model.predict(features_valid)\n",
    "print('F1 score:',f1_score(target_valid, predicted_valid))\n",
    "print('Полнота',recall_score(target_valid, predicted_valid))\n",
    "print('Точность',precision_score(target_valid, predicted_valid))\n",
    "probabilities_valid = model.predict_proba(features_valid)\n",
    "probabilities_one_valid = probabilities_valid[:, 1]\n",
    "auc_roc=roc_auc_score(target_valid, probabilities_one_valid)\n",
    "print('AUC-ROC:',auc_roc)"
   ]
  },
  {
   "cell_type": "markdown",
   "metadata": {},
   "source": [
    "<i>Параметры сильно улучшились.Попробуем другие модели </i>"
   ]
  },
  {
   "cell_type": "code",
   "execution_count": 23,
   "metadata": {
    "scrolled": false
   },
   "outputs": [
    {
     "name": "stdout",
     "output_type": "stream",
     "text": [
      "F1 score: 0.471169686985173\n",
      "Полнота 0.47194719471947194\n",
      "Точность 0.47039473684210525\n",
      "AUC-ROC: 0.6739072904977468\n",
      "Wall time: 31.9 ms\n"
     ]
    }
   ],
   "source": [
    "%%time\n",
    "model = DecisionTreeClassifier(random_state=12345,class_weight='balanced')\n",
    "model.fit(features_train, target_train)\n",
    "predicted_valid = model.predict(features_valid)\n",
    "print('F1 score:',f1_score(target_valid, predicted_valid))\n",
    "print('Полнота',recall_score(target_valid, predicted_valid))\n",
    "print('Точность',precision_score(target_valid, predicted_valid))\n",
    "probabilities_valid = model.predict_proba(features_valid)\n",
    "probabilities_one_valid = probabilities_valid[:, 1]\n",
    "auc_roc=roc_auc_score(target_valid, probabilities_one_valid)\n",
    "print('AUC-ROC:',auc_roc)"
   ]
  },
  {
   "cell_type": "code",
   "execution_count": 24,
   "metadata": {
    "scrolled": true
   },
   "outputs": [
    {
     "name": "stdout",
     "output_type": "stream",
     "text": [
      "F1 score: 0.5696969696969697\n",
      "Полнота 0.46534653465346537\n",
      "Точность 0.734375\n",
      "AUC-ROC: 0.8514711532834086\n",
      "Wall time: 516 ms\n"
     ]
    }
   ],
   "source": [
    "%%time\n",
    "#Попробуем случайный лес\n",
    "model = RandomForestClassifier(random_state=12345, n_estimators=80,class_weight='balanced')\n",
    "model.fit(features_train,target_train)\n",
    "predicted_valid  = model.predict(features_valid)\n",
    "\n",
    "print('F1 score:',f1_score(target_valid, predicted_valid))\n",
    "print('Полнота',recall_score(target_valid, predicted_valid))\n",
    "print('Точность',precision_score(target_valid, predicted_valid))\n",
    "probabilities_valid = model.predict_proba(features_valid)\n",
    "probabilities_one_valid = probabilities_valid[:, 1]\n",
    "auc_roc=roc_auc_score(target_valid, probabilities_one_valid)\n",
    "print('AUC-ROC:',auc_roc)"
   ]
  },
  {
   "cell_type": "markdown",
   "metadata": {},
   "source": [
    "<i>Модель LogisticRegression показывает самый низкий F1 score, самый высокий у RandomForestClassifier<br>Улучшим параметры DecisionTreeClassifier и RandomForestClassifier </i>"
   ]
  },
  {
   "cell_type": "code",
   "execution_count": 25,
   "metadata": {
    "scrolled": false
   },
   "outputs": [
    {
     "name": "stdout",
     "output_type": "stream",
     "text": [
      "F1-score\n",
      "0.5588972431077694 max_depth= 6\n",
      "AUC-ROC: 0.8225455544783468\n",
      "Wall time: 1.15 s\n"
     ]
    }
   ],
   "source": [
    "%%time\n",
    "best_model = None\n",
    "best_result = 0\n",
    "best_depth=0\n",
    "for depth in range(1, 50,1):\n",
    "    model = DecisionTreeClassifier(random_state=12345, max_depth=depth,class_weight='balanced') \n",
    "    model.fit(features_train,target_train) \n",
    "    predictions_valid  = model.predict(features_valid)\n",
    "    result=f1_score(target_valid, predictions_valid)\n",
    "    if result > best_result:\n",
    "        best_model = model\n",
    "        best_result = result\n",
    "        best_depth = depth\n",
    "    \n",
    "print(\"F1-score\")\n",
    "print(best_result,'max_depth=',best_depth)    \n",
    "probabilities_valid = best_model.predict_proba(features_valid)\n",
    "probabilities_one_valid = probabilities_valid[:, 1]\n",
    "auc_roc=roc_auc_score(target_valid, probabilities_one_valid)\n",
    "print('AUC-ROC:',auc_roc)"
   ]
  },
  {
   "cell_type": "code",
   "execution_count": 26,
   "metadata": {},
   "outputs": [
    {
     "name": "stdout",
     "output_type": "stream",
     "text": [
      "F1 наилучшей модели на валидационной выборке: 0.6218181818181818 est= 110 depth= 16\n",
      "AUC-ROC: 0.8560883073658176\n"
     ]
    }
   ],
   "source": [
    "best_model = None\n",
    "best_result = 0\n",
    "best_est = 20\n",
    "best_depth=1\n",
    "for depth in range(1,20):\n",
    "    for est in range(20,120, 10):\n",
    "        model = RandomForestClassifier(random_state=12345, n_estimators=est,min_samples_leaf = 2, max_depth=depth,class_weight='balanced')\n",
    "        model.fit(features_train,target_train)\n",
    "        predicted_valid  = model.predict(features_valid)\n",
    "        result=f1_score(target_valid, predicted_valid)\n",
    "        if result > best_result:\n",
    "            best_model = model\n",
    "            best_result = result\n",
    "            best_est = est\n",
    "            best_depth=depth\n",
    "print(\"F1 наилучшей модели на валидационной выборке:\", best_result,'est=',best_est, 'depth=',best_depth)\n",
    "probabilities_valid = best_model.predict_proba(features_valid)\n",
    "probabilities_one_valid = probabilities_valid[:, 1]\n",
    "auc_roc=roc_auc_score(target_valid, probabilities_one_valid)\n",
    "print('AUC-ROC:',auc_roc)"
   ]
  },
  {
   "cell_type": "code",
   "execution_count": 27,
   "metadata": {},
   "outputs": [
    {
     "name": "stdout",
     "output_type": "stream",
     "text": [
      "Wall time: 3min 45s\n"
     ]
    },
    {
     "data": {
      "text/plain": [
       "{'max_depth': 15, 'n_estimators': 30}"
      ]
     },
     "execution_count": 27,
     "metadata": {},
     "output_type": "execute_result"
    }
   ],
   "source": [
    "%%time\n",
    "model = RandomForestClassifier(random_state = 12345, min_samples_leaf = 2)\n",
    "parametrs = { 'n_estimators': range (20, 120, 10),\n",
    "              'max_depth': range (1,20)}\n",
    "grid = GridSearchCV(model, parametrs, cv=5, scoring = 'f1')\n",
    "grid.fit(features_train, target_train)\n",
    "grid.best_params_"
   ]
  },
  {
   "cell_type": "code",
   "execution_count": 28,
   "metadata": {},
   "outputs": [
    {
     "name": "stdout",
     "output_type": "stream",
     "text": [
      "F1 score для случайного леса по весрии Grid Search CSV: 0.5940959409594097\n"
     ]
    }
   ],
   "source": [
    "model = RandomForestClassifier(random_state=12345, n_estimators=100, max_depth=18, min_samples_leaf = 2,class_weight='balanced')\n",
    "model.fit(features_train,target_train)\n",
    "predicted_valid  = model.predict(features_valid)\n",
    "\n",
    "print('F1 score для случайного леса по весрии Grid Search CSV:',f1_score(target_valid, predicted_valid))"
   ]
  },
  {
   "cell_type": "code",
   "execution_count": 29,
   "metadata": {
    "scrolled": true
   },
   "outputs": [
    {
     "name": "stdout",
     "output_type": "stream",
     "text": [
      "F1 score для линейной регрессии после upsample: 0.34418604651162793\n",
      "F1 score для дерева решений после upsample: 0.5449936628643853\n",
      "F1 score для случайного леса после upsample: 0.6079734219269103\n"
     ]
    }
   ],
   "source": [
    "def upsample(features, target, repeat):\n",
    "    features_zeros = features[target == 0]\n",
    "    features_ones = features[target == 1]\n",
    "    target_zeros = target[target == 0]\n",
    "    target_ones = target[target == 1]\n",
    "\n",
    "    features_upsampled = pd.concat([features_zeros] + [features_ones] * repeat)\n",
    "    target_upsampled = pd.concat([target_zeros] + [target_ones] * repeat)\n",
    "    \n",
    "    features_upsampled, target_upsampled = shuffle(\n",
    "        features_upsampled, target_upsampled, random_state=12345)\n",
    "    \n",
    "    return features_upsampled, target_upsampled\n",
    "\n",
    "features_upsampled, target_upsampled = upsample(features_train, target_train, 10)\n",
    "model = LogisticRegression(random_state=12345,solver='liblinear') \n",
    "model.fit(features_upsampled, target_upsampled) \n",
    "predicted_valid=model.predict(features_valid) \n",
    "\n",
    "print(\"F1 score для линейной регрессии после upsample:\", f1_score(target_valid, predicted_valid))\n",
    "model = DecisionTreeClassifier(random_state=12345, max_depth=8,class_weight='balanced') \n",
    "model.fit(features_upsampled,target_upsampled) \n",
    "predicted_valid  = model.predict(features_valid)\n",
    "print('F1 score для дерева решений после upsample:',f1_score(target_valid, predicted_valid))\n",
    "model = RandomForestClassifier(random_state=12345, n_estimators=70,class_weight='balanced', max_depth=14)\n",
    "model.fit(features_upsampled,target_upsampled)\n",
    "predicted_valid  = model.predict(features_valid)\n",
    "print('F1 score для случайного леса после upsample:',f1_score(target_valid, predicted_valid))"
   ]
  },
  {
   "cell_type": "markdown",
   "metadata": {},
   "source": [
    "<i>У каждой из моделей показатели ухудшились </i>"
   ]
  },
  {
   "cell_type": "code",
   "execution_count": 30,
   "metadata": {
    "scrolled": true
   },
   "outputs": [
    {
     "name": "stdout",
     "output_type": "stream",
     "text": [
      "F1 score для линейной регрессии после downsample: 0.33906071019473083\n",
      "F1 score для дерева решений после downsample: 0.5221143473570657\n",
      "F1 score для случайного леса после downsample: 0.4529844644317253\n"
     ]
    }
   ],
   "source": [
    "def downsample(features, target, fraction):\n",
    "    features_zeros = features[target == 0]\n",
    "    features_ones = features[target == 1]\n",
    "    target_zeros = target[target == 0]\n",
    "    target_ones = target[target == 1]\n",
    "\n",
    "    features_downsampled = pd.concat(\n",
    "        [features_zeros.sample(frac=fraction, random_state=12345)] + [features_ones])\n",
    "    target_downsampled = pd.concat(\n",
    "        [target_zeros.sample(frac=fraction, random_state=12345)] + [target_ones])\n",
    "    \n",
    "    features_downsampled, target_downsampled = shuffle(\n",
    "        features_downsampled, target_downsampled, random_state=12345)\n",
    "    \n",
    "    return features_downsampled, target_downsampled\n",
    "\n",
    "features_downsampled, target_downsampled = downsample(features_train, target_train, 0.1)\n",
    "\n",
    "model = LogisticRegression(random_state=12345,solver='liblinear') \n",
    "model.fit(features_downsampled, target_downsampled) \n",
    "predicted_valid=model.predict(features_valid) \n",
    "print(\"F1 score для линейной регрессии после downsample:\", f1_score(target_valid, predicted_valid))\n",
    "model = DecisionTreeClassifier(random_state=12345, max_depth=8,class_weight='balanced') \n",
    "model.fit(features_downsampled,target_downsampled) \n",
    "predicted_valid  = model.predict(features_valid)\n",
    "print('F1 score для дерева решений после downsample:',f1_score(target_valid, predicted_valid))\n",
    "model = RandomForestClassifier(random_state=12345, n_estimators=70,class_weight='balanced', max_depth=14)\n",
    "model.fit(features_downsampled,target_downsampled)\n",
    "predicted_valid  = model.predict(features_valid)\n",
    "print('F1 score для случайного леса после downsample:',f1_score(target_valid, predicted_valid))\n"
   ]
  },
  {
   "cell_type": "markdown",
   "metadata": {},
   "source": [
    "<i>У каждой из моделей показатели ухудшились </i>"
   ]
  },
  {
   "cell_type": "markdown",
   "metadata": {},
   "source": [
    "<i>Мы достигли целевого показателя F1</i>"
   ]
  },
  {
   "cell_type": "markdown",
   "metadata": {},
   "source": [
    "<i><b>1.Самый лучший результат  показало дерево решений - 0.6237 max_depth= 11, est=110\n",
    "AUC-ROC: 0.85. AUC-ROC у нас гораздо больше 0.5(выдаче случайной модели), т.е. модель на адекватность уже проверена.<br> <br>2.Логистическая регрессия показала худший результат по F1 на нашей выборке, при этом еще показала себя как очень чувствительный как данным инструмент.</b></i>"
   ]
  },
  {
   "cell_type": "markdown",
   "metadata": {},
   "source": [
    "## Тестирование модели"
   ]
  },
  {
   "cell_type": "markdown",
   "metadata": {},
   "source": [
    "<i>Проверим модель на тестовой выборке </i>"
   ]
  },
  {
   "cell_type": "code",
   "execution_count": 31,
   "metadata": {},
   "outputs": [
    {
     "name": "stdout",
     "output_type": "stream",
     "text": [
      "F1 наилучшей модели на валидационнной выборке: 0.5983471074380164\n",
      "F1 наилучшей модели на тестовой выборке: 0.6438679245283019\n",
      "Wall time: 591 ms\n"
     ]
    }
   ],
   "source": [
    "%%time\n",
    "model = RandomForestClassifier(random_state=12345, n_estimators=110,min_samples_leaf = 2, max_depth=11,class_weight='balanced')\n",
    "model.fit(features_train,target_train)\n",
    "\n",
    "\n",
    "predicted_test  = model.predict(features_test)\n",
    "result_test=f1_score(target_test, predicted_test)\n",
    "\n",
    "predicted_valid  = model.predict(features_valid)\n",
    "result_valid=f1_score(target_valid, predicted_valid)        \n",
    "print(\"F1 наилучшей модели на валидационнной выборке:\", result_valid)\n",
    "print(\"F1 наилучшей модели на тестовой выборке:\", result_test)"
   ]
  },
  {
   "cell_type": "markdown",
   "metadata": {},
   "source": [
    "<i>На тестовой выборке результат немного выше, чем на валидационной."
   ]
  },
  {
   "cell_type": "code",
   "execution_count": 36,
   "metadata": {},
   "outputs": [
    {
     "data": {
      "text/html": [
       "<div>\n",
       "<style scoped>\n",
       "    .dataframe tbody tr th:only-of-type {\n",
       "        vertical-align: middle;\n",
       "    }\n",
       "\n",
       "    .dataframe tbody tr th {\n",
       "        vertical-align: top;\n",
       "    }\n",
       "\n",
       "    .dataframe thead th {\n",
       "        text-align: right;\n",
       "    }\n",
       "</style>\n",
       "<table border=\"1\" class=\"dataframe\">\n",
       "  <thead>\n",
       "    <tr style=\"text-align: right;\">\n",
       "      <th></th>\n",
       "      <th>Importance</th>\n",
       "    </tr>\n",
       "  </thead>\n",
       "  <tbody>\n",
       "    <tr>\n",
       "      <th>creditscore</th>\n",
       "      <td>0.096513</td>\n",
       "    </tr>\n",
       "    <tr>\n",
       "      <th>age</th>\n",
       "      <td>0.297939</td>\n",
       "    </tr>\n",
       "    <tr>\n",
       "      <th>tenure</th>\n",
       "      <td>0.058365</td>\n",
       "    </tr>\n",
       "    <tr>\n",
       "      <th>balance</th>\n",
       "      <td>0.129772</td>\n",
       "    </tr>\n",
       "    <tr>\n",
       "      <th>numofproducts</th>\n",
       "      <td>0.169526</td>\n",
       "    </tr>\n",
       "    <tr>\n",
       "      <th>hascrcard</th>\n",
       "      <td>0.013547</td>\n",
       "    </tr>\n",
       "    <tr>\n",
       "      <th>isactivemember</th>\n",
       "      <td>0.056236</td>\n",
       "    </tr>\n",
       "    <tr>\n",
       "      <th>estimatedsalary</th>\n",
       "      <td>0.097634</td>\n",
       "    </tr>\n",
       "    <tr>\n",
       "      <th>geography_Germany</th>\n",
       "      <td>0.046636</td>\n",
       "    </tr>\n",
       "    <tr>\n",
       "      <th>geography_Spain</th>\n",
       "      <td>0.010093</td>\n",
       "    </tr>\n",
       "    <tr>\n",
       "      <th>gender_Male</th>\n",
       "      <td>0.023739</td>\n",
       "    </tr>\n",
       "  </tbody>\n",
       "</table>\n",
       "</div>"
      ],
      "text/plain": [
       "                   Importance\n",
       "creditscore          0.096513\n",
       "age                  0.297939\n",
       "tenure               0.058365\n",
       "balance              0.129772\n",
       "numofproducts        0.169526\n",
       "hascrcard            0.013547\n",
       "isactivemember       0.056236\n",
       "estimatedsalary      0.097634\n",
       "geography_Germany    0.046636\n",
       "geography_Spain      0.010093\n",
       "gender_Male          0.023739"
      ]
     },
     "execution_count": 36,
     "metadata": {},
     "output_type": "execute_result"
    }
   ],
   "source": [
    "feat_importances"
   ]
  },
  {
   "cell_type": "code",
   "execution_count": 41,
   "metadata": {},
   "outputs": [
    {
     "data": {
      "image/png": "[encoded data removed]",
      "text/plain": [
       "<Figure size 1080x288 with 1 Axes>"
      ]
     },
     "metadata": {},
     "output_type": "display_data"
    }
   ],
   "source": [
    "\n",
    "feat_importances = pd.DataFrame(model.feature_importances_, index=features_train.columns, columns=[\"Importance\"]).sort_values(by='Importance',ascending=False)\n",
    "sns.set_theme(style=\"whitegrid\")\n",
    "sns.barplot(data=feat_importances,x=feat_importances.values.T.reshape(11), y =feat_importances.index,palette='hls',saturation=1 )\n",
    "plt.rcParams['figure.figsize']=(19,4)"
   ]
  },
  {
   "cell_type": "markdown",
   "metadata": {},
   "source": [
    "<i>Как видим из Feature_impportances_, самый важным фактором оказались возраст, число продуктов банка, банас и примерная зарплата.</i>"
   ]
  }
 ],
 "metadata": {
  "ExecuteTimeLog": [
   {
    "duration": 1369,
    "start_time": "2021-09-01T06:59:42.451Z"
   },
   {
    "duration": 74,
    "start_time": "2021-09-01T07:00:43.350Z"
   },
   {
    "duration": 1914,
    "start_time": "2021-09-02T06:27:50.136Z"
   },
   {
    "duration": 68,
    "start_time": "2021-09-02T06:27:52.055Z"
   },
   {
    "duration": 4,
    "start_time": "2021-09-02T06:31:31.521Z"
   },
   {
    "duration": 632,
    "start_time": "2021-09-02T06:31:50.148Z"
   },
   {
    "duration": 56,
    "start_time": "2021-09-02T06:31:55.500Z"
   },
   {
    "duration": 487,
    "start_time": "2021-09-02T06:31:58.692Z"
   },
   {
    "duration": 4,
    "start_time": "2021-09-02T06:32:07.821Z"
   },
   {
    "duration": 57,
    "start_time": "2021-09-02T06:32:10.140Z"
   },
   {
    "duration": 453,
    "start_time": "2021-09-02T06:32:13.830Z"
   },
   {
    "duration": 407,
    "start_time": "2021-09-02T06:32:35.581Z"
   },
   {
    "duration": 470,
    "start_time": "2021-09-02T06:32:38.493Z"
   },
   {
    "duration": 415,
    "start_time": "2021-09-02T06:32:47.124Z"
   },
   {
    "duration": 5,
    "start_time": "2021-09-02T06:32:54.542Z"
   },
   {
    "duration": 61,
    "start_time": "2021-09-02T06:32:54.549Z"
   },
   {
    "duration": 530,
    "start_time": "2021-09-02T06:32:54.613Z"
   },
   {
    "duration": -1459,
    "start_time": "2021-09-02T06:32:56.604Z"
   },
   {
    "duration": 71,
    "start_time": "2021-09-02T06:33:07.416Z"
   },
   {
    "duration": 498,
    "start_time": "2021-09-02T06:33:11.816Z"
   },
   {
    "duration": 23,
    "start_time": "2021-09-02T06:33:24.058Z"
   },
   {
    "duration": 62,
    "start_time": "2021-09-02T06:33:26.132Z"
   },
   {
    "duration": 447,
    "start_time": "2021-09-02T06:33:28.825Z"
   },
   {
    "duration": 858,
    "start_time": "2021-09-02T06:36:07.835Z"
   },
   {
    "duration": 844,
    "start_time": "2021-09-02T06:41:11.462Z"
   },
   {
    "duration": 9,
    "start_time": "2021-09-02T06:41:23.174Z"
   },
   {
    "duration": 852,
    "start_time": "2021-09-02T06:42:55.642Z"
   },
   {
    "duration": 314,
    "start_time": "2021-09-02T06:42:59.594Z"
   },
   {
    "duration": 2159,
    "start_time": "2021-09-02T06:43:00.969Z"
   },
   {
    "duration": 60,
    "start_time": "2021-09-02T06:45:13.636Z"
   },
   {
    "duration": 894,
    "start_time": "2021-09-02T06:46:32.339Z"
   },
   {
    "duration": 11,
    "start_time": "2021-09-02T06:46:37.667Z"
   },
   {
    "duration": 36,
    "start_time": "2021-09-02T06:47:24.306Z"
   },
   {
    "duration": 58,
    "start_time": "2021-09-02T06:48:16.217Z"
   },
   {
    "duration": 10,
    "start_time": "2021-09-02T06:49:32.032Z"
   },
   {
    "duration": 595,
    "start_time": "2021-09-02T06:55:33.853Z"
   },
   {
    "duration": 573,
    "start_time": "2021-09-02T06:55:49.568Z"
   },
   {
    "duration": 356,
    "start_time": "2021-09-02T07:00:12.027Z"
   },
   {
    "duration": 341,
    "start_time": "2021-09-02T07:01:06.001Z"
   },
   {
    "duration": 494,
    "start_time": "2021-09-02T07:01:14.267Z"
   },
   {
    "duration": 989,
    "start_time": "2021-09-02T07:04:50.874Z"
   },
   {
    "duration": 13,
    "start_time": "2021-09-02T07:04:59.984Z"
   },
   {
    "duration": 19,
    "start_time": "2021-09-02T07:05:28.808Z"
   },
   {
    "duration": 26,
    "start_time": "2021-09-02T07:05:37.312Z"
   },
   {
    "duration": 215,
    "start_time": "2021-09-02T07:09:05.765Z"
   },
   {
    "duration": 25764,
    "start_time": "2021-09-02T07:09:10.142Z"
   },
   {
    "duration": 250,
    "start_time": "2021-09-02T07:09:51.247Z"
   },
   {
    "duration": 8,
    "start_time": "2021-09-02T07:10:04.779Z"
   },
   {
    "duration": 24208,
    "start_time": "2021-09-02T07:10:24.970Z"
   },
   {
    "duration": -1525,
    "start_time": "2021-09-02T07:10:50.707Z"
   },
   {
    "duration": -1528,
    "start_time": "2021-09-02T07:10:50.711Z"
   },
   {
    "duration": -1531,
    "start_time": "2021-09-02T07:10:50.716Z"
   },
   {
    "duration": -1532,
    "start_time": "2021-09-02T07:10:50.718Z"
   },
   {
    "duration": -1533,
    "start_time": "2021-09-02T07:10:50.721Z"
   },
   {
    "duration": -1534,
    "start_time": "2021-09-02T07:10:50.723Z"
   },
   {
    "duration": -1534,
    "start_time": "2021-09-02T07:10:50.725Z"
   },
   {
    "duration": -1535,
    "start_time": "2021-09-02T07:10:50.727Z"
   },
   {
    "duration": -1535,
    "start_time": "2021-09-02T07:10:50.729Z"
   },
   {
    "duration": 8,
    "start_time": "2021-09-02T07:11:15.350Z"
   },
   {
    "duration": 359,
    "start_time": "2021-09-02T07:11:30.690Z"
   },
   {
    "duration": 5,
    "start_time": "2021-09-02T07:11:35.505Z"
   },
   {
    "duration": 53,
    "start_time": "2021-09-02T07:11:37.142Z"
   },
   {
    "duration": 63,
    "start_time": "2021-09-02T07:11:41.519Z"
   },
   {
    "duration": 36,
    "start_time": "2021-09-02T07:11:48.303Z"
   },
   {
    "duration": 60,
    "start_time": "2021-09-02T07:11:48.657Z"
   },
   {
    "duration": 559,
    "start_time": "2021-09-02T07:11:51.180Z"
   },
   {
    "duration": 366,
    "start_time": "2021-09-02T07:11:53.846Z"
   },
   {
    "duration": 27,
    "start_time": "2021-09-02T07:11:56.857Z"
   },
   {
    "duration": 7,
    "start_time": "2021-09-02T07:11:59.933Z"
   },
   {
    "duration": 298,
    "start_time": "2021-09-02T07:12:17.441Z"
   },
   {
    "duration": 11,
    "start_time": "2021-09-02T07:12:23.297Z"
   },
   {
    "duration": 11,
    "start_time": "2021-09-02T07:13:05.092Z"
   },
   {
    "duration": 9,
    "start_time": "2021-09-02T07:26:38.571Z"
   },
   {
    "duration": 302,
    "start_time": "2021-09-02T07:26:43.570Z"
   },
   {
    "duration": 1710,
    "start_time": "2021-09-02T07:26:46.433Z"
   },
   {
    "duration": 1627,
    "start_time": "2021-09-02T07:30:17.134Z"
   },
   {
    "duration": 1739,
    "start_time": "2021-09-02T07:30:38.508Z"
   },
   {
    "duration": 1105,
    "start_time": "2021-09-02T07:32:57.825Z"
   },
   {
    "duration": 5,
    "start_time": "2021-09-02T07:33:02.406Z"
   },
   {
    "duration": 38,
    "start_time": "2021-09-02T07:33:07.045Z"
   },
   {
    "duration": 5,
    "start_time": "2021-09-02T07:35:05.073Z"
   },
   {
    "duration": 39,
    "start_time": "2021-09-02T07:37:11.507Z"
   },
   {
    "duration": 327,
    "start_time": "2021-09-02T07:40:04.468Z"
   },
   {
    "duration": 6,
    "start_time": "2021-09-02T07:44:33.534Z"
   },
   {
    "duration": 10,
    "start_time": "2021-09-02T07:45:00.748Z"
   },
   {
    "duration": 6,
    "start_time": "2021-09-02T13:42:46.472Z"
   },
   {
    "duration": 92,
    "start_time": "2021-09-02T13:42:46.481Z"
   },
   {
    "duration": 100,
    "start_time": "2021-09-02T13:42:46.577Z"
   },
   {
    "duration": 42,
    "start_time": "2021-09-02T13:42:46.680Z"
   },
   {
    "duration": 82,
    "start_time": "2021-09-02T13:42:46.725Z"
   },
   {
    "duration": 9,
    "start_time": "2021-09-02T13:42:46.809Z"
   },
   {
    "duration": 577,
    "start_time": "2021-09-02T13:42:46.820Z"
   },
   {
    "duration": 365,
    "start_time": "2021-09-02T13:42:47.400Z"
   },
   {
    "duration": 27,
    "start_time": "2021-09-02T13:42:47.769Z"
   },
   {
    "duration": 8,
    "start_time": "2021-09-02T13:42:47.799Z"
   },
   {
    "duration": 52,
    "start_time": "2021-09-02T13:42:47.810Z"
   },
   {
    "duration": 8,
    "start_time": "2021-09-02T13:42:47.864Z"
   },
   {
    "duration": 41,
    "start_time": "2021-09-02T13:42:47.874Z"
   },
   {
    "duration": 290,
    "start_time": "2021-09-02T13:42:47.918Z"
   },
   {
    "duration": 1724,
    "start_time": "2021-09-02T13:42:48.210Z"
   },
   {
    "duration": 61,
    "start_time": "2021-09-02T13:42:49.937Z"
   },
   {
    "duration": 61,
    "start_time": "2021-09-02T13:42:50.000Z"
   },
   {
    "duration": 10,
    "start_time": "2021-09-02T13:42:50.063Z"
   },
   {
    "duration": 62,
    "start_time": "2021-09-02T13:42:52.140Z"
   },
   {
    "duration": 5,
    "start_time": "2021-09-02T13:45:26.090Z"
   },
   {
    "duration": 1301,
    "start_time": "2021-09-02T13:47:09.937Z"
   },
   {
    "duration": 21,
    "start_time": "2021-09-02T13:47:28.559Z"
   },
   {
    "duration": 44,
    "start_time": "2021-09-02T13:47:45.601Z"
   },
   {
    "duration": 49,
    "start_time": "2021-09-02T13:48:46.720Z"
   },
   {
    "duration": 1782,
    "start_time": "2021-09-02T13:49:31.316Z"
   },
   {
    "duration": 56,
    "start_time": "2021-09-02T13:51:05.026Z"
   },
   {
    "duration": 1546,
    "start_time": "2021-09-02T13:51:15.874Z"
   },
   {
    "duration": 1140,
    "start_time": "2021-09-02T13:53:51.169Z"
   },
   {
    "duration": 189,
    "start_time": "2021-09-02T13:54:00.941Z"
   },
   {
    "duration": 49,
    "start_time": "2021-09-02T13:54:24.760Z"
   },
   {
    "duration": 1073,
    "start_time": "2021-09-02T13:56:07.355Z"
   },
   {
    "duration": 896,
    "start_time": "2021-09-02T13:59:32.514Z"
   },
   {
    "duration": 19,
    "start_time": "2021-09-02T13:59:52.569Z"
   },
   {
    "duration": 11,
    "start_time": "2021-09-02T14:00:11.537Z"
   },
   {
    "duration": 1087,
    "start_time": "2021-09-02T14:00:27.360Z"
   },
   {
    "duration": 10,
    "start_time": "2021-09-02T14:00:43.096Z"
   },
   {
    "duration": 8,
    "start_time": "2021-09-02T14:01:07.904Z"
   },
   {
    "duration": 10,
    "start_time": "2021-09-02T14:01:29.576Z"
   },
   {
    "duration": 422,
    "start_time": "2021-09-02T14:02:54.146Z"
   },
   {
    "duration": 1242,
    "start_time": "2021-09-02T14:03:00.375Z"
   },
   {
    "duration": 8,
    "start_time": "2021-09-02T14:03:13.299Z"
   },
   {
    "duration": 875,
    "start_time": "2021-09-02T14:03:20.890Z"
   },
   {
    "duration": 993,
    "start_time": "2021-09-02T14:03:40.775Z"
   },
   {
    "duration": 1645,
    "start_time": "2021-09-02T14:03:54.430Z"
   },
   {
    "duration": 7,
    "start_time": "2021-09-02T14:04:39.217Z"
   },
   {
    "duration": 2568,
    "start_time": "2021-09-02T14:05:11.189Z"
   },
   {
    "duration": 394,
    "start_time": "2021-09-02T14:05:40.069Z"
   },
   {
    "duration": 362,
    "start_time": "2021-09-03T06:38:12.801Z"
   },
   {
    "duration": 1061,
    "start_time": "2021-09-03T06:38:17.951Z"
   },
   {
    "duration": 46,
    "start_time": "2021-09-03T06:38:19.014Z"
   },
   {
    "duration": 36,
    "start_time": "2021-09-03T06:38:19.063Z"
   },
   {
    "duration": 20,
    "start_time": "2021-09-03T06:38:19.101Z"
   },
   {
    "duration": 33,
    "start_time": "2021-09-03T06:38:19.123Z"
   },
   {
    "duration": 6,
    "start_time": "2021-09-03T06:38:19.158Z"
   },
   {
    "duration": 315,
    "start_time": "2021-09-03T06:38:19.192Z"
   },
   {
    "duration": 211,
    "start_time": "2021-09-03T06:38:19.509Z"
   },
   {
    "duration": 16,
    "start_time": "2021-09-03T06:38:19.724Z"
   },
   {
    "duration": 5,
    "start_time": "2021-09-03T06:38:19.742Z"
   },
   {
    "duration": 11,
    "start_time": "2021-09-03T06:38:19.749Z"
   },
   {
    "duration": 14,
    "start_time": "2021-09-03T06:38:19.761Z"
   },
   {
    "duration": 10,
    "start_time": "2021-09-03T06:38:19.791Z"
   },
   {
    "duration": 205,
    "start_time": "2021-09-03T06:38:19.803Z"
   },
   {
    "duration": 1487,
    "start_time": "2021-09-03T06:38:20.010Z"
   },
   {
    "duration": 41,
    "start_time": "2021-09-03T06:38:21.499Z"
   },
   {
    "duration": 59,
    "start_time": "2021-09-03T06:38:21.542Z"
   },
   {
    "duration": 8,
    "start_time": "2021-09-03T06:38:21.603Z"
   },
   {
    "duration": 38,
    "start_time": "2021-09-03T06:38:21.613Z"
   },
   {
    "duration": 60,
    "start_time": "2021-09-03T06:38:21.654Z"
   },
   {
    "duration": 1286,
    "start_time": "2021-09-03T06:38:21.716Z"
   },
   {
    "duration": 36,
    "start_time": "2021-09-03T06:38:23.004Z"
   },
   {
    "duration": 914,
    "start_time": "2021-09-03T06:38:23.042Z"
   },
   {
    "duration": 9,
    "start_time": "2021-09-03T06:38:23.957Z"
   },
   {
    "duration": 8,
    "start_time": "2021-09-03T06:38:23.967Z"
   },
   {
    "duration": 6,
    "start_time": "2021-09-03T06:38:23.992Z"
   },
   {
    "duration": 8,
    "start_time": "2021-09-03T06:38:24.002Z"
   },
   {
    "duration": 789,
    "start_time": "2021-09-03T06:38:24.011Z"
   },
   {
    "duration": 1795,
    "start_time": "2021-09-03T06:38:24.802Z"
   },
   {
    "duration": 499,
    "start_time": "2021-09-03T06:38:26.601Z"
   },
   {
    "duration": 892,
    "start_time": "2021-09-03T06:42:46.309Z"
   },
   {
    "duration": 1678,
    "start_time": "2021-09-03T06:43:50.841Z"
   },
   {
    "duration": 10616,
    "start_time": "2021-09-03T06:44:06.647Z"
   },
   {
    "duration": 10094,
    "start_time": "2021-09-03T06:44:30.832Z"
   },
   {
    "duration": 11098,
    "start_time": "2021-09-03T06:45:16.496Z"
   },
   {
    "duration": 455,
    "start_time": "2021-09-03T06:46:59.232Z"
   },
   {
    "duration": 11,
    "start_time": "2021-09-03T06:47:16.171Z"
   },
   {
    "duration": 1087,
    "start_time": "2021-09-03T06:58:15.105Z"
   },
   {
    "duration": 56,
    "start_time": "2021-09-03T06:58:16.194Z"
   },
   {
    "duration": 44,
    "start_time": "2021-09-03T06:58:16.252Z"
   },
   {
    "duration": 20,
    "start_time": "2021-09-03T06:58:16.298Z"
   },
   {
    "duration": 34,
    "start_time": "2021-09-03T06:58:16.320Z"
   },
   {
    "duration": 6,
    "start_time": "2021-09-03T06:58:16.356Z"
   },
   {
    "duration": 341,
    "start_time": "2021-09-03T06:58:16.364Z"
   },
   {
    "duration": 228,
    "start_time": "2021-09-03T06:58:16.707Z"
   },
   {
    "duration": 27,
    "start_time": "2021-09-03T06:58:16.938Z"
   },
   {
    "duration": 24,
    "start_time": "2021-09-03T06:58:16.967Z"
   },
   {
    "duration": 8,
    "start_time": "2021-09-03T06:58:16.994Z"
   },
   {
    "duration": 218,
    "start_time": "2021-09-03T06:58:17.004Z"
   },
   {
    "duration": 1581,
    "start_time": "2021-09-03T06:58:17.224Z"
   },
   {
    "duration": 43,
    "start_time": "2021-09-03T06:58:18.807Z"
   },
   {
    "duration": 65,
    "start_time": "2021-09-03T06:58:18.851Z"
   },
   {
    "duration": 9,
    "start_time": "2021-09-03T06:58:18.918Z"
   },
   {
    "duration": 40,
    "start_time": "2021-09-03T06:58:18.929Z"
   },
   {
    "duration": 54,
    "start_time": "2021-09-03T06:58:18.970Z"
   },
   {
    "duration": 1609,
    "start_time": "2021-09-03T06:58:19.026Z"
   },
   {
    "duration": 40,
    "start_time": "2021-09-03T06:58:20.637Z"
   },
   {
    "duration": 1018,
    "start_time": "2021-09-03T06:58:20.678Z"
   },
   {
    "duration": 8,
    "start_time": "2021-09-03T06:58:21.697Z"
   },
   {
    "duration": 12,
    "start_time": "2021-09-03T06:58:21.708Z"
   },
   {
    "duration": 11,
    "start_time": "2021-09-03T06:58:21.721Z"
   },
   {
    "duration": 8,
    "start_time": "2021-09-03T06:58:21.733Z"
   },
   {
    "duration": 755,
    "start_time": "2021-09-03T06:58:21.743Z"
   },
   {
    "duration": 1893,
    "start_time": "2021-09-03T06:58:22.500Z"
   },
   {
    "duration": 410,
    "start_time": "2021-09-03T06:58:24.396Z"
   },
   {
    "duration": 1163,
    "start_time": "2021-09-03T06:58:24.808Z"
   },
   {
    "duration": 12019,
    "start_time": "2021-09-03T06:58:25.973Z"
   },
   {
    "duration": 81,
    "start_time": "2021-09-03T06:58:37.994Z"
   },
   {
    "duration": 13067,
    "start_time": "2021-09-03T07:00:36.720Z"
   },
   {
    "duration": 6682,
    "start_time": "2021-09-03T07:00:58.072Z"
   },
   {
    "duration": 2526,
    "start_time": "2021-09-03T07:01:19.353Z"
   },
   {
    "duration": 1445,
    "start_time": "2021-09-03T07:01:33.687Z"
   },
   {
    "duration": 15417,
    "start_time": "2021-09-03T07:01:42.432Z"
   },
   {
    "duration": 41287,
    "start_time": "2021-09-03T07:03:05.413Z"
   },
   {
    "duration": 287,
    "start_time": "2021-09-03T07:05:06.638Z"
   },
   {
    "duration": 532,
    "start_time": "2021-09-03T07:05:15.230Z"
   },
   {
    "duration": 10890,
    "start_time": "2021-09-03T07:05:25.558Z"
   },
   {
    "duration": 210,
    "start_time": "2021-09-03T07:05:36.450Z"
   },
   {
    "duration": 192,
    "start_time": "2021-09-03T07:06:19.500Z"
   },
   {
    "duration": 267,
    "start_time": "2021-09-03T07:06:23.552Z"
   },
   {
    "duration": 9270,
    "start_time": "2021-09-03T07:06:41.264Z"
   },
   {
    "duration": 41908,
    "start_time": "2021-09-03T07:07:02.059Z"
   },
   {
    "duration": 243,
    "start_time": "2021-09-03T07:19:13.087Z"
   },
   {
    "duration": 4,
    "start_time": "2021-09-03T07:19:34.418Z"
   },
   {
    "duration": 258,
    "start_time": "2021-09-03T07:20:00.972Z"
   },
   {
    "duration": 245,
    "start_time": "2021-09-03T07:20:44.828Z"
   },
   {
    "duration": 8,
    "start_time": "2021-09-03T07:21:00.395Z"
   },
   {
    "duration": 263,
    "start_time": "2021-09-03T07:21:39.779Z"
   },
   {
    "duration": 238,
    "start_time": "2021-09-03T07:22:02.914Z"
   },
   {
    "duration": 5,
    "start_time": "2021-09-03T07:26:29.540Z"
   },
   {
    "duration": 242,
    "start_time": "2021-09-03T07:26:32.987Z"
   },
   {
    "duration": 6,
    "start_time": "2021-09-03T07:26:49.014Z"
   },
   {
    "duration": 8,
    "start_time": "2021-09-03T07:26:56.433Z"
   },
   {
    "duration": 10,
    "start_time": "2021-09-03T07:27:31.416Z"
   },
   {
    "duration": 3047,
    "start_time": "2021-09-03T08:14:34.480Z"
   },
   {
    "duration": 3147,
    "start_time": "2021-09-03T08:15:02.124Z"
   },
   {
    "duration": 8985,
    "start_time": "2021-09-03T08:16:07.016Z"
   },
   {
    "duration": 41563,
    "start_time": "2021-09-03T09:01:29.128Z"
   },
   {
    "duration": 82,
    "start_time": "2021-09-03T09:20:36.699Z"
   },
   {
    "duration": 276,
    "start_time": "2021-09-03T09:20:41.962Z"
   },
   {
    "duration": 10,
    "start_time": "2021-09-03T09:21:22.997Z"
   },
   {
    "duration": 14,
    "start_time": "2021-09-03T09:22:56.069Z"
   },
   {
    "duration": 22,
    "start_time": "2021-09-03T09:24:01.652Z"
   },
   {
    "duration": 12,
    "start_time": "2021-09-03T09:24:10.510Z"
   },
   {
    "duration": 30,
    "start_time": "2021-09-03T09:24:33.717Z"
   },
   {
    "duration": 8,
    "start_time": "2021-09-03T09:24:36.423Z"
   },
   {
    "duration": 332,
    "start_time": "2021-09-03T09:24:47.966Z"
   },
   {
    "duration": 315,
    "start_time": "2021-09-03T09:25:13.114Z"
   },
   {
    "duration": 16,
    "start_time": "2021-09-03T09:25:27.507Z"
   },
   {
    "duration": 6,
    "start_time": "2021-09-03T09:25:34.058Z"
   },
   {
    "duration": 9,
    "start_time": "2021-09-03T09:25:37.651Z"
   },
   {
    "duration": 90,
    "start_time": "2021-09-03T09:25:56.386Z"
   },
   {
    "duration": 7,
    "start_time": "2021-09-03T09:26:07.190Z"
   },
   {
    "duration": 54,
    "start_time": "2021-09-03T09:26:07.199Z"
   },
   {
    "duration": 12,
    "start_time": "2021-09-03T09:26:07.255Z"
   },
   {
    "duration": 27,
    "start_time": "2021-09-03T09:26:07.269Z"
   },
   {
    "duration": 124,
    "start_time": "2021-09-03T09:26:07.298Z"
   },
   {
    "duration": 6709,
    "start_time": "2021-09-03T09:26:07.424Z"
   },
   {
    "duration": -1225,
    "start_time": "2021-09-03T09:26:15.362Z"
   },
   {
    "duration": -1228,
    "start_time": "2021-09-03T09:26:15.366Z"
   },
   {
    "duration": -1228,
    "start_time": "2021-09-03T09:26:15.368Z"
   },
   {
    "duration": -1230,
    "start_time": "2021-09-03T09:26:15.371Z"
   },
   {
    "duration": -1231,
    "start_time": "2021-09-03T09:26:15.373Z"
   },
   {
    "duration": -1233,
    "start_time": "2021-09-03T09:26:15.377Z"
   },
   {
    "duration": -1236,
    "start_time": "2021-09-03T09:26:15.381Z"
   },
   {
    "duration": -1238,
    "start_time": "2021-09-03T09:26:15.384Z"
   },
   {
    "duration": -1240,
    "start_time": "2021-09-03T09:26:15.387Z"
   },
   {
    "duration": -1241,
    "start_time": "2021-09-03T09:26:15.390Z"
   },
   {
    "duration": -1241,
    "start_time": "2021-09-03T09:26:15.392Z"
   },
   {
    "duration": -1243,
    "start_time": "2021-09-03T09:26:15.395Z"
   },
   {
    "duration": -1248,
    "start_time": "2021-09-03T09:26:15.401Z"
   },
   {
    "duration": -1249,
    "start_time": "2021-09-03T09:26:15.404Z"
   },
   {
    "duration": -1251,
    "start_time": "2021-09-03T09:26:15.407Z"
   },
   {
    "duration": -1254,
    "start_time": "2021-09-03T09:26:15.411Z"
   },
   {
    "duration": -1256,
    "start_time": "2021-09-03T09:26:15.415Z"
   },
   {
    "duration": -1259,
    "start_time": "2021-09-03T09:26:15.419Z"
   },
   {
    "duration": -1260,
    "start_time": "2021-09-03T09:26:15.422Z"
   },
   {
    "duration": -1262,
    "start_time": "2021-09-03T09:26:15.425Z"
   },
   {
    "duration": -1263,
    "start_time": "2021-09-03T09:26:15.428Z"
   },
   {
    "duration": -1265,
    "start_time": "2021-09-03T09:26:15.431Z"
   },
   {
    "duration": -1267,
    "start_time": "2021-09-03T09:26:15.434Z"
   },
   {
    "duration": -1269,
    "start_time": "2021-09-03T09:26:15.438Z"
   },
   {
    "duration": -1272,
    "start_time": "2021-09-03T09:26:15.442Z"
   },
   {
    "duration": -1277,
    "start_time": "2021-09-03T09:26:15.449Z"
   },
   {
    "duration": -1280,
    "start_time": "2021-09-03T09:26:15.453Z"
   },
   {
    "duration": -1283,
    "start_time": "2021-09-03T09:26:15.457Z"
   },
   {
    "duration": -1285,
    "start_time": "2021-09-03T09:26:15.460Z"
   },
   {
    "duration": 22,
    "start_time": "2021-09-03T09:26:31.634Z"
   },
   {
    "duration": 23,
    "start_time": "2021-09-03T09:26:40.216Z"
   },
   {
    "duration": 35,
    "start_time": "2021-09-03T09:26:40.241Z"
   },
   {
    "duration": 14,
    "start_time": "2021-09-03T09:26:40.278Z"
   },
   {
    "duration": 339,
    "start_time": "2021-09-03T09:26:40.294Z"
   },
   {
    "duration": 219,
    "start_time": "2021-09-03T09:26:40.635Z"
   },
   {
    "duration": 17,
    "start_time": "2021-09-03T09:26:40.856Z"
   },
   {
    "duration": 25,
    "start_time": "2021-09-03T09:26:40.874Z"
   },
   {
    "duration": 13,
    "start_time": "2021-09-03T09:26:40.903Z"
   },
   {
    "duration": 208,
    "start_time": "2021-09-03T09:26:40.919Z"
   },
   {
    "duration": 86,
    "start_time": "2021-09-03T09:26:41.129Z"
   },
   {
    "duration": -1181,
    "start_time": "2021-09-03T09:26:42.398Z"
   },
   {
    "duration": -1184,
    "start_time": "2021-09-03T09:26:42.402Z"
   },
   {
    "duration": -1186,
    "start_time": "2021-09-03T09:26:42.405Z"
   },
   {
    "duration": -1194,
    "start_time": "2021-09-03T09:26:42.414Z"
   },
   {
    "duration": -1197,
    "start_time": "2021-09-03T09:26:42.418Z"
   },
   {
    "duration": -1200,
    "start_time": "2021-09-03T09:26:42.422Z"
   },
   {
    "duration": -1204,
    "start_time": "2021-09-03T09:26:42.426Z"
   },
   {
    "duration": -1215,
    "start_time": "2021-09-03T09:26:42.438Z"
   },
   {
    "duration": -1218,
    "start_time": "2021-09-03T09:26:42.442Z"
   },
   {
    "duration": -1220,
    "start_time": "2021-09-03T09:26:42.445Z"
   },
   {
    "duration": -1222,
    "start_time": "2021-09-03T09:26:42.448Z"
   },
   {
    "duration": -1225,
    "start_time": "2021-09-03T09:26:42.452Z"
   },
   {
    "duration": -1226,
    "start_time": "2021-09-03T09:26:42.454Z"
   },
   {
    "duration": -1229,
    "start_time": "2021-09-03T09:26:42.458Z"
   },
   {
    "duration": -1232,
    "start_time": "2021-09-03T09:26:42.462Z"
   },
   {
    "duration": -1238,
    "start_time": "2021-09-03T09:26:42.469Z"
   },
   {
    "duration": -1242,
    "start_time": "2021-09-03T09:26:42.473Z"
   },
   {
    "duration": -1244,
    "start_time": "2021-09-03T09:26:42.477Z"
   },
   {
    "duration": -1247,
    "start_time": "2021-09-03T09:26:42.481Z"
   },
   {
    "duration": -1252,
    "start_time": "2021-09-03T09:26:42.487Z"
   },
   {
    "duration": 1204,
    "start_time": "2021-09-03T09:29:28.407Z"
   },
   {
    "duration": 38,
    "start_time": "2021-09-03T09:29:32.995Z"
   },
   {
    "duration": 39,
    "start_time": "2021-09-03T09:29:36.441Z"
   },
   {
    "duration": 8,
    "start_time": "2021-09-03T09:29:38.123Z"
   },
   {
    "duration": 30,
    "start_time": "2021-09-03T09:30:09.910Z"
   },
   {
    "duration": 1070,
    "start_time": "2021-09-03T09:30:14.715Z"
   },
   {
    "duration": 38,
    "start_time": "2021-09-03T09:30:20.047Z"
   },
   {
    "duration": 928,
    "start_time": "2021-09-03T09:30:23.143Z"
   },
   {
    "duration": 8,
    "start_time": "2021-09-03T09:30:46.744Z"
   },
   {
    "duration": 746,
    "start_time": "2021-09-03T09:30:54.947Z"
   },
   {
    "duration": 1762,
    "start_time": "2021-09-03T09:31:00.031Z"
   },
   {
    "duration": 308,
    "start_time": "2021-09-03T09:31:03.091Z"
   },
   {
    "duration": 899,
    "start_time": "2021-09-03T09:31:08.770Z"
   },
   {
    "duration": 38816,
    "start_time": "2021-09-03T09:31:14.635Z"
   },
   {
    "duration": 2434,
    "start_time": "2021-09-03T09:32:32.038Z"
   },
   {
    "duration": 10293,
    "start_time": "2021-09-03T09:32:50.418Z"
   },
   {
    "duration": 647,
    "start_time": "2021-09-03T09:34:00.501Z"
   },
   {
    "duration": 5,
    "start_time": "2021-09-03T09:35:11.024Z"
   },
   {
    "duration": 52,
    "start_time": "2021-09-03T09:35:11.030Z"
   },
   {
    "duration": 14,
    "start_time": "2021-09-03T09:35:11.085Z"
   },
   {
    "duration": 15,
    "start_time": "2021-09-03T09:35:11.101Z"
   },
   {
    "duration": 38,
    "start_time": "2021-09-03T09:35:11.118Z"
   },
   {
    "duration": 34,
    "start_time": "2021-09-03T09:35:11.158Z"
   },
   {
    "duration": 35,
    "start_time": "2021-09-03T09:35:11.194Z"
   },
   {
    "duration": 6,
    "start_time": "2021-09-03T09:35:11.232Z"
   },
   {
    "duration": 443,
    "start_time": "2021-09-03T09:35:11.240Z"
   },
   {
    "duration": 209,
    "start_time": "2021-09-03T09:35:11.685Z"
   },
   {
    "duration": 18,
    "start_time": "2021-09-03T09:35:11.895Z"
   },
   {
    "duration": 5,
    "start_time": "2021-09-03T09:35:11.915Z"
   },
   {
    "duration": 13,
    "start_time": "2021-09-03T09:35:11.922Z"
   },
   {
    "duration": 201,
    "start_time": "2021-09-03T09:35:11.937Z"
   },
   {
    "duration": 1192,
    "start_time": "2021-09-03T09:35:12.140Z"
   },
   {
    "duration": 38,
    "start_time": "2021-09-03T09:35:13.333Z"
   },
   {
    "duration": 51,
    "start_time": "2021-09-03T09:35:13.373Z"
   },
   {
    "duration": 9,
    "start_time": "2021-09-03T09:35:13.426Z"
   },
   {
    "duration": 57,
    "start_time": "2021-09-03T09:35:13.437Z"
   },
   {
    "duration": 2,
    "start_time": "2021-09-03T09:35:13.497Z"
   },
   {
    "duration": 1026,
    "start_time": "2021-09-03T09:35:13.501Z"
   },
   {
    "duration": 37,
    "start_time": "2021-09-03T09:35:14.529Z"
   },
   {
    "duration": 870,
    "start_time": "2021-09-03T09:35:14.570Z"
   },
   {
    "duration": 7,
    "start_time": "2021-09-03T09:35:15.442Z"
   },
   {
    "duration": 12,
    "start_time": "2021-09-03T09:35:15.451Z"
   },
   {
    "duration": 12,
    "start_time": "2021-09-03T09:35:15.465Z"
   },
   {
    "duration": 14,
    "start_time": "2021-09-03T09:35:15.479Z"
   },
   {
    "duration": 797,
    "start_time": "2021-09-03T09:35:15.495Z"
   },
   {
    "duration": 1600,
    "start_time": "2021-09-03T09:35:16.294Z"
   },
   {
    "duration": 401,
    "start_time": "2021-09-03T09:35:17.897Z"
   },
   {
    "duration": 1043,
    "start_time": "2021-09-03T09:35:18.300Z"
   },
   {
    "duration": 38817,
    "start_time": "2021-09-03T09:35:19.345Z"
   },
   {
    "duration": 629,
    "start_time": "2021-09-03T09:35:58.164Z"
   },
   {
    "duration": 10341,
    "start_time": "2021-09-03T09:35:58.795Z"
   },
   {
    "duration": 10,
    "start_time": "2021-09-03T09:36:09.138Z"
   },
   {
    "duration": 36,
    "start_time": "2021-09-03T09:37:45.472Z"
   },
   {
    "duration": 12,
    "start_time": "2021-09-03T09:37:49.886Z"
   },
   {
    "duration": 35593,
    "start_time": "2021-09-03T09:39:32.146Z"
   },
   {
    "duration": 7,
    "start_time": "2021-09-03T09:45:41.079Z"
   },
   {
    "duration": 4,
    "start_time": "2021-09-03T09:46:31.357Z"
   },
   {
    "duration": 55,
    "start_time": "2021-09-03T09:46:31.363Z"
   },
   {
    "duration": 13,
    "start_time": "2021-09-03T09:46:31.420Z"
   },
   {
    "duration": 36,
    "start_time": "2021-09-03T09:46:31.435Z"
   },
   {
    "duration": 46,
    "start_time": "2021-09-03T09:46:31.473Z"
   },
   {
    "duration": 5,
    "start_time": "2021-09-03T09:46:31.521Z"
   },
   {
    "duration": 22,
    "start_time": "2021-09-03T09:46:40.929Z"
   },
   {
    "duration": 208,
    "start_time": "2021-09-03T09:51:26.417Z"
   },
   {
    "duration": 7,
    "start_time": "2021-09-03T09:52:33.757Z"
   },
   {
    "duration": 9,
    "start_time": "2021-09-03T09:52:37.551Z"
   },
   {
    "duration": 189,
    "start_time": "2021-09-03T09:53:06.940Z"
   },
   {
    "duration": 507,
    "start_time": "2021-09-03T10:00:47.155Z"
   },
   {
    "duration": 6204,
    "start_time": "2021-09-03T10:06:15.097Z"
   },
   {
    "duration": 5,
    "start_time": "2021-09-03T10:06:22.953Z"
   },
   {
    "duration": 909,
    "start_time": "2021-09-03T10:08:02.442Z"
   },
   {
    "duration": 5,
    "start_time": "2021-09-03T10:08:44.568Z"
   },
   {
    "duration": 5,
    "start_time": "2021-09-03T10:08:50.199Z"
   },
   {
    "duration": 151,
    "start_time": "2021-09-03T10:09:33.471Z"
   },
   {
    "duration": 153,
    "start_time": "2021-09-03T10:09:40.647Z"
   },
   {
    "duration": 165,
    "start_time": "2021-09-03T10:35:56.226Z"
   },
   {
    "duration": 937,
    "start_time": "2021-09-03T10:36:40.801Z"
   },
   {
    "duration": 973,
    "start_time": "2021-09-03T10:38:44.388Z"
   },
   {
    "duration": 4,
    "start_time": "2021-09-03T10:39:42.844Z"
   },
   {
    "duration": 4,
    "start_time": "2021-09-03T10:40:07.431Z"
   },
   {
    "duration": 512,
    "start_time": "2021-09-03T10:40:45.486Z"
   },
   {
    "duration": 545,
    "start_time": "2021-09-03T10:40:53.654Z"
   },
   {
    "duration": 1033,
    "start_time": "2021-09-03T10:41:11.594Z"
   },
   {
    "duration": 552,
    "start_time": "2021-09-03T10:41:46.146Z"
   },
   {
    "duration": 615,
    "start_time": "2021-09-03T10:42:15.282Z"
   },
   {
    "duration": 5,
    "start_time": "2021-09-03T10:42:34.338Z"
   },
   {
    "duration": 4,
    "start_time": "2021-09-03T10:42:40.978Z"
   },
   {
    "duration": 4,
    "start_time": "2021-09-03T10:42:47.297Z"
   },
   {
    "duration": 557,
    "start_time": "2021-09-03T10:42:57.441Z"
   },
   {
    "duration": 4,
    "start_time": "2021-09-03T10:43:00.789Z"
   },
   {
    "duration": 5,
    "start_time": "2021-09-03T10:44:38.680Z"
   },
   {
    "duration": 84,
    "start_time": "2021-09-03T10:45:30.504Z"
   },
   {
    "duration": 6,
    "start_time": "2021-09-03T10:45:40.767Z"
   },
   {
    "duration": 7,
    "start_time": "2021-09-03T10:45:46.696Z"
   },
   {
    "duration": 597,
    "start_time": "2021-09-03T10:49:24.601Z"
   },
   {
    "duration": 87,
    "start_time": "2021-09-03T10:52:09.172Z"
   },
   {
    "duration": 930,
    "start_time": "2021-09-03T10:52:18.391Z"
   },
   {
    "duration": 872,
    "start_time": "2021-09-03T10:53:28.638Z"
   },
   {
    "duration": 8187,
    "start_time": "2021-09-03T10:54:55.786Z"
   },
   {
    "duration": 30223,
    "start_time": "2021-09-03T10:58:33.828Z"
   },
   {
    "duration": 88,
    "start_time": "2021-09-03T11:01:30.273Z"
   },
   {
    "duration": 31,
    "start_time": "2021-09-03T11:01:37.747Z"
   },
   {
    "duration": 29511,
    "start_time": "2021-09-03T11:01:51.694Z"
   },
   {
    "duration": 8447,
    "start_time": "2021-09-03T11:03:05.661Z"
   },
   {
    "duration": 590,
    "start_time": "2021-09-03T11:03:14.110Z"
   },
   {
    "duration": 27740,
    "start_time": "2021-09-03T11:37:43.975Z"
   },
   {
    "duration": 1690,
    "start_time": "2021-09-03T11:38:11.717Z"
   },
   {
    "duration": 1684,
    "start_time": "2021-09-03T11:38:20.790Z"
   },
   {
    "duration": 1656,
    "start_time": "2021-09-03T11:38:37.855Z"
   },
   {
    "duration": 13,
    "start_time": "2021-09-03T11:39:08.867Z"
   },
   {
    "duration": 4805,
    "start_time": "2021-09-03T11:46:43.909Z"
   },
   {
    "duration": 8187,
    "start_time": "2021-09-03T11:47:05.532Z"
   },
   {
    "duration": 1444,
    "start_time": "2021-09-03T11:47:55.556Z"
   },
   {
    "duration": 955,
    "start_time": "2021-09-03T11:48:06.141Z"
   },
   {
    "duration": 933,
    "start_time": "2021-09-03T11:48:15.374Z"
   },
   {
    "duration": 1014,
    "start_time": "2021-09-03T11:48:37.464Z"
   },
   {
    "duration": 1094,
    "start_time": "2021-09-03T11:48:43.320Z"
   },
   {
    "duration": 103626,
    "start_time": "2021-09-03T11:50:39.466Z"
   },
   {
    "duration": 4955,
    "start_time": "2021-09-03T11:54:00.779Z"
   },
   {
    "duration": 5059,
    "start_time": "2021-09-03T11:57:45.601Z"
   },
   {
    "duration": 8185,
    "start_time": "2021-09-03T12:10:21.598Z"
   },
   {
    "duration": 1058,
    "start_time": "2021-09-03T12:10:29.785Z"
   },
   {
    "duration": 4776,
    "start_time": "2021-09-03T12:13:45.767Z"
   },
   {
    "duration": 74502,
    "start_time": "2021-09-03T12:15:49.590Z"
   },
   {
    "duration": 2552,
    "start_time": "2021-09-03T12:17:32.413Z"
   },
   {
    "duration": 7834,
    "start_time": "2021-09-03T12:17:44.061Z"
   },
   {
    "duration": 65570,
    "start_time": "2021-09-03T12:17:57.191Z"
   },
   {
    "duration": 472,
    "start_time": "2021-09-03T12:20:39.964Z"
   },
   {
    "duration": 477,
    "start_time": "2021-09-03T12:21:44.382Z"
   },
   {
    "duration": 490,
    "start_time": "2021-09-03T12:21:50.778Z"
   },
   {
    "duration": 510,
    "start_time": "2021-09-03T12:22:03.192Z"
   },
   {
    "duration": 4,
    "start_time": "2021-09-03T12:42:44.217Z"
   },
   {
    "duration": 75,
    "start_time": "2021-09-03T12:42:44.223Z"
   },
   {
    "duration": 13,
    "start_time": "2021-09-03T12:42:44.300Z"
   },
   {
    "duration": 27,
    "start_time": "2021-09-03T12:42:44.315Z"
   },
   {
    "duration": 52,
    "start_time": "2021-09-03T12:42:44.344Z"
   },
   {
    "duration": 5,
    "start_time": "2021-09-03T12:42:44.398Z"
   },
   {
    "duration": 28,
    "start_time": "2021-09-03T12:42:44.404Z"
   },
   {
    "duration": 57,
    "start_time": "2021-09-03T12:42:44.435Z"
   },
   {
    "duration": 347,
    "start_time": "2021-09-03T12:42:44.495Z"
   },
   {
    "duration": 304,
    "start_time": "2021-09-03T12:42:44.844Z"
   },
   {
    "duration": 18,
    "start_time": "2021-09-03T12:42:45.151Z"
   },
   {
    "duration": 22,
    "start_time": "2021-09-03T12:42:45.170Z"
   },
   {
    "duration": 8,
    "start_time": "2021-09-03T12:42:45.194Z"
   },
   {
    "duration": 188,
    "start_time": "2021-09-03T12:42:45.203Z"
   },
   {
    "duration": 333,
    "start_time": "2021-09-03T12:42:45.393Z"
   },
   {
    "duration": 571,
    "start_time": "2021-09-03T12:42:45.728Z"
   },
   {
    "duration": 93,
    "start_time": "2021-09-03T12:42:46.301Z"
   },
   {
    "duration": 21,
    "start_time": "2021-09-03T12:42:46.396Z"
   },
   {
    "duration": 1750,
    "start_time": "2021-09-03T12:42:46.420Z"
   },
   {
    "duration": 625,
    "start_time": "2021-09-03T12:42:48.172Z"
   },
   {
    "duration": 693,
    "start_time": "2021-09-03T12:42:48.799Z"
   },
   {
    "duration": 7792,
    "start_time": "2021-09-03T12:42:49.494Z"
   },
   {
    "duration": 26080,
    "start_time": "2021-09-03T12:42:57.291Z"
   },
   {
    "duration": 43,
    "start_time": "2021-09-03T12:43:23.372Z"
   },
   {
    "duration": 23903,
    "start_time": "2021-09-03T12:43:23.417Z"
   },
   {
    "duration": 476,
    "start_time": "2021-09-03T12:43:47.321Z"
   },
   {
    "duration": 65476,
    "start_time": "2021-09-03T12:43:47.798Z"
   },
   {
    "duration": 7664,
    "start_time": "2021-09-03T12:44:53.276Z"
   },
   {
    "duration": 1067,
    "start_time": "2021-09-03T12:45:00.942Z"
   },
   {
    "duration": 297,
    "start_time": "2021-09-03T12:45:02.011Z"
   },
   {
    "duration": -1297,
    "start_time": "2021-09-03T12:45:03.607Z"
   },
   {
    "duration": -1322,
    "start_time": "2021-09-03T12:45:03.633Z"
   },
   {
    "duration": -1326,
    "start_time": "2021-09-03T12:45:03.638Z"
   },
   {
    "duration": -1330,
    "start_time": "2021-09-03T12:45:03.643Z"
   },
   {
    "duration": -1333,
    "start_time": "2021-09-03T12:45:03.647Z"
   },
   {
    "duration": -1336,
    "start_time": "2021-09-03T12:45:03.651Z"
   },
   {
    "duration": -1339,
    "start_time": "2021-09-03T12:45:03.655Z"
   },
   {
    "duration": -1342,
    "start_time": "2021-09-03T12:45:03.659Z"
   },
   {
    "duration": -1344,
    "start_time": "2021-09-03T12:45:03.662Z"
   },
   {
    "duration": 596,
    "start_time": "2021-09-03T12:48:19.096Z"
   },
   {
    "duration": 1245,
    "start_time": "2021-09-03T12:50:10.479Z"
   },
   {
    "duration": 1103,
    "start_time": "2021-09-03T12:50:44.872Z"
   },
   {
    "duration": 14323,
    "start_time": "2021-09-03T12:51:49.695Z"
   },
   {
    "duration": 62192,
    "start_time": "2021-09-03T12:53:00.234Z"
   },
   {
    "duration": 497967,
    "start_time": "2021-09-03T12:54:26.914Z"
   },
   {
    "duration": -1367,
    "start_time": "2021-09-03T13:02:46.249Z"
   },
   {
    "duration": 1311,
    "start_time": "2021-09-03T13:02:52.514Z"
   },
   {
    "duration": 1004,
    "start_time": "2021-09-03T13:03:07.496Z"
   },
   {
    "duration": 19002,
    "start_time": "2021-09-03T13:04:09.467Z"
   },
   {
    "duration": 4,
    "start_time": "2021-09-03T13:07:30.121Z"
   },
   {
    "duration": 13,
    "start_time": "2021-09-03T13:08:43.622Z"
   },
   {
    "duration": 11,
    "start_time": "2021-09-03T13:08:46.164Z"
   },
   {
    "duration": 37,
    "start_time": "2021-09-03T13:08:49.052Z"
   },
   {
    "duration": 7,
    "start_time": "2021-09-03T13:08:54.435Z"
   },
   {
    "duration": 11,
    "start_time": "2021-09-03T13:08:57.408Z"
   },
   {
    "duration": 35,
    "start_time": "2021-09-03T13:09:00.353Z"
   },
   {
    "duration": 1055,
    "start_time": "2021-09-03T13:09:18.738Z"
   },
   {
    "duration": 50,
    "start_time": "2021-09-03T13:09:19.795Z"
   },
   {
    "duration": 12,
    "start_time": "2021-09-03T13:09:19.848Z"
   },
   {
    "duration": 14,
    "start_time": "2021-09-03T13:09:19.863Z"
   },
   {
    "duration": 44,
    "start_time": "2021-09-03T13:09:19.878Z"
   },
   {
    "duration": 6,
    "start_time": "2021-09-03T13:09:19.924Z"
   },
   {
    "duration": 25,
    "start_time": "2021-09-03T13:09:19.931Z"
   },
   {
    "duration": 66,
    "start_time": "2021-09-03T13:09:19.957Z"
   },
   {
    "duration": 329,
    "start_time": "2021-09-03T13:09:20.026Z"
   },
   {
    "duration": 218,
    "start_time": "2021-09-03T13:09:20.357Z"
   },
   {
    "duration": 24,
    "start_time": "2021-09-03T13:09:20.577Z"
   },
   {
    "duration": 5,
    "start_time": "2021-09-03T13:09:20.603Z"
   },
   {
    "duration": 19,
    "start_time": "2021-09-03T13:09:20.610Z"
   },
   {
    "duration": 212,
    "start_time": "2021-09-03T13:09:20.631Z"
   },
   {
    "duration": 362,
    "start_time": "2021-09-03T13:09:20.845Z"
   },
   {
    "duration": 684,
    "start_time": "2021-09-03T13:09:21.209Z"
   },
   {
    "duration": 97,
    "start_time": "2021-09-03T13:09:21.895Z"
   },
   {
    "duration": 8,
    "start_time": "2021-09-03T13:09:21.994Z"
   },
   {
    "duration": 1187,
    "start_time": "2021-09-03T13:09:22.004Z"
   },
   {
    "duration": 706,
    "start_time": "2021-09-03T13:09:23.193Z"
   },
   {
    "duration": 828,
    "start_time": "2021-09-03T13:09:23.903Z"
   },
   {
    "duration": 8160,
    "start_time": "2021-09-03T13:09:24.733Z"
   },
   {
    "duration": 27115,
    "start_time": "2021-09-03T13:09:32.895Z"
   },
   {
    "duration": 29,
    "start_time": "2021-09-03T13:10:00.012Z"
   },
   {
    "duration": 26866,
    "start_time": "2021-09-03T13:10:00.043Z"
   },
   {
    "duration": 598,
    "start_time": "2021-09-03T13:10:26.911Z"
   },
   {
    "duration": 66992,
    "start_time": "2021-09-03T13:10:27.513Z"
   },
   {
    "duration": 18426,
    "start_time": "2021-09-03T13:11:34.507Z"
   },
   {
    "duration": 1132,
    "start_time": "2021-09-03T13:11:52.935Z"
   },
   {
    "duration": 931,
    "start_time": "2021-09-03T13:11:54.069Z"
   },
   {
    "duration": 1045,
    "start_time": "2021-09-03T13:11:55.002Z"
   },
   {
    "duration": 659,
    "start_time": "2021-09-03T13:11:56.048Z"
   },
   {
    "duration": 1588,
    "start_time": "2021-09-03T13:11:56.709Z"
   },
   {
    "duration": 22707,
    "start_time": "2021-09-03T13:11:58.300Z"
   },
   {
    "duration": 1407,
    "start_time": "2021-09-03T13:12:21.009Z"
   },
   {
    "duration": 281,
    "start_time": "2021-09-03T13:12:22.417Z"
   },
   {
    "duration": 789,
    "start_time": "2021-09-03T13:12:22.791Z"
   },
   {
    "duration": 540,
    "start_time": "2021-09-03T13:12:23.582Z"
   },
   {
    "duration": 7801,
    "start_time": "2021-09-03T13:12:24.123Z"
   },
   {
    "duration": 9,
    "start_time": "2021-09-03T13:12:31.926Z"
   },
   {
    "duration": 1014,
    "start_time": "2021-09-03T13:12:31.937Z"
   },
   {
    "duration": 430,
    "start_time": "2021-09-03T13:13:25.720Z"
   },
   {
    "duration": 8909,
    "start_time": "2021-09-03T13:16:49.873Z"
   },
   {
    "duration": 626,
    "start_time": "2021-09-03T13:18:22.580Z"
   },
   {
    "duration": 679,
    "start_time": "2021-09-03T13:19:59.463Z"
   },
   {
    "duration": 22373,
    "start_time": "2021-09-03T13:20:45.167Z"
   },
   {
    "duration": 26505,
    "start_time": "2021-09-03T13:24:50.558Z"
   },
   {
    "duration": 889,
    "start_time": "2021-09-03T13:26:42.882Z"
   },
   {
    "duration": 9451,
    "start_time": "2021-09-03T13:27:20.752Z"
   },
   {
    "duration": 161604,
    "start_time": "2021-09-03T13:28:47.189Z"
   },
   {
    "duration": 446,
    "start_time": "2021-09-03T13:37:36.492Z"
   },
   {
    "duration": 454,
    "start_time": "2021-09-03T13:38:00.272Z"
   },
   {
    "duration": 545,
    "start_time": "2021-09-03T13:40:33.359Z"
   },
   {
    "duration": 443,
    "start_time": "2021-09-03T13:41:23.173Z"
   },
   {
    "duration": 444,
    "start_time": "2021-09-03T13:41:29.702Z"
   },
   {
    "duration": 446,
    "start_time": "2021-09-03T13:41:36.174Z"
   },
   {
    "duration": 452,
    "start_time": "2021-09-03T13:42:21.165Z"
   },
   {
    "duration": 1125,
    "start_time": "2021-09-03T13:55:47.457Z"
   },
   {
    "duration": 49,
    "start_time": "2021-09-03T13:55:48.584Z"
   },
   {
    "duration": 13,
    "start_time": "2021-09-03T13:55:48.636Z"
   },
   {
    "duration": 14,
    "start_time": "2021-09-03T13:55:48.651Z"
   },
   {
    "duration": 53,
    "start_time": "2021-09-03T13:55:48.666Z"
   },
   {
    "duration": 5,
    "start_time": "2021-09-03T13:55:48.720Z"
   },
   {
    "duration": 22,
    "start_time": "2021-09-03T13:55:48.726Z"
   },
   {
    "duration": 49,
    "start_time": "2021-09-03T13:55:48.750Z"
   },
   {
    "duration": 323,
    "start_time": "2021-09-03T13:55:48.802Z"
   },
   {
    "duration": 210,
    "start_time": "2021-09-03T13:55:49.127Z"
   },
   {
    "duration": 16,
    "start_time": "2021-09-03T13:55:49.339Z"
   },
   {
    "duration": 5,
    "start_time": "2021-09-03T13:55:49.356Z"
   },
   {
    "duration": 33,
    "start_time": "2021-09-03T13:55:49.362Z"
   },
   {
    "duration": 222,
    "start_time": "2021-09-03T13:55:49.397Z"
   },
   {
    "duration": 355,
    "start_time": "2021-09-03T13:55:49.622Z"
   },
   {
    "duration": 718,
    "start_time": "2021-09-03T13:55:49.979Z"
   },
   {
    "duration": 94,
    "start_time": "2021-09-03T13:55:50.699Z"
   },
   {
    "duration": 10,
    "start_time": "2021-09-03T13:55:50.795Z"
   },
   {
    "duration": 972,
    "start_time": "2021-09-03T13:55:50.807Z"
   },
   {
    "duration": 715,
    "start_time": "2021-09-03T13:55:51.780Z"
   },
   {
    "duration": 761,
    "start_time": "2021-09-03T13:55:52.498Z"
   },
   {
    "duration": 7834,
    "start_time": "2021-09-03T13:55:53.261Z"
   },
   {
    "duration": 27395,
    "start_time": "2021-09-03T13:56:01.097Z"
   },
   {
    "duration": 29,
    "start_time": "2021-09-03T13:56:28.494Z"
   },
   {
    "duration": 668,
    "start_time": "2021-09-03T13:56:28.524Z"
   },
   {
    "duration": 1081,
    "start_time": "2021-09-03T13:56:29.195Z"
   },
   {
    "duration": 10003,
    "start_time": "2021-09-03T13:56:30.280Z"
   },
   {
    "duration": 27554,
    "start_time": "2021-09-03T13:56:40.291Z"
   },
   {
    "duration": 66906,
    "start_time": "2021-09-03T13:57:07.847Z"
   },
   {
    "duration": 20361,
    "start_time": "2021-09-03T13:58:14.755Z"
   },
   {
    "duration": 6497,
    "start_time": "2021-09-03T13:58:35.118Z"
   },
   {
    "duration": 23828,
    "start_time": "2021-09-03T13:58:41.617Z"
   },
   {
    "duration": 1214,
    "start_time": "2021-09-03T13:59:05.447Z"
   },
   {
    "duration": 942,
    "start_time": "2021-09-03T13:59:06.663Z"
   },
   {
    "duration": 478,
    "start_time": "2021-09-03T13:59:07.607Z"
   },
   {
    "duration": 479,
    "start_time": "2021-09-03T13:59:16.857Z"
   },
   {
    "duration": 150662,
    "start_time": "2021-09-03T14:02:24.557Z"
   },
   {
    "duration": 5203,
    "start_time": "2021-09-03T14:06:01.238Z"
   },
   {
    "duration": 1124,
    "start_time": "2021-09-03T14:08:17.274Z"
   },
   {
    "duration": 50,
    "start_time": "2021-09-03T14:08:18.400Z"
   },
   {
    "duration": 13,
    "start_time": "2021-09-03T14:08:18.452Z"
   },
   {
    "duration": 25,
    "start_time": "2021-09-03T14:08:18.467Z"
   },
   {
    "duration": 38,
    "start_time": "2021-09-03T14:08:18.494Z"
   },
   {
    "duration": 6,
    "start_time": "2021-09-03T14:08:18.534Z"
   },
   {
    "duration": 23,
    "start_time": "2021-09-03T14:08:18.542Z"
   },
   {
    "duration": 56,
    "start_time": "2021-09-03T14:08:18.567Z"
   },
   {
    "duration": 334,
    "start_time": "2021-09-03T14:08:18.626Z"
   },
   {
    "duration": 210,
    "start_time": "2021-09-03T14:08:18.962Z"
   },
   {
    "duration": 30,
    "start_time": "2021-09-03T14:08:19.174Z"
   },
   {
    "duration": 14,
    "start_time": "2021-09-03T14:08:19.205Z"
   },
   {
    "duration": 13,
    "start_time": "2021-09-03T14:08:19.221Z"
   },
   {
    "duration": 199,
    "start_time": "2021-09-03T14:08:19.236Z"
   },
   {
    "duration": 353,
    "start_time": "2021-09-03T14:08:19.436Z"
   },
   {
    "duration": 615,
    "start_time": "2021-09-03T14:08:19.791Z"
   },
   {
    "duration": 87,
    "start_time": "2021-09-03T14:08:20.409Z"
   },
   {
    "duration": 102,
    "start_time": "2021-09-03T14:08:20.498Z"
   },
   {
    "duration": 1044,
    "start_time": "2021-09-03T14:08:20.602Z"
   },
   {
    "duration": 645,
    "start_time": "2021-09-03T14:08:21.648Z"
   },
   {
    "duration": 692,
    "start_time": "2021-09-03T14:08:22.295Z"
   },
   {
    "duration": 7734,
    "start_time": "2021-09-03T14:08:22.992Z"
   },
   {
    "duration": 26592,
    "start_time": "2021-09-03T14:08:30.729Z"
   },
   {
    "duration": 2,
    "start_time": "2021-09-03T14:08:57.324Z"
   },
   {
    "duration": 580,
    "start_time": "2021-09-03T14:08:57.328Z"
   },
   {
    "duration": 784,
    "start_time": "2021-09-03T14:08:57.911Z"
   },
   {
    "duration": 8030,
    "start_time": "2021-09-03T14:08:58.697Z"
   },
   {
    "duration": 27333,
    "start_time": "2021-09-03T14:09:06.729Z"
   },
   {
    "duration": 151166,
    "start_time": "2021-09-03T14:09:34.064Z"
   },
   {
    "duration": 5060,
    "start_time": "2021-09-03T14:12:05.232Z"
   },
   {
    "duration": 5939,
    "start_time": "2021-09-03T14:12:10.293Z"
   },
   {
    "duration": 22192,
    "start_time": "2021-09-03T14:12:16.233Z"
   },
   {
    "duration": 1149,
    "start_time": "2021-09-03T14:12:38.427Z"
   },
   {
    "duration": 878,
    "start_time": "2021-09-03T14:12:39.578Z"
   },
   {
    "duration": 455,
    "start_time": "2021-09-03T14:12:40.458Z"
   },
   {
    "duration": 468,
    "start_time": "2021-09-03T14:21:14.973Z"
   },
   {
    "duration": 30,
    "start_time": "2021-09-03T14:26:15.549Z"
   },
   {
    "duration": 456,
    "start_time": "2021-09-04T09:12:38.327Z"
   },
   {
    "duration": 1536,
    "start_time": "2021-09-05T08:05:02.838Z"
   },
   {
    "duration": 65,
    "start_time": "2021-09-05T08:05:04.377Z"
   },
   {
    "duration": 20,
    "start_time": "2021-09-05T08:05:04.445Z"
   },
   {
    "duration": 27,
    "start_time": "2021-09-05T08:05:04.467Z"
   },
   {
    "duration": 75,
    "start_time": "2021-09-05T08:05:04.497Z"
   },
   {
    "duration": 8,
    "start_time": "2021-09-05T08:05:04.575Z"
   },
   {
    "duration": 61,
    "start_time": "2021-09-05T08:05:04.586Z"
   },
   {
    "duration": 80,
    "start_time": "2021-09-05T08:05:04.651Z"
   },
   {
    "duration": 607,
    "start_time": "2021-09-05T08:05:04.734Z"
   },
   {
    "duration": 368,
    "start_time": "2021-09-05T08:05:05.343Z"
   },
   {
    "duration": 28,
    "start_time": "2021-09-05T08:05:05.716Z"
   },
   {
    "duration": 8,
    "start_time": "2021-09-05T08:05:05.746Z"
   },
   {
    "duration": 13,
    "start_time": "2021-09-05T08:05:05.756Z"
   },
   {
    "duration": 348,
    "start_time": "2021-09-05T08:05:05.771Z"
   },
   {
    "duration": 474,
    "start_time": "2021-09-05T08:05:06.122Z"
   },
   {
    "duration": 633,
    "start_time": "2021-09-05T08:05:06.598Z"
   },
   {
    "duration": 8,
    "start_time": "2021-09-05T08:05:07.318Z"
   },
   {
    "duration": 10,
    "start_time": "2021-09-05T08:05:07.418Z"
   },
   {
    "duration": 1072,
    "start_time": "2021-09-05T08:05:07.430Z"
   },
   {
    "duration": 628,
    "start_time": "2021-09-05T08:05:08.505Z"
   },
   {
    "duration": 851,
    "start_time": "2021-09-05T08:05:09.135Z"
   },
   {
    "duration": 8640,
    "start_time": "2021-09-05T08:05:09.989Z"
   },
   {
    "duration": 29108,
    "start_time": "2021-09-05T08:05:18.633Z"
   },
   {
    "duration": 28531,
    "start_time": "2021-09-05T08:05:47.743Z"
   },
   {
    "duration": 195696,
    "start_time": "2021-09-05T08:06:16.276Z"
   },
   {
    "duration": 7093,
    "start_time": "2021-09-05T08:09:31.974Z"
   },
   {
    "duration": 1168,
    "start_time": "2021-09-05T08:09:39.069Z"
   },
   {
    "duration": 535,
    "start_time": "2021-09-05T08:09:40.240Z"
   },
   {
    "duration": 6,
    "start_time": "2021-09-05T08:21:21.173Z"
   },
   {
    "duration": 6,
    "start_time": "2021-09-05T11:01:20.892Z"
   },
   {
    "duration": 71621,
    "start_time": "2021-09-05T11:01:28.920Z"
   },
   {
    "duration": 527,
    "start_time": "2021-09-05T11:03:20.265Z"
   },
   {
    "duration": 639,
    "start_time": "2021-09-05T11:03:26.532Z"
   },
   {
    "duration": 258,
    "start_time": "2021-09-05T11:03:42.749Z"
   },
   {
    "duration": 1568,
    "start_time": "2021-09-05T11:53:17.922Z"
   },
   {
    "duration": 701,
    "start_time": "2021-09-05T11:53:19.493Z"
   },
   {
    "duration": 21,
    "start_time": "2021-09-05T11:53:20.200Z"
   },
   {
    "duration": 19,
    "start_time": "2021-09-05T11:53:20.224Z"
   },
   {
    "duration": 94,
    "start_time": "2021-09-05T11:53:20.246Z"
   },
   {
    "duration": 10,
    "start_time": "2021-09-05T11:53:20.343Z"
   },
   {
    "duration": 62,
    "start_time": "2021-09-05T11:53:20.359Z"
   },
   {
    "duration": 59,
    "start_time": "2021-09-05T11:53:20.424Z"
   },
   {
    "duration": 611,
    "start_time": "2021-09-05T11:53:20.485Z"
   },
   {
    "duration": 396,
    "start_time": "2021-09-05T11:53:21.098Z"
   },
   {
    "duration": 35,
    "start_time": "2021-09-05T11:53:21.497Z"
   },
   {
    "duration": 8,
    "start_time": "2021-09-05T11:53:21.534Z"
   },
   {
    "duration": 19,
    "start_time": "2021-09-05T11:53:21.544Z"
   },
   {
    "duration": 56,
    "start_time": "2021-09-05T11:53:21.566Z"
   },
   {
    "duration": 20,
    "start_time": "2021-09-05T11:53:21.624Z"
   },
   {
    "duration": 371,
    "start_time": "2021-09-05T11:53:21.646Z"
   },
   {
    "duration": 99,
    "start_time": "2021-09-05T11:53:22.021Z"
   },
   {
    "duration": 147,
    "start_time": "2021-09-05T11:53:22.122Z"
   },
   {
    "duration": 76,
    "start_time": "2021-09-05T11:53:22.272Z"
   },
   {
    "duration": 271,
    "start_time": "2021-09-05T11:53:22.351Z"
   },
   {
    "duration": 148,
    "start_time": "2021-09-05T11:53:22.625Z"
   },
   {
    "duration": 881,
    "start_time": "2021-09-05T11:53:22.777Z"
   },
   {
    "duration": 1924,
    "start_time": "2021-09-05T11:53:23.661Z"
   },
   {
    "duration": 1960,
    "start_time": "2021-09-05T11:53:25.587Z"
   },
   {
    "duration": 94507,
    "start_time": "2021-09-05T11:53:27.549Z"
   },
   {
    "duration": 1985,
    "start_time": "2021-09-05T11:55:02.059Z"
   },
   {
    "duration": 512,
    "start_time": "2021-09-05T11:55:04.048Z"
   },
   {
    "duration": 54,
    "start_time": "2021-09-05T11:55:04.562Z"
   },
   {
    "duration": 6,
    "start_time": "2021-09-05T11:55:04.618Z"
   },
   {
    "duration": 51,
    "start_time": "2021-09-05T11:55:04.627Z"
   },
   {
    "duration": 6,
    "start_time": "2021-09-05T11:55:04.681Z"
   },
   {
    "duration": 420,
    "start_time": "2021-09-05T11:55:04.690Z"
   },
   {
    "duration": 349,
    "start_time": "2021-09-05T11:55:05.117Z"
   },
   {
    "duration": 1487,
    "start_time": "2021-09-05T11:58:14.778Z"
   },
   {
    "duration": 65,
    "start_time": "2021-09-05T11:58:16.268Z"
   },
   {
    "duration": 20,
    "start_time": "2021-09-05T11:58:16.336Z"
   },
   {
    "duration": 24,
    "start_time": "2021-09-05T11:58:16.359Z"
   },
   {
    "duration": 86,
    "start_time": "2021-09-05T11:58:16.385Z"
   },
   {
    "duration": 8,
    "start_time": "2021-09-05T11:58:16.474Z"
   },
   {
    "duration": 59,
    "start_time": "2021-09-05T11:58:16.484Z"
   },
   {
    "duration": 77,
    "start_time": "2021-09-05T11:58:16.547Z"
   },
   {
    "duration": 576,
    "start_time": "2021-09-05T11:58:16.627Z"
   },
   {
    "duration": 360,
    "start_time": "2021-09-05T11:58:17.205Z"
   },
   {
    "duration": 25,
    "start_time": "2021-09-05T11:58:17.567Z"
   },
   {
    "duration": 26,
    "start_time": "2021-09-05T11:58:17.595Z"
   },
   {
    "duration": 15,
    "start_time": "2021-09-05T11:58:17.623Z"
   },
   {
    "duration": 33,
    "start_time": "2021-09-05T11:58:17.640Z"
   },
   {
    "duration": 60,
    "start_time": "2021-09-05T11:58:17.681Z"
   },
   {
    "duration": 276,
    "start_time": "2021-09-05T11:58:17.745Z"
   },
   {
    "duration": 94,
    "start_time": "2021-09-05T11:58:18.024Z"
   },
   {
    "duration": 9,
    "start_time": "2021-09-05T11:58:18.121Z"
   },
   {
    "duration": 92,
    "start_time": "2021-09-05T11:58:18.132Z"
   },
   {
    "duration": 898,
    "start_time": "2021-09-05T11:58:18.226Z"
   },
   {
    "duration": 198,
    "start_time": "2021-09-05T11:58:19.126Z"
   },
   {
    "duration": 120,
    "start_time": "2021-09-05T11:58:19.418Z"
   },
   {
    "duration": 858,
    "start_time": "2021-09-05T11:58:19.542Z"
   },
   {
    "duration": 1856,
    "start_time": "2021-09-05T11:58:20.403Z"
   },
   {
    "duration": 95370,
    "start_time": "2021-09-05T11:58:22.262Z"
   },
   {
    "duration": 2114,
    "start_time": "2021-09-05T11:59:57.635Z"
   },
   {
    "duration": 500,
    "start_time": "2021-09-05T11:59:59.751Z"
   },
   {
    "duration": 43,
    "start_time": "2021-09-05T12:00:00.254Z"
   },
   {
    "duration": 21,
    "start_time": "2021-09-05T12:00:00.299Z"
   },
   {
    "duration": 50,
    "start_time": "2021-09-05T12:00:00.323Z"
   },
   {
    "duration": 6,
    "start_time": "2021-09-05T12:00:00.375Z"
   },
   {
    "duration": 423,
    "start_time": "2021-09-05T12:00:00.384Z"
   },
   {
    "duration": 348,
    "start_time": "2021-09-05T12:00:00.817Z"
   },
   {
    "duration": 160,
    "start_time": "2021-09-05T12:09:29.559Z"
   },
   {
    "duration": 138,
    "start_time": "2021-09-05T12:11:03.174Z"
   },
   {
    "duration": 61,
    "start_time": "2021-09-05T12:11:09.550Z"
   },
   {
    "duration": 184,
    "start_time": "2021-09-05T12:11:49.734Z"
   },
   {
    "duration": 6,
    "start_time": "2021-09-05T12:11:52.873Z"
   },
   {
    "duration": 10,
    "start_time": "2021-09-05T12:11:54.512Z"
   },
   {
    "duration": 60,
    "start_time": "2021-09-05T12:11:56.096Z"
   },
   {
    "duration": 1389,
    "start_time": "2021-09-05T12:13:51.907Z"
   },
   {
    "duration": 1257,
    "start_time": "2021-09-05T12:14:16.260Z"
   },
   {
    "duration": 885,
    "start_time": "2021-09-05T12:14:24.939Z"
   },
   {
    "duration": 14,
    "start_time": "2021-09-05T12:16:28.686Z"
   },
   {
    "duration": 14,
    "start_time": "2021-09-05T12:16:57.310Z"
   },
   {
    "duration": 183,
    "start_time": "2021-09-05T12:17:40.137Z"
   },
   {
    "duration": 178,
    "start_time": "2021-09-05T12:18:38.345Z"
   },
   {
    "duration": 61,
    "start_time": "2021-09-05T12:18:41.228Z"
   },
   {
    "duration": 872,
    "start_time": "2021-09-05T12:18:44.864Z"
   },
   {
    "duration": 1912,
    "start_time": "2021-09-05T12:19:29.931Z"
   },
   {
    "duration": 95265,
    "start_time": "2021-09-05T12:19:37.839Z"
   },
   {
    "duration": 499,
    "start_time": "2021-09-05T12:27:00.031Z"
   },
   {
    "duration": 386,
    "start_time": "2021-09-05T12:27:06.630Z"
   },
   {
    "duration": 7,
    "start_time": "2021-09-05T12:28:12.934Z"
   },
   {
    "duration": 408002,
    "start_time": "2021-09-05T12:28:25.903Z"
   },
   {
    "duration": 11,
    "start_time": "2021-09-05T12:35:13.907Z"
   },
   {
    "duration": 974,
    "start_time": "2021-09-05T12:45:14.720Z"
   },
   {
    "duration": 45,
    "start_time": "2021-09-05T12:49:07.753Z"
   },
   {
    "duration": 1036,
    "start_time": "2021-09-05T12:50:03.121Z"
   },
   {
    "duration": 30,
    "start_time": "2021-09-05T12:50:10.012Z"
   },
   {
    "duration": 388,
    "start_time": "2021-09-05T12:50:17.844Z"
   },
   {
    "duration": 245,
    "start_time": "2021-09-05T12:50:28.865Z"
   },
   {
    "duration": 1545,
    "start_time": "2021-09-05T12:59:54.719Z"
   },
   {
    "duration": 67,
    "start_time": "2021-09-05T12:59:56.266Z"
   },
   {
    "duration": 21,
    "start_time": "2021-09-05T12:59:56.337Z"
   },
   {
    "duration": 20,
    "start_time": "2021-09-05T12:59:56.361Z"
   },
   {
    "duration": 86,
    "start_time": "2021-09-05T12:59:56.384Z"
   },
   {
    "duration": 9,
    "start_time": "2021-09-05T12:59:56.472Z"
   },
   {
    "duration": 67,
    "start_time": "2021-09-05T12:59:56.483Z"
   },
   {
    "duration": 76,
    "start_time": "2021-09-05T12:59:56.552Z"
   },
   {
    "duration": 584,
    "start_time": "2021-09-05T12:59:56.632Z"
   },
   {
    "duration": 364,
    "start_time": "2021-09-05T12:59:57.220Z"
   },
   {
    "duration": 37,
    "start_time": "2021-09-05T12:59:57.586Z"
   },
   {
    "duration": 7,
    "start_time": "2021-09-05T12:59:57.626Z"
   },
   {
    "duration": 11,
    "start_time": "2021-09-05T12:59:57.635Z"
   },
   {
    "duration": 60,
    "start_time": "2021-09-05T12:59:57.649Z"
   },
   {
    "duration": 23,
    "start_time": "2021-09-05T12:59:57.712Z"
   },
   {
    "duration": 279,
    "start_time": "2021-09-05T12:59:57.737Z"
   },
   {
    "duration": 5,
    "start_time": "2021-09-05T12:59:58.019Z"
   },
   {
    "duration": 15,
    "start_time": "2021-09-05T12:59:58.027Z"
   },
   {
    "duration": 103,
    "start_time": "2021-09-05T12:59:58.045Z"
   },
   {
    "duration": 910,
    "start_time": "2021-09-05T12:59:58.151Z"
   },
   {
    "duration": 13,
    "start_time": "2021-09-05T12:59:59.064Z"
   },
   {
    "duration": 239,
    "start_time": "2021-09-05T12:59:59.079Z"
   },
   {
    "duration": 148,
    "start_time": "2021-09-05T12:59:59.322Z"
   },
   {
    "duration": 866,
    "start_time": "2021-09-05T12:59:59.473Z"
   },
   {
    "duration": 1869,
    "start_time": "2021-09-05T13:00:00.341Z"
   },
   {
    "duration": 94909,
    "start_time": "2021-09-05T13:00:02.212Z"
   },
   {
    "duration": 408027,
    "start_time": "2021-09-05T13:01:37.128Z"
   },
   {
    "duration": 1273,
    "start_time": "2021-09-05T13:08:25.159Z"
   },
   {
    "duration": 2363,
    "start_time": "2021-09-05T13:08:26.435Z"
   },
   {
    "duration": 525,
    "start_time": "2021-09-05T13:08:28.801Z"
   },
   {
    "duration": 1240,
    "start_time": "2021-09-05T13:08:29.329Z"
   },
   {
    "duration": 392,
    "start_time": "2021-09-05T13:08:30.572Z"
   },
   {
    "duration": 1630,
    "start_time": "2021-09-05T13:14:50.326Z"
   },
   {
    "duration": 67,
    "start_time": "2021-09-05T13:14:51.959Z"
   },
   {
    "duration": 21,
    "start_time": "2021-09-05T13:14:52.030Z"
   },
   {
    "duration": 26,
    "start_time": "2021-09-05T13:14:52.054Z"
   },
   {
    "duration": 86,
    "start_time": "2021-09-05T13:14:52.082Z"
   },
   {
    "duration": 9,
    "start_time": "2021-09-05T13:14:52.170Z"
   },
   {
    "duration": 58,
    "start_time": "2021-09-05T13:14:52.182Z"
   },
   {
    "duration": 78,
    "start_time": "2021-09-05T13:14:52.244Z"
   },
   {
    "duration": 596,
    "start_time": "2021-09-05T13:14:52.325Z"
   },
   {
    "duration": 367,
    "start_time": "2021-09-05T13:14:52.923Z"
   },
   {
    "duration": 39,
    "start_time": "2021-09-05T13:14:53.293Z"
   },
   {
    "duration": 9,
    "start_time": "2021-09-05T13:14:53.334Z"
   },
   {
    "duration": 13,
    "start_time": "2021-09-05T13:14:53.346Z"
   },
   {
    "duration": 56,
    "start_time": "2021-09-05T13:14:53.361Z"
   },
   {
    "duration": 22,
    "start_time": "2021-09-05T13:14:53.419Z"
   },
   {
    "duration": 175,
    "start_time": "2021-09-05T13:14:53.444Z"
   },
   {
    "duration": 99,
    "start_time": "2021-09-05T13:14:53.622Z"
   },
   {
    "duration": 12,
    "start_time": "2021-09-05T13:14:53.724Z"
   },
   {
    "duration": 92,
    "start_time": "2021-09-05T13:14:53.738Z"
   },
   {
    "duration": 908,
    "start_time": "2021-09-05T13:14:53.832Z"
   },
   {
    "duration": 14,
    "start_time": "2021-09-05T13:14:54.742Z"
   },
   {
    "duration": 260,
    "start_time": "2021-09-05T13:14:54.758Z"
   },
   {
    "duration": 145,
    "start_time": "2021-09-05T13:14:55.027Z"
   },
   {
    "duration": 860,
    "start_time": "2021-09-05T13:14:55.175Z"
   },
   {
    "duration": 1854,
    "start_time": "2021-09-05T13:14:56.037Z"
   },
   {
    "duration": 94649,
    "start_time": "2021-09-05T13:14:57.893Z"
   },
   {
    "duration": 413129,
    "start_time": "2021-09-05T13:16:32.544Z"
   },
   {
    "duration": 1095,
    "start_time": "2021-09-05T13:23:25.676Z"
   },
   {
    "duration": 1964,
    "start_time": "2021-09-05T13:23:26.773Z"
   },
   {
    "duration": 469,
    "start_time": "2021-09-05T13:23:28.740Z"
   },
   {
    "duration": 1035,
    "start_time": "2021-09-05T13:23:29.212Z"
   },
   {
    "duration": 407,
    "start_time": "2021-09-05T13:23:30.249Z"
   },
   {
    "duration": 1112,
    "start_time": "2021-09-05T13:32:08.853Z"
   },
   {
    "duration": 97119,
    "start_time": "2021-09-05T13:32:49.625Z"
   },
   {
    "duration": 1176,
    "start_time": "2021-09-05T13:36:05.575Z"
   },
   {
    "duration": 466,
    "start_time": "2021-09-05T13:36:09.841Z"
   },
   {
    "duration": 1560,
    "start_time": "2021-09-05T13:37:15.511Z"
   },
   {
    "duration": 66,
    "start_time": "2021-09-05T13:37:17.074Z"
   },
   {
    "duration": 21,
    "start_time": "2021-09-05T13:37:17.143Z"
   },
   {
    "duration": 18,
    "start_time": "2021-09-05T13:37:17.166Z"
   },
   {
    "duration": 88,
    "start_time": "2021-09-05T13:37:17.186Z"
   },
   {
    "duration": 8,
    "start_time": "2021-09-05T13:37:17.276Z"
   },
   {
    "duration": 58,
    "start_time": "2021-09-05T13:37:17.287Z"
   },
   {
    "duration": 75,
    "start_time": "2021-09-05T13:37:17.347Z"
   },
   {
    "duration": 600,
    "start_time": "2021-09-05T13:37:17.425Z"
   },
   {
    "duration": 470,
    "start_time": "2021-09-05T13:37:18.028Z"
   },
   {
    "duration": 36,
    "start_time": "2021-09-05T13:37:18.501Z"
   },
   {
    "duration": 9,
    "start_time": "2021-09-05T13:37:18.540Z"
   },
   {
    "duration": 13,
    "start_time": "2021-09-05T13:37:18.552Z"
   },
   {
    "duration": 66,
    "start_time": "2021-09-05T13:37:18.568Z"
   },
   {
    "duration": 24,
    "start_time": "2021-09-05T13:37:18.636Z"
   },
   {
    "duration": 256,
    "start_time": "2021-09-05T13:37:18.662Z"
   },
   {
    "duration": 7,
    "start_time": "2021-09-05T13:37:18.920Z"
   },
   {
    "duration": 26,
    "start_time": "2021-09-05T13:37:18.929Z"
   },
   {
    "duration": 80,
    "start_time": "2021-09-05T13:37:18.958Z"
   },
   {
    "duration": 913,
    "start_time": "2021-09-05T13:37:19.040Z"
   },
   {
    "duration": 15,
    "start_time": "2021-09-05T13:37:19.955Z"
   },
   {
    "duration": 151,
    "start_time": "2021-09-05T13:37:19.972Z"
   },
   {
    "duration": 150,
    "start_time": "2021-09-05T13:37:20.215Z"
   },
   {
    "duration": 891,
    "start_time": "2021-09-05T13:37:20.368Z"
   },
   {
    "duration": 1874,
    "start_time": "2021-09-05T13:37:21.261Z"
   },
   {
    "duration": 96633,
    "start_time": "2021-09-05T13:37:23.138Z"
   },
   {
    "duration": 412833,
    "start_time": "2021-09-05T13:38:59.778Z"
   },
   {
    "duration": 983,
    "start_time": "2021-09-05T13:45:52.617Z"
   },
   {
    "duration": 1913,
    "start_time": "2021-09-05T13:45:53.603Z"
   },
   {
    "duration": 492,
    "start_time": "2021-09-05T13:45:55.519Z"
   },
   {
    "duration": 1128,
    "start_time": "2021-09-05T13:45:56.013Z"
   },
   {
    "duration": 399,
    "start_time": "2021-09-05T13:45:57.144Z"
   }
  ],
  "kernelspec": {
   "display_name": "Python 3",
   "language": "python",
   "name": "python3"
  },
  "language_info": {
   "codemirror_mode": {
    "name": "ipython",
    "version": 3
   },
   "file_extension": ".py",
   "mimetype": "text/x-python",
   "name": "python",
   "nbconvert_exporter": "python",
   "pygments_lexer": "ipython3",
   "version": "3.8.8"
  },
  "toc": {
   "base_numbering": 1,
   "nav_menu": {},
   "number_sections": true,
   "sideBar": true,
   "skip_h1_title": true,
   "title_cell": "Содержание",
   "title_sidebar": "Contents",
   "toc_cell": true,
   "toc_position": {
    "height": "calc(100% - 180px)",
    "left": "10px",
    "top": "150px",
    "width": "238px"
   },
   "toc_section_display": true,
   "toc_window_display": true
  }
 },
 "nbformat": 4,
 "nbformat_minor": 2
}
