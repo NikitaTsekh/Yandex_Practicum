{
 "cells": [
  {
   "cell_type": "markdown",
   "metadata": {
    "toc": true
   },
   "source": [
    "<h1>Содержание<span class=\"tocSkip\"></span></h1>\n",
    "<div class=\"toc\"><ul class=\"toc-item\"><li><span><a href=\"#Подготовка-данных\" data-toc-modified-id=\"Подготовка-данных-1\"><span class=\"toc-item-num\">1&nbsp;&nbsp;</span>Подготовка данных</a></span><ul class=\"toc-item\"><li><span><a href=\"#Откроем-файлы-и-изучим-их\" data-toc-modified-id=\"Откроем-файлы-и-изучим-их-1.1\"><span class=\"toc-item-num\">1.1&nbsp;&nbsp;</span>Откроем файлы и изучим их</a></span></li><li><span><a href=\"#Проверим,-что-эффективность-обогащения-расчитана-правильно\" data-toc-modified-id=\"Проверим,-что-эффективность-обогащения-расчитана-правильно-1.2\"><span class=\"toc-item-num\">1.2&nbsp;&nbsp;</span>Проверим, что эффективность обогащения расчитана правильно</a></span></li><li><span><a href=\"#Посмотрим,-каких-признаков-нет-в-тестовой-выборке\" data-toc-modified-id=\"Посмотрим,-каких-признаков-нет-в-тестовой-выборке-1.3\"><span class=\"toc-item-num\">1.3&nbsp;&nbsp;</span>Посмотрим, каких признаков нет в тестовой выборке</a></span></li><li><span><a href=\"#Предобработка-данных\" data-toc-modified-id=\"Предобработка-данных-1.4\"><span class=\"toc-item-num\">1.4&nbsp;&nbsp;</span>Предобработка данных</a></span></li></ul></li><li><span><a href=\"#Анализ-данных\" data-toc-modified-id=\"Анализ-данных-2\"><span class=\"toc-item-num\">2&nbsp;&nbsp;</span>Анализ данных</a></span><ul class=\"toc-item\"><li><span><a href=\"#Посмотрим-как-меняется-концентрация-металлов-Au,Ag,-Pb-на-различных-этапах-очистки\" data-toc-modified-id=\"Посмотрим-как-меняется-концентрация-металлов-Au,Ag,-Pb-на-различных-этапах-очистки-2.1\"><span class=\"toc-item-num\">2.1&nbsp;&nbsp;</span>Посмотрим как меняется концентрация металлов Au,Ag, Pb на различных этапах очистки</a></span><ul class=\"toc-item\"><li><span><a href=\"#Концентрация-золота\" data-toc-modified-id=\"Концентрация-золота-2.1.1\"><span class=\"toc-item-num\">2.1.1&nbsp;&nbsp;</span>Концентрация золота</a></span></li><li><span><a href=\"#Концентрация-серебра\" data-toc-modified-id=\"Концентрация-серебра-2.1.2\"><span class=\"toc-item-num\">2.1.2&nbsp;&nbsp;</span>Концентрация серебра</a></span></li><li><span><a href=\"#Концентрация-свинца\" data-toc-modified-id=\"Концентрация-свинца-2.1.3\"><span class=\"toc-item-num\">2.1.3&nbsp;&nbsp;</span>Концентрация свинца</a></span></li></ul></li><li><span><a href=\"#Сравним-рапределение-размеров-гранул-сырья-на-обучающей-и-тестовой-выборках\" data-toc-modified-id=\"Сравним-рапределение-размеров-гранул-сырья-на-обучающей-и-тестовой-выборках-2.2\"><span class=\"toc-item-num\">2.2&nbsp;&nbsp;</span>Сравним рапределение размеров гранул сырья на обучающей и тестовой выборках</a></span></li><li><span><a href=\"#Исследуем-суммарную-концентрацию-всех-веществ-на-разных-стадиях:-в-сырье,-черновом-и-финальном-концентратах.\" data-toc-modified-id=\"Исследуем-суммарную-концентрацию-всех-веществ-на-разных-стадиях:-в-сырье,-черновом-и-финальном-концентратах.-2.3\"><span class=\"toc-item-num\">2.3&nbsp;&nbsp;</span>Исследуем суммарную концентрацию всех веществ на разных стадиях: в сырье, черновом и финальном концентратах.</a></span></li></ul></li><li><span><a href=\"#Модель\" data-toc-modified-id=\"Модель-3\"><span class=\"toc-item-num\">3&nbsp;&nbsp;</span>Модель</a></span><ul class=\"toc-item\"><li><span><a href=\"#Напишем-функцию-для-вычисления-итоговой-sMAPE\" data-toc-modified-id=\"Напишем-функцию-для-вычисления-итоговой-sMAPE-3.1\"><span class=\"toc-item-num\">3.1&nbsp;&nbsp;</span>Напишем функцию для вычисления итоговой sMAPE</a></span></li><li><span><a href=\"#Обучим-разные-модели-и-оценим-их-качество-кросс-валидацией\" data-toc-modified-id=\"Обучим-разные-модели-и-оценим-их-качество-кросс-валидацией-3.2\"><span class=\"toc-item-num\">3.2&nbsp;&nbsp;</span>Обучим разные модели и оценим их качество кросс-валидацией</a></span><ul class=\"toc-item\"><li><span><a href=\"#Подготовка-данных\" data-toc-modified-id=\"Подготовка-данных-3.2.1\"><span class=\"toc-item-num\">3.2.1&nbsp;&nbsp;</span>Подготовка данных</a></span></li><li><span><a href=\"#Линейная-регрессия\" data-toc-modified-id=\"Линейная-регрессия-3.2.2\"><span class=\"toc-item-num\">3.2.2&nbsp;&nbsp;</span>Линейная регрессия</a></span></li><li><span><a href=\"#Случайный-лес\" data-toc-modified-id=\"Случайный-лес-3.2.3\"><span class=\"toc-item-num\">3.2.3&nbsp;&nbsp;</span>Случайный лес</a></span></li><li><span><a href=\"#Проверим-модель-на-тестовой-выборке\" data-toc-modified-id=\"Проверим-модель-на-тестовой-выборке-3.2.4\"><span class=\"toc-item-num\">3.2.4&nbsp;&nbsp;</span>Проверим модель на тестовой выборке</a></span></li></ul></li></ul></li><li><span><a href=\"#Чек-лист-готовности-проекта\" data-toc-modified-id=\"Чек-лист-готовности-проекта-4\"><span class=\"toc-item-num\">4&nbsp;&nbsp;</span>Чек-лист готовности проекта</a></span></li></ul></div>"
   ]
  },
  {
   "cell_type": "markdown",
   "metadata": {},
   "source": [
    "# Восстановление золота из руды"
   ]
  },
  {
   "cell_type": "markdown",
   "metadata": {},
   "source": [
    "Подготовьте прототип модели машинного обучения для «Цифры». Компания разрабатывает решения для эффективной работы промышленных предприятий.\n",
    "\n",
    "Модель должна предсказать коэффициент восстановления золота из золотосодержащей руды. Используйте данные с параметрами добычи и очистки. \n",
    "\n",
    "Модель поможет оптимизировать производство, чтобы не запускать предприятие с убыточными характеристиками.\n",
    "\n",
    "Вам нужно:\n",
    "\n",
    "1. Подготовить данные;\n",
    "2. Провести исследовательский анализ данных;\n",
    "3. Построить и обучить модель.\n",
    "\n",
    "Чтобы выполнить проект, обращайтесь к библиотекам *pandas*, *matplotlib* и *sklearn.* Вам поможет их документация."
   ]
  },
  {
   "cell_type": "markdown",
   "metadata": {},
   "source": [
    "## Подготовка данных"
   ]
  },
  {
   "cell_type": "markdown",
   "metadata": {},
   "source": [
    "### Откроем файлы и изучим их"
   ]
  },
  {
   "cell_type": "code",
   "execution_count": 1,
   "metadata": {},
   "outputs": [],
   "source": [
    "import pandas as pd\n",
    "import math\n",
    "import seaborn as sns\n",
    "from sklearn.utils import shuffle\n",
    "from sklearn.model_selection import train_test_split\n",
    "from sklearn.linear_model import LinearRegression\n",
    "from sklearn.linear_model import LogisticRegression\n",
    "from sklearn.tree import DecisionTreeClassifier\n",
    "from sklearn.model_selection import GridSearchCV\n",
    "from sklearn.ensemble import RandomForestClassifier\n",
    "from sklearn.linear_model import LinearRegression\n",
    "from sklearn.metrics import confusion_matrix\n",
    "from sklearn.metrics import mean_squared_error, r2_score, mean_absolute_error\n",
    "from sklearn.metrics import f1_score\n",
    "from sklearn.metrics import roc_auc_score \n",
    "from sklearn.metrics import recall_score\n",
    "from sklearn.metrics import precision_score\n",
    "from sklearn.preprocessing import StandardScaler \n",
    "from sklearn.linear_model import LogisticRegression\n",
    "from sklearn.dummy import DummyClassifier\n",
    "from sklearn.dummy import DummyRegressor\n",
    "from sklearn.metrics import accuracy_score \n",
    "import matplotlib.pyplot as plt\n",
    "from collections import Counter\n",
    "import numpy as np\n",
    "from scipy import stats as st\n",
    "from numpy.random import RandomState\n",
    "from sklearn.metrics import mean_squared_error\n",
    "from sklearn.ensemble import RandomForestRegressor\n",
    "from sklearn.model_selection import RandomizedSearchCV\n",
    "from sklearn.model_selection import train_test_split\n",
    "from sklearn.metrics import mean_squared_error\n",
    "import lightgbm as lgb"
   ]
  },
  {
   "cell_type": "code",
   "execution_count": 2,
   "metadata": {},
   "outputs": [],
   "source": [
    "data_train=pd.read_csv('/datasets/gold_recovery_train_new.csv')\n",
    "data_test=pd.read_csv('/datasets/gold_recovery_test_new.csv')\n",
    "data=pd.read_csv('/datasets/gold_recovery_full_new.csv')"
   ]
  },
  {
   "cell_type": "markdown",
   "metadata": {},
   "source": [
    "<div style=\"background: #cceeaa; padding: 5px; border: 1px solid green; border-radius: 5px;\">\n",
    "<font color='green'> \n",
    "    <b><u>КОММЕНТАРИЙ РЕВЬЮЕРА</u></b>\n",
    "<font color='green'><br>Ок, данные на базе)"
   ]
  },
  {
   "cell_type": "code",
   "execution_count": 3,
   "metadata": {
    "scrolled": true
   },
   "outputs": [
    {
     "name": "stdout",
     "output_type": "stream",
     "text": [
      "<class 'pandas.core.frame.DataFrame'>\n",
      "RangeIndex: 19439 entries, 0 to 19438\n",
      "Data columns (total 87 columns):\n",
      "date                                                  19439 non-null object\n",
      "final.output.concentrate_ag                           19438 non-null float64\n",
      "final.output.concentrate_pb                           19438 non-null float64\n",
      "final.output.concentrate_sol                          19228 non-null float64\n",
      "final.output.concentrate_au                           19439 non-null float64\n",
      "final.output.recovery                                 19439 non-null float64\n",
      "final.output.tail_ag                                  19438 non-null float64\n",
      "final.output.tail_pb                                  19338 non-null float64\n",
      "final.output.tail_sol                                 19433 non-null float64\n",
      "final.output.tail_au                                  19439 non-null float64\n",
      "primary_cleaner.input.sulfate                         19415 non-null float64\n",
      "primary_cleaner.input.depressant                      19402 non-null float64\n",
      "primary_cleaner.input.feed_size                       19439 non-null float64\n",
      "primary_cleaner.input.xanthate                        19335 non-null float64\n",
      "primary_cleaner.output.concentrate_ag                 19439 non-null float64\n",
      "primary_cleaner.output.concentrate_pb                 19323 non-null float64\n",
      "primary_cleaner.output.concentrate_sol                19069 non-null float64\n",
      "primary_cleaner.output.concentrate_au                 19439 non-null float64\n",
      "primary_cleaner.output.tail_ag                        19435 non-null float64\n",
      "primary_cleaner.output.tail_pb                        19418 non-null float64\n",
      "primary_cleaner.output.tail_sol                       19377 non-null float64\n",
      "primary_cleaner.output.tail_au                        19439 non-null float64\n",
      "primary_cleaner.state.floatbank8_a_air                19435 non-null float64\n",
      "primary_cleaner.state.floatbank8_a_level              19438 non-null float64\n",
      "primary_cleaner.state.floatbank8_b_air                19435 non-null float64\n",
      "primary_cleaner.state.floatbank8_b_level              19438 non-null float64\n",
      "primary_cleaner.state.floatbank8_c_air                19437 non-null float64\n",
      "primary_cleaner.state.floatbank8_c_level              19438 non-null float64\n",
      "primary_cleaner.state.floatbank8_d_air                19436 non-null float64\n",
      "primary_cleaner.state.floatbank8_d_level              19438 non-null float64\n",
      "rougher.calculation.sulfate_to_au_concentrate         19437 non-null float64\n",
      "rougher.calculation.floatbank10_sulfate_to_au_feed    19437 non-null float64\n",
      "rougher.calculation.floatbank11_sulfate_to_au_feed    19437 non-null float64\n",
      "rougher.calculation.au_pb_ratio                       19439 non-null float64\n",
      "rougher.input.feed_ag                                 19439 non-null float64\n",
      "rougher.input.feed_pb                                 19339 non-null float64\n",
      "rougher.input.feed_rate                               19428 non-null float64\n",
      "rougher.input.feed_size                               19294 non-null float64\n",
      "rougher.input.feed_sol                                19340 non-null float64\n",
      "rougher.input.feed_au                                 19439 non-null float64\n",
      "rougher.input.floatbank10_sulfate                     19405 non-null float64\n",
      "rougher.input.floatbank10_xanthate                    19431 non-null float64\n",
      "rougher.input.floatbank11_sulfate                     19395 non-null float64\n",
      "rougher.input.floatbank11_xanthate                    18986 non-null float64\n",
      "rougher.output.concentrate_ag                         19439 non-null float64\n",
      "rougher.output.concentrate_pb                         19439 non-null float64\n",
      "rougher.output.concentrate_sol                        19416 non-null float64\n",
      "rougher.output.concentrate_au                         19439 non-null float64\n",
      "rougher.output.recovery                               19439 non-null float64\n",
      "rougher.output.tail_ag                                19438 non-null float64\n",
      "rougher.output.tail_pb                                19439 non-null float64\n",
      "rougher.output.tail_sol                               19439 non-null float64\n",
      "rougher.output.tail_au                                19439 non-null float64\n",
      "rougher.state.floatbank10_a_air                       19438 non-null float64\n",
      "rougher.state.floatbank10_a_level                     19438 non-null float64\n",
      "rougher.state.floatbank10_b_air                       19438 non-null float64\n",
      "rougher.state.floatbank10_b_level                     19438 non-null float64\n",
      "rougher.state.floatbank10_c_air                       19438 non-null float64\n",
      "rougher.state.floatbank10_c_level                     19438 non-null float64\n",
      "rougher.state.floatbank10_d_air                       19439 non-null float64\n",
      "rougher.state.floatbank10_d_level                     19439 non-null float64\n",
      "rougher.state.floatbank10_e_air                       19003 non-null float64\n",
      "rougher.state.floatbank10_e_level                     19439 non-null float64\n",
      "rougher.state.floatbank10_f_air                       19439 non-null float64\n",
      "rougher.state.floatbank10_f_level                     19439 non-null float64\n",
      "secondary_cleaner.output.tail_ag                      19437 non-null float64\n",
      "secondary_cleaner.output.tail_pb                      19427 non-null float64\n",
      "secondary_cleaner.output.tail_sol                     17691 non-null float64\n",
      "secondary_cleaner.output.tail_au                      19439 non-null float64\n",
      "secondary_cleaner.state.floatbank2_a_air              19219 non-null float64\n",
      "secondary_cleaner.state.floatbank2_a_level            19438 non-null float64\n",
      "secondary_cleaner.state.floatbank2_b_air              19416 non-null float64\n",
      "secondary_cleaner.state.floatbank2_b_level            19438 non-null float64\n",
      "secondary_cleaner.state.floatbank3_a_air              19426 non-null float64\n",
      "secondary_cleaner.state.floatbank3_a_level            19438 non-null float64\n",
      "secondary_cleaner.state.floatbank3_b_air              19438 non-null float64\n",
      "secondary_cleaner.state.floatbank3_b_level            19438 non-null float64\n",
      "secondary_cleaner.state.floatbank4_a_air              19433 non-null float64\n",
      "secondary_cleaner.state.floatbank4_a_level            19438 non-null float64\n",
      "secondary_cleaner.state.floatbank4_b_air              19438 non-null float64\n",
      "secondary_cleaner.state.floatbank4_b_level            19438 non-null float64\n",
      "secondary_cleaner.state.floatbank5_a_air              19438 non-null float64\n",
      "secondary_cleaner.state.floatbank5_a_level            19438 non-null float64\n",
      "secondary_cleaner.state.floatbank5_b_air              19438 non-null float64\n",
      "secondary_cleaner.state.floatbank5_b_level            19438 non-null float64\n",
      "secondary_cleaner.state.floatbank6_a_air              19437 non-null float64\n",
      "secondary_cleaner.state.floatbank6_a_level            19438 non-null float64\n",
      "dtypes: float64(86), object(1)\n",
      "memory usage: 12.9+ MB\n"
     ]
    }
   ],
   "source": [
    "data.info()"
   ]
  },
  {
   "cell_type": "code",
   "execution_count": 4,
   "metadata": {},
   "outputs": [
    {
     "data": {
      "text/html": [
       "<div>\n",
       "<style scoped>\n",
       "    .dataframe tbody tr th:only-of-type {\n",
       "        vertical-align: middle;\n",
       "    }\n",
       "\n",
       "    .dataframe tbody tr th {\n",
       "        vertical-align: top;\n",
       "    }\n",
       "\n",
       "    .dataframe thead th {\n",
       "        text-align: right;\n",
       "    }\n",
       "</style>\n",
       "<table border=\"1\" class=\"dataframe\">\n",
       "  <thead>\n",
       "    <tr style=\"text-align: right;\">\n",
       "      <th></th>\n",
       "      <th>date</th>\n",
       "      <th>primary_cleaner.input.sulfate</th>\n",
       "      <th>primary_cleaner.input.depressant</th>\n",
       "      <th>primary_cleaner.input.feed_size</th>\n",
       "      <th>primary_cleaner.input.xanthate</th>\n",
       "      <th>primary_cleaner.state.floatbank8_a_air</th>\n",
       "      <th>primary_cleaner.state.floatbank8_a_level</th>\n",
       "      <th>primary_cleaner.state.floatbank8_b_air</th>\n",
       "      <th>primary_cleaner.state.floatbank8_b_level</th>\n",
       "      <th>primary_cleaner.state.floatbank8_c_air</th>\n",
       "      <th>...</th>\n",
       "      <th>secondary_cleaner.state.floatbank4_a_air</th>\n",
       "      <th>secondary_cleaner.state.floatbank4_a_level</th>\n",
       "      <th>secondary_cleaner.state.floatbank4_b_air</th>\n",
       "      <th>secondary_cleaner.state.floatbank4_b_level</th>\n",
       "      <th>secondary_cleaner.state.floatbank5_a_air</th>\n",
       "      <th>secondary_cleaner.state.floatbank5_a_level</th>\n",
       "      <th>secondary_cleaner.state.floatbank5_b_air</th>\n",
       "      <th>secondary_cleaner.state.floatbank5_b_level</th>\n",
       "      <th>secondary_cleaner.state.floatbank6_a_air</th>\n",
       "      <th>secondary_cleaner.state.floatbank6_a_level</th>\n",
       "    </tr>\n",
       "  </thead>\n",
       "  <tbody>\n",
       "    <tr>\n",
       "      <td>0</td>\n",
       "      <td>2016-09-01 00:59:59</td>\n",
       "      <td>210.800909</td>\n",
       "      <td>14.993118</td>\n",
       "      <td>8.080000</td>\n",
       "      <td>1.005021</td>\n",
       "      <td>1398.981301</td>\n",
       "      <td>-500.225577</td>\n",
       "      <td>1399.144926</td>\n",
       "      <td>-499.919735</td>\n",
       "      <td>1400.102998</td>\n",
       "      <td>...</td>\n",
       "      <td>12.023554</td>\n",
       "      <td>-497.795834</td>\n",
       "      <td>8.016656</td>\n",
       "      <td>-501.289139</td>\n",
       "      <td>7.946562</td>\n",
       "      <td>-432.317850</td>\n",
       "      <td>4.872511</td>\n",
       "      <td>-500.037437</td>\n",
       "      <td>26.705889</td>\n",
       "      <td>-499.709414</td>\n",
       "    </tr>\n",
       "    <tr>\n",
       "      <td>1</td>\n",
       "      <td>2016-09-01 01:59:59</td>\n",
       "      <td>215.392455</td>\n",
       "      <td>14.987471</td>\n",
       "      <td>8.080000</td>\n",
       "      <td>0.990469</td>\n",
       "      <td>1398.777912</td>\n",
       "      <td>-500.057435</td>\n",
       "      <td>1398.055362</td>\n",
       "      <td>-499.778182</td>\n",
       "      <td>1396.151033</td>\n",
       "      <td>...</td>\n",
       "      <td>12.058140</td>\n",
       "      <td>-498.695773</td>\n",
       "      <td>8.130979</td>\n",
       "      <td>-499.634209</td>\n",
       "      <td>7.958270</td>\n",
       "      <td>-525.839648</td>\n",
       "      <td>4.878850</td>\n",
       "      <td>-500.162375</td>\n",
       "      <td>25.019940</td>\n",
       "      <td>-499.819438</td>\n",
       "    </tr>\n",
       "    <tr>\n",
       "      <td>2</td>\n",
       "      <td>2016-09-01 02:59:59</td>\n",
       "      <td>215.259946</td>\n",
       "      <td>12.884934</td>\n",
       "      <td>7.786667</td>\n",
       "      <td>0.996043</td>\n",
       "      <td>1398.493666</td>\n",
       "      <td>-500.868360</td>\n",
       "      <td>1398.860436</td>\n",
       "      <td>-499.764529</td>\n",
       "      <td>1398.075709</td>\n",
       "      <td>...</td>\n",
       "      <td>11.962366</td>\n",
       "      <td>-498.767484</td>\n",
       "      <td>8.096893</td>\n",
       "      <td>-500.827423</td>\n",
       "      <td>8.071056</td>\n",
       "      <td>-500.801673</td>\n",
       "      <td>4.905125</td>\n",
       "      <td>-499.828510</td>\n",
       "      <td>24.994862</td>\n",
       "      <td>-500.622559</td>\n",
       "    </tr>\n",
       "    <tr>\n",
       "      <td>3</td>\n",
       "      <td>2016-09-01 03:59:59</td>\n",
       "      <td>215.336236</td>\n",
       "      <td>12.006805</td>\n",
       "      <td>7.640000</td>\n",
       "      <td>0.863514</td>\n",
       "      <td>1399.618111</td>\n",
       "      <td>-498.863574</td>\n",
       "      <td>1397.440120</td>\n",
       "      <td>-499.211024</td>\n",
       "      <td>1400.129303</td>\n",
       "      <td>...</td>\n",
       "      <td>12.033091</td>\n",
       "      <td>-498.350935</td>\n",
       "      <td>8.074946</td>\n",
       "      <td>-499.474407</td>\n",
       "      <td>7.897085</td>\n",
       "      <td>-500.868509</td>\n",
       "      <td>4.931400</td>\n",
       "      <td>-499.963623</td>\n",
       "      <td>24.948919</td>\n",
       "      <td>-498.709987</td>\n",
       "    </tr>\n",
       "    <tr>\n",
       "      <td>4</td>\n",
       "      <td>2016-09-01 04:59:59</td>\n",
       "      <td>199.099327</td>\n",
       "      <td>10.682530</td>\n",
       "      <td>7.530000</td>\n",
       "      <td>0.805575</td>\n",
       "      <td>1401.268123</td>\n",
       "      <td>-500.808305</td>\n",
       "      <td>1398.128818</td>\n",
       "      <td>-499.504543</td>\n",
       "      <td>1402.172226</td>\n",
       "      <td>...</td>\n",
       "      <td>12.025367</td>\n",
       "      <td>-500.786497</td>\n",
       "      <td>8.054678</td>\n",
       "      <td>-500.397500</td>\n",
       "      <td>8.107890</td>\n",
       "      <td>-509.526725</td>\n",
       "      <td>4.957674</td>\n",
       "      <td>-500.360026</td>\n",
       "      <td>25.003331</td>\n",
       "      <td>-500.856333</td>\n",
       "    </tr>\n",
       "    <tr>\n",
       "      <td>...</td>\n",
       "      <td>...</td>\n",
       "      <td>...</td>\n",
       "      <td>...</td>\n",
       "      <td>...</td>\n",
       "      <td>...</td>\n",
       "      <td>...</td>\n",
       "      <td>...</td>\n",
       "      <td>...</td>\n",
       "      <td>...</td>\n",
       "      <td>...</td>\n",
       "      <td>...</td>\n",
       "      <td>...</td>\n",
       "      <td>...</td>\n",
       "      <td>...</td>\n",
       "      <td>...</td>\n",
       "      <td>...</td>\n",
       "      <td>...</td>\n",
       "      <td>...</td>\n",
       "      <td>...</td>\n",
       "      <td>...</td>\n",
       "      <td>...</td>\n",
       "    </tr>\n",
       "    <tr>\n",
       "      <td>5285</td>\n",
       "      <td>2017-12-31 19:59:59</td>\n",
       "      <td>173.957757</td>\n",
       "      <td>15.963399</td>\n",
       "      <td>8.070000</td>\n",
       "      <td>0.896701</td>\n",
       "      <td>1401.930554</td>\n",
       "      <td>-499.728848</td>\n",
       "      <td>1401.441445</td>\n",
       "      <td>-499.193423</td>\n",
       "      <td>1399.810313</td>\n",
       "      <td>...</td>\n",
       "      <td>13.995957</td>\n",
       "      <td>-500.157454</td>\n",
       "      <td>12.069155</td>\n",
       "      <td>-499.673279</td>\n",
       "      <td>7.977259</td>\n",
       "      <td>-499.516126</td>\n",
       "      <td>5.933319</td>\n",
       "      <td>-499.965973</td>\n",
       "      <td>8.987171</td>\n",
       "      <td>-499.755909</td>\n",
       "    </tr>\n",
       "    <tr>\n",
       "      <td>5286</td>\n",
       "      <td>2017-12-31 20:59:59</td>\n",
       "      <td>172.910270</td>\n",
       "      <td>16.002605</td>\n",
       "      <td>8.070000</td>\n",
       "      <td>0.896519</td>\n",
       "      <td>1447.075722</td>\n",
       "      <td>-494.716823</td>\n",
       "      <td>1448.851892</td>\n",
       "      <td>-465.963026</td>\n",
       "      <td>1443.890424</td>\n",
       "      <td>...</td>\n",
       "      <td>16.749781</td>\n",
       "      <td>-496.031539</td>\n",
       "      <td>13.365371</td>\n",
       "      <td>-499.122723</td>\n",
       "      <td>9.288553</td>\n",
       "      <td>-496.892967</td>\n",
       "      <td>7.372897</td>\n",
       "      <td>-499.942956</td>\n",
       "      <td>8.986832</td>\n",
       "      <td>-499.903761</td>\n",
       "    </tr>\n",
       "    <tr>\n",
       "      <td>5287</td>\n",
       "      <td>2017-12-31 21:59:59</td>\n",
       "      <td>171.135718</td>\n",
       "      <td>15.993669</td>\n",
       "      <td>8.070000</td>\n",
       "      <td>1.165996</td>\n",
       "      <td>1498.836182</td>\n",
       "      <td>-501.770403</td>\n",
       "      <td>1499.572353</td>\n",
       "      <td>-495.516347</td>\n",
       "      <td>1502.749213</td>\n",
       "      <td>...</td>\n",
       "      <td>19.994130</td>\n",
       "      <td>-499.791312</td>\n",
       "      <td>15.101425</td>\n",
       "      <td>-499.936252</td>\n",
       "      <td>10.989181</td>\n",
       "      <td>-498.347898</td>\n",
       "      <td>9.020944</td>\n",
       "      <td>-500.040448</td>\n",
       "      <td>8.982038</td>\n",
       "      <td>-497.789882</td>\n",
       "    </tr>\n",
       "    <tr>\n",
       "      <td>5288</td>\n",
       "      <td>2017-12-31 22:59:59</td>\n",
       "      <td>179.697158</td>\n",
       "      <td>15.438979</td>\n",
       "      <td>8.070000</td>\n",
       "      <td>1.501068</td>\n",
       "      <td>1498.466243</td>\n",
       "      <td>-500.483984</td>\n",
       "      <td>1497.986986</td>\n",
       "      <td>-519.200340</td>\n",
       "      <td>1496.569047</td>\n",
       "      <td>...</td>\n",
       "      <td>19.958760</td>\n",
       "      <td>-499.958750</td>\n",
       "      <td>15.026853</td>\n",
       "      <td>-499.723143</td>\n",
       "      <td>11.011607</td>\n",
       "      <td>-499.985046</td>\n",
       "      <td>9.009783</td>\n",
       "      <td>-499.937902</td>\n",
       "      <td>9.012660</td>\n",
       "      <td>-500.154284</td>\n",
       "    </tr>\n",
       "    <tr>\n",
       "      <td>5289</td>\n",
       "      <td>2017-12-31 23:59:59</td>\n",
       "      <td>181.556856</td>\n",
       "      <td>14.995850</td>\n",
       "      <td>8.070000</td>\n",
       "      <td>1.623454</td>\n",
       "      <td>1498.096303</td>\n",
       "      <td>-499.796922</td>\n",
       "      <td>1501.743791</td>\n",
       "      <td>-505.146931</td>\n",
       "      <td>1499.535978</td>\n",
       "      <td>...</td>\n",
       "      <td>20.034715</td>\n",
       "      <td>-500.728588</td>\n",
       "      <td>14.914199</td>\n",
       "      <td>-499.948518</td>\n",
       "      <td>10.986607</td>\n",
       "      <td>-500.658027</td>\n",
       "      <td>8.989497</td>\n",
       "      <td>-500.337588</td>\n",
       "      <td>8.988632</td>\n",
       "      <td>-500.764937</td>\n",
       "    </tr>\n",
       "  </tbody>\n",
       "</table>\n",
       "<p>5290 rows × 53 columns</p>\n",
       "</div>"
      ],
      "text/plain": [
       "                     date  primary_cleaner.input.sulfate  \\\n",
       "0     2016-09-01 00:59:59                     210.800909   \n",
       "1     2016-09-01 01:59:59                     215.392455   \n",
       "2     2016-09-01 02:59:59                     215.259946   \n",
       "3     2016-09-01 03:59:59                     215.336236   \n",
       "4     2016-09-01 04:59:59                     199.099327   \n",
       "...                   ...                            ...   \n",
       "5285  2017-12-31 19:59:59                     173.957757   \n",
       "5286  2017-12-31 20:59:59                     172.910270   \n",
       "5287  2017-12-31 21:59:59                     171.135718   \n",
       "5288  2017-12-31 22:59:59                     179.697158   \n",
       "5289  2017-12-31 23:59:59                     181.556856   \n",
       "\n",
       "      primary_cleaner.input.depressant  primary_cleaner.input.feed_size  \\\n",
       "0                            14.993118                         8.080000   \n",
       "1                            14.987471                         8.080000   \n",
       "2                            12.884934                         7.786667   \n",
       "3                            12.006805                         7.640000   \n",
       "4                            10.682530                         7.530000   \n",
       "...                                ...                              ...   \n",
       "5285                         15.963399                         8.070000   \n",
       "5286                         16.002605                         8.070000   \n",
       "5287                         15.993669                         8.070000   \n",
       "5288                         15.438979                         8.070000   \n",
       "5289                         14.995850                         8.070000   \n",
       "\n",
       "      primary_cleaner.input.xanthate  primary_cleaner.state.floatbank8_a_air  \\\n",
       "0                           1.005021                             1398.981301   \n",
       "1                           0.990469                             1398.777912   \n",
       "2                           0.996043                             1398.493666   \n",
       "3                           0.863514                             1399.618111   \n",
       "4                           0.805575                             1401.268123   \n",
       "...                              ...                                     ...   \n",
       "5285                        0.896701                             1401.930554   \n",
       "5286                        0.896519                             1447.075722   \n",
       "5287                        1.165996                             1498.836182   \n",
       "5288                        1.501068                             1498.466243   \n",
       "5289                        1.623454                             1498.096303   \n",
       "\n",
       "      primary_cleaner.state.floatbank8_a_level  \\\n",
       "0                                  -500.225577   \n",
       "1                                  -500.057435   \n",
       "2                                  -500.868360   \n",
       "3                                  -498.863574   \n",
       "4                                  -500.808305   \n",
       "...                                        ...   \n",
       "5285                               -499.728848   \n",
       "5286                               -494.716823   \n",
       "5287                               -501.770403   \n",
       "5288                               -500.483984   \n",
       "5289                               -499.796922   \n",
       "\n",
       "      primary_cleaner.state.floatbank8_b_air  \\\n",
       "0                                1399.144926   \n",
       "1                                1398.055362   \n",
       "2                                1398.860436   \n",
       "3                                1397.440120   \n",
       "4                                1398.128818   \n",
       "...                                      ...   \n",
       "5285                             1401.441445   \n",
       "5286                             1448.851892   \n",
       "5287                             1499.572353   \n",
       "5288                             1497.986986   \n",
       "5289                             1501.743791   \n",
       "\n",
       "      primary_cleaner.state.floatbank8_b_level  \\\n",
       "0                                  -499.919735   \n",
       "1                                  -499.778182   \n",
       "2                                  -499.764529   \n",
       "3                                  -499.211024   \n",
       "4                                  -499.504543   \n",
       "...                                        ...   \n",
       "5285                               -499.193423   \n",
       "5286                               -465.963026   \n",
       "5287                               -495.516347   \n",
       "5288                               -519.200340   \n",
       "5289                               -505.146931   \n",
       "\n",
       "      primary_cleaner.state.floatbank8_c_air  ...  \\\n",
       "0                                1400.102998  ...   \n",
       "1                                1396.151033  ...   \n",
       "2                                1398.075709  ...   \n",
       "3                                1400.129303  ...   \n",
       "4                                1402.172226  ...   \n",
       "...                                      ...  ...   \n",
       "5285                             1399.810313  ...   \n",
       "5286                             1443.890424  ...   \n",
       "5287                             1502.749213  ...   \n",
       "5288                             1496.569047  ...   \n",
       "5289                             1499.535978  ...   \n",
       "\n",
       "      secondary_cleaner.state.floatbank4_a_air  \\\n",
       "0                                    12.023554   \n",
       "1                                    12.058140   \n",
       "2                                    11.962366   \n",
       "3                                    12.033091   \n",
       "4                                    12.025367   \n",
       "...                                        ...   \n",
       "5285                                 13.995957   \n",
       "5286                                 16.749781   \n",
       "5287                                 19.994130   \n",
       "5288                                 19.958760   \n",
       "5289                                 20.034715   \n",
       "\n",
       "      secondary_cleaner.state.floatbank4_a_level  \\\n",
       "0                                    -497.795834   \n",
       "1                                    -498.695773   \n",
       "2                                    -498.767484   \n",
       "3                                    -498.350935   \n",
       "4                                    -500.786497   \n",
       "...                                          ...   \n",
       "5285                                 -500.157454   \n",
       "5286                                 -496.031539   \n",
       "5287                                 -499.791312   \n",
       "5288                                 -499.958750   \n",
       "5289                                 -500.728588   \n",
       "\n",
       "      secondary_cleaner.state.floatbank4_b_air  \\\n",
       "0                                     8.016656   \n",
       "1                                     8.130979   \n",
       "2                                     8.096893   \n",
       "3                                     8.074946   \n",
       "4                                     8.054678   \n",
       "...                                        ...   \n",
       "5285                                 12.069155   \n",
       "5286                                 13.365371   \n",
       "5287                                 15.101425   \n",
       "5288                                 15.026853   \n",
       "5289                                 14.914199   \n",
       "\n",
       "      secondary_cleaner.state.floatbank4_b_level  \\\n",
       "0                                    -501.289139   \n",
       "1                                    -499.634209   \n",
       "2                                    -500.827423   \n",
       "3                                    -499.474407   \n",
       "4                                    -500.397500   \n",
       "...                                          ...   \n",
       "5285                                 -499.673279   \n",
       "5286                                 -499.122723   \n",
       "5287                                 -499.936252   \n",
       "5288                                 -499.723143   \n",
       "5289                                 -499.948518   \n",
       "\n",
       "      secondary_cleaner.state.floatbank5_a_air  \\\n",
       "0                                     7.946562   \n",
       "1                                     7.958270   \n",
       "2                                     8.071056   \n",
       "3                                     7.897085   \n",
       "4                                     8.107890   \n",
       "...                                        ...   \n",
       "5285                                  7.977259   \n",
       "5286                                  9.288553   \n",
       "5287                                 10.989181   \n",
       "5288                                 11.011607   \n",
       "5289                                 10.986607   \n",
       "\n",
       "      secondary_cleaner.state.floatbank5_a_level  \\\n",
       "0                                    -432.317850   \n",
       "1                                    -525.839648   \n",
       "2                                    -500.801673   \n",
       "3                                    -500.868509   \n",
       "4                                    -509.526725   \n",
       "...                                          ...   \n",
       "5285                                 -499.516126   \n",
       "5286                                 -496.892967   \n",
       "5287                                 -498.347898   \n",
       "5288                                 -499.985046   \n",
       "5289                                 -500.658027   \n",
       "\n",
       "      secondary_cleaner.state.floatbank5_b_air  \\\n",
       "0                                     4.872511   \n",
       "1                                     4.878850   \n",
       "2                                     4.905125   \n",
       "3                                     4.931400   \n",
       "4                                     4.957674   \n",
       "...                                        ...   \n",
       "5285                                  5.933319   \n",
       "5286                                  7.372897   \n",
       "5287                                  9.020944   \n",
       "5288                                  9.009783   \n",
       "5289                                  8.989497   \n",
       "\n",
       "      secondary_cleaner.state.floatbank5_b_level  \\\n",
       "0                                    -500.037437   \n",
       "1                                    -500.162375   \n",
       "2                                    -499.828510   \n",
       "3                                    -499.963623   \n",
       "4                                    -500.360026   \n",
       "...                                          ...   \n",
       "5285                                 -499.965973   \n",
       "5286                                 -499.942956   \n",
       "5287                                 -500.040448   \n",
       "5288                                 -499.937902   \n",
       "5289                                 -500.337588   \n",
       "\n",
       "      secondary_cleaner.state.floatbank6_a_air  \\\n",
       "0                                    26.705889   \n",
       "1                                    25.019940   \n",
       "2                                    24.994862   \n",
       "3                                    24.948919   \n",
       "4                                    25.003331   \n",
       "...                                        ...   \n",
       "5285                                  8.987171   \n",
       "5286                                  8.986832   \n",
       "5287                                  8.982038   \n",
       "5288                                  9.012660   \n",
       "5289                                  8.988632   \n",
       "\n",
       "      secondary_cleaner.state.floatbank6_a_level  \n",
       "0                                    -499.709414  \n",
       "1                                    -499.819438  \n",
       "2                                    -500.622559  \n",
       "3                                    -498.709987  \n",
       "4                                    -500.856333  \n",
       "...                                          ...  \n",
       "5285                                 -499.755909  \n",
       "5286                                 -499.903761  \n",
       "5287                                 -497.789882  \n",
       "5288                                 -500.154284  \n",
       "5289                                 -500.764937  \n",
       "\n",
       "[5290 rows x 53 columns]"
      ]
     },
     "execution_count": 4,
     "metadata": {},
     "output_type": "execute_result"
    }
   ],
   "source": [
    "data_test"
   ]
  },
  {
   "cell_type": "code",
   "execution_count": 5,
   "metadata": {
    "scrolled": false
   },
   "outputs": [
    {
     "name": "stdout",
     "output_type": "stream",
     "text": [
      "<class 'pandas.core.frame.DataFrame'>\n",
      "RangeIndex: 14149 entries, 0 to 14148\n",
      "Data columns (total 87 columns):\n",
      "date                                                  14149 non-null object\n",
      "final.output.concentrate_ag                           14148 non-null float64\n",
      "final.output.concentrate_pb                           14148 non-null float64\n",
      "final.output.concentrate_sol                          13938 non-null float64\n",
      "final.output.concentrate_au                           14149 non-null float64\n",
      "final.output.recovery                                 14149 non-null float64\n",
      "final.output.tail_ag                                  14149 non-null float64\n",
      "final.output.tail_pb                                  14049 non-null float64\n",
      "final.output.tail_sol                                 14144 non-null float64\n",
      "final.output.tail_au                                  14149 non-null float64\n",
      "primary_cleaner.input.sulfate                         14129 non-null float64\n",
      "primary_cleaner.input.depressant                      14117 non-null float64\n",
      "primary_cleaner.input.feed_size                       14149 non-null float64\n",
      "primary_cleaner.input.xanthate                        14049 non-null float64\n",
      "primary_cleaner.output.concentrate_ag                 14149 non-null float64\n",
      "primary_cleaner.output.concentrate_pb                 14063 non-null float64\n",
      "primary_cleaner.output.concentrate_sol                13863 non-null float64\n",
      "primary_cleaner.output.concentrate_au                 14149 non-null float64\n",
      "primary_cleaner.output.tail_ag                        14148 non-null float64\n",
      "primary_cleaner.output.tail_pb                        14134 non-null float64\n",
      "primary_cleaner.output.tail_sol                       14103 non-null float64\n",
      "primary_cleaner.output.tail_au                        14149 non-null float64\n",
      "primary_cleaner.state.floatbank8_a_air                14145 non-null float64\n",
      "primary_cleaner.state.floatbank8_a_level              14148 non-null float64\n",
      "primary_cleaner.state.floatbank8_b_air                14145 non-null float64\n",
      "primary_cleaner.state.floatbank8_b_level              14148 non-null float64\n",
      "primary_cleaner.state.floatbank8_c_air                14147 non-null float64\n",
      "primary_cleaner.state.floatbank8_c_level              14148 non-null float64\n",
      "primary_cleaner.state.floatbank8_d_air                14146 non-null float64\n",
      "primary_cleaner.state.floatbank8_d_level              14148 non-null float64\n",
      "rougher.calculation.sulfate_to_au_concentrate         14148 non-null float64\n",
      "rougher.calculation.floatbank10_sulfate_to_au_feed    14148 non-null float64\n",
      "rougher.calculation.floatbank11_sulfate_to_au_feed    14148 non-null float64\n",
      "rougher.calculation.au_pb_ratio                       14149 non-null float64\n",
      "rougher.input.feed_ag                                 14149 non-null float64\n",
      "rougher.input.feed_pb                                 14049 non-null float64\n",
      "rougher.input.feed_rate                               14141 non-null float64\n",
      "rougher.input.feed_size                               14005 non-null float64\n",
      "rougher.input.feed_sol                                14071 non-null float64\n",
      "rougher.input.feed_au                                 14149 non-null float64\n",
      "rougher.input.floatbank10_sulfate                     14120 non-null float64\n",
      "rougher.input.floatbank10_xanthate                    14141 non-null float64\n",
      "rougher.input.floatbank11_sulfate                     14113 non-null float64\n",
      "rougher.input.floatbank11_xanthate                    13721 non-null float64\n",
      "rougher.output.concentrate_ag                         14149 non-null float64\n",
      "rougher.output.concentrate_pb                         14149 non-null float64\n",
      "rougher.output.concentrate_sol                        14127 non-null float64\n",
      "rougher.output.concentrate_au                         14149 non-null float64\n",
      "rougher.output.recovery                               14149 non-null float64\n",
      "rougher.output.tail_ag                                14148 non-null float64\n",
      "rougher.output.tail_pb                                14149 non-null float64\n",
      "rougher.output.tail_sol                               14149 non-null float64\n",
      "rougher.output.tail_au                                14149 non-null float64\n",
      "rougher.state.floatbank10_a_air                       14148 non-null float64\n",
      "rougher.state.floatbank10_a_level                     14148 non-null float64\n",
      "rougher.state.floatbank10_b_air                       14148 non-null float64\n",
      "rougher.state.floatbank10_b_level                     14148 non-null float64\n",
      "rougher.state.floatbank10_c_air                       14148 non-null float64\n",
      "rougher.state.floatbank10_c_level                     14148 non-null float64\n",
      "rougher.state.floatbank10_d_air                       14149 non-null float64\n",
      "rougher.state.floatbank10_d_level                     14149 non-null float64\n",
      "rougher.state.floatbank10_e_air                       13713 non-null float64\n",
      "rougher.state.floatbank10_e_level                     14149 non-null float64\n",
      "rougher.state.floatbank10_f_air                       14149 non-null float64\n",
      "rougher.state.floatbank10_f_level                     14149 non-null float64\n",
      "secondary_cleaner.output.tail_ag                      14147 non-null float64\n",
      "secondary_cleaner.output.tail_pb                      14139 non-null float64\n",
      "secondary_cleaner.output.tail_sol                     12544 non-null float64\n",
      "secondary_cleaner.output.tail_au                      14149 non-null float64\n",
      "secondary_cleaner.state.floatbank2_a_air              13932 non-null float64\n",
      "secondary_cleaner.state.floatbank2_a_level            14148 non-null float64\n",
      "secondary_cleaner.state.floatbank2_b_air              14128 non-null float64\n",
      "secondary_cleaner.state.floatbank2_b_level            14148 non-null float64\n",
      "secondary_cleaner.state.floatbank3_a_air              14145 non-null float64\n",
      "secondary_cleaner.state.floatbank3_a_level            14148 non-null float64\n",
      "secondary_cleaner.state.floatbank3_b_air              14148 non-null float64\n",
      "secondary_cleaner.state.floatbank3_b_level            14148 non-null float64\n",
      "secondary_cleaner.state.floatbank4_a_air              14143 non-null float64\n",
      "secondary_cleaner.state.floatbank4_a_level            14148 non-null float64\n",
      "secondary_cleaner.state.floatbank4_b_air              14148 non-null float64\n",
      "secondary_cleaner.state.floatbank4_b_level            14148 non-null float64\n",
      "secondary_cleaner.state.floatbank5_a_air              14148 non-null float64\n",
      "secondary_cleaner.state.floatbank5_a_level            14148 non-null float64\n",
      "secondary_cleaner.state.floatbank5_b_air              14148 non-null float64\n",
      "secondary_cleaner.state.floatbank5_b_level            14148 non-null float64\n",
      "secondary_cleaner.state.floatbank6_a_air              14147 non-null float64\n",
      "secondary_cleaner.state.floatbank6_a_level            14148 non-null float64\n",
      "dtypes: float64(86), object(1)\n",
      "memory usage: 9.4+ MB\n"
     ]
    }
   ],
   "source": [
    "data_train.info()"
   ]
  },
  {
   "cell_type": "markdown",
   "metadata": {},
   "source": [
    "<div style=\"background: #cceeaa; padding: 5px; border: 1px solid green; border-radius: 5px;\">\n",
    "<font color='green'> \n",
    "    <b><u>КОММЕНТАРИЙ РЕВЬЮЕРА</u></b>\n",
    "<font color='green'><br>и есть первичный анлитический осмотр."
   ]
  },
  {
   "cell_type": "markdown",
   "metadata": {},
   "source": [
    "### Проверим, что эффективность обогащения расчитана правильно"
   ]
  },
  {
   "cell_type": "code",
   "execution_count": 6,
   "metadata": {
    "scrolled": true
   },
   "outputs": [
    {
     "data": {
      "text/plain": [
       "count    14149.000000\n",
       "mean        82.704502\n",
       "std         14.479156\n",
       "min          0.000000\n",
       "25%         79.993067\n",
       "50%         85.299462\n",
       "75%         90.165021\n",
       "max        100.000000\n",
       "Name: rougher.output.recovery, dtype: float64"
      ]
     },
     "execution_count": 6,
     "metadata": {},
     "output_type": "execute_result"
    }
   ],
   "source": [
    "data_train['rougher.output.recovery'].describe()"
   ]
  },
  {
   "attachments": {
    "Recovery_1576238822.jpg": {
     "image/jpeg": "[encoded data removed]"
    }
   },
   "cell_type": "markdown",
   "metadata": {},
   "source": [
    "![Recovery_1576238822.jpg](attachment:Recovery_1576238822.jpg)\n",
    "где:<br>\n",
    "<b>C</b> — доля золота в концентрате после флотации/очистки;<br>\n",
    "<b>F</b> — доля золота в сырье/концентрате до флотации/очистки;<br>\n",
    "<b>T</b> — доля золота в отвальных хвостах после флотации/очистки.<br>\n",
    "Для прогноза коэффициента нужно найти долю золота в концентратах и хвостах. Причём важен не только финальный продукт, но и черновой концентрат."
   ]
  },
  {
   "cell_type": "code",
   "execution_count": 7,
   "metadata": {
    "scrolled": false
   },
   "outputs": [
    {
     "data": {
      "text/plain": [
       "count    14149.000000\n",
       "mean        19.439958\n",
       "std          3.765192\n",
       "min          0.000000\n",
       "25%         18.432161\n",
       "50%         19.947312\n",
       "75%         21.392714\n",
       "max         28.146838\n",
       "Name: rougher.output.concentrate_au, dtype: float64"
      ]
     },
     "execution_count": 7,
     "metadata": {},
     "output_type": "execute_result"
    }
   ],
   "source": [
    "#С- data_train['rougher.output.concentrate_au '] \n",
    "#F-data_train['rougher.input.feed_au'] \n",
    "# T-data_train['rougher.output.tail_au'] \n",
    "data_train['rougher.output.concentrate_au'].describe()"
   ]
  },
  {
   "cell_type": "code",
   "execution_count": 8,
   "metadata": {},
   "outputs": [
    {
     "data": {
      "text/html": [
       "<div>\n",
       "<style scoped>\n",
       "    .dataframe tbody tr th:only-of-type {\n",
       "        vertical-align: middle;\n",
       "    }\n",
       "\n",
       "    .dataframe tbody tr th {\n",
       "        vertical-align: top;\n",
       "    }\n",
       "\n",
       "    .dataframe thead th {\n",
       "        text-align: right;\n",
       "    }\n",
       "</style>\n",
       "<table border=\"1\" class=\"dataframe\">\n",
       "  <thead>\n",
       "    <tr style=\"text-align: right;\">\n",
       "      <th></th>\n",
       "      <th>rougher.output.concentrate_au</th>\n",
       "      <th>rougher.input.feed_au</th>\n",
       "      <th>rougher.output.tail_au</th>\n",
       "    </tr>\n",
       "  </thead>\n",
       "  <tbody>\n",
       "    <tr>\n",
       "      <td>count</td>\n",
       "      <td>14149.000000</td>\n",
       "      <td>14149.000000</td>\n",
       "      <td>14149.000000</td>\n",
       "    </tr>\n",
       "    <tr>\n",
       "      <td>mean</td>\n",
       "      <td>19.439958</td>\n",
       "      <td>7.866577</td>\n",
       "      <td>1.757473</td>\n",
       "    </tr>\n",
       "    <tr>\n",
       "      <td>std</td>\n",
       "      <td>3.765192</td>\n",
       "      <td>1.919506</td>\n",
       "      <td>0.713187</td>\n",
       "    </tr>\n",
       "    <tr>\n",
       "      <td>min</td>\n",
       "      <td>0.000000</td>\n",
       "      <td>0.010000</td>\n",
       "      <td>0.020676</td>\n",
       "    </tr>\n",
       "    <tr>\n",
       "      <td>25%</td>\n",
       "      <td>18.432161</td>\n",
       "      <td>6.596217</td>\n",
       "      <td>1.310800</td>\n",
       "    </tr>\n",
       "    <tr>\n",
       "      <td>50%</td>\n",
       "      <td>19.947312</td>\n",
       "      <td>7.649138</td>\n",
       "      <td>1.745513</td>\n",
       "    </tr>\n",
       "    <tr>\n",
       "      <td>75%</td>\n",
       "      <td>21.392714</td>\n",
       "      <td>9.066976</td>\n",
       "      <td>2.186790</td>\n",
       "    </tr>\n",
       "    <tr>\n",
       "      <td>max</td>\n",
       "      <td>28.146838</td>\n",
       "      <td>13.126043</td>\n",
       "      <td>9.688980</td>\n",
       "    </tr>\n",
       "  </tbody>\n",
       "</table>\n",
       "</div>"
      ],
      "text/plain": [
       "       rougher.output.concentrate_au  rougher.input.feed_au  \\\n",
       "count                   14149.000000           14149.000000   \n",
       "mean                       19.439958               7.866577   \n",
       "std                         3.765192               1.919506   \n",
       "min                         0.000000               0.010000   \n",
       "25%                        18.432161               6.596217   \n",
       "50%                        19.947312               7.649138   \n",
       "75%                        21.392714               9.066976   \n",
       "max                        28.146838              13.126043   \n",
       "\n",
       "       rougher.output.tail_au  \n",
       "count            14149.000000  \n",
       "mean                 1.757473  \n",
       "std                  0.713187  \n",
       "min                  0.020676  \n",
       "25%                  1.310800  \n",
       "50%                  1.745513  \n",
       "75%                  2.186790  \n",
       "max                  9.688980  "
      ]
     },
     "execution_count": 8,
     "metadata": {},
     "output_type": "execute_result"
    }
   ],
   "source": [
    "data_train[['rougher.output.concentrate_au','rougher.input.feed_au','rougher.output.tail_au']].describe()"
   ]
  },
  {
   "cell_type": "code",
   "execution_count": 9,
   "metadata": {},
   "outputs": [],
   "source": [
    "data_train['rougher.output.recovery-checked']=(data_train['rougher.output.concentrate_au']*(data_train['rougher.input.feed_au']-data_train['rougher.output.tail_au']))/(data_train['rougher.input.feed_au']*(data_train['rougher.output.concentrate_au']-data_train['rougher.output.tail_au']))*100"
   ]
  },
  {
   "cell_type": "code",
   "execution_count": 10,
   "metadata": {},
   "outputs": [
    {
     "data": {
      "text/html": [
       "<div>\n",
       "<style scoped>\n",
       "    .dataframe tbody tr th:only-of-type {\n",
       "        vertical-align: middle;\n",
       "    }\n",
       "\n",
       "    .dataframe tbody tr th {\n",
       "        vertical-align: top;\n",
       "    }\n",
       "\n",
       "    .dataframe thead th {\n",
       "        text-align: right;\n",
       "    }\n",
       "</style>\n",
       "<table border=\"1\" class=\"dataframe\">\n",
       "  <thead>\n",
       "    <tr style=\"text-align: right;\">\n",
       "      <th></th>\n",
       "      <th>rougher.output.recovery-checked</th>\n",
       "      <th>rougher.output.recovery</th>\n",
       "    </tr>\n",
       "  </thead>\n",
       "  <tbody>\n",
       "    <tr>\n",
       "      <td>0</td>\n",
       "      <td>87.107763</td>\n",
       "      <td>87.107763</td>\n",
       "    </tr>\n",
       "    <tr>\n",
       "      <td>1</td>\n",
       "      <td>86.843261</td>\n",
       "      <td>86.843261</td>\n",
       "    </tr>\n",
       "    <tr>\n",
       "      <td>2</td>\n",
       "      <td>86.842308</td>\n",
       "      <td>86.842308</td>\n",
       "    </tr>\n",
       "    <tr>\n",
       "      <td>3</td>\n",
       "      <td>87.226430</td>\n",
       "      <td>87.226430</td>\n",
       "    </tr>\n",
       "    <tr>\n",
       "      <td>4</td>\n",
       "      <td>86.688794</td>\n",
       "      <td>86.688794</td>\n",
       "    </tr>\n",
       "    <tr>\n",
       "      <td>...</td>\n",
       "      <td>...</td>\n",
       "      <td>...</td>\n",
       "    </tr>\n",
       "    <tr>\n",
       "      <td>14144</td>\n",
       "      <td>89.574376</td>\n",
       "      <td>89.574376</td>\n",
       "    </tr>\n",
       "    <tr>\n",
       "      <td>14145</td>\n",
       "      <td>87.724007</td>\n",
       "      <td>87.724007</td>\n",
       "    </tr>\n",
       "    <tr>\n",
       "      <td>14146</td>\n",
       "      <td>88.890579</td>\n",
       "      <td>88.890579</td>\n",
       "    </tr>\n",
       "    <tr>\n",
       "      <td>14147</td>\n",
       "      <td>89.858126</td>\n",
       "      <td>89.858126</td>\n",
       "    </tr>\n",
       "    <tr>\n",
       "      <td>14148</td>\n",
       "      <td>89.514960</td>\n",
       "      <td>89.514960</td>\n",
       "    </tr>\n",
       "  </tbody>\n",
       "</table>\n",
       "<p>14149 rows × 2 columns</p>\n",
       "</div>"
      ],
      "text/plain": [
       "       rougher.output.recovery-checked  rougher.output.recovery\n",
       "0                            87.107763                87.107763\n",
       "1                            86.843261                86.843261\n",
       "2                            86.842308                86.842308\n",
       "3                            87.226430                87.226430\n",
       "4                            86.688794                86.688794\n",
       "...                                ...                      ...\n",
       "14144                        89.574376                89.574376\n",
       "14145                        87.724007                87.724007\n",
       "14146                        88.890579                88.890579\n",
       "14147                        89.858126                89.858126\n",
       "14148                        89.514960                89.514960\n",
       "\n",
       "[14149 rows x 2 columns]"
      ]
     },
     "execution_count": 10,
     "metadata": {},
     "output_type": "execute_result"
    }
   ],
   "source": [
    "data_train[['rougher.output.recovery-checked','rougher.output.recovery']]"
   ]
  },
  {
   "cell_type": "code",
   "execution_count": 11,
   "metadata": {},
   "outputs": [
    {
     "name": "stdout",
     "output_type": "stream",
     "text": [
      "9.682896147825551e-15\n"
     ]
    }
   ],
   "source": [
    "print(mean_absolute_error(data_train['rougher.output.recovery-checked'], data_train['rougher.output.recovery']))"
   ]
  },
  {
   "cell_type": "markdown",
   "metadata": {},
   "source": [
    "MAE равно 9.73*10^-15. Значит данные посчитаны верно."
   ]
  },
  {
   "cell_type": "markdown",
   "metadata": {},
   "source": [
    "Удалим эту вспомогательную колонку"
   ]
  },
  {
   "cell_type": "code",
   "execution_count": 12,
   "metadata": {
    "scrolled": false
   },
   "outputs": [],
   "source": [
    "data_train=data_train.drop('rougher.output.recovery-checked',axis=1)"
   ]
  },
  {
   "cell_type": "markdown",
   "metadata": {},
   "source": [
    "### Посмотрим, каких признаков нет в тестовой выборке"
   ]
  },
  {
   "cell_type": "code",
   "execution_count": 13,
   "metadata": {},
   "outputs": [
    {
     "name": "stdout",
     "output_type": "stream",
     "text": [
      "(19439, 87)\n",
      "(5290, 53)\n"
     ]
    }
   ],
   "source": [
    "print(data.shape)\n",
    "print(data_test.shape)"
   ]
  },
  {
   "cell_type": "markdown",
   "metadata": {},
   "source": [
    "В тесте 53 колонки, в дате 87 колонок. Найдем уникальные"
   ]
  },
  {
   "cell_type": "code",
   "execution_count": 14,
   "metadata": {
    "scrolled": false
   },
   "outputs": [
    {
     "data": {
      "text/plain": [
       "['final.output.concentrate_ag',\n",
       " 'final.output.concentrate_au',\n",
       " 'final.output.concentrate_pb',\n",
       " 'final.output.concentrate_sol',\n",
       " 'final.output.recovery',\n",
       " 'final.output.tail_ag',\n",
       " 'final.output.tail_au',\n",
       " 'final.output.tail_pb',\n",
       " 'final.output.tail_sol',\n",
       " 'primary_cleaner.output.concentrate_ag',\n",
       " 'primary_cleaner.output.concentrate_au',\n",
       " 'primary_cleaner.output.concentrate_pb',\n",
       " 'primary_cleaner.output.concentrate_sol',\n",
       " 'primary_cleaner.output.tail_ag',\n",
       " 'primary_cleaner.output.tail_au',\n",
       " 'primary_cleaner.output.tail_pb',\n",
       " 'primary_cleaner.output.tail_sol',\n",
       " 'rougher.calculation.au_pb_ratio',\n",
       " 'rougher.calculation.floatbank10_sulfate_to_au_feed',\n",
       " 'rougher.calculation.floatbank11_sulfate_to_au_feed',\n",
       " 'rougher.calculation.sulfate_to_au_concentrate',\n",
       " 'rougher.output.concentrate_ag',\n",
       " 'rougher.output.concentrate_au',\n",
       " 'rougher.output.concentrate_pb',\n",
       " 'rougher.output.concentrate_sol',\n",
       " 'rougher.output.recovery',\n",
       " 'rougher.output.tail_ag',\n",
       " 'rougher.output.tail_au',\n",
       " 'rougher.output.tail_pb',\n",
       " 'rougher.output.tail_sol',\n",
       " 'secondary_cleaner.output.tail_ag',\n",
       " 'secondary_cleaner.output.tail_au',\n",
       " 'secondary_cleaner.output.tail_pb',\n",
       " 'secondary_cleaner.output.tail_sol']"
      ]
     },
     "execution_count": 14,
     "metadata": {},
     "output_type": "execute_result"
    }
   ],
   "source": [
    "unique_columns=(list(set(data.columns) - set(data_test.columns)))\n",
    "unique_columns.sort()\n",
    "unique_columns"
   ]
  },
  {
   "cell_type": "markdown",
   "metadata": {},
   "source": [
    "В тестовой выборке отсутствуют количественные данные по концентрации золота, серебра, свинца и элемента sol на каждом этапе очистки. То есть различные промежуточные расчетные данные. Это количественный тип данных.<br>\n",
    "Отсутствую целевые признаки - 'final.output.recovery','rougher.output.recovery'"
   ]
  },
  {
   "cell_type": "markdown",
   "metadata": {},
   "source": [
    "Добавим целевые признаки в data_test"
   ]
  },
  {
   "cell_type": "code",
   "execution_count": 15,
   "metadata": {},
   "outputs": [],
   "source": [
    "unique_columns = ['final.output.recovery','rougher.output.recovery']"
   ]
  },
  {
   "cell_type": "code",
   "execution_count": 16,
   "metadata": {},
   "outputs": [],
   "source": [
    "for i in range(0,len(unique_columns)):  \n",
    "    data_test=pd.merge(data_test, data[['date', unique_columns[i]]], how='left', on='date')   "
   ]
  },
  {
   "cell_type": "code",
   "execution_count": 17,
   "metadata": {},
   "outputs": [
    {
     "data": {
      "text/html": [
       "<div>\n",
       "<style scoped>\n",
       "    .dataframe tbody tr th:only-of-type {\n",
       "        vertical-align: middle;\n",
       "    }\n",
       "\n",
       "    .dataframe tbody tr th {\n",
       "        vertical-align: top;\n",
       "    }\n",
       "\n",
       "    .dataframe thead th {\n",
       "        text-align: right;\n",
       "    }\n",
       "</style>\n",
       "<table border=\"1\" class=\"dataframe\">\n",
       "  <thead>\n",
       "    <tr style=\"text-align: right;\">\n",
       "      <th></th>\n",
       "      <th>date</th>\n",
       "      <th>rougher.output.recovery</th>\n",
       "      <th>final.output.recovery</th>\n",
       "    </tr>\n",
       "  </thead>\n",
       "  <tbody>\n",
       "    <tr>\n",
       "      <td>0</td>\n",
       "      <td>2016-09-01 00:59:59</td>\n",
       "      <td>89.993421</td>\n",
       "      <td>70.273583</td>\n",
       "    </tr>\n",
       "    <tr>\n",
       "      <td>1</td>\n",
       "      <td>2016-09-01 01:59:59</td>\n",
       "      <td>88.089657</td>\n",
       "      <td>68.910432</td>\n",
       "    </tr>\n",
       "    <tr>\n",
       "      <td>2</td>\n",
       "      <td>2016-09-01 02:59:59</td>\n",
       "      <td>88.412756</td>\n",
       "      <td>68.143213</td>\n",
       "    </tr>\n",
       "    <tr>\n",
       "      <td>3</td>\n",
       "      <td>2016-09-01 03:59:59</td>\n",
       "      <td>87.360133</td>\n",
       "      <td>67.776393</td>\n",
       "    </tr>\n",
       "    <tr>\n",
       "      <td>4</td>\n",
       "      <td>2016-09-01 04:59:59</td>\n",
       "      <td>83.236367</td>\n",
       "      <td>61.467078</td>\n",
       "    </tr>\n",
       "    <tr>\n",
       "      <td>...</td>\n",
       "      <td>...</td>\n",
       "      <td>...</td>\n",
       "      <td>...</td>\n",
       "    </tr>\n",
       "    <tr>\n",
       "      <td>5285</td>\n",
       "      <td>2017-12-31 19:59:59</td>\n",
       "      <td>95.172585</td>\n",
       "      <td>68.919891</td>\n",
       "    </tr>\n",
       "    <tr>\n",
       "      <td>5286</td>\n",
       "      <td>2017-12-31 20:59:59</td>\n",
       "      <td>94.575036</td>\n",
       "      <td>68.440582</td>\n",
       "    </tr>\n",
       "    <tr>\n",
       "      <td>5287</td>\n",
       "      <td>2017-12-31 21:59:59</td>\n",
       "      <td>93.018138</td>\n",
       "      <td>67.092759</td>\n",
       "    </tr>\n",
       "    <tr>\n",
       "      <td>5288</td>\n",
       "      <td>2017-12-31 22:59:59</td>\n",
       "      <td>92.599042</td>\n",
       "      <td>68.061186</td>\n",
       "    </tr>\n",
       "    <tr>\n",
       "      <td>5289</td>\n",
       "      <td>2017-12-31 23:59:59</td>\n",
       "      <td>91.177695</td>\n",
       "      <td>71.699976</td>\n",
       "    </tr>\n",
       "  </tbody>\n",
       "</table>\n",
       "<p>5290 rows × 3 columns</p>\n",
       "</div>"
      ],
      "text/plain": [
       "                     date  rougher.output.recovery  final.output.recovery\n",
       "0     2016-09-01 00:59:59                89.993421              70.273583\n",
       "1     2016-09-01 01:59:59                88.089657              68.910432\n",
       "2     2016-09-01 02:59:59                88.412756              68.143213\n",
       "3     2016-09-01 03:59:59                87.360133              67.776393\n",
       "4     2016-09-01 04:59:59                83.236367              61.467078\n",
       "...                   ...                      ...                    ...\n",
       "5285  2017-12-31 19:59:59                95.172585              68.919891\n",
       "5286  2017-12-31 20:59:59                94.575036              68.440582\n",
       "5287  2017-12-31 21:59:59                93.018138              67.092759\n",
       "5288  2017-12-31 22:59:59                92.599042              68.061186\n",
       "5289  2017-12-31 23:59:59                91.177695              71.699976\n",
       "\n",
       "[5290 rows x 3 columns]"
      ]
     },
     "execution_count": 17,
     "metadata": {},
     "output_type": "execute_result"
    }
   ],
   "source": [
    "#Проверим результат, сначала на data_test:\n",
    "data_test[['date','rougher.output.recovery','final.output.recovery']]"
   ]
  },
  {
   "cell_type": "code",
   "execution_count": 18,
   "metadata": {
    "scrolled": true
   },
   "outputs": [
    {
     "data": {
      "text/html": [
       "<div>\n",
       "<style scoped>\n",
       "    .dataframe tbody tr th:only-of-type {\n",
       "        vertical-align: middle;\n",
       "    }\n",
       "\n",
       "    .dataframe tbody tr th {\n",
       "        vertical-align: top;\n",
       "    }\n",
       "\n",
       "    .dataframe thead th {\n",
       "        text-align: right;\n",
       "    }\n",
       "</style>\n",
       "<table border=\"1\" class=\"dataframe\">\n",
       "  <thead>\n",
       "    <tr style=\"text-align: right;\">\n",
       "      <th></th>\n",
       "      <th>date</th>\n",
       "      <th>rougher.output.recovery</th>\n",
       "      <th>final.output.recovery</th>\n",
       "    </tr>\n",
       "  </thead>\n",
       "  <tbody>\n",
       "    <tr>\n",
       "      <td>4682</td>\n",
       "      <td>2016-09-01 00:59:59</td>\n",
       "      <td>89.993421</td>\n",
       "      <td>70.273583</td>\n",
       "    </tr>\n",
       "    <tr>\n",
       "      <td>4683</td>\n",
       "      <td>2016-09-01 01:59:59</td>\n",
       "      <td>88.089657</td>\n",
       "      <td>68.910432</td>\n",
       "    </tr>\n",
       "    <tr>\n",
       "      <td>4684</td>\n",
       "      <td>2016-09-01 02:59:59</td>\n",
       "      <td>88.412756</td>\n",
       "      <td>68.143213</td>\n",
       "    </tr>\n",
       "  </tbody>\n",
       "</table>\n",
       "</div>"
      ],
      "text/plain": [
       "                     date  rougher.output.recovery  final.output.recovery\n",
       "4682  2016-09-01 00:59:59                89.993421              70.273583\n",
       "4683  2016-09-01 01:59:59                88.089657              68.910432\n",
       "4684  2016-09-01 02:59:59                88.412756              68.143213"
      ]
     },
     "execution_count": 18,
     "metadata": {},
     "output_type": "execute_result"
    }
   ],
   "source": [
    "#Теперь на data- проверим 3 первых значения:\n",
    "data.loc[(data['date']=='2016-09-01 00:59:59')|(data['date']=='2016-09-01 01:59:59')|(data['date']=='2016-09-01 02:59:59'),('date','rougher.output.recovery','final.output.recovery')]"
   ]
  },
  {
   "cell_type": "markdown",
   "metadata": {},
   "source": [
    "Значения совпадают"
   ]
  },
  {
   "cell_type": "code",
   "execution_count": 19,
   "metadata": {},
   "outputs": [],
   "source": [
    "#Отсортируем название столбцов в алфавитном порядке\n",
    "data_test.sort_index(axis=1, inplace = True)\n",
    "data_train.sort_index(axis=1, inplace = True)"
   ]
  },
  {
   "cell_type": "markdown",
   "metadata": {},
   "source": [
    "### Предобработка данных"
   ]
  },
  {
   "cell_type": "markdown",
   "metadata": {},
   "source": [
    "Проверим дубликаты\n"
   ]
  },
  {
   "cell_type": "code",
   "execution_count": 20,
   "metadata": {},
   "outputs": [
    {
     "name": "stdout",
     "output_type": "stream",
     "text": [
      "Дубликаты в data_test: 0\n",
      "Дубликаты в data_train: 0\n",
      "Дубликаты в data: 0\n"
     ]
    }
   ],
   "source": [
    "print('Дубликаты в data_test:',data_test.duplicated().sum())\n",
    "print('Дубликаты в data_train:',data_train.duplicated().sum())\n",
    "print('Дубликаты в data:',data.duplicated().sum())"
   ]
  },
  {
   "cell_type": "code",
   "execution_count": 21,
   "metadata": {
    "scrolled": true
   },
   "outputs": [
    {
     "data": {
      "text/plain": [
       "secondary_cleaner.output.tail_sol                     0.113436\n",
       "rougher.state.floatbank10_e_air                       0.030815\n",
       "rougher.input.floatbank11_xanthate                    0.030249\n",
       "primary_cleaner.output.concentrate_sol                0.020213\n",
       "secondary_cleaner.state.floatbank2_a_air              0.015337\n",
       "final.output.concentrate_sol                          0.014913\n",
       "rougher.input.feed_size                               0.010177\n",
       "final.output.tail_pb                                  0.007068\n",
       "rougher.input.feed_pb                                 0.007068\n",
       "primary_cleaner.input.xanthate                        0.007068\n",
       "primary_cleaner.output.concentrate_pb                 0.006078\n",
       "rougher.input.feed_sol                                0.005513\n",
       "primary_cleaner.output.tail_sol                       0.003251\n",
       "rougher.input.floatbank11_sulfate                     0.002544\n",
       "primary_cleaner.input.depressant                      0.002262\n",
       "rougher.input.floatbank10_sulfate                     0.002050\n",
       "rougher.output.concentrate_sol                        0.001555\n",
       "secondary_cleaner.state.floatbank2_b_air              0.001484\n",
       "primary_cleaner.input.sulfate                         0.001414\n",
       "primary_cleaner.output.tail_pb                        0.001060\n",
       "secondary_cleaner.output.tail_pb                      0.000707\n",
       "rougher.input.feed_rate                               0.000565\n",
       "rougher.input.floatbank10_xanthate                    0.000565\n",
       "secondary_cleaner.state.floatbank4_a_air              0.000424\n",
       "final.output.tail_sol                                 0.000353\n",
       "primary_cleaner.state.floatbank8_b_air                0.000283\n",
       "primary_cleaner.state.floatbank8_a_air                0.000283\n",
       "secondary_cleaner.state.floatbank3_a_air              0.000283\n",
       "primary_cleaner.state.floatbank8_d_air                0.000212\n",
       "primary_cleaner.state.floatbank8_c_air                0.000141\n",
       "secondary_cleaner.state.floatbank6_a_air              0.000141\n",
       "secondary_cleaner.output.tail_ag                      0.000141\n",
       "final.output.concentrate_ag                           0.000071\n",
       "final.output.concentrate_pb                           0.000071\n",
       "primary_cleaner.output.tail_ag                        0.000071\n",
       "rougher.calculation.sulfate_to_au_concentrate         0.000071\n",
       "rougher.calculation.floatbank11_sulfate_to_au_feed    0.000071\n",
       "rougher.calculation.floatbank10_sulfate_to_au_feed    0.000071\n",
       "primary_cleaner.state.floatbank8_d_level              0.000071\n",
       "primary_cleaner.state.floatbank8_b_level              0.000071\n",
       "primary_cleaner.state.floatbank8_a_level              0.000071\n",
       "primary_cleaner.state.floatbank8_c_level              0.000071\n",
       "secondary_cleaner.state.floatbank6_a_level            0.000071\n",
       "secondary_cleaner.state.floatbank5_a_air              0.000071\n",
       "rougher.state.floatbank10_b_air                       0.000071\n",
       "secondary_cleaner.state.floatbank2_b_level            0.000071\n",
       "secondary_cleaner.state.floatbank2_a_level            0.000071\n",
       "secondary_cleaner.state.floatbank3_b_level            0.000071\n",
       "secondary_cleaner.state.floatbank4_a_level            0.000071\n",
       "secondary_cleaner.state.floatbank4_b_air              0.000071\n",
       "dtype: float64"
      ]
     },
     "execution_count": 21,
     "metadata": {},
     "output_type": "execute_result"
    }
   ],
   "source": [
    "data_train.isnull().mean().sort_values(ascending=False).head(50)"
   ]
  },
  {
   "cell_type": "markdown",
   "metadata": {},
   "source": [
    "Первые 5 параметров нас не инетресуют. rougher.input.feed_size инетересует, но пропусков в нем около 1%.Не будем пока обрабатывать пропуски. Возможно вернемся к этому шагу, если это будет сказываться на обучении моделей."
   ]
  },
  {
   "cell_type": "markdown",
   "metadata": {},
   "source": [
    "Пропуски придется обработать, так как модель не будет обучаться при значениях NaN."
   ]
  },
  {
   "cell_type": "code",
   "execution_count": 22,
   "metadata": {},
   "outputs": [],
   "source": [
    "data = data.fillna(method='ffill')\n",
    "data_train = data_train.fillna(method='ffill')\n",
    "data_test= data_test.fillna(method='ffill')"
   ]
  },
  {
   "cell_type": "code",
   "execution_count": 23,
   "metadata": {},
   "outputs": [
    {
     "data": {
      "text/plain": [
       "date                                          0.0\n",
       "final.output.concentrate_ag                   0.0\n",
       "final.output.concentrate_pb                   0.0\n",
       "final.output.concentrate_sol                  0.0\n",
       "final.output.concentrate_au                   0.0\n",
       "                                             ... \n",
       "secondary_cleaner.state.floatbank5_a_level    0.0\n",
       "secondary_cleaner.state.floatbank5_b_air      0.0\n",
       "secondary_cleaner.state.floatbank5_b_level    0.0\n",
       "secondary_cleaner.state.floatbank6_a_air      0.0\n",
       "secondary_cleaner.state.floatbank6_a_level    0.0\n",
       "Length: 87, dtype: float64"
      ]
     },
     "execution_count": 23,
     "metadata": {},
     "output_type": "execute_result"
    }
   ],
   "source": [
    "data.isnull().mean()"
   ]
  },
  {
   "cell_type": "code",
   "execution_count": 24,
   "metadata": {},
   "outputs": [
    {
     "data": {
      "text/plain": [
       "date                                          0.0\n",
       "final.output.concentrate_ag                   0.0\n",
       "final.output.concentrate_au                   0.0\n",
       "final.output.concentrate_pb                   0.0\n",
       "final.output.concentrate_sol                  0.0\n",
       "                                             ... \n",
       "secondary_cleaner.state.floatbank5_a_level    0.0\n",
       "secondary_cleaner.state.floatbank5_b_air      0.0\n",
       "secondary_cleaner.state.floatbank5_b_level    0.0\n",
       "secondary_cleaner.state.floatbank6_a_air      0.0\n",
       "secondary_cleaner.state.floatbank6_a_level    0.0\n",
       "Length: 87, dtype: float64"
      ]
     },
     "execution_count": 24,
     "metadata": {},
     "output_type": "execute_result"
    }
   ],
   "source": [
    "data_train.isnull().mean()"
   ]
  },
  {
   "cell_type": "code",
   "execution_count": 25,
   "metadata": {
    "scrolled": true
   },
   "outputs": [
    {
     "data": {
      "text/plain": [
       "date                                          0.0\n",
       "final.output.recovery                         0.0\n",
       "primary_cleaner.input.depressant              0.0\n",
       "primary_cleaner.input.feed_size               0.0\n",
       "primary_cleaner.input.sulfate                 0.0\n",
       "primary_cleaner.input.xanthate                0.0\n",
       "primary_cleaner.state.floatbank8_a_air        0.0\n",
       "primary_cleaner.state.floatbank8_a_level      0.0\n",
       "primary_cleaner.state.floatbank8_b_air        0.0\n",
       "primary_cleaner.state.floatbank8_b_level      0.0\n",
       "primary_cleaner.state.floatbank8_c_air        0.0\n",
       "primary_cleaner.state.floatbank8_c_level      0.0\n",
       "primary_cleaner.state.floatbank8_d_air        0.0\n",
       "primary_cleaner.state.floatbank8_d_level      0.0\n",
       "rougher.input.feed_ag                         0.0\n",
       "rougher.input.feed_au                         0.0\n",
       "rougher.input.feed_pb                         0.0\n",
       "rougher.input.feed_rate                       0.0\n",
       "rougher.input.feed_size                       0.0\n",
       "rougher.input.feed_sol                        0.0\n",
       "rougher.input.floatbank10_sulfate             0.0\n",
       "rougher.input.floatbank10_xanthate            0.0\n",
       "rougher.input.floatbank11_sulfate             0.0\n",
       "rougher.input.floatbank11_xanthate            0.0\n",
       "rougher.output.recovery                       0.0\n",
       "rougher.state.floatbank10_a_air               0.0\n",
       "rougher.state.floatbank10_a_level             0.0\n",
       "rougher.state.floatbank10_b_air               0.0\n",
       "rougher.state.floatbank10_b_level             0.0\n",
       "rougher.state.floatbank10_c_air               0.0\n",
       "rougher.state.floatbank10_c_level             0.0\n",
       "rougher.state.floatbank10_d_air               0.0\n",
       "rougher.state.floatbank10_d_level             0.0\n",
       "rougher.state.floatbank10_e_air               0.0\n",
       "rougher.state.floatbank10_e_level             0.0\n",
       "rougher.state.floatbank10_f_air               0.0\n",
       "rougher.state.floatbank10_f_level             0.0\n",
       "secondary_cleaner.state.floatbank2_a_air      0.0\n",
       "secondary_cleaner.state.floatbank2_a_level    0.0\n",
       "secondary_cleaner.state.floatbank2_b_air      0.0\n",
       "secondary_cleaner.state.floatbank2_b_level    0.0\n",
       "secondary_cleaner.state.floatbank3_a_air      0.0\n",
       "secondary_cleaner.state.floatbank3_a_level    0.0\n",
       "secondary_cleaner.state.floatbank3_b_air      0.0\n",
       "secondary_cleaner.state.floatbank3_b_level    0.0\n",
       "secondary_cleaner.state.floatbank4_a_air      0.0\n",
       "secondary_cleaner.state.floatbank4_a_level    0.0\n",
       "secondary_cleaner.state.floatbank4_b_air      0.0\n",
       "secondary_cleaner.state.floatbank4_b_level    0.0\n",
       "secondary_cleaner.state.floatbank5_a_air      0.0\n",
       "secondary_cleaner.state.floatbank5_a_level    0.0\n",
       "secondary_cleaner.state.floatbank5_b_air      0.0\n",
       "secondary_cleaner.state.floatbank5_b_level    0.0\n",
       "secondary_cleaner.state.floatbank6_a_air      0.0\n",
       "secondary_cleaner.state.floatbank6_a_level    0.0\n",
       "dtype: float64"
      ]
     },
     "execution_count": 25,
     "metadata": {},
     "output_type": "execute_result"
    }
   ],
   "source": [
    "data_test.isnull().mean()"
   ]
  },
  {
   "cell_type": "markdown",
   "metadata": {},
   "source": [
    "Пропуски заполнены."
   ]
  },
  {
   "cell_type": "markdown",
   "metadata": {},
   "source": [
    "Напишем функцию для отображения столбцов только с конкретным процессом:"
   ]
  },
  {
   "cell_type": "code",
   "execution_count": 26,
   "metadata": {
    "scrolled": true
   },
   "outputs": [
    {
     "data": {
      "text/plain": [
       "Index(['rougher.calculation.sulfate_to_au_concentrate',\n",
       "       'rougher.calculation.floatbank10_sulfate_to_au_feed',\n",
       "       'rougher.calculation.floatbank11_sulfate_to_au_feed',\n",
       "       'rougher.calculation.au_pb_ratio', 'rougher.input.feed_ag',\n",
       "       'rougher.input.feed_pb', 'rougher.input.feed_rate',\n",
       "       'rougher.input.feed_size', 'rougher.input.feed_sol',\n",
       "       'rougher.input.feed_au', 'rougher.input.floatbank10_sulfate',\n",
       "       'rougher.input.floatbank10_xanthate',\n",
       "       'rougher.input.floatbank11_sulfate',\n",
       "       'rougher.input.floatbank11_xanthate', 'rougher.output.concentrate_ag',\n",
       "       'rougher.output.concentrate_pb', 'rougher.output.concentrate_sol',\n",
       "       'rougher.output.concentrate_au', 'rougher.output.recovery',\n",
       "       'rougher.output.tail_ag', 'rougher.output.tail_pb',\n",
       "       'rougher.output.tail_sol', 'rougher.output.tail_au',\n",
       "       'rougher.state.floatbank10_a_air', 'rougher.state.floatbank10_a_level',\n",
       "       'rougher.state.floatbank10_b_air', 'rougher.state.floatbank10_b_level',\n",
       "       'rougher.state.floatbank10_c_air', 'rougher.state.floatbank10_c_level',\n",
       "       'rougher.state.floatbank10_d_air', 'rougher.state.floatbank10_d_level',\n",
       "       'rougher.state.floatbank10_e_air', 'rougher.state.floatbank10_e_level',\n",
       "       'rougher.state.floatbank10_f_air', 'rougher.state.floatbank10_f_level'],\n",
       "      dtype='object')"
      ]
     },
     "metadata": {},
     "output_type": "display_data"
    }
   ],
   "source": [
    "rough = [col for col in data.columns if col.startswith('rough')]\n",
    "display(data[rough].columns)"
   ]
  },
  {
   "cell_type": "markdown",
   "metadata": {},
   "source": [
    "<div style=\"background: #cceeaa; padding: 5px; border: 1px solid green; border-radius: 5px;\">\n",
    "<font color='green'> \n",
    "<u>КОММЕНТАРИЙ РЕВЬЮЕРА</u>\n",
    "<font color='green'><br>\n",
    "ОК! Метод ffill или интерполяция - часто помогают в подобных проектах. Но нужно ещё иметь ввиду такой момент: у нас могут наблюдаться большие периоды с пропуском. И тогда данная подстановка не всегда будет адекватной. В этом случае, может быть, и удалить придётся.."
   ]
  },
  {
   "cell_type": "markdown",
   "metadata": {},
   "source": [
    "## Анализ данных"
   ]
  },
  {
   "cell_type": "markdown",
   "metadata": {},
   "source": [
    "### Посмотрим как меняется концентрация металлов Au,Ag, Pb на различных этапах очистки"
   ]
  },
  {
   "cell_type": "markdown",
   "metadata": {},
   "source": [
    "#### Концентрация золота"
   ]
  },
  {
   "cell_type": "code",
   "execution_count": 27,
   "metadata": {},
   "outputs": [
    {
     "data": {
      "image/png": "[encoded data removed]",
      "text/plain": [
       "<Figure size 864x648 with 1 Axes>"
      ]
     },
     "metadata": {
      "needs_background": "light"
     },
     "output_type": "display_data"
    }
   ],
   "source": [
    "plt.figure(figsize=[12,9])\n",
    " \n",
    "plt.hist(data['final.output.concentrate_au'], bins=100, label = 'final.output', alpha=.5)\n",
    "plt.hist(data['primary_cleaner.output.concentrate_au'], bins=100, label = 'primary_cleaner.output', alpha=.5)\n",
    "plt.hist(data['rougher.output.concentrate_au'], bins=100, label = 'rougher.output', alpha=.5)\n",
    "plt.hist(data['rougher.input.feed_au'], bins=100, label = 'rougher.input', alpha=.5)\n",
    " \n",
    "plt.xlim([0, 55])\n",
    "plt.ylim([0, 2300])\n",
    " \n",
    "plt.xlabel(\"Концентрация золота на различных этапах\", fontsize='x-small')\n",
    "plt.ylabel(\"Количество\", fontsize='x-small')\n",
    " \n",
    "plt.legend(loc='upper left', fontsize='x-small')\n",
    " \n",
    "plt.title(\"Гистограмма распределения концентрации золота\", fontsize='x-small')\n",
    "plt.show()\n"
   ]
  },
  {
   "cell_type": "code",
   "execution_count": 28,
   "metadata": {
    "scrolled": true
   },
   "outputs": [
    {
     "data": {
      "text/html": [
       "<div>\n",
       "<style scoped>\n",
       "    .dataframe tbody tr th:only-of-type {\n",
       "        vertical-align: middle;\n",
       "    }\n",
       "\n",
       "    .dataframe tbody tr th {\n",
       "        vertical-align: top;\n",
       "    }\n",
       "\n",
       "    .dataframe thead th {\n",
       "        text-align: right;\n",
       "    }\n",
       "</style>\n",
       "<table border=\"1\" class=\"dataframe\">\n",
       "  <thead>\n",
       "    <tr style=\"text-align: right;\">\n",
       "      <th></th>\n",
       "      <th>rougher.input.feed_au</th>\n",
       "      <th>rougher.output.concentrate_au</th>\n",
       "      <th>primary_cleaner.output.concentrate_au</th>\n",
       "      <th>final.output.concentrate_au</th>\n",
       "    </tr>\n",
       "  </thead>\n",
       "  <tbody>\n",
       "    <tr>\n",
       "      <td>count</td>\n",
       "      <td>19439.000000</td>\n",
       "      <td>19439.000000</td>\n",
       "      <td>19439.000000</td>\n",
       "      <td>19439.000000</td>\n",
       "    </tr>\n",
       "    <tr>\n",
       "      <td>mean</td>\n",
       "      <td>8.266097</td>\n",
       "      <td>19.772000</td>\n",
       "      <td>32.119400</td>\n",
       "      <td>44.076513</td>\n",
       "    </tr>\n",
       "    <tr>\n",
       "      <td>std</td>\n",
       "      <td>1.955092</td>\n",
       "      <td>3.753600</td>\n",
       "      <td>5.627611</td>\n",
       "      <td>5.129784</td>\n",
       "    </tr>\n",
       "    <tr>\n",
       "      <td>min</td>\n",
       "      <td>0.010000</td>\n",
       "      <td>0.000000</td>\n",
       "      <td>0.000000</td>\n",
       "      <td>0.000000</td>\n",
       "    </tr>\n",
       "    <tr>\n",
       "      <td>25%</td>\n",
       "      <td>6.854384</td>\n",
       "      <td>18.802523</td>\n",
       "      <td>30.463140</td>\n",
       "      <td>43.402215</td>\n",
       "    </tr>\n",
       "    <tr>\n",
       "      <td>50%</td>\n",
       "      <td>8.125839</td>\n",
       "      <td>20.280214</td>\n",
       "      <td>32.841295</td>\n",
       "      <td>45.011244</td>\n",
       "    </tr>\n",
       "    <tr>\n",
       "      <td>75%</td>\n",
       "      <td>9.769917</td>\n",
       "      <td>21.717843</td>\n",
       "      <td>35.048006</td>\n",
       "      <td>46.275313</td>\n",
       "    </tr>\n",
       "    <tr>\n",
       "      <td>max</td>\n",
       "      <td>13.731330</td>\n",
       "      <td>28.824507</td>\n",
       "      <td>45.933934</td>\n",
       "      <td>52.756638</td>\n",
       "    </tr>\n",
       "  </tbody>\n",
       "</table>\n",
       "</div>"
      ],
      "text/plain": [
       "       rougher.input.feed_au  rougher.output.concentrate_au  \\\n",
       "count           19439.000000                   19439.000000   \n",
       "mean                8.266097                      19.772000   \n",
       "std                 1.955092                       3.753600   \n",
       "min                 0.010000                       0.000000   \n",
       "25%                 6.854384                      18.802523   \n",
       "50%                 8.125839                      20.280214   \n",
       "75%                 9.769917                      21.717843   \n",
       "max                13.731330                      28.824507   \n",
       "\n",
       "       primary_cleaner.output.concentrate_au  final.output.concentrate_au  \n",
       "count                           19439.000000                 19439.000000  \n",
       "mean                               32.119400                    44.076513  \n",
       "std                                 5.627611                     5.129784  \n",
       "min                                 0.000000                     0.000000  \n",
       "25%                                30.463140                    43.402215  \n",
       "50%                                32.841295                    45.011244  \n",
       "75%                                35.048006                    46.275313  \n",
       "max                                45.933934                    52.756638  "
      ]
     },
     "execution_count": 28,
     "metadata": {},
     "output_type": "execute_result"
    }
   ],
   "source": [
    "data[['rougher.input.feed_au','rougher.output.concentrate_au','primary_cleaner.output.concentrate_au','final.output.concentrate_au']].describe()"
   ]
  },
  {
   "cell_type": "markdown",
   "metadata": {},
   "source": [
    "<i><b>Концентрация золота на каждом этапе стабильно растет. Есть значения около 0, но это может означать плохое сырье, и не являтсья ошибкой в данных.</i></b>"
   ]
  },
  {
   "cell_type": "markdown",
   "metadata": {},
   "source": [
    "#### Концентрация серебра"
   ]
  },
  {
   "cell_type": "code",
   "execution_count": 29,
   "metadata": {},
   "outputs": [
    {
     "data": {
      "image/png": "[encoded data removed]",
      "text/plain": [
       "<Figure size 864x648 with 1 Axes>"
      ]
     },
     "metadata": {
      "needs_background": "light"
     },
     "output_type": "display_data"
    }
   ],
   "source": [
    "plt.figure(figsize=[12,9])\n",
    " \n",
    "plt.hist(data['final.output.concentrate_ag'], bins=100, label = 'final.output', alpha=.5)\n",
    "plt.hist(data['primary_cleaner.output.concentrate_ag'], bins=100, label = 'primary_cleaner.output', alpha=.5)\n",
    "plt.hist(data['rougher.output.concentrate_ag'], bins=100, label = 'rougher.output', alpha=.5)\n",
    "plt.hist(data['rougher.input.feed_ag'], bins=100, label = 'rougher.input', alpha=.5)\n",
    " \n",
    "plt.xlim([0, 20])\n",
    "plt.ylim([0, 1200])\n",
    " \n",
    "plt.xlabel(\"Концентрация серебра на различных этапах\", fontsize='x-small')\n",
    "plt.ylabel(\"Количество\", fontsize='x-small')\n",
    " \n",
    "plt.legend(loc='upper left', fontsize='x-small')\n",
    " \n",
    "plt.title(\"Гистограмма распределения концентрации серебра\", fontsize='x-small')\n",
    "plt.show()\n"
   ]
  },
  {
   "cell_type": "code",
   "execution_count": 30,
   "metadata": {
    "scrolled": true
   },
   "outputs": [
    {
     "data": {
      "text/html": [
       "<div>\n",
       "<style scoped>\n",
       "    .dataframe tbody tr th:only-of-type {\n",
       "        vertical-align: middle;\n",
       "    }\n",
       "\n",
       "    .dataframe tbody tr th {\n",
       "        vertical-align: top;\n",
       "    }\n",
       "\n",
       "    .dataframe thead th {\n",
       "        text-align: right;\n",
       "    }\n",
       "</style>\n",
       "<table border=\"1\" class=\"dataframe\">\n",
       "  <thead>\n",
       "    <tr style=\"text-align: right;\">\n",
       "      <th></th>\n",
       "      <th>rougher.input.feed_ag</th>\n",
       "      <th>rougher.output.concentrate_ag</th>\n",
       "      <th>primary_cleaner.output.concentrate_ag</th>\n",
       "      <th>final.output.concentrate_ag</th>\n",
       "    </tr>\n",
       "  </thead>\n",
       "  <tbody>\n",
       "    <tr>\n",
       "      <td>count</td>\n",
       "      <td>19439.000000</td>\n",
       "      <td>19439.000000</td>\n",
       "      <td>19439.000000</td>\n",
       "      <td>19439.000000</td>\n",
       "    </tr>\n",
       "    <tr>\n",
       "      <td>mean</td>\n",
       "      <td>8.794927</td>\n",
       "      <td>11.994759</td>\n",
       "      <td>8.442408</td>\n",
       "      <td>5.168387</td>\n",
       "    </tr>\n",
       "    <tr>\n",
       "      <td>std</td>\n",
       "      <td>1.936847</td>\n",
       "      <td>2.733862</td>\n",
       "      <td>2.054465</td>\n",
       "      <td>1.372362</td>\n",
       "    </tr>\n",
       "    <tr>\n",
       "      <td>min</td>\n",
       "      <td>0.010000</td>\n",
       "      <td>0.000000</td>\n",
       "      <td>0.000000</td>\n",
       "      <td>0.000000</td>\n",
       "    </tr>\n",
       "    <tr>\n",
       "      <td>25%</td>\n",
       "      <td>7.237967</td>\n",
       "      <td>10.628337</td>\n",
       "      <td>7.263288</td>\n",
       "      <td>4.251000</td>\n",
       "    </tr>\n",
       "    <tr>\n",
       "      <td>50%</td>\n",
       "      <td>8.593574</td>\n",
       "      <td>12.098115</td>\n",
       "      <td>8.507298</td>\n",
       "      <td>5.066039</td>\n",
       "    </tr>\n",
       "    <tr>\n",
       "      <td>75%</td>\n",
       "      <td>10.213771</td>\n",
       "      <td>13.736996</td>\n",
       "      <td>9.809001</td>\n",
       "      <td>5.895401</td>\n",
       "    </tr>\n",
       "    <tr>\n",
       "      <td>max</td>\n",
       "      <td>14.596026</td>\n",
       "      <td>24.480271</td>\n",
       "      <td>16.081632</td>\n",
       "      <td>16.001945</td>\n",
       "    </tr>\n",
       "  </tbody>\n",
       "</table>\n",
       "</div>"
      ],
      "text/plain": [
       "       rougher.input.feed_ag  rougher.output.concentrate_ag  \\\n",
       "count           19439.000000                   19439.000000   \n",
       "mean                8.794927                      11.994759   \n",
       "std                 1.936847                       2.733862   \n",
       "min                 0.010000                       0.000000   \n",
       "25%                 7.237967                      10.628337   \n",
       "50%                 8.593574                      12.098115   \n",
       "75%                10.213771                      13.736996   \n",
       "max                14.596026                      24.480271   \n",
       "\n",
       "       primary_cleaner.output.concentrate_ag  final.output.concentrate_ag  \n",
       "count                           19439.000000                 19439.000000  \n",
       "mean                                8.442408                     5.168387  \n",
       "std                                 2.054465                     1.372362  \n",
       "min                                 0.000000                     0.000000  \n",
       "25%                                 7.263288                     4.251000  \n",
       "50%                                 8.507298                     5.066039  \n",
       "75%                                 9.809001                     5.895401  \n",
       "max                                16.081632                    16.001945  "
      ]
     },
     "execution_count": 30,
     "metadata": {},
     "output_type": "execute_result"
    }
   ],
   "source": [
    "data[['rougher.input.feed_ag','rougher.output.concentrate_ag','primary_cleaner.output.concentrate_ag','final.output.concentrate_ag']].describe()"
   ]
  },
  {
   "cell_type": "markdown",
   "metadata": {},
   "source": [
    "<i><b>Концентрация серебра после флотации увеличивается, после очистки убывает. Есть значения около 0, но это может быть плохое сырье. </i></b>"
   ]
  },
  {
   "cell_type": "markdown",
   "metadata": {},
   "source": [
    "#### Концентрация свинца"
   ]
  },
  {
   "cell_type": "code",
   "execution_count": 31,
   "metadata": {},
   "outputs": [
    {
     "data": {
      "image/png": "[encoded data removed]",
      "text/plain": [
       "<Figure size 864x648 with 1 Axes>"
      ]
     },
     "metadata": {
      "needs_background": "light"
     },
     "output_type": "display_data"
    }
   ],
   "source": [
    "plt.figure(figsize=[12,9])\n",
    " \n",
    "plt.hist(data['final.output.concentrate_pb'], bins=100, label = 'final.output', alpha=.5)\n",
    "plt.hist(data['primary_cleaner.output.concentrate_pb'], bins=100, label = 'primary_cleaner.output', alpha=.5)\n",
    "plt.hist(data['rougher.output.concentrate_pb'], bins=100, label = 'rougher.output', alpha=.5)\n",
    "plt.hist(data['rougher.input.feed_pb'], bins=100, label = 'rougher.input', alpha=.5)\n",
    " \n",
    "plt.xlim([0, 20])\n",
    "plt.ylim([0, 1200])\n",
    " \n",
    "plt.xlabel(\"Концентрация свинца на различных этапах\", fontsize='x-small')\n",
    "plt.ylabel(\"Количество\", fontsize='x-small')\n",
    " \n",
    "plt.legend(loc='upper left', fontsize='x-small')\n",
    " \n",
    "plt.title(\"Гистограмма распределения концентрации свинца\", fontsize='x-small')\n",
    "plt.show()\n"
   ]
  },
  {
   "cell_type": "code",
   "execution_count": 32,
   "metadata": {
    "scrolled": false
   },
   "outputs": [
    {
     "data": {
      "text/html": [
       "<div>\n",
       "<style scoped>\n",
       "    .dataframe tbody tr th:only-of-type {\n",
       "        vertical-align: middle;\n",
       "    }\n",
       "\n",
       "    .dataframe tbody tr th {\n",
       "        vertical-align: top;\n",
       "    }\n",
       "\n",
       "    .dataframe thead th {\n",
       "        text-align: right;\n",
       "    }\n",
       "</style>\n",
       "<table border=\"1\" class=\"dataframe\">\n",
       "  <thead>\n",
       "    <tr style=\"text-align: right;\">\n",
       "      <th></th>\n",
       "      <th>rougher.input.feed_pb</th>\n",
       "      <th>rougher.output.concentrate_pb</th>\n",
       "      <th>primary_cleaner.output.concentrate_pb</th>\n",
       "      <th>final.output.concentrate_pb</th>\n",
       "    </tr>\n",
       "  </thead>\n",
       "  <tbody>\n",
       "    <tr>\n",
       "      <td>count</td>\n",
       "      <td>19439.000000</td>\n",
       "      <td>19439.000000</td>\n",
       "      <td>19439.000000</td>\n",
       "      <td>19439.000000</td>\n",
       "    </tr>\n",
       "    <tr>\n",
       "      <td>mean</td>\n",
       "      <td>3.585096</td>\n",
       "      <td>7.606272</td>\n",
       "      <td>9.810317</td>\n",
       "      <td>9.978821</td>\n",
       "    </tr>\n",
       "    <tr>\n",
       "      <td>std</td>\n",
       "      <td>1.062972</td>\n",
       "      <td>1.796757</td>\n",
       "      <td>2.572253</td>\n",
       "      <td>1.669228</td>\n",
       "    </tr>\n",
       "    <tr>\n",
       "      <td>min</td>\n",
       "      <td>0.010000</td>\n",
       "      <td>0.000000</td>\n",
       "      <td>0.000000</td>\n",
       "      <td>0.000000</td>\n",
       "    </tr>\n",
       "    <tr>\n",
       "      <td>25%</td>\n",
       "      <td>2.872178</td>\n",
       "      <td>6.725987</td>\n",
       "      <td>8.676500</td>\n",
       "      <td>9.137225</td>\n",
       "    </tr>\n",
       "    <tr>\n",
       "      <td>50%</td>\n",
       "      <td>3.528235</td>\n",
       "      <td>7.742580</td>\n",
       "      <td>10.142270</td>\n",
       "      <td>10.102264</td>\n",
       "    </tr>\n",
       "    <tr>\n",
       "      <td>75%</td>\n",
       "      <td>4.241005</td>\n",
       "      <td>8.565199</td>\n",
       "      <td>11.416298</td>\n",
       "      <td>11.035644</td>\n",
       "    </tr>\n",
       "    <tr>\n",
       "      <td>max</td>\n",
       "      <td>7.142594</td>\n",
       "      <td>13.617072</td>\n",
       "      <td>17.081278</td>\n",
       "      <td>17.031899</td>\n",
       "    </tr>\n",
       "  </tbody>\n",
       "</table>\n",
       "</div>"
      ],
      "text/plain": [
       "       rougher.input.feed_pb  rougher.output.concentrate_pb  \\\n",
       "count           19439.000000                   19439.000000   \n",
       "mean                3.585096                       7.606272   \n",
       "std                 1.062972                       1.796757   \n",
       "min                 0.010000                       0.000000   \n",
       "25%                 2.872178                       6.725987   \n",
       "50%                 3.528235                       7.742580   \n",
       "75%                 4.241005                       8.565199   \n",
       "max                 7.142594                      13.617072   \n",
       "\n",
       "       primary_cleaner.output.concentrate_pb  final.output.concentrate_pb  \n",
       "count                           19439.000000                 19439.000000  \n",
       "mean                                9.810317                     9.978821  \n",
       "std                                 2.572253                     1.669228  \n",
       "min                                 0.000000                     0.000000  \n",
       "25%                                 8.676500                     9.137225  \n",
       "50%                                10.142270                    10.102264  \n",
       "75%                                11.416298                    11.035644  \n",
       "max                                17.081278                    17.031899  "
      ]
     },
     "execution_count": 32,
     "metadata": {},
     "output_type": "execute_result"
    }
   ],
   "source": [
    "data[['rougher.input.feed_pb','rougher.output.concentrate_pb','primary_cleaner.output.concentrate_pb','final.output.concentrate_pb']].describe()"
   ]
  },
  {
   "cell_type": "markdown",
   "metadata": {},
   "source": [
    "<i><b>Концентрация свинца после к после флотации увеличивается, после очистки убывает. Есть значения около 0, но это может быть плохое сырье. </i></b>"
   ]
  },
  {
   "cell_type": "markdown",
   "metadata": {},
   "source": [
    "<i><b>Для всех 3х металлов есть нулевые значения. Но их стоит оставить чтобы модель училась и на таких значениях. </i></b>"
   ]
  },
  {
   "cell_type": "markdown",
   "metadata": {},
   "source": [
    "### Сравним рапределение размеров гранул сырья на обучающей и тестовой выборках"
   ]
  },
  {
   "cell_type": "code",
   "execution_count": 33,
   "metadata": {},
   "outputs": [
    {
     "data": {
      "image/png": "[encoded data removed]",
      "text/plain": [
       "<Figure size 864x648 with 1 Axes>"
      ]
     },
     "metadata": {
      "needs_background": "light"
     },
     "output_type": "display_data"
    }
   ],
   "source": [
    "plt.figure(figsize=[12,9])\n",
    " \n",
    "plt.hist(data_train['rougher.input.feed_size'], bins=200, label = 'Train rougher.input.feed_size', alpha=.5)\n",
    "plt.hist(data_test['rougher.input.feed_size'], bins=200, label = 'Test rougher.input.feed_size', alpha=.5)\n",
    " \n",
    "plt.xlim([0, 200])\n",
    "plt.ylim([0, 1500])\n",
    " \n",
    "plt.xlabel(\"Размер гранул сырья\", fontsize='smaller')\n",
    "plt.ylabel(\"Количество\", fontsize='smaller')\n",
    " \n",
    "plt.legend(loc='upper left', fontsize='smaller')\n",
    " \n",
    "plt.title(\"Гистограмма распределения гранул сырья перед флотацией\", fontsize='smaller')\n",
    "plt.show()\n"
   ]
  },
  {
   "cell_type": "code",
   "execution_count": 34,
   "metadata": {
    "scrolled": true
   },
   "outputs": [
    {
     "data": {
      "text/html": [
       "<div>\n",
       "<style scoped>\n",
       "    .dataframe tbody tr th:only-of-type {\n",
       "        vertical-align: middle;\n",
       "    }\n",
       "\n",
       "    .dataframe tbody tr th {\n",
       "        vertical-align: top;\n",
       "    }\n",
       "\n",
       "    .dataframe thead th {\n",
       "        text-align: right;\n",
       "    }\n",
       "</style>\n",
       "<table border=\"1\" class=\"dataframe\">\n",
       "  <thead>\n",
       "    <tr style=\"text-align: right;\">\n",
       "      <th></th>\n",
       "      <th>data_train_rougher.input.feed_size</th>\n",
       "      <th>data_test_rougher.input.feed_size</th>\n",
       "    </tr>\n",
       "    <tr>\n",
       "      <th>metric</th>\n",
       "      <th></th>\n",
       "      <th></th>\n",
       "    </tr>\n",
       "  </thead>\n",
       "  <tbody>\n",
       "    <tr>\n",
       "      <td>count</td>\n",
       "      <td>14149.000000</td>\n",
       "      <td>5290.000000</td>\n",
       "    </tr>\n",
       "    <tr>\n",
       "      <td>mean</td>\n",
       "      <td>60.239856</td>\n",
       "      <td>55.952754</td>\n",
       "    </tr>\n",
       "    <tr>\n",
       "      <td>std</td>\n",
       "      <td>23.005310</td>\n",
       "      <td>19.080334</td>\n",
       "    </tr>\n",
       "    <tr>\n",
       "      <td>min</td>\n",
       "      <td>9.659576</td>\n",
       "      <td>0.046369</td>\n",
       "    </tr>\n",
       "    <tr>\n",
       "      <td>25%</td>\n",
       "      <td>48.966751</td>\n",
       "      <td>43.906504</td>\n",
       "    </tr>\n",
       "    <tr>\n",
       "      <td>50%</td>\n",
       "      <td>55.269784</td>\n",
       "      <td>50.846843</td>\n",
       "    </tr>\n",
       "    <tr>\n",
       "      <td>75%</td>\n",
       "      <td>66.007526</td>\n",
       "      <td>62.451165</td>\n",
       "    </tr>\n",
       "    <tr>\n",
       "      <td>max</td>\n",
       "      <td>484.967466</td>\n",
       "      <td>392.494040</td>\n",
       "    </tr>\n",
       "  </tbody>\n",
       "</table>\n",
       "</div>"
      ],
      "text/plain": [
       "        data_train_rougher.input.feed_size  data_test_rougher.input.feed_size\n",
       "metric                                                                       \n",
       "count                         14149.000000                        5290.000000\n",
       "mean                             60.239856                          55.952754\n",
       "std                              23.005310                          19.080334\n",
       "min                               9.659576                           0.046369\n",
       "25%                              48.966751                          43.906504\n",
       "50%                              55.269784                          50.846843\n",
       "75%                              66.007526                          62.451165\n",
       "max                             484.967466                         392.494040"
      ]
     },
     "execution_count": 34,
     "metadata": {},
     "output_type": "execute_result"
    }
   ],
   "source": [
    "feed_size_df=pd.merge(data_train['rougher.input.feed_size'].describe(), data_test['rougher.input.feed_size'].describe(),\n",
    "         how='right', on=data_train['rougher.input.feed_size'].describe().index)\n",
    "feed_size_df.columns=['metric','data_train_rougher.input.feed_size','data_test_rougher.input.feed_size']\n",
    "feed_size_df.set_index('metric')"
   ]
  },
  {
   "cell_type": "markdown",
   "metadata": {},
   "source": [
    "Распределения похожи, медиана, дисперсия и среднее отличаеются не более чем на 5 пунктов."
   ]
  },
  {
   "cell_type": "code",
   "execution_count": 35,
   "metadata": {},
   "outputs": [],
   "source": [
    "#display(data_train.corr()['rougher.input.feed_size'].sort_values(ascending=False))"
   ]
  },
  {
   "cell_type": "markdown",
   "metadata": {},
   "source": [
    "### Исследуем суммарную концентрацию всех веществ на разных стадиях: в сырье, черновом и финальном концентратах."
   ]
  },
  {
   "cell_type": "code",
   "execution_count": 36,
   "metadata": {},
   "outputs": [],
   "source": [
    "data['sum_concentrate_rougher_input']=data['rougher.input.feed_ag']+data['rougher.input.feed_pb']+data['rougher.input.feed_au']\n",
    "data['sum_concentrate_rougher_output']=data['rougher.output.concentrate_ag']+data['rougher.output.concentrate_pb']+data['rougher.output.concentrate_au']\n",
    "data['sum_concentrate_primary_cleaner_output']=data['primary_cleaner.output.concentrate_ag']+data['primary_cleaner.output.concentrate_pb']+data['primary_cleaner.output.concentrate_au']\n",
    "data['sum_concentrate_final_output']=data['final.output.concentrate_ag']+data['final.output.concentrate_pb']++data['final.output.concentrate_au']"
   ]
  },
  {
   "cell_type": "code",
   "execution_count": 37,
   "metadata": {},
   "outputs": [
    {
     "data": {
      "image/png": "[encoded data removed]",
      "text/plain": [
       "<Figure size 864x648 with 1 Axes>"
      ]
     },
     "metadata": {
      "needs_background": "light"
     },
     "output_type": "display_data"
    }
   ],
   "source": [
    "plt.figure(figsize=[12,9])\n",
    " \n",
    "plt.hist(data['sum_concentrate_rougher_input'], bins=100, label = 'rougher_input', alpha=.5)\n",
    "plt.hist(data['sum_concentrate_rougher_output'], bins=100, label = 'rougher_output', alpha=.5)\n",
    "plt.hist(data['sum_concentrate_primary_cleaner_output'], bins=100, label = 'primary_cleaner_output', alpha=.5)\n",
    "plt.hist(data['sum_concentrate_final_output'], bins=100, label = 'final_output', alpha=.5)\n",
    " \n",
    "plt.xlim([0, 100])\n",
    "plt.ylim([0, 3800])\n",
    " \n",
    "plt.xlabel(\"Cуммарная концентрация всех веществ на различных этапах\", fontsize='x-small')\n",
    "plt.ylabel(\"Количество\", fontsize='x-small')\n",
    " \n",
    "plt.legend(loc='upper left', fontsize='x-large')\n",
    " \n",
    "plt.title(\"Гистограмма распределения концентрации всех веществ\", fontsize='x-small')\n",
    "plt.show()\n"
   ]
  },
  {
   "cell_type": "code",
   "execution_count": 38,
   "metadata": {
    "scrolled": true
   },
   "outputs": [
    {
     "data": {
      "text/html": [
       "<div>\n",
       "<style scoped>\n",
       "    .dataframe tbody tr th:only-of-type {\n",
       "        vertical-align: middle;\n",
       "    }\n",
       "\n",
       "    .dataframe tbody tr th {\n",
       "        vertical-align: top;\n",
       "    }\n",
       "\n",
       "    .dataframe thead th {\n",
       "        text-align: right;\n",
       "    }\n",
       "</style>\n",
       "<table border=\"1\" class=\"dataframe\">\n",
       "  <thead>\n",
       "    <tr style=\"text-align: right;\">\n",
       "      <th></th>\n",
       "      <th>sum_concentrate_rougher_input</th>\n",
       "      <th>sum_concentrate_rougher_output</th>\n",
       "      <th>sum_concentrate_primary_cleaner_output</th>\n",
       "      <th>sum_concentrate_final_output</th>\n",
       "    </tr>\n",
       "  </thead>\n",
       "  <tbody>\n",
       "    <tr>\n",
       "      <td>count</td>\n",
       "      <td>19439.000000</td>\n",
       "      <td>19439.000000</td>\n",
       "      <td>19439.000000</td>\n",
       "      <td>19439.000000</td>\n",
       "    </tr>\n",
       "    <tr>\n",
       "      <td>mean</td>\n",
       "      <td>20.646120</td>\n",
       "      <td>39.373032</td>\n",
       "      <td>50.372125</td>\n",
       "      <td>59.223721</td>\n",
       "    </tr>\n",
       "    <tr>\n",
       "      <td>std</td>\n",
       "      <td>4.480027</td>\n",
       "      <td>6.863389</td>\n",
       "      <td>7.628095</td>\n",
       "      <td>6.095138</td>\n",
       "    </tr>\n",
       "    <tr>\n",
       "      <td>min</td>\n",
       "      <td>0.030000</td>\n",
       "      <td>0.000000</td>\n",
       "      <td>0.000000</td>\n",
       "      <td>0.000000</td>\n",
       "    </tr>\n",
       "    <tr>\n",
       "      <td>25%</td>\n",
       "      <td>17.252879</td>\n",
       "      <td>38.394639</td>\n",
       "      <td>50.053899</td>\n",
       "      <td>59.298323</td>\n",
       "    </tr>\n",
       "    <tr>\n",
       "      <td>50%</td>\n",
       "      <td>20.141216</td>\n",
       "      <td>40.312648</td>\n",
       "      <td>51.909156</td>\n",
       "      <td>60.306921</td>\n",
       "    </tr>\n",
       "    <tr>\n",
       "      <td>75%</td>\n",
       "      <td>23.797381</td>\n",
       "      <td>42.365102</td>\n",
       "      <td>53.386898</td>\n",
       "      <td>61.096667</td>\n",
       "    </tr>\n",
       "    <tr>\n",
       "      <td>max</td>\n",
       "      <td>33.498784</td>\n",
       "      <td>55.568687</td>\n",
       "      <td>60.269003</td>\n",
       "      <td>64.968881</td>\n",
       "    </tr>\n",
       "  </tbody>\n",
       "</table>\n",
       "</div>"
      ],
      "text/plain": [
       "       sum_concentrate_rougher_input  sum_concentrate_rougher_output  \\\n",
       "count                   19439.000000                    19439.000000   \n",
       "mean                       20.646120                       39.373032   \n",
       "std                         4.480027                        6.863389   \n",
       "min                         0.030000                        0.000000   \n",
       "25%                        17.252879                       38.394639   \n",
       "50%                        20.141216                       40.312648   \n",
       "75%                        23.797381                       42.365102   \n",
       "max                        33.498784                       55.568687   \n",
       "\n",
       "       sum_concentrate_primary_cleaner_output  sum_concentrate_final_output  \n",
       "count                            19439.000000                  19439.000000  \n",
       "mean                                50.372125                     59.223721  \n",
       "std                                  7.628095                      6.095138  \n",
       "min                                  0.000000                      0.000000  \n",
       "25%                                 50.053899                     59.298323  \n",
       "50%                                 51.909156                     60.306921  \n",
       "75%                                 53.386898                     61.096667  \n",
       "max                                 60.269003                     64.968881  "
      ]
     },
     "execution_count": 38,
     "metadata": {},
     "output_type": "execute_result"
    }
   ],
   "source": [
    "data[['sum_concentrate_rougher_input','sum_concentrate_rougher_output','sum_concentrate_primary_cleaner_output','sum_concentrate_final_output']].describe()"
   ]
  },
  {
   "cell_type": "markdown",
   "metadata": {},
   "source": [
    "<b><i>Суммарная концентрация всех металлов увеличивается c каждым этапом.<br>Но есть много нулей в колонках 'sum_concentrate_rougher_output', 'sum_concentrate_primary_cleaner_output','sum_concentrate_final_output'.  </b></i>"
   ]
  },
  {
   "cell_type": "markdown",
   "metadata": {},
   "source": [
    "Посмотрим на таблицу где суммарные концентрации равны нулю."
   ]
  },
  {
   "cell_type": "code",
   "execution_count": 39,
   "metadata": {
    "scrolled": true
   },
   "outputs": [
    {
     "data": {
      "text/html": [
       "<div>\n",
       "<style scoped>\n",
       "    .dataframe tbody tr th:only-of-type {\n",
       "        vertical-align: middle;\n",
       "    }\n",
       "\n",
       "    .dataframe tbody tr th {\n",
       "        vertical-align: top;\n",
       "    }\n",
       "\n",
       "    .dataframe thead th {\n",
       "        text-align: right;\n",
       "    }\n",
       "</style>\n",
       "<table border=\"1\" class=\"dataframe\">\n",
       "  <thead>\n",
       "    <tr style=\"text-align: right;\">\n",
       "      <th></th>\n",
       "      <th>sum_concentrate_rougher_input</th>\n",
       "      <th>sum_concentrate_rougher_output</th>\n",
       "      <th>sum_concentrate_primary_cleaner_output</th>\n",
       "      <th>sum_concentrate_final_output</th>\n",
       "    </tr>\n",
       "  </thead>\n",
       "  <tbody>\n",
       "    <tr>\n",
       "      <td>19</td>\n",
       "      <td>15.624642</td>\n",
       "      <td>36.837927</td>\n",
       "      <td>0.000000</td>\n",
       "      <td>58.604347</td>\n",
       "    </tr>\n",
       "    <tr>\n",
       "      <td>22</td>\n",
       "      <td>14.735893</td>\n",
       "      <td>36.314838</td>\n",
       "      <td>0.000000</td>\n",
       "      <td>58.007928</td>\n",
       "    </tr>\n",
       "    <tr>\n",
       "      <td>30</td>\n",
       "      <td>14.722220</td>\n",
       "      <td>36.542641</td>\n",
       "      <td>0.000000</td>\n",
       "      <td>58.960261</td>\n",
       "    </tr>\n",
       "    <tr>\n",
       "      <td>45</td>\n",
       "      <td>17.447608</td>\n",
       "      <td>0.000000</td>\n",
       "      <td>55.871546</td>\n",
       "      <td>61.587298</td>\n",
       "    </tr>\n",
       "    <tr>\n",
       "      <td>46</td>\n",
       "      <td>17.938550</td>\n",
       "      <td>0.000000</td>\n",
       "      <td>55.966138</td>\n",
       "      <td>61.520075</td>\n",
       "    </tr>\n",
       "    <tr>\n",
       "      <td>...</td>\n",
       "      <td>...</td>\n",
       "      <td>...</td>\n",
       "      <td>...</td>\n",
       "      <td>...</td>\n",
       "    </tr>\n",
       "    <tr>\n",
       "      <td>15620</td>\n",
       "      <td>19.134226</td>\n",
       "      <td>0.000000</td>\n",
       "      <td>54.323293</td>\n",
       "      <td>62.511646</td>\n",
       "    </tr>\n",
       "    <tr>\n",
       "      <td>15621</td>\n",
       "      <td>20.260847</td>\n",
       "      <td>0.000000</td>\n",
       "      <td>54.509480</td>\n",
       "      <td>62.487930</td>\n",
       "    </tr>\n",
       "    <tr>\n",
       "      <td>15622</td>\n",
       "      <td>20.815431</td>\n",
       "      <td>0.000000</td>\n",
       "      <td>55.401727</td>\n",
       "      <td>63.155190</td>\n",
       "    </tr>\n",
       "    <tr>\n",
       "      <td>15623</td>\n",
       "      <td>20.339423</td>\n",
       "      <td>0.000000</td>\n",
       "      <td>55.223193</td>\n",
       "      <td>62.799434</td>\n",
       "    </tr>\n",
       "    <tr>\n",
       "      <td>15624</td>\n",
       "      <td>20.125127</td>\n",
       "      <td>0.000000</td>\n",
       "      <td>54.720856</td>\n",
       "      <td>62.391936</td>\n",
       "    </tr>\n",
       "  </tbody>\n",
       "</table>\n",
       "<p>591 rows × 4 columns</p>\n",
       "</div>"
      ],
      "text/plain": [
       "       sum_concentrate_rougher_input  sum_concentrate_rougher_output  \\\n",
       "19                         15.624642                       36.837927   \n",
       "22                         14.735893                       36.314838   \n",
       "30                         14.722220                       36.542641   \n",
       "45                         17.447608                        0.000000   \n",
       "46                         17.938550                        0.000000   \n",
       "...                              ...                             ...   \n",
       "15620                      19.134226                        0.000000   \n",
       "15621                      20.260847                        0.000000   \n",
       "15622                      20.815431                        0.000000   \n",
       "15623                      20.339423                        0.000000   \n",
       "15624                      20.125127                        0.000000   \n",
       "\n",
       "       sum_concentrate_primary_cleaner_output  sum_concentrate_final_output  \n",
       "19                                   0.000000                     58.604347  \n",
       "22                                   0.000000                     58.007928  \n",
       "30                                   0.000000                     58.960261  \n",
       "45                                  55.871546                     61.587298  \n",
       "46                                  55.966138                     61.520075  \n",
       "...                                       ...                           ...  \n",
       "15620                               54.323293                     62.511646  \n",
       "15621                               54.509480                     62.487930  \n",
       "15622                               55.401727                     63.155190  \n",
       "15623                               55.223193                     62.799434  \n",
       "15624                               54.720856                     62.391936  \n",
       "\n",
       "[591 rows x 4 columns]"
      ]
     },
     "execution_count": 39,
     "metadata": {},
     "output_type": "execute_result"
    }
   ],
   "source": [
    "data.loc[(data['sum_concentrate_rougher_output']==0)|(data['sum_concentrate_rougher_input']==0)|(data['sum_concentrate_primary_cleaner_output']==0)|(data['sum_concentrate_final_output']==0),['sum_concentrate_rougher_input','sum_concentrate_rougher_output','sum_concentrate_primary_cleaner_output','sum_concentrate_final_output']]"
   ]
  },
  {
   "cell_type": "code",
   "execution_count": 40,
   "metadata": {
    "scrolled": true
   },
   "outputs": [
    {
     "data": {
      "text/html": [
       "<div>\n",
       "<style scoped>\n",
       "    .dataframe tbody tr th:only-of-type {\n",
       "        vertical-align: middle;\n",
       "    }\n",
       "\n",
       "    .dataframe tbody tr th {\n",
       "        vertical-align: top;\n",
       "    }\n",
       "\n",
       "    .dataframe thead th {\n",
       "        text-align: right;\n",
       "    }\n",
       "</style>\n",
       "<table border=\"1\" class=\"dataframe\">\n",
       "  <thead>\n",
       "    <tr style=\"text-align: right;\">\n",
       "      <th></th>\n",
       "      <th>date</th>\n",
       "      <th>sum_concentrate_rougher_input</th>\n",
       "      <th>sum_concentrate_rougher_output</th>\n",
       "      <th>sum_concentrate_primary_cleaner_output</th>\n",
       "      <th>sum_concentrate_final_output</th>\n",
       "    </tr>\n",
       "  </thead>\n",
       "  <tbody>\n",
       "    <tr>\n",
       "      <td>0</td>\n",
       "      <td>2016-01-15 00:00:00</td>\n",
       "      <td>14.871440</td>\n",
       "      <td>38.395653</td>\n",
       "      <td>53.111627</td>\n",
       "      <td>58.137072</td>\n",
       "    </tr>\n",
       "    <tr>\n",
       "      <td>1</td>\n",
       "      <td>2016-01-15 01:00:00</td>\n",
       "      <td>14.905729</td>\n",
       "      <td>38.945647</td>\n",
       "      <td>53.174338</td>\n",
       "      <td>58.699942</td>\n",
       "    </tr>\n",
       "    <tr>\n",
       "      <td>2</td>\n",
       "      <td>2016-01-15 02:00:00</td>\n",
       "      <td>14.638299</td>\n",
       "      <td>38.649756</td>\n",
       "      <td>52.927464</td>\n",
       "      <td>58.927421</td>\n",
       "    </tr>\n",
       "    <tr>\n",
       "      <td>3</td>\n",
       "      <td>2016-01-15 03:00:00</td>\n",
       "      <td>14.199305</td>\n",
       "      <td>38.411473</td>\n",
       "      <td>43.979185</td>\n",
       "      <td>58.714815</td>\n",
       "    </tr>\n",
       "    <tr>\n",
       "      <td>4</td>\n",
       "      <td>2016-01-15 04:00:00</td>\n",
       "      <td>13.511497</td>\n",
       "      <td>38.867359</td>\n",
       "      <td>52.121146</td>\n",
       "      <td>59.065251</td>\n",
       "    </tr>\n",
       "    <tr>\n",
       "      <td>...</td>\n",
       "      <td>...</td>\n",
       "      <td>...</td>\n",
       "      <td>...</td>\n",
       "      <td>...</td>\n",
       "      <td>...</td>\n",
       "    </tr>\n",
       "    <tr>\n",
       "      <td>19434</td>\n",
       "      <td>2018-08-18 06:59:59</td>\n",
       "      <td>16.045275</td>\n",
       "      <td>40.712449</td>\n",
       "      <td>51.945355</td>\n",
       "      <td>61.295107</td>\n",
       "    </tr>\n",
       "    <tr>\n",
       "      <td>19435</td>\n",
       "      <td>2018-08-18 07:59:59</td>\n",
       "      <td>15.104931</td>\n",
       "      <td>40.755632</td>\n",
       "      <td>52.161648</td>\n",
       "      <td>61.412113</td>\n",
       "    </tr>\n",
       "    <tr>\n",
       "      <td>19436</td>\n",
       "      <td>2018-08-18 08:59:59</td>\n",
       "      <td>14.515579</td>\n",
       "      <td>32.589863</td>\n",
       "      <td>51.619196</td>\n",
       "      <td>61.340054</td>\n",
       "    </tr>\n",
       "    <tr>\n",
       "      <td>19437</td>\n",
       "      <td>2018-08-18 09:59:59</td>\n",
       "      <td>14.313448</td>\n",
       "      <td>40.148948</td>\n",
       "      <td>50.273714</td>\n",
       "      <td>61.401016</td>\n",
       "    </tr>\n",
       "    <tr>\n",
       "      <td>19438</td>\n",
       "      <td>2018-08-18 10:59:59</td>\n",
       "      <td>14.399936</td>\n",
       "      <td>40.465768</td>\n",
       "      <td>49.544487</td>\n",
       "      <td>61.635645</td>\n",
       "    </tr>\n",
       "  </tbody>\n",
       "</table>\n",
       "<p>19439 rows × 5 columns</p>\n",
       "</div>"
      ],
      "text/plain": [
       "                      date  sum_concentrate_rougher_input  \\\n",
       "0      2016-01-15 00:00:00                      14.871440   \n",
       "1      2016-01-15 01:00:00                      14.905729   \n",
       "2      2016-01-15 02:00:00                      14.638299   \n",
       "3      2016-01-15 03:00:00                      14.199305   \n",
       "4      2016-01-15 04:00:00                      13.511497   \n",
       "...                    ...                            ...   \n",
       "19434  2018-08-18 06:59:59                      16.045275   \n",
       "19435  2018-08-18 07:59:59                      15.104931   \n",
       "19436  2018-08-18 08:59:59                      14.515579   \n",
       "19437  2018-08-18 09:59:59                      14.313448   \n",
       "19438  2018-08-18 10:59:59                      14.399936   \n",
       "\n",
       "       sum_concentrate_rougher_output  sum_concentrate_primary_cleaner_output  \\\n",
       "0                           38.395653                               53.111627   \n",
       "1                           38.945647                               53.174338   \n",
       "2                           38.649756                               52.927464   \n",
       "3                           38.411473                               43.979185   \n",
       "4                           38.867359                               52.121146   \n",
       "...                               ...                                     ...   \n",
       "19434                       40.712449                               51.945355   \n",
       "19435                       40.755632                               52.161648   \n",
       "19436                       32.589863                               51.619196   \n",
       "19437                       40.148948                               50.273714   \n",
       "19438                       40.465768                               49.544487   \n",
       "\n",
       "       sum_concentrate_final_output  \n",
       "0                         58.137072  \n",
       "1                         58.699942  \n",
       "2                         58.927421  \n",
       "3                         58.714815  \n",
       "4                         59.065251  \n",
       "...                             ...  \n",
       "19434                     61.295107  \n",
       "19435                     61.412113  \n",
       "19436                     61.340054  \n",
       "19437                     61.401016  \n",
       "19438                     61.635645  \n",
       "\n",
       "[19439 rows x 5 columns]"
      ]
     },
     "execution_count": 40,
     "metadata": {},
     "output_type": "execute_result"
    }
   ],
   "source": [
    "data[['date','sum_concentrate_rougher_input','sum_concentrate_rougher_output','sum_concentrate_primary_cleaner_output','sum_concentrate_final_output']]"
   ]
  },
  {
   "cell_type": "markdown",
   "metadata": {},
   "source": [
    "Как видим такие строки встречаются лиш в одном из столбцов, т.е. это ошибка.Так как эти колонки складываются из суммы (золото+серебро+свинец), мы не сможем восстановить их по отдельности для тестовой и тренировочной выборки. Но для корректного построения графика правильней будет восстановить это значение, умножив на корректирующий коэффициент (так как отношение значения к соседним колонкам колеблется в определенных узких пределах).\n"
   ]
  },
  {
   "cell_type": "code",
   "execution_count": 41,
   "metadata": {},
   "outputs": [
    {
     "name": "stdout",
     "output_type": "stream",
     "text": [
      "1.9070426272688001 ; 1.2793560136469784 ; 1.1757240986830257\n"
     ]
    }
   ],
   "source": [
    "k1=data['sum_concentrate_rougher_output'].mean()/data['sum_concentrate_rougher_input'].mean()\n",
    "k2=data['sum_concentrate_primary_cleaner_output'].mean()/data['sum_concentrate_rougher_output'].mean()\n",
    "k3=data['sum_concentrate_final_output'].mean()/data['sum_concentrate_primary_cleaner_output'].mean()\n",
    "print(k1,';',k2,';',k3)\n",
    "\n",
    "\n",
    "#Заменим нулевые значения\n",
    "data.loc[(data['sum_concentrate_rougher_output']==0),'sum_concentrate_rougher_output']=data.loc[(data['sum_concentrate_rougher_output']==0),'sum_concentrate_rougher_input']*k1\n",
    "data.loc[(data['sum_concentrate_primary_cleaner_output']==0),'sum_concentrate_primary_cleaner_output']=data.loc[(data['sum_concentrate_primary_cleaner_output']==0),'sum_concentrate_rougher_output']*k2\n",
    "data.loc[(data['sum_concentrate_final_output']==0),'sum_concentrate_final_output']=data.loc[(data['sum_concentrate_final_output']==0),'sum_concentrate_primary_cleaner_output']*k3\n"
   ]
  },
  {
   "cell_type": "code",
   "execution_count": 42,
   "metadata": {
    "scrolled": true
   },
   "outputs": [
    {
     "data": {
      "text/html": [
       "<div>\n",
       "<style scoped>\n",
       "    .dataframe tbody tr th:only-of-type {\n",
       "        vertical-align: middle;\n",
       "    }\n",
       "\n",
       "    .dataframe tbody tr th {\n",
       "        vertical-align: top;\n",
       "    }\n",
       "\n",
       "    .dataframe thead th {\n",
       "        text-align: right;\n",
       "    }\n",
       "</style>\n",
       "<table border=\"1\" class=\"dataframe\">\n",
       "  <thead>\n",
       "    <tr style=\"text-align: right;\">\n",
       "      <th></th>\n",
       "      <th>sum_concentrate_rougher_input</th>\n",
       "      <th>sum_concentrate_rougher_output</th>\n",
       "      <th>sum_concentrate_primary_cleaner_output</th>\n",
       "      <th>sum_concentrate_final_output</th>\n",
       "    </tr>\n",
       "  </thead>\n",
       "  <tbody>\n",
       "  </tbody>\n",
       "</table>\n",
       "</div>"
      ],
      "text/plain": [
       "Empty DataFrame\n",
       "Columns: [sum_concentrate_rougher_input, sum_concentrate_rougher_output, sum_concentrate_primary_cleaner_output, sum_concentrate_final_output]\n",
       "Index: []"
      ]
     },
     "execution_count": 42,
     "metadata": {},
     "output_type": "execute_result"
    }
   ],
   "source": [
    "#Проверим результат\n",
    "data.loc[(data['sum_concentrate_rougher_output']==0)|(data['sum_concentrate_rougher_input']==0)|(data['sum_concentrate_primary_cleaner_output']==0)|(data['sum_concentrate_final_output']==0),['sum_concentrate_rougher_input','sum_concentrate_rougher_output','sum_concentrate_primary_cleaner_output','sum_concentrate_final_output']]"
   ]
  },
  {
   "cell_type": "markdown",
   "metadata": {},
   "source": [
    "Нулевых значений в этих столбцах не осталось"
   ]
  },
  {
   "cell_type": "code",
   "execution_count": 43,
   "metadata": {
    "scrolled": true
   },
   "outputs": [
    {
     "data": {
      "image/png": "[encoded data removed]",
      "text/plain": [
       "<Figure size 864x648 with 1 Axes>"
      ]
     },
     "metadata": {
      "needs_background": "light"
     },
     "output_type": "display_data"
    }
   ],
   "source": [
    "plt.figure(figsize=[12,9])\n",
    " \n",
    "plt.hist(data['sum_concentrate_rougher_input'], bins=100, label = 'rougher_input', alpha=.5)\n",
    "plt.hist(data['sum_concentrate_rougher_output'], bins=100, label = 'rougher_output', alpha=.5)\n",
    "plt.hist(data['sum_concentrate_primary_cleaner_output'], bins=100, label = 'primary_cleaner_output', alpha=.5)\n",
    "plt.hist(data['sum_concentrate_final_output'], bins=100, label = 'final_output', alpha=.5)\n",
    " \n",
    "plt.xlim([0, 70])\n",
    "plt.ylim([0, 4000])\n",
    " \n",
    "plt.xlabel(\"Cуммарная концентрация всех веществ на различных этапах\", fontsize='x-small')\n",
    "plt.ylabel(\"Количество\", fontsize='x-small')\n",
    " \n",
    "plt.legend(loc='upper left', fontsize='x-large')\n",
    " \n",
    "plt.title(\"Гистограмма распределения концентрации всех веществ\", fontsize='x-small')\n",
    "plt.show()\n"
   ]
  },
  {
   "cell_type": "code",
   "execution_count": 44,
   "metadata": {
    "scrolled": true
   },
   "outputs": [
    {
     "data": {
      "text/html": [
       "<div>\n",
       "<style scoped>\n",
       "    .dataframe tbody tr th:only-of-type {\n",
       "        vertical-align: middle;\n",
       "    }\n",
       "\n",
       "    .dataframe tbody tr th {\n",
       "        vertical-align: top;\n",
       "    }\n",
       "\n",
       "    .dataframe thead th {\n",
       "        text-align: right;\n",
       "    }\n",
       "</style>\n",
       "<table border=\"1\" class=\"dataframe\">\n",
       "  <thead>\n",
       "    <tr style=\"text-align: right;\">\n",
       "      <th></th>\n",
       "      <th>sum_concentrate_rougher_input</th>\n",
       "      <th>sum_concentrate_rougher_output</th>\n",
       "      <th>sum_concentrate_primary_cleaner_output</th>\n",
       "      <th>sum_concentrate_final_output</th>\n",
       "    </tr>\n",
       "  </thead>\n",
       "  <tbody>\n",
       "    <tr>\n",
       "      <td>count</td>\n",
       "      <td>19439.000000</td>\n",
       "      <td>19439.000000</td>\n",
       "      <td>19439.000000</td>\n",
       "      <td>19439.000000</td>\n",
       "    </tr>\n",
       "    <tr>\n",
       "      <td>mean</td>\n",
       "      <td>20.646120</td>\n",
       "      <td>40.214476</td>\n",
       "      <td>50.649657</td>\n",
       "      <td>59.487144</td>\n",
       "    </tr>\n",
       "    <tr>\n",
       "      <td>std</td>\n",
       "      <td>4.480027</td>\n",
       "      <td>4.082044</td>\n",
       "      <td>6.653628</td>\n",
       "      <td>4.577624</td>\n",
       "    </tr>\n",
       "    <tr>\n",
       "      <td>min</td>\n",
       "      <td>0.030000</td>\n",
       "      <td>0.030000</td>\n",
       "      <td>0.030000</td>\n",
       "      <td>0.030000</td>\n",
       "    </tr>\n",
       "    <tr>\n",
       "      <td>25%</td>\n",
       "      <td>17.252879</td>\n",
       "      <td>38.502097</td>\n",
       "      <td>50.080694</td>\n",
       "      <td>59.313422</td>\n",
       "    </tr>\n",
       "    <tr>\n",
       "      <td>50%</td>\n",
       "      <td>20.141216</td>\n",
       "      <td>40.369630</td>\n",
       "      <td>51.922472</td>\n",
       "      <td>60.314720</td>\n",
       "    </tr>\n",
       "    <tr>\n",
       "      <td>75%</td>\n",
       "      <td>23.797381</td>\n",
       "      <td>42.438723</td>\n",
       "      <td>53.396466</td>\n",
       "      <td>61.102071</td>\n",
       "    </tr>\n",
       "    <tr>\n",
       "      <td>max</td>\n",
       "      <td>33.498784</td>\n",
       "      <td>61.107030</td>\n",
       "      <td>60.269003</td>\n",
       "      <td>68.121575</td>\n",
       "    </tr>\n",
       "  </tbody>\n",
       "</table>\n",
       "</div>"
      ],
      "text/plain": [
       "       sum_concentrate_rougher_input  sum_concentrate_rougher_output  \\\n",
       "count                   19439.000000                    19439.000000   \n",
       "mean                       20.646120                       40.214476   \n",
       "std                         4.480027                        4.082044   \n",
       "min                         0.030000                        0.030000   \n",
       "25%                        17.252879                       38.502097   \n",
       "50%                        20.141216                       40.369630   \n",
       "75%                        23.797381                       42.438723   \n",
       "max                        33.498784                       61.107030   \n",
       "\n",
       "       sum_concentrate_primary_cleaner_output  sum_concentrate_final_output  \n",
       "count                            19439.000000                  19439.000000  \n",
       "mean                                50.649657                     59.487144  \n",
       "std                                  6.653628                      4.577624  \n",
       "min                                  0.030000                      0.030000  \n",
       "25%                                 50.080694                     59.313422  \n",
       "50%                                 51.922472                     60.314720  \n",
       "75%                                 53.396466                     61.102071  \n",
       "max                                 60.269003                     68.121575  "
      ]
     },
     "execution_count": 44,
     "metadata": {},
     "output_type": "execute_result"
    }
   ],
   "source": [
    "data[['sum_concentrate_rougher_input','sum_concentrate_rougher_output','sum_concentrate_primary_cleaner_output','sum_concentrate_final_output']].describe()"
   ]
  },
  {
   "cell_type": "markdown",
   "metadata": {},
   "source": [
    "Остаются значения около 0, возможно, такая маленькая концентрация действительно и выходит. Логика графика осталась прежней."
   ]
  },
  {
   "cell_type": "code",
   "execution_count": 45,
   "metadata": {
    "scrolled": true
   },
   "outputs": [
    {
     "data": {
      "text/html": [
       "<div>\n",
       "<style scoped>\n",
       "    .dataframe tbody tr th:only-of-type {\n",
       "        vertical-align: middle;\n",
       "    }\n",
       "\n",
       "    .dataframe tbody tr th {\n",
       "        vertical-align: top;\n",
       "    }\n",
       "\n",
       "    .dataframe thead th {\n",
       "        text-align: right;\n",
       "    }\n",
       "</style>\n",
       "<table border=\"1\" class=\"dataframe\">\n",
       "  <thead>\n",
       "    <tr style=\"text-align: right;\">\n",
       "      <th></th>\n",
       "      <th>sum_concentrate_rougher_input</th>\n",
       "      <th>sum_concentrate_rougher_output</th>\n",
       "      <th>sum_concentrate_primary_cleaner_output</th>\n",
       "      <th>sum_concentrate_final_output</th>\n",
       "    </tr>\n",
       "  </thead>\n",
       "  <tbody>\n",
       "  </tbody>\n",
       "</table>\n",
       "</div>"
      ],
      "text/plain": [
       "Empty DataFrame\n",
       "Columns: [sum_concentrate_rougher_input, sum_concentrate_rougher_output, sum_concentrate_primary_cleaner_output, sum_concentrate_final_output]\n",
       "Index: []"
      ]
     },
     "execution_count": 45,
     "metadata": {},
     "output_type": "execute_result"
    }
   ],
   "source": [
    "data.loc[(data['sum_concentrate_rougher_output']==0)|(data['sum_concentrate_rougher_input']==0)|(data['sum_concentrate_primary_cleaner_output']==0)|(data['sum_concentrate_final_output']==0),['sum_concentrate_rougher_input','sum_concentrate_rougher_output','sum_concentrate_primary_cleaner_output','sum_concentrate_final_output']]"
   ]
  },
  {
   "cell_type": "code",
   "execution_count": null,
   "metadata": {},
   "outputs": [],
   "source": []
  },
  {
   "cell_type": "markdown",
   "metadata": {},
   "source": [
    "## Модель"
   ]
  },
  {
   "cell_type": "markdown",
   "metadata": {},
   "source": [
    "### Напишем функцию для вычисления итоговой sMAPE"
   ]
  },
  {
   "attachments": {
    "smape_1576238825.jpg": {
     "image/jpeg": "[encoded data removed]"
    }
   },
   "cell_type": "markdown",
   "metadata": {},
   "source": [
    "![smape_1576238825.jpg](attachment:smape_1576238825.jpg)"
   ]
  },
  {
   "attachments": {
    "_smape_1576238814.jpg": {
     "image/jpeg": "[encoded data removed]"
    }
   },
   "cell_type": "markdown",
   "metadata": {},
   "source": [
    "![_smape_1576238814.jpg](attachment:_smape_1576238814.jpg)"
   ]
  },
  {
   "cell_type": "code",
   "execution_count": 46,
   "metadata": {},
   "outputs": [
    {
     "name": "stdout",
     "output_type": "stream",
     "text": [
      "19.791666666666668\n"
     ]
    }
   ],
   "source": [
    "def smape(A, F):\n",
    "    return 100/len(A) * np.sum(2 * np.abs(F - A) / (np.abs(A) + np.abs(F)))\n",
    "#Проверим работу функции\n",
    "A=pd.Series([2,3,4,5,6,7,8,9])\n",
    "F=pd.Series([1,3,5,4,6,7,10,7])\n",
    "print(smape(A, F))"
   ]
  },
  {
   "cell_type": "markdown",
   "metadata": {},
   "source": [
    "<div style=\"background: #cceeaa; padding: 5px; border: 1px solid green; border-radius: 5px;\">\n",
    "<font color='green'> \n",
    "<u>КОММЕНТАРИЙ РЕВЬЮЕРА</u>\n",
    "<font color='green'><br>\n",
    "ок"
   ]
  },
  {
   "cell_type": "markdown",
   "metadata": {},
   "source": [
    "### Обучим разные модели и оценим их качество кросс-валидацией"
   ]
  },
  {
   "cell_type": "markdown",
   "metadata": {},
   "source": [
    "#### Подготовка данных"
   ]
  },
  {
   "cell_type": "code",
   "execution_count": 47,
   "metadata": {},
   "outputs": [
    {
     "data": {
      "text/plain": [
       "['final.output.concentrate_ag',\n",
       " 'final.output.concentrate_au',\n",
       " 'final.output.concentrate_pb',\n",
       " 'final.output.concentrate_sol',\n",
       " 'final.output.tail_ag',\n",
       " 'final.output.tail_au',\n",
       " 'final.output.tail_pb',\n",
       " 'final.output.tail_sol',\n",
       " 'primary_cleaner.output.concentrate_ag',\n",
       " 'primary_cleaner.output.concentrate_au',\n",
       " 'primary_cleaner.output.concentrate_pb',\n",
       " 'primary_cleaner.output.concentrate_sol',\n",
       " 'primary_cleaner.output.tail_ag',\n",
       " 'primary_cleaner.output.tail_au',\n",
       " 'primary_cleaner.output.tail_pb',\n",
       " 'primary_cleaner.output.tail_sol',\n",
       " 'rougher.calculation.au_pb_ratio',\n",
       " 'rougher.calculation.floatbank10_sulfate_to_au_feed',\n",
       " 'rougher.calculation.floatbank11_sulfate_to_au_feed',\n",
       " 'rougher.calculation.sulfate_to_au_concentrate',\n",
       " 'rougher.output.concentrate_ag',\n",
       " 'rougher.output.concentrate_au',\n",
       " 'rougher.output.concentrate_pb',\n",
       " 'rougher.output.concentrate_sol',\n",
       " 'rougher.output.tail_ag',\n",
       " 'rougher.output.tail_au',\n",
       " 'rougher.output.tail_pb',\n",
       " 'rougher.output.tail_sol',\n",
       " 'secondary_cleaner.output.tail_ag',\n",
       " 'secondary_cleaner.output.tail_au',\n",
       " 'secondary_cleaner.output.tail_pb',\n",
       " 'secondary_cleaner.output.tail_sol']"
      ]
     },
     "execution_count": 47,
     "metadata": {},
     "output_type": "execute_result"
    }
   ],
   "source": [
    "unique_columns=(list(set(data_train.columns) - set(data_test.columns)))\n",
    "unique_columns.sort()\n",
    "unique_columns "
   ]
  },
  {
   "cell_type": "markdown",
   "metadata": {},
   "source": [
    "#### Линейная регрессия"
   ]
  },
  {
   "cell_type": "markdown",
   "metadata": {},
   "source": [
    "Приведем data_train к data_test по столбцам:"
   ]
  },
  {
   "cell_type": "code",
   "execution_count": 48,
   "metadata": {},
   "outputs": [],
   "source": [
    "for i in range(0,len(unique_columns)):  \n",
    "    data_train=data_train.drop(unique_columns[i],axis=1)"
   ]
  },
  {
   "cell_type": "markdown",
   "metadata": {},
   "source": [
    "Проверим результат:"
   ]
  },
  {
   "cell_type": "code",
   "execution_count": 49,
   "metadata": {
    "scrolled": true
   },
   "outputs": [
    {
     "data": {
      "text/plain": [
       "[]"
      ]
     },
     "execution_count": 49,
     "metadata": {},
     "output_type": "execute_result"
    }
   ],
   "source": [
    "(list(set(data_train.columns) - set(data_test.columns)))"
   ]
  },
  {
   "cell_type": "markdown",
   "metadata": {},
   "source": [
    "В датасетах теперь одинаковые колонки."
   ]
  },
  {
   "cell_type": "code",
   "execution_count": 50,
   "metadata": {},
   "outputs": [],
   "source": [
    "#Отсортируем название столбцов в алфавитном порядке\n",
    "data_test.sort_index(axis=1, inplace = True)\n",
    "data_train.sort_index(axis=1, inplace = True)"
   ]
  },
  {
   "cell_type": "code",
   "execution_count": 51,
   "metadata": {
    "scrolled": true
   },
   "outputs": [],
   "source": [
    "#Разобьем выборку на featuress и target\n",
    "#Уберем колонку \"date\", так как с ней модель не обучается, пусть даже \n",
    "\n",
    "features=data_train.drop(['final.output.recovery','rougher.output.recovery','date'],axis=1)\n",
    "target = data_train[['final.output.recovery','rougher.output.recovery']]\n"
   ]
  },
  {
   "cell_type": "markdown",
   "metadata": {},
   "source": [
    "<div style=\"background: #cceeaa; padding: 5px; border: 1px solid green; border-radius: 5px;\">\n",
    "<font color='green'> \n",
    "<u>КОММЕНТАРИЙ РЕВЬЮЕРА</u>\n",
    "<font color='red'><br>Тут такое дело:<br>\n",
    "Нам заказчик специально дал трайн и тест. И собирается проверять только ни тесте. Да если и разобраться, то как раз признаков, которых нет в тесте - это некоторые расчетные (calculation) и выходные (output) характеристики процесса и. их невозможно получить/измерить во время выполнения технологического процесса. Поэтому лучше так:<br>\n",
    "1) тест наращиваем ТОЛЬКО таргетом c помощью поля дата.<br>\n",
    "2) трайн \"урезаем\" по количеству столбцов до теста."
   ]
  },
  {
   "cell_type": "markdown",
   "metadata": {},
   "source": [
    "<div class=\"alert alert-info\">\n",
    "    <u> Комментарий студента</u><br>\n",
    "Исправлено.\n",
    "</div>"
   ]
  },
  {
   "cell_type": "code",
   "execution_count": 52,
   "metadata": {},
   "outputs": [
    {
     "name": "stdout",
     "output_type": "stream",
     "text": [
      "Средняя оценка качества модели: -0.36611227489209963\n",
      "CPU times: user 1.12 s, sys: 809 ms, total: 1.93 s\n",
      "Wall time: 1.91 s\n"
     ]
    }
   ],
   "source": [
    "%%time\n",
    "model = LinearRegression()\n",
    "scores=cross_val_score(model, features, target, cv=5)\n",
    "final_score= sum(scores)/len(scores)\n",
    "print('Средняя оценка качества модели:', final_score)"
   ]
  },
  {
   "cell_type": "markdown",
   "metadata": {},
   "source": [
    "#### Случайный лес"
   ]
  },
  {
   "cell_type": "code",
   "execution_count": 53,
   "metadata": {},
   "outputs": [
    {
     "name": "stdout",
     "output_type": "stream",
     "text": [
      "Лучшие параметры:  {'n_estimators': 31, 'max_depth': 8}\n",
      "CPU times: user 16min 8s, sys: 720 ms, total: 16min 9s\n",
      "Wall time: 16min 12s\n"
     ]
    }
   ],
   "source": [
    "%%time\n",
    "parameters = {'max_depth':range(1,80,1), 'n_estimators':range(10,51,3)}\n",
    "rgr_rand_frst = RandomizedSearchCV(RandomForestRegressor(random_state = 12345), parameters, cv=5, random_state=12345, n_jobs=-1)\n",
    "rgr_rand_frst.fit(features, target)\n",
    "print('Лучшие параметры: ',rgr_rand_frst.best_params_)"
   ]
  },
  {
   "cell_type": "code",
   "execution_count": 54,
   "metadata": {},
   "outputs": [
    {
     "name": "stdout",
     "output_type": "stream",
     "text": [
      "Средняя оценка качества модели: -0.07429206704433412\n",
      "CPU times: user 52.9 s, sys: 11.9 ms, total: 52.9 s\n",
      "Wall time: 53.1 s\n"
     ]
    }
   ],
   "source": [
    "%%time\n",
    "model = RandomForestRegressor(n_estimators=31, max_depth=8, random_state=12345)\n",
    "scores=cross_val_score(model, features, target, cv=5)\n",
    "final_score= sum(scores)/len(scores)\n",
    "print('Средняя оценка качества модели:', final_score)"
   ]
  },
  {
   "cell_type": "markdown",
   "metadata": {},
   "source": [
    "Лучшая модель - случайный лес."
   ]
  },
  {
   "cell_type": "markdown",
   "metadata": {},
   "source": [
    "#### Проверим модель на тестовой выборке"
   ]
  },
  {
   "cell_type": "code",
   "execution_count": 55,
   "metadata": {
    "scrolled": false
   },
   "outputs": [
    {
     "name": "stdout",
     "output_type": "stream",
     "text": [
      "R2_score для тестовой выборки:   0.0731\n",
      "RMSE для тестовой выборки 11.1117\n",
      "MAE для тестовой выборки 5.9752\n",
      "Итоговоеb sMAPE для тестовой выборки:  9.4929\n",
      "CPU times: user 13.3 s, sys: 3.99 ms, total: 13.3 s\n",
      "Wall time: 13.5 s\n"
     ]
    }
   ],
   "source": [
    "%%time\n",
    "\n",
    "model = RandomForestRegressor(n_estimators=31, max_depth=8, random_state=12345)\n",
    "#Обучим модель на обобщенной выборке\n",
    "model.fit(features,target)\n",
    "\n",
    "features_test=data_test.drop(['final.output.recovery','rougher.output.recovery','date'],axis=1)\n",
    "target_test = data_test[['final.output.recovery','rougher.output.recovery']]\n",
    "\n",
    "\n",
    "predicted_test  = model.predict(features_test)\n",
    "smape_final_test=round(smape(predicted_test,target_test)[0]*0.25+smape(predicted_test,target_test)[1]*0.75,4)\n",
    "print('R2_score для тестовой выборки:  ',round(r2_score(target_test, predicted_test),4))\n",
    "print('RMSE для тестовой выборки',round(mean_squared_error(target_test, predicted_test)**0.5,4))\n",
    "print('MAE для тестовой выборки',round(mean_absolute_error(target_test, predicted_test),4))\n",
    "print('Итоговоеb sMAPE для тестовой выборки: ',smape_final_test)"
   ]
  },
  {
   "cell_type": "code",
   "execution_count": 56,
   "metadata": {},
   "outputs": [
    {
     "name": "stdout",
     "output_type": "stream",
     "text": [
      "sMAPE от dummy_regressor: 8.9118\n"
     ]
    }
   ],
   "source": [
    "dummy_regressor_rougher = DummyRegressor(strategy=\"median\") \n",
    "dummy_regressor_rougher.fit(features,target)\n",
    "dummy_rougher_pred = dummy_regressor_rougher.predict(features_test)\n",
    "#smape_dummy_rougher = smape(target_test, dummy_rougher_pred)\n",
    "smape_dummy_rougher_final = round(smape(dummy_rougher_pred,target_test)[0]*0.25+smape(dummy_rougher_pred,target_test)[1]*0.75,4)\n",
    "print('sMAPE от dummy_regressor:', smape_dummy_rougher_final)"
   ]
  },
  {
   "cell_type": "markdown",
   "metadata": {},
   "source": [
    "На тестовой выборке метрики чуть хуже, чем на валидационной, но незначительно."
   ]
  },
  {
   "cell_type": "code",
   "execution_count": 57,
   "metadata": {
    "scrolled": true
   },
   "outputs": [
    {
     "data": {
      "text/plain": [
       "<matplotlib.axes._subplots.AxesSubplot at 0x7f5dcb65e5d0>"
      ]
     },
     "execution_count": 57,
     "metadata": {},
     "output_type": "execute_result"
    },
    {
     "data": {
      "image/png": "[encoded data removed]",
      "text/plain": [
       "<Figure size 576x432 with 1 Axes>"
      ]
     },
     "metadata": {
      "needs_background": "light"
     },
     "output_type": "display_data"
    }
   ],
   "source": [
    "feat_importances = pd.DataFrame(model.feature_importances_, index=features.columns, columns=[\"Importance\"])\n",
    "feat_importances.sort_values(by='Importance', ascending=False, inplace=True)\n",
    "feat_importances.head(10).plot(kind='bar', figsize=(8,6))"
   ]
  },
  {
   "cell_type": "markdown",
   "metadata": {},
   "source": [
    "Самыми значимыми параметрами оказались параметры после флотации."
   ]
  }
 ],
 "metadata": {
  "ExecuteTimeLog": [
   {
    "duration": 1455,
    "start_time": "2021-09-27T12:51:52.521Z"
   },
   {
    "duration": 2716,
    "start_time": "2021-09-27T12:54:20.340Z"
   },
   {
    "duration": 898,
    "start_time": "2021-09-27T12:54:40.599Z"
   },
   {
    "duration": 45,
    "start_time": "2021-09-27T12:54:49.483Z"
   },
   {
    "duration": 25,
    "start_time": "2021-09-27T12:54:59.203Z"
   },
   {
    "duration": 39,
    "start_time": "2021-09-27T13:01:31.958Z"
   },
   {
    "duration": 40,
    "start_time": "2021-09-27T13:07:00.672Z"
   },
   {
    "duration": 24,
    "start_time": "2021-09-27T13:09:03.308Z"
   },
   {
    "duration": 8195,
    "start_time": "2021-09-27T13:10:23.076Z"
   },
   {
    "duration": 8,
    "start_time": "2021-09-27T13:10:52.848Z"
   },
   {
    "duration": 11,
    "start_time": "2021-09-27T13:10:58.439Z"
   },
   {
    "duration": 242399,
    "start_time": "2021-09-27T13:12:27.989Z"
   },
   {
    "duration": 13,
    "start_time": "2021-09-27T13:23:53.768Z"
   },
   {
    "duration": 11,
    "start_time": "2021-09-27T13:24:11.195Z"
   },
   {
    "duration": 12,
    "start_time": "2021-09-27T13:24:25.527Z"
   },
   {
    "duration": 32,
    "start_time": "2021-09-27T13:25:01.004Z"
   },
   {
    "duration": 97,
    "start_time": "2021-09-27T13:28:32.976Z"
   },
   {
    "duration": 12,
    "start_time": "2021-09-27T13:29:37.248Z"
   },
   {
    "duration": 97,
    "start_time": "2021-09-27T13:31:30.331Z"
   },
   {
    "duration": 5,
    "start_time": "2021-09-27T13:31:38.555Z"
   },
   {
    "duration": 104,
    "start_time": "2021-09-27T13:32:09.990Z"
   },
   {
    "duration": 6,
    "start_time": "2021-09-27T13:32:18.193Z"
   },
   {
    "duration": 7,
    "start_time": "2021-09-27T13:34:36.953Z"
   },
   {
    "duration": 8,
    "start_time": "2021-09-27T13:34:49.849Z"
   },
   {
    "duration": 7,
    "start_time": "2021-09-27T13:35:16.143Z"
   },
   {
    "duration": 10,
    "start_time": "2021-09-27T13:35:29.240Z"
   },
   {
    "duration": 23,
    "start_time": "2021-09-27T16:28:36.703Z"
   },
   {
    "duration": 15,
    "start_time": "2021-09-27T16:28:40.411Z"
   },
   {
    "duration": 38,
    "start_time": "2021-09-27T16:29:10.255Z"
   },
   {
    "duration": 283,
    "start_time": "2021-09-27T16:31:27.573Z"
   },
   {
    "duration": 14,
    "start_time": "2021-09-27T16:31:36.445Z"
   },
   {
    "duration": 292,
    "start_time": "2021-09-27T16:33:54.291Z"
   },
   {
    "duration": 324,
    "start_time": "2021-09-27T16:33:59.382Z"
   },
   {
    "duration": 6,
    "start_time": "2021-09-27T16:34:01.700Z"
   },
   {
    "duration": 129,
    "start_time": "2021-09-27T16:36:58.333Z"
   },
   {
    "duration": 133,
    "start_time": "2021-09-27T16:37:03.120Z"
   },
   {
    "duration": 92,
    "start_time": "2021-09-27T16:37:16.562Z"
   },
   {
    "duration": 103,
    "start_time": "2021-09-27T16:37:39.931Z"
   },
   {
    "duration": 95,
    "start_time": "2021-09-27T16:37:47.437Z"
   },
   {
    "duration": 92,
    "start_time": "2021-09-27T16:37:55.497Z"
   },
   {
    "duration": 5,
    "start_time": "2021-09-27T16:38:08.169Z"
   },
   {
    "duration": 281,
    "start_time": "2021-09-27T16:38:31.994Z"
   },
   {
    "duration": 102,
    "start_time": "2021-09-27T16:38:41.251Z"
   },
   {
    "duration": 286,
    "start_time": "2021-09-27T16:38:55.305Z"
   },
   {
    "duration": 5,
    "start_time": "2021-09-27T16:38:59.073Z"
   },
   {
    "duration": 5,
    "start_time": "2021-09-27T16:39:03.657Z"
   },
   {
    "duration": 95,
    "start_time": "2021-09-27T16:39:20.209Z"
   },
   {
    "duration": 95,
    "start_time": "2021-09-27T16:39:31.888Z"
   },
   {
    "duration": 96,
    "start_time": "2021-09-27T16:40:11.247Z"
   },
   {
    "duration": 95,
    "start_time": "2021-09-27T16:40:23.543Z"
   },
   {
    "duration": 104,
    "start_time": "2021-09-27T16:41:02.056Z"
   },
   {
    "duration": 21,
    "start_time": "2021-09-27T16:41:06.039Z"
   },
   {
    "duration": 22,
    "start_time": "2021-09-27T16:41:11.679Z"
   },
   {
    "duration": 6,
    "start_time": "2021-09-27T16:41:49.831Z"
   },
   {
    "duration": 5,
    "start_time": "2021-09-27T16:42:17.494Z"
   },
   {
    "duration": 6,
    "start_time": "2021-09-27T16:42:28.990Z"
   },
   {
    "duration": 298,
    "start_time": "2021-09-27T16:42:31.431Z"
   },
   {
    "duration": 6,
    "start_time": "2021-09-27T16:42:34.566Z"
   },
   {
    "duration": 438,
    "start_time": "2021-09-27T16:43:13.727Z"
   },
   {
    "duration": 322,
    "start_time": "2021-09-27T16:43:32.679Z"
   },
   {
    "duration": 6,
    "start_time": "2021-09-27T16:46:03.981Z"
   },
   {
    "duration": 6,
    "start_time": "2021-09-27T16:46:18.588Z"
   },
   {
    "duration": 8,
    "start_time": "2021-09-27T16:48:00.043Z"
   },
   {
    "duration": 283,
    "start_time": "2021-09-27T16:48:27.138Z"
   },
   {
    "duration": 4,
    "start_time": "2021-09-27T16:48:38.489Z"
   },
   {
    "duration": 4,
    "start_time": "2021-09-27T16:48:47.427Z"
   },
   {
    "duration": 9,
    "start_time": "2021-09-27T16:48:54.410Z"
   },
   {
    "duration": 4,
    "start_time": "2021-09-27T16:49:28.734Z"
   },
   {
    "duration": 6,
    "start_time": "2021-09-27T16:49:33.993Z"
   },
   {
    "duration": 6,
    "start_time": "2021-09-27T16:49:41.506Z"
   },
   {
    "duration": 296,
    "start_time": "2021-09-27T16:49:46.818Z"
   },
   {
    "duration": 7,
    "start_time": "2021-09-27T16:49:51.395Z"
   },
   {
    "duration": 6,
    "start_time": "2021-09-27T16:50:29.782Z"
   },
   {
    "duration": 31,
    "start_time": "2021-09-27T16:58:42.998Z"
   },
   {
    "duration": 294,
    "start_time": "2021-09-27T16:58:56.686Z"
   },
   {
    "duration": 397,
    "start_time": "2021-09-27T16:59:00.168Z"
   },
   {
    "duration": 97,
    "start_time": "2021-09-27T16:59:05.502Z"
   },
   {
    "duration": 11,
    "start_time": "2021-09-27T16:59:09.469Z"
   },
   {
    "duration": 364,
    "start_time": "2021-09-27T16:59:15.780Z"
   },
   {
    "duration": 13,
    "start_time": "2021-09-27T16:59:20.749Z"
   },
   {
    "duration": 13,
    "start_time": "2021-09-27T16:59:29.357Z"
   },
   {
    "duration": 204,
    "start_time": "2021-09-27T16:59:44.797Z"
   },
   {
    "duration": 12,
    "start_time": "2021-09-27T16:59:50.373Z"
   },
   {
    "duration": 13,
    "start_time": "2021-09-27T16:59:54.173Z"
   },
   {
    "duration": 14,
    "start_time": "2021-09-27T16:59:58.787Z"
   },
   {
    "duration": 17,
    "start_time": "2021-09-27T17:00:03.766Z"
   },
   {
    "duration": 482,
    "start_time": "2021-09-27T17:00:57.300Z"
   },
   {
    "duration": 183,
    "start_time": "2021-09-27T17:01:06.508Z"
   },
   {
    "duration": 157,
    "start_time": "2021-09-27T17:02:29.267Z"
   },
   {
    "duration": 19,
    "start_time": "2021-09-27T17:02:48.292Z"
   },
   {
    "duration": 7341,
    "start_time": "2021-09-27T17:14:50.318Z"
   },
   {
    "duration": 8,
    "start_time": "2021-09-27T17:14:59.758Z"
   },
   {
    "duration": 11,
    "start_time": "2021-09-27T17:15:08.101Z"
   },
   {
    "duration": 12,
    "start_time": "2021-09-27T17:15:12.091Z"
   },
   {
    "duration": 10797,
    "start_time": "2021-09-27T17:15:37.534Z"
   },
   {
    "duration": 11,
    "start_time": "2021-09-27T17:16:30.245Z"
   },
   {
    "duration": 11,
    "start_time": "2021-09-27T17:16:41.092Z"
   },
   {
    "duration": 1176,
    "start_time": "2021-09-28T12:56:54.814Z"
   },
   {
    "duration": 737,
    "start_time": "2021-09-28T12:56:55.992Z"
   },
   {
    "duration": 18,
    "start_time": "2021-09-28T12:56:56.731Z"
   },
   {
    "duration": 29,
    "start_time": "2021-09-28T12:56:56.751Z"
   },
   {
    "duration": 31,
    "start_time": "2021-09-28T12:56:56.782Z"
   },
   {
    "duration": 8,
    "start_time": "2021-09-28T12:56:56.814Z"
   },
   {
    "duration": -2084,
    "start_time": "2021-09-28T12:57:34.791Z"
   },
   {
    "duration": -2085,
    "start_time": "2021-09-28T12:57:34.793Z"
   },
   {
    "duration": -2087,
    "start_time": "2021-09-28T12:57:34.796Z"
   },
   {
    "duration": -2089,
    "start_time": "2021-09-28T12:57:34.799Z"
   },
   {
    "duration": -2090,
    "start_time": "2021-09-28T12:57:34.801Z"
   },
   {
    "duration": -2091,
    "start_time": "2021-09-28T12:57:34.803Z"
   },
   {
    "duration": -2093,
    "start_time": "2021-09-28T12:57:34.806Z"
   },
   {
    "duration": -2094,
    "start_time": "2021-09-28T12:57:34.808Z"
   },
   {
    "duration": -2095,
    "start_time": "2021-09-28T12:57:34.810Z"
   },
   {
    "duration": -2096,
    "start_time": "2021-09-28T12:57:34.812Z"
   },
   {
    "duration": -2098,
    "start_time": "2021-09-28T12:57:34.815Z"
   },
   {
    "duration": -2100,
    "start_time": "2021-09-28T12:57:34.818Z"
   },
   {
    "duration": -2101,
    "start_time": "2021-09-28T12:57:34.820Z"
   },
   {
    "duration": -2103,
    "start_time": "2021-09-28T12:57:34.823Z"
   },
   {
    "duration": -2104,
    "start_time": "2021-09-28T12:57:34.825Z"
   },
   {
    "duration": -2106,
    "start_time": "2021-09-28T12:57:34.828Z"
   },
   {
    "duration": -2108,
    "start_time": "2021-09-28T12:57:34.831Z"
   },
   {
    "duration": 11,
    "start_time": "2021-09-28T12:57:36.613Z"
   },
   {
    "duration": 9,
    "start_time": "2021-09-28T12:57:40.722Z"
   },
   {
    "duration": 20,
    "start_time": "2021-09-28T12:57:40.733Z"
   },
   {
    "duration": 6,
    "start_time": "2021-09-28T12:57:40.756Z"
   },
   {
    "duration": 7,
    "start_time": "2021-09-28T12:57:40.764Z"
   },
   {
    "duration": 9,
    "start_time": "2021-09-28T12:57:40.772Z"
   },
   {
    "duration": 26,
    "start_time": "2021-09-28T12:57:40.783Z"
   },
   {
    "duration": 15,
    "start_time": "2021-09-28T12:57:40.811Z"
   },
   {
    "duration": 4,
    "start_time": "2021-09-28T12:57:40.827Z"
   },
   {
    "duration": 22,
    "start_time": "2021-09-28T12:57:40.833Z"
   },
   {
    "duration": 144,
    "start_time": "2021-09-28T12:57:40.857Z"
   },
   {
    "duration": 74,
    "start_time": "2021-09-28T12:57:41.002Z"
   },
   {
    "duration": 22,
    "start_time": "2021-09-28T12:57:41.078Z"
   },
   {
    "duration": 7,
    "start_time": "2021-09-28T12:57:41.102Z"
   },
   {
    "duration": 7,
    "start_time": "2021-09-28T12:57:41.111Z"
   },
   {
    "duration": 203,
    "start_time": "2021-09-28T12:57:41.120Z"
   },
   {
    "duration": 5,
    "start_time": "2021-09-28T12:57:48.557Z"
   },
   {
    "duration": 20,
    "start_time": "2021-09-28T13:07:53.556Z"
   },
   {
    "duration": 21,
    "start_time": "2021-09-28T13:11:03.908Z"
   },
   {
    "duration": 21,
    "start_time": "2021-09-28T13:12:09.555Z"
   },
   {
    "duration": 30,
    "start_time": "2021-09-28T13:12:49.604Z"
   },
   {
    "duration": 17,
    "start_time": "2021-09-28T13:20:27.546Z"
   },
   {
    "duration": 16,
    "start_time": "2021-09-28T13:20:34.949Z"
   },
   {
    "duration": 624,
    "start_time": "2021-09-28T13:22:46.152Z"
   },
   {
    "duration": 59,
    "start_time": "2021-09-28T13:24:41.783Z"
   },
   {
    "duration": 70,
    "start_time": "2021-09-28T13:25:09.788Z"
   },
   {
    "duration": 907,
    "start_time": "2021-09-28T13:25:21.367Z"
   },
   {
    "duration": 2911,
    "start_time": "2021-09-28T13:25:30.703Z"
   },
   {
    "duration": 184,
    "start_time": "2021-09-28T13:25:35.651Z"
   },
   {
    "duration": 1184,
    "start_time": "2021-09-28T13:25:43.886Z"
   },
   {
    "duration": 734,
    "start_time": "2021-09-28T13:25:45.072Z"
   },
   {
    "duration": 20,
    "start_time": "2021-09-28T13:25:45.808Z"
   },
   {
    "duration": 28,
    "start_time": "2021-09-28T13:25:45.830Z"
   },
   {
    "duration": 40,
    "start_time": "2021-09-28T13:25:45.860Z"
   },
   {
    "duration": 8,
    "start_time": "2021-09-28T13:25:45.902Z"
   },
   {
    "duration": 2,
    "start_time": "2021-09-28T13:25:45.912Z"
   },
   {
    "duration": 11,
    "start_time": "2021-09-28T13:25:45.916Z"
   },
   {
    "duration": 7,
    "start_time": "2021-09-28T13:25:45.929Z"
   },
   {
    "duration": 18,
    "start_time": "2021-09-28T13:25:45.938Z"
   },
   {
    "duration": 5,
    "start_time": "2021-09-28T13:25:45.957Z"
   },
   {
    "duration": 37,
    "start_time": "2021-09-28T13:25:45.964Z"
   },
   {
    "duration": 8,
    "start_time": "2021-09-28T13:25:46.002Z"
   },
   {
    "duration": 11,
    "start_time": "2021-09-28T13:25:46.012Z"
   },
   {
    "duration": 15,
    "start_time": "2021-09-28T13:25:46.024Z"
   },
   {
    "duration": 4,
    "start_time": "2021-09-28T13:25:46.040Z"
   },
   {
    "duration": 22,
    "start_time": "2021-09-28T13:25:46.046Z"
   },
   {
    "duration": 120,
    "start_time": "2021-09-28T13:25:46.100Z"
   },
   {
    "duration": 83,
    "start_time": "2021-09-28T13:25:46.222Z"
   },
   {
    "duration": 11,
    "start_time": "2021-09-28T13:25:46.307Z"
   },
   {
    "duration": 7,
    "start_time": "2021-09-28T13:25:46.320Z"
   },
   {
    "duration": 13,
    "start_time": "2021-09-28T13:25:46.329Z"
   },
   {
    "duration": 8,
    "start_time": "2021-09-28T13:25:46.344Z"
   },
   {
    "duration": 29,
    "start_time": "2021-09-28T13:25:46.354Z"
   },
   {
    "duration": 29,
    "start_time": "2021-09-28T13:25:46.385Z"
   },
   {
    "duration": 18,
    "start_time": "2021-09-28T13:25:46.415Z"
   },
   {
    "duration": 15,
    "start_time": "2021-09-28T13:25:46.435Z"
   },
   {
    "duration": 14,
    "start_time": "2021-09-28T13:25:46.452Z"
   },
   {
    "duration": 2097,
    "start_time": "2021-09-28T13:25:46.467Z"
   },
   {
    "duration": 227,
    "start_time": "2021-09-28T13:25:48.566Z"
   },
   {
    "duration": 223,
    "start_time": "2021-09-28T13:25:55.999Z"
   },
   {
    "duration": 569,
    "start_time": "2021-09-28T13:26:58.395Z"
   },
   {
    "duration": 762,
    "start_time": "2021-09-28T13:27:24.223Z"
   },
   {
    "duration": 417,
    "start_time": "2021-09-28T13:27:57.072Z"
   },
   {
    "duration": 353,
    "start_time": "2021-09-28T13:28:19.968Z"
   },
   {
    "duration": 636,
    "start_time": "2021-09-28T13:29:01.168Z"
   },
   {
    "duration": 462,
    "start_time": "2021-09-28T13:33:01.110Z"
   },
   {
    "duration": 375,
    "start_time": "2021-09-28T13:34:20.722Z"
   },
   {
    "duration": 1538,
    "start_time": "2021-09-28T17:27:12.491Z"
   },
   {
    "duration": 4531,
    "start_time": "2021-09-28T17:27:14.032Z"
   },
   {
    "duration": 899,
    "start_time": "2021-09-28T17:27:18.567Z"
   },
   {
    "duration": 29,
    "start_time": "2021-09-28T17:27:19.469Z"
   },
   {
    "duration": 75,
    "start_time": "2021-09-28T17:27:19.502Z"
   },
   {
    "duration": 25,
    "start_time": "2021-09-28T17:27:19.581Z"
   },
   {
    "duration": 13,
    "start_time": "2021-09-28T17:27:19.609Z"
   },
   {
    "duration": 35,
    "start_time": "2021-09-28T17:27:19.628Z"
   },
   {
    "duration": 14,
    "start_time": "2021-09-28T17:27:19.666Z"
   },
   {
    "duration": 15,
    "start_time": "2021-09-28T17:27:19.682Z"
   },
   {
    "duration": 30,
    "start_time": "2021-09-28T17:27:19.700Z"
   },
   {
    "duration": 12,
    "start_time": "2021-09-28T17:27:19.762Z"
   },
   {
    "duration": 8,
    "start_time": "2021-09-28T17:27:19.777Z"
   },
   {
    "duration": 11,
    "start_time": "2021-09-28T17:27:19.788Z"
   },
   {
    "duration": 18,
    "start_time": "2021-09-28T17:27:19.802Z"
   },
   {
    "duration": 49,
    "start_time": "2021-09-28T17:27:19.823Z"
   },
   {
    "duration": 9,
    "start_time": "2021-09-28T17:27:19.875Z"
   },
   {
    "duration": 24,
    "start_time": "2021-09-28T17:27:19.886Z"
   },
   {
    "duration": 232,
    "start_time": "2021-09-28T17:27:19.912Z"
   },
   {
    "duration": 167,
    "start_time": "2021-09-28T17:27:20.146Z"
   },
   {
    "duration": 17,
    "start_time": "2021-09-28T17:27:20.316Z"
   },
   {
    "duration": 33,
    "start_time": "2021-09-28T17:27:20.335Z"
   },
   {
    "duration": 13,
    "start_time": "2021-09-28T17:27:20.373Z"
   },
   {
    "duration": 10,
    "start_time": "2021-09-28T17:27:20.388Z"
   },
   {
    "duration": 65,
    "start_time": "2021-09-28T17:27:20.400Z"
   },
   {
    "duration": 30,
    "start_time": "2021-09-28T17:27:20.468Z"
   },
   {
    "duration": 32,
    "start_time": "2021-09-28T17:27:20.501Z"
   },
   {
    "duration": 50,
    "start_time": "2021-09-28T17:27:20.536Z"
   },
   {
    "duration": 34,
    "start_time": "2021-09-28T17:27:20.589Z"
   },
   {
    "duration": 425,
    "start_time": "2021-09-28T17:27:20.626Z"
   },
   {
    "duration": -63,
    "start_time": "2021-09-28T17:27:21.116Z"
   },
   {
    "duration": 508,
    "start_time": "2021-09-28T17:28:16.806Z"
   },
   {
    "duration": 342,
    "start_time": "2021-09-28T17:28:28.440Z"
   },
   {
    "duration": 1572,
    "start_time": "2021-09-28T17:28:40.261Z"
   },
   {
    "duration": 6032,
    "start_time": "2021-09-28T17:28:41.836Z"
   },
   {
    "duration": 903,
    "start_time": "2021-09-28T17:28:47.872Z"
   },
   {
    "duration": 27,
    "start_time": "2021-09-28T17:28:48.777Z"
   },
   {
    "duration": 66,
    "start_time": "2021-09-28T17:28:48.806Z"
   },
   {
    "duration": 26,
    "start_time": "2021-09-28T17:28:48.874Z"
   },
   {
    "duration": 11,
    "start_time": "2021-09-28T17:28:48.903Z"
   },
   {
    "duration": 3,
    "start_time": "2021-09-28T17:28:48.918Z"
   },
   {
    "duration": 41,
    "start_time": "2021-09-28T17:28:48.924Z"
   },
   {
    "duration": 10,
    "start_time": "2021-09-28T17:28:48.968Z"
   },
   {
    "duration": 32,
    "start_time": "2021-09-28T17:28:48.981Z"
   },
   {
    "duration": 48,
    "start_time": "2021-09-28T17:28:49.016Z"
   },
   {
    "duration": 5,
    "start_time": "2021-09-28T17:28:49.067Z"
   },
   {
    "duration": 11,
    "start_time": "2021-09-28T17:28:49.075Z"
   },
   {
    "duration": 22,
    "start_time": "2021-09-28T17:28:49.088Z"
   },
   {
    "duration": 62,
    "start_time": "2021-09-28T17:28:49.113Z"
   },
   {
    "duration": 8,
    "start_time": "2021-09-28T17:28:49.178Z"
   },
   {
    "duration": 28,
    "start_time": "2021-09-28T17:28:49.189Z"
   },
   {
    "duration": 227,
    "start_time": "2021-09-28T17:28:49.220Z"
   },
   {
    "duration": 169,
    "start_time": "2021-09-28T17:28:49.450Z"
   },
   {
    "duration": 18,
    "start_time": "2021-09-28T17:28:49.622Z"
   },
   {
    "duration": 13,
    "start_time": "2021-09-28T17:28:49.663Z"
   },
   {
    "duration": 11,
    "start_time": "2021-09-28T17:28:49.682Z"
   },
   {
    "duration": 11,
    "start_time": "2021-09-28T17:28:49.697Z"
   },
   {
    "duration": 68,
    "start_time": "2021-09-28T17:28:49.711Z"
   },
   {
    "duration": 30,
    "start_time": "2021-09-28T17:28:49.782Z"
   },
   {
    "duration": 68,
    "start_time": "2021-09-28T17:28:49.815Z"
   },
   {
    "duration": 30,
    "start_time": "2021-09-28T17:28:49.886Z"
   },
   {
    "duration": 50,
    "start_time": "2021-09-28T17:28:49.919Z"
   },
   {
    "duration": 769,
    "start_time": "2021-09-28T17:28:49.971Z"
   },
   {
    "duration": -110,
    "start_time": "2021-09-28T17:28:50.852Z"
   },
   {
    "duration": -113,
    "start_time": "2021-09-28T17:28:50.857Z"
   },
   {
    "duration": 1643,
    "start_time": "2021-09-28T17:28:58.319Z"
   },
   {
    "duration": 893,
    "start_time": "2021-09-28T17:29:16.724Z"
   },
   {
    "duration": 460,
    "start_time": "2021-09-28T17:29:58.831Z"
   },
   {
    "duration": 7,
    "start_time": "2021-09-28T17:30:26.279Z"
   },
   {
    "duration": 5237,
    "start_time": "2021-09-28T17:30:58.693Z"
   },
   {
    "duration": 6,
    "start_time": "2021-09-28T17:31:04.450Z"
   },
   {
    "duration": 1515,
    "start_time": "2021-09-28T17:31:31.546Z"
   },
   {
    "duration": 1029,
    "start_time": "2021-09-28T17:31:54.435Z"
   },
   {
    "duration": 6,
    "start_time": "2021-09-28T17:32:52.661Z"
   },
   {
    "duration": 1123,
    "start_time": "2021-09-28T17:32:54.971Z"
   },
   {
    "duration": 5,
    "start_time": "2021-09-28T17:33:18.014Z"
   },
   {
    "duration": 1020,
    "start_time": "2021-09-28T17:33:19.198Z"
   },
   {
    "duration": 6,
    "start_time": "2021-09-28T17:33:58.497Z"
   },
   {
    "duration": 3586,
    "start_time": "2021-09-28T17:34:00.348Z"
   },
   {
    "duration": 6,
    "start_time": "2021-09-28T17:34:20.191Z"
   },
   {
    "duration": 1966,
    "start_time": "2021-09-28T17:34:21.683Z"
   },
   {
    "duration": 5,
    "start_time": "2021-09-28T17:34:53.532Z"
   },
   {
    "duration": 6,
    "start_time": "2021-09-28T17:36:01.900Z"
   },
   {
    "duration": 1582,
    "start_time": "2021-09-28T17:36:04.307Z"
   },
   {
    "duration": 5,
    "start_time": "2021-09-28T17:36:12.334Z"
   },
   {
    "duration": 1046,
    "start_time": "2021-09-28T17:36:14.603Z"
   },
   {
    "duration": 9,
    "start_time": "2021-09-28T17:36:44.092Z"
   },
   {
    "duration": 1722,
    "start_time": "2021-09-28T17:36:46.304Z"
   },
   {
    "duration": 98,
    "start_time": "2021-09-28T17:37:05.437Z"
   },
   {
    "duration": 6,
    "start_time": "2021-09-28T17:37:13.090Z"
   },
   {
    "duration": 1213,
    "start_time": "2021-09-28T17:37:15.479Z"
   },
   {
    "duration": 6,
    "start_time": "2021-09-28T17:37:35.737Z"
   },
   {
    "duration": 1557,
    "start_time": "2021-09-28T17:37:37.142Z"
   },
   {
    "duration": 6,
    "start_time": "2021-09-28T17:37:48.938Z"
   },
   {
    "duration": 1033,
    "start_time": "2021-09-28T17:37:51.583Z"
   },
   {
    "duration": 6,
    "start_time": "2021-09-28T17:38:01.982Z"
   },
   {
    "duration": 1021,
    "start_time": "2021-09-28T17:38:04.050Z"
   },
   {
    "duration": 8,
    "start_time": "2021-09-28T17:38:20.714Z"
   },
   {
    "duration": 1187,
    "start_time": "2021-09-28T17:38:26.286Z"
   },
   {
    "duration": 6,
    "start_time": "2021-09-28T17:38:38.785Z"
   },
   {
    "duration": 1638,
    "start_time": "2021-09-28T17:38:40.649Z"
   },
   {
    "duration": 6,
    "start_time": "2021-09-28T17:38:48.894Z"
   },
   {
    "duration": 5,
    "start_time": "2021-09-28T17:40:16.452Z"
   },
   {
    "duration": 1036,
    "start_time": "2021-09-28T17:40:18.705Z"
   },
   {
    "duration": 973,
    "start_time": "2021-09-28T17:40:34.253Z"
   },
   {
    "duration": 936,
    "start_time": "2021-09-28T17:40:40.012Z"
   },
   {
    "duration": 1074,
    "start_time": "2021-09-28T17:40:50.703Z"
   },
   {
    "duration": 1160,
    "start_time": "2021-09-28T17:40:55.028Z"
   },
   {
    "duration": 6,
    "start_time": "2021-09-28T17:43:19.390Z"
   },
   {
    "duration": 1018,
    "start_time": "2021-09-28T17:43:21.054Z"
   },
   {
    "duration": 1308,
    "start_time": "2021-09-28T17:43:45.818Z"
   },
   {
    "duration": 6,
    "start_time": "2021-09-28T17:44:18.827Z"
   },
   {
    "duration": 1038,
    "start_time": "2021-09-28T17:44:20.606Z"
   },
   {
    "duration": 6,
    "start_time": "2021-09-28T17:45:40.516Z"
   },
   {
    "duration": 1036,
    "start_time": "2021-09-28T17:45:41.869Z"
   },
   {
    "duration": 6,
    "start_time": "2021-09-28T17:47:06.228Z"
   },
   {
    "duration": 1633,
    "start_time": "2021-09-28T17:47:07.713Z"
   },
   {
    "duration": 6,
    "start_time": "2021-09-28T17:47:31.507Z"
   },
   {
    "duration": 1096,
    "start_time": "2021-09-28T17:47:33.172Z"
   },
   {
    "duration": 6,
    "start_time": "2021-09-28T17:47:42.280Z"
   },
   {
    "duration": 968,
    "start_time": "2021-09-28T17:47:43.580Z"
   },
   {
    "duration": 6,
    "start_time": "2021-09-28T17:49:01.050Z"
   },
   {
    "duration": 1037,
    "start_time": "2021-09-28T17:49:02.338Z"
   },
   {
    "duration": 7,
    "start_time": "2021-09-28T17:49:47.180Z"
   },
   {
    "duration": 1082,
    "start_time": "2021-09-28T17:49:48.538Z"
   },
   {
    "duration": 6,
    "start_time": "2021-09-28T17:49:58.667Z"
   },
   {
    "duration": 993,
    "start_time": "2021-09-28T17:50:00.046Z"
   },
   {
    "duration": 6,
    "start_time": "2021-09-28T17:50:10.535Z"
   },
   {
    "duration": -481,
    "start_time": "2021-09-28T17:57:31.553Z"
   },
   {
    "duration": 23,
    "start_time": "2021-09-28T17:57:40.276Z"
   },
   {
    "duration": 23,
    "start_time": "2021-09-28T17:58:04.430Z"
   },
   {
    "duration": 26,
    "start_time": "2021-09-28T17:58:23.417Z"
   },
   {
    "duration": 464,
    "start_time": "2021-09-29T03:48:06.578Z"
   },
   {
    "duration": 1510,
    "start_time": "2021-09-29T03:48:57.094Z"
   },
   {
    "duration": 118,
    "start_time": "2021-09-29T03:49:01.278Z"
   },
   {
    "duration": 161,
    "start_time": "2021-09-29T03:49:12.198Z"
   },
   {
    "duration": 55570,
    "start_time": "2021-09-29T03:49:22.893Z"
   },
   {
    "duration": 3816,
    "start_time": "2021-09-29T03:50:18.466Z"
   },
   {
    "duration": 2172,
    "start_time": "2021-09-29T03:50:33.463Z"
   },
   {
    "duration": 9,
    "start_time": "2021-09-29T03:50:52.861Z"
   },
   {
    "duration": 911,
    "start_time": "2021-09-29T03:50:52.874Z"
   },
   {
    "duration": 26,
    "start_time": "2021-09-29T03:50:53.788Z"
   },
   {
    "duration": 62,
    "start_time": "2021-09-29T03:50:53.818Z"
   },
   {
    "duration": 23,
    "start_time": "2021-09-29T03:50:53.883Z"
   },
   {
    "duration": 11,
    "start_time": "2021-09-29T03:50:53.909Z"
   },
   {
    "duration": 3,
    "start_time": "2021-09-29T03:50:53.922Z"
   },
   {
    "duration": 11,
    "start_time": "2021-09-29T03:50:53.958Z"
   },
   {
    "duration": 10,
    "start_time": "2021-09-29T03:50:53.973Z"
   },
   {
    "duration": 29,
    "start_time": "2021-09-29T03:50:53.985Z"
   },
   {
    "duration": 50,
    "start_time": "2021-09-29T03:50:54.016Z"
   },
   {
    "duration": 5,
    "start_time": "2021-09-29T03:50:54.069Z"
   },
   {
    "duration": 11,
    "start_time": "2021-09-29T03:50:54.076Z"
   },
   {
    "duration": 18,
    "start_time": "2021-09-29T03:50:54.090Z"
   },
   {
    "duration": 56,
    "start_time": "2021-09-29T03:50:54.110Z"
   },
   {
    "duration": 7,
    "start_time": "2021-09-29T03:50:54.169Z"
   },
   {
    "duration": 35,
    "start_time": "2021-09-29T03:50:54.178Z"
   },
   {
    "duration": 223,
    "start_time": "2021-09-29T03:50:54.215Z"
   },
   {
    "duration": 162,
    "start_time": "2021-09-29T03:50:54.440Z"
   },
   {
    "duration": 16,
    "start_time": "2021-09-29T03:50:54.604Z"
   },
   {
    "duration": 3,
    "start_time": "2021-09-29T03:50:54.623Z"
   },
   {
    "duration": 37,
    "start_time": "2021-09-29T03:50:54.628Z"
   },
   {
    "duration": 10,
    "start_time": "2021-09-29T03:50:54.668Z"
   },
   {
    "duration": 6,
    "start_time": "2021-09-29T03:50:54.681Z"
   },
   {
    "duration": 72,
    "start_time": "2021-09-29T03:50:54.690Z"
   },
   {
    "duration": 31,
    "start_time": "2021-09-29T03:50:54.765Z"
   },
   {
    "duration": 62,
    "start_time": "2021-09-29T03:50:54.802Z"
   },
   {
    "duration": 27,
    "start_time": "2021-09-29T03:50:54.868Z"
   },
   {
    "duration": 24,
    "start_time": "2021-09-29T03:50:54.898Z"
   },
   {
    "duration": 5,
    "start_time": "2021-09-29T03:50:54.957Z"
   },
   {
    "duration": 1022,
    "start_time": "2021-09-29T03:50:54.965Z"
   },
   {
    "duration": -377,
    "start_time": "2021-09-29T03:50:56.367Z"
   },
   {
    "duration": -378,
    "start_time": "2021-09-29T03:50:56.370Z"
   },
   {
    "duration": -401,
    "start_time": "2021-09-29T03:50:56.396Z"
   },
   {
    "duration": 23,
    "start_time": "2021-09-29T03:51:14.100Z"
   },
   {
    "duration": 9,
    "start_time": "2021-09-29T03:51:30.461Z"
   },
   {
    "duration": 3816,
    "start_time": "2021-09-29T03:51:42.551Z"
   },
   {
    "duration": 7680,
    "start_time": "2021-09-29T03:51:46.371Z"
   },
   {
    "duration": 3624,
    "start_time": "2021-09-29T03:51:54.054Z"
   },
   {
    "duration": 858,
    "start_time": "2021-09-29T03:51:57.681Z"
   },
   {
    "duration": 32,
    "start_time": "2021-09-29T03:51:58.541Z"
   },
   {
    "duration": 42,
    "start_time": "2021-09-29T03:51:58.575Z"
   },
   {
    "duration": 47,
    "start_time": "2021-09-29T03:51:58.620Z"
   },
   {
    "duration": 11,
    "start_time": "2021-09-29T03:51:58.669Z"
   },
   {
    "duration": 2,
    "start_time": "2021-09-29T03:51:58.684Z"
   },
   {
    "duration": 12,
    "start_time": "2021-09-29T03:51:58.689Z"
   },
   {
    "duration": 9,
    "start_time": "2021-09-29T03:51:58.704Z"
   },
   {
    "duration": 64,
    "start_time": "2021-09-29T03:51:58.715Z"
   },
   {
    "duration": 8,
    "start_time": "2021-09-29T03:51:58.782Z"
   },
   {
    "duration": 9,
    "start_time": "2021-09-29T03:51:58.792Z"
   },
   {
    "duration": 9,
    "start_time": "2021-09-29T03:51:58.803Z"
   },
   {
    "duration": 57,
    "start_time": "2021-09-29T03:51:58.814Z"
   },
   {
    "duration": 20,
    "start_time": "2021-09-29T03:51:58.873Z"
   },
   {
    "duration": 6,
    "start_time": "2021-09-29T03:51:58.895Z"
   },
   {
    "duration": 21,
    "start_time": "2021-09-29T03:51:58.903Z"
   },
   {
    "duration": 141,
    "start_time": "2021-09-29T03:51:58.958Z"
   },
   {
    "duration": 184,
    "start_time": "2021-09-29T03:51:59.101Z"
   },
   {
    "duration": 15,
    "start_time": "2021-09-29T03:51:59.287Z"
   },
   {
    "duration": 20,
    "start_time": "2021-09-29T03:51:59.304Z"
   },
   {
    "duration": 38,
    "start_time": "2021-09-29T03:51:59.326Z"
   },
   {
    "duration": 9,
    "start_time": "2021-09-29T03:51:59.367Z"
   },
   {
    "duration": 6,
    "start_time": "2021-09-29T03:51:59.378Z"
   },
   {
    "duration": 26,
    "start_time": "2021-09-29T03:51:59.389Z"
   },
   {
    "duration": 60,
    "start_time": "2021-09-29T03:51:59.417Z"
   },
   {
    "duration": 25,
    "start_time": "2021-09-29T03:51:59.480Z"
   },
   {
    "duration": 55,
    "start_time": "2021-09-29T03:51:59.507Z"
   },
   {
    "duration": 19,
    "start_time": "2021-09-29T03:51:59.564Z"
   },
   {
    "duration": 6,
    "start_time": "2021-09-29T03:51:59.585Z"
   },
   {
    "duration": 469,
    "start_time": "2021-09-29T03:51:59.593Z"
   },
   {
    "duration": 602,
    "start_time": "2021-09-29T03:52:00.064Z"
   },
   {
    "duration": 48891,
    "start_time": "2021-09-29T03:52:00.669Z"
   },
   {
    "duration": -409,
    "start_time": "2021-09-29T03:52:49.972Z"
   },
   {
    "duration": -415,
    "start_time": "2021-09-29T03:52:49.980Z"
   },
   {
    "duration": 19,
    "start_time": "2021-09-29T03:52:59.746Z"
   },
   {
    "duration": 20,
    "start_time": "2021-09-29T03:53:21.415Z"
   },
   {
    "duration": 434,
    "start_time": "2021-09-29T04:04:39.543Z"
   },
   {
    "duration": 6,
    "start_time": "2021-09-29T04:04:44.355Z"
   },
   {
    "duration": 411,
    "start_time": "2021-09-29T04:04:47.363Z"
   },
   {
    "duration": 641,
    "start_time": "2021-09-29T04:04:49.539Z"
   },
   {
    "duration": 4390,
    "start_time": "2021-09-29T04:04:59.028Z"
   },
   {
    "duration": 3726,
    "start_time": "2021-09-29T04:05:03.421Z"
   },
   {
    "duration": 860,
    "start_time": "2021-09-29T04:05:07.150Z"
   },
   {
    "duration": 26,
    "start_time": "2021-09-29T04:05:08.013Z"
   },
   {
    "duration": 53,
    "start_time": "2021-09-29T04:05:08.041Z"
   },
   {
    "duration": 22,
    "start_time": "2021-09-29T04:05:08.097Z"
   },
   {
    "duration": 40,
    "start_time": "2021-09-29T04:05:08.121Z"
   },
   {
    "duration": 3,
    "start_time": "2021-09-29T04:05:08.163Z"
   },
   {
    "duration": 10,
    "start_time": "2021-09-29T04:05:08.170Z"
   },
   {
    "duration": 9,
    "start_time": "2021-09-29T04:05:08.183Z"
   },
   {
    "duration": 24,
    "start_time": "2021-09-29T04:05:08.194Z"
   },
   {
    "duration": 7,
    "start_time": "2021-09-29T04:05:08.258Z"
   },
   {
    "duration": 20,
    "start_time": "2021-09-29T04:05:08.267Z"
   },
   {
    "duration": 9,
    "start_time": "2021-09-29T04:05:08.289Z"
   },
   {
    "duration": 20,
    "start_time": "2021-09-29T04:05:08.301Z"
   },
   {
    "duration": 45,
    "start_time": "2021-09-29T04:05:08.323Z"
   },
   {
    "duration": 6,
    "start_time": "2021-09-29T04:05:08.371Z"
   },
   {
    "duration": 24,
    "start_time": "2021-09-29T04:05:08.379Z"
   },
   {
    "duration": 154,
    "start_time": "2021-09-29T04:05:08.405Z"
   },
   {
    "duration": 181,
    "start_time": "2021-09-29T04:05:08.561Z"
   },
   {
    "duration": 18,
    "start_time": "2021-09-29T04:05:08.744Z"
   },
   {
    "duration": 10,
    "start_time": "2021-09-29T04:05:08.764Z"
   },
   {
    "duration": 9,
    "start_time": "2021-09-29T04:05:08.776Z"
   },
   {
    "duration": 8,
    "start_time": "2021-09-29T04:05:08.787Z"
   },
   {
    "duration": 71,
    "start_time": "2021-09-29T04:05:08.798Z"
   },
   {
    "duration": 26,
    "start_time": "2021-09-29T04:05:08.871Z"
   },
   {
    "duration": 26,
    "start_time": "2021-09-29T04:05:08.902Z"
   },
   {
    "duration": 57,
    "start_time": "2021-09-29T04:05:08.930Z"
   },
   {
    "duration": 20,
    "start_time": "2021-09-29T04:05:08.989Z"
   },
   {
    "duration": 6,
    "start_time": "2021-09-29T04:05:09.011Z"
   },
   {
    "duration": 396,
    "start_time": "2021-09-29T04:05:09.019Z"
   },
   {
    "duration": 643,
    "start_time": "2021-09-29T04:05:09.418Z"
   },
   {
    "duration": 49295,
    "start_time": "2021-09-29T04:05:10.064Z"
   },
   {
    "duration": -404,
    "start_time": "2021-09-29T04:05:59.766Z"
   },
   {
    "duration": 4409,
    "start_time": "2021-09-29T04:24:34.801Z"
   },
   {
    "duration": 5539,
    "start_time": "2021-09-29T04:26:30.364Z"
   },
   {
    "duration": 8,
    "start_time": "2021-09-29T04:26:49.359Z"
   },
   {
    "duration": 4893,
    "start_time": "2021-09-29T06:23:13.991Z"
   },
   {
    "duration": 5267,
    "start_time": "2021-09-29T06:23:31.431Z"
   },
   {
    "duration": 7,
    "start_time": "2021-09-29T06:23:39.277Z"
   },
   {
    "duration": 109,
    "start_time": "2021-09-29T06:24:17.039Z"
   },
   {
    "duration": 1229,
    "start_time": "2021-09-29T06:24:24.945Z"
   },
   {
    "duration": 374,
    "start_time": "2021-09-29T06:24:35.699Z"
   },
   {
    "duration": 147,
    "start_time": "2021-09-29T06:25:01.240Z"
   },
   {
    "duration": 396,
    "start_time": "2021-09-29T06:25:11.016Z"
   },
   {
    "duration": 6,
    "start_time": "2021-09-29T06:25:20.895Z"
   },
   {
    "duration": 6,
    "start_time": "2021-09-29T06:25:37.425Z"
   },
   {
    "duration": 179,
    "start_time": "2021-09-29T06:32:54.965Z"
   },
   {
    "duration": 8,
    "start_time": "2021-09-29T06:33:19.742Z"
   },
   {
    "duration": 7,
    "start_time": "2021-09-29T06:33:22.513Z"
   },
   {
    "duration": 461,
    "start_time": "2021-09-29T06:35:33.417Z"
   },
   {
    "duration": 43,
    "start_time": "2021-09-29T06:35:41.692Z"
   },
   {
    "duration": 540,
    "start_time": "2021-09-29T06:35:52.205Z"
   },
   {
    "duration": 179,
    "start_time": "2021-09-29T06:35:56.955Z"
   },
   {
    "duration": 11,
    "start_time": "2021-09-29T06:35:59.753Z"
   },
   {
    "duration": 416,
    "start_time": "2021-09-29T06:36:46.458Z"
   },
   {
    "duration": 9,
    "start_time": "2021-09-29T06:36:50.176Z"
   },
   {
    "duration": 6,
    "start_time": "2021-09-29T06:42:07.617Z"
   },
   {
    "duration": 8,
    "start_time": "2021-09-29T06:42:13.812Z"
   },
   {
    "duration": 410,
    "start_time": "2021-09-29T06:42:28.904Z"
   },
   {
    "duration": 3,
    "start_time": "2021-09-29T06:42:37.516Z"
   },
   {
    "duration": 10,
    "start_time": "2021-09-29T06:43:20.177Z"
   },
   {
    "duration": 259,
    "start_time": "2021-09-29T06:44:41.678Z"
   },
   {
    "duration": 165,
    "start_time": "2021-09-29T06:45:11.931Z"
   },
   {
    "duration": 125,
    "start_time": "2021-09-29T06:45:22.015Z"
   },
   {
    "duration": 20,
    "start_time": "2021-09-29T06:45:47.021Z"
   },
   {
    "duration": 17,
    "start_time": "2021-09-29T06:46:08.151Z"
   },
   {
    "duration": 10,
    "start_time": "2021-09-29T06:46:35.233Z"
   },
   {
    "duration": 27,
    "start_time": "2021-09-29T06:47:12.170Z"
   },
   {
    "duration": 6,
    "start_time": "2021-09-29T06:47:46.469Z"
   },
   {
    "duration": 8,
    "start_time": "2021-09-29T06:48:16.723Z"
   },
   {
    "duration": 8,
    "start_time": "2021-09-29T06:48:25.017Z"
   },
   {
    "duration": 7,
    "start_time": "2021-09-29T06:48:45.552Z"
   },
   {
    "duration": 8,
    "start_time": "2021-09-29T06:48:46.892Z"
   },
   {
    "duration": 8,
    "start_time": "2021-09-29T06:48:48.987Z"
   },
   {
    "duration": 14,
    "start_time": "2021-09-29T06:50:11.938Z"
   },
   {
    "duration": 7,
    "start_time": "2021-09-29T06:50:33.878Z"
   },
   {
    "duration": 14,
    "start_time": "2021-09-29T06:50:36.519Z"
   },
   {
    "duration": 6,
    "start_time": "2021-09-29T06:50:41.686Z"
   },
   {
    "duration": 9,
    "start_time": "2021-09-29T06:50:46.070Z"
   },
   {
    "duration": 9,
    "start_time": "2021-09-29T06:52:12.453Z"
   },
   {
    "duration": 7,
    "start_time": "2021-09-29T06:59:13.203Z"
   },
   {
    "duration": 8,
    "start_time": "2021-09-29T06:59:23.226Z"
   },
   {
    "duration": 34,
    "start_time": "2021-09-29T06:59:28.193Z"
   },
   {
    "duration": 7,
    "start_time": "2021-09-29T07:00:15.268Z"
   },
   {
    "duration": 363,
    "start_time": "2021-09-29T07:03:05.142Z"
   },
   {
    "duration": 339,
    "start_time": "2021-09-29T07:03:59.149Z"
   },
   {
    "duration": 367,
    "start_time": "2021-09-29T07:04:13.159Z"
   },
   {
    "duration": 7,
    "start_time": "2021-09-29T07:04:18.582Z"
   },
   {
    "duration": 4452,
    "start_time": "2021-09-29T07:04:43.815Z"
   },
   {
    "duration": 57,
    "start_time": "2021-09-29T07:04:55.102Z"
   },
   {
    "duration": 369,
    "start_time": "2021-09-29T07:06:26.075Z"
   },
   {
    "duration": 117,
    "start_time": "2021-09-29T07:06:35.990Z"
   },
   {
    "duration": 152,
    "start_time": "2021-09-29T07:06:39.597Z"
   },
   {
    "duration": 422,
    "start_time": "2021-09-29T07:06:42.781Z"
   },
   {
    "duration": 4216,
    "start_time": "2021-09-29T07:07:51.318Z"
   },
   {
    "duration": 4580,
    "start_time": "2021-09-29T07:08:22.149Z"
   },
   {
    "duration": 4520,
    "start_time": "2021-09-29T07:08:37.181Z"
   },
   {
    "duration": 9,
    "start_time": "2021-09-29T07:08:47.668Z"
   },
   {
    "duration": 12,
    "start_time": "2021-09-29T08:53:33.782Z"
   },
   {
    "duration": 11,
    "start_time": "2021-09-29T08:53:45.807Z"
   },
   {
    "duration": 510,
    "start_time": "2021-09-29T08:53:50.619Z"
   },
   {
    "duration": 11,
    "start_time": "2021-09-29T08:53:58.526Z"
   },
   {
    "duration": 11,
    "start_time": "2021-09-29T08:54:57.642Z"
   },
   {
    "duration": 25,
    "start_time": "2021-09-29T09:33:57.251Z"
   },
   {
    "duration": 13,
    "start_time": "2021-09-29T09:34:41.681Z"
   },
   {
    "duration": 12,
    "start_time": "2021-09-29T09:35:06.989Z"
   },
   {
    "duration": 11,
    "start_time": "2021-09-29T09:36:35.283Z"
   },
   {
    "duration": 18,
    "start_time": "2021-09-29T09:37:22.600Z"
   },
   {
    "duration": 20,
    "start_time": "2021-09-29T09:38:06.402Z"
   },
   {
    "duration": 21,
    "start_time": "2021-09-29T09:48:24.845Z"
   },
   {
    "duration": 126,
    "start_time": "2021-09-29T09:50:22.137Z"
   },
   {
    "duration": 32,
    "start_time": "2021-09-29T09:50:48.206Z"
   },
   {
    "duration": 19,
    "start_time": "2021-09-29T09:51:05.617Z"
   },
   {
    "duration": 19,
    "start_time": "2021-09-29T09:51:48.443Z"
   },
   {
    "duration": 10,
    "start_time": "2021-09-29T09:58:26.074Z"
   },
   {
    "duration": 7,
    "start_time": "2021-09-29T09:58:44.361Z"
   },
   {
    "duration": 371,
    "start_time": "2021-09-29T09:59:34.921Z"
   },
   {
    "duration": 8,
    "start_time": "2021-09-29T09:59:41.065Z"
   },
   {
    "duration": 8,
    "start_time": "2021-09-29T10:00:57.607Z"
   },
   {
    "duration": 8,
    "start_time": "2021-09-29T10:01:19.479Z"
   },
   {
    "duration": 155,
    "start_time": "2021-09-29T10:02:22.800Z"
   },
   {
    "duration": 8,
    "start_time": "2021-09-29T10:02:29.014Z"
   },
   {
    "duration": 494,
    "start_time": "2021-09-29T10:02:34.927Z"
   },
   {
    "duration": 9,
    "start_time": "2021-09-29T10:02:43.703Z"
   },
   {
    "duration": 8,
    "start_time": "2021-09-29T10:02:48.142Z"
   },
   {
    "duration": 115,
    "start_time": "2021-09-29T10:03:05.517Z"
   },
   {
    "duration": 391,
    "start_time": "2021-09-29T10:03:16.910Z"
   },
   {
    "duration": 9,
    "start_time": "2021-09-29T10:04:13.958Z"
   },
   {
    "duration": 9,
    "start_time": "2021-09-29T10:04:28.768Z"
   },
   {
    "duration": 13,
    "start_time": "2021-09-29T10:05:58.790Z"
   },
   {
    "duration": 6,
    "start_time": "2021-09-29T10:06:08.324Z"
   },
   {
    "duration": 419,
    "start_time": "2021-09-29T10:08:37.921Z"
   },
   {
    "duration": 9,
    "start_time": "2021-09-29T10:09:00.769Z"
   },
   {
    "duration": 8,
    "start_time": "2021-09-29T10:09:08.273Z"
   },
   {
    "duration": 7,
    "start_time": "2021-09-29T10:09:30.417Z"
   },
   {
    "duration": 7,
    "start_time": "2021-09-29T10:09:34.768Z"
   },
   {
    "duration": 8,
    "start_time": "2021-09-29T10:10:01.873Z"
   },
   {
    "duration": 364,
    "start_time": "2021-09-29T10:10:23.882Z"
   },
   {
    "duration": 810,
    "start_time": "2021-09-29T10:10:36.249Z"
   },
   {
    "duration": 14,
    "start_time": "2021-09-29T10:10:43.586Z"
   },
   {
    "duration": 13,
    "start_time": "2021-09-29T10:11:11.337Z"
   },
   {
    "duration": 12,
    "start_time": "2021-09-29T10:11:19.320Z"
   },
   {
    "duration": 15,
    "start_time": "2021-09-29T10:11:25.960Z"
   },
   {
    "duration": 11,
    "start_time": "2021-09-29T10:11:38.480Z"
   },
   {
    "duration": 12,
    "start_time": "2021-09-29T10:11:43.345Z"
   },
   {
    "duration": 7,
    "start_time": "2021-09-29T10:12:31.827Z"
   },
   {
    "duration": 8,
    "start_time": "2021-09-29T10:12:34.854Z"
   },
   {
    "duration": 7,
    "start_time": "2021-09-29T10:12:37.243Z"
   },
   {
    "duration": 11,
    "start_time": "2021-09-29T10:12:38.974Z"
   },
   {
    "duration": 16,
    "start_time": "2021-09-29T10:17:36.114Z"
   },
   {
    "duration": 17,
    "start_time": "2021-09-29T10:20:15.206Z"
   },
   {
    "duration": 8,
    "start_time": "2021-09-29T10:23:56.239Z"
   },
   {
    "duration": 7,
    "start_time": "2021-09-29T10:24:00.912Z"
   },
   {
    "duration": 7,
    "start_time": "2021-09-29T10:24:13.307Z"
   },
   {
    "duration": 8,
    "start_time": "2021-09-29T10:24:15.671Z"
   },
   {
    "duration": 4996,
    "start_time": "2021-09-29T10:24:30.121Z"
   },
   {
    "duration": 11,
    "start_time": "2021-09-29T10:24:35.120Z"
   },
   {
    "duration": 1036,
    "start_time": "2021-09-29T10:24:35.134Z"
   },
   {
    "duration": 32,
    "start_time": "2021-09-29T10:24:36.173Z"
   },
   {
    "duration": 60,
    "start_time": "2021-09-29T10:24:36.208Z"
   },
   {
    "duration": 27,
    "start_time": "2021-09-29T10:24:36.270Z"
   },
   {
    "duration": 14,
    "start_time": "2021-09-29T10:24:36.299Z"
   },
   {
    "duration": 49,
    "start_time": "2021-09-29T10:24:36.317Z"
   },
   {
    "duration": 23,
    "start_time": "2021-09-29T10:24:36.368Z"
   },
   {
    "duration": 9,
    "start_time": "2021-09-29T10:24:36.394Z"
   },
   {
    "duration": 18,
    "start_time": "2021-09-29T10:24:36.406Z"
   },
   {
    "duration": 12,
    "start_time": "2021-09-29T10:24:36.427Z"
   },
   {
    "duration": 28,
    "start_time": "2021-09-29T10:24:36.458Z"
   },
   {
    "duration": 7,
    "start_time": "2021-09-29T10:24:36.489Z"
   },
   {
    "duration": 33,
    "start_time": "2021-09-29T10:24:36.498Z"
   },
   {
    "duration": 27,
    "start_time": "2021-09-29T10:24:36.533Z"
   },
   {
    "duration": 16,
    "start_time": "2021-09-29T10:24:36.564Z"
   },
   {
    "duration": 8,
    "start_time": "2021-09-29T10:25:07.190Z"
   },
   {
    "duration": 8,
    "start_time": "2021-09-29T10:25:18.350Z"
   },
   {
    "duration": 7,
    "start_time": "2021-09-29T10:25:21.443Z"
   },
   {
    "duration": 8,
    "start_time": "2021-09-29T10:25:23.990Z"
   },
   {
    "duration": 11,
    "start_time": "2021-09-29T10:25:41.291Z"
   },
   {
    "duration": 391,
    "start_time": "2021-09-29T10:29:53.310Z"
   },
   {
    "duration": 7,
    "start_time": "2021-09-29T10:29:56.204Z"
   },
   {
    "duration": 7,
    "start_time": "2021-09-29T10:30:42.900Z"
   },
   {
    "duration": 7,
    "start_time": "2021-09-29T10:30:46.910Z"
   },
   {
    "duration": 8,
    "start_time": "2021-09-29T10:30:48.802Z"
   },
   {
    "duration": 11,
    "start_time": "2021-09-29T10:30:54.491Z"
   },
   {
    "duration": 6,
    "start_time": "2021-09-29T10:37:09.656Z"
   },
   {
    "duration": 6,
    "start_time": "2021-09-29T10:37:18.011Z"
   },
   {
    "duration": 7,
    "start_time": "2021-09-29T10:37:32.224Z"
   },
   {
    "duration": 10,
    "start_time": "2021-09-29T10:37:38.027Z"
   },
   {
    "duration": 594,
    "start_time": "2021-09-29T10:38:05.087Z"
   },
   {
    "duration": 10,
    "start_time": "2021-09-29T10:38:08.855Z"
   },
   {
    "duration": 9,
    "start_time": "2021-09-29T10:38:12.496Z"
   },
   {
    "duration": 12,
    "start_time": "2021-09-29T10:38:14.986Z"
   },
   {
    "duration": 7,
    "start_time": "2021-09-29T10:38:17.118Z"
   },
   {
    "duration": 8,
    "start_time": "2021-09-29T10:38:19.174Z"
   },
   {
    "duration": 6,
    "start_time": "2021-09-29T11:08:30.475Z"
   },
   {
    "duration": 5,
    "start_time": "2021-09-29T11:08:41.066Z"
   },
   {
    "duration": 39,
    "start_time": "2021-09-29T11:10:57.011Z"
   },
   {
    "duration": 439,
    "start_time": "2021-09-29T11:12:43.497Z"
   },
   {
    "duration": 5,
    "start_time": "2021-09-29T11:12:53.673Z"
   },
   {
    "duration": 6,
    "start_time": "2021-09-29T11:13:06.681Z"
   },
   {
    "duration": 34,
    "start_time": "2021-09-29T11:13:34.248Z"
   },
   {
    "duration": 138,
    "start_time": "2021-09-29T11:15:10.262Z"
   },
   {
    "duration": 424,
    "start_time": "2021-09-29T11:15:34.487Z"
   },
   {
    "duration": 8,
    "start_time": "2021-09-29T11:15:56.335Z"
   },
   {
    "duration": 44,
    "start_time": "2021-09-29T11:16:14.526Z"
   },
   {
    "duration": 127,
    "start_time": "2021-09-29T11:16:46.710Z"
   },
   {
    "duration": 6,
    "start_time": "2021-09-29T11:16:53.829Z"
   },
   {
    "duration": 5,
    "start_time": "2021-09-29T11:17:08.225Z"
   },
   {
    "duration": 38,
    "start_time": "2021-09-29T11:17:12.589Z"
   },
   {
    "duration": 413,
    "start_time": "2021-09-29T11:17:27.445Z"
   },
   {
    "duration": 37,
    "start_time": "2021-09-29T11:17:32.693Z"
   },
   {
    "duration": 19,
    "start_time": "2021-09-29T11:17:47.629Z"
   },
   {
    "duration": 21,
    "start_time": "2021-09-29T11:18:14.368Z"
   },
   {
    "duration": 31,
    "start_time": "2021-09-29T11:18:18.109Z"
   },
   {
    "duration": 36,
    "start_time": "2021-09-29T11:18:30.045Z"
   },
   {
    "duration": 120,
    "start_time": "2021-09-29T11:21:06.841Z"
   },
   {
    "duration": 129,
    "start_time": "2021-09-29T11:21:42.326Z"
   },
   {
    "duration": 168,
    "start_time": "2021-09-29T11:22:39.965Z"
   },
   {
    "duration": 401,
    "start_time": "2021-09-29T11:22:47.633Z"
   },
   {
    "duration": 5,
    "start_time": "2021-09-29T11:23:05.090Z"
   },
   {
    "duration": 451,
    "start_time": "2021-09-29T11:23:27.306Z"
   },
   {
    "duration": 5,
    "start_time": "2021-09-29T11:23:37.690Z"
   },
   {
    "duration": 432,
    "start_time": "2021-09-29T11:24:13.218Z"
   },
   {
    "duration": 494,
    "start_time": "2021-09-29T11:26:47.903Z"
   },
   {
    "duration": 517,
    "start_time": "2021-09-29T11:35:57.502Z"
   },
   {
    "duration": 427,
    "start_time": "2021-09-29T11:36:20.529Z"
   },
   {
    "duration": 383,
    "start_time": "2021-09-29T11:38:12.831Z"
   },
   {
    "duration": 44,
    "start_time": "2021-09-29T11:39:08.233Z"
   },
   {
    "duration": 8,
    "start_time": "2021-09-29T11:39:25.776Z"
   },
   {
    "duration": 19,
    "start_time": "2021-09-29T11:40:08.244Z"
   },
   {
    "duration": 162,
    "start_time": "2021-09-29T11:41:25.650Z"
   },
   {
    "duration": 124,
    "start_time": "2021-09-29T11:41:32.333Z"
   },
   {
    "duration": 4988,
    "start_time": "2021-09-29T11:41:43.111Z"
   },
   {
    "duration": 21,
    "start_time": "2021-09-29T11:42:28.742Z"
   },
   {
    "duration": 17,
    "start_time": "2021-09-29T11:42:43.584Z"
   },
   {
    "duration": 131,
    "start_time": "2021-09-29T11:45:10.847Z"
   },
   {
    "duration": 458,
    "start_time": "2021-09-29T11:45:15.816Z"
   },
   {
    "duration": 410,
    "start_time": "2021-09-29T11:46:29.952Z"
   },
   {
    "duration": 427,
    "start_time": "2021-09-29T11:46:43.086Z"
   },
   {
    "duration": 417,
    "start_time": "2021-09-29T11:48:28.241Z"
   },
   {
    "duration": 414,
    "start_time": "2021-09-29T11:48:44.275Z"
   },
   {
    "duration": 5183,
    "start_time": "2021-09-29T12:59:35.706Z"
   },
   {
    "duration": 9,
    "start_time": "2021-09-29T12:59:40.894Z"
   },
   {
    "duration": 938,
    "start_time": "2021-09-29T12:59:40.907Z"
   },
   {
    "duration": 31,
    "start_time": "2021-09-29T12:59:41.848Z"
   },
   {
    "duration": 43,
    "start_time": "2021-09-29T12:59:41.882Z"
   },
   {
    "duration": 58,
    "start_time": "2021-09-29T12:59:41.927Z"
   },
   {
    "duration": 15,
    "start_time": "2021-09-29T12:59:41.988Z"
   },
   {
    "duration": 22,
    "start_time": "2021-09-29T12:59:42.008Z"
   },
   {
    "duration": 14,
    "start_time": "2021-09-29T12:59:42.057Z"
   },
   {
    "duration": 17,
    "start_time": "2021-09-29T12:59:42.075Z"
   },
   {
    "duration": 22,
    "start_time": "2021-09-29T12:59:42.095Z"
   },
   {
    "duration": 26,
    "start_time": "2021-09-29T12:59:42.119Z"
   },
   {
    "duration": 39,
    "start_time": "2021-09-29T12:59:42.148Z"
   },
   {
    "duration": 17,
    "start_time": "2021-09-29T12:59:42.190Z"
   },
   {
    "duration": 30,
    "start_time": "2021-09-29T12:59:42.211Z"
   },
   {
    "duration": 19,
    "start_time": "2021-09-29T12:59:42.244Z"
   },
   {
    "duration": 26,
    "start_time": "2021-09-29T12:59:42.266Z"
   },
   {
    "duration": 16,
    "start_time": "2021-09-29T12:59:42.294Z"
   },
   {
    "duration": 14,
    "start_time": "2021-09-29T12:59:42.312Z"
   },
   {
    "duration": 21,
    "start_time": "2021-09-29T12:59:42.328Z"
   },
   {
    "duration": 412,
    "start_time": "2021-09-29T12:59:46.767Z"
   },
   {
    "duration": 438,
    "start_time": "2021-09-29T13:00:11.783Z"
   },
   {
    "duration": 6,
    "start_time": "2021-09-29T13:00:30.185Z"
   },
   {
    "duration": 400,
    "start_time": "2021-09-29T13:00:55.814Z"
   },
   {
    "duration": 6,
    "start_time": "2021-09-29T13:01:00.647Z"
   },
   {
    "duration": 500,
    "start_time": "2021-09-29T13:01:07.105Z"
   },
   {
    "duration": 5,
    "start_time": "2021-09-29T13:01:09.685Z"
   },
   {
    "duration": 16,
    "start_time": "2021-09-29T13:01:31.143Z"
   },
   {
    "duration": 31,
    "start_time": "2021-09-29T13:01:54.001Z"
   },
   {
    "duration": 18,
    "start_time": "2021-09-29T13:02:20.205Z"
   },
   {
    "duration": 12,
    "start_time": "2021-09-29T13:03:20.090Z"
   },
   {
    "duration": 15,
    "start_time": "2021-09-29T13:03:43.127Z"
   },
   {
    "duration": 20,
    "start_time": "2021-09-29T13:04:59.873Z"
   },
   {
    "duration": 20,
    "start_time": "2021-09-29T13:05:10.652Z"
   },
   {
    "duration": 364,
    "start_time": "2021-09-29T13:47:12.862Z"
   },
   {
    "duration": 13,
    "start_time": "2021-09-29T13:59:27.204Z"
   },
   {
    "duration": 10,
    "start_time": "2021-09-29T14:12:27.381Z"
   },
   {
    "duration": 58380,
    "start_time": "2021-09-29T14:20:08.280Z"
   },
   {
    "duration": 4890,
    "start_time": "2021-09-30T06:05:48.940Z"
   },
   {
    "duration": 2010,
    "start_time": "2021-09-30T06:05:53.832Z"
   },
   {
    "duration": -2484,
    "start_time": "2021-09-30T06:05:58.331Z"
   },
   {
    "duration": -2488,
    "start_time": "2021-09-30T06:05:58.336Z"
   },
   {
    "duration": -2493,
    "start_time": "2021-09-30T06:05:58.343Z"
   },
   {
    "duration": -2499,
    "start_time": "2021-09-30T06:05:58.350Z"
   },
   {
    "duration": -2504,
    "start_time": "2021-09-30T06:05:58.356Z"
   },
   {
    "duration": -2506,
    "start_time": "2021-09-30T06:05:58.360Z"
   },
   {
    "duration": -2508,
    "start_time": "2021-09-30T06:05:58.363Z"
   },
   {
    "duration": -2511,
    "start_time": "2021-09-30T06:05:58.367Z"
   },
   {
    "duration": -2513,
    "start_time": "2021-09-30T06:05:58.370Z"
   },
   {
    "duration": -2515,
    "start_time": "2021-09-30T06:05:58.374Z"
   },
   {
    "duration": -2518,
    "start_time": "2021-09-30T06:05:58.378Z"
   },
   {
    "duration": -2520,
    "start_time": "2021-09-30T06:05:58.381Z"
   },
   {
    "duration": -2521,
    "start_time": "2021-09-30T06:05:58.384Z"
   },
   {
    "duration": -2525,
    "start_time": "2021-09-30T06:05:58.389Z"
   },
   {
    "duration": -2528,
    "start_time": "2021-09-30T06:05:58.394Z"
   },
   {
    "duration": -2532,
    "start_time": "2021-09-30T06:05:58.399Z"
   },
   {
    "duration": -2532,
    "start_time": "2021-09-30T06:05:58.401Z"
   },
   {
    "duration": -2535,
    "start_time": "2021-09-30T06:05:58.405Z"
   },
   {
    "duration": -2536,
    "start_time": "2021-09-30T06:05:58.408Z"
   },
   {
    "duration": -2538,
    "start_time": "2021-09-30T06:05:58.411Z"
   },
   {
    "duration": -2539,
    "start_time": "2021-09-30T06:05:58.414Z"
   },
   {
    "duration": -2542,
    "start_time": "2021-09-30T06:05:58.418Z"
   },
   {
    "duration": -2543,
    "start_time": "2021-09-30T06:05:58.421Z"
   },
   {
    "duration": -2562,
    "start_time": "2021-09-30T06:05:58.441Z"
   },
   {
    "duration": -2565,
    "start_time": "2021-09-30T06:05:58.445Z"
   },
   {
    "duration": -2566,
    "start_time": "2021-09-30T06:05:58.448Z"
   },
   {
    "duration": -2569,
    "start_time": "2021-09-30T06:05:58.452Z"
   },
   {
    "duration": -2578,
    "start_time": "2021-09-30T06:05:58.463Z"
   },
   {
    "duration": -2582,
    "start_time": "2021-09-30T06:05:58.468Z"
   },
   {
    "duration": -2585,
    "start_time": "2021-09-30T06:05:58.472Z"
   },
   {
    "duration": -2586,
    "start_time": "2021-09-30T06:05:58.475Z"
   },
   {
    "duration": -2588,
    "start_time": "2021-09-30T06:05:58.478Z"
   },
   {
    "duration": -2593,
    "start_time": "2021-09-30T06:05:58.485Z"
   },
   {
    "duration": -2596,
    "start_time": "2021-09-30T06:05:58.490Z"
   },
   {
    "duration": -2599,
    "start_time": "2021-09-30T06:05:58.494Z"
   },
   {
    "duration": -2604,
    "start_time": "2021-09-30T06:05:58.501Z"
   },
   {
    "duration": -2606,
    "start_time": "2021-09-30T06:05:58.504Z"
   },
   {
    "duration": -2611,
    "start_time": "2021-09-30T06:05:58.510Z"
   },
   {
    "duration": -2613,
    "start_time": "2021-09-30T06:05:58.514Z"
   },
   {
    "duration": 3524,
    "start_time": "2021-09-30T06:06:14.739Z"
   },
   {
    "duration": 8,
    "start_time": "2021-09-30T06:06:18.267Z"
   },
   {
    "duration": 914,
    "start_time": "2021-09-30T06:06:18.279Z"
   },
   {
    "duration": 27,
    "start_time": "2021-09-30T06:06:19.196Z"
   },
   {
    "duration": 67,
    "start_time": "2021-09-30T06:06:19.226Z"
   },
   {
    "duration": 27,
    "start_time": "2021-09-30T06:06:19.295Z"
   },
   {
    "duration": 37,
    "start_time": "2021-09-30T06:06:19.325Z"
   },
   {
    "duration": 16,
    "start_time": "2021-09-30T06:06:19.364Z"
   },
   {
    "duration": 27,
    "start_time": "2021-09-30T06:06:19.384Z"
   },
   {
    "duration": 3,
    "start_time": "2021-09-30T06:06:19.414Z"
   },
   {
    "duration": 16,
    "start_time": "2021-09-30T06:06:19.419Z"
   },
   {
    "duration": 12,
    "start_time": "2021-09-30T06:06:19.462Z"
   },
   {
    "duration": 31,
    "start_time": "2021-09-30T06:06:19.476Z"
   },
   {
    "duration": 15,
    "start_time": "2021-09-30T06:06:19.510Z"
   },
   {
    "duration": 52,
    "start_time": "2021-09-30T06:06:19.527Z"
   },
   {
    "duration": 7,
    "start_time": "2021-09-30T06:06:19.581Z"
   },
   {
    "duration": 14,
    "start_time": "2021-09-30T06:06:19.591Z"
   },
   {
    "duration": 7,
    "start_time": "2021-09-30T06:06:19.608Z"
   },
   {
    "duration": 47,
    "start_time": "2021-09-30T06:06:19.617Z"
   },
   {
    "duration": 696,
    "start_time": "2021-09-30T06:06:19.666Z"
   },
   {
    "duration": 25,
    "start_time": "2021-09-30T06:06:20.365Z"
   },
   {
    "duration": 22,
    "start_time": "2021-09-30T06:06:20.393Z"
   },
   {
    "duration": 444,
    "start_time": "2021-09-30T06:06:20.418Z"
   },
   {
    "duration": 19,
    "start_time": "2021-09-30T06:06:20.866Z"
   },
   {
    "duration": 14,
    "start_time": "2021-09-30T06:06:20.888Z"
   },
   {
    "duration": 12,
    "start_time": "2021-09-30T06:06:20.904Z"
   },
   {
    "duration": 320,
    "start_time": "2021-09-30T06:06:20.970Z"
   },
   {
    "duration": -2500,
    "start_time": "2021-09-30T06:06:23.793Z"
   },
   {
    "duration": -2502,
    "start_time": "2021-09-30T06:06:23.796Z"
   },
   {
    "duration": -2504,
    "start_time": "2021-09-30T06:06:23.799Z"
   },
   {
    "duration": -2505,
    "start_time": "2021-09-30T06:06:23.802Z"
   },
   {
    "duration": -2507,
    "start_time": "2021-09-30T06:06:23.805Z"
   },
   {
    "duration": -2511,
    "start_time": "2021-09-30T06:06:23.810Z"
   },
   {
    "duration": -2512,
    "start_time": "2021-09-30T06:06:23.813Z"
   },
   {
    "duration": -2514,
    "start_time": "2021-09-30T06:06:23.816Z"
   },
   {
    "duration": -2516,
    "start_time": "2021-09-30T06:06:23.819Z"
   },
   {
    "duration": -2518,
    "start_time": "2021-09-30T06:06:23.822Z"
   },
   {
    "duration": -2521,
    "start_time": "2021-09-30T06:06:23.826Z"
   },
   {
    "duration": -2524,
    "start_time": "2021-09-30T06:06:23.831Z"
   },
   {
    "duration": -2526,
    "start_time": "2021-09-30T06:06:23.834Z"
   },
   {
    "duration": -2529,
    "start_time": "2021-09-30T06:06:23.838Z"
   },
   {
    "duration": 12,
    "start_time": "2021-09-30T06:07:12.399Z"
   },
   {
    "duration": 17,
    "start_time": "2021-09-30T06:07:12.414Z"
   },
   {
    "duration": 54,
    "start_time": "2021-09-30T06:07:12.434Z"
   },
   {
    "duration": 30,
    "start_time": "2021-09-30T06:07:12.491Z"
   },
   {
    "duration": 46,
    "start_time": "2021-09-30T06:07:12.524Z"
   },
   {
    "duration": 25,
    "start_time": "2021-09-30T06:07:12.574Z"
   },
   {
    "duration": 60,
    "start_time": "2021-09-30T06:07:12.602Z"
   },
   {
    "duration": 7,
    "start_time": "2021-09-30T06:07:12.666Z"
   },
   {
    "duration": 714,
    "start_time": "2021-09-30T06:07:12.675Z"
   },
   {
    "duration": 1425,
    "start_time": "2021-09-30T06:07:13.391Z"
   },
   {
    "duration": 41963,
    "start_time": "2021-09-30T06:07:14.819Z"
   },
   {
    "duration": -2558,
    "start_time": "2021-09-30T06:07:59.343Z"
   },
   {
    "duration": -2560,
    "start_time": "2021-09-30T06:07:59.347Z"
   },
   {
    "duration": -2562,
    "start_time": "2021-09-30T06:07:59.350Z"
   },
   {
    "duration": 1643,
    "start_time": "2021-09-30T06:08:11.045Z"
   },
   {
    "duration": 1802,
    "start_time": "2021-09-30T06:09:10.523Z"
   },
   {
    "duration": 1773,
    "start_time": "2021-09-30T06:09:20.595Z"
   },
   {
    "duration": 1834,
    "start_time": "2021-09-30T06:09:28.712Z"
   },
   {
    "duration": 1736,
    "start_time": "2021-09-30T06:09:41.543Z"
   },
   {
    "duration": 1639,
    "start_time": "2021-09-30T06:09:49.579Z"
   },
   {
    "duration": 1778,
    "start_time": "2021-09-30T06:09:58.439Z"
   },
   {
    "duration": 1914,
    "start_time": "2021-09-30T06:12:08.422Z"
   },
   {
    "duration": 1933,
    "start_time": "2021-09-30T06:13:28.329Z"
   },
   {
    "duration": 3034,
    "start_time": "2021-09-30T06:15:19.730Z"
   },
   {
    "duration": 54,
    "start_time": "2021-09-30T06:15:45.975Z"
   },
   {
    "duration": 3592,
    "start_time": "2021-09-30T06:16:53.499Z"
   },
   {
    "duration": 35,
    "start_time": "2021-09-30T06:18:34.101Z"
   },
   {
    "duration": 35,
    "start_time": "2021-09-30T06:19:11.730Z"
   },
   {
    "duration": 1973,
    "start_time": "2021-09-30T06:19:53.301Z"
   },
   {
    "duration": 2244,
    "start_time": "2021-09-30T06:20:22.384Z"
   },
   {
    "duration": 3088,
    "start_time": "2021-09-30T06:20:32.178Z"
   },
   {
    "duration": 3465,
    "start_time": "2021-09-30T06:21:21.385Z"
   },
   {
    "duration": 3292,
    "start_time": "2021-09-30T06:21:33.640Z"
   },
   {
    "duration": 3481,
    "start_time": "2021-09-30T06:21:41.544Z"
   },
   {
    "duration": 3256,
    "start_time": "2021-09-30T06:21:55.483Z"
   },
   {
    "duration": 55,
    "start_time": "2021-09-30T06:22:32.910Z"
   },
   {
    "duration": 3504,
    "start_time": "2021-09-30T06:23:15.847Z"
   },
   {
    "duration": 2998,
    "start_time": "2021-09-30T06:23:49.935Z"
   },
   {
    "duration": 3190,
    "start_time": "2021-09-30T06:29:28.232Z"
   },
   {
    "duration": 55,
    "start_time": "2021-09-30T06:30:38.762Z"
   },
   {
    "duration": 2141,
    "start_time": "2021-09-30T06:30:57.241Z"
   },
   {
    "duration": 36,
    "start_time": "2021-09-30T06:31:02.957Z"
   },
   {
    "duration": 1779,
    "start_time": "2021-09-30T06:31:24.101Z"
   },
   {
    "duration": 2295,
    "start_time": "2021-09-30T06:31:37.474Z"
   },
   {
    "duration": 2085,
    "start_time": "2021-09-30T06:31:44.185Z"
   },
   {
    "duration": 36,
    "start_time": "2021-09-30T06:32:06.324Z"
   },
   {
    "duration": 2004,
    "start_time": "2021-09-30T06:32:41.130Z"
   },
   {
    "duration": 2087,
    "start_time": "2021-09-30T06:32:53.485Z"
   },
   {
    "duration": 2223,
    "start_time": "2021-09-30T06:33:02.378Z"
   },
   {
    "duration": 37,
    "start_time": "2021-09-30T06:38:12.852Z"
   },
   {
    "duration": 2084,
    "start_time": "2021-09-30T06:45:50.828Z"
   },
   {
    "duration": 2207,
    "start_time": "2021-09-30T06:46:00.208Z"
   },
   {
    "duration": 3422,
    "start_time": "2021-09-30T06:46:18.010Z"
   },
   {
    "duration": 3461,
    "start_time": "2021-09-30T06:46:25.764Z"
   },
   {
    "duration": 3482,
    "start_time": "2021-09-30T06:47:25.066Z"
   },
   {
    "duration": 4128,
    "start_time": "2021-09-30T06:47:48.476Z"
   },
   {
    "duration": 1996,
    "start_time": "2021-09-30T06:47:57.627Z"
   },
   {
    "duration": 1985,
    "start_time": "2021-09-30T06:48:16.251Z"
   },
   {
    "duration": 11,
    "start_time": "2021-09-30T06:51:33.296Z"
   },
   {
    "duration": 9,
    "start_time": "2021-09-30T06:52:19.139Z"
   },
   {
    "duration": 12,
    "start_time": "2021-09-30T06:52:29.263Z"
   },
   {
    "duration": 159,
    "start_time": "2021-09-30T06:52:54.184Z"
   },
   {
    "duration": 11,
    "start_time": "2021-09-30T06:53:02.627Z"
   },
   {
    "duration": 10,
    "start_time": "2021-09-30T06:53:18.802Z"
   },
   {
    "duration": 10,
    "start_time": "2021-09-30T06:53:26.223Z"
   },
   {
    "duration": 9,
    "start_time": "2021-09-30T07:06:35.237Z"
   },
   {
    "duration": 274,
    "start_time": "2021-09-30T07:06:49.911Z"
   },
   {
    "duration": 349,
    "start_time": "2021-09-30T07:07:03.566Z"
   },
   {
    "duration": 286,
    "start_time": "2021-09-30T07:07:07.383Z"
   },
   {
    "duration": 271,
    "start_time": "2021-09-30T07:07:09.839Z"
   },
   {
    "duration": 13,
    "start_time": "2021-09-30T07:08:19.582Z"
   },
   {
    "duration": 13,
    "start_time": "2021-09-30T07:08:33.221Z"
   },
   {
    "duration": 7,
    "start_time": "2021-09-30T07:09:10.652Z"
   },
   {
    "duration": 7794,
    "start_time": "2021-09-30T07:10:48.584Z"
   },
   {
    "duration": 294,
    "start_time": "2021-09-30T07:10:57.910Z"
   },
   {
    "duration": 14,
    "start_time": "2021-09-30T07:12:02.796Z"
   },
   {
    "duration": 102,
    "start_time": "2021-09-30T07:14:16.204Z"
   },
   {
    "duration": 95,
    "start_time": "2021-09-30T07:14:22.819Z"
   },
   {
    "duration": 97,
    "start_time": "2021-09-30T07:14:25.633Z"
   },
   {
    "duration": 97,
    "start_time": "2021-09-30T07:14:31.545Z"
   },
   {
    "duration": 6,
    "start_time": "2021-09-30T07:14:35.706Z"
   },
   {
    "duration": 9,
    "start_time": "2021-09-30T07:16:36.190Z"
   },
   {
    "duration": 24,
    "start_time": "2021-09-30T07:16:50.767Z"
   },
   {
    "duration": 28,
    "start_time": "2021-09-30T07:16:56.248Z"
   },
   {
    "duration": 303,
    "start_time": "2021-09-30T07:17:07.427Z"
   },
   {
    "duration": 282,
    "start_time": "2021-09-30T07:17:19.025Z"
   },
   {
    "duration": 299,
    "start_time": "2021-09-30T07:17:30.152Z"
   },
   {
    "duration": 107,
    "start_time": "2021-09-30T07:18:02.001Z"
   },
   {
    "duration": 267,
    "start_time": "2021-09-30T07:18:05.502Z"
   },
   {
    "duration": 264,
    "start_time": "2021-09-30T07:18:23.335Z"
   },
   {
    "duration": 278,
    "start_time": "2021-09-30T07:19:44.303Z"
   },
   {
    "duration": 307,
    "start_time": "2021-09-30T07:20:47.780Z"
   },
   {
    "duration": 306,
    "start_time": "2021-09-30T07:24:58.314Z"
   },
   {
    "duration": 22,
    "start_time": "2021-09-30T07:25:03.282Z"
   },
   {
    "duration": 115,
    "start_time": "2021-09-30T07:25:17.811Z"
   },
   {
    "duration": 22,
    "start_time": "2021-09-30T07:25:21.323Z"
   },
   {
    "duration": 11,
    "start_time": "2021-09-30T07:26:11.539Z"
   },
   {
    "duration": 23,
    "start_time": "2021-09-30T07:26:34.018Z"
   },
   {
    "duration": 23,
    "start_time": "2021-09-30T07:28:13.163Z"
   },
   {
    "duration": 366,
    "start_time": "2021-09-30T07:28:20.577Z"
   },
   {
    "duration": 79,
    "start_time": "2021-09-30T07:28:26.273Z"
   },
   {
    "duration": 23,
    "start_time": "2021-09-30T07:28:31.584Z"
   },
   {
    "duration": 29,
    "start_time": "2021-09-30T07:28:37.751Z"
   },
   {
    "duration": 22,
    "start_time": "2021-09-30T07:28:54.672Z"
   },
   {
    "duration": 731,
    "start_time": "2021-09-30T07:29:22.672Z"
   },
   {
    "duration": 84,
    "start_time": "2021-09-30T07:29:28.055Z"
   },
   {
    "duration": 86,
    "start_time": "2021-09-30T07:29:39.953Z"
   },
   {
    "duration": 91,
    "start_time": "2021-09-30T07:29:57.927Z"
   },
   {
    "duration": 734,
    "start_time": "2021-09-30T07:30:01.502Z"
   },
   {
    "duration": 38,
    "start_time": "2021-09-30T07:30:06.215Z"
   },
   {
    "duration": 13,
    "start_time": "2021-09-30T07:30:18.458Z"
   },
   {
    "duration": 29,
    "start_time": "2021-09-30T07:32:16.059Z"
   },
   {
    "duration": 29,
    "start_time": "2021-09-30T07:33:54.990Z"
   },
   {
    "duration": 33,
    "start_time": "2021-09-30T07:34:16.038Z"
   },
   {
    "duration": 29,
    "start_time": "2021-09-30T07:34:22.412Z"
   },
   {
    "duration": 33,
    "start_time": "2021-09-30T07:34:28.151Z"
   },
   {
    "duration": 28,
    "start_time": "2021-09-30T07:34:33.525Z"
   },
   {
    "duration": 4,
    "start_time": "2021-09-30T09:06:01.187Z"
   },
   {
    "duration": 102,
    "start_time": "2021-09-30T09:07:36.449Z"
   },
   {
    "duration": 7744,
    "start_time": "2021-09-30T09:07:41.893Z"
   },
   {
    "duration": 376,
    "start_time": "2021-09-30T09:08:09.204Z"
   },
   {
    "duration": 1395,
    "start_time": "2021-09-30T09:08:25.257Z"
   },
   {
    "duration": 22,
    "start_time": "2021-09-30T09:09:38.794Z"
   },
   {
    "duration": 353,
    "start_time": "2021-09-30T09:09:52.120Z"
   },
   {
    "duration": 291,
    "start_time": "2021-09-30T09:09:54.036Z"
   },
   {
    "duration": 288,
    "start_time": "2021-09-30T09:10:16.728Z"
   },
   {
    "duration": 18,
    "start_time": "2021-09-30T09:10:22.282Z"
   },
   {
    "duration": 308,
    "start_time": "2021-09-30T09:13:20.234Z"
   },
   {
    "duration": 59,
    "start_time": "2021-09-30T09:13:25.909Z"
   },
   {
    "duration": 364,
    "start_time": "2021-09-30T09:14:54.778Z"
   },
   {
    "duration": 280,
    "start_time": "2021-09-30T09:15:00.196Z"
   },
   {
    "duration": 33,
    "start_time": "2021-09-30T09:15:05.044Z"
   },
   {
    "duration": 29,
    "start_time": "2021-09-30T09:27:30.415Z"
   },
   {
    "duration": 14,
    "start_time": "2021-09-30T09:27:40.265Z"
   },
   {
    "duration": 13,
    "start_time": "2021-09-30T09:27:57.449Z"
   },
   {
    "duration": 10,
    "start_time": "2021-09-30T09:28:11.880Z"
   },
   {
    "duration": 129,
    "start_time": "2021-09-30T09:31:51.985Z"
   },
   {
    "duration": -3075,
    "start_time": "2021-09-30T09:31:55.193Z"
   },
   {
    "duration": -3078,
    "start_time": "2021-09-30T09:31:55.198Z"
   },
   {
    "duration": -3083,
    "start_time": "2021-09-30T09:31:55.204Z"
   },
   {
    "duration": -3085,
    "start_time": "2021-09-30T09:31:55.208Z"
   },
   {
    "duration": -3090,
    "start_time": "2021-09-30T09:31:55.214Z"
   },
   {
    "duration": 1874,
    "start_time": "2021-09-30T09:31:52.144Z"
   },
   {
    "duration": 48,
    "start_time": "2021-09-30T09:31:54.021Z"
   },
   {
    "duration": 1752,
    "start_time": "2021-09-30T09:31:54.072Z"
   },
   {
    "duration": 47,
    "start_time": "2021-09-30T09:31:55.828Z"
   },
   {
    "duration": 4,
    "start_time": "2021-09-30T09:31:55.878Z"
   },
   {
    "duration": 21,
    "start_time": "2021-09-30T09:31:55.885Z"
   },
   {
    "duration": 46,
    "start_time": "2021-09-30T09:31:55.909Z"
   },
   {
    "duration": 19,
    "start_time": "2021-09-30T09:31:55.958Z"
   },
   {
    "duration": 38,
    "start_time": "2021-09-30T09:31:55.979Z"
   },
   {
    "duration": 26,
    "start_time": "2021-09-30T09:31:56.019Z"
   },
   {
    "duration": 17,
    "start_time": "2021-09-30T09:32:15.089Z"
   },
   {
    "duration": 3955,
    "start_time": "2021-09-30T09:32:18.795Z"
   },
   {
    "duration": 11,
    "start_time": "2021-09-30T09:32:22.754Z"
   },
   {
    "duration": 906,
    "start_time": "2021-09-30T09:32:22.769Z"
   },
   {
    "duration": 29,
    "start_time": "2021-09-30T09:32:23.679Z"
   },
   {
    "duration": 69,
    "start_time": "2021-09-30T09:32:23.711Z"
   },
   {
    "duration": 25,
    "start_time": "2021-09-30T09:32:23.783Z"
   },
   {
    "duration": 13,
    "start_time": "2021-09-30T09:32:23.810Z"
   },
   {
    "duration": 49,
    "start_time": "2021-09-30T09:32:23.827Z"
   },
   {
    "duration": 19,
    "start_time": "2021-09-30T09:32:23.879Z"
   },
   {
    "duration": 3,
    "start_time": "2021-09-30T09:32:23.900Z"
   },
   {
    "duration": 21,
    "start_time": "2021-09-30T09:32:23.906Z"
   },
   {
    "duration": 35,
    "start_time": "2021-09-30T09:32:23.930Z"
   },
   {
    "duration": 28,
    "start_time": "2021-09-30T09:32:23.968Z"
   },
   {
    "duration": 7,
    "start_time": "2021-09-30T09:32:23.998Z"
   },
   {
    "duration": 63,
    "start_time": "2021-09-30T09:32:24.008Z"
   },
   {
    "duration": 6,
    "start_time": "2021-09-30T09:32:24.073Z"
   },
   {
    "duration": 14,
    "start_time": "2021-09-30T09:32:24.081Z"
   },
   {
    "duration": 8,
    "start_time": "2021-09-30T09:32:24.098Z"
   },
   {
    "duration": 12,
    "start_time": "2021-09-30T09:32:24.108Z"
   },
   {
    "duration": 612,
    "start_time": "2021-09-30T09:32:24.122Z"
   },
   {
    "duration": 34,
    "start_time": "2021-09-30T09:32:24.736Z"
   },
   {
    "duration": 22,
    "start_time": "2021-09-30T09:32:24.772Z"
   },
   {
    "duration": 437,
    "start_time": "2021-09-30T09:32:24.799Z"
   },
   {
    "duration": 27,
    "start_time": "2021-09-30T09:32:25.239Z"
   },
   {
    "duration": 30,
    "start_time": "2021-09-30T09:32:25.268Z"
   },
   {
    "duration": 15,
    "start_time": "2021-09-30T09:32:25.301Z"
   },
   {
    "duration": 45,
    "start_time": "2021-09-30T09:32:25.318Z"
   },
   {
    "duration": 10,
    "start_time": "2021-09-30T09:32:25.365Z"
   },
   {
    "duration": 89,
    "start_time": "2021-09-30T09:32:25.378Z"
   },
   {
    "duration": -2758,
    "start_time": "2021-09-30T09:32:28.227Z"
   },
   {
    "duration": -2761,
    "start_time": "2021-09-30T09:32:28.232Z"
   },
   {
    "duration": -2765,
    "start_time": "2021-09-30T09:32:28.237Z"
   },
   {
    "duration": -2768,
    "start_time": "2021-09-30T09:32:28.241Z"
   },
   {
    "duration": -2770,
    "start_time": "2021-09-30T09:32:28.245Z"
   },
   {
    "duration": -2778,
    "start_time": "2021-09-30T09:32:28.254Z"
   },
   {
    "duration": -2784,
    "start_time": "2021-09-30T09:32:28.261Z"
   },
   {
    "duration": -2787,
    "start_time": "2021-09-30T09:32:28.265Z"
   },
   {
    "duration": -2790,
    "start_time": "2021-09-30T09:32:28.270Z"
   },
   {
    "duration": -2792,
    "start_time": "2021-09-30T09:32:28.273Z"
   },
   {
    "duration": -2794,
    "start_time": "2021-09-30T09:32:28.276Z"
   },
   {
    "duration": -2796,
    "start_time": "2021-09-30T09:32:28.279Z"
   },
   {
    "duration": -2800,
    "start_time": "2021-09-30T09:32:28.284Z"
   },
   {
    "duration": -2802,
    "start_time": "2021-09-30T09:32:28.288Z"
   },
   {
    "duration": -2807,
    "start_time": "2021-09-30T09:32:28.294Z"
   },
   {
    "duration": 10,
    "start_time": "2021-09-30T09:32:58.158Z"
   },
   {
    "duration": 11,
    "start_time": "2021-09-30T09:32:58.294Z"
   },
   {
    "duration": 2087,
    "start_time": "2021-09-30T09:32:58.307Z"
   },
   {
    "duration": 36,
    "start_time": "2021-09-30T09:33:00.397Z"
   },
   {
    "duration": 2233,
    "start_time": "2021-09-30T09:33:00.436Z"
   },
   {
    "duration": 37,
    "start_time": "2021-09-30T09:33:02.672Z"
   },
   {
    "duration": 2392,
    "start_time": "2021-09-30T09:33:02.712Z"
   },
   {
    "duration": 58,
    "start_time": "2021-09-30T09:33:05.107Z"
   },
   {
    "duration": 1743,
    "start_time": "2021-09-30T09:33:05.170Z"
   },
   {
    "duration": 46,
    "start_time": "2021-09-30T09:33:06.916Z"
   },
   {
    "duration": 3,
    "start_time": "2021-09-30T09:33:06.964Z"
   },
   {
    "duration": 8,
    "start_time": "2021-09-30T09:33:06.970Z"
   },
   {
    "duration": 28,
    "start_time": "2021-09-30T09:33:06.981Z"
   },
   {
    "duration": 10,
    "start_time": "2021-09-30T09:33:07.012Z"
   },
   {
    "duration": 50,
    "start_time": "2021-09-30T09:33:07.025Z"
   },
   {
    "duration": 4,
    "start_time": "2021-09-30T09:33:07.077Z"
   },
   {
    "duration": 16,
    "start_time": "2021-09-30T09:33:18.849Z"
   },
   {
    "duration": 17,
    "start_time": "2021-09-30T09:33:29.976Z"
   },
   {
    "duration": 13,
    "start_time": "2021-09-30T09:33:49.100Z"
   },
   {
    "duration": 15,
    "start_time": "2021-09-30T09:35:52.372Z"
   },
   {
    "duration": 13,
    "start_time": "2021-09-30T09:36:06.885Z"
   },
   {
    "duration": 18,
    "start_time": "2021-09-30T09:36:19.279Z"
   },
   {
    "duration": 10,
    "start_time": "2021-09-30T09:37:01.396Z"
   },
   {
    "duration": 14,
    "start_time": "2021-09-30T09:37:05.411Z"
   },
   {
    "duration": 13,
    "start_time": "2021-09-30T09:37:12.963Z"
   },
   {
    "duration": 14,
    "start_time": "2021-09-30T09:39:54.504Z"
   },
   {
    "duration": 13,
    "start_time": "2021-09-30T09:40:05.285Z"
   },
   {
    "duration": 15,
    "start_time": "2021-09-30T09:40:29.848Z"
   },
   {
    "duration": 16,
    "start_time": "2021-09-30T09:40:33.652Z"
   },
   {
    "duration": 3444,
    "start_time": "2021-09-30T09:40:46.074Z"
   },
   {
    "duration": 1601,
    "start_time": "2021-09-30T09:40:49.522Z"
   },
   {
    "duration": 970,
    "start_time": "2021-09-30T09:40:51.126Z"
   },
   {
    "duration": 27,
    "start_time": "2021-09-30T09:40:52.099Z"
   },
   {
    "duration": 61,
    "start_time": "2021-09-30T09:40:52.129Z"
   },
   {
    "duration": 24,
    "start_time": "2021-09-30T09:40:52.192Z"
   },
   {
    "duration": 14,
    "start_time": "2021-09-30T09:40:52.219Z"
   },
   {
    "duration": 41,
    "start_time": "2021-09-30T09:40:52.236Z"
   },
   {
    "duration": 12,
    "start_time": "2021-09-30T09:40:52.280Z"
   },
   {
    "duration": 3,
    "start_time": "2021-09-30T09:40:52.294Z"
   },
   {
    "duration": 11,
    "start_time": "2021-09-30T09:40:52.300Z"
   },
   {
    "duration": 50,
    "start_time": "2021-09-30T09:40:52.314Z"
   },
   {
    "duration": 32,
    "start_time": "2021-09-30T09:40:52.367Z"
   },
   {
    "duration": 13,
    "start_time": "2021-09-30T09:40:52.401Z"
   },
   {
    "duration": 57,
    "start_time": "2021-09-30T09:40:52.416Z"
   },
   {
    "duration": 5,
    "start_time": "2021-09-30T09:40:52.475Z"
   },
   {
    "duration": 9,
    "start_time": "2021-09-30T09:40:52.483Z"
   },
   {
    "duration": 4,
    "start_time": "2021-09-30T09:40:52.495Z"
   },
   {
    "duration": 10,
    "start_time": "2021-09-30T09:40:52.501Z"
   },
   {
    "duration": 776,
    "start_time": "2021-09-30T09:40:52.514Z"
   },
   {
    "duration": 29,
    "start_time": "2021-09-30T09:40:53.293Z"
   },
   {
    "duration": 46,
    "start_time": "2021-09-30T09:40:53.324Z"
   },
   {
    "duration": 485,
    "start_time": "2021-09-30T09:40:53.376Z"
   },
   {
    "duration": 16,
    "start_time": "2021-09-30T09:40:53.863Z"
   },
   {
    "duration": 26,
    "start_time": "2021-09-30T09:40:53.881Z"
   },
   {
    "duration": 15,
    "start_time": "2021-09-30T09:40:53.910Z"
   },
   {
    "duration": 41,
    "start_time": "2021-09-30T09:40:53.927Z"
   },
   {
    "duration": 9,
    "start_time": "2021-09-30T09:40:53.971Z"
   },
   {
    "duration": 22,
    "start_time": "2021-09-30T09:40:53.982Z"
   },
   {
    "duration": 1708,
    "start_time": "2021-09-30T09:40:54.007Z"
   },
   {
    "duration": 51,
    "start_time": "2021-09-30T09:40:55.718Z"
   },
   {
    "duration": 1657,
    "start_time": "2021-09-30T09:40:55.772Z"
   },
   {
    "duration": 47,
    "start_time": "2021-09-30T09:40:57.431Z"
   },
   {
    "duration": 1660,
    "start_time": "2021-09-30T09:40:57.480Z"
   },
   {
    "duration": 39,
    "start_time": "2021-09-30T09:40:59.142Z"
   },
   {
    "duration": 1774,
    "start_time": "2021-09-30T09:40:59.183Z"
   },
   {
    "duration": 30,
    "start_time": "2021-09-30T09:41:00.963Z"
   },
   {
    "duration": 60,
    "start_time": "2021-09-30T09:41:00.995Z"
   },
   {
    "duration": 56,
    "start_time": "2021-09-30T09:41:01.058Z"
   },
   {
    "duration": 73,
    "start_time": "2021-09-30T09:41:01.116Z"
   },
   {
    "duration": 21,
    "start_time": "2021-09-30T09:41:01.192Z"
   },
   {
    "duration": 31,
    "start_time": "2021-09-30T09:41:01.216Z"
   },
   {
    "duration": 440,
    "start_time": "2021-09-30T09:41:01.250Z"
   },
   {
    "duration": -2760,
    "start_time": "2021-09-30T09:41:04.452Z"
   },
   {
    "duration": -2764,
    "start_time": "2021-09-30T09:41:04.458Z"
   },
   {
    "duration": 233,
    "start_time": "2021-09-30T09:41:17.947Z"
   },
   {
    "duration": 19,
    "start_time": "2021-09-30T09:41:28.639Z"
   },
   {
    "duration": 16075,
    "start_time": "2021-09-30T09:41:52.591Z"
   },
   {
    "duration": 6,
    "start_time": "2021-09-30T09:42:26.926Z"
   },
   {
    "duration": 8,
    "start_time": "2021-09-30T09:42:36.566Z"
   },
   {
    "duration": 271,
    "start_time": "2021-09-30T09:42:49.990Z"
   },
   {
    "duration": 9,
    "start_time": "2021-09-30T09:43:11.862Z"
   },
   {
    "duration": 352,
    "start_time": "2021-09-30T09:46:03.908Z"
   },
   {
    "duration": 17,
    "start_time": "2021-09-30T09:46:11.236Z"
   },
   {
    "duration": 534,
    "start_time": "2021-09-30T09:47:29.555Z"
   },
   {
    "duration": 30,
    "start_time": "2021-09-30T09:47:54.700Z"
   },
   {
    "duration": 33,
    "start_time": "2021-09-30T09:47:57.802Z"
   },
   {
    "duration": 36,
    "start_time": "2021-09-30T09:48:01.739Z"
   },
   {
    "duration": 40,
    "start_time": "2021-09-30T09:48:07.166Z"
   },
   {
    "duration": 29461,
    "start_time": "2021-09-30T09:55:13.862Z"
   },
   {
    "duration": 33517,
    "start_time": "2021-09-30T09:58:10.181Z"
   },
   {
    "duration": 34664,
    "start_time": "2021-09-30T09:59:06.706Z"
   },
   {
    "duration": 7,
    "start_time": "2021-09-30T10:46:11.274Z"
   },
   {
    "duration": 21,
    "start_time": "2021-09-30T10:49:38.731Z"
   },
   {
    "duration": 289,
    "start_time": "2021-09-30T10:49:44.707Z"
   },
   {
    "duration": 263,
    "start_time": "2021-09-30T10:49:52.296Z"
   },
   {
    "duration": 90,
    "start_time": "2021-09-30T10:50:22.754Z"
   },
   {
    "duration": 9,
    "start_time": "2021-09-30T10:50:32.129Z"
   },
   {
    "duration": 11,
    "start_time": "2021-09-30T10:52:48.065Z"
   },
   {
    "duration": 15,
    "start_time": "2021-09-30T10:54:55.421Z"
   },
   {
    "duration": 47,
    "start_time": "2021-09-30T10:55:26.565Z"
   },
   {
    "duration": 1632,
    "start_time": "2021-09-30T10:56:55.864Z"
   },
   {
    "duration": 1769,
    "start_time": "2021-09-30T10:57:53.739Z"
   },
   {
    "duration": 1770,
    "start_time": "2021-09-30T10:59:30.719Z"
   },
   {
    "duration": 1641,
    "start_time": "2021-09-30T10:59:38.135Z"
   },
   {
    "duration": 2921,
    "start_time": "2021-09-30T11:00:01.466Z"
   },
   {
    "duration": 14,
    "start_time": "2021-09-30T12:10:31.753Z"
   },
   {
    "duration": 1079,
    "start_time": "2021-09-30T12:11:23.408Z"
   },
   {
    "duration": 1797,
    "start_time": "2021-09-30T12:11:32.540Z"
   },
   {
    "duration": 1731,
    "start_time": "2021-09-30T12:12:23.574Z"
   },
   {
    "duration": 1968,
    "start_time": "2021-09-30T12:12:38.472Z"
   },
   {
    "duration": 1848,
    "start_time": "2021-09-30T12:12:44.835Z"
   },
   {
    "duration": 1692,
    "start_time": "2021-09-30T12:12:51.599Z"
   },
   {
    "duration": 2058,
    "start_time": "2021-09-30T12:13:18.255Z"
   },
   {
    "duration": 12,
    "start_time": "2021-09-30T12:14:05.824Z"
   },
   {
    "duration": 1947,
    "start_time": "2021-09-30T12:14:09.301Z"
   },
   {
    "duration": 39,
    "start_time": "2021-09-30T12:14:16.243Z"
   },
   {
    "duration": 13,
    "start_time": "2021-09-30T12:14:59.173Z"
   },
   {
    "duration": 1855,
    "start_time": "2021-09-30T12:15:01.154Z"
   },
   {
    "duration": 1694,
    "start_time": "2021-09-30T12:15:06.506Z"
   },
   {
    "duration": 33135,
    "start_time": "2021-09-30T12:18:03.731Z"
   },
   {
    "duration": 636,
    "start_time": "2021-09-30T12:19:58.525Z"
   },
   {
    "duration": 9,
    "start_time": "2021-09-30T12:20:30.580Z"
   },
   {
    "duration": 275,
    "start_time": "2021-09-30T12:20:35.984Z"
   },
   {
    "duration": 649,
    "start_time": "2021-09-30T12:21:25.701Z"
   },
   {
    "duration": 15411,
    "start_time": "2021-09-30T12:21:52.767Z"
   },
   {
    "duration": 3,
    "start_time": "2021-09-30T12:23:35.715Z"
   },
   {
    "duration": 84,
    "start_time": "2021-09-30T12:27:34.768Z"
   },
   {
    "duration": 259,
    "start_time": "2021-09-30T12:27:52.744Z"
   },
   {
    "duration": 13,
    "start_time": "2021-09-30T12:28:18.025Z"
   },
   {
    "duration": 9,
    "start_time": "2021-09-30T12:28:24.082Z"
   },
   {
    "duration": 249180,
    "start_time": "2021-09-30T12:28:29.318Z"
   },
   {
    "duration": 4930,
    "start_time": "2021-09-30T12:32:50.153Z"
   },
   {
    "duration": 5570,
    "start_time": "2021-09-30T12:33:42.777Z"
   },
   {
    "duration": 6174,
    "start_time": "2021-09-30T12:35:24.602Z"
   },
   {
    "duration": 406644,
    "start_time": "2021-09-30T12:35:49.782Z"
   },
   {
    "duration": 3,
    "start_time": "2021-09-30T12:42:36.429Z"
   },
   {
    "duration": 4163,
    "start_time": "2021-09-30T12:43:26.551Z"
   },
   {
    "duration": 336,
    "start_time": "2021-09-30T12:46:56.550Z"
   },
   {
    "duration": 32510,
    "start_time": "2021-09-30T12:48:17.452Z"
   },
   {
    "duration": 6,
    "start_time": "2021-09-30T12:48:52.823Z"
   },
   {
    "duration": 941705,
    "start_time": "2021-09-30T12:50:11.777Z"
   },
   {
    "duration": 44183,
    "start_time": "2021-09-30T13:07:51.949Z"
   },
   {
    "duration": 296,
    "start_time": "2021-09-30T13:09:29.703Z"
   },
   {
    "duration": 10,
    "start_time": "2021-09-30T13:09:37.370Z"
   },
   {
    "duration": 61982,
    "start_time": "2021-09-30T13:09:45.781Z"
   },
   {
    "duration": 231454,
    "start_time": "2021-09-30T13:10:52.989Z"
   },
   {
    "duration": 62836,
    "start_time": "2021-09-30T13:21:05.474Z"
   },
   {
    "duration": 63133,
    "start_time": "2021-09-30T13:22:37.974Z"
   },
   {
    "duration": 6,
    "start_time": "2021-09-30T13:24:54.448Z"
   },
   {
    "duration": 6,
    "start_time": "2021-09-30T13:25:35.435Z"
   },
   {
    "duration": 4031,
    "start_time": "2021-09-30T13:30:57.318Z"
   },
   {
    "duration": 1714,
    "start_time": "2021-09-30T13:31:01.354Z"
   },
   {
    "duration": 999,
    "start_time": "2021-09-30T13:31:03.072Z"
   },
   {
    "duration": 28,
    "start_time": "2021-09-30T13:31:04.073Z"
   },
   {
    "duration": 67,
    "start_time": "2021-09-30T13:31:04.104Z"
   },
   {
    "duration": 24,
    "start_time": "2021-09-30T13:31:04.175Z"
   },
   {
    "duration": 14,
    "start_time": "2021-09-30T13:31:04.201Z"
   },
   {
    "duration": 70,
    "start_time": "2021-09-30T13:31:04.221Z"
   },
   {
    "duration": 11,
    "start_time": "2021-09-30T13:31:04.294Z"
   },
   {
    "duration": 6,
    "start_time": "2021-09-30T13:31:04.309Z"
   },
   {
    "duration": 17,
    "start_time": "2021-09-30T13:31:04.317Z"
   },
   {
    "duration": 30,
    "start_time": "2021-09-30T13:31:04.337Z"
   },
   {
    "duration": 32,
    "start_time": "2021-09-30T13:31:04.369Z"
   },
   {
    "duration": 13,
    "start_time": "2021-09-30T13:31:04.404Z"
   },
   {
    "duration": 46,
    "start_time": "2021-09-30T13:31:04.420Z"
   },
   {
    "duration": 8,
    "start_time": "2021-09-30T13:31:04.469Z"
   },
   {
    "duration": 16,
    "start_time": "2021-09-30T13:31:04.480Z"
   },
   {
    "duration": 8,
    "start_time": "2021-09-30T13:31:04.500Z"
   },
   {
    "duration": 12,
    "start_time": "2021-09-30T13:31:04.511Z"
   },
   {
    "duration": 674,
    "start_time": "2021-09-30T13:31:04.563Z"
   },
   {
    "duration": 42,
    "start_time": "2021-09-30T13:31:05.239Z"
   },
   {
    "duration": 23,
    "start_time": "2021-09-30T13:31:05.284Z"
   },
   {
    "duration": 469,
    "start_time": "2021-09-30T13:31:05.312Z"
   },
   {
    "duration": 20,
    "start_time": "2021-09-30T13:31:05.786Z"
   },
   {
    "duration": 56,
    "start_time": "2021-09-30T13:31:05.809Z"
   },
   {
    "duration": 17,
    "start_time": "2021-09-30T13:31:05.869Z"
   },
   {
    "duration": 14,
    "start_time": "2021-09-30T13:31:05.889Z"
   },
   {
    "duration": 13,
    "start_time": "2021-09-30T13:31:05.905Z"
   },
   {
    "duration": 49,
    "start_time": "2021-09-30T13:31:05.921Z"
   },
   {
    "duration": 2041,
    "start_time": "2021-09-30T13:31:05.973Z"
   },
   {
    "duration": 64,
    "start_time": "2021-09-30T13:31:08.017Z"
   },
   {
    "duration": 1841,
    "start_time": "2021-09-30T13:31:08.085Z"
   },
   {
    "duration": 56,
    "start_time": "2021-09-30T13:31:09.928Z"
   },
   {
    "duration": 1939,
    "start_time": "2021-09-30T13:31:09.986Z"
   },
   {
    "duration": 62,
    "start_time": "2021-09-30T13:31:11.928Z"
   },
   {
    "duration": 1801,
    "start_time": "2021-09-30T13:31:11.993Z"
   },
   {
    "duration": 41,
    "start_time": "2021-09-30T13:31:13.798Z"
   },
   {
    "duration": 24,
    "start_time": "2021-09-30T13:31:13.842Z"
   },
   {
    "duration": 18,
    "start_time": "2021-09-30T13:31:13.870Z"
   },
   {
    "duration": 1954,
    "start_time": "2021-09-30T13:31:13.890Z"
   },
   {
    "duration": 59,
    "start_time": "2021-09-30T13:31:15.847Z"
   },
   {
    "duration": 11,
    "start_time": "2021-09-30T13:31:15.908Z"
   },
   {
    "duration": 30065,
    "start_time": "2021-09-30T13:31:15.922Z"
   },
   {
    "duration": 31792,
    "start_time": "2021-09-30T13:31:45.991Z"
   },
   {
    "duration": 11487,
    "start_time": "2021-09-30T13:32:17.786Z"
   },
   {
    "duration": 25962,
    "start_time": "2021-09-30T13:37:48.124Z"
   },
   {
    "duration": 897124,
    "start_time": "2021-09-30T13:38:14.090Z"
   },
   {
    "duration": 40928,
    "start_time": "2021-09-30T13:53:11.217Z"
   },
   {
    "duration": 208474,
    "start_time": "2021-09-30T13:53:52.148Z"
   },
   {
    "duration": 56238,
    "start_time": "2021-09-30T13:57:20.626Z"
   },
   {
    "duration": 21,
    "start_time": "2021-09-30T13:58:16.866Z"
   },
   {
    "duration": 55215,
    "start_time": "2021-09-30T14:02:08.761Z"
   },
   {
    "duration": 9,
    "start_time": "2021-09-30T14:05:10.994Z"
   },
   {
    "duration": 66854,
    "start_time": "2021-09-30T14:05:22.458Z"
   },
   {
    "duration": 46941,
    "start_time": "2021-09-30T14:08:01.956Z"
   },
   {
    "duration": 251770,
    "start_time": "2021-09-30T14:08:48.900Z"
   },
   {
    "duration": 7248,
    "start_time": "2021-09-30T15:37:46.901Z"
   },
   {
    "duration": 43,
    "start_time": "2021-09-30T15:38:02.926Z"
   },
   {
    "duration": 13623,
    "start_time": "2021-09-30T15:39:55.714Z"
   },
   {
    "duration": 1869,
    "start_time": "2021-09-30T15:40:09.340Z"
   },
   {
    "duration": 8,
    "start_time": "2021-09-30T15:41:55.443Z"
   },
   {
    "duration": -2628,
    "start_time": "2021-09-30T15:42:14.050Z"
   },
   {
    "duration": 16,
    "start_time": "2021-09-30T15:42:22.039Z"
   },
   {
    "duration": 28,
    "start_time": "2021-09-30T15:44:46.753Z"
   },
   {
    "duration": 69,
    "start_time": "2021-09-30T15:44:50.759Z"
   },
   {
    "duration": 295,
    "start_time": "2021-09-30T15:45:16.658Z"
   },
   {
    "duration": 6471,
    "start_time": "2021-09-30T15:45:46.199Z"
   },
   {
    "duration": 6784,
    "start_time": "2021-09-30T15:47:03.915Z"
   },
   {
    "duration": 7,
    "start_time": "2021-09-30T15:47:31.110Z"
   },
   {
    "duration": 90,
    "start_time": "2021-09-30T15:48:21.149Z"
   },
   {
    "duration": 284,
    "start_time": "2021-09-30T15:48:27.468Z"
   },
   {
    "duration": 10,
    "start_time": "2021-09-30T15:49:26.135Z"
   },
   {
    "duration": 21,
    "start_time": "2021-09-30T15:49:28.410Z"
   },
   {
    "duration": 37,
    "start_time": "2021-09-30T15:49:34.811Z"
   },
   {
    "duration": 10,
    "start_time": "2021-09-30T15:50:24.107Z"
   },
   {
    "duration": 34,
    "start_time": "2021-09-30T15:50:27.032Z"
   },
   {
    "duration": 25607,
    "start_time": "2021-09-30T16:03:47.161Z"
   },
   {
    "duration": 4289,
    "start_time": "2021-09-30T17:38:35.166Z"
   },
   {
    "duration": 1671,
    "start_time": "2021-09-30T17:38:39.458Z"
   },
   {
    "duration": 971,
    "start_time": "2021-09-30T17:38:41.133Z"
   },
   {
    "duration": 30,
    "start_time": "2021-09-30T17:38:42.107Z"
   },
   {
    "duration": 71,
    "start_time": "2021-09-30T17:38:42.140Z"
   },
   {
    "duration": 53,
    "start_time": "2021-09-30T17:38:42.214Z"
   },
   {
    "duration": 18,
    "start_time": "2021-09-30T17:38:42.273Z"
   },
   {
    "duration": 19,
    "start_time": "2021-09-30T17:38:42.293Z"
   },
   {
    "duration": 20,
    "start_time": "2021-09-30T17:38:42.316Z"
   },
   {
    "duration": 26,
    "start_time": "2021-09-30T17:38:42.340Z"
   },
   {
    "duration": 15,
    "start_time": "2021-09-30T17:38:42.370Z"
   },
   {
    "duration": 17,
    "start_time": "2021-09-30T17:38:42.388Z"
   },
   {
    "duration": 75,
    "start_time": "2021-09-30T17:38:42.408Z"
   },
   {
    "duration": 12,
    "start_time": "2021-09-30T17:38:42.486Z"
   },
   {
    "duration": 25,
    "start_time": "2021-09-30T17:38:42.500Z"
   },
   {
    "duration": 6,
    "start_time": "2021-09-30T17:38:42.528Z"
   },
   {
    "duration": 44,
    "start_time": "2021-09-30T17:38:42.536Z"
   },
   {
    "duration": 9,
    "start_time": "2021-09-30T17:38:42.583Z"
   },
   {
    "duration": 8,
    "start_time": "2021-09-30T17:38:42.594Z"
   },
   {
    "duration": 804,
    "start_time": "2021-09-30T17:38:42.604Z"
   },
   {
    "duration": 25,
    "start_time": "2021-09-30T17:38:43.411Z"
   },
   {
    "duration": 39,
    "start_time": "2021-09-30T17:38:43.439Z"
   },
   {
    "duration": 482,
    "start_time": "2021-09-30T17:38:43.483Z"
   },
   {
    "duration": 19,
    "start_time": "2021-09-30T17:38:43.969Z"
   },
   {
    "duration": 35,
    "start_time": "2021-09-30T17:38:43.991Z"
   },
   {
    "duration": 48,
    "start_time": "2021-09-30T17:38:44.029Z"
   },
   {
    "duration": 18,
    "start_time": "2021-09-30T17:38:44.087Z"
   },
   {
    "duration": 24,
    "start_time": "2021-09-30T17:38:44.110Z"
   },
   {
    "duration": 12,
    "start_time": "2021-09-30T17:38:44.163Z"
   },
   {
    "duration": 1893,
    "start_time": "2021-09-30T17:38:44.177Z"
   },
   {
    "duration": 40,
    "start_time": "2021-09-30T17:38:46.074Z"
   },
   {
    "duration": 1868,
    "start_time": "2021-09-30T17:38:46.117Z"
   },
   {
    "duration": 39,
    "start_time": "2021-09-30T17:38:47.988Z"
   },
   {
    "duration": 1756,
    "start_time": "2021-09-30T17:38:48.029Z"
   },
   {
    "duration": 34,
    "start_time": "2021-09-30T17:38:49.787Z"
   },
   {
    "duration": 2139,
    "start_time": "2021-09-30T17:38:49.823Z"
   },
   {
    "duration": 29,
    "start_time": "2021-09-30T17:38:51.967Z"
   },
   {
    "duration": 3,
    "start_time": "2021-09-30T17:38:52.000Z"
   },
   {
    "duration": 22,
    "start_time": "2021-09-30T17:38:52.007Z"
   },
   {
    "duration": 1734,
    "start_time": "2021-09-30T17:38:52.031Z"
   },
   {
    "duration": 53,
    "start_time": "2021-09-30T17:38:53.769Z"
   },
   {
    "duration": 38,
    "start_time": "2021-09-30T17:38:53.825Z"
   },
   {
    "duration": 29933,
    "start_time": "2021-09-30T17:38:53.867Z"
   },
   {
    "duration": 31631,
    "start_time": "2021-09-30T17:39:23.803Z"
   },
   {
    "duration": 840500,
    "start_time": "2021-09-30T17:39:55.438Z"
   },
   {
    "duration": 50247,
    "start_time": "2021-09-30T17:53:55.941Z"
   },
   {
    "duration": 256095,
    "start_time": "2021-09-30T17:54:46.191Z"
   },
   {
    "duration": 67577,
    "start_time": "2021-09-30T17:59:02.289Z"
   },
   {
    "duration": 67798,
    "start_time": "2021-09-30T18:00:09.869Z"
   },
   {
    "duration": 13596,
    "start_time": "2021-09-30T18:01:17.670Z"
   },
   {
    "duration": 637,
    "start_time": "2021-09-30T18:07:07.136Z"
   },
   {
    "duration": 537,
    "start_time": "2021-09-30T18:08:18.726Z"
   },
   {
    "duration": 313,
    "start_time": "2021-09-30T18:31:15.964Z"
   },
   {
    "duration": 403,
    "start_time": "2021-09-30T18:32:16.215Z"
   },
   {
    "duration": 10,
    "start_time": "2021-09-30T18:32:20.846Z"
   },
   {
    "duration": 11,
    "start_time": "2021-09-30T18:32:30.775Z"
   },
   {
    "duration": 17,
    "start_time": "2021-09-30T18:35:29.701Z"
   },
   {
    "duration": 28,
    "start_time": "2021-09-30T18:35:33.161Z"
   },
   {
    "duration": 83,
    "start_time": "2021-09-30T18:35:53.621Z"
   },
   {
    "duration": 40,
    "start_time": "2021-09-30T18:36:09.829Z"
   },
   {
    "duration": 42,
    "start_time": "2021-09-30T18:36:16.629Z"
   },
   {
    "duration": 278,
    "start_time": "2021-09-30T18:37:10.462Z"
   },
   {
    "duration": 7,
    "start_time": "2021-09-30T18:37:13.144Z"
   },
   {
    "duration": 7,
    "start_time": "2021-09-30T18:37:30.779Z"
   },
   {
    "duration": 158,
    "start_time": "2021-09-30T18:39:11.587Z"
   },
   {
    "duration": 304,
    "start_time": "2021-09-30T18:39:25.063Z"
   },
   {
    "duration": 8,
    "start_time": "2021-09-30T18:39:35.089Z"
   },
   {
    "duration": 9,
    "start_time": "2021-09-30T18:39:54.163Z"
   },
   {
    "duration": 44,
    "start_time": "2021-09-30T18:40:03.202Z"
   },
   {
    "duration": 7,
    "start_time": "2021-09-30T18:40:03.482Z"
   },
   {
    "duration": 6,
    "start_time": "2021-09-30T18:40:35.597Z"
   },
   {
    "duration": 6,
    "start_time": "2021-09-30T18:40:43.537Z"
   },
   {
    "duration": 359,
    "start_time": "2021-09-30T18:40:49.121Z"
   },
   {
    "duration": 13009,
    "start_time": "2021-09-30T18:40:58.972Z"
   },
   {
    "duration": 67161,
    "start_time": "2021-09-30T18:41:22.804Z"
   },
   {
    "duration": 4,
    "start_time": "2021-09-30T18:43:13.351Z"
   },
   {
    "duration": 6,
    "start_time": "2021-09-30T18:43:25.991Z"
   },
   {
    "duration": 309,
    "start_time": "2021-09-30T18:43:34.656Z"
   },
   {
    "duration": 8,
    "start_time": "2021-09-30T18:43:39.264Z"
   },
   {
    "duration": 282,
    "start_time": "2021-09-30T18:43:51.024Z"
   },
   {
    "duration": 7,
    "start_time": "2021-09-30T18:43:56.576Z"
   },
   {
    "duration": 66941,
    "start_time": "2021-09-30T18:44:48.761Z"
   },
   {
    "duration": 558,
    "start_time": "2021-09-30T18:47:31.431Z"
   },
   {
    "duration": 36,
    "start_time": "2021-09-30T18:48:53.499Z"
   },
   {
    "duration": 43,
    "start_time": "2021-09-30T18:48:56.647Z"
   },
   {
    "duration": 43,
    "start_time": "2021-09-30T18:49:34.675Z"
   },
   {
    "duration": 3880,
    "start_time": "2021-09-30T18:50:14.483Z"
   },
   {
    "duration": 1558,
    "start_time": "2021-09-30T18:50:18.367Z"
   },
   {
    "duration": 927,
    "start_time": "2021-09-30T18:50:19.928Z"
   },
   {
    "duration": 33,
    "start_time": "2021-09-30T18:50:20.858Z"
   },
   {
    "duration": 44,
    "start_time": "2021-09-30T18:50:20.893Z"
   },
   {
    "duration": 31,
    "start_time": "2021-09-30T18:50:20.963Z"
   },
   {
    "duration": 15,
    "start_time": "2021-09-30T18:50:20.997Z"
   },
   {
    "duration": 15,
    "start_time": "2021-09-30T18:50:21.016Z"
   },
   {
    "duration": 14,
    "start_time": "2021-09-30T18:50:21.066Z"
   },
   {
    "duration": 4,
    "start_time": "2021-09-30T18:50:21.083Z"
   },
   {
    "duration": 29,
    "start_time": "2021-09-30T18:50:21.089Z"
   },
   {
    "duration": 11,
    "start_time": "2021-09-30T18:50:21.121Z"
   },
   {
    "duration": 62,
    "start_time": "2021-09-30T18:50:21.134Z"
   },
   {
    "duration": 14,
    "start_time": "2021-09-30T18:50:21.198Z"
   },
   {
    "duration": 50,
    "start_time": "2021-09-30T18:50:21.215Z"
   },
   {
    "duration": 7,
    "start_time": "2021-09-30T18:50:21.269Z"
   },
   {
    "duration": 30,
    "start_time": "2021-09-30T18:50:21.279Z"
   },
   {
    "duration": 6,
    "start_time": "2021-09-30T18:50:21.312Z"
   },
   {
    "duration": 11,
    "start_time": "2021-09-30T18:50:21.321Z"
   },
   {
    "duration": 672,
    "start_time": "2021-09-30T18:50:21.335Z"
   },
   {
    "duration": 24,
    "start_time": "2021-09-30T18:50:22.010Z"
   },
   {
    "duration": 42,
    "start_time": "2021-09-30T18:50:22.036Z"
   },
   {
    "duration": 12,
    "start_time": "2021-09-30T18:50:22.087Z"
   },
   {
    "duration": 446,
    "start_time": "2021-09-30T18:50:22.103Z"
   },
   {
    "duration": 29,
    "start_time": "2021-09-30T18:50:22.551Z"
   },
   {
    "duration": 29,
    "start_time": "2021-09-30T18:50:22.583Z"
   },
   {
    "duration": 13,
    "start_time": "2021-09-30T18:50:22.615Z"
   },
   {
    "duration": 46,
    "start_time": "2021-09-30T18:50:22.631Z"
   },
   {
    "duration": 12,
    "start_time": "2021-09-30T18:50:22.680Z"
   },
   {
    "duration": 11,
    "start_time": "2021-09-30T18:50:22.694Z"
   },
   {
    "duration": 1812,
    "start_time": "2021-09-30T18:50:22.708Z"
   },
   {
    "duration": 50,
    "start_time": "2021-09-30T18:50:24.523Z"
   },
   {
    "duration": 1767,
    "start_time": "2021-09-30T18:50:24.576Z"
   },
   {
    "duration": 45,
    "start_time": "2021-09-30T18:50:26.346Z"
   },
   {
    "duration": 2380,
    "start_time": "2021-09-30T18:50:26.394Z"
   },
   {
    "duration": 51,
    "start_time": "2021-09-30T18:50:28.779Z"
   },
   {
    "duration": 1908,
    "start_time": "2021-09-30T18:50:28.833Z"
   },
   {
    "duration": 48,
    "start_time": "2021-09-30T18:50:30.744Z"
   },
   {
    "duration": 5,
    "start_time": "2021-09-30T18:50:30.795Z"
   },
   {
    "duration": 20,
    "start_time": "2021-09-30T18:50:30.803Z"
   },
   {
    "duration": 1721,
    "start_time": "2021-09-30T18:50:30.826Z"
   },
   {
    "duration": 50,
    "start_time": "2021-09-30T18:50:32.562Z"
   },
   {
    "duration": 11,
    "start_time": "2021-09-30T18:50:32.616Z"
   },
   {
    "duration": 19233,
    "start_time": "2021-09-30T18:50:32.631Z"
   },
   {
    "duration": 20711,
    "start_time": "2021-09-30T18:50:51.867Z"
   },
   {
    "duration": 866588,
    "start_time": "2021-09-30T18:51:12.582Z"
   },
   {
    "duration": 49460,
    "start_time": "2021-09-30T19:05:39.173Z"
   },
   {
    "duration": 263143,
    "start_time": "2021-09-30T19:06:28.635Z"
   },
   {
    "duration": 66746,
    "start_time": "2021-09-30T19:10:51.780Z"
   },
   {
    "duration": 66949,
    "start_time": "2021-09-30T19:11:58.528Z"
   },
   {
    "duration": 12921,
    "start_time": "2021-09-30T19:13:05.479Z"
   },
   {
    "duration": 371,
    "start_time": "2021-09-30T19:13:18.403Z"
   },
   {
    "duration": 90,
    "start_time": "2021-09-30T19:13:18.777Z"
   },
   {
    "duration": 12,
    "start_time": "2021-09-30T19:13:18.870Z"
   },
   {
    "duration": 15,
    "start_time": "2021-09-30T19:13:18.885Z"
   },
   {
    "duration": 78,
    "start_time": "2021-09-30T19:13:18.903Z"
   },
   {
    "duration": 45,
    "start_time": "2021-09-30T19:13:18.984Z"
   },
   {
    "duration": 33,
    "start_time": "2021-09-30T19:13:19.032Z"
   },
   {
    "duration": 560,
    "start_time": "2021-09-30T19:40:00.095Z"
   },
   {
    "duration": 285,
    "start_time": "2021-09-30T19:40:27.429Z"
   },
   {
    "duration": 74111,
    "start_time": "2021-09-30T19:40:33.837Z"
   },
   {
    "duration": 3838,
    "start_time": "2021-09-30T19:42:26.952Z"
   },
   {
    "duration": 562,
    "start_time": "2021-09-30T19:43:20.665Z"
   },
   {
    "duration": 673,
    "start_time": "2021-09-30T19:43:35.465Z"
   },
   {
    "duration": 44,
    "start_time": "2021-09-30T19:47:47.058Z"
   },
   {
    "duration": 1592,
    "start_time": "2021-09-30T19:49:38.218Z"
   },
   {
    "duration": 1061,
    "start_time": "2021-09-30T19:49:39.814Z"
   },
   {
    "duration": 36,
    "start_time": "2021-09-30T19:49:40.882Z"
   },
   {
    "duration": 66,
    "start_time": "2021-09-30T19:49:40.921Z"
   },
   {
    "duration": 24,
    "start_time": "2021-09-30T19:49:40.989Z"
   },
   {
    "duration": 11,
    "start_time": "2021-09-30T19:49:41.016Z"
   },
   {
    "duration": 47,
    "start_time": "2021-09-30T19:49:41.029Z"
   },
   {
    "duration": 55,
    "start_time": "2021-09-30T19:49:41.084Z"
   },
   {
    "duration": 22,
    "start_time": "2021-09-30T19:49:41.143Z"
   },
   {
    "duration": 34,
    "start_time": "2021-09-30T19:49:41.167Z"
   },
   {
    "duration": 9,
    "start_time": "2021-09-30T19:49:41.204Z"
   },
   {
    "duration": 19,
    "start_time": "2021-09-30T19:49:41.216Z"
   },
   {
    "duration": 33,
    "start_time": "2021-09-30T19:49:41.238Z"
   },
   {
    "duration": 12,
    "start_time": "2021-09-30T19:49:41.278Z"
   },
   {
    "duration": 1017,
    "start_time": "2021-09-30T19:49:41.292Z"
   },
   {
    "duration": 56,
    "start_time": "2021-09-30T19:49:42.312Z"
   },
   {
    "duration": 23,
    "start_time": "2021-09-30T19:49:42.371Z"
   },
   {
    "duration": 16,
    "start_time": "2021-09-30T19:49:42.397Z"
   },
   {
    "duration": 477,
    "start_time": "2021-09-30T19:49:42.416Z"
   },
   {
    "duration": 16,
    "start_time": "2021-09-30T19:49:42.896Z"
   },
   {
    "duration": 60,
    "start_time": "2021-09-30T19:49:42.915Z"
   },
   {
    "duration": 20,
    "start_time": "2021-09-30T19:49:42.979Z"
   },
   {
    "duration": 16,
    "start_time": "2021-09-30T19:49:43.006Z"
   },
   {
    "duration": 45,
    "start_time": "2021-09-30T19:49:43.026Z"
   },
   {
    "duration": 15,
    "start_time": "2021-09-30T19:49:43.074Z"
   },
   {
    "duration": 2026,
    "start_time": "2021-09-30T19:49:43.091Z"
   },
   {
    "duration": 58,
    "start_time": "2021-09-30T19:49:45.120Z"
   },
   {
    "duration": 1847,
    "start_time": "2021-09-30T19:49:45.182Z"
   },
   {
    "duration": 65,
    "start_time": "2021-09-30T19:49:47.032Z"
   },
   {
    "duration": 2840,
    "start_time": "2021-09-30T19:49:47.100Z"
   },
   {
    "duration": 70,
    "start_time": "2021-09-30T19:49:49.945Z"
   },
   {
    "duration": 2037,
    "start_time": "2021-09-30T19:49:50.018Z"
   },
   {
    "duration": 47,
    "start_time": "2021-09-30T19:49:52.068Z"
   },
   {
    "duration": 4,
    "start_time": "2021-09-30T19:49:52.118Z"
   },
   {
    "duration": 43,
    "start_time": "2021-09-30T19:49:52.125Z"
   },
   {
    "duration": 1833,
    "start_time": "2021-09-30T19:49:52.171Z"
   },
   {
    "duration": 60,
    "start_time": "2021-09-30T19:49:54.006Z"
   },
   {
    "duration": 10,
    "start_time": "2021-09-30T19:49:54.069Z"
   },
   {
    "duration": 29,
    "start_time": "2021-09-30T19:49:54.082Z"
   },
   {
    "duration": 32086,
    "start_time": "2021-09-30T19:49:54.114Z"
   },
   {
    "duration": 935797,
    "start_time": "2021-09-30T19:50:26.203Z"
   },
   {
    "duration": 56741,
    "start_time": "2021-09-30T20:06:02.003Z"
   },
   {
    "duration": 266756,
    "start_time": "2021-09-30T20:06:58.747Z"
   },
   {
    "duration": 88309,
    "start_time": "2021-09-30T20:11:25.506Z"
   },
   {
    "duration": 822,
    "start_time": "2021-09-30T20:12:53.818Z"
   },
   {
    "duration": 1705,
    "start_time": "2021-10-01T07:50:11.936Z"
   },
   {
    "duration": 899,
    "start_time": "2021-10-01T07:50:13.644Z"
   },
   {
    "duration": 27,
    "start_time": "2021-10-01T07:50:46.896Z"
   },
   {
    "duration": 42,
    "start_time": "2021-10-01T07:50:47.362Z"
   },
   {
    "duration": 23,
    "start_time": "2021-10-01T07:50:48.046Z"
   },
   {
    "duration": 11,
    "start_time": "2021-10-01T07:51:13.423Z"
   },
   {
    "duration": 12,
    "start_time": "2021-10-01T07:51:15.030Z"
   },
   {
    "duration": 29,
    "start_time": "2021-10-01T07:51:15.227Z"
   },
   {
    "duration": 13,
    "start_time": "2021-10-01T07:51:15.522Z"
   },
   {
    "duration": 24,
    "start_time": "2021-10-01T07:51:16.530Z"
   },
   {
    "duration": 6,
    "start_time": "2021-10-01T07:51:16.734Z"
   },
   {
    "duration": 4,
    "start_time": "2021-10-01T07:51:41.070Z"
   },
   {
    "duration": 12,
    "start_time": "2021-10-01T07:51:43.469Z"
   },
   {
    "duration": 5,
    "start_time": "2021-10-01T07:51:53.298Z"
   },
   {
    "duration": 7,
    "start_time": "2021-10-01T07:51:55.342Z"
   },
   {
    "duration": 557,
    "start_time": "2021-10-01T07:52:44.155Z"
   },
   {
    "duration": 25,
    "start_time": "2021-10-01T07:52:44.715Z"
   },
   {
    "duration": 22,
    "start_time": "2021-10-01T07:52:54.466Z"
   },
   {
    "duration": 12,
    "start_time": "2021-10-01T07:52:59.575Z"
   },
   {
    "duration": 428,
    "start_time": "2021-10-01T07:53:34.856Z"
   },
   {
    "duration": 14,
    "start_time": "2021-10-01T07:53:35.328Z"
   },
   {
    "duration": 28,
    "start_time": "2021-10-01T07:53:38.503Z"
   },
   {
    "duration": 15,
    "start_time": "2021-10-01T07:53:38.715Z"
   },
   {
    "duration": 12,
    "start_time": "2021-10-01T07:53:39.079Z"
   },
   {
    "duration": 10,
    "start_time": "2021-10-01T07:53:39.592Z"
   },
   {
    "duration": 9,
    "start_time": "2021-10-01T07:53:40.885Z"
   },
   {
    "duration": 1565,
    "start_time": "2021-10-01T07:54:26.091Z"
   },
   {
    "duration": 45,
    "start_time": "2021-10-01T07:54:27.658Z"
   },
   {
    "duration": 1524,
    "start_time": "2021-10-01T07:54:28.047Z"
   },
   {
    "duration": 36,
    "start_time": "2021-10-01T07:54:29.574Z"
   },
   {
    "duration": 1574,
    "start_time": "2021-10-01T07:54:29.613Z"
   },
   {
    "duration": 36,
    "start_time": "2021-10-01T07:54:31.190Z"
   },
   {
    "duration": 1789,
    "start_time": "2021-10-01T07:54:58.278Z"
   },
   {
    "duration": 41,
    "start_time": "2021-10-01T07:55:00.070Z"
   },
   {
    "duration": 13,
    "start_time": "2021-10-01T07:55:26.021Z"
   },
   {
    "duration": 1519,
    "start_time": "2021-10-01T07:55:26.550Z"
   },
   {
    "duration": 53,
    "start_time": "2021-10-01T07:55:28.073Z"
   },
   {
    "duration": 10,
    "start_time": "2021-10-01T07:56:04.718Z"
   },
   {
    "duration": 25,
    "start_time": "2021-10-01T07:56:33.038Z"
   },
   {
    "duration": 16164,
    "start_time": "2021-10-01T07:56:33.633Z"
   },
   {
    "duration": 233585,
    "start_time": "2021-10-01T07:56:49.800Z"
   },
   {
    "duration": 60220,
    "start_time": "2021-10-01T08:00:43.388Z"
   },
   {
    "duration": 404,
    "start_time": "2021-10-01T08:01:43.610Z"
   },
   {
    "duration": 6,
    "start_time": "2021-10-01T08:05:52.658Z"
   },
   {
    "duration": 80,
    "start_time": "2021-10-01T11:10:36.827Z"
   },
   {
    "duration": 349,
    "start_time": "2021-10-01T11:11:05.993Z"
   },
   {
    "duration": 1623,
    "start_time": "2021-10-01T11:11:12.528Z"
   },
   {
    "duration": 872,
    "start_time": "2021-10-01T11:11:14.153Z"
   },
   {
    "duration": 26,
    "start_time": "2021-10-01T11:11:15.028Z"
   },
   {
    "duration": 44,
    "start_time": "2021-10-01T11:11:15.067Z"
   },
   {
    "duration": 24,
    "start_time": "2021-10-01T11:11:15.113Z"
   },
   {
    "duration": 12,
    "start_time": "2021-10-01T11:11:15.167Z"
   },
   {
    "duration": 11,
    "start_time": "2021-10-01T11:11:15.182Z"
   },
   {
    "duration": 29,
    "start_time": "2021-10-01T11:11:15.196Z"
   },
   {
    "duration": 48,
    "start_time": "2021-10-01T11:11:15.229Z"
   },
   {
    "duration": 24,
    "start_time": "2021-10-01T11:11:15.280Z"
   },
   {
    "duration": 5,
    "start_time": "2021-10-01T11:11:15.306Z"
   },
   {
    "duration": 15,
    "start_time": "2021-10-01T11:11:15.313Z"
   },
   {
    "duration": 37,
    "start_time": "2021-10-01T11:11:15.331Z"
   },
   {
    "duration": 12,
    "start_time": "2021-10-01T11:11:15.371Z"
   },
   {
    "duration": 639,
    "start_time": "2021-10-01T11:11:15.385Z"
   },
   {
    "duration": 42,
    "start_time": "2021-10-01T11:11:16.027Z"
   },
   {
    "duration": 23,
    "start_time": "2021-10-01T11:11:16.072Z"
   },
   {
    "duration": 14,
    "start_time": "2021-10-01T11:11:16.098Z"
   },
   {
    "duration": 435,
    "start_time": "2021-10-01T11:11:16.114Z"
   },
   {
    "duration": 20,
    "start_time": "2021-10-01T11:11:16.551Z"
   },
   {
    "duration": 27,
    "start_time": "2021-10-01T11:11:16.573Z"
   },
   {
    "duration": 13,
    "start_time": "2021-10-01T11:11:16.602Z"
   },
   {
    "duration": 11,
    "start_time": "2021-10-01T11:11:16.618Z"
   },
   {
    "duration": 9,
    "start_time": "2021-10-01T11:11:16.668Z"
   },
   {
    "duration": 11,
    "start_time": "2021-10-01T11:11:16.679Z"
   },
   {
    "duration": 1708,
    "start_time": "2021-10-01T11:11:16.693Z"
   },
   {
    "duration": 57,
    "start_time": "2021-10-01T11:11:18.409Z"
   },
   {
    "duration": 1663,
    "start_time": "2021-10-01T11:11:18.470Z"
   },
   {
    "duration": 47,
    "start_time": "2021-10-01T11:11:20.136Z"
   },
   {
    "duration": 1650,
    "start_time": "2021-10-01T11:11:20.186Z"
   },
   {
    "duration": 48,
    "start_time": "2021-10-01T11:11:21.838Z"
   },
   {
    "duration": 1729,
    "start_time": "2021-10-01T11:11:21.888Z"
   },
   {
    "duration": 29,
    "start_time": "2021-10-01T11:11:23.620Z"
   },
   {
    "duration": 3,
    "start_time": "2021-10-01T11:11:23.668Z"
   },
   {
    "duration": 28,
    "start_time": "2021-10-01T11:11:23.673Z"
   },
   {
    "duration": 1626,
    "start_time": "2021-10-01T11:11:23.703Z"
   },
   {
    "duration": 52,
    "start_time": "2021-10-01T11:11:25.332Z"
   },
   {
    "duration": 356,
    "start_time": "2021-10-01T11:11:47.344Z"
   },
   {
    "duration": 7659,
    "start_time": "2021-10-01T11:12:13.615Z"
   },
   {
    "duration": 83,
    "start_time": "2021-10-01T11:12:28.983Z"
   },
   {
    "duration": 48,
    "start_time": "2021-10-01T11:12:44.890Z"
   },
   {
    "duration": 14,
    "start_time": "2021-10-01T11:38:09.409Z"
   },
   {
    "duration": 234,
    "start_time": "2021-10-01T11:38:18.702Z"
   },
   {
    "duration": 86,
    "start_time": "2021-10-01T11:38:28.607Z"
   },
   {
    "duration": 21,
    "start_time": "2021-10-01T11:38:33.735Z"
   },
   {
    "duration": 24,
    "start_time": "2021-10-01T11:42:01.945Z"
   },
   {
    "duration": 237,
    "start_time": "2021-10-01T12:02:42.344Z"
   },
   {
    "duration": 17,
    "start_time": "2021-10-01T12:03:00.560Z"
   },
   {
    "duration": 20,
    "start_time": "2021-10-01T12:03:33.796Z"
   },
   {
    "duration": 16,
    "start_time": "2021-10-01T12:03:42.920Z"
   },
   {
    "duration": 17,
    "start_time": "2021-10-01T12:03:59.207Z"
   },
   {
    "duration": 19,
    "start_time": "2021-10-01T12:05:20.435Z"
   },
   {
    "duration": 6,
    "start_time": "2021-10-01T12:09:03.467Z"
   },
   {
    "duration": 6,
    "start_time": "2021-10-01T12:09:09.349Z"
   },
   {
    "duration": 9,
    "start_time": "2021-10-01T12:09:29.579Z"
   },
   {
    "duration": 9,
    "start_time": "2021-10-01T12:09:36.995Z"
   },
   {
    "duration": 11,
    "start_time": "2021-10-01T12:10:24.219Z"
   },
   {
    "duration": 12,
    "start_time": "2021-10-01T12:10:38.090Z"
   },
   {
    "duration": 19,
    "start_time": "2021-10-01T12:11:03.010Z"
   },
   {
    "duration": 18,
    "start_time": "2021-10-01T12:14:56.412Z"
   },
   {
    "duration": 20,
    "start_time": "2021-10-01T12:15:06.631Z"
   },
   {
    "duration": 15,
    "start_time": "2021-10-01T12:15:20.868Z"
   },
   {
    "duration": 26,
    "start_time": "2021-10-01T12:24:02.380Z"
   },
   {
    "duration": 27,
    "start_time": "2021-10-01T12:24:07.801Z"
   },
   {
    "duration": 232,
    "start_time": "2021-10-01T12:24:57.775Z"
   },
   {
    "duration": 381,
    "start_time": "2021-10-01T12:25:20.254Z"
   },
   {
    "duration": 412,
    "start_time": "2021-10-01T12:26:07.806Z"
   },
   {
    "duration": 30,
    "start_time": "2021-10-01T12:26:12.179Z"
   },
   {
    "duration": 24,
    "start_time": "2021-10-01T12:26:21.615Z"
   },
   {
    "duration": 311,
    "start_time": "2021-10-01T12:26:27.975Z"
   },
   {
    "duration": 5,
    "start_time": "2021-10-01T12:26:30.039Z"
   },
   {
    "duration": 17,
    "start_time": "2021-10-01T12:26:46.375Z"
   },
   {
    "duration": 5,
    "start_time": "2021-10-01T12:26:49.457Z"
   },
   {
    "duration": 13,
    "start_time": "2021-10-01T12:27:04.302Z"
   },
   {
    "duration": 5,
    "start_time": "2021-10-01T12:27:43.967Z"
   },
   {
    "duration": 10,
    "start_time": "2021-10-01T12:33:10.165Z"
   },
   {
    "duration": 901,
    "start_time": "2021-10-01T12:33:10.178Z"
   },
   {
    "duration": 25,
    "start_time": "2021-10-01T12:33:11.082Z"
   },
   {
    "duration": 60,
    "start_time": "2021-10-01T12:33:11.110Z"
   },
   {
    "duration": 23,
    "start_time": "2021-10-01T12:33:11.173Z"
   },
   {
    "duration": 11,
    "start_time": "2021-10-01T12:33:11.199Z"
   },
   {
    "duration": 10,
    "start_time": "2021-10-01T12:33:11.212Z"
   },
   {
    "duration": 67,
    "start_time": "2021-10-01T12:33:11.225Z"
   },
   {
    "duration": 7,
    "start_time": "2021-10-01T12:33:11.296Z"
   },
   {
    "duration": 29,
    "start_time": "2021-10-01T12:33:11.306Z"
   },
   {
    "duration": 35,
    "start_time": "2021-10-01T12:33:11.337Z"
   },
   {
    "duration": 10,
    "start_time": "2021-10-01T12:33:11.375Z"
   },
   {
    "duration": 17,
    "start_time": "2021-10-01T12:33:11.388Z"
   },
   {
    "duration": 11,
    "start_time": "2021-10-01T12:33:11.408Z"
   },
   {
    "duration": 738,
    "start_time": "2021-10-01T12:33:11.422Z"
   },
   {
    "duration": 22,
    "start_time": "2021-10-01T12:33:12.162Z"
   },
   {
    "duration": 22,
    "start_time": "2021-10-01T12:33:12.186Z"
   },
   {
    "duration": 14,
    "start_time": "2021-10-01T12:33:12.211Z"
   },
   {
    "duration": 517,
    "start_time": "2021-10-01T12:33:12.266Z"
   },
   {
    "duration": 15,
    "start_time": "2021-10-01T12:33:12.787Z"
   },
   {
    "duration": 27,
    "start_time": "2021-10-01T12:33:12.805Z"
   },
   {
    "duration": 44,
    "start_time": "2021-10-01T12:33:12.835Z"
   },
   {
    "duration": 14,
    "start_time": "2021-10-01T12:33:12.882Z"
   },
   {
    "duration": 12,
    "start_time": "2021-10-01T12:33:12.899Z"
   },
   {
    "duration": 55,
    "start_time": "2021-10-01T12:33:12.914Z"
   },
   {
    "duration": 1629,
    "start_time": "2021-10-01T12:33:12.972Z"
   },
   {
    "duration": 36,
    "start_time": "2021-10-01T12:33:14.608Z"
   },
   {
    "duration": 1667,
    "start_time": "2021-10-01T12:33:14.647Z"
   },
   {
    "duration": 49,
    "start_time": "2021-10-01T12:33:16.317Z"
   },
   {
    "duration": 1870,
    "start_time": "2021-10-01T12:33:16.368Z"
   },
   {
    "duration": 51,
    "start_time": "2021-10-01T12:33:18.240Z"
   },
   {
    "duration": 1600,
    "start_time": "2021-10-01T12:33:18.294Z"
   },
   {
    "duration": 27,
    "start_time": "2021-10-01T12:33:19.896Z"
   },
   {
    "duration": 3,
    "start_time": "2021-10-01T12:33:19.925Z"
   },
   {
    "duration": 40,
    "start_time": "2021-10-01T12:33:19.930Z"
   },
   {
    "duration": 1861,
    "start_time": "2021-10-01T12:33:19.973Z"
   },
   {
    "duration": 50,
    "start_time": "2021-10-01T12:33:21.837Z"
   },
   {
    "duration": 24,
    "start_time": "2021-10-01T12:33:21.889Z"
   },
   {
    "duration": 20,
    "start_time": "2021-10-01T12:33:32.958Z"
   },
   {
    "duration": 72,
    "start_time": "2021-10-01T12:33:43.673Z"
   },
   {
    "duration": 21,
    "start_time": "2021-10-01T12:34:21.110Z"
   },
   {
    "duration": 1786,
    "start_time": "2021-10-01T12:35:32.749Z"
   },
   {
    "duration": 1782,
    "start_time": "2021-10-01T12:36:17.369Z"
   },
   {
    "duration": 17,
    "start_time": "2021-10-01T12:51:22.641Z"
   },
   {
    "duration": 36,
    "start_time": "2021-10-01T12:51:37.726Z"
   },
   {
    "duration": 1777,
    "start_time": "2021-10-01T12:52:25.711Z"
   },
   {
    "duration": 1651,
    "start_time": "2021-10-01T12:52:49.416Z"
   },
   {
    "duration": 1771,
    "start_time": "2021-10-01T12:52:58.902Z"
   },
   {
    "duration": 1695,
    "start_time": "2021-10-01T12:53:04.959Z"
   },
   {
    "duration": 20,
    "start_time": "2021-10-01T13:09:53.427Z"
   },
   {
    "duration": 215,
    "start_time": "2021-10-01T13:10:22.106Z"
   },
   {
    "duration": 7,
    "start_time": "2021-10-01T13:10:24.354Z"
   },
   {
    "duration": 9,
    "start_time": "2021-10-01T13:11:08.148Z"
   },
   {
    "duration": 901,
    "start_time": "2021-10-01T13:11:08.160Z"
   },
   {
    "duration": 25,
    "start_time": "2021-10-01T13:11:09.068Z"
   },
   {
    "duration": 40,
    "start_time": "2021-10-01T13:11:09.095Z"
   },
   {
    "duration": 43,
    "start_time": "2021-10-01T13:11:09.138Z"
   },
   {
    "duration": 11,
    "start_time": "2021-10-01T13:11:09.183Z"
   },
   {
    "duration": 11,
    "start_time": "2021-10-01T13:11:09.196Z"
   },
   {
    "duration": 69,
    "start_time": "2021-10-01T13:11:09.211Z"
   },
   {
    "duration": 7,
    "start_time": "2021-10-01T13:11:09.283Z"
   },
   {
    "duration": 32,
    "start_time": "2021-10-01T13:11:09.292Z"
   },
   {
    "duration": 5,
    "start_time": "2021-10-01T13:11:09.327Z"
   },
   {
    "duration": 35,
    "start_time": "2021-10-01T13:11:09.335Z"
   },
   {
    "duration": 8,
    "start_time": "2021-10-01T13:11:09.373Z"
   },
   {
    "duration": 13,
    "start_time": "2021-10-01T13:11:09.383Z"
   },
   {
    "duration": 624,
    "start_time": "2021-10-01T13:11:09.398Z"
   },
   {
    "duration": 20,
    "start_time": "2021-10-01T13:11:10.024Z"
   },
   {
    "duration": 38,
    "start_time": "2021-10-01T13:11:10.047Z"
   },
   {
    "duration": 15,
    "start_time": "2021-10-01T13:11:10.087Z"
   },
   {
    "duration": 424,
    "start_time": "2021-10-01T13:11:10.104Z"
   },
   {
    "duration": 15,
    "start_time": "2021-10-01T13:11:10.531Z"
   },
   {
    "duration": 41,
    "start_time": "2021-10-01T13:11:10.548Z"
   },
   {
    "duration": 14,
    "start_time": "2021-10-01T13:11:10.592Z"
   },
   {
    "duration": 13,
    "start_time": "2021-10-01T13:11:10.612Z"
   },
   {
    "duration": 44,
    "start_time": "2021-10-01T13:11:10.628Z"
   },
   {
    "duration": 9,
    "start_time": "2021-10-01T13:11:10.674Z"
   },
   {
    "duration": 2218,
    "start_time": "2021-10-01T13:11:10.686Z"
   },
   {
    "duration": 34,
    "start_time": "2021-10-01T13:11:12.906Z"
   },
   {
    "duration": 1757,
    "start_time": "2021-10-01T13:11:12.943Z"
   },
   {
    "duration": 34,
    "start_time": "2021-10-01T13:11:14.703Z"
   },
   {
    "duration": 1890,
    "start_time": "2021-10-01T13:11:14.739Z"
   },
   {
    "duration": 46,
    "start_time": "2021-10-01T13:11:16.632Z"
   },
   {
    "duration": 1651,
    "start_time": "2021-10-01T13:11:16.680Z"
   },
   {
    "duration": 42,
    "start_time": "2021-10-01T13:11:18.334Z"
   },
   {
    "duration": 3,
    "start_time": "2021-10-01T13:11:18.379Z"
   },
   {
    "duration": 14,
    "start_time": "2021-10-01T13:11:18.385Z"
   },
   {
    "duration": 1913,
    "start_time": "2021-10-01T13:11:18.403Z"
   },
   {
    "duration": 58,
    "start_time": "2021-10-01T13:11:20.319Z"
   },
   {
    "duration": 25,
    "start_time": "2021-10-01T13:11:20.380Z"
   },
   {
    "duration": 21,
    "start_time": "2021-10-01T13:11:20.408Z"
   },
   {
    "duration": 8,
    "start_time": "2021-10-01T13:12:51.443Z"
   },
   {
    "duration": 326,
    "start_time": "2021-10-01T13:13:05.330Z"
   },
   {
    "duration": 78,
    "start_time": "2021-10-01T13:13:17.882Z"
   },
   {
    "duration": 88,
    "start_time": "2021-10-01T13:13:23.720Z"
   },
   {
    "duration": 7,
    "start_time": "2021-10-01T13:13:27.888Z"
   },
   {
    "duration": 8,
    "start_time": "2021-10-01T13:13:55.240Z"
   },
   {
    "duration": 9,
    "start_time": "2021-10-01T13:14:55.632Z"
   },
   {
    "duration": 9,
    "start_time": "2021-10-01T13:15:08.744Z"
   },
   {
    "duration": 24,
    "start_time": "2021-10-01T13:17:34.231Z"
   },
   {
    "duration": 18,
    "start_time": "2021-10-01T13:17:51.630Z"
   },
   {
    "duration": 1727,
    "start_time": "2021-10-01T13:18:24.869Z"
   },
   {
    "duration": 36,
    "start_time": "2021-10-01T13:18:38.340Z"
   },
   {
    "duration": 16,
    "start_time": "2021-10-01T13:21:23.447Z"
   },
   {
    "duration": 4,
    "start_time": "2021-10-01T13:27:49.610Z"
   },
   {
    "duration": 11,
    "start_time": "2021-10-01T13:28:32.348Z"
   },
   {
    "duration": 892,
    "start_time": "2021-10-01T13:28:32.363Z"
   },
   {
    "duration": 31,
    "start_time": "2021-10-01T13:28:33.259Z"
   },
   {
    "duration": 41,
    "start_time": "2021-10-01T13:28:33.294Z"
   },
   {
    "duration": 51,
    "start_time": "2021-10-01T13:28:33.338Z"
   },
   {
    "duration": 14,
    "start_time": "2021-10-01T13:28:33.392Z"
   },
   {
    "duration": 16,
    "start_time": "2021-10-01T13:28:33.408Z"
   },
   {
    "duration": 36,
    "start_time": "2021-10-01T13:28:33.468Z"
   },
   {
    "duration": 7,
    "start_time": "2021-10-01T13:28:33.508Z"
   },
   {
    "duration": 55,
    "start_time": "2021-10-01T13:28:33.518Z"
   },
   {
    "duration": 6,
    "start_time": "2021-10-01T13:28:33.575Z"
   },
   {
    "duration": 12,
    "start_time": "2021-10-01T13:28:33.583Z"
   },
   {
    "duration": 10,
    "start_time": "2021-10-01T13:28:33.598Z"
   },
   {
    "duration": 8,
    "start_time": "2021-10-01T13:28:33.610Z"
   },
   {
    "duration": 5,
    "start_time": "2021-10-01T13:28:33.620Z"
   },
   {
    "duration": 71,
    "start_time": "2021-10-01T13:28:33.627Z"
   },
   {
    "duration": 18,
    "start_time": "2021-10-01T13:28:33.700Z"
   },
   {
    "duration": 22,
    "start_time": "2021-10-01T13:28:45.755Z"
   },
   {
    "duration": 8,
    "start_time": "2021-10-01T13:32:31.172Z"
   },
   {
    "duration": 330,
    "start_time": "2021-10-01T13:34:50.910Z"
   },
   {
    "duration": 94,
    "start_time": "2021-10-01T13:35:09.484Z"
   },
   {
    "duration": 6,
    "start_time": "2021-10-01T13:35:25.086Z"
   },
   {
    "duration": 11,
    "start_time": "2021-10-01T13:36:01.169Z"
   },
   {
    "duration": 2239,
    "start_time": "2021-10-01T13:44:04.902Z"
   },
   {
    "duration": 864,
    "start_time": "2021-10-01T13:44:07.144Z"
   },
   {
    "duration": 26,
    "start_time": "2021-10-01T13:44:08.011Z"
   },
   {
    "duration": 60,
    "start_time": "2021-10-01T13:44:08.040Z"
   },
   {
    "duration": 23,
    "start_time": "2021-10-01T13:44:08.103Z"
   },
   {
    "duration": 12,
    "start_time": "2021-10-01T13:44:08.128Z"
   },
   {
    "duration": 12,
    "start_time": "2021-10-01T13:44:08.168Z"
   },
   {
    "duration": 29,
    "start_time": "2021-10-01T13:44:08.182Z"
   },
   {
    "duration": 11,
    "start_time": "2021-10-01T13:44:08.214Z"
   },
   {
    "duration": 57,
    "start_time": "2021-10-01T13:44:08.228Z"
   },
   {
    "duration": 6,
    "start_time": "2021-10-01T13:44:08.287Z"
   },
   {
    "duration": 14,
    "start_time": "2021-10-01T13:44:08.296Z"
   },
   {
    "duration": 9,
    "start_time": "2021-10-01T13:44:08.312Z"
   },
   {
    "duration": 47,
    "start_time": "2021-10-01T13:44:08.324Z"
   },
   {
    "duration": 6,
    "start_time": "2021-10-01T13:44:08.373Z"
   },
   {
    "duration": 37,
    "start_time": "2021-10-01T13:44:08.381Z"
   },
   {
    "duration": 18,
    "start_time": "2021-10-01T13:44:08.420Z"
   },
   {
    "duration": 21,
    "start_time": "2021-10-01T13:44:08.467Z"
   },
   {
    "duration": 14,
    "start_time": "2021-10-01T13:44:08.490Z"
   },
   {
    "duration": 407,
    "start_time": "2021-10-01T13:44:08.506Z"
   },
   {
    "duration": 13,
    "start_time": "2021-10-01T13:44:08.916Z"
   },
   {
    "duration": 47,
    "start_time": "2021-10-01T13:44:08.932Z"
   },
   {
    "duration": 15,
    "start_time": "2021-10-01T13:44:08.981Z"
   },
   {
    "duration": 12,
    "start_time": "2021-10-01T13:44:08.998Z"
   },
   {
    "duration": 10,
    "start_time": "2021-10-01T13:44:09.012Z"
   },
   {
    "duration": 45,
    "start_time": "2021-10-01T13:44:09.024Z"
   },
   {
    "duration": 1688,
    "start_time": "2021-10-01T13:44:09.075Z"
   },
   {
    "duration": 35,
    "start_time": "2021-10-01T13:44:10.768Z"
   },
   {
    "duration": 1682,
    "start_time": "2021-10-01T13:44:10.806Z"
   },
   {
    "duration": 34,
    "start_time": "2021-10-01T13:44:12.491Z"
   },
   {
    "duration": 1655,
    "start_time": "2021-10-01T13:44:12.527Z"
   },
   {
    "duration": 37,
    "start_time": "2021-10-01T13:44:14.185Z"
   },
   {
    "duration": 2163,
    "start_time": "2021-10-01T13:44:14.225Z"
   },
   {
    "duration": 30,
    "start_time": "2021-10-01T13:44:16.390Z"
   },
   {
    "duration": 3,
    "start_time": "2021-10-01T13:44:16.422Z"
   },
   {
    "duration": 21,
    "start_time": "2021-10-01T13:44:16.428Z"
   },
   {
    "duration": 1703,
    "start_time": "2021-10-01T13:44:16.451Z"
   },
   {
    "duration": 50,
    "start_time": "2021-10-01T13:44:18.157Z"
   },
   {
    "duration": 23,
    "start_time": "2021-10-01T13:44:18.210Z"
   },
   {
    "duration": 47,
    "start_time": "2021-10-01T13:44:18.235Z"
   },
   {
    "duration": 3145,
    "start_time": "2021-10-01T13:44:18.284Z"
   },
   {
    "duration": -2136,
    "start_time": "2021-10-01T13:44:23.567Z"
   },
   {
    "duration": -2141,
    "start_time": "2021-10-01T13:44:23.574Z"
   },
   {
    "duration": -2145,
    "start_time": "2021-10-01T13:44:23.579Z"
   },
   {
    "duration": -2149,
    "start_time": "2021-10-01T13:44:23.584Z"
   },
   {
    "duration": -2153,
    "start_time": "2021-10-01T13:44:23.590Z"
   },
   {
    "duration": -2157,
    "start_time": "2021-10-01T13:44:23.595Z"
   },
   {
    "duration": -2159,
    "start_time": "2021-10-01T13:44:23.599Z"
   },
   {
    "duration": -2163,
    "start_time": "2021-10-01T13:44:23.604Z"
   },
   {
    "duration": -2167,
    "start_time": "2021-10-01T13:44:23.609Z"
   },
   {
    "duration": -2169,
    "start_time": "2021-10-01T13:44:23.613Z"
   },
   {
    "duration": -2173,
    "start_time": "2021-10-01T13:44:23.618Z"
   },
   {
    "duration": -2175,
    "start_time": "2021-10-01T13:44:23.622Z"
   },
   {
    "duration": -2179,
    "start_time": "2021-10-01T13:44:23.627Z"
   },
   {
    "duration": -2183,
    "start_time": "2021-10-01T13:44:23.632Z"
   },
   {
    "duration": -2187,
    "start_time": "2021-10-01T13:44:23.637Z"
   },
   {
    "duration": -2190,
    "start_time": "2021-10-01T13:44:23.642Z"
   },
   {
    "duration": -2194,
    "start_time": "2021-10-01T13:44:23.647Z"
   },
   {
    "duration": -2198,
    "start_time": "2021-10-01T13:44:23.652Z"
   },
   {
    "duration": -2204,
    "start_time": "2021-10-01T13:44:23.660Z"
   },
   {
    "duration": 1594,
    "start_time": "2021-10-01T13:53:33.862Z"
   },
   {
    "duration": 938,
    "start_time": "2021-10-01T13:53:35.458Z"
   },
   {
    "duration": 28,
    "start_time": "2021-10-01T13:53:36.399Z"
   },
   {
    "duration": 73,
    "start_time": "2021-10-01T13:53:36.430Z"
   },
   {
    "duration": 26,
    "start_time": "2021-10-01T13:53:36.506Z"
   },
   {
    "duration": 41,
    "start_time": "2021-10-01T13:53:36.535Z"
   },
   {
    "duration": 15,
    "start_time": "2021-10-01T13:53:36.578Z"
   },
   {
    "duration": 31,
    "start_time": "2021-10-01T13:53:36.595Z"
   },
   {
    "duration": 45,
    "start_time": "2021-10-01T13:53:36.632Z"
   },
   {
    "duration": 25,
    "start_time": "2021-10-01T13:53:36.680Z"
   },
   {
    "duration": 5,
    "start_time": "2021-10-01T13:53:36.707Z"
   },
   {
    "duration": 13,
    "start_time": "2021-10-01T13:53:36.715Z"
   },
   {
    "duration": 39,
    "start_time": "2021-10-01T13:53:36.730Z"
   },
   {
    "duration": 11,
    "start_time": "2021-10-01T13:53:36.771Z"
   },
   {
    "duration": 6,
    "start_time": "2021-10-01T13:53:36.784Z"
   },
   {
    "duration": 41,
    "start_time": "2021-10-01T13:53:36.792Z"
   },
   {
    "duration": 44,
    "start_time": "2021-10-01T13:53:36.835Z"
   },
   {
    "duration": 21,
    "start_time": "2021-10-01T13:53:36.883Z"
   },
   {
    "duration": 13,
    "start_time": "2021-10-01T13:53:36.907Z"
   },
   {
    "duration": 463,
    "start_time": "2021-10-01T13:53:36.923Z"
   },
   {
    "duration": 12,
    "start_time": "2021-10-01T13:53:37.389Z"
   },
   {
    "duration": 25,
    "start_time": "2021-10-01T13:53:37.404Z"
   },
   {
    "duration": 39,
    "start_time": "2021-10-01T13:53:37.431Z"
   },
   {
    "duration": 15,
    "start_time": "2021-10-01T13:53:37.473Z"
   },
   {
    "duration": 12,
    "start_time": "2021-10-01T13:53:37.490Z"
   },
   {
    "duration": 12,
    "start_time": "2021-10-01T13:53:37.505Z"
   },
   {
    "duration": 1983,
    "start_time": "2021-10-01T13:53:37.569Z"
   },
   {
    "duration": 38,
    "start_time": "2021-10-01T13:53:39.567Z"
   },
   {
    "duration": 1794,
    "start_time": "2021-10-01T13:53:39.608Z"
   },
   {
    "duration": 36,
    "start_time": "2021-10-01T13:53:41.404Z"
   },
   {
    "duration": 1874,
    "start_time": "2021-10-01T13:53:41.442Z"
   },
   {
    "duration": 55,
    "start_time": "2021-10-01T13:53:43.319Z"
   },
   {
    "duration": 1772,
    "start_time": "2021-10-01T13:53:43.377Z"
   },
   {
    "duration": 37,
    "start_time": "2021-10-01T13:53:45.152Z"
   },
   {
    "duration": 3,
    "start_time": "2021-10-01T13:53:45.192Z"
   },
   {
    "duration": 28,
    "start_time": "2021-10-01T13:53:45.197Z"
   },
   {
    "duration": 1602,
    "start_time": "2021-10-01T13:53:45.228Z"
   },
   {
    "duration": 63,
    "start_time": "2021-10-01T13:53:46.833Z"
   },
   {
    "duration": 22,
    "start_time": "2021-10-01T13:53:46.899Z"
   },
   {
    "duration": 43,
    "start_time": "2021-10-01T13:53:46.924Z"
   },
   {
    "duration": 24,
    "start_time": "2021-10-01T13:53:46.969Z"
   },
   {
    "duration": 16,
    "start_time": "2021-10-01T13:53:46.996Z"
   },
   {
    "duration": 1805,
    "start_time": "2021-10-01T13:53:47.015Z"
   },
   {
    "duration": 53,
    "start_time": "2021-10-01T13:53:48.824Z"
   },
   {
    "duration": 17,
    "start_time": "2021-10-01T13:53:48.880Z"
   },
   {
    "duration": 415,
    "start_time": "2021-10-01T13:53:48.900Z"
   },
   {
    "duration": -2130,
    "start_time": "2021-10-01T13:53:51.448Z"
   },
   {
    "duration": -2134,
    "start_time": "2021-10-01T13:53:51.453Z"
   },
   {
    "duration": -2139,
    "start_time": "2021-10-01T13:53:51.460Z"
   },
   {
    "duration": -2146,
    "start_time": "2021-10-01T13:53:51.468Z"
   },
   {
    "duration": -2150,
    "start_time": "2021-10-01T13:53:51.473Z"
   },
   {
    "duration": -2153,
    "start_time": "2021-10-01T13:53:51.478Z"
   },
   {
    "duration": -2156,
    "start_time": "2021-10-01T13:53:51.482Z"
   },
   {
    "duration": -2160,
    "start_time": "2021-10-01T13:53:51.488Z"
   },
   {
    "duration": -2165,
    "start_time": "2021-10-01T13:53:51.494Z"
   },
   {
    "duration": -2170,
    "start_time": "2021-10-01T13:53:51.500Z"
   },
   {
    "duration": -2172,
    "start_time": "2021-10-01T13:53:51.504Z"
   },
   {
    "duration": -2177,
    "start_time": "2021-10-01T13:53:51.510Z"
   },
   {
    "duration": -2183,
    "start_time": "2021-10-01T13:53:51.517Z"
   },
   {
    "duration": 1554,
    "start_time": "2021-10-01T13:54:26.218Z"
   },
   {
    "duration": 923,
    "start_time": "2021-10-01T13:54:27.776Z"
   },
   {
    "duration": 28,
    "start_time": "2021-10-01T13:54:28.702Z"
   },
   {
    "duration": 61,
    "start_time": "2021-10-01T13:54:28.733Z"
   },
   {
    "duration": 24,
    "start_time": "2021-10-01T13:54:28.796Z"
   },
   {
    "duration": 10,
    "start_time": "2021-10-01T13:54:28.822Z"
   },
   {
    "duration": 40,
    "start_time": "2021-10-01T13:54:28.835Z"
   },
   {
    "duration": 27,
    "start_time": "2021-10-01T13:54:28.880Z"
   },
   {
    "duration": 11,
    "start_time": "2021-10-01T13:54:28.910Z"
   },
   {
    "duration": 60,
    "start_time": "2021-10-01T13:54:28.924Z"
   },
   {
    "duration": 5,
    "start_time": "2021-10-01T13:54:28.987Z"
   },
   {
    "duration": 13,
    "start_time": "2021-10-01T13:54:28.994Z"
   },
   {
    "duration": 7,
    "start_time": "2021-10-01T13:54:29.010Z"
   },
   {
    "duration": 11,
    "start_time": "2021-10-01T13:54:29.020Z"
   },
   {
    "duration": 33,
    "start_time": "2021-10-01T13:54:29.034Z"
   },
   {
    "duration": 38,
    "start_time": "2021-10-01T13:54:29.070Z"
   },
   {
    "duration": 17,
    "start_time": "2021-10-01T13:54:29.111Z"
   },
   {
    "duration": 48,
    "start_time": "2021-10-01T13:54:29.131Z"
   },
   {
    "duration": 17,
    "start_time": "2021-10-01T13:54:29.182Z"
   },
   {
    "duration": 408,
    "start_time": "2021-10-01T13:54:29.202Z"
   },
   {
    "duration": 14,
    "start_time": "2021-10-01T13:54:29.612Z"
   },
   {
    "duration": 53,
    "start_time": "2021-10-01T13:54:29.628Z"
   },
   {
    "duration": 14,
    "start_time": "2021-10-01T13:54:29.687Z"
   },
   {
    "duration": 12,
    "start_time": "2021-10-01T13:54:29.704Z"
   },
   {
    "duration": 10,
    "start_time": "2021-10-01T13:54:29.719Z"
   },
   {
    "duration": 40,
    "start_time": "2021-10-01T13:54:29.732Z"
   },
   {
    "duration": 1969,
    "start_time": "2021-10-01T13:54:29.775Z"
   },
   {
    "duration": 45,
    "start_time": "2021-10-01T13:54:31.746Z"
   },
   {
    "duration": 1729,
    "start_time": "2021-10-01T13:54:31.795Z"
   },
   {
    "duration": 54,
    "start_time": "2021-10-01T13:54:33.528Z"
   },
   {
    "duration": 1701,
    "start_time": "2021-10-01T13:54:33.585Z"
   },
   {
    "duration": 36,
    "start_time": "2021-10-01T13:54:35.289Z"
   },
   {
    "duration": 1919,
    "start_time": "2021-10-01T13:54:35.328Z"
   },
   {
    "duration": 39,
    "start_time": "2021-10-01T13:54:37.251Z"
   },
   {
    "duration": 3,
    "start_time": "2021-10-01T13:54:37.293Z"
   },
   {
    "duration": 12,
    "start_time": "2021-10-01T13:54:37.299Z"
   },
   {
    "duration": 1701,
    "start_time": "2021-10-01T13:54:37.313Z"
   },
   {
    "duration": 56,
    "start_time": "2021-10-01T13:54:39.017Z"
   },
   {
    "duration": 22,
    "start_time": "2021-10-01T13:54:39.076Z"
   },
   {
    "duration": 23,
    "start_time": "2021-10-01T13:54:39.100Z"
   },
   {
    "duration": 55,
    "start_time": "2021-10-01T13:54:39.125Z"
   },
   {
    "duration": 15,
    "start_time": "2021-10-01T13:54:39.182Z"
   },
   {
    "duration": 1789,
    "start_time": "2021-10-01T13:54:39.199Z"
   },
   {
    "duration": 34,
    "start_time": "2021-10-01T13:54:40.991Z"
   },
   {
    "duration": 43,
    "start_time": "2021-10-01T13:54:41.028Z"
   },
   {
    "duration": 97,
    "start_time": "2021-10-01T13:54:41.073Z"
   },
   {
    "duration": -2118,
    "start_time": "2021-10-01T13:54:43.290Z"
   },
   {
    "duration": -2120,
    "start_time": "2021-10-01T13:54:43.294Z"
   },
   {
    "duration": -2123,
    "start_time": "2021-10-01T13:54:43.298Z"
   },
   {
    "duration": -2127,
    "start_time": "2021-10-01T13:54:43.303Z"
   },
   {
    "duration": -2130,
    "start_time": "2021-10-01T13:54:43.308Z"
   },
   {
    "duration": -2133,
    "start_time": "2021-10-01T13:54:43.312Z"
   },
   {
    "duration": -2145,
    "start_time": "2021-10-01T13:54:43.325Z"
   },
   {
    "duration": -2150,
    "start_time": "2021-10-01T13:54:43.332Z"
   },
   {
    "duration": -2155,
    "start_time": "2021-10-01T13:54:43.338Z"
   },
   {
    "duration": -2158,
    "start_time": "2021-10-01T13:54:43.343Z"
   },
   {
    "duration": -2162,
    "start_time": "2021-10-01T13:54:43.348Z"
   },
   {
    "duration": -2166,
    "start_time": "2021-10-01T13:54:43.353Z"
   },
   {
    "duration": 1582,
    "start_time": "2021-10-01T13:54:54.339Z"
   },
   {
    "duration": 924,
    "start_time": "2021-10-01T13:54:55.925Z"
   },
   {
    "duration": 31,
    "start_time": "2021-10-01T13:54:56.852Z"
   },
   {
    "duration": 44,
    "start_time": "2021-10-01T13:54:56.885Z"
   },
   {
    "duration": 48,
    "start_time": "2021-10-01T13:54:56.931Z"
   },
   {
    "duration": 12,
    "start_time": "2021-10-01T13:54:56.981Z"
   },
   {
    "duration": 10,
    "start_time": "2021-10-01T13:54:56.995Z"
   },
   {
    "duration": 60,
    "start_time": "2021-10-01T13:54:57.009Z"
   },
   {
    "duration": 12,
    "start_time": "2021-10-01T13:54:57.072Z"
   },
   {
    "duration": 32,
    "start_time": "2021-10-01T13:54:57.086Z"
   },
   {
    "duration": 5,
    "start_time": "2021-10-01T13:54:57.120Z"
   },
   {
    "duration": 41,
    "start_time": "2021-10-01T13:54:57.128Z"
   },
   {
    "duration": 5,
    "start_time": "2021-10-01T13:54:57.172Z"
   },
   {
    "duration": 13,
    "start_time": "2021-10-01T13:54:57.179Z"
   },
   {
    "duration": 5,
    "start_time": "2021-10-01T13:54:57.195Z"
   },
   {
    "duration": 65,
    "start_time": "2021-10-01T13:54:57.202Z"
   },
   {
    "duration": 20,
    "start_time": "2021-10-01T13:54:57.270Z"
   },
   {
    "duration": 21,
    "start_time": "2021-10-01T13:54:57.293Z"
   },
   {
    "duration": 12,
    "start_time": "2021-10-01T13:54:57.317Z"
   },
   {
    "duration": 423,
    "start_time": "2021-10-01T13:54:57.332Z"
   },
   {
    "duration": 22,
    "start_time": "2021-10-01T13:54:57.757Z"
   },
   {
    "duration": 30,
    "start_time": "2021-10-01T13:54:57.782Z"
   },
   {
    "duration": 14,
    "start_time": "2021-10-01T13:54:57.817Z"
   },
   {
    "duration": 38,
    "start_time": "2021-10-01T13:54:57.834Z"
   },
   {
    "duration": 10,
    "start_time": "2021-10-01T13:54:57.874Z"
   },
   {
    "duration": 10,
    "start_time": "2021-10-01T13:54:57.887Z"
   },
   {
    "duration": 1708,
    "start_time": "2021-10-01T13:54:57.899Z"
   },
   {
    "duration": 35,
    "start_time": "2021-10-01T13:54:59.609Z"
   },
   {
    "duration": 1661,
    "start_time": "2021-10-01T13:54:59.647Z"
   },
   {
    "duration": 35,
    "start_time": "2021-10-01T13:55:01.311Z"
   },
   {
    "duration": 1634,
    "start_time": "2021-10-01T13:55:01.368Z"
   },
   {
    "duration": 34,
    "start_time": "2021-10-01T13:55:03.005Z"
   },
   {
    "duration": 1712,
    "start_time": "2021-10-01T13:55:03.041Z"
   },
   {
    "duration": 38,
    "start_time": "2021-10-01T13:55:04.755Z"
   },
   {
    "duration": 4,
    "start_time": "2021-10-01T13:55:04.795Z"
   },
   {
    "duration": 14,
    "start_time": "2021-10-01T13:55:04.801Z"
   },
   {
    "duration": 1650,
    "start_time": "2021-10-01T13:55:04.817Z"
   },
   {
    "duration": 51,
    "start_time": "2021-10-01T13:55:06.469Z"
   },
   {
    "duration": 56,
    "start_time": "2021-10-01T13:55:06.523Z"
   },
   {
    "duration": 21,
    "start_time": "2021-10-01T13:55:06.582Z"
   },
   {
    "duration": 24,
    "start_time": "2021-10-01T13:55:06.607Z"
   },
   {
    "duration": 48,
    "start_time": "2021-10-01T13:55:06.633Z"
   },
   {
    "duration": 1772,
    "start_time": "2021-10-01T13:55:06.684Z"
   },
   {
    "duration": 40,
    "start_time": "2021-10-01T13:55:08.459Z"
   },
   {
    "duration": 16,
    "start_time": "2021-10-01T13:55:08.501Z"
   },
   {
    "duration": 9,
    "start_time": "2021-10-01T13:55:08.520Z"
   },
   {
    "duration": 7,
    "start_time": "2021-10-01T13:55:08.568Z"
   },
   {
    "duration": 121,
    "start_time": "2021-10-01T13:55:08.577Z"
   },
   {
    "duration": 7,
    "start_time": "2021-10-01T13:55:08.700Z"
   },
   {
    "duration": 11,
    "start_time": "2021-10-01T13:55:08.709Z"
   },
   {
    "duration": 24,
    "start_time": "2021-10-01T13:55:08.723Z"
   },
   {
    "duration": 9236,
    "start_time": "2021-10-01T13:55:08.750Z"
   },
   {
    "duration": 568272,
    "start_time": "2021-10-01T13:55:17.988Z"
   },
   {
    "duration": 185586,
    "start_time": "2021-10-01T14:04:46.267Z"
   },
   {
    "duration": 47984,
    "start_time": "2021-10-01T14:07:51.855Z"
   },
   {
    "duration": 850,
    "start_time": "2021-10-01T14:08:39.842Z"
   },
   {
    "duration": -2133,
    "start_time": "2021-10-01T14:08:42.827Z"
   },
   {
    "duration": 410,
    "start_time": "2021-10-01T14:09:14.892Z"
   },
   {
    "duration": 15222,
    "start_time": "2021-10-01T14:11:37.366Z"
   },
   {
    "duration": 5,
    "start_time": "2021-10-01T14:11:59.115Z"
   },
   {
    "duration": 5,
    "start_time": "2021-10-01T14:12:11.144Z"
   },
   {
    "duration": 1642,
    "start_time": "2021-10-01T14:14:58.232Z"
   },
   {
    "duration": 224,
    "start_time": "2021-10-01T14:15:22.816Z"
   },
   {
    "duration": 205,
    "start_time": "2021-10-01T14:15:30.334Z"
   },
   {
    "duration": 1798,
    "start_time": "2021-10-01T14:17:02.074Z"
   },
   {
    "duration": 922,
    "start_time": "2021-10-01T14:17:51.451Z"
   },
   {
    "duration": 1457,
    "start_time": "2021-10-01T14:18:45.709Z"
   },
   {
    "duration": 519,
    "start_time": "2021-10-01T16:06:05.102Z"
   },
   {
    "duration": 1640,
    "start_time": "2021-10-01T16:06:32.545Z"
   },
   {
    "duration": 490,
    "start_time": "2021-10-01T16:06:39.016Z"
   },
   {
    "duration": 1558,
    "start_time": "2021-10-01T16:07:36.316Z"
   },
   {
    "duration": 912,
    "start_time": "2021-10-01T16:07:37.877Z"
   },
   {
    "duration": 35,
    "start_time": "2021-10-01T16:07:38.795Z"
   },
   {
    "duration": 44,
    "start_time": "2021-10-01T16:07:38.832Z"
   },
   {
    "duration": 47,
    "start_time": "2021-10-01T16:07:38.878Z"
   },
   {
    "duration": 11,
    "start_time": "2021-10-01T16:07:38.928Z"
   },
   {
    "duration": 10,
    "start_time": "2021-10-01T16:07:38.941Z"
   },
   {
    "duration": 35,
    "start_time": "2021-10-01T16:07:38.955Z"
   },
   {
    "duration": 13,
    "start_time": "2021-10-01T16:07:39.018Z"
   },
   {
    "duration": 24,
    "start_time": "2021-10-01T16:07:39.033Z"
   },
   {
    "duration": 6,
    "start_time": "2021-10-01T16:07:39.060Z"
   },
   {
    "duration": 14,
    "start_time": "2021-10-01T16:07:39.068Z"
   },
   {
    "duration": 4,
    "start_time": "2021-10-01T16:07:39.117Z"
   },
   {
    "duration": 14,
    "start_time": "2021-10-01T16:07:39.123Z"
   },
   {
    "duration": 9,
    "start_time": "2021-10-01T16:07:39.139Z"
   },
   {
    "duration": 37,
    "start_time": "2021-10-01T16:07:39.150Z"
   },
   {
    "duration": 44,
    "start_time": "2021-10-01T16:07:39.189Z"
   },
   {
    "duration": 22,
    "start_time": "2021-10-01T16:07:39.235Z"
   },
   {
    "duration": 15,
    "start_time": "2021-10-01T16:07:39.260Z"
   },
   {
    "duration": 420,
    "start_time": "2021-10-01T16:07:39.277Z"
   },
   {
    "duration": 27,
    "start_time": "2021-10-01T16:07:39.699Z"
   },
   {
    "duration": 28,
    "start_time": "2021-10-01T16:07:39.728Z"
   },
   {
    "duration": 14,
    "start_time": "2021-10-01T16:07:39.758Z"
   },
   {
    "duration": 46,
    "start_time": "2021-10-01T16:07:39.774Z"
   },
   {
    "duration": 14,
    "start_time": "2021-10-01T16:07:39.823Z"
   },
   {
    "duration": 12,
    "start_time": "2021-10-01T16:07:39.847Z"
   },
   {
    "duration": 1678,
    "start_time": "2021-10-01T16:07:39.864Z"
   },
   {
    "duration": 37,
    "start_time": "2021-10-01T16:07:41.545Z"
   },
   {
    "duration": 1652,
    "start_time": "2021-10-01T16:07:41.585Z"
   },
   {
    "duration": 36,
    "start_time": "2021-10-01T16:07:43.240Z"
   },
   {
    "duration": 1747,
    "start_time": "2021-10-01T16:07:43.279Z"
   },
   {
    "duration": 35,
    "start_time": "2021-10-01T16:07:45.028Z"
   },
   {
    "duration": 1664,
    "start_time": "2021-10-01T16:07:45.065Z"
   },
   {
    "duration": 29,
    "start_time": "2021-10-01T16:07:46.733Z"
   },
   {
    "duration": 3,
    "start_time": "2021-10-01T16:07:46.764Z"
   },
   {
    "duration": 13,
    "start_time": "2021-10-01T16:07:46.769Z"
   },
   {
    "duration": 1707,
    "start_time": "2021-10-01T16:07:46.784Z"
   },
   {
    "duration": 52,
    "start_time": "2021-10-01T16:07:48.494Z"
   },
   {
    "duration": 24,
    "start_time": "2021-10-01T16:07:48.549Z"
   },
   {
    "duration": 45,
    "start_time": "2021-10-01T16:07:48.575Z"
   },
   {
    "duration": 23,
    "start_time": "2021-10-01T16:07:48.623Z"
   },
   {
    "duration": 16,
    "start_time": "2021-10-01T16:07:48.648Z"
   },
   {
    "duration": 1910,
    "start_time": "2021-10-01T16:07:48.666Z"
   },
   {
    "duration": 46,
    "start_time": "2021-10-01T16:07:50.578Z"
   },
   {
    "duration": 15,
    "start_time": "2021-10-01T16:07:50.627Z"
   },
   {
    "duration": 17,
    "start_time": "2021-10-01T16:07:50.644Z"
   },
   {
    "duration": 9,
    "start_time": "2021-10-01T16:07:50.663Z"
   },
   {
    "duration": 117,
    "start_time": "2021-10-01T16:07:50.675Z"
   },
   {
    "duration": 5,
    "start_time": "2021-10-01T16:07:50.794Z"
   },
   {
    "duration": 14,
    "start_time": "2021-10-01T16:07:50.802Z"
   },
   {
    "duration": 24,
    "start_time": "2021-10-01T16:07:50.819Z"
   },
   {
    "duration": 8792,
    "start_time": "2021-10-01T16:07:50.845Z"
   },
   {
    "duration": 563365,
    "start_time": "2021-10-01T16:07:59.639Z"
   },
   {
    "duration": 2719,
    "start_time": "2021-10-01T16:17:23.007Z"
   },
   {
    "duration": 193886,
    "start_time": "2021-10-01T16:17:25.816Z"
   },
   {
    "duration": 13,
    "start_time": "2021-10-01T16:20:39.705Z"
   },
   {
    "duration": 48452,
    "start_time": "2021-10-01T16:20:39.721Z"
   },
   {
    "duration": 50,
    "start_time": "2021-10-01T16:21:28.176Z"
   },
   {
    "duration": 435,
    "start_time": "2021-10-01T16:21:28.229Z"
   },
   {
    "duration": 33,
    "start_time": "2021-10-01T16:24:30.957Z"
   },
   {
    "duration": 621,
    "start_time": "2021-10-01T16:25:21.635Z"
   },
   {
    "duration": 436,
    "start_time": "2021-10-01T16:26:07.450Z"
   },
   {
    "duration": 23,
    "start_time": "2021-10-01T16:26:54.493Z"
   },
   {
    "duration": 1686,
    "start_time": "2021-10-01T20:19:35.075Z"
   },
   {
    "duration": 906,
    "start_time": "2021-10-01T20:19:36.763Z"
   },
   {
    "duration": 44,
    "start_time": "2021-10-01T20:19:37.676Z"
   },
   {
    "duration": 44,
    "start_time": "2021-10-01T20:19:37.722Z"
   },
   {
    "duration": 48,
    "start_time": "2021-10-01T20:19:37.768Z"
   },
   {
    "duration": 12,
    "start_time": "2021-10-01T20:19:37.819Z"
   },
   {
    "duration": 11,
    "start_time": "2021-10-01T20:19:37.835Z"
   },
   {
    "duration": 30,
    "start_time": "2021-10-01T20:19:37.849Z"
   },
   {
    "duration": 14,
    "start_time": "2021-10-01T20:19:37.916Z"
   },
   {
    "duration": 32,
    "start_time": "2021-10-01T20:19:37.932Z"
   },
   {
    "duration": 6,
    "start_time": "2021-10-01T20:19:37.966Z"
   },
   {
    "duration": 17,
    "start_time": "2021-10-01T20:19:37.975Z"
   },
   {
    "duration": 26,
    "start_time": "2021-10-01T20:19:37.994Z"
   },
   {
    "duration": 18,
    "start_time": "2021-10-01T20:19:38.023Z"
   },
   {
    "duration": 5,
    "start_time": "2021-10-01T20:19:38.043Z"
   },
   {
    "duration": 42,
    "start_time": "2021-10-01T20:19:38.050Z"
   },
   {
    "duration": 37,
    "start_time": "2021-10-01T20:19:38.094Z"
   },
   {
    "duration": 20,
    "start_time": "2021-10-01T20:19:38.134Z"
   },
   {
    "duration": 12,
    "start_time": "2021-10-01T20:19:38.157Z"
   },
   {
    "duration": 416,
    "start_time": "2021-10-01T20:19:38.171Z"
   },
   {
    "duration": 26,
    "start_time": "2021-10-01T20:19:38.590Z"
   },
   {
    "duration": 27,
    "start_time": "2021-10-01T20:19:38.622Z"
   },
   {
    "duration": 14,
    "start_time": "2021-10-01T20:19:38.652Z"
   },
   {
    "duration": 12,
    "start_time": "2021-10-01T20:19:38.669Z"
   },
   {
    "duration": 40,
    "start_time": "2021-10-01T20:19:38.683Z"
   },
   {
    "duration": 11,
    "start_time": "2021-10-01T20:19:38.726Z"
   },
   {
    "duration": 1763,
    "start_time": "2021-10-01T20:19:38.741Z"
   },
   {
    "duration": 36,
    "start_time": "2021-10-01T20:19:40.507Z"
   },
   {
    "duration": 1635,
    "start_time": "2021-10-01T20:19:40.546Z"
   },
   {
    "duration": 48,
    "start_time": "2021-10-01T20:19:42.184Z"
   },
   {
    "duration": 1610,
    "start_time": "2021-10-01T20:19:42.235Z"
   },
   {
    "duration": 37,
    "start_time": "2021-10-01T20:19:43.848Z"
   },
   {
    "duration": 1733,
    "start_time": "2021-10-01T20:19:43.888Z"
   },
   {
    "duration": 29,
    "start_time": "2021-10-01T20:19:45.623Z"
   },
   {
    "duration": 3,
    "start_time": "2021-10-01T20:19:45.655Z"
   },
   {
    "duration": 19,
    "start_time": "2021-10-01T20:19:45.661Z"
   },
   {
    "duration": 1567,
    "start_time": "2021-10-01T20:19:45.682Z"
   },
   {
    "duration": 44,
    "start_time": "2021-10-01T20:19:47.252Z"
   },
   {
    "duration": 40,
    "start_time": "2021-10-01T20:19:47.298Z"
   },
   {
    "duration": 18,
    "start_time": "2021-10-01T20:19:47.340Z"
   },
   {
    "duration": 30,
    "start_time": "2021-10-01T20:19:47.361Z"
   },
   {
    "duration": 17,
    "start_time": "2021-10-01T20:19:47.417Z"
   },
   {
    "duration": 1708,
    "start_time": "2021-10-01T20:19:47.436Z"
   },
   {
    "duration": 34,
    "start_time": "2021-10-01T20:19:49.146Z"
   },
   {
    "duration": 37,
    "start_time": "2021-10-01T20:19:49.182Z"
   },
   {
    "duration": 12,
    "start_time": "2021-10-01T20:19:49.221Z"
   },
   {
    "duration": 14,
    "start_time": "2021-10-01T20:19:49.235Z"
   },
   {
    "duration": 100,
    "start_time": "2021-10-01T20:19:49.251Z"
   },
   {
    "duration": 6,
    "start_time": "2021-10-01T20:19:49.353Z"
   },
   {
    "duration": 5,
    "start_time": "2021-10-01T20:19:49.361Z"
   },
   {
    "duration": 34,
    "start_time": "2021-10-01T20:19:49.368Z"
   },
   {
    "duration": 8428,
    "start_time": "2021-10-01T20:19:49.405Z"
   },
   {
    "duration": 716976,
    "start_time": "2021-10-01T20:19:57.835Z"
   },
   {
    "duration": 1703,
    "start_time": "2021-10-01T20:31:54.817Z"
   },
   {
    "duration": 182387,
    "start_time": "2021-10-01T20:31:56.523Z"
   },
   {
    "duration": 8,
    "start_time": "2021-10-01T20:34:58.912Z"
   },
   {
    "duration": 47423,
    "start_time": "2021-10-01T20:34:58.922Z"
   },
   {
    "duration": 23,
    "start_time": "2021-10-01T20:35:46.347Z"
   },
   {
    "duration": 430,
    "start_time": "2021-10-01T20:35:46.372Z"
   },
   {
    "duration": 1256,
    "start_time": "2021-10-02T07:11:16.702Z"
   },
   {
    "duration": 741,
    "start_time": "2021-10-02T07:11:17.960Z"
   },
   {
    "duration": 18,
    "start_time": "2021-10-02T07:11:18.703Z"
   },
   {
    "duration": 41,
    "start_time": "2021-10-02T07:11:18.722Z"
   },
   {
    "duration": 15,
    "start_time": "2021-10-02T07:11:18.764Z"
   },
   {
    "duration": 7,
    "start_time": "2021-10-02T07:11:18.781Z"
   },
   {
    "duration": 7,
    "start_time": "2021-10-02T07:11:18.790Z"
   },
   {
    "duration": 18,
    "start_time": "2021-10-02T07:11:18.799Z"
   },
   {
    "duration": 37,
    "start_time": "2021-10-02T07:11:18.819Z"
   },
   {
    "duration": 19,
    "start_time": "2021-10-02T07:11:18.859Z"
   },
   {
    "duration": 4,
    "start_time": "2021-10-02T07:11:18.880Z"
   },
   {
    "duration": 10,
    "start_time": "2021-10-02T07:11:18.886Z"
   },
   {
    "duration": 5,
    "start_time": "2021-10-02T07:11:18.897Z"
   },
   {
    "duration": 6,
    "start_time": "2021-10-02T07:11:18.904Z"
   },
   {
    "duration": 5,
    "start_time": "2021-10-02T07:11:18.912Z"
   },
   {
    "duration": 52,
    "start_time": "2021-10-02T07:11:18.918Z"
   },
   {
    "duration": 13,
    "start_time": "2021-10-02T07:11:18.972Z"
   },
   {
    "duration": 13,
    "start_time": "2021-10-02T07:11:18.986Z"
   },
   {
    "duration": 11,
    "start_time": "2021-10-02T07:11:19.001Z"
   },
   {
    "duration": 240,
    "start_time": "2021-10-02T07:11:19.013Z"
   },
   {
    "duration": 11,
    "start_time": "2021-10-02T07:11:19.255Z"
   },
   {
    "duration": 24,
    "start_time": "2021-10-02T07:11:19.268Z"
   },
   {
    "duration": 10,
    "start_time": "2021-10-02T07:11:19.294Z"
   },
   {
    "duration": 10,
    "start_time": "2021-10-02T07:11:19.306Z"
   },
   {
    "duration": 36,
    "start_time": "2021-10-02T07:11:19.318Z"
   },
   {
    "duration": 7,
    "start_time": "2021-10-02T07:11:19.356Z"
   },
   {
    "duration": 991,
    "start_time": "2021-10-02T07:11:19.367Z"
   },
   {
    "duration": 24,
    "start_time": "2021-10-02T07:11:20.360Z"
   },
   {
    "duration": 920,
    "start_time": "2021-10-02T07:11:20.386Z"
   },
   {
    "duration": 23,
    "start_time": "2021-10-02T07:11:21.308Z"
   },
   {
    "duration": 933,
    "start_time": "2021-10-02T07:11:21.332Z"
   },
   {
    "duration": 23,
    "start_time": "2021-10-02T07:11:22.267Z"
   },
   {
    "duration": 1057,
    "start_time": "2021-10-02T07:11:22.292Z"
   },
   {
    "duration": 20,
    "start_time": "2021-10-02T07:11:23.351Z"
   },
   {
    "duration": 3,
    "start_time": "2021-10-02T07:11:23.373Z"
   },
   {
    "duration": 21,
    "start_time": "2021-10-02T07:11:23.378Z"
   },
   {
    "duration": 885,
    "start_time": "2021-10-02T07:11:23.400Z"
   },
   {
    "duration": 32,
    "start_time": "2021-10-02T07:11:24.287Z"
   },
   {
    "duration": 31,
    "start_time": "2021-10-02T07:11:24.321Z"
   },
   {
    "duration": 12,
    "start_time": "2021-10-02T07:11:24.353Z"
   },
   {
    "duration": 23,
    "start_time": "2021-10-02T07:11:24.367Z"
   },
   {
    "duration": 12,
    "start_time": "2021-10-02T07:11:24.391Z"
   },
   {
    "duration": 1025,
    "start_time": "2021-10-02T07:11:24.405Z"
   },
   {
    "duration": 33,
    "start_time": "2021-10-02T07:11:25.431Z"
   },
   {
    "duration": 11,
    "start_time": "2021-10-02T07:11:25.465Z"
   },
   {
    "duration": 6,
    "start_time": "2021-10-02T07:11:25.477Z"
   },
   {
    "duration": 7,
    "start_time": "2021-10-02T07:11:25.485Z"
   },
   {
    "duration": 97,
    "start_time": "2021-10-02T07:11:25.493Z"
   },
   {
    "duration": 5,
    "start_time": "2021-10-02T07:11:25.592Z"
   },
   {
    "duration": 5,
    "start_time": "2021-10-02T07:11:25.598Z"
   },
   {
    "duration": 21,
    "start_time": "2021-10-02T07:11:25.605Z"
   },
   {
    "duration": 8022,
    "start_time": "2021-10-02T07:11:25.628Z"
   },
   {
    "duration": 536368,
    "start_time": "2021-10-02T07:11:33.652Z"
   },
   {
    "duration": 1229,
    "start_time": "2021-10-02T07:20:30.022Z"
   },
   {
    "duration": 138464,
    "start_time": "2021-10-02T07:20:31.253Z"
   },
   {
    "duration": 4,
    "start_time": "2021-10-02T07:22:49.719Z"
   },
   {
    "duration": 35661,
    "start_time": "2021-10-02T07:22:49.725Z"
   },
   {
    "duration": 16,
    "start_time": "2021-10-02T07:23:25.388Z"
   },
   {
    "duration": 270,
    "start_time": "2021-10-02T07:23:25.405Z"
   },
   {
    "duration": 301,
    "start_time": "2021-10-02T14:12:49.465Z"
   },
   {
    "duration": 1626,
    "start_time": "2021-10-02T14:13:00.032Z"
   },
   {
    "duration": 932,
    "start_time": "2021-10-02T14:13:01.663Z"
   },
   {
    "duration": 31,
    "start_time": "2021-10-02T14:13:02.598Z"
   },
   {
    "duration": 71,
    "start_time": "2021-10-02T14:13:02.632Z"
   },
   {
    "duration": 27,
    "start_time": "2021-10-02T14:13:02.706Z"
   },
   {
    "duration": 29,
    "start_time": "2021-10-02T14:13:02.736Z"
   },
   {
    "duration": 11,
    "start_time": "2021-10-02T14:13:02.767Z"
   },
   {
    "duration": 28,
    "start_time": "2021-10-02T14:13:02.781Z"
   },
   {
    "duration": 51,
    "start_time": "2021-10-02T14:13:02.813Z"
   },
   {
    "duration": 25,
    "start_time": "2021-10-02T14:13:02.866Z"
   },
   {
    "duration": 6,
    "start_time": "2021-10-02T14:13:02.894Z"
   },
   {
    "duration": 15,
    "start_time": "2021-10-02T14:13:02.903Z"
   },
   {
    "duration": 42,
    "start_time": "2021-10-02T14:13:02.921Z"
   },
   {
    "duration": 10,
    "start_time": "2021-10-02T14:13:02.966Z"
   },
   {
    "duration": 25,
    "start_time": "2021-10-02T14:13:02.979Z"
   },
   {
    "duration": 39,
    "start_time": "2021-10-02T14:13:03.006Z"
   },
   {
    "duration": 32,
    "start_time": "2021-10-02T14:13:03.047Z"
   },
   {
    "duration": 22,
    "start_time": "2021-10-02T14:13:03.081Z"
   },
   {
    "duration": 14,
    "start_time": "2021-10-02T14:13:03.106Z"
   },
   {
    "duration": 415,
    "start_time": "2021-10-02T14:13:03.123Z"
   },
   {
    "duration": 22,
    "start_time": "2021-10-02T14:13:03.541Z"
   },
   {
    "duration": 27,
    "start_time": "2021-10-02T14:13:03.566Z"
   },
   {
    "duration": 14,
    "start_time": "2021-10-02T14:13:03.599Z"
   },
   {
    "duration": 49,
    "start_time": "2021-10-02T14:13:03.616Z"
   },
   {
    "duration": 10,
    "start_time": "2021-10-02T14:13:03.667Z"
   },
   {
    "duration": 10,
    "start_time": "2021-10-02T14:13:03.679Z"
   },
   {
    "duration": 1688,
    "start_time": "2021-10-02T14:13:03.691Z"
   },
   {
    "duration": 43,
    "start_time": "2021-10-02T14:13:05.382Z"
   },
   {
    "duration": 1808,
    "start_time": "2021-10-02T14:13:05.428Z"
   },
   {
    "duration": 47,
    "start_time": "2021-10-02T14:13:07.239Z"
   },
   {
    "duration": 1596,
    "start_time": "2021-10-02T14:13:07.288Z"
   },
   {
    "duration": 36,
    "start_time": "2021-10-02T14:13:08.886Z"
   },
   {
    "duration": 1789,
    "start_time": "2021-10-02T14:13:08.924Z"
   },
   {
    "duration": 29,
    "start_time": "2021-10-02T14:13:10.715Z"
   },
   {
    "duration": 3,
    "start_time": "2021-10-02T14:13:10.762Z"
   },
   {
    "duration": 19,
    "start_time": "2021-10-02T14:13:10.768Z"
   },
   {
    "duration": 1596,
    "start_time": "2021-10-02T14:13:10.790Z"
   },
   {
    "duration": 44,
    "start_time": "2021-10-02T14:13:12.388Z"
   },
   {
    "duration": 44,
    "start_time": "2021-10-02T14:13:12.435Z"
   },
   {
    "duration": 19,
    "start_time": "2021-10-02T14:13:12.482Z"
   },
   {
    "duration": 23,
    "start_time": "2021-10-02T14:13:12.503Z"
   },
   {
    "duration": 46,
    "start_time": "2021-10-02T14:13:12.529Z"
   },
   {
    "duration": 1758,
    "start_time": "2021-10-02T14:13:12.577Z"
   },
   {
    "duration": 57,
    "start_time": "2021-10-02T14:13:14.338Z"
   },
   {
    "duration": 18,
    "start_time": "2021-10-02T14:13:14.398Z"
   },
   {
    "duration": 9,
    "start_time": "2021-10-02T14:13:14.419Z"
   },
   {
    "duration": 7,
    "start_time": "2021-10-02T14:13:14.462Z"
   },
   {
    "duration": 105,
    "start_time": "2021-10-02T14:13:14.471Z"
   },
   {
    "duration": 6,
    "start_time": "2021-10-02T14:13:14.578Z"
   },
   {
    "duration": 9,
    "start_time": "2021-10-02T14:13:14.586Z"
   },
   {
    "duration": 24,
    "start_time": "2021-10-02T14:13:14.597Z"
   },
   {
    "duration": 8241,
    "start_time": "2021-10-02T14:13:14.623Z"
   },
   {
    "duration": 748702,
    "start_time": "2021-10-02T14:13:22.866Z"
   },
   {
    "duration": 186446,
    "start_time": "2021-10-02T14:25:51.571Z"
   },
   {
    "duration": 6,
    "start_time": "2021-10-02T14:28:58.020Z"
   },
   {
    "duration": 46556,
    "start_time": "2021-10-02T14:28:58.028Z"
   },
   {
    "duration": 11,
    "start_time": "2021-10-02T14:29:44.586Z"
   },
   {
    "duration": 26,
    "start_time": "2021-10-02T14:29:44.600Z"
   },
   {
    "duration": 439,
    "start_time": "2021-10-02T14:29:44.628Z"
   },
   {
    "duration": 8,
    "start_time": "2021-10-02T14:40:19.874Z"
   },
   {
    "duration": 446,
    "start_time": "2021-10-02T14:40:33.118Z"
   },
   {
    "duration": 274,
    "start_time": "2021-10-02T14:40:35.703Z"
   },
   {
    "duration": 303,
    "start_time": "2021-10-02T14:40:46.011Z"
   },
   {
    "duration": 332,
    "start_time": "2021-10-02T14:41:01.043Z"
   },
   {
    "duration": 5,
    "start_time": "2021-10-02T14:41:11.363Z"
   },
   {
    "duration": 1426,
    "start_time": "2021-10-02T16:27:58.045Z"
   },
   {
    "duration": 903,
    "start_time": "2021-10-02T16:28:16.263Z"
   },
   {
    "duration": 24,
    "start_time": "2021-10-02T16:31:21.748Z"
   },
   {
    "duration": 24,
    "start_time": "2021-10-02T16:31:27.288Z"
   },
   {
    "duration": 13,
    "start_time": "2021-10-02T16:35:07.868Z"
   },
   {
    "duration": 13,
    "start_time": "2021-10-02T16:35:14.063Z"
   },
   {
    "duration": 15,
    "start_time": "2021-10-02T16:35:40.913Z"
   },
   {
    "duration": 1404,
    "start_time": "2021-10-02T17:50:17.665Z"
   },
   {
    "duration": 37184,
    "start_time": "2021-10-02T17:50:49.481Z"
   },
   {
    "duration": 956402,
    "start_time": "2021-10-02T17:51:47.995Z"
   },
   {
    "duration": 52301,
    "start_time": "2021-10-02T18:14:16.492Z"
   },
   {
    "duration": 13420,
    "start_time": "2021-10-02T18:16:01.689Z"
   },
   {
    "duration": 24,
    "start_time": "2021-10-02T18:16:15.112Z"
   },
   {
    "duration": 410,
    "start_time": "2021-10-02T18:16:32.183Z"
   },
   {
    "duration": 1522,
    "start_time": "2021-10-02T18:18:10.906Z"
   },
   {
    "duration": 920,
    "start_time": "2021-10-02T18:18:12.431Z"
   },
   {
    "duration": 35,
    "start_time": "2021-10-02T18:18:13.354Z"
   },
   {
    "duration": 48,
    "start_time": "2021-10-02T18:18:13.392Z"
   },
   {
    "duration": 25,
    "start_time": "2021-10-02T18:18:13.461Z"
   },
   {
    "duration": 22,
    "start_time": "2021-10-02T18:18:13.489Z"
   },
   {
    "duration": 12,
    "start_time": "2021-10-02T18:18:13.514Z"
   },
   {
    "duration": 57,
    "start_time": "2021-10-02T18:18:13.530Z"
   },
   {
    "duration": 16,
    "start_time": "2021-10-02T18:18:13.590Z"
   },
   {
    "duration": 23,
    "start_time": "2021-10-02T18:18:13.608Z"
   },
   {
    "duration": 29,
    "start_time": "2021-10-02T18:18:13.634Z"
   },
   {
    "duration": 11,
    "start_time": "2021-10-02T18:18:13.666Z"
   },
   {
    "duration": 7,
    "start_time": "2021-10-02T18:18:13.679Z"
   },
   {
    "duration": 11,
    "start_time": "2021-10-02T18:18:13.688Z"
   },
   {
    "duration": 8,
    "start_time": "2021-10-02T18:18:13.701Z"
   },
   {
    "duration": 72,
    "start_time": "2021-10-02T18:18:13.711Z"
   },
   {
    "duration": 17,
    "start_time": "2021-10-02T18:18:13.785Z"
   },
   {
    "duration": 20,
    "start_time": "2021-10-02T18:18:13.804Z"
   },
   {
    "duration": 44,
    "start_time": "2021-10-02T18:18:13.826Z"
   },
   {
    "duration": 412,
    "start_time": "2021-10-02T18:18:13.873Z"
   },
   {
    "duration": 15,
    "start_time": "2021-10-02T18:18:14.288Z"
   },
   {
    "duration": 26,
    "start_time": "2021-10-02T18:18:14.305Z"
   },
   {
    "duration": 15,
    "start_time": "2021-10-02T18:18:14.361Z"
   },
   {
    "duration": 12,
    "start_time": "2021-10-02T18:18:14.379Z"
   },
   {
    "duration": 10,
    "start_time": "2021-10-02T18:18:14.394Z"
   },
   {
    "duration": 10,
    "start_time": "2021-10-02T18:18:14.406Z"
   },
   {
    "duration": 1753,
    "start_time": "2021-10-02T18:18:14.418Z"
   },
   {
    "duration": 36,
    "start_time": "2021-10-02T18:18:16.174Z"
   },
   {
    "duration": 1655,
    "start_time": "2021-10-02T18:18:16.212Z"
   },
   {
    "duration": 35,
    "start_time": "2021-10-02T18:18:17.869Z"
   },
   {
    "duration": 1655,
    "start_time": "2021-10-02T18:18:17.907Z"
   },
   {
    "duration": 36,
    "start_time": "2021-10-02T18:18:19.565Z"
   },
   {
    "duration": 1747,
    "start_time": "2021-10-02T18:18:19.604Z"
   },
   {
    "duration": 30,
    "start_time": "2021-10-02T18:18:21.362Z"
   },
   {
    "duration": 3,
    "start_time": "2021-10-02T18:18:21.395Z"
   },
   {
    "duration": 18,
    "start_time": "2021-10-02T18:18:21.400Z"
   },
   {
    "duration": 1630,
    "start_time": "2021-10-02T18:18:21.420Z"
   },
   {
    "duration": 49,
    "start_time": "2021-10-02T18:18:23.052Z"
   },
   {
    "duration": 25,
    "start_time": "2021-10-02T18:18:23.103Z"
   },
   {
    "duration": 48,
    "start_time": "2021-10-02T18:18:23.130Z"
   },
   {
    "duration": 23,
    "start_time": "2021-10-02T18:18:23.181Z"
   },
   {
    "duration": 15,
    "start_time": "2021-10-02T18:18:23.207Z"
   },
   {
    "duration": 1777,
    "start_time": "2021-10-02T18:18:23.224Z"
   },
   {
    "duration": 39,
    "start_time": "2021-10-02T18:18:25.003Z"
   },
   {
    "duration": 15,
    "start_time": "2021-10-02T18:18:25.061Z"
   },
   {
    "duration": 9,
    "start_time": "2021-10-02T18:18:25.079Z"
   },
   {
    "duration": 9,
    "start_time": "2021-10-02T18:18:25.090Z"
   },
   {
    "duration": 126,
    "start_time": "2021-10-02T18:18:25.101Z"
   },
   {
    "duration": 5,
    "start_time": "2021-10-02T18:18:25.230Z"
   },
   {
    "duration": 5,
    "start_time": "2021-10-02T18:18:25.238Z"
   },
   {
    "duration": 9,
    "start_time": "2021-10-02T18:18:25.262Z"
   },
   {
    "duration": 1801,
    "start_time": "2021-10-02T18:18:25.273Z"
   },
   {
    "duration": 965969,
    "start_time": "2021-10-02T18:18:27.077Z"
   },
   {
    "duration": 52143,
    "start_time": "2021-10-02T18:34:33.049Z"
   },
   {
    "duration": 13157,
    "start_time": "2021-10-02T18:35:25.194Z"
   },
   {
    "duration": 26,
    "start_time": "2021-10-02T18:35:38.353Z"
   },
   {
    "duration": 414,
    "start_time": "2021-10-02T18:35:38.382Z"
   },
   {
    "duration": 1150,
    "start_time": "2021-10-03T08:08:34.046Z"
   },
   {
    "duration": 712,
    "start_time": "2021-10-03T08:08:35.199Z"
   },
   {
    "duration": 19,
    "start_time": "2021-10-03T08:08:35.913Z"
   },
   {
    "duration": 29,
    "start_time": "2021-10-03T08:08:35.934Z"
   },
   {
    "duration": 39,
    "start_time": "2021-10-03T08:08:35.964Z"
   },
   {
    "duration": 8,
    "start_time": "2021-10-03T08:08:36.005Z"
   },
   {
    "duration": 7,
    "start_time": "2021-10-03T08:08:36.015Z"
   },
   {
    "duration": 19,
    "start_time": "2021-10-03T08:08:36.025Z"
   },
   {
    "duration": 5,
    "start_time": "2021-10-03T08:08:36.046Z"
   },
   {
    "duration": 47,
    "start_time": "2021-10-03T08:08:36.053Z"
   },
   {
    "duration": 5,
    "start_time": "2021-10-03T08:08:36.102Z"
   },
   {
    "duration": 12,
    "start_time": "2021-10-03T08:08:36.109Z"
   },
   {
    "duration": 7,
    "start_time": "2021-10-03T08:08:36.122Z"
   },
   {
    "duration": 6,
    "start_time": "2021-10-03T08:08:36.130Z"
   },
   {
    "duration": 5,
    "start_time": "2021-10-03T08:08:36.137Z"
   },
   {
    "duration": 25,
    "start_time": "2021-10-03T08:08:36.143Z"
   },
   {
    "duration": 41,
    "start_time": "2021-10-03T08:08:36.169Z"
   },
   {
    "duration": 12,
    "start_time": "2021-10-03T08:08:36.212Z"
   },
   {
    "duration": 10,
    "start_time": "2021-10-03T08:08:36.226Z"
   },
   {
    "duration": 230,
    "start_time": "2021-10-03T08:08:36.238Z"
   },
   {
    "duration": 10,
    "start_time": "2021-10-03T08:08:36.469Z"
   },
   {
    "duration": 37,
    "start_time": "2021-10-03T08:08:36.480Z"
   },
   {
    "duration": 15,
    "start_time": "2021-10-03T08:08:36.522Z"
   },
   {
    "duration": 11,
    "start_time": "2021-10-03T08:08:36.540Z"
   },
   {
    "duration": 8,
    "start_time": "2021-10-03T08:08:36.553Z"
   },
   {
    "duration": 38,
    "start_time": "2021-10-03T08:08:36.563Z"
   },
   {
    "duration": 1017,
    "start_time": "2021-10-03T08:08:36.603Z"
   },
   {
    "duration": 23,
    "start_time": "2021-10-03T08:08:37.622Z"
   },
   {
    "duration": 966,
    "start_time": "2021-10-03T08:08:37.647Z"
   },
   {
    "duration": 23,
    "start_time": "2021-10-03T08:08:38.615Z"
   },
   {
    "duration": 970,
    "start_time": "2021-10-03T08:08:38.640Z"
   },
   {
    "duration": 23,
    "start_time": "2021-10-03T08:08:39.612Z"
   },
   {
    "duration": 1055,
    "start_time": "2021-10-03T08:08:39.637Z"
   },
   {
    "duration": 24,
    "start_time": "2021-10-03T08:08:40.695Z"
   },
   {
    "duration": 3,
    "start_time": "2021-10-03T08:08:40.721Z"
   },
   {
    "duration": 9,
    "start_time": "2021-10-03T08:08:40.726Z"
   },
   {
    "duration": 978,
    "start_time": "2021-10-03T08:08:40.737Z"
   },
   {
    "duration": 37,
    "start_time": "2021-10-03T08:08:41.717Z"
   },
   {
    "duration": 14,
    "start_time": "2021-10-03T08:08:41.756Z"
   },
   {
    "duration": 32,
    "start_time": "2021-10-03T08:08:41.772Z"
   },
   {
    "duration": 15,
    "start_time": "2021-10-03T08:08:41.806Z"
   },
   {
    "duration": 9,
    "start_time": "2021-10-03T08:08:41.823Z"
   },
   {
    "duration": 1090,
    "start_time": "2021-10-03T08:08:41.834Z"
   },
   {
    "duration": 24,
    "start_time": "2021-10-03T08:08:42.926Z"
   },
   {
    "duration": 11,
    "start_time": "2021-10-03T08:08:42.952Z"
   },
   {
    "duration": 6,
    "start_time": "2021-10-03T08:08:42.964Z"
   },
   {
    "duration": 32,
    "start_time": "2021-10-03T08:08:42.972Z"
   },
   {
    "duration": 61,
    "start_time": "2021-10-03T08:08:43.005Z"
   },
   {
    "duration": 4,
    "start_time": "2021-10-03T08:08:43.068Z"
   },
   {
    "duration": 4,
    "start_time": "2021-10-03T08:08:43.073Z"
   },
   {
    "duration": 5,
    "start_time": "2021-10-03T08:08:43.099Z"
   },
   {
    "duration": 1296,
    "start_time": "2021-10-03T08:08:43.106Z"
   },
   {
    "duration": 711971,
    "start_time": "2021-10-03T08:08:44.404Z"
   },
   {
    "duration": 38338,
    "start_time": "2021-10-03T08:20:36.376Z"
   },
   {
    "duration": 9777,
    "start_time": "2021-10-03T08:21:14.716Z"
   },
   {
    "duration": 15,
    "start_time": "2021-10-03T08:21:24.495Z"
   },
   {
    "duration": 273,
    "start_time": "2021-10-03T08:21:24.511Z"
   },
   {
    "duration": 290,
    "start_time": "2021-10-03T08:23:24.576Z"
   },
   {
    "duration": 2079,
    "start_time": "2021-10-05T12:04:33.712Z"
   },
   {
    "duration": 1345,
    "start_time": "2021-10-05T12:04:35.795Z"
   },
   {
    "duration": 36,
    "start_time": "2021-10-05T12:04:37.144Z"
   },
   {
    "duration": 44,
    "start_time": "2021-10-05T12:04:37.183Z"
   },
   {
    "duration": 44,
    "start_time": "2021-10-05T12:04:37.229Z"
   },
   {
    "duration": 11,
    "start_time": "2021-10-05T12:04:37.276Z"
   },
   {
    "duration": 10,
    "start_time": "2021-10-05T12:04:37.290Z"
   },
   {
    "duration": 63,
    "start_time": "2021-10-05T12:04:37.303Z"
   },
   {
    "duration": 13,
    "start_time": "2021-10-05T12:04:37.370Z"
   },
   {
    "duration": 25,
    "start_time": "2021-10-05T12:04:37.387Z"
   },
   {
    "duration": 7,
    "start_time": "2021-10-05T12:04:37.415Z"
   },
   {
    "duration": 47,
    "start_time": "2021-10-05T12:04:37.425Z"
   },
   {
    "duration": 9,
    "start_time": "2021-10-05T12:04:37.474Z"
   },
   {
    "duration": 8,
    "start_time": "2021-10-05T12:04:37.486Z"
   },
   {
    "duration": 4,
    "start_time": "2021-10-05T12:04:37.496Z"
   },
   {
    "duration": 65,
    "start_time": "2021-10-05T12:04:37.502Z"
   },
   {
    "duration": 26,
    "start_time": "2021-10-05T12:04:37.569Z"
   },
   {
    "duration": 31,
    "start_time": "2021-10-05T12:04:37.598Z"
   },
   {
    "duration": 43,
    "start_time": "2021-10-05T12:04:37.632Z"
   },
   {
    "duration": 539,
    "start_time": "2021-10-05T12:04:37.678Z"
   },
   {
    "duration": 19,
    "start_time": "2021-10-05T12:04:38.220Z"
   },
   {
    "duration": 47,
    "start_time": "2021-10-05T12:04:38.242Z"
   },
   {
    "duration": 13,
    "start_time": "2021-10-05T12:04:38.292Z"
   },
   {
    "duration": 11,
    "start_time": "2021-10-05T12:04:38.307Z"
   },
   {
    "duration": 53,
    "start_time": "2021-10-05T12:04:38.320Z"
   },
   {
    "duration": 11,
    "start_time": "2021-10-05T12:04:38.376Z"
   },
   {
    "duration": 1745,
    "start_time": "2021-10-05T12:04:38.393Z"
   },
   {
    "duration": 55,
    "start_time": "2021-10-05T12:04:40.143Z"
   },
   {
    "duration": 1667,
    "start_time": "2021-10-05T12:04:40.200Z"
   },
   {
    "duration": 33,
    "start_time": "2021-10-05T12:04:41.869Z"
   },
   {
    "duration": 1686,
    "start_time": "2021-10-05T12:04:41.904Z"
   },
   {
    "duration": 36,
    "start_time": "2021-10-05T12:04:43.592Z"
   },
   {
    "duration": 1746,
    "start_time": "2021-10-05T12:04:43.631Z"
   },
   {
    "duration": 30,
    "start_time": "2021-10-05T12:04:45.380Z"
   },
   {
    "duration": 2,
    "start_time": "2021-10-05T12:04:45.413Z"
   },
   {
    "duration": 13,
    "start_time": "2021-10-05T12:04:45.418Z"
   },
   {
    "duration": 1780,
    "start_time": "2021-10-05T12:04:45.433Z"
   },
   {
    "duration": 60,
    "start_time": "2021-10-05T12:04:47.216Z"
   },
   {
    "duration": 30,
    "start_time": "2021-10-05T12:04:47.279Z"
   },
   {
    "duration": 58,
    "start_time": "2021-10-05T12:04:47.312Z"
   },
   {
    "duration": 33,
    "start_time": "2021-10-05T12:04:47.373Z"
   },
   {
    "duration": 16,
    "start_time": "2021-10-05T12:04:47.408Z"
   },
   {
    "duration": 1952,
    "start_time": "2021-10-05T12:04:47.426Z"
   },
   {
    "duration": 36,
    "start_time": "2021-10-05T12:04:49.380Z"
   },
   {
    "duration": 24,
    "start_time": "2021-10-05T12:04:49.419Z"
   },
   {
    "duration": 10,
    "start_time": "2021-10-05T12:04:49.468Z"
   },
   {
    "duration": 7,
    "start_time": "2021-10-05T12:04:49.481Z"
   },
   {
    "duration": 117,
    "start_time": "2021-10-05T12:04:49.491Z"
   },
   {
    "duration": 5,
    "start_time": "2021-10-05T12:04:49.611Z"
   },
   {
    "duration": 6,
    "start_time": "2021-10-05T12:04:49.618Z"
   },
   {
    "duration": 13,
    "start_time": "2021-10-05T12:04:49.627Z"
   },
   {
    "duration": 1934,
    "start_time": "2021-10-05T12:04:49.642Z"
   },
   {
    "duration": 972764,
    "start_time": "2021-10-05T12:04:51.582Z"
   },
   {
    "duration": 53150,
    "start_time": "2021-10-05T12:21:04.349Z"
   },
   {
    "duration": 13531,
    "start_time": "2021-10-05T12:21:57.501Z"
   },
   {
    "duration": 35,
    "start_time": "2021-10-05T12:22:11.035Z"
   },
   {
    "duration": 432,
    "start_time": "2021-10-05T12:22:11.072Z"
   }
  ],
  "kernelspec": {
   "display_name": "Python 3",
   "language": "python",
   "name": "python3"
  },
  "language_info": {
   "codemirror_mode": {
    "name": "ipython",
    "version": 3
   },
   "file_extension": ".py",
   "mimetype": "text/x-python",
   "name": "python",
   "nbconvert_exporter": "python",
   "pygments_lexer": "ipython3",
   "version": "3.8.8"
  },
  "toc": {
   "base_numbering": 1,
   "nav_menu": {},
   "number_sections": true,
   "sideBar": true,
   "skip_h1_title": true,
   "title_cell": "Содержание",
   "title_sidebar": "Contents",
   "toc_cell": true,
   "toc_position": {
    "height": "calc(100% - 180px)",
    "left": "10px",
    "top": "150px",
    "width": "326.441px"
   },
   "toc_section_display": true,
   "toc_window_display": true
  }
 },
 "nbformat": 4,
 "nbformat_minor": 2
}
