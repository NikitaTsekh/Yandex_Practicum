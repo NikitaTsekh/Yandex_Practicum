{
 "cells": [
  {
   "cell_type": "markdown",
   "metadata": {
    "toc": true
   },
   "source": [
    "<h1>Содержание<span class=\"tocSkip\"></span></h1>\n",
    "<div class=\"toc\"><ul class=\"toc-item\"><li><span><a href=\"#Подготовка\" data-toc-modified-id=\"Подготовка-1\"><span class=\"toc-item-num\">1&nbsp;&nbsp;</span>Подготовка</a></span></li><li><span><a href=\"#Обучение\" data-toc-modified-id=\"Обучение-2\"><span class=\"toc-item-num\">2&nbsp;&nbsp;</span>Обучение</a></span><ul class=\"toc-item\"><li><ul class=\"toc-item\"><li><span><a href=\"#Подготока-обучающей-и-валидационной-выборки\" data-toc-modified-id=\"Подготока-обучающей-и-валидационной-выборки-2.0.1\"><span class=\"toc-item-num\">2.0.1&nbsp;&nbsp;</span>Подготока обучающей и валидационной выборки</a></span></li><li><span><a href=\"#Логистическая-регрессия\" data-toc-modified-id=\"Логистическая-регрессия-2.0.2\"><span class=\"toc-item-num\">2.0.2&nbsp;&nbsp;</span>Логистическая регрессия</a></span></li><li><span><a href=\"#Дерево-решений\" data-toc-modified-id=\"Дерево-решений-2.0.3\"><span class=\"toc-item-num\">2.0.3&nbsp;&nbsp;</span>Дерево решений</a></span></li><li><span><a href=\"#Случайный-лес\" data-toc-modified-id=\"Случайный-лес-2.0.4\"><span class=\"toc-item-num\">2.0.4&nbsp;&nbsp;</span>Случайный лес</a></span></li><li><span><a href=\"#Градиентный-бустинг\" data-toc-modified-id=\"Градиентный-бустинг-2.0.5\"><span class=\"toc-item-num\">2.0.5&nbsp;&nbsp;</span>Градиентный бустинг</a></span></li><li><span><a href=\"#PassiveAgressiveClassifier\" data-toc-modified-id=\"PassiveAgressiveClassifier-2.0.6\"><span class=\"toc-item-num\">2.0.6&nbsp;&nbsp;</span>PassiveAgressiveClassifier</a></span></li></ul></li></ul></li><li><span><a href=\"#Выводы\" data-toc-modified-id=\"Выводы-3\"><span class=\"toc-item-num\">3&nbsp;&nbsp;</span>Выводы</a></span></li><li><span><a href=\"#Чек-лист-проверки\" data-toc-modified-id=\"Чек-лист-проверки-4\"><span class=\"toc-item-num\">4&nbsp;&nbsp;</span>Чек-лист проверки</a></span></li></ul></div>"
   ]
  },
  {
   "cell_type": "markdown",
   "metadata": {},
   "source": [
    "# Проект для «Викишоп»"
   ]
  },
  {
   "cell_type": "markdown",
   "metadata": {},
   "source": [
    "Интернет-магазин «Викишоп» запускает новый сервис. Теперь пользователи могут редактировать и дополнять описания товаров, как в вики-сообществах. То есть клиенты предлагают свои правки и комментируют изменения других. Магазину нужен инструмент, который будет искать токсичные комментарии и отправлять их на модерацию. \n",
    "\n",
    "Обучите модель классифицировать комментарии на позитивные и негативные. В вашем распоряжении набор данных с разметкой о токсичности правок.\n",
    "\n",
    "Постройте модель со значением метрики качества *F1* не меньше 0.75. \n",
    "\n",
    "**Инструкция по выполнению проекта**\n",
    "\n",
    "1. Загрузите и подготовьте данные.\n",
    "2. Обучите разные модели. \n",
    "3. Сделайте выводы.\n",
    "\n",
    "Для выполнения проекта применять *BERT* необязательно, но вы можете попробовать.\n",
    "\n",
    "**Описание данных**\n",
    "\n",
    "Данные находятся в файле `toxic_comments.csv`. Столбец *text* в нём содержит текст комментария, а *toxic* — целевой признак."
   ]
  },
  {
   "cell_type": "markdown",
   "metadata": {},
   "source": [
    "## Подготовка"
   ]
  },
  {
   "cell_type": "code",
   "execution_count": 1,
   "metadata": {},
   "outputs": [
    {
     "name": "stderr",
     "output_type": "stream",
     "text": [
      "[nltk_data] Downloading package stopwords to\n",
      "[nltk_data]     C:\\Users\\Admin\\AppData\\Roaming\\nltk_data...\n",
      "[nltk_data]   Package stopwords is already up-to-date!\n"
     ]
    }
   ],
   "source": [
    "import re\n",
    "import pandas as pd\n",
    "import warnings\n",
    "warnings.filterwarnings('ignore')\n",
    "import math\n",
    "import seaborn as sns\n",
    "from sklearn.utils import shuffle\n",
    "from sklearn.model_selection import train_test_split\n",
    "from sklearn.linear_model import LinearRegression\n",
    "from sklearn.linear_model import PassiveAggressiveClassifier \n",
    "from sklearn.linear_model import LogisticRegression\n",
    "from sklearn.tree import DecisionTreeRegressor\n",
    "from sklearn.tree import DecisionTreeClassifier\n",
    "from sklearn.model_selection import GridSearchCV\n",
    "from sklearn.ensemble import RandomForestClassifier\n",
    "from sklearn.linear_model import LinearRegression\n",
    "from sklearn.metrics import confusion_matrix\n",
    "from sklearn.metrics import mean_squared_error, r2_score, mean_absolute_error\n",
    "from sklearn.metrics import f1_score\n",
    "from sklearn.metrics import roc_auc_score \n",
    "from sklearn.metrics import recall_score\n",
    "from sklearn.metrics import precision_score\n",
    "from sklearn.preprocessing import StandardScaler \n",
    "from sklearn.linear_model import LogisticRegression\n",
    "from sklearn.dummy import DummyClassifier\n",
    "from sklearn.dummy import DummyRegressor\n",
    "from sklearn.metrics import accuracy_score \n",
    "import matplotlib.pyplot as plt\n",
    "from collections import Counter\n",
    "import numpy as np\n",
    "from scipy import stats as st\n",
    "from numpy.random import RandomState\n",
    "from sklearn.metrics import mean_squared_error\n",
    "from sklearn.ensemble import RandomForestRegressor\n",
    "from sklearn.model_selection import RandomizedSearchCV\n",
    "from sklearn.model_selection import train_test_split\n",
    "from sklearn.metrics import mean_squared_error\n",
    "import lightgbm as lgb\n",
    "from statsmodels.tsa.seasonal import seasonal_decompose\n",
    "from sklearn.model_selection import TimeSeriesSplit\n",
    "from sklearn.model_selection import cross_val_score\n",
    "from sklearn.feature_extraction.text import CountVectorizer \n",
    "from nltk.corpus import stopwords \n",
    "import nltk\n",
    "from sklearn.linear_model import LogisticRegression \n",
    "from nltk.corpus import stopwords as nltk_stopwords\n",
    "nltk.download('stopwords') \n",
    "from sklearn.feature_extraction.text import TfidfVectorizer \n",
    "from pymystem3 import Mystem\n",
    "m = Mystem() \n",
    "from nltk.stem import WordNetLemmatizer \n",
    "from lightgbm import LGBMClassifier\n",
    "from sklearn.dummy import DummyClassifier"
   ]
  },
  {
   "cell_type": "code",
   "execution_count": 2,
   "metadata": {
    "scrolled": false
   },
   "outputs": [
    {
     "data": {
      "text/html": [
       "<div>\n",
       "<style scoped>\n",
       "    .dataframe tbody tr th:only-of-type {\n",
       "        vertical-align: middle;\n",
       "    }\n",
       "\n",
       "    .dataframe tbody tr th {\n",
       "        vertical-align: top;\n",
       "    }\n",
       "\n",
       "    .dataframe thead th {\n",
       "        text-align: right;\n",
       "    }\n",
       "</style>\n",
       "<table border=\"1\" class=\"dataframe\">\n",
       "  <thead>\n",
       "    <tr style=\"text-align: right;\">\n",
       "      <th></th>\n",
       "      <th>text</th>\n",
       "      <th>toxic</th>\n",
       "    </tr>\n",
       "  </thead>\n",
       "  <tbody>\n",
       "    <tr>\n",
       "      <th>0</th>\n",
       "      <td>Explanation\\nWhy the edits made under my usern...</td>\n",
       "      <td>0</td>\n",
       "    </tr>\n",
       "    <tr>\n",
       "      <th>1</th>\n",
       "      <td>D'aww! He matches this background colour I'm s...</td>\n",
       "      <td>0</td>\n",
       "    </tr>\n",
       "    <tr>\n",
       "      <th>2</th>\n",
       "      <td>Hey man, I'm really not trying to edit war. It...</td>\n",
       "      <td>0</td>\n",
       "    </tr>\n",
       "    <tr>\n",
       "      <th>3</th>\n",
       "      <td>\"\\nMore\\nI can't make any real suggestions on ...</td>\n",
       "      <td>0</td>\n",
       "    </tr>\n",
       "    <tr>\n",
       "      <th>4</th>\n",
       "      <td>You, sir, are my hero. Any chance you remember...</td>\n",
       "      <td>0</td>\n",
       "    </tr>\n",
       "  </tbody>\n",
       "</table>\n",
       "</div>"
      ],
      "text/plain": [
       "                                                text  toxic\n",
       "0  Explanation\\nWhy the edits made under my usern...      0\n",
       "1  D'aww! He matches this background colour I'm s...      0\n",
       "2  Hey man, I'm really not trying to edit war. It...      0\n",
       "3  \"\\nMore\\nI can't make any real suggestions on ...      0\n",
       "4  You, sir, are my hero. Any chance you remember...      0"
      ]
     },
     "execution_count": 2,
     "metadata": {},
     "output_type": "execute_result"
    }
   ],
   "source": [
    "data = pd.read_csv('toxic_comments.csv')\n",
    "corpus = data['text'].values.astype('U')\n",
    "data.head()"
   ]
  },
  {
   "cell_type": "code",
   "execution_count": 3,
   "metadata": {},
   "outputs": [],
   "source": [
    "lemmatizer =  nltk.stem.WordNetLemmatizer()\n",
    "tokenizer=nltk.tokenize.WhitespaceTokenizer()\n"
   ]
  },
  {
   "cell_type": "markdown",
   "metadata": {},
   "source": [
    "Напишем функцию для токкенизации, лемматизации и очищения текстов:"
   ]
  },
  {
   "cell_type": "code",
   "execution_count": 4,
   "metadata": {},
   "outputs": [],
   "source": [
    "def clear_text(text):\n",
    "    return \" \".join(re.sub(r'[^a-zA-Z ]', ' ', text).split())  \n",
    "\n",
    "def lemmatize_text(text):\n",
    "    return ' '.join([lemmatizer.lemmatize(w,'v') for w in tokenizer.tokenize(text)])"
   ]
  },
  {
   "cell_type": "code",
   "execution_count": 5,
   "metadata": {
    "scrolled": false
   },
   "outputs": [
    {
     "name": "stdout",
     "output_type": "stream",
     "text": [
      "years cars\n",
      "Oh, and the girl above started her arguments with me. She stuck her nose where it doesn't belong. I believe the argument was between me and Yvesnimmo. But like I said, the situation was settled and I apologized. Thanks,\n"
     ]
    },
    {
     "data": {
      "text/plain": [
       "'Oh and the girl above start her arguments with me She stick her nose where it doesn t belong I believe the argument be between me and Yvesnimmo But like I say the situation be settle and I apologize Thanks'"
      ]
     },
     "execution_count": 5,
     "metadata": {},
     "output_type": "execute_result"
    }
   ],
   "source": [
    "#Проверим работу функции\n",
    "print(lemmatize_text(clear_text(\"years, cars\")))\n",
    "print(corpus[14])\n",
    "lemmatize_text(clear_text(corpus[14]))"
   ]
  },
  {
   "cell_type": "code",
   "execution_count": 6,
   "metadata": {
    "scrolled": true
   },
   "outputs": [
    {
     "name": "stdout",
     "output_type": "stream",
     "text": [
      "Wall time: 3min 57s\n"
     ]
    }
   ],
   "source": [
    "%%time\n",
    "data['lemm_text']=1\n",
    "for i in range(data.shape[0]):\n",
    "    data['lemm_text'][i]= lemmatize_text(clear_text(corpus[i]))"
   ]
  },
  {
   "cell_type": "code",
   "execution_count": 7,
   "metadata": {
    "scrolled": true
   },
   "outputs": [
    {
     "data": {
      "text/html": [
       "<div>\n",
       "<style scoped>\n",
       "    .dataframe tbody tr th:only-of-type {\n",
       "        vertical-align: middle;\n",
       "    }\n",
       "\n",
       "    .dataframe tbody tr th {\n",
       "        vertical-align: top;\n",
       "    }\n",
       "\n",
       "    .dataframe thead th {\n",
       "        text-align: right;\n",
       "    }\n",
       "</style>\n",
       "<table border=\"1\" class=\"dataframe\">\n",
       "  <thead>\n",
       "    <tr style=\"text-align: right;\">\n",
       "      <th></th>\n",
       "      <th>text</th>\n",
       "      <th>toxic</th>\n",
       "      <th>lemm_text</th>\n",
       "    </tr>\n",
       "  </thead>\n",
       "  <tbody>\n",
       "    <tr>\n",
       "      <th>97762</th>\n",
       "      <td>86.134.32.13\\nThis user is vandalising Ajith a...</td>\n",
       "      <td>0</td>\n",
       "      <td>This user be vandalise Ajith and Vijay actor a...</td>\n",
       "    </tr>\n",
       "    <tr>\n",
       "      <th>37599</th>\n",
       "      <td>I ask you... why would anyone need to know inf...</td>\n",
       "      <td>0</td>\n",
       "      <td>I ask you why would anyone need to know inform...</td>\n",
       "    </tr>\n",
       "    <tr>\n",
       "      <th>34872</th>\n",
       "      <td>Why \\nHowcome u want the Cibola Caounty Beacon...</td>\n",
       "      <td>0</td>\n",
       "      <td>Why Howcome u want the Cibola Caounty Beacon a...</td>\n",
       "    </tr>\n",
       "    <tr>\n",
       "      <th>4235</th>\n",
       "      <td>\"\\nno seriousy.  the only thing i think actual...</td>\n",
       "      <td>1</td>\n",
       "      <td>no seriousy the only thing i think actually do...</td>\n",
       "    </tr>\n",
       "    <tr>\n",
       "      <th>14356</th>\n",
       "      <td>It's my perception that the number of editors ...</td>\n",
       "      <td>0</td>\n",
       "      <td>It s my perception that the number of editors ...</td>\n",
       "    </tr>\n",
       "    <tr>\n",
       "      <th>50672</th>\n",
       "      <td>Big thanks to you and Red for helping promote ...</td>\n",
       "      <td>0</td>\n",
       "      <td>Big thank to you and Red for help promote this</td>\n",
       "    </tr>\n",
       "    <tr>\n",
       "      <th>123591</th>\n",
       "      <td>RepublicanJacobite thinks that he knows everyt...</td>\n",
       "      <td>0</td>\n",
       "      <td>RepublicanJacobite think that he know everythi...</td>\n",
       "    </tr>\n",
       "    <tr>\n",
       "      <th>22165</th>\n",
       "      <td>\"\\n\\n Umm...unblock maybe? \\n\\nI was just wond...</td>\n",
       "      <td>0</td>\n",
       "      <td>Umm unblock maybe I be just wonder if you coul...</td>\n",
       "    </tr>\n",
       "    <tr>\n",
       "      <th>45060</th>\n",
       "      <td>\"\\nThe practice: 1. only (central) governmenta...</td>\n",
       "      <td>0</td>\n",
       "      <td>The practice only central governmental body or...</td>\n",
       "    </tr>\n",
       "    <tr>\n",
       "      <th>106256</th>\n",
       "      <td>Age\\n\\nCurrently this article inaccurately sta...</td>\n",
       "      <td>0</td>\n",
       "      <td>Age Currently this article inaccurately state ...</td>\n",
       "    </tr>\n",
       "  </tbody>\n",
       "</table>\n",
       "</div>"
      ],
      "text/plain": [
       "                                                     text  toxic  \\\n",
       "97762   86.134.32.13\\nThis user is vandalising Ajith a...      0   \n",
       "37599   I ask you... why would anyone need to know inf...      0   \n",
       "34872   Why \\nHowcome u want the Cibola Caounty Beacon...      0   \n",
       "4235    \"\\nno seriousy.  the only thing i think actual...      1   \n",
       "14356   It's my perception that the number of editors ...      0   \n",
       "50672   Big thanks to you and Red for helping promote ...      0   \n",
       "123591  RepublicanJacobite thinks that he knows everyt...      0   \n",
       "22165   \"\\n\\n Umm...unblock maybe? \\n\\nI was just wond...      0   \n",
       "45060   \"\\nThe practice: 1. only (central) governmenta...      0   \n",
       "106256  Age\\n\\nCurrently this article inaccurately sta...      0   \n",
       "\n",
       "                                                lemm_text  \n",
       "97762   This user be vandalise Ajith and Vijay actor a...  \n",
       "37599   I ask you why would anyone need to know inform...  \n",
       "34872   Why Howcome u want the Cibola Caounty Beacon a...  \n",
       "4235    no seriousy the only thing i think actually do...  \n",
       "14356   It s my perception that the number of editors ...  \n",
       "50672      Big thank to you and Red for help promote this  \n",
       "123591  RepublicanJacobite think that he know everythi...  \n",
       "22165   Umm unblock maybe I be just wonder if you coul...  \n",
       "45060   The practice only central governmental body or...  \n",
       "106256  Age Currently this article inaccurately state ...  "
      ]
     },
     "execution_count": 7,
     "metadata": {},
     "output_type": "execute_result"
    }
   ],
   "source": [
    "data.sample(10)"
   ]
  },
  {
   "cell_type": "markdown",
   "metadata": {},
   "source": [
    "## Обучение"
   ]
  },
  {
   "cell_type": "markdown",
   "metadata": {},
   "source": [
    "#### Подготока обучающей и валидационной выборки"
   ]
  },
  {
   "cell_type": "code",
   "execution_count": 8,
   "metadata": {},
   "outputs": [],
   "source": [
    "features = data['lemm_text']\n",
    "target = data['toxic']\n",
    "features_train, features_test, target_train, target_test = train_test_split(features, target, random_state = 12345, test_size=0.2)"
   ]
  },
  {
   "cell_type": "code",
   "execution_count": 9,
   "metadata": {},
   "outputs": [],
   "source": [
    "stopwords = set(nltk_stopwords.words('english'))\n",
    "count_tf_idf = TfidfVectorizer(stop_words=stopwords) \n",
    "tf_idf = count_tf_idf.fit_transform(features_train) \n",
    "tf_idf2 = count_tf_idf.transform(features_test)"
   ]
  },
  {
   "cell_type": "markdown",
   "metadata": {},
   "source": [
    "#### Логистическая регрессия"
   ]
  },
  {
   "cell_type": "code",
   "execution_count": 10,
   "metadata": {},
   "outputs": [
    {
     "name": "stdout",
     "output_type": "stream",
     "text": [
      "Лучшие параметры:  {'C': 5}\n",
      "Wall time: 2min 51s\n"
     ]
    }
   ],
   "source": [
    "%%time\n",
    "parameters = {'C':range(1,10,1)}\n",
    "\n",
    "log_regr_rand=RandomizedSearchCV(LogisticRegression(class_weight='balanced',penalty='l2'), parameters, cv=5, random_state=12345,scoring='f1')\n",
    "log_regr_rand.fit(tf_idf, target_train)\n",
    "print('Лучшие параметры: ',log_regr_rand.best_params_)\n",
    "log_regression_model=log_regr_rand.best_estimator_\n"
   ]
  },
  {
   "cell_type": "code",
   "execution_count": 11,
   "metadata": {
    "scrolled": true
   },
   "outputs": [
    {
     "name": "stdout",
     "output_type": "stream",
     "text": [
      "F1 score for logistiv regression 0.7611290549080185\n",
      "Wall time: 15 ms\n"
     ]
    }
   ],
   "source": [
    "%%time\n",
    "prediction = log_regression_model.predict(tf_idf2)\n",
    "log_regression_result=f1_score(target_test, prediction)\n",
    "print('F1 score for logistiv regression',log_regression_result)"
   ]
  },
  {
   "cell_type": "markdown",
   "metadata": {},
   "source": [
    "#### Дерево решений"
   ]
  },
  {
   "cell_type": "code",
   "execution_count": 12,
   "metadata": {
    "scrolled": true
   },
   "outputs": [
    {
     "name": "stdout",
     "output_type": "stream",
     "text": [
      "Лучшие параметры:  {'max_depth': 51}\n",
      "Wall time: 10min 57s\n"
     ]
    }
   ],
   "source": [
    "%%time\n",
    "\n",
    "parameters = {'max_depth':range(1,100,25)}\n",
    "dcs_tree_rand_search=RandomizedSearchCV(DecisionTreeClassifier(class_weight='balanced'), parameters, cv=5, random_state=12345,scoring='f1')\n",
    "dcs_tree_rand_search.fit(tf_idf, target_train)\n",
    "print('Лучшие параметры: ',dcs_tree_rand_search.best_params_)\n",
    "model_des_tr_class=dcs_tree_rand_search.best_estimator_\n",
    "\n"
   ]
  },
  {
   "cell_type": "code",
   "execution_count": 13,
   "metadata": {},
   "outputs": [
    {
     "data": {
      "text/plain": [
       "0.6401575687762022"
      ]
     },
     "execution_count": 13,
     "metadata": {},
     "output_type": "execute_result"
    }
   ],
   "source": [
    "dcs_tree_rand_search.best_score_"
   ]
  },
  {
   "cell_type": "code",
   "execution_count": 14,
   "metadata": {},
   "outputs": [
    {
     "name": "stdout",
     "output_type": "stream",
     "text": [
      "F1 для дерева решений 0.6172133614204033\n"
     ]
    }
   ],
   "source": [
    "prediction = model_des_tr_class.predict(tf_idf2)\n",
    "model_des_tr_class_result=f1_score(target_test, prediction)\n",
    "print('F1 для дерева решений',model_des_tr_class_result)"
   ]
  },
  {
   "cell_type": "markdown",
   "metadata": {},
   "source": [
    "#### Случайный лес"
   ]
  },
  {
   "cell_type": "code",
   "execution_count": 15,
   "metadata": {},
   "outputs": [],
   "source": [
    "#%%time\n",
    "#parameters = {'max_depth':range(1,300,50)}\n",
    "#rnd_for_clas_search=RandomizedSearchCV(RandomForestClassifier(class_weight='balanced'), parameters, cv=5, random_state=12345,scoring='f1', n_jobs=-1)\n",
    "#rnd_for_clas_search.fit(tf_idf, target_train)\n",
    "#print('Лучшие параметры: ',rnd_for_clas_search.best_params_)\n",
    "#model_des_tr_class=rnd_for_clas_search.best_estimator_\n"
   ]
  },
  {
   "cell_type": "code",
   "execution_count": 16,
   "metadata": {},
   "outputs": [
    {
     "name": "stdout",
     "output_type": "stream",
     "text": [
      "Wall time: 5min 7s\n"
     ]
    },
    {
     "data": {
      "text/plain": [
       "RandomForestClassifier(class_weight='balanced', max_depth=251)"
      ]
     },
     "execution_count": 16,
     "metadata": {},
     "output_type": "execute_result"
    }
   ],
   "source": [
    "%%time\n",
    "model_des_tr_class=RandomForestClassifier(class_weight='balanced',max_depth=251)\n",
    "model_des_tr_class.fit(tf_idf, target_train)"
   ]
  },
  {
   "cell_type": "code",
   "execution_count": 17,
   "metadata": {},
   "outputs": [
    {
     "name": "stdout",
     "output_type": "stream",
     "text": [
      "F1 для случайного леса 0.593381389252949\n"
     ]
    }
   ],
   "source": [
    "predictions = model_des_tr_class.predict(tf_idf2)\n",
    "model_des_rnd_fr_class_result=f1_score(target_test, predictions)\n",
    "print('F1 для случайного леса',model_des_rnd_fr_class_result)"
   ]
  },
  {
   "cell_type": "markdown",
   "metadata": {},
   "source": [
    "#### Градиентный бустинг"
   ]
  },
  {
   "cell_type": "code",
   "execution_count": 18,
   "metadata": {},
   "outputs": [],
   "source": [
    "#Градиентный бустинг на сетевом юпитере у меня зависает,ядро падает, взял параметры с локального юпитера + скриншот ниже.\n",
    "#Лучшие параметры:  {'num_leaves': 30, 'n_estimators': 361}\n",
    "#Wall time: 9min 57s"
   ]
  },
  {
   "cell_type": "code",
   "execution_count": 19,
   "metadata": {
    "scrolled": true
   },
   "outputs": [
    {
     "name": "stdout",
     "output_type": "stream",
     "text": [
      "0.7760884588804423\n",
      "Wall time: 39.7 s\n"
     ]
    }
   ],
   "source": [
    "%%time\n",
    "LGBM_class=LGBMClassifier(num_leaves=30,n_estimators=361)\n",
    "LGBM_class.fit(tf_idf, target_train)\n",
    "predictions = LGBM_class.predict(tf_idf2)\n",
    "print(f1_score(target_test, predictions))"
   ]
  },
  {
   "cell_type": "code",
   "execution_count": 20,
   "metadata": {},
   "outputs": [
    {
     "name": "stdout",
     "output_type": "stream",
     "text": [
      "Лучшие параметры:  {'num_leaves': 40, 'n_estimators': 291}\n",
      "Wall time: 9min 36s\n"
     ]
    }
   ],
   "source": [
    "%%time\n",
    "parameters = {'n_estimators':range(1,400,10), 'num_leaves':range(10,50,5)}\n",
    "lgbm_rand_frst=RandomizedSearchCV(LGBMClassifier(random_state=12345), parameters, cv=5, random_state=12345,scoring='f1', n_jobs=-1)\n",
    "lgbm_rand_frst.fit(tf_idf, target_train)\n",
    "print('Лучшие параметры: ',lgbm_rand_frst.best_params_)\n",
    "model_lgb=lgbm_rand_frst.best_estimator_"
   ]
  },
  {
   "cell_type": "code",
   "execution_count": 21,
   "metadata": {},
   "outputs": [],
   "source": [
    "prediction=model_lgb.predict(tf_idf2)\n",
    "model_lgb_result=f1_score(target_test, predictions)"
   ]
  },
  {
   "cell_type": "code",
   "execution_count": 25,
   "metadata": {},
   "outputs": [
    {
     "data": {
      "text/plain": [
       "0.7760884588804423"
      ]
     },
     "execution_count": 25,
     "metadata": {},
     "output_type": "execute_result"
    }
   ],
   "source": [
    "LGBM_result=model_lgb_result\n",
    "LGBM_result"
   ]
  },
  {
   "cell_type": "markdown",
   "metadata": {},
   "source": [
    "#### PassiveAgressiveClassifier"
   ]
  },
  {
   "cell_type": "code",
   "execution_count": 22,
   "metadata": {},
   "outputs": [
    {
     "name": "stdout",
     "output_type": "stream",
     "text": [
      "Wall time: 233 ms\n"
     ]
    }
   ],
   "source": [
    "%%time\n",
    "model = PassiveAggressiveClassifier(random_state=12345, max_iter=5)\n",
    "model.fit(tf_idf, target_train)\n",
    "prediction = model.predict(tf_idf2)\n",
    "pac_result=f1_score(target_test, prediction)"
   ]
  },
  {
   "cell_type": "code",
   "execution_count": 23,
   "metadata": {},
   "outputs": [
    {
     "name": "stdout",
     "output_type": "stream",
     "text": [
      "F1-score for PAC: 0.7700640078778928\n"
     ]
    }
   ],
   "source": [
    "print('F1-score for PAC:',pac_result)"
   ]
  },
  {
   "cell_type": "markdown",
   "metadata": {},
   "source": [
    "## Выводы"
   ]
  },
  {
   "cell_type": "code",
   "execution_count": 26,
   "metadata": {},
   "outputs": [
    {
     "data": {
      "text/html": [
       "<div>\n",
       "<style scoped>\n",
       "    .dataframe tbody tr th:only-of-type {\n",
       "        vertical-align: middle;\n",
       "    }\n",
       "\n",
       "    .dataframe tbody tr th {\n",
       "        vertical-align: top;\n",
       "    }\n",
       "\n",
       "    .dataframe thead th {\n",
       "        text-align: right;\n",
       "    }\n",
       "</style>\n",
       "<table border=\"1\" class=\"dataframe\">\n",
       "  <thead>\n",
       "    <tr style=\"text-align: right;\">\n",
       "      <th></th>\n",
       "      <th>F1</th>\n",
       "    </tr>\n",
       "  </thead>\n",
       "  <tbody>\n",
       "    <tr>\n",
       "      <th>LogisticRegression</th>\n",
       "      <td>0.761129</td>\n",
       "    </tr>\n",
       "    <tr>\n",
       "      <th>DecisionTreeClassifier</th>\n",
       "      <td>0.617213</td>\n",
       "    </tr>\n",
       "    <tr>\n",
       "      <th>RandomForestClassifier</th>\n",
       "      <td>0.593381</td>\n",
       "    </tr>\n",
       "    <tr>\n",
       "      <th>LGBMClassifier</th>\n",
       "      <td>0.776088</td>\n",
       "    </tr>\n",
       "    <tr>\n",
       "      <th>PassiveAggressiveClassifier</th>\n",
       "      <td>0.770064</td>\n",
       "    </tr>\n",
       "  </tbody>\n",
       "</table>\n",
       "</div>"
      ],
      "text/plain": [
       "                                   F1\n",
       "LogisticRegression           0.761129\n",
       "DecisionTreeClassifier       0.617213\n",
       "RandomForestClassifier       0.593381\n",
       "LGBMClassifier               0.776088\n",
       "PassiveAggressiveClassifier  0.770064"
      ]
     },
     "execution_count": 26,
     "metadata": {},
     "output_type": "execute_result"
    }
   ],
   "source": [
    "columns = ['F1']\n",
    "values_table=[log_regression_result,model_des_tr_class_result,model_des_rnd_fr_class_result,LGBM_result,pac_result]\n",
    "values_table_df=pd.DataFrame(data=values_table,columns=columns, index =['LogisticRegression', 'DecisionTreeClassifier','RandomForestClassifier','LGBMClassifier','PassiveAggressiveClassifier'] )\n",
    "values_table_df"
   ]
  },
  {
   "cell_type": "markdown",
   "metadata": {},
   "source": [
    "1.Лучшие результаты показала модель PassiveAgressiveClassifier, логистическая регрессия и градиентный бустинг.<br>\n",
    "2.Деревья решений с жаднм алгоритмом покзали результат худший, чем линейные модели."
   ]
  }
 ],
 "metadata": {
  "ExecuteTimeLog": [
   {
    "duration": 369,
    "start_time": "2021-11-18T22:05:30.506Z"
   },
   {
    "duration": 1627,
    "start_time": "2021-11-18T22:06:03.745Z"
   },
   {
    "duration": 2410,
    "start_time": "2021-11-18T22:06:07.412Z"
   },
   {
    "duration": 2458,
    "start_time": "2021-11-18T22:06:24.164Z"
   },
   {
    "duration": 740,
    "start_time": "2021-11-18T22:06:29.309Z"
   },
   {
    "duration": 10,
    "start_time": "2021-11-18T22:06:43.740Z"
   },
   {
    "duration": 33,
    "start_time": "2021-11-18T22:06:46.300Z"
   },
   {
    "duration": 9,
    "start_time": "2021-11-18T22:09:00.083Z"
   },
   {
    "duration": 30,
    "start_time": "2021-11-18T22:09:12.187Z"
   },
   {
    "duration": 30,
    "start_time": "2021-11-18T22:09:30.260Z"
   },
   {
    "duration": 304,
    "start_time": "2021-11-18T22:09:48.355Z"
   },
   {
    "duration": 286,
    "start_time": "2021-11-18T22:09:56.307Z"
   },
   {
    "duration": 675,
    "start_time": "2021-11-18T22:22:32.287Z"
   },
   {
    "duration": 785,
    "start_time": "2021-11-18T22:22:34.961Z"
   },
   {
    "duration": 1701,
    "start_time": "2021-11-22T07:59:02.442Z"
   },
   {
    "duration": 3310,
    "start_time": "2021-11-22T07:59:04.144Z"
   },
   {
    "duration": 14,
    "start_time": "2021-11-22T07:59:07.456Z"
   },
   {
    "duration": 18,
    "start_time": "2021-11-22T07:59:07.472Z"
   },
   {
    "duration": 19,
    "start_time": "2021-11-22T07:59:07.491Z"
   },
   {
    "duration": 195,
    "start_time": "2021-11-22T07:59:07.512Z"
   },
   {
    "duration": 332,
    "start_time": "2021-11-22T07:59:07.709Z"
   },
   {
    "duration": 12,
    "start_time": "2021-11-22T07:59:25.517Z"
   },
   {
    "duration": 847,
    "start_time": "2021-11-22T07:59:29.764Z"
   },
   {
    "duration": 6,
    "start_time": "2021-11-22T07:59:50.494Z"
   },
   {
    "duration": 4,
    "start_time": "2021-11-22T08:00:00.220Z"
   },
   {
    "duration": 228,
    "start_time": "2021-11-22T08:01:27.739Z"
   },
   {
    "duration": 276,
    "start_time": "2021-11-22T08:02:34.555Z"
   },
   {
    "duration": 305,
    "start_time": "2021-11-22T08:02:48.376Z"
   },
   {
    "duration": 225,
    "start_time": "2021-11-22T08:02:55.819Z"
   },
   {
    "duration": 3,
    "start_time": "2021-11-22T08:02:59.978Z"
   },
   {
    "duration": 6571,
    "start_time": "2021-11-22T08:03:05.571Z"
   },
   {
    "duration": 9,
    "start_time": "2021-11-22T08:03:24.539Z"
   },
   {
    "duration": 3,
    "start_time": "2021-11-22T09:23:56.738Z"
   },
   {
    "duration": 3,
    "start_time": "2021-11-22T09:24:33.250Z"
   },
   {
    "duration": 4,
    "start_time": "2021-11-22T09:24:47.645Z"
   },
   {
    "duration": 3,
    "start_time": "2021-11-22T09:25:36.757Z"
   },
   {
    "duration": 259,
    "start_time": "2021-11-22T09:25:46.828Z"
   },
   {
    "duration": 2486,
    "start_time": "2021-11-22T09:26:14.057Z"
   },
   {
    "duration": 4,
    "start_time": "2021-11-22T09:26:20.260Z"
   },
   {
    "duration": 247,
    "start_time": "2021-11-22T09:26:49.228Z"
   },
   {
    "duration": 251,
    "start_time": "2021-11-22T09:27:00.172Z"
   },
   {
    "duration": 6492,
    "start_time": "2021-11-22T09:27:10.180Z"
   },
   {
    "duration": 5,
    "start_time": "2021-11-22T09:27:24.477Z"
   },
   {
    "duration": 8,
    "start_time": "2021-11-22T09:27:29.573Z"
   },
   {
    "duration": 183,
    "start_time": "2021-11-22T09:28:44.843Z"
   },
   {
    "duration": 3,
    "start_time": "2021-11-22T09:28:58.170Z"
   },
   {
    "duration": 1514,
    "start_time": "2021-11-22T09:29:04.398Z"
   },
   {
    "duration": 3,
    "start_time": "2021-11-22T09:29:13.138Z"
   },
   {
    "duration": 3,
    "start_time": "2021-11-22T09:29:20.194Z"
   },
   {
    "duration": 3,
    "start_time": "2021-11-22T09:29:26.026Z"
   },
   {
    "duration": 3,
    "start_time": "2021-11-22T09:29:31.083Z"
   },
   {
    "duration": 4,
    "start_time": "2021-11-22T09:31:06.985Z"
   },
   {
    "duration": 3,
    "start_time": "2021-11-22T09:31:14.825Z"
   },
   {
    "duration": 3,
    "start_time": "2021-11-22T09:31:25.474Z"
   },
   {
    "duration": 4,
    "start_time": "2021-11-22T09:31:47.689Z"
   },
   {
    "duration": 760,
    "start_time": "2021-11-22T09:32:39.080Z"
   },
   {
    "duration": 16,
    "start_time": "2021-11-22T09:33:24.903Z"
   },
   {
    "duration": 4,
    "start_time": "2021-11-22T09:33:35.128Z"
   },
   {
    "duration": 3,
    "start_time": "2021-11-22T09:34:03.060Z"
   },
   {
    "duration": 4,
    "start_time": "2021-11-22T09:35:25.304Z"
   },
   {
    "duration": 4,
    "start_time": "2021-11-22T09:35:37.376Z"
   },
   {
    "duration": 280,
    "start_time": "2021-11-22T09:35:57.808Z"
   },
   {
    "duration": 4,
    "start_time": "2021-11-22T09:36:01.279Z"
   },
   {
    "duration": 266,
    "start_time": "2021-11-22T09:37:04.046Z"
   },
   {
    "duration": 3,
    "start_time": "2021-11-22T09:37:09.354Z"
   },
   {
    "duration": 5,
    "start_time": "2021-11-22T09:37:11.973Z"
   },
   {
    "duration": 4,
    "start_time": "2021-11-22T09:37:32.262Z"
   },
   {
    "duration": 4,
    "start_time": "2021-11-22T09:37:49.812Z"
   },
   {
    "duration": 86,
    "start_time": "2021-11-22T09:38:11.676Z"
   },
   {
    "duration": 4,
    "start_time": "2021-11-22T09:38:15.751Z"
   },
   {
    "duration": 4,
    "start_time": "2021-11-22T09:38:24.477Z"
   },
   {
    "duration": 7,
    "start_time": "2021-11-22T09:38:28.391Z"
   },
   {
    "duration": 6,
    "start_time": "2021-11-22T09:39:26.293Z"
   },
   {
    "duration": 4,
    "start_time": "2021-11-22T09:39:34.140Z"
   },
   {
    "duration": 3,
    "start_time": "2021-11-22T09:39:39.711Z"
   },
   {
    "duration": 6,
    "start_time": "2021-11-22T09:39:44.492Z"
   },
   {
    "duration": 4,
    "start_time": "2021-11-22T09:42:26.955Z"
   },
   {
    "duration": 4,
    "start_time": "2021-11-22T09:42:43.578Z"
   },
   {
    "duration": 4,
    "start_time": "2021-11-22T09:42:47.370Z"
   },
   {
    "duration": 3,
    "start_time": "2021-11-22T09:45:19.474Z"
   },
   {
    "duration": 3,
    "start_time": "2021-11-22T09:45:24.625Z"
   },
   {
    "duration": 5,
    "start_time": "2021-11-22T09:45:45.377Z"
   },
   {
    "duration": 2,
    "start_time": "2021-11-22T10:07:44.971Z"
   },
   {
    "duration": 4,
    "start_time": "2021-11-22T10:08:08.399Z"
   },
   {
    "duration": 2,
    "start_time": "2021-11-22T10:08:34.027Z"
   },
   {
    "duration": 3,
    "start_time": "2021-11-22T10:08:42.699Z"
   },
   {
    "duration": 3,
    "start_time": "2021-11-22T10:08:46.115Z"
   },
   {
    "duration": 4,
    "start_time": "2021-11-22T10:08:58.259Z"
   },
   {
    "duration": 3,
    "start_time": "2021-11-22T10:09:01.066Z"
   },
   {
    "duration": 3,
    "start_time": "2021-11-22T10:09:04.179Z"
   },
   {
    "duration": 671,
    "start_time": "2021-11-22T10:09:16.514Z"
   },
   {
    "duration": 316,
    "start_time": "2021-11-22T10:09:25.139Z"
   },
   {
    "duration": 560,
    "start_time": "2021-11-22T10:09:30.045Z"
   },
   {
    "duration": 18,
    "start_time": "2021-11-22T10:09:38.898Z"
   },
   {
    "duration": 4,
    "start_time": "2021-11-22T10:09:42.401Z"
   },
   {
    "duration": 4,
    "start_time": "2021-11-22T10:09:47.206Z"
   },
   {
    "duration": 4,
    "start_time": "2021-11-22T10:09:48.985Z"
   },
   {
    "duration": 3,
    "start_time": "2021-11-22T10:09:51.118Z"
   },
   {
    "duration": 3,
    "start_time": "2021-11-22T10:09:57.002Z"
   },
   {
    "duration": 3,
    "start_time": "2021-11-22T10:10:26.170Z"
   },
   {
    "duration": 4,
    "start_time": "2021-11-22T10:10:29.249Z"
   },
   {
    "duration": 5,
    "start_time": "2021-11-22T10:10:58.153Z"
   },
   {
    "duration": 4,
    "start_time": "2021-11-22T10:12:10.400Z"
   },
   {
    "duration": 4,
    "start_time": "2021-11-22T10:12:18.264Z"
   },
   {
    "duration": 4,
    "start_time": "2021-11-22T10:12:22.944Z"
   },
   {
    "duration": 4,
    "start_time": "2021-11-22T10:12:28.280Z"
   },
   {
    "duration": 5,
    "start_time": "2021-11-22T10:18:02.621Z"
   },
   {
    "duration": 4,
    "start_time": "2021-11-22T10:18:11.861Z"
   },
   {
    "duration": 5,
    "start_time": "2021-11-22T10:18:16.236Z"
   },
   {
    "duration": 5,
    "start_time": "2021-11-22T10:18:22.326Z"
   },
   {
    "duration": 3,
    "start_time": "2021-11-22T10:20:40.972Z"
   },
   {
    "duration": 3,
    "start_time": "2021-11-22T10:20:45.547Z"
   },
   {
    "duration": 5,
    "start_time": "2021-11-22T10:21:55.058Z"
   },
   {
    "duration": 4,
    "start_time": "2021-11-22T10:22:10.067Z"
   },
   {
    "duration": 6509,
    "start_time": "2021-11-22T10:22:48.746Z"
   },
   {
    "duration": 162291,
    "start_time": "2021-11-22T10:23:06.849Z"
   },
   {
    "duration": 12,
    "start_time": "2021-11-22T10:28:11.638Z"
   },
   {
    "duration": 240,
    "start_time": "2021-11-22T10:28:36.019Z"
   },
   {
    "duration": 117,
    "start_time": "2021-11-22T10:28:45.082Z"
   },
   {
    "duration": 28,
    "start_time": "2021-11-22T10:29:53.512Z"
   },
   {
    "duration": 5934,
    "start_time": "2021-11-22T10:31:09.465Z"
   },
   {
    "duration": 27,
    "start_time": "2021-11-22T10:31:15.400Z"
   },
   {
    "duration": 5926,
    "start_time": "2021-11-22T10:31:16.876Z"
   },
   {
    "duration": 6198,
    "start_time": "2021-11-22T10:31:29.696Z"
   },
   {
    "duration": 3,
    "start_time": "2021-11-22T10:31:53.220Z"
   },
   {
    "duration": 9301,
    "start_time": "2021-11-22T10:32:14.047Z"
   },
   {
    "duration": 3,
    "start_time": "2021-11-22T10:33:35.107Z"
   },
   {
    "duration": 3,
    "start_time": "2021-11-22T10:34:11.674Z"
   },
   {
    "duration": 2,
    "start_time": "2021-11-22T10:35:37.033Z"
   },
   {
    "duration": 9771,
    "start_time": "2021-11-22T10:35:37.585Z"
   },
   {
    "duration": 2,
    "start_time": "2021-11-22T10:35:47.358Z"
   },
   {
    "duration": 201,
    "start_time": "2021-11-22T10:40:40.101Z"
   },
   {
    "duration": 174,
    "start_time": "2021-11-22T10:41:38.063Z"
   },
   {
    "duration": 157,
    "start_time": "2021-11-22T10:41:57.191Z"
   },
   {
    "duration": 2155094,
    "start_time": "2021-11-22T10:42:08.605Z"
   },
   {
    "duration": 3,
    "start_time": "2021-11-22T11:18:03.701Z"
   },
   {
    "duration": 160172,
    "start_time": "2021-11-22T11:20:59.567Z"
   },
   {
    "duration": 330,
    "start_time": "2021-11-22T11:55:45.912Z"
   },
   {
    "duration": 5,
    "start_time": "2021-11-22T11:56:01.417Z"
   },
   {
    "duration": 169,
    "start_time": "2021-11-22T11:58:46.390Z"
   },
   {
    "duration": 215,
    "start_time": "2021-11-22T11:59:02.526Z"
   },
   {
    "duration": 203,
    "start_time": "2021-11-22T11:59:28.239Z"
   },
   {
    "duration": 1493,
    "start_time": "2021-11-22T11:59:33.450Z"
   },
   {
    "duration": 356,
    "start_time": "2021-11-22T11:59:39.778Z"
   },
   {
    "duration": 10,
    "start_time": "2021-11-22T12:02:54.764Z"
   },
   {
    "duration": 254,
    "start_time": "2021-11-22T12:02:58.496Z"
   },
   {
    "duration": 1501,
    "start_time": "2021-11-22T12:04:27.603Z"
   },
   {
    "duration": 5350,
    "start_time": "2021-11-22T12:04:29.105Z"
   },
   {
    "duration": 3,
    "start_time": "2021-11-22T12:04:34.459Z"
   },
   {
    "duration": 20,
    "start_time": "2021-11-22T12:04:34.463Z"
   },
   {
    "duration": 1292,
    "start_time": "2021-11-22T12:04:34.484Z"
   },
   {
    "duration": 3,
    "start_time": "2021-11-22T12:04:35.778Z"
   },
   {
    "duration": 166297,
    "start_time": "2021-11-22T12:04:35.784Z"
   },
   {
    "duration": 19,
    "start_time": "2021-11-22T12:07:22.082Z"
   },
   {
    "duration": 27,
    "start_time": "2021-11-22T12:07:22.102Z"
   },
   {
    "duration": 6656,
    "start_time": "2021-11-22T12:07:22.130Z"
   },
   {
    "duration": 3,
    "start_time": "2021-11-22T12:07:28.787Z"
   },
   {
    "duration": 14339,
    "start_time": "2021-11-22T12:07:28.792Z"
   },
   {
    "duration": 3,
    "start_time": "2021-11-22T12:07:43.133Z"
   },
   {
    "duration": 161788,
    "start_time": "2021-11-22T12:07:43.137Z"
   },
   {
    "duration": 4,
    "start_time": "2021-11-22T12:10:24.927Z"
   },
   {
    "duration": 339575,
    "start_time": "2021-11-22T12:10:24.933Z"
   },
   {
    "duration": 1480,
    "start_time": "2021-11-22T12:17:29.457Z"
   },
   {
    "duration": 5367,
    "start_time": "2021-11-22T12:17:30.939Z"
   },
   {
    "duration": 2,
    "start_time": "2021-11-22T12:17:36.308Z"
   },
   {
    "duration": 5,
    "start_time": "2021-11-22T12:17:36.312Z"
   },
   {
    "duration": 1277,
    "start_time": "2021-11-22T12:17:36.318Z"
   },
   {
    "duration": 7,
    "start_time": "2021-11-22T12:17:37.597Z"
   },
   {
    "duration": 162341,
    "start_time": "2021-11-22T12:17:37.606Z"
   },
   {
    "duration": 10,
    "start_time": "2021-11-22T12:20:19.948Z"
   },
   {
    "duration": 40,
    "start_time": "2021-11-22T12:20:19.961Z"
   },
   {
    "duration": 6452,
    "start_time": "2021-11-22T12:20:20.004Z"
   },
   {
    "duration": 2,
    "start_time": "2021-11-22T12:20:26.458Z"
   },
   {
    "duration": 13868,
    "start_time": "2021-11-22T12:20:26.462Z"
   },
   {
    "duration": 2,
    "start_time": "2021-11-22T12:20:40.332Z"
   },
   {
    "duration": 301,
    "start_time": "2021-11-22T12:20:40.336Z"
   },
   {
    "duration": 243,
    "start_time": "2021-11-22T12:20:40.639Z"
   },
   {
    "duration": -852,
    "start_time": "2021-11-22T12:20:41.736Z"
   },
   {
    "duration": -854,
    "start_time": "2021-11-22T12:20:41.739Z"
   },
   {
    "duration": -856,
    "start_time": "2021-11-22T12:20:41.742Z"
   },
   {
    "duration": -883,
    "start_time": "2021-11-22T12:20:41.771Z"
   },
   {
    "duration": -886,
    "start_time": "2021-11-22T12:20:41.775Z"
   },
   {
    "duration": 82,
    "start_time": "2021-11-22T12:21:26.460Z"
   },
   {
    "duration": 174,
    "start_time": "2021-11-22T12:21:35.169Z"
   },
   {
    "duration": 292,
    "start_time": "2021-11-22T12:21:45.225Z"
   },
   {
    "duration": 307,
    "start_time": "2021-11-22T12:21:59.286Z"
   },
   {
    "duration": 707703,
    "start_time": "2021-11-22T12:22:16.945Z"
   },
   {
    "duration": 4,
    "start_time": "2021-11-22T12:40:10.073Z"
   },
   {
    "duration": 33,
    "start_time": "2021-11-22T12:40:22.425Z"
   },
   {
    "duration": 25,
    "start_time": "2021-11-22T12:40:43.392Z"
   },
   {
    "duration": 839518,
    "start_time": "2021-11-22T12:40:47.544Z"
   },
   {
    "duration": 249,
    "start_time": "2021-11-22T13:05:24.840Z"
   },
   {
    "duration": 280,
    "start_time": "2021-11-22T13:06:42.216Z"
   },
   {
    "duration": 250,
    "start_time": "2021-11-22T13:06:57.078Z"
   },
   {
    "duration": 191,
    "start_time": "2021-11-22T13:07:38.744Z"
   },
   {
    "duration": 1484,
    "start_time": "2021-11-22T13:07:51.822Z"
   },
   {
    "duration": 5629,
    "start_time": "2021-11-22T13:07:53.308Z"
   },
   {
    "duration": 3,
    "start_time": "2021-11-22T13:07:58.939Z"
   },
   {
    "duration": 28,
    "start_time": "2021-11-22T13:07:58.943Z"
   },
   {
    "duration": 1341,
    "start_time": "2021-11-22T13:07:58.972Z"
   },
   {
    "duration": 4,
    "start_time": "2021-11-22T13:08:00.315Z"
   },
   {
    "duration": 167757,
    "start_time": "2021-11-22T13:08:00.321Z"
   },
   {
    "duration": 20,
    "start_time": "2021-11-22T13:10:48.080Z"
   },
   {
    "duration": 26,
    "start_time": "2021-11-22T13:10:48.103Z"
   },
   {
    "duration": 6646,
    "start_time": "2021-11-22T13:10:48.131Z"
   },
   {
    "duration": 2,
    "start_time": "2021-11-22T13:10:54.779Z"
   },
   {
    "duration": 9356,
    "start_time": "2021-11-22T13:10:54.787Z"
   },
   {
    "duration": 3,
    "start_time": "2021-11-22T13:11:04.144Z"
   },
   {
    "duration": 712975,
    "start_time": "2021-11-22T13:11:04.148Z"
   },
   {
    "duration": 4,
    "start_time": "2021-11-22T13:22:57.124Z"
   },
   {
    "duration": 51,
    "start_time": "2021-11-22T13:22:57.129Z"
   },
   {
    "duration": 891194,
    "start_time": "2021-11-22T13:22:57.181Z"
   },
   {
    "duration": 224,
    "start_time": "2021-11-22T13:37:48.376Z"
   },
   {
    "duration": 1,
    "start_time": "2021-11-22T13:37:48.602Z"
   },
   {
    "duration": 4,
    "start_time": "2021-11-22T13:37:48.605Z"
   },
   {
    "duration": 340,
    "start_time": "2021-11-22T13:37:48.610Z"
   },
   {
    "duration": 369,
    "start_time": "2021-11-22T13:51:54.975Z"
   },
   {
    "duration": 3,
    "start_time": "2021-11-22T13:52:06.855Z"
   },
   {
    "duration": 357,
    "start_time": "2021-11-22T13:52:24.679Z"
   },
   {
    "duration": 3,
    "start_time": "2021-11-22T13:54:38.785Z"
   },
   {
    "duration": 3,
    "start_time": "2021-11-22T13:54:43.142Z"
   },
   {
    "duration": 3,
    "start_time": "2021-11-22T13:54:48.189Z"
   },
   {
    "duration": 3,
    "start_time": "2021-11-22T13:54:51.662Z"
   },
   {
    "duration": 3,
    "start_time": "2021-11-22T13:54:55.630Z"
   },
   {
    "duration": 3,
    "start_time": "2021-11-22T13:54:59.077Z"
   },
   {
    "duration": 3,
    "start_time": "2021-11-22T13:55:06.070Z"
   },
   {
    "duration": 3,
    "start_time": "2021-11-22T13:55:10.869Z"
   },
   {
    "duration": 9283,
    "start_time": "2021-11-22T13:58:59.951Z"
   },
   {
    "duration": 1439,
    "start_time": "2021-11-22T14:32:15.775Z"
   },
   {
    "duration": 2685,
    "start_time": "2021-11-22T14:32:17.216Z"
   },
   {
    "duration": 3,
    "start_time": "2021-11-22T14:32:19.903Z"
   },
   {
    "duration": 18,
    "start_time": "2021-11-22T14:32:19.908Z"
   },
   {
    "duration": 1213,
    "start_time": "2021-11-22T14:32:19.927Z"
   },
   {
    "duration": 3,
    "start_time": "2021-11-22T14:32:21.142Z"
   },
   {
    "duration": 161088,
    "start_time": "2021-11-22T14:32:21.146Z"
   },
   {
    "duration": 10,
    "start_time": "2021-11-22T14:35:02.236Z"
   },
   {
    "duration": 23,
    "start_time": "2021-11-22T14:35:02.248Z"
   },
   {
    "duration": 6000,
    "start_time": "2021-11-22T14:35:02.272Z"
   },
   {
    "duration": 2,
    "start_time": "2021-11-22T14:35:08.274Z"
   },
   {
    "duration": 14758,
    "start_time": "2021-11-22T14:35:08.278Z"
   },
   {
    "duration": 2,
    "start_time": "2021-11-22T14:35:23.037Z"
   },
   {
    "duration": 647012,
    "start_time": "2021-11-22T14:35:23.041Z"
   },
   {
    "duration": 3,
    "start_time": "2021-11-22T14:46:10.055Z"
   },
   {
    "duration": 41,
    "start_time": "2021-11-22T14:46:10.059Z"
   },
   {
    "duration": 2,
    "start_time": "2021-11-22T14:46:10.102Z"
   },
   {
    "duration": 819953,
    "start_time": "2021-11-22T14:46:10.106Z"
   },
   {
    "duration": 228,
    "start_time": "2021-11-22T14:59:50.060Z"
   },
   {
    "duration": 3,
    "start_time": "2021-11-22T14:59:50.290Z"
   },
   {
    "duration": 19,
    "start_time": "2021-11-22T14:59:50.294Z"
   },
   {
    "duration": 16,
    "start_time": "2021-11-22T14:59:50.315Z"
   },
   {
    "duration": 416,
    "start_time": "2021-11-22T14:59:50.334Z"
   },
   {
    "duration": 220,
    "start_time": "2021-11-22T14:59:50.751Z"
   },
   {
    "duration": 363,
    "start_time": "2021-11-22T14:59:50.972Z"
   },
   {
    "duration": 218,
    "start_time": "2021-11-22T15:39:30.639Z"
   },
   {
    "duration": 225,
    "start_time": "2021-11-22T15:41:25.568Z"
   },
   {
    "duration": 370,
    "start_time": "2021-11-22T15:41:37.992Z"
   },
   {
    "duration": 225,
    "start_time": "2021-11-22T15:41:40.495Z"
   },
   {
    "duration": 357,
    "start_time": "2021-11-22T15:42:11.835Z"
   },
   {
    "duration": 393,
    "start_time": "2021-11-22T15:42:27.166Z"
   },
   {
    "duration": 311,
    "start_time": "2021-11-22T15:42:34.538Z"
   },
   {
    "duration": 250,
    "start_time": "2021-11-22T15:42:38.138Z"
   },
   {
    "duration": 364,
    "start_time": "2021-11-22T15:42:42.102Z"
   },
   {
    "duration": 7,
    "start_time": "2021-11-22T15:43:03.019Z"
   },
   {
    "duration": 3,
    "start_time": "2021-11-22T15:43:11.003Z"
   },
   {
    "duration": 7,
    "start_time": "2021-11-22T15:43:12.843Z"
   },
   {
    "duration": 204,
    "start_time": "2021-11-22T15:45:26.601Z"
   },
   {
    "duration": 1568,
    "start_time": "2021-11-22T15:49:25.546Z"
   },
   {
    "duration": 336,
    "start_time": "2021-11-22T15:51:14.253Z"
   },
   {
    "duration": 1584,
    "start_time": "2021-11-22T15:51:54.584Z"
   },
   {
    "duration": 5467,
    "start_time": "2021-11-22T15:51:56.170Z"
   },
   {
    "duration": 3,
    "start_time": "2021-11-22T15:52:01.641Z"
   },
   {
    "duration": 6,
    "start_time": "2021-11-22T15:52:01.646Z"
   },
   {
    "duration": 1249,
    "start_time": "2021-11-22T15:52:01.654Z"
   },
   {
    "duration": 4,
    "start_time": "2021-11-22T15:52:02.905Z"
   },
   {
    "duration": 171863,
    "start_time": "2021-11-22T15:52:02.911Z"
   },
   {
    "duration": 20,
    "start_time": "2021-11-22T15:54:54.776Z"
   },
   {
    "duration": 29,
    "start_time": "2021-11-22T15:54:54.798Z"
   },
   {
    "duration": 6160,
    "start_time": "2021-11-22T15:54:54.828Z"
   },
   {
    "duration": 3,
    "start_time": "2021-11-22T15:55:00.989Z"
   },
   {
    "duration": 14851,
    "start_time": "2021-11-22T15:55:00.993Z"
   },
   {
    "duration": 2,
    "start_time": "2021-11-22T15:55:15.846Z"
   },
   {
    "duration": 671415,
    "start_time": "2021-11-22T15:55:15.849Z"
   },
   {
    "duration": 4,
    "start_time": "2021-11-22T16:06:27.266Z"
   },
   {
    "duration": 39,
    "start_time": "2021-11-22T16:06:27.272Z"
   },
   {
    "duration": 3,
    "start_time": "2021-11-22T16:06:27.313Z"
   },
   {
    "duration": 840613,
    "start_time": "2021-11-22T16:06:27.318Z"
   },
   {
    "duration": 223,
    "start_time": "2021-11-22T16:20:27.933Z"
   },
   {
    "duration": 3,
    "start_time": "2021-11-22T16:20:28.158Z"
   },
   {
    "duration": 5,
    "start_time": "2021-11-22T16:20:28.162Z"
   },
   {
    "duration": 5,
    "start_time": "2021-11-22T16:20:28.170Z"
   },
   {
    "duration": 3,
    "start_time": "2021-11-22T16:20:28.187Z"
   },
   {
    "duration": 5,
    "start_time": "2021-11-22T16:20:28.191Z"
   },
   {
    "duration": 349,
    "start_time": "2021-11-22T16:20:28.197Z"
   },
   {
    "duration": 349,
    "start_time": "2021-11-22T16:20:28.548Z"
   },
   {
    "duration": -978,
    "start_time": "2021-11-22T16:20:29.877Z"
   },
   {
    "duration": -980,
    "start_time": "2021-11-22T16:20:29.880Z"
   },
   {
    "duration": -982,
    "start_time": "2021-11-22T16:20:29.883Z"
   },
   {
    "duration": 362,
    "start_time": "2021-11-22T16:27:26.196Z"
   },
   {
    "duration": 3,
    "start_time": "2021-11-22T16:27:31.008Z"
   },
   {
    "duration": 4,
    "start_time": "2021-11-22T16:27:41.186Z"
   },
   {
    "duration": 395,
    "start_time": "2021-11-22T16:27:43.409Z"
   },
   {
    "duration": 16,
    "start_time": "2021-11-22T16:28:04.013Z"
   },
   {
    "duration": 4,
    "start_time": "2021-11-22T16:28:18.992Z"
   },
   {
    "duration": 16,
    "start_time": "2021-11-22T16:28:53.277Z"
   },
   {
    "duration": 16,
    "start_time": "2021-11-22T16:29:12.992Z"
   },
   {
    "duration": 12,
    "start_time": "2021-11-22T16:56:52.975Z"
   },
   {
    "duration": 28,
    "start_time": "2021-11-22T16:57:32.487Z"
   },
   {
    "duration": 14,
    "start_time": "2021-11-22T16:57:51.341Z"
   },
   {
    "duration": 6,
    "start_time": "2021-11-22T16:58:04.215Z"
   },
   {
    "duration": 5,
    "start_time": "2021-11-22T16:58:11.785Z"
   },
   {
    "duration": 4,
    "start_time": "2021-11-22T16:58:19.431Z"
   },
   {
    "duration": 4,
    "start_time": "2021-11-22T16:59:05.511Z"
   },
   {
    "duration": 4,
    "start_time": "2021-11-22T16:59:18.127Z"
   },
   {
    "duration": 26,
    "start_time": "2021-11-22T16:59:30.096Z"
   },
   {
    "duration": 3,
    "start_time": "2021-11-22T16:59:34.465Z"
   },
   {
    "duration": 22,
    "start_time": "2021-11-22T16:59:41.922Z"
   },
   {
    "duration": 5,
    "start_time": "2021-11-22T16:59:55.201Z"
   },
   {
    "duration": 10,
    "start_time": "2021-11-22T17:00:03.710Z"
   },
   {
    "duration": 17,
    "start_time": "2021-11-22T17:00:40.710Z"
   },
   {
    "duration": 5,
    "start_time": "2021-11-22T17:00:47.909Z"
   },
   {
    "duration": 5,
    "start_time": "2021-11-22T17:00:52.828Z"
   },
   {
    "duration": 18,
    "start_time": "2021-11-22T17:00:59.693Z"
   },
   {
    "duration": 18,
    "start_time": "2021-11-22T17:01:31.992Z"
   },
   {
    "duration": 4,
    "start_time": "2021-11-22T17:01:35.633Z"
   },
   {
    "duration": 4,
    "start_time": "2021-11-22T17:01:39.028Z"
   },
   {
    "duration": 5,
    "start_time": "2021-11-22T17:01:42.688Z"
   },
   {
    "duration": 5,
    "start_time": "2021-11-22T17:01:48.628Z"
   },
   {
    "duration": 21,
    "start_time": "2021-11-22T17:01:53.471Z"
   },
   {
    "duration": 21,
    "start_time": "2021-11-22T17:02:05.760Z"
   },
   {
    "duration": 27,
    "start_time": "2021-11-22T17:02:31.733Z"
   },
   {
    "duration": 17,
    "start_time": "2021-11-22T17:03:17.404Z"
   },
   {
    "duration": 17,
    "start_time": "2021-11-22T17:03:20.739Z"
   },
   {
    "duration": 11,
    "start_time": "2021-11-22T17:03:32.196Z"
   },
   {
    "duration": 22,
    "start_time": "2021-11-22T17:03:40.080Z"
   },
   {
    "duration": 98,
    "start_time": "2021-11-22T17:04:16.047Z"
   },
   {
    "duration": 21,
    "start_time": "2021-11-22T17:04:23.339Z"
   },
   {
    "duration": 3,
    "start_time": "2021-11-22T17:05:04.806Z"
   },
   {
    "duration": 273,
    "start_time": "2021-11-22T17:05:06.425Z"
   },
   {
    "duration": 4,
    "start_time": "2021-11-22T17:05:25.106Z"
   },
   {
    "duration": 4,
    "start_time": "2021-11-22T17:05:34.110Z"
   },
   {
    "duration": 2,
    "start_time": "2021-11-22T17:05:52.889Z"
   },
   {
    "duration": 4,
    "start_time": "2021-11-22T17:06:09.402Z"
   },
   {
    "duration": 7,
    "start_time": "2021-11-22T17:06:12.941Z"
   },
   {
    "duration": 323,
    "start_time": "2021-11-22T17:11:22.074Z"
   },
   {
    "duration": 7,
    "start_time": "2021-11-22T17:12:02.778Z"
   },
   {
    "duration": 8,
    "start_time": "2021-11-22T17:12:26.922Z"
   },
   {
    "duration": 7,
    "start_time": "2021-11-22T17:12:52.510Z"
   },
   {
    "duration": 3,
    "start_time": "2021-11-22T17:13:32.521Z"
   },
   {
    "duration": 7,
    "start_time": "2021-11-22T17:14:13.318Z"
   },
   {
    "duration": 4,
    "start_time": "2021-11-22T17:14:49.335Z"
   },
   {
    "duration": 80,
    "start_time": "2021-11-22T17:15:22.291Z"
   },
   {
    "duration": 4,
    "start_time": "2021-11-22T17:15:25.363Z"
   },
   {
    "duration": 7,
    "start_time": "2021-11-22T17:16:55.677Z"
   },
   {
    "duration": 1556,
    "start_time": "2021-11-22T17:18:53.462Z"
   },
   {
    "duration": 2604,
    "start_time": "2021-11-22T17:18:55.020Z"
   },
   {
    "duration": 2,
    "start_time": "2021-11-22T17:18:57.626Z"
   },
   {
    "duration": 7,
    "start_time": "2021-11-22T17:18:57.630Z"
   },
   {
    "duration": 1236,
    "start_time": "2021-11-22T17:18:57.638Z"
   },
   {
    "duration": 155016,
    "start_time": "2021-11-22T17:18:58.887Z"
   },
   {
    "duration": 10,
    "start_time": "2021-11-22T17:21:33.904Z"
   },
   {
    "duration": 23,
    "start_time": "2021-11-22T17:21:33.916Z"
   },
   {
    "duration": 6015,
    "start_time": "2021-11-22T17:21:33.941Z"
   },
   {
    "duration": 14677,
    "start_time": "2021-11-22T17:21:39.957Z"
   },
   {
    "duration": 652895,
    "start_time": "2021-11-22T17:21:54.636Z"
   },
   {
    "duration": 4,
    "start_time": "2021-11-22T17:32:47.532Z"
   },
   {
    "duration": 34,
    "start_time": "2021-11-22T17:32:47.538Z"
   },
   {
    "duration": 808428,
    "start_time": "2021-11-22T17:32:47.573Z"
   },
   {
    "duration": 203,
    "start_time": "2021-11-22T17:46:16.003Z"
   },
   {
    "duration": 1,
    "start_time": "2021-11-22T17:46:16.208Z"
   },
   {
    "duration": 9,
    "start_time": "2021-11-22T17:46:16.211Z"
   },
   {
    "duration": 6,
    "start_time": "2021-11-22T17:46:16.221Z"
   },
   {
    "duration": 5,
    "start_time": "2021-11-22T17:46:16.229Z"
   },
   {
    "duration": 357,
    "start_time": "2021-11-22T17:46:16.235Z"
   },
   {
    "duration": 4,
    "start_time": "2021-11-22T17:46:16.593Z"
   },
   {
    "duration": 10,
    "start_time": "2021-11-22T17:46:16.598Z"
   },
   {
    "duration": 1654,
    "start_time": "2021-11-23T14:18:08.581Z"
   },
   {
    "duration": 2481,
    "start_time": "2021-11-23T14:18:10.238Z"
   },
   {
    "duration": 3,
    "start_time": "2021-11-23T14:18:12.721Z"
   },
   {
    "duration": 18,
    "start_time": "2021-11-23T14:18:12.726Z"
   },
   {
    "duration": 1225,
    "start_time": "2021-11-23T14:18:12.746Z"
   },
   {
    "duration": 169397,
    "start_time": "2021-11-23T14:18:13.973Z"
   },
   {
    "duration": 11,
    "start_time": "2021-11-23T14:21:03.371Z"
   },
   {
    "duration": 29,
    "start_time": "2021-11-23T14:21:03.384Z"
   },
   {
    "duration": 6322,
    "start_time": "2021-11-23T14:21:03.416Z"
   },
   {
    "duration": 961742,
    "start_time": "2021-11-23T14:21:09.740Z"
   },
   {
    "duration": 16,
    "start_time": "2021-11-23T14:37:11.485Z"
   },
   {
    "duration": 720214,
    "start_time": "2021-11-23T14:37:11.503Z"
   },
   {
    "duration": 3,
    "start_time": "2021-11-23T14:49:11.719Z"
   },
   {
    "duration": 45,
    "start_time": "2021-11-23T14:49:11.724Z"
   },
   {
    "duration": 917674,
    "start_time": "2021-11-23T14:49:11.771Z"
   },
   {
    "duration": 238,
    "start_time": "2021-11-23T15:04:29.447Z"
   },
   {
    "duration": 2,
    "start_time": "2021-11-23T15:04:29.687Z"
   },
   {
    "duration": 8,
    "start_time": "2021-11-23T15:04:29.691Z"
   },
   {
    "duration": 5,
    "start_time": "2021-11-23T15:04:29.700Z"
   },
   {
    "duration": 4,
    "start_time": "2021-11-23T15:04:29.707Z"
   },
   {
    "duration": 418,
    "start_time": "2021-11-23T15:04:29.713Z"
   },
   {
    "duration": 3,
    "start_time": "2021-11-23T15:04:30.133Z"
   },
   {
    "duration": 15,
    "start_time": "2021-11-23T15:04:30.138Z"
   }
  ],
  "kernelspec": {
   "display_name": "Python 3",
   "language": "python",
   "name": "python3"
  },
  "language_info": {
   "codemirror_mode": {
    "name": "ipython",
    "version": 3
   },
   "file_extension": ".py",
   "mimetype": "text/x-python",
   "name": "python",
   "nbconvert_exporter": "python",
   "pygments_lexer": "ipython3",
   "version": "3.8.8"
  },
  "toc": {
   "base_numbering": 1,
   "nav_menu": {},
   "number_sections": true,
   "sideBar": true,
   "skip_h1_title": true,
   "title_cell": "Содержание",
   "title_sidebar": "Contents",
   "toc_cell": true,
   "toc_position": {
    "height": "calc(100% - 180px)",
    "left": "10px",
    "top": "150px",
    "width": "302.391px"
   },
   "toc_section_display": true,
   "toc_window_display": false
  }
 },
 "nbformat": 4,
 "nbformat_minor": 2
}
