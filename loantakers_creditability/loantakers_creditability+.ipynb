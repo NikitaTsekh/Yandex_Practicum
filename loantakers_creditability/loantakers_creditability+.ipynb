{
 "cells": [
  {
   "cell_type": "markdown",
   "metadata": {},
   "source": [
    "# Исследование надёжности заёмщиков\n",
    "\n",
    "Заказчик — кредитный отдел банка. Нужно разобраться, влияет ли семейное положение и количество детей клиента на факт погашения кредита в срок. Входные данные от банка — статистика о платёжеспособности клиентов.\n",
    "\n",
    "Результаты исследования будут учтены при построении модели **кредитного скоринга** — специальной системы, которая оценивает способность потенциального заёмщика вернуть кредит банку."
   ]
  },
  {
   "cell_type": "markdown",
   "metadata": {},
   "source": [
    "# Оглавление\n",
    "1.[Открытие данных](#start)<br>\n",
    "2.[Предобработка данных](#preprocessing)<br>\n",
    "    * [Обработка пропущенных значений](#null)<br>\n",
    "    * [Замена типа данных](#data_change )<br>\n",
    "    * [Обработка дубликатов](#duplicates)<br>\n",
    "    * [Лемматизация](#lemma)<br>\n",
    "    * [Категоризация данных](#category)<br>\n",
    "3.[Ответьте на вопросы](#questions)<br>\n",
    "    * [Есть ли зависимость между наличием детей и возвратом кредита в срок?](#q1)<br>\n",
    "    * [Есть ли зависимость между семейным положением и возвратом кредита в срок?](#q2)<br>\n",
    "    * [Есть ли зависимость между уровнем дохода и возвратом кредита в срок?](#q3)<br>\n",
    "    * [Как разные цели кредита влияют на его возврат в срок?](#q4)<br>\n",
    "4.[Общий вывод](#summary)<br>\n"
   ]
  },
  {
   "cell_type": "markdown",
   "metadata": {},
   "source": [
    "## Шаг 1. Откройте файл с данными и изучите общую информацию\n",
    "<a id=\"start\"></a>"
   ]
  },
  {
   "cell_type": "code",
   "execution_count": 1,
   "metadata": {},
   "outputs": [],
   "source": [
    "import pandas as pd\n",
    "from pymystem3 import Mystem\n",
    "m = Mystem()\n",
    "from collections import Counter"
   ]
  },
  {
   "cell_type": "code",
   "execution_count": 2,
   "metadata": {
    "scrolled": false
   },
   "outputs": [
    {
     "data": {
      "text/html": [
       "<div>\n",
       "<style scoped>\n",
       "    .dataframe tbody tr th:only-of-type {\n",
       "        vertical-align: middle;\n",
       "    }\n",
       "\n",
       "    .dataframe tbody tr th {\n",
       "        vertical-align: top;\n",
       "    }\n",
       "\n",
       "    .dataframe thead th {\n",
       "        text-align: right;\n",
       "    }\n",
       "</style>\n",
       "<table border=\"1\" class=\"dataframe\">\n",
       "  <thead>\n",
       "    <tr style=\"text-align: right;\">\n",
       "      <th></th>\n",
       "      <th>children</th>\n",
       "      <th>days_employed</th>\n",
       "      <th>dob_years</th>\n",
       "      <th>education</th>\n",
       "      <th>education_id</th>\n",
       "      <th>family_status</th>\n",
       "      <th>family_status_id</th>\n",
       "      <th>gender</th>\n",
       "      <th>income_type</th>\n",
       "      <th>debt</th>\n",
       "      <th>total_income</th>\n",
       "      <th>purpose</th>\n",
       "    </tr>\n",
       "  </thead>\n",
       "  <tbody>\n",
       "    <tr>\n",
       "      <td>0</td>\n",
       "      <td>1</td>\n",
       "      <td>-8437.673028</td>\n",
       "      <td>42</td>\n",
       "      <td>высшее</td>\n",
       "      <td>0</td>\n",
       "      <td>женат / замужем</td>\n",
       "      <td>0</td>\n",
       "      <td>F</td>\n",
       "      <td>сотрудник</td>\n",
       "      <td>0</td>\n",
       "      <td>253875.639453</td>\n",
       "      <td>покупка жилья</td>\n",
       "    </tr>\n",
       "    <tr>\n",
       "      <td>1</td>\n",
       "      <td>1</td>\n",
       "      <td>-4024.803754</td>\n",
       "      <td>36</td>\n",
       "      <td>среднее</td>\n",
       "      <td>1</td>\n",
       "      <td>женат / замужем</td>\n",
       "      <td>0</td>\n",
       "      <td>F</td>\n",
       "      <td>сотрудник</td>\n",
       "      <td>0</td>\n",
       "      <td>112080.014102</td>\n",
       "      <td>приобретение автомобиля</td>\n",
       "    </tr>\n",
       "    <tr>\n",
       "      <td>2</td>\n",
       "      <td>0</td>\n",
       "      <td>-5623.422610</td>\n",
       "      <td>33</td>\n",
       "      <td>Среднее</td>\n",
       "      <td>1</td>\n",
       "      <td>женат / замужем</td>\n",
       "      <td>0</td>\n",
       "      <td>M</td>\n",
       "      <td>сотрудник</td>\n",
       "      <td>0</td>\n",
       "      <td>145885.952297</td>\n",
       "      <td>покупка жилья</td>\n",
       "    </tr>\n",
       "    <tr>\n",
       "      <td>3</td>\n",
       "      <td>3</td>\n",
       "      <td>-4124.747207</td>\n",
       "      <td>32</td>\n",
       "      <td>среднее</td>\n",
       "      <td>1</td>\n",
       "      <td>женат / замужем</td>\n",
       "      <td>0</td>\n",
       "      <td>M</td>\n",
       "      <td>сотрудник</td>\n",
       "      <td>0</td>\n",
       "      <td>267628.550329</td>\n",
       "      <td>дополнительное образование</td>\n",
       "    </tr>\n",
       "    <tr>\n",
       "      <td>4</td>\n",
       "      <td>0</td>\n",
       "      <td>340266.072047</td>\n",
       "      <td>53</td>\n",
       "      <td>среднее</td>\n",
       "      <td>1</td>\n",
       "      <td>гражданский брак</td>\n",
       "      <td>1</td>\n",
       "      <td>F</td>\n",
       "      <td>пенсионер</td>\n",
       "      <td>0</td>\n",
       "      <td>158616.077870</td>\n",
       "      <td>сыграть свадьбу</td>\n",
       "    </tr>\n",
       "    <tr>\n",
       "      <td>5</td>\n",
       "      <td>0</td>\n",
       "      <td>-926.185831</td>\n",
       "      <td>27</td>\n",
       "      <td>высшее</td>\n",
       "      <td>0</td>\n",
       "      <td>гражданский брак</td>\n",
       "      <td>1</td>\n",
       "      <td>M</td>\n",
       "      <td>компаньон</td>\n",
       "      <td>0</td>\n",
       "      <td>255763.565419</td>\n",
       "      <td>покупка жилья</td>\n",
       "    </tr>\n",
       "    <tr>\n",
       "      <td>6</td>\n",
       "      <td>0</td>\n",
       "      <td>-2879.202052</td>\n",
       "      <td>43</td>\n",
       "      <td>высшее</td>\n",
       "      <td>0</td>\n",
       "      <td>женат / замужем</td>\n",
       "      <td>0</td>\n",
       "      <td>F</td>\n",
       "      <td>компаньон</td>\n",
       "      <td>0</td>\n",
       "      <td>240525.971920</td>\n",
       "      <td>операции с жильем</td>\n",
       "    </tr>\n",
       "    <tr>\n",
       "      <td>7</td>\n",
       "      <td>0</td>\n",
       "      <td>-152.779569</td>\n",
       "      <td>50</td>\n",
       "      <td>СРЕДНЕЕ</td>\n",
       "      <td>1</td>\n",
       "      <td>женат / замужем</td>\n",
       "      <td>0</td>\n",
       "      <td>M</td>\n",
       "      <td>сотрудник</td>\n",
       "      <td>0</td>\n",
       "      <td>135823.934197</td>\n",
       "      <td>образование</td>\n",
       "    </tr>\n",
       "    <tr>\n",
       "      <td>8</td>\n",
       "      <td>2</td>\n",
       "      <td>-6929.865299</td>\n",
       "      <td>35</td>\n",
       "      <td>ВЫСШЕЕ</td>\n",
       "      <td>0</td>\n",
       "      <td>гражданский брак</td>\n",
       "      <td>1</td>\n",
       "      <td>F</td>\n",
       "      <td>сотрудник</td>\n",
       "      <td>0</td>\n",
       "      <td>95856.832424</td>\n",
       "      <td>на проведение свадьбы</td>\n",
       "    </tr>\n",
       "    <tr>\n",
       "      <td>9</td>\n",
       "      <td>0</td>\n",
       "      <td>-2188.756445</td>\n",
       "      <td>41</td>\n",
       "      <td>среднее</td>\n",
       "      <td>1</td>\n",
       "      <td>женат / замужем</td>\n",
       "      <td>0</td>\n",
       "      <td>M</td>\n",
       "      <td>сотрудник</td>\n",
       "      <td>0</td>\n",
       "      <td>144425.938277</td>\n",
       "      <td>покупка жилья для семьи</td>\n",
       "    </tr>\n",
       "  </tbody>\n",
       "</table>\n",
       "</div>"
      ],
      "text/plain": [
       "   children  days_employed  dob_years education  education_id  \\\n",
       "0         1   -8437.673028         42    высшее             0   \n",
       "1         1   -4024.803754         36   среднее             1   \n",
       "2         0   -5623.422610         33   Среднее             1   \n",
       "3         3   -4124.747207         32   среднее             1   \n",
       "4         0  340266.072047         53   среднее             1   \n",
       "5         0    -926.185831         27    высшее             0   \n",
       "6         0   -2879.202052         43    высшее             0   \n",
       "7         0    -152.779569         50   СРЕДНЕЕ             1   \n",
       "8         2   -6929.865299         35    ВЫСШЕЕ             0   \n",
       "9         0   -2188.756445         41   среднее             1   \n",
       "\n",
       "      family_status  family_status_id gender income_type  debt   total_income  \\\n",
       "0   женат / замужем                 0      F   сотрудник     0  253875.639453   \n",
       "1   женат / замужем                 0      F   сотрудник     0  112080.014102   \n",
       "2   женат / замужем                 0      M   сотрудник     0  145885.952297   \n",
       "3   женат / замужем                 0      M   сотрудник     0  267628.550329   \n",
       "4  гражданский брак                 1      F   пенсионер     0  158616.077870   \n",
       "5  гражданский брак                 1      M   компаньон     0  255763.565419   \n",
       "6   женат / замужем                 0      F   компаньон     0  240525.971920   \n",
       "7   женат / замужем                 0      M   сотрудник     0  135823.934197   \n",
       "8  гражданский брак                 1      F   сотрудник     0   95856.832424   \n",
       "9   женат / замужем                 0      M   сотрудник     0  144425.938277   \n",
       "\n",
       "                      purpose  \n",
       "0               покупка жилья  \n",
       "1     приобретение автомобиля  \n",
       "2               покупка жилья  \n",
       "3  дополнительное образование  \n",
       "4             сыграть свадьбу  \n",
       "5               покупка жилья  \n",
       "6           операции с жильем  \n",
       "7                 образование  \n",
       "8       на проведение свадьбы  \n",
       "9     покупка жилья для семьи  "
      ]
     },
     "metadata": {},
     "output_type": "display_data"
    },
    {
     "name": "stdout",
     "output_type": "stream",
     "text": [
      "<class 'pandas.core.frame.DataFrame'>\n",
      "RangeIndex: 21525 entries, 0 to 21524\n",
      "Data columns (total 12 columns):\n",
      "children            21525 non-null int64\n",
      "days_employed       19351 non-null float64\n",
      "dob_years           21525 non-null int64\n",
      "education           21525 non-null object\n",
      "education_id        21525 non-null int64\n",
      "family_status       21525 non-null object\n",
      "family_status_id    21525 non-null int64\n",
      "gender              21525 non-null object\n",
      "income_type         21525 non-null object\n",
      "debt                21525 non-null int64\n",
      "total_income        19351 non-null float64\n",
      "purpose             21525 non-null object\n",
      "dtypes: float64(2), int64(5), object(5)\n",
      "memory usage: 2.0+ MB\n",
      "None\n"
     ]
    }
   ],
   "source": [
    "data= pd.read_csv('/datasets/data.csv')\n",
    "#изучаем таблицу, пока бегло\n",
    "display(data.head(10))\n",
    "print(data.info()) #изучаем таблицу/Замечаем пропуски в колонках 'days_employed' и 'total_income'\n"
   ]
  },
  {
   "cell_type": "markdown",
   "metadata": {},
   "source": [
    "Наш датасет `data` состоит из 12 колонок и 21525 строк. Уже при первом взгляде видны ошибки. Рассмотрим  каждую колонку по отдельности."
   ]
  },
  {
   "cell_type": "code",
   "execution_count": 3,
   "metadata": {},
   "outputs": [
    {
     "data": {
      "text/plain": [
       "60.0"
      ]
     },
     "execution_count": 3,
     "metadata": {},
     "output_type": "execute_result"
    }
   ],
   "source": [
    "data[(data['income_type']=='пенсионер')&(data['dob_years']!=0)]['dob_years'].median()"
   ]
  },
  {
   "cell_type": "code",
   "execution_count": 4,
   "metadata": {},
   "outputs": [
    {
     "name": "stdout",
     "output_type": "stream",
     "text": [
      "сотрудник 39 пенсионер 60 компаньон 39 госслужащий 40\n"
     ]
    }
   ],
   "source": [
    "#смотрим уникальные значения в столбце \"children\"\n",
    "#print('Количество детей\\n',data['children'].value_counts()) \n",
    "#замечаем значения \"\"-1\" и \"20\". Значения \"\"-1\" вероятно опечатка от \"1\". 20 вероятно опечатка от \"2\",\n",
    "#лишний \"0\".Заменим эти значения на верные.\n",
    "data['children']=data['children'].replace(-1, 1)\n",
    "data['children']=data['children'].replace(20, 2)\n",
    "\n",
    "#Вычислим медианный возраст для каждой из нужных нам групп и округлим до целых\n",
    "median_dob_years_sotrudnik = int(data[(data['income_type']=='сотрудник')&(data['dob_years']!=0)]['dob_years'].median())\n",
    "median_dob_years_pensioner= int(data[(data['income_type']=='пенсионер')&(data['dob_years']!=0)]['dob_years'].median())\n",
    "median_dob_years_companion= int(data[(data['income_type']=='компаньон')&(data['dob_years']!=0)]['dob_years'].median())\n",
    "median_dob_years_gossluz = int(data[(data['income_type']=='госслужащий')&(data['dob_years']!=0)]['dob_years'].median())\n",
    "#посмотрим на результат\n",
    "print('сотрудник', median_dob_years_sotrudnik,'пенсионер',median_dob_years_pensioner,'компаньон',median_dob_years_companion,'госслужащий',median_dob_years_gossluz)\n"
   ]
  },
  {
   "cell_type": "code",
   "execution_count": 5,
   "metadata": {},
   "outputs": [
    {
     "data": {
      "text/html": [
       "<div>\n",
       "<style scoped>\n",
       "    .dataframe tbody tr th:only-of-type {\n",
       "        vertical-align: middle;\n",
       "    }\n",
       "\n",
       "    .dataframe tbody tr th {\n",
       "        vertical-align: top;\n",
       "    }\n",
       "\n",
       "    .dataframe thead th {\n",
       "        text-align: right;\n",
       "    }\n",
       "</style>\n",
       "<table border=\"1\" class=\"dataframe\">\n",
       "  <thead>\n",
       "    <tr style=\"text-align: right;\">\n",
       "      <th></th>\n",
       "      <th>children</th>\n",
       "      <th>days_employed</th>\n",
       "      <th>dob_years</th>\n",
       "      <th>education</th>\n",
       "      <th>education_id</th>\n",
       "      <th>family_status</th>\n",
       "      <th>family_status_id</th>\n",
       "      <th>gender</th>\n",
       "      <th>income_type</th>\n",
       "      <th>debt</th>\n",
       "      <th>total_income</th>\n",
       "      <th>purpose</th>\n",
       "    </tr>\n",
       "  </thead>\n",
       "  <tbody>\n",
       "    <tr>\n",
       "      <td>0</td>\n",
       "      <td>1</td>\n",
       "      <td>-8437.673028</td>\n",
       "      <td>42</td>\n",
       "      <td>высшее</td>\n",
       "      <td>0</td>\n",
       "      <td>женат / замужем</td>\n",
       "      <td>0</td>\n",
       "      <td>F</td>\n",
       "      <td>сотрудник</td>\n",
       "      <td>0</td>\n",
       "      <td>253876.0</td>\n",
       "      <td>покупка жилья</td>\n",
       "    </tr>\n",
       "    <tr>\n",
       "      <td>1</td>\n",
       "      <td>1</td>\n",
       "      <td>-4024.803754</td>\n",
       "      <td>36</td>\n",
       "      <td>среднее</td>\n",
       "      <td>1</td>\n",
       "      <td>женат / замужем</td>\n",
       "      <td>0</td>\n",
       "      <td>F</td>\n",
       "      <td>сотрудник</td>\n",
       "      <td>0</td>\n",
       "      <td>112080.0</td>\n",
       "      <td>приобретение автомобиля</td>\n",
       "    </tr>\n",
       "    <tr>\n",
       "      <td>2</td>\n",
       "      <td>0</td>\n",
       "      <td>-5623.422610</td>\n",
       "      <td>33</td>\n",
       "      <td>среднее</td>\n",
       "      <td>1</td>\n",
       "      <td>женат / замужем</td>\n",
       "      <td>0</td>\n",
       "      <td>M</td>\n",
       "      <td>сотрудник</td>\n",
       "      <td>0</td>\n",
       "      <td>145886.0</td>\n",
       "      <td>покупка жилья</td>\n",
       "    </tr>\n",
       "    <tr>\n",
       "      <td>3</td>\n",
       "      <td>3</td>\n",
       "      <td>-4124.747207</td>\n",
       "      <td>32</td>\n",
       "      <td>среднее</td>\n",
       "      <td>1</td>\n",
       "      <td>женат / замужем</td>\n",
       "      <td>0</td>\n",
       "      <td>M</td>\n",
       "      <td>сотрудник</td>\n",
       "      <td>0</td>\n",
       "      <td>267629.0</td>\n",
       "      <td>дополнительное образование</td>\n",
       "    </tr>\n",
       "    <tr>\n",
       "      <td>4</td>\n",
       "      <td>0</td>\n",
       "      <td>340266.072047</td>\n",
       "      <td>53</td>\n",
       "      <td>среднее</td>\n",
       "      <td>1</td>\n",
       "      <td>гражданский брак</td>\n",
       "      <td>1</td>\n",
       "      <td>F</td>\n",
       "      <td>пенсионер</td>\n",
       "      <td>0</td>\n",
       "      <td>158616.0</td>\n",
       "      <td>сыграть свадьбу</td>\n",
       "    </tr>\n",
       "    <tr>\n",
       "      <td>5</td>\n",
       "      <td>0</td>\n",
       "      <td>-926.185831</td>\n",
       "      <td>27</td>\n",
       "      <td>высшее</td>\n",
       "      <td>0</td>\n",
       "      <td>гражданский брак</td>\n",
       "      <td>1</td>\n",
       "      <td>M</td>\n",
       "      <td>компаньон</td>\n",
       "      <td>0</td>\n",
       "      <td>255764.0</td>\n",
       "      <td>покупка жилья</td>\n",
       "    </tr>\n",
       "    <tr>\n",
       "      <td>6</td>\n",
       "      <td>0</td>\n",
       "      <td>-2879.202052</td>\n",
       "      <td>43</td>\n",
       "      <td>высшее</td>\n",
       "      <td>0</td>\n",
       "      <td>женат / замужем</td>\n",
       "      <td>0</td>\n",
       "      <td>F</td>\n",
       "      <td>компаньон</td>\n",
       "      <td>0</td>\n",
       "      <td>240526.0</td>\n",
       "      <td>операции с жильем</td>\n",
       "    </tr>\n",
       "    <tr>\n",
       "      <td>7</td>\n",
       "      <td>0</td>\n",
       "      <td>-152.779569</td>\n",
       "      <td>50</td>\n",
       "      <td>среднее</td>\n",
       "      <td>1</td>\n",
       "      <td>женат / замужем</td>\n",
       "      <td>0</td>\n",
       "      <td>M</td>\n",
       "      <td>сотрудник</td>\n",
       "      <td>0</td>\n",
       "      <td>135824.0</td>\n",
       "      <td>образование</td>\n",
       "    </tr>\n",
       "    <tr>\n",
       "      <td>8</td>\n",
       "      <td>2</td>\n",
       "      <td>-6929.865299</td>\n",
       "      <td>35</td>\n",
       "      <td>высшее</td>\n",
       "      <td>0</td>\n",
       "      <td>гражданский брак</td>\n",
       "      <td>1</td>\n",
       "      <td>F</td>\n",
       "      <td>сотрудник</td>\n",
       "      <td>0</td>\n",
       "      <td>95857.0</td>\n",
       "      <td>на проведение свадьбы</td>\n",
       "    </tr>\n",
       "    <tr>\n",
       "      <td>9</td>\n",
       "      <td>0</td>\n",
       "      <td>-2188.756445</td>\n",
       "      <td>41</td>\n",
       "      <td>среднее</td>\n",
       "      <td>1</td>\n",
       "      <td>женат / замужем</td>\n",
       "      <td>0</td>\n",
       "      <td>M</td>\n",
       "      <td>сотрудник</td>\n",
       "      <td>0</td>\n",
       "      <td>144426.0</td>\n",
       "      <td>покупка жилья для семьи</td>\n",
       "    </tr>\n",
       "  </tbody>\n",
       "</table>\n",
       "</div>"
      ],
      "text/plain": [
       "   children  days_employed  dob_years education  education_id  \\\n",
       "0         1   -8437.673028         42    высшее             0   \n",
       "1         1   -4024.803754         36   среднее             1   \n",
       "2         0   -5623.422610         33   среднее             1   \n",
       "3         3   -4124.747207         32   среднее             1   \n",
       "4         0  340266.072047         53   среднее             1   \n",
       "5         0    -926.185831         27    высшее             0   \n",
       "6         0   -2879.202052         43    высшее             0   \n",
       "7         0    -152.779569         50   среднее             1   \n",
       "8         2   -6929.865299         35    высшее             0   \n",
       "9         0   -2188.756445         41   среднее             1   \n",
       "\n",
       "      family_status  family_status_id gender income_type  debt  total_income  \\\n",
       "0   женат / замужем                 0      F   сотрудник     0      253876.0   \n",
       "1   женат / замужем                 0      F   сотрудник     0      112080.0   \n",
       "2   женат / замужем                 0      M   сотрудник     0      145886.0   \n",
       "3   женат / замужем                 0      M   сотрудник     0      267629.0   \n",
       "4  гражданский брак                 1      F   пенсионер     0      158616.0   \n",
       "5  гражданский брак                 1      M   компаньон     0      255764.0   \n",
       "6   женат / замужем                 0      F   компаньон     0      240526.0   \n",
       "7   женат / замужем                 0      M   сотрудник     0      135824.0   \n",
       "8  гражданский брак                 1      F   сотрудник     0       95857.0   \n",
       "9   женат / замужем                 0      M   сотрудник     0      144426.0   \n",
       "\n",
       "                      purpose  \n",
       "0               покупка жилья  \n",
       "1     приобретение автомобиля  \n",
       "2               покупка жилья  \n",
       "3  дополнительное образование  \n",
       "4             сыграть свадьбу  \n",
       "5               покупка жилья  \n",
       "6           операции с жильем  \n",
       "7                 образование  \n",
       "8       на проведение свадьбы  \n",
       "9     покупка жилья для семьи  "
      ]
     },
     "metadata": {},
     "output_type": "display_data"
    }
   ],
   "source": [
    "#подставим значения этих переменных  в соответствующие ячейки.Напишем функцию и добавим ее методом apply \n",
    "def wrong_age(row):\n",
    "    years = row['dob_years']\n",
    "    income = row['income_type']\n",
    "\n",
    "    if (years == 0) & (income=='сотрудник'):\n",
    "        return median_dob_years_sotrudnik\n",
    "    if (years == 0) & (income=='пенсионер'):\n",
    "        return median_dob_years_pensioner\n",
    "    if (years == 0) & (income=='компаньон'):\n",
    "        return median_dob_years_companion\n",
    "    if (years == 0) & (income=='госслужащий'):\n",
    "        return median_dob_years_gossluz\n",
    "    return years\n",
    "\n",
    "data['dob_years']=data.apply(wrong_age, axis=1)\n",
    "data['education'] = data['education'].str.lower()\n",
    "data['family_status'] = data['family_status'].str.lower()\n",
    "data['gender']=data['gender'].replace('XNA', 'F')\n",
    "data['total_income']=data['total_income'].round()\n",
    "display(data.head(10))\n"
   ]
  },
  {
   "cell_type": "markdown",
   "metadata": {},
   "source": [
    "На данном этапе мы выполнили первичные преобразования со всеми колонками, кроме`days_employed`. Будем работать с ней в следующем блоке, т.к. она требует больше всего преобразований."
   ]
  },
  {
   "cell_type": "code",
   "execution_count": 6,
   "metadata": {},
   "outputs": [
    {
     "name": "stdout",
     "output_type": "stream",
     "text": [
      "Минимальный трудовой стаж клиента -18388.949900568383\n"
     ]
    }
   ],
   "source": [
    "#смотрим минимальное значение в столбце \"общий трудовой стаж в днях\"\n",
    "print('Минимальный трудовой стаж клиента',data['days_employed'].min())"
   ]
  },
  {
   "cell_type": "code",
   "execution_count": 7,
   "metadata": {},
   "outputs": [
    {
     "name": "stdout",
     "output_type": "stream",
     "text": [
      "0.7389547038327526\n"
     ]
    }
   ],
   "source": [
    "#значения отрицательные. Так быть не может. Проверим их общее количество по отношению к длине столбца\n",
    "print(data[(data['days_employed']<0)]['days_employed'].count()/len(data['days_employed']))"
   ]
  },
  {
   "cell_type": "code",
   "execution_count": 8,
   "metadata": {},
   "outputs": [
    {
     "name": "stdout",
     "output_type": "stream",
     "text": [
      "0\n"
     ]
    }
   ],
   "source": [
    "#Их около 74%. Похоже ошибка в знаке минус, потому что по модулю отрицательного значению минмального значение\n",
    "#при переводе в года получается 50 лет, что вполне возможно\n",
    "#Заменим значения на противоположные по знаку\n",
    "data['days_employed'] = data['days_employed'].apply(lambda i : i*(-1) if i < 0 else i)\n",
    "#проверим количество строк с отрицательными значениями.\n",
    "print(data[(data['days_employed']<0)]['days_employed'].count())\n"
   ]
  },
  {
   "cell_type": "code",
   "execution_count": 9,
   "metadata": {},
   "outputs": [
    {
     "name": "stdout",
     "output_type": "stream",
     "text": [
      "Максимальный трудовой стаж клиента 401755.0\n"
     ]
    }
   ],
   "source": [
    "#округлим значения до целых\n",
    "data['days_employed']=data['days_employed'].round()\n",
    "#смотрим максимальное значение в столбце \"общий трудовой стаж в днях\"\n",
    "print('Максимальный трудовой стаж клиента',data['days_employed'].max())"
   ]
  },
  {
   "cell_type": "code",
   "execution_count": 10,
   "metadata": {},
   "outputs": [
    {
     "data": {
      "text/html": [
       "<div>\n",
       "<style scoped>\n",
       "    .dataframe tbody tr th:only-of-type {\n",
       "        vertical-align: middle;\n",
       "    }\n",
       "\n",
       "    .dataframe tbody tr th {\n",
       "        vertical-align: top;\n",
       "    }\n",
       "\n",
       "    .dataframe thead th {\n",
       "        text-align: right;\n",
       "    }\n",
       "</style>\n",
       "<table border=\"1\" class=\"dataframe\">\n",
       "  <thead>\n",
       "    <tr style=\"text-align: right;\">\n",
       "      <th></th>\n",
       "      <th>children</th>\n",
       "      <th>days_employed</th>\n",
       "      <th>dob_years</th>\n",
       "      <th>education_id</th>\n",
       "      <th>family_status_id</th>\n",
       "      <th>debt</th>\n",
       "      <th>total_income</th>\n",
       "    </tr>\n",
       "  </thead>\n",
       "  <tbody>\n",
       "    <tr>\n",
       "      <td>count</td>\n",
       "      <td>21525.000000</td>\n",
       "      <td>19351.000000</td>\n",
       "      <td>21525.000000</td>\n",
       "      <td>21525.000000</td>\n",
       "      <td>21525.000000</td>\n",
       "      <td>21525.000000</td>\n",
       "      <td>1.935100e+04</td>\n",
       "    </tr>\n",
       "    <tr>\n",
       "      <td>mean</td>\n",
       "      <td>0.479721</td>\n",
       "      <td>66914.727973</td>\n",
       "      <td>43.496167</td>\n",
       "      <td>0.817236</td>\n",
       "      <td>0.972544</td>\n",
       "      <td>0.080883</td>\n",
       "      <td>1.674223e+05</td>\n",
       "    </tr>\n",
       "    <tr>\n",
       "      <td>std</td>\n",
       "      <td>0.755528</td>\n",
       "      <td>139030.879631</td>\n",
       "      <td>12.231538</td>\n",
       "      <td>0.548138</td>\n",
       "      <td>1.420324</td>\n",
       "      <td>0.272661</td>\n",
       "      <td>1.029716e+05</td>\n",
       "    </tr>\n",
       "    <tr>\n",
       "      <td>min</td>\n",
       "      <td>0.000000</td>\n",
       "      <td>24.000000</td>\n",
       "      <td>19.000000</td>\n",
       "      <td>0.000000</td>\n",
       "      <td>0.000000</td>\n",
       "      <td>0.000000</td>\n",
       "      <td>2.066700e+04</td>\n",
       "    </tr>\n",
       "    <tr>\n",
       "      <td>25%</td>\n",
       "      <td>0.000000</td>\n",
       "      <td>927.000000</td>\n",
       "      <td>34.000000</td>\n",
       "      <td>1.000000</td>\n",
       "      <td>0.000000</td>\n",
       "      <td>0.000000</td>\n",
       "      <td>1.030530e+05</td>\n",
       "    </tr>\n",
       "    <tr>\n",
       "      <td>50%</td>\n",
       "      <td>0.000000</td>\n",
       "      <td>2194.000000</td>\n",
       "      <td>43.000000</td>\n",
       "      <td>1.000000</td>\n",
       "      <td>0.000000</td>\n",
       "      <td>0.000000</td>\n",
       "      <td>1.450180e+05</td>\n",
       "    </tr>\n",
       "    <tr>\n",
       "      <td>75%</td>\n",
       "      <td>1.000000</td>\n",
       "      <td>5538.000000</td>\n",
       "      <td>53.000000</td>\n",
       "      <td>1.000000</td>\n",
       "      <td>1.000000</td>\n",
       "      <td>0.000000</td>\n",
       "      <td>2.034350e+05</td>\n",
       "    </tr>\n",
       "    <tr>\n",
       "      <td>max</td>\n",
       "      <td>5.000000</td>\n",
       "      <td>401755.000000</td>\n",
       "      <td>75.000000</td>\n",
       "      <td>4.000000</td>\n",
       "      <td>4.000000</td>\n",
       "      <td>1.000000</td>\n",
       "      <td>2.265604e+06</td>\n",
       "    </tr>\n",
       "  </tbody>\n",
       "</table>\n",
       "</div>"
      ],
      "text/plain": [
       "           children  days_employed     dob_years  education_id  \\\n",
       "count  21525.000000   19351.000000  21525.000000  21525.000000   \n",
       "mean       0.479721   66914.727973     43.496167      0.817236   \n",
       "std        0.755528  139030.879631     12.231538      0.548138   \n",
       "min        0.000000      24.000000     19.000000      0.000000   \n",
       "25%        0.000000     927.000000     34.000000      1.000000   \n",
       "50%        0.000000    2194.000000     43.000000      1.000000   \n",
       "75%        1.000000    5538.000000     53.000000      1.000000   \n",
       "max        5.000000  401755.000000     75.000000      4.000000   \n",
       "\n",
       "       family_status_id          debt  total_income  \n",
       "count      21525.000000  21525.000000  1.935100e+04  \n",
       "mean           0.972544      0.080883  1.674223e+05  \n",
       "std            1.420324      0.272661  1.029716e+05  \n",
       "min            0.000000      0.000000  2.066700e+04  \n",
       "25%            0.000000      0.000000  1.030530e+05  \n",
       "50%            0.000000      0.000000  1.450180e+05  \n",
       "75%            1.000000      0.000000  2.034350e+05  \n",
       "max            4.000000      1.000000  2.265604e+06  "
      ]
     },
     "execution_count": 10,
     "metadata": {},
     "output_type": "execute_result"
    }
   ],
   "source": [
    "\n",
    "\n",
    "#Выдача 401755.0, что в годах составляет 1100 лет.\n",
    "#Надо посмотреть поближе на максимальные значения столбца, для этого отсортируем его по убыванию\n",
    "data.describe()"
   ]
  },
  {
   "cell_type": "code",
   "execution_count": 11,
   "metadata": {},
   "outputs": [
    {
     "name": "stdout",
     "output_type": "stream",
     "text": [
      "3445\n"
     ]
    }
   ],
   "source": [
    "#Поищем сколько таких \"неразумных значений\". У человека вряд ли может быть больше 70 лет стажа,\n",
    "#даже в экстремальных случаях  70 х 365 = 25 550 дней.  \n",
    "#Посчитаем строки со значеникм больше данного.\n",
    "print(data[(data['days_employed']>25550)]['days_employed'].count())"
   ]
  },
  {
   "cell_type": "code",
   "execution_count": 12,
   "metadata": {},
   "outputs": [
    {
     "name": "stdout",
     "output_type": "stream",
     "text": [
      "3454\n"
     ]
    }
   ],
   "source": [
    "#получаем 3445 такимх значений\n",
    "#Попробуем найти границу аномальной зоны\n",
    "print(data[(data['days_employed']>15550)]['days_employed'].count())"
   ]
  },
  {
   "cell_type": "code",
   "execution_count": 13,
   "metadata": {},
   "outputs": [
    {
     "data": {
      "text/html": [
       "<div>\n",
       "<style scoped>\n",
       "    .dataframe tbody tr th:only-of-type {\n",
       "        vertical-align: middle;\n",
       "    }\n",
       "\n",
       "    .dataframe tbody tr th {\n",
       "        vertical-align: top;\n",
       "    }\n",
       "\n",
       "    .dataframe thead th {\n",
       "        text-align: right;\n",
       "    }\n",
       "</style>\n",
       "<table border=\"1\" class=\"dataframe\">\n",
       "  <thead>\n",
       "    <tr style=\"text-align: right;\">\n",
       "      <th></th>\n",
       "      <th>children</th>\n",
       "      <th>days_employed</th>\n",
       "      <th>dob_years</th>\n",
       "      <th>education</th>\n",
       "      <th>education_id</th>\n",
       "      <th>family_status</th>\n",
       "      <th>family_status_id</th>\n",
       "      <th>gender</th>\n",
       "      <th>income_type</th>\n",
       "      <th>debt</th>\n",
       "      <th>total_income</th>\n",
       "      <th>purpose</th>\n",
       "    </tr>\n",
       "  </thead>\n",
       "  <tbody>\n",
       "    <tr>\n",
       "      <td>6954</td>\n",
       "      <td>0</td>\n",
       "      <td>401755.0</td>\n",
       "      <td>56</td>\n",
       "      <td>среднее</td>\n",
       "      <td>1</td>\n",
       "      <td>вдовец / вдова</td>\n",
       "      <td>2</td>\n",
       "      <td>F</td>\n",
       "      <td>пенсионер</td>\n",
       "      <td>0</td>\n",
       "      <td>176278.0</td>\n",
       "      <td>ремонт жилью</td>\n",
       "    </tr>\n",
       "    <tr>\n",
       "      <td>10006</td>\n",
       "      <td>0</td>\n",
       "      <td>401716.0</td>\n",
       "      <td>69</td>\n",
       "      <td>высшее</td>\n",
       "      <td>0</td>\n",
       "      <td>не женат / не замужем</td>\n",
       "      <td>4</td>\n",
       "      <td>F</td>\n",
       "      <td>пенсионер</td>\n",
       "      <td>0</td>\n",
       "      <td>57390.0</td>\n",
       "      <td>получение образования</td>\n",
       "    </tr>\n",
       "    <tr>\n",
       "      <td>7664</td>\n",
       "      <td>1</td>\n",
       "      <td>401675.0</td>\n",
       "      <td>61</td>\n",
       "      <td>среднее</td>\n",
       "      <td>1</td>\n",
       "      <td>женат / замужем</td>\n",
       "      <td>0</td>\n",
       "      <td>F</td>\n",
       "      <td>пенсионер</td>\n",
       "      <td>0</td>\n",
       "      <td>126215.0</td>\n",
       "      <td>операции с жильем</td>\n",
       "    </tr>\n",
       "    <tr>\n",
       "      <td>2156</td>\n",
       "      <td>0</td>\n",
       "      <td>401674.0</td>\n",
       "      <td>60</td>\n",
       "      <td>среднее</td>\n",
       "      <td>1</td>\n",
       "      <td>женат / замужем</td>\n",
       "      <td>0</td>\n",
       "      <td>M</td>\n",
       "      <td>пенсионер</td>\n",
       "      <td>0</td>\n",
       "      <td>325396.0</td>\n",
       "      <td>автомобили</td>\n",
       "    </tr>\n",
       "    <tr>\n",
       "      <td>7794</td>\n",
       "      <td>0</td>\n",
       "      <td>401664.0</td>\n",
       "      <td>61</td>\n",
       "      <td>среднее</td>\n",
       "      <td>1</td>\n",
       "      <td>гражданский брак</td>\n",
       "      <td>1</td>\n",
       "      <td>F</td>\n",
       "      <td>пенсионер</td>\n",
       "      <td>0</td>\n",
       "      <td>48286.0</td>\n",
       "      <td>свадьба</td>\n",
       "    </tr>\n",
       "  </tbody>\n",
       "</table>\n",
       "</div>"
      ],
      "text/plain": [
       "       children  days_employed  dob_years education  education_id  \\\n",
       "6954          0       401755.0         56   среднее             1   \n",
       "10006         0       401716.0         69    высшее             0   \n",
       "7664          1       401675.0         61   среднее             1   \n",
       "2156          0       401674.0         60   среднее             1   \n",
       "7794          0       401664.0         61   среднее             1   \n",
       "\n",
       "               family_status  family_status_id gender income_type  debt  \\\n",
       "6954          вдовец / вдова                 2      F   пенсионер     0   \n",
       "10006  не женат / не замужем                 4      F   пенсионер     0   \n",
       "7664         женат / замужем                 0      F   пенсионер     0   \n",
       "2156         женат / замужем                 0      M   пенсионер     0   \n",
       "7794        гражданский брак                 1      F   пенсионер     0   \n",
       "\n",
       "       total_income                purpose  \n",
       "6954       176278.0           ремонт жилью  \n",
       "10006       57390.0  получение образования  \n",
       "7664       126215.0      операции с жильем  \n",
       "2156       325396.0             автомобили  \n",
       "7794        48286.0                свадьба  "
      ]
     },
     "metadata": {},
     "output_type": "display_data"
    }
   ],
   "source": [
    "\n",
    "#получаем 3454 таких значений. Значений стало больше всего на 9 шт.Можно условно считать что граница на 25550\n",
    "#смотрим на таблицу с аномальными значениями, чтобы сравнить значения по отношению к соседним колонкам\n",
    "display(data[(data['days_employed']>25550)].sort_values(by = 'days_employed', ascending = False).head())"
   ]
  },
  {
   "cell_type": "code",
   "execution_count": 14,
   "metadata": {},
   "outputs": [
    {
     "name": "stdout",
     "output_type": "stream",
     "text": [
      "пенсионер      3443\n",
      "безработный       2\n",
      "Name: income_type, dtype: int64\n"
     ]
    }
   ],
   "source": [
    "#Была гипотеза  о часах, не переведенных в дни. Но не сработала,так как в выдаче\n",
    "#есть клиенты возрастом 32 года и 328827.0 в столбце 'days_employed'\n",
    "#что при гипотезе данной ошибки дает  328827/365/24 = 37,5 лет (больше возраста клиента)\n",
    "#Далее встречаются аналогичные значения.\n",
    "#Установить причину аномалии проблематично без контакта с составителем датасета, поэтому скорректируем эти значения.\n",
    "#как медиану по категории 'income_type' (как вариант)\n",
    "#создадим вспомогательные массивы с аномальными и нормальными значениями 'days-employed'.\n",
    "#добавим copy() чтобы не выпадало предупреждение SettingWithCopyWarning при попытке перезаписать эти массивы\n",
    "dataset_anomal = data[(data['days_employed']>=25550)].copy()\n",
    "dataset_normal =data[(data['days_employed']<25550)].copy()\n",
    "#посмотрим на значения 'income_type' в аномлаьном массиве\n",
    "print(dataset_anomal['income_type'].value_counts())"
   ]
  },
  {
   "cell_type": "code",
   "execution_count": 15,
   "metadata": {},
   "outputs": [
    {
     "name": "stdout",
     "output_type": "stream",
     "text": [
      "сотрудник          10014\n",
      "компаньон           4577\n",
      "госслужащий         1312\n",
      "предприниматель        1\n",
      "в декрете              1\n",
      "студент                1\n",
      "Name: income_type, dtype: int64\n"
     ]
    }
   ],
   "source": [
    "#посмотрим на значения 'income_type' в нормальном массиве\n",
    "print(dataset_normal['income_type'].value_counts())"
   ]
  },
  {
   "cell_type": "code",
   "execution_count": 16,
   "metadata": {},
   "outputs": [
    {
     "data": {
      "text/html": [
       "<div>\n",
       "<style scoped>\n",
       "    .dataframe tbody tr th:only-of-type {\n",
       "        vertical-align: middle;\n",
       "    }\n",
       "\n",
       "    .dataframe tbody tr th {\n",
       "        vertical-align: top;\n",
       "    }\n",
       "\n",
       "    .dataframe thead th {\n",
       "        text-align: right;\n",
       "    }\n",
       "</style>\n",
       "<table border=\"1\" class=\"dataframe\">\n",
       "  <thead>\n",
       "    <tr style=\"text-align: right;\">\n",
       "      <th></th>\n",
       "      <th>children</th>\n",
       "      <th>days_employed</th>\n",
       "      <th>dob_years</th>\n",
       "      <th>education</th>\n",
       "      <th>education_id</th>\n",
       "      <th>family_status</th>\n",
       "      <th>family_status_id</th>\n",
       "      <th>gender</th>\n",
       "      <th>income_type</th>\n",
       "      <th>debt</th>\n",
       "      <th>total_income</th>\n",
       "      <th>purpose</th>\n",
       "    </tr>\n",
       "  </thead>\n",
       "  <tbody>\n",
       "    <tr>\n",
       "      <td>6986</td>\n",
       "      <td>0</td>\n",
       "      <td>6089.0</td>\n",
       "      <td>56</td>\n",
       "      <td>высшее</td>\n",
       "      <td>0</td>\n",
       "      <td>женат / замужем</td>\n",
       "      <td>0</td>\n",
       "      <td>F</td>\n",
       "      <td>сотрудник</td>\n",
       "      <td>0</td>\n",
       "      <td>220458.0</td>\n",
       "      <td>получение высшего образования</td>\n",
       "    </tr>\n",
       "    <tr>\n",
       "      <td>19660</td>\n",
       "      <td>1</td>\n",
       "      <td>441.0</td>\n",
       "      <td>60</td>\n",
       "      <td>неоконченное высшее</td>\n",
       "      <td>2</td>\n",
       "      <td>в разводе</td>\n",
       "      <td>3</td>\n",
       "      <td>M</td>\n",
       "      <td>сотрудник</td>\n",
       "      <td>0</td>\n",
       "      <td>128055.0</td>\n",
       "      <td>недвижимость</td>\n",
       "    </tr>\n",
       "    <tr>\n",
       "      <td>4158</td>\n",
       "      <td>0</td>\n",
       "      <td>1544.0</td>\n",
       "      <td>51</td>\n",
       "      <td>среднее</td>\n",
       "      <td>1</td>\n",
       "      <td>не женат / не замужем</td>\n",
       "      <td>4</td>\n",
       "      <td>F</td>\n",
       "      <td>сотрудник</td>\n",
       "      <td>0</td>\n",
       "      <td>110513.0</td>\n",
       "      <td>на покупку автомобиля</td>\n",
       "    </tr>\n",
       "    <tr>\n",
       "      <td>12965</td>\n",
       "      <td>0</td>\n",
       "      <td>4216.0</td>\n",
       "      <td>59</td>\n",
       "      <td>высшее</td>\n",
       "      <td>0</td>\n",
       "      <td>в разводе</td>\n",
       "      <td>3</td>\n",
       "      <td>F</td>\n",
       "      <td>компаньон</td>\n",
       "      <td>0</td>\n",
       "      <td>653203.0</td>\n",
       "      <td>строительство жилой недвижимости</td>\n",
       "    </tr>\n",
       "    <tr>\n",
       "      <td>19694</td>\n",
       "      <td>0</td>\n",
       "      <td>8379.0</td>\n",
       "      <td>54</td>\n",
       "      <td>среднее</td>\n",
       "      <td>1</td>\n",
       "      <td>гражданский брак</td>\n",
       "      <td>1</td>\n",
       "      <td>M</td>\n",
       "      <td>компаньон</td>\n",
       "      <td>0</td>\n",
       "      <td>114310.0</td>\n",
       "      <td>строительство недвижимости</td>\n",
       "    </tr>\n",
       "    <tr>\n",
       "      <td>9099</td>\n",
       "      <td>0</td>\n",
       "      <td>1651.0</td>\n",
       "      <td>53</td>\n",
       "      <td>среднее</td>\n",
       "      <td>1</td>\n",
       "      <td>гражданский брак</td>\n",
       "      <td>1</td>\n",
       "      <td>M</td>\n",
       "      <td>сотрудник</td>\n",
       "      <td>0</td>\n",
       "      <td>123148.0</td>\n",
       "      <td>жилье</td>\n",
       "    </tr>\n",
       "    <tr>\n",
       "      <td>14261</td>\n",
       "      <td>0</td>\n",
       "      <td>2888.0</td>\n",
       "      <td>55</td>\n",
       "      <td>среднее</td>\n",
       "      <td>1</td>\n",
       "      <td>женат / замужем</td>\n",
       "      <td>0</td>\n",
       "      <td>M</td>\n",
       "      <td>сотрудник</td>\n",
       "      <td>0</td>\n",
       "      <td>114170.0</td>\n",
       "      <td>жилье</td>\n",
       "    </tr>\n",
       "    <tr>\n",
       "      <td>9579</td>\n",
       "      <td>0</td>\n",
       "      <td>3684.0</td>\n",
       "      <td>51</td>\n",
       "      <td>среднее</td>\n",
       "      <td>1</td>\n",
       "      <td>вдовец / вдова</td>\n",
       "      <td>2</td>\n",
       "      <td>F</td>\n",
       "      <td>сотрудник</td>\n",
       "      <td>0</td>\n",
       "      <td>62454.0</td>\n",
       "      <td>операции со своей недвижимостью</td>\n",
       "    </tr>\n",
       "    <tr>\n",
       "      <td>13554</td>\n",
       "      <td>0</td>\n",
       "      <td>1061.0</td>\n",
       "      <td>51</td>\n",
       "      <td>среднее</td>\n",
       "      <td>1</td>\n",
       "      <td>женат / замужем</td>\n",
       "      <td>0</td>\n",
       "      <td>F</td>\n",
       "      <td>компаньон</td>\n",
       "      <td>0</td>\n",
       "      <td>139936.0</td>\n",
       "      <td>на покупку автомобиля</td>\n",
       "    </tr>\n",
       "    <tr>\n",
       "      <td>6398</td>\n",
       "      <td>0</td>\n",
       "      <td>2064.0</td>\n",
       "      <td>51</td>\n",
       "      <td>высшее</td>\n",
       "      <td>0</td>\n",
       "      <td>не женат / не замужем</td>\n",
       "      <td>4</td>\n",
       "      <td>F</td>\n",
       "      <td>компаньон</td>\n",
       "      <td>0</td>\n",
       "      <td>177265.0</td>\n",
       "      <td>покупка своего жилья</td>\n",
       "    </tr>\n",
       "  </tbody>\n",
       "</table>\n",
       "</div>"
      ],
      "text/plain": [
       "       children  days_employed  dob_years            education  education_id  \\\n",
       "6986          0         6089.0         56               высшее             0   \n",
       "19660         1          441.0         60  неоконченное высшее             2   \n",
       "4158          0         1544.0         51              среднее             1   \n",
       "12965         0         4216.0         59               высшее             0   \n",
       "19694         0         8379.0         54              среднее             1   \n",
       "9099          0         1651.0         53              среднее             1   \n",
       "14261         0         2888.0         55              среднее             1   \n",
       "9579          0         3684.0         51              среднее             1   \n",
       "13554         0         1061.0         51              среднее             1   \n",
       "6398          0         2064.0         51               высшее             0   \n",
       "\n",
       "               family_status  family_status_id gender income_type  debt  \\\n",
       "6986         женат / замужем                 0      F   сотрудник     0   \n",
       "19660              в разводе                 3      M   сотрудник     0   \n",
       "4158   не женат / не замужем                 4      F   сотрудник     0   \n",
       "12965              в разводе                 3      F   компаньон     0   \n",
       "19694       гражданский брак                 1      M   компаньон     0   \n",
       "9099        гражданский брак                 1      M   сотрудник     0   \n",
       "14261        женат / замужем                 0      M   сотрудник     0   \n",
       "9579          вдовец / вдова                 2      F   сотрудник     0   \n",
       "13554        женат / замужем                 0      F   компаньон     0   \n",
       "6398   не женат / не замужем                 4      F   компаньон     0   \n",
       "\n",
       "       total_income                           purpose  \n",
       "6986       220458.0     получение высшего образования  \n",
       "19660      128055.0                      недвижимость  \n",
       "4158       110513.0             на покупку автомобиля  \n",
       "12965      653203.0  строительство жилой недвижимости  \n",
       "19694      114310.0        строительство недвижимости  \n",
       "9099       123148.0                             жилье  \n",
       "14261      114170.0                             жилье  \n",
       "9579        62454.0   операции со своей недвижимостью  \n",
       "13554      139936.0             на покупку автомобиля  \n",
       "6398       177265.0              покупка своего жилья  "
      ]
     },
     "metadata": {},
     "output_type": "display_data"
    }
   ],
   "source": [
    "#Как видим, пенсионеры и безработные есть только в аномальном массиве (не считая пропущенных значений, они нас пока не интересуют)\n",
    "#Значит ,по столбцу 'income_type' мы не скорректируемся.\n",
    "##Посмотрим на данные - есть ли колонки где людям много лет и они не пенсионеры.\n",
    "display(dataset_normal[(dataset_normal['income_type']!= 'пенсионер')&((dataset_normal['dob_years']> 50))].sort_values(by = 'days_employed', ascending = False).sample(10))"
   ]
  },
  {
   "cell_type": "code",
   "execution_count": 17,
   "metadata": {},
   "outputs": [
    {
     "name": "stdout",
     "output_type": "stream",
     "text": [
      "2\n",
      "6\n",
      "8\n"
     ]
    }
   ],
   "source": [
    "#Такие клиенты есть. \n",
    "#Тогда надо добавить колонку с декадой возраста. В зависимости от числа лет, она вернет декаду.\n",
    "#19 лет - 2я декада, 35 лет -4я, 75 лет - 8я и т.д.\n",
    "#напишем функцию, которая это делает.\n",
    "def decade_age(age):\n",
    "    if 10<age<20:\n",
    "        return 2\n",
    "    if 20<=age<30:\n",
    "        return 3\n",
    "    if 30<=age<40:\n",
    "        return 4\n",
    "    if 40<=age<50:\n",
    "        return 5\n",
    "    if 50<=age<60:\n",
    "        return 6\n",
    "    if 60<=age<70:\n",
    "        return 7\n",
    "    if 70<=age<80:\n",
    "        return 8\n",
    "#проверим ее    \n",
    "print(decade_age(12)) #Вывод 2\n",
    "print(decade_age(50)) #Вывод 6\n",
    "print(decade_age(70)) #Вывод 8"
   ]
  },
  {
   "cell_type": "code",
   "execution_count": 18,
   "metadata": {},
   "outputs": [],
   "source": [
    "#Добавим в нормальный и аномальный массивы данные колонки\n",
    "dataset_normal['decade_age'] = dataset_normal['dob_years'].apply(decade_age)\n",
    "dataset_anomal['decade_age'] = dataset_anomal['dob_years'].apply(decade_age)\n",
    "data['decade_age'] = data['dob_years'].apply(decade_age)"
   ]
  },
  {
   "cell_type": "code",
   "execution_count": 19,
   "metadata": {},
   "outputs": [
    {
     "data": {
      "text/html": [
       "<div>\n",
       "<style scoped>\n",
       "    .dataframe tbody tr th:only-of-type {\n",
       "        vertical-align: middle;\n",
       "    }\n",
       "\n",
       "    .dataframe tbody tr th {\n",
       "        vertical-align: top;\n",
       "    }\n",
       "\n",
       "    .dataframe thead th {\n",
       "        text-align: right;\n",
       "    }\n",
       "</style>\n",
       "<table border=\"1\" class=\"dataframe\">\n",
       "  <thead>\n",
       "    <tr style=\"text-align: right;\">\n",
       "      <th></th>\n",
       "      <th>children</th>\n",
       "      <th>days_employed</th>\n",
       "      <th>dob_years</th>\n",
       "      <th>education</th>\n",
       "      <th>education_id</th>\n",
       "      <th>family_status</th>\n",
       "      <th>family_status_id</th>\n",
       "      <th>gender</th>\n",
       "      <th>income_type</th>\n",
       "      <th>debt</th>\n",
       "      <th>total_income</th>\n",
       "      <th>purpose</th>\n",
       "      <th>decade_age</th>\n",
       "    </tr>\n",
       "  </thead>\n",
       "  <tbody>\n",
       "    <tr>\n",
       "      <td>0</td>\n",
       "      <td>1</td>\n",
       "      <td>8438.0</td>\n",
       "      <td>42</td>\n",
       "      <td>высшее</td>\n",
       "      <td>0</td>\n",
       "      <td>женат / замужем</td>\n",
       "      <td>0</td>\n",
       "      <td>F</td>\n",
       "      <td>сотрудник</td>\n",
       "      <td>0</td>\n",
       "      <td>253876.0</td>\n",
       "      <td>покупка жилья</td>\n",
       "      <td>5</td>\n",
       "    </tr>\n",
       "    <tr>\n",
       "      <td>1</td>\n",
       "      <td>1</td>\n",
       "      <td>4025.0</td>\n",
       "      <td>36</td>\n",
       "      <td>среднее</td>\n",
       "      <td>1</td>\n",
       "      <td>женат / замужем</td>\n",
       "      <td>0</td>\n",
       "      <td>F</td>\n",
       "      <td>сотрудник</td>\n",
       "      <td>0</td>\n",
       "      <td>112080.0</td>\n",
       "      <td>приобретение автомобиля</td>\n",
       "      <td>4</td>\n",
       "    </tr>\n",
       "    <tr>\n",
       "      <td>2</td>\n",
       "      <td>0</td>\n",
       "      <td>5623.0</td>\n",
       "      <td>33</td>\n",
       "      <td>среднее</td>\n",
       "      <td>1</td>\n",
       "      <td>женат / замужем</td>\n",
       "      <td>0</td>\n",
       "      <td>M</td>\n",
       "      <td>сотрудник</td>\n",
       "      <td>0</td>\n",
       "      <td>145886.0</td>\n",
       "      <td>покупка жилья</td>\n",
       "      <td>4</td>\n",
       "    </tr>\n",
       "    <tr>\n",
       "      <td>3</td>\n",
       "      <td>3</td>\n",
       "      <td>4125.0</td>\n",
       "      <td>32</td>\n",
       "      <td>среднее</td>\n",
       "      <td>1</td>\n",
       "      <td>женат / замужем</td>\n",
       "      <td>0</td>\n",
       "      <td>M</td>\n",
       "      <td>сотрудник</td>\n",
       "      <td>0</td>\n",
       "      <td>267629.0</td>\n",
       "      <td>дополнительное образование</td>\n",
       "      <td>4</td>\n",
       "    </tr>\n",
       "    <tr>\n",
       "      <td>5</td>\n",
       "      <td>0</td>\n",
       "      <td>926.0</td>\n",
       "      <td>27</td>\n",
       "      <td>высшее</td>\n",
       "      <td>0</td>\n",
       "      <td>гражданский брак</td>\n",
       "      <td>1</td>\n",
       "      <td>M</td>\n",
       "      <td>компаньон</td>\n",
       "      <td>0</td>\n",
       "      <td>255764.0</td>\n",
       "      <td>покупка жилья</td>\n",
       "      <td>3</td>\n",
       "    </tr>\n",
       "    <tr>\n",
       "      <td>6</td>\n",
       "      <td>0</td>\n",
       "      <td>2879.0</td>\n",
       "      <td>43</td>\n",
       "      <td>высшее</td>\n",
       "      <td>0</td>\n",
       "      <td>женат / замужем</td>\n",
       "      <td>0</td>\n",
       "      <td>F</td>\n",
       "      <td>компаньон</td>\n",
       "      <td>0</td>\n",
       "      <td>240526.0</td>\n",
       "      <td>операции с жильем</td>\n",
       "      <td>5</td>\n",
       "    </tr>\n",
       "    <tr>\n",
       "      <td>7</td>\n",
       "      <td>0</td>\n",
       "      <td>153.0</td>\n",
       "      <td>50</td>\n",
       "      <td>среднее</td>\n",
       "      <td>1</td>\n",
       "      <td>женат / замужем</td>\n",
       "      <td>0</td>\n",
       "      <td>M</td>\n",
       "      <td>сотрудник</td>\n",
       "      <td>0</td>\n",
       "      <td>135824.0</td>\n",
       "      <td>образование</td>\n",
       "      <td>6</td>\n",
       "    </tr>\n",
       "    <tr>\n",
       "      <td>8</td>\n",
       "      <td>2</td>\n",
       "      <td>6930.0</td>\n",
       "      <td>35</td>\n",
       "      <td>высшее</td>\n",
       "      <td>0</td>\n",
       "      <td>гражданский брак</td>\n",
       "      <td>1</td>\n",
       "      <td>F</td>\n",
       "      <td>сотрудник</td>\n",
       "      <td>0</td>\n",
       "      <td>95857.0</td>\n",
       "      <td>на проведение свадьбы</td>\n",
       "      <td>4</td>\n",
       "    </tr>\n",
       "    <tr>\n",
       "      <td>9</td>\n",
       "      <td>0</td>\n",
       "      <td>2189.0</td>\n",
       "      <td>41</td>\n",
       "      <td>среднее</td>\n",
       "      <td>1</td>\n",
       "      <td>женат / замужем</td>\n",
       "      <td>0</td>\n",
       "      <td>M</td>\n",
       "      <td>сотрудник</td>\n",
       "      <td>0</td>\n",
       "      <td>144426.0</td>\n",
       "      <td>покупка жилья для семьи</td>\n",
       "      <td>5</td>\n",
       "    </tr>\n",
       "    <tr>\n",
       "      <td>10</td>\n",
       "      <td>2</td>\n",
       "      <td>4171.0</td>\n",
       "      <td>36</td>\n",
       "      <td>высшее</td>\n",
       "      <td>0</td>\n",
       "      <td>женат / замужем</td>\n",
       "      <td>0</td>\n",
       "      <td>M</td>\n",
       "      <td>компаньон</td>\n",
       "      <td>0</td>\n",
       "      <td>113943.0</td>\n",
       "      <td>покупка недвижимости</td>\n",
       "      <td>4</td>\n",
       "    </tr>\n",
       "  </tbody>\n",
       "</table>\n",
       "</div>"
      ],
      "text/plain": [
       "    children  days_employed  dob_years education  education_id  \\\n",
       "0          1         8438.0         42    высшее             0   \n",
       "1          1         4025.0         36   среднее             1   \n",
       "2          0         5623.0         33   среднее             1   \n",
       "3          3         4125.0         32   среднее             1   \n",
       "5          0          926.0         27    высшее             0   \n",
       "6          0         2879.0         43    высшее             0   \n",
       "7          0          153.0         50   среднее             1   \n",
       "8          2         6930.0         35    высшее             0   \n",
       "9          0         2189.0         41   среднее             1   \n",
       "10         2         4171.0         36    высшее             0   \n",
       "\n",
       "       family_status  family_status_id gender income_type  debt  total_income  \\\n",
       "0    женат / замужем                 0      F   сотрудник     0      253876.0   \n",
       "1    женат / замужем                 0      F   сотрудник     0      112080.0   \n",
       "2    женат / замужем                 0      M   сотрудник     0      145886.0   \n",
       "3    женат / замужем                 0      M   сотрудник     0      267629.0   \n",
       "5   гражданский брак                 1      M   компаньон     0      255764.0   \n",
       "6    женат / замужем                 0      F   компаньон     0      240526.0   \n",
       "7    женат / замужем                 0      M   сотрудник     0      135824.0   \n",
       "8   гражданский брак                 1      F   сотрудник     0       95857.0   \n",
       "9    женат / замужем                 0      M   сотрудник     0      144426.0   \n",
       "10   женат / замужем                 0      M   компаньон     0      113943.0   \n",
       "\n",
       "                       purpose  decade_age  \n",
       "0                покупка жилья           5  \n",
       "1      приобретение автомобиля           4  \n",
       "2                покупка жилья           4  \n",
       "3   дополнительное образование           4  \n",
       "5                покупка жилья           3  \n",
       "6            операции с жильем           5  \n",
       "7                  образование           6  \n",
       "8        на проведение свадьбы           4  \n",
       "9      покупка жилья для семьи           5  \n",
       "10        покупка недвижимости           4  "
      ]
     },
     "metadata": {},
     "output_type": "display_data"
    },
    {
     "data": {
      "text/html": [
       "<div>\n",
       "<style scoped>\n",
       "    .dataframe tbody tr th:only-of-type {\n",
       "        vertical-align: middle;\n",
       "    }\n",
       "\n",
       "    .dataframe tbody tr th {\n",
       "        vertical-align: top;\n",
       "    }\n",
       "\n",
       "    .dataframe thead th {\n",
       "        text-align: right;\n",
       "    }\n",
       "</style>\n",
       "<table border=\"1\" class=\"dataframe\">\n",
       "  <thead>\n",
       "    <tr style=\"text-align: right;\">\n",
       "      <th></th>\n",
       "      <th>children</th>\n",
       "      <th>days_employed</th>\n",
       "      <th>dob_years</th>\n",
       "      <th>education</th>\n",
       "      <th>education_id</th>\n",
       "      <th>family_status</th>\n",
       "      <th>family_status_id</th>\n",
       "      <th>gender</th>\n",
       "      <th>income_type</th>\n",
       "      <th>debt</th>\n",
       "      <th>total_income</th>\n",
       "      <th>purpose</th>\n",
       "      <th>decade_age</th>\n",
       "    </tr>\n",
       "  </thead>\n",
       "  <tbody>\n",
       "    <tr>\n",
       "      <td>4</td>\n",
       "      <td>0</td>\n",
       "      <td>340266.0</td>\n",
       "      <td>53</td>\n",
       "      <td>среднее</td>\n",
       "      <td>1</td>\n",
       "      <td>гражданский брак</td>\n",
       "      <td>1</td>\n",
       "      <td>F</td>\n",
       "      <td>пенсионер</td>\n",
       "      <td>0</td>\n",
       "      <td>158616.0</td>\n",
       "      <td>сыграть свадьбу</td>\n",
       "      <td>6</td>\n",
       "    </tr>\n",
       "    <tr>\n",
       "      <td>18</td>\n",
       "      <td>0</td>\n",
       "      <td>400281.0</td>\n",
       "      <td>53</td>\n",
       "      <td>среднее</td>\n",
       "      <td>1</td>\n",
       "      <td>вдовец / вдова</td>\n",
       "      <td>2</td>\n",
       "      <td>F</td>\n",
       "      <td>пенсионер</td>\n",
       "      <td>0</td>\n",
       "      <td>56824.0</td>\n",
       "      <td>на покупку подержанного автомобиля</td>\n",
       "      <td>6</td>\n",
       "    </tr>\n",
       "    <tr>\n",
       "      <td>24</td>\n",
       "      <td>1</td>\n",
       "      <td>338552.0</td>\n",
       "      <td>57</td>\n",
       "      <td>среднее</td>\n",
       "      <td>1</td>\n",
       "      <td>не женат / не замужем</td>\n",
       "      <td>4</td>\n",
       "      <td>F</td>\n",
       "      <td>пенсионер</td>\n",
       "      <td>0</td>\n",
       "      <td>290547.0</td>\n",
       "      <td>операции с коммерческой недвижимостью</td>\n",
       "      <td>6</td>\n",
       "    </tr>\n",
       "    <tr>\n",
       "      <td>25</td>\n",
       "      <td>0</td>\n",
       "      <td>363548.0</td>\n",
       "      <td>67</td>\n",
       "      <td>среднее</td>\n",
       "      <td>1</td>\n",
       "      <td>женат / замужем</td>\n",
       "      <td>0</td>\n",
       "      <td>M</td>\n",
       "      <td>пенсионер</td>\n",
       "      <td>0</td>\n",
       "      <td>55113.0</td>\n",
       "      <td>покупка недвижимости</td>\n",
       "      <td>7</td>\n",
       "    </tr>\n",
       "    <tr>\n",
       "      <td>30</td>\n",
       "      <td>1</td>\n",
       "      <td>335582.0</td>\n",
       "      <td>62</td>\n",
       "      <td>среднее</td>\n",
       "      <td>1</td>\n",
       "      <td>женат / замужем</td>\n",
       "      <td>0</td>\n",
       "      <td>F</td>\n",
       "      <td>пенсионер</td>\n",
       "      <td>0</td>\n",
       "      <td>171456.0</td>\n",
       "      <td>операции с коммерческой недвижимостью</td>\n",
       "      <td>7</td>\n",
       "    </tr>\n",
       "    <tr>\n",
       "      <td>35</td>\n",
       "      <td>0</td>\n",
       "      <td>394021.0</td>\n",
       "      <td>68</td>\n",
       "      <td>среднее</td>\n",
       "      <td>1</td>\n",
       "      <td>гражданский брак</td>\n",
       "      <td>1</td>\n",
       "      <td>M</td>\n",
       "      <td>пенсионер</td>\n",
       "      <td>0</td>\n",
       "      <td>77806.0</td>\n",
       "      <td>на проведение свадьбы</td>\n",
       "      <td>7</td>\n",
       "    </tr>\n",
       "    <tr>\n",
       "      <td>50</td>\n",
       "      <td>0</td>\n",
       "      <td>353731.0</td>\n",
       "      <td>63</td>\n",
       "      <td>среднее</td>\n",
       "      <td>1</td>\n",
       "      <td>женат / замужем</td>\n",
       "      <td>0</td>\n",
       "      <td>F</td>\n",
       "      <td>пенсионер</td>\n",
       "      <td>0</td>\n",
       "      <td>92343.0</td>\n",
       "      <td>автомобили</td>\n",
       "      <td>7</td>\n",
       "    </tr>\n",
       "    <tr>\n",
       "      <td>56</td>\n",
       "      <td>0</td>\n",
       "      <td>370145.0</td>\n",
       "      <td>64</td>\n",
       "      <td>среднее</td>\n",
       "      <td>1</td>\n",
       "      <td>вдовец / вдова</td>\n",
       "      <td>2</td>\n",
       "      <td>F</td>\n",
       "      <td>пенсионер</td>\n",
       "      <td>0</td>\n",
       "      <td>149141.0</td>\n",
       "      <td>образование</td>\n",
       "      <td>7</td>\n",
       "    </tr>\n",
       "    <tr>\n",
       "      <td>71</td>\n",
       "      <td>0</td>\n",
       "      <td>338114.0</td>\n",
       "      <td>62</td>\n",
       "      <td>среднее</td>\n",
       "      <td>1</td>\n",
       "      <td>женат / замужем</td>\n",
       "      <td>0</td>\n",
       "      <td>F</td>\n",
       "      <td>пенсионер</td>\n",
       "      <td>0</td>\n",
       "      <td>43930.0</td>\n",
       "      <td>автомобили</td>\n",
       "      <td>7</td>\n",
       "    </tr>\n",
       "    <tr>\n",
       "      <td>78</td>\n",
       "      <td>0</td>\n",
       "      <td>359723.0</td>\n",
       "      <td>61</td>\n",
       "      <td>высшее</td>\n",
       "      <td>0</td>\n",
       "      <td>женат / замужем</td>\n",
       "      <td>0</td>\n",
       "      <td>M</td>\n",
       "      <td>пенсионер</td>\n",
       "      <td>0</td>\n",
       "      <td>175128.0</td>\n",
       "      <td>сделка с автомобилем</td>\n",
       "      <td>7</td>\n",
       "    </tr>\n",
       "  </tbody>\n",
       "</table>\n",
       "</div>"
      ],
      "text/plain": [
       "    children  days_employed  dob_years education  education_id  \\\n",
       "4          0       340266.0         53   среднее             1   \n",
       "18         0       400281.0         53   среднее             1   \n",
       "24         1       338552.0         57   среднее             1   \n",
       "25         0       363548.0         67   среднее             1   \n",
       "30         1       335582.0         62   среднее             1   \n",
       "35         0       394021.0         68   среднее             1   \n",
       "50         0       353731.0         63   среднее             1   \n",
       "56         0       370145.0         64   среднее             1   \n",
       "71         0       338114.0         62   среднее             1   \n",
       "78         0       359723.0         61    высшее             0   \n",
       "\n",
       "            family_status  family_status_id gender income_type  debt  \\\n",
       "4        гражданский брак                 1      F   пенсионер     0   \n",
       "18         вдовец / вдова                 2      F   пенсионер     0   \n",
       "24  не женат / не замужем                 4      F   пенсионер     0   \n",
       "25        женат / замужем                 0      M   пенсионер     0   \n",
       "30        женат / замужем                 0      F   пенсионер     0   \n",
       "35       гражданский брак                 1      M   пенсионер     0   \n",
       "50        женат / замужем                 0      F   пенсионер     0   \n",
       "56         вдовец / вдова                 2      F   пенсионер     0   \n",
       "71        женат / замужем                 0      F   пенсионер     0   \n",
       "78        женат / замужем                 0      M   пенсионер     0   \n",
       "\n",
       "    total_income                                purpose  decade_age  \n",
       "4       158616.0                        сыграть свадьбу           6  \n",
       "18       56824.0     на покупку подержанного автомобиля           6  \n",
       "24      290547.0  операции с коммерческой недвижимостью           6  \n",
       "25       55113.0                   покупка недвижимости           7  \n",
       "30      171456.0  операции с коммерческой недвижимостью           7  \n",
       "35       77806.0                  на проведение свадьбы           7  \n",
       "50       92343.0                             автомобили           7  \n",
       "56      149141.0                            образование           7  \n",
       "71       43930.0                             автомобили           7  \n",
       "78      175128.0                   сделка с автомобилем           7  "
      ]
     },
     "metadata": {},
     "output_type": "display_data"
    }
   ],
   "source": [
    "\n",
    "#проверим, добавились ли колонки\n",
    "display(dataset_normal.head(10))\n",
    "display(dataset_anomal.head(10))"
   ]
  },
  {
   "cell_type": "code",
   "execution_count": 20,
   "metadata": {},
   "outputs": [
    {
     "name": "stdout",
     "output_type": "stream",
     "text": [
      "decade_age\n",
      "3    364348.0\n",
      "4    364039.0\n",
      "5    367508.0\n",
      "6    364343.0\n",
      "7    365501.0\n",
      "8    366504.0\n",
      "Name: days_employed, dtype: float64\n",
      "decade_age\n",
      "2     724.0\n",
      "3    1000.0\n",
      "4    1586.0\n",
      "5    2022.0\n",
      "6    2262.0\n",
      "7    2669.0\n",
      "8    2680.0\n",
      "Name: days_employed, dtype: float64\n"
     ]
    }
   ],
   "source": [
    "medians_days_employed_anomal = dataset_anomal.groupby('decade_age')['days_employed'].median().round()\n",
    "medians_days_employed_normal = dataset_normal.groupby('decade_age')['days_employed'].median().round()\n",
    "\n",
    "#посмотрим на эти медианы\n",
    "print(medians_days_employed_anomal)\n",
    "print(medians_days_employed_normal)"
   ]
  },
  {
   "cell_type": "code",
   "execution_count": 21,
   "metadata": {},
   "outputs": [
    {
     "name": "stdout",
     "output_type": "stream",
     "text": [
      "Коэффициенты 364.348 229.5327868852459 181.75469831849654 161.0711759504863 136.94304983139753 136.75522388059701\n"
     ]
    },
    {
     "data": {
      "text/html": [
       "<div>\n",
       "<style scoped>\n",
       "    .dataframe tbody tr th:only-of-type {\n",
       "        vertical-align: middle;\n",
       "    }\n",
       "\n",
       "    .dataframe tbody tr th {\n",
       "        vertical-align: top;\n",
       "    }\n",
       "\n",
       "    .dataframe thead th {\n",
       "        text-align: right;\n",
       "    }\n",
       "</style>\n",
       "<table border=\"1\" class=\"dataframe\">\n",
       "  <thead>\n",
       "    <tr style=\"text-align: right;\">\n",
       "      <th></th>\n",
       "      <th>children</th>\n",
       "      <th>days_employed</th>\n",
       "      <th>dob_years</th>\n",
       "      <th>education</th>\n",
       "      <th>education_id</th>\n",
       "      <th>family_status</th>\n",
       "      <th>family_status_id</th>\n",
       "      <th>gender</th>\n",
       "      <th>income_type</th>\n",
       "      <th>debt</th>\n",
       "      <th>total_income</th>\n",
       "      <th>purpose</th>\n",
       "      <th>decade_age</th>\n",
       "    </tr>\n",
       "  </thead>\n",
       "  <tbody>\n",
       "    <tr>\n",
       "      <td>16335</td>\n",
       "      <td>1</td>\n",
       "      <td>18389.0</td>\n",
       "      <td>61</td>\n",
       "      <td>среднее</td>\n",
       "      <td>1</td>\n",
       "      <td>женат / замужем</td>\n",
       "      <td>0</td>\n",
       "      <td>F</td>\n",
       "      <td>сотрудник</td>\n",
       "      <td>0</td>\n",
       "      <td>186179.0</td>\n",
       "      <td>операции с недвижимостью</td>\n",
       "      <td>7</td>\n",
       "    </tr>\n",
       "    <tr>\n",
       "      <td>4299</td>\n",
       "      <td>0</td>\n",
       "      <td>17616.0</td>\n",
       "      <td>61</td>\n",
       "      <td>среднее</td>\n",
       "      <td>1</td>\n",
       "      <td>женат / замужем</td>\n",
       "      <td>0</td>\n",
       "      <td>F</td>\n",
       "      <td>компаньон</td>\n",
       "      <td>0</td>\n",
       "      <td>122561.0</td>\n",
       "      <td>покупка жилья</td>\n",
       "      <td>7</td>\n",
       "    </tr>\n",
       "    <tr>\n",
       "      <td>7329</td>\n",
       "      <td>0</td>\n",
       "      <td>16593.0</td>\n",
       "      <td>60</td>\n",
       "      <td>высшее</td>\n",
       "      <td>0</td>\n",
       "      <td>женат / замужем</td>\n",
       "      <td>0</td>\n",
       "      <td>F</td>\n",
       "      <td>сотрудник</td>\n",
       "      <td>0</td>\n",
       "      <td>124698.0</td>\n",
       "      <td>заняться высшим образованием</td>\n",
       "      <td>7</td>\n",
       "    </tr>\n",
       "    <tr>\n",
       "      <td>17838</td>\n",
       "      <td>0</td>\n",
       "      <td>16265.0</td>\n",
       "      <td>59</td>\n",
       "      <td>среднее</td>\n",
       "      <td>1</td>\n",
       "      <td>женат / замужем</td>\n",
       "      <td>0</td>\n",
       "      <td>F</td>\n",
       "      <td>сотрудник</td>\n",
       "      <td>0</td>\n",
       "      <td>51239.0</td>\n",
       "      <td>на покупку автомобиля</td>\n",
       "      <td>6</td>\n",
       "    </tr>\n",
       "    <tr>\n",
       "      <td>16825</td>\n",
       "      <td>0</td>\n",
       "      <td>16120.0</td>\n",
       "      <td>64</td>\n",
       "      <td>среднее</td>\n",
       "      <td>1</td>\n",
       "      <td>женат / замужем</td>\n",
       "      <td>0</td>\n",
       "      <td>F</td>\n",
       "      <td>сотрудник</td>\n",
       "      <td>0</td>\n",
       "      <td>91528.0</td>\n",
       "      <td>покупка жилой недвижимости</td>\n",
       "      <td>7</td>\n",
       "    </tr>\n",
       "    <tr>\n",
       "      <td>3974</td>\n",
       "      <td>0</td>\n",
       "      <td>15836.0</td>\n",
       "      <td>64</td>\n",
       "      <td>среднее</td>\n",
       "      <td>1</td>\n",
       "      <td>гражданский брак</td>\n",
       "      <td>1</td>\n",
       "      <td>F</td>\n",
       "      <td>компаньон</td>\n",
       "      <td>0</td>\n",
       "      <td>96859.0</td>\n",
       "      <td>сыграть свадьбу</td>\n",
       "      <td>7</td>\n",
       "    </tr>\n",
       "    <tr>\n",
       "      <td>1539</td>\n",
       "      <td>0</td>\n",
       "      <td>15786.0</td>\n",
       "      <td>59</td>\n",
       "      <td>высшее</td>\n",
       "      <td>0</td>\n",
       "      <td>не женат / не замужем</td>\n",
       "      <td>4</td>\n",
       "      <td>F</td>\n",
       "      <td>сотрудник</td>\n",
       "      <td>0</td>\n",
       "      <td>119564.0</td>\n",
       "      <td>операции с коммерческой недвижимостью</td>\n",
       "      <td>6</td>\n",
       "    </tr>\n",
       "    <tr>\n",
       "      <td>4321</td>\n",
       "      <td>0</td>\n",
       "      <td>15773.0</td>\n",
       "      <td>61</td>\n",
       "      <td>среднее</td>\n",
       "      <td>1</td>\n",
       "      <td>гражданский брак</td>\n",
       "      <td>1</td>\n",
       "      <td>F</td>\n",
       "      <td>сотрудник</td>\n",
       "      <td>0</td>\n",
       "      <td>205869.0</td>\n",
       "      <td>свадьба</td>\n",
       "      <td>7</td>\n",
       "    </tr>\n",
       "    <tr>\n",
       "      <td>7731</td>\n",
       "      <td>0</td>\n",
       "      <td>15618.0</td>\n",
       "      <td>64</td>\n",
       "      <td>среднее</td>\n",
       "      <td>1</td>\n",
       "      <td>женат / замужем</td>\n",
       "      <td>0</td>\n",
       "      <td>F</td>\n",
       "      <td>компаньон</td>\n",
       "      <td>0</td>\n",
       "      <td>296525.0</td>\n",
       "      <td>высшее образование</td>\n",
       "      <td>7</td>\n",
       "    </tr>\n",
       "    <tr>\n",
       "      <td>15675</td>\n",
       "      <td>0</td>\n",
       "      <td>15410.0</td>\n",
       "      <td>65</td>\n",
       "      <td>высшее</td>\n",
       "      <td>0</td>\n",
       "      <td>женат / замужем</td>\n",
       "      <td>0</td>\n",
       "      <td>F</td>\n",
       "      <td>сотрудник</td>\n",
       "      <td>0</td>\n",
       "      <td>188800.0</td>\n",
       "      <td>покупка жилой недвижимости</td>\n",
       "      <td>7</td>\n",
       "    </tr>\n",
       "  </tbody>\n",
       "</table>\n",
       "</div>"
      ],
      "text/plain": [
       "       children  days_employed  dob_years education  education_id  \\\n",
       "16335         1        18389.0         61   среднее             1   \n",
       "4299          0        17616.0         61   среднее             1   \n",
       "7329          0        16593.0         60    высшее             0   \n",
       "17838         0        16265.0         59   среднее             1   \n",
       "16825         0        16120.0         64   среднее             1   \n",
       "3974          0        15836.0         64   среднее             1   \n",
       "1539          0        15786.0         59    высшее             0   \n",
       "4321          0        15773.0         61   среднее             1   \n",
       "7731          0        15618.0         64   среднее             1   \n",
       "15675         0        15410.0         65    высшее             0   \n",
       "\n",
       "               family_status  family_status_id gender income_type  debt  \\\n",
       "16335        женат / замужем                 0      F   сотрудник     0   \n",
       "4299         женат / замужем                 0      F   компаньон     0   \n",
       "7329         женат / замужем                 0      F   сотрудник     0   \n",
       "17838        женат / замужем                 0      F   сотрудник     0   \n",
       "16825        женат / замужем                 0      F   сотрудник     0   \n",
       "3974        гражданский брак                 1      F   компаньон     0   \n",
       "1539   не женат / не замужем                 4      F   сотрудник     0   \n",
       "4321        гражданский брак                 1      F   сотрудник     0   \n",
       "7731         женат / замужем                 0      F   компаньон     0   \n",
       "15675        женат / замужем                 0      F   сотрудник     0   \n",
       "\n",
       "       total_income                                purpose  decade_age  \n",
       "16335      186179.0               операции с недвижимостью           7  \n",
       "4299       122561.0                          покупка жилья           7  \n",
       "7329       124698.0           заняться высшим образованием           7  \n",
       "17838       51239.0                  на покупку автомобиля           6  \n",
       "16825       91528.0             покупка жилой недвижимости           7  \n",
       "3974        96859.0                        сыграть свадьбу           7  \n",
       "1539       119564.0  операции с коммерческой недвижимостью           6  \n",
       "4321       205869.0                                свадьба           7  \n",
       "7731       296525.0                     высшее образование           7  \n",
       "15675      188800.0             покупка жилой недвижимости           7  "
      ]
     },
     "metadata": {},
     "output_type": "display_data"
    }
   ],
   "source": [
    "\n",
    "#Получим корректирующие коэффициенты на которые поделим аномальные значения\n",
    "k3=medians_days_employed_anomal[3]/medians_days_employed_normal[3]\n",
    "k4=medians_days_employed_anomal[4]/medians_days_employed_normal[4]\n",
    "k5=medians_days_employed_anomal[5]/medians_days_employed_normal[5]\n",
    "k6=medians_days_employed_anomal[6]/medians_days_employed_normal[6]\n",
    "k7=medians_days_employed_anomal[7]/medians_days_employed_normal[7]\n",
    "k8=medians_days_employed_anomal[8]/medians_days_employed_normal[8]\n",
    "\n",
    "print('Коэффициенты',k3,k4,k5,k6,k7,k8)\n",
    "\n",
    "#скорректируем аномальные значения в первоначальном датасете\n",
    "data.loc[(data['days_employed']> 25500 )&(data['decade_age']==3),'days_employed'] = data.loc[(data['days_employed']> 25500 )&(data['decade_age']==3),'days_employed'].map(lambda x:x/k3).round()\n",
    "data.loc[(data['days_employed']> 25500 )&(data['decade_age']==4),'days_employed']=data.loc[(data['days_employed']> 25500 )&(data['decade_age']==4),'days_employed'].map(lambda x:x/k4).round()\n",
    "data.loc[(data['days_employed']> 25500 )&(data['decade_age']==5),'days_employed']=data.loc[(data['days_employed']> 25500 )&(data['decade_age']==5),'days_employed'].map(lambda x:x/k5).round()\n",
    "data.loc[(data['days_employed']> 25500 )&(data['decade_age']==6),'days_employed']=data.loc[(data['days_employed']> 25500 )&(data['decade_age']==6),'days_employed'].map(lambda x:x/k6).round()\n",
    "data.loc[(data['days_employed']> 25500 )&(data['decade_age']==7),'days_employed']=data.loc[(data['days_employed']> 25500 )&(data['decade_age']==7),'days_employed'].map(lambda x:x/k7).round()\n",
    "data.loc[(data['days_employed']> 25500 )&(data['decade_age']==8),'days_employed']=data.loc[(data['days_employed']> 25500 )&(data['decade_age']==8),'days_employed'].map(lambda x:x/k8).round()\n",
    "\n",
    "#Проверим резальтат\n",
    "display(data.sort_values(by = 'days_employed', ascending = False).head(10))\n",
    "#Максимальное значение 18389.0, замена выполнена\n",
    "#К выводам - кластер пенсионеров и безработных ошибочный\n",
    "#К выводам - стаж вообще странный, может это стаж на последнем месте работы? Он подозрительно маленький в днях при переводе в годы\n",
    "#все равно остаются странные стажи - например стаж в 50 лет при возрасте в 61 год. Хотя возможно возраста там не было и мы его подставили.\n"
   ]
  },
  {
   "cell_type": "markdown",
   "metadata": {},
   "source": [
    "**Вывод**"
   ]
  },
  {
   "cell_type": "markdown",
   "metadata": {},
   "source": [
    "В блоке выше выполнили первоначальную обработку столбца `days_employed`. Мы привели его в максимально правдоподобный вид, с учетом ограниченной информации, но в реальных условиях лучше уточнять по нему данные у разработчиков датасета. В нем было слишком много ошибок, и возможно мы применяли неверные гипотезы для их устранения"
   ]
  },
  {
   "cell_type": "markdown",
   "metadata": {},
   "source": [
    "## Шаг 2. Предобработка данных\n",
    "<a id=\"preprocessing\"></a>"
   ]
  },
  {
   "cell_type": "markdown",
   "metadata": {},
   "source": [
    "### Обработка пропусков\n",
    "<a id=\"null\"></a>"
   ]
  },
  {
   "cell_type": "code",
   "execution_count": 22,
   "metadata": {},
   "outputs": [
    {
     "name": "stdout",
     "output_type": "stream",
     "text": [
      "children            0.000000\n",
      "days_employed       0.100999\n",
      "dob_years           0.000000\n",
      "education           0.000000\n",
      "education_id        0.000000\n",
      "family_status       0.000000\n",
      "family_status_id    0.000000\n",
      "gender              0.000000\n",
      "income_type         0.000000\n",
      "debt                0.000000\n",
      "total_income        0.100999\n",
      "purpose             0.000000\n",
      "decade_age          0.000000\n",
      "dtype: float64\n"
     ]
    }
   ],
   "source": [
    "#Посмотрим на количество пропусков в колонках.\n",
    "print(data.isnull().mean()) "
   ]
  },
  {
   "cell_type": "code",
   "execution_count": 23,
   "metadata": {},
   "outputs": [
    {
     "data": {
      "text/html": [
       "<div>\n",
       "<style scoped>\n",
       "    .dataframe tbody tr th:only-of-type {\n",
       "        vertical-align: middle;\n",
       "    }\n",
       "\n",
       "    .dataframe tbody tr th {\n",
       "        vertical-align: top;\n",
       "    }\n",
       "\n",
       "    .dataframe thead th {\n",
       "        text-align: right;\n",
       "    }\n",
       "</style>\n",
       "<table border=\"1\" class=\"dataframe\">\n",
       "  <thead>\n",
       "    <tr style=\"text-align: right;\">\n",
       "      <th></th>\n",
       "      <th>children</th>\n",
       "      <th>days_employed</th>\n",
       "      <th>dob_years</th>\n",
       "      <th>education</th>\n",
       "      <th>education_id</th>\n",
       "      <th>family_status</th>\n",
       "      <th>family_status_id</th>\n",
       "      <th>gender</th>\n",
       "      <th>income_type</th>\n",
       "      <th>debt</th>\n",
       "      <th>total_income</th>\n",
       "      <th>purpose</th>\n",
       "      <th>decade_age</th>\n",
       "    </tr>\n",
       "  </thead>\n",
       "  <tbody>\n",
       "    <tr>\n",
       "      <td>12</td>\n",
       "      <td>0</td>\n",
       "      <td>NaN</td>\n",
       "      <td>65</td>\n",
       "      <td>среднее</td>\n",
       "      <td>1</td>\n",
       "      <td>гражданский брак</td>\n",
       "      <td>1</td>\n",
       "      <td>M</td>\n",
       "      <td>пенсионер</td>\n",
       "      <td>0</td>\n",
       "      <td>NaN</td>\n",
       "      <td>сыграть свадьбу</td>\n",
       "      <td>7</td>\n",
       "    </tr>\n",
       "    <tr>\n",
       "      <td>26</td>\n",
       "      <td>0</td>\n",
       "      <td>NaN</td>\n",
       "      <td>41</td>\n",
       "      <td>среднее</td>\n",
       "      <td>1</td>\n",
       "      <td>женат / замужем</td>\n",
       "      <td>0</td>\n",
       "      <td>M</td>\n",
       "      <td>госслужащий</td>\n",
       "      <td>0</td>\n",
       "      <td>NaN</td>\n",
       "      <td>образование</td>\n",
       "      <td>5</td>\n",
       "    </tr>\n",
       "    <tr>\n",
       "      <td>29</td>\n",
       "      <td>0</td>\n",
       "      <td>NaN</td>\n",
       "      <td>63</td>\n",
       "      <td>среднее</td>\n",
       "      <td>1</td>\n",
       "      <td>не женат / не замужем</td>\n",
       "      <td>4</td>\n",
       "      <td>F</td>\n",
       "      <td>пенсионер</td>\n",
       "      <td>0</td>\n",
       "      <td>NaN</td>\n",
       "      <td>строительство жилой недвижимости</td>\n",
       "      <td>7</td>\n",
       "    </tr>\n",
       "    <tr>\n",
       "      <td>41</td>\n",
       "      <td>0</td>\n",
       "      <td>NaN</td>\n",
       "      <td>50</td>\n",
       "      <td>среднее</td>\n",
       "      <td>1</td>\n",
       "      <td>женат / замужем</td>\n",
       "      <td>0</td>\n",
       "      <td>F</td>\n",
       "      <td>госслужащий</td>\n",
       "      <td>0</td>\n",
       "      <td>NaN</td>\n",
       "      <td>сделка с подержанным автомобилем</td>\n",
       "      <td>6</td>\n",
       "    </tr>\n",
       "    <tr>\n",
       "      <td>55</td>\n",
       "      <td>0</td>\n",
       "      <td>NaN</td>\n",
       "      <td>54</td>\n",
       "      <td>среднее</td>\n",
       "      <td>1</td>\n",
       "      <td>гражданский брак</td>\n",
       "      <td>1</td>\n",
       "      <td>F</td>\n",
       "      <td>пенсионер</td>\n",
       "      <td>1</td>\n",
       "      <td>NaN</td>\n",
       "      <td>сыграть свадьбу</td>\n",
       "      <td>6</td>\n",
       "    </tr>\n",
       "    <tr>\n",
       "      <td>...</td>\n",
       "      <td>...</td>\n",
       "      <td>...</td>\n",
       "      <td>...</td>\n",
       "      <td>...</td>\n",
       "      <td>...</td>\n",
       "      <td>...</td>\n",
       "      <td>...</td>\n",
       "      <td>...</td>\n",
       "      <td>...</td>\n",
       "      <td>...</td>\n",
       "      <td>...</td>\n",
       "      <td>...</td>\n",
       "      <td>...</td>\n",
       "    </tr>\n",
       "    <tr>\n",
       "      <td>21489</td>\n",
       "      <td>2</td>\n",
       "      <td>NaN</td>\n",
       "      <td>47</td>\n",
       "      <td>среднее</td>\n",
       "      <td>1</td>\n",
       "      <td>женат / замужем</td>\n",
       "      <td>0</td>\n",
       "      <td>M</td>\n",
       "      <td>компаньон</td>\n",
       "      <td>0</td>\n",
       "      <td>NaN</td>\n",
       "      <td>сделка с автомобилем</td>\n",
       "      <td>5</td>\n",
       "    </tr>\n",
       "    <tr>\n",
       "      <td>21495</td>\n",
       "      <td>1</td>\n",
       "      <td>NaN</td>\n",
       "      <td>50</td>\n",
       "      <td>среднее</td>\n",
       "      <td>1</td>\n",
       "      <td>гражданский брак</td>\n",
       "      <td>1</td>\n",
       "      <td>F</td>\n",
       "      <td>сотрудник</td>\n",
       "      <td>0</td>\n",
       "      <td>NaN</td>\n",
       "      <td>свадьба</td>\n",
       "      <td>6</td>\n",
       "    </tr>\n",
       "    <tr>\n",
       "      <td>21497</td>\n",
       "      <td>0</td>\n",
       "      <td>NaN</td>\n",
       "      <td>48</td>\n",
       "      <td>высшее</td>\n",
       "      <td>0</td>\n",
       "      <td>женат / замужем</td>\n",
       "      <td>0</td>\n",
       "      <td>F</td>\n",
       "      <td>компаньон</td>\n",
       "      <td>0</td>\n",
       "      <td>NaN</td>\n",
       "      <td>строительство недвижимости</td>\n",
       "      <td>5</td>\n",
       "    </tr>\n",
       "    <tr>\n",
       "      <td>21502</td>\n",
       "      <td>1</td>\n",
       "      <td>NaN</td>\n",
       "      <td>42</td>\n",
       "      <td>среднее</td>\n",
       "      <td>1</td>\n",
       "      <td>женат / замужем</td>\n",
       "      <td>0</td>\n",
       "      <td>F</td>\n",
       "      <td>сотрудник</td>\n",
       "      <td>0</td>\n",
       "      <td>NaN</td>\n",
       "      <td>строительство жилой недвижимости</td>\n",
       "      <td>5</td>\n",
       "    </tr>\n",
       "    <tr>\n",
       "      <td>21510</td>\n",
       "      <td>2</td>\n",
       "      <td>NaN</td>\n",
       "      <td>28</td>\n",
       "      <td>среднее</td>\n",
       "      <td>1</td>\n",
       "      <td>женат / замужем</td>\n",
       "      <td>0</td>\n",
       "      <td>F</td>\n",
       "      <td>сотрудник</td>\n",
       "      <td>0</td>\n",
       "      <td>NaN</td>\n",
       "      <td>приобретение автомобиля</td>\n",
       "      <td>3</td>\n",
       "    </tr>\n",
       "  </tbody>\n",
       "</table>\n",
       "<p>2174 rows × 13 columns</p>\n",
       "</div>"
      ],
      "text/plain": [
       "       children  days_employed  dob_years education  education_id  \\\n",
       "12            0            NaN         65   среднее             1   \n",
       "26            0            NaN         41   среднее             1   \n",
       "29            0            NaN         63   среднее             1   \n",
       "41            0            NaN         50   среднее             1   \n",
       "55            0            NaN         54   среднее             1   \n",
       "...         ...            ...        ...       ...           ...   \n",
       "21489         2            NaN         47   среднее             1   \n",
       "21495         1            NaN         50   среднее             1   \n",
       "21497         0            NaN         48    высшее             0   \n",
       "21502         1            NaN         42   среднее             1   \n",
       "21510         2            NaN         28   среднее             1   \n",
       "\n",
       "               family_status  family_status_id gender  income_type  debt  \\\n",
       "12          гражданский брак                 1      M    пенсионер     0   \n",
       "26           женат / замужем                 0      M  госслужащий     0   \n",
       "29     не женат / не замужем                 4      F    пенсионер     0   \n",
       "41           женат / замужем                 0      F  госслужащий     0   \n",
       "55          гражданский брак                 1      F    пенсионер     1   \n",
       "...                      ...               ...    ...          ...   ...   \n",
       "21489        женат / замужем                 0      M    компаньон     0   \n",
       "21495       гражданский брак                 1      F    сотрудник     0   \n",
       "21497        женат / замужем                 0      F    компаньон     0   \n",
       "21502        женат / замужем                 0      F    сотрудник     0   \n",
       "21510        женат / замужем                 0      F    сотрудник     0   \n",
       "\n",
       "       total_income                           purpose  decade_age  \n",
       "12              NaN                   сыграть свадьбу           7  \n",
       "26              NaN                       образование           5  \n",
       "29              NaN  строительство жилой недвижимости           7  \n",
       "41              NaN  сделка с подержанным автомобилем           6  \n",
       "55              NaN                   сыграть свадьбу           6  \n",
       "...             ...                               ...         ...  \n",
       "21489           NaN              сделка с автомобилем           5  \n",
       "21495           NaN                           свадьба           6  \n",
       "21497           NaN        строительство недвижимости           5  \n",
       "21502           NaN  строительство жилой недвижимости           5  \n",
       "21510           NaN           приобретение автомобиля           3  \n",
       "\n",
       "[2174 rows x 13 columns]"
      ]
     },
     "metadata": {},
     "output_type": "display_data"
    }
   ],
   "source": [
    "\n",
    "#Видим что число пропусков в колонках 'days_employed' и 'total_income' одинаковое, около 10%,\n",
    "#значит в этих строках нет обоих параметров\n",
    "#смотрим на строки с пропусками, пытаемся понять логику пропусков. \n",
    "display(data[(data['total_income'].isnull()==True)]) "
   ]
  },
  {
   "cell_type": "code",
   "execution_count": 24,
   "metadata": {},
   "outputs": [
    {
     "name": "stdout",
     "output_type": "stream",
     "text": [
      "сотрудник          1105\n",
      "компаньон           508\n",
      "пенсионер           413\n",
      "госслужащий         147\n",
      "предприниматель       1\n",
      "Name: income_type, dtype: int64\n"
     ]
    }
   ],
   "source": [
    "#Связи с сосденими столбцами не видно.\n",
    "#Заменим пропуски на медианные значения по категориям. Начем с 'total_income', так как это более простая задача\n",
    "#посмотрим уникальные значения 'income_type'для строк с пропусками\n",
    "print(data[(data['total_income'].isnull()==True)]['income_type'].value_counts())"
   ]
  },
  {
   "cell_type": "code",
   "execution_count": 25,
   "metadata": {},
   "outputs": [
    {
     "name": "stdout",
     "output_type": "stream",
     "text": [
      "Медианы---------- income_type\n",
      "безработный        131340.0\n",
      "в декрете           53829.0\n",
      "госслужащий        150448.0\n",
      "компаньон          172358.0\n",
      "пенсионер          118514.0\n",
      "предприниматель    499163.0\n",
      "сотрудник          142594.0\n",
      "студент             98202.0\n",
      "Name: total_income, dtype: float64\n",
      "сотрудник 142594.0 компаньон 172358.0 пенсионер 118514.0 госслужащий 150448.0 предприниматель 499163.0\n"
     ]
    }
   ],
   "source": [
    "#значит нам нужны медианные ежемесячные доходы для этих 5 категорий\n",
    "#Вычислим медианный доход для каждой категории\n",
    "medians_total_income = data.groupby('income_type')['total_income'].median().round()\n",
    "print('Медианы----------',medians_total_income)\n",
    "#Возьмем из этого массива нужные нам категории\n",
    "median_total_income_sotrudnik = medians_total_income[6]\n",
    "median_total_income_companion= medians_total_income[3]\n",
    "median_total_income_pensioner= medians_total_income[4]\n",
    "median_total_income_gossluz = medians_total_income[2]\n",
    "median_total_income_predprinimatel= medians_total_income[5]\n",
    "#проверим что взяли правлиьные\n",
    "print('сотрудник', median_total_income_sotrudnik,'компаньон',median_total_income_companion,\n",
    "      'пенсионер',median_total_income_pensioner,'госслужащий',median_total_income_gossluz,'предприниматель',median_total_income_predprinimatel)"
   ]
  },
  {
   "cell_type": "code",
   "execution_count": 26,
   "metadata": {},
   "outputs": [
    {
     "name": "stdout",
     "output_type": "stream",
     "text": [
      "children            0.000000\n",
      "days_employed       0.100999\n",
      "dob_years           0.000000\n",
      "education           0.000000\n",
      "education_id        0.000000\n",
      "family_status       0.000000\n",
      "family_status_id    0.000000\n",
      "gender              0.000000\n",
      "income_type         0.000000\n",
      "debt                0.000000\n",
      "total_income        0.000000\n",
      "purpose             0.000000\n",
      "decade_age          0.000000\n",
      "dtype: float64\n"
     ]
    }
   ],
   "source": [
    "#заменим пропуски 'total_income' медианами\n",
    "data.loc[(data['total_income'].isnull())& (data['income_type'] == 'сотрудник'),'total_income']=median_total_income_sotrudnik\n",
    "data.loc[(data['total_income'].isnull())& (data['income_type'] == 'компаньон'),'total_income']=median_total_income_companion\n",
    "data.loc[(data['total_income'].isnull())& (data['income_type'] == 'пенсионер'),'total_income']=median_total_income_pensioner\n",
    "data.loc[(data['total_income'].isnull())& (data['income_type'] == 'госслужащий'),'total_income']=median_total_income_gossluz\n",
    "data.loc[(data['total_income'].isnull())& (data['income_type'] == 'предприниматель'),'total_income']=median_total_income_predprinimatel\n",
    "#проверим результат\n",
    "print(data.isnull().mean())"
   ]
  },
  {
   "cell_type": "code",
   "execution_count": 27,
   "metadata": {},
   "outputs": [
    {
     "name": "stdout",
     "output_type": "stream",
     "text": [
      "decade_age\n",
      "2     724.0\n",
      "3    1000.0\n",
      "4    1586.0\n",
      "5    2022.0\n",
      "6    2262.0\n",
      "7    2669.0\n",
      "8    2680.0\n",
      "Name: days_employed, dtype: float64\n",
      "children            0\n",
      "days_employed       0\n",
      "dob_years           0\n",
      "education           0\n",
      "education_id        0\n",
      "family_status       0\n",
      "family_status_id    0\n",
      "gender              0\n",
      "income_type         0\n",
      "debt                0\n",
      "total_income        0\n",
      "purpose             0\n",
      "decade_age          0\n",
      "dtype: int64\n"
     ]
    }
   ],
   "source": [
    "\n",
    "#займемся столбцом days_employed\n",
    "#скопируем датасет, чтобы не добавлять в оригинальный лишние столбцы\n",
    "data_1 =data.copy()\n",
    "#добавим в data_1 декаду возраста,фукнция описана в предыдущих блоках\n",
    "data_1['decade_age'] = data_1['dob_years'].apply(decade_age)\n",
    "#посчитаем медиану\n",
    "medians_days_employed_all = data_1.groupby('decade_age')['days_employed'].median().round()\n",
    "#выведеим медиану\n",
    "print(medians_days_employed_all)\n",
    "#заполним пропуски в days_employed медианами по возрасту\n",
    "data.loc[(data['days_employed'].isnull())& (data['decade_age'] == 2),'days_employed']=medians_days_employed_all[2]\n",
    "data.loc[(data['days_employed'].isnull())& (data['decade_age'] == 3),'days_employed']=medians_days_employed_all[3]\n",
    "data.loc[(data['days_employed'].isnull())& (data['decade_age'] == 4),'days_employed']=medians_days_employed_all[4]\n",
    "data.loc[(data['days_employed'].isnull())& (data['decade_age'] == 5),'days_employed']=medians_days_employed_all[5]\n",
    "data.loc[(data['days_employed'].isnull())& (data['decade_age'] == 6),'days_employed']=medians_days_employed_all[6]\n",
    "data.loc[(data['days_employed'].isnull())& (data['decade_age'] == 7),'days_employed']=medians_days_employed_all[7]\n",
    "data.loc[(data['days_employed'].isnull())& (data['decade_age'] == 8),'days_employed']=medians_days_employed_all[8]\n",
    "#проверим результат\n",
    "print(data.isnull().sum())\n",
    "#пропусков не осталось\n"
   ]
  },
  {
   "cell_type": "markdown",
   "metadata": {},
   "source": [
    "**Вывод**"
   ]
  },
  {
   "cell_type": "markdown",
   "metadata": {},
   "source": [
    "Обнаружили пропущенный значения типа NaN в столбцах 'days_employed' и 'total_income', причем с одинаковым количеством. Возможная причина появления - отсутствие документального подверждения дохода и стажа.\n",
    "Заполнили пропуски в 'days_employed' на медианное значение по декаде возраста, в 'total_income' на медианное значение по 'income_type'."
   ]
  },
  {
   "cell_type": "markdown",
   "metadata": {},
   "source": [
    "### Замена типа данных\n",
    "<a id=\"data_change\"></a>"
   ]
  },
  {
   "cell_type": "code",
   "execution_count": 28,
   "metadata": {
    "scrolled": true
   },
   "outputs": [
    {
     "name": "stdout",
     "output_type": "stream",
     "text": [
      "<class 'pandas.core.frame.DataFrame'>\n",
      "RangeIndex: 21525 entries, 0 to 21524\n",
      "Data columns (total 13 columns):\n",
      "children            21525 non-null int64\n",
      "days_employed       21525 non-null float64\n",
      "dob_years           21525 non-null int64\n",
      "education           21525 non-null object\n",
      "education_id        21525 non-null int64\n",
      "family_status       21525 non-null object\n",
      "family_status_id    21525 non-null int64\n",
      "gender              21525 non-null object\n",
      "income_type         21525 non-null object\n",
      "debt                21525 non-null int64\n",
      "total_income        21525 non-null float64\n",
      "purpose             21525 non-null object\n",
      "decade_age          21525 non-null int64\n",
      "dtypes: float64(2), int64(6), object(5)\n",
      "memory usage: 2.1+ MB\n",
      "None\n",
      "<class 'pandas.core.frame.DataFrame'>\n",
      "RangeIndex: 21525 entries, 0 to 21524\n",
      "Data columns (total 13 columns):\n",
      "children            21525 non-null int64\n",
      "days_employed       21525 non-null float64\n",
      "dob_years           21525 non-null int64\n",
      "education           21525 non-null object\n",
      "education_id        21525 non-null int64\n",
      "family_status       21525 non-null object\n",
      "family_status_id    21525 non-null int64\n",
      "gender              21525 non-null object\n",
      "income_type         21525 non-null object\n",
      "debt                21525 non-null int64\n",
      "total_income        21525 non-null float64\n",
      "purpose             21525 non-null object\n",
      "decade_age          21525 non-null int64\n",
      "dtypes: float64(2), int64(6), object(5)\n",
      "memory usage: 2.1+ MB\n"
     ]
    }
   ],
   "source": [
    "#смотрим типы данных\n",
    "print(data.info())\n",
    "#очевидно нужно заменить тип данных в 'days_employed' и  'total_income'\n",
    "data['days_employed'] = pd.to_numeric(data['days_employed'], errors='coerce') #\n",
    "data['total_income'] = pd.to_numeric(data['total_income'], errors='coerce') #\n",
    "#проверим результат\n",
    "data.info()"
   ]
  },
  {
   "cell_type": "markdown",
   "metadata": {},
   "source": [
    "**Вывод**"
   ]
  },
  {
   "cell_type": "markdown",
   "metadata": {},
   "source": [
    "Обнаружены 2 проблемные колонки 'days_employed' и 'total_income' с типом данных object. Эти данные типа object, а нужны числовые. Заменили тип данных на float64. Применен метод pd.to_numeric с параметром errors='coerce'"
   ]
  },
  {
   "cell_type": "markdown",
   "metadata": {},
   "source": [
    "### Обработка дубликатов\n",
    "<a id=\"duplicates\"></a>"
   ]
  },
  {
   "cell_type": "code",
   "execution_count": 29,
   "metadata": {},
   "outputs": [
    {
     "name": "stdout",
     "output_type": "stream",
     "text": [
      "71\n",
      "(21525, 13)\n",
      "0\n",
      "(21454, 13)\n"
     ]
    }
   ],
   "source": [
    "#посмотрим количество строк дубликатов\n",
    "print(data.duplicated().sum()) \n",
    "print(data.shape)\n",
    "#сбросим дубликаты\n",
    "data = data.drop_duplicates().reset_index(drop=True)\n",
    "#проверим результат\n",
    "print(data.duplicated().sum()) \n",
    "print(data.shape)"
   ]
  },
  {
   "cell_type": "markdown",
   "metadata": {},
   "source": [
    "**Вывод**"
   ]
  },
  {
   "cell_type": "markdown",
   "metadata": {},
   "source": [
    "Сначала удалили полные дубликаты.\n",
    "Возможны неявные дубликаты, т.е. по колонкам без цифр, их несколько тысяч. Но это вопрос спорный, возможно теоретически совпадение по 7 пунктам,нужно запрашивать составителей датасета.\n",
    "Возможные причины дубликатов: \n",
    "1)Разные люди работали над одним датасетом\n",
    "2)Человек заполнял анкету несколько раз, при попытке взять кредит спустя некоторое время.\n",
    "3)Ошибка в заполннении."
   ]
  },
  {
   "cell_type": "markdown",
   "metadata": {},
   "source": [
    "### Лемматизация\n",
    "<a id=\"lemma\"></a>\n"
   ]
  },
  {
   "cell_type": "code",
   "execution_count": 30,
   "metadata": {},
   "outputs": [
    {
     "name": "stdout",
     "output_type": "stream",
     "text": [
      "['покупка жилья' 'приобретение автомобиля' 'дополнительное образование'\n",
      " 'сыграть свадьбу' 'операции с жильем' 'образование'\n",
      " 'на проведение свадьбы' 'покупка жилья для семьи' 'покупка недвижимости'\n",
      " 'покупка коммерческой недвижимости' 'покупка жилой недвижимости'\n",
      " 'строительство собственной недвижимости' 'недвижимость'\n",
      " 'строительство недвижимости' 'на покупку подержанного автомобиля'\n",
      " 'на покупку своего автомобиля' 'операции с коммерческой недвижимостью'\n",
      " 'строительство жилой недвижимости' 'жилье'\n",
      " 'операции со своей недвижимостью' 'автомобили' 'заняться образованием'\n",
      " 'сделка с подержанным автомобилем' 'получение образования' 'автомобиль'\n",
      " 'свадьба' 'получение дополнительного образования' 'покупка своего жилья'\n",
      " 'операции с недвижимостью' 'получение высшего образования'\n",
      " 'свой автомобиль' 'сделка с автомобилем' 'профильное образование'\n",
      " 'высшее образование' 'покупка жилья для сдачи' 'на покупку автомобиля'\n",
      " 'ремонт жилью' 'заняться высшим образованием']\n",
      "\n",
      "Количество уникальных значений: 38\n"
     ]
    }
   ],
   "source": [
    "\n",
    "#посмотрим уникальные значение колонки 'purpose'\n",
    "print(data['purpose'].unique())\n",
    "\n",
    "#посмотрим количество уникальных значений\n",
    "print()\n",
    "print(\"Количество уникальных значений:\",len(data['purpose'].unique()))"
   ]
  },
  {
   "cell_type": "code",
   "execution_count": 44,
   "metadata": {},
   "outputs": [
    {
     "name": "stdout",
     "output_type": "stream",
     "text": [
      "Counter({' ': 59, '\\n': 38, 'покупка': 10, 'недвижимость': 10, 'автомобиль': 9, 'образование': 9, 'жилье': 7, 'с': 5, 'операция': 4, 'на': 4, 'свой': 4, 'свадьба': 3, 'строительство': 3, 'получение': 3, 'высокий': 3, 'дополнительный': 2, 'для': 2, 'коммерческий': 2, 'жилой': 2, 'заниматься': 2, 'сделка': 2, 'приобретение': 1, 'сыграть': 1, 'проведение': 1, 'семья': 1, 'собственный': 1, 'подержать': 1, 'со': 1, 'подержанный': 1, 'профильный': 1, 'сдача': 1, 'ремонт': 1})\n",
      "CPU times: user 4.47 ms, sys: 4.28 ms, total: 8.75 ms\n",
      "Wall time: 12.8 ms\n"
     ]
    }
   ],
   "source": [
    "%%time\n",
    "unique_purpose =data['purpose'].unique()\n",
    "#объявим список куда будем заносить леммы\n",
    "lemm_spisok=[]\n",
    "\n",
    "for element in unique_purpose: \n",
    "      lemm_spisok.extend(m.lemmatize(element))\n",
    "\n",
    "#соберем все леммы в одинк список в конйнер Counter, и посмотрим\n",
    "print(Counter(lemm_spisok))"
   ]
  },
  {
   "cell_type": "code",
   "execution_count": 45,
   "metadata": {},
   "outputs": [
    {
     "name": "stdout",
     "output_type": "stream",
     "text": [
      "CPU times: user 5 µs, sys: 1 µs, total: 6 µs\n",
      "Wall time: 9.54 µs\n"
     ]
    }
   ],
   "source": [
    "%%time\n",
    "#исходя из результата, выделим основные категории кредита\n",
    "options = [\"сдача\",\"коммерческий\",\"недвижимость\",\"автомобиль\",\"образование\",\"жилье\",\"свадьба\"]\n",
    "\n",
    "#Напишем функцию'purpose_cat', чтобы добавить столбец с категорией кредита\n",
    "def purpose_сat(purpose):\n",
    "    fraza=m.lemmatize(purpose)\n",
    "    for word in options:\n",
    "        if word in fraza:\n",
    "            fraza=word\n",
    "    return fraza"
   ]
  },
  {
   "cell_type": "code",
   "execution_count": 46,
   "metadata": {
    "scrolled": false
   },
   "outputs": [
    {
     "data": {
      "text/html": [
       "<div>\n",
       "<style scoped>\n",
       "    .dataframe tbody tr th:only-of-type {\n",
       "        vertical-align: middle;\n",
       "    }\n",
       "\n",
       "    .dataframe tbody tr th {\n",
       "        vertical-align: top;\n",
       "    }\n",
       "\n",
       "    .dataframe thead th {\n",
       "        text-align: right;\n",
       "    }\n",
       "</style>\n",
       "<table border=\"1\" class=\"dataframe\">\n",
       "  <thead>\n",
       "    <tr style=\"text-align: right;\">\n",
       "      <th></th>\n",
       "      <th>children</th>\n",
       "      <th>days_employed</th>\n",
       "      <th>dob_years</th>\n",
       "      <th>education</th>\n",
       "      <th>education_id</th>\n",
       "      <th>family_status</th>\n",
       "      <th>family_status_id</th>\n",
       "      <th>gender</th>\n",
       "      <th>income_type</th>\n",
       "      <th>debt</th>\n",
       "      <th>total_income</th>\n",
       "      <th>purpose</th>\n",
       "      <th>decade_age</th>\n",
       "      <th>purpose_cat</th>\n",
       "    </tr>\n",
       "  </thead>\n",
       "  <tbody>\n",
       "    <tr>\n",
       "      <td>13849</td>\n",
       "      <td>1</td>\n",
       "      <td>2955.0</td>\n",
       "      <td>44</td>\n",
       "      <td>высшее</td>\n",
       "      <td>0</td>\n",
       "      <td>женат / замужем</td>\n",
       "      <td>0</td>\n",
       "      <td>F</td>\n",
       "      <td>компаньон</td>\n",
       "      <td>0</td>\n",
       "      <td>322801.0</td>\n",
       "      <td>покупка недвижимости</td>\n",
       "      <td>5</td>\n",
       "      <td>недвижимость</td>\n",
       "    </tr>\n",
       "    <tr>\n",
       "      <td>14836</td>\n",
       "      <td>1</td>\n",
       "      <td>5430.0</td>\n",
       "      <td>37</td>\n",
       "      <td>среднее</td>\n",
       "      <td>1</td>\n",
       "      <td>женат / замужем</td>\n",
       "      <td>0</td>\n",
       "      <td>M</td>\n",
       "      <td>компаньон</td>\n",
       "      <td>0</td>\n",
       "      <td>134471.0</td>\n",
       "      <td>сделка с автомобилем</td>\n",
       "      <td>4</td>\n",
       "      <td>автомобиль</td>\n",
       "    </tr>\n",
       "    <tr>\n",
       "      <td>17920</td>\n",
       "      <td>0</td>\n",
       "      <td>1000.0</td>\n",
       "      <td>21</td>\n",
       "      <td>высшее</td>\n",
       "      <td>0</td>\n",
       "      <td>не женат / не замужем</td>\n",
       "      <td>4</td>\n",
       "      <td>F</td>\n",
       "      <td>сотрудник</td>\n",
       "      <td>1</td>\n",
       "      <td>142594.0</td>\n",
       "      <td>строительство собственной недвижимости</td>\n",
       "      <td>3</td>\n",
       "      <td>недвижимость</td>\n",
       "    </tr>\n",
       "    <tr>\n",
       "      <td>5424</td>\n",
       "      <td>0</td>\n",
       "      <td>1194.0</td>\n",
       "      <td>56</td>\n",
       "      <td>среднее</td>\n",
       "      <td>1</td>\n",
       "      <td>гражданский брак</td>\n",
       "      <td>1</td>\n",
       "      <td>F</td>\n",
       "      <td>компаньон</td>\n",
       "      <td>0</td>\n",
       "      <td>139403.0</td>\n",
       "      <td>строительство недвижимости</td>\n",
       "      <td>6</td>\n",
       "      <td>недвижимость</td>\n",
       "    </tr>\n",
       "    <tr>\n",
       "      <td>5899</td>\n",
       "      <td>0</td>\n",
       "      <td>2262.0</td>\n",
       "      <td>50</td>\n",
       "      <td>среднее</td>\n",
       "      <td>1</td>\n",
       "      <td>в разводе</td>\n",
       "      <td>3</td>\n",
       "      <td>F</td>\n",
       "      <td>сотрудник</td>\n",
       "      <td>0</td>\n",
       "      <td>142594.0</td>\n",
       "      <td>на покупку своего автомобиля</td>\n",
       "      <td>6</td>\n",
       "      <td>автомобиль</td>\n",
       "    </tr>\n",
       "  </tbody>\n",
       "</table>\n",
       "</div>"
      ],
      "text/plain": [
       "       children  days_employed  dob_years education  education_id  \\\n",
       "13849         1         2955.0         44    высшее             0   \n",
       "14836         1         5430.0         37   среднее             1   \n",
       "17920         0         1000.0         21    высшее             0   \n",
       "5424          0         1194.0         56   среднее             1   \n",
       "5899          0         2262.0         50   среднее             1   \n",
       "\n",
       "               family_status  family_status_id gender income_type  debt  \\\n",
       "13849        женат / замужем                 0      F   компаньон     0   \n",
       "14836        женат / замужем                 0      M   компаньон     0   \n",
       "17920  не женат / не замужем                 4      F   сотрудник     1   \n",
       "5424        гражданский брак                 1      F   компаньон     0   \n",
       "5899               в разводе                 3      F   сотрудник     0   \n",
       "\n",
       "       total_income                                 purpose  decade_age  \\\n",
       "13849      322801.0                    покупка недвижимости           5   \n",
       "14836      134471.0                    сделка с автомобилем           4   \n",
       "17920      142594.0  строительство собственной недвижимости           3   \n",
       "5424       139403.0              строительство недвижимости           6   \n",
       "5899       142594.0            на покупку своего автомобиля           6   \n",
       "\n",
       "        purpose_cat  \n",
       "13849  недвижимость  \n",
       "14836    автомобиль  \n",
       "17920  недвижимость  \n",
       "5424   недвижимость  \n",
       "5899     автомобиль  "
      ]
     },
     "metadata": {},
     "output_type": "display_data"
    },
    {
     "name": "stdout",
     "output_type": "stream",
     "text": [
      "CPU times: user 1.28 s, sys: 348 ms, total: 1.63 s\n",
      "Wall time: 3.88 s\n"
     ]
    }
   ],
   "source": [
    "%%time\n",
    "\n",
    "#создадим новый столбец, применив эту функцию к столбцу purpose\n",
    "data['purpose_cat']=data['purpose'].apply(purpose_сat)\n",
    "#выведем на экран\n",
    "display(data.sample(5))"
   ]
  },
  {
   "cell_type": "code",
   "execution_count": 47,
   "metadata": {},
   "outputs": [
    {
     "name": "stdout",
     "output_type": "stream",
     "text": [
      "недвижимость    5040\n",
      "автомобиль      4306\n",
      "образование     4013\n",
      "жилье           3809\n",
      "свадьба         2324\n",
      "коммерческий    1311\n",
      "сдача            651\n",
      "Name: purpose_cat, dtype: int64\n"
     ]
    }
   ],
   "source": [
    "print(data['purpose_cat'].value_counts())"
   ]
  },
  {
   "cell_type": "code",
   "execution_count": 48,
   "metadata": {},
   "outputs": [
    {
     "name": "stdout",
     "output_type": "stream",
     "text": [
      "недвижимость    8849\n",
      "автомобиль      4306\n",
      "образование     4013\n",
      "свадьба         2324\n",
      "коммерческий    1962\n",
      "Name: purpose_cat, dtype: int64\n"
     ]
    }
   ],
   "source": [
    "#свернем категории следущим образом: \"жилье\" войдет в \"недвижимость\", \"сдача\" войдет в \"коммерческий\"  \n",
    "data.loc[(data['purpose_cat'] == 'жилье'),'purpose_cat']='недвижимость'\n",
    "data.loc[(data['purpose_cat'] == 'сдача'),'purpose_cat']='коммерческий'\n",
    "#проверим результат\n",
    "print(data['purpose_cat'].value_counts())"
   ]
  },
  {
   "cell_type": "markdown",
   "metadata": {},
   "source": [
    "**Вывод**"
   ]
  },
  {
   "cell_type": "markdown",
   "metadata": {},
   "source": [
    "Все категории можно свести к 5 основным, которые мы используем при ответе на вопрос о влиянии цели кредита и задолженности"
   ]
  },
  {
   "cell_type": "markdown",
   "metadata": {},
   "source": [
    "### Категоризация данных\n",
    "<a id=\"category\"></a>"
   ]
  },
  {
   "cell_type": "code",
   "execution_count": 49,
   "metadata": {},
   "outputs": [
    {
     "data": {
      "text/html": [
       "<div>\n",
       "<style scoped>\n",
       "    .dataframe tbody tr th:only-of-type {\n",
       "        vertical-align: middle;\n",
       "    }\n",
       "\n",
       "    .dataframe tbody tr th {\n",
       "        vertical-align: top;\n",
       "    }\n",
       "\n",
       "    .dataframe thead th {\n",
       "        text-align: right;\n",
       "    }\n",
       "</style>\n",
       "<table border=\"1\" class=\"dataframe\">\n",
       "  <thead>\n",
       "    <tr style=\"text-align: right;\">\n",
       "      <th></th>\n",
       "      <th>children</th>\n",
       "      <th>debt</th>\n",
       "    </tr>\n",
       "  </thead>\n",
       "  <tbody>\n",
       "    <tr>\n",
       "      <td>15889</td>\n",
       "      <td>1</td>\n",
       "      <td>0</td>\n",
       "    </tr>\n",
       "    <tr>\n",
       "      <td>16375</td>\n",
       "      <td>0</td>\n",
       "      <td>0</td>\n",
       "    </tr>\n",
       "    <tr>\n",
       "      <td>13394</td>\n",
       "      <td>1</td>\n",
       "      <td>0</td>\n",
       "    </tr>\n",
       "    <tr>\n",
       "      <td>8264</td>\n",
       "      <td>0</td>\n",
       "      <td>0</td>\n",
       "    </tr>\n",
       "    <tr>\n",
       "      <td>3727</td>\n",
       "      <td>0</td>\n",
       "      <td>0</td>\n",
       "    </tr>\n",
       "  </tbody>\n",
       "</table>\n",
       "</div>"
      ],
      "text/plain": [
       "       children  debt\n",
       "15889         1     0\n",
       "16375         0     0\n",
       "13394         1     0\n",
       "8264          0     0\n",
       "3727          0     0"
      ]
     },
     "metadata": {},
     "output_type": "display_data"
    },
    {
     "data": {
      "text/html": [
       "<div>\n",
       "<style scoped>\n",
       "    .dataframe tbody tr th:only-of-type {\n",
       "        vertical-align: middle;\n",
       "    }\n",
       "\n",
       "    .dataframe tbody tr th {\n",
       "        vertical-align: top;\n",
       "    }\n",
       "\n",
       "    .dataframe thead th {\n",
       "        text-align: right;\n",
       "    }\n",
       "</style>\n",
       "<table border=\"1\" class=\"dataframe\">\n",
       "  <thead>\n",
       "    <tr style=\"text-align: right;\">\n",
       "      <th></th>\n",
       "      <th>family_status</th>\n",
       "      <th>family_status_id</th>\n",
       "      <th>debt</th>\n",
       "    </tr>\n",
       "  </thead>\n",
       "  <tbody>\n",
       "    <tr>\n",
       "      <td>495</td>\n",
       "      <td>женат / замужем</td>\n",
       "      <td>0</td>\n",
       "      <td>0</td>\n",
       "    </tr>\n",
       "    <tr>\n",
       "      <td>16635</td>\n",
       "      <td>в разводе</td>\n",
       "      <td>3</td>\n",
       "      <td>0</td>\n",
       "    </tr>\n",
       "    <tr>\n",
       "      <td>19329</td>\n",
       "      <td>гражданский брак</td>\n",
       "      <td>1</td>\n",
       "      <td>0</td>\n",
       "    </tr>\n",
       "    <tr>\n",
       "      <td>5221</td>\n",
       "      <td>женат / замужем</td>\n",
       "      <td>0</td>\n",
       "      <td>0</td>\n",
       "    </tr>\n",
       "    <tr>\n",
       "      <td>11596</td>\n",
       "      <td>гражданский брак</td>\n",
       "      <td>1</td>\n",
       "      <td>0</td>\n",
       "    </tr>\n",
       "  </tbody>\n",
       "</table>\n",
       "</div>"
      ],
      "text/plain": [
       "          family_status  family_status_id  debt\n",
       "495     женат / замужем                 0     0\n",
       "16635         в разводе                 3     0\n",
       "19329  гражданский брак                 1     0\n",
       "5221    женат / замужем                 0     0\n",
       "11596  гражданский брак                 1     0"
      ]
     },
     "metadata": {},
     "output_type": "display_data"
    },
    {
     "data": {
      "text/html": [
       "<div>\n",
       "<style scoped>\n",
       "    .dataframe tbody tr th:only-of-type {\n",
       "        vertical-align: middle;\n",
       "    }\n",
       "\n",
       "    .dataframe tbody tr th {\n",
       "        vertical-align: top;\n",
       "    }\n",
       "\n",
       "    .dataframe thead th {\n",
       "        text-align: right;\n",
       "    }\n",
       "</style>\n",
       "<table border=\"1\" class=\"dataframe\">\n",
       "  <thead>\n",
       "    <tr style=\"text-align: right;\">\n",
       "      <th></th>\n",
       "      <th>total_income</th>\n",
       "      <th>debt</th>\n",
       "    </tr>\n",
       "  </thead>\n",
       "  <tbody>\n",
       "    <tr>\n",
       "      <td>13415</td>\n",
       "      <td>271372.0</td>\n",
       "      <td>1</td>\n",
       "    </tr>\n",
       "    <tr>\n",
       "      <td>1334</td>\n",
       "      <td>87830.0</td>\n",
       "      <td>0</td>\n",
       "    </tr>\n",
       "    <tr>\n",
       "      <td>1284</td>\n",
       "      <td>195485.0</td>\n",
       "      <td>0</td>\n",
       "    </tr>\n",
       "    <tr>\n",
       "      <td>11896</td>\n",
       "      <td>142594.0</td>\n",
       "      <td>0</td>\n",
       "    </tr>\n",
       "    <tr>\n",
       "      <td>9682</td>\n",
       "      <td>151075.0</td>\n",
       "      <td>0</td>\n",
       "    </tr>\n",
       "  </tbody>\n",
       "</table>\n",
       "</div>"
      ],
      "text/plain": [
       "       total_income  debt\n",
       "13415      271372.0     1\n",
       "1334        87830.0     0\n",
       "1284       195485.0     0\n",
       "11896      142594.0     0\n",
       "9682       151075.0     0"
      ]
     },
     "metadata": {},
     "output_type": "display_data"
    },
    {
     "data": {
      "text/html": [
       "<div>\n",
       "<style scoped>\n",
       "    .dataframe tbody tr th:only-of-type {\n",
       "        vertical-align: middle;\n",
       "    }\n",
       "\n",
       "    .dataframe tbody tr th {\n",
       "        vertical-align: top;\n",
       "    }\n",
       "\n",
       "    .dataframe thead th {\n",
       "        text-align: right;\n",
       "    }\n",
       "</style>\n",
       "<table border=\"1\" class=\"dataframe\">\n",
       "  <thead>\n",
       "    <tr style=\"text-align: right;\">\n",
       "      <th></th>\n",
       "      <th>purpose_cat</th>\n",
       "      <th>debt</th>\n",
       "    </tr>\n",
       "  </thead>\n",
       "  <tbody>\n",
       "    <tr>\n",
       "      <td>12376</td>\n",
       "      <td>недвижимость</td>\n",
       "      <td>0</td>\n",
       "    </tr>\n",
       "    <tr>\n",
       "      <td>10202</td>\n",
       "      <td>недвижимость</td>\n",
       "      <td>0</td>\n",
       "    </tr>\n",
       "    <tr>\n",
       "      <td>15375</td>\n",
       "      <td>автомобиль</td>\n",
       "      <td>0</td>\n",
       "    </tr>\n",
       "    <tr>\n",
       "      <td>18527</td>\n",
       "      <td>образование</td>\n",
       "      <td>0</td>\n",
       "    </tr>\n",
       "    <tr>\n",
       "      <td>14709</td>\n",
       "      <td>недвижимость</td>\n",
       "      <td>0</td>\n",
       "    </tr>\n",
       "  </tbody>\n",
       "</table>\n",
       "</div>"
      ],
      "text/plain": [
       "        purpose_cat  debt\n",
       "12376  недвижимость     0\n",
       "10202  недвижимость     0\n",
       "15375    автомобиль     0\n",
       "18527   образование     0\n",
       "14709  недвижимость     0"
      ]
     },
     "metadata": {},
     "output_type": "display_data"
    }
   ],
   "source": [
    "#создадим и выведем таблицы, которые нам понадобятся для ответов на вопросы\n",
    "\n",
    "data_children=data[['children','debt']]\n",
    "display(data_children.sample(5))\n",
    "\n",
    "data_family_status=data[['family_status','family_status_id','debt']]\n",
    "display(data_family_status.sample(5))\n",
    "#ниже сделаем копию, так как будем добавлять столбец в эту таблицу, чтобы избежать ошибки\n",
    "data_total_income=data[['total_income','debt']].copy()\n",
    "display(data_total_income.sample(5))\n",
    "data_purpose=data[['purpose_cat','debt']]\n",
    "display(data_purpose.sample(5))\n",
    "       "
   ]
  },
  {
   "cell_type": "markdown",
   "metadata": {},
   "source": [
    "**Вывод**"
   ]
  },
  {
   "cell_type": "markdown",
   "metadata": {},
   "source": [
    "Выбрали словари соответственно с поставленными вопросами, в которых будут только нужные нам данные<br>\n",
    "1)data_children -  количество детей и наличие задолженности<br>\n",
    "2)data_family_status - семейный статус, семейный статус id и наличие задолженности<br>\n",
    "3)data_total_income - ежемесячный доход и наличие задолженности<br>\n",
    "4)data_children - категория цели кредита и наличие задолженности<br>\n",
    "Удалять явные дубликаты мы не можем, так как у нас не задан явный id каждого клиента.<br>"
   ]
  },
  {
   "cell_type": "markdown",
   "metadata": {},
   "source": [
    "## Шаг 3. Ответьте на вопросы\n",
    "<a id=\"questions\"></a>"
   ]
  },
  {
   "cell_type": "markdown",
   "metadata": {},
   "source": [
    "- Есть ли зависимость между наличием детей и возвратом кредита в срок?\n",
    "<a id=\"q1\"></a>"
   ]
  },
  {
   "cell_type": "code",
   "execution_count": 50,
   "metadata": {},
   "outputs": [
    {
     "name": "stdout",
     "output_type": "stream",
     "text": [
      "Клиенты с детьми 7363\n",
      "Клиенты без детей 14091\n",
      "Процент клиентов с детьми и задолженностью в прошлом:9.21%\n",
      "Процент клиентов без детей и задолженностью в прошлом:7.54%\n",
      "Процент клиентов с задолженностью в прошлом в общем:8.12%\n"
     ]
    }
   ],
   "source": [
    "#Объявим переменные, считающие количество клиентов с детьми, без детей, и общее число дожников\n",
    "s_detmi= data_children[(data_children['children']>0)]['children'].count()\n",
    "bez_detej= data_children[(data_children['children']==0)]['children'].count()\n",
    "dolznik= data_children[(data_children['debt']==1)]['debt'].count()\n",
    "\n",
    "\n",
    "print('Клиенты с детьми',s_detmi)\n",
    "print('Клиенты без детей',bez_detej)\n",
    "\n",
    "print('Процент клиентов с детьми и задолженностью в прошлом:{:.2%}'.format(data_children[(data_children['children']>0)&(data_children['debt']==1)]['children'].count()/s_detmi))\n",
    "print( 'Процент клиентов без детей и задолженностью в прошлом:{:.2%}'.format(data_children[(data_children['children']==0)&(data_children['debt']==1)]['children'].count()/bez_detej))\n",
    "#возможен поиск закономерностей при разном количестве детей, но задача не стоит\n",
    "print('Процент клиентов с задолженностью в прошлом в общем:{:.2%}'.format(dolznik/len(data_children['debt'])))"
   ]
  },
  {
   "cell_type": "markdown",
   "metadata": {},
   "source": [
    "**Вывод**"
   ]
  },
  {
   "cell_type": "markdown",
   "metadata": {},
   "source": [
    "Согласно полученным данным, между фактом наличия детей и возвратом кредита в срок есть небольшая зависимость. Клиенты без детей в среднем имеют меньше задолженность, чем клиенты с детьми - 7,54 % и 9,21%. Это говорит о том что отсутствие детей - благоприятный фактор для выдачи кредита клиенту, но не существунный."
   ]
  },
  {
   "cell_type": "markdown",
   "metadata": {},
   "source": [
    "- Есть ли зависимость между семейным положением и возвратом кредита в срок?\n",
    "<a id=\"q2\"></a>"
   ]
  },
  {
   "cell_type": "code",
   "execution_count": 51,
   "metadata": {},
   "outputs": [
    {
     "name": "stdout",
     "output_type": "stream",
     "text": [
      "Клиенты со статусом \"женат / замужем\" 12339\n",
      "Клиенты со статусом\"гражданский брак\" 4151\n",
      "Клиенты со статусом \"вдовец\" 959\n",
      "Клиенты со статусом \"в разводе\" 1195\n",
      "Клиенты со статусом\"не женат / не замужем\" 2810\n"
     ]
    }
   ],
   "source": [
    "#Объявим переменные для разных семеный статусов. Выведем их\n",
    "fmst0= data_family_status[(data_family_status['family_status_id']==0)]['family_status_id'].count()\n",
    "fmst1= data_family_status[(data_family_status['family_status_id']==1)]['family_status_id'].count()\n",
    "fmst2= data_family_status[(data_family_status['family_status_id']==2)]['family_status_id'].count()\n",
    "fmst3= data_family_status[(data_family_status['family_status_id']==3)]['family_status_id'].count()\n",
    "fmst4= data_family_status[(data_family_status['family_status_id']==4)]['family_status_id'].count()\n",
    "\n",
    "print('Клиенты со статусом \"женат / замужем\"',fmst0)\n",
    "print('Клиенты со статусом\"гражданский брак\"',fmst1)\n",
    "print('Клиенты со статусом \"вдовец\"',fmst2)\n",
    "print('Клиенты со статусом \"в разводе\"',fmst3)\n",
    "print('Клиенты со статусом\"не женат / не замужем\"',fmst4)"
   ]
  },
  {
   "cell_type": "code",
   "execution_count": 52,
   "metadata": {},
   "outputs": [
    {
     "name": "stdout",
     "output_type": "stream",
     "text": [
      "Процент клиентов со статусом \"женат / замужем\" и задолженностью:7.55%\n",
      "Процент клиентов со статусом \"гражданский брак\" и задолженностью:9.35%\n",
      "Процент клиентов со статусом \"вдовец\" и задолженностью:6.57%\n",
      "Процент клиентов со статусом \"в разводе\" и задолженностью:7.11%\n",
      "Процент клиентов со статусом \"не женат / не замужем\" и задолженностью:9.75%\n",
      "Процент клиентов с задолженностью в прошлом в общем:8.12%\n"
     ]
    }
   ],
   "source": [
    "#Выведем результат\n",
    "print('Процент клиентов со статусом \"женат / замужем\" и задолженностью:{:.2%}'.format(data_family_status[(data_family_status['family_status_id']==0)&(data_children['debt']==1)]['family_status_id'].count()/fmst0))\n",
    "print('Процент клиентов со статусом \"гражданский брак\" и задолженностью:{:.2%}'.format(data_family_status[(data_family_status['family_status_id']==1)&(data_children['debt']==1)]['family_status_id'].count()/fmst1))\n",
    "print('Процент клиентов со статусом \"вдовец\" и задолженностью:{:.2%}'.format(data_family_status[(data_family_status['family_status_id']==2)&(data_children['debt']==1)]['family_status_id'].count()/fmst2))\n",
    "print('Процент клиентов со статусом \"в разводе\" и задолженностью:{:.2%}'.format(data_family_status[(data_family_status['family_status_id']==3)&(data_children['debt']==1)]['family_status_id'].count()/fmst3))\n",
    "print('Процент клиентов со статусом \"не женат / не замужем\" и задолженностью:{:.2%}'.format(data_family_status[(data_family_status['family_status_id']==4)&(data_children['debt']==1)]['family_status_id'].count()/fmst4))\n",
    "\n",
    "print('Процент клиентов с задолженностью в прошлом в общем:{:.2%}'.format(dolznik/len(data_children['debt'])))\n"
   ]
  },
  {
   "cell_type": "markdown",
   "metadata": {},
   "source": [
    "**Вывод**"
   ]
  },
  {
   "cell_type": "markdown",
   "metadata": {},
   "source": [
    "Согласно полученным данным, между семейным положением и наличием задолженности в прошлом есть небольшая зависимость. Самый низкий процент задолженности у людей со статусом \"вдовец\" -6,57 %. Самый высокий процент задолженности у людей с семейным положением \"не женат / не замужем\" = 9,75%. Это говорит о том что семейное положение может быть использовано как фактор при рассмотрении решения о выдаче кредита."
   ]
  },
  {
   "cell_type": "markdown",
   "metadata": {},
   "source": [
    "- Есть ли зависимость между уровнем дохода и возвратом кредита в срок?\n",
    "<a id=\"q3\"></a>"
   ]
  },
  {
   "cell_type": "code",
   "execution_count": 53,
   "metadata": {},
   "outputs": [
    {
     "name": "stdout",
     "output_type": "stream",
     "text": [
      "Медианный ежемесячный доход, рубли:142594\n"
     ]
    },
    {
     "data": {
      "text/html": [
       "<div>\n",
       "<style scoped>\n",
       "    .dataframe tbody tr th:only-of-type {\n",
       "        vertical-align: middle;\n",
       "    }\n",
       "\n",
       "    .dataframe tbody tr th {\n",
       "        vertical-align: top;\n",
       "    }\n",
       "\n",
       "    .dataframe thead th {\n",
       "        text-align: right;\n",
       "    }\n",
       "</style>\n",
       "<table border=\"1\" class=\"dataframe\">\n",
       "  <thead>\n",
       "    <tr style=\"text-align: right;\">\n",
       "      <th></th>\n",
       "      <th>total_income</th>\n",
       "      <th>debt</th>\n",
       "      <th>uroven_dohoda</th>\n",
       "    </tr>\n",
       "  </thead>\n",
       "  <tbody>\n",
       "    <tr>\n",
       "      <td>12633</td>\n",
       "      <td>127584.0</td>\n",
       "      <td>0</td>\n",
       "      <td>ниже среднего</td>\n",
       "    </tr>\n",
       "    <tr>\n",
       "      <td>16482</td>\n",
       "      <td>65875.0</td>\n",
       "      <td>0</td>\n",
       "      <td>низкий</td>\n",
       "    </tr>\n",
       "    <tr>\n",
       "      <td>2202</td>\n",
       "      <td>145005.0</td>\n",
       "      <td>0</td>\n",
       "      <td>выше среднего</td>\n",
       "    </tr>\n",
       "    <tr>\n",
       "      <td>3077</td>\n",
       "      <td>211519.0</td>\n",
       "      <td>0</td>\n",
       "      <td>выше среднего</td>\n",
       "    </tr>\n",
       "    <tr>\n",
       "      <td>20442</td>\n",
       "      <td>238958.0</td>\n",
       "      <td>0</td>\n",
       "      <td>высокий</td>\n",
       "    </tr>\n",
       "    <tr>\n",
       "      <td>12273</td>\n",
       "      <td>128462.0</td>\n",
       "      <td>0</td>\n",
       "      <td>ниже среднего</td>\n",
       "    </tr>\n",
       "    <tr>\n",
       "      <td>6865</td>\n",
       "      <td>148930.0</td>\n",
       "      <td>1</td>\n",
       "      <td>выше среднего</td>\n",
       "    </tr>\n",
       "    <tr>\n",
       "      <td>21086</td>\n",
       "      <td>186010.0</td>\n",
       "      <td>0</td>\n",
       "      <td>выше среднего</td>\n",
       "    </tr>\n",
       "    <tr>\n",
       "      <td>19007</td>\n",
       "      <td>144049.0</td>\n",
       "      <td>0</td>\n",
       "      <td>выше среднего</td>\n",
       "    </tr>\n",
       "    <tr>\n",
       "      <td>14512</td>\n",
       "      <td>90820.0</td>\n",
       "      <td>0</td>\n",
       "      <td>ниже среднего</td>\n",
       "    </tr>\n",
       "    <tr>\n",
       "      <td>13151</td>\n",
       "      <td>141812.0</td>\n",
       "      <td>0</td>\n",
       "      <td>ниже среднего</td>\n",
       "    </tr>\n",
       "    <tr>\n",
       "      <td>8852</td>\n",
       "      <td>154263.0</td>\n",
       "      <td>0</td>\n",
       "      <td>выше среднего</td>\n",
       "    </tr>\n",
       "    <tr>\n",
       "      <td>3293</td>\n",
       "      <td>200117.0</td>\n",
       "      <td>0</td>\n",
       "      <td>выше среднего</td>\n",
       "    </tr>\n",
       "    <tr>\n",
       "      <td>790</td>\n",
       "      <td>284791.0</td>\n",
       "      <td>0</td>\n",
       "      <td>высокий</td>\n",
       "    </tr>\n",
       "    <tr>\n",
       "      <td>4357</td>\n",
       "      <td>117299.0</td>\n",
       "      <td>0</td>\n",
       "      <td>ниже среднего</td>\n",
       "    </tr>\n",
       "    <tr>\n",
       "      <td>6732</td>\n",
       "      <td>204670.0</td>\n",
       "      <td>0</td>\n",
       "      <td>выше среднего</td>\n",
       "    </tr>\n",
       "    <tr>\n",
       "      <td>8563</td>\n",
       "      <td>209671.0</td>\n",
       "      <td>0</td>\n",
       "      <td>выше среднего</td>\n",
       "    </tr>\n",
       "    <tr>\n",
       "      <td>621</td>\n",
       "      <td>325100.0</td>\n",
       "      <td>0</td>\n",
       "      <td>высокий</td>\n",
       "    </tr>\n",
       "    <tr>\n",
       "      <td>13258</td>\n",
       "      <td>197059.0</td>\n",
       "      <td>0</td>\n",
       "      <td>выше среднего</td>\n",
       "    </tr>\n",
       "    <tr>\n",
       "      <td>1969</td>\n",
       "      <td>142594.0</td>\n",
       "      <td>0</td>\n",
       "      <td>ниже среднего</td>\n",
       "    </tr>\n",
       "  </tbody>\n",
       "</table>\n",
       "</div>"
      ],
      "text/plain": [
       "       total_income  debt  uroven_dohoda\n",
       "12633      127584.0     0  ниже среднего\n",
       "16482       65875.0     0         низкий\n",
       "2202       145005.0     0  выше среднего\n",
       "3077       211519.0     0  выше среднего\n",
       "20442      238958.0     0        высокий\n",
       "12273      128462.0     0  ниже среднего\n",
       "6865       148930.0     1  выше среднего\n",
       "21086      186010.0     0  выше среднего\n",
       "19007      144049.0     0  выше среднего\n",
       "14512       90820.0     0  ниже среднего\n",
       "13151      141812.0     0  ниже среднего\n",
       "8852       154263.0     0  выше среднего\n",
       "3293       200117.0     0  выше среднего\n",
       "790        284791.0     0        высокий\n",
       "4357       117299.0     0  ниже среднего\n",
       "6732       204670.0     0  выше среднего\n",
       "8563       209671.0     0  выше среднего\n",
       "621        325100.0     0        высокий\n",
       "13258      197059.0     0  выше среднего\n",
       "1969       142594.0     0  ниже среднего"
      ]
     },
     "metadata": {},
     "output_type": "display_data"
    }
   ],
   "source": [
    "#сортирум по уровню дохода\n",
    "data_total_income.sort_values(by = 'total_income',ascending = False) \n",
    "#вычислим медианный доход, чтобы от него отталкиваться деля на группы\n",
    "# В дальнейшем используем его в функции деления клиентов на категории по доходу\n",
    "median_dohod=data_total_income['total_income'].median()\n",
    "print('Медианный ежемесячный доход, рубли:{:.0f}'.format(median_dohod))\n",
    "#Медианный ежемесячный доход, рубли:142 594\n",
    "#поделим на 4 категории. До половины медианы - низки, от половины до целой - ниже среднего, от целой до полуторной\n",
    "#-выше среднейго, выше полуторной - высокий\n",
    "def kat_dohod(dohod):\n",
    "    if dohod <= (71297):\n",
    "        return 'низкий'\n",
    "    if (71297) < dohod <= (142594):\n",
    "        return 'ниже среднего'\n",
    "    if (142594) < dohod < (213891):\n",
    "        return 'выше среднего'    \n",
    "    return 'высокий' \n",
    "#добавим столбец с уровнем дохода по категории\n",
    "data_total_income['uroven_dohoda'] = data_total_income['total_income'].apply(kat_dohod) #добавим колонку с категорией ежемесячного дохода\n",
    "#проверим результат\n",
    "display(data_total_income.sample(20))\n"
   ]
  },
  {
   "cell_type": "code",
   "execution_count": 54,
   "metadata": {},
   "outputs": [
    {
     "name": "stdout",
     "output_type": "stream",
     "text": [
      "Число клиентов c уровнем дохода \"низкий\":1579\n",
      "Число клиентов с уровнем дохода \"ниже среднего\":9264\n",
      "Число клиентов с уровнем дохода\"выше среднего\":6291\n",
      "Число клиентов с уровнем дохода \"высокий\":4320\n",
      "\n",
      "Число клиентов с задолженностью c уровнем дохода \"низкий\":109\n",
      "Число клиентов с задолженностью с уровнем дохода \"ниже среднего\":801\n",
      "Число клиентов с задолженностью с уровнем дохода\"выше среднего\":527\n",
      "Число клиентов с задолженностью с уровнем дохода \"высокий\":304\n",
      "\n",
      "Процент клиентов с задолженностью c уровнем дохода \"низкий\":6.90%\n",
      "Процент клиентов с задолженностью с уровнем дохода \"ниже среднего\":8.65%\n",
      "Процент клиентов с задолженностью с уровнем дохода\"выше среднего\":8.38%\n",
      "Процент клиентов с задолженностью с уровнем дохода \"высокий\":7.04%\n",
      "\n",
      "Процент клиентов с задолженностью в прошлом в общем:8.12%\n"
     ]
    }
   ],
   "source": [
    "\n",
    "print('Число клиентов c уровнем дохода \"низкий\":{:.0f}'.format(data_total_income[data_total_income['uroven_dohoda']=='низкий']['debt'].count()))\n",
    "print('Число клиентов с уровнем дохода \"ниже среднего\":{:.0f}'.format(data_total_income[data_total_income['uroven_dohoda']=='ниже среднего']['debt'].count()))\n",
    "print('Число клиентов с уровнем дохода\"выше среднего\":{:.0f}'.format(data_total_income[data_total_income['uroven_dohoda']=='выше среднего']['debt'].count()))\n",
    "print('Число клиентов с уровнем дохода \"высокий\":{:.0f}'.format(data_total_income[data_total_income['uroven_dohoda']=='высокий']['debt'].count()))\n",
    "print()\n",
    "print('Число клиентов с задолженностью c уровнем дохода \"низкий\":{:.0f}'.format(data_total_income[data_total_income['uroven_dohoda']=='низкий']['debt'].sum()))\n",
    "print('Число клиентов с задолженностью с уровнем дохода \"ниже среднего\":{:.0f}'.format(data_total_income[data_total_income['uroven_dohoda']=='ниже среднего']['debt'].sum()))\n",
    "print('Число клиентов с задолженностью с уровнем дохода\"выше среднего\":{:.0f}'.format(data_total_income[data_total_income['uroven_dohoda']=='выше среднего']['debt'].sum()))\n",
    "print('Число клиентов с задолженностью с уровнем дохода \"высокий\":{:.0f}'.format(data_total_income[data_total_income['uroven_dohoda']=='высокий']['debt'].sum()))\n",
    "print()\n",
    "\n",
    "print('Процент клиентов с задолженностью c уровнем дохода \"низкий\":{:.2%}'.format(data_total_income[data_total_income['uroven_dohoda']=='низкий']['debt'].sum()/data_total_income[data_total_income['uroven_dohoda']=='низкий']['debt'].count()))\n",
    "print('Процент клиентов с задолженностью с уровнем дохода \"ниже среднего\":{:.2%}'.format(data_total_income[data_total_income['uroven_dohoda']=='ниже среднего']['debt'].sum()/data_total_income[data_total_income['uroven_dohoda']=='ниже среднего']['debt'].count()))\n",
    "print('Процент клиентов с задолженностью с уровнем дохода\"выше среднего\":{:.2%}'.format(data_total_income[data_total_income['uroven_dohoda']=='выше среднего']['debt'].sum()/data_total_income[data_total_income['uroven_dohoda']=='выше среднего']['debt'].count()))\n",
    "print('Процент клиентов с задолженностью с уровнем дохода \"высокий\":{:.2%}'.format(data_total_income[data_total_income['uroven_dohoda']=='высокий']['debt'].sum()/data_total_income[data_total_income['uroven_dohoda']=='высокий']['debt'].count()))\n",
    "print()\n",
    "print('Процент клиентов с задолженностью в прошлом в общем:{:.2%}'.format(dolznik/len(data_children['debt'])))\n",
    "\n"
   ]
  },
  {
   "cell_type": "markdown",
   "metadata": {},
   "source": [
    "**Вывод**"
   ]
  },
  {
   "cell_type": "markdown",
   "metadata": {},
   "source": [
    "Согласно полученным данным, между уровнем дохода и наличием задолженности в прошлом есть небольшая зависимость. Самый высокий процент задолженности у людей со средним уровнем дохода \"ниже среднего\" 8,65%, самый низкий у людей c уровнем дохода \"низкий\" -6.90%. Процент задолженности у людей с уровнем дохода \"ниже среднего\" и \"выше среднего\" мало отличается, на 0,27%.<br> Значит, уровень дохода  влияет на задолженность при переходе  с уровня дохода \"выше среднего\" на \"высокий\". Этот результат может быть использован как фактор при рассмотрении решения о выдаче кредита."
   ]
  },
  {
   "cell_type": "markdown",
   "metadata": {},
   "source": [
    "- Как разные цели кредита влияют на его возврат в срок?\n",
    "<a id=\"q4\"></a>"
   ]
  },
  {
   "cell_type": "code",
   "execution_count": 55,
   "metadata": {},
   "outputs": [
    {
     "name": "stdout",
     "output_type": "stream",
     "text": [
      "недвижимость    8849\n",
      "автомобиль      4306\n",
      "образование     4013\n",
      "свадьба         2324\n",
      "коммерческий    1962\n",
      "Name: purpose_cat, dtype: int64\n",
      "Процент клиентов с целью \"недвижимость\" и задолженностью:7.13%\n",
      "Процент клиентов с целью \"автомобиль\" и задолженностью:9.36%\n",
      "Процент клиентов с целью \"образование\" и задолженностью:9.22%\n",
      "Процент клиентов с целью \"свадьба\" и задолженностью:8.00%\n",
      "Процент клиентов с целью \"коммерческий \" и задолженностью:7.70%\n",
      "\n",
      "Процент клиентов с задолженностью в прошлом в общем:8.12%\n",
      "CPU times: user 27.2 ms, sys: 7.99 ms, total: 35.2 ms\n",
      "Wall time: 50.9 ms\n"
     ]
    }
   ],
   "source": [
    "%%time\n",
    "#посмотрим еще раз на уникальные значение 'Purpose_cat'. Выведем число клиентов по категории цели кредита\n",
    "print(data_purpose['purpose_cat'].value_counts())\n",
    "goals= data_purpose['purpose_cat'].value_counts()\n",
    "\n",
    "\n",
    "print('Процент клиентов с целью \"недвижимость\" и задолженностью:{:.2%}'.format(data_purpose[(data_purpose['purpose_cat']=='недвижимость')&(data_purpose['debt']==1)]['purpose_cat'].count()/goals[0]))\n",
    "print('Процент клиентов с целью \"автомобиль\" и задолженностью:{:.2%}'.format(data_purpose[(data_purpose['purpose_cat']=='автомобиль')&(data_purpose['debt']==1)]['purpose_cat'].count()/goals[1]))\n",
    "print('Процент клиентов с целью \"образование\" и задолженностью:{:.2%}'.format(data_purpose[(data_purpose['purpose_cat']=='образование')&(data_purpose['debt']==1)]['purpose_cat'].count()/goals[2]))\n",
    "print('Процент клиентов с целью \"свадьба\" и задолженностью:{:.2%}'.format(data_purpose[(data_purpose['purpose_cat']=='свадьба')&(data_purpose['debt']==1)]['purpose_cat'].count()/goals[3]))\n",
    "print('Процент клиентов с целью \"коммерческий \" и задолженностью:{:.2%}'.format(data_purpose[(data_purpose['purpose_cat']=='коммерческий')&(data_purpose['debt']==1)]['purpose_cat'].count()/goals[4]))\n",
    "print()\n",
    "#Выведем общий процент клиентов с задолженнотсью, для сравнения\n",
    "print('Процент клиентов с задолженностью в прошлом в общем:{:.2%}'.format(dolznik/len(data_children['debt'])))\n",
    "\n"
   ]
  },
  {
   "cell_type": "markdown",
   "metadata": {},
   "source": [
    "**Вывод**"
   ]
  },
  {
   "cell_type": "markdown",
   "metadata": {},
   "source": [
    "Согласно полученным данным, между целью кредита и наличием задолженности в прошлом есть небольшая зависимость. Самый низкий процент задолженности у клиентов с целью \"недвижимость\" -7.13 %.<br>\n",
    "Самый высокий процент задолженности у людей с целью \"автомобиль\" = 9.36%. Это говорит о том что цель кредита может быть использовано как фактор при рассмотрении решения о выдаче кредита."
   ]
  },
  {
   "cell_type": "markdown",
   "metadata": {},
   "source": [
    "## Шаг 4. Общий вывод\n",
    "<a id=\"summary\"></a>"
   ]
  },
  {
   "cell_type": "markdown",
   "metadata": {},
   "source": [
    "Согласно полученным данным, зависимость между заданными условиями и задолженностью имеется, но в пределах 2% от среднего процента задожденности - 8.12%. Это говорит о том что на факт наличия задолженности в основном влиют другие факторы, помимо рассмотренных<br>\n",
    "Однако, используя информацию что мы получили и ранжируя эти факторы, мы можем принимать взврешенные решения о выдаче кредитов.<br>\n",
    "<b>Наш идеальный заемщик -вдовец без детей с низким уровнем дохода, с целью кредита недвижимость<br></b>\n",
    "<b>Наш нежелательный заемщик - не женат/не замужем, с детьми, уровень дохода ниже среднего, цель кредита автомобиль <br></b>\n"
   ]
  }
 ],
 "metadata": {
  "ExecuteTimeLog": [
   {
    "duration": 458,
    "start_time": "2021-06-24T20:37:41.602Z"
   },
   {
    "duration": 3078,
    "start_time": "2021-06-24T20:37:56.362Z"
   },
   {
    "duration": 71,
    "start_time": "2021-06-24T20:38:42.833Z"
   },
   {
    "duration": 79,
    "start_time": "2021-06-24T20:40:49.221Z"
   },
   {
    "duration": 63,
    "start_time": "2021-06-24T20:47:55.882Z"
   },
   {
    "duration": 75,
    "start_time": "2021-06-24T20:51:39.362Z"
   },
   {
    "duration": 77,
    "start_time": "2021-06-24T20:51:51.122Z"
   },
   {
    "duration": 62,
    "start_time": "2021-06-24T20:51:51.421Z"
   },
   {
    "duration": 67,
    "start_time": "2021-06-24T20:52:51.753Z"
   },
   {
    "duration": 68,
    "start_time": "2021-06-24T20:53:22.021Z"
   },
   {
    "duration": 66,
    "start_time": "2021-06-24T20:53:31.482Z"
   },
   {
    "duration": 66,
    "start_time": "2021-06-24T20:53:41.861Z"
   },
   {
    "duration": 65,
    "start_time": "2021-06-24T20:53:59.572Z"
   },
   {
    "duration": 66,
    "start_time": "2021-06-24T20:54:57.353Z"
   },
   {
    "duration": 79,
    "start_time": "2021-06-24T20:55:10.502Z"
   },
   {
    "duration": 66,
    "start_time": "2021-06-24T20:55:23.961Z"
   },
   {
    "duration": 69,
    "start_time": "2021-06-24T20:55:31.393Z"
   },
   {
    "duration": 69,
    "start_time": "2021-06-24T20:56:48.476Z"
   },
   {
    "duration": 866,
    "start_time": "2021-06-25T16:25:33.563Z"
   },
   {
    "duration": 66,
    "start_time": "2021-06-25T16:25:39.310Z"
   },
   {
    "duration": 28,
    "start_time": "2021-06-25T16:28:19.069Z"
   },
   {
    "duration": 37,
    "start_time": "2021-06-25T16:29:02.430Z"
   },
   {
    "duration": 21,
    "start_time": "2021-06-25T16:29:31.516Z"
   },
   {
    "duration": 49,
    "start_time": "2021-06-25T16:32:00.731Z"
   },
   {
    "duration": 67,
    "start_time": "2021-06-25T16:32:11.463Z"
   },
   {
    "duration": 33,
    "start_time": "2021-06-25T16:32:14.783Z"
   },
   {
    "duration": 14,
    "start_time": "2021-06-25T16:35:43.163Z"
   },
   {
    "duration": 31,
    "start_time": "2021-06-25T16:36:28.442Z"
   },
   {
    "duration": 444,
    "start_time": "2021-06-25T16:40:43.303Z"
   },
   {
    "duration": 279,
    "start_time": "2021-06-25T16:41:20.203Z"
   },
   {
    "duration": 305,
    "start_time": "2021-06-25T16:41:42.511Z"
   },
   {
    "duration": 269,
    "start_time": "2021-06-25T16:42:22.142Z"
   },
   {
    "duration": 18,
    "start_time": "2021-06-25T16:43:35.823Z"
   },
   {
    "duration": 18,
    "start_time": "2021-06-25T16:43:42.222Z"
   },
   {
    "duration": 17,
    "start_time": "2021-06-25T16:44:16.150Z"
   },
   {
    "duration": 22,
    "start_time": "2021-06-25T16:47:37.243Z"
   },
   {
    "duration": 19,
    "start_time": "2021-06-25T16:56:57.151Z"
   },
   {
    "duration": 19,
    "start_time": "2021-06-25T17:00:27.863Z"
   },
   {
    "duration": 8,
    "start_time": "2021-06-25T17:00:32.719Z"
   },
   {
    "duration": 9,
    "start_time": "2021-06-25T17:00:37.591Z"
   },
   {
    "duration": 6,
    "start_time": "2021-06-25T17:00:54.751Z"
   },
   {
    "duration": 22,
    "start_time": "2021-06-25T17:01:10.223Z"
   },
   {
    "duration": 42,
    "start_time": "2021-06-25T17:02:25.623Z"
   },
   {
    "duration": 43,
    "start_time": "2021-06-25T17:03:39.971Z"
   },
   {
    "duration": 43,
    "start_time": "2021-06-25T17:05:46.822Z"
   },
   {
    "duration": 47,
    "start_time": "2021-06-25T17:06:19.856Z"
   },
   {
    "duration": 43,
    "start_time": "2021-06-25T17:06:33.851Z"
   },
   {
    "duration": 44,
    "start_time": "2021-06-25T17:06:39.230Z"
   },
   {
    "duration": 45,
    "start_time": "2021-06-25T17:06:50.711Z"
   },
   {
    "duration": 70,
    "start_time": "2021-06-25T17:09:09.533Z"
   },
   {
    "duration": 58,
    "start_time": "2021-06-25T17:10:28.551Z"
   },
   {
    "duration": 63,
    "start_time": "2021-06-25T17:10:51.524Z"
   },
   {
    "duration": 78,
    "start_time": "2021-06-25T17:26:19.751Z"
   },
   {
    "duration": 39,
    "start_time": "2021-06-25T17:29:38.591Z"
   },
   {
    "duration": 7336,
    "start_time": "2021-06-25T17:31:37.971Z"
   },
   {
    "duration": 285,
    "start_time": "2021-06-25T17:32:16.032Z"
   },
   {
    "duration": 96,
    "start_time": "2021-06-25T17:37:09.690Z"
   },
   {
    "duration": 14,
    "start_time": "2021-06-25T17:37:25.151Z"
   },
   {
    "duration": 1924,
    "start_time": "2021-06-25T17:37:25.168Z"
   },
   {
    "duration": -976,
    "start_time": "2021-06-25T17:37:28.071Z"
   },
   {
    "duration": 1926,
    "start_time": "2021-06-25T17:37:48.372Z"
   },
   {
    "duration": 71,
    "start_time": "2021-06-25T17:37:58.143Z"
   },
   {
    "duration": 11,
    "start_time": "2021-06-25T17:38:01.102Z"
   },
   {
    "duration": 1904,
    "start_time": "2021-06-25T17:38:03.431Z"
   },
   {
    "duration": 1860,
    "start_time": "2021-06-25T17:38:25.610Z"
   },
   {
    "duration": 70,
    "start_time": "2021-06-25T17:39:05.103Z"
   },
   {
    "duration": 11,
    "start_time": "2021-06-25T17:39:05.176Z"
   },
   {
    "duration": 1924,
    "start_time": "2021-06-25T17:39:05.190Z"
   },
   {
    "duration": -955,
    "start_time": "2021-06-25T17:39:08.072Z"
   },
   {
    "duration": 2273,
    "start_time": "2021-06-25T17:39:17.112Z"
   },
   {
    "duration": 300,
    "start_time": "2021-06-25T17:39:31.351Z"
   },
   {
    "duration": 10,
    "start_time": "2021-06-25T17:39:44.631Z"
   },
   {
    "duration": 25,
    "start_time": "2021-06-25T17:39:54.425Z"
   },
   {
    "duration": 3051,
    "start_time": "2021-06-25T17:40:08.400Z"
   },
   {
    "duration": 71,
    "start_time": "2021-06-25T17:40:15.143Z"
   },
   {
    "duration": 26,
    "start_time": "2021-06-25T17:40:18.203Z"
   },
   {
    "duration": 1940,
    "start_time": "2021-06-25T17:40:30.450Z"
   },
   {
    "duration": 44,
    "start_time": "2021-06-25T17:40:50.069Z"
   },
   {
    "duration": 279,
    "start_time": "2021-06-25T17:44:17.071Z"
   },
   {
    "duration": 29,
    "start_time": "2021-06-25T17:44:25.070Z"
   },
   {
    "duration": 42,
    "start_time": "2021-06-25T17:44:37.823Z"
   },
   {
    "duration": 98,
    "start_time": "2021-06-25T17:45:03.431Z"
   },
   {
    "duration": 309,
    "start_time": "2021-06-25T17:45:15.423Z"
   },
   {
    "duration": 27,
    "start_time": "2021-06-25T17:45:34.211Z"
   },
   {
    "duration": 13,
    "start_time": "2021-06-25T17:49:43.030Z"
   },
   {
    "duration": 850,
    "start_time": "2021-06-26T11:38:05.064Z"
   },
   {
    "duration": 27,
    "start_time": "2021-06-26T11:38:05.917Z"
   },
   {
    "duration": 26,
    "start_time": "2021-06-26T11:38:05.947Z"
   },
   {
    "duration": 87,
    "start_time": "2021-06-26T11:38:06.000Z"
   },
   {
    "duration": 71,
    "start_time": "2021-06-26T11:39:09.076Z"
   },
   {
    "duration": 71,
    "start_time": "2021-06-26T11:39:16.665Z"
   },
   {
    "duration": 86,
    "start_time": "2021-06-26T11:39:22.925Z"
   },
   {
    "duration": 70,
    "start_time": "2021-06-26T11:39:29.885Z"
   },
   {
    "duration": 69,
    "start_time": "2021-06-26T11:40:20.425Z"
   },
   {
    "duration": 8595,
    "start_time": "2021-06-26T11:40:38.725Z"
   },
   {
    "duration": 7543,
    "start_time": "2021-06-26T11:40:59.634Z"
   },
   {
    "duration": 90,
    "start_time": "2021-06-26T11:41:11.645Z"
   },
   {
    "duration": -101,
    "start_time": "2021-06-26T11:43:20.613Z"
   },
   {
    "duration": 7523,
    "start_time": "2021-06-26T11:43:27.124Z"
   },
   {
    "duration": 6827,
    "start_time": "2021-06-26T11:43:40.405Z"
   },
   {
    "duration": 6,
    "start_time": "2021-06-26T11:44:19.876Z"
   },
   {
    "duration": 4172,
    "start_time": "2021-06-26T11:44:36.636Z"
   },
   {
    "duration": 13,
    "start_time": "2021-06-26T11:45:39.525Z"
   },
   {
    "duration": 12,
    "start_time": "2021-06-26T11:45:47.335Z"
   },
   {
    "duration": 8,
    "start_time": "2021-06-26T11:45:57.195Z"
   },
   {
    "duration": 12,
    "start_time": "2021-06-26T11:46:15.784Z"
   },
   {
    "duration": 15,
    "start_time": "2021-06-26T11:48:10.553Z"
   },
   {
    "duration": 13,
    "start_time": "2021-06-26T11:49:15.133Z"
   },
   {
    "duration": 71,
    "start_time": "2021-06-26T11:50:52.412Z"
   },
   {
    "duration": 25,
    "start_time": "2021-06-26T11:50:52.486Z"
   },
   {
    "duration": 24,
    "start_time": "2021-06-26T11:50:52.514Z"
   },
   {
    "duration": 108,
    "start_time": "2021-06-26T11:50:52.541Z"
   },
   {
    "duration": 13,
    "start_time": "2021-06-26T11:50:52.652Z"
   },
   {
    "duration": 37,
    "start_time": "2021-06-26T11:50:52.667Z"
   },
   {
    "duration": 14,
    "start_time": "2021-06-26T11:50:52.707Z"
   },
   {
    "duration": 14,
    "start_time": "2021-06-26T11:51:31.441Z"
   },
   {
    "duration": 15,
    "start_time": "2021-06-26T11:52:36.251Z"
   },
   {
    "duration": 286,
    "start_time": "2021-06-26T11:56:07.840Z"
   },
   {
    "duration": 84,
    "start_time": "2021-06-26T11:56:17.320Z"
   },
   {
    "duration": 16,
    "start_time": "2021-06-26T11:56:31.140Z"
   },
   {
    "duration": 87,
    "start_time": "2021-06-26T11:56:42.060Z"
   },
   {
    "duration": 15,
    "start_time": "2021-06-26T11:56:58.755Z"
   },
   {
    "duration": 14,
    "start_time": "2021-06-26T11:57:27.451Z"
   },
   {
    "duration": 15,
    "start_time": "2021-06-26T11:58:25.479Z"
   },
   {
    "duration": 17,
    "start_time": "2021-06-26T11:58:31.699Z"
   },
   {
    "duration": 73,
    "start_time": "2021-06-26T11:58:42.722Z"
   },
   {
    "duration": 28,
    "start_time": "2021-06-26T11:58:42.798Z"
   },
   {
    "duration": 27,
    "start_time": "2021-06-26T11:58:42.830Z"
   },
   {
    "duration": 117,
    "start_time": "2021-06-26T11:58:42.860Z"
   },
   {
    "duration": 30,
    "start_time": "2021-06-26T11:58:42.981Z"
   },
   {
    "duration": 19,
    "start_time": "2021-06-26T11:58:43.014Z"
   },
   {
    "duration": 17,
    "start_time": "2021-06-26T11:58:43.036Z"
   },
   {
    "duration": 13,
    "start_time": "2021-06-26T11:58:43.056Z"
   },
   {
    "duration": 274,
    "start_time": "2021-06-26T12:00:05.570Z"
   },
   {
    "duration": 11,
    "start_time": "2021-06-26T12:01:07.380Z"
   },
   {
    "duration": 9,
    "start_time": "2021-06-26T12:01:18.259Z"
   },
   {
    "duration": 14,
    "start_time": "2021-06-26T12:01:25.940Z"
   },
   {
    "duration": 14,
    "start_time": "2021-06-26T12:02:00.380Z"
   },
   {
    "duration": 16,
    "start_time": "2021-06-26T12:04:52.350Z"
   },
   {
    "duration": 16,
    "start_time": "2021-06-26T12:05:11.370Z"
   },
   {
    "duration": 26,
    "start_time": "2021-06-26T12:14:20.778Z"
   },
   {
    "duration": 17,
    "start_time": "2021-06-26T12:15:54.030Z"
   },
   {
    "duration": 70,
    "start_time": "2021-06-26T12:16:07.980Z"
   },
   {
    "duration": 26,
    "start_time": "2021-06-26T12:16:08.052Z"
   },
   {
    "duration": 43,
    "start_time": "2021-06-26T12:16:08.082Z"
   },
   {
    "duration": 100,
    "start_time": "2021-06-26T12:16:08.129Z"
   },
   {
    "duration": 13,
    "start_time": "2021-06-26T12:16:08.232Z"
   },
   {
    "duration": 17,
    "start_time": "2021-06-26T12:16:08.248Z"
   },
   {
    "duration": 50,
    "start_time": "2021-06-26T12:16:08.268Z"
   },
   {
    "duration": 16,
    "start_time": "2021-06-26T12:16:08.320Z"
   },
   {
    "duration": 19,
    "start_time": "2021-06-26T12:16:31.017Z"
   },
   {
    "duration": 22,
    "start_time": "2021-06-26T12:16:46.617Z"
   },
   {
    "duration": 19,
    "start_time": "2021-06-26T12:17:38.469Z"
   },
   {
    "duration": 21,
    "start_time": "2021-06-26T12:17:53.089Z"
   },
   {
    "duration": 20,
    "start_time": "2021-06-26T12:18:00.029Z"
   },
   {
    "duration": 13,
    "start_time": "2021-06-26T12:39:27.839Z"
   },
   {
    "duration": 14,
    "start_time": "2021-06-26T12:39:45.497Z"
   },
   {
    "duration": 14,
    "start_time": "2021-06-26T12:39:50.650Z"
   },
   {
    "duration": 13,
    "start_time": "2021-06-26T12:40:13.206Z"
   },
   {
    "duration": 11,
    "start_time": "2021-06-26T12:40:44.850Z"
   },
   {
    "duration": 12,
    "start_time": "2021-06-26T12:40:49.638Z"
   },
   {
    "duration": 15,
    "start_time": "2021-06-26T12:41:14.126Z"
   },
   {
    "duration": 15,
    "start_time": "2021-06-26T12:41:45.159Z"
   },
   {
    "duration": 14,
    "start_time": "2021-06-26T12:41:51.859Z"
   },
   {
    "duration": 14,
    "start_time": "2021-06-26T12:43:20.180Z"
   },
   {
    "duration": 13,
    "start_time": "2021-06-26T12:43:33.339Z"
   },
   {
    "duration": 17,
    "start_time": "2021-06-26T12:43:59.579Z"
   },
   {
    "duration": 96,
    "start_time": "2021-06-26T12:44:54.379Z"
   },
   {
    "duration": 28,
    "start_time": "2021-06-26T12:45:14.859Z"
   },
   {
    "duration": 32,
    "start_time": "2021-06-26T12:48:14.819Z"
   },
   {
    "duration": 32,
    "start_time": "2021-06-26T12:48:43.578Z"
   },
   {
    "duration": 35,
    "start_time": "2021-06-26T12:50:38.206Z"
   },
   {
    "duration": 22,
    "start_time": "2021-06-26T12:51:40.559Z"
   },
   {
    "duration": 22,
    "start_time": "2021-06-26T12:53:53.079Z"
   },
   {
    "duration": 22,
    "start_time": "2021-06-26T12:54:07.099Z"
   },
   {
    "duration": 21,
    "start_time": "2021-06-26T12:54:43.219Z"
   },
   {
    "duration": 16,
    "start_time": "2021-06-26T13:05:01.179Z"
   },
   {
    "duration": 14,
    "start_time": "2021-06-26T13:05:18.958Z"
   },
   {
    "duration": 14,
    "start_time": "2021-06-26T13:06:00.890Z"
   },
   {
    "duration": 7133,
    "start_time": "2021-06-26T13:09:56.447Z"
   },
   {
    "duration": 9210,
    "start_time": "2021-06-26T13:10:23.178Z"
   },
   {
    "duration": 15,
    "start_time": "2021-06-26T13:10:39.919Z"
   },
   {
    "duration": 7131,
    "start_time": "2021-06-26T13:10:44.038Z"
   },
   {
    "duration": 17,
    "start_time": "2021-06-26T13:11:54.279Z"
   },
   {
    "duration": 290,
    "start_time": "2021-06-26T13:13:43.650Z"
   },
   {
    "duration": 35,
    "start_time": "2021-06-26T13:14:33.498Z"
   },
   {
    "duration": 26,
    "start_time": "2021-06-26T13:14:42.831Z"
   },
   {
    "duration": 31,
    "start_time": "2021-06-26T13:15:04.378Z"
   },
   {
    "duration": 95,
    "start_time": "2021-06-26T13:15:42.378Z"
   },
   {
    "duration": 43,
    "start_time": "2021-06-26T13:15:49.379Z"
   },
   {
    "duration": 26,
    "start_time": "2021-06-26T13:16:47.338Z"
   },
   {
    "duration": 31,
    "start_time": "2021-06-26T13:19:21.915Z"
   },
   {
    "duration": 22,
    "start_time": "2021-06-26T13:19:36.940Z"
   },
   {
    "duration": 43,
    "start_time": "2021-06-26T13:20:31.467Z"
   },
   {
    "duration": 43,
    "start_time": "2021-06-26T13:21:20.659Z"
   },
   {
    "duration": 101,
    "start_time": "2021-06-26T13:21:28.221Z"
   },
   {
    "duration": 37,
    "start_time": "2021-06-26T13:21:33.479Z"
   },
   {
    "duration": 337,
    "start_time": "2021-06-26T17:03:28.545Z"
   },
   {
    "duration": 796,
    "start_time": "2021-06-26T17:03:42.176Z"
   },
   {
    "duration": 28,
    "start_time": "2021-06-26T17:03:42.975Z"
   },
   {
    "duration": 26,
    "start_time": "2021-06-26T17:03:43.006Z"
   },
   {
    "duration": 85,
    "start_time": "2021-06-26T17:03:43.054Z"
   },
   {
    "duration": 757,
    "start_time": "2021-06-26T17:03:43.142Z"
   },
   {
    "duration": 22,
    "start_time": "2021-06-26T17:03:43.901Z"
   },
   {
    "duration": 54,
    "start_time": "2021-06-26T17:03:43.926Z"
   },
   {
    "duration": 18,
    "start_time": "2021-06-26T17:03:43.982Z"
   },
   {
    "duration": 16,
    "start_time": "2021-06-26T17:03:44.004Z"
   },
   {
    "duration": 104,
    "start_time": "2021-06-26T17:05:23.293Z"
   },
   {
    "duration": 19,
    "start_time": "2021-06-26T17:06:17.354Z"
   },
   {
    "duration": 20,
    "start_time": "2021-06-26T18:29:39.451Z"
   },
   {
    "duration": 28,
    "start_time": "2021-06-26T18:30:58.130Z"
   },
   {
    "duration": 24,
    "start_time": "2021-06-26T18:31:36.311Z"
   },
   {
    "duration": 20,
    "start_time": "2021-06-26T18:33:14.950Z"
   },
   {
    "duration": 18,
    "start_time": "2021-06-26T18:35:08.910Z"
   },
   {
    "duration": 24,
    "start_time": "2021-06-26T18:35:17.003Z"
   },
   {
    "duration": 18,
    "start_time": "2021-06-26T18:37:16.011Z"
   },
   {
    "duration": 91,
    "start_time": "2021-06-26T18:48:13.548Z"
   },
   {
    "duration": 1241,
    "start_time": "2021-06-26T18:48:31.650Z"
   },
   {
    "duration": 1149,
    "start_time": "2021-06-26T18:49:05.588Z"
   },
   {
    "duration": 1200,
    "start_time": "2021-06-26T18:50:00.349Z"
   },
   {
    "duration": 1164,
    "start_time": "2021-06-26T18:50:15.068Z"
   },
   {
    "duration": 42,
    "start_time": "2021-06-26T18:50:54.388Z"
   },
   {
    "duration": 36,
    "start_time": "2021-06-26T18:53:34.089Z"
   },
   {
    "duration": 40,
    "start_time": "2021-06-26T18:53:55.468Z"
   },
   {
    "duration": 41,
    "start_time": "2021-06-26T18:54:17.509Z"
   },
   {
    "duration": 39,
    "start_time": "2021-06-26T18:56:21.268Z"
   },
   {
    "duration": 50,
    "start_time": "2021-06-26T18:56:58.996Z"
   },
   {
    "duration": 50,
    "start_time": "2021-06-26T18:57:44.228Z"
   },
   {
    "duration": 58,
    "start_time": "2021-06-26T18:59:14.229Z"
   },
   {
    "duration": 70,
    "start_time": "2021-06-26T19:00:53.029Z"
   },
   {
    "duration": 4019,
    "start_time": "2021-06-27T13:55:13.941Z"
   },
   {
    "duration": 404,
    "start_time": "2021-06-27T13:55:45.520Z"
   },
   {
    "duration": 2387,
    "start_time": "2021-06-27T13:55:55.972Z"
   },
   {
    "duration": 5352,
    "start_time": "2021-06-27T13:55:58.362Z"
   },
   {
    "duration": 34,
    "start_time": "2021-06-27T13:56:03.717Z"
   },
   {
    "duration": 116,
    "start_time": "2021-06-27T13:56:03.753Z"
   },
   {
    "duration": 40,
    "start_time": "2021-06-27T13:56:07.396Z"
   },
   {
    "duration": 41,
    "start_time": "2021-06-27T13:56:07.438Z"
   },
   {
    "duration": 114,
    "start_time": "2021-06-27T13:56:07.482Z"
   },
   {
    "duration": 37,
    "start_time": "2021-06-27T13:56:07.599Z"
   },
   {
    "duration": 1122,
    "start_time": "2021-06-27T13:56:07.638Z"
   },
   {
    "duration": 1270,
    "start_time": "2021-06-27T13:56:08.980Z"
   },
   {
    "duration": 1272,
    "start_time": "2021-06-27T13:56:30.448Z"
   },
   {
    "duration": 326,
    "start_time": "2021-06-27T13:56:45.959Z"
   },
   {
    "duration": 295,
    "start_time": "2021-06-27T13:56:51.219Z"
   },
   {
    "duration": 9,
    "start_time": "2021-06-27T13:59:51.397Z"
   },
   {
    "duration": 1118,
    "start_time": "2021-06-27T14:00:04.219Z"
   },
   {
    "duration": 9,
    "start_time": "2021-06-27T14:00:19.306Z"
   },
   {
    "duration": 425,
    "start_time": "2021-06-27T14:01:08.457Z"
   },
   {
    "duration": 1358,
    "start_time": "2021-06-27T14:01:16.287Z"
   },
   {
    "duration": 931,
    "start_time": "2021-06-27T14:05:39.319Z"
   },
   {
    "duration": 821,
    "start_time": "2021-06-28T11:37:41.396Z"
   },
   {
    "duration": 95,
    "start_time": "2021-06-28T11:39:50.808Z"
   },
   {
    "duration": 102,
    "start_time": "2021-06-28T11:43:47.318Z"
   },
   {
    "duration": 741,
    "start_time": "2021-06-28T11:43:58.850Z"
   },
   {
    "duration": 719,
    "start_time": "2021-06-28T11:44:12.586Z"
   },
   {
    "duration": 617,
    "start_time": "2021-06-28T11:45:26.727Z"
   },
   {
    "duration": 8,
    "start_time": "2021-06-28T11:46:52.578Z"
   },
   {
    "duration": 1623,
    "start_time": "2021-06-28T11:47:34.915Z"
   },
   {
    "duration": 563,
    "start_time": "2021-06-28T11:47:43.356Z"
   },
   {
    "duration": 1249,
    "start_time": "2021-06-28T11:48:00.299Z"
   },
   {
    "duration": 915,
    "start_time": "2021-06-28T11:48:18.544Z"
   },
   {
    "duration": 1225,
    "start_time": "2021-06-28T11:50:39.538Z"
   },
   {
    "duration": 1302,
    "start_time": "2021-06-28T11:56:45.184Z"
   },
   {
    "duration": 313,
    "start_time": "2021-06-28T12:19:49.958Z"
   },
   {
    "duration": 1435,
    "start_time": "2021-06-28T12:20:08.389Z"
   },
   {
    "duration": 950,
    "start_time": "2021-06-28T12:20:22.309Z"
   },
   {
    "duration": 965,
    "start_time": "2021-06-28T12:20:52.054Z"
   },
   {
    "duration": 1313,
    "start_time": "2021-06-28T12:22:43.187Z"
   },
   {
    "duration": 168,
    "start_time": "2021-06-28T12:23:05.667Z"
   },
   {
    "duration": 1268,
    "start_time": "2021-06-28T12:23:10.316Z"
   },
   {
    "duration": 974,
    "start_time": "2021-06-28T12:26:02.996Z"
   },
   {
    "duration": 965,
    "start_time": "2021-06-28T12:26:11.240Z"
   },
   {
    "duration": 977,
    "start_time": "2021-06-28T12:26:32.737Z"
   },
   {
    "duration": 91,
    "start_time": "2021-06-28T12:31:21.385Z"
   },
   {
    "duration": 988,
    "start_time": "2021-06-28T12:31:48.872Z"
   },
   {
    "duration": 966,
    "start_time": "2021-06-28T12:32:06.893Z"
   },
   {
    "duration": 115,
    "start_time": "2021-06-28T12:32:37.909Z"
   },
   {
    "duration": 982,
    "start_time": "2021-06-28T12:32:46.900Z"
   },
   {
    "duration": 1120,
    "start_time": "2021-06-28T12:33:01.003Z"
   },
   {
    "duration": 970,
    "start_time": "2021-06-28T12:34:55.493Z"
   },
   {
    "duration": 1413,
    "start_time": "2021-06-28T12:35:58.037Z"
   },
   {
    "duration": 1270,
    "start_time": "2021-06-28T12:36:09.688Z"
   },
   {
    "duration": 1228,
    "start_time": "2021-06-28T12:36:48.946Z"
   },
   {
    "duration": 1266,
    "start_time": "2021-06-28T13:06:49.983Z"
   },
   {
    "duration": 898,
    "start_time": "2021-06-28T13:07:06.095Z"
   },
   {
    "duration": 118,
    "start_time": "2021-06-28T13:15:14.490Z"
   },
   {
    "duration": 812,
    "start_time": "2021-06-28T13:15:38.135Z"
   },
   {
    "duration": 937,
    "start_time": "2021-06-28T13:15:51.074Z"
   },
   {
    "duration": 1233,
    "start_time": "2021-06-28T13:16:10.437Z"
   },
   {
    "duration": 1246,
    "start_time": "2021-06-28T13:17:12.817Z"
   },
   {
    "duration": 1347,
    "start_time": "2021-06-28T13:17:28.233Z"
   },
   {
    "duration": 957,
    "start_time": "2021-06-28T13:25:38.755Z"
   },
   {
    "duration": 964,
    "start_time": "2021-06-28T13:26:43.810Z"
   },
   {
    "duration": 962,
    "start_time": "2021-06-28T13:27:29.134Z"
   },
   {
    "duration": 964,
    "start_time": "2021-06-28T13:29:17.654Z"
   },
   {
    "duration": 965,
    "start_time": "2021-06-28T13:29:51.077Z"
   },
   {
    "duration": 364,
    "start_time": "2021-06-28T13:33:28.735Z"
   },
   {
    "duration": 1293,
    "start_time": "2021-06-28T13:35:35.537Z"
   },
   {
    "duration": 1033,
    "start_time": "2021-06-28T13:35:46.599Z"
   },
   {
    "duration": 951,
    "start_time": "2021-06-28T13:41:53.381Z"
   },
   {
    "duration": 957,
    "start_time": "2021-06-28T13:42:11.546Z"
   },
   {
    "duration": 962,
    "start_time": "2021-06-28T13:42:45.514Z"
   },
   {
    "duration": 944,
    "start_time": "2021-06-28T13:44:52.427Z"
   },
   {
    "duration": 951,
    "start_time": "2021-06-28T13:45:14.831Z"
   },
   {
    "duration": 1352,
    "start_time": "2021-06-28T13:54:38.853Z"
   },
   {
    "duration": 2892,
    "start_time": "2021-06-28T13:55:05.912Z"
   },
   {
    "duration": 1086,
    "start_time": "2021-06-28T13:55:50.910Z"
   },
   {
    "duration": 971,
    "start_time": "2021-06-28T13:56:12.913Z"
   },
   {
    "duration": 1300,
    "start_time": "2021-06-28T13:56:18.545Z"
   },
   {
    "duration": 998,
    "start_time": "2021-06-28T14:20:09.832Z"
   },
   {
    "duration": 34,
    "start_time": "2021-06-28T14:54:15.474Z"
   },
   {
    "duration": 290,
    "start_time": "2021-06-28T14:54:34.683Z"
   },
   {
    "duration": 93,
    "start_time": "2021-06-28T14:54:49.764Z"
   },
   {
    "duration": 335,
    "start_time": "2021-06-28T14:54:56.303Z"
   },
   {
    "duration": 334,
    "start_time": "2021-06-28T14:55:12.407Z"
   },
   {
    "duration": 1240,
    "start_time": "2021-06-28T15:14:02.970Z"
   },
   {
    "duration": 335,
    "start_time": "2021-06-28T15:16:21.092Z"
   },
   {
    "duration": 1211,
    "start_time": "2021-06-28T15:16:59.824Z"
   },
   {
    "duration": 9,
    "start_time": "2021-06-28T15:19:03.386Z"
   },
   {
    "duration": 10,
    "start_time": "2021-06-28T15:20:20.293Z"
   },
   {
    "duration": 288,
    "start_time": "2021-06-28T15:20:42.424Z"
   },
   {
    "duration": 11,
    "start_time": "2021-06-28T15:21:19.260Z"
   },
   {
    "duration": 295,
    "start_time": "2021-06-28T15:21:40.954Z"
   },
   {
    "duration": 933,
    "start_time": "2021-06-28T15:21:51.342Z"
   },
   {
    "duration": 955,
    "start_time": "2021-06-28T15:22:07.312Z"
   },
   {
    "duration": 323,
    "start_time": "2021-06-28T15:23:15.006Z"
   },
   {
    "duration": 10,
    "start_time": "2021-06-28T15:24:24.915Z"
   },
   {
    "duration": 99,
    "start_time": "2021-06-28T15:32:23.738Z"
   },
   {
    "duration": 115,
    "start_time": "2021-06-28T15:32:50.473Z"
   },
   {
    "duration": 8,
    "start_time": "2021-06-28T15:33:03.386Z"
   },
   {
    "duration": 10,
    "start_time": "2021-06-28T15:33:08.589Z"
   },
   {
    "duration": 415,
    "start_time": "2021-06-28T15:34:23.492Z"
   },
   {
    "duration": 128,
    "start_time": "2021-06-28T15:45:27.567Z"
   },
   {
    "duration": 121,
    "start_time": "2021-06-28T15:45:59.299Z"
   },
   {
    "duration": 936,
    "start_time": "2021-06-28T15:46:20.541Z"
   },
   {
    "duration": 127,
    "start_time": "2021-06-28T15:49:09.540Z"
   },
   {
    "duration": 975,
    "start_time": "2021-06-28T15:49:17.844Z"
   },
   {
    "duration": 1334,
    "start_time": "2021-06-28T15:50:25.457Z"
   },
   {
    "duration": 97,
    "start_time": "2021-06-28T15:51:14.540Z"
   },
   {
    "duration": 961,
    "start_time": "2021-06-28T15:51:23.575Z"
   },
   {
    "duration": 1288,
    "start_time": "2021-06-28T16:04:11.470Z"
   },
   {
    "duration": 994,
    "start_time": "2021-06-28T16:07:18.397Z"
   },
   {
    "duration": 116,
    "start_time": "2021-06-28T16:58:13.764Z"
   },
   {
    "duration": 110,
    "start_time": "2021-06-28T16:58:23.825Z"
   },
   {
    "duration": 108,
    "start_time": "2021-06-28T16:58:29.059Z"
   },
   {
    "duration": 964,
    "start_time": "2021-06-28T16:58:36.090Z"
   },
   {
    "duration": 6422,
    "start_time": "2021-06-28T17:03:26.430Z"
   },
   {
    "duration": 927,
    "start_time": "2021-06-28T17:04:19.049Z"
   },
   {
    "duration": 927,
    "start_time": "2021-06-28T17:04:46.422Z"
   },
   {
    "duration": 972,
    "start_time": "2021-06-28T17:05:39.895Z"
   },
   {
    "duration": 982,
    "start_time": "2021-06-28T17:05:49.296Z"
   },
   {
    "duration": 1000,
    "start_time": "2021-06-28T17:05:59.029Z"
   },
   {
    "duration": 981,
    "start_time": "2021-06-28T17:06:06.539Z"
   },
   {
    "duration": 971,
    "start_time": "2021-06-28T17:06:20.842Z"
   },
   {
    "duration": 940,
    "start_time": "2021-06-28T17:07:01.382Z"
   },
   {
    "duration": 14235,
    "start_time": "2021-06-28T17:08:00.555Z"
   },
   {
    "duration": 12565,
    "start_time": "2021-06-28T17:08:49.796Z"
   },
   {
    "duration": 12930,
    "start_time": "2021-06-28T17:09:16.283Z"
   },
   {
    "duration": 807,
    "start_time": "2021-06-28T17:10:51.531Z"
   },
   {
    "duration": 4598,
    "start_time": "2021-06-28T17:11:03.637Z"
   },
   {
    "duration": 985,
    "start_time": "2021-06-28T17:12:24.720Z"
   },
   {
    "duration": 981,
    "start_time": "2021-06-28T17:12:58.115Z"
   },
   {
    "duration": 4545,
    "start_time": "2021-06-28T17:13:16.460Z"
   },
   {
    "duration": 122,
    "start_time": "2021-06-28T17:13:49.881Z"
   },
   {
    "duration": 12389,
    "start_time": "2021-06-28T17:14:00.510Z"
   },
   {
    "duration": 4547,
    "start_time": "2021-06-28T17:14:25.371Z"
   },
   {
    "duration": 4587,
    "start_time": "2021-06-28T17:15:35.247Z"
   },
   {
    "duration": 19,
    "start_time": "2021-06-28T17:16:21.044Z"
   },
   {
    "duration": 14,
    "start_time": "2021-06-28T17:16:40.649Z"
   },
   {
    "duration": 14,
    "start_time": "2021-06-28T17:16:46.061Z"
   },
   {
    "duration": 21,
    "start_time": "2021-06-28T17:19:31.107Z"
   },
   {
    "duration": 126,
    "start_time": "2021-06-28T17:20:20.706Z"
   },
   {
    "duration": 362,
    "start_time": "2021-06-28T17:20:27.599Z"
   },
   {
    "duration": 30,
    "start_time": "2021-06-28T17:20:34.372Z"
   },
   {
    "duration": 112,
    "start_time": "2021-06-28T17:24:00.716Z"
   },
   {
    "duration": 112,
    "start_time": "2021-06-28T17:24:44.666Z"
   },
   {
    "duration": 115,
    "start_time": "2021-06-28T17:25:37.617Z"
   },
   {
    "duration": 36,
    "start_time": "2021-06-28T17:26:09.116Z"
   },
   {
    "duration": 34,
    "start_time": "2021-06-28T17:26:32.404Z"
   },
   {
    "duration": 797,
    "start_time": "2021-06-29T13:45:52.257Z"
   },
   {
    "duration": 73,
    "start_time": "2021-06-29T13:46:09.107Z"
   },
   {
    "duration": 79,
    "start_time": "2021-06-29T13:46:38.383Z"
   },
   {
    "duration": 86,
    "start_time": "2021-06-29T13:47:24.812Z"
   },
   {
    "duration": 400,
    "start_time": "2021-06-29T13:50:15.985Z"
   },
   {
    "duration": 4902,
    "start_time": "2021-06-29T14:51:13.795Z"
   },
   {
    "duration": 375,
    "start_time": "2021-06-29T14:55:50.380Z"
   },
   {
    "duration": 94,
    "start_time": "2021-06-29T14:56:13.182Z"
   },
   {
    "duration": 101,
    "start_time": "2021-06-29T14:56:27.590Z"
   },
   {
    "duration": 104,
    "start_time": "2021-06-29T14:56:37.272Z"
   },
   {
    "duration": 327,
    "start_time": "2021-06-29T14:57:42.960Z"
   },
   {
    "duration": 95,
    "start_time": "2021-06-29T14:57:51.070Z"
   },
   {
    "duration": 84,
    "start_time": "2021-06-29T14:58:07.060Z"
   },
   {
    "duration": 76,
    "start_time": "2021-06-29T15:29:37.150Z"
   },
   {
    "duration": 98,
    "start_time": "2021-06-29T15:31:09.270Z"
   },
   {
    "duration": 100,
    "start_time": "2021-06-29T15:31:34.277Z"
   },
   {
    "duration": 79,
    "start_time": "2021-06-29T15:32:07.266Z"
   },
   {
    "duration": 98,
    "start_time": "2021-06-29T15:32:17.621Z"
   },
   {
    "duration": 69,
    "start_time": "2021-06-29T15:33:08.193Z"
   },
   {
    "duration": 72,
    "start_time": "2021-06-29T15:35:01.461Z"
   },
   {
    "duration": 123,
    "start_time": "2021-06-29T15:35:24.431Z"
   },
   {
    "duration": 133,
    "start_time": "2021-06-29T15:35:44.096Z"
   },
   {
    "duration": 125,
    "start_time": "2021-06-29T15:35:51.775Z"
   },
   {
    "duration": 80,
    "start_time": "2021-06-29T15:38:35.560Z"
   },
   {
    "duration": 31,
    "start_time": "2021-06-29T15:38:35.643Z"
   },
   {
    "duration": 41,
    "start_time": "2021-06-29T15:38:35.677Z"
   },
   {
    "duration": 97,
    "start_time": "2021-06-29T15:39:23.709Z"
   },
   {
    "duration": 90,
    "start_time": "2021-06-29T15:39:33.504Z"
   },
   {
    "duration": 91,
    "start_time": "2021-06-29T15:39:41.787Z"
   },
   {
    "duration": 91,
    "start_time": "2021-06-29T15:40:30.310Z"
   },
   {
    "duration": 119,
    "start_time": "2021-06-29T15:40:44.818Z"
   },
   {
    "duration": 125,
    "start_time": "2021-06-29T15:41:54.773Z"
   },
   {
    "duration": 90,
    "start_time": "2021-06-29T15:42:07.348Z"
   },
   {
    "duration": 98,
    "start_time": "2021-06-29T15:42:14.699Z"
   },
   {
    "duration": 93,
    "start_time": "2021-06-29T15:42:22.166Z"
   },
   {
    "duration": 26,
    "start_time": "2021-06-29T15:42:22.262Z"
   },
   {
    "duration": 24,
    "start_time": "2021-06-29T15:42:22.291Z"
   },
   {
    "duration": 124,
    "start_time": "2021-06-29T15:42:22.318Z"
   },
   {
    "duration": 93,
    "start_time": "2021-06-29T15:42:56.704Z"
   },
   {
    "duration": 98,
    "start_time": "2021-06-29T15:51:30.289Z"
   },
   {
    "duration": 92,
    "start_time": "2021-06-29T15:51:38.236Z"
   },
   {
    "duration": 439,
    "start_time": "2021-06-29T15:52:57.541Z"
   },
   {
    "duration": 118,
    "start_time": "2021-06-29T15:53:04.621Z"
   },
   {
    "duration": 337,
    "start_time": "2021-06-29T15:54:53.277Z"
   },
   {
    "duration": 109,
    "start_time": "2021-06-29T15:55:46.316Z"
   },
   {
    "duration": 104,
    "start_time": "2021-06-29T15:56:13.915Z"
   },
   {
    "duration": 103,
    "start_time": "2021-06-29T15:57:44.854Z"
   },
   {
    "duration": 90,
    "start_time": "2021-06-29T15:57:51.565Z"
   },
   {
    "duration": 29,
    "start_time": "2021-06-29T15:57:51.657Z"
   },
   {
    "duration": 24,
    "start_time": "2021-06-29T15:57:51.690Z"
   },
   {
    "duration": 90,
    "start_time": "2021-06-29T15:58:06.621Z"
   },
   {
    "duration": 51,
    "start_time": "2021-06-29T15:58:06.713Z"
   },
   {
    "duration": 23,
    "start_time": "2021-06-29T15:58:06.766Z"
   },
   {
    "duration": 111,
    "start_time": "2021-06-29T15:58:08.982Z"
   },
   {
    "duration": 102,
    "start_time": "2021-06-29T15:59:56.896Z"
   },
   {
    "duration": 97,
    "start_time": "2021-06-29T16:00:00.954Z"
   },
   {
    "duration": 26,
    "start_time": "2021-06-29T16:00:01.056Z"
   },
   {
    "duration": 23,
    "start_time": "2021-06-29T16:00:01.085Z"
   },
   {
    "duration": 134,
    "start_time": "2021-06-29T16:00:01.110Z"
   },
   {
    "duration": 91,
    "start_time": "2021-06-29T16:06:03.795Z"
   },
   {
    "duration": 32,
    "start_time": "2021-06-29T16:06:56.106Z"
   },
   {
    "duration": 33,
    "start_time": "2021-06-29T16:07:10.746Z"
   },
   {
    "duration": 97,
    "start_time": "2021-06-29T16:07:18.041Z"
   },
   {
    "duration": 33,
    "start_time": "2021-06-29T16:07:20.328Z"
   },
   {
    "duration": 279,
    "start_time": "2021-06-29T16:10:45.313Z"
   },
   {
    "duration": 35,
    "start_time": "2021-06-29T16:11:16.313Z"
   },
   {
    "duration": 13,
    "start_time": "2021-06-29T16:11:28.925Z"
   },
   {
    "duration": 98,
    "start_time": "2021-06-29T16:11:40.743Z"
   },
   {
    "duration": 37,
    "start_time": "2021-06-29T16:11:42.045Z"
   },
   {
    "duration": 24,
    "start_time": "2021-06-29T16:12:32.645Z"
   },
   {
    "duration": 96,
    "start_time": "2021-06-29T16:12:44.331Z"
   },
   {
    "duration": 25,
    "start_time": "2021-06-29T16:12:45.960Z"
   },
   {
    "duration": 23,
    "start_time": "2021-06-29T17:24:47.381Z"
   },
   {
    "duration": 29,
    "start_time": "2021-06-29T17:27:22.559Z"
   },
   {
    "duration": 19,
    "start_time": "2021-06-29T17:29:21.402Z"
   },
   {
    "duration": 84,
    "start_time": "2021-06-29T17:29:43.056Z"
   },
   {
    "duration": 23,
    "start_time": "2021-06-29T17:29:43.143Z"
   },
   {
    "duration": 34,
    "start_time": "2021-06-29T17:29:45.894Z"
   },
   {
    "duration": 38,
    "start_time": "2021-06-29T17:30:34.894Z"
   },
   {
    "duration": 114,
    "start_time": "2021-06-29T17:37:55.777Z"
   },
   {
    "duration": 90,
    "start_time": "2021-06-29T17:38:08.849Z"
   },
   {
    "duration": 438,
    "start_time": "2021-06-30T06:57:06.496Z"
   },
   {
    "duration": 280,
    "start_time": "2021-06-30T06:57:24.908Z"
   },
   {
    "duration": 1030,
    "start_time": "2021-06-30T06:57:34.597Z"
   },
   {
    "duration": 20,
    "start_time": "2021-06-30T06:57:45.829Z"
   },
   {
    "duration": 47,
    "start_time": "2021-06-30T06:57:50.820Z"
   },
   {
    "duration": 99,
    "start_time": "2021-06-30T06:57:58.741Z"
   },
   {
    "duration": 349,
    "start_time": "2021-06-30T06:58:42.005Z"
   },
   {
    "duration": 9,
    "start_time": "2021-06-30T06:58:59.893Z"
   },
   {
    "duration": 16,
    "start_time": "2021-06-30T06:59:12.789Z"
   },
   {
    "duration": -1878,
    "start_time": "2021-06-30T07:01:44.971Z"
   },
   {
    "duration": 4923,
    "start_time": "2021-06-30T07:01:45.050Z"
   },
   {
    "duration": 94,
    "start_time": "2021-06-30T07:02:06.906Z"
   },
   {
    "duration": 40,
    "start_time": "2021-06-30T07:02:07.004Z"
   },
   {
    "duration": 45,
    "start_time": "2021-06-30T07:02:07.048Z"
   },
   {
    "duration": 143,
    "start_time": "2021-06-30T07:02:07.096Z"
   },
   {
    "duration": 4892,
    "start_time": "2021-06-30T07:02:09.098Z"
   },
   {
    "duration": 20,
    "start_time": "2021-06-30T07:05:19.011Z"
   },
   {
    "duration": 14,
    "start_time": "2021-06-30T07:12:06.601Z"
   },
   {
    "duration": 301,
    "start_time": "2021-06-30T07:13:45.583Z"
   },
   {
    "duration": 14,
    "start_time": "2021-06-30T07:13:54.606Z"
   },
   {
    "duration": 16,
    "start_time": "2021-06-30T07:14:20.630Z"
   },
   {
    "duration": 15,
    "start_time": "2021-06-30T07:14:27.762Z"
   },
   {
    "duration": 14,
    "start_time": "2021-06-30T07:16:25.607Z"
   },
   {
    "duration": 110,
    "start_time": "2021-06-30T07:17:08.162Z"
   },
   {
    "duration": 90,
    "start_time": "2021-06-30T07:17:13.701Z"
   },
   {
    "duration": 14,
    "start_time": "2021-06-30T07:17:16.996Z"
   },
   {
    "duration": 41,
    "start_time": "2021-06-30T07:19:01.434Z"
   },
   {
    "duration": 34,
    "start_time": "2021-06-30T07:23:11.386Z"
   },
   {
    "duration": 38,
    "start_time": "2021-06-30T07:23:25.993Z"
   },
   {
    "duration": 34,
    "start_time": "2021-06-30T07:23:46.406Z"
   },
   {
    "duration": 40,
    "start_time": "2021-06-30T07:24:27.105Z"
   },
   {
    "duration": 40,
    "start_time": "2021-06-30T07:24:31.653Z"
   },
   {
    "duration": 38,
    "start_time": "2021-06-30T07:24:38.305Z"
   },
   {
    "duration": 41,
    "start_time": "2021-06-30T07:24:49.835Z"
   },
   {
    "duration": 16,
    "start_time": "2021-06-30T07:26:34.510Z"
   },
   {
    "duration": 22,
    "start_time": "2021-06-30T07:26:50.024Z"
   },
   {
    "duration": 119,
    "start_time": "2021-06-30T07:28:56.137Z"
   },
   {
    "duration": 4101,
    "start_time": "2021-06-30T07:28:58.646Z"
   },
   {
    "duration": 11,
    "start_time": "2021-06-30T07:29:08.849Z"
   },
   {
    "duration": 21,
    "start_time": "2021-06-30T07:29:21.270Z"
   },
   {
    "duration": 92,
    "start_time": "2021-06-30T07:30:03.237Z"
   },
   {
    "duration": 20,
    "start_time": "2021-06-30T07:30:03.332Z"
   },
   {
    "duration": 71,
    "start_time": "2021-06-30T07:30:03.356Z"
   },
   {
    "duration": 119,
    "start_time": "2021-06-30T07:30:03.429Z"
   },
   {
    "duration": 4917,
    "start_time": "2021-06-30T07:30:03.551Z"
   },
   {
    "duration": 17,
    "start_time": "2021-06-30T07:30:08.471Z"
   },
   {
    "duration": 44,
    "start_time": "2021-06-30T07:30:08.492Z"
   },
   {
    "duration": 131,
    "start_time": "2021-06-30T07:33:11.118Z"
   },
   {
    "duration": 97,
    "start_time": "2021-06-30T07:33:23.407Z"
   },
   {
    "duration": 27,
    "start_time": "2021-06-30T07:33:41.829Z"
   },
   {
    "duration": 23,
    "start_time": "2021-06-30T07:34:15.273Z"
   },
   {
    "duration": 23,
    "start_time": "2021-06-30T07:35:55.945Z"
   },
   {
    "duration": 23,
    "start_time": "2021-06-30T07:36:23.485Z"
   },
   {
    "duration": 36,
    "start_time": "2021-06-30T07:52:58.875Z"
   },
   {
    "duration": 27,
    "start_time": "2021-06-30T07:53:26.202Z"
   },
   {
    "duration": 21,
    "start_time": "2021-06-30T07:53:47.026Z"
   },
   {
    "duration": 36,
    "start_time": "2021-06-30T07:54:41.301Z"
   },
   {
    "duration": 56,
    "start_time": "2021-06-30T07:55:08.416Z"
   },
   {
    "duration": 55,
    "start_time": "2021-06-30T07:55:37.449Z"
   },
   {
    "duration": 59,
    "start_time": "2021-06-30T07:56:42.412Z"
   },
   {
    "duration": 156,
    "start_time": "2021-06-30T07:57:16.112Z"
   },
   {
    "duration": 53,
    "start_time": "2021-06-30T07:57:16.272Z"
   },
   {
    "duration": 98,
    "start_time": "2021-06-30T07:57:16.329Z"
   },
   {
    "duration": 193,
    "start_time": "2021-06-30T07:57:16.431Z"
   },
   {
    "duration": 5255,
    "start_time": "2021-06-30T07:57:16.627Z"
   },
   {
    "duration": 13,
    "start_time": "2021-06-30T07:57:21.885Z"
   },
   {
    "duration": 40,
    "start_time": "2021-06-30T07:57:21.901Z"
   },
   {
    "duration": 41,
    "start_time": "2021-06-30T07:57:21.944Z"
   },
   {
    "duration": 39,
    "start_time": "2021-06-30T07:57:54.117Z"
   },
   {
    "duration": 39,
    "start_time": "2021-06-30T07:58:05.107Z"
   },
   {
    "duration": 40,
    "start_time": "2021-06-30T07:58:40.798Z"
   },
   {
    "duration": 41,
    "start_time": "2021-06-30T08:00:11.469Z"
   },
   {
    "duration": 39,
    "start_time": "2021-06-30T08:00:18.330Z"
   },
   {
    "duration": 36,
    "start_time": "2021-06-30T08:03:00.866Z"
   },
   {
    "duration": 135,
    "start_time": "2021-06-30T08:04:54.227Z"
   },
   {
    "duration": 81,
    "start_time": "2021-06-30T08:05:39.138Z"
   },
   {
    "duration": 89,
    "start_time": "2021-06-30T08:06:30.999Z"
   },
   {
    "duration": 94,
    "start_time": "2021-06-30T08:06:37.830Z"
   },
   {
    "duration": 91,
    "start_time": "2021-06-30T08:06:43.512Z"
   },
   {
    "duration": 36,
    "start_time": "2021-06-30T08:06:43.606Z"
   },
   {
    "duration": 65,
    "start_time": "2021-06-30T08:06:43.645Z"
   },
   {
    "duration": 99,
    "start_time": "2021-06-30T08:06:43.712Z"
   },
   {
    "duration": 4991,
    "start_time": "2021-06-30T08:06:43.813Z"
   },
   {
    "duration": 27,
    "start_time": "2021-06-30T08:06:48.807Z"
   },
   {
    "duration": 22,
    "start_time": "2021-06-30T08:06:48.836Z"
   },
   {
    "duration": 70,
    "start_time": "2021-06-30T08:06:48.861Z"
   },
   {
    "duration": 98,
    "start_time": "2021-06-30T08:06:48.934Z"
   },
   {
    "duration": 82,
    "start_time": "2021-06-30T08:06:57.073Z"
   },
   {
    "duration": 74,
    "start_time": "2021-06-30T08:07:44.799Z"
   },
   {
    "duration": 75,
    "start_time": "2021-06-30T08:08:58.194Z"
   },
   {
    "duration": 6899,
    "start_time": "2021-06-30T08:14:22.214Z"
   },
   {
    "duration": 22,
    "start_time": "2021-06-30T08:14:51.725Z"
   },
   {
    "duration": 23,
    "start_time": "2021-06-30T08:15:32.531Z"
   },
   {
    "duration": 22,
    "start_time": "2021-06-30T08:16:59.598Z"
   },
   {
    "duration": 90,
    "start_time": "2021-06-30T08:40:28.912Z"
   },
   {
    "duration": 32,
    "start_time": "2021-06-30T08:40:29.005Z"
   },
   {
    "duration": 45,
    "start_time": "2021-06-30T08:40:29.040Z"
   },
   {
    "duration": 136,
    "start_time": "2021-06-30T08:40:29.088Z"
   },
   {
    "duration": 4810,
    "start_time": "2021-06-30T08:40:29.227Z"
   },
   {
    "duration": 15,
    "start_time": "2021-06-30T08:40:34.041Z"
   },
   {
    "duration": 20,
    "start_time": "2021-06-30T08:40:34.058Z"
   },
   {
    "duration": 71,
    "start_time": "2021-06-30T08:40:34.081Z"
   },
   {
    "duration": 98,
    "start_time": "2021-06-30T08:40:34.154Z"
   },
   {
    "duration": 26,
    "start_time": "2021-06-30T08:40:34.254Z"
   },
   {
    "duration": 102,
    "start_time": "2021-06-30T09:05:53.941Z"
   },
   {
    "duration": 130,
    "start_time": "2021-06-30T13:20:38.678Z"
   },
   {
    "duration": 117,
    "start_time": "2021-06-30T13:20:45.109Z"
   },
   {
    "duration": 832,
    "start_time": "2021-06-30T13:20:50.375Z"
   },
   {
    "duration": 77,
    "start_time": "2021-06-30T13:21:13.549Z"
   },
   {
    "duration": 125,
    "start_time": "2021-06-30T13:25:54.134Z"
   },
   {
    "duration": 107,
    "start_time": "2021-06-30T13:26:05.987Z"
   },
   {
    "duration": 101,
    "start_time": "2021-06-30T13:26:09.704Z"
   },
   {
    "duration": 69,
    "start_time": "2021-06-30T13:26:16.559Z"
   },
   {
    "duration": 71,
    "start_time": "2021-06-30T13:27:59.413Z"
   },
   {
    "duration": 74,
    "start_time": "2021-06-30T13:35:40.399Z"
   },
   {
    "duration": 73,
    "start_time": "2021-06-30T13:36:06.277Z"
   },
   {
    "duration": 84,
    "start_time": "2021-06-30T13:36:17.599Z"
   },
   {
    "duration": 86,
    "start_time": "2021-06-30T13:36:42.358Z"
   },
   {
    "duration": 86,
    "start_time": "2021-06-30T13:37:39.160Z"
   },
   {
    "duration": 85,
    "start_time": "2021-06-30T13:37:50.261Z"
   },
   {
    "duration": 89,
    "start_time": "2021-06-30T13:44:37.297Z"
   },
   {
    "duration": 89,
    "start_time": "2021-06-30T13:44:56.596Z"
   },
   {
    "duration": 68,
    "start_time": "2021-06-30T13:47:29.402Z"
   },
   {
    "duration": 107,
    "start_time": "2021-06-30T13:51:10.878Z"
   },
   {
    "duration": 74,
    "start_time": "2021-06-30T13:53:39.899Z"
   },
   {
    "duration": 78,
    "start_time": "2021-06-30T13:54:21.393Z"
   },
   {
    "duration": 468,
    "start_time": "2021-06-30T13:57:17.131Z"
   },
   {
    "duration": 82,
    "start_time": "2021-06-30T13:57:24.225Z"
   },
   {
    "duration": 369,
    "start_time": "2021-06-30T13:57:58.105Z"
   },
   {
    "duration": 75,
    "start_time": "2021-06-30T13:58:10.928Z"
   },
   {
    "duration": 101,
    "start_time": "2021-06-30T13:58:59.542Z"
   },
   {
    "duration": 103,
    "start_time": "2021-06-30T13:59:17.330Z"
   },
   {
    "duration": 515,
    "start_time": "2021-06-30T14:00:48.783Z"
   },
   {
    "duration": 415,
    "start_time": "2021-06-30T14:01:00.753Z"
   },
   {
    "duration": 76,
    "start_time": "2021-06-30T14:01:29.807Z"
   },
   {
    "duration": 101,
    "start_time": "2021-06-30T14:04:14.715Z"
   },
   {
    "duration": 81,
    "start_time": "2021-06-30T14:04:58.361Z"
   },
   {
    "duration": 84,
    "start_time": "2021-06-30T14:06:11.911Z"
   },
   {
    "duration": 121,
    "start_time": "2021-06-30T14:38:57.528Z"
   },
   {
    "duration": 106,
    "start_time": "2021-06-30T14:43:38.164Z"
   },
   {
    "duration": 429,
    "start_time": "2021-06-30T14:43:54.957Z"
   },
   {
    "duration": 105,
    "start_time": "2021-06-30T14:44:06.229Z"
   },
   {
    "duration": 150,
    "start_time": "2021-06-30T14:50:47.069Z"
   },
   {
    "duration": 111,
    "start_time": "2021-06-30T14:51:33.603Z"
   },
   {
    "duration": 119,
    "start_time": "2021-06-30T14:53:01.189Z"
   },
   {
    "duration": 115,
    "start_time": "2021-06-30T15:00:42.953Z"
   },
   {
    "duration": 112,
    "start_time": "2021-06-30T15:01:18.595Z"
   },
   {
    "duration": 113,
    "start_time": "2021-06-30T15:01:42.684Z"
   },
   {
    "duration": 117,
    "start_time": "2021-06-30T15:01:50.809Z"
   },
   {
    "duration": 115,
    "start_time": "2021-06-30T15:02:01.289Z"
   },
   {
    "duration": 115,
    "start_time": "2021-06-30T15:02:14.783Z"
   },
   {
    "duration": 116,
    "start_time": "2021-06-30T15:02:25.756Z"
   },
   {
    "duration": 5176,
    "start_time": "2021-06-30T15:04:19.684Z"
   },
   {
    "duration": 8045,
    "start_time": "2021-06-30T15:05:23.866Z"
   },
   {
    "duration": 729,
    "start_time": "2021-06-30T15:07:14.294Z"
   },
   {
    "duration": 734,
    "start_time": "2021-06-30T15:09:33.623Z"
   },
   {
    "duration": 757,
    "start_time": "2021-06-30T15:10:03.607Z"
   },
   {
    "duration": 757,
    "start_time": "2021-06-30T15:11:23.005Z"
   },
   {
    "duration": 747,
    "start_time": "2021-06-30T15:12:33.354Z"
   },
   {
    "duration": 1212,
    "start_time": "2021-06-30T15:12:59.884Z"
   },
   {
    "duration": 1257,
    "start_time": "2021-06-30T15:13:43.575Z"
   },
   {
    "duration": 846,
    "start_time": "2021-06-30T15:16:27.833Z"
   },
   {
    "duration": 727,
    "start_time": "2021-06-30T15:17:01.466Z"
   },
   {
    "duration": 749,
    "start_time": "2021-06-30T15:20:24.983Z"
   },
   {
    "duration": 747,
    "start_time": "2021-06-30T16:08:21.563Z"
   },
   {
    "duration": 834,
    "start_time": "2021-06-30T16:09:12.430Z"
   },
   {
    "duration": 814,
    "start_time": "2021-06-30T16:10:22.271Z"
   },
   {
    "duration": 794,
    "start_time": "2021-06-30T16:10:50.271Z"
   },
   {
    "duration": 1275,
    "start_time": "2021-06-30T16:12:15.747Z"
   },
   {
    "duration": 392,
    "start_time": "2021-06-30T16:18:22.123Z"
   },
   {
    "duration": 1399,
    "start_time": "2021-06-30T16:20:46.470Z"
   },
   {
    "duration": 1151,
    "start_time": "2021-06-30T16:21:45.140Z"
   },
   {
    "duration": 1313,
    "start_time": "2021-06-30T16:22:28.288Z"
   },
   {
    "duration": 1327,
    "start_time": "2021-06-30T16:22:57.526Z"
   },
   {
    "duration": 1327,
    "start_time": "2021-06-30T16:24:06.948Z"
   },
   {
    "duration": 1334,
    "start_time": "2021-06-30T16:26:13.000Z"
   },
   {
    "duration": 939,
    "start_time": "2021-06-30T16:29:21.581Z"
   },
   {
    "duration": 810,
    "start_time": "2021-06-30T16:29:43.905Z"
   },
   {
    "duration": 812,
    "start_time": "2021-06-30T16:30:07.219Z"
   },
   {
    "duration": 120,
    "start_time": "2021-06-30T16:31:07.893Z"
   },
   {
    "duration": 355,
    "start_time": "2021-06-30T16:31:28.457Z"
   },
   {
    "duration": 180,
    "start_time": "2021-06-30T16:31:35.300Z"
   },
   {
    "duration": 208,
    "start_time": "2021-06-30T16:31:45.033Z"
   },
   {
    "duration": 789,
    "start_time": "2021-06-30T16:33:29.346Z"
   },
   {
    "duration": 803,
    "start_time": "2021-06-30T16:34:00.146Z"
   },
   {
    "duration": 801,
    "start_time": "2021-06-30T16:34:10.971Z"
   },
   {
    "duration": 1014,
    "start_time": "2021-06-30T17:34:36.000Z"
   },
   {
    "duration": 1321,
    "start_time": "2021-06-30T17:35:08.898Z"
   },
   {
    "duration": 823,
    "start_time": "2021-06-30T17:36:31.401Z"
   },
   {
    "duration": 1193,
    "start_time": "2021-06-30T17:42:48.803Z"
   },
   {
    "duration": 1416,
    "start_time": "2021-06-30T17:44:07.858Z"
   },
   {
    "duration": 844,
    "start_time": "2021-06-30T17:45:13.131Z"
   },
   {
    "duration": 875,
    "start_time": "2021-06-30T17:48:26.728Z"
   },
   {
    "duration": 907,
    "start_time": "2021-06-30T17:50:41.763Z"
   },
   {
    "duration": 1383,
    "start_time": "2021-06-30T17:52:30.118Z"
   },
   {
    "duration": 823,
    "start_time": "2021-06-30T17:54:34.915Z"
   },
   {
    "duration": 377,
    "start_time": "2021-06-30T17:56:36.101Z"
   },
   {
    "duration": 5042,
    "start_time": "2021-06-30T17:56:48.167Z"
   },
   {
    "duration": 13,
    "start_time": "2021-06-30T17:56:57.094Z"
   },
   {
    "duration": 11,
    "start_time": "2021-06-30T17:57:09.587Z"
   },
   {
    "duration": 361,
    "start_time": "2021-06-30T17:57:17.427Z"
   },
   {
    "duration": 20,
    "start_time": "2021-06-30T17:57:21.978Z"
   },
   {
    "duration": 36,
    "start_time": "2021-06-30T17:57:24.702Z"
   },
   {
    "duration": 110,
    "start_time": "2021-06-30T17:57:31.411Z"
   },
   {
    "duration": 32,
    "start_time": "2021-06-30T17:57:35.546Z"
   },
   {
    "duration": 936,
    "start_time": "2021-06-30T17:58:27.245Z"
   },
   {
    "duration": 5192,
    "start_time": "2021-06-30T17:58:59.897Z"
   },
   {
    "duration": 5529,
    "start_time": "2021-06-30T17:59:30.592Z"
   },
   {
    "duration": 5710,
    "start_time": "2021-06-30T17:59:53.456Z"
   },
   {
    "duration": 5323,
    "start_time": "2021-06-30T18:00:13.785Z"
   },
   {
    "duration": 151,
    "start_time": "2021-06-30T18:00:30.015Z"
   },
   {
    "duration": 826,
    "start_time": "2021-06-30T18:00:38.385Z"
   },
   {
    "duration": 817,
    "start_time": "2021-06-30T18:00:52.749Z"
   },
   {
    "duration": 822,
    "start_time": "2021-06-30T18:01:03.085Z"
   },
   {
    "duration": 130,
    "start_time": "2021-06-30T18:04:48.310Z"
   },
   {
    "duration": 824,
    "start_time": "2021-06-30T18:05:05.976Z"
   },
   {
    "duration": 130,
    "start_time": "2021-06-30T18:05:23.974Z"
   },
   {
    "duration": 825,
    "start_time": "2021-06-30T18:05:33.672Z"
   },
   {
    "duration": 828,
    "start_time": "2021-06-30T18:06:06.165Z"
   },
   {
    "duration": 132,
    "start_time": "2021-06-30T18:08:22.053Z"
   },
   {
    "duration": 138,
    "start_time": "2021-06-30T18:08:26.406Z"
   },
   {
    "duration": 159,
    "start_time": "2021-06-30T18:08:34.033Z"
   },
   {
    "duration": 960,
    "start_time": "2021-06-30T18:08:55.017Z"
   },
   {
    "duration": 859,
    "start_time": "2021-06-30T18:09:33.080Z"
   },
   {
    "duration": 910,
    "start_time": "2021-06-30T18:11:44.579Z"
   },
   {
    "duration": 422,
    "start_time": "2021-06-30T18:21:50.941Z"
   },
   {
    "duration": 26,
    "start_time": "2021-06-30T18:22:01.851Z"
   },
   {
    "duration": 16,
    "start_time": "2021-06-30T18:24:16.508Z"
   },
   {
    "duration": 19,
    "start_time": "2021-06-30T18:24:37.679Z"
   },
   {
    "duration": 17,
    "start_time": "2021-06-30T18:24:42.604Z"
   },
   {
    "duration": 19,
    "start_time": "2021-06-30T18:25:30.990Z"
   },
   {
    "duration": 130,
    "start_time": "2021-06-30T18:30:16.697Z"
   },
   {
    "duration": 986,
    "start_time": "2021-06-30T18:30:31.752Z"
   },
   {
    "duration": 1405,
    "start_time": "2021-06-30T18:31:03.474Z"
   },
   {
    "duration": 122,
    "start_time": "2021-06-30T18:31:47.447Z"
   },
   {
    "duration": 8565,
    "start_time": "2021-06-30T18:31:58.548Z"
   },
   {
    "duration": 834,
    "start_time": "2021-06-30T18:32:32.270Z"
   },
   {
    "duration": 880,
    "start_time": "2021-06-30T18:33:41.912Z"
   },
   {
    "duration": 1629,
    "start_time": "2021-07-01T06:42:27.816Z"
   },
   {
    "duration": 867,
    "start_time": "2021-07-01T06:42:56.460Z"
   },
   {
    "duration": 830,
    "start_time": "2021-07-01T07:01:10.207Z"
   },
   {
    "duration": 379,
    "start_time": "2021-07-01T07:01:52.372Z"
   },
   {
    "duration": 16,
    "start_time": "2021-07-01T07:01:57.836Z"
   },
   {
    "duration": 210,
    "start_time": "2021-07-01T07:07:09.597Z"
   },
   {
    "duration": 17,
    "start_time": "2021-07-01T07:07:17.758Z"
   },
   {
    "duration": 18,
    "start_time": "2021-07-01T07:11:02.182Z"
   },
   {
    "duration": 18,
    "start_time": "2021-07-01T07:11:12.557Z"
   },
   {
    "duration": 44,
    "start_time": "2021-07-01T07:37:21.461Z"
   },
   {
    "duration": 4672,
    "start_time": "2021-07-01T07:38:13.962Z"
   },
   {
    "duration": 88,
    "start_time": "2021-07-01T07:43:04.281Z"
   },
   {
    "duration": 285,
    "start_time": "2021-07-01T07:43:25.953Z"
   },
   {
    "duration": 283,
    "start_time": "2021-07-01T07:43:53.139Z"
   },
   {
    "duration": 107,
    "start_time": "2021-07-01T07:44:37.694Z"
   },
   {
    "duration": 85,
    "start_time": "2021-07-01T07:44:49.804Z"
   },
   {
    "duration": 92,
    "start_time": "2021-07-01T07:45:15.549Z"
   },
   {
    "duration": 90,
    "start_time": "2021-07-01T07:45:26.359Z"
   },
   {
    "duration": 21,
    "start_time": "2021-07-01T07:45:35.014Z"
   },
   {
    "duration": 19,
    "start_time": "2021-07-01T07:46:03.479Z"
   },
   {
    "duration": 37,
    "start_time": "2021-07-01T07:46:42.474Z"
   },
   {
    "duration": 85,
    "start_time": "2021-07-01T07:47:11.384Z"
   },
   {
    "duration": 32,
    "start_time": "2021-07-01T07:47:19.128Z"
   },
   {
    "duration": 32,
    "start_time": "2021-07-01T07:48:26.270Z"
   },
   {
    "duration": 41,
    "start_time": "2021-07-01T07:49:13.934Z"
   },
   {
    "duration": 40,
    "start_time": "2021-07-01T07:49:39.730Z"
   },
   {
    "duration": 885,
    "start_time": "2021-07-01T07:53:21.789Z"
   },
   {
    "duration": 39,
    "start_time": "2021-07-01T07:57:48.306Z"
   },
   {
    "duration": 1130,
    "start_time": "2021-07-01T07:59:01.854Z"
   },
   {
    "duration": 51,
    "start_time": "2021-07-01T08:01:33.633Z"
   },
   {
    "duration": 90,
    "start_time": "2021-07-01T08:01:44.399Z"
   },
   {
    "duration": 53,
    "start_time": "2021-07-01T08:01:49.749Z"
   },
   {
    "duration": 77,
    "start_time": "2021-07-01T08:02:20.100Z"
   },
   {
    "duration": 319,
    "start_time": "2021-07-01T08:03:59.671Z"
   },
   {
    "duration": 285,
    "start_time": "2021-07-01T08:05:02.796Z"
   },
   {
    "duration": 290,
    "start_time": "2021-07-01T08:05:44.581Z"
   },
   {
    "duration": 1010,
    "start_time": "2021-07-01T08:06:11.308Z"
   },
   {
    "duration": 41,
    "start_time": "2021-07-01T08:06:13.219Z"
   },
   {
    "duration": 452,
    "start_time": "2021-07-01T08:06:36.359Z"
   },
   {
    "duration": 53,
    "start_time": "2021-07-01T08:06:57.354Z"
   },
   {
    "duration": 850,
    "start_time": "2021-07-01T08:07:07.291Z"
   },
   {
    "duration": 41,
    "start_time": "2021-07-01T08:07:17.021Z"
   },
   {
    "duration": 58,
    "start_time": "2021-07-01T08:07:24.720Z"
   },
   {
    "duration": 851,
    "start_time": "2021-07-01T08:07:35.758Z"
   },
   {
    "duration": 866,
    "start_time": "2021-07-01T08:08:17.415Z"
   },
   {
    "duration": 35,
    "start_time": "2021-07-01T08:08:19.320Z"
   },
   {
    "duration": 326,
    "start_time": "2021-07-01T08:15:01.304Z"
   },
   {
    "duration": 36,
    "start_time": "2021-07-01T08:15:07.310Z"
   },
   {
    "duration": 40,
    "start_time": "2021-07-01T08:15:50.093Z"
   },
   {
    "duration": 41,
    "start_time": "2021-07-01T08:15:59.218Z"
   },
   {
    "duration": 89,
    "start_time": "2021-07-01T08:17:47.619Z"
   },
   {
    "duration": 93,
    "start_time": "2021-07-01T08:17:58.392Z"
   },
   {
    "duration": 54,
    "start_time": "2021-07-01T08:18:35.226Z"
   },
   {
    "duration": 52,
    "start_time": "2021-07-01T08:19:22.327Z"
   },
   {
    "duration": 85,
    "start_time": "2021-07-01T08:19:46.647Z"
   },
   {
    "duration": 978,
    "start_time": "2021-07-01T08:20:14.068Z"
   },
   {
    "duration": 52,
    "start_time": "2021-07-01T08:20:49.042Z"
   },
   {
    "duration": 44,
    "start_time": "2021-07-01T08:21:23.461Z"
   },
   {
    "duration": 42,
    "start_time": "2021-07-01T08:21:37.335Z"
   },
   {
    "duration": 865,
    "start_time": "2021-07-01T08:24:35.979Z"
   },
   {
    "duration": 40,
    "start_time": "2021-07-01T08:24:42.137Z"
   },
   {
    "duration": 38,
    "start_time": "2021-07-01T08:25:19.655Z"
   },
   {
    "duration": 43,
    "start_time": "2021-07-01T08:25:41.915Z"
   },
   {
    "duration": 44,
    "start_time": "2021-07-01T08:26:14.469Z"
   },
   {
    "duration": 49,
    "start_time": "2021-07-01T08:31:20.730Z"
   },
   {
    "duration": 97,
    "start_time": "2021-07-01T08:32:28.471Z"
   },
   {
    "duration": 53,
    "start_time": "2021-07-01T08:32:37.957Z"
   },
   {
    "duration": 53,
    "start_time": "2021-07-01T08:32:45.830Z"
   },
   {
    "duration": 51,
    "start_time": "2021-07-01T08:32:53.560Z"
   },
   {
    "duration": 52,
    "start_time": "2021-07-01T08:33:01.994Z"
   },
   {
    "duration": 53,
    "start_time": "2021-07-01T08:33:09.717Z"
   },
   {
    "duration": 75,
    "start_time": "2021-07-01T08:33:48.143Z"
   },
   {
    "duration": 312,
    "start_time": "2021-07-01T08:33:59.794Z"
   },
   {
    "duration": 356,
    "start_time": "2021-07-01T08:34:16.103Z"
   },
   {
    "duration": 302,
    "start_time": "2021-07-01T08:34:55.436Z"
   },
   {
    "duration": 95,
    "start_time": "2021-07-01T08:35:50.470Z"
   },
   {
    "duration": 299,
    "start_time": "2021-07-01T08:36:07.348Z"
   },
   {
    "duration": 342,
    "start_time": "2021-07-01T08:43:19.832Z"
   },
   {
    "duration": 302,
    "start_time": "2021-07-01T09:04:45.342Z"
   },
   {
    "duration": 370,
    "start_time": "2021-07-01T09:06:27.147Z"
   },
   {
    "duration": 306,
    "start_time": "2021-07-01T09:06:39.679Z"
   },
   {
    "duration": 391,
    "start_time": "2021-07-01T09:06:56.568Z"
   },
   {
    "duration": 961,
    "start_time": "2021-07-01T09:07:38.383Z"
   },
   {
    "duration": 53,
    "start_time": "2021-07-01T09:07:41.056Z"
   },
   {
    "duration": 313,
    "start_time": "2021-07-01T09:07:50.163Z"
   },
   {
    "duration": 294,
    "start_time": "2021-07-01T09:08:05.164Z"
   },
   {
    "duration": 897,
    "start_time": "2021-07-01T09:08:16.050Z"
   },
   {
    "duration": 92,
    "start_time": "2021-07-01T09:08:45.214Z"
   },
   {
    "duration": 289,
    "start_time": "2021-07-01T09:09:40.815Z"
   },
   {
    "duration": 880,
    "start_time": "2021-07-01T09:09:47.605Z"
   },
   {
    "duration": 84,
    "start_time": "2021-07-01T09:09:49.064Z"
   },
   {
    "duration": 877,
    "start_time": "2021-07-01T09:10:19.604Z"
   },
   {
    "duration": 66,
    "start_time": "2021-07-01T09:10:22.569Z"
   },
   {
    "duration": 964,
    "start_time": "2021-07-01T09:10:44.192Z"
   },
   {
    "duration": 62,
    "start_time": "2021-07-01T09:10:49.086Z"
   },
   {
    "duration": 1520,
    "start_time": "2021-07-01T09:24:20.383Z"
   },
   {
    "duration": 382,
    "start_time": "2021-07-01T09:24:22.047Z"
   },
   {
    "duration": 622,
    "start_time": "2021-07-01T09:24:50.969Z"
   },
   {
    "duration": 1160,
    "start_time": "2021-07-01T09:25:13.865Z"
   },
   {
    "duration": 360,
    "start_time": "2021-07-01T09:25:15.270Z"
   },
   {
    "duration": 1001,
    "start_time": "2021-07-01T09:25:40.033Z"
   },
   {
    "duration": 695,
    "start_time": "2021-07-01T09:26:06.411Z"
   },
   {
    "duration": 859,
    "start_time": "2021-07-01T09:26:26.898Z"
   },
   {
    "duration": 103,
    "start_time": "2021-07-01T09:29:38.920Z"
   },
   {
    "duration": 106,
    "start_time": "2021-07-01T09:29:50.121Z"
   },
   {
    "duration": 302,
    "start_time": "2021-07-01T09:29:57.733Z"
   },
   {
    "duration": 1074,
    "start_time": "2021-07-01T09:30:38.442Z"
   },
   {
    "duration": 1132,
    "start_time": "2021-07-01T09:32:44.573Z"
   },
   {
    "duration": 66,
    "start_time": "2021-07-01T09:32:55.389Z"
   },
   {
    "duration": 95,
    "start_time": "2021-07-01T09:33:18.887Z"
   },
   {
    "duration": 87,
    "start_time": "2021-07-01T09:35:12.967Z"
   },
   {
    "duration": 95,
    "start_time": "2021-07-01T09:36:03.305Z"
   },
   {
    "duration": 896,
    "start_time": "2021-07-01T09:37:15.366Z"
   },
   {
    "duration": 85,
    "start_time": "2021-07-01T09:37:21.451Z"
   },
   {
    "duration": 9,
    "start_time": "2021-07-01T09:43:19.627Z"
   },
   {
    "duration": 918,
    "start_time": "2021-07-01T09:43:37.952Z"
   },
   {
    "duration": 91,
    "start_time": "2021-07-01T09:43:39.829Z"
   },
   {
    "duration": 8,
    "start_time": "2021-07-01T09:44:23.029Z"
   },
   {
    "duration": 111,
    "start_time": "2021-07-01T09:44:39.944Z"
   },
   {
    "duration": 900,
    "start_time": "2021-07-01T09:44:49.465Z"
   },
   {
    "duration": 84,
    "start_time": "2021-07-01T09:44:51.543Z"
   },
   {
    "duration": 853,
    "start_time": "2021-07-01T09:45:10.723Z"
   },
   {
    "duration": 329,
    "start_time": "2021-07-01T09:45:14.722Z"
   },
   {
    "duration": 888,
    "start_time": "2021-07-01T09:46:48.058Z"
   },
   {
    "duration": 86,
    "start_time": "2021-07-01T09:46:53.305Z"
   },
   {
    "duration": 1694,
    "start_time": "2021-07-01T10:59:29.198Z"
   },
   {
    "duration": 149,
    "start_time": "2021-07-01T10:59:30.896Z"
   },
   {
    "duration": 148,
    "start_time": "2021-07-01T11:13:14.530Z"
   },
   {
    "duration": 151,
    "start_time": "2021-07-01T11:19:26.958Z"
   },
   {
    "duration": 133,
    "start_time": "2021-07-01T11:19:57.819Z"
   },
   {
    "duration": 138,
    "start_time": "2021-07-01T11:20:45.756Z"
   },
   {
    "duration": 23,
    "start_time": "2021-07-01T11:22:51.891Z"
   },
   {
    "duration": 43,
    "start_time": "2021-07-01T11:24:54.184Z"
   },
   {
    "duration": 41,
    "start_time": "2021-07-01T11:25:16.957Z"
   },
   {
    "duration": 39,
    "start_time": "2021-07-01T11:26:28.374Z"
   },
   {
    "duration": 108,
    "start_time": "2021-07-01T11:30:41.895Z"
   },
   {
    "duration": 50,
    "start_time": "2021-07-01T11:31:36.709Z"
   },
   {
    "duration": 879,
    "start_time": "2021-07-01T11:32:13.967Z"
   },
   {
    "duration": 33,
    "start_time": "2021-07-01T11:32:14.848Z"
   },
   {
    "duration": 47,
    "start_time": "2021-07-01T11:32:15.515Z"
   },
   {
    "duration": 55,
    "start_time": "2021-07-01T11:33:13.444Z"
   },
   {
    "duration": 47,
    "start_time": "2021-07-01T11:33:43.257Z"
   },
   {
    "duration": 863,
    "start_time": "2021-07-01T11:33:50.139Z"
   },
   {
    "duration": 22,
    "start_time": "2021-07-01T11:33:51.005Z"
   },
   {
    "duration": 70,
    "start_time": "2021-07-01T11:33:51.030Z"
   },
   {
    "duration": 50,
    "start_time": "2021-07-01T11:33:59.812Z"
   },
   {
    "duration": 905,
    "start_time": "2021-07-01T11:34:29.037Z"
   },
   {
    "duration": 33,
    "start_time": "2021-07-01T11:34:29.944Z"
   },
   {
    "duration": 469,
    "start_time": "2021-07-01T11:34:33.286Z"
   },
   {
    "duration": 49,
    "start_time": "2021-07-01T11:34:43.994Z"
   },
   {
    "duration": 426,
    "start_time": "2021-07-01T11:42:29.047Z"
   },
   {
    "duration": 828,
    "start_time": "2021-07-01T11:42:49.016Z"
   },
   {
    "duration": 388,
    "start_time": "2021-07-01T11:42:53.309Z"
   },
   {
    "duration": 88,
    "start_time": "2021-07-01T11:44:00.080Z"
   },
   {
    "duration": 91,
    "start_time": "2021-07-01T11:47:26.492Z"
   },
   {
    "duration": 90,
    "start_time": "2021-07-01T11:51:08.325Z"
   },
   {
    "duration": 149,
    "start_time": "2021-07-01T12:36:42.534Z"
   },
   {
    "duration": 79,
    "start_time": "2021-07-01T12:36:49.724Z"
   },
   {
    "duration": 2488,
    "start_time": "2021-07-01T12:38:09.101Z"
   },
   {
    "duration": 8882,
    "start_time": "2021-07-01T12:39:07.719Z"
   },
   {
    "duration": 92,
    "start_time": "2021-07-01T12:39:45.413Z"
   },
   {
    "duration": 397,
    "start_time": "2021-07-01T12:40:35.447Z"
   },
   {
    "duration": 65,
    "start_time": "2021-07-01T12:41:32.491Z"
   },
   {
    "duration": 68,
    "start_time": "2021-07-01T12:43:47.103Z"
   },
   {
    "duration": 48,
    "start_time": "2021-07-01T12:44:47.359Z"
   },
   {
    "duration": 91,
    "start_time": "2021-07-01T12:46:37.859Z"
   },
   {
    "duration": 99,
    "start_time": "2021-07-01T12:47:39.349Z"
   },
   {
    "duration": 80,
    "start_time": "2021-07-01T12:48:11.575Z"
   },
   {
    "duration": 107,
    "start_time": "2021-07-01T12:54:28.043Z"
   },
   {
    "duration": 482,
    "start_time": "2021-07-01T12:59:58.670Z"
   },
   {
    "duration": 155,
    "start_time": "2021-07-01T13:00:26.339Z"
   },
   {
    "duration": 107,
    "start_time": "2021-07-01T13:01:00.182Z"
   },
   {
    "duration": 125,
    "start_time": "2021-07-01T13:01:16.663Z"
   },
   {
    "duration": 159,
    "start_time": "2021-07-01T13:01:39.061Z"
   },
   {
    "duration": 131,
    "start_time": "2021-07-01T13:02:04.190Z"
   },
   {
    "duration": 122,
    "start_time": "2021-07-01T13:02:45.701Z"
   },
   {
    "duration": 5275,
    "start_time": "2021-07-01T13:03:37.057Z"
   },
   {
    "duration": 131,
    "start_time": "2021-07-01T13:04:21.095Z"
   },
   {
    "duration": 136,
    "start_time": "2021-07-01T13:06:25.405Z"
   },
   {
    "duration": 153,
    "start_time": "2021-07-01T13:07:00.798Z"
   },
   {
    "duration": 165,
    "start_time": "2021-07-01T13:07:26.403Z"
   },
   {
    "duration": 217,
    "start_time": "2021-07-01T13:09:19.053Z"
   },
   {
    "duration": 160,
    "start_time": "2021-07-01T13:10:47.076Z"
   },
   {
    "duration": 205,
    "start_time": "2021-07-01T13:11:10.600Z"
   },
   {
    "duration": 269,
    "start_time": "2021-07-01T13:12:33.434Z"
   },
   {
    "duration": 200,
    "start_time": "2021-07-01T13:12:54.278Z"
   },
   {
    "duration": 234,
    "start_time": "2021-07-01T13:17:19.394Z"
   },
   {
    "duration": 5687,
    "start_time": "2021-07-01T13:21:02.752Z"
   },
   {
    "duration": 6216,
    "start_time": "2021-07-01T13:21:23.559Z"
   },
   {
    "duration": 6551,
    "start_time": "2021-07-01T13:22:13.901Z"
   },
   {
    "duration": 6016,
    "start_time": "2021-07-01T13:23:05.869Z"
   },
   {
    "duration": 501,
    "start_time": "2021-07-01T13:25:36.283Z"
   },
   {
    "duration": 5817,
    "start_time": "2021-07-01T13:26:06.620Z"
   },
   {
    "duration": 5614,
    "start_time": "2021-07-01T13:26:31.784Z"
   },
   {
    "duration": 6197,
    "start_time": "2021-07-01T13:26:52.103Z"
   },
   {
    "duration": 6263,
    "start_time": "2021-07-01T13:28:47.957Z"
   },
   {
    "duration": 833,
    "start_time": "2021-07-01T13:29:12.569Z"
   },
   {
    "duration": 6129,
    "start_time": "2021-07-01T13:29:14.510Z"
   },
   {
    "duration": 5712,
    "start_time": "2021-07-01T13:29:42.576Z"
   },
   {
    "duration": 5664,
    "start_time": "2021-07-01T13:30:18.668Z"
   },
   {
    "duration": 5800,
    "start_time": "2021-07-01T13:30:27.281Z"
   },
   {
    "duration": 890,
    "start_time": "2021-07-01T13:33:38.227Z"
   },
   {
    "duration": 6057,
    "start_time": "2021-07-01T13:33:40.043Z"
   },
   {
    "duration": 6383,
    "start_time": "2021-07-01T13:37:48.421Z"
   },
   {
    "duration": 5686,
    "start_time": "2021-07-01T13:44:08.715Z"
   },
   {
    "duration": 5633,
    "start_time": "2021-07-01T15:02:33.214Z"
   },
   {
    "duration": 5530,
    "start_time": "2021-07-01T15:03:02.176Z"
   },
   {
    "duration": 5807,
    "start_time": "2021-07-01T15:04:41.199Z"
   },
   {
    "duration": 5664,
    "start_time": "2021-07-01T15:05:28.408Z"
   },
   {
    "duration": 25,
    "start_time": "2021-07-01T15:06:32.316Z"
   },
   {
    "duration": 24,
    "start_time": "2021-07-01T15:06:37.014Z"
   },
   {
    "duration": 5460,
    "start_time": "2021-07-01T15:08:35.504Z"
   },
   {
    "duration": 240,
    "start_time": "2021-07-01T15:13:37.524Z"
   },
   {
    "duration": 128,
    "start_time": "2021-07-01T15:14:47.525Z"
   },
   {
    "duration": 368,
    "start_time": "2021-07-01T15:14:54.937Z"
   },
   {
    "duration": 267,
    "start_time": "2021-07-01T15:15:20.225Z"
   },
   {
    "duration": 206,
    "start_time": "2021-07-01T15:16:37.697Z"
   },
   {
    "duration": 10037,
    "start_time": "2021-07-01T15:18:34.177Z"
   },
   {
    "duration": 207,
    "start_time": "2021-07-01T15:19:56.231Z"
   },
   {
    "duration": 220,
    "start_time": "2021-07-01T15:20:25.453Z"
   },
   {
    "duration": 218,
    "start_time": "2021-07-01T15:21:34.646Z"
   },
   {
    "duration": 5768,
    "start_time": "2021-07-01T15:27:50.598Z"
   },
   {
    "duration": 300,
    "start_time": "2021-07-01T15:28:49.828Z"
   },
   {
    "duration": 224,
    "start_time": "2021-07-01T15:32:04.594Z"
   },
   {
    "duration": 203,
    "start_time": "2021-07-01T15:39:29.211Z"
   },
   {
    "duration": 313,
    "start_time": "2021-07-01T15:40:03.859Z"
   },
   {
    "duration": 329,
    "start_time": "2021-07-01T15:40:21.335Z"
   },
   {
    "duration": 123,
    "start_time": "2021-07-01T15:43:14.639Z"
   },
   {
    "duration": 115,
    "start_time": "2021-07-01T15:43:20.364Z"
   },
   {
    "duration": 127,
    "start_time": "2021-07-01T15:52:45.324Z"
   },
   {
    "duration": 582,
    "start_time": "2021-07-01T15:55:08.597Z"
   },
   {
    "duration": 118,
    "start_time": "2021-07-01T15:56:06.106Z"
   },
   {
    "duration": 9566,
    "start_time": "2021-07-01T15:56:19.100Z"
   },
   {
    "duration": 9134,
    "start_time": "2021-07-01T15:58:40.355Z"
   },
   {
    "duration": 8374,
    "start_time": "2021-07-01T16:01:32.144Z"
   },
   {
    "duration": 8766,
    "start_time": "2021-07-01T16:02:32.744Z"
   },
   {
    "duration": 8932,
    "start_time": "2021-07-01T16:07:17.905Z"
   },
   {
    "duration": 207,
    "start_time": "2021-07-01T16:07:45.476Z"
   },
   {
    "duration": 8404,
    "start_time": "2021-07-01T16:08:31.649Z"
   },
   {
    "duration": 8689,
    "start_time": "2021-07-01T16:08:41.888Z"
   },
   {
    "duration": 8705,
    "start_time": "2021-07-01T16:08:58.664Z"
   },
   {
    "duration": 10548,
    "start_time": "2021-07-01T16:09:21.942Z"
   },
   {
    "duration": 10995,
    "start_time": "2021-07-01T16:11:48.112Z"
   },
   {
    "duration": 828,
    "start_time": "2021-07-01T16:12:42.087Z"
   },
   {
    "duration": 208,
    "start_time": "2021-07-01T16:12:50.626Z"
   },
   {
    "duration": 580,
    "start_time": "2021-07-01T16:15:02.613Z"
   },
   {
    "duration": 193,
    "start_time": "2021-07-01T16:15:44.510Z"
   },
   {
    "duration": 215,
    "start_time": "2021-07-01T16:17:24.059Z"
   },
   {
    "duration": 211,
    "start_time": "2021-07-01T16:18:02.317Z"
   },
   {
    "duration": 8599,
    "start_time": "2021-07-01T16:18:54.624Z"
   },
   {
    "duration": 8740,
    "start_time": "2021-07-01T16:20:08.306Z"
   },
   {
    "duration": 125,
    "start_time": "2021-07-01T16:46:02.223Z"
   },
   {
    "duration": 289,
    "start_time": "2021-07-01T16:46:20.397Z"
   },
   {
    "duration": 432,
    "start_time": "2021-07-01T16:47:01.766Z"
   },
   {
    "duration": 837,
    "start_time": "2021-07-01T16:47:13.367Z"
   },
   {
    "duration": 289,
    "start_time": "2021-07-01T16:47:15.446Z"
   },
   {
    "duration": 809,
    "start_time": "2021-07-01T16:49:59.726Z"
   },
   {
    "duration": 257,
    "start_time": "2021-07-01T16:50:02.268Z"
   },
   {
    "duration": 816,
    "start_time": "2021-07-01T16:51:37.430Z"
   },
   {
    "duration": 200,
    "start_time": "2021-07-01T16:51:39.314Z"
   },
   {
    "duration": 200,
    "start_time": "2021-07-01T16:52:16.642Z"
   },
   {
    "duration": 841,
    "start_time": "2021-07-01T17:01:07.221Z"
   },
   {
    "duration": 262,
    "start_time": "2021-07-01T17:01:09.222Z"
   },
   {
    "duration": 9399,
    "start_time": "2021-07-01T17:01:25.939Z"
   },
   {
    "duration": 885,
    "start_time": "2021-07-01T17:01:52.060Z"
   },
   {
    "duration": 273,
    "start_time": "2021-07-01T17:01:54.448Z"
   },
   {
    "duration": 5,
    "start_time": "2021-07-01T17:06:25.408Z"
   },
   {
    "duration": 380,
    "start_time": "2021-07-01T17:06:42.754Z"
   },
   {
    "duration": 6,
    "start_time": "2021-07-01T17:06:49.106Z"
   },
   {
    "duration": 10,
    "start_time": "2021-07-01T17:07:27.421Z"
   },
   {
    "duration": 839,
    "start_time": "2021-07-01T17:10:48.940Z"
   },
   {
    "duration": 267,
    "start_time": "2021-07-01T17:10:50.913Z"
   },
   {
    "duration": 821,
    "start_time": "2021-07-01T17:11:38.141Z"
   },
   {
    "duration": 217,
    "start_time": "2021-07-01T17:11:40.048Z"
   },
   {
    "duration": 203,
    "start_time": "2021-07-01T17:12:18.136Z"
   },
   {
    "duration": 1378,
    "start_time": "2021-07-01T17:13:16.216Z"
   },
   {
    "duration": 629,
    "start_time": "2021-07-01T17:13:18.075Z"
   },
   {
    "duration": 1374,
    "start_time": "2021-07-01T17:13:48.362Z"
   },
   {
    "duration": 666,
    "start_time": "2021-07-01T17:13:50.007Z"
   },
   {
    "duration": 1373,
    "start_time": "2021-07-01T17:16:02.754Z"
   },
   {
    "duration": 553,
    "start_time": "2021-07-01T17:16:05.079Z"
   },
   {
    "duration": 865,
    "start_time": "2021-07-01T17:16:26.026Z"
   },
   {
    "duration": 274,
    "start_time": "2021-07-01T17:16:28.364Z"
   },
   {
    "duration": 835,
    "start_time": "2021-07-01T17:16:39.183Z"
   },
   {
    "duration": 295,
    "start_time": "2021-07-01T17:18:09.333Z"
   },
   {
    "duration": 8529,
    "start_time": "2021-07-01T17:18:44.680Z"
   },
   {
    "duration": 146,
    "start_time": "2021-07-01T17:19:07.916Z"
   },
   {
    "duration": 371,
    "start_time": "2021-07-01T17:19:12.318Z"
   },
   {
    "duration": 330,
    "start_time": "2021-07-01T17:19:23.832Z"
   },
   {
    "duration": 207,
    "start_time": "2021-07-01T17:19:50.410Z"
   },
   {
    "duration": 205,
    "start_time": "2021-07-01T17:20:06.594Z"
   },
   {
    "duration": 862,
    "start_time": "2021-07-01T17:20:12.585Z"
   },
   {
    "duration": 232,
    "start_time": "2021-07-01T17:20:13.450Z"
   },
   {
    "duration": 215,
    "start_time": "2021-07-01T17:20:14.972Z"
   },
   {
    "duration": 848,
    "start_time": "2021-07-01T17:26:50.227Z"
   },
   {
    "duration": 217,
    "start_time": "2021-07-01T17:26:52.798Z"
   },
   {
    "duration": 9879,
    "start_time": "2021-07-01T17:28:11.968Z"
   },
   {
    "duration": 849,
    "start_time": "2021-07-01T17:28:33.005Z"
   },
   {
    "duration": 318,
    "start_time": "2021-07-01T17:28:34.949Z"
   },
   {
    "duration": 10520,
    "start_time": "2021-07-01T17:30:51.410Z"
   },
   {
    "duration": 835,
    "start_time": "2021-07-01T17:32:58.214Z"
   },
   {
    "duration": 863,
    "start_time": "2021-07-01T17:33:01.336Z"
   },
   {
    "duration": 206,
    "start_time": "2021-07-01T17:33:07.572Z"
   },
   {
    "duration": 1075,
    "start_time": "2021-07-01T17:36:00.426Z"
   },
   {
    "duration": 846,
    "start_time": "2021-07-01T17:36:01.923Z"
   },
   {
    "duration": 155,
    "start_time": "2021-07-01T17:36:04.738Z"
   },
   {
    "duration": 209,
    "start_time": "2021-07-01T17:38:10.398Z"
   },
   {
    "duration": 6774,
    "start_time": "2021-07-01T17:39:16.887Z"
   },
   {
    "duration": 822,
    "start_time": "2021-07-01T17:42:29.610Z"
   },
   {
    "duration": 385,
    "start_time": "2021-07-01T17:42:31.505Z"
   },
   {
    "duration": 82,
    "start_time": "2021-07-01T18:09:34.240Z"
   },
   {
    "duration": 85,
    "start_time": "2021-07-01T18:10:37.283Z"
   },
   {
    "duration": 93,
    "start_time": "2021-07-01T18:10:49.797Z"
   },
   {
    "duration": 841,
    "start_time": "2021-07-01T18:11:05.346Z"
   },
   {
    "duration": 141,
    "start_time": "2021-07-01T18:11:06.190Z"
   },
   {
    "duration": 611,
    "start_time": "2021-07-01T18:11:05.723Z"
   },
   {
    "duration": 596,
    "start_time": "2021-07-01T18:11:05.740Z"
   },
   {
    "duration": 395,
    "start_time": "2021-07-01T18:11:14.669Z"
   },
   {
    "duration": 836,
    "start_time": "2021-07-01T18:12:51.298Z"
   },
   {
    "duration": 149,
    "start_time": "2021-07-01T18:12:52.137Z"
   },
   {
    "duration": 752,
    "start_time": "2021-07-01T18:12:51.537Z"
   },
   {
    "duration": 735,
    "start_time": "2021-07-01T18:12:51.556Z"
   },
   {
    "duration": 414,
    "start_time": "2021-07-01T18:12:53.114Z"
   },
   {
    "duration": 417,
    "start_time": "2021-07-01T18:13:43.245Z"
   },
   {
    "duration": 51,
    "start_time": "2021-07-01T18:14:20.368Z"
   },
   {
    "duration": 397,
    "start_time": "2021-07-01T18:14:39.399Z"
   },
   {
    "duration": 468,
    "start_time": "2021-07-01T18:15:20.217Z"
   },
   {
    "duration": 473,
    "start_time": "2021-07-01T18:15:50.224Z"
   },
   {
    "duration": 478,
    "start_time": "2021-07-01T18:16:19.950Z"
   },
   {
    "duration": 301,
    "start_time": "2021-07-01T18:16:30.360Z"
   },
   {
    "duration": 73,
    "start_time": "2021-07-01T18:16:34.635Z"
   },
   {
    "duration": 109,
    "start_time": "2021-07-01T18:16:59.303Z"
   },
   {
    "duration": 4818,
    "start_time": "2021-07-01T18:18:01.132Z"
   },
   {
    "duration": 1901,
    "start_time": "2021-07-02T07:26:10.073Z"
   },
   {
    "duration": 89,
    "start_time": "2021-07-02T07:36:11.779Z"
   },
   {
    "duration": 87,
    "start_time": "2021-07-02T07:42:04.177Z"
   },
   {
    "duration": 745,
    "start_time": "2021-07-02T07:42:07.325Z"
   },
   {
    "duration": 374,
    "start_time": "2021-07-02T07:42:14.054Z"
   },
   {
    "duration": 1668,
    "start_time": "2021-07-02T07:42:24.320Z"
   },
   {
    "duration": 90,
    "start_time": "2021-07-02T07:42:46.450Z"
   },
   {
    "duration": 749,
    "start_time": "2021-07-02T07:42:48.332Z"
   },
   {
    "duration": 1550,
    "start_time": "2021-07-02T07:46:20.493Z"
   },
   {
    "duration": 90,
    "start_time": "2021-07-02T07:46:35.810Z"
   },
   {
    "duration": 770,
    "start_time": "2021-07-02T07:46:38.484Z"
   },
   {
    "duration": 123,
    "start_time": "2021-07-02T07:53:44.290Z"
   },
   {
    "duration": 1203,
    "start_time": "2021-07-02T07:53:46.118Z"
   },
   {
    "duration": 119,
    "start_time": "2021-07-02T07:56:09.279Z"
   },
   {
    "duration": 442,
    "start_time": "2021-07-02T07:56:11.673Z"
   },
   {
    "duration": 90,
    "start_time": "2021-07-02T07:56:34.833Z"
   },
   {
    "duration": 717,
    "start_time": "2021-07-02T07:56:36.765Z"
   },
   {
    "duration": 1274,
    "start_time": "2021-07-02T07:56:58.924Z"
   },
   {
    "duration": 86,
    "start_time": "2021-07-02T07:58:14.225Z"
   },
   {
    "duration": 738,
    "start_time": "2021-07-02T07:58:16.232Z"
   },
   {
    "duration": 88,
    "start_time": "2021-07-02T07:58:36.146Z"
   },
   {
    "duration": 1190,
    "start_time": "2021-07-02T07:58:37.899Z"
   },
   {
    "duration": 1664,
    "start_time": "2021-07-02T08:00:13.930Z"
   },
   {
    "duration": 94,
    "start_time": "2021-07-02T08:00:25.305Z"
   },
   {
    "duration": 1203,
    "start_time": "2021-07-02T08:00:27.643Z"
   },
   {
    "duration": 126,
    "start_time": "2021-07-02T08:01:22.680Z"
   },
   {
    "duration": 1222,
    "start_time": "2021-07-02T08:01:24.642Z"
   },
   {
    "duration": 120,
    "start_time": "2021-07-02T08:12:27.058Z"
   },
   {
    "duration": 1166,
    "start_time": "2021-07-02T08:12:29.197Z"
   },
   {
    "duration": 88,
    "start_time": "2021-07-02T08:15:07.936Z"
   },
   {
    "duration": 703,
    "start_time": "2021-07-02T08:15:09.687Z"
   },
   {
    "duration": 85,
    "start_time": "2021-07-02T08:16:23.092Z"
   },
   {
    "duration": 680,
    "start_time": "2021-07-02T08:16:24.712Z"
   },
   {
    "duration": 90,
    "start_time": "2021-07-02T08:19:47.960Z"
   },
   {
    "duration": 688,
    "start_time": "2021-07-02T08:19:49.836Z"
   },
   {
    "duration": 89,
    "start_time": "2021-07-02T08:22:27.107Z"
   },
   {
    "duration": 676,
    "start_time": "2021-07-02T08:22:29.710Z"
   },
   {
    "duration": 90,
    "start_time": "2021-07-02T08:24:07.683Z"
   },
   {
    "duration": 646,
    "start_time": "2021-07-02T08:24:10.138Z"
   },
   {
    "duration": 659,
    "start_time": "2021-07-02T08:25:08.479Z"
   },
   {
    "duration": 88,
    "start_time": "2021-07-02T08:27:49.462Z"
   },
   {
    "duration": 653,
    "start_time": "2021-07-02T08:27:49.577Z"
   },
   {
    "duration": 317,
    "start_time": "2021-07-02T08:27:51.983Z"
   },
   {
    "duration": 87,
    "start_time": "2021-07-02T08:28:37.632Z"
   },
   {
    "duration": 689,
    "start_time": "2021-07-02T08:28:37.722Z"
   },
   {
    "duration": 468,
    "start_time": "2021-07-02T08:28:39.589Z"
   },
   {
    "duration": 681,
    "start_time": "2021-07-02T08:29:02.813Z"
   },
   {
    "duration": 88,
    "start_time": "2021-07-02T08:29:11.868Z"
   },
   {
    "duration": 670,
    "start_time": "2021-07-02T08:29:13.765Z"
   },
   {
    "duration": 92,
    "start_time": "2021-07-02T08:29:28.981Z"
   },
   {
    "duration": 1098,
    "start_time": "2021-07-02T08:29:32.587Z"
   },
   {
    "duration": 451,
    "start_time": "2021-07-02T08:30:55.175Z"
   },
   {
    "duration": 91,
    "start_time": "2021-07-02T08:37:41.425Z"
   },
   {
    "duration": 676,
    "start_time": "2021-07-02T08:37:41.519Z"
   },
   {
    "duration": 304,
    "start_time": "2021-07-02T08:37:43.231Z"
   },
   {
    "duration": 90,
    "start_time": "2021-07-02T08:39:33.277Z"
   },
   {
    "duration": 680,
    "start_time": "2021-07-02T08:39:33.370Z"
   },
   {
    "duration": 250,
    "start_time": "2021-07-02T08:39:35.035Z"
   },
   {
    "duration": 89,
    "start_time": "2021-07-02T08:48:38.430Z"
   },
   {
    "duration": 675,
    "start_time": "2021-07-02T08:48:38.522Z"
   },
   {
    "duration": 189,
    "start_time": "2021-07-02T08:48:40.077Z"
   },
   {
    "duration": 92,
    "start_time": "2021-07-02T08:51:29.419Z"
   },
   {
    "duration": 675,
    "start_time": "2021-07-02T08:51:29.514Z"
   },
   {
    "duration": 157,
    "start_time": "2021-07-02T08:51:32.836Z"
   },
   {
    "duration": 89,
    "start_time": "2021-07-02T08:55:22.148Z"
   },
   {
    "duration": 687,
    "start_time": "2021-07-02T08:55:22.241Z"
   },
   {
    "duration": 247,
    "start_time": "2021-07-02T08:55:24.464Z"
   },
   {
    "duration": 124,
    "start_time": "2021-07-02T08:55:43.176Z"
   },
   {
    "duration": 1152,
    "start_time": "2021-07-02T08:55:43.304Z"
   },
   {
    "duration": 227,
    "start_time": "2021-07-02T08:55:45.142Z"
   },
   {
    "duration": 88,
    "start_time": "2021-07-02T09:33:09.662Z"
   },
   {
    "duration": 740,
    "start_time": "2021-07-02T09:33:09.753Z"
   },
   {
    "duration": 201,
    "start_time": "2021-07-02T09:33:10.497Z"
   },
   {
    "duration": 30,
    "start_time": "2021-07-02T09:33:11.672Z"
   },
   {
    "duration": 116,
    "start_time": "2021-07-02T09:35:01.454Z"
   },
   {
    "duration": 135,
    "start_time": "2021-07-02T09:35:14.837Z"
   },
   {
    "duration": 42,
    "start_time": "2021-07-02T09:35:58.383Z"
   },
   {
    "duration": 60,
    "start_time": "2021-07-02T09:36:08.686Z"
   },
   {
    "duration": 35,
    "start_time": "2021-07-02T09:44:37.642Z"
   },
   {
    "duration": 25,
    "start_time": "2021-07-02T09:44:58.987Z"
   },
   {
    "duration": 26,
    "start_time": "2021-07-02T09:45:10.724Z"
   },
   {
    "duration": 39,
    "start_time": "2021-07-02T09:45:59.241Z"
   },
   {
    "duration": 70,
    "start_time": "2021-07-02T09:47:21.700Z"
   },
   {
    "duration": 118,
    "start_time": "2021-07-02T09:53:41.515Z"
   },
   {
    "duration": 88,
    "start_time": "2021-07-02T09:54:20.044Z"
   },
   {
    "duration": 663,
    "start_time": "2021-07-02T09:54:20.135Z"
   },
   {
    "duration": 155,
    "start_time": "2021-07-02T09:54:20.800Z"
   },
   {
    "duration": 127,
    "start_time": "2021-07-02T09:54:23.082Z"
   },
   {
    "duration": 134,
    "start_time": "2021-07-02T09:57:46.733Z"
   },
   {
    "duration": 31,
    "start_time": "2021-07-02T10:00:09.313Z"
   },
   {
    "duration": 91,
    "start_time": "2021-07-02T10:01:24.873Z"
   },
   {
    "duration": 721,
    "start_time": "2021-07-02T10:01:24.968Z"
   },
   {
    "duration": 159,
    "start_time": "2021-07-02T10:01:25.693Z"
   },
   {
    "duration": 136,
    "start_time": "2021-07-02T10:01:25.866Z"
   },
   {
    "duration": 35,
    "start_time": "2021-07-02T10:01:26.831Z"
   },
   {
    "duration": 92,
    "start_time": "2021-07-02T10:02:13.742Z"
   },
   {
    "duration": 667,
    "start_time": "2021-07-02T10:02:13.837Z"
   },
   {
    "duration": 161,
    "start_time": "2021-07-02T10:02:14.508Z"
   },
   {
    "duration": 138,
    "start_time": "2021-07-02T10:02:14.672Z"
   },
   {
    "duration": 32,
    "start_time": "2021-07-02T10:02:40.674Z"
   },
   {
    "duration": 95,
    "start_time": "2021-07-02T10:03:29.128Z"
   },
   {
    "duration": 720,
    "start_time": "2021-07-02T10:03:29.227Z"
   },
   {
    "duration": 159,
    "start_time": "2021-07-02T10:03:29.950Z"
   },
   {
    "duration": 157,
    "start_time": "2021-07-02T10:03:30.112Z"
   },
   {
    "duration": 33,
    "start_time": "2021-07-02T10:03:30.272Z"
   },
   {
    "duration": 105,
    "start_time": "2021-07-02T10:03:30.307Z"
   },
   {
    "duration": 4966,
    "start_time": "2021-07-02T10:03:30.415Z"
   },
   {
    "duration": 35,
    "start_time": "2021-07-02T10:03:35.385Z"
   },
   {
    "duration": 49,
    "start_time": "2021-07-02T10:03:35.423Z"
   },
   {
    "duration": 53,
    "start_time": "2021-07-02T10:03:35.475Z"
   },
   {
    "duration": 100,
    "start_time": "2021-07-02T10:03:35.531Z"
   },
   {
    "duration": 37,
    "start_time": "2021-07-02T10:03:35.634Z"
   },
   {
    "duration": 108,
    "start_time": "2021-07-02T10:08:15.522Z"
   },
   {
    "duration": 68,
    "start_time": "2021-07-02T10:11:51.038Z"
   },
   {
    "duration": 4933,
    "start_time": "2021-07-02T10:22:25.065Z"
   },
   {
    "duration": 5244,
    "start_time": "2021-07-02T10:23:24.243Z"
   },
   {
    "duration": 4902,
    "start_time": "2021-07-02T10:24:40.114Z"
   },
   {
    "duration": 5678,
    "start_time": "2021-07-02T11:17:05.485Z"
   },
   {
    "duration": 97,
    "start_time": "2021-07-02T11:17:30.519Z"
   },
   {
    "duration": 706,
    "start_time": "2021-07-02T11:17:30.619Z"
   },
   {
    "duration": 159,
    "start_time": "2021-07-02T11:17:31.328Z"
   },
   {
    "duration": 151,
    "start_time": "2021-07-02T11:17:31.491Z"
   },
   {
    "duration": 43,
    "start_time": "2021-07-02T11:17:31.644Z"
   },
   {
    "duration": 95,
    "start_time": "2021-07-02T11:17:31.689Z"
   },
   {
    "duration": 4849,
    "start_time": "2021-07-02T11:17:32.990Z"
   },
   {
    "duration": 5513,
    "start_time": "2021-07-02T11:17:49.828Z"
   },
   {
    "duration": 98,
    "start_time": "2021-07-02T11:18:09.993Z"
   },
   {
    "duration": 673,
    "start_time": "2021-07-02T11:18:10.094Z"
   },
   {
    "duration": 160,
    "start_time": "2021-07-02T11:18:10.770Z"
   },
   {
    "duration": 143,
    "start_time": "2021-07-02T11:18:10.932Z"
   },
   {
    "duration": 28,
    "start_time": "2021-07-02T11:18:11.078Z"
   },
   {
    "duration": 97,
    "start_time": "2021-07-02T11:18:11.109Z"
   },
   {
    "duration": 89,
    "start_time": "2021-07-02T11:19:50.906Z"
   },
   {
    "duration": 692,
    "start_time": "2021-07-02T11:19:50.998Z"
   },
   {
    "duration": 170,
    "start_time": "2021-07-02T11:19:51.694Z"
   },
   {
    "duration": 145,
    "start_time": "2021-07-02T11:19:51.867Z"
   },
   {
    "duration": 32,
    "start_time": "2021-07-02T11:19:52.014Z"
   },
   {
    "duration": 74,
    "start_time": "2021-07-02T11:19:52.063Z"
   },
   {
    "duration": 4846,
    "start_time": "2021-07-02T11:19:52.592Z"
   },
   {
    "duration": 5151,
    "start_time": "2021-07-02T11:20:04.879Z"
   },
   {
    "duration": 145,
    "start_time": "2021-07-02T11:20:58.127Z"
   },
   {
    "duration": 1144,
    "start_time": "2021-07-02T11:20:58.276Z"
   },
   {
    "duration": 162,
    "start_time": "2021-07-02T11:20:59.423Z"
   },
   {
    "duration": 137,
    "start_time": "2021-07-02T11:20:59.588Z"
   },
   {
    "duration": 49,
    "start_time": "2021-07-02T11:20:59.727Z"
   },
   {
    "duration": 85,
    "start_time": "2021-07-02T11:20:59.778Z"
   },
   {
    "duration": 92,
    "start_time": "2021-07-02T11:21:23.632Z"
   },
   {
    "duration": 691,
    "start_time": "2021-07-02T11:21:23.728Z"
   },
   {
    "duration": 176,
    "start_time": "2021-07-02T11:21:24.424Z"
   },
   {
    "duration": 148,
    "start_time": "2021-07-02T11:21:24.604Z"
   },
   {
    "duration": 36,
    "start_time": "2021-07-02T11:21:24.763Z"
   },
   {
    "duration": 105,
    "start_time": "2021-07-02T11:21:24.802Z"
   },
   {
    "duration": 4814,
    "start_time": "2021-07-02T11:21:47.502Z"
   },
   {
    "duration": 5080,
    "start_time": "2021-07-02T11:22:49.672Z"
   },
   {
    "duration": 98,
    "start_time": "2021-07-02T11:24:49.376Z"
   },
   {
    "duration": 686,
    "start_time": "2021-07-02T11:24:49.477Z"
   },
   {
    "duration": 165,
    "start_time": "2021-07-02T11:24:50.166Z"
   },
   {
    "duration": 144,
    "start_time": "2021-07-02T11:24:50.334Z"
   },
   {
    "duration": 29,
    "start_time": "2021-07-02T11:24:50.480Z"
   },
   {
    "duration": 100,
    "start_time": "2021-07-02T11:24:50.511Z"
   },
   {
    "duration": 4840,
    "start_time": "2021-07-02T11:24:51.252Z"
   },
   {
    "duration": 4816,
    "start_time": "2021-07-02T11:31:36.098Z"
   },
   {
    "duration": 370,
    "start_time": "2021-07-02T11:35:58.313Z"
   },
   {
    "duration": 66,
    "start_time": "2021-07-02T11:36:15.599Z"
   },
   {
    "duration": 46,
    "start_time": "2021-07-02T11:37:09.715Z"
   },
   {
    "duration": 21,
    "start_time": "2021-07-02T11:49:50.977Z"
   },
   {
    "duration": 98,
    "start_time": "2021-07-02T11:49:55.856Z"
   },
   {
    "duration": 708,
    "start_time": "2021-07-02T11:49:55.963Z"
   },
   {
    "duration": 166,
    "start_time": "2021-07-02T11:49:56.675Z"
   },
   {
    "duration": 137,
    "start_time": "2021-07-02T11:49:56.861Z"
   },
   {
    "duration": 35,
    "start_time": "2021-07-02T11:49:57.001Z"
   },
   {
    "duration": 95,
    "start_time": "2021-07-02T11:49:57.038Z"
   },
   {
    "duration": 5054,
    "start_time": "2021-07-02T11:49:57.137Z"
   },
   {
    "duration": 69,
    "start_time": "2021-07-02T11:50:02.194Z"
   },
   {
    "duration": 19,
    "start_time": "2021-07-02T11:50:02.287Z"
   },
   {
    "duration": 36,
    "start_time": "2021-07-02T11:51:26.919Z"
   },
   {
    "duration": 96,
    "start_time": "2021-07-02T11:54:14.536Z"
   },
   {
    "duration": 1795,
    "start_time": "2021-07-02T11:55:29.567Z"
   },
   {
    "duration": 1883,
    "start_time": "2021-07-02T11:56:09.443Z"
   },
   {
    "duration": 1960,
    "start_time": "2021-07-02T11:57:00.962Z"
   },
   {
    "duration": 1805,
    "start_time": "2021-07-02T11:59:04.848Z"
   },
   {
    "duration": 89,
    "start_time": "2021-07-02T12:06:29.887Z"
   },
   {
    "duration": 85,
    "start_time": "2021-07-02T12:06:58.294Z"
   },
   {
    "duration": 86,
    "start_time": "2021-07-02T12:07:50.482Z"
   },
   {
    "duration": 9593,
    "start_time": "2021-07-02T12:14:13.671Z"
   },
   {
    "duration": 9252,
    "start_time": "2021-07-02T12:14:42.257Z"
   },
   {
    "duration": 8606,
    "start_time": "2021-07-02T12:16:32.395Z"
   },
   {
    "duration": 9560,
    "start_time": "2021-07-02T12:17:20.768Z"
   },
   {
    "duration": 8713,
    "start_time": "2021-07-02T12:17:47.350Z"
   },
   {
    "duration": 8388,
    "start_time": "2021-07-02T12:19:21.891Z"
   },
   {
    "duration": 43,
    "start_time": "2021-07-02T12:20:00.504Z"
   },
   {
    "duration": 39,
    "start_time": "2021-07-02T12:20:25.280Z"
   },
   {
    "duration": 40,
    "start_time": "2021-07-02T12:20:57.621Z"
   },
   {
    "duration": 40,
    "start_time": "2021-07-02T12:22:10.841Z"
   },
   {
    "duration": 38,
    "start_time": "2021-07-02T12:24:07.166Z"
   },
   {
    "duration": 887,
    "start_time": "2021-07-02T12:43:40.165Z"
   },
   {
    "duration": 730,
    "start_time": "2021-07-02T12:43:41.063Z"
   },
   {
    "duration": 168,
    "start_time": "2021-07-02T12:43:41.798Z"
   },
   {
    "duration": 137,
    "start_time": "2021-07-02T12:43:41.970Z"
   },
   {
    "duration": 28,
    "start_time": "2021-07-02T12:43:42.109Z"
   },
   {
    "duration": 89,
    "start_time": "2021-07-02T12:43:42.140Z"
   },
   {
    "duration": 5085,
    "start_time": "2021-07-02T12:43:42.231Z"
   },
   {
    "duration": 59,
    "start_time": "2021-07-02T12:43:47.321Z"
   },
   {
    "duration": 21,
    "start_time": "2021-07-02T12:43:47.382Z"
   },
   {
    "duration": 65,
    "start_time": "2021-07-02T12:43:47.405Z"
   },
   {
    "duration": 107,
    "start_time": "2021-07-02T12:43:47.473Z"
   },
   {
    "duration": 40,
    "start_time": "2021-07-02T12:43:47.582Z"
   },
   {
    "duration": 482,
    "start_time": "2021-07-02T12:51:02.680Z"
   },
   {
    "duration": 100,
    "start_time": "2021-07-02T12:51:17.499Z"
   },
   {
    "duration": 41,
    "start_time": "2021-07-02T12:52:12.861Z"
   },
   {
    "duration": 20,
    "start_time": "2021-07-02T12:52:12.904Z"
   },
   {
    "duration": 69,
    "start_time": "2021-07-02T12:52:12.926Z"
   },
   {
    "duration": 124,
    "start_time": "2021-07-02T12:52:12.998Z"
   },
   {
    "duration": 63,
    "start_time": "2021-07-02T12:52:13.125Z"
   },
   {
    "duration": 41,
    "start_time": "2021-07-02T12:52:22.186Z"
   },
   {
    "duration": 138,
    "start_time": "2021-07-02T12:52:32.825Z"
   },
   {
    "duration": 11197,
    "start_time": "2022-02-04T10:34:18.066Z"
   },
   {
    "duration": -1663,
    "start_time": "2022-02-04T10:34:30.932Z"
   },
   {
    "duration": -1717,
    "start_time": "2022-02-04T10:34:30.988Z"
   },
   {
    "duration": -1750,
    "start_time": "2022-02-04T10:34:31.023Z"
   },
   {
    "duration": -1661,
    "start_time": "2022-02-04T10:34:31.120Z"
   },
   {
    "duration": -1714,
    "start_time": "2022-02-04T10:34:31.176Z"
   },
   {
    "duration": -1896,
    "start_time": "2022-02-04T10:34:31.359Z"
   },
   {
    "duration": -1932,
    "start_time": "2022-02-04T10:34:31.397Z"
   },
   {
    "duration": -1973,
    "start_time": "2022-02-04T10:34:31.441Z"
   },
   {
    "duration": -1997,
    "start_time": "2022-02-04T10:34:31.467Z"
   },
   {
    "duration": -2019,
    "start_time": "2022-02-04T10:34:31.490Z"
   },
   {
    "duration": -2042,
    "start_time": "2022-02-04T10:34:31.514Z"
   },
   {
    "duration": -2080,
    "start_time": "2022-02-04T10:34:31.553Z"
   },
   {
    "duration": -1919,
    "start_time": "2022-02-04T10:34:31.577Z"
   },
   {
    "duration": -1940,
    "start_time": "2022-02-04T10:34:31.600Z"
   },
   {
    "duration": -1960,
    "start_time": "2022-02-04T10:34:31.621Z"
   },
   {
    "duration": -1978,
    "start_time": "2022-02-04T10:34:31.641Z"
   },
   {
    "duration": -2066,
    "start_time": "2022-02-04T10:34:31.730Z"
   },
   {
    "duration": -2087,
    "start_time": "2022-02-04T10:34:31.753Z"
   },
   {
    "duration": -2121,
    "start_time": "2022-02-04T10:34:31.788Z"
   },
   {
    "duration": -2148,
    "start_time": "2022-02-04T10:34:31.816Z"
   },
   {
    "duration": -2188,
    "start_time": "2022-02-04T10:34:31.858Z"
   },
   {
    "duration": -2258,
    "start_time": "2022-02-04T10:34:31.929Z"
   },
   {
    "duration": 1003,
    "start_time": "2022-02-04T10:34:46.361Z"
   },
   {
    "duration": 817,
    "start_time": "2022-02-04T10:34:50.061Z"
   },
   {
    "duration": 204,
    "start_time": "2022-02-04T10:34:50.959Z"
   },
   {
    "duration": 294,
    "start_time": "2022-02-04T10:34:51.167Z"
   },
   {
    "duration": 6693,
    "start_time": "2022-02-04T10:34:51.466Z"
   },
   {
    "duration": 2506,
    "start_time": "2022-02-04T10:34:58.260Z"
   },
   {
    "duration": 1389,
    "start_time": "2022-02-04T10:35:00.769Z"
   },
   {
    "duration": 396,
    "start_time": "2022-02-04T10:35:02.162Z"
   },
   {
    "duration": 897,
    "start_time": "2022-02-04T10:35:02.562Z"
   },
   {
    "duration": 102,
    "start_time": "2022-02-04T10:35:03.465Z"
   },
   {
    "duration": 1096,
    "start_time": "2022-02-04T10:35:03.570Z"
   },
   {
    "duration": 189,
    "start_time": "2022-02-04T10:35:04.669Z"
   },
   {
    "duration": 305,
    "start_time": "2022-02-04T10:35:04.861Z"
   },
   {
    "duration": 102,
    "start_time": "2022-02-04T10:35:05.169Z"
   },
   {
    "duration": 32893,
    "start_time": "2022-02-04T10:35:05.275Z"
   },
   {
    "duration": -1486,
    "start_time": "2022-02-04T10:35:39.747Z"
   },
   {
    "duration": -1505,
    "start_time": "2022-02-04T10:35:39.771Z"
   },
   {
    "duration": -1446,
    "start_time": "2022-02-04T10:35:39.804Z"
   },
   {
    "duration": -1458,
    "start_time": "2022-02-04T10:35:39.818Z"
   },
   {
    "duration": -1474,
    "start_time": "2022-02-04T10:35:39.837Z"
   },
   {
    "duration": -1493,
    "start_time": "2022-02-04T10:35:39.857Z"
   },
   {
    "duration": -1513,
    "start_time": "2022-02-04T10:35:39.879Z"
   },
   {
    "duration": -1541,
    "start_time": "2022-02-04T10:35:39.910Z"
   },
   {
    "duration": -1580,
    "start_time": "2022-02-04T10:35:39.951Z"
   },
   {
    "duration": 995,
    "start_time": "2022-02-04T10:36:19.463Z"
   },
   {
    "duration": 199,
    "start_time": "2022-02-04T10:36:20.468Z"
   },
   {
    "duration": 209,
    "start_time": "2022-02-04T10:36:20.759Z"
   },
   {
    "duration": 8589,
    "start_time": "2022-02-04T10:36:20.971Z"
   },
   {
    "duration": 1500,
    "start_time": "2022-02-04T10:36:29.563Z"
   },
   {
    "duration": 1196,
    "start_time": "2022-02-04T10:36:31.065Z"
   },
   {
    "duration": 598,
    "start_time": "2022-02-04T10:36:32.264Z"
   },
   {
    "duration": 896,
    "start_time": "2022-02-04T10:36:32.867Z"
   },
   {
    "duration": 191,
    "start_time": "2022-02-04T10:36:33.767Z"
   },
   {
    "duration": 498,
    "start_time": "2022-02-04T10:36:33.967Z"
   },
   {
    "duration": 98,
    "start_time": "2022-02-04T10:36:34.561Z"
   },
   {
    "duration": 304,
    "start_time": "2022-02-04T10:36:34.663Z"
   },
   {
    "duration": 58903,
    "start_time": "2022-02-04T10:36:38.761Z"
   },
   {
    "duration": 9,
    "start_time": "2022-02-04T11:01:43.484Z"
   },
   {
    "duration": 19,
    "start_time": "2022-02-04T11:01:47.482Z"
   },
   {
    "duration": 505,
    "start_time": "2022-02-04T11:04:46.137Z"
   },
   {
    "duration": 27,
    "start_time": "2022-02-04T11:06:44.047Z"
   },
   {
    "duration": 98,
    "start_time": "2022-02-04T11:06:44.076Z"
   },
   {
    "duration": 12,
    "start_time": "2022-02-04T11:06:44.177Z"
   },
   {
    "duration": 32,
    "start_time": "2022-02-04T11:06:44.192Z"
   },
   {
    "duration": 699,
    "start_time": "2022-02-04T11:06:44.227Z"
   },
   {
    "duration": 5,
    "start_time": "2022-02-04T11:06:44.929Z"
   },
   {
    "duration": 9,
    "start_time": "2022-02-04T11:07:06.628Z"
   },
   {
    "duration": 17,
    "start_time": "2022-02-04T11:09:14.708Z"
   },
   {
    "duration": 7,
    "start_time": "2022-02-04T11:09:37.231Z"
   },
   {
    "duration": 29,
    "start_time": "2022-02-04T11:10:01.661Z"
   },
   {
    "duration": 51,
    "start_time": "2022-02-04T11:11:04.155Z"
   },
   {
    "duration": 8,
    "start_time": "2022-02-04T11:11:37.640Z"
   },
   {
    "duration": 3,
    "start_time": "2022-02-04T11:11:55.645Z"
   },
   {
    "duration": 8,
    "start_time": "2022-02-04T11:12:15.730Z"
   },
   {
    "duration": 23,
    "start_time": "2022-02-04T11:13:02.163Z"
   },
   {
    "duration": 141,
    "start_time": "2022-02-04T11:13:29.298Z"
   },
   {
    "duration": 23,
    "start_time": "2022-02-04T11:13:34.349Z"
   },
   {
    "duration": 137,
    "start_time": "2022-02-04T11:13:35.089Z"
   },
   {
    "duration": 8,
    "start_time": "2022-02-04T11:14:27.102Z"
   },
   {
    "duration": 40,
    "start_time": "2022-02-04T11:15:00.586Z"
   },
   {
    "duration": 28,
    "start_time": "2022-02-04T11:15:11.878Z"
   },
   {
    "duration": 8,
    "start_time": "2022-02-04T11:15:33.771Z"
   },
   {
    "duration": 37,
    "start_time": "2022-02-04T11:15:57.581Z"
   },
   {
    "duration": 40,
    "start_time": "2022-02-04T11:15:58.266Z"
   },
   {
    "duration": 14,
    "start_time": "2022-02-04T11:16:19.760Z"
   },
   {
    "duration": 75,
    "start_time": "2022-02-04T11:16:35.405Z"
   },
   {
    "duration": 12,
    "start_time": "2022-02-04T11:16:53.611Z"
   },
   {
    "duration": 33,
    "start_time": "2022-02-04T11:17:05.704Z"
   },
   {
    "duration": 10,
    "start_time": "2022-02-04T11:17:27.182Z"
   },
   {
    "duration": 14,
    "start_time": "2022-02-04T11:17:59.656Z"
   },
   {
    "duration": 42,
    "start_time": "2022-02-04T11:18:00.657Z"
   },
   {
    "duration": 773,
    "start_time": "2022-02-04T11:37:36.530Z"
   },
   {
    "duration": 101,
    "start_time": "2022-02-04T11:37:37.306Z"
   },
   {
    "duration": 11,
    "start_time": "2022-02-04T11:37:37.410Z"
   },
   {
    "duration": 54,
    "start_time": "2022-02-04T11:37:37.424Z"
   },
   {
    "duration": 684,
    "start_time": "2022-02-04T11:37:37.481Z"
   },
   {
    "duration": 4,
    "start_time": "2022-02-04T11:37:38.168Z"
   },
   {
    "duration": 9,
    "start_time": "2022-02-04T11:37:38.174Z"
   },
   {
    "duration": 16,
    "start_time": "2022-02-04T11:37:38.187Z"
   },
   {
    "duration": 6,
    "start_time": "2022-02-04T11:37:38.206Z"
   },
   {
    "duration": 87,
    "start_time": "2022-02-04T11:37:38.215Z"
   },
   {
    "duration": 7,
    "start_time": "2022-02-04T11:37:38.304Z"
   },
   {
    "duration": 45,
    "start_time": "2022-02-04T11:37:38.314Z"
   },
   {
    "duration": 23,
    "start_time": "2022-02-04T11:37:38.361Z"
   },
   {
    "duration": 15,
    "start_time": "2022-02-04T11:37:38.386Z"
   },
   {
    "duration": 8,
    "start_time": "2022-02-04T11:37:38.403Z"
   },
   {
    "duration": 67,
    "start_time": "2022-02-04T11:37:38.413Z"
   },
   {
    "duration": 7,
    "start_time": "2022-02-04T11:37:38.482Z"
   },
   {
    "duration": 39,
    "start_time": "2022-02-04T11:37:38.491Z"
   },
   {
    "duration": 62,
    "start_time": "2022-02-04T11:37:38.532Z"
   },
   {
    "duration": 14,
    "start_time": "2022-02-04T11:37:38.596Z"
   },
   {
    "duration": 111,
    "start_time": "2022-02-04T11:37:38.612Z"
   },
   {
    "duration": 11,
    "start_time": "2022-02-04T11:37:38.725Z"
   },
   {
    "duration": 35,
    "start_time": "2022-02-04T11:37:38.761Z"
   },
   {
    "duration": 10,
    "start_time": "2022-02-04T11:37:38.799Z"
   },
   {
    "duration": 48,
    "start_time": "2022-02-04T11:37:38.811Z"
   },
   {
    "duration": 37,
    "start_time": "2022-02-04T11:37:38.862Z"
   },
   {
    "duration": 78,
    "start_time": "2022-02-04T11:37:38.901Z"
   },
   {
    "duration": 26,
    "start_time": "2022-02-04T11:37:38.981Z"
   },
   {
    "duration": 93,
    "start_time": "2022-02-04T11:37:39.010Z"
   },
   {
    "duration": 10,
    "start_time": "2022-02-04T11:37:39.105Z"
   },
   {
    "duration": 348,
    "start_time": "2022-02-04T11:37:39.117Z"
   },
   {
    "duration": 6,
    "start_time": "2022-02-04T11:37:39.467Z"
   },
   {
    "duration": 4786,
    "start_time": "2022-02-04T11:37:39.475Z"
   },
   {
    "duration": 9,
    "start_time": "2022-02-04T11:37:44.263Z"
   },
   {
    "duration": 19,
    "start_time": "2022-02-04T11:37:44.275Z"
   },
   {
    "duration": 73,
    "start_time": "2022-02-04T11:37:44.296Z"
   },
   {
    "duration": 21,
    "start_time": "2022-02-04T11:37:44.372Z"
   },
   {
    "duration": 18,
    "start_time": "2022-02-04T11:37:44.396Z"
   },
   {
    "duration": 60,
    "start_time": "2022-02-04T11:37:44.419Z"
   },
   {
    "duration": 35,
    "start_time": "2022-02-04T11:37:44.481Z"
   },
   {
    "duration": 102,
    "start_time": "2022-02-04T11:37:44.519Z"
   },
   {
    "duration": 62,
    "start_time": "2022-02-04T11:37:44.624Z"
   },
   {
    "duration": 26,
    "start_time": "2022-02-04T11:38:57.029Z"
   },
   {
    "duration": 18,
    "start_time": "2022-02-04T11:39:00.967Z"
   },
   {
    "duration": 5,
    "start_time": "2022-02-04T11:39:00.988Z"
   },
   {
    "duration": 3895,
    "start_time": "2022-02-04T11:39:00.996Z"
   },
   {
    "duration": 8,
    "start_time": "2022-02-04T11:39:04.894Z"
   },
   {
    "duration": 19,
    "start_time": "2022-02-04T11:39:04.905Z"
   },
   {
    "duration": 64,
    "start_time": "2022-02-04T11:39:04.926Z"
   },
   {
    "duration": 18,
    "start_time": "2022-02-04T11:39:04.993Z"
   },
   {
    "duration": 49,
    "start_time": "2022-02-04T11:39:05.013Z"
   },
   {
    "duration": 22,
    "start_time": "2022-02-04T11:39:05.064Z"
   },
   {
    "duration": 31,
    "start_time": "2022-02-04T11:39:05.089Z"
   },
   {
    "duration": 97,
    "start_time": "2022-02-04T11:39:05.122Z"
   },
   {
    "duration": 59,
    "start_time": "2022-02-04T11:39:05.221Z"
   }
  ],
  "kernelspec": {
   "display_name": "Python 3",
   "language": "python",
   "name": "python3"
  },
  "language_info": {
   "codemirror_mode": {
    "name": "ipython",
    "version": 3
   },
   "file_extension": ".py",
   "mimetype": "text/x-python",
   "name": "python",
   "nbconvert_exporter": "python",
   "pygments_lexer": "ipython3",
   "version": "3.7.8"
  },
  "toc": {
   "base_numbering": 1,
   "nav_menu": {},
   "number_sections": true,
   "sideBar": true,
   "skip_h1_title": true,
   "title_cell": "Table of Contents",
   "title_sidebar": "Contents",
   "toc_cell": false,
   "toc_position": {},
   "toc_section_display": true,
   "toc_window_display": false
  }
 },
 "nbformat": 4,
 "nbformat_minor": 2
}
