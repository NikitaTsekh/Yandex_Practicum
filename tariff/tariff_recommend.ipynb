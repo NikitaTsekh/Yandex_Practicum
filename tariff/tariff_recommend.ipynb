{
 "cells": [
  {
   "cell_type": "markdown",
   "metadata": {
    "toc": true
   },
   "source": [
    "<h1>Содержание<span class=\"tocSkip\"></span></h1>\n",
    "<div class=\"toc\"><ul class=\"toc-item\"><li><span><a href=\"#Изучение-данных-из-файлов\" data-toc-modified-id=\"Изучение-данных-из-файлов-1\"><span class=\"toc-item-num\">1&nbsp;&nbsp;</span>Изучение данных из файлов</a></span></li><li><span><a href=\"#Предобработка-данных\" data-toc-modified-id=\"Предобработка-данных-2\"><span class=\"toc-item-num\">2&nbsp;&nbsp;</span>Предобработка данных</a></span><ul class=\"toc-item\"><li><span><a href=\"#Изменение-типов-данных\" data-toc-modified-id=\"Изменение-типов-данных-2.1\"><span class=\"toc-item-num\">2.1&nbsp;&nbsp;</span>Изменение типов данных</a></span></li><li><span><a href=\"#Обработка-дубликатов\" data-toc-modified-id=\"Обработка-дубликатов-2.2\"><span class=\"toc-item-num\">2.2&nbsp;&nbsp;</span>Обработка дубликатов</a></span></li><li><span><a href=\"#Обработка-пропусков\" data-toc-modified-id=\"Обработка-пропусков-2.3\"><span class=\"toc-item-num\">2.3&nbsp;&nbsp;</span>Обработка пропусков</a></span></li></ul></li><li><span><a href=\"#Расчёты-и-добавление-результатов-в-таблицу\" data-toc-modified-id=\"Расчёты-и-добавление-результатов-в-таблицу-3\"><span class=\"toc-item-num\">3&nbsp;&nbsp;</span>Расчёты и добавление результатов в таблицу</a></span></li><li><span><a href=\"#Анализ-данных\" data-toc-modified-id=\"Анализ-данных-4\"><span class=\"toc-item-num\">4&nbsp;&nbsp;</span>Анализ данных</a></span></li><li><span><a href=\"#Проверка-гипотез\" data-toc-modified-id=\"Проверка-гипотез-5\"><span class=\"toc-item-num\">5&nbsp;&nbsp;</span>Проверка гипотез</a></span></li><li><span><a href=\"#Общий-вывод\" data-toc-modified-id=\"Общий-вывод-6\"><span class=\"toc-item-num\">6&nbsp;&nbsp;</span>Общий вывод</a></span></li></ul></div>"
   ]
  },
  {
   "cell_type": "markdown",
   "metadata": {},
   "source": [
    "# Определение перспективного тарифа для телеком компании\n",
    "\n",
    "Вы аналитик компании «Мегалайн» — федерального оператора сотовой связи. Клиентам предлагают два тарифных плана: «Смарт» и «Ультра». Чтобы скорректировать рекламный бюджет, коммерческий департамент хочет понять, какой тариф приносит больше денег.\n",
    "Вам предстоит сделать предварительный анализ тарифов на небольшой выборке клиентов. В вашем распоряжении данные 500 пользователей «Мегалайна»: кто они, откуда, каким тарифом пользуются, сколько звонков и сообщений каждый отправил за 2018 год. Нужно проанализировать поведение клиентов и сделать вывод — какой тариф лучше.\n",
    "\n",
    "<b>Описание тарифов</b><br><br>\n",
    "<b>Тариф «Смарт»</b><br>\n",
    "<ol>\n",
    "<li>Ежемесячная плата: 550 рублей</li>\n",
    "<li>Включено 500 минут разговора, 50 сообщений и 15 Гб интернет-трафика</li>\n",
    "<li>Стоимость услуг сверх тарифного пакета:</li>\n",
    "</ol>\n",
    "<ul>\n",
    "<li>минута разговора: 3 рубля<br></li>\n",
    "<li>сообщение: 3 рубля<br></li>\n",
    "<li>1 Гб интернет-трафика: 200 рублей<br></li>\n",
    "</ul>\n",
    "<b>Тариф «Ультра»</b><br>\n",
    "<ol>\n",
    "<li>Ежемесячная плата: 1950 рублей</li>\n",
    "<li>Включено 3000 минут разговора, 1000 сообщений и 30 Гб интернет-трафика</li>\n",
    "<li>Стоимость услуг сверх тарифного пакета:</li>\n",
    "</ol>\n",
    "<ul>\n",
    "<li>минута разговора: 1 рубль</li>\n",
    "<li>сообщение: 1 рубль</li>\n",
    "<li>1 Гб интернет-трафика: 150 рублей</li>\n",
    "</ul>"
   ]
  },
  {
   "cell_type": "markdown",
   "metadata": {},
   "source": [
    "## Изучение данных из файлов"
   ]
  },
  {
   "cell_type": "code",
   "execution_count": 1,
   "metadata": {},
   "outputs": [],
   "source": [
    "import pandas as pd\n",
    "import matplotlib.pyplot as plt\n",
    "from collections import Counter\n",
    "import numpy as np\n",
    "from scipy import stats as st"
   ]
  },
  {
   "cell_type": "code",
   "execution_count": 2,
   "metadata": {
    "scrolled": true
   },
   "outputs": [
    {
     "data": {
      "text/html": [
       "<div>\n",
       "<style scoped>\n",
       "    .dataframe tbody tr th:only-of-type {\n",
       "        vertical-align: middle;\n",
       "    }\n",
       "\n",
       "    .dataframe tbody tr th {\n",
       "        vertical-align: top;\n",
       "    }\n",
       "\n",
       "    .dataframe thead th {\n",
       "        text-align: right;\n",
       "    }\n",
       "</style>\n",
       "<table border=\"1\" class=\"dataframe\">\n",
       "  <thead>\n",
       "    <tr style=\"text-align: right;\">\n",
       "      <th></th>\n",
       "      <th>id</th>\n",
       "      <th>call_date</th>\n",
       "      <th>duration</th>\n",
       "      <th>user_id</th>\n",
       "    </tr>\n",
       "  </thead>\n",
       "  <tbody>\n",
       "    <tr>\n",
       "      <th>0</th>\n",
       "      <td>1000_0</td>\n",
       "      <td>2018-07-25</td>\n",
       "      <td>0.00</td>\n",
       "      <td>1000</td>\n",
       "    </tr>\n",
       "    <tr>\n",
       "      <th>1</th>\n",
       "      <td>1000_1</td>\n",
       "      <td>2018-08-17</td>\n",
       "      <td>0.00</td>\n",
       "      <td>1000</td>\n",
       "    </tr>\n",
       "    <tr>\n",
       "      <th>2</th>\n",
       "      <td>1000_2</td>\n",
       "      <td>2018-06-11</td>\n",
       "      <td>2.85</td>\n",
       "      <td>1000</td>\n",
       "    </tr>\n",
       "    <tr>\n",
       "      <th>3</th>\n",
       "      <td>1000_3</td>\n",
       "      <td>2018-09-21</td>\n",
       "      <td>13.80</td>\n",
       "      <td>1000</td>\n",
       "    </tr>\n",
       "    <tr>\n",
       "      <th>4</th>\n",
       "      <td>1000_4</td>\n",
       "      <td>2018-12-15</td>\n",
       "      <td>5.18</td>\n",
       "      <td>1000</td>\n",
       "    </tr>\n",
       "    <tr>\n",
       "      <th>5</th>\n",
       "      <td>1000_5</td>\n",
       "      <td>2018-11-02</td>\n",
       "      <td>0.00</td>\n",
       "      <td>1000</td>\n",
       "    </tr>\n",
       "    <tr>\n",
       "      <th>6</th>\n",
       "      <td>1000_6</td>\n",
       "      <td>2018-10-18</td>\n",
       "      <td>0.00</td>\n",
       "      <td>1000</td>\n",
       "    </tr>\n",
       "    <tr>\n",
       "      <th>7</th>\n",
       "      <td>1000_7</td>\n",
       "      <td>2018-08-22</td>\n",
       "      <td>18.31</td>\n",
       "      <td>1000</td>\n",
       "    </tr>\n",
       "    <tr>\n",
       "      <th>8</th>\n",
       "      <td>1000_8</td>\n",
       "      <td>2018-09-15</td>\n",
       "      <td>18.44</td>\n",
       "      <td>1000</td>\n",
       "    </tr>\n",
       "    <tr>\n",
       "      <th>9</th>\n",
       "      <td>1000_9</td>\n",
       "      <td>2018-08-15</td>\n",
       "      <td>0.00</td>\n",
       "      <td>1000</td>\n",
       "    </tr>\n",
       "  </tbody>\n",
       "</table>\n",
       "</div>"
      ],
      "text/plain": [
       "       id   call_date  duration  user_id\n",
       "0  1000_0  2018-07-25      0.00     1000\n",
       "1  1000_1  2018-08-17      0.00     1000\n",
       "2  1000_2  2018-06-11      2.85     1000\n",
       "3  1000_3  2018-09-21     13.80     1000\n",
       "4  1000_4  2018-12-15      5.18     1000\n",
       "5  1000_5  2018-11-02      0.00     1000\n",
       "6  1000_6  2018-10-18      0.00     1000\n",
       "7  1000_7  2018-08-22     18.31     1000\n",
       "8  1000_8  2018-09-15     18.44     1000\n",
       "9  1000_9  2018-08-15      0.00     1000"
      ]
     },
     "metadata": {},
     "output_type": "display_data"
    },
    {
     "name": "stdout",
     "output_type": "stream",
     "text": [
      "<class 'pandas.core.frame.DataFrame'>\n",
      "RangeIndex: 202607 entries, 0 to 202606\n",
      "Data columns (total 4 columns):\n",
      " #   Column     Non-Null Count   Dtype  \n",
      "---  ------     --------------   -----  \n",
      " 0   id         202607 non-null  object \n",
      " 1   call_date  202607 non-null  object \n",
      " 2   duration   202607 non-null  float64\n",
      " 3   user_id    202607 non-null  int64  \n",
      "dtypes: float64(1), int64(1), object(2)\n",
      "memory usage: 6.2+ MB\n",
      "None\n"
     ]
    },
    {
     "data": {
      "text/html": [
       "<div>\n",
       "<style scoped>\n",
       "    .dataframe tbody tr th:only-of-type {\n",
       "        vertical-align: middle;\n",
       "    }\n",
       "\n",
       "    .dataframe tbody tr th {\n",
       "        vertical-align: top;\n",
       "    }\n",
       "\n",
       "    .dataframe thead th {\n",
       "        text-align: right;\n",
       "    }\n",
       "</style>\n",
       "<table border=\"1\" class=\"dataframe\">\n",
       "  <thead>\n",
       "    <tr style=\"text-align: right;\">\n",
       "      <th></th>\n",
       "      <th>duration</th>\n",
       "      <th>user_id</th>\n",
       "    </tr>\n",
       "  </thead>\n",
       "  <tbody>\n",
       "    <tr>\n",
       "      <th>count</th>\n",
       "      <td>202607.000000</td>\n",
       "      <td>202607.000000</td>\n",
       "    </tr>\n",
       "    <tr>\n",
       "      <th>mean</th>\n",
       "      <td>6.755887</td>\n",
       "      <td>1253.940619</td>\n",
       "    </tr>\n",
       "    <tr>\n",
       "      <th>std</th>\n",
       "      <td>5.843365</td>\n",
       "      <td>144.722751</td>\n",
       "    </tr>\n",
       "    <tr>\n",
       "      <th>min</th>\n",
       "      <td>0.000000</td>\n",
       "      <td>1000.000000</td>\n",
       "    </tr>\n",
       "    <tr>\n",
       "      <th>25%</th>\n",
       "      <td>1.300000</td>\n",
       "      <td>1126.000000</td>\n",
       "    </tr>\n",
       "    <tr>\n",
       "      <th>50%</th>\n",
       "      <td>6.000000</td>\n",
       "      <td>1260.000000</td>\n",
       "    </tr>\n",
       "    <tr>\n",
       "      <th>75%</th>\n",
       "      <td>10.700000</td>\n",
       "      <td>1379.000000</td>\n",
       "    </tr>\n",
       "    <tr>\n",
       "      <th>max</th>\n",
       "      <td>38.000000</td>\n",
       "      <td>1499.000000</td>\n",
       "    </tr>\n",
       "  </tbody>\n",
       "</table>\n",
       "</div>"
      ],
      "text/plain": [
       "            duration        user_id\n",
       "count  202607.000000  202607.000000\n",
       "mean        6.755887    1253.940619\n",
       "std         5.843365     144.722751\n",
       "min         0.000000    1000.000000\n",
       "25%         1.300000    1126.000000\n",
       "50%         6.000000    1260.000000\n",
       "75%        10.700000    1379.000000\n",
       "max        38.000000    1499.000000"
      ]
     },
     "metadata": {},
     "output_type": "display_data"
    }
   ],
   "source": [
    "data_calls= pd.read_csv('datasets/calls.csv')\n",
    "data_internet= pd.read_csv('datasets/internet.csv')\n",
    "data_messages= pd.read_csv('datasets/messages.csv')\n",
    "data_tariffs= pd.read_csv('datasets/tariffs.csv')\n",
    "data_users= pd.read_csv('datasets/users.csv')\n",
    "\n",
    "#изучаем таблицу\n",
    "display(data_calls.head(10))\n",
    "print(data_calls.info()) \n",
    "display(data_calls.describe()) "
   ]
  },
  {
   "cell_type": "code",
   "execution_count": 3,
   "metadata": {
    "scrolled": true
   },
   "outputs": [
    {
     "data": {
      "text/plain": [
       "<AxesSubplot:>"
      ]
     },
     "execution_count": 3,
     "metadata": {},
     "output_type": "execute_result"
    },
    {
     "data": {
      "image/png": "[encoded data removed]",
      "text/plain": [
       "<Figure size 1440x360 with 1 Axes>"
      ]
     },
     "metadata": {
      "needs_background": "light"
     },
     "output_type": "display_data"
    }
   ],
   "source": [
    "data_calls['duration'].hist(figsize=(20,5), color='green',bins=100)"
   ]
  },
  {
   "cell_type": "markdown",
   "metadata": {},
   "source": [
    "<i>Очень много нулевых значений в столбце с длительностью звонков. Это могут быть звонки, которые ответчик не принял. Вероятно эти данные лучше не учитывать в будущем, так как это скосит нам среднее значение и медиану. </i>"
   ]
  },
  {
   "cell_type": "markdown",
   "metadata": {},
   "source": [
    "<i>В таблице с информацией о звонках пропусков нет. Значения выглядят естественными.<br>Неверный тип данных для даты, исправим это на 2м шаге.</i>"
   ]
  },
  {
   "cell_type": "code",
   "execution_count": 4,
   "metadata": {
    "scrolled": true
   },
   "outputs": [
    {
     "data": {
      "text/html": [
       "<div>\n",
       "<style scoped>\n",
       "    .dataframe tbody tr th:only-of-type {\n",
       "        vertical-align: middle;\n",
       "    }\n",
       "\n",
       "    .dataframe tbody tr th {\n",
       "        vertical-align: top;\n",
       "    }\n",
       "\n",
       "    .dataframe thead th {\n",
       "        text-align: right;\n",
       "    }\n",
       "</style>\n",
       "<table border=\"1\" class=\"dataframe\">\n",
       "  <thead>\n",
       "    <tr style=\"text-align: right;\">\n",
       "      <th></th>\n",
       "      <th>Unnamed: 0</th>\n",
       "      <th>id</th>\n",
       "      <th>mb_used</th>\n",
       "      <th>session_date</th>\n",
       "      <th>user_id</th>\n",
       "    </tr>\n",
       "  </thead>\n",
       "  <tbody>\n",
       "    <tr>\n",
       "      <th>103336</th>\n",
       "      <td>103336</td>\n",
       "      <td>1347_81</td>\n",
       "      <td>584.81</td>\n",
       "      <td>2018-12-23</td>\n",
       "      <td>1347</td>\n",
       "    </tr>\n",
       "    <tr>\n",
       "      <th>25740</th>\n",
       "      <td>25740</td>\n",
       "      <td>1089_32</td>\n",
       "      <td>509.31</td>\n",
       "      <td>2018-04-24</td>\n",
       "      <td>1089</td>\n",
       "    </tr>\n",
       "    <tr>\n",
       "      <th>135787</th>\n",
       "      <td>135787</td>\n",
       "      <td>1455_154</td>\n",
       "      <td>449.02</td>\n",
       "      <td>2018-05-02</td>\n",
       "      <td>1455</td>\n",
       "    </tr>\n",
       "    <tr>\n",
       "      <th>96649</th>\n",
       "      <td>96649</td>\n",
       "      <td>1326_12</td>\n",
       "      <td>187.91</td>\n",
       "      <td>2018-07-30</td>\n",
       "      <td>1326</td>\n",
       "    </tr>\n",
       "    <tr>\n",
       "      <th>48527</th>\n",
       "      <td>48527</td>\n",
       "      <td>1168_295</td>\n",
       "      <td>952.48</td>\n",
       "      <td>2018-05-27</td>\n",
       "      <td>1168</td>\n",
       "    </tr>\n",
       "    <tr>\n",
       "      <th>11784</th>\n",
       "      <td>11784</td>\n",
       "      <td>1041_6</td>\n",
       "      <td>522.29</td>\n",
       "      <td>2018-12-05</td>\n",
       "      <td>1041</td>\n",
       "    </tr>\n",
       "    <tr>\n",
       "      <th>77945</th>\n",
       "      <td>77945</td>\n",
       "      <td>1263_16</td>\n",
       "      <td>181.49</td>\n",
       "      <td>2018-07-18</td>\n",
       "      <td>1263</td>\n",
       "    </tr>\n",
       "    <tr>\n",
       "      <th>35948</th>\n",
       "      <td>35948</td>\n",
       "      <td>1125_71</td>\n",
       "      <td>526.63</td>\n",
       "      <td>2018-09-10</td>\n",
       "      <td>1125</td>\n",
       "    </tr>\n",
       "    <tr>\n",
       "      <th>75789</th>\n",
       "      <td>75789</td>\n",
       "      <td>1254_333</td>\n",
       "      <td>1101.72</td>\n",
       "      <td>2018-06-05</td>\n",
       "      <td>1254</td>\n",
       "    </tr>\n",
       "    <tr>\n",
       "      <th>54826</th>\n",
       "      <td>54826</td>\n",
       "      <td>1184_105</td>\n",
       "      <td>0.00</td>\n",
       "      <td>2018-12-03</td>\n",
       "      <td>1184</td>\n",
       "    </tr>\n",
       "  </tbody>\n",
       "</table>\n",
       "</div>"
      ],
      "text/plain": [
       "        Unnamed: 0        id  mb_used session_date  user_id\n",
       "103336      103336   1347_81   584.81   2018-12-23     1347\n",
       "25740        25740   1089_32   509.31   2018-04-24     1089\n",
       "135787      135787  1455_154   449.02   2018-05-02     1455\n",
       "96649        96649   1326_12   187.91   2018-07-30     1326\n",
       "48527        48527  1168_295   952.48   2018-05-27     1168\n",
       "11784        11784    1041_6   522.29   2018-12-05     1041\n",
       "77945        77945   1263_16   181.49   2018-07-18     1263\n",
       "35948        35948   1125_71   526.63   2018-09-10     1125\n",
       "75789        75789  1254_333  1101.72   2018-06-05     1254\n",
       "54826        54826  1184_105     0.00   2018-12-03     1184"
      ]
     },
     "metadata": {},
     "output_type": "display_data"
    },
    {
     "name": "stdout",
     "output_type": "stream",
     "text": [
      "<class 'pandas.core.frame.DataFrame'>\n",
      "RangeIndex: 149396 entries, 0 to 149395\n",
      "Data columns (total 5 columns):\n",
      " #   Column        Non-Null Count   Dtype  \n",
      "---  ------        --------------   -----  \n",
      " 0   Unnamed: 0    149396 non-null  int64  \n",
      " 1   id            149396 non-null  object \n",
      " 2   mb_used       149396 non-null  float64\n",
      " 3   session_date  149396 non-null  object \n",
      " 4   user_id       149396 non-null  int64  \n",
      "dtypes: float64(1), int64(2), object(2)\n",
      "memory usage: 5.7+ MB\n",
      "None\n"
     ]
    },
    {
     "data": {
      "text/html": [
       "<div>\n",
       "<style scoped>\n",
       "    .dataframe tbody tr th:only-of-type {\n",
       "        vertical-align: middle;\n",
       "    }\n",
       "\n",
       "    .dataframe tbody tr th {\n",
       "        vertical-align: top;\n",
       "    }\n",
       "\n",
       "    .dataframe thead th {\n",
       "        text-align: right;\n",
       "    }\n",
       "</style>\n",
       "<table border=\"1\" class=\"dataframe\">\n",
       "  <thead>\n",
       "    <tr style=\"text-align: right;\">\n",
       "      <th></th>\n",
       "      <th>Unnamed: 0</th>\n",
       "      <th>mb_used</th>\n",
       "      <th>user_id</th>\n",
       "    </tr>\n",
       "  </thead>\n",
       "  <tbody>\n",
       "    <tr>\n",
       "      <th>count</th>\n",
       "      <td>149396.000000</td>\n",
       "      <td>149396.000000</td>\n",
       "      <td>149396.000000</td>\n",
       "    </tr>\n",
       "    <tr>\n",
       "      <th>mean</th>\n",
       "      <td>74697.500000</td>\n",
       "      <td>370.192426</td>\n",
       "      <td>1252.099842</td>\n",
       "    </tr>\n",
       "    <tr>\n",
       "      <th>std</th>\n",
       "      <td>43127.054745</td>\n",
       "      <td>278.300951</td>\n",
       "      <td>144.050823</td>\n",
       "    </tr>\n",
       "    <tr>\n",
       "      <th>min</th>\n",
       "      <td>0.000000</td>\n",
       "      <td>0.000000</td>\n",
       "      <td>1000.000000</td>\n",
       "    </tr>\n",
       "    <tr>\n",
       "      <th>25%</th>\n",
       "      <td>37348.750000</td>\n",
       "      <td>138.187500</td>\n",
       "      <td>1130.000000</td>\n",
       "    </tr>\n",
       "    <tr>\n",
       "      <th>50%</th>\n",
       "      <td>74697.500000</td>\n",
       "      <td>348.015000</td>\n",
       "      <td>1251.000000</td>\n",
       "    </tr>\n",
       "    <tr>\n",
       "      <th>75%</th>\n",
       "      <td>112046.250000</td>\n",
       "      <td>559.552500</td>\n",
       "      <td>1380.000000</td>\n",
       "    </tr>\n",
       "    <tr>\n",
       "      <th>max</th>\n",
       "      <td>149395.000000</td>\n",
       "      <td>1724.830000</td>\n",
       "      <td>1499.000000</td>\n",
       "    </tr>\n",
       "  </tbody>\n",
       "</table>\n",
       "</div>"
      ],
      "text/plain": [
       "          Unnamed: 0        mb_used        user_id\n",
       "count  149396.000000  149396.000000  149396.000000\n",
       "mean    74697.500000     370.192426    1252.099842\n",
       "std     43127.054745     278.300951     144.050823\n",
       "min         0.000000       0.000000    1000.000000\n",
       "25%     37348.750000     138.187500    1130.000000\n",
       "50%     74697.500000     348.015000    1251.000000\n",
       "75%    112046.250000     559.552500    1380.000000\n",
       "max    149395.000000    1724.830000    1499.000000"
      ]
     },
     "metadata": {},
     "output_type": "display_data"
    }
   ],
   "source": [
    "display(data_internet.sample(10))\n",
    "print(data_internet.info()) \n",
    "display(data_internet.describe())"
   ]
  },
  {
   "cell_type": "markdown",
   "metadata": {},
   "source": [
    "<i>Удалим лишнюю колонку\"Unnamed_0\", которая дублирует индекс</i>"
   ]
  },
  {
   "cell_type": "code",
   "execution_count": 5,
   "metadata": {},
   "outputs": [
    {
     "data": {
      "text/html": [
       "<div>\n",
       "<style scoped>\n",
       "    .dataframe tbody tr th:only-of-type {\n",
       "        vertical-align: middle;\n",
       "    }\n",
       "\n",
       "    .dataframe tbody tr th {\n",
       "        vertical-align: top;\n",
       "    }\n",
       "\n",
       "    .dataframe thead th {\n",
       "        text-align: right;\n",
       "    }\n",
       "</style>\n",
       "<table border=\"1\" class=\"dataframe\">\n",
       "  <thead>\n",
       "    <tr style=\"text-align: right;\">\n",
       "      <th></th>\n",
       "      <th>id</th>\n",
       "      <th>mb_used</th>\n",
       "      <th>session_date</th>\n",
       "      <th>user_id</th>\n",
       "    </tr>\n",
       "  </thead>\n",
       "  <tbody>\n",
       "    <tr>\n",
       "      <th>120847</th>\n",
       "      <td>1408_155</td>\n",
       "      <td>362.86</td>\n",
       "      <td>2018-08-08</td>\n",
       "      <td>1408</td>\n",
       "    </tr>\n",
       "    <tr>\n",
       "      <th>23628</th>\n",
       "      <td>1079_231</td>\n",
       "      <td>821.66</td>\n",
       "      <td>2018-08-06</td>\n",
       "      <td>1079</td>\n",
       "    </tr>\n",
       "    <tr>\n",
       "      <th>82920</th>\n",
       "      <td>1281_236</td>\n",
       "      <td>339.59</td>\n",
       "      <td>2018-12-17</td>\n",
       "      <td>1281</td>\n",
       "    </tr>\n",
       "    <tr>\n",
       "      <th>65467</th>\n",
       "      <td>1224_113</td>\n",
       "      <td>200.26</td>\n",
       "      <td>2018-12-19</td>\n",
       "      <td>1224</td>\n",
       "    </tr>\n",
       "    <tr>\n",
       "      <th>2891</th>\n",
       "      <td>1010_21</td>\n",
       "      <td>843.84</td>\n",
       "      <td>2018-12-10</td>\n",
       "      <td>1010</td>\n",
       "    </tr>\n",
       "    <tr>\n",
       "      <th>79398</th>\n",
       "      <td>1267_32</td>\n",
       "      <td>737.87</td>\n",
       "      <td>2018-11-14</td>\n",
       "      <td>1267</td>\n",
       "    </tr>\n",
       "    <tr>\n",
       "      <th>74778</th>\n",
       "      <td>1251_340</td>\n",
       "      <td>383.63</td>\n",
       "      <td>2018-11-26</td>\n",
       "      <td>1251</td>\n",
       "    </tr>\n",
       "    <tr>\n",
       "      <th>142778</th>\n",
       "      <td>1478_142</td>\n",
       "      <td>609.18</td>\n",
       "      <td>2018-09-05</td>\n",
       "      <td>1478</td>\n",
       "    </tr>\n",
       "    <tr>\n",
       "      <th>103046</th>\n",
       "      <td>1345_225</td>\n",
       "      <td>565.44</td>\n",
       "      <td>2018-07-15</td>\n",
       "      <td>1345</td>\n",
       "    </tr>\n",
       "    <tr>\n",
       "      <th>55211</th>\n",
       "      <td>1185_333</td>\n",
       "      <td>596.41</td>\n",
       "      <td>2018-04-29</td>\n",
       "      <td>1185</td>\n",
       "    </tr>\n",
       "  </tbody>\n",
       "</table>\n",
       "</div>"
      ],
      "text/plain": [
       "              id  mb_used session_date  user_id\n",
       "120847  1408_155   362.86   2018-08-08     1408\n",
       "23628   1079_231   821.66   2018-08-06     1079\n",
       "82920   1281_236   339.59   2018-12-17     1281\n",
       "65467   1224_113   200.26   2018-12-19     1224\n",
       "2891     1010_21   843.84   2018-12-10     1010\n",
       "79398    1267_32   737.87   2018-11-14     1267\n",
       "74778   1251_340   383.63   2018-11-26     1251\n",
       "142778  1478_142   609.18   2018-09-05     1478\n",
       "103046  1345_225   565.44   2018-07-15     1345\n",
       "55211   1185_333   596.41   2018-04-29     1185"
      ]
     },
     "metadata": {},
     "output_type": "display_data"
    }
   ],
   "source": [
    "data_internet.drop('Unnamed: 0', axis=1, inplace = True)\n",
    "#Проверим результат\n",
    "display(data_internet.sample(10))"
   ]
  },
  {
   "cell_type": "code",
   "execution_count": 6,
   "metadata": {
    "scrolled": true
   },
   "outputs": [
    {
     "data": {
      "text/plain": [
       "<AxesSubplot:>"
      ]
     },
     "execution_count": 6,
     "metadata": {},
     "output_type": "execute_result"
    },
    {
     "data": {
      "image/png": "[encoded data removed]",
      "text/plain": [
       "<Figure size 1440x360 with 1 Axes>"
      ]
     },
     "metadata": {
      "needs_background": "light"
     },
     "output_type": "display_data"
    }
   ],
   "source": [
    "#Построим гисторграмму распределения использования трафика в течение сессии\n",
    "data_internet['mb_used'].hist(figsize=(20,5), color='orange',bins=100,)"
   ]
  },
  {
   "cell_type": "markdown",
   "metadata": {},
   "source": [
    "<i>Очень много значений около нуля. Вероятно была попытка входа в интернет, но в итоге она не состоялась. Например, если пользователь был не в зоне покрытия, и не полуичл ответа от сервера.<br>В дальнейшем эти данные возможно надо отсеять, так как они скосят среднее и медиану.</i>\n"
   ]
  },
  {
   "cell_type": "markdown",
   "metadata": {},
   "source": [
    "<i>Тип данных в session_date неверный.<br>Сами значения выглядят естественными.<br>Пропусков нет.<br></i>"
   ]
  },
  {
   "cell_type": "markdown",
   "metadata": {},
   "source": [
    "<i><b>Посмотрим таблицу с сообщениями</b></i>"
   ]
  },
  {
   "cell_type": "code",
   "execution_count": 7,
   "metadata": {},
   "outputs": [
    {
     "data": {
      "text/html": [
       "<div>\n",
       "<style scoped>\n",
       "    .dataframe tbody tr th:only-of-type {\n",
       "        vertical-align: middle;\n",
       "    }\n",
       "\n",
       "    .dataframe tbody tr th {\n",
       "        vertical-align: top;\n",
       "    }\n",
       "\n",
       "    .dataframe thead th {\n",
       "        text-align: right;\n",
       "    }\n",
       "</style>\n",
       "<table border=\"1\" class=\"dataframe\">\n",
       "  <thead>\n",
       "    <tr style=\"text-align: right;\">\n",
       "      <th></th>\n",
       "      <th>id</th>\n",
       "      <th>message_date</th>\n",
       "      <th>user_id</th>\n",
       "    </tr>\n",
       "  </thead>\n",
       "  <tbody>\n",
       "    <tr>\n",
       "      <th>0</th>\n",
       "      <td>1000_0</td>\n",
       "      <td>2018-06-27</td>\n",
       "      <td>1000</td>\n",
       "    </tr>\n",
       "    <tr>\n",
       "      <th>1</th>\n",
       "      <td>1000_1</td>\n",
       "      <td>2018-10-08</td>\n",
       "      <td>1000</td>\n",
       "    </tr>\n",
       "    <tr>\n",
       "      <th>2</th>\n",
       "      <td>1000_2</td>\n",
       "      <td>2018-08-04</td>\n",
       "      <td>1000</td>\n",
       "    </tr>\n",
       "    <tr>\n",
       "      <th>3</th>\n",
       "      <td>1000_3</td>\n",
       "      <td>2018-06-16</td>\n",
       "      <td>1000</td>\n",
       "    </tr>\n",
       "    <tr>\n",
       "      <th>4</th>\n",
       "      <td>1000_4</td>\n",
       "      <td>2018-12-05</td>\n",
       "      <td>1000</td>\n",
       "    </tr>\n",
       "    <tr>\n",
       "      <th>5</th>\n",
       "      <td>1000_5</td>\n",
       "      <td>2018-06-20</td>\n",
       "      <td>1000</td>\n",
       "    </tr>\n",
       "    <tr>\n",
       "      <th>6</th>\n",
       "      <td>1000_6</td>\n",
       "      <td>2018-11-19</td>\n",
       "      <td>1000</td>\n",
       "    </tr>\n",
       "    <tr>\n",
       "      <th>7</th>\n",
       "      <td>1000_7</td>\n",
       "      <td>2018-10-29</td>\n",
       "      <td>1000</td>\n",
       "    </tr>\n",
       "    <tr>\n",
       "      <th>8</th>\n",
       "      <td>1000_8</td>\n",
       "      <td>2018-06-25</td>\n",
       "      <td>1000</td>\n",
       "    </tr>\n",
       "    <tr>\n",
       "      <th>9</th>\n",
       "      <td>1000_9</td>\n",
       "      <td>2018-12-18</td>\n",
       "      <td>1000</td>\n",
       "    </tr>\n",
       "  </tbody>\n",
       "</table>\n",
       "</div>"
      ],
      "text/plain": [
       "       id message_date  user_id\n",
       "0  1000_0   2018-06-27     1000\n",
       "1  1000_1   2018-10-08     1000\n",
       "2  1000_2   2018-08-04     1000\n",
       "3  1000_3   2018-06-16     1000\n",
       "4  1000_4   2018-12-05     1000\n",
       "5  1000_5   2018-06-20     1000\n",
       "6  1000_6   2018-11-19     1000\n",
       "7  1000_7   2018-10-29     1000\n",
       "8  1000_8   2018-06-25     1000\n",
       "9  1000_9   2018-12-18     1000"
      ]
     },
     "metadata": {},
     "output_type": "display_data"
    },
    {
     "name": "stdout",
     "output_type": "stream",
     "text": [
      "<class 'pandas.core.frame.DataFrame'>\n",
      "RangeIndex: 123036 entries, 0 to 123035\n",
      "Data columns (total 3 columns):\n",
      " #   Column        Non-Null Count   Dtype \n",
      "---  ------        --------------   ----- \n",
      " 0   id            123036 non-null  object\n",
      " 1   message_date  123036 non-null  object\n",
      " 2   user_id       123036 non-null  int64 \n",
      "dtypes: int64(1), object(2)\n",
      "memory usage: 2.8+ MB\n",
      "None\n"
     ]
    }
   ],
   "source": [
    "display(data_messages.head(10))\n",
    "print(data_messages.info()) "
   ]
  },
  {
   "cell_type": "markdown",
   "metadata": {},
   "source": [
    "<i>Замечаем неверный тип данных в колонке \"message_date\".Исправим это на 2м шаге.</i>|"
   ]
  },
  {
   "cell_type": "markdown",
   "metadata": {},
   "source": [
    "<i><b>Посмотрим таблицу с тарифами</b></i>"
   ]
  },
  {
   "cell_type": "code",
   "execution_count": 8,
   "metadata": {
    "scrolled": true
   },
   "outputs": [
    {
     "data": {
      "text/html": [
       "<div>\n",
       "<style scoped>\n",
       "    .dataframe tbody tr th:only-of-type {\n",
       "        vertical-align: middle;\n",
       "    }\n",
       "\n",
       "    .dataframe tbody tr th {\n",
       "        vertical-align: top;\n",
       "    }\n",
       "\n",
       "    .dataframe thead th {\n",
       "        text-align: right;\n",
       "    }\n",
       "</style>\n",
       "<table border=\"1\" class=\"dataframe\">\n",
       "  <thead>\n",
       "    <tr style=\"text-align: right;\">\n",
       "      <th></th>\n",
       "      <th>messages_included</th>\n",
       "      <th>mb_per_month_included</th>\n",
       "      <th>minutes_included</th>\n",
       "      <th>rub_monthly_fee</th>\n",
       "      <th>rub_per_gb</th>\n",
       "      <th>rub_per_message</th>\n",
       "      <th>rub_per_minute</th>\n",
       "      <th>tariff_name</th>\n",
       "    </tr>\n",
       "  </thead>\n",
       "  <tbody>\n",
       "    <tr>\n",
       "      <th>0</th>\n",
       "      <td>50</td>\n",
       "      <td>15360</td>\n",
       "      <td>500</td>\n",
       "      <td>550</td>\n",
       "      <td>200</td>\n",
       "      <td>3</td>\n",
       "      <td>3</td>\n",
       "      <td>smart</td>\n",
       "    </tr>\n",
       "    <tr>\n",
       "      <th>1</th>\n",
       "      <td>1000</td>\n",
       "      <td>30720</td>\n",
       "      <td>3000</td>\n",
       "      <td>1950</td>\n",
       "      <td>150</td>\n",
       "      <td>1</td>\n",
       "      <td>1</td>\n",
       "      <td>ultra</td>\n",
       "    </tr>\n",
       "  </tbody>\n",
       "</table>\n",
       "</div>"
      ],
      "text/plain": [
       "   messages_included  mb_per_month_included  minutes_included  \\\n",
       "0                 50                  15360               500   \n",
       "1               1000                  30720              3000   \n",
       "\n",
       "   rub_monthly_fee  rub_per_gb  rub_per_message  rub_per_minute tariff_name  \n",
       "0              550         200                3               3       smart  \n",
       "1             1950         150                1               1       ultra  "
      ]
     },
     "metadata": {},
     "output_type": "display_data"
    },
    {
     "name": "stdout",
     "output_type": "stream",
     "text": [
      "<class 'pandas.core.frame.DataFrame'>\n",
      "RangeIndex: 2 entries, 0 to 1\n",
      "Data columns (total 8 columns):\n",
      " #   Column                 Non-Null Count  Dtype \n",
      "---  ------                 --------------  ----- \n",
      " 0   messages_included      2 non-null      int64 \n",
      " 1   mb_per_month_included  2 non-null      int64 \n",
      " 2   minutes_included       2 non-null      int64 \n",
      " 3   rub_monthly_fee        2 non-null      int64 \n",
      " 4   rub_per_gb             2 non-null      int64 \n",
      " 5   rub_per_message        2 non-null      int64 \n",
      " 6   rub_per_minute         2 non-null      int64 \n",
      " 7   tariff_name            2 non-null      object\n",
      "dtypes: int64(7), object(1)\n",
      "memory usage: 256.0+ bytes\n",
      "None\n"
     ]
    }
   ],
   "source": [
    "display(data_tariffs.head(10))\n",
    "print(data_tariffs.info()) "
   ]
  },
  {
   "cell_type": "markdown",
   "metadata": {},
   "source": [
    "<i>С этой таблицей все в порядке </i>"
   ]
  },
  {
   "cell_type": "markdown",
   "metadata": {},
   "source": [
    "<i><b>Посмотрим таблицу с данными пользователей</b></i>"
   ]
  },
  {
   "cell_type": "code",
   "execution_count": 9,
   "metadata": {
    "scrolled": false
   },
   "outputs": [
    {
     "data": {
      "text/html": [
       "<div>\n",
       "<style scoped>\n",
       "    .dataframe tbody tr th:only-of-type {\n",
       "        vertical-align: middle;\n",
       "    }\n",
       "\n",
       "    .dataframe tbody tr th {\n",
       "        vertical-align: top;\n",
       "    }\n",
       "\n",
       "    .dataframe thead th {\n",
       "        text-align: right;\n",
       "    }\n",
       "</style>\n",
       "<table border=\"1\" class=\"dataframe\">\n",
       "  <thead>\n",
       "    <tr style=\"text-align: right;\">\n",
       "      <th></th>\n",
       "      <th>user_id</th>\n",
       "      <th>age</th>\n",
       "      <th>churn_date</th>\n",
       "      <th>city</th>\n",
       "      <th>first_name</th>\n",
       "      <th>last_name</th>\n",
       "      <th>reg_date</th>\n",
       "      <th>tariff</th>\n",
       "    </tr>\n",
       "  </thead>\n",
       "  <tbody>\n",
       "    <tr>\n",
       "      <th>0</th>\n",
       "      <td>1000</td>\n",
       "      <td>52</td>\n",
       "      <td>NaN</td>\n",
       "      <td>Краснодар</td>\n",
       "      <td>Рафаил</td>\n",
       "      <td>Верещагин</td>\n",
       "      <td>2018-05-25</td>\n",
       "      <td>ultra</td>\n",
       "    </tr>\n",
       "    <tr>\n",
       "      <th>1</th>\n",
       "      <td>1001</td>\n",
       "      <td>41</td>\n",
       "      <td>NaN</td>\n",
       "      <td>Москва</td>\n",
       "      <td>Иван</td>\n",
       "      <td>Ежов</td>\n",
       "      <td>2018-11-01</td>\n",
       "      <td>smart</td>\n",
       "    </tr>\n",
       "    <tr>\n",
       "      <th>2</th>\n",
       "      <td>1002</td>\n",
       "      <td>59</td>\n",
       "      <td>NaN</td>\n",
       "      <td>Стерлитамак</td>\n",
       "      <td>Евгений</td>\n",
       "      <td>Абрамович</td>\n",
       "      <td>2018-06-17</td>\n",
       "      <td>smart</td>\n",
       "    </tr>\n",
       "    <tr>\n",
       "      <th>3</th>\n",
       "      <td>1003</td>\n",
       "      <td>23</td>\n",
       "      <td>NaN</td>\n",
       "      <td>Москва</td>\n",
       "      <td>Белла</td>\n",
       "      <td>Белякова</td>\n",
       "      <td>2018-08-17</td>\n",
       "      <td>ultra</td>\n",
       "    </tr>\n",
       "    <tr>\n",
       "      <th>4</th>\n",
       "      <td>1004</td>\n",
       "      <td>68</td>\n",
       "      <td>NaN</td>\n",
       "      <td>Новокузнецк</td>\n",
       "      <td>Татьяна</td>\n",
       "      <td>Авдеенко</td>\n",
       "      <td>2018-05-14</td>\n",
       "      <td>ultra</td>\n",
       "    </tr>\n",
       "    <tr>\n",
       "      <th>5</th>\n",
       "      <td>1005</td>\n",
       "      <td>67</td>\n",
       "      <td>NaN</td>\n",
       "      <td>Набережные Челны</td>\n",
       "      <td>Афанасий</td>\n",
       "      <td>Горлов</td>\n",
       "      <td>2018-01-25</td>\n",
       "      <td>smart</td>\n",
       "    </tr>\n",
       "    <tr>\n",
       "      <th>6</th>\n",
       "      <td>1006</td>\n",
       "      <td>21</td>\n",
       "      <td>NaN</td>\n",
       "      <td>Ульяновск</td>\n",
       "      <td>Леонид</td>\n",
       "      <td>Ермолаев</td>\n",
       "      <td>2018-02-26</td>\n",
       "      <td>smart</td>\n",
       "    </tr>\n",
       "    <tr>\n",
       "      <th>7</th>\n",
       "      <td>1007</td>\n",
       "      <td>65</td>\n",
       "      <td>NaN</td>\n",
       "      <td>Москва</td>\n",
       "      <td>Юна</td>\n",
       "      <td>Березина</td>\n",
       "      <td>2018-04-19</td>\n",
       "      <td>smart</td>\n",
       "    </tr>\n",
       "    <tr>\n",
       "      <th>8</th>\n",
       "      <td>1008</td>\n",
       "      <td>63</td>\n",
       "      <td>NaN</td>\n",
       "      <td>Челябинск</td>\n",
       "      <td>Рустэм</td>\n",
       "      <td>Пономарёв</td>\n",
       "      <td>2018-12-19</td>\n",
       "      <td>smart</td>\n",
       "    </tr>\n",
       "    <tr>\n",
       "      <th>9</th>\n",
       "      <td>1009</td>\n",
       "      <td>24</td>\n",
       "      <td>NaN</td>\n",
       "      <td>Пермь</td>\n",
       "      <td>Василиса</td>\n",
       "      <td>Блинова</td>\n",
       "      <td>2018-03-22</td>\n",
       "      <td>smart</td>\n",
       "    </tr>\n",
       "  </tbody>\n",
       "</table>\n",
       "</div>"
      ],
      "text/plain": [
       "   user_id  age churn_date              city first_name  last_name  \\\n",
       "0     1000   52        NaN         Краснодар     Рафаил  Верещагин   \n",
       "1     1001   41        NaN            Москва       Иван       Ежов   \n",
       "2     1002   59        NaN       Стерлитамак    Евгений  Абрамович   \n",
       "3     1003   23        NaN            Москва      Белла   Белякова   \n",
       "4     1004   68        NaN       Новокузнецк    Татьяна   Авдеенко   \n",
       "5     1005   67        NaN  Набережные Челны   Афанасий     Горлов   \n",
       "6     1006   21        NaN         Ульяновск     Леонид   Ермолаев   \n",
       "7     1007   65        NaN            Москва        Юна   Березина   \n",
       "8     1008   63        NaN         Челябинск     Рустэм  Пономарёв   \n",
       "9     1009   24        NaN             Пермь   Василиса    Блинова   \n",
       "\n",
       "     reg_date tariff  \n",
       "0  2018-05-25  ultra  \n",
       "1  2018-11-01  smart  \n",
       "2  2018-06-17  smart  \n",
       "3  2018-08-17  ultra  \n",
       "4  2018-05-14  ultra  \n",
       "5  2018-01-25  smart  \n",
       "6  2018-02-26  smart  \n",
       "7  2018-04-19  smart  \n",
       "8  2018-12-19  smart  \n",
       "9  2018-03-22  smart  "
      ]
     },
     "metadata": {},
     "output_type": "display_data"
    },
    {
     "name": "stdout",
     "output_type": "stream",
     "text": [
      "<class 'pandas.core.frame.DataFrame'>\n",
      "RangeIndex: 500 entries, 0 to 499\n",
      "Data columns (total 8 columns):\n",
      " #   Column      Non-Null Count  Dtype \n",
      "---  ------      --------------  ----- \n",
      " 0   user_id     500 non-null    int64 \n",
      " 1   age         500 non-null    int64 \n",
      " 2   churn_date  38 non-null     object\n",
      " 3   city        500 non-null    object\n",
      " 4   first_name  500 non-null    object\n",
      " 5   last_name   500 non-null    object\n",
      " 6   reg_date    500 non-null    object\n",
      " 7   tariff      500 non-null    object\n",
      "dtypes: int64(2), object(6)\n",
      "memory usage: 31.4+ KB\n",
      "None\n",
      "Counter({'smart': 351, 'ultra': 149})\n"
     ]
    },
    {
     "data": {
      "text/html": [
       "<div>\n",
       "<style scoped>\n",
       "    .dataframe tbody tr th:only-of-type {\n",
       "        vertical-align: middle;\n",
       "    }\n",
       "\n",
       "    .dataframe tbody tr th {\n",
       "        vertical-align: top;\n",
       "    }\n",
       "\n",
       "    .dataframe thead th {\n",
       "        text-align: right;\n",
       "    }\n",
       "</style>\n",
       "<table border=\"1\" class=\"dataframe\">\n",
       "  <thead>\n",
       "    <tr style=\"text-align: right;\">\n",
       "      <th></th>\n",
       "      <th>user_id</th>\n",
       "      <th>age</th>\n",
       "    </tr>\n",
       "  </thead>\n",
       "  <tbody>\n",
       "    <tr>\n",
       "      <th>count</th>\n",
       "      <td>500.000000</td>\n",
       "      <td>500.00000</td>\n",
       "    </tr>\n",
       "    <tr>\n",
       "      <th>mean</th>\n",
       "      <td>1249.500000</td>\n",
       "      <td>46.58800</td>\n",
       "    </tr>\n",
       "    <tr>\n",
       "      <th>std</th>\n",
       "      <td>144.481833</td>\n",
       "      <td>16.66763</td>\n",
       "    </tr>\n",
       "    <tr>\n",
       "      <th>min</th>\n",
       "      <td>1000.000000</td>\n",
       "      <td>18.00000</td>\n",
       "    </tr>\n",
       "    <tr>\n",
       "      <th>25%</th>\n",
       "      <td>1124.750000</td>\n",
       "      <td>32.00000</td>\n",
       "    </tr>\n",
       "    <tr>\n",
       "      <th>50%</th>\n",
       "      <td>1249.500000</td>\n",
       "      <td>46.00000</td>\n",
       "    </tr>\n",
       "    <tr>\n",
       "      <th>75%</th>\n",
       "      <td>1374.250000</td>\n",
       "      <td>62.00000</td>\n",
       "    </tr>\n",
       "    <tr>\n",
       "      <th>max</th>\n",
       "      <td>1499.000000</td>\n",
       "      <td>75.00000</td>\n",
       "    </tr>\n",
       "  </tbody>\n",
       "</table>\n",
       "</div>"
      ],
      "text/plain": [
       "           user_id        age\n",
       "count   500.000000  500.00000\n",
       "mean   1249.500000   46.58800\n",
       "std     144.481833   16.66763\n",
       "min    1000.000000   18.00000\n",
       "25%    1124.750000   32.00000\n",
       "50%    1249.500000   46.00000\n",
       "75%    1374.250000   62.00000\n",
       "max    1499.000000   75.00000"
      ]
     },
     "metadata": {},
     "output_type": "display_data"
    }
   ],
   "source": [
    "display(data_users.head(10))\n",
    "print(data_users.info()) \n",
    "print(Counter(data_users.tariff))\n",
    "display(data_users.describe())"
   ]
  },
  {
   "cell_type": "markdown",
   "metadata": {},
   "source": [
    "<i>В дате прекращения много пропусков. Посмотрим, есть ли даты прекращения раньше чем даты регистрации</i>"
   ]
  },
  {
   "cell_type": "code",
   "execution_count": 10,
   "metadata": {},
   "outputs": [
    {
     "data": {
      "text/html": [
       "<div>\n",
       "<style scoped>\n",
       "    .dataframe tbody tr th:only-of-type {\n",
       "        vertical-align: middle;\n",
       "    }\n",
       "\n",
       "    .dataframe tbody tr th {\n",
       "        vertical-align: top;\n",
       "    }\n",
       "\n",
       "    .dataframe thead th {\n",
       "        text-align: right;\n",
       "    }\n",
       "</style>\n",
       "<table border=\"1\" class=\"dataframe\">\n",
       "  <thead>\n",
       "    <tr style=\"text-align: right;\">\n",
       "      <th></th>\n",
       "      <th>user_id</th>\n",
       "      <th>age</th>\n",
       "      <th>churn_date</th>\n",
       "      <th>city</th>\n",
       "      <th>first_name</th>\n",
       "      <th>last_name</th>\n",
       "      <th>reg_date</th>\n",
       "      <th>tariff</th>\n",
       "    </tr>\n",
       "  </thead>\n",
       "  <tbody>\n",
       "  </tbody>\n",
       "</table>\n",
       "</div>"
      ],
      "text/plain": [
       "Empty DataFrame\n",
       "Columns: [user_id, age, churn_date, city, first_name, last_name, reg_date, tariff]\n",
       "Index: []"
      ]
     },
     "execution_count": 10,
     "metadata": {},
     "output_type": "execute_result"
    }
   ],
   "source": [
    "data_users.loc[(data_users['churn_date'] < data_users['reg_date'])& (data_users['churn_date'].isnull()==False)]"
   ]
  },
  {
   "cell_type": "markdown",
   "metadata": {},
   "source": [
    "<i>Таких строк в датасете нет </i>"
   ]
  },
  {
   "cell_type": "code",
   "execution_count": 11,
   "metadata": {
    "scrolled": true
   },
   "outputs": [
    {
     "data": {
      "text/plain": [
       "<AxesSubplot:ylabel='city'>"
      ]
     },
     "execution_count": 11,
     "metadata": {},
     "output_type": "execute_result"
    },
    {
     "data": {
      "image/png": "[encoded data removed]",
      "text/plain": [
       "<Figure size 720x720 with 1 Axes>"
      ]
     },
     "metadata": {},
     "output_type": "display_data"
    }
   ],
   "source": [
    "#Посмотрим распределение по городам\n",
    "data_users['city'].value_counts().plot(kind='pie', figsize=(10, 10))"
   ]
  },
  {
   "cell_type": "markdown",
   "metadata": {},
   "source": [
    "<i>Распеределение по возрасту и городам выглядит естественным</i>"
   ]
  },
  {
   "cell_type": "markdown",
   "metadata": {},
   "source": [
    "<i><b>В целом данные выглядят адекватно. Найденные ошибки исправим в разделе \"Предобработка данных\", либо в дальнейшем когда будем строить графики.</b></i>"
   ]
  },
  {
   "cell_type": "markdown",
   "metadata": {},
   "source": [
    "## Предобработка данных"
   ]
  },
  {
   "cell_type": "markdown",
   "metadata": {},
   "source": [
    "### Изменение типов данных"
   ]
  },
  {
   "cell_type": "code",
   "execution_count": 12,
   "metadata": {},
   "outputs": [
    {
     "name": "stdout",
     "output_type": "stream",
     "text": [
      "id                   object\n",
      "call_date    datetime64[ns]\n",
      "duration            float64\n",
      "user_id               int64\n",
      "dtype: object\n",
      "id                      object\n",
      "mb_used                float64\n",
      "session_date    datetime64[ns]\n",
      "user_id                  int64\n",
      "dtype: object\n",
      "id                      object\n",
      "message_date    datetime64[ns]\n",
      "user_id                  int64\n",
      "dtype: object\n",
      "user_id                int64\n",
      "age                    int64\n",
      "churn_date            object\n",
      "city                  object\n",
      "first_name            object\n",
      "last_name             object\n",
      "reg_date      datetime64[ns]\n",
      "tariff                object\n",
      "dtype: object\n"
     ]
    }
   ],
   "source": [
    "#Преобразуем в datetime64 колонки data_calls,data_internet,data_messages, data_users\n",
    "data_calls['call_date'] = pd.to_datetime(data_calls['call_date'])\n",
    "data_internet['session_date'] = pd.to_datetime(data_internet['session_date'])\n",
    "data_messages['message_date'] = pd.to_datetime(data_messages['message_date'])\n",
    "data_users['reg_date'] = pd.to_datetime(data_users['reg_date'])\n",
    "\n",
    "print(data_calls.dtypes)\n",
    "print(data_internet.dtypes)\n",
    "print(data_messages.dtypes)\n",
    "print(data_users.dtypes)"
   ]
  },
  {
   "cell_type": "markdown",
   "metadata": {},
   "source": [
    "### Обработка дубликатов"
   ]
  },
  {
   "cell_type": "code",
   "execution_count": 13,
   "metadata": {
    "scrolled": true
   },
   "outputs": [
    {
     "name": "stdout",
     "output_type": "stream",
     "text": [
      "0\n",
      "0\n",
      "0\n",
      "0\n"
     ]
    }
   ],
   "source": [
    "#Проверим дубликаты\n",
    "print(data_calls.duplicated().sum())\n",
    "print(data_internet.duplicated().sum())\n",
    "print(data_messages.duplicated().sum())\n",
    "print(data_users.duplicated().sum())\n",
    "#print(df.duplicated().sum())"
   ]
  },
  {
   "cell_type": "markdown",
   "metadata": {},
   "source": [
    "<i>Дубликаты не обнаружены</i>"
   ]
  },
  {
   "cell_type": "markdown",
   "metadata": {},
   "source": [
    "### Обработка пропусков"
   ]
  },
  {
   "cell_type": "markdown",
   "metadata": {},
   "source": [
    "<i>Как таковых невалидных пропусков у нас нет, есть нулевые значения.</i>"
   ]
  },
  {
   "cell_type": "code",
   "execution_count": 14,
   "metadata": {},
   "outputs": [
    {
     "data": {
      "text/plain": [
       "0.19551644316336553"
      ]
     },
     "execution_count": 14,
     "metadata": {},
     "output_type": "execute_result"
    }
   ],
   "source": [
    "#Посмотрим на количество строк с нулевым значением длительности звонка в data_calls\n",
    "data_calls.loc[data_calls['duration']==0,'duration'].count()/data_calls['duration'].count()"
   ]
  },
  {
   "cell_type": "markdown",
   "metadata": {},
   "source": [
    "<i>Таких строк около 19,5%.<br>Посмотрим как они сдвигают среднее и медиану</i>"
   ]
  },
  {
   "cell_type": "code",
   "execution_count": 15,
   "metadata": {
    "scrolled": true
   },
   "outputs": [
    {
     "data": {
      "text/plain": [
       "count    202607.000000\n",
       "mean          6.755887\n",
       "std           5.843365\n",
       "min           0.000000\n",
       "25%           1.300000\n",
       "50%           6.000000\n",
       "75%          10.700000\n",
       "max          38.000000\n",
       "Name: duration, dtype: float64"
      ]
     },
     "metadata": {},
     "output_type": "display_data"
    },
    {
     "data": {
      "text/plain": [
       "count    162994.000000\n",
       "mean          8.397794\n",
       "std           5.353022\n",
       "min           0.010000\n",
       "25%           4.170000\n",
       "50%           7.740000\n",
       "75%          11.850000\n",
       "max          38.000000\n",
       "Name: duration, dtype: float64"
      ]
     },
     "metadata": {},
     "output_type": "display_data"
    }
   ],
   "source": [
    "display(data_calls['duration'].describe())\n",
    "display(data_calls.loc[data_calls['duration']!=0,'duration'].describe())"
   ]
  },
  {
   "cell_type": "markdown",
   "metadata": {},
   "source": [
    "<i>Звонки с нулевой длительностью  уменьшают среднее на 1,64 секунды, а медиану на 1,74 секунды.<br>Хотя в рамках нашего задания длительность звонков нас не интересует, в дальнейшем эти данные могут понадобиться. Заменим  0  в 'duration на'значение на np.nan </i>"
   ]
  },
  {
   "cell_type": "code",
   "execution_count": 16,
   "metadata": {},
   "outputs": [
    {
     "data": {
      "text/plain": [
       "count    162994.000000\n",
       "mean          8.397794\n",
       "std           5.353022\n",
       "min           0.010000\n",
       "25%           4.170000\n",
       "50%           7.740000\n",
       "75%          11.850000\n",
       "max          38.000000\n",
       "Name: duration, dtype: float64"
      ]
     },
     "metadata": {},
     "output_type": "display_data"
    }
   ],
   "source": [
    "data_calls.loc[data_calls['duration']==0,'duration']=np.nan\n",
    "display(data_calls['duration'].describe())"
   ]
  },
  {
   "cell_type": "markdown",
   "metadata": {},
   "source": [
    "<i>Теперь медиана и среднее у нас считаются так, как если бы нулевых звонков не было. И при этом данные строки остались, на случай если другим аналитикам понадобится само количество звонков </i>"
   ]
  },
  {
   "cell_type": "code",
   "execution_count": 17,
   "metadata": {},
   "outputs": [
    {
     "data": {
      "text/plain": [
       "0.13118155773916304"
      ]
     },
     "execution_count": 17,
     "metadata": {},
     "output_type": "execute_result"
    }
   ],
   "source": [
    "#Посмотрим на количество строк с нулевым значением длительности звонка в data_calls\n",
    "data_internet.loc[data_internet['mb_used']==0,'mb_used'].count()/data_internet['mb_used'].count()"
   ]
  },
  {
   "cell_type": "markdown",
   "metadata": {},
   "source": [
    "<i>Таких строк около 13,11%.\n",
    "Посмотрим как они сдвигают среднее и медиану</i>"
   ]
  },
  {
   "cell_type": "code",
   "execution_count": 18,
   "metadata": {},
   "outputs": [
    {
     "data": {
      "text/plain": [
       "count    149396.000000\n",
       "mean        370.192426\n",
       "std         278.300951\n",
       "min           0.000000\n",
       "25%         138.187500\n",
       "50%         348.015000\n",
       "75%         559.552500\n",
       "max        1724.830000\n",
       "Name: mb_used, dtype: float64"
      ]
     },
     "metadata": {},
     "output_type": "display_data"
    },
    {
     "data": {
      "text/plain": [
       "count    129798.000000\n",
       "mean        426.087210\n",
       "std         255.596447\n",
       "min           0.030000\n",
       "25%         227.460000\n",
       "50%         400.540000\n",
       "75%         592.947500\n",
       "max        1724.830000\n",
       "Name: mb_used, dtype: float64"
      ]
     },
     "metadata": {},
     "output_type": "display_data"
    }
   ],
   "source": [
    "display(data_internet['mb_used'].describe())\n",
    "display(data_internet.loc[data_internet['mb_used']!=0,'mb_used'].describe())"
   ]
  },
  {
   "cell_type": "markdown",
   "metadata": {},
   "source": [
    "<i>Сессии с нулевым трафиком уменьшают среднее на 55,89 МегаБайт, а медиану на 52,53 МегаБайта.<br>Хотя в рамках нашего задания длительность сессий нас не интересует, в дальнейшем эти данные могут понадобиться. Заменим  0  в 'mb_used' на значение на np.nan </i>"
   ]
  },
  {
   "cell_type": "code",
   "execution_count": 19,
   "metadata": {},
   "outputs": [
    {
     "data": {
      "text/plain": [
       "count    129798.000000\n",
       "mean        426.087210\n",
       "std         255.596447\n",
       "min           0.030000\n",
       "25%         227.460000\n",
       "50%         400.540000\n",
       "75%         592.947500\n",
       "max        1724.830000\n",
       "Name: mb_used, dtype: float64"
      ]
     },
     "metadata": {},
     "output_type": "display_data"
    }
   ],
   "source": [
    "data_internet.loc[data_internet['mb_used']==0,'mb_used']=np.nan\n",
    "display(data_internet['mb_used'].describe())"
   ]
  },
  {
   "cell_type": "markdown",
   "metadata": {},
   "source": [
    "<i>Теперь медиана и среднее по сессиям интернета у нас считаются так, как если бы нулевых звонков не было. И при этом данные строки остались, на случай если другим аналитикам понадобится само количество сессий </i>"
   ]
  },
  {
   "cell_type": "markdown",
   "metadata": {},
   "source": [
    "## Расчёты и добавление результатов в таблицу"
   ]
  },
  {
   "cell_type": "code",
   "execution_count": 20,
   "metadata": {},
   "outputs": [
    {
     "data": {
      "text/html": [
       "<div>\n",
       "<style scoped>\n",
       "    .dataframe tbody tr th:only-of-type {\n",
       "        vertical-align: middle;\n",
       "    }\n",
       "\n",
       "    .dataframe tbody tr th {\n",
       "        vertical-align: top;\n",
       "    }\n",
       "\n",
       "    .dataframe thead th {\n",
       "        text-align: right;\n",
       "    }\n",
       "</style>\n",
       "<table border=\"1\" class=\"dataframe\">\n",
       "  <thead>\n",
       "    <tr style=\"text-align: right;\">\n",
       "      <th></th>\n",
       "      <th>id</th>\n",
       "      <th>call_date</th>\n",
       "      <th>duration</th>\n",
       "      <th>user_id</th>\n",
       "      <th>month</th>\n",
       "    </tr>\n",
       "  </thead>\n",
       "  <tbody>\n",
       "    <tr>\n",
       "      <th>0</th>\n",
       "      <td>1000_0</td>\n",
       "      <td>2018-07-25</td>\n",
       "      <td>NaN</td>\n",
       "      <td>1000</td>\n",
       "      <td>7</td>\n",
       "    </tr>\n",
       "    <tr>\n",
       "      <th>1</th>\n",
       "      <td>1000_1</td>\n",
       "      <td>2018-08-17</td>\n",
       "      <td>NaN</td>\n",
       "      <td>1000</td>\n",
       "      <td>8</td>\n",
       "    </tr>\n",
       "    <tr>\n",
       "      <th>2</th>\n",
       "      <td>1000_2</td>\n",
       "      <td>2018-06-11</td>\n",
       "      <td>2.85</td>\n",
       "      <td>1000</td>\n",
       "      <td>6</td>\n",
       "    </tr>\n",
       "    <tr>\n",
       "      <th>3</th>\n",
       "      <td>1000_3</td>\n",
       "      <td>2018-09-21</td>\n",
       "      <td>13.80</td>\n",
       "      <td>1000</td>\n",
       "      <td>9</td>\n",
       "    </tr>\n",
       "    <tr>\n",
       "      <th>4</th>\n",
       "      <td>1000_4</td>\n",
       "      <td>2018-12-15</td>\n",
       "      <td>5.18</td>\n",
       "      <td>1000</td>\n",
       "      <td>12</td>\n",
       "    </tr>\n",
       "    <tr>\n",
       "      <th>5</th>\n",
       "      <td>1000_5</td>\n",
       "      <td>2018-11-02</td>\n",
       "      <td>NaN</td>\n",
       "      <td>1000</td>\n",
       "      <td>11</td>\n",
       "    </tr>\n",
       "    <tr>\n",
       "      <th>6</th>\n",
       "      <td>1000_6</td>\n",
       "      <td>2018-10-18</td>\n",
       "      <td>NaN</td>\n",
       "      <td>1000</td>\n",
       "      <td>10</td>\n",
       "    </tr>\n",
       "    <tr>\n",
       "      <th>7</th>\n",
       "      <td>1000_7</td>\n",
       "      <td>2018-08-22</td>\n",
       "      <td>18.31</td>\n",
       "      <td>1000</td>\n",
       "      <td>8</td>\n",
       "    </tr>\n",
       "    <tr>\n",
       "      <th>8</th>\n",
       "      <td>1000_8</td>\n",
       "      <td>2018-09-15</td>\n",
       "      <td>18.44</td>\n",
       "      <td>1000</td>\n",
       "      <td>9</td>\n",
       "    </tr>\n",
       "    <tr>\n",
       "      <th>9</th>\n",
       "      <td>1000_9</td>\n",
       "      <td>2018-08-15</td>\n",
       "      <td>NaN</td>\n",
       "      <td>1000</td>\n",
       "      <td>8</td>\n",
       "    </tr>\n",
       "  </tbody>\n",
       "</table>\n",
       "</div>"
      ],
      "text/plain": [
       "       id  call_date  duration  user_id  month\n",
       "0  1000_0 2018-07-25       NaN     1000      7\n",
       "1  1000_1 2018-08-17       NaN     1000      8\n",
       "2  1000_2 2018-06-11      2.85     1000      6\n",
       "3  1000_3 2018-09-21     13.80     1000      9\n",
       "4  1000_4 2018-12-15      5.18     1000     12\n",
       "5  1000_5 2018-11-02       NaN     1000     11\n",
       "6  1000_6 2018-10-18       NaN     1000     10\n",
       "7  1000_7 2018-08-22     18.31     1000      8\n",
       "8  1000_8 2018-09-15     18.44     1000      9\n",
       "9  1000_9 2018-08-15       NaN     1000      8"
      ]
     },
     "metadata": {},
     "output_type": "display_data"
    }
   ],
   "source": [
    "#добавим количество сделанных звонков и израсходованных минут по месяцам.\n",
    "#Для этого выделим месяц в таблице сначала с минутами, потом с трафиком\n",
    "data_calls['month']=data_calls['call_date'].dt.month\n",
    "display(data_calls.head(10))"
   ]
  },
  {
   "cell_type": "code",
   "execution_count": 21,
   "metadata": {},
   "outputs": [
    {
     "data": {
      "text/html": [
       "<div>\n",
       "<style scoped>\n",
       "    .dataframe tbody tr th:only-of-type {\n",
       "        vertical-align: middle;\n",
       "    }\n",
       "\n",
       "    .dataframe tbody tr th {\n",
       "        vertical-align: top;\n",
       "    }\n",
       "\n",
       "    .dataframe thead th {\n",
       "        text-align: right;\n",
       "    }\n",
       "</style>\n",
       "<table border=\"1\" class=\"dataframe\">\n",
       "  <thead>\n",
       "    <tr style=\"text-align: right;\">\n",
       "      <th></th>\n",
       "      <th>id</th>\n",
       "      <th>call_date</th>\n",
       "      <th>duration</th>\n",
       "      <th>user_id</th>\n",
       "      <th>month</th>\n",
       "      <th>duration_rounded</th>\n",
       "    </tr>\n",
       "  </thead>\n",
       "  <tbody>\n",
       "    <tr>\n",
       "      <th>0</th>\n",
       "      <td>1000_0</td>\n",
       "      <td>2018-07-25</td>\n",
       "      <td>NaN</td>\n",
       "      <td>1000</td>\n",
       "      <td>7</td>\n",
       "      <td>NaN</td>\n",
       "    </tr>\n",
       "    <tr>\n",
       "      <th>1</th>\n",
       "      <td>1000_1</td>\n",
       "      <td>2018-08-17</td>\n",
       "      <td>NaN</td>\n",
       "      <td>1000</td>\n",
       "      <td>8</td>\n",
       "      <td>NaN</td>\n",
       "    </tr>\n",
       "    <tr>\n",
       "      <th>2</th>\n",
       "      <td>1000_2</td>\n",
       "      <td>2018-06-11</td>\n",
       "      <td>2.85</td>\n",
       "      <td>1000</td>\n",
       "      <td>6</td>\n",
       "      <td>3.0</td>\n",
       "    </tr>\n",
       "    <tr>\n",
       "      <th>3</th>\n",
       "      <td>1000_3</td>\n",
       "      <td>2018-09-21</td>\n",
       "      <td>13.80</td>\n",
       "      <td>1000</td>\n",
       "      <td>9</td>\n",
       "      <td>14.0</td>\n",
       "    </tr>\n",
       "    <tr>\n",
       "      <th>4</th>\n",
       "      <td>1000_4</td>\n",
       "      <td>2018-12-15</td>\n",
       "      <td>5.18</td>\n",
       "      <td>1000</td>\n",
       "      <td>12</td>\n",
       "      <td>6.0</td>\n",
       "    </tr>\n",
       "    <tr>\n",
       "      <th>5</th>\n",
       "      <td>1000_5</td>\n",
       "      <td>2018-11-02</td>\n",
       "      <td>NaN</td>\n",
       "      <td>1000</td>\n",
       "      <td>11</td>\n",
       "      <td>NaN</td>\n",
       "    </tr>\n",
       "    <tr>\n",
       "      <th>6</th>\n",
       "      <td>1000_6</td>\n",
       "      <td>2018-10-18</td>\n",
       "      <td>NaN</td>\n",
       "      <td>1000</td>\n",
       "      <td>10</td>\n",
       "      <td>NaN</td>\n",
       "    </tr>\n",
       "    <tr>\n",
       "      <th>7</th>\n",
       "      <td>1000_7</td>\n",
       "      <td>2018-08-22</td>\n",
       "      <td>18.31</td>\n",
       "      <td>1000</td>\n",
       "      <td>8</td>\n",
       "      <td>19.0</td>\n",
       "    </tr>\n",
       "    <tr>\n",
       "      <th>8</th>\n",
       "      <td>1000_8</td>\n",
       "      <td>2018-09-15</td>\n",
       "      <td>18.44</td>\n",
       "      <td>1000</td>\n",
       "      <td>9</td>\n",
       "      <td>19.0</td>\n",
       "    </tr>\n",
       "    <tr>\n",
       "      <th>9</th>\n",
       "      <td>1000_9</td>\n",
       "      <td>2018-08-15</td>\n",
       "      <td>NaN</td>\n",
       "      <td>1000</td>\n",
       "      <td>8</td>\n",
       "      <td>NaN</td>\n",
       "    </tr>\n",
       "  </tbody>\n",
       "</table>\n",
       "</div>"
      ],
      "text/plain": [
       "       id  call_date  duration  user_id  month  duration_rounded\n",
       "0  1000_0 2018-07-25       NaN     1000      7               NaN\n",
       "1  1000_1 2018-08-17       NaN     1000      8               NaN\n",
       "2  1000_2 2018-06-11      2.85     1000      6               3.0\n",
       "3  1000_3 2018-09-21     13.80     1000      9              14.0\n",
       "4  1000_4 2018-12-15      5.18     1000     12               6.0\n",
       "5  1000_5 2018-11-02       NaN     1000     11               NaN\n",
       "6  1000_6 2018-10-18       NaN     1000     10               NaN\n",
       "7  1000_7 2018-08-22     18.31     1000      8              19.0\n",
       "8  1000_8 2018-09-15     18.44     1000      9              19.0\n",
       "9  1000_9 2018-08-15       NaN     1000      8               NaN"
      ]
     },
     "execution_count": 21,
     "metadata": {},
     "output_type": "execute_result"
    }
   ],
   "source": [
    "#добавим колонку с округленным числом минут\n",
    "data_calls['duration_rounded']=np.ceil(data_calls['duration'])\n",
    "data_calls.head(10)"
   ]
  },
  {
   "cell_type": "code",
   "execution_count": 22,
   "metadata": {},
   "outputs": [
    {
     "data": {
      "text/html": [
       "<div>\n",
       "<style scoped>\n",
       "    .dataframe tbody tr th:only-of-type {\n",
       "        vertical-align: middle;\n",
       "    }\n",
       "\n",
       "    .dataframe tbody tr th {\n",
       "        vertical-align: top;\n",
       "    }\n",
       "\n",
       "    .dataframe thead th {\n",
       "        text-align: right;\n",
       "    }\n",
       "</style>\n",
       "<table border=\"1\" class=\"dataframe\">\n",
       "  <thead>\n",
       "    <tr style=\"text-align: right;\">\n",
       "      <th></th>\n",
       "      <th>id</th>\n",
       "      <th>message_date</th>\n",
       "      <th>user_id</th>\n",
       "      <th>month</th>\n",
       "    </tr>\n",
       "  </thead>\n",
       "  <tbody>\n",
       "    <tr>\n",
       "      <th>0</th>\n",
       "      <td>1000_0</td>\n",
       "      <td>2018-06-27</td>\n",
       "      <td>1000</td>\n",
       "      <td>6</td>\n",
       "    </tr>\n",
       "    <tr>\n",
       "      <th>1</th>\n",
       "      <td>1000_1</td>\n",
       "      <td>2018-10-08</td>\n",
       "      <td>1000</td>\n",
       "      <td>10</td>\n",
       "    </tr>\n",
       "    <tr>\n",
       "      <th>2</th>\n",
       "      <td>1000_2</td>\n",
       "      <td>2018-08-04</td>\n",
       "      <td>1000</td>\n",
       "      <td>8</td>\n",
       "    </tr>\n",
       "    <tr>\n",
       "      <th>3</th>\n",
       "      <td>1000_3</td>\n",
       "      <td>2018-06-16</td>\n",
       "      <td>1000</td>\n",
       "      <td>6</td>\n",
       "    </tr>\n",
       "    <tr>\n",
       "      <th>4</th>\n",
       "      <td>1000_4</td>\n",
       "      <td>2018-12-05</td>\n",
       "      <td>1000</td>\n",
       "      <td>12</td>\n",
       "    </tr>\n",
       "    <tr>\n",
       "      <th>5</th>\n",
       "      <td>1000_5</td>\n",
       "      <td>2018-06-20</td>\n",
       "      <td>1000</td>\n",
       "      <td>6</td>\n",
       "    </tr>\n",
       "    <tr>\n",
       "      <th>6</th>\n",
       "      <td>1000_6</td>\n",
       "      <td>2018-11-19</td>\n",
       "      <td>1000</td>\n",
       "      <td>11</td>\n",
       "    </tr>\n",
       "    <tr>\n",
       "      <th>7</th>\n",
       "      <td>1000_7</td>\n",
       "      <td>2018-10-29</td>\n",
       "      <td>1000</td>\n",
       "      <td>10</td>\n",
       "    </tr>\n",
       "    <tr>\n",
       "      <th>8</th>\n",
       "      <td>1000_8</td>\n",
       "      <td>2018-06-25</td>\n",
       "      <td>1000</td>\n",
       "      <td>6</td>\n",
       "    </tr>\n",
       "    <tr>\n",
       "      <th>9</th>\n",
       "      <td>1000_9</td>\n",
       "      <td>2018-12-18</td>\n",
       "      <td>1000</td>\n",
       "      <td>12</td>\n",
       "    </tr>\n",
       "  </tbody>\n",
       "</table>\n",
       "</div>"
      ],
      "text/plain": [
       "       id message_date  user_id  month\n",
       "0  1000_0   2018-06-27     1000      6\n",
       "1  1000_1   2018-10-08     1000     10\n",
       "2  1000_2   2018-08-04     1000      8\n",
       "3  1000_3   2018-06-16     1000      6\n",
       "4  1000_4   2018-12-05     1000     12\n",
       "5  1000_5   2018-06-20     1000      6\n",
       "6  1000_6   2018-11-19     1000     11\n",
       "7  1000_7   2018-10-29     1000     10\n",
       "8  1000_8   2018-06-25     1000      6\n",
       "9  1000_9   2018-12-18     1000     12"
      ]
     },
     "metadata": {},
     "output_type": "display_data"
    }
   ],
   "source": [
    "#Добавим месяц отправки сообщения в исходную таблицу\n",
    "data_messages['month']=data_messages['message_date'].dt.month\n",
    "display(data_messages.head(10))"
   ]
  },
  {
   "cell_type": "code",
   "execution_count": 23,
   "metadata": {},
   "outputs": [
    {
     "data": {
      "text/html": [
       "<div>\n",
       "<style scoped>\n",
       "    .dataframe tbody tr th:only-of-type {\n",
       "        vertical-align: middle;\n",
       "    }\n",
       "\n",
       "    .dataframe tbody tr th {\n",
       "        vertical-align: top;\n",
       "    }\n",
       "\n",
       "    .dataframe thead th {\n",
       "        text-align: right;\n",
       "    }\n",
       "</style>\n",
       "<table border=\"1\" class=\"dataframe\">\n",
       "  <thead>\n",
       "    <tr style=\"text-align: right;\">\n",
       "      <th></th>\n",
       "      <th>id</th>\n",
       "      <th>mb_used</th>\n",
       "      <th>session_date</th>\n",
       "      <th>user_id</th>\n",
       "      <th>month</th>\n",
       "    </tr>\n",
       "  </thead>\n",
       "  <tbody>\n",
       "    <tr>\n",
       "      <th>0</th>\n",
       "      <td>1000_0</td>\n",
       "      <td>112.95</td>\n",
       "      <td>2018-11-25</td>\n",
       "      <td>1000</td>\n",
       "      <td>11</td>\n",
       "    </tr>\n",
       "    <tr>\n",
       "      <th>1</th>\n",
       "      <td>1000_1</td>\n",
       "      <td>1052.81</td>\n",
       "      <td>2018-09-07</td>\n",
       "      <td>1000</td>\n",
       "      <td>9</td>\n",
       "    </tr>\n",
       "    <tr>\n",
       "      <th>2</th>\n",
       "      <td>1000_2</td>\n",
       "      <td>1197.26</td>\n",
       "      <td>2018-06-25</td>\n",
       "      <td>1000</td>\n",
       "      <td>6</td>\n",
       "    </tr>\n",
       "    <tr>\n",
       "      <th>3</th>\n",
       "      <td>1000_3</td>\n",
       "      <td>550.27</td>\n",
       "      <td>2018-08-22</td>\n",
       "      <td>1000</td>\n",
       "      <td>8</td>\n",
       "    </tr>\n",
       "    <tr>\n",
       "      <th>4</th>\n",
       "      <td>1000_4</td>\n",
       "      <td>302.56</td>\n",
       "      <td>2018-09-24</td>\n",
       "      <td>1000</td>\n",
       "      <td>9</td>\n",
       "    </tr>\n",
       "    <tr>\n",
       "      <th>5</th>\n",
       "      <td>1000_5</td>\n",
       "      <td>399.97</td>\n",
       "      <td>2018-10-02</td>\n",
       "      <td>1000</td>\n",
       "      <td>10</td>\n",
       "    </tr>\n",
       "    <tr>\n",
       "      <th>6</th>\n",
       "      <td>1000_6</td>\n",
       "      <td>540.08</td>\n",
       "      <td>2018-09-07</td>\n",
       "      <td>1000</td>\n",
       "      <td>9</td>\n",
       "    </tr>\n",
       "    <tr>\n",
       "      <th>7</th>\n",
       "      <td>1000_7</td>\n",
       "      <td>415.70</td>\n",
       "      <td>2018-07-11</td>\n",
       "      <td>1000</td>\n",
       "      <td>7</td>\n",
       "    </tr>\n",
       "    <tr>\n",
       "      <th>8</th>\n",
       "      <td>1000_8</td>\n",
       "      <td>505.40</td>\n",
       "      <td>2018-10-08</td>\n",
       "      <td>1000</td>\n",
       "      <td>10</td>\n",
       "    </tr>\n",
       "    <tr>\n",
       "      <th>9</th>\n",
       "      <td>1000_9</td>\n",
       "      <td>345.54</td>\n",
       "      <td>2018-09-03</td>\n",
       "      <td>1000</td>\n",
       "      <td>9</td>\n",
       "    </tr>\n",
       "  </tbody>\n",
       "</table>\n",
       "</div>"
      ],
      "text/plain": [
       "       id  mb_used session_date  user_id  month\n",
       "0  1000_0   112.95   2018-11-25     1000     11\n",
       "1  1000_1  1052.81   2018-09-07     1000      9\n",
       "2  1000_2  1197.26   2018-06-25     1000      6\n",
       "3  1000_3   550.27   2018-08-22     1000      8\n",
       "4  1000_4   302.56   2018-09-24     1000      9\n",
       "5  1000_5   399.97   2018-10-02     1000     10\n",
       "6  1000_6   540.08   2018-09-07     1000      9\n",
       "7  1000_7   415.70   2018-07-11     1000      7\n",
       "8  1000_8   505.40   2018-10-08     1000     10\n",
       "9  1000_9   345.54   2018-09-03     1000      9"
      ]
     },
     "metadata": {},
     "output_type": "display_data"
    }
   ],
   "source": [
    "#Добавим месяц интернет сессии в таблицу\n",
    "data_internet['month']=data_internet['session_date'].dt.month\n",
    "display(data_internet.head(10))"
   ]
  },
  {
   "cell_type": "markdown",
   "metadata": {},
   "source": [
    "<i><b>Построим вспомогательные таблицы и склеим их</b></i>\n"
   ]
  },
  {
   "cell_type": "code",
   "execution_count": 24,
   "metadata": {},
   "outputs": [
    {
     "data": {
      "text/html": [
       "<div>\n",
       "<style scoped>\n",
       "    .dataframe tbody tr th:only-of-type {\n",
       "        vertical-align: middle;\n",
       "    }\n",
       "\n",
       "    .dataframe tbody tr th {\n",
       "        vertical-align: top;\n",
       "    }\n",
       "\n",
       "    .dataframe thead th {\n",
       "        text-align: right;\n",
       "    }\n",
       "</style>\n",
       "<table border=\"1\" class=\"dataframe\">\n",
       "  <thead>\n",
       "    <tr style=\"text-align: right;\">\n",
       "      <th></th>\n",
       "      <th></th>\n",
       "      <th>calls_count</th>\n",
       "      <th>duration_sum</th>\n",
       "    </tr>\n",
       "    <tr>\n",
       "      <th>user_id</th>\n",
       "      <th>month</th>\n",
       "      <th></th>\n",
       "      <th></th>\n",
       "    </tr>\n",
       "  </thead>\n",
       "  <tbody>\n",
       "    <tr>\n",
       "      <th>1420</th>\n",
       "      <th>11</th>\n",
       "      <td>27</td>\n",
       "      <td>199.0</td>\n",
       "    </tr>\n",
       "    <tr>\n",
       "      <th>1379</th>\n",
       "      <th>8</th>\n",
       "      <td>70</td>\n",
       "      <td>537.0</td>\n",
       "    </tr>\n",
       "    <tr>\n",
       "      <th>1175</th>\n",
       "      <th>9</th>\n",
       "      <td>33</td>\n",
       "      <td>291.0</td>\n",
       "    </tr>\n",
       "    <tr>\n",
       "      <th>1031</th>\n",
       "      <th>12</th>\n",
       "      <td>60</td>\n",
       "      <td>562.0</td>\n",
       "    </tr>\n",
       "    <tr>\n",
       "      <th>1477</th>\n",
       "      <th>11</th>\n",
       "      <td>71</td>\n",
       "      <td>531.0</td>\n",
       "    </tr>\n",
       "    <tr>\n",
       "      <th>1373</th>\n",
       "      <th>8</th>\n",
       "      <td>1</td>\n",
       "      <td>7.0</td>\n",
       "    </tr>\n",
       "    <tr>\n",
       "      <th>1165</th>\n",
       "      <th>12</th>\n",
       "      <td>33</td>\n",
       "      <td>278.0</td>\n",
       "    </tr>\n",
       "    <tr>\n",
       "      <th>1273</th>\n",
       "      <th>6</th>\n",
       "      <td>28</td>\n",
       "      <td>230.0</td>\n",
       "    </tr>\n",
       "    <tr>\n",
       "      <th>1332</th>\n",
       "      <th>5</th>\n",
       "      <td>3</td>\n",
       "      <td>36.0</td>\n",
       "    </tr>\n",
       "    <tr>\n",
       "      <th>1427</th>\n",
       "      <th>12</th>\n",
       "      <td>67</td>\n",
       "      <td>608.0</td>\n",
       "    </tr>\n",
       "  </tbody>\n",
       "</table>\n",
       "</div>"
      ],
      "text/plain": [
       "               calls_count  duration_sum\n",
       "user_id month                           \n",
       "1420    11              27         199.0\n",
       "1379    8               70         537.0\n",
       "1175    9               33         291.0\n",
       "1031    12              60         562.0\n",
       "1477    11              71         531.0\n",
       "1373    8                1           7.0\n",
       "1165    12              33         278.0\n",
       "1273    6               28         230.0\n",
       "1332    5                3          36.0\n",
       "1427    12              67         608.0"
      ]
     },
     "execution_count": 24,
     "metadata": {},
     "output_type": "execute_result"
    }
   ],
   "source": [
    "#Сгруппируем data_calls по user_id и месяцу, и возьмем интересующие нас длительность и количество звонков.\n",
    "calls_count=data_calls.pivot_table(index=['user_id','month'], values='duration_rounded',aggfunc=['count', 'sum'])\n",
    "calls_count.columns = ['calls_count','duration_sum']\n",
    "calls_count.sample(10)"
   ]
  },
  {
   "cell_type": "code",
   "execution_count": 25,
   "metadata": {},
   "outputs": [
    {
     "data": {
      "text/html": [
       "<div>\n",
       "<style scoped>\n",
       "    .dataframe tbody tr th:only-of-type {\n",
       "        vertical-align: middle;\n",
       "    }\n",
       "\n",
       "    .dataframe tbody tr th {\n",
       "        vertical-align: top;\n",
       "    }\n",
       "\n",
       "    .dataframe thead th {\n",
       "        text-align: right;\n",
       "    }\n",
       "</style>\n",
       "<table border=\"1\" class=\"dataframe\">\n",
       "  <thead>\n",
       "    <tr style=\"text-align: right;\">\n",
       "      <th></th>\n",
       "      <th></th>\n",
       "      <th>message_count</th>\n",
       "    </tr>\n",
       "    <tr>\n",
       "      <th>user_id</th>\n",
       "      <th>month</th>\n",
       "      <th></th>\n",
       "    </tr>\n",
       "  </thead>\n",
       "  <tbody>\n",
       "    <tr>\n",
       "      <th>1299</th>\n",
       "      <th>11</th>\n",
       "      <td>63</td>\n",
       "    </tr>\n",
       "    <tr>\n",
       "      <th>1425</th>\n",
       "      <th>10</th>\n",
       "      <td>77</td>\n",
       "    </tr>\n",
       "    <tr>\n",
       "      <th>1216</th>\n",
       "      <th>11</th>\n",
       "      <td>18</td>\n",
       "    </tr>\n",
       "    <tr>\n",
       "      <th>1373</th>\n",
       "      <th>2</th>\n",
       "      <td>38</td>\n",
       "    </tr>\n",
       "    <tr>\n",
       "      <th>1181</th>\n",
       "      <th>12</th>\n",
       "      <td>82</td>\n",
       "    </tr>\n",
       "    <tr>\n",
       "      <th>1045</th>\n",
       "      <th>5</th>\n",
       "      <td>55</td>\n",
       "    </tr>\n",
       "    <tr>\n",
       "      <th>1478</th>\n",
       "      <th>12</th>\n",
       "      <td>83</td>\n",
       "    </tr>\n",
       "    <tr>\n",
       "      <th>1282</th>\n",
       "      <th>12</th>\n",
       "      <td>71</td>\n",
       "    </tr>\n",
       "    <tr>\n",
       "      <th>1076</th>\n",
       "      <th>11</th>\n",
       "      <td>93</td>\n",
       "    </tr>\n",
       "    <tr>\n",
       "      <th>1289</th>\n",
       "      <th>12</th>\n",
       "      <td>99</td>\n",
       "    </tr>\n",
       "  </tbody>\n",
       "</table>\n",
       "</div>"
      ],
      "text/plain": [
       "               message_count\n",
       "user_id month               \n",
       "1299    11                63\n",
       "1425    10                77\n",
       "1216    11                18\n",
       "1373    2                 38\n",
       "1181    12                82\n",
       "1045    5                 55\n",
       "1478    12                83\n",
       "1282    12                71\n",
       "1076    11                93\n",
       "1289    12                99"
      ]
     },
     "execution_count": 25,
     "metadata": {},
     "output_type": "execute_result"
    }
   ],
   "source": [
    "#Сгруппируем data_messages по user_id и месяцу, и возьмем интересующие нас \n",
    "#количество сообщений\n",
    "messages_count = data_messages.pivot_table(index = ['user_id','month'], values = 'message_date', aggfunc='count')\n",
    "messages_count.columns = ['message_count']\n",
    "messages_count.sample(10)"
   ]
  },
  {
   "cell_type": "code",
   "execution_count": 26,
   "metadata": {},
   "outputs": [
    {
     "data": {
      "text/html": [
       "<div>\n",
       "<style scoped>\n",
       "    .dataframe tbody tr th:only-of-type {\n",
       "        vertical-align: middle;\n",
       "    }\n",
       "\n",
       "    .dataframe tbody tr th {\n",
       "        vertical-align: top;\n",
       "    }\n",
       "\n",
       "    .dataframe thead th {\n",
       "        text-align: right;\n",
       "    }\n",
       "</style>\n",
       "<table border=\"1\" class=\"dataframe\">\n",
       "  <thead>\n",
       "    <tr style=\"text-align: right;\">\n",
       "      <th></th>\n",
       "      <th></th>\n",
       "      <th>mb_used_sum</th>\n",
       "    </tr>\n",
       "    <tr>\n",
       "      <th>user_id</th>\n",
       "      <th>month</th>\n",
       "      <th></th>\n",
       "    </tr>\n",
       "  </thead>\n",
       "  <tbody>\n",
       "    <tr>\n",
       "      <th>1005</th>\n",
       "      <th>6</th>\n",
       "      <td>9863.19</td>\n",
       "    </tr>\n",
       "    <tr>\n",
       "      <th>1478</th>\n",
       "      <th>7</th>\n",
       "      <td>10908.79</td>\n",
       "    </tr>\n",
       "    <tr>\n",
       "      <th>1106</th>\n",
       "      <th>6</th>\n",
       "      <td>20016.74</td>\n",
       "    </tr>\n",
       "    <tr>\n",
       "      <th>1079</th>\n",
       "      <th>12</th>\n",
       "      <td>11141.03</td>\n",
       "    </tr>\n",
       "    <tr>\n",
       "      <th>1173</th>\n",
       "      <th>12</th>\n",
       "      <td>21834.73</td>\n",
       "    </tr>\n",
       "    <tr>\n",
       "      <th>1094</th>\n",
       "      <th>8</th>\n",
       "      <td>21323.07</td>\n",
       "    </tr>\n",
       "    <tr>\n",
       "      <th>1489</th>\n",
       "      <th>8</th>\n",
       "      <td>11050.56</td>\n",
       "    </tr>\n",
       "    <tr>\n",
       "      <th>1332</th>\n",
       "      <th>9</th>\n",
       "      <td>17383.13</td>\n",
       "    </tr>\n",
       "    <tr>\n",
       "      <th>1144</th>\n",
       "      <th>5</th>\n",
       "      <td>20397.60</td>\n",
       "    </tr>\n",
       "    <tr>\n",
       "      <th>1286</th>\n",
       "      <th>12</th>\n",
       "      <td>35108.07</td>\n",
       "    </tr>\n",
       "  </tbody>\n",
       "</table>\n",
       "</div>"
      ],
      "text/plain": [
       "               mb_used_sum\n",
       "user_id month             \n",
       "1005    6          9863.19\n",
       "1478    7         10908.79\n",
       "1106    6         20016.74\n",
       "1079    12        11141.03\n",
       "1173    12        21834.73\n",
       "1094    8         21323.07\n",
       "1489    8         11050.56\n",
       "1332    9         17383.13\n",
       "1144    5         20397.60\n",
       "1286    12        35108.07"
      ]
     },
     "metadata": {},
     "output_type": "display_data"
    },
    {
     "data": {
      "text/html": [
       "<div>\n",
       "<style scoped>\n",
       "    .dataframe tbody tr th:only-of-type {\n",
       "        vertical-align: middle;\n",
       "    }\n",
       "\n",
       "    .dataframe tbody tr th {\n",
       "        vertical-align: top;\n",
       "    }\n",
       "\n",
       "    .dataframe thead th {\n",
       "        text-align: right;\n",
       "    }\n",
       "</style>\n",
       "<table border=\"1\" class=\"dataframe\">\n",
       "  <thead>\n",
       "    <tr style=\"text-align: right;\">\n",
       "      <th></th>\n",
       "      <th>mb_used_sum</th>\n",
       "    </tr>\n",
       "  </thead>\n",
       "  <tbody>\n",
       "    <tr>\n",
       "      <th>count</th>\n",
       "      <td>3203.000000</td>\n",
       "    </tr>\n",
       "    <tr>\n",
       "      <th>mean</th>\n",
       "      <td>17266.708626</td>\n",
       "    </tr>\n",
       "    <tr>\n",
       "      <th>std</th>\n",
       "      <td>7516.356902</td>\n",
       "    </tr>\n",
       "    <tr>\n",
       "      <th>min</th>\n",
       "      <td>0.000000</td>\n",
       "    </tr>\n",
       "    <tr>\n",
       "      <th>25%</th>\n",
       "      <td>12526.905000</td>\n",
       "    </tr>\n",
       "    <tr>\n",
       "      <th>50%</th>\n",
       "      <td>16963.110000</td>\n",
       "    </tr>\n",
       "    <tr>\n",
       "      <th>75%</th>\n",
       "      <td>21432.175000</td>\n",
       "    </tr>\n",
       "    <tr>\n",
       "      <th>max</th>\n",
       "      <td>49745.690000</td>\n",
       "    </tr>\n",
       "  </tbody>\n",
       "</table>\n",
       "</div>"
      ],
      "text/plain": [
       "        mb_used_sum\n",
       "count   3203.000000\n",
       "mean   17266.708626\n",
       "std     7516.356902\n",
       "min        0.000000\n",
       "25%    12526.905000\n",
       "50%    16963.110000\n",
       "75%    21432.175000\n",
       "max    49745.690000"
      ]
     },
     "execution_count": 26,
     "metadata": {},
     "output_type": "execute_result"
    }
   ],
   "source": [
    "#Сгруппируем data_internet по user_id и месяцу, и возьмем интересующее нас \n",
    "#число мегабайт за месяц.\n",
    "internet_count=data_internet.pivot_table(index = ['user_id','month'], values = 'mb_used', aggfunc='sum')\n",
    "internet_count.columns = ['mb_used_sum']\n",
    "display(internet_count.sample(10))\n",
    "internet_count.describe()"
   ]
  },
  {
   "cell_type": "markdown",
   "metadata": {},
   "source": [
    "<i>Преобразуем итог в гигабайты, согласно заданию - округление до следующего гигабайта вверх</i>"
   ]
  },
  {
   "cell_type": "code",
   "execution_count": 27,
   "metadata": {},
   "outputs": [
    {
     "data": {
      "text/html": [
       "<div>\n",
       "<style scoped>\n",
       "    .dataframe tbody tr th:only-of-type {\n",
       "        vertical-align: middle;\n",
       "    }\n",
       "\n",
       "    .dataframe tbody tr th {\n",
       "        vertical-align: top;\n",
       "    }\n",
       "\n",
       "    .dataframe thead th {\n",
       "        text-align: right;\n",
       "    }\n",
       "</style>\n",
       "<table border=\"1\" class=\"dataframe\">\n",
       "  <thead>\n",
       "    <tr style=\"text-align: right;\">\n",
       "      <th></th>\n",
       "      <th></th>\n",
       "      <th>gb_used_sum</th>\n",
       "    </tr>\n",
       "    <tr>\n",
       "      <th>user_id</th>\n",
       "      <th>month</th>\n",
       "      <th></th>\n",
       "    </tr>\n",
       "  </thead>\n",
       "  <tbody>\n",
       "    <tr>\n",
       "      <th rowspan=\"5\" valign=\"top\">1000</th>\n",
       "      <th>5</th>\n",
       "      <td>3.0</td>\n",
       "    </tr>\n",
       "    <tr>\n",
       "      <th>6</th>\n",
       "      <td>23.0</td>\n",
       "    </tr>\n",
       "    <tr>\n",
       "      <th>7</th>\n",
       "      <td>14.0</td>\n",
       "    </tr>\n",
       "    <tr>\n",
       "      <th>8</th>\n",
       "      <td>14.0</td>\n",
       "    </tr>\n",
       "    <tr>\n",
       "      <th>9</th>\n",
       "      <td>15.0</td>\n",
       "    </tr>\n",
       "    <tr>\n",
       "      <th>...</th>\n",
       "      <th>...</th>\n",
       "      <td>...</td>\n",
       "    </tr>\n",
       "    <tr>\n",
       "      <th>1498</th>\n",
       "      <th>10</th>\n",
       "      <td>21.0</td>\n",
       "    </tr>\n",
       "    <tr>\n",
       "      <th rowspan=\"4\" valign=\"top\">1499</th>\n",
       "      <th>9</th>\n",
       "      <td>2.0</td>\n",
       "    </tr>\n",
       "    <tr>\n",
       "      <th>10</th>\n",
       "      <td>18.0</td>\n",
       "    </tr>\n",
       "    <tr>\n",
       "      <th>11</th>\n",
       "      <td>18.0</td>\n",
       "    </tr>\n",
       "    <tr>\n",
       "      <th>12</th>\n",
       "      <td>13.0</td>\n",
       "    </tr>\n",
       "  </tbody>\n",
       "</table>\n",
       "<p>3203 rows × 1 columns</p>\n",
       "</div>"
      ],
      "text/plain": [
       "               gb_used_sum\n",
       "user_id month             \n",
       "1000    5              3.0\n",
       "        6             23.0\n",
       "        7             14.0\n",
       "        8             14.0\n",
       "        9             15.0\n",
       "...                    ...\n",
       "1498    10            21.0\n",
       "1499    9              2.0\n",
       "        10            18.0\n",
       "        11            18.0\n",
       "        12            13.0\n",
       "\n",
       "[3203 rows x 1 columns]"
      ]
     },
     "metadata": {},
     "output_type": "display_data"
    },
    {
     "data": {
      "text/html": [
       "<div>\n",
       "<style scoped>\n",
       "    .dataframe tbody tr th:only-of-type {\n",
       "        vertical-align: middle;\n",
       "    }\n",
       "\n",
       "    .dataframe tbody tr th {\n",
       "        vertical-align: top;\n",
       "    }\n",
       "\n",
       "    .dataframe thead th {\n",
       "        text-align: right;\n",
       "    }\n",
       "</style>\n",
       "<table border=\"1\" class=\"dataframe\">\n",
       "  <thead>\n",
       "    <tr style=\"text-align: right;\">\n",
       "      <th></th>\n",
       "      <th>gb_used_sum</th>\n",
       "    </tr>\n",
       "  </thead>\n",
       "  <tbody>\n",
       "    <tr>\n",
       "      <th>count</th>\n",
       "      <td>3203.000000</td>\n",
       "    </tr>\n",
       "    <tr>\n",
       "      <th>mean</th>\n",
       "      <td>17.358414</td>\n",
       "    </tr>\n",
       "    <tr>\n",
       "      <th>std</th>\n",
       "      <td>7.343379</td>\n",
       "    </tr>\n",
       "    <tr>\n",
       "      <th>min</th>\n",
       "      <td>0.000000</td>\n",
       "    </tr>\n",
       "    <tr>\n",
       "      <th>25%</th>\n",
       "      <td>13.000000</td>\n",
       "    </tr>\n",
       "    <tr>\n",
       "      <th>50%</th>\n",
       "      <td>17.000000</td>\n",
       "    </tr>\n",
       "    <tr>\n",
       "      <th>75%</th>\n",
       "      <td>21.000000</td>\n",
       "    </tr>\n",
       "    <tr>\n",
       "      <th>max</th>\n",
       "      <td>49.000000</td>\n",
       "    </tr>\n",
       "  </tbody>\n",
       "</table>\n",
       "</div>"
      ],
      "text/plain": [
       "       gb_used_sum\n",
       "count  3203.000000\n",
       "mean     17.358414\n",
       "std       7.343379\n",
       "min       0.000000\n",
       "25%      13.000000\n",
       "50%      17.000000\n",
       "75%      21.000000\n",
       "max      49.000000"
      ]
     },
     "execution_count": 27,
     "metadata": {},
     "output_type": "execute_result"
    }
   ],
   "source": [
    "internet_count['mb_used_sum'] = internet_count['mb_used_sum'].apply(lambda i : np.ceil(i/1024))\n",
    "internet_count.columns = ['gb_used_sum']\n",
    "display(internet_count)\n",
    "internet_count.describe()"
   ]
  },
  {
   "cell_type": "markdown",
   "metadata": {},
   "source": []
  },
  {
   "cell_type": "markdown",
   "metadata": {},
   "source": [
    "<i>Склеим таблицу с сообщениями и звонками</i>"
   ]
  },
  {
   "cell_type": "code",
   "execution_count": 28,
   "metadata": {},
   "outputs": [
    {
     "data": {
      "text/html": [
       "<div>\n",
       "<style scoped>\n",
       "    .dataframe tbody tr th:only-of-type {\n",
       "        vertical-align: middle;\n",
       "    }\n",
       "\n",
       "    .dataframe tbody tr th {\n",
       "        vertical-align: top;\n",
       "    }\n",
       "\n",
       "    .dataframe thead th {\n",
       "        text-align: right;\n",
       "    }\n",
       "</style>\n",
       "<table border=\"1\" class=\"dataframe\">\n",
       "  <thead>\n",
       "    <tr style=\"text-align: right;\">\n",
       "      <th></th>\n",
       "      <th></th>\n",
       "      <th>calls_count</th>\n",
       "      <th>duration_sum</th>\n",
       "      <th>message_count</th>\n",
       "    </tr>\n",
       "    <tr>\n",
       "      <th>user_id</th>\n",
       "      <th>month</th>\n",
       "      <th></th>\n",
       "      <th></th>\n",
       "      <th></th>\n",
       "    </tr>\n",
       "  </thead>\n",
       "  <tbody>\n",
       "    <tr>\n",
       "      <th>1287</th>\n",
       "      <th>11</th>\n",
       "      <td>52</td>\n",
       "      <td>475.0</td>\n",
       "      <td>6</td>\n",
       "    </tr>\n",
       "    <tr>\n",
       "      <th>1314</th>\n",
       "      <th>12</th>\n",
       "      <td>53</td>\n",
       "      <td>483.0</td>\n",
       "      <td>20</td>\n",
       "    </tr>\n",
       "    <tr>\n",
       "      <th>1496</th>\n",
       "      <th>12</th>\n",
       "      <td>65</td>\n",
       "      <td>518.0</td>\n",
       "      <td>51</td>\n",
       "    </tr>\n",
       "    <tr>\n",
       "      <th>1369</th>\n",
       "      <th>11</th>\n",
       "      <td>20</td>\n",
       "      <td>188.0</td>\n",
       "      <td>118</td>\n",
       "    </tr>\n",
       "    <tr>\n",
       "      <th>1009</th>\n",
       "      <th>8</th>\n",
       "      <td>27</td>\n",
       "      <td>249.0</td>\n",
       "      <td>9</td>\n",
       "    </tr>\n",
       "    <tr>\n",
       "      <th>1416</th>\n",
       "      <th>9</th>\n",
       "      <td>94</td>\n",
       "      <td>808.0</td>\n",
       "      <td>97</td>\n",
       "    </tr>\n",
       "    <tr>\n",
       "      <th>1417</th>\n",
       "      <th>10</th>\n",
       "      <td>41</td>\n",
       "      <td>333.0</td>\n",
       "      <td>78</td>\n",
       "    </tr>\n",
       "    <tr>\n",
       "      <th>1057</th>\n",
       "      <th>8</th>\n",
       "      <td>73</td>\n",
       "      <td>726.0</td>\n",
       "      <td>19</td>\n",
       "    </tr>\n",
       "    <tr>\n",
       "      <th>1168</th>\n",
       "      <th>11</th>\n",
       "      <td>108</td>\n",
       "      <td>1053.0</td>\n",
       "      <td>42</td>\n",
       "    </tr>\n",
       "    <tr>\n",
       "      <th>1310</th>\n",
       "      <th>5</th>\n",
       "      <td>60</td>\n",
       "      <td>529.0</td>\n",
       "      <td>42</td>\n",
       "    </tr>\n",
       "  </tbody>\n",
       "</table>\n",
       "</div>"
      ],
      "text/plain": [
       "               calls_count  duration_sum  message_count\n",
       "user_id month                                          \n",
       "1287    11              52         475.0              6\n",
       "1314    12              53         483.0             20\n",
       "1496    12              65         518.0             51\n",
       "1369    11              20         188.0            118\n",
       "1009    8               27         249.0              9\n",
       "1416    9               94         808.0             97\n",
       "1417    10              41         333.0             78\n",
       "1057    8               73         726.0             19\n",
       "1168    11             108        1053.0             42\n",
       "1310    5               60         529.0             42"
      ]
     },
     "metadata": {},
     "output_type": "display_data"
    }
   ],
   "source": [
    "data=calls_count.merge(messages_count, on =['user_id','month'])\n",
    "display(data.sample(10))"
   ]
  },
  {
   "cell_type": "markdown",
   "metadata": {},
   "source": [
    "<i>Склеим полученную таблицу с данными по трафику </i>"
   ]
  },
  {
   "cell_type": "code",
   "execution_count": 29,
   "metadata": {},
   "outputs": [
    {
     "data": {
      "text/html": [
       "<div>\n",
       "<style scoped>\n",
       "    .dataframe tbody tr th:only-of-type {\n",
       "        vertical-align: middle;\n",
       "    }\n",
       "\n",
       "    .dataframe tbody tr th {\n",
       "        vertical-align: top;\n",
       "    }\n",
       "\n",
       "    .dataframe thead th {\n",
       "        text-align: right;\n",
       "    }\n",
       "</style>\n",
       "<table border=\"1\" class=\"dataframe\">\n",
       "  <thead>\n",
       "    <tr style=\"text-align: right;\">\n",
       "      <th></th>\n",
       "      <th>user_id</th>\n",
       "      <th>month</th>\n",
       "      <th>message_count</th>\n",
       "      <th>gb_used_sum</th>\n",
       "      <th>calls_count</th>\n",
       "      <th>duration_sum</th>\n",
       "    </tr>\n",
       "  </thead>\n",
       "  <tbody>\n",
       "    <tr>\n",
       "      <th>1169</th>\n",
       "      <td>1182</td>\n",
       "      <td>10</td>\n",
       "      <td>30.0</td>\n",
       "      <td>27.0</td>\n",
       "      <td>22.0</td>\n",
       "      <td>215.0</td>\n",
       "    </tr>\n",
       "    <tr>\n",
       "      <th>1644</th>\n",
       "      <td>1260</td>\n",
       "      <td>12</td>\n",
       "      <td>NaN</td>\n",
       "      <td>13.0</td>\n",
       "      <td>93.0</td>\n",
       "      <td>872.0</td>\n",
       "    </tr>\n",
       "    <tr>\n",
       "      <th>1558</th>\n",
       "      <td>1246</td>\n",
       "      <td>9</td>\n",
       "      <td>4.0</td>\n",
       "      <td>3.0</td>\n",
       "      <td>8.0</td>\n",
       "      <td>70.0</td>\n",
       "    </tr>\n",
       "    <tr>\n",
       "      <th>2730</th>\n",
       "      <td>1425</td>\n",
       "      <td>6</td>\n",
       "      <td>86.0</td>\n",
       "      <td>13.0</td>\n",
       "      <td>75.0</td>\n",
       "      <td>667.0</td>\n",
       "    </tr>\n",
       "    <tr>\n",
       "      <th>2310</th>\n",
       "      <td>1366</td>\n",
       "      <td>7</td>\n",
       "      <td>41.0</td>\n",
       "      <td>12.0</td>\n",
       "      <td>23.0</td>\n",
       "      <td>223.0</td>\n",
       "    </tr>\n",
       "    <tr>\n",
       "      <th>16</th>\n",
       "      <td>1002</td>\n",
       "      <td>12</td>\n",
       "      <td>12.0</td>\n",
       "      <td>18.0</td>\n",
       "      <td>27.0</td>\n",
       "      <td>236.0</td>\n",
       "    </tr>\n",
       "    <tr>\n",
       "      <th>1745</th>\n",
       "      <td>1275</td>\n",
       "      <td>11</td>\n",
       "      <td>26.0</td>\n",
       "      <td>14.0</td>\n",
       "      <td>44.0</td>\n",
       "      <td>347.0</td>\n",
       "    </tr>\n",
       "    <tr>\n",
       "      <th>2501</th>\n",
       "      <td>1392</td>\n",
       "      <td>3</td>\n",
       "      <td>38.0</td>\n",
       "      <td>23.0</td>\n",
       "      <td>54.0</td>\n",
       "      <td>467.0</td>\n",
       "    </tr>\n",
       "    <tr>\n",
       "      <th>2922</th>\n",
       "      <td>1455</td>\n",
       "      <td>11</td>\n",
       "      <td>5.0</td>\n",
       "      <td>15.0</td>\n",
       "      <td>68.0</td>\n",
       "      <td>626.0</td>\n",
       "    </tr>\n",
       "    <tr>\n",
       "      <th>2872</th>\n",
       "      <td>1449</td>\n",
       "      <td>8</td>\n",
       "      <td>91.0</td>\n",
       "      <td>16.0</td>\n",
       "      <td>65.0</td>\n",
       "      <td>547.0</td>\n",
       "    </tr>\n",
       "  </tbody>\n",
       "</table>\n",
       "</div>"
      ],
      "text/plain": [
       "      user_id  month  message_count  gb_used_sum  calls_count  duration_sum\n",
       "1169     1182     10           30.0         27.0         22.0         215.0\n",
       "1644     1260     12            NaN         13.0         93.0         872.0\n",
       "1558     1246      9            4.0          3.0          8.0          70.0\n",
       "2730     1425      6           86.0         13.0         75.0         667.0\n",
       "2310     1366      7           41.0         12.0         23.0         223.0\n",
       "16       1002     12           12.0         18.0         27.0         236.0\n",
       "1745     1275     11           26.0         14.0         44.0         347.0\n",
       "2501     1392      3           38.0         23.0         54.0         467.0\n",
       "2922     1455     11            5.0         15.0         68.0         626.0\n",
       "2872     1449      8           91.0         16.0         65.0         547.0"
      ]
     },
     "execution_count": 29,
     "metadata": {},
     "output_type": "execute_result"
    }
   ],
   "source": [
    "data2 = messages_count.join(other=[internet_count,calls_count], how='outer').reset_index()\n",
    "data2.sample(10)"
   ]
  },
  {
   "cell_type": "markdown",
   "metadata": {},
   "source": [
    "<i>Склеим полученную таблицу с данными пользователей</i>"
   ]
  },
  {
   "cell_type": "code",
   "execution_count": 30,
   "metadata": {},
   "outputs": [
    {
     "data": {
      "text/html": [
       "<div>\n",
       "<style scoped>\n",
       "    .dataframe tbody tr th:only-of-type {\n",
       "        vertical-align: middle;\n",
       "    }\n",
       "\n",
       "    .dataframe tbody tr th {\n",
       "        vertical-align: top;\n",
       "    }\n",
       "\n",
       "    .dataframe thead th {\n",
       "        text-align: right;\n",
       "    }\n",
       "</style>\n",
       "<table border=\"1\" class=\"dataframe\">\n",
       "  <thead>\n",
       "    <tr style=\"text-align: right;\">\n",
       "      <th></th>\n",
       "      <th>user_id</th>\n",
       "      <th>month</th>\n",
       "      <th>message_count</th>\n",
       "      <th>gb_used_sum</th>\n",
       "      <th>calls_count</th>\n",
       "      <th>duration_sum</th>\n",
       "      <th>age</th>\n",
       "      <th>churn_date</th>\n",
       "      <th>city</th>\n",
       "      <th>first_name</th>\n",
       "      <th>last_name</th>\n",
       "      <th>reg_date</th>\n",
       "      <th>tariff</th>\n",
       "    </tr>\n",
       "  </thead>\n",
       "  <tbody>\n",
       "    <tr>\n",
       "      <th>0</th>\n",
       "      <td>1000</td>\n",
       "      <td>5.0</td>\n",
       "      <td>22.0</td>\n",
       "      <td>3.0</td>\n",
       "      <td>17.0</td>\n",
       "      <td>159.0</td>\n",
       "      <td>52</td>\n",
       "      <td>NaN</td>\n",
       "      <td>Краснодар</td>\n",
       "      <td>Рафаил</td>\n",
       "      <td>Верещагин</td>\n",
       "      <td>2018-05-25</td>\n",
       "      <td>ultra</td>\n",
       "    </tr>\n",
       "    <tr>\n",
       "      <th>1</th>\n",
       "      <td>1000</td>\n",
       "      <td>6.0</td>\n",
       "      <td>60.0</td>\n",
       "      <td>23.0</td>\n",
       "      <td>28.0</td>\n",
       "      <td>172.0</td>\n",
       "      <td>52</td>\n",
       "      <td>NaN</td>\n",
       "      <td>Краснодар</td>\n",
       "      <td>Рафаил</td>\n",
       "      <td>Верещагин</td>\n",
       "      <td>2018-05-25</td>\n",
       "      <td>ultra</td>\n",
       "    </tr>\n",
       "    <tr>\n",
       "      <th>2</th>\n",
       "      <td>1000</td>\n",
       "      <td>7.0</td>\n",
       "      <td>75.0</td>\n",
       "      <td>14.0</td>\n",
       "      <td>41.0</td>\n",
       "      <td>340.0</td>\n",
       "      <td>52</td>\n",
       "      <td>NaN</td>\n",
       "      <td>Краснодар</td>\n",
       "      <td>Рафаил</td>\n",
       "      <td>Верещагин</td>\n",
       "      <td>2018-05-25</td>\n",
       "      <td>ultra</td>\n",
       "    </tr>\n",
       "    <tr>\n",
       "      <th>3</th>\n",
       "      <td>1000</td>\n",
       "      <td>8.0</td>\n",
       "      <td>81.0</td>\n",
       "      <td>14.0</td>\n",
       "      <td>42.0</td>\n",
       "      <td>408.0</td>\n",
       "      <td>52</td>\n",
       "      <td>NaN</td>\n",
       "      <td>Краснодар</td>\n",
       "      <td>Рафаил</td>\n",
       "      <td>Верещагин</td>\n",
       "      <td>2018-05-25</td>\n",
       "      <td>ultra</td>\n",
       "    </tr>\n",
       "    <tr>\n",
       "      <th>4</th>\n",
       "      <td>1000</td>\n",
       "      <td>9.0</td>\n",
       "      <td>57.0</td>\n",
       "      <td>15.0</td>\n",
       "      <td>46.0</td>\n",
       "      <td>466.0</td>\n",
       "      <td>52</td>\n",
       "      <td>NaN</td>\n",
       "      <td>Краснодар</td>\n",
       "      <td>Рафаил</td>\n",
       "      <td>Верещагин</td>\n",
       "      <td>2018-05-25</td>\n",
       "      <td>ultra</td>\n",
       "    </tr>\n",
       "    <tr>\n",
       "      <th>5</th>\n",
       "      <td>1000</td>\n",
       "      <td>10.0</td>\n",
       "      <td>73.0</td>\n",
       "      <td>15.0</td>\n",
       "      <td>44.0</td>\n",
       "      <td>350.0</td>\n",
       "      <td>52</td>\n",
       "      <td>NaN</td>\n",
       "      <td>Краснодар</td>\n",
       "      <td>Рафаил</td>\n",
       "      <td>Верещагин</td>\n",
       "      <td>2018-05-25</td>\n",
       "      <td>ultra</td>\n",
       "    </tr>\n",
       "    <tr>\n",
       "      <th>6</th>\n",
       "      <td>1000</td>\n",
       "      <td>11.0</td>\n",
       "      <td>58.0</td>\n",
       "      <td>15.0</td>\n",
       "      <td>37.0</td>\n",
       "      <td>338.0</td>\n",
       "      <td>52</td>\n",
       "      <td>NaN</td>\n",
       "      <td>Краснодар</td>\n",
       "      <td>Рафаил</td>\n",
       "      <td>Верещагин</td>\n",
       "      <td>2018-05-25</td>\n",
       "      <td>ultra</td>\n",
       "    </tr>\n",
       "    <tr>\n",
       "      <th>7</th>\n",
       "      <td>1000</td>\n",
       "      <td>12.0</td>\n",
       "      <td>70.0</td>\n",
       "      <td>10.0</td>\n",
       "      <td>38.0</td>\n",
       "      <td>333.0</td>\n",
       "      <td>52</td>\n",
       "      <td>NaN</td>\n",
       "      <td>Краснодар</td>\n",
       "      <td>Рафаил</td>\n",
       "      <td>Верещагин</td>\n",
       "      <td>2018-05-25</td>\n",
       "      <td>ultra</td>\n",
       "    </tr>\n",
       "    <tr>\n",
       "      <th>8</th>\n",
       "      <td>1001</td>\n",
       "      <td>11.0</td>\n",
       "      <td>NaN</td>\n",
       "      <td>18.0</td>\n",
       "      <td>45.0</td>\n",
       "      <td>430.0</td>\n",
       "      <td>41</td>\n",
       "      <td>NaN</td>\n",
       "      <td>Москва</td>\n",
       "      <td>Иван</td>\n",
       "      <td>Ежов</td>\n",
       "      <td>2018-11-01</td>\n",
       "      <td>smart</td>\n",
       "    </tr>\n",
       "    <tr>\n",
       "      <th>9</th>\n",
       "      <td>1001</td>\n",
       "      <td>12.0</td>\n",
       "      <td>NaN</td>\n",
       "      <td>14.0</td>\n",
       "      <td>47.0</td>\n",
       "      <td>414.0</td>\n",
       "      <td>41</td>\n",
       "      <td>NaN</td>\n",
       "      <td>Москва</td>\n",
       "      <td>Иван</td>\n",
       "      <td>Ежов</td>\n",
       "      <td>2018-11-01</td>\n",
       "      <td>smart</td>\n",
       "    </tr>\n",
       "  </tbody>\n",
       "</table>\n",
       "</div>"
      ],
      "text/plain": [
       "   user_id  month  message_count  gb_used_sum  calls_count  duration_sum  age  \\\n",
       "0     1000    5.0           22.0          3.0         17.0         159.0   52   \n",
       "1     1000    6.0           60.0         23.0         28.0         172.0   52   \n",
       "2     1000    7.0           75.0         14.0         41.0         340.0   52   \n",
       "3     1000    8.0           81.0         14.0         42.0         408.0   52   \n",
       "4     1000    9.0           57.0         15.0         46.0         466.0   52   \n",
       "5     1000   10.0           73.0         15.0         44.0         350.0   52   \n",
       "6     1000   11.0           58.0         15.0         37.0         338.0   52   \n",
       "7     1000   12.0           70.0         10.0         38.0         333.0   52   \n",
       "8     1001   11.0            NaN         18.0         45.0         430.0   41   \n",
       "9     1001   12.0            NaN         14.0         47.0         414.0   41   \n",
       "\n",
       "  churn_date       city first_name  last_name   reg_date tariff  \n",
       "0        NaN  Краснодар     Рафаил  Верещагин 2018-05-25  ultra  \n",
       "1        NaN  Краснодар     Рафаил  Верещагин 2018-05-25  ultra  \n",
       "2        NaN  Краснодар     Рафаил  Верещагин 2018-05-25  ultra  \n",
       "3        NaN  Краснодар     Рафаил  Верещагин 2018-05-25  ultra  \n",
       "4        NaN  Краснодар     Рафаил  Верещагин 2018-05-25  ultra  \n",
       "5        NaN  Краснодар     Рафаил  Верещагин 2018-05-25  ultra  \n",
       "6        NaN  Краснодар     Рафаил  Верещагин 2018-05-25  ultra  \n",
       "7        NaN  Краснодар     Рафаил  Верещагин 2018-05-25  ultra  \n",
       "8        NaN     Москва       Иван       Ежов 2018-11-01  smart  \n",
       "9        NaN     Москва       Иван       Ежов 2018-11-01  smart  "
      ]
     },
     "execution_count": 30,
     "metadata": {},
     "output_type": "execute_result"
    }
   ],
   "source": [
    "data3 = data2.merge(data_users, left_on='user_id', right_on = 'user_id', how='outer')\n",
    "data3.head(10)"
   ]
  },
  {
   "cell_type": "markdown",
   "metadata": {},
   "source": [
    "<i>Добавим данные по тарифу в каждую строку, для простоты дальнейших расчетов</i>"
   ]
  },
  {
   "cell_type": "code",
   "execution_count": 31,
   "metadata": {},
   "outputs": [
    {
     "data": {
      "text/html": [
       "<div>\n",
       "<style scoped>\n",
       "    .dataframe tbody tr th:only-of-type {\n",
       "        vertical-align: middle;\n",
       "    }\n",
       "\n",
       "    .dataframe tbody tr th {\n",
       "        vertical-align: top;\n",
       "    }\n",
       "\n",
       "    .dataframe thead th {\n",
       "        text-align: right;\n",
       "    }\n",
       "</style>\n",
       "<table border=\"1\" class=\"dataframe\">\n",
       "  <thead>\n",
       "    <tr style=\"text-align: right;\">\n",
       "      <th></th>\n",
       "      <th>user_id</th>\n",
       "      <th>month</th>\n",
       "      <th>message_count</th>\n",
       "      <th>gb_used_sum</th>\n",
       "      <th>calls_count</th>\n",
       "      <th>duration_sum</th>\n",
       "      <th>age</th>\n",
       "      <th>churn_date</th>\n",
       "      <th>city</th>\n",
       "      <th>first_name</th>\n",
       "      <th>...</th>\n",
       "      <th>reg_date</th>\n",
       "      <th>tariff</th>\n",
       "      <th>messages_included</th>\n",
       "      <th>mb_per_month_included</th>\n",
       "      <th>minutes_included</th>\n",
       "      <th>rub_monthly_fee</th>\n",
       "      <th>rub_per_gb</th>\n",
       "      <th>rub_per_message</th>\n",
       "      <th>rub_per_minute</th>\n",
       "      <th>tariff_name</th>\n",
       "    </tr>\n",
       "  </thead>\n",
       "  <tbody>\n",
       "    <tr>\n",
       "      <th>0</th>\n",
       "      <td>1000</td>\n",
       "      <td>5.0</td>\n",
       "      <td>22.0</td>\n",
       "      <td>3.0</td>\n",
       "      <td>17.0</td>\n",
       "      <td>159.0</td>\n",
       "      <td>52</td>\n",
       "      <td>NaN</td>\n",
       "      <td>Краснодар</td>\n",
       "      <td>Рафаил</td>\n",
       "      <td>...</td>\n",
       "      <td>2018-05-25</td>\n",
       "      <td>ultra</td>\n",
       "      <td>1000</td>\n",
       "      <td>30720</td>\n",
       "      <td>3000</td>\n",
       "      <td>1950</td>\n",
       "      <td>150</td>\n",
       "      <td>1</td>\n",
       "      <td>1</td>\n",
       "      <td>ultra</td>\n",
       "    </tr>\n",
       "    <tr>\n",
       "      <th>1</th>\n",
       "      <td>1000</td>\n",
       "      <td>6.0</td>\n",
       "      <td>60.0</td>\n",
       "      <td>23.0</td>\n",
       "      <td>28.0</td>\n",
       "      <td>172.0</td>\n",
       "      <td>52</td>\n",
       "      <td>NaN</td>\n",
       "      <td>Краснодар</td>\n",
       "      <td>Рафаил</td>\n",
       "      <td>...</td>\n",
       "      <td>2018-05-25</td>\n",
       "      <td>ultra</td>\n",
       "      <td>1000</td>\n",
       "      <td>30720</td>\n",
       "      <td>3000</td>\n",
       "      <td>1950</td>\n",
       "      <td>150</td>\n",
       "      <td>1</td>\n",
       "      <td>1</td>\n",
       "      <td>ultra</td>\n",
       "    </tr>\n",
       "    <tr>\n",
       "      <th>2</th>\n",
       "      <td>1000</td>\n",
       "      <td>7.0</td>\n",
       "      <td>75.0</td>\n",
       "      <td>14.0</td>\n",
       "      <td>41.0</td>\n",
       "      <td>340.0</td>\n",
       "      <td>52</td>\n",
       "      <td>NaN</td>\n",
       "      <td>Краснодар</td>\n",
       "      <td>Рафаил</td>\n",
       "      <td>...</td>\n",
       "      <td>2018-05-25</td>\n",
       "      <td>ultra</td>\n",
       "      <td>1000</td>\n",
       "      <td>30720</td>\n",
       "      <td>3000</td>\n",
       "      <td>1950</td>\n",
       "      <td>150</td>\n",
       "      <td>1</td>\n",
       "      <td>1</td>\n",
       "      <td>ultra</td>\n",
       "    </tr>\n",
       "    <tr>\n",
       "      <th>3</th>\n",
       "      <td>1000</td>\n",
       "      <td>8.0</td>\n",
       "      <td>81.0</td>\n",
       "      <td>14.0</td>\n",
       "      <td>42.0</td>\n",
       "      <td>408.0</td>\n",
       "      <td>52</td>\n",
       "      <td>NaN</td>\n",
       "      <td>Краснодар</td>\n",
       "      <td>Рафаил</td>\n",
       "      <td>...</td>\n",
       "      <td>2018-05-25</td>\n",
       "      <td>ultra</td>\n",
       "      <td>1000</td>\n",
       "      <td>30720</td>\n",
       "      <td>3000</td>\n",
       "      <td>1950</td>\n",
       "      <td>150</td>\n",
       "      <td>1</td>\n",
       "      <td>1</td>\n",
       "      <td>ultra</td>\n",
       "    </tr>\n",
       "    <tr>\n",
       "      <th>4</th>\n",
       "      <td>1000</td>\n",
       "      <td>9.0</td>\n",
       "      <td>57.0</td>\n",
       "      <td>15.0</td>\n",
       "      <td>46.0</td>\n",
       "      <td>466.0</td>\n",
       "      <td>52</td>\n",
       "      <td>NaN</td>\n",
       "      <td>Краснодар</td>\n",
       "      <td>Рафаил</td>\n",
       "      <td>...</td>\n",
       "      <td>2018-05-25</td>\n",
       "      <td>ultra</td>\n",
       "      <td>1000</td>\n",
       "      <td>30720</td>\n",
       "      <td>3000</td>\n",
       "      <td>1950</td>\n",
       "      <td>150</td>\n",
       "      <td>1</td>\n",
       "      <td>1</td>\n",
       "      <td>ultra</td>\n",
       "    </tr>\n",
       "    <tr>\n",
       "      <th>5</th>\n",
       "      <td>1000</td>\n",
       "      <td>10.0</td>\n",
       "      <td>73.0</td>\n",
       "      <td>15.0</td>\n",
       "      <td>44.0</td>\n",
       "      <td>350.0</td>\n",
       "      <td>52</td>\n",
       "      <td>NaN</td>\n",
       "      <td>Краснодар</td>\n",
       "      <td>Рафаил</td>\n",
       "      <td>...</td>\n",
       "      <td>2018-05-25</td>\n",
       "      <td>ultra</td>\n",
       "      <td>1000</td>\n",
       "      <td>30720</td>\n",
       "      <td>3000</td>\n",
       "      <td>1950</td>\n",
       "      <td>150</td>\n",
       "      <td>1</td>\n",
       "      <td>1</td>\n",
       "      <td>ultra</td>\n",
       "    </tr>\n",
       "    <tr>\n",
       "      <th>6</th>\n",
       "      <td>1000</td>\n",
       "      <td>11.0</td>\n",
       "      <td>58.0</td>\n",
       "      <td>15.0</td>\n",
       "      <td>37.0</td>\n",
       "      <td>338.0</td>\n",
       "      <td>52</td>\n",
       "      <td>NaN</td>\n",
       "      <td>Краснодар</td>\n",
       "      <td>Рафаил</td>\n",
       "      <td>...</td>\n",
       "      <td>2018-05-25</td>\n",
       "      <td>ultra</td>\n",
       "      <td>1000</td>\n",
       "      <td>30720</td>\n",
       "      <td>3000</td>\n",
       "      <td>1950</td>\n",
       "      <td>150</td>\n",
       "      <td>1</td>\n",
       "      <td>1</td>\n",
       "      <td>ultra</td>\n",
       "    </tr>\n",
       "    <tr>\n",
       "      <th>7</th>\n",
       "      <td>1000</td>\n",
       "      <td>12.0</td>\n",
       "      <td>70.0</td>\n",
       "      <td>10.0</td>\n",
       "      <td>38.0</td>\n",
       "      <td>333.0</td>\n",
       "      <td>52</td>\n",
       "      <td>NaN</td>\n",
       "      <td>Краснодар</td>\n",
       "      <td>Рафаил</td>\n",
       "      <td>...</td>\n",
       "      <td>2018-05-25</td>\n",
       "      <td>ultra</td>\n",
       "      <td>1000</td>\n",
       "      <td>30720</td>\n",
       "      <td>3000</td>\n",
       "      <td>1950</td>\n",
       "      <td>150</td>\n",
       "      <td>1</td>\n",
       "      <td>1</td>\n",
       "      <td>ultra</td>\n",
       "    </tr>\n",
       "    <tr>\n",
       "      <th>8</th>\n",
       "      <td>1003</td>\n",
       "      <td>8.0</td>\n",
       "      <td>37.0</td>\n",
       "      <td>9.0</td>\n",
       "      <td>43.0</td>\n",
       "      <td>380.0</td>\n",
       "      <td>23</td>\n",
       "      <td>NaN</td>\n",
       "      <td>Москва</td>\n",
       "      <td>Белла</td>\n",
       "      <td>...</td>\n",
       "      <td>2018-08-17</td>\n",
       "      <td>ultra</td>\n",
       "      <td>1000</td>\n",
       "      <td>30720</td>\n",
       "      <td>3000</td>\n",
       "      <td>1950</td>\n",
       "      <td>150</td>\n",
       "      <td>1</td>\n",
       "      <td>1</td>\n",
       "      <td>ultra</td>\n",
       "    </tr>\n",
       "    <tr>\n",
       "      <th>9</th>\n",
       "      <td>1003</td>\n",
       "      <td>9.0</td>\n",
       "      <td>91.0</td>\n",
       "      <td>13.0</td>\n",
       "      <td>105.0</td>\n",
       "      <td>961.0</td>\n",
       "      <td>23</td>\n",
       "      <td>NaN</td>\n",
       "      <td>Москва</td>\n",
       "      <td>Белла</td>\n",
       "      <td>...</td>\n",
       "      <td>2018-08-17</td>\n",
       "      <td>ultra</td>\n",
       "      <td>1000</td>\n",
       "      <td>30720</td>\n",
       "      <td>3000</td>\n",
       "      <td>1950</td>\n",
       "      <td>150</td>\n",
       "      <td>1</td>\n",
       "      <td>1</td>\n",
       "      <td>ultra</td>\n",
       "    </tr>\n",
       "  </tbody>\n",
       "</table>\n",
       "<p>10 rows × 21 columns</p>\n",
       "</div>"
      ],
      "text/plain": [
       "   user_id  month  message_count  gb_used_sum  calls_count  duration_sum  age  \\\n",
       "0     1000    5.0           22.0          3.0         17.0         159.0   52   \n",
       "1     1000    6.0           60.0         23.0         28.0         172.0   52   \n",
       "2     1000    7.0           75.0         14.0         41.0         340.0   52   \n",
       "3     1000    8.0           81.0         14.0         42.0         408.0   52   \n",
       "4     1000    9.0           57.0         15.0         46.0         466.0   52   \n",
       "5     1000   10.0           73.0         15.0         44.0         350.0   52   \n",
       "6     1000   11.0           58.0         15.0         37.0         338.0   52   \n",
       "7     1000   12.0           70.0         10.0         38.0         333.0   52   \n",
       "8     1003    8.0           37.0          9.0         43.0         380.0   23   \n",
       "9     1003    9.0           91.0         13.0        105.0         961.0   23   \n",
       "\n",
       "  churn_date       city first_name  ...   reg_date tariff messages_included  \\\n",
       "0        NaN  Краснодар     Рафаил  ... 2018-05-25  ultra              1000   \n",
       "1        NaN  Краснодар     Рафаил  ... 2018-05-25  ultra              1000   \n",
       "2        NaN  Краснодар     Рафаил  ... 2018-05-25  ultra              1000   \n",
       "3        NaN  Краснодар     Рафаил  ... 2018-05-25  ultra              1000   \n",
       "4        NaN  Краснодар     Рафаил  ... 2018-05-25  ultra              1000   \n",
       "5        NaN  Краснодар     Рафаил  ... 2018-05-25  ultra              1000   \n",
       "6        NaN  Краснодар     Рафаил  ... 2018-05-25  ultra              1000   \n",
       "7        NaN  Краснодар     Рафаил  ... 2018-05-25  ultra              1000   \n",
       "8        NaN     Москва      Белла  ... 2018-08-17  ultra              1000   \n",
       "9        NaN     Москва      Белла  ... 2018-08-17  ultra              1000   \n",
       "\n",
       "   mb_per_month_included  minutes_included  rub_monthly_fee  rub_per_gb  \\\n",
       "0                  30720              3000             1950         150   \n",
       "1                  30720              3000             1950         150   \n",
       "2                  30720              3000             1950         150   \n",
       "3                  30720              3000             1950         150   \n",
       "4                  30720              3000             1950         150   \n",
       "5                  30720              3000             1950         150   \n",
       "6                  30720              3000             1950         150   \n",
       "7                  30720              3000             1950         150   \n",
       "8                  30720              3000             1950         150   \n",
       "9                  30720              3000             1950         150   \n",
       "\n",
       "   rub_per_message  rub_per_minute  tariff_name  \n",
       "0                1               1        ultra  \n",
       "1                1               1        ultra  \n",
       "2                1               1        ultra  \n",
       "3                1               1        ultra  \n",
       "4                1               1        ultra  \n",
       "5                1               1        ultra  \n",
       "6                1               1        ultra  \n",
       "7                1               1        ultra  \n",
       "8                1               1        ultra  \n",
       "9                1               1        ultra  \n",
       "\n",
       "[10 rows x 21 columns]"
      ]
     },
     "execution_count": 31,
     "metadata": {},
     "output_type": "execute_result"
    }
   ],
   "source": [
    "data4 = data3.merge(data_tariffs, left_on='tariff', right_on = 'tariff_name', how='outer')\n",
    "data4.head(10)"
   ]
  },
  {
   "cell_type": "markdown",
   "metadata": {},
   "source": [
    "<i>При склейке могли образоваться колонки, где не было сообщений, но быи например, только звонки. При сложении таких значений, с помощью знака \"+\", у нас будет получатсья NaN. Заменим NaN На 0, чтобы получались верные значения выручки.</i>"
   ]
  },
  {
   "cell_type": "code",
   "execution_count": 32,
   "metadata": {},
   "outputs": [
    {
     "name": "stdout",
     "output_type": "stream",
     "text": [
      "<class 'pandas.core.frame.DataFrame'>\n",
      "Int64Index: 3216 entries, 0 to 3215\n",
      "Data columns (total 21 columns):\n",
      " #   Column                 Non-Null Count  Dtype         \n",
      "---  ------                 --------------  -----         \n",
      " 0   user_id                3216 non-null   int64         \n",
      " 1   month                  3214 non-null   float64       \n",
      " 2   message_count          3216 non-null   float64       \n",
      " 3   gb_used_sum            3216 non-null   float64       \n",
      " 4   calls_count            3216 non-null   float64       \n",
      " 5   duration_sum           3216 non-null   float64       \n",
      " 6   age                    3216 non-null   int64         \n",
      " 7   churn_date             189 non-null    object        \n",
      " 8   city                   3216 non-null   object        \n",
      " 9   first_name             3216 non-null   object        \n",
      " 10  last_name              3216 non-null   object        \n",
      " 11  reg_date               3216 non-null   datetime64[ns]\n",
      " 12  tariff                 3216 non-null   object        \n",
      " 13  messages_included      3216 non-null   int64         \n",
      " 14  mb_per_month_included  3216 non-null   int64         \n",
      " 15  minutes_included       3216 non-null   int64         \n",
      " 16  rub_monthly_fee        3216 non-null   int64         \n",
      " 17  rub_per_gb             3216 non-null   int64         \n",
      " 18  rub_per_message        3216 non-null   int64         \n",
      " 19  rub_per_minute         3216 non-null   int64         \n",
      " 20  tariff_name            3216 non-null   object        \n",
      "dtypes: datetime64[ns](1), float64(5), int64(9), object(6)\n",
      "memory usage: 552.8+ KB\n"
     ]
    },
    {
     "data": {
      "text/html": [
       "<div>\n",
       "<style scoped>\n",
       "    .dataframe tbody tr th:only-of-type {\n",
       "        vertical-align: middle;\n",
       "    }\n",
       "\n",
       "    .dataframe tbody tr th {\n",
       "        vertical-align: top;\n",
       "    }\n",
       "\n",
       "    .dataframe thead th {\n",
       "        text-align: right;\n",
       "    }\n",
       "</style>\n",
       "<table border=\"1\" class=\"dataframe\">\n",
       "  <thead>\n",
       "    <tr style=\"text-align: right;\">\n",
       "      <th></th>\n",
       "      <th>user_id</th>\n",
       "      <th>month</th>\n",
       "      <th>message_count</th>\n",
       "      <th>gb_used_sum</th>\n",
       "      <th>calls_count</th>\n",
       "      <th>duration_sum</th>\n",
       "      <th>age</th>\n",
       "      <th>churn_date</th>\n",
       "      <th>city</th>\n",
       "      <th>first_name</th>\n",
       "      <th>...</th>\n",
       "      <th>reg_date</th>\n",
       "      <th>tariff</th>\n",
       "      <th>messages_included</th>\n",
       "      <th>mb_per_month_included</th>\n",
       "      <th>minutes_included</th>\n",
       "      <th>rub_monthly_fee</th>\n",
       "      <th>rub_per_gb</th>\n",
       "      <th>rub_per_message</th>\n",
       "      <th>rub_per_minute</th>\n",
       "      <th>tariff_name</th>\n",
       "    </tr>\n",
       "  </thead>\n",
       "  <tbody>\n",
       "  </tbody>\n",
       "</table>\n",
       "<p>0 rows × 21 columns</p>\n",
       "</div>"
      ],
      "text/plain": [
       "Empty DataFrame\n",
       "Columns: [user_id, month, message_count, gb_used_sum, calls_count, duration_sum, age, churn_date, city, first_name, last_name, reg_date, tariff, messages_included, mb_per_month_included, minutes_included, rub_monthly_fee, rub_per_gb, rub_per_message, rub_per_minute, tariff_name]\n",
       "Index: []\n",
       "\n",
       "[0 rows x 21 columns]"
      ]
     },
     "execution_count": 32,
     "metadata": {},
     "output_type": "execute_result"
    }
   ],
   "source": [
    "data4['message_count'].fillna(0, inplace=True)\n",
    "data4['calls_count'].fillna(0, inplace=True)\n",
    "data4['duration_sum'].fillna(0, inplace=True)\n",
    "data4['gb_used_sum'].fillna(0, inplace=True)\n",
    "data4.info()\n",
    "data4.loc[data4['message_count'].isnull()==True]"
   ]
  },
  {
   "cell_type": "markdown",
   "metadata": {},
   "source": [
    "<b><i>Добавим колонку с помесячной выручкой</i></b>"
   ]
  },
  {
   "cell_type": "code",
   "execution_count": 33,
   "metadata": {},
   "outputs": [
    {
     "data": {
      "text/html": [
       "<div>\n",
       "<style scoped>\n",
       "    .dataframe tbody tr th:only-of-type {\n",
       "        vertical-align: middle;\n",
       "    }\n",
       "\n",
       "    .dataframe tbody tr th {\n",
       "        vertical-align: top;\n",
       "    }\n",
       "\n",
       "    .dataframe thead th {\n",
       "        text-align: right;\n",
       "    }\n",
       "</style>\n",
       "<table border=\"1\" class=\"dataframe\">\n",
       "  <thead>\n",
       "    <tr style=\"text-align: right;\">\n",
       "      <th></th>\n",
       "      <th>user_id</th>\n",
       "      <th>month</th>\n",
       "      <th>tariff_name</th>\n",
       "      <th>proceeds</th>\n",
       "      <th>k_calls</th>\n",
       "      <th>k_mess</th>\n",
       "      <th>k_GB</th>\n",
       "      <th>proceeds</th>\n",
       "    </tr>\n",
       "  </thead>\n",
       "  <tbody>\n",
       "    <tr>\n",
       "      <th>1997</th>\n",
       "      <td>1217</td>\n",
       "      <td>9.0</td>\n",
       "      <td>smart</td>\n",
       "      <td>804.0</td>\n",
       "      <td>0.0</td>\n",
       "      <td>1.0</td>\n",
       "      <td>1.0</td>\n",
       "      <td>804.0</td>\n",
       "    </tr>\n",
       "    <tr>\n",
       "      <th>1653</th>\n",
       "      <td>1146</td>\n",
       "      <td>5.0</td>\n",
       "      <td>smart</td>\n",
       "      <td>550.0</td>\n",
       "      <td>0.0</td>\n",
       "      <td>0.0</td>\n",
       "      <td>0.0</td>\n",
       "      <td>550.0</td>\n",
       "    </tr>\n",
       "    <tr>\n",
       "      <th>2898</th>\n",
       "      <td>1429</td>\n",
       "      <td>8.0</td>\n",
       "      <td>smart</td>\n",
       "      <td>550.0</td>\n",
       "      <td>0.0</td>\n",
       "      <td>0.0</td>\n",
       "      <td>0.0</td>\n",
       "      <td>550.0</td>\n",
       "    </tr>\n",
       "    <tr>\n",
       "      <th>3121</th>\n",
       "      <td>1481</td>\n",
       "      <td>3.0</td>\n",
       "      <td>smart</td>\n",
       "      <td>1150.0</td>\n",
       "      <td>0.0</td>\n",
       "      <td>0.0</td>\n",
       "      <td>1.0</td>\n",
       "      <td>1150.0</td>\n",
       "    </tr>\n",
       "    <tr>\n",
       "      <th>2750</th>\n",
       "      <td>1401</td>\n",
       "      <td>3.0</td>\n",
       "      <td>smart</td>\n",
       "      <td>750.0</td>\n",
       "      <td>0.0</td>\n",
       "      <td>0.0</td>\n",
       "      <td>1.0</td>\n",
       "      <td>750.0</td>\n",
       "    </tr>\n",
       "    <tr>\n",
       "      <th>1577</th>\n",
       "      <td>1130</td>\n",
       "      <td>10.0</td>\n",
       "      <td>smart</td>\n",
       "      <td>583.0</td>\n",
       "      <td>0.0</td>\n",
       "      <td>1.0</td>\n",
       "      <td>0.0</td>\n",
       "      <td>583.0</td>\n",
       "    </tr>\n",
       "    <tr>\n",
       "      <th>1897</th>\n",
       "      <td>1193</td>\n",
       "      <td>6.0</td>\n",
       "      <td>smart</td>\n",
       "      <td>550.0</td>\n",
       "      <td>0.0</td>\n",
       "      <td>0.0</td>\n",
       "      <td>0.0</td>\n",
       "      <td>550.0</td>\n",
       "    </tr>\n",
       "    <tr>\n",
       "      <th>1520</th>\n",
       "      <td>1118</td>\n",
       "      <td>3.0</td>\n",
       "      <td>smart</td>\n",
       "      <td>691.0</td>\n",
       "      <td>1.0</td>\n",
       "      <td>0.0</td>\n",
       "      <td>0.0</td>\n",
       "      <td>691.0</td>\n",
       "    </tr>\n",
       "    <tr>\n",
       "      <th>792</th>\n",
       "      <td>1396</td>\n",
       "      <td>6.0</td>\n",
       "      <td>ultra</td>\n",
       "      <td>1950.0</td>\n",
       "      <td>0.0</td>\n",
       "      <td>0.0</td>\n",
       "      <td>0.0</td>\n",
       "      <td>1950.0</td>\n",
       "    </tr>\n",
       "    <tr>\n",
       "      <th>437</th>\n",
       "      <td>1254</td>\n",
       "      <td>8.0</td>\n",
       "      <td>ultra</td>\n",
       "      <td>1950.0</td>\n",
       "      <td>0.0</td>\n",
       "      <td>0.0</td>\n",
       "      <td>0.0</td>\n",
       "      <td>1950.0</td>\n",
       "    </tr>\n",
       "  </tbody>\n",
       "</table>\n",
       "</div>"
      ],
      "text/plain": [
       "      user_id  month tariff_name  proceeds  k_calls  k_mess  k_GB  proceeds\n",
       "1997     1217    9.0       smart     804.0      0.0     1.0   1.0     804.0\n",
       "1653     1146    5.0       smart     550.0      0.0     0.0   0.0     550.0\n",
       "2898     1429    8.0       smart     550.0      0.0     0.0   0.0     550.0\n",
       "3121     1481    3.0       smart    1150.0      0.0     0.0   1.0    1150.0\n",
       "2750     1401    3.0       smart     750.0      0.0     0.0   1.0     750.0\n",
       "1577     1130   10.0       smart     583.0      0.0     1.0   0.0     583.0\n",
       "1897     1193    6.0       smart     550.0      0.0     0.0   0.0     550.0\n",
       "1520     1118    3.0       smart     691.0      1.0     0.0   0.0     691.0\n",
       "792      1396    6.0       ultra    1950.0      0.0     0.0   0.0    1950.0\n",
       "437      1254    8.0       ultra    1950.0      0.0     0.0   0.0    1950.0"
      ]
     },
     "metadata": {},
     "output_type": "display_data"
    }
   ],
   "source": [
    "#Добавим коэффициент учитывающий выработку/невыработку лимита по трафику, звонкам и сообщенмям\n",
    "data4.loc[(data4['duration_sum'] <= data4['minutes_included']),'k_calls']=0\n",
    "data4.loc[(data4['duration_sum'] > data4['minutes_included']),'k_calls']=1\n",
    "data4.loc[(data4['gb_used_sum'] <= (data4['mb_per_month_included']/1024)),'k_GB']=0\n",
    "data4.loc[(data4['gb_used_sum'] > (data4['mb_per_month_included']/1024)),'k_GB']=1\n",
    "data4.loc[(data4['message_count'] <= data4['messages_included']),'k_mess']=0\n",
    "data4.loc[(data4['message_count'] > data4['messages_included']),'k_mess']=1\n",
    "\n",
    "#display(data4[['user_id','month','tariff_name','proceeds','k_calls','k_mess','k_GB']])\n",
    "\n",
    "data4['proceeds']=((data4['duration_sum']-data4['minutes_included'])*data4['k_calls']*data4['rub_per_minute']\n",
    "+((data4['gb_used_sum'])-data4['mb_per_month_included']/1024)*data4['k_GB']*data4['rub_per_gb']\n",
    "+((data4['message_count'])-data4['messages_included'])*data4['k_mess']*data4['rub_per_message']+data4['rub_monthly_fee'])\n",
    "\n",
    "display(data4[['user_id','month','tariff_name','proceeds','k_calls','k_mess','k_GB','proceeds']].sample(10))"
   ]
  },
  {
   "cell_type": "code",
   "execution_count": 34,
   "metadata": {},
   "outputs": [
    {
     "name": "stdout",
     "output_type": "stream",
     "text": [
      "user_id                  0.000000\n",
      "month                    0.000622\n",
      "message_count            0.000000\n",
      "gb_used_sum              0.000000\n",
      "calls_count              0.000000\n",
      "duration_sum             0.000000\n",
      "age                      0.000000\n",
      "churn_date               0.941231\n",
      "city                     0.000000\n",
      "first_name               0.000000\n",
      "last_name                0.000000\n",
      "reg_date                 0.000000\n",
      "tariff                   0.000000\n",
      "messages_included        0.000000\n",
      "mb_per_month_included    0.000000\n",
      "minutes_included         0.000000\n",
      "rub_monthly_fee          0.000000\n",
      "rub_per_gb               0.000000\n",
      "rub_per_message          0.000000\n",
      "rub_per_minute           0.000000\n",
      "tariff_name              0.000000\n",
      "k_calls                  0.000000\n",
      "k_GB                     0.000000\n",
      "k_mess                   0.000000\n",
      "proceeds                 0.000000\n",
      "dtype: float64\n"
     ]
    },
    {
     "data": {
      "text/html": [
       "<div>\n",
       "<style scoped>\n",
       "    .dataframe tbody tr th:only-of-type {\n",
       "        vertical-align: middle;\n",
       "    }\n",
       "\n",
       "    .dataframe tbody tr th {\n",
       "        vertical-align: top;\n",
       "    }\n",
       "\n",
       "    .dataframe thead th {\n",
       "        text-align: right;\n",
       "    }\n",
       "</style>\n",
       "<table border=\"1\" class=\"dataframe\">\n",
       "  <thead>\n",
       "    <tr style=\"text-align: right;\">\n",
       "      <th></th>\n",
       "      <th>user_id</th>\n",
       "      <th>month</th>\n",
       "      <th>message_count</th>\n",
       "      <th>gb_used_sum</th>\n",
       "      <th>calls_count</th>\n",
       "      <th>duration_sum</th>\n",
       "      <th>age</th>\n",
       "      <th>churn_date</th>\n",
       "      <th>city</th>\n",
       "      <th>first_name</th>\n",
       "      <th>...</th>\n",
       "      <th>minutes_included</th>\n",
       "      <th>rub_monthly_fee</th>\n",
       "      <th>rub_per_gb</th>\n",
       "      <th>rub_per_message</th>\n",
       "      <th>rub_per_minute</th>\n",
       "      <th>tariff_name</th>\n",
       "      <th>k_calls</th>\n",
       "      <th>k_GB</th>\n",
       "      <th>k_mess</th>\n",
       "      <th>proceeds</th>\n",
       "    </tr>\n",
       "  </thead>\n",
       "  <tbody>\n",
       "  </tbody>\n",
       "</table>\n",
       "<p>0 rows × 25 columns</p>\n",
       "</div>"
      ],
      "text/plain": [
       "Empty DataFrame\n",
       "Columns: [user_id, month, message_count, gb_used_sum, calls_count, duration_sum, age, churn_date, city, first_name, last_name, reg_date, tariff, messages_included, mb_per_month_included, minutes_included, rub_monthly_fee, rub_per_gb, rub_per_message, rub_per_minute, tariff_name, k_calls, k_GB, k_mess, proceeds]\n",
       "Index: []\n",
       "\n",
       "[0 rows x 25 columns]"
      ]
     },
     "metadata": {},
     "output_type": "display_data"
    }
   ],
   "source": [
    "print(data4.isnull().mean())\n",
    "display(data4.loc[data4['proceeds'].isnull()==True])"
   ]
  },
  {
   "cell_type": "markdown",
   "metadata": {},
   "source": [
    "## Анализ данных"
   ]
  },
  {
   "cell_type": "code",
   "execution_count": 35,
   "metadata": {},
   "outputs": [
    {
     "data": {
      "text/html": [
       "<div>\n",
       "<style scoped>\n",
       "    .dataframe tbody tr th:only-of-type {\n",
       "        vertical-align: middle;\n",
       "    }\n",
       "\n",
       "    .dataframe tbody tr th {\n",
       "        vertical-align: top;\n",
       "    }\n",
       "\n",
       "    .dataframe thead th {\n",
       "        text-align: right;\n",
       "    }\n",
       "</style>\n",
       "<table border=\"1\" class=\"dataframe\">\n",
       "  <thead>\n",
       "    <tr style=\"text-align: right;\">\n",
       "      <th></th>\n",
       "      <th>duration_sum</th>\n",
       "      <th>message_count</th>\n",
       "      <th>gb_used_sum</th>\n",
       "    </tr>\n",
       "  </thead>\n",
       "  <tbody>\n",
       "    <tr>\n",
       "      <th>230</th>\n",
       "      <td>1106.0</td>\n",
       "      <td>120.0</td>\n",
       "      <td>39.0</td>\n",
       "    </tr>\n",
       "    <tr>\n",
       "      <th>512</th>\n",
       "      <td>212.0</td>\n",
       "      <td>0.0</td>\n",
       "      <td>29.0</td>\n",
       "    </tr>\n",
       "    <tr>\n",
       "      <th>861</th>\n",
       "      <td>420.0</td>\n",
       "      <td>22.0</td>\n",
       "      <td>23.0</td>\n",
       "    </tr>\n",
       "    <tr>\n",
       "      <th>893</th>\n",
       "      <td>808.0</td>\n",
       "      <td>63.0</td>\n",
       "      <td>21.0</td>\n",
       "    </tr>\n",
       "    <tr>\n",
       "      <th>310</th>\n",
       "      <td>86.0</td>\n",
       "      <td>22.0</td>\n",
       "      <td>36.0</td>\n",
       "    </tr>\n",
       "    <tr>\n",
       "      <th>770</th>\n",
       "      <td>333.0</td>\n",
       "      <td>144.0</td>\n",
       "      <td>38.0</td>\n",
       "    </tr>\n",
       "    <tr>\n",
       "      <th>265</th>\n",
       "      <td>645.0</td>\n",
       "      <td>126.0</td>\n",
       "      <td>17.0</td>\n",
       "    </tr>\n",
       "    <tr>\n",
       "      <th>539</th>\n",
       "      <td>610.0</td>\n",
       "      <td>33.0</td>\n",
       "      <td>28.0</td>\n",
       "    </tr>\n",
       "    <tr>\n",
       "      <th>231</th>\n",
       "      <td>272.0</td>\n",
       "      <td>4.0</td>\n",
       "      <td>16.0</td>\n",
       "    </tr>\n",
       "    <tr>\n",
       "      <th>70</th>\n",
       "      <td>520.0</td>\n",
       "      <td>0.0</td>\n",
       "      <td>8.0</td>\n",
       "    </tr>\n",
       "  </tbody>\n",
       "</table>\n",
       "</div>"
      ],
      "text/plain": [
       "     duration_sum  message_count  gb_used_sum\n",
       "230        1106.0          120.0         39.0\n",
       "512         212.0            0.0         29.0\n",
       "861         420.0           22.0         23.0\n",
       "893         808.0           63.0         21.0\n",
       "310          86.0           22.0         36.0\n",
       "770         333.0          144.0         38.0\n",
       "265         645.0          126.0         17.0\n",
       "539         610.0           33.0         28.0\n",
       "231         272.0            4.0         16.0\n",
       "70          520.0            0.0          8.0"
      ]
     },
     "metadata": {},
     "output_type": "display_data"
    },
    {
     "data": {
      "text/html": [
       "<div>\n",
       "<style scoped>\n",
       "    .dataframe tbody tr th:only-of-type {\n",
       "        vertical-align: middle;\n",
       "    }\n",
       "\n",
       "    .dataframe tbody tr th {\n",
       "        vertical-align: top;\n",
       "    }\n",
       "\n",
       "    .dataframe thead th {\n",
       "        text-align: right;\n",
       "    }\n",
       "</style>\n",
       "<table border=\"1\" class=\"dataframe\">\n",
       "  <thead>\n",
       "    <tr style=\"text-align: right;\">\n",
       "      <th></th>\n",
       "      <th>duration_sum</th>\n",
       "      <th>message_count</th>\n",
       "      <th>gb_used_sum</th>\n",
       "    </tr>\n",
       "  </thead>\n",
       "  <tbody>\n",
       "    <tr>\n",
       "      <th>1683</th>\n",
       "      <td>275.0</td>\n",
       "      <td>15.0</td>\n",
       "      <td>19.0</td>\n",
       "    </tr>\n",
       "    <tr>\n",
       "      <th>2291</th>\n",
       "      <td>387.0</td>\n",
       "      <td>117.0</td>\n",
       "      <td>7.0</td>\n",
       "    </tr>\n",
       "    <tr>\n",
       "      <th>1855</th>\n",
       "      <td>443.0</td>\n",
       "      <td>46.0</td>\n",
       "      <td>15.0</td>\n",
       "    </tr>\n",
       "    <tr>\n",
       "      <th>1213</th>\n",
       "      <td>443.0</td>\n",
       "      <td>37.0</td>\n",
       "      <td>24.0</td>\n",
       "    </tr>\n",
       "    <tr>\n",
       "      <th>2144</th>\n",
       "      <td>306.0</td>\n",
       "      <td>26.0</td>\n",
       "      <td>8.0</td>\n",
       "    </tr>\n",
       "    <tr>\n",
       "      <th>1078</th>\n",
       "      <td>454.0</td>\n",
       "      <td>61.0</td>\n",
       "      <td>22.0</td>\n",
       "    </tr>\n",
       "    <tr>\n",
       "      <th>2202</th>\n",
       "      <td>451.0</td>\n",
       "      <td>20.0</td>\n",
       "      <td>24.0</td>\n",
       "    </tr>\n",
       "    <tr>\n",
       "      <th>1181</th>\n",
       "      <td>12.0</td>\n",
       "      <td>0.0</td>\n",
       "      <td>3.0</td>\n",
       "    </tr>\n",
       "    <tr>\n",
       "      <th>2416</th>\n",
       "      <td>440.0</td>\n",
       "      <td>26.0</td>\n",
       "      <td>15.0</td>\n",
       "    </tr>\n",
       "    <tr>\n",
       "      <th>2191</th>\n",
       "      <td>606.0</td>\n",
       "      <td>9.0</td>\n",
       "      <td>21.0</td>\n",
       "    </tr>\n",
       "  </tbody>\n",
       "</table>\n",
       "</div>"
      ],
      "text/plain": [
       "      duration_sum  message_count  gb_used_sum\n",
       "1683         275.0           15.0         19.0\n",
       "2291         387.0          117.0          7.0\n",
       "1855         443.0           46.0         15.0\n",
       "1213         443.0           37.0         24.0\n",
       "2144         306.0           26.0          8.0\n",
       "1078         454.0           61.0         22.0\n",
       "2202         451.0           20.0         24.0\n",
       "1181          12.0            0.0          3.0\n",
       "2416         440.0           26.0         15.0\n",
       "2191         606.0            9.0         21.0"
      ]
     },
     "metadata": {},
     "output_type": "display_data"
    }
   ],
   "source": [
    "#Создадим вспомогательные таблицы\n",
    "table_h1_ultra=data4.query('tariff_name==\"ultra\"')[['duration_sum','message_count','gb_used_sum']]\n",
    "display(table_h1_ultra.sample(10))\n",
    "table_h1_smart=data4.query('tariff_name==\"smart\"')[['duration_sum','message_count','gb_used_sum']]\n",
    "display(table_h1_smart.sample(10))"
   ]
  },
  {
   "cell_type": "markdown",
   "metadata": {},
   "source": [
    "<i>Постороим гистограммы сравнительно по тарифам</i>"
   ]
  },
  {
   "cell_type": "code",
   "execution_count": 36,
   "metadata": {
    "scrolled": false
   },
   "outputs": [
    {
     "data": {
      "image/png": "[encoded data removed]",
      "text/plain": [
       "<Figure size 1440x360 with 1 Axes>"
      ]
     },
     "metadata": {
      "needs_background": "light"
     },
     "output_type": "display_data"
    },
    {
     "data": {
      "image/png": "[encoded data removed]",
      "text/plain": [
       "<Figure size 1440x360 with 1 Axes>"
      ]
     },
     "metadata": {
      "needs_background": "light"
     },
     "output_type": "display_data"
    }
   ],
   "source": [
    "table_h1_smart['duration_sum'].hist(color='green', bins=100,figsize=(20,5))\n",
    "plt.title('Медианное число использованный минут разговора в месяц, Smart')\n",
    "plt.show()\n",
    "table_h1_ultra['duration_sum'].hist(color='blue', bins=50,figsize=(20,5))\n",
    "plt.title('Медианное число использованный минут разговора в месяц, Ultra')\n",
    "plt.show()"
   ]
  },
  {
   "cell_type": "markdown",
   "metadata": {},
   "source": [
    "<i>Распределение похоже на нормлаьное, с наибольшим числом значений около 420 минут для тарифа \"Смарт\" и около 500 минут для тарифа \"Ультра\"</i>"
   ]
  },
  {
   "cell_type": "code",
   "execution_count": 37,
   "metadata": {
    "scrolled": true
   },
   "outputs": [
    {
     "data": {
      "image/png": "[encoded data removed]",
      "text/plain": [
       "<Figure size 1440x360 with 1 Axes>"
      ]
     },
     "metadata": {
      "needs_background": "light"
     },
     "output_type": "display_data"
    },
    {
     "data": {
      "image/png": "[encoded data removed]",
      "text/plain": [
       "<Figure size 1440x360 with 1 Axes>"
      ]
     },
     "metadata": {
      "needs_background": "light"
     },
     "output_type": "display_data"
    }
   ],
   "source": [
    "table_h1_smart['gb_used_sum'].hist(color='green', bins=100,figsize=(20,5))\n",
    "plt.title('Медианное число исползованных гигабайт в месяц, Smart')\n",
    "plt.show()\n",
    "table_h1_ultra['gb_used_sum'].hist(color='blue', bins=100,figsize=(20,5))\n",
    "plt.title('Медианное число исползованных гигабайт в месяц, Ultra')\n",
    "plt.show()"
   ]
  },
  {
   "cell_type": "markdown",
   "metadata": {},
   "source": [
    "<i>Распределение похоже на нормальное с пиком около 17 Гигабайт для тарифа \"Смарт\" и 19 Гигабайт для тарифа \"Ультра\"</i>"
   ]
  },
  {
   "cell_type": "code",
   "execution_count": 38,
   "metadata": {},
   "outputs": [
    {
     "data": {
      "image/png": "[encoded data removed]",
      "text/plain": [
       "<Figure size 1440x360 with 1 Axes>"
      ]
     },
     "metadata": {
      "needs_background": "light"
     },
     "output_type": "display_data"
    },
    {
     "data": {
      "image/png": "[encoded data removed]",
      "text/plain": [
       "<Figure size 1440x360 with 1 Axes>"
      ]
     },
     "metadata": {
      "needs_background": "light"
     },
     "output_type": "display_data"
    }
   ],
   "source": [
    "table_h1_smart['message_count'].hist(color='green', bins=100,figsize=(20,5))\n",
    "plt.title('Медианное число исползованных сообщений в месяц, Smart')\n",
    "plt.show()\n",
    "table_h1_ultra['message_count'].hist(color='blue', bins=100,figsize=(20,5))\n",
    "plt.title('Медианное число исползованных сообщений в месяц, Ultra')\n",
    "plt.show()"
   ]
  },
  {
   "cell_type": "markdown",
   "metadata": {},
   "source": [
    "<i>Видим мого значений сообщений около нуля. Значит, сообщения людям в целом не нужны,этот формат устаревает</i>"
   ]
  },
  {
   "cell_type": "code",
   "execution_count": 39,
   "metadata": {
    "scrolled": true
   },
   "outputs": [
    {
     "name": "stdout",
     "output_type": "stream",
     "text": [
      "Тариф \"Смарт\"\n"
     ]
    },
    {
     "data": {
      "text/html": [
       "<div>\n",
       "<style scoped>\n",
       "    .dataframe tbody tr th:only-of-type {\n",
       "        vertical-align: middle;\n",
       "    }\n",
       "\n",
       "    .dataframe tbody tr th {\n",
       "        vertical-align: top;\n",
       "    }\n",
       "\n",
       "    .dataframe thead th {\n",
       "        text-align: right;\n",
       "    }\n",
       "</style>\n",
       "<table border=\"1\" class=\"dataframe\">\n",
       "  <thead>\n",
       "    <tr style=\"text-align: right;\">\n",
       "      <th></th>\n",
       "      <th>duration_sum</th>\n",
       "      <th>message_count</th>\n",
       "      <th>gb_used_sum</th>\n",
       "    </tr>\n",
       "  </thead>\n",
       "  <tbody>\n",
       "    <tr>\n",
       "      <th>mean</th>\n",
       "      <td>417.747534</td>\n",
       "      <td>33.369058</td>\n",
       "      <td>16.321525</td>\n",
       "    </tr>\n",
       "    <tr>\n",
       "      <th>std</th>\n",
       "      <td>190.476754</td>\n",
       "      <td>28.230396</td>\n",
       "      <td>5.756167</td>\n",
       "    </tr>\n",
       "    <tr>\n",
       "      <th>variance</th>\n",
       "      <td>36281.393836</td>\n",
       "      <td>796.955256</td>\n",
       "      <td>33.133453</td>\n",
       "    </tr>\n",
       "  </tbody>\n",
       "</table>\n",
       "</div>"
      ],
      "text/plain": [
       "          duration_sum  message_count  gb_used_sum\n",
       "mean        417.747534      33.369058    16.321525\n",
       "std         190.476754      28.230396     5.756167\n",
       "variance  36281.393836     796.955256    33.133453"
      ]
     },
     "metadata": {},
     "output_type": "display_data"
    },
    {
     "name": "stdout",
     "output_type": "stream",
     "text": [
      "Тариф \"Ультра\"\n"
     ]
    },
    {
     "data": {
      "text/html": [
       "<div>\n",
       "<style scoped>\n",
       "    .dataframe tbody tr th:only-of-type {\n",
       "        vertical-align: middle;\n",
       "    }\n",
       "\n",
       "    .dataframe tbody tr th {\n",
       "        vertical-align: top;\n",
       "    }\n",
       "\n",
       "    .dataframe thead th {\n",
       "        text-align: right;\n",
       "    }\n",
       "</style>\n",
       "<table border=\"1\" class=\"dataframe\">\n",
       "  <thead>\n",
       "    <tr style=\"text-align: right;\">\n",
       "      <th></th>\n",
       "      <th>duration_sum</th>\n",
       "      <th>message_count</th>\n",
       "      <th>gb_used_sum</th>\n",
       "    </tr>\n",
       "  </thead>\n",
       "  <tbody>\n",
       "    <tr>\n",
       "      <th>mean</th>\n",
       "      <td>526.089249</td>\n",
       "      <td>49.313387</td>\n",
       "      <td>19.474645</td>\n",
       "    </tr>\n",
       "    <tr>\n",
       "      <th>std</th>\n",
       "      <td>317.887549</td>\n",
       "      <td>47.806040</td>\n",
       "      <td>9.868057</td>\n",
       "    </tr>\n",
       "    <tr>\n",
       "      <th>variance</th>\n",
       "      <td>101052.493549</td>\n",
       "      <td>2285.417425</td>\n",
       "      <td>97.378544</td>\n",
       "    </tr>\n",
       "  </tbody>\n",
       "</table>\n",
       "</div>"
      ],
      "text/plain": [
       "           duration_sum  message_count  gb_used_sum\n",
       "mean         526.089249      49.313387    19.474645\n",
       "std          317.887549      47.806040     9.868057\n",
       "variance  101052.493549    2285.417425    97.378544"
      ]
     },
     "metadata": {},
     "output_type": "display_data"
    }
   ],
   "source": [
    "#Выведем таблицу со средним значением, стандартным отклонением, дисперсией для каждого тарифа\n",
    "print('Тариф \"Смарт\"')\n",
    "hh1 = table_h1_smart.describe().loc[['mean','std']]\n",
    "hh1.loc['variance','duration_sum']=hh1.loc['std','duration_sum']**2\n",
    "hh1.loc['variance','gb_used_sum']=hh1.loc['std','gb_used_sum']**2\n",
    "hh1.loc['variance','message_count']=hh1.loc['std','message_count']**2\n",
    "display(hh1)\n",
    "print('Тариф \"Ультра\"')\n",
    "hh2 = table_h1_ultra.describe().loc[['mean','std']]\n",
    "hh2.loc['variance','duration_sum']=hh2.loc['std','duration_sum']**2\n",
    "hh2.loc['variance','gb_used_sum']=hh2.loc['std','gb_used_sum']**2\n",
    "hh2.loc['variance','message_count']=hh2.loc['std','message_count']**2\n",
    "display(hh2)"
   ]
  },
  {
   "cell_type": "markdown",
   "metadata": {},
   "source": [
    "<b>Исходя из полученныз данных, пользователи тарифа \"Смарт\" не вырабатывают ресурс по длительности звонков в месяц и сообщениям, но превышают лимит по использованным гигабайтам трафика<br>\n",
    "Пользователи тарифа \"Ультра\", несмотрия на абонентскую плату в 3 раза выше чем 2 тарифа \"Смарт\", расходуют пакет больше ненамного, и имеют в среднем огромный невыработанный запас по пакету</b>"
   ]
  },
  {
   "cell_type": "markdown",
   "metadata": {},
   "source": [
    "## Проверка гипотез"
   ]
  },
  {
   "cell_type": "markdown",
   "metadata": {},
   "source": [
    "<i><b>Проверим гипотезу что средняя выручка тарифа \"Смарт\" равна средней выручке тарифа \"Ультра\"</i></b>"
   ]
  },
  {
   "cell_type": "code",
   "execution_count": 40,
   "metadata": {},
   "outputs": [
    {
     "data": {
      "text/html": [
       "<div>\n",
       "<style scoped>\n",
       "    .dataframe tbody tr th:only-of-type {\n",
       "        vertical-align: middle;\n",
       "    }\n",
       "\n",
       "    .dataframe tbody tr th {\n",
       "        vertical-align: top;\n",
       "    }\n",
       "\n",
       "    .dataframe thead th {\n",
       "        text-align: right;\n",
       "    }\n",
       "</style>\n",
       "<table border=\"1\" class=\"dataframe\">\n",
       "  <thead>\n",
       "    <tr style=\"text-align: right;\">\n",
       "      <th></th>\n",
       "      <th></th>\n",
       "      <th>median_proceeds</th>\n",
       "    </tr>\n",
       "    <tr>\n",
       "      <th>user_id</th>\n",
       "      <th>month</th>\n",
       "      <th></th>\n",
       "    </tr>\n",
       "  </thead>\n",
       "  <tbody>\n",
       "    <tr>\n",
       "      <th rowspan=\"2\" valign=\"top\">1001</th>\n",
       "      <th>11.0</th>\n",
       "      <td>1150.0</td>\n",
       "    </tr>\n",
       "    <tr>\n",
       "      <th>12.0</th>\n",
       "      <td>550.0</td>\n",
       "    </tr>\n",
       "    <tr>\n",
       "      <th rowspan=\"7\" valign=\"top\">1002</th>\n",
       "      <th>6.0</th>\n",
       "      <td>550.0</td>\n",
       "    </tr>\n",
       "    <tr>\n",
       "      <th>7.0</th>\n",
       "      <td>1150.0</td>\n",
       "    </tr>\n",
       "    <tr>\n",
       "      <th>8.0</th>\n",
       "      <td>1550.0</td>\n",
       "    </tr>\n",
       "    <tr>\n",
       "      <th>9.0</th>\n",
       "      <td>950.0</td>\n",
       "    </tr>\n",
       "    <tr>\n",
       "      <th>10.0</th>\n",
       "      <td>550.0</td>\n",
       "    </tr>\n",
       "    <tr>\n",
       "      <th>11.0</th>\n",
       "      <td>1350.0</td>\n",
       "    </tr>\n",
       "    <tr>\n",
       "      <th>12.0</th>\n",
       "      <td>1150.0</td>\n",
       "    </tr>\n",
       "    <tr>\n",
       "      <th>1005</th>\n",
       "      <th>1.0</th>\n",
       "      <td>550.0</td>\n",
       "    </tr>\n",
       "  </tbody>\n",
       "</table>\n",
       "</div>"
      ],
      "text/plain": [
       "               median_proceeds\n",
       "user_id month                 \n",
       "1001    11.0            1150.0\n",
       "        12.0             550.0\n",
       "1002    6.0              550.0\n",
       "        7.0             1150.0\n",
       "        8.0             1550.0\n",
       "        9.0              950.0\n",
       "        10.0             550.0\n",
       "        11.0            1350.0\n",
       "        12.0            1150.0\n",
       "1005    1.0              550.0"
      ]
     },
     "metadata": {},
     "output_type": "display_data"
    },
    {
     "data": {
      "text/html": [
       "<div>\n",
       "<style scoped>\n",
       "    .dataframe tbody tr th:only-of-type {\n",
       "        vertical-align: middle;\n",
       "    }\n",
       "\n",
       "    .dataframe tbody tr th {\n",
       "        vertical-align: top;\n",
       "    }\n",
       "\n",
       "    .dataframe thead th {\n",
       "        text-align: right;\n",
       "    }\n",
       "</style>\n",
       "<table border=\"1\" class=\"dataframe\">\n",
       "  <thead>\n",
       "    <tr style=\"text-align: right;\">\n",
       "      <th></th>\n",
       "      <th></th>\n",
       "      <th>median_proceeds</th>\n",
       "    </tr>\n",
       "    <tr>\n",
       "      <th>user_id</th>\n",
       "      <th>month</th>\n",
       "      <th></th>\n",
       "    </tr>\n",
       "  </thead>\n",
       "  <tbody>\n",
       "    <tr>\n",
       "      <th rowspan=\"8\" valign=\"top\">1000</th>\n",
       "      <th>5.0</th>\n",
       "      <td>1950.0</td>\n",
       "    </tr>\n",
       "    <tr>\n",
       "      <th>6.0</th>\n",
       "      <td>1950.0</td>\n",
       "    </tr>\n",
       "    <tr>\n",
       "      <th>7.0</th>\n",
       "      <td>1950.0</td>\n",
       "    </tr>\n",
       "    <tr>\n",
       "      <th>8.0</th>\n",
       "      <td>1950.0</td>\n",
       "    </tr>\n",
       "    <tr>\n",
       "      <th>9.0</th>\n",
       "      <td>1950.0</td>\n",
       "    </tr>\n",
       "    <tr>\n",
       "      <th>10.0</th>\n",
       "      <td>1950.0</td>\n",
       "    </tr>\n",
       "    <tr>\n",
       "      <th>11.0</th>\n",
       "      <td>1950.0</td>\n",
       "    </tr>\n",
       "    <tr>\n",
       "      <th>12.0</th>\n",
       "      <td>1950.0</td>\n",
       "    </tr>\n",
       "    <tr>\n",
       "      <th rowspan=\"2\" valign=\"top\">1003</th>\n",
       "      <th>8.0</th>\n",
       "      <td>1950.0</td>\n",
       "    </tr>\n",
       "    <tr>\n",
       "      <th>9.0</th>\n",
       "      <td>1950.0</td>\n",
       "    </tr>\n",
       "  </tbody>\n",
       "</table>\n",
       "</div>"
      ],
      "text/plain": [
       "               median_proceeds\n",
       "user_id month                 \n",
       "1000    5.0             1950.0\n",
       "        6.0             1950.0\n",
       "        7.0             1950.0\n",
       "        8.0             1950.0\n",
       "        9.0             1950.0\n",
       "        10.0            1950.0\n",
       "        11.0            1950.0\n",
       "        12.0            1950.0\n",
       "1003    8.0             1950.0\n",
       "        9.0             1950.0"
      ]
     },
     "metadata": {},
     "output_type": "display_data"
    }
   ],
   "source": [
    "#создадим Датасет только с клиентами на тарифе Ультра и только на тарифе Смарт\n",
    "data4_ultra = data4.loc[data4['tariff_name']=='ultra']\n",
    "data4_smart = data4.loc[data4['tariff_name']=='smart']\n",
    "\n",
    "data4_smart_proceeds=data4_smart.pivot_table(index=['user_id','month'], values=['proceeds'], aggfunc=['median'])\n",
    "data4_smart_proceeds.columns = ['median_proceeds']\n",
    "display(data4_smart_proceeds.head(10))\n",
    "data4_ultra_proceeds=data4_ultra.pivot_table(index=['user_id','month'], values=['proceeds'], aggfunc=['median'])\n",
    "data4_ultra_proceeds.columns = ['median_proceeds']\n",
    "display(data4_ultra_proceeds.head(10))"
   ]
  },
  {
   "cell_type": "markdown",
   "metadata": {},
   "source": [
    "<i>Нулевая гипотеза: Средняя выручка тарифа \"Смарт\" равна средней выручке тарифа \"Ультра\"<br>\n",
    "Альтернативная гипотеза: Средняя выручка тарифа \"Ультра\" отличается от средней выручки тарифа \"Смарт\"</i>"
   ]
  },
  {
   "cell_type": "code",
   "execution_count": 41,
   "metadata": {},
   "outputs": [
    {
     "name": "stdout",
     "output_type": "stream",
     "text": [
      "p-значение: 4.2606313931076085e-250\n"
     ]
    }
   ],
   "source": [
    "#Проверим гипотезу о равнестве выручки пользователей тарифов \"Ультра\"  и \"Смарт\"\n",
    "alpha = .05\n",
    "results = st.ttest_ind(data4_smart_proceeds['median_proceeds'], data4_ultra_proceeds['median_proceeds'], equal_var = False)\n",
    "print('p-значение:',results.pvalue)\n"
   ]
  },
  {
   "cell_type": "code",
   "execution_count": 42,
   "metadata": {},
   "outputs": [
    {
     "name": "stdout",
     "output_type": "stream",
     "text": [
      "Отвергаем нулевую гипотезу, принимаем альтернативную гипотезу\n"
     ]
    }
   ],
   "source": [
    "if (results.pvalue< alpha) and (data4_ultra_proceeds['median_proceeds'].median() > data4_smart_proceeds['median_proceeds'].median()): \n",
    "    print(\"Отвергаем нулевую гипотезу, принимаем альтернативную гипотезу\")\n",
    "elif (results.pvalue< alpha) and (data4_ultra_proceeds['median_proceeds'].median() < data4_smart_proceeds['median_proceeds'].median()): \n",
    "    print(\"Отвергаем нулевую гипотезу, отвергаем альтернативную гипотезу\")\n",
    "elif (results.pvalue > alpha):\n",
    "    print (\"Принимаем нулевую гипотезу\")"
   ]
  },
  {
   "cell_type": "markdown",
   "metadata": {},
   "source": [
    "<i>Нулевую гипотезу \"Средняя выручка тарифа \"Смарт\" равна сердней выручке тарифа \"Ультра\" отвергаем. <br>Альтернативную гипотеза \" Средняя выручка тарифа \"Ультра\" отличается от средней выручки тарифа \"Смарт\"принимаем.</i>"
   ]
  },
  {
   "cell_type": "markdown",
   "metadata": {},
   "source": [
    "<i><b>Проверим что выруучка пользователей из Москвы отличатеся от выручки пользователей из других регионов</b></i>"
   ]
  },
  {
   "cell_type": "markdown",
   "metadata": {},
   "source": [
    "<i>Нулевая гипотеза: Средняя выручка пользователей из Москвы равна средней выручке пользователей из других регионов.<br>\n",
    "Альтернативная гипотеза: Средняя выручка пользователей из Москвы отличается от средней выручки пользователей из других регионов.</i>"
   ]
  },
  {
   "cell_type": "code",
   "execution_count": 43,
   "metadata": {},
   "outputs": [
    {
     "data": {
      "text/html": [
       "<div>\n",
       "<style scoped>\n",
       "    .dataframe tbody tr th:only-of-type {\n",
       "        vertical-align: middle;\n",
       "    }\n",
       "\n",
       "    .dataframe tbody tr th {\n",
       "        vertical-align: top;\n",
       "    }\n",
       "\n",
       "    .dataframe thead th {\n",
       "        text-align: right;\n",
       "    }\n",
       "</style>\n",
       "<table border=\"1\" class=\"dataframe\">\n",
       "  <thead>\n",
       "    <tr style=\"text-align: right;\">\n",
       "      <th></th>\n",
       "      <th>user_id</th>\n",
       "      <th>month</th>\n",
       "      <th>message_count</th>\n",
       "      <th>gb_used_sum</th>\n",
       "      <th>calls_count</th>\n",
       "      <th>duration_sum</th>\n",
       "      <th>age</th>\n",
       "      <th>churn_date</th>\n",
       "      <th>city</th>\n",
       "      <th>first_name</th>\n",
       "      <th>...</th>\n",
       "      <th>minutes_included</th>\n",
       "      <th>rub_monthly_fee</th>\n",
       "      <th>rub_per_gb</th>\n",
       "      <th>rub_per_message</th>\n",
       "      <th>rub_per_minute</th>\n",
       "      <th>tariff_name</th>\n",
       "      <th>k_calls</th>\n",
       "      <th>k_GB</th>\n",
       "      <th>k_mess</th>\n",
       "      <th>proceeds</th>\n",
       "    </tr>\n",
       "  </thead>\n",
       "  <tbody>\n",
       "    <tr>\n",
       "      <th>0</th>\n",
       "      <td>1000</td>\n",
       "      <td>5.0</td>\n",
       "      <td>22.0</td>\n",
       "      <td>3.0</td>\n",
       "      <td>17.0</td>\n",
       "      <td>159.0</td>\n",
       "      <td>52</td>\n",
       "      <td>NaN</td>\n",
       "      <td>Краснодар</td>\n",
       "      <td>Рафаил</td>\n",
       "      <td>...</td>\n",
       "      <td>3000</td>\n",
       "      <td>1950</td>\n",
       "      <td>150</td>\n",
       "      <td>1</td>\n",
       "      <td>1</td>\n",
       "      <td>ultra</td>\n",
       "      <td>0.0</td>\n",
       "      <td>0.0</td>\n",
       "      <td>0.0</td>\n",
       "      <td>1950.0</td>\n",
       "    </tr>\n",
       "    <tr>\n",
       "      <th>1</th>\n",
       "      <td>1000</td>\n",
       "      <td>6.0</td>\n",
       "      <td>60.0</td>\n",
       "      <td>23.0</td>\n",
       "      <td>28.0</td>\n",
       "      <td>172.0</td>\n",
       "      <td>52</td>\n",
       "      <td>NaN</td>\n",
       "      <td>Краснодар</td>\n",
       "      <td>Рафаил</td>\n",
       "      <td>...</td>\n",
       "      <td>3000</td>\n",
       "      <td>1950</td>\n",
       "      <td>150</td>\n",
       "      <td>1</td>\n",
       "      <td>1</td>\n",
       "      <td>ultra</td>\n",
       "      <td>0.0</td>\n",
       "      <td>0.0</td>\n",
       "      <td>0.0</td>\n",
       "      <td>1950.0</td>\n",
       "    </tr>\n",
       "    <tr>\n",
       "      <th>2</th>\n",
       "      <td>1000</td>\n",
       "      <td>7.0</td>\n",
       "      <td>75.0</td>\n",
       "      <td>14.0</td>\n",
       "      <td>41.0</td>\n",
       "      <td>340.0</td>\n",
       "      <td>52</td>\n",
       "      <td>NaN</td>\n",
       "      <td>Краснодар</td>\n",
       "      <td>Рафаил</td>\n",
       "      <td>...</td>\n",
       "      <td>3000</td>\n",
       "      <td>1950</td>\n",
       "      <td>150</td>\n",
       "      <td>1</td>\n",
       "      <td>1</td>\n",
       "      <td>ultra</td>\n",
       "      <td>0.0</td>\n",
       "      <td>0.0</td>\n",
       "      <td>0.0</td>\n",
       "      <td>1950.0</td>\n",
       "    </tr>\n",
       "    <tr>\n",
       "      <th>3</th>\n",
       "      <td>1000</td>\n",
       "      <td>8.0</td>\n",
       "      <td>81.0</td>\n",
       "      <td>14.0</td>\n",
       "      <td>42.0</td>\n",
       "      <td>408.0</td>\n",
       "      <td>52</td>\n",
       "      <td>NaN</td>\n",
       "      <td>Краснодар</td>\n",
       "      <td>Рафаил</td>\n",
       "      <td>...</td>\n",
       "      <td>3000</td>\n",
       "      <td>1950</td>\n",
       "      <td>150</td>\n",
       "      <td>1</td>\n",
       "      <td>1</td>\n",
       "      <td>ultra</td>\n",
       "      <td>0.0</td>\n",
       "      <td>0.0</td>\n",
       "      <td>0.0</td>\n",
       "      <td>1950.0</td>\n",
       "    </tr>\n",
       "    <tr>\n",
       "      <th>4</th>\n",
       "      <td>1000</td>\n",
       "      <td>9.0</td>\n",
       "      <td>57.0</td>\n",
       "      <td>15.0</td>\n",
       "      <td>46.0</td>\n",
       "      <td>466.0</td>\n",
       "      <td>52</td>\n",
       "      <td>NaN</td>\n",
       "      <td>Краснодар</td>\n",
       "      <td>Рафаил</td>\n",
       "      <td>...</td>\n",
       "      <td>3000</td>\n",
       "      <td>1950</td>\n",
       "      <td>150</td>\n",
       "      <td>1</td>\n",
       "      <td>1</td>\n",
       "      <td>ultra</td>\n",
       "      <td>0.0</td>\n",
       "      <td>0.0</td>\n",
       "      <td>0.0</td>\n",
       "      <td>1950.0</td>\n",
       "    </tr>\n",
       "  </tbody>\n",
       "</table>\n",
       "<p>5 rows × 25 columns</p>\n",
       "</div>"
      ],
      "text/plain": [
       "   user_id  month  message_count  gb_used_sum  calls_count  duration_sum  age  \\\n",
       "0     1000    5.0           22.0          3.0         17.0         159.0   52   \n",
       "1     1000    6.0           60.0         23.0         28.0         172.0   52   \n",
       "2     1000    7.0           75.0         14.0         41.0         340.0   52   \n",
       "3     1000    8.0           81.0         14.0         42.0         408.0   52   \n",
       "4     1000    9.0           57.0         15.0         46.0         466.0   52   \n",
       "\n",
       "  churn_date       city first_name  ... minutes_included rub_monthly_fee  \\\n",
       "0        NaN  Краснодар     Рафаил  ...             3000            1950   \n",
       "1        NaN  Краснодар     Рафаил  ...             3000            1950   \n",
       "2        NaN  Краснодар     Рафаил  ...             3000            1950   \n",
       "3        NaN  Краснодар     Рафаил  ...             3000            1950   \n",
       "4        NaN  Краснодар     Рафаил  ...             3000            1950   \n",
       "\n",
       "  rub_per_gb  rub_per_message  rub_per_minute  tariff_name  k_calls  k_GB  \\\n",
       "0        150                1               1        ultra      0.0   0.0   \n",
       "1        150                1               1        ultra      0.0   0.0   \n",
       "2        150                1               1        ultra      0.0   0.0   \n",
       "3        150                1               1        ultra      0.0   0.0   \n",
       "4        150                1               1        ultra      0.0   0.0   \n",
       "\n",
       "   k_mess  proceeds  \n",
       "0     0.0    1950.0  \n",
       "1     0.0    1950.0  \n",
       "2     0.0    1950.0  \n",
       "3     0.0    1950.0  \n",
       "4     0.0    1950.0  \n",
       "\n",
       "[5 rows x 25 columns]"
      ]
     },
     "metadata": {},
     "output_type": "display_data"
    },
    {
     "data": {
      "text/html": [
       "<div>\n",
       "<style scoped>\n",
       "    .dataframe tbody tr th:only-of-type {\n",
       "        vertical-align: middle;\n",
       "    }\n",
       "\n",
       "    .dataframe tbody tr th {\n",
       "        vertical-align: top;\n",
       "    }\n",
       "\n",
       "    .dataframe thead th {\n",
       "        text-align: right;\n",
       "    }\n",
       "</style>\n",
       "<table border=\"1\" class=\"dataframe\">\n",
       "  <thead>\n",
       "    <tr style=\"text-align: right;\">\n",
       "      <th></th>\n",
       "      <th></th>\n",
       "      <th>median_proceeds</th>\n",
       "    </tr>\n",
       "    <tr>\n",
       "      <th>user_id</th>\n",
       "      <th>month</th>\n",
       "      <th></th>\n",
       "    </tr>\n",
       "  </thead>\n",
       "  <tbody>\n",
       "    <tr>\n",
       "      <th rowspan=\"2\" valign=\"top\">1001</th>\n",
       "      <th>11.0</th>\n",
       "      <td>1150.0</td>\n",
       "    </tr>\n",
       "    <tr>\n",
       "      <th>12.0</th>\n",
       "      <td>550.0</td>\n",
       "    </tr>\n",
       "    <tr>\n",
       "      <th rowspan=\"5\" valign=\"top\">1003</th>\n",
       "      <th>8.0</th>\n",
       "      <td>1950.0</td>\n",
       "    </tr>\n",
       "    <tr>\n",
       "      <th>9.0</th>\n",
       "      <td>1950.0</td>\n",
       "    </tr>\n",
       "    <tr>\n",
       "      <th>10.0</th>\n",
       "      <td>1950.0</td>\n",
       "    </tr>\n",
       "    <tr>\n",
       "      <th>11.0</th>\n",
       "      <td>1950.0</td>\n",
       "    </tr>\n",
       "    <tr>\n",
       "      <th>12.0</th>\n",
       "      <td>1950.0</td>\n",
       "    </tr>\n",
       "    <tr>\n",
       "      <th rowspan=\"3\" valign=\"top\">1007</th>\n",
       "      <th>4.0</th>\n",
       "      <td>550.0</td>\n",
       "    </tr>\n",
       "    <tr>\n",
       "      <th>5.0</th>\n",
       "      <td>1150.0</td>\n",
       "    </tr>\n",
       "    <tr>\n",
       "      <th>6.0</th>\n",
       "      <td>685.0</td>\n",
       "    </tr>\n",
       "  </tbody>\n",
       "</table>\n",
       "</div>"
      ],
      "text/plain": [
       "               median_proceeds\n",
       "user_id month                 \n",
       "1001    11.0            1150.0\n",
       "        12.0             550.0\n",
       "1003    8.0             1950.0\n",
       "        9.0             1950.0\n",
       "        10.0            1950.0\n",
       "        11.0            1950.0\n",
       "        12.0            1950.0\n",
       "1007    4.0              550.0\n",
       "        5.0             1150.0\n",
       "        6.0              685.0"
      ]
     },
     "metadata": {},
     "output_type": "display_data"
    },
    {
     "data": {
      "text/html": [
       "<div>\n",
       "<style scoped>\n",
       "    .dataframe tbody tr th:only-of-type {\n",
       "        vertical-align: middle;\n",
       "    }\n",
       "\n",
       "    .dataframe tbody tr th {\n",
       "        vertical-align: top;\n",
       "    }\n",
       "\n",
       "    .dataframe thead th {\n",
       "        text-align: right;\n",
       "    }\n",
       "</style>\n",
       "<table border=\"1\" class=\"dataframe\">\n",
       "  <thead>\n",
       "    <tr style=\"text-align: right;\">\n",
       "      <th></th>\n",
       "      <th></th>\n",
       "      <th>median_proceeds</th>\n",
       "    </tr>\n",
       "    <tr>\n",
       "      <th>user_id</th>\n",
       "      <th>month</th>\n",
       "      <th></th>\n",
       "    </tr>\n",
       "  </thead>\n",
       "  <tbody>\n",
       "    <tr>\n",
       "      <th rowspan=\"8\" valign=\"top\">1000</th>\n",
       "      <th>5.0</th>\n",
       "      <td>1950.0</td>\n",
       "    </tr>\n",
       "    <tr>\n",
       "      <th>6.0</th>\n",
       "      <td>1950.0</td>\n",
       "    </tr>\n",
       "    <tr>\n",
       "      <th>7.0</th>\n",
       "      <td>1950.0</td>\n",
       "    </tr>\n",
       "    <tr>\n",
       "      <th>8.0</th>\n",
       "      <td>1950.0</td>\n",
       "    </tr>\n",
       "    <tr>\n",
       "      <th>9.0</th>\n",
       "      <td>1950.0</td>\n",
       "    </tr>\n",
       "    <tr>\n",
       "      <th>10.0</th>\n",
       "      <td>1950.0</td>\n",
       "    </tr>\n",
       "    <tr>\n",
       "      <th>11.0</th>\n",
       "      <td>1950.0</td>\n",
       "    </tr>\n",
       "    <tr>\n",
       "      <th>12.0</th>\n",
       "      <td>1950.0</td>\n",
       "    </tr>\n",
       "    <tr>\n",
       "      <th rowspan=\"2\" valign=\"top\">1002</th>\n",
       "      <th>6.0</th>\n",
       "      <td>550.0</td>\n",
       "    </tr>\n",
       "    <tr>\n",
       "      <th>7.0</th>\n",
       "      <td>1150.0</td>\n",
       "    </tr>\n",
       "  </tbody>\n",
       "</table>\n",
       "</div>"
      ],
      "text/plain": [
       "               median_proceeds\n",
       "user_id month                 \n",
       "1000    5.0             1950.0\n",
       "        6.0             1950.0\n",
       "        7.0             1950.0\n",
       "        8.0             1950.0\n",
       "        9.0             1950.0\n",
       "        10.0            1950.0\n",
       "        11.0            1950.0\n",
       "        12.0            1950.0\n",
       "1002    6.0              550.0\n",
       "        7.0             1150.0"
      ]
     },
     "metadata": {},
     "output_type": "display_data"
    }
   ],
   "source": [
    "#Создадим датасеты с пользователями только в г. Москва\n",
    "display(data4.head())\n",
    "data4_moscow = data4.loc[data4['city']=='Москва']\n",
    "data4_other_cities = data4.loc[data4['city']!='Москва']\n",
    "\n",
    "#print(data4.info())\n",
    "#print(data4_moscow.info())\n",
    "#print(data4_other_cities.info())\n",
    "data4_moscow_proceeds=data4_moscow.pivot_table(index=['user_id','month'], values=['proceeds'], aggfunc=['median'])\n",
    "data4_moscow_proceeds.columns = ['median_proceeds']\n",
    "display(data4_moscow_proceeds.head(10))\n",
    "#data4_ultra_proceeds['median_proceeds'].value_counts()\n",
    "data4_other_cities_proceeds=data4_other_cities.pivot_table(index=['user_id','month'], values=['proceeds'], aggfunc=['median'])\n",
    "data4_other_cities_proceeds.columns = ['median_proceeds']\n",
    "display(data4_other_cities_proceeds.head(10))"
   ]
  },
  {
   "cell_type": "code",
   "execution_count": 44,
   "metadata": {},
   "outputs": [
    {
     "name": "stdout",
     "output_type": "stream",
     "text": [
      "p-значение: 0.5257376663729298\n",
      "Принимаем нулевую гипотезу\n"
     ]
    }
   ],
   "source": [
    "alpha = .05\n",
    "results_cities = st.ttest_ind(data4_moscow_proceeds['median_proceeds'], data4_other_cities_proceeds['median_proceeds'], equal_var = False)\n",
    "print('p-значение:',results_cities.pvalue)\n",
    "\n",
    "if (results_cities.pvalue< alpha) and (data4_moscow_proceeds['median_proceeds'].median() > data4_other_cities_proceeds['median_proceeds'].median()): \n",
    "    print(\"Отвергаем нулевую гипотезу, принимаем альтернативную гипотезу\")\n",
    "if (results_cities.pvalue< alpha) and (data4_moscow_proceeds['median_proceeds'].median() < data4_other_cities_proceeds['median_proceeds'].median()): \n",
    "    print(\"Отвергаем нулевую гипотезу, отвергаем альтернативную гипотезу\")\n",
    "if (results_cities.pvalue > alpha):\n",
    "    print (\"Принимаем нулевую гипотезу\")"
   ]
  },
  {
   "cell_type": "markdown",
   "metadata": {},
   "source": [
    "<i>Нулевую гипотезу Средняя выручка пользователей из Москвы равна средней выручке пользователей из других регионов\" не отвергаем. <br>Альтернативную гипотезу \"Средняя выручка пользователей из Москвы отличается от средней выручки пользователей из других регионов\" отвергаем</i>"
   ]
  },
  {
   "cell_type": "markdown",
   "metadata": {},
   "source": [
    "## Общий вывод"
   ]
  },
  {
   "cell_type": "markdown",
   "metadata": {},
   "source": [
    "<i><b>Исходя из полученных данных, видим что клиенты тарифа Ультра обычно не перерасходуют свой лимит. <br>\n",
    "Это означает, что самый выгодный тариф для \"Мегалайн\" - Ультра, поскольку в среднем его пользователи не загружают мощности, отведенные под него, но и платят в 3 раза больше. <br>\n",
    "В свою очередь, для пользователя самый выгодный тариф - \"Смарт\". Но пользователи тарифа смарт в среднем превышают лимит по интернету, что мы можем использовать в свою пользу.\n",
    "<br>\n",
    "Исходя из проверки гипотез, видим что средняя выручка пользователей из Москвы равна средней выручке пользователей из других регионов. При том что доход в г. Москва несопоставимо больше. Можно предлагать пользователям из Москвы премиальные услуги, пробовать ненавязчиво монетизировать эту разницу.\n",
    "</b></i>"
   ]
  }
 ],
 "metadata": {
  "ExecuteTimeLog": [
   {
    "duration": 91,
    "start_time": "2021-07-21T15:37:27.586Z"
   },
   {
    "duration": 1344,
    "start_time": "2021-07-21T15:37:44.355Z"
   },
   {
    "duration": 465,
    "start_time": "2021-07-21T15:38:05.300Z"
   },
   {
    "duration": 219,
    "start_time": "2021-07-21T15:38:23.023Z"
   },
   {
    "duration": 514,
    "start_time": "2021-07-21T15:39:26.071Z"
   },
   {
    "duration": 583,
    "start_time": "2021-07-21T15:40:48.406Z"
   },
   {
    "duration": 57,
    "start_time": "2021-07-21T16:47:51.619Z"
   },
   {
    "duration": 564,
    "start_time": "2021-07-21T16:47:54.183Z"
   },
   {
    "duration": 111,
    "start_time": "2021-07-21T16:51:12.045Z"
   },
   {
    "duration": 523,
    "start_time": "2021-07-21T16:51:18.088Z"
   },
   {
    "duration": 93,
    "start_time": "2021-07-21T16:53:54.253Z"
   },
   {
    "duration": 19,
    "start_time": "2021-07-21T16:53:58.413Z"
   },
   {
    "duration": 26,
    "start_time": "2021-07-21T16:56:52.333Z"
   },
   {
    "duration": 37,
    "start_time": "2021-07-21T16:57:58.959Z"
   },
   {
    "duration": 2255,
    "start_time": "2021-07-21T16:58:29.914Z"
   },
   {
    "duration": 98,
    "start_time": "2021-07-21T17:00:34.327Z"
   },
   {
    "duration": 1914,
    "start_time": "2021-07-21T17:00:41.085Z"
   },
   {
    "duration": 1828,
    "start_time": "2021-07-21T17:01:05.016Z"
   },
   {
    "duration": 87,
    "start_time": "2021-07-21T17:05:55.752Z"
   },
   {
    "duration": 62,
    "start_time": "2021-07-21T17:06:05.642Z"
   },
   {
    "duration": 51,
    "start_time": "2021-07-21T17:07:12.249Z"
   },
   {
    "duration": 32,
    "start_time": "2021-07-21T17:07:42.368Z"
   },
   {
    "duration": 100,
    "start_time": "2021-07-21T17:09:56.062Z"
   },
   {
    "duration": 416,
    "start_time": "2021-07-21T17:11:13.491Z"
   },
   {
    "duration": 27,
    "start_time": "2021-07-21T17:11:25.067Z"
   },
   {
    "duration": 257,
    "start_time": "2021-07-21T17:11:34.791Z"
   },
   {
    "duration": 323,
    "start_time": "2021-07-21T17:12:25.595Z"
   },
   {
    "duration": 27,
    "start_time": "2021-07-21T17:12:31.661Z"
   },
   {
    "duration": 34,
    "start_time": "2021-07-21T17:12:42.078Z"
   },
   {
    "duration": 61,
    "start_time": "2021-07-21T17:13:11.322Z"
   },
   {
    "duration": 29,
    "start_time": "2021-07-21T17:13:33.985Z"
   },
   {
    "duration": 35,
    "start_time": "2021-07-21T17:13:52.969Z"
   },
   {
    "duration": 31,
    "start_time": "2021-07-21T17:14:38.881Z"
   },
   {
    "duration": 41,
    "start_time": "2021-07-21T17:15:12.970Z"
   },
   {
    "duration": 17,
    "start_time": "2021-07-21T17:15:58.608Z"
   },
   {
    "duration": 20,
    "start_time": "2021-07-21T17:16:00.764Z"
   },
   {
    "duration": 21,
    "start_time": "2021-07-21T17:16:16.545Z"
   },
   {
    "duration": 24,
    "start_time": "2021-07-21T17:16:44.451Z"
   },
   {
    "duration": 30,
    "start_time": "2021-07-21T17:20:27.909Z"
   },
   {
    "duration": 24,
    "start_time": "2021-07-21T17:20:51.331Z"
   },
   {
    "duration": 37,
    "start_time": "2021-07-21T17:23:16.427Z"
   },
   {
    "duration": 42,
    "start_time": "2021-07-21T17:23:25.386Z"
   },
   {
    "duration": 1408,
    "start_time": "2021-07-22T09:28:45.283Z"
   },
   {
    "duration": 24,
    "start_time": "2021-07-22T09:28:46.693Z"
   },
   {
    "duration": 29,
    "start_time": "2021-07-22T09:28:46.720Z"
   },
   {
    "duration": 55,
    "start_time": "2021-07-22T09:28:46.752Z"
   },
   {
    "duration": 15,
    "start_time": "2021-07-22T09:28:46.809Z"
   },
   {
    "duration": 69,
    "start_time": "2021-07-22T09:28:46.827Z"
   },
   {
    "duration": 90,
    "start_time": "2021-07-22T09:28:46.898Z"
   },
   {
    "duration": 64,
    "start_time": "2021-07-22T09:28:46.993Z"
   },
   {
    "duration": 47,
    "start_time": "2021-07-22T09:28:47.059Z"
   },
   {
    "duration": 46,
    "start_time": "2021-07-22T09:28:47.108Z"
   },
   {
    "duration": 46,
    "start_time": "2021-07-22T09:28:47.156Z"
   },
   {
    "duration": 40,
    "start_time": "2021-07-22T09:28:47.204Z"
   },
   {
    "duration": 457,
    "start_time": "2021-07-22T09:29:37.121Z"
   },
   {
    "duration": 77,
    "start_time": "2021-07-22T09:29:58.936Z"
   },
   {
    "duration": 366,
    "start_time": "2021-07-22T09:47:54.410Z"
   },
   {
    "duration": 13,
    "start_time": "2021-07-22T09:48:03.232Z"
   },
   {
    "duration": 1369,
    "start_time": "2021-07-22T09:58:27.014Z"
   },
   {
    "duration": 24,
    "start_time": "2021-07-22T09:58:28.386Z"
   },
   {
    "duration": 30,
    "start_time": "2021-07-22T09:58:28.413Z"
   },
   {
    "duration": 54,
    "start_time": "2021-07-22T09:58:28.446Z"
   },
   {
    "duration": 16,
    "start_time": "2021-07-22T09:58:28.502Z"
   },
   {
    "duration": 68,
    "start_time": "2021-07-22T09:58:28.520Z"
   },
   {
    "duration": 92,
    "start_time": "2021-07-22T09:58:28.591Z"
   },
   {
    "duration": 58,
    "start_time": "2021-07-22T09:58:28.686Z"
   },
   {
    "duration": 51,
    "start_time": "2021-07-22T09:58:28.747Z"
   },
   {
    "duration": 44,
    "start_time": "2021-07-22T09:58:28.800Z"
   },
   {
    "duration": 43,
    "start_time": "2021-07-22T09:58:28.847Z"
   },
   {
    "duration": 100,
    "start_time": "2021-07-22T09:58:28.893Z"
   },
   {
    "duration": 31,
    "start_time": "2021-07-22T09:58:28.995Z"
   },
   {
    "duration": 23,
    "start_time": "2021-07-22T10:01:46.783Z"
   },
   {
    "duration": 418,
    "start_time": "2021-07-22T10:02:56.848Z"
   },
   {
    "duration": 128,
    "start_time": "2021-07-22T10:04:09.100Z"
   },
   {
    "duration": 414,
    "start_time": "2021-07-22T10:04:17.919Z"
   },
   {
    "duration": 864,
    "start_time": "2021-07-22T10:04:55.675Z"
   },
   {
    "duration": 979,
    "start_time": "2021-07-22T10:06:38.594Z"
   },
   {
    "duration": 819,
    "start_time": "2021-07-22T10:06:55.784Z"
   },
   {
    "duration": 1198,
    "start_time": "2021-07-22T10:07:37.904Z"
   },
   {
    "duration": 1256,
    "start_time": "2021-07-22T10:07:48.325Z"
   },
   {
    "duration": 106,
    "start_time": "2021-07-22T10:09:31.185Z"
   },
   {
    "duration": 818,
    "start_time": "2021-07-22T10:09:48.568Z"
   },
   {
    "duration": 1168,
    "start_time": "2021-07-22T10:10:04.084Z"
   },
   {
    "duration": 811,
    "start_time": "2021-07-22T10:10:13.415Z"
   },
   {
    "duration": 868,
    "start_time": "2021-07-22T10:10:30.327Z"
   },
   {
    "duration": 846,
    "start_time": "2021-07-22T10:11:09.061Z"
   },
   {
    "duration": 1380,
    "start_time": "2021-07-22T10:22:57.290Z"
   },
   {
    "duration": 24,
    "start_time": "2021-07-22T10:22:58.673Z"
   },
   {
    "duration": 32,
    "start_time": "2021-07-22T10:22:58.700Z"
   },
   {
    "duration": 53,
    "start_time": "2021-07-22T10:22:58.735Z"
   },
   {
    "duration": 16,
    "start_time": "2021-07-22T10:22:58.791Z"
   },
   {
    "duration": 40,
    "start_time": "2021-07-22T10:22:58.809Z"
   },
   {
    "duration": 79,
    "start_time": "2021-07-22T10:22:58.882Z"
   },
   {
    "duration": 75,
    "start_time": "2021-07-22T10:22:58.964Z"
   },
   {
    "duration": 51,
    "start_time": "2021-07-22T10:22:59.041Z"
   },
   {
    "duration": 44,
    "start_time": "2021-07-22T10:22:59.095Z"
   },
   {
    "duration": 46,
    "start_time": "2021-07-22T10:22:59.141Z"
   },
   {
    "duration": 95,
    "start_time": "2021-07-22T10:22:59.190Z"
   },
   {
    "duration": 30,
    "start_time": "2021-07-22T10:22:59.287Z"
   },
   {
    "duration": 22,
    "start_time": "2021-07-22T10:22:59.319Z"
   },
   {
    "duration": 192,
    "start_time": "2021-07-22T11:42:55.888Z"
   },
   {
    "duration": 416,
    "start_time": "2021-07-22T11:43:01.588Z"
   },
   {
    "duration": 401,
    "start_time": "2021-07-22T11:43:18.218Z"
   },
   {
    "duration": 1371,
    "start_time": "2021-07-22T11:43:21.729Z"
   },
   {
    "duration": 22,
    "start_time": "2021-07-22T11:43:23.103Z"
   },
   {
    "duration": 30,
    "start_time": "2021-07-22T11:43:23.128Z"
   },
   {
    "duration": 43,
    "start_time": "2021-07-22T11:43:23.161Z"
   },
   {
    "duration": 17,
    "start_time": "2021-07-22T11:43:23.206Z"
   },
   {
    "duration": 73,
    "start_time": "2021-07-22T11:43:23.225Z"
   },
   {
    "duration": 92,
    "start_time": "2021-07-22T11:43:23.300Z"
   },
   {
    "duration": 61,
    "start_time": "2021-07-22T11:43:23.397Z"
   },
   {
    "duration": 48,
    "start_time": "2021-07-22T11:43:23.461Z"
   },
   {
    "duration": 70,
    "start_time": "2021-07-22T11:43:23.512Z"
   },
   {
    "duration": 24,
    "start_time": "2021-07-22T11:43:23.585Z"
   },
   {
    "duration": 105,
    "start_time": "2021-07-22T11:43:23.612Z"
   },
   {
    "duration": 29,
    "start_time": "2021-07-22T11:43:23.719Z"
   },
   {
    "duration": 46,
    "start_time": "2021-07-22T11:43:23.751Z"
   },
   {
    "duration": 871,
    "start_time": "2021-07-22T11:43:23.799Z"
   },
   {
    "duration": 823,
    "start_time": "2021-07-22T11:43:42.083Z"
   },
   {
    "duration": 54,
    "start_time": "2021-07-22T11:45:25.269Z"
   },
   {
    "duration": 37,
    "start_time": "2021-07-22T11:45:34.733Z"
   },
   {
    "duration": 41,
    "start_time": "2021-07-22T11:45:41.301Z"
   },
   {
    "duration": 39,
    "start_time": "2021-07-22T11:45:53.936Z"
   },
   {
    "duration": 340,
    "start_time": "2021-07-22T11:50:57.461Z"
   },
   {
    "duration": 313,
    "start_time": "2021-07-22T11:51:02.245Z"
   },
   {
    "duration": 406,
    "start_time": "2021-07-22T11:51:40.521Z"
   },
   {
    "duration": 39,
    "start_time": "2021-07-22T11:52:39.402Z"
   },
   {
    "duration": 6,
    "start_time": "2021-07-22T11:52:58.016Z"
   },
   {
    "duration": 5,
    "start_time": "2021-07-22T11:53:04.411Z"
   },
   {
    "duration": 6,
    "start_time": "2021-07-22T11:53:08.892Z"
   },
   {
    "duration": 443,
    "start_time": "2021-07-22T11:53:24.516Z"
   },
   {
    "duration": 329,
    "start_time": "2021-07-22T11:53:44.871Z"
   },
   {
    "duration": 380,
    "start_time": "2021-07-22T11:53:59.755Z"
   },
   {
    "duration": 706,
    "start_time": "2021-07-22T11:55:05.266Z"
   },
   {
    "duration": 12,
    "start_time": "2021-07-22T11:55:30.216Z"
   },
   {
    "duration": 21,
    "start_time": "2021-07-22T11:55:35.317Z"
   },
   {
    "duration": 379,
    "start_time": "2021-07-22T11:57:10.476Z"
   },
   {
    "duration": 669,
    "start_time": "2021-07-22T11:57:16.132Z"
   },
   {
    "duration": 30,
    "start_time": "2021-07-22T11:57:16.804Z"
   },
   {
    "duration": 70,
    "start_time": "2021-07-22T11:57:16.838Z"
   },
   {
    "duration": 40,
    "start_time": "2021-07-22T11:57:16.912Z"
   },
   {
    "duration": 40,
    "start_time": "2021-07-22T11:57:16.954Z"
   },
   {
    "duration": 43,
    "start_time": "2021-07-22T11:57:16.996Z"
   },
   {
    "duration": 114,
    "start_time": "2021-07-22T11:57:17.041Z"
   },
   {
    "duration": 79,
    "start_time": "2021-07-22T11:57:17.159Z"
   },
   {
    "duration": 51,
    "start_time": "2021-07-22T11:57:17.242Z"
   },
   {
    "duration": 86,
    "start_time": "2021-07-22T11:57:17.296Z"
   },
   {
    "duration": 38,
    "start_time": "2021-07-22T11:57:17.386Z"
   },
   {
    "duration": 138,
    "start_time": "2021-07-22T11:57:17.427Z"
   },
   {
    "duration": 7,
    "start_time": "2021-07-22T11:57:17.583Z"
   },
   {
    "duration": 35,
    "start_time": "2021-07-22T11:57:17.593Z"
   },
   {
    "duration": 875,
    "start_time": "2021-07-22T11:57:17.631Z"
   },
   {
    "duration": 6,
    "start_time": "2021-07-22T11:57:20.302Z"
   },
   {
    "duration": 7,
    "start_time": "2021-07-22T11:57:38.098Z"
   },
   {
    "duration": 331,
    "start_time": "2021-07-22T11:58:10.204Z"
   },
   {
    "duration": 5,
    "start_time": "2021-07-22T11:58:22.439Z"
   },
   {
    "duration": 23,
    "start_time": "2021-07-22T11:58:26.421Z"
   },
   {
    "duration": 6,
    "start_time": "2021-07-22T12:06:00.077Z"
   },
   {
    "duration": 23,
    "start_time": "2021-07-22T12:06:06.223Z"
   },
   {
    "duration": 1073,
    "start_time": "2021-07-22T12:09:50.387Z"
   },
   {
    "duration": 813,
    "start_time": "2021-07-22T12:09:57.132Z"
   },
   {
    "duration": 861,
    "start_time": "2021-07-22T12:10:23.809Z"
   },
   {
    "duration": 1046,
    "start_time": "2021-07-22T12:10:50.808Z"
   },
   {
    "duration": 862,
    "start_time": "2021-07-22T12:11:22.629Z"
   },
   {
    "duration": 923,
    "start_time": "2021-07-22T12:11:31.467Z"
   },
   {
    "duration": 877,
    "start_time": "2021-07-22T12:12:54.136Z"
   },
   {
    "duration": 1024,
    "start_time": "2021-07-22T12:16:53.273Z"
   },
   {
    "duration": 1013,
    "start_time": "2021-07-22T12:24:41.094Z"
   },
   {
    "duration": 22,
    "start_time": "2021-07-22T12:27:11.117Z"
   },
   {
    "duration": 22,
    "start_time": "2021-07-22T12:28:48.366Z"
   },
   {
    "duration": 55,
    "start_time": "2021-07-22T12:29:53.328Z"
   },
   {
    "duration": 24,
    "start_time": "2021-07-22T12:31:22.419Z"
   },
   {
    "duration": 33,
    "start_time": "2021-07-22T12:33:47.994Z"
   },
   {
    "duration": 377,
    "start_time": "2021-07-22T12:34:11.706Z"
   },
   {
    "duration": 7,
    "start_time": "2021-07-22T12:34:17.286Z"
   },
   {
    "duration": 5,
    "start_time": "2021-07-22T12:34:24.461Z"
   },
   {
    "duration": 6,
    "start_time": "2021-07-22T12:34:28.863Z"
   },
   {
    "duration": 399,
    "start_time": "2021-07-22T12:34:40.182Z"
   },
   {
    "duration": 362,
    "start_time": "2021-07-22T12:34:44.623Z"
   },
   {
    "duration": 8,
    "start_time": "2021-07-22T12:34:49.172Z"
   },
   {
    "duration": 309,
    "start_time": "2021-07-22T14:43:34.043Z"
   },
   {
    "duration": 1378,
    "start_time": "2021-07-22T14:43:41.617Z"
   },
   {
    "duration": 21,
    "start_time": "2021-07-22T14:43:42.997Z"
   },
   {
    "duration": 50,
    "start_time": "2021-07-22T14:43:43.021Z"
   },
   {
    "duration": 28,
    "start_time": "2021-07-22T14:43:43.074Z"
   },
   {
    "duration": 18,
    "start_time": "2021-07-22T14:43:43.105Z"
   },
   {
    "duration": 41,
    "start_time": "2021-07-22T14:43:43.157Z"
   },
   {
    "duration": 100,
    "start_time": "2021-07-22T14:43:43.200Z"
   },
   {
    "duration": 74,
    "start_time": "2021-07-22T14:43:43.303Z"
   },
   {
    "duration": 26,
    "start_time": "2021-07-22T14:43:43.380Z"
   },
   {
    "duration": 64,
    "start_time": "2021-07-22T14:43:43.409Z"
   },
   {
    "duration": 25,
    "start_time": "2021-07-22T14:43:43.476Z"
   },
   {
    "duration": 101,
    "start_time": "2021-07-22T14:43:43.503Z"
   },
   {
    "duration": 282,
    "start_time": "2021-07-22T14:43:43.606Z"
   },
   {
    "duration": -76,
    "start_time": "2021-07-22T14:43:43.967Z"
   },
   {
    "duration": -91,
    "start_time": "2021-07-22T14:43:43.983Z"
   },
   {
    "duration": -105,
    "start_time": "2021-07-22T14:43:43.998Z"
   },
   {
    "duration": -115,
    "start_time": "2021-07-22T14:43:44.010Z"
   },
   {
    "duration": -128,
    "start_time": "2021-07-22T14:43:44.025Z"
   },
   {
    "duration": -140,
    "start_time": "2021-07-22T14:43:44.038Z"
   },
   {
    "duration": -162,
    "start_time": "2021-07-22T14:43:44.062Z"
   },
   {
    "duration": 24,
    "start_time": "2021-07-22T14:44:00.027Z"
   },
   {
    "duration": 24,
    "start_time": "2021-07-22T14:44:07.479Z"
   },
   {
    "duration": 31,
    "start_time": "2021-07-22T14:44:07.505Z"
   },
   {
    "duration": 854,
    "start_time": "2021-07-22T14:44:07.539Z"
   },
   {
    "duration": 3,
    "start_time": "2021-07-22T14:44:08.396Z"
   },
   {
    "duration": 55,
    "start_time": "2021-07-22T14:44:08.402Z"
   },
   {
    "duration": 24,
    "start_time": "2021-07-22T14:44:08.460Z"
   },
   {
    "duration": 92,
    "start_time": "2021-07-22T14:44:08.486Z"
   },
   {
    "duration": 5,
    "start_time": "2021-07-22T14:44:08.581Z"
   },
   {
    "duration": 6,
    "start_time": "2021-07-22T14:44:50.317Z"
   },
   {
    "duration": 271,
    "start_time": "2021-07-22T14:44:55.118Z"
   },
   {
    "duration": 6,
    "start_time": "2021-07-22T14:44:59.606Z"
   },
   {
    "duration": 32,
    "start_time": "2021-07-22T14:45:33.743Z"
   },
   {
    "duration": 21,
    "start_time": "2021-07-22T14:45:46.662Z"
   },
   {
    "duration": 6,
    "start_time": "2021-07-22T14:47:06.023Z"
   },
   {
    "duration": 20,
    "start_time": "2021-07-22T14:49:52.739Z"
   },
   {
    "duration": 284,
    "start_time": "2021-07-22T14:50:01.387Z"
   },
   {
    "duration": 22,
    "start_time": "2021-07-22T14:50:06.691Z"
   },
   {
    "duration": 6,
    "start_time": "2021-07-22T14:55:13.153Z"
   },
   {
    "duration": 25,
    "start_time": "2021-07-22T15:01:47.404Z"
   },
   {
    "duration": 99,
    "start_time": "2021-07-22T15:02:01.922Z"
   },
   {
    "duration": 23,
    "start_time": "2021-07-22T15:02:10.609Z"
   },
   {
    "duration": 30,
    "start_time": "2021-07-22T15:03:01.269Z"
   },
   {
    "duration": 1621,
    "start_time": "2021-07-22T15:37:33.137Z"
   },
   {
    "duration": 1926,
    "start_time": "2021-07-22T15:37:39.815Z"
   },
   {
    "duration": 13,
    "start_time": "2021-07-22T15:39:21.011Z"
   },
   {
    "duration": 533,
    "start_time": "2021-07-22T15:39:45.704Z"
   },
   {
    "duration": 11,
    "start_time": "2021-07-22T15:39:51.332Z"
   },
   {
    "duration": 550,
    "start_time": "2021-07-22T15:40:01.572Z"
   },
   {
    "duration": 10,
    "start_time": "2021-07-22T15:40:26.783Z"
   },
   {
    "duration": 294,
    "start_time": "2021-07-22T15:41:10.681Z"
   },
   {
    "duration": 536,
    "start_time": "2021-07-22T15:41:17.564Z"
   },
   {
    "duration": 18,
    "start_time": "2021-07-22T15:41:18.103Z"
   },
   {
    "duration": 42,
    "start_time": "2021-07-22T15:41:18.124Z"
   },
   {
    "duration": 25,
    "start_time": "2021-07-22T15:41:18.168Z"
   },
   {
    "duration": 17,
    "start_time": "2021-07-22T15:41:18.195Z"
   },
   {
    "duration": 73,
    "start_time": "2021-07-22T15:41:18.214Z"
   },
   {
    "duration": 83,
    "start_time": "2021-07-22T15:41:18.289Z"
   },
   {
    "duration": 57,
    "start_time": "2021-07-22T15:41:18.375Z"
   },
   {
    "duration": 26,
    "start_time": "2021-07-22T15:41:18.457Z"
   },
   {
    "duration": 41,
    "start_time": "2021-07-22T15:41:18.485Z"
   },
   {
    "duration": 48,
    "start_time": "2021-07-22T15:41:18.529Z"
   },
   {
    "duration": 101,
    "start_time": "2021-07-22T15:41:18.580Z"
   },
   {
    "duration": 22,
    "start_time": "2021-07-22T15:41:18.683Z"
   },
   {
    "duration": 50,
    "start_time": "2021-07-22T15:41:18.707Z"
   },
   {
    "duration": 816,
    "start_time": "2021-07-22T15:41:18.759Z"
   },
   {
    "duration": 3,
    "start_time": "2021-07-22T15:41:19.577Z"
   },
   {
    "duration": 38,
    "start_time": "2021-07-22T15:41:19.583Z"
   },
   {
    "duration": 48,
    "start_time": "2021-07-22T15:41:19.624Z"
   },
   {
    "duration": 83,
    "start_time": "2021-07-22T15:41:19.674Z"
   },
   {
    "duration": 23,
    "start_time": "2021-07-22T15:41:19.759Z"
   },
   {
    "duration": 5,
    "start_time": "2021-07-22T15:41:19.784Z"
   },
   {
    "duration": 30,
    "start_time": "2021-07-22T15:41:19.791Z"
   },
   {
    "duration": 30,
    "start_time": "2021-07-22T15:41:19.826Z"
   },
   {
    "duration": 1657,
    "start_time": "2021-07-22T15:41:19.859Z"
   },
   {
    "duration": 10,
    "start_time": "2021-07-22T15:41:21.519Z"
   },
   {
    "duration": 21,
    "start_time": "2021-07-22T15:42:36.464Z"
   },
   {
    "duration": 347,
    "start_time": "2021-07-22T15:43:14.641Z"
   },
   {
    "duration": 1418,
    "start_time": "2021-07-22T15:43:44.911Z"
   },
   {
    "duration": 25,
    "start_time": "2021-07-22T15:43:46.333Z"
   },
   {
    "duration": 33,
    "start_time": "2021-07-22T15:43:46.361Z"
   },
   {
    "duration": 28,
    "start_time": "2021-07-22T15:43:46.396Z"
   },
   {
    "duration": 17,
    "start_time": "2021-07-22T15:43:46.457Z"
   },
   {
    "duration": 41,
    "start_time": "2021-07-22T15:43:46.477Z"
   },
   {
    "duration": 103,
    "start_time": "2021-07-22T15:43:46.557Z"
   },
   {
    "duration": 58,
    "start_time": "2021-07-22T15:43:46.664Z"
   },
   {
    "duration": 57,
    "start_time": "2021-07-22T15:43:46.726Z"
   },
   {
    "duration": 91,
    "start_time": "2021-07-22T15:43:46.786Z"
   },
   {
    "duration": 35,
    "start_time": "2021-07-22T15:43:46.880Z"
   },
   {
    "duration": 152,
    "start_time": "2021-07-22T15:43:46.918Z"
   },
   {
    "duration": 30,
    "start_time": "2021-07-22T15:43:47.073Z"
   },
   {
    "duration": 66,
    "start_time": "2021-07-22T15:43:47.105Z"
   },
   {
    "duration": 1007,
    "start_time": "2021-07-22T15:43:47.173Z"
   },
   {
    "duration": 4,
    "start_time": "2021-07-22T15:43:48.183Z"
   },
   {
    "duration": 46,
    "start_time": "2021-07-22T15:43:48.189Z"
   },
   {
    "duration": 38,
    "start_time": "2021-07-22T15:43:48.238Z"
   },
   {
    "duration": 108,
    "start_time": "2021-07-22T15:43:48.279Z"
   },
   {
    "duration": 35,
    "start_time": "2021-07-22T15:43:48.390Z"
   },
   {
    "duration": 28,
    "start_time": "2021-07-22T15:43:48.428Z"
   },
   {
    "duration": 34,
    "start_time": "2021-07-22T15:43:48.459Z"
   },
   {
    "duration": 4,
    "start_time": "2021-07-22T15:43:48.498Z"
   },
   {
    "duration": 2465,
    "start_time": "2021-07-22T15:43:48.505Z"
   },
   {
    "duration": 316,
    "start_time": "2021-07-22T15:43:50.657Z"
   },
   {
    "duration": 378,
    "start_time": "2021-07-22T15:44:18.949Z"
   },
   {
    "duration": 1372,
    "start_time": "2021-07-22T15:44:23.776Z"
   },
   {
    "duration": 23,
    "start_time": "2021-07-22T15:44:25.151Z"
   },
   {
    "duration": 39,
    "start_time": "2021-07-22T15:44:25.178Z"
   },
   {
    "duration": 71,
    "start_time": "2021-07-22T15:44:25.220Z"
   },
   {
    "duration": 23,
    "start_time": "2021-07-22T15:44:25.294Z"
   },
   {
    "duration": 79,
    "start_time": "2021-07-22T15:44:25.321Z"
   },
   {
    "duration": 106,
    "start_time": "2021-07-22T15:44:25.403Z"
   },
   {
    "duration": 75,
    "start_time": "2021-07-22T15:44:25.513Z"
   },
   {
    "duration": 27,
    "start_time": "2021-07-22T15:44:25.591Z"
   },
   {
    "duration": 92,
    "start_time": "2021-07-22T15:44:25.621Z"
   },
   {
    "duration": 49,
    "start_time": "2021-07-22T15:44:25.717Z"
   },
   {
    "duration": 132,
    "start_time": "2021-07-22T15:44:25.769Z"
   },
   {
    "duration": 53,
    "start_time": "2021-07-22T15:44:25.905Z"
   },
   {
    "duration": 54,
    "start_time": "2021-07-22T15:44:25.961Z"
   },
   {
    "duration": 1549,
    "start_time": "2021-07-22T15:44:26.018Z"
   },
   {
    "duration": 4,
    "start_time": "2021-07-22T15:44:27.570Z"
   },
   {
    "duration": 44,
    "start_time": "2021-07-22T15:44:27.577Z"
   },
   {
    "duration": 59,
    "start_time": "2021-07-22T15:44:27.624Z"
   },
   {
    "duration": 116,
    "start_time": "2021-07-22T15:44:27.685Z"
   },
   {
    "duration": 33,
    "start_time": "2021-07-22T15:44:27.804Z"
   },
   {
    "duration": 6,
    "start_time": "2021-07-22T15:44:27.857Z"
   },
   {
    "duration": 29,
    "start_time": "2021-07-22T15:44:27.866Z"
   },
   {
    "duration": 3,
    "start_time": "2021-07-22T15:44:27.899Z"
   },
   {
    "duration": 324,
    "start_time": "2021-07-22T15:44:37.312Z"
   },
   {
    "duration": 1581,
    "start_time": "2021-07-22T15:44:52.250Z"
   },
   {
    "duration": 25,
    "start_time": "2021-07-22T15:44:53.834Z"
   },
   {
    "duration": 44,
    "start_time": "2021-07-22T15:44:53.862Z"
   },
   {
    "duration": 61,
    "start_time": "2021-07-22T15:44:53.910Z"
   },
   {
    "duration": 23,
    "start_time": "2021-07-22T15:44:53.974Z"
   },
   {
    "duration": 77,
    "start_time": "2021-07-22T15:44:54.000Z"
   },
   {
    "duration": 125,
    "start_time": "2021-07-22T15:44:54.080Z"
   },
   {
    "duration": 109,
    "start_time": "2021-07-22T15:44:54.210Z"
   },
   {
    "duration": 50,
    "start_time": "2021-07-22T15:44:54.322Z"
   },
   {
    "duration": 68,
    "start_time": "2021-07-22T15:44:54.375Z"
   },
   {
    "duration": 35,
    "start_time": "2021-07-22T15:44:54.457Z"
   },
   {
    "duration": 108,
    "start_time": "2021-07-22T15:44:54.494Z"
   },
   {
    "duration": 23,
    "start_time": "2021-07-22T15:44:54.604Z"
   },
   {
    "duration": 52,
    "start_time": "2021-07-22T15:44:54.630Z"
   },
   {
    "duration": 1005,
    "start_time": "2021-07-22T15:44:54.685Z"
   },
   {
    "duration": 3,
    "start_time": "2021-07-22T15:44:55.693Z"
   },
   {
    "duration": 67,
    "start_time": "2021-07-22T15:44:55.698Z"
   },
   {
    "duration": 36,
    "start_time": "2021-07-22T15:44:55.768Z"
   },
   {
    "duration": 91,
    "start_time": "2021-07-22T15:44:55.807Z"
   },
   {
    "duration": 26,
    "start_time": "2021-07-22T15:44:55.900Z"
   },
   {
    "duration": 29,
    "start_time": "2021-07-22T15:44:55.929Z"
   },
   {
    "duration": 28,
    "start_time": "2021-07-22T15:44:55.961Z"
   },
   {
    "duration": 3,
    "start_time": "2021-07-22T15:44:55.994Z"
   },
   {
    "duration": 1687,
    "start_time": "2021-07-22T15:44:56.000Z"
   },
   {
    "duration": 19,
    "start_time": "2021-07-22T15:44:57.689Z"
   },
   {
    "duration": 795,
    "start_time": "2021-07-22T15:47:06.536Z"
   },
   {
    "duration": 30,
    "start_time": "2021-07-22T15:47:07.334Z"
   },
   {
    "duration": 50,
    "start_time": "2021-07-22T15:47:07.368Z"
   },
   {
    "duration": 61,
    "start_time": "2021-07-22T15:47:07.421Z"
   },
   {
    "duration": 19,
    "start_time": "2021-07-22T15:47:07.485Z"
   },
   {
    "duration": 83,
    "start_time": "2021-07-22T15:47:07.506Z"
   },
   {
    "duration": 65,
    "start_time": "2021-07-22T15:47:12.777Z"
   },
   {
    "duration": 112,
    "start_time": "2021-07-22T15:47:18.295Z"
   },
   {
    "duration": 16,
    "start_time": "2021-07-22T16:18:17.506Z"
   },
   {
    "duration": 534,
    "start_time": "2021-07-22T16:18:56.211Z"
   },
   {
    "duration": 18,
    "start_time": "2021-07-22T16:18:56.748Z"
   },
   {
    "duration": 32,
    "start_time": "2021-07-22T16:18:56.769Z"
   },
   {
    "duration": 53,
    "start_time": "2021-07-22T16:18:56.803Z"
   },
   {
    "duration": 17,
    "start_time": "2021-07-22T16:18:56.859Z"
   },
   {
    "duration": 40,
    "start_time": "2021-07-22T16:18:56.878Z"
   },
   {
    "duration": 392,
    "start_time": "2021-07-22T16:18:56.921Z"
   },
   {
    "duration": 263,
    "start_time": "2021-07-22T16:18:57.055Z"
   },
   {
    "duration": 246,
    "start_time": "2021-07-22T16:18:57.074Z"
   },
   {
    "duration": 222,
    "start_time": "2021-07-22T16:18:57.100Z"
   },
   {
    "duration": 204,
    "start_time": "2021-07-22T16:18:57.120Z"
   },
   {
    "duration": 187,
    "start_time": "2021-07-22T16:18:57.139Z"
   },
   {
    "duration": 148,
    "start_time": "2021-07-22T16:18:57.180Z"
   },
   {
    "duration": 129,
    "start_time": "2021-07-22T16:18:57.201Z"
   },
   {
    "duration": 114,
    "start_time": "2021-07-22T16:18:57.219Z"
   },
   {
    "duration": 100,
    "start_time": "2021-07-22T16:18:57.234Z"
   },
   {
    "duration": 88,
    "start_time": "2021-07-22T16:18:57.248Z"
   },
   {
    "duration": 78,
    "start_time": "2021-07-22T16:18:57.259Z"
   },
   {
    "duration": 62,
    "start_time": "2021-07-22T16:18:57.276Z"
   },
   {
    "duration": 52,
    "start_time": "2021-07-22T16:18:57.288Z"
   },
   {
    "duration": 40,
    "start_time": "2021-07-22T16:18:57.301Z"
   },
   {
    "duration": -135,
    "start_time": "2021-07-22T16:18:57.477Z"
   },
   {
    "duration": -151,
    "start_time": "2021-07-22T16:18:57.494Z"
   },
   {
    "duration": -161,
    "start_time": "2021-07-22T16:18:57.506Z"
   },
   {
    "duration": -173,
    "start_time": "2021-07-22T16:18:57.519Z"
   },
   {
    "duration": -184,
    "start_time": "2021-07-22T16:18:57.531Z"
   },
   {
    "duration": 3,
    "start_time": "2021-07-22T16:19:14.359Z"
   },
   {
    "duration": 91,
    "start_time": "2021-07-22T16:19:14.365Z"
   },
   {
    "duration": 53,
    "start_time": "2021-07-22T16:19:14.458Z"
   },
   {
    "duration": 49,
    "start_time": "2021-07-22T16:19:14.514Z"
   },
   {
    "duration": 45,
    "start_time": "2021-07-22T16:19:14.565Z"
   },
   {
    "duration": 50,
    "start_time": "2021-07-22T16:19:14.612Z"
   },
   {
    "duration": 92,
    "start_time": "2021-07-22T16:19:14.666Z"
   },
   {
    "duration": 21,
    "start_time": "2021-07-22T16:19:14.761Z"
   },
   {
    "duration": 27,
    "start_time": "2021-07-22T16:19:14.784Z"
   },
   {
    "duration": 861,
    "start_time": "2021-07-22T16:19:14.813Z"
   },
   {
    "duration": 3,
    "start_time": "2021-07-22T16:19:15.676Z"
   },
   {
    "duration": 60,
    "start_time": "2021-07-22T16:19:15.681Z"
   },
   {
    "duration": 32,
    "start_time": "2021-07-22T16:19:15.744Z"
   },
   {
    "duration": 93,
    "start_time": "2021-07-22T16:19:15.779Z"
   },
   {
    "duration": 22,
    "start_time": "2021-07-22T16:19:15.875Z"
   },
   {
    "duration": 5,
    "start_time": "2021-07-22T16:19:15.899Z"
   },
   {
    "duration": 51,
    "start_time": "2021-07-22T16:19:15.906Z"
   },
   {
    "duration": 4,
    "start_time": "2021-07-22T16:19:15.960Z"
   },
   {
    "duration": 1657,
    "start_time": "2021-07-22T16:19:15.968Z"
   },
   {
    "duration": 28,
    "start_time": "2021-07-22T16:19:17.627Z"
   },
   {
    "duration": 20,
    "start_time": "2021-07-22T16:19:17.658Z"
   },
   {
    "duration": 854,
    "start_time": "2021-07-22T16:22:41.088Z"
   },
   {
    "duration": 265,
    "start_time": "2021-07-22T16:22:49.459Z"
   },
   {
    "duration": 16,
    "start_time": "2021-07-22T16:23:00.857Z"
   },
   {
    "duration": 19,
    "start_time": "2021-07-22T16:23:05.110Z"
   },
   {
    "duration": 280,
    "start_time": "2021-07-22T16:23:59.667Z"
   },
   {
    "duration": 272,
    "start_time": "2021-07-22T16:24:16.069Z"
   },
   {
    "duration": 697,
    "start_time": "2021-07-22T16:24:33.138Z"
   },
   {
    "duration": 74,
    "start_time": "2021-07-22T16:24:45.403Z"
   },
   {
    "duration": 66,
    "start_time": "2021-07-22T16:25:15.923Z"
   },
   {
    "duration": 64,
    "start_time": "2021-07-22T16:31:33.223Z"
   },
   {
    "duration": 281,
    "start_time": "2021-07-22T16:32:30.424Z"
   },
   {
    "duration": 15,
    "start_time": "2021-07-22T16:32:34.895Z"
   },
   {
    "duration": 256,
    "start_time": "2021-07-22T16:32:55.195Z"
   },
   {
    "duration": 24,
    "start_time": "2021-07-22T16:33:10.965Z"
   },
   {
    "duration": 34,
    "start_time": "2021-07-22T16:33:18.970Z"
   },
   {
    "duration": 257,
    "start_time": "2021-07-22T16:39:33.487Z"
   },
   {
    "duration": 263,
    "start_time": "2021-07-22T16:39:44.201Z"
   },
   {
    "duration": 270,
    "start_time": "2021-07-22T16:39:47.897Z"
   },
   {
    "duration": 26,
    "start_time": "2021-07-22T16:39:57.320Z"
   },
   {
    "duration": 38,
    "start_time": "2021-07-22T16:40:03.514Z"
   },
   {
    "duration": 41,
    "start_time": "2021-07-22T16:43:33.673Z"
   },
   {
    "duration": 56,
    "start_time": "2021-07-22T16:43:52.956Z"
   },
   {
    "duration": 45,
    "start_time": "2021-07-22T16:44:14.955Z"
   },
   {
    "duration": 38,
    "start_time": "2021-07-22T16:45:08.100Z"
   },
   {
    "duration": 24,
    "start_time": "2021-07-22T16:45:32.010Z"
   },
   {
    "duration": 336,
    "start_time": "2021-07-23T07:20:41.851Z"
   },
   {
    "duration": 1440,
    "start_time": "2021-07-23T07:20:45.997Z"
   },
   {
    "duration": 24,
    "start_time": "2021-07-23T07:20:47.440Z"
   },
   {
    "duration": 33,
    "start_time": "2021-07-23T07:20:47.469Z"
   },
   {
    "duration": 61,
    "start_time": "2021-07-23T07:20:47.506Z"
   },
   {
    "duration": 17,
    "start_time": "2021-07-23T07:20:47.569Z"
   },
   {
    "duration": 77,
    "start_time": "2021-07-23T07:20:47.589Z"
   },
   {
    "duration": 4,
    "start_time": "2021-07-23T07:20:47.669Z"
   },
   {
    "duration": 92,
    "start_time": "2021-07-23T07:20:47.675Z"
   },
   {
    "duration": 60,
    "start_time": "2021-07-23T07:20:47.771Z"
   },
   {
    "duration": 27,
    "start_time": "2021-07-23T07:20:47.855Z"
   },
   {
    "duration": 70,
    "start_time": "2021-07-23T07:20:47.885Z"
   },
   {
    "duration": 27,
    "start_time": "2021-07-23T07:20:47.958Z"
   },
   {
    "duration": 117,
    "start_time": "2021-07-23T07:20:47.988Z"
   },
   {
    "duration": 48,
    "start_time": "2021-07-23T07:20:48.108Z"
   },
   {
    "duration": 33,
    "start_time": "2021-07-23T07:20:48.159Z"
   },
   {
    "duration": 888,
    "start_time": "2021-07-23T07:20:48.196Z"
   },
   {
    "duration": 3,
    "start_time": "2021-07-23T07:20:49.087Z"
   },
   {
    "duration": 45,
    "start_time": "2021-07-23T07:20:49.092Z"
   },
   {
    "duration": 25,
    "start_time": "2021-07-23T07:20:49.155Z"
   },
   {
    "duration": 96,
    "start_time": "2021-07-23T07:20:49.182Z"
   },
   {
    "duration": 26,
    "start_time": "2021-07-23T07:20:49.281Z"
   },
   {
    "duration": 6,
    "start_time": "2021-07-23T07:20:49.310Z"
   },
   {
    "duration": 28,
    "start_time": "2021-07-23T07:20:49.354Z"
   },
   {
    "duration": 4,
    "start_time": "2021-07-23T07:20:49.385Z"
   },
   {
    "duration": 1635,
    "start_time": "2021-07-23T07:20:49.391Z"
   },
   {
    "duration": 33,
    "start_time": "2021-07-23T07:20:51.028Z"
   },
   {
    "duration": 77,
    "start_time": "2021-07-23T07:20:51.066Z"
   },
   {
    "duration": 37,
    "start_time": "2021-07-23T07:20:51.146Z"
   },
   {
    "duration": 15,
    "start_time": "2021-07-23T07:20:51.185Z"
   },
   {
    "duration": 68,
    "start_time": "2021-07-23T07:20:51.203Z"
   },
   {
    "duration": 24,
    "start_time": "2021-07-23T07:20:51.273Z"
   },
   {
    "duration": 72,
    "start_time": "2021-07-23T07:20:51.300Z"
   },
   {
    "duration": 33,
    "start_time": "2021-07-23T07:26:21.544Z"
   },
   {
    "duration": 567,
    "start_time": "2021-07-23T07:26:29.375Z"
   },
   {
    "duration": 19,
    "start_time": "2021-07-23T07:26:29.945Z"
   },
   {
    "duration": 31,
    "start_time": "2021-07-23T07:26:29.968Z"
   },
   {
    "duration": 52,
    "start_time": "2021-07-23T07:26:30.002Z"
   },
   {
    "duration": 41,
    "start_time": "2021-07-23T07:26:30.057Z"
   },
   {
    "duration": 51,
    "start_time": "2021-07-23T07:26:30.100Z"
   },
   {
    "duration": 2,
    "start_time": "2021-07-23T07:26:30.156Z"
   },
   {
    "duration": 102,
    "start_time": "2021-07-23T07:26:30.161Z"
   },
   {
    "duration": 56,
    "start_time": "2021-07-23T07:26:30.267Z"
   },
   {
    "duration": 31,
    "start_time": "2021-07-23T07:26:30.326Z"
   },
   {
    "duration": 44,
    "start_time": "2021-07-23T07:26:30.360Z"
   },
   {
    "duration": 23,
    "start_time": "2021-07-23T07:26:30.407Z"
   },
   {
    "duration": 130,
    "start_time": "2021-07-23T07:26:30.432Z"
   },
   {
    "duration": 22,
    "start_time": "2021-07-23T07:26:30.565Z"
   },
   {
    "duration": 52,
    "start_time": "2021-07-23T07:26:30.589Z"
   },
   {
    "duration": 1021,
    "start_time": "2021-07-23T07:26:30.644Z"
   },
   {
    "duration": 3,
    "start_time": "2021-07-23T07:26:31.668Z"
   },
   {
    "duration": 51,
    "start_time": "2021-07-23T07:26:31.674Z"
   },
   {
    "duration": 40,
    "start_time": "2021-07-23T07:26:31.728Z"
   },
   {
    "duration": 91,
    "start_time": "2021-07-23T07:26:31.771Z"
   },
   {
    "duration": 24,
    "start_time": "2021-07-23T07:26:31.865Z"
   },
   {
    "duration": 11,
    "start_time": "2021-07-23T07:26:31.892Z"
   },
   {
    "duration": 50,
    "start_time": "2021-07-23T07:26:31.906Z"
   },
   {
    "duration": 3,
    "start_time": "2021-07-23T07:26:31.960Z"
   },
   {
    "duration": 1728,
    "start_time": "2021-07-23T07:26:31.965Z"
   },
   {
    "duration": 19,
    "start_time": "2021-07-23T07:26:33.696Z"
   },
   {
    "duration": 91,
    "start_time": "2021-07-23T07:26:33.719Z"
   },
   {
    "duration": 46,
    "start_time": "2021-07-23T07:26:33.812Z"
   },
   {
    "duration": 16,
    "start_time": "2021-07-23T07:26:33.860Z"
   },
   {
    "duration": 48,
    "start_time": "2021-07-23T07:26:33.878Z"
   },
   {
    "duration": 45,
    "start_time": "2021-07-23T07:26:33.929Z"
   },
   {
    "duration": 43,
    "start_time": "2021-07-23T07:26:33.976Z"
   },
   {
    "duration": 111,
    "start_time": "2021-07-23T07:26:34.022Z"
   },
   {
    "duration": 39,
    "start_time": "2021-07-23T07:48:45.984Z"
   },
   {
    "duration": 17,
    "start_time": "2021-07-23T07:48:59.330Z"
   },
   {
    "duration": 34,
    "start_time": "2021-07-23T07:49:05.894Z"
   },
   {
    "duration": 46,
    "start_time": "2021-07-23T07:49:15.966Z"
   },
   {
    "duration": 35,
    "start_time": "2021-07-23T07:49:19.535Z"
   },
   {
    "duration": 37,
    "start_time": "2021-07-23T07:49:33.359Z"
   },
   {
    "duration": 39,
    "start_time": "2021-07-23T07:49:39.911Z"
   },
   {
    "duration": 1302,
    "start_time": "2021-07-23T08:01:51.243Z"
   },
   {
    "duration": 307,
    "start_time": "2021-07-23T08:03:14.506Z"
   },
   {
    "duration": 1193,
    "start_time": "2021-07-23T08:03:56.078Z"
   },
   {
    "duration": 16,
    "start_time": "2021-07-23T08:07:45.147Z"
   },
   {
    "duration": 47,
    "start_time": "2021-07-23T08:07:49.424Z"
   },
   {
    "duration": 15,
    "start_time": "2021-07-23T08:46:24.230Z"
   },
   {
    "duration": -605,
    "start_time": "2021-07-23T08:49:14.088Z"
   },
   {
    "duration": 97,
    "start_time": "2021-07-23T08:49:14.732Z"
   },
   {
    "duration": 112,
    "start_time": "2021-07-23T08:49:19.268Z"
   },
   {
    "duration": 6,
    "start_time": "2021-07-23T08:49:24.244Z"
   },
   {
    "duration": -578,
    "start_time": "2021-07-23T08:49:39.447Z"
   },
   {
    "duration": 268,
    "start_time": "2021-07-23T08:51:19.079Z"
   },
   {
    "duration": 1203,
    "start_time": "2021-07-23T08:51:42.425Z"
   },
   {
    "duration": 99,
    "start_time": "2021-07-23T08:52:08.763Z"
   },
   {
    "duration": 96,
    "start_time": "2021-07-23T08:52:20.056Z"
   },
   {
    "duration": 1138,
    "start_time": "2021-07-23T08:52:23.591Z"
   },
   {
    "duration": 1185,
    "start_time": "2021-07-23T08:52:43.118Z"
   },
   {
    "duration": 5,
    "start_time": "2021-07-23T08:53:24.393Z"
   },
   {
    "duration": 5120,
    "start_time": "2021-07-23T08:53:32.721Z"
   },
   {
    "duration": 94,
    "start_time": "2021-07-23T08:54:11.935Z"
   },
   {
    "duration": 7,
    "start_time": "2021-07-23T08:54:18.614Z"
   },
   {
    "duration": 4,
    "start_time": "2021-07-23T08:54:31.480Z"
   },
   {
    "duration": 36,
    "start_time": "2021-07-23T08:54:36.500Z"
   },
   {
    "duration": 43,
    "start_time": "2021-07-23T08:55:09.917Z"
   },
   {
    "duration": 40,
    "start_time": "2021-07-23T08:55:25.076Z"
   },
   {
    "duration": 39,
    "start_time": "2021-07-23T08:56:18.002Z"
   },
   {
    "duration": 40,
    "start_time": "2021-07-23T09:00:52.474Z"
   },
   {
    "duration": 103,
    "start_time": "2021-07-23T09:04:24.553Z"
   },
   {
    "duration": 322,
    "start_time": "2021-07-23T09:05:12.888Z"
   },
   {
    "duration": 54,
    "start_time": "2021-07-23T09:06:23.152Z"
   },
   {
    "duration": 12,
    "start_time": "2021-07-23T09:08:31.383Z"
   },
   {
    "duration": 49,
    "start_time": "2021-07-23T09:08:41.345Z"
   },
   {
    "duration": 18,
    "start_time": "2021-07-23T09:09:29.479Z"
   },
   {
    "duration": 8,
    "start_time": "2021-07-23T09:09:39.482Z"
   },
   {
    "duration": 7532,
    "start_time": "2021-07-23T09:10:32.801Z"
   },
   {
    "duration": -627,
    "start_time": "2021-07-23T09:10:40.963Z"
   },
   {
    "duration": 13,
    "start_time": "2021-07-23T09:10:47.823Z"
   },
   {
    "duration": 105,
    "start_time": "2021-07-23T09:11:05.483Z"
   },
   {
    "duration": 21,
    "start_time": "2021-07-23T09:11:14.532Z"
   },
   {
    "duration": 20,
    "start_time": "2021-07-23T09:11:41.208Z"
   },
   {
    "duration": 25,
    "start_time": "2021-07-23T09:12:16.184Z"
   },
   {
    "duration": 28,
    "start_time": "2021-07-23T09:17:15.732Z"
   },
   {
    "duration": 27,
    "start_time": "2021-07-23T09:18:24.949Z"
   },
   {
    "duration": 555,
    "start_time": "2021-07-23T09:18:38.451Z"
   },
   {
    "duration": 18,
    "start_time": "2021-07-23T09:18:39.009Z"
   },
   {
    "duration": 44,
    "start_time": "2021-07-23T09:18:39.030Z"
   },
   {
    "duration": 27,
    "start_time": "2021-07-23T09:18:39.077Z"
   },
   {
    "duration": 18,
    "start_time": "2021-07-23T09:18:39.106Z"
   },
   {
    "duration": 76,
    "start_time": "2021-07-23T09:18:39.126Z"
   },
   {
    "duration": 3,
    "start_time": "2021-07-23T09:18:39.205Z"
   },
   {
    "duration": 98,
    "start_time": "2021-07-23T09:18:39.212Z"
   },
   {
    "duration": 74,
    "start_time": "2021-07-23T09:18:39.314Z"
   },
   {
    "duration": 27,
    "start_time": "2021-07-23T09:18:39.390Z"
   },
   {
    "duration": 64,
    "start_time": "2021-07-23T09:18:39.419Z"
   },
   {
    "duration": 25,
    "start_time": "2021-07-23T09:18:39.486Z"
   },
   {
    "duration": 110,
    "start_time": "2021-07-23T09:18:39.514Z"
   },
   {
    "duration": 45,
    "start_time": "2021-07-23T09:18:39.626Z"
   },
   {
    "duration": 32,
    "start_time": "2021-07-23T09:18:39.674Z"
   },
   {
    "duration": 850,
    "start_time": "2021-07-23T09:18:39.709Z"
   },
   {
    "duration": 4,
    "start_time": "2021-07-23T09:18:40.562Z"
   },
   {
    "duration": 37,
    "start_time": "2021-07-23T09:18:40.568Z"
   },
   {
    "duration": 58,
    "start_time": "2021-07-23T09:18:40.607Z"
   },
   {
    "duration": 68,
    "start_time": "2021-07-23T09:18:40.667Z"
   },
   {
    "duration": 22,
    "start_time": "2021-07-23T09:18:40.754Z"
   },
   {
    "duration": 5,
    "start_time": "2021-07-23T09:18:40.778Z"
   },
   {
    "duration": 24,
    "start_time": "2021-07-23T09:18:40.788Z"
   },
   {
    "duration": 3,
    "start_time": "2021-07-23T09:18:40.815Z"
   },
   {
    "duration": 1842,
    "start_time": "2021-07-23T09:18:40.855Z"
   },
   {
    "duration": 19,
    "start_time": "2021-07-23T09:18:42.699Z"
   },
   {
    "duration": 85,
    "start_time": "2021-07-23T09:18:42.720Z"
   },
   {
    "duration": 48,
    "start_time": "2021-07-23T09:18:42.808Z"
   },
   {
    "duration": 16,
    "start_time": "2021-07-23T09:18:42.858Z"
   },
   {
    "duration": 41,
    "start_time": "2021-07-23T09:18:42.877Z"
   },
   {
    "duration": 56,
    "start_time": "2021-07-23T09:18:42.920Z"
   },
   {
    "duration": 41,
    "start_time": "2021-07-23T09:18:42.978Z"
   },
   {
    "duration": 116,
    "start_time": "2021-07-23T09:18:43.021Z"
   },
   {
    "duration": 42,
    "start_time": "2021-07-23T09:18:43.140Z"
   },
   {
    "duration": 100,
    "start_time": "2021-07-23T09:18:43.184Z"
   },
   {
    "duration": -954,
    "start_time": "2021-07-23T09:18:44.240Z"
   },
   {
    "duration": -975,
    "start_time": "2021-07-23T09:18:44.263Z"
   },
   {
    "duration": -1011,
    "start_time": "2021-07-23T09:18:44.301Z"
   },
   {
    "duration": -1034,
    "start_time": "2021-07-23T09:18:44.325Z"
   },
   {
    "duration": -1049,
    "start_time": "2021-07-23T09:18:44.342Z"
   },
   {
    "duration": 26,
    "start_time": "2021-07-23T09:18:50.225Z"
   },
   {
    "duration": 195,
    "start_time": "2021-07-23T09:19:20.316Z"
   },
   {
    "duration": 106,
    "start_time": "2021-07-23T09:19:25.403Z"
   },
   {
    "duration": 29,
    "start_time": "2021-07-23T09:19:34.649Z"
   },
   {
    "duration": 97,
    "start_time": "2021-07-23T09:19:51.516Z"
   },
   {
    "duration": 29,
    "start_time": "2021-07-23T09:20:15.917Z"
   },
   {
    "duration": 29,
    "start_time": "2021-07-23T09:20:46.155Z"
   },
   {
    "duration": 96,
    "start_time": "2021-07-23T09:21:16.171Z"
   },
   {
    "duration": 27,
    "start_time": "2021-07-23T09:21:25.247Z"
   },
   {
    "duration": 569,
    "start_time": "2021-07-23T09:21:46.352Z"
   },
   {
    "duration": 20,
    "start_time": "2021-07-23T09:21:46.923Z"
   },
   {
    "duration": 33,
    "start_time": "2021-07-23T09:21:46.946Z"
   },
   {
    "duration": 27,
    "start_time": "2021-07-23T09:21:46.982Z"
   },
   {
    "duration": 52,
    "start_time": "2021-07-23T09:21:47.011Z"
   },
   {
    "duration": 43,
    "start_time": "2021-07-23T09:21:47.065Z"
   },
   {
    "duration": 3,
    "start_time": "2021-07-23T09:21:47.110Z"
   },
   {
    "duration": 101,
    "start_time": "2021-07-23T09:21:47.117Z"
   },
   {
    "duration": 79,
    "start_time": "2021-07-23T09:21:47.221Z"
   },
   {
    "duration": 26,
    "start_time": "2021-07-23T09:21:47.302Z"
   },
   {
    "duration": 62,
    "start_time": "2021-07-23T09:21:47.331Z"
   },
   {
    "duration": 24,
    "start_time": "2021-07-23T09:21:47.396Z"
   },
   {
    "duration": 112,
    "start_time": "2021-07-23T09:21:47.422Z"
   },
   {
    "duration": 25,
    "start_time": "2021-07-23T09:21:47.555Z"
   },
   {
    "duration": 33,
    "start_time": "2021-07-23T09:21:47.583Z"
   },
   {
    "duration": 882,
    "start_time": "2021-07-23T09:21:47.619Z"
   },
   {
    "duration": 3,
    "start_time": "2021-07-23T09:21:48.504Z"
   },
   {
    "duration": 54,
    "start_time": "2021-07-23T09:21:48.510Z"
   },
   {
    "duration": 25,
    "start_time": "2021-07-23T09:21:48.567Z"
   },
   {
    "duration": 98,
    "start_time": "2021-07-23T09:21:48.595Z"
   },
   {
    "duration": 22,
    "start_time": "2021-07-23T09:21:48.695Z"
   },
   {
    "duration": 10,
    "start_time": "2021-07-23T09:21:48.720Z"
   },
   {
    "duration": 24,
    "start_time": "2021-07-23T09:21:48.757Z"
   },
   {
    "duration": 4,
    "start_time": "2021-07-23T09:21:48.785Z"
   },
   {
    "duration": 1688,
    "start_time": "2021-07-23T09:21:48.792Z"
   },
   {
    "duration": 20,
    "start_time": "2021-07-23T09:21:50.483Z"
   },
   {
    "duration": 90,
    "start_time": "2021-07-23T09:21:50.506Z"
   },
   {
    "duration": 34,
    "start_time": "2021-07-23T09:21:50.598Z"
   },
   {
    "duration": 31,
    "start_time": "2021-07-23T09:21:50.635Z"
   },
   {
    "duration": 38,
    "start_time": "2021-07-23T09:21:50.669Z"
   },
   {
    "duration": 54,
    "start_time": "2021-07-23T09:21:50.710Z"
   },
   {
    "duration": 38,
    "start_time": "2021-07-23T09:21:50.767Z"
   },
   {
    "duration": 67,
    "start_time": "2021-07-23T09:21:50.807Z"
   },
   {
    "duration": 38,
    "start_time": "2021-07-23T09:21:50.876Z"
   },
   {
    "duration": 95,
    "start_time": "2021-07-23T09:21:50.917Z"
   },
   {
    "duration": -1302,
    "start_time": "2021-07-23T09:21:52.317Z"
   },
   {
    "duration": -1331,
    "start_time": "2021-07-23T09:21:52.347Z"
   },
   {
    "duration": -1362,
    "start_time": "2021-07-23T09:21:52.380Z"
   },
   {
    "duration": -1382,
    "start_time": "2021-07-23T09:21:52.401Z"
   },
   {
    "duration": -1399,
    "start_time": "2021-07-23T09:21:52.419Z"
   },
   {
    "duration": -1413,
    "start_time": "2021-07-23T09:21:52.435Z"
   },
   {
    "duration": -1428,
    "start_time": "2021-07-23T09:21:52.451Z"
   },
   {
    "duration": 26,
    "start_time": "2021-07-23T09:22:10.985Z"
   },
   {
    "duration": 40,
    "start_time": "2021-07-23T09:28:25.686Z"
   },
   {
    "duration": 12,
    "start_time": "2021-07-23T09:28:31.756Z"
   },
   {
    "duration": -481,
    "start_time": "2021-07-23T09:28:39.129Z"
   },
   {
    "duration": -496,
    "start_time": "2021-07-23T09:28:39.146Z"
   },
   {
    "duration": -512,
    "start_time": "2021-07-23T09:28:39.164Z"
   },
   {
    "duration": -526,
    "start_time": "2021-07-23T09:28:39.180Z"
   },
   {
    "duration": -537,
    "start_time": "2021-07-23T09:28:39.193Z"
   },
   {
    "duration": 6,
    "start_time": "2021-07-23T09:28:38.993Z"
   },
   {
    "duration": 53,
    "start_time": "2021-07-23T09:28:48.228Z"
   },
   {
    "duration": 36,
    "start_time": "2021-07-23T09:29:47.973Z"
   },
   {
    "duration": 107,
    "start_time": "2021-07-23T09:31:00.188Z"
   },
   {
    "duration": 47,
    "start_time": "2021-07-23T09:31:14.516Z"
   },
   {
    "duration": 47,
    "start_time": "2021-07-23T09:31:49.815Z"
   },
   {
    "duration": 322,
    "start_time": "2021-07-23T09:32:46.043Z"
   },
   {
    "duration": 54,
    "start_time": "2021-07-23T09:33:20.739Z"
   },
   {
    "duration": 75,
    "start_time": "2021-07-23T09:33:33.115Z"
   },
   {
    "duration": 582,
    "start_time": "2021-07-23T09:33:42.622Z"
   },
   {
    "duration": 20,
    "start_time": "2021-07-23T09:33:43.206Z"
   },
   {
    "duration": 41,
    "start_time": "2021-07-23T09:33:43.228Z"
   },
   {
    "duration": 27,
    "start_time": "2021-07-23T09:33:43.272Z"
   },
   {
    "duration": 17,
    "start_time": "2021-07-23T09:33:43.301Z"
   },
   {
    "duration": 77,
    "start_time": "2021-07-23T09:33:43.320Z"
   },
   {
    "duration": 3,
    "start_time": "2021-07-23T09:33:43.399Z"
   },
   {
    "duration": 101,
    "start_time": "2021-07-23T09:33:43.406Z"
   },
   {
    "duration": 72,
    "start_time": "2021-07-23T09:33:43.510Z"
   },
   {
    "duration": 28,
    "start_time": "2021-07-23T09:33:43.584Z"
   },
   {
    "duration": 69,
    "start_time": "2021-07-23T09:33:43.614Z"
   },
   {
    "duration": 25,
    "start_time": "2021-07-23T09:33:43.685Z"
   },
   {
    "duration": 107,
    "start_time": "2021-07-23T09:33:43.713Z"
   },
   {
    "duration": 42,
    "start_time": "2021-07-23T09:33:43.823Z"
   },
   {
    "duration": 35,
    "start_time": "2021-07-23T09:33:43.867Z"
   },
   {
    "duration": 908,
    "start_time": "2021-07-23T09:33:43.905Z"
   },
   {
    "duration": 3,
    "start_time": "2021-07-23T09:33:44.816Z"
   },
   {
    "duration": 53,
    "start_time": "2021-07-23T09:33:44.822Z"
   },
   {
    "duration": 27,
    "start_time": "2021-07-23T09:33:44.879Z"
   },
   {
    "duration": 98,
    "start_time": "2021-07-23T09:33:44.909Z"
   },
   {
    "duration": 49,
    "start_time": "2021-07-23T09:33:45.010Z"
   },
   {
    "duration": 6,
    "start_time": "2021-07-23T09:33:45.062Z"
   },
   {
    "duration": 24,
    "start_time": "2021-07-23T09:33:45.076Z"
   },
   {
    "duration": 3,
    "start_time": "2021-07-23T09:33:45.103Z"
   },
   {
    "duration": 1689,
    "start_time": "2021-07-23T09:33:45.109Z"
   },
   {
    "duration": 20,
    "start_time": "2021-07-23T09:33:46.801Z"
   },
   {
    "duration": 87,
    "start_time": "2021-07-23T09:33:46.823Z"
   },
   {
    "duration": 46,
    "start_time": "2021-07-23T09:33:46.912Z"
   },
   {
    "duration": 16,
    "start_time": "2021-07-23T09:33:46.961Z"
   },
   {
    "duration": 48,
    "start_time": "2021-07-23T09:33:46.980Z"
   },
   {
    "duration": 42,
    "start_time": "2021-07-23T09:33:47.031Z"
   },
   {
    "duration": 57,
    "start_time": "2021-07-23T09:33:47.076Z"
   },
   {
    "duration": 51,
    "start_time": "2021-07-23T09:33:47.136Z"
   },
   {
    "duration": 3,
    "start_time": "2021-07-23T09:33:47.189Z"
   },
   {
    "duration": 117,
    "start_time": "2021-07-23T09:33:47.195Z"
   },
   {
    "duration": -823,
    "start_time": "2021-07-23T09:33:48.137Z"
   },
   {
    "duration": -836,
    "start_time": "2021-07-23T09:33:48.152Z"
   },
   {
    "duration": -845,
    "start_time": "2021-07-23T09:33:48.162Z"
   },
   {
    "duration": -880,
    "start_time": "2021-07-23T09:33:48.198Z"
   },
   {
    "duration": -895,
    "start_time": "2021-07-23T09:33:48.215Z"
   },
   {
    "duration": -910,
    "start_time": "2021-07-23T09:33:48.231Z"
   },
   {
    "duration": -928,
    "start_time": "2021-07-23T09:33:48.251Z"
   },
   {
    "duration": 3,
    "start_time": "2021-07-23T09:34:09.875Z"
   },
   {
    "duration": 59,
    "start_time": "2021-07-23T09:34:09.883Z"
   },
   {
    "duration": 11,
    "start_time": "2021-07-23T09:34:09.945Z"
   },
   {
    "duration": -455,
    "start_time": "2021-07-23T09:34:17.655Z"
   },
   {
    "duration": -473,
    "start_time": "2021-07-23T09:34:17.674Z"
   },
   {
    "duration": -500,
    "start_time": "2021-07-23T09:34:17.703Z"
   },
   {
    "duration": -530,
    "start_time": "2021-07-23T09:34:17.734Z"
   },
   {
    "duration": -546,
    "start_time": "2021-07-23T09:34:17.752Z"
   },
   {
    "duration": 6,
    "start_time": "2021-07-23T09:34:18.016Z"
   },
   {
    "duration": 55,
    "start_time": "2021-07-23T09:34:21.954Z"
   },
   {
    "duration": 317,
    "start_time": "2021-07-23T09:34:25.458Z"
   },
   {
    "duration": 53,
    "start_time": "2021-07-23T09:34:56.768Z"
   },
   {
    "duration": 51,
    "start_time": "2021-07-23T09:35:22.639Z"
   },
   {
    "duration": 42,
    "start_time": "2021-07-23T09:35:59.209Z"
   },
   {
    "duration": 363,
    "start_time": "2021-07-23T12:24:29.474Z"
   },
   {
    "duration": 1854,
    "start_time": "2021-07-23T12:24:36.173Z"
   },
   {
    "duration": 25,
    "start_time": "2021-07-23T12:24:38.030Z"
   },
   {
    "duration": 37,
    "start_time": "2021-07-23T12:24:38.060Z"
   },
   {
    "duration": 59,
    "start_time": "2021-07-23T12:24:38.100Z"
   },
   {
    "duration": 16,
    "start_time": "2021-07-23T12:24:38.162Z"
   },
   {
    "duration": 76,
    "start_time": "2021-07-23T12:24:38.181Z"
   },
   {
    "duration": 3,
    "start_time": "2021-07-23T12:24:38.261Z"
   },
   {
    "duration": 88,
    "start_time": "2021-07-23T12:24:38.281Z"
   },
   {
    "duration": 61,
    "start_time": "2021-07-23T12:24:38.372Z"
   },
   {
    "duration": 26,
    "start_time": "2021-07-23T12:24:38.455Z"
   },
   {
    "duration": 71,
    "start_time": "2021-07-23T12:24:38.484Z"
   },
   {
    "duration": 36,
    "start_time": "2021-07-23T12:24:38.558Z"
   },
   {
    "duration": 121,
    "start_time": "2021-07-23T12:24:38.597Z"
   },
   {
    "duration": 40,
    "start_time": "2021-07-23T12:24:38.720Z"
   },
   {
    "duration": 32,
    "start_time": "2021-07-23T12:24:38.762Z"
   },
   {
    "duration": 951,
    "start_time": "2021-07-23T12:24:38.796Z"
   },
   {
    "duration": 2,
    "start_time": "2021-07-23T12:24:39.754Z"
   },
   {
    "duration": 42,
    "start_time": "2021-07-23T12:24:39.758Z"
   },
   {
    "duration": 24,
    "start_time": "2021-07-23T12:24:39.802Z"
   },
   {
    "duration": 94,
    "start_time": "2021-07-23T12:24:39.829Z"
   },
   {
    "duration": 49,
    "start_time": "2021-07-23T12:24:39.926Z"
   },
   {
    "duration": 5,
    "start_time": "2021-07-23T12:24:39.977Z"
   },
   {
    "duration": 33,
    "start_time": "2021-07-23T12:24:39.987Z"
   },
   {
    "duration": 3,
    "start_time": "2021-07-23T12:24:40.023Z"
   },
   {
    "duration": 1705,
    "start_time": "2021-07-23T12:24:40.028Z"
   },
   {
    "duration": 30,
    "start_time": "2021-07-23T12:24:41.735Z"
   },
   {
    "duration": 89,
    "start_time": "2021-07-23T12:24:41.767Z"
   },
   {
    "duration": 35,
    "start_time": "2021-07-23T12:24:41.858Z"
   },
   {
    "duration": 15,
    "start_time": "2021-07-23T12:24:41.895Z"
   },
   {
    "duration": 69,
    "start_time": "2021-07-23T12:24:41.912Z"
   },
   {
    "duration": 27,
    "start_time": "2021-07-23T12:24:41.983Z"
   },
   {
    "duration": 57,
    "start_time": "2021-07-23T12:24:42.013Z"
   },
   {
    "duration": 48,
    "start_time": "2021-07-23T12:24:42.073Z"
   },
   {
    "duration": 29,
    "start_time": "2021-07-23T12:24:42.125Z"
   },
   {
    "duration": 16,
    "start_time": "2021-07-23T12:24:42.157Z"
   },
   {
    "duration": 59,
    "start_time": "2021-07-23T12:24:42.175Z"
   },
   {
    "duration": 10,
    "start_time": "2021-07-23T12:24:42.236Z"
   },
   {
    "duration": 7367,
    "start_time": "2021-07-23T12:24:42.248Z"
   },
   {
    "duration": -6,
    "start_time": "2021-07-23T12:24:49.624Z"
   },
   {
    "duration": -21,
    "start_time": "2021-07-23T12:24:49.640Z"
   },
   {
    "duration": -34,
    "start_time": "2021-07-23T12:24:49.655Z"
   },
   {
    "duration": -52,
    "start_time": "2021-07-23T12:24:49.675Z"
   },
   {
    "duration": -71,
    "start_time": "2021-07-23T12:24:49.696Z"
   },
   {
    "duration": 7,
    "start_time": "2021-07-23T12:25:58.048Z"
   },
   {
    "duration": 7,
    "start_time": "2021-07-23T12:26:01.500Z"
   },
   {
    "duration": 53,
    "start_time": "2021-07-23T12:26:03.572Z"
   },
   {
    "duration": 56,
    "start_time": "2021-07-23T12:26:07.730Z"
   },
   {
    "duration": 20,
    "start_time": "2021-07-23T12:26:48.102Z"
   },
   {
    "duration": 24,
    "start_time": "2021-07-23T12:27:45.900Z"
   },
   {
    "duration": 20505,
    "start_time": "2021-07-23T12:28:45.960Z"
   },
   {
    "duration": 103,
    "start_time": "2021-07-23T12:34:44.747Z"
   },
   {
    "duration": 44,
    "start_time": "2021-07-23T12:34:51.374Z"
   },
   {
    "duration": 43,
    "start_time": "2021-07-23T12:35:18.280Z"
   },
   {
    "duration": 59,
    "start_time": "2021-07-23T12:38:00.739Z"
   },
   {
    "duration": 104,
    "start_time": "2021-07-23T12:40:53.567Z"
   },
   {
    "duration": 21,
    "start_time": "2021-07-23T12:40:57.952Z"
   },
   {
    "duration": 25,
    "start_time": "2021-07-23T12:41:02.410Z"
   },
   {
    "duration": 317,
    "start_time": "2021-07-23T12:41:28.568Z"
   },
   {
    "duration": 976,
    "start_time": "2021-07-23T12:42:55.726Z"
   },
   {
    "duration": 9,
    "start_time": "2021-07-23T12:47:54.294Z"
   },
   {
    "duration": 109,
    "start_time": "2021-07-23T12:49:41.871Z"
   },
   {
    "duration": 17,
    "start_time": "2021-07-23T12:49:49.561Z"
   },
   {
    "duration": 9,
    "start_time": "2021-07-23T12:50:18.270Z"
   },
   {
    "duration": 107,
    "start_time": "2021-07-23T12:51:28.452Z"
   },
   {
    "duration": 628,
    "start_time": "2021-07-23T12:54:05.213Z"
   },
   {
    "duration": 1261,
    "start_time": "2021-07-23T14:02:47.853Z"
   },
   {
    "duration": 20,
    "start_time": "2021-07-23T14:02:49.117Z"
   },
   {
    "duration": 41,
    "start_time": "2021-07-23T14:02:49.140Z"
   },
   {
    "duration": 28,
    "start_time": "2021-07-23T14:02:49.184Z"
   },
   {
    "duration": 41,
    "start_time": "2021-07-23T14:02:49.215Z"
   },
   {
    "duration": 45,
    "start_time": "2021-07-23T14:02:49.262Z"
   },
   {
    "duration": 3,
    "start_time": "2021-07-23T14:02:49.309Z"
   },
   {
    "duration": 103,
    "start_time": "2021-07-23T14:02:49.315Z"
   },
   {
    "duration": 80,
    "start_time": "2021-07-23T14:02:49.423Z"
   },
   {
    "duration": 26,
    "start_time": "2021-07-23T14:02:49.507Z"
   },
   {
    "duration": 71,
    "start_time": "2021-07-23T14:02:49.535Z"
   },
   {
    "duration": 61,
    "start_time": "2021-07-23T14:02:49.609Z"
   },
   {
    "duration": 99,
    "start_time": "2021-07-23T14:02:49.673Z"
   },
   {
    "duration": 24,
    "start_time": "2021-07-23T14:02:49.775Z"
   },
   {
    "duration": 59,
    "start_time": "2021-07-23T14:02:49.802Z"
   },
   {
    "duration": 878,
    "start_time": "2021-07-23T14:02:49.864Z"
   },
   {
    "duration": 15,
    "start_time": "2021-07-23T14:02:50.745Z"
   },
   {
    "duration": 38,
    "start_time": "2021-07-23T14:02:50.763Z"
   },
   {
    "duration": 25,
    "start_time": "2021-07-23T14:02:50.803Z"
   },
   {
    "duration": 90,
    "start_time": "2021-07-23T14:02:50.830Z"
   },
   {
    "duration": 46,
    "start_time": "2021-07-23T14:02:50.922Z"
   },
   {
    "duration": 5,
    "start_time": "2021-07-23T14:02:50.970Z"
   },
   {
    "duration": 36,
    "start_time": "2021-07-23T14:02:50.977Z"
   },
   {
    "duration": 7,
    "start_time": "2021-07-23T14:02:51.016Z"
   },
   {
    "duration": 2455,
    "start_time": "2021-07-23T14:02:51.025Z"
   },
   {
    "duration": 19,
    "start_time": "2021-07-23T14:02:53.483Z"
   },
   {
    "duration": 96,
    "start_time": "2021-07-23T14:02:53.507Z"
   },
   {
    "duration": 63,
    "start_time": "2021-07-23T14:02:53.606Z"
   },
   {
    "duration": 14,
    "start_time": "2021-07-23T14:02:53.672Z"
   },
   {
    "duration": 40,
    "start_time": "2021-07-23T14:02:53.689Z"
   },
   {
    "duration": 38,
    "start_time": "2021-07-23T14:02:53.731Z"
   },
   {
    "duration": 34,
    "start_time": "2021-07-23T14:02:53.772Z"
   },
   {
    "duration": 57,
    "start_time": "2021-07-23T14:02:53.809Z"
   },
   {
    "duration": 3,
    "start_time": "2021-07-23T14:02:53.868Z"
   },
   {
    "duration": 16,
    "start_time": "2021-07-23T14:02:53.873Z"
   },
   {
    "duration": 46,
    "start_time": "2021-07-23T14:02:53.892Z"
   },
   {
    "duration": 12,
    "start_time": "2021-07-23T14:02:53.940Z"
   },
   {
    "duration": 16,
    "start_time": "2021-07-23T14:02:53.954Z"
   },
   {
    "duration": 10,
    "start_time": "2021-07-23T14:02:53.972Z"
   },
   {
    "duration": 63,
    "start_time": "2021-07-23T14:02:53.985Z"
   },
   {
    "duration": 61,
    "start_time": "2021-07-23T14:02:54.050Z"
   },
   {
    "duration": 131,
    "start_time": "2021-07-23T14:02:54.114Z"
   },
   {
    "duration": -1341,
    "start_time": "2021-07-23T14:02:55.589Z"
   },
   {
    "duration": -1381,
    "start_time": "2021-07-23T14:02:55.631Z"
   },
   {
    "duration": 11,
    "start_time": "2021-07-23T14:05:24.154Z"
   },
   {
    "duration": 15,
    "start_time": "2021-07-23T14:05:33.076Z"
   },
   {
    "duration": 927,
    "start_time": "2021-07-23T14:05:37.195Z"
   },
   {
    "duration": 26,
    "start_time": "2021-07-23T14:26:04.970Z"
   },
   {
    "duration": 28,
    "start_time": "2021-07-23T14:26:14.271Z"
   },
   {
    "duration": 26,
    "start_time": "2021-07-23T14:26:21.027Z"
   },
   {
    "duration": 35,
    "start_time": "2021-07-23T14:26:27.366Z"
   },
   {
    "duration": 164,
    "start_time": "2021-07-23T14:27:44.060Z"
   },
   {
    "duration": 45,
    "start_time": "2021-07-23T14:28:11.559Z"
   },
   {
    "duration": 56,
    "start_time": "2021-07-23T14:28:25.469Z"
   },
   {
    "duration": 280,
    "start_time": "2021-07-23T14:31:07.393Z"
   },
   {
    "duration": 54,
    "start_time": "2021-07-23T14:31:21.284Z"
   },
   {
    "duration": 61,
    "start_time": "2021-07-23T14:31:41.289Z"
   },
   {
    "duration": 57,
    "start_time": "2021-07-23T14:32:03.537Z"
   },
   {
    "duration": 63,
    "start_time": "2021-07-23T14:32:13.230Z"
   },
   {
    "duration": 65,
    "start_time": "2021-07-23T14:32:19.359Z"
   },
   {
    "duration": 6472,
    "start_time": "2021-07-23T14:33:00.077Z"
   },
   {
    "duration": 66,
    "start_time": "2021-07-23T14:33:39.260Z"
   },
   {
    "duration": 63,
    "start_time": "2021-07-23T14:34:08.776Z"
   },
   {
    "duration": -450,
    "start_time": "2021-07-23T14:34:24.033Z"
   },
   {
    "duration": 6829,
    "start_time": "2021-07-23T14:34:28.084Z"
   },
   {
    "duration": 51,
    "start_time": "2021-07-23T14:34:46.898Z"
   },
   {
    "duration": 53,
    "start_time": "2021-07-23T14:34:55.910Z"
   },
   {
    "duration": 59,
    "start_time": "2021-07-23T14:35:23.073Z"
   },
   {
    "duration": 54,
    "start_time": "2021-07-23T14:35:33.588Z"
   },
   {
    "duration": 74,
    "start_time": "2021-07-23T14:36:02.660Z"
   },
   {
    "duration": 424,
    "start_time": "2021-07-23T14:37:16.549Z"
   },
   {
    "duration": 351,
    "start_time": "2021-07-25T10:31:29.795Z"
   },
   {
    "duration": 1458,
    "start_time": "2021-07-25T10:31:34.974Z"
   },
   {
    "duration": 24,
    "start_time": "2021-07-25T10:31:36.435Z"
   },
   {
    "duration": 47,
    "start_time": "2021-07-25T10:31:36.462Z"
   },
   {
    "duration": 28,
    "start_time": "2021-07-25T10:31:36.512Z"
   },
   {
    "duration": 46,
    "start_time": "2021-07-25T10:31:36.543Z"
   },
   {
    "duration": 41,
    "start_time": "2021-07-25T10:31:36.592Z"
   },
   {
    "duration": 2,
    "start_time": "2021-07-25T10:31:36.635Z"
   },
   {
    "duration": 109,
    "start_time": "2021-07-25T10:31:36.639Z"
   },
   {
    "duration": 77,
    "start_time": "2021-07-25T10:31:36.752Z"
   },
   {
    "duration": 27,
    "start_time": "2021-07-25T10:31:36.832Z"
   },
   {
    "duration": 45,
    "start_time": "2021-07-25T10:31:36.882Z"
   },
   {
    "duration": 54,
    "start_time": "2021-07-25T10:31:36.930Z"
   },
   {
    "duration": 100,
    "start_time": "2021-07-25T10:31:36.987Z"
   },
   {
    "duration": 26,
    "start_time": "2021-07-25T10:31:37.090Z"
   },
   {
    "duration": 65,
    "start_time": "2021-07-25T10:31:37.119Z"
   },
   {
    "duration": 1002,
    "start_time": "2021-07-25T10:31:37.187Z"
   },
   {
    "duration": 4,
    "start_time": "2021-07-25T10:31:38.191Z"
   },
   {
    "duration": 38,
    "start_time": "2021-07-25T10:31:38.197Z"
   },
   {
    "duration": 48,
    "start_time": "2021-07-25T10:31:38.237Z"
   },
   {
    "duration": 71,
    "start_time": "2021-07-25T10:31:38.287Z"
   },
   {
    "duration": 25,
    "start_time": "2021-07-25T10:31:38.382Z"
   },
   {
    "duration": 5,
    "start_time": "2021-07-25T10:31:38.409Z"
   },
   {
    "duration": 29,
    "start_time": "2021-07-25T10:31:38.417Z"
   },
   {
    "duration": 33,
    "start_time": "2021-07-25T10:31:38.449Z"
   },
   {
    "duration": 1715,
    "start_time": "2021-07-25T10:31:38.484Z"
   },
   {
    "duration": 21,
    "start_time": "2021-07-25T10:31:40.202Z"
   },
   {
    "duration": 97,
    "start_time": "2021-07-25T10:31:40.230Z"
   },
   {
    "duration": 35,
    "start_time": "2021-07-25T10:31:40.331Z"
   },
   {
    "duration": 16,
    "start_time": "2021-07-25T10:31:40.383Z"
   },
   {
    "duration": 43,
    "start_time": "2021-07-25T10:31:40.402Z"
   },
   {
    "duration": 52,
    "start_time": "2021-07-25T10:31:40.448Z"
   },
   {
    "duration": 35,
    "start_time": "2021-07-25T10:31:40.503Z"
   },
   {
    "duration": 78,
    "start_time": "2021-07-25T10:31:40.541Z"
   },
   {
    "duration": 3,
    "start_time": "2021-07-25T10:31:40.623Z"
   },
   {
    "duration": 11,
    "start_time": "2021-07-25T10:31:40.629Z"
   },
   {
    "duration": 70,
    "start_time": "2021-07-25T10:31:40.642Z"
   },
   {
    "duration": 15,
    "start_time": "2021-07-25T10:31:40.715Z"
   },
   {
    "duration": 8,
    "start_time": "2021-07-25T10:31:40.733Z"
   },
   {
    "duration": 38,
    "start_time": "2021-07-25T10:31:40.744Z"
   },
   {
    "duration": 56,
    "start_time": "2021-07-25T10:31:40.786Z"
   },
   {
    "duration": 85,
    "start_time": "2021-07-25T10:31:40.846Z"
   },
   {
    "duration": 8,
    "start_time": "2021-07-25T10:31:40.934Z"
   },
   {
    "duration": 982,
    "start_time": "2021-07-25T10:31:40.946Z"
   },
   {
    "duration": 15,
    "start_time": "2021-07-25T10:31:41.930Z"
   },
   {
    "duration": 102,
    "start_time": "2021-07-25T10:31:41.947Z"
   },
   {
    "duration": 552,
    "start_time": "2021-07-25T10:31:42.051Z"
   },
   {
    "duration": 330,
    "start_time": "2021-07-25T10:31:42.605Z"
   },
   {
    "duration": 7,
    "start_time": "2021-07-25T10:31:55.111Z"
   },
   {
    "duration": 32,
    "start_time": "2021-07-25T10:37:42.141Z"
   },
   {
    "duration": 313,
    "start_time": "2021-07-25T10:39:19.401Z"
   },
   {
    "duration": 59,
    "start_time": "2021-07-25T10:39:34.526Z"
   },
   {
    "duration": 75,
    "start_time": "2021-07-25T10:44:18.110Z"
   },
   {
    "duration": 88,
    "start_time": "2021-07-25T10:44:37.904Z"
   },
   {
    "duration": 10,
    "start_time": "2021-07-25T10:49:38.784Z"
   },
   {
    "duration": 9,
    "start_time": "2021-07-25T10:50:22.381Z"
   },
   {
    "duration": 12,
    "start_time": "2021-07-25T10:51:27.071Z"
   },
   {
    "duration": 48,
    "start_time": "2021-07-25T10:51:52.291Z"
   },
   {
    "duration": 10,
    "start_time": "2021-07-25T10:52:32.558Z"
   },
   {
    "duration": 9,
    "start_time": "2021-07-25T10:52:38.035Z"
   },
   {
    "duration": 49,
    "start_time": "2021-07-25T10:52:43.687Z"
   },
   {
    "duration": 551,
    "start_time": "2021-07-25T10:56:36.382Z"
   },
   {
    "duration": 19,
    "start_time": "2021-07-25T10:56:36.936Z"
   },
   {
    "duration": 40,
    "start_time": "2021-07-25T10:56:36.959Z"
   },
   {
    "duration": 26,
    "start_time": "2021-07-25T10:56:37.001Z"
   },
   {
    "duration": 16,
    "start_time": "2021-07-25T10:56:37.029Z"
   },
   {
    "duration": 72,
    "start_time": "2021-07-25T10:56:37.047Z"
   },
   {
    "duration": 3,
    "start_time": "2021-07-25T10:56:37.121Z"
   },
   {
    "duration": 100,
    "start_time": "2021-07-25T10:56:37.128Z"
   },
   {
    "duration": 73,
    "start_time": "2021-07-25T10:56:37.231Z"
   },
   {
    "duration": 27,
    "start_time": "2021-07-25T10:56:37.307Z"
   },
   {
    "duration": 75,
    "start_time": "2021-07-25T10:56:37.337Z"
   },
   {
    "duration": 25,
    "start_time": "2021-07-25T10:56:37.415Z"
   },
   {
    "duration": 109,
    "start_time": "2021-07-25T10:56:37.444Z"
   },
   {
    "duration": 45,
    "start_time": "2021-07-25T10:56:37.557Z"
   },
   {
    "duration": 28,
    "start_time": "2021-07-25T10:56:37.605Z"
   },
   {
    "duration": 888,
    "start_time": "2021-07-25T10:56:37.636Z"
   },
   {
    "duration": 4,
    "start_time": "2021-07-25T10:56:38.527Z"
   },
   {
    "duration": 56,
    "start_time": "2021-07-25T10:56:38.534Z"
   },
   {
    "duration": 26,
    "start_time": "2021-07-25T10:56:38.593Z"
   },
   {
    "duration": 95,
    "start_time": "2021-07-25T10:56:38.622Z"
   },
   {
    "duration": 22,
    "start_time": "2021-07-25T10:56:38.720Z"
   },
   {
    "duration": 5,
    "start_time": "2021-07-25T10:56:38.744Z"
   },
   {
    "duration": 21,
    "start_time": "2021-07-25T10:56:38.783Z"
   },
   {
    "duration": 3,
    "start_time": "2021-07-25T10:56:38.807Z"
   },
   {
    "duration": 1672,
    "start_time": "2021-07-25T10:56:38.812Z"
   },
   {
    "duration": 19,
    "start_time": "2021-07-25T10:56:40.486Z"
   },
   {
    "duration": 91,
    "start_time": "2021-07-25T10:56:40.507Z"
   },
   {
    "duration": 33,
    "start_time": "2021-07-25T10:56:40.601Z"
   },
   {
    "duration": 15,
    "start_time": "2021-07-25T10:56:40.636Z"
   },
   {
    "duration": 66,
    "start_time": "2021-07-25T10:56:40.653Z"
   },
   {
    "duration": 25,
    "start_time": "2021-07-25T10:56:40.721Z"
   },
   {
    "duration": 62,
    "start_time": "2021-07-25T10:56:40.749Z"
   },
   {
    "duration": 47,
    "start_time": "2021-07-25T10:56:40.814Z"
   },
   {
    "duration": 19,
    "start_time": "2021-07-25T10:56:40.864Z"
   },
   {
    "duration": 14,
    "start_time": "2021-07-25T10:56:40.886Z"
   },
   {
    "duration": 46,
    "start_time": "2021-07-25T10:56:40.903Z"
   },
   {
    "duration": 11,
    "start_time": "2021-07-25T10:56:40.953Z"
   },
   {
    "duration": 19,
    "start_time": "2021-07-25T10:56:40.967Z"
   },
   {
    "duration": 10,
    "start_time": "2021-07-25T10:56:40.988Z"
   },
   {
    "duration": 59,
    "start_time": "2021-07-25T10:56:41.001Z"
   },
   {
    "duration": 55,
    "start_time": "2021-07-25T10:56:41.083Z"
   },
   {
    "duration": 44,
    "start_time": "2021-07-25T10:56:41.140Z"
   },
   {
    "duration": 1068,
    "start_time": "2021-07-25T10:56:41.187Z"
   },
   {
    "duration": 27,
    "start_time": "2021-07-25T10:56:42.258Z"
   },
   {
    "duration": 71,
    "start_time": "2021-07-25T10:56:42.288Z"
   },
   {
    "duration": 24,
    "start_time": "2021-07-25T10:56:42.361Z"
   },
   {
    "duration": 12,
    "start_time": "2021-07-25T10:56:42.388Z"
   },
   {
    "duration": 113,
    "start_time": "2021-07-25T10:56:42.402Z"
   },
   {
    "duration": 8,
    "start_time": "2021-07-25T10:56:42.517Z"
   },
   {
    "duration": 9,
    "start_time": "2021-07-25T10:57:41.368Z"
   },
   {
    "duration": 10,
    "start_time": "2021-07-25T10:58:33.772Z"
   },
   {
    "duration": 9,
    "start_time": "2021-07-25T10:59:02.205Z"
   },
   {
    "duration": 515,
    "start_time": "2021-07-25T11:39:07.054Z"
   },
   {
    "duration": 576,
    "start_time": "2021-07-25T11:45:35.255Z"
   },
   {
    "duration": 555,
    "start_time": "2021-07-25T11:45:41.016Z"
   },
   {
    "duration": 321,
    "start_time": "2021-07-25T11:47:55.139Z"
   },
   {
    "duration": 42,
    "start_time": "2021-07-25T11:48:01.251Z"
   },
   {
    "duration": 71,
    "start_time": "2021-07-25T11:48:10.262Z"
   },
   {
    "duration": 640,
    "start_time": "2021-07-25T11:51:35.475Z"
   },
   {
    "duration": 100,
    "start_time": "2021-07-25T11:52:50.630Z"
   },
   {
    "duration": 654,
    "start_time": "2021-07-25T11:52:56.394Z"
   },
   {
    "duration": 791,
    "start_time": "2021-07-25T11:53:02.298Z"
   },
   {
    "duration": 1115,
    "start_time": "2021-07-25T11:53:19.644Z"
   },
   {
    "duration": 1091,
    "start_time": "2021-07-25T11:53:49.284Z"
   },
   {
    "duration": 857,
    "start_time": "2021-07-25T11:54:01.465Z"
   },
   {
    "duration": 824,
    "start_time": "2021-07-25T11:55:06.991Z"
   },
   {
    "duration": 623,
    "start_time": "2021-07-25T12:00:58.714Z"
   },
   {
    "duration": 3212,
    "start_time": "2021-07-25T12:01:11.475Z"
   },
   {
    "duration": 384,
    "start_time": "2021-07-25T12:01:20.074Z"
   },
   {
    "duration": 623,
    "start_time": "2021-07-25T12:01:24.096Z"
   },
   {
    "duration": 18,
    "start_time": "2021-07-25T12:03:51.602Z"
   },
   {
    "duration": 13,
    "start_time": "2021-07-25T12:08:03.955Z"
   },
   {
    "duration": 27,
    "start_time": "2021-07-25T12:08:10.776Z"
   },
   {
    "duration": 12,
    "start_time": "2021-07-25T12:08:32.152Z"
   },
   {
    "duration": 27,
    "start_time": "2021-07-25T12:08:46.044Z"
   },
   {
    "duration": 12,
    "start_time": "2021-07-25T12:10:37.554Z"
   },
   {
    "duration": 325,
    "start_time": "2021-07-25T12:11:49.315Z"
   },
   {
    "duration": 609,
    "start_time": "2021-07-25T12:11:53.842Z"
   },
   {
    "duration": 441,
    "start_time": "2021-07-25T13:05:24.114Z"
   },
   {
    "duration": 80,
    "start_time": "2021-07-25T13:05:30.170Z"
   },
   {
    "duration": 43,
    "start_time": "2021-07-25T13:05:38.091Z"
   },
   {
    "duration": 25,
    "start_time": "2021-07-25T13:06:52.033Z"
   },
   {
    "duration": 17,
    "start_time": "2021-07-25T13:10:34.151Z"
   },
   {
    "duration": 98,
    "start_time": "2021-07-25T13:11:06.818Z"
   },
   {
    "duration": 9,
    "start_time": "2021-07-25T13:11:10.751Z"
   },
   {
    "duration": 10,
    "start_time": "2021-07-25T13:11:36.128Z"
   },
   {
    "duration": 37,
    "start_time": "2021-07-25T13:12:40.393Z"
   },
   {
    "duration": 237,
    "start_time": "2021-07-25T13:13:36.546Z"
   },
   {
    "duration": 21,
    "start_time": "2021-07-25T13:13:49.249Z"
   },
   {
    "duration": 20,
    "start_time": "2021-07-25T13:13:55.862Z"
   },
   {
    "duration": 92,
    "start_time": "2021-07-25T13:14:42.822Z"
   },
   {
    "duration": 496,
    "start_time": "2021-07-25T13:14:54.953Z"
   },
   {
    "duration": 35,
    "start_time": "2021-07-25T13:15:12.116Z"
   },
   {
    "duration": 25,
    "start_time": "2021-07-25T13:19:37.413Z"
   },
   {
    "duration": 10,
    "start_time": "2021-07-25T13:24:15.254Z"
   },
   {
    "duration": 32,
    "start_time": "2021-07-25T13:25:03.455Z"
   },
   {
    "duration": 31,
    "start_time": "2021-07-25T13:25:41.541Z"
   },
   {
    "duration": 29,
    "start_time": "2021-07-25T13:28:04.735Z"
   },
   {
    "duration": 572,
    "start_time": "2021-07-25T14:02:10.549Z"
   },
   {
    "duration": 569,
    "start_time": "2021-07-25T14:05:12.473Z"
   },
   {
    "duration": 649,
    "start_time": "2021-07-25T14:05:13.045Z"
   },
   {
    "duration": 19,
    "start_time": "2021-07-25T14:05:13.697Z"
   },
   {
    "duration": 87,
    "start_time": "2021-07-25T14:05:13.719Z"
   },
   {
    "duration": 628,
    "start_time": "2021-07-25T14:05:13.808Z"
   },
   {
    "duration": 46,
    "start_time": "2021-07-25T14:05:14.439Z"
   },
   {
    "duration": 19,
    "start_time": "2021-07-25T14:05:14.488Z"
   },
   {
    "duration": 86,
    "start_time": "2021-07-25T14:05:14.512Z"
   },
   {
    "duration": 13,
    "start_time": "2021-07-25T14:05:14.602Z"
   },
   {
    "duration": 871,
    "start_time": "2021-07-25T14:05:14.619Z"
   },
   {
    "duration": 3,
    "start_time": "2021-07-25T14:05:15.493Z"
   },
   {
    "duration": 120,
    "start_time": "2021-07-25T14:05:15.498Z"
   },
   {
    "duration": 9,
    "start_time": "2021-07-25T14:05:15.620Z"
   },
   {
    "duration": 61,
    "start_time": "2021-07-25T14:05:15.632Z"
   },
   {
    "duration": 26,
    "start_time": "2021-07-25T14:05:15.695Z"
   },
   {
    "duration": 9,
    "start_time": "2021-07-25T14:05:15.723Z"
   },
   {
    "duration": 65,
    "start_time": "2021-07-25T14:05:15.734Z"
   },
   {
    "duration": 26,
    "start_time": "2021-07-25T14:05:15.802Z"
   },
   {
    "duration": 103,
    "start_time": "2021-07-25T14:05:15.834Z"
   },
   {
    "duration": 23,
    "start_time": "2021-07-25T14:05:15.940Z"
   },
   {
    "duration": 32,
    "start_time": "2021-07-25T14:05:15.983Z"
   },
   {
    "duration": 1016,
    "start_time": "2021-07-25T14:05:16.018Z"
   },
   {
    "duration": 4,
    "start_time": "2021-07-25T14:05:17.043Z"
   },
   {
    "duration": 46,
    "start_time": "2021-07-25T14:05:17.050Z"
   },
   {
    "duration": 24,
    "start_time": "2021-07-25T14:05:17.099Z"
   },
   {
    "duration": 92,
    "start_time": "2021-07-25T14:05:17.125Z"
   },
   {
    "duration": 24,
    "start_time": "2021-07-25T14:05:17.220Z"
   },
   {
    "duration": 6,
    "start_time": "2021-07-25T14:05:17.246Z"
   },
   {
    "duration": 47,
    "start_time": "2021-07-25T14:05:17.254Z"
   },
   {
    "duration": 3,
    "start_time": "2021-07-25T14:05:17.304Z"
   },
   {
    "duration": 1691,
    "start_time": "2021-07-25T14:05:17.309Z"
   },
   {
    "duration": 20,
    "start_time": "2021-07-25T14:05:19.003Z"
   },
   {
    "duration": 92,
    "start_time": "2021-07-25T14:05:19.025Z"
   },
   {
    "duration": 36,
    "start_time": "2021-07-25T14:05:19.119Z"
   },
   {
    "duration": 33,
    "start_time": "2021-07-25T14:05:19.158Z"
   },
   {
    "duration": 46,
    "start_time": "2021-07-25T14:05:19.193Z"
   },
   {
    "duration": 43,
    "start_time": "2021-07-25T14:05:19.241Z"
   },
   {
    "duration": 39,
    "start_time": "2021-07-25T14:05:19.288Z"
   },
   {
    "duration": 224,
    "start_time": "2021-07-25T14:05:19.330Z"
   },
   {
    "duration": 4,
    "start_time": "2021-07-25T14:05:19.557Z"
   },
   {
    "duration": 19,
    "start_time": "2021-07-25T14:05:19.564Z"
   },
   {
    "duration": 48,
    "start_time": "2021-07-25T14:05:19.587Z"
   },
   {
    "duration": 13,
    "start_time": "2021-07-25T14:05:19.638Z"
   },
   {
    "duration": 33,
    "start_time": "2021-07-25T14:05:19.654Z"
   },
   {
    "duration": 11,
    "start_time": "2021-07-25T14:05:19.690Z"
   },
   {
    "duration": 80,
    "start_time": "2021-07-25T14:05:19.704Z"
   },
   {
    "duration": 53,
    "start_time": "2021-07-25T14:05:19.787Z"
   },
   {
    "duration": 51,
    "start_time": "2021-07-25T14:05:19.843Z"
   },
   {
    "duration": 934,
    "start_time": "2021-07-25T14:05:19.897Z"
   },
   {
    "duration": 18,
    "start_time": "2021-07-25T14:05:20.834Z"
   },
   {
    "duration": 79,
    "start_time": "2021-07-25T14:05:20.881Z"
   },
   {
    "duration": 24,
    "start_time": "2021-07-25T14:05:20.963Z"
   },
   {
    "duration": 12,
    "start_time": "2021-07-25T14:05:20.990Z"
   },
   {
    "duration": 123,
    "start_time": "2021-07-25T14:05:21.005Z"
   },
   {
    "duration": 9,
    "start_time": "2021-07-25T14:05:21.131Z"
   },
   {
    "duration": 7,
    "start_time": "2021-07-25T14:07:01.026Z"
   },
   {
    "duration": 76,
    "start_time": "2021-07-25T14:07:20.308Z"
   },
   {
    "duration": 8,
    "start_time": "2021-07-25T14:07:24.627Z"
   },
   {
    "duration": 8,
    "start_time": "2021-07-25T14:08:44.766Z"
   },
   {
    "duration": 7,
    "start_time": "2021-07-25T14:08:54.102Z"
   },
   {
    "duration": 560,
    "start_time": "2021-07-25T14:22:29.077Z"
   },
   {
    "duration": 576,
    "start_time": "2021-07-25T14:22:36.332Z"
   },
   {
    "duration": 596,
    "start_time": "2021-07-25T14:25:03.076Z"
   },
   {
    "duration": 552,
    "start_time": "2021-07-25T14:25:15.593Z"
   },
   {
    "duration": 571,
    "start_time": "2021-07-25T14:25:30.624Z"
   },
   {
    "duration": 587,
    "start_time": "2021-07-25T14:26:05.086Z"
   },
   {
    "duration": 561,
    "start_time": "2021-07-25T14:27:17.167Z"
   },
   {
    "duration": 13,
    "start_time": "2021-07-25T14:40:15.681Z"
   },
   {
    "duration": 595,
    "start_time": "2021-07-25T14:42:18.114Z"
   },
   {
    "duration": 739,
    "start_time": "2021-07-25T14:42:18.712Z"
   },
   {
    "duration": 34,
    "start_time": "2021-07-25T14:42:19.454Z"
   },
   {
    "duration": 69,
    "start_time": "2021-07-25T14:42:19.491Z"
   },
   {
    "duration": 670,
    "start_time": "2021-07-25T14:42:19.562Z"
   },
   {
    "duration": 29,
    "start_time": "2021-07-25T14:42:20.234Z"
   },
   {
    "duration": 20,
    "start_time": "2021-07-25T14:42:20.283Z"
   },
   {
    "duration": 76,
    "start_time": "2021-07-25T14:42:20.308Z"
   },
   {
    "duration": 14,
    "start_time": "2021-07-25T14:42:20.388Z"
   },
   {
    "duration": 1013,
    "start_time": "2021-07-25T14:42:20.405Z"
   },
   {
    "duration": 4,
    "start_time": "2021-07-25T14:42:21.421Z"
   },
   {
    "duration": 127,
    "start_time": "2021-07-25T14:42:21.428Z"
   },
   {
    "duration": 26,
    "start_time": "2021-07-25T14:42:21.558Z"
   },
   {
    "duration": 40,
    "start_time": "2021-07-25T14:42:21.587Z"
   },
   {
    "duration": 61,
    "start_time": "2021-07-25T14:42:21.630Z"
   },
   {
    "duration": 11,
    "start_time": "2021-07-25T14:42:21.694Z"
   },
   {
    "duration": 37,
    "start_time": "2021-07-25T14:42:21.708Z"
   },
   {
    "duration": 23,
    "start_time": "2021-07-25T14:42:21.784Z"
   },
   {
    "duration": 108,
    "start_time": "2021-07-25T14:42:21.810Z"
   },
   {
    "duration": 25,
    "start_time": "2021-07-25T14:42:21.921Z"
   },
   {
    "duration": 54,
    "start_time": "2021-07-25T14:42:21.949Z"
   },
   {
    "duration": 927,
    "start_time": "2021-07-25T14:42:22.006Z"
   },
   {
    "duration": 3,
    "start_time": "2021-07-25T14:42:22.941Z"
   },
   {
    "duration": 56,
    "start_time": "2021-07-25T14:42:22.948Z"
   },
   {
    "duration": 26,
    "start_time": "2021-07-25T14:42:23.007Z"
   },
   {
    "duration": 100,
    "start_time": "2021-07-25T14:42:23.036Z"
   },
   {
    "duration": 49,
    "start_time": "2021-07-25T14:42:23.139Z"
   },
   {
    "duration": 6,
    "start_time": "2021-07-25T14:42:23.191Z"
   },
   {
    "duration": 25,
    "start_time": "2021-07-25T14:42:23.200Z"
   },
   {
    "duration": 4,
    "start_time": "2021-07-25T14:42:23.228Z"
   },
   {
    "duration": 1670,
    "start_time": "2021-07-25T14:42:23.235Z"
   },
   {
    "duration": 20,
    "start_time": "2021-07-25T14:42:24.907Z"
   },
   {
    "duration": 88,
    "start_time": "2021-07-25T14:42:24.930Z"
   },
   {
    "duration": 33,
    "start_time": "2021-07-25T14:42:25.021Z"
   },
   {
    "duration": 36,
    "start_time": "2021-07-25T14:42:25.056Z"
   },
   {
    "duration": 40,
    "start_time": "2021-07-25T14:42:25.095Z"
   },
   {
    "duration": 46,
    "start_time": "2021-07-25T14:42:25.137Z"
   },
   {
    "duration": 32,
    "start_time": "2021-07-25T14:42:25.186Z"
   },
   {
    "duration": 72,
    "start_time": "2021-07-25T14:42:25.220Z"
   },
   {
    "duration": 3,
    "start_time": "2021-07-25T14:42:25.295Z"
   },
   {
    "duration": 7,
    "start_time": "2021-07-25T14:42:25.300Z"
   },
   {
    "duration": 50,
    "start_time": "2021-07-25T14:42:25.309Z"
   },
   {
    "duration": 23,
    "start_time": "2021-07-25T14:42:25.361Z"
   },
   {
    "duration": 9,
    "start_time": "2021-07-25T14:42:25.387Z"
   },
   {
    "duration": 7,
    "start_time": "2021-07-25T14:42:25.399Z"
   },
   {
    "duration": 78,
    "start_time": "2021-07-25T14:42:25.408Z"
   },
   {
    "duration": 54,
    "start_time": "2021-07-25T14:42:25.489Z"
   },
   {
    "duration": 44,
    "start_time": "2021-07-25T14:42:25.545Z"
   },
   {
    "duration": 922,
    "start_time": "2021-07-25T14:42:25.591Z"
   },
   {
    "duration": 569,
    "start_time": "2021-07-25T14:42:26.515Z"
   },
   {
    "duration": 14,
    "start_time": "2021-07-25T14:42:27.087Z"
   },
   {
    "duration": 96,
    "start_time": "2021-07-25T14:42:27.104Z"
   },
   {
    "duration": 6,
    "start_time": "2021-07-25T14:42:27.203Z"
   },
   {
    "duration": 11,
    "start_time": "2021-07-25T14:42:27.213Z"
   },
   {
    "duration": 113,
    "start_time": "2021-07-25T14:42:27.226Z"
   },
   {
    "duration": 9,
    "start_time": "2021-07-25T14:42:27.342Z"
   },
   {
    "duration": 286,
    "start_time": "2021-07-25T14:43:24.363Z"
   },
   {
    "duration": 253,
    "start_time": "2021-07-25T14:43:33.404Z"
   },
   {
    "duration": 75,
    "start_time": "2021-07-25T14:43:38.675Z"
   },
   {
    "duration": 76,
    "start_time": "2021-07-25T14:43:58.633Z"
   },
   {
    "duration": 26,
    "start_time": "2021-07-25T14:47:53.544Z"
   },
   {
    "duration": 289,
    "start_time": "2021-07-25T14:48:10.608Z"
   },
   {
    "duration": 611,
    "start_time": "2021-07-25T14:48:44.516Z"
   },
   {
    "duration": 294,
    "start_time": "2021-07-25T14:48:48.622Z"
   },
   {
    "duration": 552,
    "start_time": "2021-07-25T14:48:55.107Z"
   },
   {
    "duration": 605,
    "start_time": "2021-07-25T14:48:55.662Z"
   },
   {
    "duration": 28,
    "start_time": "2021-07-25T14:48:56.271Z"
   },
   {
    "duration": 90,
    "start_time": "2021-07-25T14:48:56.301Z"
   },
   {
    "duration": 25,
    "start_time": "2021-07-25T14:48:56.393Z"
   },
   {
    "duration": 898,
    "start_time": "2021-07-25T14:48:56.421Z"
   },
   {
    "duration": 31,
    "start_time": "2021-07-25T14:48:57.322Z"
   },
   {
    "duration": 29,
    "start_time": "2021-07-25T14:48:57.356Z"
   },
   {
    "duration": 41,
    "start_time": "2021-07-25T14:48:57.387Z"
   },
   {
    "duration": 12,
    "start_time": "2021-07-25T14:48:57.430Z"
   },
   {
    "duration": 823,
    "start_time": "2021-07-25T14:48:57.482Z"
   },
   {
    "duration": 4,
    "start_time": "2021-07-25T14:48:58.307Z"
   },
   {
    "duration": 120,
    "start_time": "2021-07-25T14:48:58.313Z"
   },
   {
    "duration": 10,
    "start_time": "2021-07-25T14:48:58.437Z"
   },
   {
    "duration": 58,
    "start_time": "2021-07-25T14:48:58.450Z"
   },
   {
    "duration": 25,
    "start_time": "2021-07-25T14:48:58.511Z"
   },
   {
    "duration": 8,
    "start_time": "2021-07-25T14:48:58.539Z"
   },
   {
    "duration": 60,
    "start_time": "2021-07-25T14:48:58.550Z"
   },
   {
    "duration": 22,
    "start_time": "2021-07-25T14:48:58.613Z"
   },
   {
    "duration": 113,
    "start_time": "2021-07-25T14:48:58.638Z"
   },
   {
    "duration": 43,
    "start_time": "2021-07-25T14:48:58.754Z"
   },
   {
    "duration": 28,
    "start_time": "2021-07-25T14:48:58.800Z"
   },
   {
    "duration": 872,
    "start_time": "2021-07-25T14:48:58.831Z"
   },
   {
    "duration": 3,
    "start_time": "2021-07-25T14:48:59.706Z"
   },
   {
    "duration": 51,
    "start_time": "2021-07-25T14:48:59.711Z"
   },
   {
    "duration": 44,
    "start_time": "2021-07-25T14:48:59.765Z"
   },
   {
    "duration": 86,
    "start_time": "2021-07-25T14:48:59.811Z"
   },
   {
    "duration": 22,
    "start_time": "2021-07-25T14:48:59.900Z"
   },
   {
    "duration": 5,
    "start_time": "2021-07-25T14:48:59.924Z"
   },
   {
    "duration": 60,
    "start_time": "2021-07-25T14:48:59.932Z"
   },
   {
    "duration": 4,
    "start_time": "2021-07-25T14:48:59.994Z"
   },
   {
    "duration": 1835,
    "start_time": "2021-07-25T14:49:00.001Z"
   },
   {
    "duration": 19,
    "start_time": "2021-07-25T14:49:01.838Z"
   },
   {
    "duration": 72,
    "start_time": "2021-07-25T14:49:01.860Z"
   },
   {
    "duration": 46,
    "start_time": "2021-07-25T14:49:01.938Z"
   },
   {
    "duration": 16,
    "start_time": "2021-07-25T14:49:01.988Z"
   },
   {
    "duration": 76,
    "start_time": "2021-07-25T14:49:02.007Z"
   },
   {
    "duration": 26,
    "start_time": "2021-07-25T14:49:02.086Z"
   },
   {
    "duration": 35,
    "start_time": "2021-07-25T14:49:02.114Z"
   },
   {
    "duration": 72,
    "start_time": "2021-07-25T14:49:02.151Z"
   },
   {
    "duration": 3,
    "start_time": "2021-07-25T14:49:02.225Z"
   },
   {
    "duration": 8,
    "start_time": "2021-07-25T14:49:02.232Z"
   },
   {
    "duration": 70,
    "start_time": "2021-07-25T14:49:02.242Z"
   },
   {
    "duration": 12,
    "start_time": "2021-07-25T14:49:02.314Z"
   },
   {
    "duration": 16,
    "start_time": "2021-07-25T14:49:02.328Z"
   },
   {
    "duration": 18,
    "start_time": "2021-07-25T14:49:02.346Z"
   },
   {
    "duration": 63,
    "start_time": "2021-07-25T14:49:02.366Z"
   },
   {
    "duration": 67,
    "start_time": "2021-07-25T14:49:02.431Z"
   },
   {
    "duration": 20,
    "start_time": "2021-07-25T14:49:02.501Z"
   },
   {
    "duration": 952,
    "start_time": "2021-07-25T14:49:02.523Z"
   },
   {
    "duration": 549,
    "start_time": "2021-07-25T14:49:03.477Z"
   },
   {
    "duration": 16,
    "start_time": "2021-07-25T14:49:04.028Z"
   },
   {
    "duration": 98,
    "start_time": "2021-07-25T14:49:04.046Z"
   },
   {
    "duration": 7,
    "start_time": "2021-07-25T14:49:04.147Z"
   },
   {
    "duration": 30,
    "start_time": "2021-07-25T14:49:04.156Z"
   },
   {
    "duration": 107,
    "start_time": "2021-07-25T14:49:04.188Z"
   },
   {
    "duration": 8,
    "start_time": "2021-07-25T14:49:04.298Z"
   },
   {
    "duration": 93,
    "start_time": "2021-07-25T14:50:00.616Z"
   },
   {
    "duration": 47,
    "start_time": "2021-07-25T14:53:09.428Z"
   },
   {
    "duration": 47,
    "start_time": "2021-07-25T14:57:55.138Z"
   },
   {
    "duration": 21,
    "start_time": "2021-07-25T14:59:14.025Z"
   },
   {
    "duration": 22,
    "start_time": "2021-07-25T14:59:23.374Z"
   },
   {
    "duration": 32,
    "start_time": "2021-07-25T15:01:49.862Z"
   },
   {
    "duration": 33,
    "start_time": "2021-07-25T15:03:54.988Z"
   },
   {
    "duration": 37,
    "start_time": "2021-07-25T15:04:07.492Z"
   },
   {
    "duration": 37,
    "start_time": "2021-07-25T15:04:48.705Z"
   },
   {
    "duration": 65,
    "start_time": "2021-07-25T15:10:52.975Z"
   },
   {
    "duration": 46,
    "start_time": "2021-07-25T15:11:27.901Z"
   },
   {
    "duration": 41,
    "start_time": "2021-07-25T15:12:08.602Z"
   },
   {
    "duration": 26,
    "start_time": "2021-07-25T15:12:33.066Z"
   },
   {
    "duration": 7114,
    "start_time": "2021-07-25T15:12:50.354Z"
   },
   {
    "duration": 560,
    "start_time": "2021-07-25T15:13:09.894Z"
   },
   {
    "duration": 640,
    "start_time": "2021-07-25T15:13:10.457Z"
   },
   {
    "duration": 18,
    "start_time": "2021-07-25T15:13:11.100Z"
   },
   {
    "duration": 96,
    "start_time": "2021-07-25T15:13:11.121Z"
   },
   {
    "duration": 23,
    "start_time": "2021-07-25T15:13:11.220Z"
   },
   {
    "duration": 650,
    "start_time": "2021-07-25T15:13:11.245Z"
   },
   {
    "duration": 26,
    "start_time": "2021-07-25T15:13:11.898Z"
   },
   {
    "duration": 17,
    "start_time": "2021-07-25T15:13:11.927Z"
   },
   {
    "duration": 70,
    "start_time": "2021-07-25T15:13:11.947Z"
   },
   {
    "duration": 12,
    "start_time": "2021-07-25T15:13:12.020Z"
   },
   {
    "duration": 1042,
    "start_time": "2021-07-25T15:13:12.368Z"
   },
   {
    "duration": 113,
    "start_time": "2021-07-25T15:13:13.413Z"
   },
   {
    "duration": 9,
    "start_time": "2021-07-25T15:13:13.529Z"
   },
   {
    "duration": 58,
    "start_time": "2021-07-25T15:13:13.541Z"
   },
   {
    "duration": 27,
    "start_time": "2021-07-25T15:13:13.601Z"
   },
   {
    "duration": 9,
    "start_time": "2021-07-25T15:13:13.630Z"
   },
   {
    "duration": 62,
    "start_time": "2021-07-25T15:13:13.641Z"
   },
   {
    "duration": 21,
    "start_time": "2021-07-25T15:13:13.706Z"
   },
   {
    "duration": 72,
    "start_time": "2021-07-25T15:13:13.729Z"
   },
   {
    "duration": 23,
    "start_time": "2021-07-25T15:13:13.803Z"
   },
   {
    "duration": 33,
    "start_time": "2021-07-25T15:13:13.828Z"
   },
   {
    "duration": 37,
    "start_time": "2021-07-25T15:13:13.884Z"
   },
   {
    "duration": 92,
    "start_time": "2021-07-25T15:13:13.923Z"
   },
   {
    "duration": 35,
    "start_time": "2021-07-25T15:13:14.017Z"
   },
   {
    "duration": 59,
    "start_time": "2021-07-25T15:13:14.054Z"
   },
   {
    "duration": 37,
    "start_time": "2021-07-25T15:13:14.115Z"
   },
   {
    "duration": 57,
    "start_time": "2021-07-25T15:13:14.154Z"
   },
   {
    "duration": 47,
    "start_time": "2021-07-25T15:13:14.213Z"
   },
   {
    "duration": 3,
    "start_time": "2021-07-25T15:13:14.283Z"
   },
   {
    "duration": 8,
    "start_time": "2021-07-25T15:13:14.288Z"
   },
   {
    "duration": 45,
    "start_time": "2021-07-25T15:13:14.299Z"
   },
   {
    "duration": 12,
    "start_time": "2021-07-25T15:13:14.346Z"
   },
   {
    "duration": 6,
    "start_time": "2021-07-25T15:13:14.386Z"
   },
   {
    "duration": 9,
    "start_time": "2021-07-25T15:13:14.395Z"
   },
   {
    "duration": 79,
    "start_time": "2021-07-25T15:13:14.406Z"
   },
   {
    "duration": 52,
    "start_time": "2021-07-25T15:13:14.488Z"
   },
   {
    "duration": 40,
    "start_time": "2021-07-25T15:13:14.543Z"
   },
   {
    "duration": 945,
    "start_time": "2021-07-25T15:13:14.585Z"
   },
   {
    "duration": 578,
    "start_time": "2021-07-25T15:13:15.532Z"
   },
   {
    "duration": 16,
    "start_time": "2021-07-25T15:13:16.113Z"
   },
   {
    "duration": 107,
    "start_time": "2021-07-25T15:13:16.132Z"
   },
   {
    "duration": 8,
    "start_time": "2021-07-25T15:13:16.242Z"
   },
   {
    "duration": 34,
    "start_time": "2021-07-25T15:13:16.252Z"
   },
   {
    "duration": 109,
    "start_time": "2021-07-25T15:13:16.289Z"
   },
   {
    "duration": 10,
    "start_time": "2021-07-25T15:13:16.400Z"
   },
   {
    "duration": 51,
    "start_time": "2021-07-25T15:14:26.640Z"
   },
   {
    "duration": 76,
    "start_time": "2021-07-25T15:15:31.188Z"
   },
   {
    "duration": 71,
    "start_time": "2021-07-25T15:15:38.889Z"
   },
   {
    "duration": 311,
    "start_time": "2021-07-25T15:15:52.521Z"
   },
   {
    "duration": 51,
    "start_time": "2021-07-25T15:16:00.114Z"
   },
   {
    "duration": 56,
    "start_time": "2021-07-25T15:48:10.288Z"
   },
   {
    "duration": 356,
    "start_time": "2021-07-25T15:50:52.003Z"
   },
   {
    "duration": 94,
    "start_time": "2021-07-25T15:51:03.969Z"
   },
   {
    "duration": 352,
    "start_time": "2021-07-25T15:51:07.941Z"
   },
   {
    "duration": 368,
    "start_time": "2021-07-25T15:52:12.537Z"
   },
   {
    "duration": 348,
    "start_time": "2021-07-25T15:52:19.955Z"
   },
   {
    "duration": 69,
    "start_time": "2021-07-25T15:52:44.714Z"
   },
   {
    "duration": 69,
    "start_time": "2021-07-25T15:53:04.374Z"
   },
   {
    "duration": 344,
    "start_time": "2021-07-25T15:53:33.968Z"
   },
   {
    "duration": 63,
    "start_time": "2021-07-25T15:53:45.341Z"
   },
   {
    "duration": 80,
    "start_time": "2021-07-25T15:54:24.009Z"
   },
   {
    "duration": 362,
    "start_time": "2021-07-25T15:55:03.778Z"
   },
   {
    "duration": 5257,
    "start_time": "2021-07-25T15:55:23.095Z"
   },
   {
    "duration": 99,
    "start_time": "2021-07-25T15:55:40.500Z"
   },
   {
    "duration": 81,
    "start_time": "2021-07-25T15:56:32.160Z"
   },
   {
    "duration": 588,
    "start_time": "2021-07-25T15:59:27.928Z"
   },
   {
    "duration": 628,
    "start_time": "2021-07-25T15:59:28.518Z"
   },
   {
    "duration": 33,
    "start_time": "2021-07-25T15:59:29.150Z"
   },
   {
    "duration": 104,
    "start_time": "2021-07-25T15:59:29.186Z"
   },
   {
    "duration": 27,
    "start_time": "2021-07-25T15:59:29.292Z"
   },
   {
    "duration": 646,
    "start_time": "2021-07-25T15:59:29.321Z"
   },
   {
    "duration": 37,
    "start_time": "2021-07-25T15:59:29.970Z"
   },
   {
    "duration": 19,
    "start_time": "2021-07-25T15:59:30.013Z"
   },
   {
    "duration": 83,
    "start_time": "2021-07-25T15:59:30.036Z"
   },
   {
    "duration": 12,
    "start_time": "2021-07-25T15:59:30.122Z"
   },
   {
    "duration": 934,
    "start_time": "2021-07-25T15:59:30.136Z"
   },
   {
    "duration": 111,
    "start_time": "2021-07-25T15:59:31.072Z"
   },
   {
    "duration": 9,
    "start_time": "2021-07-25T15:59:31.186Z"
   },
   {
    "duration": 43,
    "start_time": "2021-07-25T15:59:31.198Z"
   },
   {
    "duration": 51,
    "start_time": "2021-07-25T15:59:31.243Z"
   },
   {
    "duration": 9,
    "start_time": "2021-07-25T15:59:31.296Z"
   },
   {
    "duration": 39,
    "start_time": "2021-07-25T15:59:31.307Z"
   },
   {
    "duration": 47,
    "start_time": "2021-07-25T15:59:31.348Z"
   },
   {
    "duration": 45,
    "start_time": "2021-07-25T15:59:31.397Z"
   },
   {
    "duration": 51,
    "start_time": "2021-07-25T15:59:31.444Z"
   },
   {
    "duration": 31,
    "start_time": "2021-07-25T15:59:31.498Z"
   },
   {
    "duration": 62,
    "start_time": "2021-07-25T15:59:31.531Z"
   },
   {
    "duration": 98,
    "start_time": "2021-07-25T15:59:31.599Z"
   },
   {
    "duration": 37,
    "start_time": "2021-07-25T15:59:31.700Z"
   },
   {
    "duration": 120,
    "start_time": "2021-07-25T15:59:31.740Z"
   },
   {
    "duration": 54,
    "start_time": "2021-07-25T15:59:31.863Z"
   },
   {
    "duration": 32,
    "start_time": "2021-07-25T15:59:31.920Z"
   },
   {
    "duration": 71,
    "start_time": "2021-07-25T15:59:31.954Z"
   },
   {
    "duration": 3,
    "start_time": "2021-07-25T15:59:32.027Z"
   },
   {
    "duration": 21,
    "start_time": "2021-07-25T15:59:32.034Z"
   },
   {
    "duration": 55,
    "start_time": "2021-07-25T15:59:32.057Z"
   },
   {
    "duration": 12,
    "start_time": "2021-07-25T15:59:32.115Z"
   },
   {
    "duration": 30,
    "start_time": "2021-07-25T15:59:32.130Z"
   },
   {
    "duration": 18,
    "start_time": "2021-07-25T15:59:32.162Z"
   },
   {
    "duration": 77,
    "start_time": "2021-07-25T15:59:32.182Z"
   },
   {
    "duration": 55,
    "start_time": "2021-07-25T15:59:32.261Z"
   },
   {
    "duration": 19,
    "start_time": "2021-07-25T15:59:32.318Z"
   },
   {
    "duration": 974,
    "start_time": "2021-07-25T15:59:32.339Z"
   },
   {
    "duration": 576,
    "start_time": "2021-07-25T15:59:33.316Z"
   },
   {
    "duration": 16,
    "start_time": "2021-07-25T15:59:33.895Z"
   },
   {
    "duration": 100,
    "start_time": "2021-07-25T15:59:33.913Z"
   },
   {
    "duration": 8,
    "start_time": "2021-07-25T15:59:34.016Z"
   },
   {
    "duration": 10,
    "start_time": "2021-07-25T15:59:34.026Z"
   },
   {
    "duration": 206,
    "start_time": "2021-07-25T15:59:34.048Z"
   },
   {
    "duration": 20,
    "start_time": "2021-07-25T15:59:34.257Z"
   },
   {
    "duration": 65,
    "start_time": "2021-07-25T16:00:07.185Z"
   },
   {
    "duration": 106,
    "start_time": "2021-07-25T16:03:02.294Z"
   },
   {
    "duration": 611,
    "start_time": "2021-07-25T16:03:56.384Z"
   },
   {
    "duration": 641,
    "start_time": "2021-07-25T16:03:56.998Z"
   },
   {
    "duration": 20,
    "start_time": "2021-07-25T16:03:57.642Z"
   },
   {
    "duration": 87,
    "start_time": "2021-07-25T16:03:57.664Z"
   },
   {
    "duration": 44,
    "start_time": "2021-07-25T16:03:57.754Z"
   },
   {
    "duration": 898,
    "start_time": "2021-07-25T16:03:57.800Z"
   },
   {
    "duration": 30,
    "start_time": "2021-07-25T16:03:58.701Z"
   },
   {
    "duration": 46,
    "start_time": "2021-07-25T16:03:58.737Z"
   },
   {
    "duration": 43,
    "start_time": "2021-07-25T16:03:58.787Z"
   },
   {
    "duration": 53,
    "start_time": "2021-07-25T16:03:58.833Z"
   },
   {
    "duration": 806,
    "start_time": "2021-07-25T16:03:58.889Z"
   },
   {
    "duration": 109,
    "start_time": "2021-07-25T16:03:59.697Z"
   },
   {
    "duration": 8,
    "start_time": "2021-07-25T16:03:59.808Z"
   },
   {
    "duration": 35,
    "start_time": "2021-07-25T16:03:59.818Z"
   },
   {
    "duration": 49,
    "start_time": "2021-07-25T16:03:59.856Z"
   },
   {
    "duration": 8,
    "start_time": "2021-07-25T16:03:59.907Z"
   },
   {
    "duration": 33,
    "start_time": "2021-07-25T16:03:59.917Z"
   },
   {
    "duration": 50,
    "start_time": "2021-07-25T16:03:59.952Z"
   },
   {
    "duration": 46,
    "start_time": "2021-07-25T16:04:00.004Z"
   },
   {
    "duration": 50,
    "start_time": "2021-07-25T16:04:00.053Z"
   },
   {
    "duration": 34,
    "start_time": "2021-07-25T16:04:00.106Z"
   },
   {
    "duration": 67,
    "start_time": "2021-07-25T16:04:00.142Z"
   },
   {
    "duration": 95,
    "start_time": "2021-07-25T16:04:00.214Z"
   },
   {
    "duration": 36,
    "start_time": "2021-07-25T16:04:00.312Z"
   },
   {
    "duration": 139,
    "start_time": "2021-07-25T16:04:00.350Z"
   },
   {
    "duration": 41,
    "start_time": "2021-07-25T16:04:00.492Z"
   },
   {
    "duration": 63,
    "start_time": "2021-07-25T16:04:00.536Z"
   },
   {
    "duration": 49,
    "start_time": "2021-07-25T16:04:00.602Z"
   },
   {
    "duration": 27,
    "start_time": "2021-07-25T16:04:00.655Z"
   },
   {
    "duration": 22,
    "start_time": "2021-07-25T16:04:00.685Z"
   },
   {
    "duration": 53,
    "start_time": "2021-07-25T16:04:00.709Z"
   },
   {
    "duration": 11,
    "start_time": "2021-07-25T16:04:00.765Z"
   },
   {
    "duration": 15,
    "start_time": "2021-07-25T16:04:00.783Z"
   },
   {
    "duration": 14,
    "start_time": "2021-07-25T16:04:00.801Z"
   },
   {
    "duration": 60,
    "start_time": "2021-07-25T16:04:00.817Z"
   },
   {
    "duration": 52,
    "start_time": "2021-07-25T16:04:00.882Z"
   },
   {
    "duration": 19,
    "start_time": "2021-07-25T16:04:00.937Z"
   },
   {
    "duration": 981,
    "start_time": "2021-07-25T16:04:00.959Z"
   },
   {
    "duration": 577,
    "start_time": "2021-07-25T16:04:01.942Z"
   },
   {
    "duration": 14,
    "start_time": "2021-07-25T16:04:02.522Z"
   },
   {
    "duration": 94,
    "start_time": "2021-07-25T16:04:02.538Z"
   },
   {
    "duration": 8,
    "start_time": "2021-07-25T16:04:02.634Z"
   },
   {
    "duration": 11,
    "start_time": "2021-07-25T16:04:02.644Z"
   },
   {
    "duration": 157,
    "start_time": "2021-07-25T16:04:02.658Z"
   },
   {
    "duration": 11,
    "start_time": "2021-07-25T16:04:02.818Z"
   },
   {
    "duration": 562,
    "start_time": "2021-07-25T16:06:52.039Z"
   },
   {
    "duration": 246,
    "start_time": "2021-07-25T16:07:39.684Z"
   },
   {
    "duration": 235,
    "start_time": "2021-07-25T16:09:02.288Z"
   },
   {
    "duration": 290,
    "start_time": "2021-07-25T16:09:55.305Z"
   },
   {
    "duration": 568,
    "start_time": "2021-07-25T16:10:05.020Z"
   },
   {
    "duration": 656,
    "start_time": "2021-07-25T16:10:05.591Z"
   },
   {
    "duration": 33,
    "start_time": "2021-07-25T16:10:06.249Z"
   },
   {
    "duration": 70,
    "start_time": "2021-07-25T16:10:06.285Z"
   },
   {
    "duration": 45,
    "start_time": "2021-07-25T16:10:06.358Z"
   },
   {
    "duration": 618,
    "start_time": "2021-07-25T16:10:06.405Z"
   },
   {
    "duration": 28,
    "start_time": "2021-07-25T16:10:07.025Z"
   },
   {
    "duration": 37,
    "start_time": "2021-07-25T16:10:07.057Z"
   },
   {
    "duration": 42,
    "start_time": "2021-07-25T16:10:07.097Z"
   },
   {
    "duration": 49,
    "start_time": "2021-07-25T16:10:07.141Z"
   },
   {
    "duration": 815,
    "start_time": "2021-07-25T16:10:07.193Z"
   },
   {
    "duration": 111,
    "start_time": "2021-07-25T16:10:08.010Z"
   },
   {
    "duration": 220,
    "start_time": "2021-07-25T16:10:08.123Z"
   },
   {
    "duration": 9,
    "start_time": "2021-07-25T16:10:08.345Z"
   },
   {
    "duration": 57,
    "start_time": "2021-07-25T16:10:08.356Z"
   },
   {
    "duration": 26,
    "start_time": "2021-07-25T16:10:08.416Z"
   },
   {
    "duration": 40,
    "start_time": "2021-07-25T16:10:08.445Z"
   },
   {
    "duration": 31,
    "start_time": "2021-07-25T16:10:08.487Z"
   },
   {
    "duration": 21,
    "start_time": "2021-07-25T16:10:08.520Z"
   },
   {
    "duration": 73,
    "start_time": "2021-07-25T16:10:08.543Z"
   },
   {
    "duration": 23,
    "start_time": "2021-07-25T16:10:08.618Z"
   },
   {
    "duration": 60,
    "start_time": "2021-07-25T16:10:08.643Z"
   },
   {
    "duration": 35,
    "start_time": "2021-07-25T16:10:08.708Z"
   },
   {
    "duration": 88,
    "start_time": "2021-07-25T16:10:08.746Z"
   },
   {
    "duration": 47,
    "start_time": "2021-07-25T16:10:08.837Z"
   },
   {
    "duration": 56,
    "start_time": "2021-07-25T16:10:21.818Z"
   },
   {
    "duration": 591,
    "start_time": "2021-07-25T16:15:22.000Z"
   },
   {
    "duration": 647,
    "start_time": "2021-07-25T16:15:22.595Z"
   },
   {
    "duration": 38,
    "start_time": "2021-07-25T16:15:23.246Z"
   },
   {
    "duration": 95,
    "start_time": "2021-07-25T16:15:23.288Z"
   },
   {
    "duration": 27,
    "start_time": "2021-07-25T16:15:23.386Z"
   },
   {
    "duration": 653,
    "start_time": "2021-07-25T16:15:23.415Z"
   },
   {
    "duration": 33,
    "start_time": "2021-07-25T16:15:24.071Z"
   },
   {
    "duration": 20,
    "start_time": "2021-07-25T16:15:24.109Z"
   },
   {
    "duration": 70,
    "start_time": "2021-07-25T16:15:24.133Z"
   },
   {
    "duration": 13,
    "start_time": "2021-07-25T16:15:24.205Z"
   },
   {
    "duration": 1109,
    "start_time": "2021-07-25T16:15:24.221Z"
   },
   {
    "duration": 112,
    "start_time": "2021-07-25T16:15:25.333Z"
   },
   {
    "duration": 218,
    "start_time": "2021-07-25T16:15:25.448Z"
   },
   {
    "duration": 18,
    "start_time": "2021-07-25T16:15:25.669Z"
   },
   {
    "duration": 38,
    "start_time": "2021-07-25T16:15:25.689Z"
   },
   {
    "duration": 54,
    "start_time": "2021-07-25T16:15:25.730Z"
   },
   {
    "duration": 9,
    "start_time": "2021-07-25T16:15:25.787Z"
   },
   {
    "duration": 34,
    "start_time": "2021-07-25T16:15:25.798Z"
   },
   {
    "duration": 55,
    "start_time": "2021-07-25T16:15:25.834Z"
   },
   {
    "duration": 45,
    "start_time": "2021-07-25T16:15:25.892Z"
   },
   {
    "duration": 43,
    "start_time": "2021-07-25T16:15:25.939Z"
   },
   {
    "duration": 32,
    "start_time": "2021-07-25T16:15:25.985Z"
   },
   {
    "duration": 38,
    "start_time": "2021-07-25T16:15:26.021Z"
   },
   {
    "duration": 66,
    "start_time": "2021-07-25T16:15:26.082Z"
   },
   {
    "duration": 53,
    "start_time": "2021-07-25T16:15:26.150Z"
   },
   {
    "duration": 55,
    "start_time": "2021-07-25T16:15:26.206Z"
   },
   {
    "duration": 41,
    "start_time": "2021-07-25T16:15:26.283Z"
   },
   {
    "duration": 58,
    "start_time": "2021-07-25T16:15:26.326Z"
   },
   {
    "duration": 48,
    "start_time": "2021-07-25T16:15:26.386Z"
   },
   {
    "duration": 66,
    "start_time": "2021-07-25T16:15:26.436Z"
   },
   {
    "duration": 53,
    "start_time": "2021-07-25T16:15:26.504Z"
   },
   {
    "duration": 53,
    "start_time": "2021-07-25T16:15:38.784Z"
   },
   {
    "duration": 57,
    "start_time": "2021-07-25T16:16:01.376Z"
   },
   {
    "duration": 47,
    "start_time": "2021-07-25T16:16:25.350Z"
   },
   {
    "duration": 294,
    "start_time": "2021-07-25T16:17:22.845Z"
   },
   {
    "duration": 52,
    "start_time": "2021-07-25T16:17:29.411Z"
   },
   {
    "duration": 577,
    "start_time": "2021-07-25T16:20:33.628Z"
   },
   {
    "duration": 635,
    "start_time": "2021-07-25T16:20:34.208Z"
   },
   {
    "duration": 20,
    "start_time": "2021-07-25T16:20:34.846Z"
   },
   {
    "duration": 69,
    "start_time": "2021-07-25T16:20:34.883Z"
   },
   {
    "duration": 45,
    "start_time": "2021-07-25T16:20:34.954Z"
   },
   {
    "duration": 637,
    "start_time": "2021-07-25T16:20:35.002Z"
   },
   {
    "duration": 44,
    "start_time": "2021-07-25T16:20:35.642Z"
   },
   {
    "duration": 18,
    "start_time": "2021-07-25T16:20:35.690Z"
   },
   {
    "duration": 74,
    "start_time": "2021-07-25T16:20:35.711Z"
   },
   {
    "duration": 13,
    "start_time": "2021-07-25T16:20:35.788Z"
   },
   {
    "duration": 830,
    "start_time": "2021-07-25T16:20:35.804Z"
   },
   {
    "duration": 116,
    "start_time": "2021-07-25T16:20:36.636Z"
   },
   {
    "duration": 233,
    "start_time": "2021-07-25T16:20:36.754Z"
   },
   {
    "duration": 11,
    "start_time": "2021-07-25T16:20:36.990Z"
   },
   {
    "duration": 58,
    "start_time": "2021-07-25T16:20:37.004Z"
   },
   {
    "duration": 39,
    "start_time": "2021-07-25T16:20:37.066Z"
   },
   {
    "duration": 11,
    "start_time": "2021-07-25T16:20:37.108Z"
   },
   {
    "duration": 71,
    "start_time": "2021-07-25T16:20:37.121Z"
   },
   {
    "duration": 19,
    "start_time": "2021-07-25T16:20:37.195Z"
   },
   {
    "duration": 75,
    "start_time": "2021-07-25T16:20:37.216Z"
   },
   {
    "duration": 24,
    "start_time": "2021-07-25T16:20:37.294Z"
   },
   {
    "duration": 63,
    "start_time": "2021-07-25T16:20:37.321Z"
   },
   {
    "duration": 37,
    "start_time": "2021-07-25T16:20:37.391Z"
   },
   {
    "duration": 94,
    "start_time": "2021-07-25T16:20:37.431Z"
   },
   {
    "duration": 34,
    "start_time": "2021-07-25T16:20:37.528Z"
   },
   {
    "duration": 67,
    "start_time": "2021-07-25T16:20:37.564Z"
   },
   {
    "duration": 53,
    "start_time": "2021-07-25T16:20:37.633Z"
   },
   {
    "duration": 33,
    "start_time": "2021-07-25T16:20:37.688Z"
   },
   {
    "duration": 82,
    "start_time": "2021-07-25T16:20:37.723Z"
   },
   {
    "duration": 39,
    "start_time": "2021-07-25T16:20:37.808Z"
   },
   {
    "duration": 70,
    "start_time": "2021-07-25T16:20:37.849Z"
   },
   {
    "duration": 69,
    "start_time": "2021-07-25T16:20:37.921Z"
   },
   {
    "duration": 21,
    "start_time": "2021-07-25T16:20:37.993Z"
   },
   {
    "duration": 1033,
    "start_time": "2021-07-25T16:20:38.017Z"
   },
   {
    "duration": 575,
    "start_time": "2021-07-25T16:20:39.053Z"
   },
   {
    "duration": 15,
    "start_time": "2021-07-25T16:20:39.632Z"
   },
   {
    "duration": 99,
    "start_time": "2021-07-25T16:20:39.650Z"
   },
   {
    "duration": 8,
    "start_time": "2021-07-25T16:20:39.752Z"
   },
   {
    "duration": 25,
    "start_time": "2021-07-25T16:20:39.763Z"
   },
   {
    "duration": 123,
    "start_time": "2021-07-25T16:20:39.791Z"
   },
   {
    "duration": 8,
    "start_time": "2021-07-25T16:20:39.917Z"
   },
   {
    "duration": 583,
    "start_time": "2021-07-25T16:21:13.367Z"
   },
   {
    "duration": 634,
    "start_time": "2021-07-25T16:21:13.953Z"
   },
   {
    "duration": 19,
    "start_time": "2021-07-25T16:21:14.590Z"
   },
   {
    "duration": 94,
    "start_time": "2021-07-25T16:21:14.611Z"
   },
   {
    "duration": 24,
    "start_time": "2021-07-25T16:21:14.708Z"
   },
   {
    "duration": 646,
    "start_time": "2021-07-25T16:21:14.734Z"
   },
   {
    "duration": 25,
    "start_time": "2021-07-25T16:21:15.383Z"
   },
   {
    "duration": 16,
    "start_time": "2021-07-25T16:21:15.413Z"
   },
   {
    "duration": 73,
    "start_time": "2021-07-25T16:21:15.431Z"
   },
   {
    "duration": 13,
    "start_time": "2021-07-25T16:21:15.506Z"
   },
   {
    "duration": 1077,
    "start_time": "2021-07-25T16:21:15.521Z"
   },
   {
    "duration": 214,
    "start_time": "2021-07-25T16:21:16.601Z"
   },
   {
    "duration": 508,
    "start_time": "2021-07-25T16:21:16.819Z"
   },
   {
    "duration": 10,
    "start_time": "2021-07-25T16:21:17.330Z"
   },
   {
    "duration": 66,
    "start_time": "2021-07-25T16:21:17.343Z"
   },
   {
    "duration": 18,
    "start_time": "2021-07-25T16:21:17.412Z"
   },
   {
    "duration": 8,
    "start_time": "2021-07-25T16:21:17.432Z"
   },
   {
    "duration": 66,
    "start_time": "2021-07-25T16:21:17.442Z"
   },
   {
    "duration": 17,
    "start_time": "2021-07-25T16:21:17.510Z"
   },
   {
    "duration": 68,
    "start_time": "2021-07-25T16:21:17.529Z"
   },
   {
    "duration": 21,
    "start_time": "2021-07-25T16:21:17.600Z"
   },
   {
    "duration": 32,
    "start_time": "2021-07-25T16:21:17.624Z"
   },
   {
    "duration": 39,
    "start_time": "2021-07-25T16:21:17.685Z"
   },
   {
    "duration": 89,
    "start_time": "2021-07-25T16:21:17.727Z"
   },
   {
    "duration": 37,
    "start_time": "2021-07-25T16:21:17.819Z"
   },
   {
    "duration": 66,
    "start_time": "2021-07-25T16:21:17.859Z"
   },
   {
    "duration": 61,
    "start_time": "2021-07-25T16:21:17.927Z"
   },
   {
    "duration": 32,
    "start_time": "2021-07-25T16:21:17.991Z"
   },
   {
    "duration": 73,
    "start_time": "2021-07-25T16:21:18.026Z"
   },
   {
    "duration": 41,
    "start_time": "2021-07-25T16:21:18.101Z"
   },
   {
    "duration": 75,
    "start_time": "2021-07-25T16:21:18.145Z"
   },
   {
    "duration": 63,
    "start_time": "2021-07-25T16:21:18.223Z"
   },
   {
    "duration": 19,
    "start_time": "2021-07-25T16:21:18.289Z"
   },
   {
    "duration": 996,
    "start_time": "2021-07-25T16:21:18.310Z"
   },
   {
    "duration": 659,
    "start_time": "2021-07-25T16:21:19.309Z"
   },
   {
    "duration": 20,
    "start_time": "2021-07-25T16:21:19.970Z"
   },
   {
    "duration": 98,
    "start_time": "2021-07-25T16:21:19.992Z"
   },
   {
    "duration": 6,
    "start_time": "2021-07-25T16:21:20.093Z"
   },
   {
    "duration": 17,
    "start_time": "2021-07-25T16:21:20.102Z"
   },
   {
    "duration": 106,
    "start_time": "2021-07-25T16:21:20.121Z"
   },
   {
    "duration": 8,
    "start_time": "2021-07-25T16:21:20.230Z"
   },
   {
    "duration": 583,
    "start_time": "2021-07-25T16:22:10.061Z"
   },
   {
    "duration": 649,
    "start_time": "2021-07-25T16:22:10.647Z"
   },
   {
    "duration": 21,
    "start_time": "2021-07-25T16:22:11.301Z"
   },
   {
    "duration": 100,
    "start_time": "2021-07-25T16:22:11.326Z"
   },
   {
    "duration": 26,
    "start_time": "2021-07-25T16:22:11.429Z"
   },
   {
    "duration": 946,
    "start_time": "2021-07-25T16:22:11.482Z"
   },
   {
    "duration": 27,
    "start_time": "2021-07-25T16:22:12.430Z"
   },
   {
    "duration": 31,
    "start_time": "2021-07-25T16:22:12.460Z"
   },
   {
    "duration": 41,
    "start_time": "2021-07-25T16:22:12.495Z"
   },
   {
    "duration": 45,
    "start_time": "2021-07-25T16:22:12.540Z"
   },
   {
    "duration": 816,
    "start_time": "2021-07-25T16:22:12.588Z"
   },
   {
    "duration": 110,
    "start_time": "2021-07-25T16:22:13.406Z"
   },
   {
    "duration": 199,
    "start_time": "2021-07-25T16:22:13.518Z"
   },
   {
    "duration": 8,
    "start_time": "2021-07-25T16:22:13.720Z"
   },
   {
    "duration": 60,
    "start_time": "2021-07-25T16:22:13.731Z"
   },
   {
    "duration": 25,
    "start_time": "2021-07-25T16:22:13.794Z"
   },
   {
    "duration": 8,
    "start_time": "2021-07-25T16:22:13.821Z"
   },
   {
    "duration": 60,
    "start_time": "2021-07-25T16:22:13.832Z"
   },
   {
    "duration": 22,
    "start_time": "2021-07-25T16:22:13.894Z"
   },
   {
    "duration": 69,
    "start_time": "2021-07-25T16:22:13.918Z"
   },
   {
    "duration": 24,
    "start_time": "2021-07-25T16:22:13.990Z"
   },
   {
    "duration": 32,
    "start_time": "2021-07-25T16:22:14.016Z"
   },
   {
    "duration": 66,
    "start_time": "2021-07-25T16:22:14.050Z"
   },
   {
    "duration": 77,
    "start_time": "2021-07-25T16:22:14.119Z"
   },
   {
    "duration": 36,
    "start_time": "2021-07-25T16:22:14.198Z"
   },
   {
    "duration": 76,
    "start_time": "2021-07-25T16:22:14.236Z"
   },
   {
    "duration": 38,
    "start_time": "2021-07-25T16:22:14.317Z"
   },
   {
    "duration": 54,
    "start_time": "2021-07-25T16:22:14.358Z"
   },
   {
    "duration": 69,
    "start_time": "2021-07-25T16:22:14.415Z"
   },
   {
    "duration": 45,
    "start_time": "2021-07-25T16:22:14.486Z"
   },
   {
    "duration": 77,
    "start_time": "2021-07-25T16:22:14.534Z"
   },
   {
    "duration": 54,
    "start_time": "2021-07-25T16:22:14.613Z"
   },
   {
    "duration": 20,
    "start_time": "2021-07-25T16:22:14.683Z"
   },
   {
    "duration": 1042,
    "start_time": "2021-07-25T16:22:14.705Z"
   },
   {
    "duration": 569,
    "start_time": "2021-07-25T16:22:15.750Z"
   },
   {
    "duration": 17,
    "start_time": "2021-07-25T16:22:16.322Z"
   },
   {
    "duration": 97,
    "start_time": "2021-07-25T16:22:16.342Z"
   },
   {
    "duration": 8,
    "start_time": "2021-07-25T16:22:16.442Z"
   },
   {
    "duration": 33,
    "start_time": "2021-07-25T16:22:16.452Z"
   },
   {
    "duration": 117,
    "start_time": "2021-07-25T16:22:16.487Z"
   },
   {
    "duration": 9,
    "start_time": "2021-07-25T16:22:16.607Z"
   },
   {
    "duration": 127,
    "start_time": "2021-07-25T17:11:45.388Z"
   },
   {
    "duration": 384,
    "start_time": "2021-07-25T17:11:49.922Z"
   },
   {
    "duration": 105,
    "start_time": "2021-07-25T17:11:55.577Z"
   },
   {
    "duration": 50,
    "start_time": "2021-07-25T17:16:21.189Z"
   },
   {
    "duration": 35,
    "start_time": "2021-07-25T17:16:30.015Z"
   },
   {
    "duration": 8,
    "start_time": "2021-07-25T17:17:03.090Z"
   },
   {
    "duration": 10,
    "start_time": "2021-07-25T17:19:24.931Z"
   },
   {
    "duration": 12,
    "start_time": "2021-07-25T17:21:16.687Z"
   },
   {
    "duration": 12,
    "start_time": "2021-07-25T17:21:33.864Z"
   },
   {
    "duration": 10,
    "start_time": "2021-07-25T17:21:46.088Z"
   },
   {
    "duration": 280,
    "start_time": "2021-07-25T17:22:59.060Z"
   },
   {
    "duration": 287,
    "start_time": "2021-07-25T17:23:21.132Z"
   },
   {
    "duration": 596,
    "start_time": "2021-07-25T17:23:42.926Z"
   },
   {
    "duration": 637,
    "start_time": "2021-07-25T17:23:43.525Z"
   },
   {
    "duration": 33,
    "start_time": "2021-07-25T17:23:44.165Z"
   },
   {
    "duration": 83,
    "start_time": "2021-07-25T17:23:44.201Z"
   },
   {
    "duration": 24,
    "start_time": "2021-07-25T17:23:44.287Z"
   },
   {
    "duration": 641,
    "start_time": "2021-07-25T17:23:44.314Z"
   },
   {
    "duration": 35,
    "start_time": "2021-07-25T17:23:44.957Z"
   },
   {
    "duration": 17,
    "start_time": "2021-07-25T17:23:44.995Z"
   },
   {
    "duration": 79,
    "start_time": "2021-07-25T17:23:45.015Z"
   },
   {
    "duration": 14,
    "start_time": "2021-07-25T17:23:45.096Z"
   },
   {
    "duration": 819,
    "start_time": "2021-07-25T17:23:45.112Z"
   },
   {
    "duration": 120,
    "start_time": "2021-07-25T17:23:45.934Z"
   },
   {
    "duration": 214,
    "start_time": "2021-07-25T17:23:46.056Z"
   },
   {
    "duration": 16,
    "start_time": "2021-07-25T17:23:46.272Z"
   },
   {
    "duration": 36,
    "start_time": "2021-07-25T17:23:46.290Z"
   },
   {
    "duration": 55,
    "start_time": "2021-07-25T17:23:46.329Z"
   },
   {
    "duration": 9,
    "start_time": "2021-07-25T17:23:46.386Z"
   },
   {
    "duration": 34,
    "start_time": "2021-07-25T17:23:46.397Z"
   },
   {
    "duration": 49,
    "start_time": "2021-07-25T17:23:46.433Z"
   },
   {
    "duration": 44,
    "start_time": "2021-07-25T17:23:46.485Z"
   },
   {
    "duration": 23,
    "start_time": "2021-07-25T17:23:46.531Z"
   },
   {
    "duration": 70,
    "start_time": "2021-07-25T17:23:46.557Z"
   },
   {
    "duration": 67,
    "start_time": "2021-07-25T17:23:46.642Z"
   },
   {
    "duration": 117,
    "start_time": "2021-07-25T17:23:46.712Z"
   },
   {
    "duration": 33,
    "start_time": "2021-07-25T17:23:46.831Z"
   },
   {
    "duration": 63,
    "start_time": "2021-07-25T17:23:46.866Z"
   },
   {
    "duration": 62,
    "start_time": "2021-07-25T17:23:46.931Z"
   },
   {
    "duration": 40,
    "start_time": "2021-07-25T17:23:46.995Z"
   },
   {
    "duration": 114,
    "start_time": "2021-07-25T17:23:47.038Z"
   },
   {
    "duration": 85,
    "start_time": "2021-07-25T17:23:47.155Z"
   },
   {
    "duration": 85,
    "start_time": "2021-07-25T17:23:47.243Z"
   },
   {
    "duration": 64,
    "start_time": "2021-07-25T17:23:47.331Z"
   },
   {
    "duration": 28,
    "start_time": "2021-07-25T17:25:14.577Z"
   },
   {
    "duration": 12,
    "start_time": "2021-07-25T17:26:07.162Z"
   },
   {
    "duration": 288,
    "start_time": "2021-07-25T17:26:33.050Z"
   },
   {
    "duration": 11,
    "start_time": "2021-07-25T17:26:42.815Z"
   },
   {
    "duration": 14,
    "start_time": "2021-07-25T17:27:05.123Z"
   },
   {
    "duration": 14,
    "start_time": "2021-07-25T17:27:21.194Z"
   },
   {
    "duration": 47,
    "start_time": "2021-07-25T17:27:28.334Z"
   },
   {
    "duration": 601,
    "start_time": "2021-07-25T17:28:24.681Z"
   },
   {
    "duration": 635,
    "start_time": "2021-07-25T17:28:25.285Z"
   },
   {
    "duration": 20,
    "start_time": "2021-07-25T17:28:25.923Z"
   },
   {
    "duration": 90,
    "start_time": "2021-07-25T17:28:25.946Z"
   },
   {
    "duration": 45,
    "start_time": "2021-07-25T17:28:26.039Z"
   },
   {
    "duration": 658,
    "start_time": "2021-07-25T17:28:26.087Z"
   },
   {
    "duration": 41,
    "start_time": "2021-07-25T17:28:26.747Z"
   },
   {
    "duration": 17,
    "start_time": "2021-07-25T17:28:26.792Z"
   },
   {
    "duration": 74,
    "start_time": "2021-07-25T17:28:26.812Z"
   },
   {
    "duration": 14,
    "start_time": "2021-07-25T17:28:26.889Z"
   },
   {
    "duration": 833,
    "start_time": "2021-07-25T17:28:26.906Z"
   },
   {
    "duration": 163,
    "start_time": "2021-07-25T17:28:27.744Z"
   },
   {
    "duration": 245,
    "start_time": "2021-07-25T17:28:27.910Z"
   },
   {
    "duration": 27,
    "start_time": "2021-07-25T17:28:28.158Z"
   },
   {
    "duration": 35,
    "start_time": "2021-07-25T17:28:28.187Z"
   },
   {
    "duration": 23,
    "start_time": "2021-07-25T17:28:28.225Z"
   },
   {
    "duration": 36,
    "start_time": "2021-07-25T17:28:28.251Z"
   },
   {
    "duration": 31,
    "start_time": "2021-07-25T17:28:28.289Z"
   },
   {
    "duration": 20,
    "start_time": "2021-07-25T17:28:28.323Z"
   },
   {
    "duration": 76,
    "start_time": "2021-07-25T17:28:28.345Z"
   },
   {
    "duration": 21,
    "start_time": "2021-07-25T17:28:28.423Z"
   },
   {
    "duration": 59,
    "start_time": "2021-07-25T17:28:28.447Z"
   },
   {
    "duration": 37,
    "start_time": "2021-07-25T17:28:28.511Z"
   },
   {
    "duration": 92,
    "start_time": "2021-07-25T17:28:28.550Z"
   },
   {
    "duration": 44,
    "start_time": "2021-07-25T17:28:28.645Z"
   },
   {
    "duration": 50,
    "start_time": "2021-07-25T17:28:28.691Z"
   },
   {
    "duration": 61,
    "start_time": "2021-07-25T17:28:28.743Z"
   },
   {
    "duration": 31,
    "start_time": "2021-07-25T17:28:28.806Z"
   },
   {
    "duration": 75,
    "start_time": "2021-07-25T17:28:28.840Z"
   },
   {
    "duration": 43,
    "start_time": "2021-07-25T17:28:28.917Z"
   },
   {
    "duration": 52,
    "start_time": "2021-07-25T17:28:28.982Z"
   },
   {
    "duration": 7,
    "start_time": "2021-07-25T17:28:46.483Z"
   },
   {
    "duration": 6596,
    "start_time": "2021-07-25T17:28:50.189Z"
   },
   {
    "duration": 11,
    "start_time": "2021-07-25T17:30:06.457Z"
   },
   {
    "duration": 577,
    "start_time": "2021-07-25T17:30:21.204Z"
   },
   {
    "duration": 642,
    "start_time": "2021-07-25T17:30:21.783Z"
   },
   {
    "duration": 21,
    "start_time": "2021-07-25T17:30:22.430Z"
   },
   {
    "duration": 96,
    "start_time": "2021-07-25T17:30:22.455Z"
   },
   {
    "duration": 47,
    "start_time": "2021-07-25T17:30:22.554Z"
   },
   {
    "duration": 643,
    "start_time": "2021-07-25T17:30:22.604Z"
   },
   {
    "duration": 44,
    "start_time": "2021-07-25T17:30:23.250Z"
   },
   {
    "duration": 17,
    "start_time": "2021-07-25T17:30:23.299Z"
   },
   {
    "duration": 72,
    "start_time": "2021-07-25T17:30:23.319Z"
   },
   {
    "duration": 12,
    "start_time": "2021-07-25T17:30:23.393Z"
   },
   {
    "duration": 1156,
    "start_time": "2021-07-25T17:30:23.407Z"
   },
   {
    "duration": 103,
    "start_time": "2021-07-25T17:30:24.566Z"
   },
   {
    "duration": 210,
    "start_time": "2021-07-25T17:30:24.683Z"
   },
   {
    "duration": 9,
    "start_time": "2021-07-25T17:30:24.895Z"
   },
   {
    "duration": 38,
    "start_time": "2021-07-25T17:30:24.906Z"
   },
   {
    "duration": 56,
    "start_time": "2021-07-25T17:30:24.946Z"
   },
   {
    "duration": 8,
    "start_time": "2021-07-25T17:30:25.004Z"
   },
   {
    "duration": 35,
    "start_time": "2021-07-25T17:30:25.014Z"
   },
   {
    "duration": 50,
    "start_time": "2021-07-25T17:30:25.051Z"
   },
   {
    "duration": 44,
    "start_time": "2021-07-25T17:30:25.103Z"
   },
   {
    "duration": 46,
    "start_time": "2021-07-25T17:30:25.150Z"
   },
   {
    "duration": 32,
    "start_time": "2021-07-25T17:30:25.198Z"
   },
   {
    "duration": 61,
    "start_time": "2021-07-25T17:30:25.234Z"
   },
   {
    "duration": 88,
    "start_time": "2021-07-25T17:30:25.298Z"
   },
   {
    "duration": 33,
    "start_time": "2021-07-25T17:30:25.388Z"
   },
   {
    "duration": 74,
    "start_time": "2021-07-25T17:30:25.423Z"
   },
   {
    "duration": 36,
    "start_time": "2021-07-25T17:30:25.499Z"
   },
   {
    "duration": 60,
    "start_time": "2021-07-25T17:30:25.537Z"
   },
   {
    "duration": 48,
    "start_time": "2021-07-25T17:30:25.600Z"
   },
   {
    "duration": 57,
    "start_time": "2021-07-25T17:30:25.650Z"
   },
   {
    "duration": 75,
    "start_time": "2021-07-25T17:30:25.709Z"
   },
   {
    "duration": 15,
    "start_time": "2021-07-25T17:31:30.097Z"
   },
   {
    "duration": 50,
    "start_time": "2021-07-25T17:31:35.792Z"
   },
   {
    "duration": 54,
    "start_time": "2021-07-25T17:31:56.726Z"
   },
   {
    "duration": 299,
    "start_time": "2021-07-25T17:33:38.163Z"
   },
   {
    "duration": 295,
    "start_time": "2021-07-25T17:33:44.512Z"
   },
   {
    "duration": 54,
    "start_time": "2021-07-25T17:33:49.327Z"
   },
   {
    "duration": 53,
    "start_time": "2021-07-25T17:34:05.732Z"
   },
   {
    "duration": 34,
    "start_time": "2021-07-25T17:34:18.992Z"
   },
   {
    "duration": 575,
    "start_time": "2021-07-25T17:34:51.977Z"
   },
   {
    "duration": 688,
    "start_time": "2021-07-25T17:34:52.555Z"
   },
   {
    "duration": 40,
    "start_time": "2021-07-25T17:34:53.247Z"
   },
   {
    "duration": 66,
    "start_time": "2021-07-25T17:34:53.290Z"
   },
   {
    "duration": 44,
    "start_time": "2021-07-25T17:34:53.358Z"
   },
   {
    "duration": 643,
    "start_time": "2021-07-25T17:34:53.405Z"
   },
   {
    "duration": 38,
    "start_time": "2021-07-25T17:34:54.051Z"
   },
   {
    "duration": 16,
    "start_time": "2021-07-25T17:34:54.093Z"
   },
   {
    "duration": 71,
    "start_time": "2021-07-25T17:34:54.113Z"
   },
   {
    "duration": 12,
    "start_time": "2021-07-25T17:34:54.187Z"
   },
   {
    "duration": 807,
    "start_time": "2021-07-25T17:34:54.202Z"
   },
   {
    "duration": 108,
    "start_time": "2021-07-25T17:34:55.011Z"
   },
   {
    "duration": 209,
    "start_time": "2021-07-25T17:34:55.121Z"
   },
   {
    "duration": 9,
    "start_time": "2021-07-25T17:34:55.333Z"
   },
   {
    "duration": 58,
    "start_time": "2021-07-25T17:34:55.345Z"
   },
   {
    "duration": 23,
    "start_time": "2021-07-25T17:34:55.406Z"
   },
   {
    "duration": 8,
    "start_time": "2021-07-25T17:34:55.432Z"
   },
   {
    "duration": 62,
    "start_time": "2021-07-25T17:34:55.442Z"
   },
   {
    "duration": 22,
    "start_time": "2021-07-25T17:34:55.507Z"
   },
   {
    "duration": 75,
    "start_time": "2021-07-25T17:34:55.531Z"
   },
   {
    "duration": 22,
    "start_time": "2021-07-25T17:34:55.609Z"
   },
   {
    "duration": 58,
    "start_time": "2021-07-25T17:34:55.634Z"
   },
   {
    "duration": 38,
    "start_time": "2021-07-25T17:34:55.699Z"
   },
   {
    "duration": 93,
    "start_time": "2021-07-25T17:34:55.741Z"
   },
   {
    "duration": 48,
    "start_time": "2021-07-25T17:34:55.836Z"
   },
   {
    "duration": 55,
    "start_time": "2021-07-25T17:34:55.886Z"
   },
   {
    "duration": 70,
    "start_time": "2021-07-25T17:34:55.944Z"
   },
   {
    "duration": 33,
    "start_time": "2021-07-25T17:34:56.017Z"
   },
   {
    "duration": 75,
    "start_time": "2021-07-25T17:34:56.053Z"
   },
   {
    "duration": 65,
    "start_time": "2021-07-25T17:34:56.131Z"
   },
   {
    "duration": 52,
    "start_time": "2021-07-25T17:34:56.199Z"
   },
   {
    "duration": 54,
    "start_time": "2021-07-25T17:36:22.806Z"
   },
   {
    "duration": 107,
    "start_time": "2021-07-25T17:37:12.389Z"
   },
   {
    "duration": 31,
    "start_time": "2021-07-25T17:37:27.773Z"
   },
   {
    "duration": 49,
    "start_time": "2021-07-25T17:37:40.009Z"
   },
   {
    "duration": 25,
    "start_time": "2021-07-25T17:37:51.397Z"
   },
   {
    "duration": 22,
    "start_time": "2021-07-25T17:39:03.858Z"
   },
   {
    "duration": 1352,
    "start_time": "2021-07-26T07:57:37.838Z"
   },
   {
    "duration": 344,
    "start_time": "2021-07-26T07:57:39.192Z"
   },
   {
    "duration": 18,
    "start_time": "2021-07-26T07:57:39.538Z"
   },
   {
    "duration": 71,
    "start_time": "2021-07-26T07:57:39.557Z"
   },
   {
    "duration": 19,
    "start_time": "2021-07-26T07:57:39.630Z"
   },
   {
    "duration": 342,
    "start_time": "2021-07-26T07:57:39.651Z"
   },
   {
    "duration": 19,
    "start_time": "2021-07-26T07:57:39.995Z"
   },
   {
    "duration": 11,
    "start_time": "2021-07-26T07:57:40.017Z"
   },
   {
    "duration": 28,
    "start_time": "2021-07-26T07:57:40.030Z"
   },
   {
    "duration": 38,
    "start_time": "2021-07-26T07:57:40.059Z"
   },
   {
    "duration": 473,
    "start_time": "2021-07-26T07:57:40.099Z"
   },
   {
    "duration": 75,
    "start_time": "2021-07-26T07:57:40.574Z"
   },
   {
    "duration": 172,
    "start_time": "2021-07-26T07:57:40.651Z"
   },
   {
    "duration": 6,
    "start_time": "2021-07-26T07:57:40.824Z"
   },
   {
    "duration": 29,
    "start_time": "2021-07-26T07:57:40.832Z"
   },
   {
    "duration": 36,
    "start_time": "2021-07-26T07:57:40.862Z"
   },
   {
    "duration": 6,
    "start_time": "2021-07-26T07:57:40.899Z"
   },
   {
    "duration": 22,
    "start_time": "2021-07-26T07:57:40.906Z"
   },
   {
    "duration": 15,
    "start_time": "2021-07-26T07:57:40.930Z"
   },
   {
    "duration": 53,
    "start_time": "2021-07-26T07:57:40.946Z"
   },
   {
    "duration": 13,
    "start_time": "2021-07-26T07:57:41.000Z"
   },
   {
    "duration": 20,
    "start_time": "2021-07-26T07:57:41.015Z"
   },
   {
    "duration": 23,
    "start_time": "2021-07-26T07:57:41.038Z"
   },
   {
    "duration": 75,
    "start_time": "2021-07-26T07:57:41.063Z"
   },
   {
    "duration": 23,
    "start_time": "2021-07-26T07:57:41.140Z"
   },
   {
    "duration": 49,
    "start_time": "2021-07-26T07:57:41.165Z"
   },
   {
    "duration": 22,
    "start_time": "2021-07-26T07:57:41.215Z"
   },
   {
    "duration": 18,
    "start_time": "2021-07-26T07:57:41.239Z"
   },
   {
    "duration": 133,
    "start_time": "2021-07-26T07:57:41.259Z"
   },
   {
    "duration": 18,
    "start_time": "2021-07-26T07:57:41.393Z"
   },
   {
    "duration": 29,
    "start_time": "2021-07-26T07:57:41.413Z"
   },
   {
    "duration": 19,
    "start_time": "2021-07-26T07:57:41.444Z"
   },
   {
    "duration": 58,
    "start_time": "2021-07-26T07:57:41.465Z"
   },
   {
    "duration": 15,
    "start_time": "2021-07-26T07:57:41.524Z"
   },
   {
    "duration": 534,
    "start_time": "2021-07-26T07:57:41.541Z"
   },
   {
    "duration": 314,
    "start_time": "2021-07-26T07:57:42.077Z"
   },
   {
    "duration": 10,
    "start_time": "2021-07-26T07:57:42.393Z"
   },
   {
    "duration": 45,
    "start_time": "2021-07-26T07:57:42.404Z"
   },
   {
    "duration": 6,
    "start_time": "2021-07-26T07:57:42.451Z"
   },
   {
    "duration": 35,
    "start_time": "2021-07-26T07:57:42.458Z"
   },
   {
    "duration": 51,
    "start_time": "2021-07-26T07:57:42.495Z"
   },
   {
    "duration": 5,
    "start_time": "2021-07-26T07:57:42.548Z"
   },
   {
    "duration": 21,
    "start_time": "2021-07-26T08:02:02.273Z"
   },
   {
    "duration": 323,
    "start_time": "2021-07-26T08:03:52.470Z"
   },
   {
    "duration": 323,
    "start_time": "2021-07-26T08:04:12.842Z"
   },
   {
    "duration": 344,
    "start_time": "2021-07-26T08:05:36.378Z"
   },
   {
    "duration": 414,
    "start_time": "2021-07-26T08:06:05.337Z"
   },
   {
    "duration": 328,
    "start_time": "2021-07-26T08:06:56.841Z"
   },
   {
    "duration": 88,
    "start_time": "2021-07-26T08:08:18.145Z"
   },
   {
    "duration": 559,
    "start_time": "2021-07-26T08:08:22.166Z"
   },
   {
    "duration": 23,
    "start_time": "2021-07-26T08:10:16.956Z"
   },
   {
    "duration": 28,
    "start_time": "2021-07-26T08:10:36.089Z"
   },
   {
    "duration": 27,
    "start_time": "2021-07-26T08:13:03.595Z"
   },
   {
    "duration": 27,
    "start_time": "2021-07-26T08:13:13.420Z"
   },
   {
    "duration": 18,
    "start_time": "2021-07-26T08:18:28.906Z"
   },
   {
    "duration": 358,
    "start_time": "2021-07-26T08:20:06.071Z"
   },
   {
    "duration": 15,
    "start_time": "2021-07-26T08:20:15.280Z"
   },
   {
    "duration": 17,
    "start_time": "2021-07-26T08:20:19.115Z"
   },
   {
    "duration": 250,
    "start_time": "2021-07-26T08:20:34.624Z"
   },
   {
    "duration": 282,
    "start_time": "2021-07-26T08:20:38.483Z"
   },
   {
    "duration": 292,
    "start_time": "2021-07-26T08:20:57.782Z"
   },
   {
    "duration": 265,
    "start_time": "2021-07-26T08:21:10.174Z"
   },
   {
    "duration": 250,
    "start_time": "2021-07-26T08:21:38.595Z"
   },
   {
    "duration": 275,
    "start_time": "2021-07-26T08:21:47.994Z"
   },
   {
    "duration": 250,
    "start_time": "2021-07-26T08:43:22.088Z"
   },
   {
    "duration": 71,
    "start_time": "2021-07-26T08:43:28.651Z"
   },
   {
    "duration": 246,
    "start_time": "2021-07-26T08:43:36.932Z"
   },
   {
    "duration": 256,
    "start_time": "2021-07-26T08:44:39.074Z"
   },
   {
    "duration": 14,
    "start_time": "2021-07-26T08:44:46.386Z"
   },
   {
    "duration": 242,
    "start_time": "2021-07-26T08:45:55.854Z"
   },
   {
    "duration": 14,
    "start_time": "2021-07-26T08:46:01.980Z"
   },
   {
    "duration": 20,
    "start_time": "2021-07-26T08:46:26.619Z"
   },
   {
    "duration": 319,
    "start_time": "2021-07-26T08:46:56.977Z"
   },
   {
    "duration": 132,
    "start_time": "2021-07-26T08:47:03.473Z"
   },
   {
    "duration": 77,
    "start_time": "2021-07-26T08:47:09.399Z"
   },
   {
    "duration": 21,
    "start_time": "2021-07-26T08:47:15.486Z"
   },
   {
    "duration": 18,
    "start_time": "2021-07-26T08:48:40.480Z"
   },
   {
    "duration": 21,
    "start_time": "2021-07-26T08:48:48.603Z"
   },
   {
    "duration": 34,
    "start_time": "2021-07-26T08:50:42.908Z"
   },
   {
    "duration": 33,
    "start_time": "2021-07-26T08:51:21.021Z"
   },
   {
    "duration": 33,
    "start_time": "2021-07-26T08:51:51.610Z"
   },
   {
    "duration": 74,
    "start_time": "2021-07-26T08:52:17.858Z"
   },
   {
    "duration": 787,
    "start_time": "2021-07-26T08:52:23.404Z"
   },
   {
    "duration": 569,
    "start_time": "2021-07-26T08:54:12.324Z"
   },
   {
    "duration": 505,
    "start_time": "2021-07-26T08:54:22.385Z"
   },
   {
    "duration": 45,
    "start_time": "2021-07-26T09:34:37.860Z"
   },
   {
    "duration": 31,
    "start_time": "2021-07-26T09:35:01.416Z"
   },
   {
    "duration": 44,
    "start_time": "2021-07-26T09:38:05.765Z"
   },
   {
    "duration": 6,
    "start_time": "2021-07-26T09:38:31.595Z"
   },
   {
    "duration": 518,
    "start_time": "2021-07-26T09:47:09.660Z"
   },
   {
    "duration": 619,
    "start_time": "2021-07-26T09:47:22.053Z"
   },
   {
    "duration": 492,
    "start_time": "2021-07-26T09:49:08.465Z"
   },
   {
    "duration": 1455,
    "start_time": "2021-07-26T09:55:19.621Z"
   },
   {
    "duration": 330,
    "start_time": "2021-07-26T09:55:21.078Z"
   },
   {
    "duration": 51,
    "start_time": "2021-07-26T09:55:21.410Z"
   },
   {
    "duration": 39,
    "start_time": "2021-07-26T09:55:21.463Z"
   },
   {
    "duration": 342,
    "start_time": "2021-07-26T09:55:21.504Z"
   },
   {
    "duration": 18,
    "start_time": "2021-07-26T09:55:21.847Z"
   },
   {
    "duration": 10,
    "start_time": "2021-07-26T09:55:21.867Z"
   },
   {
    "duration": 23,
    "start_time": "2021-07-26T09:55:21.892Z"
   },
   {
    "duration": 8,
    "start_time": "2021-07-26T09:55:21.917Z"
   },
   {
    "duration": 482,
    "start_time": "2021-07-26T09:55:21.926Z"
   },
   {
    "duration": 81,
    "start_time": "2021-07-26T09:55:22.410Z"
   },
   {
    "duration": 165,
    "start_time": "2021-07-26T09:55:22.493Z"
   },
   {
    "duration": 6,
    "start_time": "2021-07-26T09:55:22.660Z"
   },
   {
    "duration": 38,
    "start_time": "2021-07-26T09:55:22.667Z"
   },
   {
    "duration": 19,
    "start_time": "2021-07-26T09:55:22.706Z"
   },
   {
    "duration": 6,
    "start_time": "2021-07-26T09:55:22.726Z"
   },
   {
    "duration": 25,
    "start_time": "2021-07-26T09:55:22.733Z"
   },
   {
    "duration": 40,
    "start_time": "2021-07-26T09:55:22.760Z"
   },
   {
    "duration": 28,
    "start_time": "2021-07-26T09:55:22.801Z"
   },
   {
    "duration": 12,
    "start_time": "2021-07-26T09:55:22.831Z"
   },
   {
    "duration": 24,
    "start_time": "2021-07-26T09:55:22.845Z"
   },
   {
    "duration": 24,
    "start_time": "2021-07-26T09:55:22.891Z"
   },
   {
    "duration": 50,
    "start_time": "2021-07-26T09:55:22.918Z"
   },
   {
    "duration": 38,
    "start_time": "2021-07-26T09:55:22.970Z"
   },
   {
    "duration": 33,
    "start_time": "2021-07-26T09:55:23.010Z"
   },
   {
    "duration": 22,
    "start_time": "2021-07-26T09:55:23.044Z"
   },
   {
    "duration": 41,
    "start_time": "2021-07-26T09:55:23.068Z"
   },
   {
    "duration": 106,
    "start_time": "2021-07-26T09:55:23.110Z"
   },
   {
    "duration": 17,
    "start_time": "2021-07-26T09:55:23.218Z"
   },
   {
    "duration": 29,
    "start_time": "2021-07-26T09:55:23.236Z"
   },
   {
    "duration": 34,
    "start_time": "2021-07-26T09:55:23.267Z"
   },
   {
    "duration": 31,
    "start_time": "2021-07-26T09:55:23.303Z"
   },
   {
    "duration": 14,
    "start_time": "2021-07-26T09:55:23.336Z"
   },
   {
    "duration": 43,
    "start_time": "2021-07-26T09:55:23.351Z"
   },
   {
    "duration": 506,
    "start_time": "2021-07-26T09:55:23.396Z"
   },
   {
    "duration": 597,
    "start_time": "2021-07-26T09:55:23.904Z"
   },
   {
    "duration": 592,
    "start_time": "2021-07-26T09:55:24.503Z"
   },
   {
    "duration": 140,
    "start_time": "2021-07-26T09:55:25.097Z"
   },
   {
    "duration": 57,
    "start_time": "2021-07-26T09:55:25.238Z"
   },
   {
    "duration": 5,
    "start_time": "2021-07-26T09:55:25.296Z"
   },
   {
    "duration": 6,
    "start_time": "2021-07-26T09:55:25.302Z"
   },
   {
    "duration": 49,
    "start_time": "2021-07-26T09:55:25.310Z"
   },
   {
    "duration": 5,
    "start_time": "2021-07-26T09:55:25.361Z"
   },
   {
    "duration": 1447,
    "start_time": "2021-07-26T10:40:25.496Z"
   },
   {
    "duration": 343,
    "start_time": "2021-07-26T10:40:26.945Z"
   },
   {
    "duration": 49,
    "start_time": "2021-07-26T10:40:27.292Z"
   },
   {
    "duration": 17,
    "start_time": "2021-07-26T10:40:27.343Z"
   },
   {
    "duration": 371,
    "start_time": "2021-07-26T10:40:27.361Z"
   },
   {
    "duration": 18,
    "start_time": "2021-07-26T10:40:27.734Z"
   },
   {
    "duration": 10,
    "start_time": "2021-07-26T10:40:27.753Z"
   },
   {
    "duration": 44,
    "start_time": "2021-07-26T10:40:27.766Z"
   },
   {
    "duration": 7,
    "start_time": "2021-07-26T10:40:27.812Z"
   },
   {
    "duration": 481,
    "start_time": "2021-07-26T10:40:27.821Z"
   },
   {
    "duration": 65,
    "start_time": "2021-07-26T10:40:28.303Z"
   },
   {
    "duration": 170,
    "start_time": "2021-07-26T10:40:28.369Z"
   },
   {
    "duration": 6,
    "start_time": "2021-07-26T10:40:28.541Z"
   },
   {
    "duration": 47,
    "start_time": "2021-07-26T10:40:28.549Z"
   },
   {
    "duration": 20,
    "start_time": "2021-07-26T10:40:28.598Z"
   },
   {
    "duration": 6,
    "start_time": "2021-07-26T10:40:28.620Z"
   },
   {
    "duration": 26,
    "start_time": "2021-07-26T10:40:28.627Z"
   },
   {
    "duration": 46,
    "start_time": "2021-07-26T10:40:28.655Z"
   },
   {
    "duration": 29,
    "start_time": "2021-07-26T10:40:28.702Z"
   },
   {
    "duration": 14,
    "start_time": "2021-07-26T10:40:28.733Z"
   },
   {
    "duration": 43,
    "start_time": "2021-07-26T10:40:28.749Z"
   },
   {
    "duration": 24,
    "start_time": "2021-07-26T10:40:28.794Z"
   },
   {
    "duration": 51,
    "start_time": "2021-07-26T10:40:28.821Z"
   },
   {
    "duration": 39,
    "start_time": "2021-07-26T10:40:28.874Z"
   },
   {
    "duration": 33,
    "start_time": "2021-07-26T10:40:28.914Z"
   },
   {
    "duration": 50,
    "start_time": "2021-07-26T10:40:28.948Z"
   },
   {
    "duration": 19,
    "start_time": "2021-07-26T10:40:29.000Z"
   },
   {
    "duration": 108,
    "start_time": "2021-07-26T10:40:29.020Z"
   },
   {
    "duration": 20,
    "start_time": "2021-07-26T10:40:29.130Z"
   },
   {
    "duration": 52,
    "start_time": "2021-07-26T10:40:29.152Z"
   },
   {
    "duration": 22,
    "start_time": "2021-07-26T10:40:29.206Z"
   },
   {
    "duration": 33,
    "start_time": "2021-07-26T10:40:29.230Z"
   },
   {
    "duration": 37,
    "start_time": "2021-07-26T10:40:29.265Z"
   },
   {
    "duration": 20,
    "start_time": "2021-07-26T10:40:29.304Z"
   },
   {
    "duration": 538,
    "start_time": "2021-07-26T10:40:29.326Z"
   },
   {
    "duration": 611,
    "start_time": "2021-07-26T10:40:29.866Z"
   },
   {
    "duration": 625,
    "start_time": "2021-07-26T10:40:30.479Z"
   },
   {
    "duration": 147,
    "start_time": "2021-07-26T10:40:31.105Z"
   },
   {
    "duration": 54,
    "start_time": "2021-07-26T10:40:31.254Z"
   },
   {
    "duration": 5,
    "start_time": "2021-07-26T10:40:31.309Z"
   },
   {
    "duration": 8,
    "start_time": "2021-07-26T10:40:31.315Z"
   },
   {
    "duration": 68,
    "start_time": "2021-07-26T10:40:31.325Z"
   },
   {
    "duration": 7,
    "start_time": "2021-07-26T10:40:31.395Z"
   },
   {
    "duration": 6,
    "start_time": "2021-07-26T12:06:37.234Z"
   },
   {
    "duration": 9,
    "start_time": "2021-07-26T12:12:38.699Z"
   },
   {
    "duration": 9,
    "start_time": "2021-07-26T12:14:12.450Z"
   },
   {
    "duration": 4,
    "start_time": "2021-07-26T12:14:21.378Z"
   },
   {
    "duration": 9,
    "start_time": "2021-07-26T12:14:36.176Z"
   },
   {
    "duration": 10,
    "start_time": "2021-07-26T12:15:21.104Z"
   },
   {
    "duration": 13,
    "start_time": "2021-07-26T13:01:14.154Z"
   },
   {
    "duration": 1911,
    "start_time": "2021-07-26T14:24:50.075Z"
   },
   {
    "duration": 621,
    "start_time": "2021-07-26T14:24:51.988Z"
   },
   {
    "duration": 91,
    "start_time": "2021-07-26T14:24:52.612Z"
   },
   {
    "duration": 24,
    "start_time": "2021-07-26T14:24:52.705Z"
   },
   {
    "duration": 595,
    "start_time": "2021-07-26T14:24:52.731Z"
   },
   {
    "duration": 34,
    "start_time": "2021-07-26T14:24:53.329Z"
   },
   {
    "duration": 16,
    "start_time": "2021-07-26T14:24:53.365Z"
   },
   {
    "duration": 76,
    "start_time": "2021-07-26T14:24:53.385Z"
   },
   {
    "duration": 13,
    "start_time": "2021-07-26T14:24:53.464Z"
   },
   {
    "duration": 767,
    "start_time": "2021-07-26T14:24:53.479Z"
   },
   {
    "duration": 110,
    "start_time": "2021-07-26T14:24:54.248Z"
   },
   {
    "duration": 209,
    "start_time": "2021-07-26T14:24:54.361Z"
   },
   {
    "duration": 10,
    "start_time": "2021-07-26T14:24:54.573Z"
   },
   {
    "duration": 54,
    "start_time": "2021-07-26T14:24:54.586Z"
   },
   {
    "duration": 26,
    "start_time": "2021-07-26T14:24:54.656Z"
   },
   {
    "duration": 10,
    "start_time": "2021-07-26T14:24:54.684Z"
   },
   {
    "duration": 65,
    "start_time": "2021-07-26T14:24:54.696Z"
   },
   {
    "duration": 23,
    "start_time": "2021-07-26T14:24:54.764Z"
   },
   {
    "duration": 73,
    "start_time": "2021-07-26T14:24:54.789Z"
   },
   {
    "duration": 24,
    "start_time": "2021-07-26T14:24:54.864Z"
   },
   {
    "duration": 32,
    "start_time": "2021-07-26T14:24:54.891Z"
   },
   {
    "duration": 67,
    "start_time": "2021-07-26T14:24:54.925Z"
   },
   {
    "duration": 98,
    "start_time": "2021-07-26T14:24:54.999Z"
   },
   {
    "duration": 36,
    "start_time": "2021-07-26T14:24:55.101Z"
   },
   {
    "duration": 49,
    "start_time": "2021-07-26T14:24:55.156Z"
   },
   {
    "duration": 62,
    "start_time": "2021-07-26T14:24:55.208Z"
   },
   {
    "duration": 30,
    "start_time": "2021-07-26T14:24:55.272Z"
   },
   {
    "duration": 137,
    "start_time": "2021-07-26T14:24:55.304Z"
   },
   {
    "duration": 39,
    "start_time": "2021-07-26T14:24:55.443Z"
   },
   {
    "duration": 48,
    "start_time": "2021-07-26T14:24:55.484Z"
   },
   {
    "duration": 49,
    "start_time": "2021-07-26T14:24:55.534Z"
   },
   {
    "duration": 71,
    "start_time": "2021-07-26T14:24:55.586Z"
   },
   {
    "duration": 23,
    "start_time": "2021-07-26T14:24:55.659Z"
   },
   {
    "duration": 34,
    "start_time": "2021-07-26T14:24:55.684Z"
   },
   {
    "duration": 943,
    "start_time": "2021-07-26T14:24:55.721Z"
   },
   {
    "duration": 1072,
    "start_time": "2021-07-26T14:24:56.667Z"
   },
   {
    "duration": 1050,
    "start_time": "2021-07-26T14:24:57.742Z"
   },
   {
    "duration": 174,
    "start_time": "2021-07-26T14:24:58.795Z"
   },
   {
    "duration": 59,
    "start_time": "2021-07-26T14:24:58.972Z"
   },
   {
    "duration": 8,
    "start_time": "2021-07-26T14:24:59.056Z"
   },
   {
    "duration": 15,
    "start_time": "2021-07-26T14:24:59.066Z"
   },
   {
    "duration": 97,
    "start_time": "2021-07-26T14:24:59.083Z"
   },
   {
    "duration": 7,
    "start_time": "2021-07-26T14:24:59.182Z"
   },
   {
    "duration": 527,
    "start_time": "2021-07-26T14:29:03.259Z"
   },
   {
    "duration": 70,
    "start_time": "2021-07-26T14:29:28.829Z"
   },
   {
    "duration": 45,
    "start_time": "2021-07-26T14:30:18.226Z"
   },
   {
    "duration": 13,
    "start_time": "2021-07-26T14:32:23.685Z"
   },
   {
    "duration": 13,
    "start_time": "2021-07-26T14:32:46.987Z"
   },
   {
    "duration": 11,
    "start_time": "2021-07-26T14:32:53.758Z"
   },
   {
    "duration": 19,
    "start_time": "2021-07-26T14:33:18.477Z"
   },
   {
    "duration": 36,
    "start_time": "2021-07-26T14:34:30.766Z"
   },
   {
    "duration": 987,
    "start_time": "2021-07-26T14:35:08.850Z"
   },
   {
    "duration": 36,
    "start_time": "2021-07-26T14:36:01.492Z"
   },
   {
    "duration": 58,
    "start_time": "2021-07-26T14:37:49.313Z"
   },
   {
    "duration": 1068,
    "start_time": "2021-07-26T14:37:58.551Z"
   },
   {
    "duration": 1027,
    "start_time": "2021-07-26T14:38:13.274Z"
   },
   {
    "duration": 616,
    "start_time": "2021-07-26T14:38:29.016Z"
   },
   {
    "duration": 705,
    "start_time": "2021-07-26T14:38:29.634Z"
   },
   {
    "duration": 73,
    "start_time": "2021-07-26T14:38:30.343Z"
   },
   {
    "duration": 49,
    "start_time": "2021-07-26T14:38:30.419Z"
   },
   {
    "duration": 770,
    "start_time": "2021-07-26T14:38:30.470Z"
   },
   {
    "duration": 30,
    "start_time": "2021-07-26T14:38:31.242Z"
   },
   {
    "duration": 27,
    "start_time": "2021-07-26T14:38:31.275Z"
   },
   {
    "duration": 59,
    "start_time": "2021-07-26T14:38:31.306Z"
   },
   {
    "duration": 12,
    "start_time": "2021-07-26T14:38:31.367Z"
   },
   {
    "duration": 771,
    "start_time": "2021-07-26T14:38:31.381Z"
   },
   {
    "duration": 115,
    "start_time": "2021-07-26T14:38:32.156Z"
   },
   {
    "duration": 239,
    "start_time": "2021-07-26T14:38:32.274Z"
   },
   {
    "duration": 9,
    "start_time": "2021-07-26T14:38:32.515Z"
   },
   {
    "duration": 57,
    "start_time": "2021-07-26T14:38:32.526Z"
   },
   {
    "duration": 24,
    "start_time": "2021-07-26T14:38:32.585Z"
   },
   {
    "duration": 8,
    "start_time": "2021-07-26T14:38:32.611Z"
   },
   {
    "duration": 61,
    "start_time": "2021-07-26T14:38:32.622Z"
   },
   {
    "duration": 21,
    "start_time": "2021-07-26T14:38:32.686Z"
   },
   {
    "duration": 71,
    "start_time": "2021-07-26T14:38:32.709Z"
   },
   {
    "duration": 22,
    "start_time": "2021-07-26T14:38:32.783Z"
   },
   {
    "duration": 55,
    "start_time": "2021-07-26T14:38:32.808Z"
   },
   {
    "duration": 36,
    "start_time": "2021-07-26T14:38:32.866Z"
   },
   {
    "duration": 87,
    "start_time": "2021-07-26T14:38:32.907Z"
   },
   {
    "duration": 35,
    "start_time": "2021-07-26T14:38:32.997Z"
   },
   {
    "duration": 73,
    "start_time": "2021-07-26T14:38:33.034Z"
   },
   {
    "duration": 54,
    "start_time": "2021-07-26T14:38:33.110Z"
   },
   {
    "duration": 33,
    "start_time": "2021-07-26T14:38:33.166Z"
   },
   {
    "duration": 74,
    "start_time": "2021-07-26T14:38:33.202Z"
   },
   {
    "duration": 32,
    "start_time": "2021-07-26T14:38:33.278Z"
   },
   {
    "duration": 72,
    "start_time": "2021-07-26T14:38:33.312Z"
   },
   {
    "duration": 32,
    "start_time": "2021-07-26T14:38:33.387Z"
   },
   {
    "duration": 71,
    "start_time": "2021-07-26T14:38:33.422Z"
   },
   {
    "duration": 22,
    "start_time": "2021-07-26T14:38:33.495Z"
   },
   {
    "duration": 59,
    "start_time": "2021-07-26T14:38:33.519Z"
   },
   {
    "duration": 1014,
    "start_time": "2021-07-26T14:38:33.581Z"
   },
   {
    "duration": 1063,
    "start_time": "2021-07-26T14:38:34.597Z"
   },
   {
    "duration": 1055,
    "start_time": "2021-07-26T14:38:35.663Z"
   },
   {
    "duration": 66,
    "start_time": "2021-07-26T14:38:36.720Z"
   },
   {
    "duration": 78,
    "start_time": "2021-07-26T14:38:36.788Z"
   },
   {
    "duration": 6,
    "start_time": "2021-07-26T14:38:36.869Z"
   },
   {
    "duration": 12,
    "start_time": "2021-07-26T14:38:36.878Z"
   },
   {
    "duration": 101,
    "start_time": "2021-07-26T14:38:36.892Z"
   },
   {
    "duration": 9,
    "start_time": "2021-07-26T14:38:36.995Z"
   },
   {
    "duration": 16,
    "start_time": "2021-07-26T14:39:53.830Z"
   },
   {
    "duration": 17,
    "start_time": "2021-07-26T14:40:14.163Z"
   },
   {
    "duration": 17,
    "start_time": "2021-07-26T14:40:24.288Z"
   },
   {
    "duration": 625,
    "start_time": "2021-07-26T14:43:03.673Z"
   },
   {
    "duration": 620,
    "start_time": "2021-07-26T14:43:04.300Z"
   },
   {
    "duration": 80,
    "start_time": "2021-07-26T14:43:04.923Z"
   },
   {
    "duration": 25,
    "start_time": "2021-07-26T14:43:05.006Z"
   },
   {
    "duration": 822,
    "start_time": "2021-07-26T14:43:05.055Z"
   },
   {
    "duration": 26,
    "start_time": "2021-07-26T14:43:05.880Z"
   },
   {
    "duration": 16,
    "start_time": "2021-07-26T14:43:05.909Z"
   },
   {
    "duration": 40,
    "start_time": "2021-07-26T14:43:05.956Z"
   },
   {
    "duration": 12,
    "start_time": "2021-07-26T14:43:05.999Z"
   },
   {
    "duration": 816,
    "start_time": "2021-07-26T14:43:06.013Z"
   },
   {
    "duration": 107,
    "start_time": "2021-07-26T14:43:06.831Z"
   },
   {
    "duration": 227,
    "start_time": "2021-07-26T14:43:06.940Z"
   },
   {
    "duration": 9,
    "start_time": "2021-07-26T14:43:07.169Z"
   },
   {
    "duration": 45,
    "start_time": "2021-07-26T14:43:07.180Z"
   },
   {
    "duration": 49,
    "start_time": "2021-07-26T14:43:07.227Z"
   },
   {
    "duration": 8,
    "start_time": "2021-07-26T14:43:07.278Z"
   },
   {
    "duration": 31,
    "start_time": "2021-07-26T14:43:07.288Z"
   },
   {
    "duration": 48,
    "start_time": "2021-07-26T14:43:07.321Z"
   },
   {
    "duration": 43,
    "start_time": "2021-07-26T14:43:07.372Z"
   },
   {
    "duration": 51,
    "start_time": "2021-07-26T14:43:07.418Z"
   },
   {
    "duration": 33,
    "start_time": "2021-07-26T14:43:07.471Z"
   },
   {
    "duration": 56,
    "start_time": "2021-07-26T14:43:07.506Z"
   },
   {
    "duration": 90,
    "start_time": "2021-07-26T14:43:07.567Z"
   },
   {
    "duration": 33,
    "start_time": "2021-07-26T14:43:07.659Z"
   },
   {
    "duration": 71,
    "start_time": "2021-07-26T14:43:07.694Z"
   },
   {
    "duration": 36,
    "start_time": "2021-07-26T14:43:07.767Z"
   },
   {
    "duration": 55,
    "start_time": "2021-07-26T14:43:07.805Z"
   },
   {
    "duration": 46,
    "start_time": "2021-07-26T14:43:07.862Z"
   },
   {
    "duration": 55,
    "start_time": "2021-07-26T14:43:07.910Z"
   },
   {
    "duration": 51,
    "start_time": "2021-07-26T14:43:07.967Z"
   },
   {
    "duration": 52,
    "start_time": "2021-07-26T14:43:08.020Z"
   },
   {
    "duration": 50,
    "start_time": "2021-07-26T14:43:08.074Z"
   },
   {
    "duration": 46,
    "start_time": "2021-07-26T14:43:08.127Z"
   },
   {
    "duration": 34,
    "start_time": "2021-07-26T14:43:08.175Z"
   },
   {
    "duration": 964,
    "start_time": "2021-07-26T14:43:08.212Z"
   },
   {
    "duration": 1150,
    "start_time": "2021-07-26T14:43:09.179Z"
   },
   {
    "duration": 1094,
    "start_time": "2021-07-26T14:43:10.332Z"
   },
   {
    "duration": 67,
    "start_time": "2021-07-26T14:43:11.428Z"
   },
   {
    "duration": 81,
    "start_time": "2021-07-26T14:43:11.498Z"
   },
   {
    "duration": 7,
    "start_time": "2021-07-26T14:43:11.581Z"
   },
   {
    "duration": 7,
    "start_time": "2021-07-26T14:43:11.591Z"
   },
   {
    "duration": 98,
    "start_time": "2021-07-26T14:43:11.600Z"
   },
   {
    "duration": 8,
    "start_time": "2021-07-26T14:43:11.701Z"
   },
   {
    "duration": 1922,
    "start_time": "2021-07-26T14:46:10.665Z"
   },
   {
    "duration": 607,
    "start_time": "2021-07-26T14:46:12.590Z"
   },
   {
    "duration": 88,
    "start_time": "2021-07-26T14:46:13.201Z"
   },
   {
    "duration": 27,
    "start_time": "2021-07-26T14:46:13.293Z"
   },
   {
    "duration": 618,
    "start_time": "2021-07-26T14:46:13.323Z"
   },
   {
    "duration": 34,
    "start_time": "2021-07-26T14:46:13.944Z"
   },
   {
    "duration": 19,
    "start_time": "2021-07-26T14:46:13.981Z"
   },
   {
    "duration": 80,
    "start_time": "2021-07-26T14:46:14.006Z"
   },
   {
    "duration": 13,
    "start_time": "2021-07-26T14:46:14.090Z"
   },
   {
    "duration": 816,
    "start_time": "2021-07-26T14:46:14.106Z"
   },
   {
    "duration": 108,
    "start_time": "2021-07-26T14:46:14.924Z"
   },
   {
    "duration": 222,
    "start_time": "2021-07-26T14:46:15.034Z"
   },
   {
    "duration": 8,
    "start_time": "2021-07-26T14:46:15.258Z"
   },
   {
    "duration": 49,
    "start_time": "2021-07-26T14:46:15.269Z"
   },
   {
    "duration": 45,
    "start_time": "2021-07-26T14:46:15.320Z"
   },
   {
    "duration": 8,
    "start_time": "2021-07-26T14:46:15.368Z"
   },
   {
    "duration": 47,
    "start_time": "2021-07-26T14:46:15.378Z"
   },
   {
    "duration": 37,
    "start_time": "2021-07-26T14:46:15.427Z"
   },
   {
    "duration": 43,
    "start_time": "2021-07-26T14:46:15.467Z"
   },
   {
    "duration": 47,
    "start_time": "2021-07-26T14:46:15.513Z"
   },
   {
    "duration": 33,
    "start_time": "2021-07-26T14:46:15.562Z"
   },
   {
    "duration": 58,
    "start_time": "2021-07-26T14:46:15.598Z"
   },
   {
    "duration": 75,
    "start_time": "2021-07-26T14:46:15.661Z"
   },
   {
    "duration": 48,
    "start_time": "2021-07-26T14:46:15.739Z"
   },
   {
    "duration": 70,
    "start_time": "2021-07-26T14:46:15.789Z"
   },
   {
    "duration": 38,
    "start_time": "2021-07-26T14:46:15.861Z"
   },
   {
    "duration": 62,
    "start_time": "2021-07-26T14:46:15.902Z"
   },
   {
    "duration": 116,
    "start_time": "2021-07-26T14:46:15.966Z"
   },
   {
    "duration": 31,
    "start_time": "2021-07-26T14:46:16.084Z"
   },
   {
    "duration": 71,
    "start_time": "2021-07-26T14:46:16.117Z"
   },
   {
    "duration": 32,
    "start_time": "2021-07-26T14:46:16.191Z"
   },
   {
    "duration": 74,
    "start_time": "2021-07-26T14:46:16.225Z"
   },
   {
    "duration": 22,
    "start_time": "2021-07-26T14:46:16.301Z"
   },
   {
    "duration": 56,
    "start_time": "2021-07-26T14:46:16.326Z"
   },
   {
    "duration": 950,
    "start_time": "2021-07-26T14:46:16.384Z"
   },
   {
    "duration": 1038,
    "start_time": "2021-07-26T14:46:17.336Z"
   },
   {
    "duration": 1050,
    "start_time": "2021-07-26T14:46:18.377Z"
   },
   {
    "duration": 155,
    "start_time": "2021-07-26T14:46:19.430Z"
   },
   {
    "duration": 83,
    "start_time": "2021-07-26T14:46:19.588Z"
   },
   {
    "duration": 6,
    "start_time": "2021-07-26T14:46:19.674Z"
   },
   {
    "duration": 9,
    "start_time": "2021-07-26T14:46:19.682Z"
   },
   {
    "duration": 102,
    "start_time": "2021-07-26T14:46:19.693Z"
   },
   {
    "duration": 8,
    "start_time": "2021-07-26T14:46:19.797Z"
   }
  ],
  "kernelspec": {
   "display_name": "Python 3",
   "language": "python",
   "name": "python3"
  },
  "language_info": {
   "codemirror_mode": {
    "name": "ipython",
    "version": 3
   },
   "file_extension": ".py",
   "mimetype": "text/x-python",
   "name": "python",
   "nbconvert_exporter": "python",
   "pygments_lexer": "ipython3",
   "version": "3.8.8"
  },
  "toc": {
   "base_numbering": 1,
   "nav_menu": {},
   "number_sections": true,
   "sideBar": true,
   "skip_h1_title": true,
   "title_cell": "Содержание",
   "title_sidebar": "Contents",
   "toc_cell": true,
   "toc_position": {
    "height": "calc(100% - 180px)",
    "left": "10px",
    "top": "150px",
    "width": "238px"
   },
   "toc_section_display": true,
   "toc_window_display": false
  }
 },
 "nbformat": 4,
 "nbformat_minor": 2
}
