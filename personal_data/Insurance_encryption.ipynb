{
 "cells": [
  {
   "cell_type": "markdown",
   "metadata": {
    "toc": true
   },
   "source": [
    "<h1>Содержание<span class=\"tocSkip\"></span></h1>\n",
    "<div class=\"toc\"><ul class=\"toc-item\"><li><span><a href=\"#Загрузка-данных\" data-toc-modified-id=\"Загрузка-данных-1\"><span class=\"toc-item-num\">1&nbsp;&nbsp;</span>Загрузка данных</a></span></li><li><span><a href=\"#Умножение-матриц\" data-toc-modified-id=\"Умножение-матриц-2\"><span class=\"toc-item-num\">2&nbsp;&nbsp;</span>Умножение матриц</a></span></li><li><span><a href=\"#Алгоритм-преобразования\" data-toc-modified-id=\"Алгоритм-преобразования-3\"><span class=\"toc-item-num\">3&nbsp;&nbsp;</span>Алгоритм преобразования</a></span></li><li><span><a href=\"#Проверка-алгоритма\" data-toc-modified-id=\"Проверка-алгоритма-4\"><span class=\"toc-item-num\">4&nbsp;&nbsp;</span>Проверка алгоритма</a></span></li><li><span><a href=\"#Чек-лист-проверки\" data-toc-modified-id=\"Чек-лист-проверки-5\"><span class=\"toc-item-num\">5&nbsp;&nbsp;</span>Чек-лист проверки</a></span></li></ul></div>"
   ]
  },
  {
   "cell_type": "markdown",
   "metadata": {},
   "source": [
    "# Защита персональных данных клиентов"
   ]
  },
  {
   "cell_type": "markdown",
   "metadata": {},
   "source": [
    "Вам нужно защитить данные клиентов страховой компании «Хоть потоп». Разработайте такой метод преобразования данных, чтобы по ним было сложно восстановить персональную информацию. Обоснуйте корректность его работы.\n",
    "\n",
    "Нужно защитить данные, чтобы при преобразовании качество моделей машинного обучения не ухудшилось. Подбирать наилучшую модель не требуется."
   ]
  },
  {
   "cell_type": "markdown",
   "metadata": {},
   "source": [
    "## Загрузка данных"
   ]
  },
  {
   "cell_type": "code",
   "execution_count": 1,
   "metadata": {},
   "outputs": [],
   "source": [
    "import pandas as pd\n",
    "import math\n",
    "import seaborn as sns\n",
    "from sklearn.utils import shuffle\n",
    "from sklearn.model_selection import train_test_split\n",
    "from sklearn.linear_model import LinearRegression\n",
    "from sklearn.linear_model import LogisticRegression\n",
    "from sklearn.tree import DecisionTreeClassifier\n",
    "from sklearn.model_selection import GridSearchCV\n",
    "from sklearn.model_selection import RandomizedSearchCV\n",
    "from sklearn.ensemble import RandomForestRegressor\n",
    "from sklearn.metrics import confusion_matrix\n",
    "from sklearn.metrics import mean_squared_error, r2_score, mean_absolute_error\n",
    "from sklearn.metrics import f1_score\n",
    "from sklearn.metrics import roc_auc_score \n",
    "from sklearn.metrics import recall_score\n",
    "from sklearn.metrics import precision_score\n",
    "from sklearn.preprocessing import StandardScaler \n",
    "from sklearn.linear_model import LogisticRegression\n",
    "from sklearn.dummy import DummyClassifier\n",
    "from sklearn.dummy import DummyRegressor\n",
    "from sklearn.metrics import accuracy_score \n",
    "from sklearn.model_selection import cross_val_score\n",
    "from sklearn.dummy import DummyRegressor\n",
    "import matplotlib.pyplot as plt\n",
    "from collections import Counter\n",
    "import numpy as np\n",
    "from scipy import stats as st\n",
    "from numpy.random import RandomState\n",
    "import warnings\n",
    "warnings.filterwarnings(\"ignore\")"
   ]
  },
  {
   "cell_type": "code",
   "execution_count": 2,
   "metadata": {},
   "outputs": [],
   "source": [
    "#Зафиксируем seed\n",
    "np.random.seed(0)"
   ]
  },
  {
   "cell_type": "code",
   "execution_count": 3,
   "metadata": {},
   "outputs": [],
   "source": [
    "data=pd.read_csv('insurance.csv')"
   ]
  },
  {
   "cell_type": "code",
   "execution_count": 4,
   "metadata": {},
   "outputs": [
    {
     "data": {
      "text/html": [
       "<div>\n",
       "<style scoped>\n",
       "    .dataframe tbody tr th:only-of-type {\n",
       "        vertical-align: middle;\n",
       "    }\n",
       "\n",
       "    .dataframe tbody tr th {\n",
       "        vertical-align: top;\n",
       "    }\n",
       "\n",
       "    .dataframe thead th {\n",
       "        text-align: right;\n",
       "    }\n",
       "</style>\n",
       "<table border=\"1\" class=\"dataframe\">\n",
       "  <thead>\n",
       "    <tr style=\"text-align: right;\">\n",
       "      <th></th>\n",
       "      <th>Пол</th>\n",
       "      <th>Возраст</th>\n",
       "      <th>Зарплата</th>\n",
       "      <th>Члены семьи</th>\n",
       "      <th>Страховые выплаты</th>\n",
       "    </tr>\n",
       "  </thead>\n",
       "  <tbody>\n",
       "    <tr>\n",
       "      <th>398</th>\n",
       "      <td>0</td>\n",
       "      <td>30.0</td>\n",
       "      <td>37700.0</td>\n",
       "      <td>1</td>\n",
       "      <td>0</td>\n",
       "    </tr>\n",
       "    <tr>\n",
       "      <th>3833</th>\n",
       "      <td>1</td>\n",
       "      <td>29.0</td>\n",
       "      <td>43700.0</td>\n",
       "      <td>1</td>\n",
       "      <td>0</td>\n",
       "    </tr>\n",
       "    <tr>\n",
       "      <th>4836</th>\n",
       "      <td>1</td>\n",
       "      <td>38.0</td>\n",
       "      <td>43600.0</td>\n",
       "      <td>1</td>\n",
       "      <td>0</td>\n",
       "    </tr>\n",
       "    <tr>\n",
       "      <th>4572</th>\n",
       "      <td>1</td>\n",
       "      <td>27.0</td>\n",
       "      <td>43400.0</td>\n",
       "      <td>1</td>\n",
       "      <td>0</td>\n",
       "    </tr>\n",
       "    <tr>\n",
       "      <th>636</th>\n",
       "      <td>0</td>\n",
       "      <td>26.0</td>\n",
       "      <td>36100.0</td>\n",
       "      <td>1</td>\n",
       "      <td>0</td>\n",
       "    </tr>\n",
       "    <tr>\n",
       "      <th>2545</th>\n",
       "      <td>0</td>\n",
       "      <td>44.0</td>\n",
       "      <td>38800.0</td>\n",
       "      <td>0</td>\n",
       "      <td>1</td>\n",
       "    </tr>\n",
       "    <tr>\n",
       "      <th>1161</th>\n",
       "      <td>0</td>\n",
       "      <td>19.0</td>\n",
       "      <td>39100.0</td>\n",
       "      <td>3</td>\n",
       "      <td>0</td>\n",
       "    </tr>\n",
       "    <tr>\n",
       "      <th>2230</th>\n",
       "      <td>1</td>\n",
       "      <td>31.0</td>\n",
       "      <td>35400.0</td>\n",
       "      <td>2</td>\n",
       "      <td>0</td>\n",
       "    </tr>\n",
       "    <tr>\n",
       "      <th>148</th>\n",
       "      <td>0</td>\n",
       "      <td>28.0</td>\n",
       "      <td>39000.0</td>\n",
       "      <td>1</td>\n",
       "      <td>0</td>\n",
       "    </tr>\n",
       "    <tr>\n",
       "      <th>2530</th>\n",
       "      <td>1</td>\n",
       "      <td>24.0</td>\n",
       "      <td>43500.0</td>\n",
       "      <td>1</td>\n",
       "      <td>0</td>\n",
       "    </tr>\n",
       "  </tbody>\n",
       "</table>\n",
       "</div>"
      ],
      "text/plain": [
       "      Пол  Возраст  Зарплата  Члены семьи  Страховые выплаты\n",
       "398     0     30.0   37700.0            1                  0\n",
       "3833    1     29.0   43700.0            1                  0\n",
       "4836    1     38.0   43600.0            1                  0\n",
       "4572    1     27.0   43400.0            1                  0\n",
       "636     0     26.0   36100.0            1                  0\n",
       "2545    0     44.0   38800.0            0                  1\n",
       "1161    0     19.0   39100.0            3                  0\n",
       "2230    1     31.0   35400.0            2                  0\n",
       "148     0     28.0   39000.0            1                  0\n",
       "2530    1     24.0   43500.0            1                  0"
      ]
     },
     "execution_count": 4,
     "metadata": {},
     "output_type": "execute_result"
    }
   ],
   "source": [
    "data.sample(10)"
   ]
  },
  {
   "cell_type": "markdown",
   "metadata": {},
   "source": [
    "Посмотрим наличие пропусков:"
   ]
  },
  {
   "cell_type": "code",
   "execution_count": 5,
   "metadata": {
    "scrolled": true
   },
   "outputs": [
    {
     "data": {
      "text/plain": [
       "Пол                  0.0\n",
       "Возраст              0.0\n",
       "Зарплата             0.0\n",
       "Члены семьи          0.0\n",
       "Страховые выплаты    0.0\n",
       "dtype: float64"
      ]
     },
     "execution_count": 5,
     "metadata": {},
     "output_type": "execute_result"
    }
   ],
   "source": [
    "data.isnull().mean()"
   ]
  },
  {
   "cell_type": "markdown",
   "metadata": {},
   "source": [
    "Пропусков нет"
   ]
  },
  {
   "cell_type": "markdown",
   "metadata": {},
   "source": [
    "Посмотрим наличие дубликатов:"
   ]
  },
  {
   "cell_type": "code",
   "execution_count": 6,
   "metadata": {
    "scrolled": true
   },
   "outputs": [
    {
     "data": {
      "text/plain": [
       "153"
      ]
     },
     "execution_count": 6,
     "metadata": {},
     "output_type": "execute_result"
    }
   ],
   "source": [
    "data.duplicated().sum()"
   ]
  },
  {
   "cell_type": "code",
   "execution_count": 7,
   "metadata": {},
   "outputs": [
    {
     "data": {
      "text/plain": [
       "0"
      ]
     },
     "execution_count": 7,
     "metadata": {},
     "output_type": "execute_result"
    }
   ],
   "source": [
    "#Удаляием полные дубликаты\n",
    "data.drop_duplicates(inplace=True)\n",
    "data.duplicated().sum()"
   ]
  },
  {
   "cell_type": "code",
   "execution_count": 8,
   "metadata": {},
   "outputs": [],
   "source": [
    "#Дубликатов больше нет."
   ]
  },
  {
   "cell_type": "markdown",
   "metadata": {},
   "source": [
    "Посмотрим данные методом describe:"
   ]
  },
  {
   "cell_type": "code",
   "execution_count": 9,
   "metadata": {
    "scrolled": true
   },
   "outputs": [
    {
     "data": {
      "text/html": [
       "<div>\n",
       "<style scoped>\n",
       "    .dataframe tbody tr th:only-of-type {\n",
       "        vertical-align: middle;\n",
       "    }\n",
       "\n",
       "    .dataframe tbody tr th {\n",
       "        vertical-align: top;\n",
       "    }\n",
       "\n",
       "    .dataframe thead th {\n",
       "        text-align: right;\n",
       "    }\n",
       "</style>\n",
       "<table border=\"1\" class=\"dataframe\">\n",
       "  <thead>\n",
       "    <tr style=\"text-align: right;\">\n",
       "      <th></th>\n",
       "      <th>Пол</th>\n",
       "      <th>Возраст</th>\n",
       "      <th>Зарплата</th>\n",
       "      <th>Члены семьи</th>\n",
       "      <th>Страховые выплаты</th>\n",
       "    </tr>\n",
       "  </thead>\n",
       "  <tbody>\n",
       "    <tr>\n",
       "      <th>count</th>\n",
       "      <td>4847.000000</td>\n",
       "      <td>4847.000000</td>\n",
       "      <td>4847.000000</td>\n",
       "      <td>4847.000000</td>\n",
       "      <td>4847.000000</td>\n",
       "    </tr>\n",
       "    <tr>\n",
       "      <th>mean</th>\n",
       "      <td>0.498453</td>\n",
       "      <td>31.023932</td>\n",
       "      <td>39895.811842</td>\n",
       "      <td>1.203425</td>\n",
       "      <td>0.152259</td>\n",
       "    </tr>\n",
       "    <tr>\n",
       "      <th>std</th>\n",
       "      <td>0.500049</td>\n",
       "      <td>8.487995</td>\n",
       "      <td>9972.953985</td>\n",
       "      <td>1.098664</td>\n",
       "      <td>0.468934</td>\n",
       "    </tr>\n",
       "    <tr>\n",
       "      <th>min</th>\n",
       "      <td>0.000000</td>\n",
       "      <td>18.000000</td>\n",
       "      <td>5300.000000</td>\n",
       "      <td>0.000000</td>\n",
       "      <td>0.000000</td>\n",
       "    </tr>\n",
       "    <tr>\n",
       "      <th>25%</th>\n",
       "      <td>0.000000</td>\n",
       "      <td>24.000000</td>\n",
       "      <td>33200.000000</td>\n",
       "      <td>0.000000</td>\n",
       "      <td>0.000000</td>\n",
       "    </tr>\n",
       "    <tr>\n",
       "      <th>50%</th>\n",
       "      <td>0.000000</td>\n",
       "      <td>30.000000</td>\n",
       "      <td>40200.000000</td>\n",
       "      <td>1.000000</td>\n",
       "      <td>0.000000</td>\n",
       "    </tr>\n",
       "    <tr>\n",
       "      <th>75%</th>\n",
       "      <td>1.000000</td>\n",
       "      <td>37.000000</td>\n",
       "      <td>46600.000000</td>\n",
       "      <td>2.000000</td>\n",
       "      <td>0.000000</td>\n",
       "    </tr>\n",
       "    <tr>\n",
       "      <th>max</th>\n",
       "      <td>1.000000</td>\n",
       "      <td>65.000000</td>\n",
       "      <td>79000.000000</td>\n",
       "      <td>6.000000</td>\n",
       "      <td>5.000000</td>\n",
       "    </tr>\n",
       "  </tbody>\n",
       "</table>\n",
       "</div>"
      ],
      "text/plain": [
       "               Пол      Возраст      Зарплата  Члены семьи  Страховые выплаты\n",
       "count  4847.000000  4847.000000   4847.000000  4847.000000        4847.000000\n",
       "mean      0.498453    31.023932  39895.811842     1.203425           0.152259\n",
       "std       0.500049     8.487995   9972.953985     1.098664           0.468934\n",
       "min       0.000000    18.000000   5300.000000     0.000000           0.000000\n",
       "25%       0.000000    24.000000  33200.000000     0.000000           0.000000\n",
       "50%       0.000000    30.000000  40200.000000     1.000000           0.000000\n",
       "75%       1.000000    37.000000  46600.000000     2.000000           0.000000\n",
       "max       1.000000    65.000000  79000.000000     6.000000           5.000000"
      ]
     },
     "execution_count": 9,
     "metadata": {},
     "output_type": "execute_result"
    }
   ],
   "source": [
    "data.describe()"
   ]
  },
  {
   "cell_type": "code",
   "execution_count": 10,
   "metadata": {},
   "outputs": [
    {
     "data": {
      "text/plain": [
       "0    2431\n",
       "1    2416\n",
       "Name: Пол, dtype: int64"
      ]
     },
     "execution_count": 10,
     "metadata": {},
     "output_type": "execute_result"
    }
   ],
   "source": [
    "data['Пол'].value_counts()"
   ]
  },
  {
   "cell_type": "markdown",
   "metadata": {},
   "source": [
    "Поделим колонки на признаки и целевые признаки:"
   ]
  },
  {
   "cell_type": "code",
   "execution_count": 11,
   "metadata": {},
   "outputs": [
    {
     "name": "stdout",
     "output_type": "stream",
     "text": [
      "Размер таблицы с признаками:(4847, 4)\n",
      "Размер таблицы с целевыми признаками:(4847, 5)\n"
     ]
    }
   ],
   "source": [
    "features=data.drop(['Страховые выплаты'],axis=1)\n",
    "target = data['Страховые выплаты']\n",
    "print('Размер таблицы с признаками:{}'.format(features.shape))\n",
    "print('Размер таблицы с целевыми признаками:{}'.format(data.shape))"
   ]
  },
  {
   "cell_type": "markdown",
   "metadata": {},
   "source": [
    "Данные выглядят адекватно"
   ]
  },
  {
   "cell_type": "markdown",
   "metadata": {},
   "source": [
    "## Умножение матриц"
   ]
  },
  {
   "cell_type": "markdown",
   "metadata": {},
   "source": [
    "В этом задании вы можете записывать формулы в *Jupyter Notebook.*\n",
    "\n",
    "Чтобы записать формулу внутри текста, окружите её символами доллара \\\\$; если снаружи —  двойными символами \\\\$\\\\$. Эти формулы записываются на языке вёрстки *LaTeX.* \n",
    "\n",
    "Для примера мы записали формулы линейной регрессии. Можете их скопировать и отредактировать, чтобы решить задачу.\n",
    "\n",
    "Работать в *LaTeX* необязательно."
   ]
  },
  {
   "cell_type": "markdown",
   "metadata": {},
   "source": [
    "Обозначения:\n",
    "\n",
    "- $X$ — матрица признаков (нулевой столбец состоит из единиц)\n",
    "\n",
    "- $y$ — вектор целевого признака\n",
    "\n",
    "- $P$ — матрица, на которую умножаются признаки\n",
    "\n",
    "- $w$ — вектор весов линейной регрессии (нулевой элемент равен сдвигу)"
   ]
  },
  {
   "cell_type": "markdown",
   "metadata": {},
   "source": [
    "Предсказания:\n",
    "\n",
    "$$\n",
    "a = Xw\n",
    "$$\n",
    "\n",
    "Задача обучения:\n",
    "\n",
    "$$\n",
    "w = \\arg\\min_w MSE(Xw, y)\n",
    "$$\n",
    "\n",
    "Формула обучения:\n",
    "\n",
    "$$\n",
    "w = (X^T X)^{-1} X^T y\n",
    "$$\n",
    "\n",
    "$$\n",
    "X(X^T X)^{-1} X^T y = XA((XA)^T (XA))^{-1} (XA)^T y\n",
    "$$"
   ]
  },
  {
   "cell_type": "markdown",
   "metadata": {},
   "source": [
    "Найдем обратимую матрицу признаков:"
   ]
  },
  {
   "cell_type": "markdown",
   "metadata": {},
   "source": [
    "**Ответ:** Предсказания не изменились\n",
    "\n",
    "**Обоснование:** Новые веса линейной регрессии: $w1 = ((XA)^T (XA)^T)^{-1} (XA)^T y$,\n",
    "где A - обратимая квадратная матрица.\n",
    "\n",
    "**Доказательство:**\n",
    "\n",
    "$w1 = ((XA)^T (XA))^{-1} (XA)^Ty $<br>\n",
    "$ w1 = (A^TX^TXA)^{-1}A^T X^T $y<br>\n",
    "\n",
    "Вынести за скобки $X^TX$ мы не можем, так как эти матрицы по отдельности не квадратные (они размером число строк х число столбцов признаков, прямоугольная матрица) . Поэтому вынесем за скобки обратимые матрицы, т.е. квадратные:\n",
    "\n",
    "$w1 = A^{-1}((X^TX)^{-1}(A^T)^{-1}A^TX^Ty)$<br>\n",
    "$w1 = A^{-1}((X^TX)^{-1}EX^Ty)$<br>\n",
    "$w1 = A^{-1}((X^TX)^{-1}X^Ty)$<br>\n",
    "$w1=A^{-1}w$ <br><br>\n",
    " **Предсказания:**<br><br>\n",
    " $a1=(XA)w1=XAA^{-1}w=Xw=a$"
   ]
  },
  {
   "cell_type": "markdown",
   "metadata": {},
   "source": [
    "## Алгоритм преобразования"
   ]
  },
  {
   "cell_type": "markdown",
   "metadata": {},
   "source": [
    "**Алгоритм**\n",
    "\n",
    "1.Создаем случайную квадратную матрицу размером features.<br>\n",
    "2.Проверим ее на обратимость.<br>\n",
    "3.Умножим эту матрицу на исходную матрицу с features.<br>\n",
    "4.Загрузим эту матрицу на вход в Линейную регрессию и кросс валидацией найдем r2.<br>\n",
    "5.Тоже сделаем для немодифицированного features.<br>\n",
    "6.Сравним результаты."
   ]
  },
  {
   "cell_type": "markdown",
   "metadata": {},
   "source": [
    "**Обоснование**\n",
    "\n",
    "Качество линейной регрессии не изменится, так как из за доказанного в п.2 математического выражения, измененные признаки компенсируются другими весами."
   ]
  },
  {
   "cell_type": "markdown",
   "metadata": {},
   "source": [
    "## Проверка алгоритма"
   ]
  },
  {
   "cell_type": "code",
   "execution_count": 12,
   "metadata": {},
   "outputs": [
    {
     "name": "stdout",
     "output_type": "stream",
     "text": [
      "[[0.76992212 0.4706232  0.92019349 0.0291138 ]\n",
      " [0.11528118 0.37601733 0.08510591 0.08788788]\n",
      " [0.56687268 0.21612202 0.62653521 0.92939982]\n",
      " [0.82388221 0.24843039 0.08966293 0.95019247]]\n",
      "[[ 0.95483357 -1.36124252 -1.43169781  1.49702047]\n",
      " [-0.1957023   3.0811444  -0.10601445 -0.17529902]\n",
      " [ 0.41372277 -0.45007189  1.21559212 -1.16003895]\n",
      " [-0.81577955  0.41718744  1.15439141 -0.09030428]]\n",
      "(4847, 4)\n"
     ]
    }
   ],
   "source": [
    "A=np.random.random((features.shape[1], features.shape[1]))\n",
    "print(A)\n",
    "print(np.linalg.inv(A))\n",
    "#Обратная матрица существует\n",
    "features_mdfd=features@A\n",
    "print(features_mdfd.shape)\n"
   ]
  },
  {
   "cell_type": "code",
   "execution_count": 13,
   "metadata": {},
   "outputs": [
    {
     "name": "stdout",
     "output_type": "stream",
     "text": [
      "Средняя оценка качества модели: 0.42779425802804977\n",
      "Wall time: 25.9 ms\n"
     ]
    }
   ],
   "source": [
    "%%time\n",
    "model = LinearRegression()\n",
    "scores=cross_val_score(model, features, target, cv=5)#, #scoring='r2'#)\n",
    "final_score= sum(scores)/len(scores)\n",
    "print('Средняя оценка качества модели:', final_score)"
   ]
  },
  {
   "cell_type": "code",
   "execution_count": 14,
   "metadata": {},
   "outputs": [
    {
     "name": "stdout",
     "output_type": "stream",
     "text": [
      "Средняя оценка качества модели: 0.4277942580281656\n",
      "Wall time: 19.9 ms\n"
     ]
    }
   ],
   "source": [
    "%%time\n",
    "model = LinearRegression()\n",
    "scores=cross_val_score(model, features_mdfd, target, cv=5)#, #scoring='r2'#)\n",
    "final_score= sum(scores)/len(scores)\n",
    "print('Средняя оценка качества модели:', final_score)"
   ]
  },
  {
   "cell_type": "markdown",
   "metadata": {},
   "source": [
    "Качество моделей одинаково до 12 знака после запятой. Метрика линейной регрессии r2, поэтому отдельно ее не пишем."
   ]
  }
 ],
 "metadata": {
  "ExecuteTimeLog": [
   {
    "duration": 1628,
    "start_time": "2021-10-16T07:14:24.409Z"
   },
   {
    "duration": 19,
    "start_time": "2021-10-16T07:14:28.092Z"
   },
   {
    "duration": 18,
    "start_time": "2021-10-16T07:14:30.713Z"
   },
   {
    "duration": 22,
    "start_time": "2021-10-16T07:14:37.415Z"
   },
   {
    "duration": 835,
    "start_time": "2021-10-16T07:15:24.651Z"
   },
   {
    "duration": 102,
    "start_time": "2021-10-16T07:15:32.462Z"
   },
   {
    "duration": 7,
    "start_time": "2021-10-16T07:15:36.454Z"
   },
   {
    "duration": 9,
    "start_time": "2021-10-16T07:16:28.133Z"
   },
   {
    "duration": 7,
    "start_time": "2021-10-16T07:19:31.811Z"
   },
   {
    "duration": 12,
    "start_time": "2021-10-16T07:19:39.657Z"
   },
   {
    "duration": 3,
    "start_time": "2021-10-16T07:20:01.601Z"
   },
   {
    "duration": 35,
    "start_time": "2021-10-16T07:21:08.258Z"
   },
   {
    "duration": 9,
    "start_time": "2021-10-16T07:22:25.443Z"
   },
   {
    "duration": 281,
    "start_time": "2021-10-16T07:25:53.372Z"
   },
   {
    "duration": 8,
    "start_time": "2021-10-16T07:26:42.863Z"
   },
   {
    "duration": 7,
    "start_time": "2021-10-16T07:26:50.959Z"
   },
   {
    "duration": 15,
    "start_time": "2021-10-16T07:27:49.495Z"
   },
   {
    "duration": 7,
    "start_time": "2021-10-16T07:28:01.895Z"
   },
   {
    "duration": 103,
    "start_time": "2021-10-16T07:28:30.310Z"
   },
   {
    "duration": 7,
    "start_time": "2021-10-16T07:28:35.325Z"
   },
   {
    "duration": 7,
    "start_time": "2021-10-16T07:28:54.574Z"
   },
   {
    "duration": 40,
    "start_time": "2021-10-16T07:30:11.888Z"
   },
   {
    "duration": 217,
    "start_time": "2021-10-16T07:31:38.725Z"
   },
   {
    "duration": 217,
    "start_time": "2021-10-16T07:32:13.237Z"
   },
   {
    "duration": 246,
    "start_time": "2021-10-16T07:32:25.660Z"
   },
   {
    "duration": 36,
    "start_time": "2021-10-16T07:32:37.661Z"
   },
   {
    "duration": 105,
    "start_time": "2021-10-16T07:32:46.747Z"
   },
   {
    "duration": 113,
    "start_time": "2021-10-16T07:32:50.035Z"
   },
   {
    "duration": 36,
    "start_time": "2021-10-16T07:32:55.571Z"
   },
   {
    "duration": 421,
    "start_time": "2021-10-16T07:37:26.672Z"
   },
   {
    "duration": 507,
    "start_time": "2021-10-16T07:37:33.128Z"
   },
   {
    "duration": 489,
    "start_time": "2021-10-16T07:37:56.248Z"
   },
   {
    "duration": 5,
    "start_time": "2021-10-16T07:38:02.033Z"
   },
   {
    "duration": 451,
    "start_time": "2021-10-16T07:38:05.760Z"
   },
   {
    "duration": 6,
    "start_time": "2021-10-16T07:38:09.752Z"
   },
   {
    "duration": 525,
    "start_time": "2021-10-16T07:38:28.544Z"
   },
   {
    "duration": 434,
    "start_time": "2021-10-16T07:40:35.983Z"
   },
   {
    "duration": 318,
    "start_time": "2021-10-16T07:40:44.597Z"
   },
   {
    "duration": 272,
    "start_time": "2021-10-16T07:41:25.485Z"
   },
   {
    "duration": 552,
    "start_time": "2021-10-16T07:41:31.447Z"
   },
   {
    "duration": 6,
    "start_time": "2021-10-16T07:55:02.105Z"
   },
   {
    "duration": 113,
    "start_time": "2021-10-16T07:56:07.812Z"
   },
   {
    "duration": 6,
    "start_time": "2021-10-16T07:56:16.892Z"
   },
   {
    "duration": 5,
    "start_time": "2021-10-16T07:57:34.131Z"
   },
   {
    "duration": 8,
    "start_time": "2021-10-16T07:57:37.060Z"
   },
   {
    "duration": 5,
    "start_time": "2021-10-16T07:57:57.292Z"
   },
   {
    "duration": 322,
    "start_time": "2021-10-16T08:00:11.282Z"
   },
   {
    "duration": 1117,
    "start_time": "2021-10-16T08:00:17.522Z"
   },
   {
    "duration": 328,
    "start_time": "2021-10-16T08:00:22.819Z"
   },
   {
    "duration": 310,
    "start_time": "2021-10-16T08:00:32.284Z"
   },
   {
    "duration": 6,
    "start_time": "2021-10-16T08:00:37.922Z"
   },
   {
    "duration": 315,
    "start_time": "2021-10-16T08:00:47.530Z"
   },
   {
    "duration": 8,
    "start_time": "2021-10-16T08:00:52.412Z"
   },
   {
    "duration": 309,
    "start_time": "2021-10-16T08:01:09.410Z"
   },
   {
    "duration": 1214,
    "start_time": "2021-10-16T08:03:58.615Z"
   },
   {
    "duration": 290,
    "start_time": "2021-10-16T08:07:02.998Z"
   },
   {
    "duration": 7,
    "start_time": "2021-10-16T08:07:17.101Z"
   },
   {
    "duration": 306,
    "start_time": "2021-10-16T08:07:42.958Z"
   },
   {
    "duration": 218,
    "start_time": "2021-10-16T08:08:15.147Z"
   },
   {
    "duration": 144,
    "start_time": "2021-10-16T08:08:30.324Z"
   },
   {
    "duration": 6,
    "start_time": "2021-10-16T08:09:01.141Z"
   },
   {
    "duration": 215,
    "start_time": "2021-10-16T08:11:51.195Z"
   },
   {
    "duration": 24,
    "start_time": "2021-10-16T08:11:56.378Z"
   },
   {
    "duration": 23,
    "start_time": "2021-10-16T08:25:30.922Z"
   },
   {
    "duration": 277,
    "start_time": "2021-10-16T08:51:16.725Z"
   },
   {
    "duration": 7,
    "start_time": "2021-10-16T08:51:20.329Z"
   },
   {
    "duration": 35,
    "start_time": "2021-10-16T08:51:22.054Z"
   },
   {
    "duration": 312,
    "start_time": "2021-10-16T08:51:24.458Z"
   },
   {
    "duration": 16,
    "start_time": "2021-10-16T08:51:42.603Z"
   },
   {
    "duration": 17,
    "start_time": "2021-10-16T09:02:11.363Z"
   },
   {
    "duration": 1158,
    "start_time": "2021-10-16T10:21:47.595Z"
   },
   {
    "duration": 853,
    "start_time": "2021-10-16T10:21:55.618Z"
   },
   {
    "duration": 10,
    "start_time": "2021-10-16T10:22:43.210Z"
   },
   {
    "duration": 10,
    "start_time": "2021-10-16T10:22:46.516Z"
   },
   {
    "duration": 10,
    "start_time": "2021-10-16T10:22:48.176Z"
   },
   {
    "duration": 6,
    "start_time": "2021-10-16T10:28:25.524Z"
   },
   {
    "duration": 9,
    "start_time": "2021-10-16T10:28:27.327Z"
   },
   {
    "duration": 22,
    "start_time": "2021-10-16T10:28:31.217Z"
   },
   {
    "duration": 12,
    "start_time": "2021-10-16T10:28:32.378Z"
   },
   {
    "duration": 11,
    "start_time": "2021-10-16T10:28:41.181Z"
   },
   {
    "duration": 515,
    "start_time": "2021-10-16T10:28:58.358Z"
   },
   {
    "duration": 5,
    "start_time": "2021-10-16T10:29:16.630Z"
   },
   {
    "duration": 223,
    "start_time": "2021-10-16T10:30:01.763Z"
   },
   {
    "duration": 214,
    "start_time": "2021-10-16T10:30:08.145Z"
   },
   {
    "duration": 24,
    "start_time": "2021-10-16T10:30:11.724Z"
   },
   {
    "duration": 130,
    "start_time": "2021-10-16T10:30:57.132Z"
   },
   {
    "duration": 8,
    "start_time": "2021-10-16T10:31:02.740Z"
   },
   {
    "duration": 41,
    "start_time": "2021-10-16T11:18:43.983Z"
   },
   {
    "duration": 302,
    "start_time": "2021-10-16T11:18:49.951Z"
   },
   {
    "duration": 220,
    "start_time": "2021-10-16T11:18:54.486Z"
   },
   {
    "duration": 2882,
    "start_time": "2021-10-16T11:18:57.393Z"
   },
   {
    "duration": 23,
    "start_time": "2021-10-16T11:19:06.774Z"
   },
   {
    "duration": 11,
    "start_time": "2021-10-16T11:20:10.104Z"
   },
   {
    "duration": 12,
    "start_time": "2021-10-16T11:20:22.825Z"
   },
   {
    "duration": 9,
    "start_time": "2021-10-16T13:54:09.751Z"
   },
   {
    "duration": 1106,
    "start_time": "2021-10-16T18:19:27.093Z"
   },
   {
    "duration": 19,
    "start_time": "2021-10-16T18:19:28.201Z"
   },
   {
    "duration": 14,
    "start_time": "2021-10-16T18:19:28.222Z"
   },
   {
    "duration": 10,
    "start_time": "2021-10-16T18:19:28.239Z"
   },
   {
    "duration": 7,
    "start_time": "2021-10-16T18:19:28.251Z"
   },
   {
    "duration": 8,
    "start_time": "2021-10-16T18:19:28.260Z"
   },
   {
    "duration": 2,
    "start_time": "2021-10-16T18:19:28.270Z"
   },
   {
    "duration": 25,
    "start_time": "2021-10-16T18:19:28.275Z"
   },
   {
    "duration": 5,
    "start_time": "2021-10-16T18:19:28.302Z"
   },
   {
    "duration": 5,
    "start_time": "2021-10-16T18:19:28.344Z"
   },
   {
    "duration": 31,
    "start_time": "2021-10-16T18:19:28.350Z"
   },
   {
    "duration": 4,
    "start_time": "2021-10-16T18:19:28.382Z"
   },
   {
    "duration": 9,
    "start_time": "2021-10-16T18:19:28.387Z"
   },
   {
    "duration": 60,
    "start_time": "2021-10-16T18:19:28.397Z"
   },
   {
    "duration": 85,
    "start_time": "2021-10-16T18:19:28.459Z"
   },
   {
    "duration": 7,
    "start_time": "2021-10-16T18:19:28.546Z"
   },
   {
    "duration": 14,
    "start_time": "2021-10-16T18:19:28.554Z"
   },
   {
    "duration": 81,
    "start_time": "2021-10-16T18:19:28.570Z"
   },
   {
    "duration": 6,
    "start_time": "2021-10-16T18:20:32.745Z"
   },
   {
    "duration": 14,
    "start_time": "2021-10-16T18:20:40.826Z"
   },
   {
    "duration": 14,
    "start_time": "2021-10-16T18:20:56.952Z"
   },
   {
    "duration": 5,
    "start_time": "2021-10-16T18:38:28.656Z"
   },
   {
    "duration": 15,
    "start_time": "2021-10-16T18:38:30.470Z"
   },
   {
    "duration": 14,
    "start_time": "2021-10-16T18:38:33.837Z"
   },
   {
    "duration": 7,
    "start_time": "2021-10-16T18:39:59.882Z"
   },
   {
    "duration": 18,
    "start_time": "2021-10-16T18:40:01.419Z"
   },
   {
    "duration": 11,
    "start_time": "2021-10-16T18:40:03.345Z"
   },
   {
    "duration": 1122,
    "start_time": "2021-10-16T18:40:09.395Z"
   },
   {
    "duration": 18,
    "start_time": "2021-10-16T18:40:10.519Z"
   },
   {
    "duration": 15,
    "start_time": "2021-10-16T18:40:10.539Z"
   },
   {
    "duration": 10,
    "start_time": "2021-10-16T18:40:10.556Z"
   },
   {
    "duration": 7,
    "start_time": "2021-10-16T18:40:10.568Z"
   },
   {
    "duration": 10,
    "start_time": "2021-10-16T18:40:10.577Z"
   },
   {
    "duration": 2,
    "start_time": "2021-10-16T18:40:10.589Z"
   },
   {
    "duration": 29,
    "start_time": "2021-10-16T18:40:10.593Z"
   },
   {
    "duration": 25,
    "start_time": "2021-10-16T18:40:10.624Z"
   },
   {
    "duration": 13,
    "start_time": "2021-10-16T18:40:10.651Z"
   },
   {
    "duration": 27,
    "start_time": "2021-10-16T18:40:10.666Z"
   },
   {
    "duration": 365,
    "start_time": "2021-10-16T18:40:10.694Z"
   },
   {
    "duration": -471,
    "start_time": "2021-10-16T18:40:11.532Z"
   },
   {
    "duration": -478,
    "start_time": "2021-10-16T18:40:11.540Z"
   },
   {
    "duration": 1178,
    "start_time": "2021-10-16T18:40:41.227Z"
   },
   {
    "duration": 17,
    "start_time": "2021-10-16T18:40:42.407Z"
   },
   {
    "duration": 19,
    "start_time": "2021-10-16T18:40:42.426Z"
   },
   {
    "duration": 12,
    "start_time": "2021-10-16T18:40:42.447Z"
   },
   {
    "duration": 26,
    "start_time": "2021-10-16T18:40:42.461Z"
   },
   {
    "duration": 16,
    "start_time": "2021-10-16T18:40:42.489Z"
   },
   {
    "duration": 6,
    "start_time": "2021-10-16T18:40:42.508Z"
   },
   {
    "duration": 27,
    "start_time": "2021-10-16T18:40:42.517Z"
   },
   {
    "duration": 6,
    "start_time": "2021-10-16T18:40:42.546Z"
   },
   {
    "duration": 18,
    "start_time": "2021-10-16T18:40:42.554Z"
   },
   {
    "duration": 363,
    "start_time": "2021-10-16T18:40:42.574Z"
   },
   {
    "duration": -469,
    "start_time": "2021-10-16T18:40:43.407Z"
   },
   {
    "duration": -472,
    "start_time": "2021-10-16T18:40:43.411Z"
   },
   {
    "duration": 3,
    "start_time": "2021-10-16T18:41:30.374Z"
   },
   {
    "duration": 284,
    "start_time": "2021-10-16T18:41:53.781Z"
   },
   {
    "duration": 7,
    "start_time": "2021-10-16T18:42:03.844Z"
   },
   {
    "duration": 1250,
    "start_time": "2021-10-16T18:42:09.945Z"
   },
   {
    "duration": 2,
    "start_time": "2021-10-16T18:42:11.197Z"
   },
   {
    "duration": 18,
    "start_time": "2021-10-16T18:42:11.203Z"
   },
   {
    "duration": 13,
    "start_time": "2021-10-16T18:42:11.223Z"
   },
   {
    "duration": 7,
    "start_time": "2021-10-16T18:42:11.244Z"
   },
   {
    "duration": 7,
    "start_time": "2021-10-16T18:42:11.252Z"
   },
   {
    "duration": 8,
    "start_time": "2021-10-16T18:42:11.262Z"
   },
   {
    "duration": 2,
    "start_time": "2021-10-16T18:42:11.272Z"
   },
   {
    "duration": 23,
    "start_time": "2021-10-16T18:42:11.276Z"
   },
   {
    "duration": 44,
    "start_time": "2021-10-16T18:42:11.301Z"
   },
   {
    "duration": 5,
    "start_time": "2021-10-16T18:42:11.347Z"
   },
   {
    "duration": 12,
    "start_time": "2021-10-16T18:42:11.354Z"
   },
   {
    "duration": 96,
    "start_time": "2021-10-16T18:42:11.367Z"
   },
   {
    "duration": 101,
    "start_time": "2021-10-16T18:42:11.465Z"
   },
   {
    "duration": 2208,
    "start_time": "2021-10-18T17:41:47.611Z"
   },
   {
    "duration": 4,
    "start_time": "2021-10-18T17:41:49.823Z"
   },
   {
    "duration": 19,
    "start_time": "2021-10-18T17:41:49.832Z"
   },
   {
    "duration": 35,
    "start_time": "2021-10-18T17:41:49.854Z"
   },
   {
    "duration": 10,
    "start_time": "2021-10-18T17:41:49.893Z"
   },
   {
    "duration": 17,
    "start_time": "2021-10-18T17:41:49.906Z"
   },
   {
    "duration": 11,
    "start_time": "2021-10-18T17:41:49.926Z"
   },
   {
    "duration": 9,
    "start_time": "2021-10-18T17:41:49.968Z"
   },
   {
    "duration": 59,
    "start_time": "2021-10-18T17:41:49.983Z"
   },
   {
    "duration": 28,
    "start_time": "2021-10-18T17:41:50.046Z"
   },
   {
    "duration": 36,
    "start_time": "2021-10-18T17:41:50.078Z"
   },
   {
    "duration": 16,
    "start_time": "2021-10-18T17:41:50.117Z"
   },
   {
    "duration": 131,
    "start_time": "2021-10-18T17:41:50.168Z"
   },
   {
    "duration": 36,
    "start_time": "2021-10-18T17:41:50.302Z"
   },
   {
    "duration": 2225,
    "start_time": "2021-10-18T17:43:05.542Z"
   },
   {
    "duration": 5,
    "start_time": "2021-10-18T17:43:07.771Z"
   },
   {
    "duration": 26,
    "start_time": "2021-10-18T17:43:07.780Z"
   },
   {
    "duration": 29,
    "start_time": "2021-10-18T17:43:07.810Z"
   },
   {
    "duration": 10,
    "start_time": "2021-10-18T17:43:07.866Z"
   },
   {
    "duration": 12,
    "start_time": "2021-10-18T17:43:07.880Z"
   },
   {
    "duration": 14,
    "start_time": "2021-10-18T17:43:07.895Z"
   },
   {
    "duration": 3,
    "start_time": "2021-10-18T17:43:07.912Z"
   },
   {
    "duration": 74,
    "start_time": "2021-10-18T17:43:07.918Z"
   },
   {
    "duration": 8,
    "start_time": "2021-10-18T17:43:07.995Z"
   },
   {
    "duration": 12,
    "start_time": "2021-10-18T17:43:08.005Z"
   },
   {
    "duration": 59,
    "start_time": "2021-10-18T17:43:08.020Z"
   },
   {
    "duration": 125,
    "start_time": "2021-10-18T17:43:08.083Z"
   },
   {
    "duration": 60,
    "start_time": "2021-10-18T17:43:08.210Z"
   },
   {
    "duration": 1670,
    "start_time": "2021-10-18T17:47:41.631Z"
   },
   {
    "duration": 3,
    "start_time": "2021-10-18T17:47:43.304Z"
   },
   {
    "duration": 23,
    "start_time": "2021-10-18T17:47:43.311Z"
   },
   {
    "duration": 41,
    "start_time": "2021-10-18T17:47:43.337Z"
   },
   {
    "duration": 11,
    "start_time": "2021-10-18T17:47:43.383Z"
   },
   {
    "duration": 13,
    "start_time": "2021-10-18T17:47:43.398Z"
   },
   {
    "duration": 15,
    "start_time": "2021-10-18T17:47:43.414Z"
   },
   {
    "duration": 5,
    "start_time": "2021-10-18T17:47:43.469Z"
   },
   {
    "duration": 41,
    "start_time": "2021-10-18T17:47:43.478Z"
   },
   {
    "duration": 8,
    "start_time": "2021-10-18T17:47:43.521Z"
   },
   {
    "duration": 39,
    "start_time": "2021-10-18T17:47:43.531Z"
   },
   {
    "duration": 14,
    "start_time": "2021-10-18T17:47:43.573Z"
   },
   {
    "duration": 189,
    "start_time": "2021-10-18T17:47:43.591Z"
   },
   {
    "duration": 36,
    "start_time": "2021-10-18T17:47:43.784Z"
   }
  ],
  "kernelspec": {
   "display_name": "Python 3",
   "language": "python",
   "name": "python3"
  },
  "language_info": {
   "codemirror_mode": {
    "name": "ipython",
    "version": 3
   },
   "file_extension": ".py",
   "mimetype": "text/x-python",
   "name": "python",
   "nbconvert_exporter": "python",
   "pygments_lexer": "ipython3",
   "version": "3.8.8"
  },
  "toc": {
   "base_numbering": 1,
   "nav_menu": {},
   "number_sections": true,
   "sideBar": true,
   "skip_h1_title": true,
   "title_cell": "Содержание",
   "title_sidebar": "Contents",
   "toc_cell": true,
   "toc_position": {},
   "toc_section_display": true,
   "toc_window_display": false
  }
 },
 "nbformat": 4,
 "nbformat_minor": 2
}
