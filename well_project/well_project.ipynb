{
 "cells": [
  {
   "cell_type": "markdown",
   "metadata": {},
   "source": [
    "# Выбор локации для скважины"
   ]
  },
  {
   "cell_type": "markdown",
   "metadata": {},
   "source": [
    "Допустим, вы работаете в добывающей компании «ГлавРосГосНефть». Нужно решить, где бурить новую скважину.\n",
    "\n",
    "Вам предоставлены пробы нефти в трёх регионах: в каждом 10 000 месторождений, где измерили качество нефти и объём её запасов. Постройте модель машинного обучения, которая поможет определить регион, где добыча принесёт наибольшую прибыль. Проанализируйте возможную прибыль и риски техникой *Bootstrap.*\n",
    "\n",
    "Шаги для выбора локации:\n",
    "\n",
    "- В избранном регионе ищут месторождения, для каждого определяют значения признаков;\n",
    "- Строят модель и оценивают объём запасов;\n",
    "- Выбирают месторождения с самым высокими оценками значений. Количество месторождений зависит от бюджета компании и стоимости разработки одной скважины;\n",
    "- Прибыль равна суммарной прибыли отобранных месторождений."
   ]
  },
  {
   "cell_type": "markdown",
   "metadata": {
    "toc": true
   },
   "source": [
    "<h1>Содержание<span class=\"tocSkip\"></span></h1>\n",
    "<div class=\"toc\"><ul class=\"toc-item\"><li><span><a href=\"#Загрузка-и-подготовка-данных\" data-toc-modified-id=\"Загрузка-и-подготовка-данных-1\"><span class=\"toc-item-num\">1&nbsp;&nbsp;</span>Загрузка и подготовка данных</a></span></li><li><span><a href=\"#Обучение-и-проверка-модели\" data-toc-modified-id=\"Обучение-и-проверка-модели-2\"><span class=\"toc-item-num\">2&nbsp;&nbsp;</span>Обучение и проверка модели</a></span></li><li><span><a href=\"#Подготовка-к-расчёту-прибыли\" data-toc-modified-id=\"Подготовка-к-расчёту-прибыли-3\"><span class=\"toc-item-num\">3&nbsp;&nbsp;</span>Подготовка к расчёту прибыли</a></span></li><li><span><a href=\"#Расчёт-прибыли-и-рисков\" data-toc-modified-id=\"Расчёт-прибыли-и-рисков-4\"><span class=\"toc-item-num\">4&nbsp;&nbsp;</span>Расчёт прибыли и рисков</a></span></li><li><span><a href=\"#Риск-и-прибыль-для-каждого-региона\" data-toc-modified-id=\"Риск-и-прибыль-для-каждого-региона-5\"><span class=\"toc-item-num\">5&nbsp;&nbsp;</span>Риск и прибыль для каждого региона</a></span></li><li><span><a href=\"#Вывод\" data-toc-modified-id=\"Вывод-6\"><span class=\"toc-item-num\">6&nbsp;&nbsp;</span>Вывод</a></span></li><li><span><a href=\"#Чек-лист-готовности-проекта\" data-toc-modified-id=\"Чек-лист-готовности-проекта-7\"><span class=\"toc-item-num\">7&nbsp;&nbsp;</span>Чек-лист готовности проекта</a></span></li></ul></div>"
   ]
  },
  {
   "cell_type": "markdown",
   "metadata": {},
   "source": [
    "## Загрузка и подготовка данных"
   ]
  },
  {
   "cell_type": "code",
   "execution_count": 1,
   "metadata": {},
   "outputs": [],
   "source": [
    "import pandas as pd\n",
    "import math\n",
    "import seaborn as sns\n",
    "from sklearn.utils import shuffle\n",
    "from sklearn.model_selection import train_test_split\n",
    "from sklearn.linear_model import LinearRegression\n",
    "from sklearn.linear_model import LogisticRegression\n",
    "from sklearn.tree import DecisionTreeClassifier\n",
    "from sklearn.model_selection import GridSearchCV\n",
    "from sklearn.ensemble import RandomForestClassifier\n",
    "from sklearn.linear_model import LinearRegression\n",
    "from sklearn.metrics import confusion_matrix\n",
    "from sklearn.metrics import mean_squared_error, r2_score, mean_absolute_error\n",
    "from sklearn.metrics import f1_score\n",
    "from sklearn.metrics import roc_auc_score \n",
    "from sklearn.metrics import recall_score\n",
    "from sklearn.metrics import precision_score\n",
    "from sklearn.preprocessing import StandardScaler \n",
    "from sklearn.linear_model import LogisticRegression\n",
    "from sklearn.dummy import DummyClassifier\n",
    "from sklearn.dummy import DummyRegressor\n",
    "from sklearn.metrics import accuracy_score \n",
    "import matplotlib.pyplot as plt\n",
    "from collections import Counter\n",
    "import numpy as np\n",
    "from scipy import stats as st\n",
    "from numpy.random import RandomState\n",
    "from sklearn.metrics import mean_squared_error"
   ]
  },
  {
   "cell_type": "code",
   "execution_count": 2,
   "metadata": {},
   "outputs": [],
   "source": [
    "state = RandomState(12345) "
   ]
  },
  {
   "cell_type": "code",
   "execution_count": 3,
   "metadata": {},
   "outputs": [],
   "source": [
    "data_reg_1=pd.read_csv('datasets/geo_data_0.csv')\n",
    "data_reg_2=pd.read_csv('datasets/geo_data_1.csv')\n",
    "data_reg_3=pd.read_csv('datasets/geo_data_2.csv')"
   ]
  },
  {
   "cell_type": "code",
   "execution_count": 4,
   "metadata": {},
   "outputs": [
    {
     "data": {
      "text/html": [
       "<div>\n",
       "<style scoped>\n",
       "    .dataframe tbody tr th:only-of-type {\n",
       "        vertical-align: middle;\n",
       "    }\n",
       "\n",
       "    .dataframe tbody tr th {\n",
       "        vertical-align: top;\n",
       "    }\n",
       "\n",
       "    .dataframe thead th {\n",
       "        text-align: right;\n",
       "    }\n",
       "</style>\n",
       "<table border=\"1\" class=\"dataframe\">\n",
       "  <thead>\n",
       "    <tr style=\"text-align: right;\">\n",
       "      <th></th>\n",
       "      <th>id</th>\n",
       "      <th>f0</th>\n",
       "      <th>f1</th>\n",
       "      <th>f2</th>\n",
       "      <th>product</th>\n",
       "    </tr>\n",
       "  </thead>\n",
       "  <tbody>\n",
       "    <tr>\n",
       "      <th>0</th>\n",
       "      <td>txEyH</td>\n",
       "      <td>0.705745</td>\n",
       "      <td>-0.497823</td>\n",
       "      <td>1.221170</td>\n",
       "      <td>105.280062</td>\n",
       "    </tr>\n",
       "    <tr>\n",
       "      <th>1</th>\n",
       "      <td>2acmU</td>\n",
       "      <td>1.334711</td>\n",
       "      <td>-0.340164</td>\n",
       "      <td>4.365080</td>\n",
       "      <td>73.037750</td>\n",
       "    </tr>\n",
       "    <tr>\n",
       "      <th>2</th>\n",
       "      <td>409Wp</td>\n",
       "      <td>1.022732</td>\n",
       "      <td>0.151990</td>\n",
       "      <td>1.419926</td>\n",
       "      <td>85.265647</td>\n",
       "    </tr>\n",
       "    <tr>\n",
       "      <th>3</th>\n",
       "      <td>iJLyR</td>\n",
       "      <td>-0.032172</td>\n",
       "      <td>0.139033</td>\n",
       "      <td>2.978566</td>\n",
       "      <td>168.620776</td>\n",
       "    </tr>\n",
       "    <tr>\n",
       "      <th>4</th>\n",
       "      <td>Xdl7t</td>\n",
       "      <td>1.988431</td>\n",
       "      <td>0.155413</td>\n",
       "      <td>4.751769</td>\n",
       "      <td>154.036647</td>\n",
       "    </tr>\n",
       "  </tbody>\n",
       "</table>\n",
       "</div>"
      ],
      "text/plain": [
       "      id        f0        f1        f2     product\n",
       "0  txEyH  0.705745 -0.497823  1.221170  105.280062\n",
       "1  2acmU  1.334711 -0.340164  4.365080   73.037750\n",
       "2  409Wp  1.022732  0.151990  1.419926   85.265647\n",
       "3  iJLyR -0.032172  0.139033  2.978566  168.620776\n",
       "4  Xdl7t  1.988431  0.155413  4.751769  154.036647"
      ]
     },
     "metadata": {},
     "output_type": "display_data"
    },
    {
     "data": {
      "text/plain": [
       "count    100000.000000\n",
       "mean         92.500000\n",
       "std          44.288691\n",
       "min           0.000000\n",
       "25%          56.497507\n",
       "50%          91.849972\n",
       "75%         128.564089\n",
       "max         185.364347\n",
       "Name: product, dtype: float64"
      ]
     },
     "metadata": {},
     "output_type": "display_data"
    }
   ],
   "source": [
    "data_reg_1\n",
    "display(data_reg_1.head())\n",
    "display(data_reg_1['product'].describe())"
   ]
  },
  {
   "cell_type": "code",
   "execution_count": 5,
   "metadata": {
    "scrolled": true
   },
   "outputs": [
    {
     "data": {
      "text/html": [
       "<div>\n",
       "<style scoped>\n",
       "    .dataframe tbody tr th:only-of-type {\n",
       "        vertical-align: middle;\n",
       "    }\n",
       "\n",
       "    .dataframe tbody tr th {\n",
       "        vertical-align: top;\n",
       "    }\n",
       "\n",
       "    .dataframe thead th {\n",
       "        text-align: right;\n",
       "    }\n",
       "</style>\n",
       "<table border=\"1\" class=\"dataframe\">\n",
       "  <thead>\n",
       "    <tr style=\"text-align: right;\">\n",
       "      <th></th>\n",
       "      <th>id</th>\n",
       "      <th>f0</th>\n",
       "      <th>f1</th>\n",
       "      <th>f2</th>\n",
       "      <th>product</th>\n",
       "    </tr>\n",
       "  </thead>\n",
       "  <tbody>\n",
       "    <tr>\n",
       "      <th>0</th>\n",
       "      <td>kBEdx</td>\n",
       "      <td>-15.001348</td>\n",
       "      <td>-8.276000</td>\n",
       "      <td>-0.005876</td>\n",
       "      <td>3.179103</td>\n",
       "    </tr>\n",
       "    <tr>\n",
       "      <th>1</th>\n",
       "      <td>62mP7</td>\n",
       "      <td>14.272088</td>\n",
       "      <td>-3.475083</td>\n",
       "      <td>0.999183</td>\n",
       "      <td>26.953261</td>\n",
       "    </tr>\n",
       "    <tr>\n",
       "      <th>2</th>\n",
       "      <td>vyE1P</td>\n",
       "      <td>6.263187</td>\n",
       "      <td>-5.948386</td>\n",
       "      <td>5.001160</td>\n",
       "      <td>134.766305</td>\n",
       "    </tr>\n",
       "    <tr>\n",
       "      <th>3</th>\n",
       "      <td>KcrkZ</td>\n",
       "      <td>-13.081196</td>\n",
       "      <td>-11.506057</td>\n",
       "      <td>4.999415</td>\n",
       "      <td>137.945408</td>\n",
       "    </tr>\n",
       "    <tr>\n",
       "      <th>4</th>\n",
       "      <td>AHL4O</td>\n",
       "      <td>12.702195</td>\n",
       "      <td>-8.147433</td>\n",
       "      <td>5.004363</td>\n",
       "      <td>134.766305</td>\n",
       "    </tr>\n",
       "  </tbody>\n",
       "</table>\n",
       "</div>"
      ],
      "text/plain": [
       "      id         f0         f1        f2     product\n",
       "0  kBEdx -15.001348  -8.276000 -0.005876    3.179103\n",
       "1  62mP7  14.272088  -3.475083  0.999183   26.953261\n",
       "2  vyE1P   6.263187  -5.948386  5.001160  134.766305\n",
       "3  KcrkZ -13.081196 -11.506057  4.999415  137.945408\n",
       "4  AHL4O  12.702195  -8.147433  5.004363  134.766305"
      ]
     },
     "metadata": {},
     "output_type": "display_data"
    },
    {
     "data": {
      "text/plain": [
       "count    100000.000000\n",
       "mean         68.825000\n",
       "std          45.944423\n",
       "min           0.000000\n",
       "25%          26.953261\n",
       "50%          57.085625\n",
       "75%         107.813044\n",
       "max         137.945408\n",
       "Name: product, dtype: float64"
      ]
     },
     "metadata": {},
     "output_type": "display_data"
    }
   ],
   "source": [
    "display(data_reg_2.head())\n",
    "display(data_reg_2['product'].describe())"
   ]
  },
  {
   "cell_type": "code",
   "execution_count": 6,
   "metadata": {
    "scrolled": true
   },
   "outputs": [
    {
     "data": {
      "text/html": [
       "<div>\n",
       "<style scoped>\n",
       "    .dataframe tbody tr th:only-of-type {\n",
       "        vertical-align: middle;\n",
       "    }\n",
       "\n",
       "    .dataframe tbody tr th {\n",
       "        vertical-align: top;\n",
       "    }\n",
       "\n",
       "    .dataframe thead th {\n",
       "        text-align: right;\n",
       "    }\n",
       "</style>\n",
       "<table border=\"1\" class=\"dataframe\">\n",
       "  <thead>\n",
       "    <tr style=\"text-align: right;\">\n",
       "      <th></th>\n",
       "      <th>id</th>\n",
       "      <th>f0</th>\n",
       "      <th>f1</th>\n",
       "      <th>f2</th>\n",
       "      <th>product</th>\n",
       "    </tr>\n",
       "  </thead>\n",
       "  <tbody>\n",
       "    <tr>\n",
       "      <th>0</th>\n",
       "      <td>fwXo0</td>\n",
       "      <td>-1.146987</td>\n",
       "      <td>0.963328</td>\n",
       "      <td>-0.828965</td>\n",
       "      <td>27.758673</td>\n",
       "    </tr>\n",
       "    <tr>\n",
       "      <th>1</th>\n",
       "      <td>WJtFt</td>\n",
       "      <td>0.262778</td>\n",
       "      <td>0.269839</td>\n",
       "      <td>-2.530187</td>\n",
       "      <td>56.069697</td>\n",
       "    </tr>\n",
       "    <tr>\n",
       "      <th>2</th>\n",
       "      <td>ovLUW</td>\n",
       "      <td>0.194587</td>\n",
       "      <td>0.289035</td>\n",
       "      <td>-5.586433</td>\n",
       "      <td>62.871910</td>\n",
       "    </tr>\n",
       "    <tr>\n",
       "      <th>3</th>\n",
       "      <td>q6cA6</td>\n",
       "      <td>2.236060</td>\n",
       "      <td>-0.553760</td>\n",
       "      <td>0.930038</td>\n",
       "      <td>114.572842</td>\n",
       "    </tr>\n",
       "    <tr>\n",
       "      <th>4</th>\n",
       "      <td>WPMUX</td>\n",
       "      <td>-0.515993</td>\n",
       "      <td>1.716266</td>\n",
       "      <td>5.899011</td>\n",
       "      <td>149.600746</td>\n",
       "    </tr>\n",
       "  </tbody>\n",
       "</table>\n",
       "</div>"
      ],
      "text/plain": [
       "      id        f0        f1        f2     product\n",
       "0  fwXo0 -1.146987  0.963328 -0.828965   27.758673\n",
       "1  WJtFt  0.262778  0.269839 -2.530187   56.069697\n",
       "2  ovLUW  0.194587  0.289035 -5.586433   62.871910\n",
       "3  q6cA6  2.236060 -0.553760  0.930038  114.572842\n",
       "4  WPMUX -0.515993  1.716266  5.899011  149.600746"
      ]
     },
     "metadata": {},
     "output_type": "display_data"
    },
    {
     "data": {
      "text/plain": [
       "count    100000.000000\n",
       "mean         95.000000\n",
       "std          44.749921\n",
       "min           0.000000\n",
       "25%          59.450441\n",
       "50%          94.925613\n",
       "75%         130.595027\n",
       "max         190.029838\n",
       "Name: product, dtype: float64"
      ]
     },
     "metadata": {},
     "output_type": "display_data"
    }
   ],
   "source": [
    "display(data_reg_3.head())\n",
    "display(data_reg_3['product'].describe())"
   ]
  },
  {
   "cell_type": "markdown",
   "metadata": {},
   "source": [
    "<i>Поскольку мы не знаем что означают колонки f0,f1,f2, посмотрим на product для всех 3х датафреймов в сравнении.</i>"
   ]
  },
  {
   "cell_type": "code",
   "execution_count": 7,
   "metadata": {
    "scrolled": true
   },
   "outputs": [
    {
     "data": {
      "text/html": [
       "<div>\n",
       "<style scoped>\n",
       "    .dataframe tbody tr th:only-of-type {\n",
       "        vertical-align: middle;\n",
       "    }\n",
       "\n",
       "    .dataframe tbody tr th {\n",
       "        vertical-align: top;\n",
       "    }\n",
       "\n",
       "    .dataframe thead th {\n",
       "        text-align: right;\n",
       "    }\n",
       "</style>\n",
       "<table border=\"1\" class=\"dataframe\">\n",
       "  <thead>\n",
       "    <tr style=\"text-align: right;\">\n",
       "      <th></th>\n",
       "      <th>region_1_product</th>\n",
       "      <th>region_2_product</th>\n",
       "      <th>region_3_product</th>\n",
       "    </tr>\n",
       "  </thead>\n",
       "  <tbody>\n",
       "    <tr>\n",
       "      <th>count</th>\n",
       "      <td>100000.000000</td>\n",
       "      <td>100000.000000</td>\n",
       "      <td>100000.000000</td>\n",
       "    </tr>\n",
       "    <tr>\n",
       "      <th>mean</th>\n",
       "      <td>92.500000</td>\n",
       "      <td>68.825000</td>\n",
       "      <td>95.000000</td>\n",
       "    </tr>\n",
       "    <tr>\n",
       "      <th>std</th>\n",
       "      <td>44.288691</td>\n",
       "      <td>45.944423</td>\n",
       "      <td>44.749921</td>\n",
       "    </tr>\n",
       "    <tr>\n",
       "      <th>min</th>\n",
       "      <td>0.000000</td>\n",
       "      <td>0.000000</td>\n",
       "      <td>0.000000</td>\n",
       "    </tr>\n",
       "    <tr>\n",
       "      <th>25%</th>\n",
       "      <td>56.497507</td>\n",
       "      <td>26.953261</td>\n",
       "      <td>59.450441</td>\n",
       "    </tr>\n",
       "    <tr>\n",
       "      <th>50%</th>\n",
       "      <td>91.849972</td>\n",
       "      <td>57.085625</td>\n",
       "      <td>94.925613</td>\n",
       "    </tr>\n",
       "    <tr>\n",
       "      <th>75%</th>\n",
       "      <td>128.564089</td>\n",
       "      <td>107.813044</td>\n",
       "      <td>130.595027</td>\n",
       "    </tr>\n",
       "    <tr>\n",
       "      <th>max</th>\n",
       "      <td>185.364347</td>\n",
       "      <td>137.945408</td>\n",
       "      <td>190.029838</td>\n",
       "    </tr>\n",
       "  </tbody>\n",
       "</table>\n",
       "</div>"
      ],
      "text/plain": [
       "       region_1_product  region_2_product  region_3_product\n",
       "count     100000.000000     100000.000000     100000.000000\n",
       "mean          92.500000         68.825000         95.000000\n",
       "std           44.288691         45.944423         44.749921\n",
       "min            0.000000          0.000000          0.000000\n",
       "25%           56.497507         26.953261         59.450441\n",
       "50%           91.849972         57.085625         94.925613\n",
       "75%          128.564089        107.813044        130.595027\n",
       "max          185.364347        137.945408        190.029838"
      ]
     },
     "execution_count": 7,
     "metadata": {},
     "output_type": "execute_result"
    }
   ],
   "source": [
    "result = pd.concat([data_reg_1['product'].describe(), data_reg_2['product'].describe(),data_reg_3['product'].describe()], axis=1, join=\"inner\")\n",
    "result.columns=['region_1_product','region_2_product','region_3_product' ]\n",
    "result"
   ]
  },
  {
   "cell_type": "markdown",
   "metadata": {},
   "source": [
    "<i>Сразу видим, что 2й регион меньшепо запасам продукта, по сравнению с 1м и 3м </i>"
   ]
  },
  {
   "cell_type": "code",
   "execution_count": 8,
   "metadata": {
    "scrolled": true
   },
   "outputs": [
    {
     "data": {
      "image/png": "[encoded data removed]",
      "text/plain": [
       "<Figure size 936x288 with 1 Axes>"
      ]
     },
     "metadata": {
      "needs_background": "light"
     },
     "output_type": "display_data"
    }
   ],
   "source": [
    "data_reg_1['product'].hist(bins = 100,figsize=(13,4),color='green')\n",
    "plt.title('Гистограмма распределения product для региона 1')\n",
    "plt.show()\n"
   ]
  },
  {
   "cell_type": "code",
   "execution_count": 9,
   "metadata": {},
   "outputs": [
    {
     "data": {
      "image/png": "[encoded data removed]",
      "text/plain": [
       "<Figure size 936x288 with 1 Axes>"
      ]
     },
     "metadata": {
      "needs_background": "light"
     },
     "output_type": "display_data"
    }
   ],
   "source": [
    "data_reg_2['product'].hist(bins = 100,figsize=(13,4))\n",
    "plt.title('Гистограмма распределения product для региона 2')\n",
    "plt.show()\n"
   ]
  },
  {
   "cell_type": "code",
   "execution_count": 10,
   "metadata": {},
   "outputs": [
    {
     "data": {
      "image/png": "[encoded data removed]",
      "text/plain": [
       "<Figure size 936x288 with 1 Axes>"
      ]
     },
     "metadata": {
      "needs_background": "light"
     },
     "output_type": "display_data"
    }
   ],
   "source": [
    "data_reg_3['product'].hist(bins = 100,figsize=(13,4), color='red')\n",
    "plt.title('Гистограмма распределения product для региона 3')\n",
    "plt.show()"
   ]
  },
  {
   "cell_type": "markdown",
   "metadata": {},
   "source": [
    "<i>Гистограмма для региона 2 имеет странну логику по сравнению с регионом 1 и 3. Но не зная смысла параметров f1,f2,f3 сложно сказать что-то о причинах. </i>"
   ]
  },
  {
   "cell_type": "markdown",
   "metadata": {},
   "source": [
    "<i>Проверим наличие пропусков</i>"
   ]
  },
  {
   "cell_type": "code",
   "execution_count": 11,
   "metadata": {
    "scrolled": false
   },
   "outputs": [
    {
     "name": "stdout",
     "output_type": "stream",
     "text": [
      "id         0.0\n",
      "f0         0.0\n",
      "f1         0.0\n",
      "f2         0.0\n",
      "product    0.0\n",
      "dtype: float64\n",
      "id         0.0\n",
      "f0         0.0\n",
      "f1         0.0\n",
      "f2         0.0\n",
      "product    0.0\n",
      "dtype: float64\n",
      "id         0.0\n",
      "f0         0.0\n",
      "f1         0.0\n",
      "f2         0.0\n",
      "product    0.0\n",
      "dtype: float64\n"
     ]
    }
   ],
   "source": [
    "print(data_reg_1.isnull().mean())\n",
    "print(data_reg_2.isnull().mean())\n",
    "print(data_reg_3.isnull().mean())"
   ]
  },
  {
   "cell_type": "markdown",
   "metadata": {},
   "source": [
    "<i>Пропусков нет</i>"
   ]
  },
  {
   "cell_type": "markdown",
   "metadata": {},
   "source": [
    "<i>Проверим наличие дубликатов </i>"
   ]
  },
  {
   "cell_type": "code",
   "execution_count": 12,
   "metadata": {
    "scrolled": false
   },
   "outputs": [
    {
     "name": "stdout",
     "output_type": "stream",
     "text": [
      "0\n",
      "0\n",
      "0\n"
     ]
    }
   ],
   "source": [
    "print(data_reg_1.duplicated().sum())\n",
    "print(data_reg_2.duplicated().sum())\n",
    "print(data_reg_3.duplicated().sum())\n"
   ]
  },
  {
   "cell_type": "markdown",
   "metadata": {},
   "source": [
    "<i>Полных дубликатов нет </i>"
   ]
  },
  {
   "cell_type": "markdown",
   "metadata": {},
   "source": [
    "## Обучение и проверка модели"
   ]
  },
  {
   "cell_type": "code",
   "execution_count": 13,
   "metadata": {},
   "outputs": [],
   "source": [
    "#Напишем функцию для поиска лучших параметров линейной регрессии\n",
    "\n",
    "def lin_regression_grid (data, target_column):\n",
    "    target = data[target_column]\n",
    "    features=data.drop([target_column,'id'],axis=1)\n",
    "    features_train, features_valid, target_train, target_valid = train_test_split(\n",
    "    features, target, test_size=0.25, random_state=12345)\n",
    "    parameters = {'fit_intercept':[True,False], 'copy_X':[True, False], 'normalize':[True,False]}\n",
    "    model = GridSearchCV(estimator=LinearRegression(), param_grid=parameters, cv=5)\n",
    "    model.fit(features_train, target_train)\n",
    "    predicted_valid = model.predict(features_valid)        \n",
    "\n",
    "\n",
    "    metrics = {}\n",
    "    metrics['mse'] =  round(mean_squared_error(target_valid, predicted_valid),4)\n",
    "    metrics['rmse'] =  round(metrics['mse'] ** 0.5,4)\n",
    "    metrics['r2'] =  round(r2_score(target_valid, predicted_valid),4) #вычислим коэффициент детерминации, чтобы не сравнивать модель\n",
    "    #с Dummy Regressor\n",
    "    metrics['mae'] =  round(mean_absolute_error(target_valid, predicted_valid),4)\n",
    "    metrics['best_model_params'] = model.best_params_\n",
    "    metrics['predicted_valid'] = predicted_valid\n",
    "    metrics['target_valid'] = target_valid\n",
    "    \n",
    "    return metrics"
   ]
  },
  {
   "cell_type": "code",
   "execution_count": 14,
   "metadata": {},
   "outputs": [],
   "source": [
    "target_column = 'product'\n",
    "\n",
    "metrics_reg_1 = lin_regression_grid(data_reg_1, target_column)\n",
    "metrics_reg_2 = lin_regression_grid(data_reg_2, target_column)\n",
    "metrics_reg_3 = lin_regression_grid(data_reg_3, target_column)"
   ]
  },
  {
   "cell_type": "code",
   "execution_count": 15,
   "metadata": {
    "scrolled": true
   },
   "outputs": [
    {
     "name": "stdout",
     "output_type": "stream",
     "text": [
      "RMSE для предсказаний по региону 1: 37.5794\n",
      "Средний объем предсказанного сырья для региона 1: 92.59256778438035\n",
      "R2 для региона 1: 0.2799\n",
      "MAE для региона 1: 30.9196\n",
      "----------------------\n",
      "RMSE для предсказаний по региону 2: 0.8931\n",
      "Средний объем предсказанного сырья для региона 2: 68.728546895446\n",
      "R2 для региона 2: 0.9996\n",
      "MAE для региона 2: 0.7188\n",
      "----------------------\n",
      "RMSE для предсказаний по региону 3: 40.0297\n",
      "Средний объем предсказанного сырья для региона 3: 94.96504596800489\n",
      "R2 для региона 3: 0.2052\n",
      "MAE для региона 3: 32.7927\n"
     ]
    }
   ],
   "source": [
    "print('RMSE для предсказаний по региону 1:',metrics_reg_1['rmse'])\n",
    "print('Средний объем предсказанного сырья для региона 1:',metrics_reg_1['predicted_valid'].mean())\n",
    "print('R2 для региона 1:',metrics_reg_1['r2'])\n",
    "print('MAE для региона 1:',metrics_reg_1['mae'])\n",
    "print('----------------------')\n",
    "print('RMSE для предсказаний по региону 2:',metrics_reg_2['rmse'])\n",
    "print('Средний объем предсказанного сырья для региона 2:',metrics_reg_2['predicted_valid'].mean())\n",
    "print('R2 для региона 2:',metrics_reg_2['r2'])\n",
    "print('MAE для региона 2:',metrics_reg_2['mae'])\n",
    "print('----------------------')\n",
    "print('RMSE для предсказаний по региону 3:',metrics_reg_3['rmse'])\n",
    "print('Средний объем предсказанного сырья для региона 3:',metrics_reg_3['predicted_valid'].mean())\n",
    "print('R2 для региона 3:',metrics_reg_3['r2'])\n",
    "print('MAE для региона 3:',metrics_reg_3['mae'])"
   ]
  },
  {
   "cell_type": "code",
   "execution_count": 16,
   "metadata": {},
   "outputs": [
    {
     "data": {
      "text/html": [
       "<div>\n",
       "<style scoped>\n",
       "    .dataframe tbody tr th:only-of-type {\n",
       "        vertical-align: middle;\n",
       "    }\n",
       "\n",
       "    .dataframe tbody tr th {\n",
       "        vertical-align: top;\n",
       "    }\n",
       "\n",
       "    .dataframe thead th {\n",
       "        text-align: right;\n",
       "    }\n",
       "</style>\n",
       "<table border=\"1\" class=\"dataframe\">\n",
       "  <thead>\n",
       "    <tr style=\"text-align: right;\">\n",
       "      <th></th>\n",
       "      <th>RMSE</th>\n",
       "      <th>MAE</th>\n",
       "      <th>R2</th>\n",
       "      <th>Product_mean</th>\n",
       "    </tr>\n",
       "  </thead>\n",
       "  <tbody>\n",
       "    <tr>\n",
       "      <th>Region_1</th>\n",
       "      <td>37.5794</td>\n",
       "      <td>30.9196</td>\n",
       "      <td>0.2799</td>\n",
       "      <td>92.592568</td>\n",
       "    </tr>\n",
       "    <tr>\n",
       "      <th>Region_2</th>\n",
       "      <td>0.8931</td>\n",
       "      <td>0.7188</td>\n",
       "      <td>0.9996</td>\n",
       "      <td>68.728547</td>\n",
       "    </tr>\n",
       "    <tr>\n",
       "      <th>Region_3</th>\n",
       "      <td>40.0297</td>\n",
       "      <td>32.7927</td>\n",
       "      <td>0.2052</td>\n",
       "      <td>94.965046</td>\n",
       "    </tr>\n",
       "  </tbody>\n",
       "</table>\n",
       "</div>"
      ],
      "text/plain": [
       "             RMSE      MAE      R2  Product_mean\n",
       "Region_1  37.5794  30.9196  0.2799     92.592568\n",
       "Region_2   0.8931   0.7188  0.9996     68.728547\n",
       "Region_3  40.0297  32.7927  0.2052     94.965046"
      ]
     },
     "execution_count": 16,
     "metadata": {},
     "output_type": "execute_result"
    }
   ],
   "source": [
    "df = pd.DataFrame([[metrics_reg_1['rmse'], metrics_reg_1['mae'],metrics_reg_1['r2'],metrics_reg_1['predicted_valid'].mean()],\n",
    "                   [metrics_reg_2['rmse'], metrics_reg_2['mae'],metrics_reg_2['r2'],metrics_reg_2['predicted_valid'].mean()],\n",
    "                   [metrics_reg_3['rmse'], metrics_reg_3['mae'],metrics_reg_3['r2'],metrics_reg_3['predicted_valid'].mean()]], \n",
    "                   columns=['RMSE','MAE','R2','Product_mean' ], index=['Region_1', 'Region_2','Region_3'])\n",
    "df\n"
   ]
  },
  {
   "cell_type": "markdown",
   "metadata": {},
   "source": [
    "Лучше всего модель обучилась на данных региона 2. Здесь самая малая MSE и коэффициент детерминации. О причинах сказать сложно, так как мы не знаем что такое fo,f1,f2 \n",
    "\n",
    "Средний запас продукта во 2м регионе ощутимо ниже региона 1 и 2, но качество данных для обучения модели гораздо лучше. Видимо этот регион более стабильный и предсказуемый, по неизвесным нам причинам (геологиеческим, количество и качество данных в регионе выше, тип месторождения, доступные способы разработки в регионе и т.д.)\n",
    "\n",
    "Регион 1 и 3 похожи друг с другом по параметрам."
   ]
  },
  {
   "cell_type": "markdown",
   "metadata": {},
   "source": [
    "## Подготовка к расчёту прибыли"
   ]
  },
  {
   "cell_type": "code",
   "execution_count": 17,
   "metadata": {
    "scrolled": true
   },
   "outputs": [
    {
     "name": "stdout",
     "output_type": "stream",
     "text": [
      "Достаточный объем сырья для безубыточной разработки новой скважины: 112\n"
     ]
    }
   ],
   "source": [
    "#Расчитаем объем сырья для безубыточной разработки новой скважины.\n",
    "BUDGET = 10_000_000_000\n",
    "NUMBER_OF_WELLS= 200\n",
    "COST_PER_WELL=BUDGET/NUMBER_OF_WELLS\n",
    "THOUSAND_OF_BARRELS_PRICE = 450*1000\n",
    "ENOUGH_VOLUME = math.ceil(COST_PER_WELL/THOUSAND_OF_BARRELS_PRICE)\n",
    "print('Достаточный объем сырья для безубыточной разработки новой скважины:',ENOUGH_VOLUME)"
   ]
  },
  {
   "cell_type": "code",
   "execution_count": 18,
   "metadata": {
    "scrolled": false
   },
   "outputs": [
    {
     "data": {
      "text/html": [
       "<div>\n",
       "<style scoped>\n",
       "    .dataframe tbody tr th:only-of-type {\n",
       "        vertical-align: middle;\n",
       "    }\n",
       "\n",
       "    .dataframe tbody tr th {\n",
       "        vertical-align: top;\n",
       "    }\n",
       "\n",
       "    .dataframe thead th {\n",
       "        text-align: right;\n",
       "    }\n",
       "</style>\n",
       "<table border=\"1\" class=\"dataframe\">\n",
       "  <thead>\n",
       "    <tr style=\"text-align: right;\">\n",
       "      <th></th>\n",
       "      <th>product</th>\n",
       "      <th>predicted</th>\n",
       "      <th>t_income</th>\n",
       "      <th>region</th>\n",
       "    </tr>\n",
       "  </thead>\n",
       "  <tbody>\n",
       "    <tr>\n",
       "      <th>71751</th>\n",
       "      <td>10.038645</td>\n",
       "      <td>95.894952</td>\n",
       "      <td>4.517390e+06</td>\n",
       "      <td>1</td>\n",
       "    </tr>\n",
       "    <tr>\n",
       "      <th>80493</th>\n",
       "      <td>114.551489</td>\n",
       "      <td>77.572583</td>\n",
       "      <td>5.154817e+07</td>\n",
       "      <td>1</td>\n",
       "    </tr>\n",
       "    <tr>\n",
       "      <th>2655</th>\n",
       "      <td>132.603635</td>\n",
       "      <td>77.892640</td>\n",
       "      <td>5.967164e+07</td>\n",
       "      <td>1</td>\n",
       "    </tr>\n",
       "    <tr>\n",
       "      <th>53233</th>\n",
       "      <td>169.072125</td>\n",
       "      <td>90.175134</td>\n",
       "      <td>7.608246e+07</td>\n",
       "      <td>1</td>\n",
       "    </tr>\n",
       "    <tr>\n",
       "      <th>91141</th>\n",
       "      <td>122.325180</td>\n",
       "      <td>70.510088</td>\n",
       "      <td>5.504633e+07</td>\n",
       "      <td>1</td>\n",
       "    </tr>\n",
       "  </tbody>\n",
       "</table>\n",
       "</div>"
      ],
      "text/plain": [
       "          product  predicted      t_income  region\n",
       "71751   10.038645  95.894952  4.517390e+06       1\n",
       "80493  114.551489  77.572583  5.154817e+07       1\n",
       "2655   132.603635  77.892640  5.967164e+07       1\n",
       "53233  169.072125  90.175134  7.608246e+07       1\n",
       "91141  122.325180  70.510088  5.504633e+07       1"
      ]
     },
     "metadata": {},
     "output_type": "display_data"
    },
    {
     "name": "stdout",
     "output_type": "stream",
     "text": [
      "(25000, 4)\n"
     ]
    },
    {
     "data": {
      "text/html": [
       "<div>\n",
       "<style scoped>\n",
       "    .dataframe tbody tr th:only-of-type {\n",
       "        vertical-align: middle;\n",
       "    }\n",
       "\n",
       "    .dataframe tbody tr th {\n",
       "        vertical-align: top;\n",
       "    }\n",
       "\n",
       "    .dataframe thead th {\n",
       "        text-align: right;\n",
       "    }\n",
       "</style>\n",
       "<table border=\"1\" class=\"dataframe\">\n",
       "  <thead>\n",
       "    <tr style=\"text-align: right;\">\n",
       "      <th></th>\n",
       "      <th>product</th>\n",
       "      <th>predicted</th>\n",
       "      <th>t_income</th>\n",
       "      <th>region</th>\n",
       "    </tr>\n",
       "  </thead>\n",
       "  <tbody>\n",
       "    <tr>\n",
       "      <th>71751</th>\n",
       "      <td>80.859783</td>\n",
       "      <td>82.663314</td>\n",
       "      <td>3.638690e+07</td>\n",
       "      <td>2</td>\n",
       "    </tr>\n",
       "    <tr>\n",
       "      <th>80493</th>\n",
       "      <td>53.906522</td>\n",
       "      <td>54.431786</td>\n",
       "      <td>2.425793e+07</td>\n",
       "      <td>2</td>\n",
       "    </tr>\n",
       "    <tr>\n",
       "      <th>2655</th>\n",
       "      <td>30.132364</td>\n",
       "      <td>29.748760</td>\n",
       "      <td>1.355956e+07</td>\n",
       "      <td>2</td>\n",
       "    </tr>\n",
       "    <tr>\n",
       "      <th>53233</th>\n",
       "      <td>53.906522</td>\n",
       "      <td>53.552133</td>\n",
       "      <td>2.425793e+07</td>\n",
       "      <td>2</td>\n",
       "    </tr>\n",
       "    <tr>\n",
       "      <th>91141</th>\n",
       "      <td>0.000000</td>\n",
       "      <td>1.243856</td>\n",
       "      <td>0.000000e+00</td>\n",
       "      <td>2</td>\n",
       "    </tr>\n",
       "  </tbody>\n",
       "</table>\n",
       "</div>"
      ],
      "text/plain": [
       "         product  predicted      t_income  region\n",
       "71751  80.859783  82.663314  3.638690e+07       2\n",
       "80493  53.906522  54.431786  2.425793e+07       2\n",
       "2655   30.132364  29.748760  1.355956e+07       2\n",
       "53233  53.906522  53.552133  2.425793e+07       2\n",
       "91141   0.000000   1.243856  0.000000e+00       2"
      ]
     },
     "metadata": {},
     "output_type": "display_data"
    },
    {
     "name": "stdout",
     "output_type": "stream",
     "text": [
      "(25000, 4)\n"
     ]
    },
    {
     "data": {
      "text/html": [
       "<div>\n",
       "<style scoped>\n",
       "    .dataframe tbody tr th:only-of-type {\n",
       "        vertical-align: middle;\n",
       "    }\n",
       "\n",
       "    .dataframe tbody tr th {\n",
       "        vertical-align: top;\n",
       "    }\n",
       "\n",
       "    .dataframe thead th {\n",
       "        text-align: right;\n",
       "    }\n",
       "</style>\n",
       "<table border=\"1\" class=\"dataframe\">\n",
       "  <thead>\n",
       "    <tr style=\"text-align: right;\">\n",
       "      <th></th>\n",
       "      <th>product</th>\n",
       "      <th>predicted</th>\n",
       "      <th>t_income</th>\n",
       "      <th>region</th>\n",
       "    </tr>\n",
       "  </thead>\n",
       "  <tbody>\n",
       "    <tr>\n",
       "      <th>71751</th>\n",
       "      <td>61.212375</td>\n",
       "      <td>93.599633</td>\n",
       "      <td>2.754557e+07</td>\n",
       "      <td>3</td>\n",
       "    </tr>\n",
       "    <tr>\n",
       "      <th>80493</th>\n",
       "      <td>41.850118</td>\n",
       "      <td>75.105159</td>\n",
       "      <td>1.883255e+07</td>\n",
       "      <td>3</td>\n",
       "    </tr>\n",
       "    <tr>\n",
       "      <th>2655</th>\n",
       "      <td>57.776581</td>\n",
       "      <td>90.066809</td>\n",
       "      <td>2.599946e+07</td>\n",
       "      <td>3</td>\n",
       "    </tr>\n",
       "    <tr>\n",
       "      <th>53233</th>\n",
       "      <td>100.053761</td>\n",
       "      <td>105.162375</td>\n",
       "      <td>4.502419e+07</td>\n",
       "      <td>3</td>\n",
       "    </tr>\n",
       "    <tr>\n",
       "      <th>91141</th>\n",
       "      <td>109.897122</td>\n",
       "      <td>115.303310</td>\n",
       "      <td>4.945370e+07</td>\n",
       "      <td>3</td>\n",
       "    </tr>\n",
       "  </tbody>\n",
       "</table>\n",
       "</div>"
      ],
      "text/plain": [
       "          product   predicted      t_income  region\n",
       "71751   61.212375   93.599633  2.754557e+07       3\n",
       "80493   41.850118   75.105159  1.883255e+07       3\n",
       "2655    57.776581   90.066809  2.599946e+07       3\n",
       "53233  100.053761  105.162375  4.502419e+07       3\n",
       "91141  109.897122  115.303310  4.945370e+07       3"
      ]
     },
     "metadata": {},
     "output_type": "display_data"
    },
    {
     "name": "stdout",
     "output_type": "stream",
     "text": [
      "(25000, 4)\n"
     ]
    }
   ],
   "source": [
    "#Сгруппируем необходимые нам для дальнейшей работы данные в таблицы. Добавим колонку с доходом 't_income'\n",
    "region_1_df = pd.DataFrame(metrics_reg_1['target_valid'])\n",
    "region_1_df['predicted'] = metrics_reg_1['predicted_valid']\n",
    "region_1_df['t_income'] = metrics_reg_1['target_valid'] * THOUSAND_OF_BARRELS_PRICE\n",
    "region_1_df['region'] = 1\n",
    "\n",
    "region_2_df = pd.DataFrame(metrics_reg_2['target_valid'])\n",
    "region_2_df['predicted'] = metrics_reg_2['predicted_valid']\n",
    "region_2_df['t_income'] = metrics_reg_2['target_valid'] * THOUSAND_OF_BARRELS_PRICE\n",
    "region_2_df['region'] = 2\n",
    "\n",
    "region_3_df = pd.DataFrame(metrics_reg_3['target_valid'])\n",
    "region_3_df['predicted'] = metrics_reg_3['predicted_valid']\n",
    "region_3_df['t_income'] = metrics_reg_3['target_valid'] * THOUSAND_OF_BARRELS_PRICE\n",
    "region_3_df['region'] = 3\n",
    "\n",
    "display (region_1_df.head())\n",
    "print(region_1_df.shape)\n",
    "display (region_2_df.head())\n",
    "print(region_2_df.shape)\n",
    "display (region_3_df.head())\n",
    "print(region_3_df.shape)"
   ]
  },
  {
   "cell_type": "code",
   "execution_count": 19,
   "metadata": {},
   "outputs": [
    {
     "data": {
      "text/html": [
       "<div>\n",
       "<style scoped>\n",
       "    .dataframe tbody tr th:only-of-type {\n",
       "        vertical-align: middle;\n",
       "    }\n",
       "\n",
       "    .dataframe tbody tr th {\n",
       "        vertical-align: top;\n",
       "    }\n",
       "\n",
       "    .dataframe thead th {\n",
       "        text-align: right;\n",
       "    }\n",
       "</style>\n",
       "<table border=\"1\" class=\"dataframe\">\n",
       "  <thead>\n",
       "    <tr style=\"text-align: right;\">\n",
       "      <th></th>\n",
       "      <th>predicted</th>\n",
       "      <th>product</th>\n",
       "      <th>t_income</th>\n",
       "    </tr>\n",
       "    <tr>\n",
       "      <th>region</th>\n",
       "      <th></th>\n",
       "      <th></th>\n",
       "      <th></th>\n",
       "    </tr>\n",
       "  </thead>\n",
       "  <tbody>\n",
       "    <tr>\n",
       "      <th>1</th>\n",
       "      <td>92.592568</td>\n",
       "      <td>92.078597</td>\n",
       "      <td>4.143537e+07</td>\n",
       "    </tr>\n",
       "    <tr>\n",
       "      <th>2</th>\n",
       "      <td>68.728547</td>\n",
       "      <td>68.723136</td>\n",
       "      <td>3.092541e+07</td>\n",
       "    </tr>\n",
       "    <tr>\n",
       "      <th>3</th>\n",
       "      <td>94.965046</td>\n",
       "      <td>94.884233</td>\n",
       "      <td>4.269790e+07</td>\n",
       "    </tr>\n",
       "  </tbody>\n",
       "</table>\n",
       "</div>"
      ],
      "text/plain": [
       "        predicted    product      t_income\n",
       "region                                    \n",
       "1       92.592568  92.078597  4.143537e+07\n",
       "2       68.728547  68.723136  3.092541e+07\n",
       "3       94.965046  94.884233  4.269790e+07"
      ]
     },
     "execution_count": 19,
     "metadata": {},
     "output_type": "execute_result"
    }
   ],
   "source": [
    "#Посмотрим на средние значения.\n",
    "region_1_df.pivot_table(index='region',aggfunc='mean').append(region_2_df.pivot_table(index='region',aggfunc='mean')).append(region_3_df.pivot_table(index='region',aggfunc='mean'))"
   ]
  },
  {
   "cell_type": "markdown",
   "metadata": {},
   "source": [
    "Таким образом, средний объем сырья на выборках валид в каждом регионе ниже безубыточного оъема сырья '112'. Только по объему сырья регион 2 выглядит невыгодным. Нужно подробней смотреть на прибыли."
   ]
  },
  {
   "cell_type": "markdown",
   "metadata": {},
   "source": [
    "## Расчёт прибыли и рисков "
   ]
  },
  {
   "cell_type": "code",
   "execution_count": 20,
   "metadata": {},
   "outputs": [],
   "source": [
    "#Расчитаем прибыль для полученного объема сырья. Напишем функцию,в которую будем подставлять\n",
    "#результаты, полученные ранее\n",
    "def profit(target, predictions):\n",
    "    predictions_sorted = predictions.sort_values(ascending=False)\n",
    "    selected_points = target[predictions_sorted.index][:NUMBER_OF_WELLS]\n",
    "    product = selected_points.sum()\n",
    "    revenue = product * THOUSAND_OF_BARRELS_PRICE/1_000_000_000\n",
    "    cost = BUDGET/1_000_000_000\n",
    "    return (revenue - cost)    "
   ]
  },
  {
   "cell_type": "code",
   "execution_count": 21,
   "metadata": {},
   "outputs": [
    {
     "data": {
      "text/html": [
       "<div>\n",
       "<style scoped>\n",
       "    .dataframe tbody tr th:only-of-type {\n",
       "        vertical-align: middle;\n",
       "    }\n",
       "\n",
       "    .dataframe tbody tr th {\n",
       "        vertical-align: top;\n",
       "    }\n",
       "\n",
       "    .dataframe thead th {\n",
       "        text-align: right;\n",
       "    }\n",
       "</style>\n",
       "<table border=\"1\" class=\"dataframe\">\n",
       "  <thead>\n",
       "    <tr style=\"text-align: right;\">\n",
       "      <th></th>\n",
       "      <th>Profit, млрд.руб</th>\n",
       "    </tr>\n",
       "  </thead>\n",
       "  <tbody>\n",
       "    <tr>\n",
       "      <th>Region_1</th>\n",
       "      <td>3.32083</td>\n",
       "    </tr>\n",
       "    <tr>\n",
       "      <th>Region_2</th>\n",
       "      <td>2.41509</td>\n",
       "    </tr>\n",
       "    <tr>\n",
       "      <th>Region_3</th>\n",
       "      <td>2.71035</td>\n",
       "    </tr>\n",
       "  </tbody>\n",
       "</table>\n",
       "</div>"
      ],
      "text/plain": [
       "          Profit, млрд.руб\n",
       "Region_1           3.32083\n",
       "Region_2           2.41509\n",
       "Region_3           2.71035"
      ]
     },
     "execution_count": 21,
     "metadata": {},
     "output_type": "execute_result"
    }
   ],
   "source": [
    "profit_reg_1=profit(region_1_df['product'],region_1_df['predicted']).round(5)\n",
    "profit_reg_2=profit(region_2_df['product'],region_2_df['predicted']).round(5)\n",
    "profit_reg_3=profit(region_3_df['product'],region_3_df['predicted']).round(5)\n",
    "profit_table = pd.DataFrame([[profit_reg_1], [profit_reg_2],[profit_reg_3]], \n",
    "                   columns=['Profit, млрд.руб' ], index=['Region_1', 'Region_2','Region_3'])\n",
    "profit_table"
   ]
  },
  {
   "cell_type": "markdown",
   "metadata": {},
   "source": [
    "## Риск и прибыль для каждого региона"
   ]
  },
  {
   "cell_type": "code",
   "execution_count": 22,
   "metadata": {},
   "outputs": [
    {
     "data": {
      "text/html": [
       "<div>\n",
       "<style scoped>\n",
       "    .dataframe tbody tr th:only-of-type {\n",
       "        vertical-align: middle;\n",
       "    }\n",
       "\n",
       "    .dataframe tbody tr th {\n",
       "        vertical-align: top;\n",
       "    }\n",
       "\n",
       "    .dataframe thead th {\n",
       "        text-align: right;\n",
       "    }\n",
       "</style>\n",
       "<table border=\"1\" class=\"dataframe\">\n",
       "  <thead>\n",
       "    <tr style=\"text-align: right;\">\n",
       "      <th></th>\n",
       "      <th>Region_1</th>\n",
       "      <th>Region_2</th>\n",
       "      <th>Region_3</th>\n",
       "    </tr>\n",
       "  </thead>\n",
       "  <tbody>\n",
       "    <tr>\n",
       "      <th>Средняя_прибыль</th>\n",
       "      <td>0.425939</td>\n",
       "      <td>0.518259</td>\n",
       "      <td>0.420194</td>\n",
       "    </tr>\n",
       "    <tr>\n",
       "      <th>97,5%-квантиль</th>\n",
       "      <td>0.947976</td>\n",
       "      <td>0.953613</td>\n",
       "      <td>0.989630</td>\n",
       "    </tr>\n",
       "    <tr>\n",
       "      <th>2,5%-квантиль</th>\n",
       "      <td>-0.102090</td>\n",
       "      <td>0.128123</td>\n",
       "      <td>-0.115853</td>\n",
       "    </tr>\n",
       "    <tr>\n",
       "      <th>Риск_убытков,%</th>\n",
       "      <td>6.000000</td>\n",
       "      <td>0.300000</td>\n",
       "      <td>6.200000</td>\n",
       "    </tr>\n",
       "  </tbody>\n",
       "</table>\n",
       "</div>"
      ],
      "text/plain": [
       "                 Region_1  Region_2  Region_3\n",
       "Средняя_прибыль  0.425939  0.518259  0.420194\n",
       "97,5%-квантиль   0.947976  0.953613  0.989630\n",
       "2,5%-квантиль   -0.102090  0.128123 -0.115853\n",
       "Риск_убытков,%   6.000000  0.300000  6.200000"
      ]
     },
     "execution_count": 22,
     "metadata": {},
     "output_type": "execute_result"
    }
   ],
   "source": [
    "def get_bootstrap_metrics(product,predicted,sample_size):\n",
    "    values=[]\n",
    "    for i in range(1000):\n",
    "        target_subsample = product.sample(n=sample_size, replace=True, random_state=state)\n",
    "        probs_subsample = predicted[target_subsample.index]\n",
    "        values.append(profit(target_subsample, probs_subsample))\n",
    "    metrics = {}\n",
    "    values = pd.Series(values)\n",
    "    metrics['lower'] = values.quantile(0.025)\n",
    "    metrics['hight'] = values.quantile(0.975)\n",
    "    metrics['loss'] = values[values<0]\n",
    "    metrics['loss_probability']=metrics['loss'].count()/len(values)*100\n",
    "    metrics['mean'] = values.mean()\n",
    "    return metrics\n",
    "    \n",
    "region_1_btstrp_metrics= get_bootstrap_metrics(region_1_df['product'],region_1_df['predicted'],500)  \n",
    "region_2_btstrp_metrics= get_bootstrap_metrics(region_2_df['product'],region_2_df['predicted'],500)    \n",
    "region_3_btstrp_metrics= get_bootstrap_metrics(region_3_df['product'],region_3_df['predicted'],500)\n",
    "\n",
    "values_table={'Region_1':[region_1_btstrp_metrics['mean'],region_1_btstrp_metrics['hight'],region_1_btstrp_metrics['lower'],region_1_btstrp_metrics['loss_probability']],\n",
    "              'Region_2':[region_2_btstrp_metrics['mean'],region_2_btstrp_metrics['hight'],region_2_btstrp_metrics['lower'],region_2_btstrp_metrics['loss_probability']],\n",
    "              'Region_3':[region_3_btstrp_metrics['mean'],region_3_btstrp_metrics['hight'],region_3_btstrp_metrics['lower'],region_3_btstrp_metrics['loss_probability']]}\n",
    "values_table_df=pd.DataFrame(data=values_table, index =['Средняя_прибыль', '97,5%-квантиль','2,5%-квантиль','Риск_убытков,%'] )\n",
    "values_table_df"
   ]
  },
  {
   "cell_type": "markdown",
   "metadata": {},
   "source": [
    "## Вывод"
   ]
  },
  {
   "cell_type": "markdown",
   "metadata": {},
   "source": [
    "В результате проделанного исследования, наибольшую прибыль показал Регион №1, 3.32083 млрд. руб.\n",
    "Однако, в плане рисков, выгодней разрабыватывать скважину Региона №2, в которой наиболее высокая средняя прибыль и наименьшая вероятность убытка, плюс модель более точная.\n",
    "Таким образом, следует разрабатывать скважины Региона №2 в первую очередь. При увеличении цены на нефть, стоит разрабывать скважины Региона №1, так как снизится цена риска."
   ]
  },
  {
   "cell_type": "code",
   "execution_count": null,
   "metadata": {},
   "outputs": [],
   "source": []
  }
 ],
 "metadata": {
  "ExecuteTimeLog": [
   {
    "duration": 1199,
    "start_time": "2021-09-18T11:33:08.579Z"
   },
   {
    "duration": 394,
    "start_time": "2021-09-18T11:33:10.542Z"
   },
   {
    "duration": 16,
    "start_time": "2021-09-18T11:33:18.789Z"
   },
   {
    "duration": 12,
    "start_time": "2021-09-18T11:33:25.662Z"
   },
   {
    "duration": 12,
    "start_time": "2021-09-18T11:33:31.500Z"
   },
   {
    "duration": 1096,
    "start_time": "2021-09-20T15:21:44.303Z"
   },
   {
    "duration": 280,
    "start_time": "2021-09-20T15:21:57.555Z"
   },
   {
    "duration": 488,
    "start_time": "2021-09-20T15:22:03.198Z"
   },
   {
    "duration": 11,
    "start_time": "2021-09-20T15:22:05.928Z"
   },
   {
    "duration": 21,
    "start_time": "2021-09-20T15:22:24.836Z"
   },
   {
    "duration": 5,
    "start_time": "2021-09-20T15:29:18.273Z"
   },
   {
    "duration": 184,
    "start_time": "2021-09-20T15:33:21.484Z"
   },
   {
    "duration": 5,
    "start_time": "2021-09-20T15:33:25.242Z"
   },
   {
    "duration": 368,
    "start_time": "2021-09-20T15:33:25.249Z"
   },
   {
    "duration": 11,
    "start_time": "2021-09-20T15:33:25.619Z"
   },
   {
    "duration": 22,
    "start_time": "2021-09-20T15:33:25.632Z"
   },
   {
    "duration": 13,
    "start_time": "2021-09-20T15:33:25.655Z"
   },
   {
    "duration": 39,
    "start_time": "2021-09-20T15:33:25.670Z"
   },
   {
    "duration": 204,
    "start_time": "2021-09-20T15:33:36.217Z"
   },
   {
    "duration": 215,
    "start_time": "2021-09-20T15:33:59.432Z"
   },
   {
    "duration": 201,
    "start_time": "2021-09-20T15:34:06.385Z"
   },
   {
    "duration": 199,
    "start_time": "2021-09-20T15:34:19.809Z"
   },
   {
    "duration": 261,
    "start_time": "2021-09-20T15:34:24.560Z"
   },
   {
    "duration": 4,
    "start_time": "2021-09-20T15:34:34.868Z"
   },
   {
    "duration": 33,
    "start_time": "2021-09-20T15:34:38.471Z"
   },
   {
    "duration": 24,
    "start_time": "2021-09-20T15:34:44.249Z"
   },
   {
    "duration": 608,
    "start_time": "2021-09-20T15:35:42.415Z"
   },
   {
    "duration": 285,
    "start_time": "2021-09-20T15:36:11.139Z"
   },
   {
    "duration": 259,
    "start_time": "2021-09-20T15:36:24.663Z"
   },
   {
    "duration": 4,
    "start_time": "2021-09-20T15:36:37.469Z"
   },
   {
    "duration": 370,
    "start_time": "2021-09-20T15:36:37.475Z"
   },
   {
    "duration": 9,
    "start_time": "2021-09-20T15:36:37.847Z"
   },
   {
    "duration": 21,
    "start_time": "2021-09-20T15:36:37.858Z"
   },
   {
    "duration": 29,
    "start_time": "2021-09-20T15:36:37.880Z"
   },
   {
    "duration": 13,
    "start_time": "2021-09-20T15:36:37.911Z"
   },
   {
    "duration": 271,
    "start_time": "2021-09-20T15:36:48.594Z"
   },
   {
    "duration": 5,
    "start_time": "2021-09-20T15:37:40.752Z"
   },
   {
    "duration": 369,
    "start_time": "2021-09-20T15:37:40.759Z"
   },
   {
    "duration": 9,
    "start_time": "2021-09-20T15:37:41.130Z"
   },
   {
    "duration": 19,
    "start_time": "2021-09-20T15:37:41.141Z"
   },
   {
    "duration": 10,
    "start_time": "2021-09-20T15:37:41.162Z"
   },
   {
    "duration": 31,
    "start_time": "2021-09-20T15:37:41.174Z"
   },
   {
    "duration": 253,
    "start_time": "2021-09-20T15:37:41.207Z"
   },
   {
    "duration": -47,
    "start_time": "2021-09-20T15:37:41.509Z"
   },
   {
    "duration": 250,
    "start_time": "2021-09-20T15:37:49.970Z"
   },
   {
    "duration": 25,
    "start_time": "2021-09-20T15:41:23.319Z"
   },
   {
    "duration": 26,
    "start_time": "2021-09-20T15:41:37.420Z"
   },
   {
    "duration": 96,
    "start_time": "2021-09-20T15:42:13.804Z"
   },
   {
    "duration": 28,
    "start_time": "2021-09-20T15:42:18.075Z"
   },
   {
    "duration": 92,
    "start_time": "2021-09-20T15:42:19.708Z"
   },
   {
    "duration": 24,
    "start_time": "2021-09-20T15:42:22.783Z"
   },
   {
    "duration": 7,
    "start_time": "2021-09-20T16:09:34.463Z"
   },
   {
    "duration": 7,
    "start_time": "2021-09-20T16:12:41.429Z"
   },
   {
    "duration": 23,
    "start_time": "2021-09-20T16:13:25.505Z"
   },
   {
    "duration": 7,
    "start_time": "2021-09-20T16:13:26.896Z"
   },
   {
    "duration": 6,
    "start_time": "2021-09-20T16:13:44.792Z"
   },
   {
    "duration": 6,
    "start_time": "2021-09-20T16:13:48.880Z"
   },
   {
    "duration": 6,
    "start_time": "2021-09-20T16:14:15.196Z"
   },
   {
    "duration": 31,
    "start_time": "2021-09-20T16:14:17.684Z"
   },
   {
    "duration": 7,
    "start_time": "2021-09-20T16:14:28.003Z"
   },
   {
    "duration": 6,
    "start_time": "2021-09-20T16:14:33.947Z"
   },
   {
    "duration": 6,
    "start_time": "2021-09-20T16:15:16.627Z"
   },
   {
    "duration": 7,
    "start_time": "2021-09-20T16:15:25.791Z"
   },
   {
    "duration": 9,
    "start_time": "2021-09-20T16:15:36.243Z"
   },
   {
    "duration": 31,
    "start_time": "2021-09-20T16:15:38.262Z"
   },
   {
    "duration": 8,
    "start_time": "2021-09-20T16:15:40.123Z"
   },
   {
    "duration": 8,
    "start_time": "2021-09-20T16:15:51.367Z"
   },
   {
    "duration": 26,
    "start_time": "2021-09-20T16:15:52.298Z"
   },
   {
    "duration": 7,
    "start_time": "2021-09-20T16:16:01.120Z"
   },
   {
    "duration": 26,
    "start_time": "2021-09-20T16:16:17.331Z"
   },
   {
    "duration": 6,
    "start_time": "2021-09-20T16:16:19.047Z"
   },
   {
    "duration": 8,
    "start_time": "2021-09-20T16:16:33.922Z"
   },
   {
    "duration": 7,
    "start_time": "2021-09-20T16:16:42.694Z"
   },
   {
    "duration": 6,
    "start_time": "2021-09-20T16:17:00.710Z"
   },
   {
    "duration": 30,
    "start_time": "2021-09-20T16:18:23.453Z"
   },
   {
    "duration": 6,
    "start_time": "2021-09-20T16:18:26.009Z"
   },
   {
    "duration": 24,
    "start_time": "2021-09-20T16:18:30.869Z"
   },
   {
    "duration": 182,
    "start_time": "2021-09-20T16:18:59.511Z"
   },
   {
    "duration": 41,
    "start_time": "2021-09-20T16:19:10.185Z"
   },
   {
    "duration": 872,
    "start_time": "2021-09-20T16:19:28.270Z"
   },
   {
    "duration": 22,
    "start_time": "2021-09-20T16:19:33.309Z"
   },
   {
    "duration": 12,
    "start_time": "2021-09-20T16:20:03.052Z"
   },
   {
    "duration": 11,
    "start_time": "2021-09-20T16:20:19.116Z"
   },
   {
    "duration": 33,
    "start_time": "2021-09-20T16:25:09.531Z"
   },
   {
    "duration": 72,
    "start_time": "2021-09-20T16:25:23.330Z"
   },
   {
    "duration": 60,
    "start_time": "2021-09-20T16:25:29.441Z"
   },
   {
    "duration": 50,
    "start_time": "2021-09-20T16:25:48.349Z"
   },
   {
    "duration": 72,
    "start_time": "2021-09-20T16:26:09.227Z"
   },
   {
    "duration": 4,
    "start_time": "2021-09-20T16:29:35.476Z"
   },
   {
    "duration": 4,
    "start_time": "2021-09-20T16:32:47.249Z"
   },
   {
    "duration": 4,
    "start_time": "2021-09-20T16:34:35.327Z"
   },
   {
    "duration": 3,
    "start_time": "2021-09-20T16:34:50.387Z"
   },
   {
    "duration": 1206,
    "start_time": "2021-09-21T07:07:34.215Z"
   },
   {
    "duration": 5,
    "start_time": "2021-09-21T07:21:31.850Z"
   },
   {
    "duration": 351,
    "start_time": "2021-09-21T07:21:33.895Z"
   },
   {
    "duration": 29,
    "start_time": "2021-09-21T07:22:35.415Z"
   },
   {
    "duration": 458,
    "start_time": "2021-09-21T07:24:14.137Z"
   },
   {
    "duration": 84,
    "start_time": "2021-09-21T07:24:23.620Z"
   },
   {
    "duration": 178,
    "start_time": "2021-09-21T07:25:16.944Z"
   },
   {
    "duration": 6,
    "start_time": "2021-09-21T07:25:26.452Z"
   },
   {
    "duration": 56,
    "start_time": "2021-09-21T07:25:32.331Z"
   },
   {
    "duration": 6,
    "start_time": "2021-09-21T07:25:34.263Z"
   },
   {
    "duration": 207,
    "start_time": "2021-09-21T07:30:08.088Z"
   },
   {
    "duration": 111,
    "start_time": "2021-09-21T07:30:23.388Z"
   },
   {
    "duration": 57,
    "start_time": "2021-09-21T07:30:45.072Z"
   },
   {
    "duration": 136,
    "start_time": "2021-09-21T07:30:52.071Z"
   },
   {
    "duration": 221,
    "start_time": "2021-09-21T07:31:26.808Z"
   },
   {
    "duration": 58,
    "start_time": "2021-09-21T07:31:45.857Z"
   },
   {
    "duration": 8,
    "start_time": "2021-09-21T07:31:49.211Z"
   },
   {
    "duration": 298,
    "start_time": "2021-09-21T07:32:44.847Z"
   },
   {
    "duration": 66,
    "start_time": "2021-09-21T07:32:52.474Z"
   },
   {
    "duration": 6,
    "start_time": "2021-09-21T07:33:00.766Z"
   },
   {
    "duration": 7,
    "start_time": "2021-09-21T07:37:23.756Z"
   },
   {
    "duration": 5,
    "start_time": "2021-09-21T07:41:28.265Z"
   },
   {
    "duration": 4,
    "start_time": "2021-09-21T07:45:53.925Z"
   },
   {
    "duration": 4,
    "start_time": "2021-09-21T07:46:10.676Z"
   },
   {
    "duration": 5,
    "start_time": "2021-09-21T07:51:11.582Z"
   },
   {
    "duration": 5,
    "start_time": "2021-09-21T11:08:14.294Z"
   },
   {
    "duration": 60,
    "start_time": "2021-09-21T11:11:34.805Z"
   },
   {
    "duration": 188,
    "start_time": "2021-09-21T11:11:43.000Z"
   },
   {
    "duration": 5,
    "start_time": "2021-09-21T11:11:51.338Z"
   },
   {
    "duration": 346,
    "start_time": "2021-09-21T11:11:51.346Z"
   },
   {
    "duration": 14,
    "start_time": "2021-09-21T11:11:51.694Z"
   },
   {
    "duration": 21,
    "start_time": "2021-09-21T11:11:51.711Z"
   },
   {
    "duration": 18,
    "start_time": "2021-09-21T11:11:51.733Z"
   },
   {
    "duration": 47,
    "start_time": "2021-09-21T11:11:51.753Z"
   },
   {
    "duration": 19,
    "start_time": "2021-09-21T11:11:51.801Z"
   },
   {
    "duration": 81,
    "start_time": "2021-09-21T11:11:51.822Z"
   },
   {
    "duration": 95,
    "start_time": "2021-09-21T11:11:51.906Z"
   },
   {
    "duration": 6,
    "start_time": "2021-09-21T11:11:52.003Z"
   },
   {
    "duration": 8,
    "start_time": "2021-09-21T11:11:52.010Z"
   },
   {
    "duration": 3,
    "start_time": "2021-09-21T11:11:52.020Z"
   },
   {
    "duration": 10,
    "start_time": "2021-09-21T11:11:52.025Z"
   },
   {
    "duration": 5,
    "start_time": "2021-09-21T11:12:12.552Z"
   },
   {
    "duration": 4,
    "start_time": "2021-09-21T11:12:18.111Z"
   },
   {
    "duration": 179,
    "start_time": "2021-09-21T11:12:48.079Z"
   },
   {
    "duration": 185,
    "start_time": "2021-09-21T11:12:54.391Z"
   },
   {
    "duration": 14,
    "start_time": "2021-09-21T11:13:28.815Z"
   },
   {
    "duration": 4,
    "start_time": "2021-09-21T12:12:38.351Z"
   },
   {
    "duration": 354,
    "start_time": "2021-09-21T12:12:55.133Z"
   },
   {
    "duration": 1380,
    "start_time": "2021-09-22T11:50:38.413Z"
   },
   {
    "duration": 411,
    "start_time": "2021-09-22T11:51:44.400Z"
   },
   {
    "duration": 7,
    "start_time": "2021-09-22T11:51:47.081Z"
   },
   {
    "duration": 442,
    "start_time": "2021-09-22T11:51:48.344Z"
   },
   {
    "duration": 30,
    "start_time": "2021-09-22T11:51:49.844Z"
   },
   {
    "duration": 91,
    "start_time": "2021-09-22T11:52:15.192Z"
   },
   {
    "duration": 24,
    "start_time": "2021-09-22T11:52:18.304Z"
   },
   {
    "duration": 284,
    "start_time": "2021-09-22T11:54:01.780Z"
   },
   {
    "duration": 68,
    "start_time": "2021-09-22T11:54:06.967Z"
   },
   {
    "duration": 182,
    "start_time": "2021-09-22T11:54:34.407Z"
   },
   {
    "duration": 188,
    "start_time": "2021-09-22T11:55:12.550Z"
   },
   {
    "duration": 409,
    "start_time": "2021-09-22T12:01:05.126Z"
   },
   {
    "duration": 307,
    "start_time": "2021-09-22T12:03:54.141Z"
   },
   {
    "duration": 96,
    "start_time": "2021-09-22T12:04:08.667Z"
   },
   {
    "duration": 95,
    "start_time": "2021-09-22T12:04:27.729Z"
   },
   {
    "duration": 398,
    "start_time": "2021-09-22T12:04:36.457Z"
   },
   {
    "duration": 48,
    "start_time": "2021-09-22T12:04:53.661Z"
   },
   {
    "duration": 98,
    "start_time": "2021-09-22T12:05:26.247Z"
   },
   {
    "duration": 327,
    "start_time": "2021-09-22T12:07:19.920Z"
   },
   {
    "duration": 402,
    "start_time": "2021-09-22T12:08:30.032Z"
   },
   {
    "duration": 27,
    "start_time": "2021-09-22T12:08:36.887Z"
   },
   {
    "duration": 28,
    "start_time": "2021-09-22T12:08:39.333Z"
   },
   {
    "duration": 35,
    "start_time": "2021-09-22T12:08:43.182Z"
   },
   {
    "duration": 386,
    "start_time": "2021-09-22T12:09:30.884Z"
   },
   {
    "duration": 28,
    "start_time": "2021-09-22T12:09:47.814Z"
   },
   {
    "duration": 36,
    "start_time": "2021-09-22T12:09:51.965Z"
   },
   {
    "duration": 40,
    "start_time": "2021-09-22T12:10:11.614Z"
   },
   {
    "duration": 35,
    "start_time": "2021-09-22T12:12:08.936Z"
   },
   {
    "duration": 263,
    "start_time": "2021-09-22T12:14:09.903Z"
   },
   {
    "duration": 99,
    "start_time": "2021-09-22T12:14:35.536Z"
   },
   {
    "duration": 362,
    "start_time": "2021-09-22T12:14:40.311Z"
   },
   {
    "duration": 11,
    "start_time": "2021-09-22T12:15:02.043Z"
   },
   {
    "duration": 365,
    "start_time": "2021-09-22T12:15:05.462Z"
   },
   {
    "duration": 283,
    "start_time": "2021-09-22T12:17:58.418Z"
   },
   {
    "duration": 245,
    "start_time": "2021-09-22T12:18:30.488Z"
   },
   {
    "duration": 229,
    "start_time": "2021-09-22T12:18:46.208Z"
   },
   {
    "duration": 647,
    "start_time": "2021-09-22T12:19:20.653Z"
   },
   {
    "duration": 2031,
    "start_time": "2021-09-22T12:21:49.606Z"
   },
   {
    "duration": 2132,
    "start_time": "2021-09-22T12:22:49.319Z"
   },
   {
    "duration": 2030,
    "start_time": "2021-09-22T12:23:03.338Z"
   },
   {
    "duration": 172,
    "start_time": "2021-09-22T12:23:28.710Z"
   },
   {
    "duration": 128,
    "start_time": "2021-09-22T12:23:35.832Z"
   },
   {
    "duration": 1979,
    "start_time": "2021-09-22T12:23:59.198Z"
   },
   {
    "duration": 1904,
    "start_time": "2021-09-22T12:24:32.494Z"
   },
   {
    "duration": 99,
    "start_time": "2021-09-22T12:28:17.345Z"
   },
   {
    "duration": 123,
    "start_time": "2021-09-22T13:33:39.145Z"
   },
   {
    "duration": 11,
    "start_time": "2021-09-22T13:33:51.125Z"
   },
   {
    "duration": 297,
    "start_time": "2021-09-22T13:34:01.673Z"
   },
   {
    "duration": 257,
    "start_time": "2021-09-22T13:34:14.691Z"
   },
   {
    "duration": 5924,
    "start_time": "2021-09-22T13:34:29.594Z"
   },
   {
    "duration": 7,
    "start_time": "2021-09-22T13:35:10.059Z"
   },
   {
    "duration": 10,
    "start_time": "2021-09-22T13:35:19.494Z"
   },
   {
    "duration": 14094,
    "start_time": "2021-09-22T13:35:20.969Z"
   },
   {
    "duration": 8,
    "start_time": "2021-09-22T13:36:22.762Z"
   },
   {
    "duration": 318,
    "start_time": "2021-09-22T13:37:28.074Z"
   },
   {
    "duration": 18554,
    "start_time": "2021-09-22T13:37:29.712Z"
   },
   {
    "duration": 277,
    "start_time": "2021-09-22T13:37:50.823Z"
   },
   {
    "duration": 5,
    "start_time": "2021-09-22T13:38:01.907Z"
   },
   {
    "duration": 239,
    "start_time": "2021-09-22T13:45:03.540Z"
   },
   {
    "duration": 274,
    "start_time": "2021-09-22T13:45:15.647Z"
   },
   {
    "duration": 13420,
    "start_time": "2021-09-22T13:45:41.449Z"
   },
   {
    "duration": 95,
    "start_time": "2021-09-22T13:45:54.871Z"
   },
   {
    "duration": 9,
    "start_time": "2021-09-22T13:48:53.182Z"
   },
   {
    "duration": 1554,
    "start_time": "2021-09-24T12:57:36.997Z"
   },
   {
    "duration": 480,
    "start_time": "2021-09-24T12:57:38.554Z"
   },
   {
    "duration": 38,
    "start_time": "2021-09-24T12:57:39.037Z"
   },
   {
    "duration": 436,
    "start_time": "2021-09-24T12:57:39.078Z"
   },
   {
    "duration": 25,
    "start_time": "2021-09-24T12:57:39.517Z"
   },
   {
    "duration": 47,
    "start_time": "2021-09-24T12:57:39.545Z"
   },
   {
    "duration": 1967,
    "start_time": "2021-09-24T12:57:39.595Z"
   },
   {
    "duration": 29,
    "start_time": "2021-09-24T12:57:41.568Z"
   },
   {
    "duration": 224,
    "start_time": "2021-09-24T12:57:41.599Z"
   },
   {
    "duration": 446,
    "start_time": "2021-09-24T12:58:18.151Z"
   },
   {
    "duration": 11,
    "start_time": "2021-09-24T12:58:22.318Z"
   },
   {
    "duration": 17857,
    "start_time": "2021-09-24T12:58:24.911Z"
   },
   {
    "duration": 9,
    "start_time": "2021-09-24T12:59:00.785Z"
   },
   {
    "duration": 11,
    "start_time": "2021-09-24T13:07:09.959Z"
   },
   {
    "duration": 116,
    "start_time": "2021-09-24T13:09:03.960Z"
   },
   {
    "duration": 12,
    "start_time": "2021-09-24T13:09:28.660Z"
   },
   {
    "duration": 13,
    "start_time": "2021-09-24T13:15:32.017Z"
   },
   {
    "duration": 13,
    "start_time": "2021-09-24T13:15:49.545Z"
   },
   {
    "duration": 90,
    "start_time": "2021-09-24T13:32:49.190Z"
   },
   {
    "duration": 110,
    "start_time": "2021-09-24T13:33:22.153Z"
   },
   {
    "duration": 95,
    "start_time": "2021-09-24T13:33:33.342Z"
   },
   {
    "duration": 97,
    "start_time": "2021-09-24T13:33:44.063Z"
   },
   {
    "duration": 308,
    "start_time": "2021-09-24T13:35:40.510Z"
   },
   {
    "duration": 17,
    "start_time": "2021-09-24T13:36:37.928Z"
   },
   {
    "duration": 17,
    "start_time": "2021-09-24T13:36:44.395Z"
   },
   {
    "duration": 17,
    "start_time": "2021-09-24T13:36:50.969Z"
   },
   {
    "duration": 4,
    "start_time": "2021-09-24T13:43:05.254Z"
   },
   {
    "duration": 5,
    "start_time": "2021-09-24T13:43:10.199Z"
   },
   {
    "duration": 7,
    "start_time": "2021-09-24T13:44:36.832Z"
   },
   {
    "duration": 341,
    "start_time": "2021-09-24T14:15:05.828Z"
   },
   {
    "duration": 294,
    "start_time": "2021-09-24T14:16:34.325Z"
   },
   {
    "duration": 3,
    "start_time": "2021-09-24T14:16:37.548Z"
   },
   {
    "duration": 24,
    "start_time": "2021-09-24T14:16:38.800Z"
   },
   {
    "duration": 19,
    "start_time": "2021-09-24T14:17:57.912Z"
   },
   {
    "duration": 18,
    "start_time": "2021-09-24T14:18:04.407Z"
   },
   {
    "duration": 18,
    "start_time": "2021-09-24T14:18:11.178Z"
   },
   {
    "duration": 29,
    "start_time": "2021-09-24T14:18:31.157Z"
   },
   {
    "duration": 40,
    "start_time": "2021-09-24T14:18:48.237Z"
   },
   {
    "duration": 5,
    "start_time": "2021-09-24T14:21:00.691Z"
   },
   {
    "duration": 267,
    "start_time": "2021-09-24T14:21:29.922Z"
   },
   {
    "duration": 6,
    "start_time": "2021-09-24T14:21:39.666Z"
   },
   {
    "duration": 7,
    "start_time": "2021-09-24T14:21:46.395Z"
   },
   {
    "duration": 6,
    "start_time": "2021-09-24T14:22:06.698Z"
   },
   {
    "duration": 316,
    "start_time": "2021-09-24T14:23:15.584Z"
   },
   {
    "duration": 421,
    "start_time": "2021-09-24T14:23:20.096Z"
   },
   {
    "duration": 5,
    "start_time": "2021-09-24T14:23:51.296Z"
   },
   {
    "duration": 5,
    "start_time": "2021-09-24T14:23:58.160Z"
   },
   {
    "duration": 299,
    "start_time": "2021-09-24T14:26:03.720Z"
   },
   {
    "duration": 43,
    "start_time": "2021-09-24T14:26:17.696Z"
   },
   {
    "duration": 973,
    "start_time": "2021-09-24T14:26:53.143Z"
   },
   {
    "duration": 19,
    "start_time": "2021-09-24T14:27:04.815Z"
   },
   {
    "duration": 18,
    "start_time": "2021-09-24T14:28:40.881Z"
   },
   {
    "duration": 18,
    "start_time": "2021-09-24T14:28:49.629Z"
   },
   {
    "duration": 47,
    "start_time": "2021-09-24T14:28:58.329Z"
   },
   {
    "duration": 74,
    "start_time": "2021-09-24T14:29:55.556Z"
   },
   {
    "duration": 37,
    "start_time": "2021-09-24T14:30:17.237Z"
   },
   {
    "duration": 45,
    "start_time": "2021-09-24T14:32:34.376Z"
   },
   {
    "duration": 41,
    "start_time": "2021-09-24T14:32:37.466Z"
   },
   {
    "duration": 45,
    "start_time": "2021-09-24T14:33:16.243Z"
   },
   {
    "duration": 41,
    "start_time": "2021-09-24T14:33:18.726Z"
   },
   {
    "duration": 12,
    "start_time": "2021-09-24T14:34:57.633Z"
   },
   {
    "duration": 258,
    "start_time": "2021-09-24T14:35:11.106Z"
   },
   {
    "duration": 19,
    "start_time": "2021-09-24T14:35:25.362Z"
   },
   {
    "duration": 18,
    "start_time": "2021-09-24T14:35:44.229Z"
   },
   {
    "duration": 20,
    "start_time": "2021-09-24T14:36:10.622Z"
   },
   {
    "duration": 20,
    "start_time": "2021-09-24T14:37:35.753Z"
   },
   {
    "duration": 21,
    "start_time": "2021-09-24T14:37:55.861Z"
   },
   {
    "duration": 8,
    "start_time": "2021-09-24T14:38:27.857Z"
   },
   {
    "duration": 22,
    "start_time": "2021-09-24T14:38:32.717Z"
   },
   {
    "duration": 20,
    "start_time": "2021-09-24T14:38:43.730Z"
   },
   {
    "duration": 20,
    "start_time": "2021-09-24T14:39:04.613Z"
   },
   {
    "duration": 266,
    "start_time": "2021-09-24T14:40:49.295Z"
   },
   {
    "duration": 288,
    "start_time": "2021-09-24T14:40:53.735Z"
   },
   {
    "duration": 93,
    "start_time": "2021-09-24T14:41:03.216Z"
   },
   {
    "duration": 7,
    "start_time": "2021-09-24T14:41:06.931Z"
   },
   {
    "duration": 6,
    "start_time": "2021-09-24T14:41:10.264Z"
   },
   {
    "duration": 6,
    "start_time": "2021-09-24T14:41:24.480Z"
   },
   {
    "duration": 8,
    "start_time": "2021-09-24T14:44:24.525Z"
   },
   {
    "duration": 7,
    "start_time": "2021-09-24T14:45:51.595Z"
   },
   {
    "duration": 6,
    "start_time": "2021-09-24T14:46:54.739Z"
   },
   {
    "duration": 6,
    "start_time": "2021-09-24T14:47:05.690Z"
   },
   {
    "duration": 7,
    "start_time": "2021-09-24T14:48:28.044Z"
   },
   {
    "duration": 6,
    "start_time": "2021-09-24T14:48:52.625Z"
   },
   {
    "duration": 6,
    "start_time": "2021-09-24T14:49:05.013Z"
   },
   {
    "duration": 6,
    "start_time": "2021-09-24T14:49:11.212Z"
   },
   {
    "duration": 8,
    "start_time": "2021-09-24T14:49:20.528Z"
   },
   {
    "duration": 6,
    "start_time": "2021-09-24T14:49:22.906Z"
   },
   {
    "duration": 3,
    "start_time": "2021-09-24T14:51:03.585Z"
   },
   {
    "duration": 5,
    "start_time": "2021-09-24T14:52:01.816Z"
   },
   {
    "duration": 527,
    "start_time": "2021-09-24T14:57:04.955Z"
   },
   {
    "duration": 5,
    "start_time": "2021-09-24T14:57:51.209Z"
   },
   {
    "duration": 687,
    "start_time": "2021-09-24T14:57:53.948Z"
   },
   {
    "duration": 280,
    "start_time": "2021-09-24T14:58:16.400Z"
   },
   {
    "duration": 6,
    "start_time": "2021-09-24T14:58:24.092Z"
   },
   {
    "duration": 279,
    "start_time": "2021-09-24T14:58:30.568Z"
   },
   {
    "duration": 12,
    "start_time": "2021-09-24T15:00:06.321Z"
   },
   {
    "duration": 5,
    "start_time": "2021-09-24T15:00:29.503Z"
   },
   {
    "duration": 5,
    "start_time": "2021-09-24T15:00:48.681Z"
   },
   {
    "duration": 1323,
    "start_time": "2021-09-24T15:00:51.776Z"
   },
   {
    "duration": 4,
    "start_time": "2021-09-24T15:02:00.442Z"
   },
   {
    "duration": 543,
    "start_time": "2021-09-24T15:02:03.022Z"
   },
   {
    "duration": 5,
    "start_time": "2021-09-24T15:02:16.441Z"
   },
   {
    "duration": 12,
    "start_time": "2021-09-24T15:02:18.190Z"
   },
   {
    "duration": 5,
    "start_time": "2021-09-24T15:03:31.618Z"
   },
   {
    "duration": 11,
    "start_time": "2021-09-24T15:03:33.748Z"
   },
   {
    "duration": 13,
    "start_time": "2021-09-24T15:03:54.130Z"
   },
   {
    "duration": 406,
    "start_time": "2021-09-24T15:04:05.763Z"
   },
   {
    "duration": 12,
    "start_time": "2021-09-24T15:04:10.347Z"
   },
   {
    "duration": 5,
    "start_time": "2021-09-24T17:46:52.294Z"
   },
   {
    "duration": 12,
    "start_time": "2021-09-24T17:46:54.498Z"
   },
   {
    "duration": 12,
    "start_time": "2021-09-24T17:46:56.759Z"
   },
   {
    "duration": 12,
    "start_time": "2021-09-24T17:46:59.387Z"
   },
   {
    "duration": 4,
    "start_time": "2021-09-24T17:57:43.461Z"
   },
   {
    "duration": 12,
    "start_time": "2021-09-24T17:57:45.064Z"
   },
   {
    "duration": 12,
    "start_time": "2021-09-24T17:57:48.050Z"
   },
   {
    "duration": 12,
    "start_time": "2021-09-24T17:57:51.200Z"
   },
   {
    "duration": 8,
    "start_time": "2021-09-24T17:58:22.724Z"
   },
   {
    "duration": 8,
    "start_time": "2021-09-24T17:58:28.733Z"
   },
   {
    "duration": 6,
    "start_time": "2021-09-24T18:02:35.966Z"
   },
   {
    "duration": 83,
    "start_time": "2021-09-24T18:02:46.719Z"
   },
   {
    "duration": 276,
    "start_time": "2021-09-24T18:02:57.967Z"
   },
   {
    "duration": 13,
    "start_time": "2021-09-24T18:03:24.966Z"
   },
   {
    "duration": 13,
    "start_time": "2021-09-24T18:03:33.462Z"
   },
   {
    "duration": 283,
    "start_time": "2021-09-24T18:04:38.472Z"
   },
   {
    "duration": 23,
    "start_time": "2021-09-24T18:04:45.385Z"
   },
   {
    "duration": 11,
    "start_time": "2021-09-24T18:04:48.230Z"
   },
   {
    "duration": 11,
    "start_time": "2021-09-24T18:05:45.637Z"
   },
   {
    "duration": 112,
    "start_time": "2021-09-24T18:05:49.726Z"
   },
   {
    "duration": 1169,
    "start_time": "2021-09-24T18:06:03.989Z"
   },
   {
    "duration": 9,
    "start_time": "2021-09-24T18:06:23.638Z"
   },
   {
    "duration": 8,
    "start_time": "2021-09-24T18:06:36.277Z"
   },
   {
    "duration": 8,
    "start_time": "2021-09-24T18:06:44.006Z"
   },
   {
    "duration": 6,
    "start_time": "2021-09-24T18:06:49.182Z"
   },
   {
    "duration": 7,
    "start_time": "2021-09-24T18:07:01.598Z"
   },
   {
    "duration": 12,
    "start_time": "2021-09-24T18:07:07.638Z"
   },
   {
    "duration": 6,
    "start_time": "2021-09-24T18:07:14.575Z"
   },
   {
    "duration": 4664,
    "start_time": "2021-09-24T18:07:22.896Z"
   },
   {
    "duration": 5490,
    "start_time": "2021-09-24T18:07:36.558Z"
   },
   {
    "duration": 7,
    "start_time": "2021-09-24T18:07:55.162Z"
   },
   {
    "duration": 7052,
    "start_time": "2021-09-24T18:08:58.319Z"
   },
   {
    "duration": 4395,
    "start_time": "2021-09-24T18:09:11.730Z"
   },
   {
    "duration": 292,
    "start_time": "2021-09-24T18:09:37.965Z"
   },
   {
    "duration": 340,
    "start_time": "2021-09-24T18:12:19.224Z"
   },
   {
    "duration": 7,
    "start_time": "2021-09-24T18:12:33.720Z"
   },
   {
    "duration": 8,
    "start_time": "2021-09-24T18:12:39.191Z"
   },
   {
    "duration": 5,
    "start_time": "2021-09-24T18:35:25.928Z"
   },
   {
    "duration": 254,
    "start_time": "2021-09-24T18:35:28.426Z"
   },
   {
    "duration": 5,
    "start_time": "2021-09-24T18:35:47.486Z"
   },
   {
    "duration": 290,
    "start_time": "2021-09-24T18:35:49.103Z"
   },
   {
    "duration": 5,
    "start_time": "2021-09-24T18:35:59.150Z"
   },
   {
    "duration": 278,
    "start_time": "2021-09-24T18:36:00.463Z"
   },
   {
    "duration": 961,
    "start_time": "2021-09-24T18:36:07.721Z"
   },
   {
    "duration": 7,
    "start_time": "2021-09-24T18:38:00.025Z"
   },
   {
    "duration": 8,
    "start_time": "2021-09-24T18:38:05.272Z"
   },
   {
    "duration": 18,
    "start_time": "2021-09-24T18:38:12.481Z"
   },
   {
    "duration": 13,
    "start_time": "2021-09-24T18:38:51.528Z"
   },
   {
    "duration": 13,
    "start_time": "2021-09-24T18:39:01.615Z"
   },
   {
    "duration": 13,
    "start_time": "2021-09-24T18:39:09.249Z"
   },
   {
    "duration": 356,
    "start_time": "2021-09-24T18:39:40.920Z"
   },
   {
    "duration": 11,
    "start_time": "2021-09-24T18:40:39.198Z"
   },
   {
    "duration": 262,
    "start_time": "2021-09-24T18:40:55.383Z"
   },
   {
    "duration": 19,
    "start_time": "2021-09-24T18:41:01.055Z"
   },
   {
    "duration": 11,
    "start_time": "2021-09-24T18:41:16.110Z"
   },
   {
    "duration": 10,
    "start_time": "2021-09-24T18:41:20.270Z"
   },
   {
    "duration": 11,
    "start_time": "2021-09-24T18:42:10.379Z"
   },
   {
    "duration": 11,
    "start_time": "2021-09-24T18:42:15.885Z"
   },
   {
    "duration": 12,
    "start_time": "2021-09-24T18:42:45.509Z"
   },
   {
    "duration": 12,
    "start_time": "2021-09-24T18:42:49.391Z"
   },
   {
    "duration": 13,
    "start_time": "2021-09-24T18:43:02.379Z"
   },
   {
    "duration": 13,
    "start_time": "2021-09-24T18:43:15.660Z"
   },
   {
    "duration": 12,
    "start_time": "2021-09-24T18:43:40.422Z"
   },
   {
    "duration": 11,
    "start_time": "2021-09-24T18:43:49.036Z"
   },
   {
    "duration": 13,
    "start_time": "2021-09-24T18:44:31.154Z"
   },
   {
    "duration": 267,
    "start_time": "2021-09-24T18:44:35.159Z"
   },
   {
    "duration": 10,
    "start_time": "2021-09-24T18:44:59.946Z"
   },
   {
    "duration": 11,
    "start_time": "2021-09-24T18:45:17.587Z"
   },
   {
    "duration": 12,
    "start_time": "2021-09-24T18:45:31.722Z"
   },
   {
    "duration": 10,
    "start_time": "2021-09-24T18:45:45.061Z"
   },
   {
    "duration": 4,
    "start_time": "2021-09-24T18:46:16.880Z"
   },
   {
    "duration": 13,
    "start_time": "2021-09-24T18:46:18.352Z"
   },
   {
    "duration": 5,
    "start_time": "2021-09-24T18:47:04.016Z"
   },
   {
    "duration": 13,
    "start_time": "2021-09-24T18:47:06.403Z"
   },
   {
    "duration": 5,
    "start_time": "2021-09-24T18:47:24.871Z"
   },
   {
    "duration": 15,
    "start_time": "2021-09-24T18:47:28.531Z"
   },
   {
    "duration": 5,
    "start_time": "2021-09-24T18:47:42.574Z"
   },
   {
    "duration": 4,
    "start_time": "2021-09-24T18:47:49.103Z"
   },
   {
    "duration": 5,
    "start_time": "2021-09-24T18:48:35.654Z"
   },
   {
    "duration": 5,
    "start_time": "2021-09-24T18:49:21.953Z"
   },
   {
    "duration": 13,
    "start_time": "2021-09-24T18:49:24.198Z"
   },
   {
    "duration": 9,
    "start_time": "2021-09-24T18:50:02.867Z"
   },
   {
    "duration": 515,
    "start_time": "2021-09-24T18:50:02.878Z"
   },
   {
    "duration": 23,
    "start_time": "2021-09-24T18:50:03.396Z"
   },
   {
    "duration": 22,
    "start_time": "2021-09-24T18:50:03.421Z"
   },
   {
    "duration": 44,
    "start_time": "2021-09-24T18:50:03.445Z"
   },
   {
    "duration": 35,
    "start_time": "2021-09-24T18:50:03.491Z"
   },
   {
    "duration": 1924,
    "start_time": "2021-09-24T18:50:03.529Z"
   },
   {
    "duration": 37,
    "start_time": "2021-09-24T18:50:05.457Z"
   },
   {
    "duration": 223,
    "start_time": "2021-09-24T18:50:05.497Z"
   },
   {
    "duration": 11,
    "start_time": "2021-09-24T18:50:05.722Z"
   },
   {
    "duration": 16942,
    "start_time": "2021-09-24T18:50:05.736Z"
   },
   {
    "duration": 102,
    "start_time": "2021-09-24T18:50:22.769Z"
   },
   {
    "duration": 30,
    "start_time": "2021-09-24T18:50:22.873Z"
   },
   {
    "duration": 13,
    "start_time": "2021-09-24T18:50:22.905Z"
   },
   {
    "duration": 61,
    "start_time": "2021-09-24T18:50:22.921Z"
   },
   {
    "duration": 39,
    "start_time": "2021-09-24T18:50:22.984Z"
   },
   {
    "duration": 3,
    "start_time": "2021-09-24T18:50:23.026Z"
   },
   {
    "duration": 4,
    "start_time": "2021-09-24T18:50:23.068Z"
   },
   {
    "duration": 30,
    "start_time": "2021-09-24T18:50:23.074Z"
   },
   {
    "duration": 10,
    "start_time": "2021-09-24T18:50:23.107Z"
   },
   {
    "duration": 22,
    "start_time": "2021-09-24T18:50:23.119Z"
   },
   {
    "duration": 43,
    "start_time": "2021-09-24T18:50:23.143Z"
   },
   {
    "duration": 21,
    "start_time": "2021-09-24T18:50:23.190Z"
   },
   {
    "duration": 8,
    "start_time": "2021-09-24T18:50:23.214Z"
   },
   {
    "duration": 45,
    "start_time": "2021-09-24T18:50:23.225Z"
   },
   {
    "duration": 5,
    "start_time": "2021-09-24T18:51:45.896Z"
   },
   {
    "duration": 13,
    "start_time": "2021-09-24T18:51:48.667Z"
   },
   {
    "duration": 5,
    "start_time": "2021-09-24T18:52:00.607Z"
   },
   {
    "duration": 5,
    "start_time": "2021-09-24T18:52:29.182Z"
   },
   {
    "duration": 13,
    "start_time": "2021-09-24T18:52:31.462Z"
   },
   {
    "duration": 13,
    "start_time": "2021-09-24T18:52:49.092Z"
   },
   {
    "duration": 12,
    "start_time": "2021-09-24T18:52:52.725Z"
   },
   {
    "duration": 5,
    "start_time": "2021-09-24T18:53:44.857Z"
   },
   {
    "duration": 13,
    "start_time": "2021-09-24T18:53:47.171Z"
   },
   {
    "duration": 11,
    "start_time": "2021-09-24T18:53:56.773Z"
   },
   {
    "duration": 18,
    "start_time": "2021-09-24T18:54:27.164Z"
   },
   {
    "duration": 15,
    "start_time": "2021-09-24T18:54:29.369Z"
   },
   {
    "duration": 14,
    "start_time": "2021-09-24T18:54:46.932Z"
   },
   {
    "duration": 13,
    "start_time": "2021-09-24T18:54:48.733Z"
   },
   {
    "duration": 13,
    "start_time": "2021-09-24T18:54:50.600Z"
   },
   {
    "duration": 3509,
    "start_time": "2021-09-24T19:02:19.857Z"
   },
   {
    "duration": 3792,
    "start_time": "2021-09-24T19:02:34.743Z"
   },
   {
    "duration": 12,
    "start_time": "2021-09-24T19:02:58.200Z"
   },
   {
    "duration": 17,
    "start_time": "2021-09-24T19:03:11.997Z"
   },
   {
    "duration": 3489,
    "start_time": "2021-09-24T19:04:25.116Z"
   },
   {
    "duration": 4125,
    "start_time": "2021-09-24T19:04:49.732Z"
   },
   {
    "duration": 3490,
    "start_time": "2021-09-24T19:05:06.728Z"
   },
   {
    "duration": 5329,
    "start_time": "2021-09-24T19:05:33.987Z"
   },
   {
    "duration": 19,
    "start_time": "2021-09-24T19:05:40.039Z"
   },
   {
    "duration": 5273,
    "start_time": "2021-09-24T19:05:50.443Z"
   },
   {
    "duration": 5306,
    "start_time": "2021-09-24T19:06:16.940Z"
   },
   {
    "duration": 7,
    "start_time": "2021-09-24T19:40:01.015Z"
   },
   {
    "duration": 4,
    "start_time": "2021-09-24T19:40:04.963Z"
   },
   {
    "duration": 479,
    "start_time": "2021-09-24T19:40:07.019Z"
   },
   {
    "duration": 28,
    "start_time": "2021-09-24T19:40:10.801Z"
   },
   {
    "duration": 26,
    "start_time": "2021-09-24T19:40:13.031Z"
   },
   {
    "duration": 25,
    "start_time": "2021-09-24T19:40:15.835Z"
   },
   {
    "duration": 43,
    "start_time": "2021-09-24T19:40:22.051Z"
   },
   {
    "duration": 2094,
    "start_time": "2021-09-24T19:40:28.555Z"
   },
   {
    "duration": 31,
    "start_time": "2021-09-24T19:40:38.383Z"
   },
   {
    "duration": 204,
    "start_time": "2021-09-24T19:40:40.835Z"
   },
   {
    "duration": 10,
    "start_time": "2021-09-24T19:44:18.445Z"
   },
   {
    "duration": 13,
    "start_time": "2021-09-24T19:44:36.830Z"
   },
   {
    "duration": 17,
    "start_time": "2021-09-24T19:44:39.864Z"
   },
   {
    "duration": 43,
    "start_time": "2021-09-24T19:51:00.234Z"
   },
   {
    "duration": 45,
    "start_time": "2021-09-24T19:51:05.553Z"
   },
   {
    "duration": 45,
    "start_time": "2021-09-24T19:52:11.033Z"
   },
   {
    "duration": 39,
    "start_time": "2021-09-24T19:52:16.935Z"
   },
   {
    "duration": 38,
    "start_time": "2021-09-24T19:52:39.208Z"
   },
   {
    "duration": 30,
    "start_time": "2021-09-24T19:53:54.212Z"
   },
   {
    "duration": 4,
    "start_time": "2021-09-24T19:54:18.943Z"
   },
   {
    "duration": 295,
    "start_time": "2021-09-24T19:58:01.914Z"
   },
   {
    "duration": 33,
    "start_time": "2021-09-24T19:59:16.758Z"
   },
   {
    "duration": 322,
    "start_time": "2021-09-24T20:14:09.539Z"
   },
   {
    "duration": 5460,
    "start_time": "2021-09-24T20:15:23.040Z"
   },
   {
    "duration": 312,
    "start_time": "2021-09-24T20:16:30.249Z"
   },
   {
    "duration": 16,
    "start_time": "2021-09-24T20:21:29.033Z"
   },
   {
    "duration": 5667,
    "start_time": "2021-09-24T20:22:14.181Z"
   },
   {
    "duration": 5448,
    "start_time": "2021-09-24T20:22:33.989Z"
   },
   {
    "duration": 10722,
    "start_time": "2021-09-24T20:22:45.763Z"
   },
   {
    "duration": 11291,
    "start_time": "2021-09-24T20:23:26.908Z"
   },
   {
    "duration": 16271,
    "start_time": "2021-09-24T20:24:06.396Z"
   },
   {
    "duration": 15713,
    "start_time": "2021-09-24T20:24:44.076Z"
   },
   {
    "duration": 82,
    "start_time": "2021-09-24T20:25:04.831Z"
   },
   {
    "duration": 85,
    "start_time": "2021-09-24T20:25:44.130Z"
   },
   {
    "duration": 88,
    "start_time": "2021-09-24T20:25:52.862Z"
   },
   {
    "duration": 152,
    "start_time": "2021-09-24T20:26:16.283Z"
   },
   {
    "duration": 92,
    "start_time": "2021-09-24T20:26:33.049Z"
   },
   {
    "duration": 105,
    "start_time": "2021-09-24T20:26:46.329Z"
   },
   {
    "duration": 302,
    "start_time": "2021-09-24T20:27:31.625Z"
   },
   {
    "duration": 7,
    "start_time": "2021-09-24T20:31:13.348Z"
   },
   {
    "duration": 15,
    "start_time": "2021-09-24T20:31:29.231Z"
   },
   {
    "duration": 15,
    "start_time": "2021-09-24T20:31:55.782Z"
   },
   {
    "duration": 15,
    "start_time": "2021-09-24T20:32:46.744Z"
   },
   {
    "duration": 15,
    "start_time": "2021-09-24T20:33:11.574Z"
   },
   {
    "duration": 14,
    "start_time": "2021-09-24T20:33:25.837Z"
   },
   {
    "duration": 310,
    "start_time": "2021-09-24T21:04:55.321Z"
   },
   {
    "duration": 15815,
    "start_time": "2021-09-24T21:04:58.366Z"
   },
   {
    "duration": 15,
    "start_time": "2021-09-24T21:05:17.329Z"
   },
   {
    "duration": 16,
    "start_time": "2021-09-24T21:10:59.093Z"
   },
   {
    "duration": 1630,
    "start_time": "2021-09-24T21:15:00.037Z"
   },
   {
    "duration": 5,
    "start_time": "2021-09-24T21:15:01.670Z"
   },
   {
    "duration": 518,
    "start_time": "2021-09-24T21:15:01.678Z"
   },
   {
    "duration": 31,
    "start_time": "2021-09-24T21:15:02.199Z"
   },
   {
    "duration": 42,
    "start_time": "2021-09-24T21:15:02.233Z"
   },
   {
    "duration": 51,
    "start_time": "2021-09-24T21:15:02.278Z"
   },
   {
    "duration": 58,
    "start_time": "2021-09-24T21:15:02.332Z"
   },
   {
    "duration": 2197,
    "start_time": "2021-09-24T21:15:02.392Z"
   },
   {
    "duration": 27,
    "start_time": "2021-09-24T21:15:04.593Z"
   },
   {
    "duration": 260,
    "start_time": "2021-09-24T21:15:04.623Z"
   },
   {
    "duration": 9,
    "start_time": "2021-09-24T21:15:04.886Z"
   },
   {
    "duration": 21770,
    "start_time": "2021-09-24T21:15:04.899Z"
   },
   {
    "duration": 102,
    "start_time": "2021-09-24T21:15:26.673Z"
   },
   {
    "duration": 29,
    "start_time": "2021-09-24T21:15:26.778Z"
   },
   {
    "duration": 28,
    "start_time": "2021-09-24T21:15:26.809Z"
   },
   {
    "duration": 64,
    "start_time": "2021-09-24T21:15:26.840Z"
   },
   {
    "duration": 63,
    "start_time": "2021-09-24T21:15:26.906Z"
   },
   {
    "duration": 5,
    "start_time": "2021-09-24T21:15:26.971Z"
   },
   {
    "duration": 56,
    "start_time": "2021-09-24T21:15:26.979Z"
   },
   {
    "duration": 29,
    "start_time": "2021-09-24T21:15:27.038Z"
   },
   {
    "duration": 469,
    "start_time": "2021-09-24T21:15:27.070Z"
   },
   {
    "duration": -838,
    "start_time": "2021-09-24T21:15:28.380Z"
   },
   {
    "duration": -844,
    "start_time": "2021-09-24T21:15:28.387Z"
   },
   {
    "duration": 648,
    "start_time": "2021-09-24T21:16:49.310Z"
   },
   {
    "duration": 619,
    "start_time": "2021-09-24T21:16:52.186Z"
   },
   {
    "duration": 634,
    "start_time": "2021-09-24T21:16:55.422Z"
   },
   {
    "duration": 1559,
    "start_time": "2021-09-24T21:18:14.268Z"
   },
   {
    "duration": 4,
    "start_time": "2021-09-24T21:18:15.830Z"
   },
   {
    "duration": 477,
    "start_time": "2021-09-24T21:18:15.837Z"
   },
   {
    "duration": 28,
    "start_time": "2021-09-24T21:18:16.317Z"
   },
   {
    "duration": 37,
    "start_time": "2021-09-24T21:18:16.347Z"
   },
   {
    "duration": 24,
    "start_time": "2021-09-24T21:18:16.386Z"
   },
   {
    "duration": 69,
    "start_time": "2021-09-24T21:18:16.412Z"
   },
   {
    "duration": 688,
    "start_time": "2021-09-24T21:18:16.483Z"
   },
   {
    "duration": 637,
    "start_time": "2021-09-24T21:18:17.174Z"
   },
   {
    "duration": 729,
    "start_time": "2021-09-24T21:18:17.813Z"
   },
   {
    "duration": 45,
    "start_time": "2021-09-24T21:18:18.544Z"
   },
   {
    "duration": 208,
    "start_time": "2021-09-24T21:18:18.591Z"
   },
   {
    "duration": 9,
    "start_time": "2021-09-24T21:18:18.802Z"
   },
   {
    "duration": 18755,
    "start_time": "2021-09-24T21:18:18.813Z"
   },
   {
    "duration": 104,
    "start_time": "2021-09-24T21:18:37.572Z"
   },
   {
    "duration": 19,
    "start_time": "2021-09-24T21:18:37.679Z"
   },
   {
    "duration": 7,
    "start_time": "2021-09-24T21:18:37.701Z"
   },
   {
    "duration": 82,
    "start_time": "2021-09-24T21:18:37.710Z"
   },
   {
    "duration": 41,
    "start_time": "2021-09-24T21:18:37.795Z"
   },
   {
    "duration": 30,
    "start_time": "2021-09-24T21:18:37.838Z"
   },
   {
    "duration": 43,
    "start_time": "2021-09-24T21:18:37.870Z"
   },
   {
    "duration": 15,
    "start_time": "2021-09-24T21:18:37.916Z"
   },
   {
    "duration": 15976,
    "start_time": "2021-09-24T21:18:37.934Z"
   },
   {
    "duration": 21,
    "start_time": "2021-09-24T21:18:53.913Z"
   },
   {
    "duration": 1621,
    "start_time": "2021-09-24T21:23:39.437Z"
   },
   {
    "duration": 7,
    "start_time": "2021-09-24T21:23:41.060Z"
   },
   {
    "duration": 479,
    "start_time": "2021-09-24T21:23:41.070Z"
   },
   {
    "duration": 35,
    "start_time": "2021-09-24T21:23:41.552Z"
   },
   {
    "duration": 25,
    "start_time": "2021-09-24T21:23:41.590Z"
   },
   {
    "duration": 53,
    "start_time": "2021-09-24T21:23:41.617Z"
   },
   {
    "duration": 38,
    "start_time": "2021-09-24T21:23:41.672Z"
   },
   {
    "duration": 655,
    "start_time": "2021-09-24T21:23:41.712Z"
   },
   {
    "duration": 646,
    "start_time": "2021-09-24T21:23:42.372Z"
   },
   {
    "duration": 722,
    "start_time": "2021-09-24T21:23:43.022Z"
   },
   {
    "duration": 42,
    "start_time": "2021-09-24T21:23:43.748Z"
   },
   {
    "duration": 231,
    "start_time": "2021-09-24T21:23:43.794Z"
   },
   {
    "duration": 9,
    "start_time": "2021-09-24T21:23:44.028Z"
   },
   {
    "duration": 18333,
    "start_time": "2021-09-24T21:23:44.040Z"
   },
   {
    "duration": 15,
    "start_time": "2021-09-24T21:24:02.466Z"
   },
   {
    "duration": 99,
    "start_time": "2021-09-24T21:24:02.485Z"
   },
   {
    "duration": 17,
    "start_time": "2021-09-24T21:24:02.587Z"
   },
   {
    "duration": 87,
    "start_time": "2021-09-24T21:24:02.606Z"
   },
   {
    "duration": 71,
    "start_time": "2021-09-24T21:24:02.696Z"
   },
   {
    "duration": 5,
    "start_time": "2021-09-24T21:24:02.770Z"
   },
   {
    "duration": 60,
    "start_time": "2021-09-24T21:24:02.778Z"
   },
   {
    "duration": 16,
    "start_time": "2021-09-24T21:24:02.841Z"
   },
   {
    "duration": 16460,
    "start_time": "2021-09-24T21:24:02.867Z"
   },
   {
    "duration": 16,
    "start_time": "2021-09-24T21:24:19.329Z"
   },
   {
    "duration": 1590,
    "start_time": "2021-09-24T21:25:50.308Z"
   },
   {
    "duration": 4,
    "start_time": "2021-09-24T21:25:51.901Z"
   },
   {
    "duration": 491,
    "start_time": "2021-09-24T21:25:51.908Z"
   },
   {
    "duration": 31,
    "start_time": "2021-09-24T21:25:52.403Z"
   },
   {
    "duration": 41,
    "start_time": "2021-09-24T21:25:52.436Z"
   },
   {
    "duration": 24,
    "start_time": "2021-09-24T21:25:52.480Z"
   },
   {
    "duration": 74,
    "start_time": "2021-09-24T21:25:52.507Z"
   },
   {
    "duration": 648,
    "start_time": "2021-09-24T21:25:52.583Z"
   },
   {
    "duration": 639,
    "start_time": "2021-09-24T21:25:53.235Z"
   },
   {
    "duration": 739,
    "start_time": "2021-09-24T21:25:53.877Z"
   },
   {
    "duration": 28,
    "start_time": "2021-09-24T21:25:54.619Z"
   },
   {
    "duration": 242,
    "start_time": "2021-09-24T21:25:54.649Z"
   },
   {
    "duration": 9,
    "start_time": "2021-09-24T21:25:54.893Z"
   },
   {
    "duration": 18964,
    "start_time": "2021-09-24T21:25:54.904Z"
   },
   {
    "duration": 103,
    "start_time": "2021-09-24T21:26:13.872Z"
   },
   {
    "duration": 15,
    "start_time": "2021-09-24T21:26:13.978Z"
   },
   {
    "duration": 7,
    "start_time": "2021-09-24T21:26:13.996Z"
   },
   {
    "duration": 93,
    "start_time": "2021-09-24T21:26:14.005Z"
   },
   {
    "duration": 40,
    "start_time": "2021-09-24T21:26:14.100Z"
   },
   {
    "duration": 5,
    "start_time": "2021-09-24T21:26:14.167Z"
   },
   {
    "duration": 43,
    "start_time": "2021-09-24T21:26:14.174Z"
   },
   {
    "duration": 16126,
    "start_time": "2021-09-24T21:26:14.219Z"
   },
   {
    "duration": 26,
    "start_time": "2021-09-24T21:26:30.347Z"
   },
   {
    "duration": 1689,
    "start_time": "2021-09-25T11:12:01.286Z"
   },
   {
    "duration": 4,
    "start_time": "2021-09-25T11:12:02.978Z"
   },
   {
    "duration": 481,
    "start_time": "2021-09-25T11:12:02.986Z"
   },
   {
    "duration": 27,
    "start_time": "2021-09-25T11:12:03.470Z"
   },
   {
    "duration": 45,
    "start_time": "2021-09-25T11:12:03.500Z"
   },
   {
    "duration": 25,
    "start_time": "2021-09-25T11:12:03.547Z"
   },
   {
    "duration": 57,
    "start_time": "2021-09-25T11:12:03.575Z"
   },
   {
    "duration": 631,
    "start_time": "2021-09-25T11:12:03.636Z"
   },
   {
    "duration": 656,
    "start_time": "2021-09-25T11:12:04.270Z"
   },
   {
    "duration": 733,
    "start_time": "2021-09-25T11:12:04.929Z"
   },
   {
    "duration": 28,
    "start_time": "2021-09-25T11:12:05.665Z"
   },
   {
    "duration": 213,
    "start_time": "2021-09-25T11:12:05.695Z"
   },
   {
    "duration": 11,
    "start_time": "2021-09-25T11:12:05.919Z"
   },
   {
    "duration": 15388,
    "start_time": "2021-09-25T11:12:05.933Z"
   },
   {
    "duration": 103,
    "start_time": "2021-09-25T11:12:21.324Z"
   },
   {
    "duration": 15,
    "start_time": "2021-09-25T11:12:21.430Z"
   },
   {
    "duration": 5,
    "start_time": "2021-09-25T11:12:21.448Z"
   },
   {
    "duration": 86,
    "start_time": "2021-09-25T11:12:21.456Z"
   },
   {
    "duration": 42,
    "start_time": "2021-09-25T11:12:21.544Z"
   },
   {
    "duration": 5,
    "start_time": "2021-09-25T11:12:21.588Z"
   },
   {
    "duration": 41,
    "start_time": "2021-09-25T11:12:21.616Z"
   },
   {
    "duration": 144,
    "start_time": "2021-09-25T11:14:20.620Z"
   },
   {
    "duration": 5967,
    "start_time": "2021-09-25T11:14:27.157Z"
   },
   {
    "duration": 16222,
    "start_time": "2021-09-25T11:14:57.446Z"
   },
   {
    "duration": 14,
    "start_time": "2021-09-25T11:15:31.047Z"
   },
   {
    "duration": 16156,
    "start_time": "2021-09-25T11:15:39.875Z"
   },
   {
    "duration": 15,
    "start_time": "2021-09-25T11:15:56.033Z"
   },
   {
    "duration": 151,
    "start_time": "2021-09-25T12:00:48.572Z"
   },
   {
    "duration": 7004,
    "start_time": "2021-09-25T12:00:59.670Z"
   },
   {
    "duration": 16485,
    "start_time": "2021-09-25T12:02:01.013Z"
   },
   {
    "duration": 15909,
    "start_time": "2021-09-25T12:03:11.537Z"
   },
   {
    "duration": 16116,
    "start_time": "2021-09-25T12:04:03.648Z"
   },
   {
    "duration": 16937,
    "start_time": "2021-09-25T12:04:59.325Z"
   },
   {
    "duration": 1564,
    "start_time": "2021-09-25T12:09:55.712Z"
   },
   {
    "duration": 4,
    "start_time": "2021-09-25T12:09:57.279Z"
   },
   {
    "duration": 483,
    "start_time": "2021-09-25T12:09:57.287Z"
   },
   {
    "duration": 54,
    "start_time": "2021-09-25T12:09:57.774Z"
   },
   {
    "duration": 23,
    "start_time": "2021-09-25T12:09:57.830Z"
   },
   {
    "duration": 23,
    "start_time": "2021-09-25T12:09:57.855Z"
   },
   {
    "duration": 67,
    "start_time": "2021-09-25T12:09:57.880Z"
   },
   {
    "duration": 670,
    "start_time": "2021-09-25T12:09:57.950Z"
   },
   {
    "duration": 638,
    "start_time": "2021-09-25T12:09:58.623Z"
   },
   {
    "duration": 756,
    "start_time": "2021-09-25T12:09:59.263Z"
   },
   {
    "duration": 33,
    "start_time": "2021-09-25T12:10:00.022Z"
   },
   {
    "duration": 233,
    "start_time": "2021-09-25T12:10:00.057Z"
   },
   {
    "duration": 8,
    "start_time": "2021-09-25T12:10:00.293Z"
   },
   {
    "duration": 14426,
    "start_time": "2021-09-25T12:10:00.303Z"
   },
   {
    "duration": 187,
    "start_time": "2021-09-25T12:10:14.735Z"
   },
   {
    "duration": 15,
    "start_time": "2021-09-25T12:10:14.929Z"
   },
   {
    "duration": 21,
    "start_time": "2021-09-25T12:10:14.947Z"
   },
   {
    "duration": 76,
    "start_time": "2021-09-25T12:10:14.971Z"
   },
   {
    "duration": 40,
    "start_time": "2021-09-25T12:10:15.049Z"
   },
   {
    "duration": 32,
    "start_time": "2021-09-25T12:10:15.092Z"
   },
   {
    "duration": 44,
    "start_time": "2021-09-25T12:10:15.127Z"
   },
   {
    "duration": 16339,
    "start_time": "2021-09-25T12:10:15.174Z"
   }
  ],
  "kernelspec": {
   "display_name": "Python 3",
   "language": "python",
   "name": "python3"
  },
  "language_info": {
   "codemirror_mode": {
    "name": "ipython",
    "version": 3
   },
   "file_extension": ".py",
   "mimetype": "text/x-python",
   "name": "python",
   "nbconvert_exporter": "python",
   "pygments_lexer": "ipython3",
   "version": "3.8.8"
  },
  "toc": {
   "base_numbering": 1,
   "nav_menu": {},
   "number_sections": true,
   "sideBar": true,
   "skip_h1_title": true,
   "title_cell": "Содержание",
   "title_sidebar": "ContentsСодержание",
   "toc_cell": true,
   "toc_position": {
    "height": "calc(100% - 180px)",
    "left": "10px",
    "top": "150px",
    "width": "238px"
   },
   "toc_section_display": true,
   "toc_window_display": true
  }
 },
 "nbformat": 4,
 "nbformat_minor": 2
}
