{
 "cells": [
  {
   "cell_type": "markdown",
   "metadata": {
    "toc": true
   },
   "source": [
    "<h1>Содержание<span class=\"tocSkip\"></span></h1>\n",
    "<div class=\"toc\"><ul class=\"toc-item\"><li><span><a href=\"#Подготовка-данных\" data-toc-modified-id=\"Подготовка-данных-1\"><span class=\"toc-item-num\">1&nbsp;&nbsp;</span>Подготовка данных</a></span><ul class=\"toc-item\"><li><span><a href=\"#Откроем-файлы-и-изучим-их\" data-toc-modified-id=\"Откроем-файлы-и-изучим-их-1.1\"><span class=\"toc-item-num\">1.1&nbsp;&nbsp;</span>Откроем файлы и изучим их</a></span></li><li><span><a href=\"#Изменение-типов-данных\" data-toc-modified-id=\"Изменение-типов-данных-1.2\"><span class=\"toc-item-num\">1.2&nbsp;&nbsp;</span>Изменение типов данных</a></span></li><li><span><a href=\"#Обработка-пропусков\" data-toc-modified-id=\"Обработка-пропусков-1.3\"><span class=\"toc-item-num\">1.3&nbsp;&nbsp;</span>Обработка пропусков</a></span><ul class=\"toc-item\"><li><span><a href=\"#Обработка-аномальных-значений\" data-toc-modified-id=\"Обработка-аномальных-значений-1.3.1\"><span class=\"toc-item-num\">1.3.1&nbsp;&nbsp;</span>Обработка аномальных значений</a></span></li><li><span><a href=\"#Проверим-наличие-дубликатов\" data-toc-modified-id=\"Проверим-наличие-дубликатов-1.3.2\"><span class=\"toc-item-num\">1.3.2&nbsp;&nbsp;</span>Проверим наличие дубликатов</a></span></li></ul></li></ul></li><li><span><a href=\"#Обучение-моделей\" data-toc-modified-id=\"Обучение-моделей-2\"><span class=\"toc-item-num\">2&nbsp;&nbsp;</span>Обучение моделей</a></span><ul class=\"toc-item\"><li><ul class=\"toc-item\"><li><span><a href=\"#Подготовка-данных\" data-toc-modified-id=\"Подготовка-данных-2.0.1\"><span class=\"toc-item-num\">2.0.1&nbsp;&nbsp;</span>Подготовка данных</a></span></li><li><span><a href=\"#Линейная-регрессия\" data-toc-modified-id=\"Линейная-регрессия-2.0.2\"><span class=\"toc-item-num\">2.0.2&nbsp;&nbsp;</span>Линейная регрессия</a></span></li><li><span><a href=\"#Дерево-решений\" data-toc-modified-id=\"Дерево-решений-2.0.3\"><span class=\"toc-item-num\">2.0.3&nbsp;&nbsp;</span>Дерево решений</a></span></li><li><span><a href=\"#Градиентный-бустинг\" data-toc-modified-id=\"Градиентный-бустинг-2.0.4\"><span class=\"toc-item-num\">2.0.4&nbsp;&nbsp;</span>Градиентный бустинг</a></span></li><li><span><a href=\"#Dummy-Regressor\" data-toc-modified-id=\"Dummy-Regressor-2.0.5\"><span class=\"toc-item-num\">2.0.5&nbsp;&nbsp;</span>Dummy Regressor</a></span></li></ul></li></ul></li><li><span><a href=\"#Анализ-моделей\" data-toc-modified-id=\"Анализ-моделей-3\"><span class=\"toc-item-num\">3&nbsp;&nbsp;</span>Анализ моделей</a></span></li><li><span><a href=\"#Чек-лист-проверки\" data-toc-modified-id=\"Чек-лист-проверки-4\"><span class=\"toc-item-num\">4&nbsp;&nbsp;</span>Чек-лист проверки</a></span></li></ul></div>"
   ]
  },
  {
   "cell_type": "markdown",
   "metadata": {},
   "source": [
    "# Определение стоимости автомобилей"
   ]
  },
  {
   "cell_type": "markdown",
   "metadata": {},
   "source": [
    "Сервис по продаже автомобилей с пробегом «Не бит, не крашен» разрабатывает приложение для привлечения новых клиентов. В нём можно быстро узнать рыночную стоимость своего автомобиля. В вашем распоряжении исторические данные: технические характеристики, комплектации и цены автомобилей. Вам нужно построить модель для определения стоимости. \n",
    "\n",
    "Заказчику важны:\n",
    "\n",
    "- качество предсказания;\n",
    "- скорость предсказания;\n",
    "- время обучения."
   ]
  },
  {
   "cell_type": "markdown",
   "metadata": {},
   "source": [
    "## Подготовка данных"
   ]
  },
  {
   "cell_type": "markdown",
   "metadata": {},
   "source": [
    "### Откроем файлы и изучим их"
   ]
  },
  {
   "cell_type": "code",
   "execution_count": 1,
   "metadata": {},
   "outputs": [],
   "source": [
    "import pandas as pd\n",
    "import math\n",
    "import seaborn as sns\n",
    "from sklearn.utils import shuffle\n",
    "from sklearn.model_selection import train_test_split\n",
    "from sklearn.linear_model import LinearRegression\n",
    "from sklearn.linear_model import LogisticRegression\n",
    "from sklearn.tree import DecisionTreeRegressor\n",
    "from sklearn.tree import DecisionTreeClassifier\n",
    "from sklearn.model_selection import GridSearchCV\n",
    "from sklearn.ensemble import RandomForestClassifier\n",
    "from sklearn.linear_model import LinearRegression\n",
    "from sklearn.metrics import confusion_matrix\n",
    "from sklearn.metrics import mean_squared_error, r2_score, mean_absolute_error\n",
    "from sklearn.metrics import f1_score\n",
    "from sklearn.metrics import roc_auc_score \n",
    "from sklearn.metrics import recall_score\n",
    "from sklearn.metrics import precision_score\n",
    "from sklearn.preprocessing import StandardScaler \n",
    "from sklearn.linear_model import LogisticRegression\n",
    "from sklearn.dummy import DummyClassifier\n",
    "from sklearn.dummy import DummyRegressor\n",
    "from sklearn.metrics import accuracy_score \n",
    "import matplotlib.pyplot as plt\n",
    "from collections import Counter\n",
    "import numpy as np\n",
    "from scipy import stats as st\n",
    "from numpy.random import RandomState\n",
    "from sklearn.metrics import mean_squared_error\n",
    "from sklearn.ensemble import RandomForestRegressor\n",
    "from sklearn.model_selection import RandomizedSearchCV\n",
    "from sklearn.model_selection import train_test_split\n",
    "from sklearn.metrics import mean_squared_error\n",
    "import lightgbm as lgb"
   ]
  },
  {
   "cell_type": "markdown",
   "metadata": {},
   "source": [
    "Установим RandomState"
   ]
  },
  {
   "cell_type": "code",
   "execution_count": 2,
   "metadata": {},
   "outputs": [],
   "source": [
    "state = RandomState(12345) "
   ]
  },
  {
   "cell_type": "code",
   "execution_count": 3,
   "metadata": {
    "scrolled": true
   },
   "outputs": [
    {
     "data": {
      "text/html": [
       "<div>\n",
       "<style scoped>\n",
       "    .dataframe tbody tr th:only-of-type {\n",
       "        vertical-align: middle;\n",
       "    }\n",
       "\n",
       "    .dataframe tbody tr th {\n",
       "        vertical-align: top;\n",
       "    }\n",
       "\n",
       "    .dataframe thead th {\n",
       "        text-align: right;\n",
       "    }\n",
       "</style>\n",
       "<table border=\"1\" class=\"dataframe\">\n",
       "  <thead>\n",
       "    <tr style=\"text-align: right;\">\n",
       "      <th></th>\n",
       "      <th>DateCrawled</th>\n",
       "      <th>Price</th>\n",
       "      <th>VehicleType</th>\n",
       "      <th>RegistrationYear</th>\n",
       "      <th>Gearbox</th>\n",
       "      <th>Power</th>\n",
       "      <th>Model</th>\n",
       "      <th>Kilometer</th>\n",
       "      <th>RegistrationMonth</th>\n",
       "      <th>FuelType</th>\n",
       "      <th>Brand</th>\n",
       "      <th>NotRepaired</th>\n",
       "      <th>DateCreated</th>\n",
       "      <th>NumberOfPictures</th>\n",
       "      <th>PostalCode</th>\n",
       "      <th>LastSeen</th>\n",
       "    </tr>\n",
       "  </thead>\n",
       "  <tbody>\n",
       "    <tr>\n",
       "      <th>0</th>\n",
       "      <td>2016-03-24 11:52:17</td>\n",
       "      <td>480</td>\n",
       "      <td>NaN</td>\n",
       "      <td>1993</td>\n",
       "      <td>manual</td>\n",
       "      <td>0</td>\n",
       "      <td>golf</td>\n",
       "      <td>150000</td>\n",
       "      <td>0</td>\n",
       "      <td>petrol</td>\n",
       "      <td>volkswagen</td>\n",
       "      <td>NaN</td>\n",
       "      <td>2016-03-24 00:00:00</td>\n",
       "      <td>0</td>\n",
       "      <td>70435</td>\n",
       "      <td>2016-04-07 03:16:57</td>\n",
       "    </tr>\n",
       "    <tr>\n",
       "      <th>1</th>\n",
       "      <td>2016-03-24 10:58:45</td>\n",
       "      <td>18300</td>\n",
       "      <td>coupe</td>\n",
       "      <td>2011</td>\n",
       "      <td>manual</td>\n",
       "      <td>190</td>\n",
       "      <td>NaN</td>\n",
       "      <td>125000</td>\n",
       "      <td>5</td>\n",
       "      <td>gasoline</td>\n",
       "      <td>audi</td>\n",
       "      <td>yes</td>\n",
       "      <td>2016-03-24 00:00:00</td>\n",
       "      <td>0</td>\n",
       "      <td>66954</td>\n",
       "      <td>2016-04-07 01:46:50</td>\n",
       "    </tr>\n",
       "    <tr>\n",
       "      <th>2</th>\n",
       "      <td>2016-03-14 12:52:21</td>\n",
       "      <td>9800</td>\n",
       "      <td>suv</td>\n",
       "      <td>2004</td>\n",
       "      <td>auto</td>\n",
       "      <td>163</td>\n",
       "      <td>grand</td>\n",
       "      <td>125000</td>\n",
       "      <td>8</td>\n",
       "      <td>gasoline</td>\n",
       "      <td>jeep</td>\n",
       "      <td>NaN</td>\n",
       "      <td>2016-03-14 00:00:00</td>\n",
       "      <td>0</td>\n",
       "      <td>90480</td>\n",
       "      <td>2016-04-05 12:47:46</td>\n",
       "    </tr>\n",
       "    <tr>\n",
       "      <th>3</th>\n",
       "      <td>2016-03-17 16:54:04</td>\n",
       "      <td>1500</td>\n",
       "      <td>small</td>\n",
       "      <td>2001</td>\n",
       "      <td>manual</td>\n",
       "      <td>75</td>\n",
       "      <td>golf</td>\n",
       "      <td>150000</td>\n",
       "      <td>6</td>\n",
       "      <td>petrol</td>\n",
       "      <td>volkswagen</td>\n",
       "      <td>no</td>\n",
       "      <td>2016-03-17 00:00:00</td>\n",
       "      <td>0</td>\n",
       "      <td>91074</td>\n",
       "      <td>2016-03-17 17:40:17</td>\n",
       "    </tr>\n",
       "    <tr>\n",
       "      <th>4</th>\n",
       "      <td>2016-03-31 17:25:20</td>\n",
       "      <td>3600</td>\n",
       "      <td>small</td>\n",
       "      <td>2008</td>\n",
       "      <td>manual</td>\n",
       "      <td>69</td>\n",
       "      <td>fabia</td>\n",
       "      <td>90000</td>\n",
       "      <td>7</td>\n",
       "      <td>gasoline</td>\n",
       "      <td>skoda</td>\n",
       "      <td>no</td>\n",
       "      <td>2016-03-31 00:00:00</td>\n",
       "      <td>0</td>\n",
       "      <td>60437</td>\n",
       "      <td>2016-04-06 10:17:21</td>\n",
       "    </tr>\n",
       "  </tbody>\n",
       "</table>\n",
       "</div>"
      ],
      "text/plain": [
       "           DateCrawled  Price VehicleType  RegistrationYear Gearbox  Power  \\\n",
       "0  2016-03-24 11:52:17    480         NaN              1993  manual      0   \n",
       "1  2016-03-24 10:58:45  18300       coupe              2011  manual    190   \n",
       "2  2016-03-14 12:52:21   9800         suv              2004    auto    163   \n",
       "3  2016-03-17 16:54:04   1500       small              2001  manual     75   \n",
       "4  2016-03-31 17:25:20   3600       small              2008  manual     69   \n",
       "\n",
       "   Model  Kilometer  RegistrationMonth  FuelType       Brand NotRepaired  \\\n",
       "0   golf     150000                  0    petrol  volkswagen         NaN   \n",
       "1    NaN     125000                  5  gasoline        audi         yes   \n",
       "2  grand     125000                  8  gasoline        jeep         NaN   \n",
       "3   golf     150000                  6    petrol  volkswagen          no   \n",
       "4  fabia      90000                  7  gasoline       skoda          no   \n",
       "\n",
       "           DateCreated  NumberOfPictures  PostalCode             LastSeen  \n",
       "0  2016-03-24 00:00:00                 0       70435  2016-04-07 03:16:57  \n",
       "1  2016-03-24 00:00:00                 0       66954  2016-04-07 01:46:50  \n",
       "2  2016-03-14 00:00:00                 0       90480  2016-04-05 12:47:46  \n",
       "3  2016-03-17 00:00:00                 0       91074  2016-03-17 17:40:17  \n",
       "4  2016-03-31 00:00:00                 0       60437  2016-04-06 10:17:21  "
      ]
     },
     "execution_count": 3,
     "metadata": {},
     "output_type": "execute_result"
    }
   ],
   "source": [
    "#Загрузим данные\n",
    "data=pd.read_csv('autos.csv')\n",
    "data.head()"
   ]
  },
  {
   "cell_type": "code",
   "execution_count": 4,
   "metadata": {
    "scrolled": true
   },
   "outputs": [
    {
     "data": {
      "text/plain": [
       "Index(['datecrawled', 'price', 'vehicletype', 'registrationyear', 'gearbox',\n",
       "       'power', 'model', 'kilometer', 'registrationmonth', 'fueltype', 'brand',\n",
       "       'notrepaired', 'datecreated', 'numberofpictures', 'postalcode',\n",
       "       'lastseen'],\n",
       "      dtype='object')"
      ]
     },
     "execution_count": 4,
     "metadata": {},
     "output_type": "execute_result"
    }
   ],
   "source": [
    "#Приведем название колонок к нижнему регистру\n",
    "data.columns=data.columns.str.lower()\n",
    "data.columns"
   ]
  },
  {
   "cell_type": "code",
   "execution_count": 5,
   "metadata": {
    "scrolled": true
   },
   "outputs": [
    {
     "data": {
      "text/plain": [
       "Index(['date_crawled', 'price', 'vehicle_type', 'registration_year', 'gearbox',\n",
       "       'power', 'model', 'kilometer', 'registration_month', 'fuel_type',\n",
       "       'brand', 'not_repaired', 'date_created', 'number_of_pictures',\n",
       "       'postal_code', 'last_seen'],\n",
       "      dtype='object')"
      ]
     },
     "execution_count": 5,
     "metadata": {},
     "output_type": "execute_result"
    }
   ],
   "source": [
    "#Переименуем колонки и посмотрим результат\n",
    "data.rename(columns = {'datecrawled': 'date_crawled', 'vehicletype': 'vehicle_type','registrationyear':'registration_year','registrationmonth':'registration_month','fueltype':'fuel_type','notrepaired':'not_repaired','datecreated':'date_created','numberofpictures':'number_of_pictures','postalcode':'postal_code', 'lastseen': 'last_seen'}, inplace = True)\n",
    "data.columns\n"
   ]
  },
  {
   "cell_type": "code",
   "execution_count": 6,
   "metadata": {
    "scrolled": true
   },
   "outputs": [
    {
     "data": {
      "text/html": [
       "<div>\n",
       "<style scoped>\n",
       "    .dataframe tbody tr th:only-of-type {\n",
       "        vertical-align: middle;\n",
       "    }\n",
       "\n",
       "    .dataframe tbody tr th {\n",
       "        vertical-align: top;\n",
       "    }\n",
       "\n",
       "    .dataframe thead th {\n",
       "        text-align: right;\n",
       "    }\n",
       "</style>\n",
       "<table border=\"1\" class=\"dataframe\">\n",
       "  <thead>\n",
       "    <tr style=\"text-align: right;\">\n",
       "      <th></th>\n",
       "      <th>price</th>\n",
       "      <th>registration_year</th>\n",
       "      <th>power</th>\n",
       "      <th>kilometer</th>\n",
       "      <th>registration_month</th>\n",
       "      <th>number_of_pictures</th>\n",
       "      <th>postal_code</th>\n",
       "    </tr>\n",
       "  </thead>\n",
       "  <tbody>\n",
       "    <tr>\n",
       "      <th>count</th>\n",
       "      <td>354369.000000</td>\n",
       "      <td>354369.000000</td>\n",
       "      <td>354369.000000</td>\n",
       "      <td>354369.000000</td>\n",
       "      <td>354369.000000</td>\n",
       "      <td>354369.0</td>\n",
       "      <td>354369.000000</td>\n",
       "    </tr>\n",
       "    <tr>\n",
       "      <th>mean</th>\n",
       "      <td>4416.656776</td>\n",
       "      <td>2004.234448</td>\n",
       "      <td>110.094337</td>\n",
       "      <td>128211.172535</td>\n",
       "      <td>5.714645</td>\n",
       "      <td>0.0</td>\n",
       "      <td>50508.689087</td>\n",
       "    </tr>\n",
       "    <tr>\n",
       "      <th>std</th>\n",
       "      <td>4514.158514</td>\n",
       "      <td>90.227958</td>\n",
       "      <td>189.850405</td>\n",
       "      <td>37905.341530</td>\n",
       "      <td>3.726421</td>\n",
       "      <td>0.0</td>\n",
       "      <td>25783.096248</td>\n",
       "    </tr>\n",
       "    <tr>\n",
       "      <th>min</th>\n",
       "      <td>0.000000</td>\n",
       "      <td>1000.000000</td>\n",
       "      <td>0.000000</td>\n",
       "      <td>5000.000000</td>\n",
       "      <td>0.000000</td>\n",
       "      <td>0.0</td>\n",
       "      <td>1067.000000</td>\n",
       "    </tr>\n",
       "    <tr>\n",
       "      <th>25%</th>\n",
       "      <td>1050.000000</td>\n",
       "      <td>1999.000000</td>\n",
       "      <td>69.000000</td>\n",
       "      <td>125000.000000</td>\n",
       "      <td>3.000000</td>\n",
       "      <td>0.0</td>\n",
       "      <td>30165.000000</td>\n",
       "    </tr>\n",
       "    <tr>\n",
       "      <th>50%</th>\n",
       "      <td>2700.000000</td>\n",
       "      <td>2003.000000</td>\n",
       "      <td>105.000000</td>\n",
       "      <td>150000.000000</td>\n",
       "      <td>6.000000</td>\n",
       "      <td>0.0</td>\n",
       "      <td>49413.000000</td>\n",
       "    </tr>\n",
       "    <tr>\n",
       "      <th>75%</th>\n",
       "      <td>6400.000000</td>\n",
       "      <td>2008.000000</td>\n",
       "      <td>143.000000</td>\n",
       "      <td>150000.000000</td>\n",
       "      <td>9.000000</td>\n",
       "      <td>0.0</td>\n",
       "      <td>71083.000000</td>\n",
       "    </tr>\n",
       "    <tr>\n",
       "      <th>max</th>\n",
       "      <td>20000.000000</td>\n",
       "      <td>9999.000000</td>\n",
       "      <td>20000.000000</td>\n",
       "      <td>150000.000000</td>\n",
       "      <td>12.000000</td>\n",
       "      <td>0.0</td>\n",
       "      <td>99998.000000</td>\n",
       "    </tr>\n",
       "  </tbody>\n",
       "</table>\n",
       "</div>"
      ],
      "text/plain": [
       "               price  registration_year          power      kilometer  \\\n",
       "count  354369.000000      354369.000000  354369.000000  354369.000000   \n",
       "mean     4416.656776        2004.234448     110.094337  128211.172535   \n",
       "std      4514.158514          90.227958     189.850405   37905.341530   \n",
       "min         0.000000        1000.000000       0.000000    5000.000000   \n",
       "25%      1050.000000        1999.000000      69.000000  125000.000000   \n",
       "50%      2700.000000        2003.000000     105.000000  150000.000000   \n",
       "75%      6400.000000        2008.000000     143.000000  150000.000000   \n",
       "max     20000.000000        9999.000000   20000.000000  150000.000000   \n",
       "\n",
       "       registration_month  number_of_pictures    postal_code  \n",
       "count       354369.000000            354369.0  354369.000000  \n",
       "mean             5.714645                 0.0   50508.689087  \n",
       "std              3.726421                 0.0   25783.096248  \n",
       "min              0.000000                 0.0    1067.000000  \n",
       "25%              3.000000                 0.0   30165.000000  \n",
       "50%              6.000000                 0.0   49413.000000  \n",
       "75%              9.000000                 0.0   71083.000000  \n",
       "max             12.000000                 0.0   99998.000000  "
      ]
     },
     "execution_count": 6,
     "metadata": {},
     "output_type": "execute_result"
    }
   ],
   "source": [
    "#Посмотрим численные данные\n",
    "data.describe()"
   ]
  },
  {
   "cell_type": "markdown",
   "metadata": {},
   "source": [
    "1.В столбце 'price' ошибка - минимальная цена равно 0<br>\n",
    "2.В столбце год регистрации максимальный год - 9999 <br>\n",
    "3.В столбце 'power' есть автомобили с 0 л.с.<br>\n",
    "4.В столбце 'registration_month' есть 0.<br>\n",
    "5.В столбце number_of_pictures везде 0. Его можно удалить"
   ]
  },
  {
   "cell_type": "code",
   "execution_count": 7,
   "metadata": {},
   "outputs": [],
   "source": [
    "#Удалим столблец number_of_pictures\n",
    "data=data.drop(['number_of_pictures'],axis=1)"
   ]
  },
  {
   "cell_type": "markdown",
   "metadata": {},
   "source": [
    "<div class=\"alert alert-block alert-success\">\n",
    "<b>Успех:</b> Данные загружены корректно, первичный осмотр проведен. Согласен, что константный признак нам не нужен.\n",
    "</div>"
   ]
  },
  {
   "cell_type": "markdown",
   "metadata": {},
   "source": [
    "### Изменение типов данных"
   ]
  },
  {
   "cell_type": "code",
   "execution_count": 8,
   "metadata": {},
   "outputs": [
    {
     "name": "stdout",
     "output_type": "stream",
     "text": [
      "<class 'pandas.core.frame.DataFrame'>\n",
      "RangeIndex: 354369 entries, 0 to 354368\n",
      "Data columns (total 15 columns):\n",
      " #   Column              Non-Null Count   Dtype \n",
      "---  ------              --------------   ----- \n",
      " 0   date_crawled        354369 non-null  object\n",
      " 1   price               354369 non-null  int64 \n",
      " 2   vehicle_type        316879 non-null  object\n",
      " 3   registration_year   354369 non-null  int64 \n",
      " 4   gearbox             334536 non-null  object\n",
      " 5   power               354369 non-null  int64 \n",
      " 6   model               334664 non-null  object\n",
      " 7   kilometer           354369 non-null  int64 \n",
      " 8   registration_month  354369 non-null  int64 \n",
      " 9   fuel_type           321474 non-null  object\n",
      " 10  brand               354369 non-null  object\n",
      " 11  not_repaired        283215 non-null  object\n",
      " 12  date_created        354369 non-null  object\n",
      " 13  postal_code         354369 non-null  int64 \n",
      " 14  last_seen           354369 non-null  object\n",
      "dtypes: int64(6), object(9)\n",
      "memory usage: 40.6+ MB\n"
     ]
    }
   ],
   "source": [
    "data.info()"
   ]
  },
  {
   "cell_type": "markdown",
   "metadata": {},
   "source": [
    "<b><i>Колонки 'date_crawled', ' date_created , 'last_seen' имеют тип object. Нужно преобразовать в data</b></i>"
   ]
  },
  {
   "cell_type": "code",
   "execution_count": 9,
   "metadata": {
    "scrolled": true
   },
   "outputs": [
    {
     "name": "stdout",
     "output_type": "stream",
     "text": [
      "<class 'pandas.core.frame.DataFrame'>\n",
      "RangeIndex: 354369 entries, 0 to 354368\n",
      "Data columns (total 15 columns):\n",
      " #   Column              Non-Null Count   Dtype         \n",
      "---  ------              --------------   -----         \n",
      " 0   date_crawled        354369 non-null  datetime64[ns]\n",
      " 1   price               354369 non-null  int64         \n",
      " 2   vehicle_type        316879 non-null  object        \n",
      " 3   registration_year   354369 non-null  int64         \n",
      " 4   gearbox             334536 non-null  object        \n",
      " 5   power               354369 non-null  int64         \n",
      " 6   model               334664 non-null  object        \n",
      " 7   kilometer           354369 non-null  int64         \n",
      " 8   registration_month  354369 non-null  int64         \n",
      " 9   fuel_type           321474 non-null  object        \n",
      " 10  brand               354369 non-null  object        \n",
      " 11  not_repaired        283215 non-null  object        \n",
      " 12  date_created        354369 non-null  datetime64[ns]\n",
      " 13  postal_code         354369 non-null  int64         \n",
      " 14  last_seen           354369 non-null  datetime64[ns]\n",
      "dtypes: datetime64[ns](3), int64(6), object(6)\n",
      "memory usage: 40.6+ MB\n"
     ]
    }
   ],
   "source": [
    "data['date_crawled'] = pd.to_datetime(data['date_crawled'], format='%Y-%m-%d %H:%M:%S')\n",
    "data['date_created'] = pd.to_datetime(data['date_created'], format='%Y-%m-%d %H:%M:%S')\n",
    "data['last_seen'] = pd.to_datetime(data['last_seen'], format='%Y-%m-%d %H:%M:%S')\n",
    "data.info()"
   ]
  },
  {
   "cell_type": "markdown",
   "metadata": {},
   "source": [
    "### Обработка пропусков"
   ]
  },
  {
   "cell_type": "code",
   "execution_count": 10,
   "metadata": {},
   "outputs": [
    {
     "data": {
      "text/plain": [
       "not_repaired          0.200791\n",
       "vehicle_type          0.105794\n",
       "fuel_type             0.092827\n",
       "gearbox               0.055967\n",
       "model                 0.055606\n",
       "date_crawled          0.000000\n",
       "price                 0.000000\n",
       "registration_year     0.000000\n",
       "power                 0.000000\n",
       "kilometer             0.000000\n",
       "registration_month    0.000000\n",
       "brand                 0.000000\n",
       "date_created          0.000000\n",
       "postal_code           0.000000\n",
       "last_seen             0.000000\n",
       "dtype: float64"
      ]
     },
     "execution_count": 10,
     "metadata": {},
     "output_type": "execute_result"
    }
   ],
   "source": [
    "data.isnull().mean().sort_values(ascending=False)"
   ]
  },
  {
   "cell_type": "markdown",
   "metadata": {},
   "source": [
    "Пропуски в датасете в 4х столбцах: <br>\n",
    "1.not_repaired - были машина в ремонте или нет<br>\n",
    "2.vehicle_type - тип автомобильного кузова<br>\n",
    "3.fuel_type-тип топлива<br>\n",
    "4.gearbox- тип коробки передач<br>"
   ]
  },
  {
   "cell_type": "code",
   "execution_count": 11,
   "metadata": {
    "scrolled": true
   },
   "outputs": [
    {
     "data": {
      "text/html": [
       "<div>\n",
       "<style scoped>\n",
       "    .dataframe tbody tr th:only-of-type {\n",
       "        vertical-align: middle;\n",
       "    }\n",
       "\n",
       "    .dataframe tbody tr th {\n",
       "        vertical-align: top;\n",
       "    }\n",
       "\n",
       "    .dataframe thead th {\n",
       "        text-align: right;\n",
       "    }\n",
       "</style>\n",
       "<table border=\"1\" class=\"dataframe\">\n",
       "  <thead>\n",
       "    <tr style=\"text-align: right;\">\n",
       "      <th></th>\n",
       "      <th>not_repaired</th>\n",
       "      <th>kilometer</th>\n",
       "    </tr>\n",
       "  </thead>\n",
       "  <tbody>\n",
       "    <tr>\n",
       "      <th>177227</th>\n",
       "      <td>no</td>\n",
       "      <td>150000</td>\n",
       "    </tr>\n",
       "    <tr>\n",
       "      <th>211791</th>\n",
       "      <td>no</td>\n",
       "      <td>150000</td>\n",
       "    </tr>\n",
       "    <tr>\n",
       "      <th>211766</th>\n",
       "      <td>no</td>\n",
       "      <td>150000</td>\n",
       "    </tr>\n",
       "    <tr>\n",
       "      <th>211767</th>\n",
       "      <td>no</td>\n",
       "      <td>150000</td>\n",
       "    </tr>\n",
       "    <tr>\n",
       "      <th>211769</th>\n",
       "      <td>yes</td>\n",
       "      <td>150000</td>\n",
       "    </tr>\n",
       "    <tr>\n",
       "      <th>...</th>\n",
       "      <td>...</td>\n",
       "      <td>...</td>\n",
       "    </tr>\n",
       "    <tr>\n",
       "      <th>3721</th>\n",
       "      <td>no</td>\n",
       "      <td>5000</td>\n",
       "    </tr>\n",
       "    <tr>\n",
       "      <th>302469</th>\n",
       "      <td>no</td>\n",
       "      <td>5000</td>\n",
       "    </tr>\n",
       "    <tr>\n",
       "      <th>34401</th>\n",
       "      <td>no</td>\n",
       "      <td>5000</td>\n",
       "    </tr>\n",
       "    <tr>\n",
       "      <th>336638</th>\n",
       "      <td>no</td>\n",
       "      <td>5000</td>\n",
       "    </tr>\n",
       "    <tr>\n",
       "      <th>59893</th>\n",
       "      <td>no</td>\n",
       "      <td>5000</td>\n",
       "    </tr>\n",
       "  </tbody>\n",
       "</table>\n",
       "<p>283215 rows × 2 columns</p>\n",
       "</div>"
      ],
      "text/plain": [
       "       not_repaired  kilometer\n",
       "177227           no     150000\n",
       "211791           no     150000\n",
       "211766           no     150000\n",
       "211767           no     150000\n",
       "211769          yes     150000\n",
       "...             ...        ...\n",
       "3721             no       5000\n",
       "302469           no       5000\n",
       "34401            no       5000\n",
       "336638           no       5000\n",
       "59893            no       5000\n",
       "\n",
       "[283215 rows x 2 columns]"
      ]
     },
     "execution_count": 11,
     "metadata": {},
     "output_type": "execute_result"
    }
   ],
   "source": [
    "#Попробуем найти зависимость столбца 'not_repaired' от других\n",
    "data.loc[(data['not_repaired'].isnull()==False),['not_repaired','kilometer']].sort_values(by='kilometer', ascending=False)\n"
   ]
  },
  {
   "cell_type": "code",
   "execution_count": 12,
   "metadata": {
    "scrolled": true
   },
   "outputs": [
    {
     "name": "stdout",
     "output_type": "stream",
     "text": [
      "Была ли машина в ремонте:\n"
     ]
    },
    {
     "data": {
      "text/plain": [
       "no     247161\n",
       "yes     36054\n",
       "Name: not_repaired, dtype: int64"
      ]
     },
     "metadata": {},
     "output_type": "display_data"
    },
    {
     "data": {
      "image/png": "[encoded data removed]",
      "text/plain": [
       "<Figure size 432x288 with 1 Axes>"
      ]
     },
     "metadata": {},
     "output_type": "display_data"
    }
   ],
   "source": [
    "y=data['not_repaired'].value_counts()\n",
    "print('Была ли машина в ремонте:')\n",
    "display(y)\n",
    "#y.index\n",
    "plt.pie(y,labels = y.index,shadow = True)\n",
    "plt.legend(title = \"Была ли машина в ремонте\")\n",
    "#plt.figsize=[12,9]\n",
    "plt.show() "
   ]
  },
  {
   "cell_type": "markdown",
   "metadata": {},
   "source": [
    "<b>Поскольку зависимости значения столбца 'not_repaired' от других установить не удалось, заполним его \"заглушкой\" - unknown_repairment</b>"
   ]
  },
  {
   "cell_type": "code",
   "execution_count": 13,
   "metadata": {
    "scrolled": true
   },
   "outputs": [
    {
     "name": "stdout",
     "output_type": "stream",
     "text": [
      "Была ли машина в ремонте:\n"
     ]
    },
    {
     "data": {
      "text/plain": [
       "no                    247161\n",
       "unknown_repairment     71154\n",
       "yes                    36054\n",
       "Name: not_repaired, dtype: int64"
      ]
     },
     "metadata": {},
     "output_type": "display_data"
    },
    {
     "data": {
      "image/png": "[encoded data removed]",
      "text/plain": [
       "<Figure size 432x288 with 1 Axes>"
      ]
     },
     "metadata": {},
     "output_type": "display_data"
    }
   ],
   "source": [
    "data['not_repaired'].fillna('unknown_repairment', inplace=True)\n",
    "y=data['not_repaired'].value_counts()\n",
    "print('Была ли машина в ремонте:')\n",
    "display(y)\n",
    "\n",
    "plt.pie(y,labels = y.index,shadow = True)\n",
    "plt.legend(title = \"Была ли машина в ремонте\")\n",
    "\n",
    "plt.show() "
   ]
  },
  {
   "cell_type": "code",
   "execution_count": 14,
   "metadata": {
    "scrolled": true
   },
   "outputs": [
    {
     "data": {
      "text/plain": [
       "vehicle_type          0.105794\n",
       "fuel_type             0.092827\n",
       "gearbox               0.055967\n",
       "model                 0.055606\n",
       "date_crawled          0.000000\n",
       "price                 0.000000\n",
       "registration_year     0.000000\n",
       "power                 0.000000\n",
       "kilometer             0.000000\n",
       "registration_month    0.000000\n",
       "brand                 0.000000\n",
       "not_repaired          0.000000\n",
       "date_created          0.000000\n",
       "postal_code           0.000000\n",
       "last_seen             0.000000\n",
       "dtype: float64"
      ]
     },
     "execution_count": 14,
     "metadata": {},
     "output_type": "execute_result"
    }
   ],
   "source": [
    "data.isnull().mean().sort_values(ascending=False)"
   ]
  },
  {
   "cell_type": "code",
   "execution_count": 15,
   "metadata": {},
   "outputs": [],
   "source": [
    "data.loc[data['model'].isnull(),'model']=data.loc[data['model'].isnull(),'brand']+'_unknown_model'"
   ]
  },
  {
   "cell_type": "code",
   "execution_count": 16,
   "metadata": {
    "scrolled": true
   },
   "outputs": [
    {
     "data": {
      "text/plain": [
       "vehicle_type          0.105794\n",
       "fuel_type             0.092827\n",
       "gearbox               0.055967\n",
       "date_crawled          0.000000\n",
       "price                 0.000000\n",
       "registration_year     0.000000\n",
       "power                 0.000000\n",
       "model                 0.000000\n",
       "kilometer             0.000000\n",
       "registration_month    0.000000\n",
       "brand                 0.000000\n",
       "not_repaired          0.000000\n",
       "date_created          0.000000\n",
       "postal_code           0.000000\n",
       "last_seen             0.000000\n",
       "dtype: float64"
      ]
     },
     "execution_count": 16,
     "metadata": {},
     "output_type": "execute_result"
    }
   ],
   "source": [
    "data.isnull().mean().sort_values(ascending=False)"
   ]
  },
  {
   "cell_type": "code",
   "execution_count": 17,
   "metadata": {
    "scrolled": true
   },
   "outputs": [
    {
     "data": {
      "text/plain": [
       "date_crawled          0.0\n",
       "price                 0.0\n",
       "vehicle_type          0.0\n",
       "registration_year     0.0\n",
       "gearbox               0.0\n",
       "power                 0.0\n",
       "model                 0.0\n",
       "kilometer             0.0\n",
       "registration_month    0.0\n",
       "fuel_type             0.0\n",
       "brand                 0.0\n",
       "not_repaired          0.0\n",
       "date_created          0.0\n",
       "postal_code           0.0\n",
       "last_seen             0.0\n",
       "dtype: float64"
      ]
     },
     "execution_count": 17,
     "metadata": {},
     "output_type": "execute_result"
    }
   ],
   "source": [
    "data['gearbox'].fillna('unknown_gearbox', inplace=True)\n",
    "data['vehicle_type'].fillna('unknown_vehicle_type', inplace=True)\n",
    "data['fuel_type'].fillna('unknown_fuel_type', inplace=True)\n",
    "data.isnull().mean().sort_values(ascending=False)"
   ]
  },
  {
   "cell_type": "markdown",
   "metadata": {},
   "source": [
    "#### Обработка аномальных значений"
   ]
  },
  {
   "cell_type": "code",
   "execution_count": 18,
   "metadata": {
    "scrolled": true
   },
   "outputs": [
    {
     "data": {
      "text/html": [
       "<div>\n",
       "<style scoped>\n",
       "    .dataframe tbody tr th:only-of-type {\n",
       "        vertical-align: middle;\n",
       "    }\n",
       "\n",
       "    .dataframe tbody tr th {\n",
       "        vertical-align: top;\n",
       "    }\n",
       "\n",
       "    .dataframe thead th {\n",
       "        text-align: right;\n",
       "    }\n",
       "</style>\n",
       "<table border=\"1\" class=\"dataframe\">\n",
       "  <thead>\n",
       "    <tr style=\"text-align: right;\">\n",
       "      <th></th>\n",
       "      <th>price</th>\n",
       "      <th>registration_year</th>\n",
       "      <th>power</th>\n",
       "      <th>kilometer</th>\n",
       "      <th>registration_month</th>\n",
       "      <th>postal_code</th>\n",
       "    </tr>\n",
       "  </thead>\n",
       "  <tbody>\n",
       "    <tr>\n",
       "      <th>count</th>\n",
       "      <td>354369.000000</td>\n",
       "      <td>354369.000000</td>\n",
       "      <td>354369.000000</td>\n",
       "      <td>354369.000000</td>\n",
       "      <td>354369.000000</td>\n",
       "      <td>354369.000000</td>\n",
       "    </tr>\n",
       "    <tr>\n",
       "      <th>mean</th>\n",
       "      <td>4416.656776</td>\n",
       "      <td>2004.234448</td>\n",
       "      <td>110.094337</td>\n",
       "      <td>128211.172535</td>\n",
       "      <td>5.714645</td>\n",
       "      <td>50508.689087</td>\n",
       "    </tr>\n",
       "    <tr>\n",
       "      <th>std</th>\n",
       "      <td>4514.158514</td>\n",
       "      <td>90.227958</td>\n",
       "      <td>189.850405</td>\n",
       "      <td>37905.341530</td>\n",
       "      <td>3.726421</td>\n",
       "      <td>25783.096248</td>\n",
       "    </tr>\n",
       "    <tr>\n",
       "      <th>min</th>\n",
       "      <td>0.000000</td>\n",
       "      <td>1000.000000</td>\n",
       "      <td>0.000000</td>\n",
       "      <td>5000.000000</td>\n",
       "      <td>0.000000</td>\n",
       "      <td>1067.000000</td>\n",
       "    </tr>\n",
       "    <tr>\n",
       "      <th>25%</th>\n",
       "      <td>1050.000000</td>\n",
       "      <td>1999.000000</td>\n",
       "      <td>69.000000</td>\n",
       "      <td>125000.000000</td>\n",
       "      <td>3.000000</td>\n",
       "      <td>30165.000000</td>\n",
       "    </tr>\n",
       "    <tr>\n",
       "      <th>50%</th>\n",
       "      <td>2700.000000</td>\n",
       "      <td>2003.000000</td>\n",
       "      <td>105.000000</td>\n",
       "      <td>150000.000000</td>\n",
       "      <td>6.000000</td>\n",
       "      <td>49413.000000</td>\n",
       "    </tr>\n",
       "    <tr>\n",
       "      <th>75%</th>\n",
       "      <td>6400.000000</td>\n",
       "      <td>2008.000000</td>\n",
       "      <td>143.000000</td>\n",
       "      <td>150000.000000</td>\n",
       "      <td>9.000000</td>\n",
       "      <td>71083.000000</td>\n",
       "    </tr>\n",
       "    <tr>\n",
       "      <th>max</th>\n",
       "      <td>20000.000000</td>\n",
       "      <td>9999.000000</td>\n",
       "      <td>20000.000000</td>\n",
       "      <td>150000.000000</td>\n",
       "      <td>12.000000</td>\n",
       "      <td>99998.000000</td>\n",
       "    </tr>\n",
       "  </tbody>\n",
       "</table>\n",
       "</div>"
      ],
      "text/plain": [
       "               price  registration_year          power      kilometer  \\\n",
       "count  354369.000000      354369.000000  354369.000000  354369.000000   \n",
       "mean     4416.656776        2004.234448     110.094337  128211.172535   \n",
       "std      4514.158514          90.227958     189.850405   37905.341530   \n",
       "min         0.000000        1000.000000       0.000000    5000.000000   \n",
       "25%      1050.000000        1999.000000      69.000000  125000.000000   \n",
       "50%      2700.000000        2003.000000     105.000000  150000.000000   \n",
       "75%      6400.000000        2008.000000     143.000000  150000.000000   \n",
       "max     20000.000000        9999.000000   20000.000000  150000.000000   \n",
       "\n",
       "       registration_month    postal_code  \n",
       "count       354369.000000  354369.000000  \n",
       "mean             5.714645   50508.689087  \n",
       "std              3.726421   25783.096248  \n",
       "min              0.000000    1067.000000  \n",
       "25%              3.000000   30165.000000  \n",
       "50%              6.000000   49413.000000  \n",
       "75%              9.000000   71083.000000  \n",
       "max             12.000000   99998.000000  "
      ]
     },
     "execution_count": 18,
     "metadata": {},
     "output_type": "execute_result"
    }
   ],
   "source": [
    "data.describe()"
   ]
  },
  {
   "cell_type": "code",
   "execution_count": 19,
   "metadata": {
    "scrolled": true
   },
   "outputs": [
    {
     "data": {
      "text/plain": [
       "Text(0.5, 1.0, 'Диаграмма размаха мощности в л.с.')"
      ]
     },
     "execution_count": 19,
     "metadata": {},
     "output_type": "execute_result"
    },
    {
     "data": {
      "image/png": "[encoded data removed]",
      "text/plain": [
       "<Figure size 1152x576 with 1 Axes>"
      ]
     },
     "metadata": {
      "needs_background": "light"
     },
     "output_type": "display_data"
    }
   ],
   "source": [
    "#Обработаем аномальные значения колонки power\n",
    "data.boxplot(column='power',figsize = (16,8))\n",
    "plt.title('Диаграмма размаха мощности в л.с.')"
   ]
  },
  {
   "cell_type": "code",
   "execution_count": 20,
   "metadata": {
    "scrolled": true
   },
   "outputs": [
    {
     "data": {
      "text/html": [
       "<div>\n",
       "<style scoped>\n",
       "    .dataframe tbody tr th:only-of-type {\n",
       "        vertical-align: middle;\n",
       "    }\n",
       "\n",
       "    .dataframe tbody tr th {\n",
       "        vertical-align: top;\n",
       "    }\n",
       "\n",
       "    .dataframe thead th {\n",
       "        text-align: right;\n",
       "    }\n",
       "</style>\n",
       "<table border=\"1\" class=\"dataframe\">\n",
       "  <thead>\n",
       "    <tr style=\"text-align: right;\">\n",
       "      <th></th>\n",
       "      <th>power</th>\n",
       "    </tr>\n",
       "    <tr>\n",
       "      <th>vehicle_type</th>\n",
       "      <th></th>\n",
       "    </tr>\n",
       "  </thead>\n",
       "  <tbody>\n",
       "    <tr>\n",
       "      <th>bus</th>\n",
       "      <td>110</td>\n",
       "    </tr>\n",
       "    <tr>\n",
       "      <th>convertible</th>\n",
       "      <td>122</td>\n",
       "    </tr>\n",
       "    <tr>\n",
       "      <th>coupe</th>\n",
       "      <td>148</td>\n",
       "    </tr>\n",
       "    <tr>\n",
       "      <th>other</th>\n",
       "      <td>85</td>\n",
       "    </tr>\n",
       "    <tr>\n",
       "      <th>sedan</th>\n",
       "      <td>116</td>\n",
       "    </tr>\n",
       "    <tr>\n",
       "      <th>small</th>\n",
       "      <td>64</td>\n",
       "    </tr>\n",
       "    <tr>\n",
       "      <th>suv</th>\n",
       "      <td>150</td>\n",
       "    </tr>\n",
       "    <tr>\n",
       "      <th>unknown_vehicle_type</th>\n",
       "      <td>61</td>\n",
       "    </tr>\n",
       "    <tr>\n",
       "      <th>wagon</th>\n",
       "      <td>131</td>\n",
       "    </tr>\n",
       "  </tbody>\n",
       "</table>\n",
       "</div>"
      ],
      "text/plain": [
       "                      power\n",
       "vehicle_type               \n",
       "bus                     110\n",
       "convertible             122\n",
       "coupe                   148\n",
       "other                    85\n",
       "sedan                   116\n",
       "small                    64\n",
       "suv                     150\n",
       "unknown_vehicle_type     61\n",
       "wagon                   131"
      ]
     },
     "execution_count": 20,
     "metadata": {},
     "output_type": "execute_result"
    }
   ],
   "source": [
    "data_power=data.groupby('vehicle_type')[['power']].median()\n",
    "data_power"
   ]
  },
  {
   "cell_type": "code",
   "execution_count": 21,
   "metadata": {
    "scrolled": true
   },
   "outputs": [
    {
     "data": {
      "text/plain": [
       "131"
      ]
     },
     "execution_count": 21,
     "metadata": {},
     "output_type": "execute_result"
    }
   ],
   "source": [
    "def find_power(vehicle_type):\n",
    "    \"Берет тип кузова и возвращает медианную мощность в лошадиных силах\"\n",
    "    return data_power['power'][vehicle_type]\n",
    "\n",
    "#Проверка\n",
    "find_power('wagon')"
   ]
  },
  {
   "cell_type": "code",
   "execution_count": 22,
   "metadata": {},
   "outputs": [],
   "source": [
    "data.loc[(data['power']>500),'power']=data.loc[(data['power']>500),'vehicle_type'].apply(find_power)\n",
    "\n",
    "data.loc[(data['power']<20),'power']=data.loc[(data['power']<20),'vehicle_type'].apply(find_power)"
   ]
  },
  {
   "cell_type": "code",
   "execution_count": 23,
   "metadata": {
    "scrolled": true
   },
   "outputs": [
    {
     "data": {
      "text/html": [
       "<div>\n",
       "<style scoped>\n",
       "    .dataframe tbody tr th:only-of-type {\n",
       "        vertical-align: middle;\n",
       "    }\n",
       "\n",
       "    .dataframe tbody tr th {\n",
       "        vertical-align: top;\n",
       "    }\n",
       "\n",
       "    .dataframe thead th {\n",
       "        text-align: right;\n",
       "    }\n",
       "</style>\n",
       "<table border=\"1\" class=\"dataframe\">\n",
       "  <thead>\n",
       "    <tr style=\"text-align: right;\">\n",
       "      <th></th>\n",
       "      <th>price</th>\n",
       "      <th>registration_year</th>\n",
       "      <th>power</th>\n",
       "      <th>kilometer</th>\n",
       "      <th>registration_month</th>\n",
       "      <th>postal_code</th>\n",
       "    </tr>\n",
       "  </thead>\n",
       "  <tbody>\n",
       "    <tr>\n",
       "      <th>count</th>\n",
       "      <td>354369.000000</td>\n",
       "      <td>354369.000000</td>\n",
       "      <td>354369.000000</td>\n",
       "      <td>354369.000000</td>\n",
       "      <td>354369.000000</td>\n",
       "      <td>354369.000000</td>\n",
       "    </tr>\n",
       "    <tr>\n",
       "      <th>mean</th>\n",
       "      <td>4416.656776</td>\n",
       "      <td>2004.234448</td>\n",
       "      <td>116.449074</td>\n",
       "      <td>128211.172535</td>\n",
       "      <td>5.714645</td>\n",
       "      <td>50508.689087</td>\n",
       "    </tr>\n",
       "    <tr>\n",
       "      <th>std</th>\n",
       "      <td>4514.158514</td>\n",
       "      <td>90.227958</td>\n",
       "      <td>52.320166</td>\n",
       "      <td>37905.341530</td>\n",
       "      <td>3.726421</td>\n",
       "      <td>25783.096248</td>\n",
       "    </tr>\n",
       "    <tr>\n",
       "      <th>min</th>\n",
       "      <td>0.000000</td>\n",
       "      <td>1000.000000</td>\n",
       "      <td>20.000000</td>\n",
       "      <td>5000.000000</td>\n",
       "      <td>0.000000</td>\n",
       "      <td>1067.000000</td>\n",
       "    </tr>\n",
       "    <tr>\n",
       "      <th>25%</th>\n",
       "      <td>1050.000000</td>\n",
       "      <td>1999.000000</td>\n",
       "      <td>75.000000</td>\n",
       "      <td>125000.000000</td>\n",
       "      <td>3.000000</td>\n",
       "      <td>30165.000000</td>\n",
       "    </tr>\n",
       "    <tr>\n",
       "      <th>50%</th>\n",
       "      <td>2700.000000</td>\n",
       "      <td>2003.000000</td>\n",
       "      <td>110.000000</td>\n",
       "      <td>150000.000000</td>\n",
       "      <td>6.000000</td>\n",
       "      <td>49413.000000</td>\n",
       "    </tr>\n",
       "    <tr>\n",
       "      <th>75%</th>\n",
       "      <td>6400.000000</td>\n",
       "      <td>2008.000000</td>\n",
       "      <td>143.000000</td>\n",
       "      <td>150000.000000</td>\n",
       "      <td>9.000000</td>\n",
       "      <td>71083.000000</td>\n",
       "    </tr>\n",
       "    <tr>\n",
       "      <th>max</th>\n",
       "      <td>20000.000000</td>\n",
       "      <td>9999.000000</td>\n",
       "      <td>500.000000</td>\n",
       "      <td>150000.000000</td>\n",
       "      <td>12.000000</td>\n",
       "      <td>99998.000000</td>\n",
       "    </tr>\n",
       "  </tbody>\n",
       "</table>\n",
       "</div>"
      ],
      "text/plain": [
       "               price  registration_year          power      kilometer  \\\n",
       "count  354369.000000      354369.000000  354369.000000  354369.000000   \n",
       "mean     4416.656776        2004.234448     116.449074  128211.172535   \n",
       "std      4514.158514          90.227958      52.320166   37905.341530   \n",
       "min         0.000000        1000.000000      20.000000    5000.000000   \n",
       "25%      1050.000000        1999.000000      75.000000  125000.000000   \n",
       "50%      2700.000000        2003.000000     110.000000  150000.000000   \n",
       "75%      6400.000000        2008.000000     143.000000  150000.000000   \n",
       "max     20000.000000        9999.000000     500.000000  150000.000000   \n",
       "\n",
       "       registration_month    postal_code  \n",
       "count       354369.000000  354369.000000  \n",
       "mean             5.714645   50508.689087  \n",
       "std              3.726421   25783.096248  \n",
       "min              0.000000    1067.000000  \n",
       "25%              3.000000   30165.000000  \n",
       "50%              6.000000   49413.000000  \n",
       "75%              9.000000   71083.000000  \n",
       "max             12.000000   99998.000000  "
      ]
     },
     "execution_count": 23,
     "metadata": {},
     "output_type": "execute_result"
    }
   ],
   "source": [
    "#Посмотрим значения столбца power после преобразования\n",
    "data.describe()"
   ]
  },
  {
   "cell_type": "code",
   "execution_count": 24,
   "metadata": {
    "scrolled": true
   },
   "outputs": [
    {
     "data": {
      "text/plain": [
       "Text(0.5, 1.0, 'Диаграмма размаха года регистрации')"
      ]
     },
     "execution_count": 24,
     "metadata": {},
     "output_type": "execute_result"
    },
    {
     "data": {
      "image/png": "[encoded data removed]",
      "text/plain": [
       "<Figure size 1152x576 with 1 Axes>"
      ]
     },
     "metadata": {
      "needs_background": "light"
     },
     "output_type": "display_data"
    }
   ],
   "source": [
    "#Обработаем аномальные значения колонки power\n",
    "data.boxplot(column='registration_year',figsize = (16,8))\n",
    "plt.title('Диаграмма размаха года регистрации')"
   ]
  },
  {
   "cell_type": "code",
   "execution_count": 25,
   "metadata": {
    "scrolled": false
   },
   "outputs": [
    {
     "data": {
      "text/plain": [
       "61207    2014-03-10\n",
       "4001     2015-03-20\n",
       "342275   2015-06-18\n",
       "86601    2015-08-07\n",
       "175103   2015-08-10\n",
       "            ...    \n",
       "134418   2016-04-07\n",
       "176987   2016-04-07\n",
       "206303   2016-04-07\n",
       "309336   2016-04-07\n",
       "305430   2016-04-07\n",
       "Name: date_created, Length: 354369, dtype: datetime64[ns]"
      ]
     },
     "execution_count": 25,
     "metadata": {},
     "output_type": "execute_result"
    }
   ],
   "source": [
    "data['date_created'].sort_values()"
   ]
  },
  {
   "cell_type": "markdown",
   "metadata": {},
   "source": [
    "Самая поздняя дата создания объявления - апрель 2016. Все что позже - ошибка. Заменим на медиану"
   ]
  },
  {
   "cell_type": "code",
   "execution_count": 26,
   "metadata": {
    "scrolled": true
   },
   "outputs": [
    {
     "name": "stdout",
     "output_type": "stream",
     "text": [
      "Число количество строк с неправлиьным годом регитсрации автомобиля,\n",
      " к общему количеству строк в датасете:\n",
      " 0.00029630131303810434\n"
     ]
    }
   ],
   "source": [
    "print('Число количество строк с неправлиьным годом регитсрации автомобиля,\\n к общему количеству строк в датасете:\\n',data.query('registration_year >2019').shape[0]/data.shape[0])"
   ]
  },
  {
   "cell_type": "code",
   "execution_count": 27,
   "metadata": {},
   "outputs": [],
   "source": [
    "data.loc[(data['registration_year']>2016)|(data['registration_year']<1910),'registration_year']=data['registration_year'].median()\n"
   ]
  },
  {
   "cell_type": "code",
   "execution_count": 28,
   "metadata": {},
   "outputs": [
    {
     "data": {
      "text/html": [
       "<div>\n",
       "<style scoped>\n",
       "    .dataframe tbody tr th:only-of-type {\n",
       "        vertical-align: middle;\n",
       "    }\n",
       "\n",
       "    .dataframe tbody tr th {\n",
       "        vertical-align: top;\n",
       "    }\n",
       "\n",
       "    .dataframe thead th {\n",
       "        text-align: right;\n",
       "    }\n",
       "</style>\n",
       "<table border=\"1\" class=\"dataframe\">\n",
       "  <thead>\n",
       "    <tr style=\"text-align: right;\">\n",
       "      <th></th>\n",
       "      <th>price</th>\n",
       "      <th>registration_year</th>\n",
       "      <th>power</th>\n",
       "      <th>kilometer</th>\n",
       "      <th>registration_month</th>\n",
       "      <th>postal_code</th>\n",
       "    </tr>\n",
       "  </thead>\n",
       "  <tbody>\n",
       "    <tr>\n",
       "      <th>count</th>\n",
       "      <td>354369.000000</td>\n",
       "      <td>354369.000000</td>\n",
       "      <td>354369.000000</td>\n",
       "      <td>354369.000000</td>\n",
       "      <td>354369.000000</td>\n",
       "      <td>354369.000000</td>\n",
       "    </tr>\n",
       "    <tr>\n",
       "      <th>mean</th>\n",
       "      <td>4416.656776</td>\n",
       "      <td>2002.503549</td>\n",
       "      <td>116.449074</td>\n",
       "      <td>128211.172535</td>\n",
       "      <td>5.714645</td>\n",
       "      <td>50508.689087</td>\n",
       "    </tr>\n",
       "    <tr>\n",
       "      <th>std</th>\n",
       "      <td>4514.158514</td>\n",
       "      <td>6.944369</td>\n",
       "      <td>52.320166</td>\n",
       "      <td>37905.341530</td>\n",
       "      <td>3.726421</td>\n",
       "      <td>25783.096248</td>\n",
       "    </tr>\n",
       "    <tr>\n",
       "      <th>min</th>\n",
       "      <td>0.000000</td>\n",
       "      <td>1910.000000</td>\n",
       "      <td>20.000000</td>\n",
       "      <td>5000.000000</td>\n",
       "      <td>0.000000</td>\n",
       "      <td>1067.000000</td>\n",
       "    </tr>\n",
       "    <tr>\n",
       "      <th>25%</th>\n",
       "      <td>1050.000000</td>\n",
       "      <td>1999.000000</td>\n",
       "      <td>75.000000</td>\n",
       "      <td>125000.000000</td>\n",
       "      <td>3.000000</td>\n",
       "      <td>30165.000000</td>\n",
       "    </tr>\n",
       "    <tr>\n",
       "      <th>50%</th>\n",
       "      <td>2700.000000</td>\n",
       "      <td>2003.000000</td>\n",
       "      <td>110.000000</td>\n",
       "      <td>150000.000000</td>\n",
       "      <td>6.000000</td>\n",
       "      <td>49413.000000</td>\n",
       "    </tr>\n",
       "    <tr>\n",
       "      <th>75%</th>\n",
       "      <td>6400.000000</td>\n",
       "      <td>2007.000000</td>\n",
       "      <td>143.000000</td>\n",
       "      <td>150000.000000</td>\n",
       "      <td>9.000000</td>\n",
       "      <td>71083.000000</td>\n",
       "    </tr>\n",
       "    <tr>\n",
       "      <th>max</th>\n",
       "      <td>20000.000000</td>\n",
       "      <td>2016.000000</td>\n",
       "      <td>500.000000</td>\n",
       "      <td>150000.000000</td>\n",
       "      <td>12.000000</td>\n",
       "      <td>99998.000000</td>\n",
       "    </tr>\n",
       "  </tbody>\n",
       "</table>\n",
       "</div>"
      ],
      "text/plain": [
       "               price  registration_year          power      kilometer  \\\n",
       "count  354369.000000      354369.000000  354369.000000  354369.000000   \n",
       "mean     4416.656776        2002.503549     116.449074  128211.172535   \n",
       "std      4514.158514           6.944369      52.320166   37905.341530   \n",
       "min         0.000000        1910.000000      20.000000    5000.000000   \n",
       "25%      1050.000000        1999.000000      75.000000  125000.000000   \n",
       "50%      2700.000000        2003.000000     110.000000  150000.000000   \n",
       "75%      6400.000000        2007.000000     143.000000  150000.000000   \n",
       "max     20000.000000        2016.000000     500.000000  150000.000000   \n",
       "\n",
       "       registration_month    postal_code  \n",
       "count       354369.000000  354369.000000  \n",
       "mean             5.714645   50508.689087  \n",
       "std              3.726421   25783.096248  \n",
       "min              0.000000    1067.000000  \n",
       "25%              3.000000   30165.000000  \n",
       "50%              6.000000   49413.000000  \n",
       "75%              9.000000   71083.000000  \n",
       "max             12.000000   99998.000000  "
      ]
     },
     "execution_count": 28,
     "metadata": {},
     "output_type": "execute_result"
    }
   ],
   "source": [
    "data.describe()"
   ]
  },
  {
   "cell_type": "code",
   "execution_count": 29,
   "metadata": {},
   "outputs": [
    {
     "data": {
      "text/plain": [
       "{0, 1, 2, 3, 4, 5, 6, 7, 8, 9, 10, 11, 12}"
      ]
     },
     "execution_count": 29,
     "metadata": {},
     "output_type": "execute_result"
    }
   ],
   "source": [
    "#Посмотрим что сделать с неправильным месяцем регистрации. Изучим какие вообще есть значений\n",
    "set(data['registration_month'])"
   ]
  },
  {
   "cell_type": "markdown",
   "metadata": {},
   "source": [
    "Есть все значения от 1 до 12, 0 лишний получается"
   ]
  },
  {
   "cell_type": "code",
   "execution_count": 30,
   "metadata": {
    "scrolled": true
   },
   "outputs": [
    {
     "data": {
      "text/html": [
       "<div>\n",
       "<style scoped>\n",
       "    .dataframe tbody tr th:only-of-type {\n",
       "        vertical-align: middle;\n",
       "    }\n",
       "\n",
       "    .dataframe tbody tr th {\n",
       "        vertical-align: top;\n",
       "    }\n",
       "\n",
       "    .dataframe thead th {\n",
       "        text-align: right;\n",
       "    }\n",
       "</style>\n",
       "<table border=\"1\" class=\"dataframe\">\n",
       "  <thead>\n",
       "    <tr style=\"text-align: right;\">\n",
       "      <th></th>\n",
       "      <th>registration_month</th>\n",
       "      <th>date_crawled</th>\n",
       "      <th>date_created</th>\n",
       "      <th>last_seen</th>\n",
       "    </tr>\n",
       "  </thead>\n",
       "  <tbody>\n",
       "    <tr>\n",
       "      <th>0</th>\n",
       "      <td>0</td>\n",
       "      <td>2016-03-24 11:52:17</td>\n",
       "      <td>2016-03-24</td>\n",
       "      <td>2016-04-07 03:16:57</td>\n",
       "    </tr>\n",
       "    <tr>\n",
       "      <th>1</th>\n",
       "      <td>5</td>\n",
       "      <td>2016-03-24 10:58:45</td>\n",
       "      <td>2016-03-24</td>\n",
       "      <td>2016-04-07 01:46:50</td>\n",
       "    </tr>\n",
       "    <tr>\n",
       "      <th>2</th>\n",
       "      <td>8</td>\n",
       "      <td>2016-03-14 12:52:21</td>\n",
       "      <td>2016-03-14</td>\n",
       "      <td>2016-04-05 12:47:46</td>\n",
       "    </tr>\n",
       "    <tr>\n",
       "      <th>3</th>\n",
       "      <td>6</td>\n",
       "      <td>2016-03-17 16:54:04</td>\n",
       "      <td>2016-03-17</td>\n",
       "      <td>2016-03-17 17:40:17</td>\n",
       "    </tr>\n",
       "    <tr>\n",
       "      <th>4</th>\n",
       "      <td>7</td>\n",
       "      <td>2016-03-31 17:25:20</td>\n",
       "      <td>2016-03-31</td>\n",
       "      <td>2016-04-06 10:17:21</td>\n",
       "    </tr>\n",
       "    <tr>\n",
       "      <th>...</th>\n",
       "      <td>...</td>\n",
       "      <td>...</td>\n",
       "      <td>...</td>\n",
       "      <td>...</td>\n",
       "    </tr>\n",
       "    <tr>\n",
       "      <th>354364</th>\n",
       "      <td>7</td>\n",
       "      <td>2016-03-21 09:50:58</td>\n",
       "      <td>2016-03-21</td>\n",
       "      <td>2016-03-21 10:42:49</td>\n",
       "    </tr>\n",
       "    <tr>\n",
       "      <th>354365</th>\n",
       "      <td>1</td>\n",
       "      <td>2016-03-14 17:48:27</td>\n",
       "      <td>2016-03-14</td>\n",
       "      <td>2016-04-06 00:46:52</td>\n",
       "    </tr>\n",
       "    <tr>\n",
       "      <th>354366</th>\n",
       "      <td>3</td>\n",
       "      <td>2016-03-05 19:56:21</td>\n",
       "      <td>2016-03-05</td>\n",
       "      <td>2016-03-11 18:17:12</td>\n",
       "    </tr>\n",
       "    <tr>\n",
       "      <th>354367</th>\n",
       "      <td>3</td>\n",
       "      <td>2016-03-19 18:57:12</td>\n",
       "      <td>2016-03-19</td>\n",
       "      <td>2016-04-07 07:15:26</td>\n",
       "    </tr>\n",
       "    <tr>\n",
       "      <th>354368</th>\n",
       "      <td>6</td>\n",
       "      <td>2016-03-20 19:41:08</td>\n",
       "      <td>2016-03-20</td>\n",
       "      <td>2016-03-24 12:45:21</td>\n",
       "    </tr>\n",
       "  </tbody>\n",
       "</table>\n",
       "<p>354369 rows × 4 columns</p>\n",
       "</div>"
      ],
      "text/plain": [
       "        registration_month        date_crawled date_created  \\\n",
       "0                        0 2016-03-24 11:52:17   2016-03-24   \n",
       "1                        5 2016-03-24 10:58:45   2016-03-24   \n",
       "2                        8 2016-03-14 12:52:21   2016-03-14   \n",
       "3                        6 2016-03-17 16:54:04   2016-03-17   \n",
       "4                        7 2016-03-31 17:25:20   2016-03-31   \n",
       "...                    ...                 ...          ...   \n",
       "354364                   7 2016-03-21 09:50:58   2016-03-21   \n",
       "354365                   1 2016-03-14 17:48:27   2016-03-14   \n",
       "354366                   3 2016-03-05 19:56:21   2016-03-05   \n",
       "354367                   3 2016-03-19 18:57:12   2016-03-19   \n",
       "354368                   6 2016-03-20 19:41:08   2016-03-20   \n",
       "\n",
       "                 last_seen  \n",
       "0      2016-04-07 03:16:57  \n",
       "1      2016-04-07 01:46:50  \n",
       "2      2016-04-05 12:47:46  \n",
       "3      2016-03-17 17:40:17  \n",
       "4      2016-04-06 10:17:21  \n",
       "...                    ...  \n",
       "354364 2016-03-21 10:42:49  \n",
       "354365 2016-04-06 00:46:52  \n",
       "354366 2016-03-11 18:17:12  \n",
       "354367 2016-04-07 07:15:26  \n",
       "354368 2016-03-24 12:45:21  \n",
       "\n",
       "[354369 rows x 4 columns]"
      ]
     },
     "execution_count": 30,
     "metadata": {},
     "output_type": "execute_result"
    }
   ],
   "source": [
    "data[['registration_month','date_crawled','date_created','last_seen']]"
   ]
  },
  {
   "cell_type": "markdown",
   "metadata": {},
   "source": [
    "<b><i>Связать месяц регистрации с другими данными мы не можем. Будем считать что 0 это значение заглушка.</b></i>"
   ]
  },
  {
   "cell_type": "markdown",
   "metadata": {},
   "source": [
    "<b><i>Посмотрим на зависимость цен автомобилей в зависимости от года регистрации</b></i>"
   ]
  },
  {
   "cell_type": "code",
   "execution_count": 31,
   "metadata": {
    "scrolled": false
   },
   "outputs": [],
   "source": [
    "price_year=data.pivot_table(index='registration_year', values = 'price', aggfunc = 'median')\n",
    "#import plotly.graph_objs as go\n",
    "#№fig = go.Figure()\n",
    "#fig.add_trace(go.Scatter(x=price_year.index, y=price_year['price']))\n",
    "#fig.show()"
   ]
  },
  {
   "cell_type": "code",
   "execution_count": 32,
   "metadata": {},
   "outputs": [
    {
     "data": {
      "image/png": "[encoded data removed]",
      "text/plain": [
       "<Figure size 1296x648 with 1 Axes>"
      ]
     },
     "metadata": {
      "needs_background": "light"
     },
     "output_type": "display_data"
    }
   ],
   "source": [
    "price_year.plot(grid=True, figsize = (18,9))\n",
    "plt.title('Медианная цена в зависимости от года регистрации автомобиля')\n",
    "plt.show()"
   ]
  },
  {
   "cell_type": "markdown",
   "metadata": {},
   "source": [
    "<b><i>1.Есть нулевые значения, аномалии которые надо выкинуть.<br>2.Скорей всего до 1980 года мало данных, поэтому график ведет себя странно. <br>3.Чем выше год регистрации автомобиля, тем выше цена, что логично</b></i>"
   ]
  },
  {
   "cell_type": "code",
   "execution_count": 33,
   "metadata": {
    "scrolled": false
   },
   "outputs": [
    {
     "data": {
      "image/png": "[encoded data removed]",
      "text/plain": [
       "<Figure size 1296x648 with 1 Axes>"
      ]
     },
     "metadata": {
      "needs_background": "light"
     },
     "output_type": "display_data"
    }
   ],
   "source": [
    "data['registration_year'].hist(figsize=(18,9), color='orange',bins=100)\n",
    "plt.title('Год регистрации автомобиля')\n",
    "plt.show()"
   ]
  },
  {
   "cell_type": "markdown",
   "metadata": {},
   "source": [
    "<b><i>Видим, что до автомобилей годом регистрации старше 1980 года мало</b></i>"
   ]
  },
  {
   "cell_type": "code",
   "execution_count": 34,
   "metadata": {},
   "outputs": [
    {
     "data": {
      "text/html": [
       "<div>\n",
       "<style scoped>\n",
       "    .dataframe tbody tr th:only-of-type {\n",
       "        vertical-align: middle;\n",
       "    }\n",
       "\n",
       "    .dataframe tbody tr th {\n",
       "        vertical-align: top;\n",
       "    }\n",
       "\n",
       "    .dataframe thead th {\n",
       "        text-align: right;\n",
       "    }\n",
       "</style>\n",
       "<table border=\"1\" class=\"dataframe\">\n",
       "  <thead>\n",
       "    <tr style=\"text-align: right;\">\n",
       "      <th></th>\n",
       "      <th>date_crawled</th>\n",
       "      <th>price</th>\n",
       "      <th>vehicle_type</th>\n",
       "      <th>registration_year</th>\n",
       "      <th>gearbox</th>\n",
       "      <th>power</th>\n",
       "      <th>model</th>\n",
       "      <th>kilometer</th>\n",
       "      <th>registration_month</th>\n",
       "      <th>fuel_type</th>\n",
       "      <th>brand</th>\n",
       "      <th>not_repaired</th>\n",
       "      <th>date_created</th>\n",
       "      <th>postal_code</th>\n",
       "      <th>last_seen</th>\n",
       "    </tr>\n",
       "  </thead>\n",
       "  <tbody>\n",
       "    <tr>\n",
       "      <th>7</th>\n",
       "      <td>2016-03-21 18:54:38</td>\n",
       "      <td>0</td>\n",
       "      <td>sedan</td>\n",
       "      <td>1980</td>\n",
       "      <td>manual</td>\n",
       "      <td>50</td>\n",
       "      <td>other</td>\n",
       "      <td>40000</td>\n",
       "      <td>7</td>\n",
       "      <td>petrol</td>\n",
       "      <td>volkswagen</td>\n",
       "      <td>no</td>\n",
       "      <td>2016-03-21</td>\n",
       "      <td>19348</td>\n",
       "      <td>2016-03-25 16:47:58</td>\n",
       "    </tr>\n",
       "    <tr>\n",
       "      <th>40</th>\n",
       "      <td>2016-03-26 22:06:17</td>\n",
       "      <td>0</td>\n",
       "      <td>unknown_vehicle_type</td>\n",
       "      <td>1990</td>\n",
       "      <td>unknown_gearbox</td>\n",
       "      <td>61</td>\n",
       "      <td>corsa</td>\n",
       "      <td>150000</td>\n",
       "      <td>1</td>\n",
       "      <td>petrol</td>\n",
       "      <td>opel</td>\n",
       "      <td>unknown_repairment</td>\n",
       "      <td>2016-03-26</td>\n",
       "      <td>56412</td>\n",
       "      <td>2016-03-27 17:43:34</td>\n",
       "    </tr>\n",
       "    <tr>\n",
       "      <th>111</th>\n",
       "      <td>2016-03-19 18:40:12</td>\n",
       "      <td>0</td>\n",
       "      <td>unknown_vehicle_type</td>\n",
       "      <td>2003</td>\n",
       "      <td>manual</td>\n",
       "      <td>61</td>\n",
       "      <td>golf</td>\n",
       "      <td>5000</td>\n",
       "      <td>12</td>\n",
       "      <td>petrol</td>\n",
       "      <td>volkswagen</td>\n",
       "      <td>unknown_repairment</td>\n",
       "      <td>2016-03-19</td>\n",
       "      <td>21698</td>\n",
       "      <td>2016-04-01 08:47:05</td>\n",
       "    </tr>\n",
       "    <tr>\n",
       "      <th>115</th>\n",
       "      <td>2016-03-20 18:53:27</td>\n",
       "      <td>0</td>\n",
       "      <td>small</td>\n",
       "      <td>1999</td>\n",
       "      <td>unknown_gearbox</td>\n",
       "      <td>64</td>\n",
       "      <td>volkswagen_unknown_model</td>\n",
       "      <td>5000</td>\n",
       "      <td>0</td>\n",
       "      <td>petrol</td>\n",
       "      <td>volkswagen</td>\n",
       "      <td>unknown_repairment</td>\n",
       "      <td>2016-03-20</td>\n",
       "      <td>37520</td>\n",
       "      <td>2016-04-07 02:45:22</td>\n",
       "    </tr>\n",
       "    <tr>\n",
       "      <th>152</th>\n",
       "      <td>2016-03-11 18:55:53</td>\n",
       "      <td>0</td>\n",
       "      <td>bus</td>\n",
       "      <td>2004</td>\n",
       "      <td>manual</td>\n",
       "      <td>101</td>\n",
       "      <td>meriva</td>\n",
       "      <td>150000</td>\n",
       "      <td>10</td>\n",
       "      <td>lpg</td>\n",
       "      <td>opel</td>\n",
       "      <td>yes</td>\n",
       "      <td>2016-03-11</td>\n",
       "      <td>27432</td>\n",
       "      <td>2016-03-12 23:47:10</td>\n",
       "    </tr>\n",
       "  </tbody>\n",
       "</table>\n",
       "</div>"
      ],
      "text/plain": [
       "           date_crawled  price          vehicle_type  registration_year  \\\n",
       "7   2016-03-21 18:54:38      0                 sedan               1980   \n",
       "40  2016-03-26 22:06:17      0  unknown_vehicle_type               1990   \n",
       "111 2016-03-19 18:40:12      0  unknown_vehicle_type               2003   \n",
       "115 2016-03-20 18:53:27      0                 small               1999   \n",
       "152 2016-03-11 18:55:53      0                   bus               2004   \n",
       "\n",
       "             gearbox  power                     model  kilometer  \\\n",
       "7             manual     50                     other      40000   \n",
       "40   unknown_gearbox     61                     corsa     150000   \n",
       "111           manual     61                      golf       5000   \n",
       "115  unknown_gearbox     64  volkswagen_unknown_model       5000   \n",
       "152           manual    101                    meriva     150000   \n",
       "\n",
       "     registration_month fuel_type       brand        not_repaired  \\\n",
       "7                     7    petrol  volkswagen                  no   \n",
       "40                    1    petrol        opel  unknown_repairment   \n",
       "111                  12    petrol  volkswagen  unknown_repairment   \n",
       "115                   0    petrol  volkswagen  unknown_repairment   \n",
       "152                  10       lpg        opel                 yes   \n",
       "\n",
       "    date_created  postal_code           last_seen  \n",
       "7     2016-03-21        19348 2016-03-25 16:47:58  \n",
       "40    2016-03-26        56412 2016-03-27 17:43:34  \n",
       "111   2016-03-19        21698 2016-04-01 08:47:05  \n",
       "115   2016-03-20        37520 2016-04-07 02:45:22  \n",
       "152   2016-03-11        27432 2016-03-12 23:47:10  "
      ]
     },
     "execution_count": 34,
     "metadata": {},
     "output_type": "execute_result"
    }
   ],
   "source": [
    "data.loc[data['price']==0].head()"
   ]
  },
  {
   "cell_type": "code",
   "execution_count": 35,
   "metadata": {
    "scrolled": false
   },
   "outputs": [
    {
     "data": {
      "text/plain": [
       "Text(0.5, 1.0, 'Диаграмма размаха цены автомобиля')"
      ]
     },
     "execution_count": 35,
     "metadata": {},
     "output_type": "execute_result"
    },
    {
     "data": {
      "image/png": "[encoded data removed]",
      "text/plain": [
       "<Figure size 1152x576 with 1 Axes>"
      ]
     },
     "metadata": {
      "needs_background": "light"
     },
     "output_type": "display_data"
    }
   ],
   "source": [
    "#Обработаем аномальные значения колонки power\n",
    "data.boxplot(column='price',figsize = (16,8))\n",
    "plt.title('Диаграмма размаха цены автомобиля')"
   ]
  },
  {
   "cell_type": "code",
   "execution_count": 36,
   "metadata": {
    "scrolled": true
   },
   "outputs": [
    {
     "data": {
      "image/png": "[encoded data removed]",
      "text/plain": [
       "<Figure size 1296x648 with 1 Axes>"
      ]
     },
     "metadata": {
      "needs_background": "light"
     },
     "output_type": "display_data"
    }
   ],
   "source": [
    "data['price'].hist(figsize=(18,9), color='black',bins=100)\n",
    "plt.title('Гистограмма цены автомобиля')\n",
    "plt.show()"
   ]
  },
  {
   "cell_type": "markdown",
   "metadata": {},
   "source": [
    "<b><i>1.Гистограмма цены имеет обычный вид для ценовых предложений - чем выше цена, тем ниже число предложений.<br>2.Много значений цены \"0\", что нужно исправить.</b></i>"
   ]
  },
  {
   "cell_type": "code",
   "execution_count": 37,
   "metadata": {
    "scrolled": true
   },
   "outputs": [
    {
     "data": {
      "text/html": [
       "<div>\n",
       "<style scoped>\n",
       "    .dataframe tbody tr th:only-of-type {\n",
       "        vertical-align: middle;\n",
       "    }\n",
       "\n",
       "    .dataframe tbody tr th {\n",
       "        vertical-align: top;\n",
       "    }\n",
       "\n",
       "    .dataframe thead th {\n",
       "        text-align: right;\n",
       "    }\n",
       "</style>\n",
       "<table border=\"1\" class=\"dataframe\">\n",
       "  <thead>\n",
       "    <tr style=\"text-align: right;\">\n",
       "      <th></th>\n",
       "      <th>price</th>\n",
       "    </tr>\n",
       "    <tr>\n",
       "      <th>model</th>\n",
       "      <th></th>\n",
       "    </tr>\n",
       "  </thead>\n",
       "  <tbody>\n",
       "    <tr>\n",
       "      <th>toyota_unknown_model</th>\n",
       "      <td>1999.0</td>\n",
       "    </tr>\n",
       "    <tr>\n",
       "      <th>calibra</th>\n",
       "      <td>1200.0</td>\n",
       "    </tr>\n",
       "    <tr>\n",
       "      <th>freelander</th>\n",
       "      <td>3999.0</td>\n",
       "    </tr>\n",
       "    <tr>\n",
       "      <th>almera</th>\n",
       "      <td>1300.0</td>\n",
       "    </tr>\n",
       "    <tr>\n",
       "      <th>omega</th>\n",
       "      <td>850.0</td>\n",
       "    </tr>\n",
       "    <tr>\n",
       "      <th>qashqai</th>\n",
       "      <td>12500.0</td>\n",
       "    </tr>\n",
       "    <tr>\n",
       "      <th>other</th>\n",
       "      <td>2550.0</td>\n",
       "    </tr>\n",
       "    <tr>\n",
       "      <th>e_klasse</th>\n",
       "      <td>4400.0</td>\n",
       "    </tr>\n",
       "    <tr>\n",
       "      <th>berlingo</th>\n",
       "      <td>2150.0</td>\n",
       "    </tr>\n",
       "    <tr>\n",
       "      <th>primera</th>\n",
       "      <td>1250.0</td>\n",
       "    </tr>\n",
       "  </tbody>\n",
       "</table>\n",
       "</div>"
      ],
      "text/plain": [
       "                        price\n",
       "model                        \n",
       "toyota_unknown_model   1999.0\n",
       "calibra                1200.0\n",
       "freelander             3999.0\n",
       "almera                 1300.0\n",
       "omega                   850.0\n",
       "qashqai               12500.0\n",
       "other                  2550.0\n",
       "e_klasse               4400.0\n",
       "berlingo               2150.0\n",
       "primera                1250.0"
      ]
     },
     "metadata": {},
     "output_type": "display_data"
    }
   ],
   "source": [
    "data_price=data.groupby('model')[['price']].median()\n",
    "display(data_price.sample(10))"
   ]
  },
  {
   "cell_type": "code",
   "execution_count": 38,
   "metadata": {},
   "outputs": [
    {
     "data": {
      "text/plain": [
       "12945.0"
      ]
     },
     "execution_count": 38,
     "metadata": {},
     "output_type": "execute_result"
    }
   ],
   "source": [
    "def find_price(model):\n",
    "    \"Берет тип модели автомобиля и возвращает медианную цену\"\n",
    "    return data_price['price'][model]\n",
    "#Тест\n",
    "find_price('yeti')"
   ]
  },
  {
   "cell_type": "code",
   "execution_count": 39,
   "metadata": {},
   "outputs": [],
   "source": [
    "data.loc[(data['price']<50),'price']=data.loc[(data['price']<50),'model'].apply(find_price)"
   ]
  },
  {
   "cell_type": "code",
   "execution_count": 40,
   "metadata": {
    "scrolled": false
   },
   "outputs": [
    {
     "data": {
      "text/html": [
       "<div>\n",
       "<style scoped>\n",
       "    .dataframe tbody tr th:only-of-type {\n",
       "        vertical-align: middle;\n",
       "    }\n",
       "\n",
       "    .dataframe tbody tr th {\n",
       "        vertical-align: top;\n",
       "    }\n",
       "\n",
       "    .dataframe thead th {\n",
       "        text-align: right;\n",
       "    }\n",
       "</style>\n",
       "<table border=\"1\" class=\"dataframe\">\n",
       "  <thead>\n",
       "    <tr style=\"text-align: right;\">\n",
       "      <th></th>\n",
       "      <th>price</th>\n",
       "      <th>registration_year</th>\n",
       "      <th>power</th>\n",
       "      <th>kilometer</th>\n",
       "      <th>registration_month</th>\n",
       "      <th>postal_code</th>\n",
       "    </tr>\n",
       "  </thead>\n",
       "  <tbody>\n",
       "    <tr>\n",
       "      <th>count</th>\n",
       "      <td>354369.000000</td>\n",
       "      <td>354369.000000</td>\n",
       "      <td>354369.000000</td>\n",
       "      <td>354369.000000</td>\n",
       "      <td>354369.000000</td>\n",
       "      <td>354369.000000</td>\n",
       "    </tr>\n",
       "    <tr>\n",
       "      <th>mean</th>\n",
       "      <td>4510.071454</td>\n",
       "      <td>2002.503549</td>\n",
       "      <td>116.449074</td>\n",
       "      <td>128211.172535</td>\n",
       "      <td>5.714645</td>\n",
       "      <td>50508.689087</td>\n",
       "    </tr>\n",
       "    <tr>\n",
       "      <th>std</th>\n",
       "      <td>4464.544257</td>\n",
       "      <td>6.944369</td>\n",
       "      <td>52.320166</td>\n",
       "      <td>37905.341530</td>\n",
       "      <td>3.726421</td>\n",
       "      <td>25783.096248</td>\n",
       "    </tr>\n",
       "    <tr>\n",
       "      <th>min</th>\n",
       "      <td>50.000000</td>\n",
       "      <td>1910.000000</td>\n",
       "      <td>20.000000</td>\n",
       "      <td>5000.000000</td>\n",
       "      <td>0.000000</td>\n",
       "      <td>1067.000000</td>\n",
       "    </tr>\n",
       "    <tr>\n",
       "      <th>25%</th>\n",
       "      <td>1200.000000</td>\n",
       "      <td>1999.000000</td>\n",
       "      <td>75.000000</td>\n",
       "      <td>125000.000000</td>\n",
       "      <td>3.000000</td>\n",
       "      <td>30165.000000</td>\n",
       "    </tr>\n",
       "    <tr>\n",
       "      <th>50%</th>\n",
       "      <td>2840.000000</td>\n",
       "      <td>2003.000000</td>\n",
       "      <td>110.000000</td>\n",
       "      <td>150000.000000</td>\n",
       "      <td>6.000000</td>\n",
       "      <td>49413.000000</td>\n",
       "    </tr>\n",
       "    <tr>\n",
       "      <th>75%</th>\n",
       "      <td>6450.000000</td>\n",
       "      <td>2007.000000</td>\n",
       "      <td>143.000000</td>\n",
       "      <td>150000.000000</td>\n",
       "      <td>9.000000</td>\n",
       "      <td>71083.000000</td>\n",
       "    </tr>\n",
       "    <tr>\n",
       "      <th>max</th>\n",
       "      <td>20000.000000</td>\n",
       "      <td>2016.000000</td>\n",
       "      <td>500.000000</td>\n",
       "      <td>150000.000000</td>\n",
       "      <td>12.000000</td>\n",
       "      <td>99998.000000</td>\n",
       "    </tr>\n",
       "  </tbody>\n",
       "</table>\n",
       "</div>"
      ],
      "text/plain": [
       "               price  registration_year          power      kilometer  \\\n",
       "count  354369.000000      354369.000000  354369.000000  354369.000000   \n",
       "mean     4510.071454        2002.503549     116.449074  128211.172535   \n",
       "std      4464.544257           6.944369      52.320166   37905.341530   \n",
       "min        50.000000        1910.000000      20.000000    5000.000000   \n",
       "25%      1200.000000        1999.000000      75.000000  125000.000000   \n",
       "50%      2840.000000        2003.000000     110.000000  150000.000000   \n",
       "75%      6450.000000        2007.000000     143.000000  150000.000000   \n",
       "max     20000.000000        2016.000000     500.000000  150000.000000   \n",
       "\n",
       "       registration_month    postal_code  \n",
       "count       354369.000000  354369.000000  \n",
       "mean             5.714645   50508.689087  \n",
       "std              3.726421   25783.096248  \n",
       "min              0.000000    1067.000000  \n",
       "25%              3.000000   30165.000000  \n",
       "50%              6.000000   49413.000000  \n",
       "75%              9.000000   71083.000000  \n",
       "max             12.000000   99998.000000  "
      ]
     },
     "execution_count": 40,
     "metadata": {},
     "output_type": "execute_result"
    }
   ],
   "source": [
    "data.describe()"
   ]
  },
  {
   "cell_type": "markdown",
   "metadata": {},
   "source": [
    "<b><i>Столбец с выбросами по цене обработан</b></i>"
   ]
  },
  {
   "cell_type": "markdown",
   "metadata": {},
   "source": [
    "#### Проверим наличие дубликатов"
   ]
  },
  {
   "cell_type": "code",
   "execution_count": 41,
   "metadata": {},
   "outputs": [
    {
     "data": {
      "text/plain": [
       "4"
      ]
     },
     "execution_count": 41,
     "metadata": {},
     "output_type": "execute_result"
    }
   ],
   "source": [
    "data.duplicated().sum()"
   ]
  },
  {
   "cell_type": "code",
   "execution_count": 42,
   "metadata": {},
   "outputs": [
    {
     "data": {
      "text/plain": [
       "0"
      ]
     },
     "execution_count": 42,
     "metadata": {},
     "output_type": "execute_result"
    }
   ],
   "source": [
    "#Удаляием полные дубликаты\n",
    "data.drop_duplicates(inplace=True)\n",
    "data.duplicated().sum()"
   ]
  },
  {
   "cell_type": "markdown",
   "metadata": {},
   "source": [
    "## Обучение моделей"
   ]
  },
  {
   "cell_type": "markdown",
   "metadata": {},
   "source": [
    "#### Подготовка данных"
   ]
  },
  {
   "cell_type": "code",
   "execution_count": 43,
   "metadata": {},
   "outputs": [
    {
     "name": "stdout",
     "output_type": "stream",
     "text": [
      "Размер обучающей выборки: (265773, 352)\n",
      "Размер валидационной выборки: (88592, 352)\n"
     ]
    }
   ],
   "source": [
    "data_ohe = pd.get_dummies(data.drop(['price','date_crawled','date_created','last_seen'], axis=1), drop_first=True)\n",
    "target = data['price']\n",
    "features=data_ohe\n",
    "features_train, features_valid, target_train, target_valid = train_test_split(\n",
    "features, target, test_size=0.25, random_state=12345)\n",
    "print('Размер обучающей выборки:', features_train.shape)\n",
    "print('Размер валидационной выборки:', features_valid.shape)"
   ]
  },
  {
   "cell_type": "code",
   "execution_count": 44,
   "metadata": {},
   "outputs": [],
   "source": [
    "scoring_metric='neg_mean_squared_error'"
   ]
  },
  {
   "cell_type": "markdown",
   "metadata": {},
   "source": [
    "#### Линейная регрессия"
   ]
  },
  {
   "cell_type": "code",
   "execution_count": 45,
   "metadata": {},
   "outputs": [
    {
     "name": "stdout",
     "output_type": "stream",
     "text": [
      "Wall time: 4.32 s\n"
     ]
    },
    {
     "data": {
      "text/plain": [
       "LinearRegression()"
      ]
     },
     "execution_count": 45,
     "metadata": {},
     "output_type": "execute_result"
    }
   ],
   "source": [
    "%%time\n",
    "model_lin_regr = LinearRegression()\n",
    "model_lin_regr.fit(features_train, target_train)\n"
   ]
  },
  {
   "cell_type": "code",
   "execution_count": 46,
   "metadata": {},
   "outputs": [
    {
     "name": "stdout",
     "output_type": "stream",
     "text": [
      "RMSE for Linear_Regression =  2666.7496328102393\n",
      "Wall time: 189 ms\n"
     ]
    }
   ],
   "source": [
    "%%time\n",
    "predictions_valid_lin_regr = model_lin_regr.predict(features_valid)\n",
    "print('RMSE for Linear_Regression = ', mean_squared_error(target_valid, predictions_valid_lin_regr)**0.5 )"
   ]
  },
  {
   "cell_type": "markdown",
   "metadata": {},
   "source": [
    "#### Дерево решений"
   ]
  },
  {
   "cell_type": "code",
   "execution_count": 47,
   "metadata": {
    "scrolled": false
   },
   "outputs": [
    {
     "name": "stdout",
     "output_type": "stream",
     "text": [
      "Лучшие параметры:  {'max_depth': 14}\n",
      "Wall time: 1min 39s\n"
     ]
    }
   ],
   "source": [
    "%%time\n",
    "model_dtrgr = DecisionTreeRegressor(random_state=12345)\n",
    "parameters = {'max_depth':range(1,15,1)}\n",
    "rgr_rand_dec_tree=RandomizedSearchCV(model_dtrgr, parameters, cv=5, random_state=12345,scoring=scoring_metric,n_jobs=-1)\n",
    "rgr_rand_dec_tree.fit(features_train, target_train)\n",
    "print('Лучшие параметры: ',rgr_rand_dec_tree.best_params_)\n"
   ]
  },
  {
   "cell_type": "code",
   "execution_count": 48,
   "metadata": {},
   "outputs": [
    {
     "name": "stdout",
     "output_type": "stream",
     "text": [
      "Wall time: 9.12 s\n"
     ]
    },
    {
     "data": {
      "text/plain": [
       "DecisionTreeRegressor(max_depth=14, random_state=12345)"
      ]
     },
     "execution_count": 48,
     "metadata": {},
     "output_type": "execute_result"
    }
   ],
   "source": [
    "%%time\n",
    "model_dtrgr = DecisionTreeRegressor(random_state=12345,max_depth=14)\n",
    "model_dtrgr.fit(features_train,target_train)\n"
   ]
  },
  {
   "cell_type": "code",
   "execution_count": 49,
   "metadata": {},
   "outputs": [
    {
     "name": "stdout",
     "output_type": "stream",
     "text": [
      "RMSE for  DecisionTreeRegressor =  1963.9207101504542\n",
      "Wall time: 152 ms\n"
     ]
    }
   ],
   "source": [
    "%%time\n",
    "predictions_valid_dtrgr = model_dtrgr.predict(features_valid)\n",
    "print('RMSE for  DecisionTreeRegressor = ', mean_squared_error(target_valid, predictions_valid_dtrgr)**0.5 )"
   ]
  },
  {
   "cell_type": "markdown",
   "metadata": {},
   "source": [
    "#### Градиентный бустинг"
   ]
  },
  {
   "cell_type": "code",
   "execution_count": 50,
   "metadata": {},
   "outputs": [],
   "source": [
    "#Преобразуем параметры для градиентного бустинга.(без кодирования)\n",
    "target_for_grad_boost = data['price']\n",
    "features_for_grad_boost=data.drop(['price','date_crawled','date_created','last_seen'], axis=1)\n"
   ]
  },
  {
   "cell_type": "code",
   "execution_count": 51,
   "metadata": {},
   "outputs": [
    {
     "name": "stdout",
     "output_type": "stream",
     "text": [
      "<class 'pandas.core.frame.DataFrame'>\n",
      "Int64Index: 354365 entries, 0 to 354368\n",
      "Data columns (total 6 columns):\n",
      " #   Column        Non-Null Count   Dtype \n",
      "---  ------        --------------   ----- \n",
      " 0   vehicle_type  354365 non-null  object\n",
      " 1   gearbox       354365 non-null  object\n",
      " 2   model         354365 non-null  object\n",
      " 3   fuel_type     354365 non-null  object\n",
      " 4   brand         354365 non-null  object\n",
      " 5   not_repaired  354365 non-null  object\n",
      "dtypes: object(6)\n",
      "memory usage: 18.9+ MB\n",
      "<class 'pandas.core.frame.DataFrame'>\n",
      "Int64Index: 354365 entries, 0 to 354368\n",
      "Data columns (total 6 columns):\n",
      " #   Column        Non-Null Count   Dtype   \n",
      "---  ------        --------------   -----   \n",
      " 0   vehicle_type  354365 non-null  category\n",
      " 1   gearbox       354365 non-null  category\n",
      " 2   model         354365 non-null  category\n",
      " 3   fuel_type     354365 non-null  category\n",
      " 4   brand         354365 non-null  category\n",
      " 5   not_repaired  354365 non-null  category\n",
      "dtypes: category(6)\n",
      "memory usage: 5.1 MB\n"
     ]
    }
   ],
   "source": [
    "#Сделаем столбцы с категориальными признкаами\n",
    "categorial_columns=['vehicle_type','gearbox','model','fuel_type','brand','not_repaired']\n",
    "features_for_grad_boost[categorial_columns].info()\n",
    "features_for_grad_boost[categorial_columns]=features_for_grad_boost[categorial_columns].astype('category')\n",
    "features_for_grad_boost[categorial_columns].info()"
   ]
  },
  {
   "cell_type": "code",
   "execution_count": 52,
   "metadata": {},
   "outputs": [
    {
     "name": "stdout",
     "output_type": "stream",
     "text": [
      "Размер обучающей выборки: (265773, 11)\n",
      "Размер валидационной выборки: (88592, 11)\n"
     ]
    }
   ],
   "source": [
    "features_train_grad_boost, features_valid_grad_boost, target_train_grad_boost, target_valid_grad_boost = train_test_split(\n",
    "features_for_grad_boost, target_for_grad_boost, test_size=0.25, random_state=12345)\n",
    "print('Размер обучающей выборки:', features_train_grad_boost.shape)\n",
    "print('Размер валидационной выборки:', features_valid_grad_boost.shape)"
   ]
  },
  {
   "cell_type": "code",
   "execution_count": 53,
   "metadata": {},
   "outputs": [
    {
     "name": "stdout",
     "output_type": "stream",
     "text": [
      "Лучшие параметры:  {'num_leaves': 40, 'n_estimators': 291}\n",
      "Wall time: 28.9 s\n"
     ]
    }
   ],
   "source": [
    "%%time\n",
    "parameters = {'n_estimators':range(1,400,10), 'num_leaves':range(10,50,5)}\n",
    "rgr_rand_frst=RandomizedSearchCV(lgb.LGBMRegressor(random_state=12345), parameters, cv=5, random_state=12345,scoring=scoring_metric,n_jobs=-1)\n",
    "rgr_rand_frst.fit(features_train_grad_boost, target_train_grad_boost)\n",
    "print('Лучшие параметры: ',rgr_rand_frst.best_params_)"
   ]
  },
  {
   "cell_type": "code",
   "execution_count": 54,
   "metadata": {},
   "outputs": [
    {
     "name": "stdout",
     "output_type": "stream",
     "text": [
      "Wall time: 1.47 s\n"
     ]
    },
    {
     "data": {
      "text/plain": [
       "LGBMRegressor(n_estimators=291, num_leaves=40, random_state=12345)"
      ]
     },
     "execution_count": 54,
     "metadata": {},
     "output_type": "execute_result"
    }
   ],
   "source": [
    "%%time\n",
    "model_lgb=lgb.LGBMRegressor(random_state=12345,num_leaves= 40, n_estimators= 291)\n",
    "model_lgb.fit(features_train_grad_boost,target_train_grad_boost)"
   ]
  },
  {
   "cell_type": "code",
   "execution_count": 55,
   "metadata": {},
   "outputs": [
    {
     "name": "stdout",
     "output_type": "stream",
     "text": [
      "RMSE for LGBM =  1640.282313157563\n",
      "Wall time: 326 ms\n"
     ]
    }
   ],
   "source": [
    "%%time\n",
    "predictions_valid_lgbm=model_lgb.predict(features_valid_grad_boost)\n",
    "print('RMSE for LGBM = ', mean_squared_error(target_valid_grad_boost, predictions_valid_lgbm)**0.5 )"
   ]
  },
  {
   "cell_type": "markdown",
   "metadata": {},
   "source": [
    "#### Dummy Regressor"
   ]
  },
  {
   "cell_type": "code",
   "execution_count": 56,
   "metadata": {},
   "outputs": [
    {
     "name": "stdout",
     "output_type": "stream",
     "text": [
      "Wall time: 4.99 ms\n"
     ]
    },
    {
     "data": {
      "text/plain": [
       "DummyRegressor(strategy='median')"
      ]
     },
     "execution_count": 56,
     "metadata": {},
     "output_type": "execute_result"
    }
   ],
   "source": [
    "%%time\n",
    "dummy_regressor = DummyRegressor(strategy=\"median\") \n",
    "dummy_regressor.fit(features_train,target_train)"
   ]
  },
  {
   "cell_type": "code",
   "execution_count": 57,
   "metadata": {},
   "outputs": [
    {
     "name": "stdout",
     "output_type": "stream",
     "text": [
      "RMSE for Dummy Regressor =  4750.939808701946\n",
      "Wall time: 997 µs\n"
     ]
    }
   ],
   "source": [
    "%%time\n",
    "dummy_regressor_predictions=dummy_regressor.predict(features_valid)\n",
    "print('RMSE for Dummy Regressor = ', mean_squared_error(target_valid, dummy_regressor_predictions)**0.5 )"
   ]
  },
  {
   "cell_type": "markdown",
   "metadata": {},
   "source": [
    "## Анализ моделей"
   ]
  },
  {
   "attachments": {
    "image.png": {
     "image/png": "[encoded data removed]"
    }
   },
   "cell_type": "markdown",
   "metadata": {},
   "source": [
    "\n",
    "![image.png](attachment:image.png)"
   ]
  },
  {
   "cell_type": "markdown",
   "metadata": {},
   "source": [
    "<b><i>1.Лучший показатель по RMSE - у LGBM Regressor. <br>\n",
    "2.Лучший показатель по времени обучения - у Decision Tree Regressor.<br>\n",
    "3.Худший показатель по времени предсказания -LGBM Regressor. Это видимо связано с тем что модель достаточно сложная.\n",
    " </b></i>"
   ]
  }
 ],
 "metadata": {
  "ExecuteTimeLog": [
   {
    "duration": 1632,
    "start_time": "2021-11-03T12:53:54.389Z"
   },
   {
    "duration": 4,
    "start_time": "2021-11-03T12:54:14.872Z"
   },
   {
    "duration": 2993,
    "start_time": "2021-11-03T12:54:40.253Z"
   },
   {
    "duration": 2865,
    "start_time": "2021-11-03T12:54:49.041Z"
   },
   {
    "duration": 3041,
    "start_time": "2021-11-03T12:55:04.456Z"
   },
   {
    "duration": 3738,
    "start_time": "2021-11-03T12:55:11.061Z"
   },
   {
    "duration": 1147,
    "start_time": "2021-11-03T12:55:37.197Z"
   },
   {
    "duration": 1130,
    "start_time": "2021-11-03T12:55:51.662Z"
   },
   {
    "duration": 6,
    "start_time": "2021-11-03T12:56:35.221Z"
   },
   {
    "duration": 69,
    "start_time": "2021-11-03T12:56:57.805Z"
   },
   {
    "duration": 122,
    "start_time": "2021-11-03T12:57:22.348Z"
   },
   {
    "duration": 79,
    "start_time": "2021-11-03T12:57:42.211Z"
   },
   {
    "duration": 161,
    "start_time": "2021-11-03T12:57:57.986Z"
   },
   {
    "duration": 501,
    "start_time": "2021-11-03T12:58:51.752Z"
   },
   {
    "duration": 108,
    "start_time": "2021-11-03T12:59:18.782Z"
   },
   {
    "duration": 1004,
    "start_time": "2021-11-03T12:59:31.298Z"
   },
   {
    "duration": 103,
    "start_time": "2021-11-03T13:01:13.165Z"
   },
   {
    "duration": 890,
    "start_time": "2021-11-03T13:01:46.653Z"
   },
   {
    "duration": 183,
    "start_time": "2021-11-03T13:02:44.561Z"
   },
   {
    "duration": 24529,
    "start_time": "2021-11-03T13:02:48.313Z"
   },
   {
    "duration": 428,
    "start_time": "2021-11-03T13:03:30.852Z"
   },
   {
    "duration": 402,
    "start_time": "2021-11-03T13:04:22.203Z"
   },
   {
    "duration": 5,
    "start_time": "2021-11-03T13:04:30.154Z"
   },
   {
    "duration": 435,
    "start_time": "2021-11-03T13:04:48.216Z"
   },
   {
    "duration": 3795,
    "start_time": "2021-11-03T13:05:41.023Z"
   },
   {
    "duration": 396,
    "start_time": "2021-11-03T13:05:48.486Z"
   },
   {
    "duration": 1685,
    "start_time": "2021-11-03T13:05:59.115Z"
   },
   {
    "duration": 6,
    "start_time": "2021-11-03T13:06:00.803Z"
   },
   {
    "duration": 1275,
    "start_time": "2021-11-03T13:06:00.812Z"
   },
   {
    "duration": 13,
    "start_time": "2021-11-03T13:06:02.090Z"
   },
   {
    "duration": 76,
    "start_time": "2021-11-03T13:06:02.105Z"
   },
   {
    "duration": 148,
    "start_time": "2021-11-03T13:06:02.183Z"
   },
   {
    "duration": 87,
    "start_time": "2021-11-03T13:06:02.333Z"
   },
   {
    "duration": 194,
    "start_time": "2021-11-03T13:06:02.423Z"
   },
   {
    "duration": 557,
    "start_time": "2021-11-03T13:06:02.620Z"
   },
   {
    "duration": 116,
    "start_time": "2021-11-03T13:06:03.179Z"
   },
   {
    "duration": 121,
    "start_time": "2021-11-03T13:06:03.298Z"
   },
   {
    "duration": 4282,
    "start_time": "2021-11-03T13:06:03.422Z"
   },
   {
    "duration": 3897,
    "start_time": "2021-11-03T13:06:07.707Z"
   },
   {
    "duration": 939,
    "start_time": "2021-11-03T13:06:11.608Z"
   },
   {
    "duration": 2652,
    "start_time": "2021-11-03T13:06:12.549Z"
   },
   {
    "duration": 2355,
    "start_time": "2021-11-03T13:12:47.355Z"
   },
   {
    "duration": 107,
    "start_time": "2021-11-03T13:14:14.460Z"
   },
   {
    "duration": 114,
    "start_time": "2021-11-03T15:52:09.876Z"
   },
   {
    "duration": 107,
    "start_time": "2021-11-03T15:52:11.555Z"
   },
   {
    "duration": 43,
    "start_time": "2021-11-03T15:52:59.512Z"
   },
   {
    "duration": 153,
    "start_time": "2021-11-03T15:53:02.989Z"
   },
   {
    "duration": 162,
    "start_time": "2021-11-03T15:53:46.812Z"
   },
   {
    "duration": 123,
    "start_time": "2021-11-03T15:54:42.983Z"
   },
   {
    "duration": 2576,
    "start_time": "2021-11-03T15:56:04.450Z"
   },
   {
    "duration": 47,
    "start_time": "2021-11-03T15:56:56.283Z"
   },
   {
    "duration": 7,
    "start_time": "2021-11-03T15:57:18.779Z"
   },
   {
    "duration": 590,
    "start_time": "2021-11-03T15:57:51.034Z"
   },
   {
    "duration": 2476,
    "start_time": "2021-11-03T15:58:07.899Z"
   },
   {
    "duration": 382,
    "start_time": "2021-11-03T15:59:02.313Z"
   },
   {
    "duration": 1102,
    "start_time": "2021-11-03T15:59:11.729Z"
   },
   {
    "duration": 2515,
    "start_time": "2021-11-03T16:00:28.689Z"
   },
   {
    "duration": 46,
    "start_time": "2021-11-03T16:00:51.576Z"
   },
   {
    "duration": 10,
    "start_time": "2021-11-03T16:01:58.507Z"
   },
   {
    "duration": 28,
    "start_time": "2021-11-03T16:02:47.761Z"
   },
   {
    "duration": 146,
    "start_time": "2021-11-03T16:03:07.754Z"
   },
   {
    "duration": 13,
    "start_time": "2021-11-03T16:03:51.752Z"
   },
   {
    "duration": 17,
    "start_time": "2021-11-03T16:04:21.696Z"
   },
   {
    "duration": 44,
    "start_time": "2021-11-03T16:04:28.592Z"
   },
   {
    "duration": 635,
    "start_time": "2021-11-03T16:05:19.861Z"
   },
   {
    "duration": 9,
    "start_time": "2021-11-03T16:05:22.599Z"
   },
   {
    "duration": 18,
    "start_time": "2021-11-03T16:05:50.551Z"
   },
   {
    "duration": 20,
    "start_time": "2021-11-03T16:06:11.743Z"
   },
   {
    "duration": 55,
    "start_time": "2021-11-03T16:08:18.395Z"
   },
   {
    "duration": 18,
    "start_time": "2021-11-03T16:09:23.604Z"
   },
   {
    "duration": 46,
    "start_time": "2021-11-03T16:09:37.131Z"
   },
   {
    "duration": 2603,
    "start_time": "2021-11-03T16:11:35.258Z"
   },
   {
    "duration": 57,
    "start_time": "2021-11-03T16:45:41.717Z"
   },
   {
    "duration": 59,
    "start_time": "2021-11-03T16:46:40.303Z"
   },
   {
    "duration": 61,
    "start_time": "2021-11-03T16:46:55.703Z"
   },
   {
    "duration": 9,
    "start_time": "2021-11-03T16:50:16.105Z"
   },
   {
    "duration": 6,
    "start_time": "2021-11-03T16:50:27.604Z"
   },
   {
    "duration": 6,
    "start_time": "2021-11-03T16:50:36.028Z"
   },
   {
    "duration": 165,
    "start_time": "2021-11-03T16:51:35.778Z"
   },
   {
    "duration": 23,
    "start_time": "2021-11-03T16:51:42.674Z"
   },
   {
    "duration": 131,
    "start_time": "2021-11-03T16:51:44.890Z"
   },
   {
    "duration": 3104,
    "start_time": "2021-11-03T16:52:58.712Z"
   },
   {
    "duration": 41,
    "start_time": "2021-11-03T16:53:44.817Z"
   },
   {
    "duration": 40,
    "start_time": "2021-11-03T16:53:54.265Z"
   },
   {
    "duration": 69,
    "start_time": "2021-11-03T16:53:59.306Z"
   },
   {
    "duration": 47,
    "start_time": "2021-11-03T16:54:08.178Z"
   },
   {
    "duration": 42,
    "start_time": "2021-11-03T16:54:14.395Z"
   },
   {
    "duration": 36,
    "start_time": "2021-11-03T16:55:06.825Z"
   },
   {
    "duration": 123,
    "start_time": "2021-11-03T16:55:07.388Z"
   },
   {
    "duration": 2983,
    "start_time": "2021-11-03T16:55:14.298Z"
   },
   {
    "duration": -85,
    "start_time": "2021-11-03T16:56:39.509Z"
   },
   {
    "duration": 382,
    "start_time": "2021-11-03T16:56:42.122Z"
   },
   {
    "duration": 14,
    "start_time": "2021-11-03T16:57:07.428Z"
   },
   {
    "duration": 8,
    "start_time": "2021-11-03T16:57:20.976Z"
   },
   {
    "duration": 13,
    "start_time": "2021-11-03T16:57:34.018Z"
   },
   {
    "duration": 127,
    "start_time": "2021-11-03T16:58:08.574Z"
   },
   {
    "duration": 1766,
    "start_time": "2021-11-03T16:58:18.902Z"
   },
   {
    "duration": 1711,
    "start_time": "2021-11-03T16:58:37.910Z"
   },
   {
    "duration": 3163,
    "start_time": "2021-11-03T16:58:45.750Z"
   },
   {
    "duration": 436,
    "start_time": "2021-11-03T17:02:56.532Z"
   },
   {
    "duration": 3495,
    "start_time": "2021-11-03T17:03:14.066Z"
   },
   {
    "duration": 49388,
    "start_time": "2021-11-03T17:03:28.796Z"
   },
   {
    "duration": 49798,
    "start_time": "2021-11-03T17:05:33.201Z"
   },
   {
    "duration": 387,
    "start_time": "2021-11-03T17:08:26.398Z"
   },
   {
    "duration": 10,
    "start_time": "2021-11-03T17:08:40.787Z"
   },
   {
    "duration": 9,
    "start_time": "2021-11-03T17:08:43.239Z"
   },
   {
    "duration": 429582,
    "start_time": "2021-11-03T17:08:46.673Z"
   },
   {
    "duration": 248,
    "start_time": "2021-11-03T17:18:54.217Z"
   },
   {
    "duration": 132364,
    "start_time": "2021-11-03T17:19:03.664Z"
   },
   {
    "duration": 12908,
    "start_time": "2021-11-03T21:15:02.749Z"
   },
   {
    "duration": 2584,
    "start_time": "2021-11-03T21:15:15.659Z"
   },
   {
    "duration": 1287,
    "start_time": "2021-11-04T07:15:40.930Z"
   },
   {
    "duration": 4,
    "start_time": "2021-11-04T07:15:42.219Z"
   },
   {
    "duration": 898,
    "start_time": "2021-11-04T07:15:42.225Z"
   },
   {
    "duration": 5,
    "start_time": "2021-11-04T07:15:43.125Z"
   },
   {
    "duration": 72,
    "start_time": "2021-11-04T07:15:43.131Z"
   },
   {
    "duration": 115,
    "start_time": "2021-11-04T07:15:43.206Z"
   },
   {
    "duration": 54,
    "start_time": "2021-11-04T07:15:43.323Z"
   },
   {
    "duration": 144,
    "start_time": "2021-11-04T07:15:43.380Z"
   },
   {
    "duration": 355,
    "start_time": "2021-11-04T07:15:43.527Z"
   },
   {
    "duration": 94,
    "start_time": "2021-11-04T07:15:43.884Z"
   },
   {
    "duration": 87,
    "start_time": "2021-11-04T07:15:43.979Z"
   },
   {
    "duration": 1075,
    "start_time": "2021-11-05T09:22:11.029Z"
   },
   {
    "duration": 3,
    "start_time": "2021-11-05T09:22:12.106Z"
   },
   {
    "duration": 746,
    "start_time": "2021-11-05T09:22:12.111Z"
   },
   {
    "duration": 4,
    "start_time": "2021-11-05T09:22:12.859Z"
   },
   {
    "duration": 70,
    "start_time": "2021-11-05T09:22:12.865Z"
   },
   {
    "duration": 99,
    "start_time": "2021-11-05T09:22:12.936Z"
   },
   {
    "duration": 57,
    "start_time": "2021-11-05T09:22:13.036Z"
   },
   {
    "duration": 123,
    "start_time": "2021-11-05T09:22:13.095Z"
   },
   {
    "duration": 316,
    "start_time": "2021-11-05T09:22:13.220Z"
   },
   {
    "duration": 82,
    "start_time": "2021-11-05T09:22:13.537Z"
   },
   {
    "duration": 73,
    "start_time": "2021-11-05T09:22:13.621Z"
   },
   {
    "duration": 107,
    "start_time": "2021-11-05T09:22:31.673Z"
   },
   {
    "duration": 99,
    "start_time": "2021-11-05T09:22:51.779Z"
   },
   {
    "duration": 78,
    "start_time": "2021-11-05T09:22:56.189Z"
   },
   {
    "duration": 37,
    "start_time": "2021-11-05T09:22:58.727Z"
   },
   {
    "duration": 74,
    "start_time": "2021-11-05T09:22:59.395Z"
   },
   {
    "duration": 118,
    "start_time": "2021-11-05T09:23:00.451Z"
   },
   {
    "duration": 77,
    "start_time": "2021-11-05T09:23:07.127Z"
   },
   {
    "duration": 254,
    "start_time": "2021-11-05T09:23:32.453Z"
   },
   {
    "duration": 28,
    "start_time": "2021-11-05T09:23:39.541Z"
   },
   {
    "duration": 4,
    "start_time": "2021-11-05T09:23:42.434Z"
   },
   {
    "duration": 321,
    "start_time": "2021-11-05T09:23:44.565Z"
   },
   {
    "duration": 242,
    "start_time": "2021-11-05T09:24:06.469Z"
   },
   {
    "duration": 307,
    "start_time": "2021-11-05T09:24:23.555Z"
   },
   {
    "duration": 32,
    "start_time": "2021-11-05T09:24:30.361Z"
   },
   {
    "duration": 8,
    "start_time": "2021-11-05T09:30:52.546Z"
   },
   {
    "duration": 18,
    "start_time": "2021-11-05T09:31:00.221Z"
   },
   {
    "duration": 82,
    "start_time": "2021-11-05T09:31:01.917Z"
   },
   {
    "duration": 26,
    "start_time": "2021-11-05T09:31:05.616Z"
   },
   {
    "duration": 27,
    "start_time": "2021-11-05T09:31:26.334Z"
   },
   {
    "duration": 14,
    "start_time": "2021-11-05T09:31:31.192Z"
   },
   {
    "duration": 270,
    "start_time": "2021-11-05T09:33:53.088Z"
   },
   {
    "duration": 27,
    "start_time": "2021-11-05T09:34:06.771Z"
   },
   {
    "duration": 211,
    "start_time": "2021-11-05T09:34:08.132Z"
   },
   {
    "duration": 236,
    "start_time": "2021-11-05T09:34:13.667Z"
   },
   {
    "duration": 244,
    "start_time": "2021-11-05T09:34:17.772Z"
   },
   {
    "duration": 273,
    "start_time": "2021-11-05T09:34:24.356Z"
   },
   {
    "duration": 316,
    "start_time": "2021-11-05T09:34:33.877Z"
   },
   {
    "duration": 10,
    "start_time": "2021-11-05T09:34:44.314Z"
   },
   {
    "duration": 64,
    "start_time": "2021-11-05T09:36:58.215Z"
   },
   {
    "duration": 319,
    "start_time": "2021-11-05T09:37:09.842Z"
   },
   {
    "duration": 59,
    "start_time": "2021-11-05T09:37:13.322Z"
   },
   {
    "duration": 311,
    "start_time": "2021-11-05T09:37:20.210Z"
   },
   {
    "duration": 8,
    "start_time": "2021-11-05T09:39:04.087Z"
   },
   {
    "duration": 7,
    "start_time": "2021-11-05T09:39:07.160Z"
   },
   {
    "duration": 358,
    "start_time": "2021-11-05T09:39:58.097Z"
   },
   {
    "duration": 547,
    "start_time": "2021-11-05T09:40:18.112Z"
   },
   {
    "duration": 28,
    "start_time": "2021-11-05T09:40:41.474Z"
   },
   {
    "duration": 19,
    "start_time": "2021-11-05T09:40:48.745Z"
   },
   {
    "duration": 269,
    "start_time": "2021-11-05T09:41:15.607Z"
   },
   {
    "duration": 463,
    "start_time": "2021-11-05T09:41:49.775Z"
   },
   {
    "duration": 473,
    "start_time": "2021-11-05T09:42:09.821Z"
   },
   {
    "duration": 49,
    "start_time": "2021-11-05T09:44:09.062Z"
   },
   {
    "duration": 5,
    "start_time": "2021-11-05T09:44:13.684Z"
   },
   {
    "duration": 105,
    "start_time": "2021-11-05T09:44:16.601Z"
   },
   {
    "duration": 105,
    "start_time": "2021-11-05T09:44:19.996Z"
   },
   {
    "duration": 442,
    "start_time": "2021-11-05T09:44:35.337Z"
   },
   {
    "duration": 280,
    "start_time": "2021-11-05T09:45:02.248Z"
   },
   {
    "duration": 219,
    "start_time": "2021-11-05T09:45:46.559Z"
   },
   {
    "duration": 493,
    "start_time": "2021-11-05T09:45:48.787Z"
   },
   {
    "duration": 3,
    "start_time": "2021-11-05T09:48:03.359Z"
   },
   {
    "duration": 1794,
    "start_time": "2021-11-05T09:48:12.497Z"
   },
   {
    "duration": 2,
    "start_time": "2021-11-05T09:48:14.293Z"
   },
   {
    "duration": 27828,
    "start_time": "2021-11-05T09:48:15.766Z"
   },
   {
    "duration": 298,
    "start_time": "2021-11-05T09:48:43.596Z"
   },
   {
    "duration": 266307,
    "start_time": "2021-11-05T09:49:09.926Z"
   },
   {
    "duration": 1102,
    "start_time": "2021-11-05T10:19:36.539Z"
   },
   {
    "duration": 3,
    "start_time": "2021-11-05T10:19:37.642Z"
   },
   {
    "duration": 740,
    "start_time": "2021-11-05T10:19:37.647Z"
   },
   {
    "duration": 4,
    "start_time": "2021-11-05T10:19:38.389Z"
   },
   {
    "duration": 60,
    "start_time": "2021-11-05T10:19:38.394Z"
   },
   {
    "duration": 109,
    "start_time": "2021-11-05T10:19:38.455Z"
   },
   {
    "duration": 56,
    "start_time": "2021-11-05T10:19:38.565Z"
   },
   {
    "duration": 116,
    "start_time": "2021-11-05T10:19:38.623Z"
   },
   {
    "duration": 329,
    "start_time": "2021-11-05T10:19:38.741Z"
   },
   {
    "duration": 82,
    "start_time": "2021-11-05T10:19:39.072Z"
   },
   {
    "duration": 74,
    "start_time": "2021-11-05T10:19:39.156Z"
   },
   {
    "duration": 111,
    "start_time": "2021-11-05T10:19:39.231Z"
   },
   {
    "duration": 112,
    "start_time": "2021-11-05T10:19:39.344Z"
   },
   {
    "duration": 84,
    "start_time": "2021-11-05T10:19:39.458Z"
   },
   {
    "duration": 36,
    "start_time": "2021-11-05T10:19:39.543Z"
   },
   {
    "duration": 83,
    "start_time": "2021-11-05T10:19:39.580Z"
   },
   {
    "duration": 127,
    "start_time": "2021-11-05T10:19:39.665Z"
   },
   {
    "duration": 77,
    "start_time": "2021-11-05T10:19:39.794Z"
   },
   {
    "duration": 281,
    "start_time": "2021-11-05T10:19:39.873Z"
   },
   {
    "duration": 36,
    "start_time": "2021-11-05T10:19:40.156Z"
   },
   {
    "duration": 4,
    "start_time": "2021-11-05T10:19:40.194Z"
   },
   {
    "duration": 324,
    "start_time": "2021-11-05T10:19:40.200Z"
   },
   {
    "duration": 280,
    "start_time": "2021-11-05T10:19:40.528Z"
   },
   {
    "duration": -52,
    "start_time": "2021-11-05T10:19:40.862Z"
   },
   {
    "duration": -55,
    "start_time": "2021-11-05T10:19:40.866Z"
   },
   {
    "duration": -70,
    "start_time": "2021-11-05T10:19:40.882Z"
   },
   {
    "duration": -76,
    "start_time": "2021-11-05T10:19:40.889Z"
   },
   {
    "duration": -82,
    "start_time": "2021-11-05T10:19:40.896Z"
   },
   {
    "duration": -86,
    "start_time": "2021-11-05T10:19:40.901Z"
   },
   {
    "duration": -92,
    "start_time": "2021-11-05T10:19:40.907Z"
   },
   {
    "duration": -97,
    "start_time": "2021-11-05T10:19:40.913Z"
   },
   {
    "duration": -101,
    "start_time": "2021-11-05T10:19:40.918Z"
   },
   {
    "duration": -105,
    "start_time": "2021-11-05T10:19:40.923Z"
   },
   {
    "duration": -108,
    "start_time": "2021-11-05T10:19:40.927Z"
   },
   {
    "duration": -113,
    "start_time": "2021-11-05T10:19:40.932Z"
   },
   {
    "duration": -116,
    "start_time": "2021-11-05T10:19:40.936Z"
   },
   {
    "duration": -120,
    "start_time": "2021-11-05T10:19:40.941Z"
   },
   {
    "duration": -124,
    "start_time": "2021-11-05T10:19:40.946Z"
   },
   {
    "duration": -130,
    "start_time": "2021-11-05T10:19:40.952Z"
   },
   {
    "duration": -137,
    "start_time": "2021-11-05T10:19:40.960Z"
   },
   {
    "duration": -140,
    "start_time": "2021-11-05T10:19:40.964Z"
   },
   {
    "duration": -144,
    "start_time": "2021-11-05T10:19:40.969Z"
   },
   {
    "duration": -148,
    "start_time": "2021-11-05T10:19:40.974Z"
   },
   {
    "duration": -152,
    "start_time": "2021-11-05T10:19:40.979Z"
   },
   {
    "duration": -155,
    "start_time": "2021-11-05T10:19:40.983Z"
   },
   {
    "duration": -159,
    "start_time": "2021-11-05T10:19:40.988Z"
   },
   {
    "duration": -163,
    "start_time": "2021-11-05T10:19:40.993Z"
   },
   {
    "duration": -167,
    "start_time": "2021-11-05T10:19:40.998Z"
   },
   {
    "duration": -170,
    "start_time": "2021-11-05T10:19:41.002Z"
   },
   {
    "duration": -173,
    "start_time": "2021-11-05T10:19:41.006Z"
   },
   {
    "duration": -176,
    "start_time": "2021-11-05T10:19:41.010Z"
   },
   {
    "duration": 85,
    "start_time": "2021-11-05T10:22:18.010Z"
   },
   {
    "duration": 79,
    "start_time": "2021-11-05T10:22:21.818Z"
   },
   {
    "duration": 255,
    "start_time": "2021-11-05T10:22:21.899Z"
   },
   {
    "duration": 40,
    "start_time": "2021-11-05T10:22:22.156Z"
   },
   {
    "duration": 8,
    "start_time": "2021-11-05T10:22:22.198Z"
   },
   {
    "duration": 18,
    "start_time": "2021-11-05T10:22:22.207Z"
   },
   {
    "duration": 161,
    "start_time": "2021-11-05T10:22:22.226Z"
   },
   {
    "duration": 26,
    "start_time": "2021-11-05T10:22:22.389Z"
   },
   {
    "duration": 21,
    "start_time": "2021-11-05T10:22:22.417Z"
   },
   {
    "duration": 34,
    "start_time": "2021-11-05T10:22:22.440Z"
   },
   {
    "duration": 329,
    "start_time": "2021-11-05T10:22:22.475Z"
   },
   {
    "duration": 474,
    "start_time": "2021-11-05T10:22:22.805Z"
   },
   {
    "duration": 27,
    "start_time": "2021-11-05T10:22:23.281Z"
   },
   {
    "duration": 294,
    "start_time": "2021-11-05T10:22:23.310Z"
   },
   {
    "duration": 493,
    "start_time": "2021-11-05T10:22:23.606Z"
   },
   {
    "duration": 42,
    "start_time": "2021-11-05T10:22:24.101Z"
   },
   {
    "duration": 4,
    "start_time": "2021-11-05T10:22:24.144Z"
   },
   {
    "duration": 129,
    "start_time": "2021-11-05T10:22:24.150Z"
   },
   {
    "duration": 93,
    "start_time": "2021-11-05T10:22:24.280Z"
   },
   {
    "duration": 234,
    "start_time": "2021-11-05T10:22:24.375Z"
   },
   {
    "duration": 471,
    "start_time": "2021-11-05T10:22:24.611Z"
   },
   {
    "duration": 1809,
    "start_time": "2021-11-05T10:22:25.084Z"
   },
   {
    "duration": 2,
    "start_time": "2021-11-05T10:22:26.895Z"
   },
   {
    "duration": 29093,
    "start_time": "2021-11-05T10:22:26.900Z"
   },
   {
    "duration": 298,
    "start_time": "2021-11-05T10:22:55.996Z"
   },
   {
    "duration": 57812,
    "start_time": "2021-11-05T10:22:56.297Z"
   },
   {
    "duration": 8833,
    "start_time": "2021-11-05T10:23:54.110Z"
   },
   {
    "duration": 30256,
    "start_time": "2021-11-05T10:24:02.944Z"
   },
   {
    "duration": 2407,
    "start_time": "2021-11-05T10:24:33.202Z"
   },
   {
    "duration": 9,
    "start_time": "2021-11-05T10:24:35.611Z"
   },
   {
    "duration": 5322,
    "start_time": "2021-11-05T10:24:35.627Z"
   },
   {
    "duration": 8757,
    "start_time": "2021-11-05T10:24:40.950Z"
   },
   {
    "duration": 266908,
    "start_time": "2021-11-05T10:25:07.253Z"
   },
   {
    "duration": 8583,
    "start_time": "2021-11-05T10:29:34.163Z"
   },
   {
    "duration": 186,
    "start_time": "2021-11-05T10:29:42.748Z"
   },
   {
    "duration": 195,
    "start_time": "2021-11-05T10:31:28.595Z"
   },
   {
    "duration": 99,
    "start_time": "2021-11-05T10:31:47.319Z"
   },
   {
    "duration": 12,
    "start_time": "2021-11-05T10:32:14.612Z"
   },
   {
    "duration": 77,
    "start_time": "2021-11-05T10:33:22.347Z"
   },
   {
    "duration": 12,
    "start_time": "2021-11-05T10:33:55.862Z"
   },
   {
    "duration": 75,
    "start_time": "2021-11-05T10:34:53.259Z"
   },
   {
    "duration": 133,
    "start_time": "2021-11-05T10:36:05.570Z"
   },
   {
    "duration": 108,
    "start_time": "2021-11-05T10:36:19.278Z"
   },
   {
    "duration": 74,
    "start_time": "2021-11-05T10:36:20.705Z"
   },
   {
    "duration": 11,
    "start_time": "2021-11-05T10:36:23.358Z"
   },
   {
    "duration": 4986,
    "start_time": "2021-11-05T10:36:38.033Z"
   },
   {
    "duration": 252,
    "start_time": "2021-11-05T10:36:55.547Z"
   },
   {
    "duration": 253,
    "start_time": "2021-11-05T10:37:09.936Z"
   },
   {
    "duration": 4604,
    "start_time": "2021-11-05T10:37:40.715Z"
   },
   {
    "duration": 263,
    "start_time": "2021-11-05T10:38:06.307Z"
   },
   {
    "duration": 99,
    "start_time": "2021-11-05T10:38:14.072Z"
   },
   {
    "duration": 160,
    "start_time": "2021-11-05T10:38:37.698Z"
   },
   {
    "duration": 164,
    "start_time": "2021-11-05T10:38:43.744Z"
   },
   {
    "duration": 92,
    "start_time": "2021-11-05T10:38:54.239Z"
   },
   {
    "duration": 202,
    "start_time": "2021-11-05T10:39:56.950Z"
   },
   {
    "duration": 275,
    "start_time": "2021-11-05T10:40:02.280Z"
   },
   {
    "duration": 235,
    "start_time": "2021-11-05T10:40:25.352Z"
   },
   {
    "duration": 19,
    "start_time": "2021-11-05T10:41:08.635Z"
   },
   {
    "duration": 234,
    "start_time": "2021-11-05T10:41:23.595Z"
   },
   {
    "duration": 61,
    "start_time": "2021-11-05T10:41:26.854Z"
   },
   {
    "duration": 22440,
    "start_time": "2021-11-05T10:42:27.961Z"
   },
   {
    "duration": 2695,
    "start_time": "2021-11-05T10:42:50.403Z"
   },
   {
    "duration": 62,
    "start_time": "2021-11-05T10:43:40.156Z"
   },
   {
    "duration": 305998,
    "start_time": "2021-11-05T10:43:49.885Z"
   },
   {
    "duration": 508099,
    "start_time": "2021-11-05T10:50:41.094Z"
   },
   {
    "duration": 19104,
    "start_time": "2021-11-05T11:08:00.205Z"
   },
   {
    "duration": 2213,
    "start_time": "2021-11-05T11:08:19.310Z"
   },
   {
    "duration": 9,
    "start_time": "2021-11-05T11:08:31.241Z"
   },
   {
    "duration": 6,
    "start_time": "2021-11-05T11:08:32.274Z"
   },
   {
    "duration": 1138,
    "start_time": "2021-11-05T11:12:15.310Z"
   },
   {
    "duration": 3,
    "start_time": "2021-11-05T11:12:16.449Z"
   },
   {
    "duration": 791,
    "start_time": "2021-11-05T11:12:16.456Z"
   },
   {
    "duration": 4,
    "start_time": "2021-11-05T11:12:17.249Z"
   },
   {
    "duration": 71,
    "start_time": "2021-11-05T11:12:17.254Z"
   },
   {
    "duration": 108,
    "start_time": "2021-11-05T11:12:17.327Z"
   },
   {
    "duration": 57,
    "start_time": "2021-11-05T11:12:17.438Z"
   },
   {
    "duration": 125,
    "start_time": "2021-11-05T11:12:17.498Z"
   },
   {
    "duration": 337,
    "start_time": "2021-11-05T11:12:17.624Z"
   },
   {
    "duration": 87,
    "start_time": "2021-11-05T11:12:17.962Z"
   },
   {
    "duration": 84,
    "start_time": "2021-11-05T11:12:18.051Z"
   },
   {
    "duration": 123,
    "start_time": "2021-11-05T11:12:18.137Z"
   },
   {
    "duration": 150,
    "start_time": "2021-11-05T11:12:18.262Z"
   },
   {
    "duration": 86,
    "start_time": "2021-11-05T11:12:18.413Z"
   },
   {
    "duration": 37,
    "start_time": "2021-11-05T11:12:18.501Z"
   },
   {
    "duration": 93,
    "start_time": "2021-11-05T11:12:18.540Z"
   },
   {
    "duration": 126,
    "start_time": "2021-11-05T11:12:18.635Z"
   },
   {
    "duration": 85,
    "start_time": "2021-11-05T11:12:18.763Z"
   },
   {
    "duration": 273,
    "start_time": "2021-11-05T11:12:18.849Z"
   },
   {
    "duration": 31,
    "start_time": "2021-11-05T11:12:19.124Z"
   },
   {
    "duration": 4,
    "start_time": "2021-11-05T11:12:19.157Z"
   },
   {
    "duration": 334,
    "start_time": "2021-11-05T11:12:19.164Z"
   },
   {
    "duration": 92,
    "start_time": "2021-11-05T11:12:19.500Z"
   },
   {
    "duration": 253,
    "start_time": "2021-11-05T11:12:19.594Z"
   },
   {
    "duration": 33,
    "start_time": "2021-11-05T11:12:19.848Z"
   },
   {
    "duration": 8,
    "start_time": "2021-11-05T11:12:19.891Z"
   },
   {
    "duration": 18,
    "start_time": "2021-11-05T11:12:19.900Z"
   },
   {
    "duration": 174,
    "start_time": "2021-11-05T11:12:19.920Z"
   },
   {
    "duration": 44,
    "start_time": "2021-11-05T11:12:20.096Z"
   },
   {
    "duration": 16,
    "start_time": "2021-11-05T11:12:20.142Z"
   },
   {
    "duration": 44,
    "start_time": "2021-11-05T11:12:20.160Z"
   },
   {
    "duration": 335,
    "start_time": "2021-11-05T11:12:20.206Z"
   },
   {
    "duration": 506,
    "start_time": "2021-11-05T11:12:20.543Z"
   },
   {
    "duration": 21,
    "start_time": "2021-11-05T11:12:21.050Z"
   },
   {
    "duration": 299,
    "start_time": "2021-11-05T11:12:21.072Z"
   },
   {
    "duration": 507,
    "start_time": "2021-11-05T11:12:21.373Z"
   },
   {
    "duration": 46,
    "start_time": "2021-11-05T11:12:21.882Z"
   },
   {
    "duration": 3,
    "start_time": "2021-11-05T11:12:21.930Z"
   },
   {
    "duration": 122,
    "start_time": "2021-11-05T11:12:21.935Z"
   },
   {
    "duration": 106,
    "start_time": "2021-11-05T11:12:22.058Z"
   },
   {
    "duration": 219,
    "start_time": "2021-11-05T11:12:22.165Z"
   },
   {
    "duration": 436,
    "start_time": "2021-11-05T11:12:22.386Z"
   },
   {
    "duration": 1848,
    "start_time": "2021-11-05T11:12:22.823Z"
   },
   {
    "duration": 2,
    "start_time": "2021-11-05T11:12:24.673Z"
   },
   {
    "duration": 27417,
    "start_time": "2021-11-05T11:12:24.677Z"
   },
   {
    "duration": 298,
    "start_time": "2021-11-05T11:12:52.096Z"
   },
   {
    "duration": 268011,
    "start_time": "2021-11-05T11:12:52.397Z"
   },
   {
    "duration": 8612,
    "start_time": "2021-11-05T11:17:20.410Z"
   },
   {
    "duration": 194,
    "start_time": "2021-11-05T11:17:29.024Z"
   },
   {
    "duration": 18,
    "start_time": "2021-11-05T11:17:29.219Z"
   },
   {
    "duration": 226,
    "start_time": "2021-11-05T11:17:29.238Z"
   },
   {
    "duration": 61,
    "start_time": "2021-11-05T11:17:29.466Z"
   },
   {
    "duration": 505872,
    "start_time": "2021-11-05T11:17:29.528Z"
   },
   {
    "duration": 19405,
    "start_time": "2021-11-05T11:25:55.401Z"
   },
   {
    "duration": 2194,
    "start_time": "2021-11-05T11:26:14.807Z"
   },
   {
    "duration": 10,
    "start_time": "2021-11-05T11:26:17.003Z"
   },
   {
    "duration": 6,
    "start_time": "2021-11-05T11:26:17.015Z"
   }
  ],
  "kernelspec": {
   "display_name": "Python 3",
   "language": "python",
   "name": "python3"
  },
  "language_info": {
   "codemirror_mode": {
    "name": "ipython",
    "version": 3
   },
   "file_extension": ".py",
   "mimetype": "text/x-python",
   "name": "python",
   "nbconvert_exporter": "python",
   "pygments_lexer": "ipython3",
   "version": "3.8.8"
  },
  "toc": {
   "base_numbering": 1,
   "nav_menu": {},
   "number_sections": true,
   "sideBar": true,
   "skip_h1_title": true,
   "title_cell": "Содержание",
   "title_sidebar": "Contents",
   "toc_cell": true,
   "toc_position": {},
   "toc_section_display": true,
   "toc_window_display": true
  }
 },
 "nbformat": 4,
 "nbformat_minor": 2
}
